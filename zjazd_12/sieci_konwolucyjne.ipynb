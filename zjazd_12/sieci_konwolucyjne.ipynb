{
 "cells": [
  {
   "cell_type": "markdown",
   "metadata": {
    "pycharm": {
     "name": "#%% md\n"
    }
   },
   "source": [
    "# Konwolucyjne siecie neuronowe\n",
    "\n",
    "## Convolution neural networks, CNN\n",
    "\n",
    "<br>"
   ]
  },
  {
   "cell_type": "markdown",
   "metadata": {
    "pycharm": {
     "name": "#%% md\n"
    }
   },
   "source": [
    "# Filtry jako ekstraktory informacji\n",
    "\n",
    "<img src=\"Grafika/Filter.png\" width=\"550\">\n",
    "\n",
    "<img src=\"Grafika/OriginalAndFilter.png\" width=\"550\">\n",
    "\n",
    "<img src=\"Grafika/FirstPixelMulitiplication.png\" width=\"550\">\n",
    "\n",
    "<img src=\"Grafika/SecondMultiplication.png\" width=\"550\">\n",
    "\n",
    "Źródło: https://adeshpande3.github.io/adeshpande3.github.io/A-Beginner's-Guide-To-Understanding-Convolutional-Neural-Networks/"
   ]
  },
  {
   "cell_type": "markdown",
   "metadata": {
    "pycharm": {
     "name": "#%% md\n"
    }
   },
   "source": [
    "### Filtrowanie - konwolucja (splot):\n",
    "\n",
    "<img src=\"Grafika/matrixConvolution.jpg\" width=\"450\">\n",
    "\n",
    "Źródło: https://i.stack.imgur.com/SKgim.jpga"
   ]
  },
  {
   "cell_type": "markdown",
   "metadata": {
    "pycharm": {
     "name": "#%% md\n"
    }
   },
   "source": [
    "### Warstwa konwolucyjna\n",
    "\n",
    "Warstawa konwolucyjna analizuje obraz \"kawałek po kawałku\" i zwraca informację o poszczególnych obszarach przy użyciu filtrów.\n",
    "\n",
    "Warstwa konwolucyjna składa się z K filtrów i zwraca K \"tablic\" powstałych przez przetworzenie wejścia kolejnymi filtrami.\n",
    "\n",
    "Operacja splotu (konwolucja):\n",
    "\n",
    "<img src=\"Grafika/Convolution_schematic.gif\" width=\"450\">\n",
    "\n",
    "Źródło: http://deeplearning.stanford.edu/wiki/images/6/6c/Convolution_schematic.gif"
   ]
  },
  {
   "cell_type": "markdown",
   "metadata": {
    "pycharm": {
     "name": "#%% md\n"
    }
   },
   "source": [
    "### W przypadku macierzy trójwymiarowych, filtrowanie wygląda tak:\n",
    "\n",
    "<img src=\"Grafika/concolution3d.gif\" width=\"550\">"
   ]
  },
  {
   "cell_type": "markdown",
   "metadata": {
    "pycharm": {
     "name": "#%% md\n"
    }
   },
   "source": [
    "### Sieć konwolucyjna uczy się ekstrachować istotne \"informacje\" - parametrami sieci są wartości w filtrach.\n",
    "\n",
    "Czyli sieć sama uczy się tego, co jest istotne w obrazie dla naszego celu."
   ]
  },
  {
   "cell_type": "markdown",
   "metadata": {
    "pycharm": {
     "name": "#%% md\n"
    }
   },
   "source": [
    "W sieciach konwolucyjnych na wyjście splotu nakłada się funkcję aktywacji. Z reguły jest to ReLU:\n",
    "\n",
    "<img src=\"Grafika/relu.png\" width=\"350\">\n",
    "\n",
    "Źródło: https://ml4a.github.io/images/figures/relu.png\n",
    "\n",
    "Takie przekształcenie można interpretować w następujący sposób: jeżeli w danym obszarze jest coś co dany filtr \"rozpoznaje\" (wartość splotu większa od 0), to zwracamy po prostu wynik splotu. Natomiast jeśli dane nie pasują do danego filtra (wartość ujemna), to niezaleznie od tego co w tych danych jest, zwracamy 0, które mówi, że nie ma tego czego szukamy."
   ]
  },
  {
   "cell_type": "markdown",
   "metadata": {
    "pycharm": {
     "name": "#%% md\n"
    }
   },
   "source": [
    "## Pooling (subsampling)\n",
    "\n",
    "Pooling to agregacja informacji - zamiast przechowywać całą tablicę, którą zwrócił filtr, wyciągamy sobie po jednej \"informacji\" z podobszarów. W ten sposób otrzymujemy tablicę o zredukowanym wymiarze.\n",
    "\n",
    "MaxPooling:\n",
    "\n",
    "<img src=\"Grafika/MaxPool.png\" width=\"550\">\n",
    "\n",
    "Źródło: https://adeshpande3.github.io/assets/MaxPool.png\n",
    "\n",
    "Jaką informację wyekstrahuje \"max pooling\"?\n",
    "\n",
    "A jaką \"average pooling\"?\n",
    "\n",
    "W praktyce z reguły po każdej warstwie konwolucyjnej daje się max pooling."
   ]
  },
  {
   "cell_type": "markdown",
   "metadata": {
    "pycharm": {
     "name": "#%% md\n"
    }
   },
   "source": [
    "### Wielowarstwowa sieć konwolucyjna\n",
    "\n",
    "Wielowarstwowe sieci konwolucyjne wykorzystują wielokrotne składanie operacji filtrowania i uczą się wykrywać bardzo złożone zależności.\n",
    "\n",
    "\n",
    "\n",
    "<img src=\"Grafika/LeNet.png\" width=\"700\">\n",
    "Źródło: https://adeshpande3.github.io/assets/LeNet.png\"\n",
    "\n",
    "\n",
    "Każda kolejna warstwa w jakiś sposób agreguje informacje z poprzedniej warstwy do ogólniejszego poziomu. Przykladowa interpretacja w kontekście klasyfikacji czy na danym zdjęciu jest człowiek:\n",
    "- pierwsza warstwa: rozpoznawianie kształtów/konturów\n",
    "- druga warstwa: detekcja części ciała\n",
    "- trzecia: detekcja człowiek\n",
    "\n",
    "### Wyjście sieci\n",
    "\n",
    "Ostatnia warsta konwolucyjna (lub pooling) jest rozwijana do wektora. Ten wektor jest przepuszczany przez warstwy dense, które prowadzą do predykcji."
   ]
  },
  {
   "cell_type": "markdown",
   "metadata": {
    "pycharm": {
     "name": "#%% md\n"
    }
   },
   "source": [
    "### Uwaga. Filtr dla obrazka 2D jest tablicą 2D. Natomiast kolejne warstwy są 3D - dochodzi wymiar liczby filtrów. Dlatego dalsze filtry są kostami 3D, które mają głębokość równą liczbie filtrów w poprzedniej warstwie.\n",
    "\n",
    "<img src=\"Grafika/conv3D.jpg\" width=\"700\">\n",
    "\n",
    "Źródło: https://www.mathworks.com/content/mathworks/www/en/discovery/convolutional-neural-network/_jcr_content/mainParsys/image_copy.img.jpg/1497876372993.jpg\n",
    "\n",
    "Naturalnie, jeżeli na wejściu mamy obiekt więcej niż dwu-wymiarowy to już pierwsza warstwa używa filtrów, które są kostkami."
   ]
  },
  {
   "cell_type": "markdown",
   "metadata": {
    "pycharm": {
     "name": "#%% md\n"
    }
   },
   "source": [
    "## Parametry operacji splot.\n",
    "\n",
    "### Strides - wielkość kroku przesunięcia\n",
    "\n",
    "Określa dokładność z jaką chcemy skanować dane.\n",
    "\n",
    "Strides = (1,1)\n",
    "\n",
    "<img src=\"Grafika/Stride1.png\" width=\"600\">\n",
    "\n",
    "Strides = (2,2)\n",
    "\n",
    "<img src=\"Grafika/Stride2.png\" width=\"600\">\n",
    "\n",
    "Źródło: https://adeshpande3.github.io/adeshpande3.github.io/A-Beginner's-Guide-To-Understanding-Convolutional-Neural-Networks-Part-2/\n",
    "\n",
    "\n",
    "Z reguły krok wynosi 1. Natomiast dla dużych obrazów krok większy (2 - większych raczej się nie używa, bo filtry są z reguły 3x3) przyspieszy obliczenia a model może działać tak samo dobrze.\n",
    "\n",
    "\n",
    "### Rozmiar filtra.\n",
    "\n",
    "Z reguły 3x3, w wyjątkowych sytuacjach 5x5."
   ]
  },
  {
   "cell_type": "markdown",
   "metadata": {
    "pycharm": {
     "name": "#%% md\n"
    }
   },
   "source": [
    "# Przechodzimy do praktyki!\n",
    "\n",
    "# Obrazki 2D (szare)\n",
    "\n",
    "http://scikit-learn.org/0.15/auto_examples/applications/face_recognition.html"
   ]
  },
  {
   "cell_type": "code",
   "execution_count": 1,
   "metadata": {
    "pycharm": {
     "name": "#%%\n"
    }
   },
   "outputs": [],
   "source": [
    "import numpy as np\n",
    "import pandas as pd\n",
    "import matplotlib.pyplot as plt\n",
    "from sklearn.model_selection import train_test_split\n"
   ]
  },
  {
   "cell_type": "code",
   "execution_count": 2,
   "metadata": {
    "pycharm": {
     "name": "#%%\n"
    }
   },
   "outputs": [],
   "source": [
    "from sklearn.datasets import fetch_lfw_people\n",
    "\n",
    "lfw_people = fetch_lfw_people(min_faces_per_person=70, resize=0.4)\n",
    "\n",
    "n_samples, h, w = lfw_people.images.shape\n",
    "\n",
    "X = lfw_people.data\n",
    "n_features = X.shape[1]\n",
    "\n",
    "y = lfw_people.target\n",
    "\n",
    "target_names = lfw_people.target_names\n"
   ]
  },
  {
   "cell_type": "code",
   "execution_count": 3,
   "metadata": {
    "pycharm": {
     "name": "#%%\n"
    }
   },
   "outputs": [
    {
     "data": {
      "text/plain": [
       "array([0.        , 0.        , 0.        , ..., 0.        , 0.00130719,\n",
       "       0.        ], dtype=float32)"
      ]
     },
     "execution_count": 3,
     "metadata": {},
     "output_type": "execute_result"
    }
   ],
   "source": [
    "X[0]  # wektor - pozniej zamienimy na macierz, bo to jest obraz\n"
   ]
  },
  {
   "cell_type": "code",
   "execution_count": 4,
   "metadata": {
    "pycharm": {
     "name": "#%%\n"
    }
   },
   "outputs": [
    {
     "data": {
      "text/plain": [
       "(1288, 1850)"
      ]
     },
     "execution_count": 4,
     "metadata": {},
     "output_type": "execute_result"
    }
   ],
   "source": [
    "X.shape\n"
   ]
  },
  {
   "cell_type": "code",
   "execution_count": 5,
   "metadata": {
    "pycharm": {
     "name": "#%%\n"
    }
   },
   "outputs": [
    {
     "data": {
      "text/plain": [
       "(array([0, 1, 2, 3, 4, 5, 6]), array([ 77, 236, 121, 530, 109,  71, 144]))"
      ]
     },
     "execution_count": 5,
     "metadata": {},
     "output_type": "execute_result"
    }
   ],
   "source": [
    "np.unique(y, return_counts=True)\n"
   ]
  },
  {
   "cell_type": "code",
   "execution_count": 6,
   "metadata": {
    "pycharm": {
     "name": "#%%\n"
    }
   },
   "outputs": [
    {
     "data": {
      "text/plain": [
       "array([[0., 0., 0., ..., 0., 1., 0.],\n",
       "       [0., 0., 0., ..., 0., 0., 1.],\n",
       "       [0., 0., 0., ..., 0., 0., 0.],\n",
       "       ...,\n",
       "       [0., 0., 0., ..., 0., 1., 0.],\n",
       "       [0., 0., 0., ..., 0., 0., 0.],\n",
       "       [0., 0., 0., ..., 0., 1., 0.]], dtype=float32)"
      ]
     },
     "execution_count": 6,
     "metadata": {},
     "output_type": "execute_result"
    }
   ],
   "source": [
    "from keras.utils import np_utils\n",
    "\n",
    "y = np_utils.to_categorical(y)\n",
    "y\n"
   ]
  },
  {
   "cell_type": "code",
   "execution_count": 7,
   "metadata": {
    "pycharm": {
     "name": "#%%\n"
    }
   },
   "outputs": [],
   "source": [
    "n_classes = y.shape[1]\n"
   ]
  },
  {
   "cell_type": "code",
   "execution_count": 8,
   "metadata": {
    "pycharm": {
     "name": "#%%\n"
    }
   },
   "outputs": [
    {
     "data": {
      "text/plain": [
       "array(['Ariel Sharon', 'Colin Powell', 'Donald Rumsfeld', 'George W Bush',\n",
       "       'Gerhard Schroeder', 'Hugo Chavez', 'Tony Blair'], dtype='<U17')"
      ]
     },
     "execution_count": 8,
     "metadata": {},
     "output_type": "execute_result"
    }
   ],
   "source": [
    "target_names\n"
   ]
  },
  {
   "cell_type": "code",
   "execution_count": 46,
   "metadata": {
    "pycharm": {
     "name": "#%%\n"
    }
   },
   "outputs": [],
   "source": [
    "X_train, X_test, y_train, y_test = train_test_split(X, y, test_size=0.4)\n",
    "\n",
    "X_train = np.array([x.reshape((h, w, 1)) for x in X_train])\n",
    "X_test = np.array([x.reshape((h, w, 1)) for x in X_test])\n",
    "\n",
    "# X_train = X_train / 255  # skalowanie\n",
    "# X_test = X_test / 255\n"
   ]
  },
  {
   "cell_type": "code",
   "execution_count": 10,
   "metadata": {
    "pycharm": {
     "name": "#%%\n"
    },
    "scrolled": true
   },
   "outputs": [
    {
     "data": {
      "text/plain": [
       "(50, 37, 1)"
      ]
     },
     "execution_count": 10,
     "metadata": {},
     "output_type": "execute_result"
    }
   ],
   "source": [
    "X_train[0].shape\n"
   ]
  },
  {
   "cell_type": "code",
   "execution_count": 11,
   "metadata": {
    "pycharm": {
     "name": "#%%\n"
    }
   },
   "outputs": [
    {
     "data": {
      "image/png": "[encoded data removed]",
      "text/plain": [
       "<Figure size 518.4x518.4 with 12 Axes>"
      ]
     },
     "metadata": {},
     "output_type": "display_data"
    }
   ],
   "source": [
    "images = X_train[:12]\n",
    "n_col = 4\n",
    "n_row = 3\n",
    "plt.figure(figsize=(1.8 * n_col, 2.4 * n_row))\n",
    "plt.subplots_adjust(bottom=0, left=0.01, right=0.99, top=0.90, hspace=0.35)\n",
    "for i in range(n_row * n_col):\n",
    "    plt.subplot(n_row, n_col, i + 1)\n",
    "    plt.imshow(images[i][:, :, 0], cmap=plt.cm.gray)\n",
    "    plt.xticks(())\n",
    "    plt.yticks(())\n",
    "\n",
    "plt.show()\n"
   ]
  },
  {
   "cell_type": "code",
   "execution_count": 12,
   "metadata": {
    "pycharm": {
     "name": "#%%\n"
    }
   },
   "outputs": [
    {
     "data": {
      "text/plain": [
       "(772, 50, 37, 1)"
      ]
     },
     "execution_count": 12,
     "metadata": {},
     "output_type": "execute_result"
    }
   ],
   "source": [
    "X_train.shape\n"
   ]
  },
  {
   "cell_type": "code",
   "execution_count": 13,
   "metadata": {
    "pycharm": {
     "name": "#%%\n"
    }
   },
   "outputs": [
    {
     "data": {
      "text/plain": [
       "(772, 7)"
      ]
     },
     "execution_count": 13,
     "metadata": {},
     "output_type": "execute_result"
    }
   ],
   "source": [
    "y_train.shape\n"
   ]
  },
  {
   "cell_type": "code",
   "execution_count": 14,
   "metadata": {
    "pycharm": {
     "name": "#%%\n"
    }
   },
   "outputs": [
    {
     "data": {
      "text/plain": [
       "(516, 50, 37, 1)"
      ]
     },
     "execution_count": 14,
     "metadata": {},
     "output_type": "execute_result"
    }
   ],
   "source": [
    "X_test.shape\n"
   ]
  },
  {
   "cell_type": "markdown",
   "metadata": {
    "pycharm": {
     "name": "#%% md\n"
    }
   },
   "source": [
    "### Punkt odniesienia\n",
    "\n",
    "Sprawdź klasyfikację przy użyciu perceptrona - sieć 0-warstwowa (lub 1-warstwowa licząc wyjście jako warstwę). Pamiętaj, że, aby uruchomić warstwę dense na danych, które nie są wektorem trzeba je \"rozwinąć\" przy uzyciu \"warstwy\" (operacji) Flatten. "
   ]
  },
  {
   "cell_type": "code",
   "execution_count": 15,
   "metadata": {
    "pycharm": {
     "name": "#%%\n"
    }
   },
   "outputs": [],
   "source": [
    "from keras.models import Sequential\n",
    "from keras.layers import Dense, Flatten, Dropout\n",
    "\n",
    "from keras.layers import Conv2D, MaxPooling2D\n",
    "\n",
    "from keras.callbacks import EarlyStopping\n"
   ]
  },
  {
   "cell_type": "code",
   "execution_count": 16,
   "metadata": {
    "pycharm": {
     "name": "#%%\n"
    }
   },
   "outputs": [
    {
     "name": "stdout",
     "output_type": "stream",
     "text": [
      "Model: \"sequential\"\n",
      "_________________________________________________________________\n",
      " Layer (type)                Output Shape              Param #   \n",
      "=================================================================\n",
      " flatten (Flatten)           (None, 1850)              0         \n",
      "                                                                 \n",
      " dense (Dense)               (None, 7)                 12957     \n",
      "                                                                 \n",
      "=================================================================\n",
      "Total params: 12,957\n",
      "Trainable params: 12,957\n",
      "Non-trainable params: 0\n",
      "_________________________________________________________________\n"
     ]
    }
   ],
   "source": [
    "model = Sequential()\n",
    "model.add(Flatten(input_shape=(50, 37, 1)))\n",
    "model.add(Dense(n_classes, activation=\"softmax\"))\n",
    "\n",
    "model.compile(\n",
    "    loss=\"categorical_crossentropy\",\n",
    "    optimizer=\"adam\",\n",
    "    metrics=[\"categorical_accuracy\"],\n",
    ")\n",
    "\n",
    "model.summary()\n"
   ]
  },
  {
   "cell_type": "code",
   "execution_count": 17,
   "metadata": {
    "pycharm": {
     "name": "#%%\n"
    }
   },
   "outputs": [
    {
     "name": "stdout",
     "output_type": "stream",
     "text": [
      "Epoch 1/100\n"
     ]
    },
    {
     "name": "stderr",
     "output_type": "stream",
     "text": [
      "2022-07-09 13:06:50.644568: W tensorflow/core/platform/profile_utils/cpu_utils.cc:128] Failed to get CPU frequency: 0 Hz\n"
     ]
    },
    {
     "name": "stdout",
     "output_type": "stream",
     "text": [
      "20/20 [==============================] - 0s 5ms/step - loss: 1.9277 - categorical_accuracy: 0.3874 - val_loss: 1.9083 - val_categorical_accuracy: 0.4581\n",
      "Epoch 2/100\n",
      "20/20 [==============================] - 0s 2ms/step - loss: 1.8943 - categorical_accuracy: 0.3971 - val_loss: 1.8734 - val_categorical_accuracy: 0.4581\n",
      "Epoch 3/100\n",
      "20/20 [==============================] - 0s 2ms/step - loss: 1.8643 - categorical_accuracy: 0.3971 - val_loss: 1.8429 - val_categorical_accuracy: 0.4581\n",
      "Epoch 4/100\n",
      "20/20 [==============================] - 0s 2ms/step - loss: 1.8374 - categorical_accuracy: 0.3971 - val_loss: 1.8168 - val_categorical_accuracy: 0.4581\n",
      "Epoch 5/100\n",
      "20/20 [==============================] - 0s 2ms/step - loss: 1.8149 - categorical_accuracy: 0.3971 - val_loss: 1.7934 - val_categorical_accuracy: 0.4581\n",
      "Epoch 6/100\n",
      "20/20 [==============================] - 0s 3ms/step - loss: 1.7957 - categorical_accuracy: 0.3971 - val_loss: 1.7708 - val_categorical_accuracy: 0.4581\n",
      "Epoch 7/100\n",
      "20/20 [==============================] - 0s 2ms/step - loss: 1.7772 - categorical_accuracy: 0.3971 - val_loss: 1.7544 - val_categorical_accuracy: 0.4581\n",
      "Epoch 8/100\n",
      "20/20 [==============================] - 0s 2ms/step - loss: 1.7634 - categorical_accuracy: 0.3971 - val_loss: 1.7394 - val_categorical_accuracy: 0.4581\n",
      "Epoch 9/100\n",
      "20/20 [==============================] - 0s 2ms/step - loss: 1.7510 - categorical_accuracy: 0.3971 - val_loss: 1.7246 - val_categorical_accuracy: 0.4581\n",
      "Epoch 10/100\n",
      "20/20 [==============================] - 0s 2ms/step - loss: 1.7401 - categorical_accuracy: 0.3971 - val_loss: 1.7136 - val_categorical_accuracy: 0.4581\n",
      "Epoch 11/100\n",
      "20/20 [==============================] - 0s 1ms/step - loss: 1.7312 - categorical_accuracy: 0.3971 - val_loss: 1.7041 - val_categorical_accuracy: 0.4581\n",
      "Epoch 12/100\n",
      "20/20 [==============================] - 0s 2ms/step - loss: 1.7242 - categorical_accuracy: 0.3971 - val_loss: 1.6953 - val_categorical_accuracy: 0.4581\n",
      "Epoch 13/100\n",
      "20/20 [==============================] - 0s 2ms/step - loss: 1.7178 - categorical_accuracy: 0.3971 - val_loss: 1.6894 - val_categorical_accuracy: 0.4581\n",
      "Epoch 14/100\n",
      "20/20 [==============================] - 0s 1ms/step - loss: 1.7125 - categorical_accuracy: 0.3971 - val_loss: 1.6838 - val_categorical_accuracy: 0.4581\n",
      "Epoch 15/100\n",
      "20/20 [==============================] - 0s 3ms/step - loss: 1.7084 - categorical_accuracy: 0.3971 - val_loss: 1.6790 - val_categorical_accuracy: 0.4581\n",
      "Epoch 16/100\n",
      "20/20 [==============================] - 0s 2ms/step - loss: 1.7042 - categorical_accuracy: 0.3971 - val_loss: 1.6743 - val_categorical_accuracy: 0.4581\n",
      "Epoch 17/100\n",
      "20/20 [==============================] - 0s 2ms/step - loss: 1.7012 - categorical_accuracy: 0.3971 - val_loss: 1.6707 - val_categorical_accuracy: 0.4581\n",
      "Epoch 18/100\n",
      "20/20 [==============================] - 0s 2ms/step - loss: 1.6980 - categorical_accuracy: 0.3971 - val_loss: 1.6685 - val_categorical_accuracy: 0.4581\n",
      "Epoch 19/100\n",
      "20/20 [==============================] - 0s 1ms/step - loss: 1.6958 - categorical_accuracy: 0.3971 - val_loss: 1.6652 - val_categorical_accuracy: 0.4581\n",
      "Epoch 20/100\n",
      "20/20 [==============================] - 0s 985us/step - loss: 1.6933 - categorical_accuracy: 0.3971 - val_loss: 1.6628 - val_categorical_accuracy: 0.4581\n",
      "Epoch 21/100\n",
      "20/20 [==============================] - 0s 1ms/step - loss: 1.6913 - categorical_accuracy: 0.3971 - val_loss: 1.6610 - val_categorical_accuracy: 0.4581\n",
      "Epoch 22/100\n",
      "20/20 [==============================] - 0s 1ms/step - loss: 1.6896 - categorical_accuracy: 0.3971 - val_loss: 1.6593 - val_categorical_accuracy: 0.4581\n",
      "Epoch 23/100\n",
      "20/20 [==============================] - 0s 1ms/step - loss: 1.6880 - categorical_accuracy: 0.3971 - val_loss: 1.6577 - val_categorical_accuracy: 0.4581\n",
      "Epoch 24/100\n",
      "20/20 [==============================] - 0s 1ms/step - loss: 1.6864 - categorical_accuracy: 0.3971 - val_loss: 1.6559 - val_categorical_accuracy: 0.4581\n",
      "Epoch 25/100\n",
      "20/20 [==============================] - 0s 991us/step - loss: 1.6853 - categorical_accuracy: 0.3971 - val_loss: 1.6551 - val_categorical_accuracy: 0.4581\n",
      "Epoch 26/100\n",
      "20/20 [==============================] - 0s 1ms/step - loss: 1.6839 - categorical_accuracy: 0.3971 - val_loss: 1.6549 - val_categorical_accuracy: 0.4581\n",
      "Epoch 27/100\n",
      "20/20 [==============================] - 0s 1ms/step - loss: 1.6825 - categorical_accuracy: 0.3971 - val_loss: 1.6536 - val_categorical_accuracy: 0.4581\n",
      "Epoch 28/100\n",
      "20/20 [==============================] - 0s 1ms/step - loss: 1.6812 - categorical_accuracy: 0.3971 - val_loss: 1.6530 - val_categorical_accuracy: 0.4581\n",
      "Epoch 29/100\n",
      "20/20 [==============================] - 0s 1ms/step - loss: 1.6801 - categorical_accuracy: 0.3971 - val_loss: 1.6518 - val_categorical_accuracy: 0.4581\n",
      "Epoch 30/100\n",
      "20/20 [==============================] - 0s 1ms/step - loss: 1.6789 - categorical_accuracy: 0.3971 - val_loss: 1.6519 - val_categorical_accuracy: 0.4581\n",
      "Epoch 31/100\n",
      "20/20 [==============================] - 0s 3ms/step - loss: 1.6780 - categorical_accuracy: 0.3971 - val_loss: 1.6507 - val_categorical_accuracy: 0.4581\n",
      "Epoch 32/100\n",
      "20/20 [==============================] - 0s 1ms/step - loss: 1.6766 - categorical_accuracy: 0.3971 - val_loss: 1.6496 - val_categorical_accuracy: 0.4581\n",
      "Epoch 33/100\n",
      "20/20 [==============================] - 0s 1ms/step - loss: 1.6756 - categorical_accuracy: 0.3971 - val_loss: 1.6486 - val_categorical_accuracy: 0.4581\n",
      "Epoch 34/100\n",
      "20/20 [==============================] - 0s 8ms/step - loss: 1.6747 - categorical_accuracy: 0.3971 - val_loss: 1.6484 - val_categorical_accuracy: 0.4581\n",
      "Epoch 35/100\n",
      "20/20 [==============================] - 0s 2ms/step - loss: 1.6735 - categorical_accuracy: 0.3971 - val_loss: 1.6489 - val_categorical_accuracy: 0.4581\n",
      "Epoch 36/100\n",
      "20/20 [==============================] - 0s 2ms/step - loss: 1.6725 - categorical_accuracy: 0.3971 - val_loss: 1.6489 - val_categorical_accuracy: 0.4581\n",
      "Epoch 37/100\n",
      "20/20 [==============================] - 0s 3ms/step - loss: 1.6713 - categorical_accuracy: 0.3971 - val_loss: 1.6479 - val_categorical_accuracy: 0.4581\n",
      "Epoch 38/100\n",
      "20/20 [==============================] - 0s 2ms/step - loss: 1.6702 - categorical_accuracy: 0.3971 - val_loss: 1.6473 - val_categorical_accuracy: 0.4581\n",
      "Epoch 39/100\n",
      "20/20 [==============================] - 0s 1ms/step - loss: 1.6690 - categorical_accuracy: 0.3971 - val_loss: 1.6477 - val_categorical_accuracy: 0.4581\n",
      "Epoch 40/100\n",
      "20/20 [==============================] - 0s 2ms/step - loss: 1.6681 - categorical_accuracy: 0.3971 - val_loss: 1.6478 - val_categorical_accuracy: 0.4581\n",
      "Epoch 41/100\n",
      "20/20 [==============================] - 0s 3ms/step - loss: 1.6669 - categorical_accuracy: 0.3971 - val_loss: 1.6474 - val_categorical_accuracy: 0.4581\n",
      "17/17 [==============================] - 0s 807us/step - loss: 1.6626 - categorical_accuracy: 0.4147\n"
     ]
    },
    {
     "data": {
      "text/plain": [
       "[1.6625880002975464, 0.41472867131233215]"
      ]
     },
     "execution_count": 17,
     "metadata": {},
     "output_type": "execute_result"
    }
   ],
   "source": [
    "early_stopping = EarlyStopping(patience=3, monitor=\"val_loss\")\n",
    "\n",
    "model.fit(\n",
    "    X_train,\n",
    "    y_train,\n",
    "    validation_split=0.20,\n",
    "    epochs=100,\n",
    "    callbacks=[early_stopping],\n",
    ")\n",
    "\n",
    "model.evaluate(X_test, y_test)\n"
   ]
  },
  {
   "cell_type": "code",
   "execution_count": 18,
   "metadata": {
    "pycharm": {
     "name": "#%%\n"
    }
   },
   "outputs": [
    {
     "name": "stdout",
     "output_type": "stream",
     "text": [
      "17/17 [==============================] - 0s 1ms/step - loss: 1.6626 - categorical_accuracy: 0.4147\n"
     ]
    },
    {
     "data": {
      "text/plain": [
       "[1.6625880002975464, 0.41472867131233215]"
      ]
     },
     "execution_count": 18,
     "metadata": {},
     "output_type": "execute_result"
    }
   ],
   "source": [
    "model.evaluate(X_test, y_test)\n"
   ]
  },
  {
   "cell_type": "markdown",
   "metadata": {
    "collapsed": true,
    "pycharm": {
     "name": "#%% md\n"
    }
   },
   "source": [
    "Z wyciągnięciem modelu z najlepszej epoki:"
   ]
  },
  {
   "cell_type": "code",
   "execution_count": 19,
   "metadata": {
    "pycharm": {
     "name": "#%%\n"
    }
   },
   "outputs": [
    {
     "name": "stdout",
     "output_type": "stream",
     "text": [
      "Model: \"sequential_1\"\n",
      "_________________________________________________________________\n",
      " Layer (type)                Output Shape              Param #   \n",
      "=================================================================\n",
      " flatten_1 (Flatten)         (None, 1850)              0         \n",
      "                                                                 \n",
      " dense_1 (Dense)             (None, 7)                 12957     \n",
      "                                                                 \n",
      "=================================================================\n",
      "Total params: 12,957\n",
      "Trainable params: 12,957\n",
      "Non-trainable params: 0\n",
      "_________________________________________________________________\n",
      "None\n",
      "Epoch 1/100\n",
      "19/19 [==============================] - 0s 6ms/step - loss: 1.9289 - categorical_accuracy: 0.3713 - val_loss: 1.9078 - val_categorical_accuracy: 0.4404\n",
      "Epoch 2/100\n",
      "19/19 [==============================] - 0s 2ms/step - loss: 1.8956 - categorical_accuracy: 0.3990 - val_loss: 1.8762 - val_categorical_accuracy: 0.4404\n",
      "Epoch 3/100\n",
      "19/19 [==============================] - 0s 2ms/step - loss: 1.8682 - categorical_accuracy: 0.3990 - val_loss: 1.8463 - val_categorical_accuracy: 0.4404\n",
      "Epoch 4/100\n",
      "19/19 [==============================] - 0s 1ms/step - loss: 1.8414 - categorical_accuracy: 0.3990 - val_loss: 1.8226 - val_categorical_accuracy: 0.4404\n",
      "Epoch 5/100\n",
      "19/19 [==============================] - 0s 3ms/step - loss: 1.8196 - categorical_accuracy: 0.3990 - val_loss: 1.8003 - val_categorical_accuracy: 0.4404\n",
      "Epoch 6/100\n",
      "19/19 [==============================] - 0s 3ms/step - loss: 1.7995 - categorical_accuracy: 0.3990 - val_loss: 1.7815 - val_categorical_accuracy: 0.4404\n",
      "Epoch 7/100\n",
      "19/19 [==============================] - 0s 3ms/step - loss: 1.7836 - categorical_accuracy: 0.3990 - val_loss: 1.7659 - val_categorical_accuracy: 0.4404\n",
      "Epoch 8/100\n",
      "19/19 [==============================] - 0s 2ms/step - loss: 1.7699 - categorical_accuracy: 0.3990 - val_loss: 1.7505 - val_categorical_accuracy: 0.4404\n",
      "Epoch 9/100\n",
      "19/19 [==============================] - 0s 1ms/step - loss: 1.7573 - categorical_accuracy: 0.3990 - val_loss: 1.7360 - val_categorical_accuracy: 0.4404\n",
      "Epoch 10/100\n",
      "19/19 [==============================] - 0s 1ms/step - loss: 1.7452 - categorical_accuracy: 0.3990 - val_loss: 1.7251 - val_categorical_accuracy: 0.4404\n",
      "Epoch 11/100\n",
      "19/19 [==============================] - 0s 1ms/step - loss: 1.7363 - categorical_accuracy: 0.3990 - val_loss: 1.7153 - val_categorical_accuracy: 0.4404\n",
      "Epoch 12/100\n",
      "19/19 [==============================] - 0s 2ms/step - loss: 1.7279 - categorical_accuracy: 0.3990 - val_loss: 1.7076 - val_categorical_accuracy: 0.4404\n",
      "Epoch 13/100\n",
      "19/19 [==============================] - 0s 1ms/step - loss: 1.7210 - categorical_accuracy: 0.3990 - val_loss: 1.7016 - val_categorical_accuracy: 0.4404\n",
      "Epoch 14/100\n",
      "19/19 [==============================] - 0s 1ms/step - loss: 1.7156 - categorical_accuracy: 0.3990 - val_loss: 1.6963 - val_categorical_accuracy: 0.4404\n",
      "Epoch 15/100\n",
      "19/19 [==============================] - 0s 1ms/step - loss: 1.7115 - categorical_accuracy: 0.3990 - val_loss: 1.6915 - val_categorical_accuracy: 0.4404\n",
      "Epoch 16/100\n",
      "19/19 [==============================] - 0s 1ms/step - loss: 1.7070 - categorical_accuracy: 0.3990 - val_loss: 1.6873 - val_categorical_accuracy: 0.4404\n",
      "Epoch 17/100\n",
      "19/19 [==============================] - 0s 1ms/step - loss: 1.7029 - categorical_accuracy: 0.3990 - val_loss: 1.6835 - val_categorical_accuracy: 0.4404\n",
      "Epoch 18/100\n",
      "19/19 [==============================] - 0s 1ms/step - loss: 1.7003 - categorical_accuracy: 0.3990 - val_loss: 1.6814 - val_categorical_accuracy: 0.4404\n",
      "Epoch 19/100\n",
      "19/19 [==============================] - 0s 985us/step - loss: 1.6978 - categorical_accuracy: 0.3990 - val_loss: 1.6784 - val_categorical_accuracy: 0.4404\n",
      "Epoch 20/100\n",
      "19/19 [==============================] - 0s 1ms/step - loss: 1.6957 - categorical_accuracy: 0.3990 - val_loss: 1.6770 - val_categorical_accuracy: 0.4404\n",
      "Epoch 21/100\n",
      "19/19 [==============================] - 0s 1ms/step - loss: 1.6931 - categorical_accuracy: 0.3990 - val_loss: 1.6750 - val_categorical_accuracy: 0.4404\n",
      "Epoch 22/100\n",
      "19/19 [==============================] - 0s 1ms/step - loss: 1.6910 - categorical_accuracy: 0.3990 - val_loss: 1.6743 - val_categorical_accuracy: 0.4404\n",
      "Epoch 23/100\n",
      "19/19 [==============================] - 0s 2ms/step - loss: 1.6895 - categorical_accuracy: 0.3990 - val_loss: 1.6738 - val_categorical_accuracy: 0.4404\n",
      "Epoch 24/100\n",
      "19/19 [==============================] - 0s 2ms/step - loss: 1.6878 - categorical_accuracy: 0.3990 - val_loss: 1.6729 - val_categorical_accuracy: 0.4404\n",
      "Epoch 25/100\n",
      "19/19 [==============================] - 0s 2ms/step - loss: 1.6864 - categorical_accuracy: 0.3990 - val_loss: 1.6711 - val_categorical_accuracy: 0.4404\n",
      "Epoch 26/100\n",
      "19/19 [==============================] - 0s 1ms/step - loss: 1.6850 - categorical_accuracy: 0.3990 - val_loss: 1.6694 - val_categorical_accuracy: 0.4404\n",
      "Epoch 27/100\n",
      "19/19 [==============================] - 0s 1ms/step - loss: 1.6838 - categorical_accuracy: 0.3990 - val_loss: 1.6671 - val_categorical_accuracy: 0.4404\n",
      "Epoch 28/100\n",
      "19/19 [==============================] - 0s 1ms/step - loss: 1.6824 - categorical_accuracy: 0.3990 - val_loss: 1.6661 - val_categorical_accuracy: 0.4404\n",
      "Epoch 29/100\n",
      "19/19 [==============================] - 0s 2ms/step - loss: 1.6812 - categorical_accuracy: 0.3990 - val_loss: 1.6659 - val_categorical_accuracy: 0.4404\n",
      "Epoch 30/100\n",
      "19/19 [==============================] - 0s 4ms/step - loss: 1.6804 - categorical_accuracy: 0.3990 - val_loss: 1.6658 - val_categorical_accuracy: 0.4404\n",
      "Epoch 31/100\n",
      "19/19 [==============================] - 0s 1ms/step - loss: 1.6793 - categorical_accuracy: 0.3990 - val_loss: 1.6667 - val_categorical_accuracy: 0.4404\n",
      "Epoch 32/100\n",
      "19/19 [==============================] - 0s 2ms/step - loss: 1.6781 - categorical_accuracy: 0.3990 - val_loss: 1.6655 - val_categorical_accuracy: 0.4404\n",
      "Epoch 33/100\n",
      "19/19 [==============================] - 0s 3ms/step - loss: 1.6771 - categorical_accuracy: 0.3990 - val_loss: 1.6659 - val_categorical_accuracy: 0.4404\n",
      "Epoch 34/100\n",
      "19/19 [==============================] - 0s 2ms/step - loss: 1.6759 - categorical_accuracy: 0.3990 - val_loss: 1.6660 - val_categorical_accuracy: 0.4404\n",
      "Epoch 35/100\n",
      "19/19 [==============================] - 0s 2ms/step - loss: 1.6749 - categorical_accuracy: 0.3990 - val_loss: 1.6663 - val_categorical_accuracy: 0.4404\n"
     ]
    },
    {
     "data": {
      "text/plain": [
       "<keras.callbacks.History at 0x28abfe500>"
      ]
     },
     "execution_count": 19,
     "metadata": {},
     "output_type": "execute_result"
    }
   ],
   "source": [
    "model = Sequential()\n",
    "model.add(Flatten(input_shape=(50, 37, 1)))\n",
    "model.add(Dense(n_classes, activation=\"softmax\"))\n",
    "model.compile(\n",
    "    loss=\"categorical_crossentropy\",\n",
    "    optimizer=\"adam\",\n",
    "    metrics=[\"categorical_accuracy\"],\n",
    ")\n",
    "print(model.summary())\n",
    "\n",
    "early_stopping = EarlyStopping(\n",
    "    patience=3, monitor=\"val_loss\", restore_best_weights=True\n",
    ")\n",
    "\n",
    "model.fit(\n",
    "    X_train,\n",
    "    y_train,\n",
    "    validation_split=0.25,\n",
    "    epochs=100,\n",
    "    callbacks=[early_stopping],\n",
    "    batch_size=32,\n",
    ")\n"
   ]
  },
  {
   "cell_type": "code",
   "execution_count": 20,
   "metadata": {
    "pycharm": {
     "name": "#%%\n"
    }
   },
   "outputs": [
    {
     "data": {
      "text/plain": [
       "[1.6713789701461792, 0.41472867131233215]"
      ]
     },
     "execution_count": 20,
     "metadata": {},
     "output_type": "execute_result"
    }
   ],
   "source": [
    "model.evaluate(X_test, y_test, verbose=0)\n"
   ]
  },
  {
   "cell_type": "markdown",
   "metadata": {
    "pycharm": {
     "name": "#%% md\n"
    }
   },
   "source": [
    "### Minimalna sieć konwolucyjna.\n",
    "\n",
    "Liczba filtrów: 10, wielkość filtra: 3x3."
   ]
  },
  {
   "cell_type": "code",
   "execution_count": 21,
   "metadata": {
    "pycharm": {
     "name": "#%%\n"
    }
   },
   "outputs": [],
   "source": [
    "?Conv2D"
   ]
  },
  {
   "cell_type": "code",
   "execution_count": 22,
   "metadata": {
    "pycharm": {
     "name": "#%%\n"
    },
    "scrolled": true
   },
   "outputs": [],
   "source": [
    "?Flatten"
   ]
  },
  {
   "cell_type": "code",
   "execution_count": 23,
   "metadata": {
    "pycharm": {
     "name": "#%%\n"
    }
   },
   "outputs": [
    {
     "name": "stdout",
     "output_type": "stream",
     "text": [
      "Model: \"sequential_2\"\n",
      "_________________________________________________________________\n",
      " Layer (type)                Output Shape              Param #   \n",
      "=================================================================\n",
      " conv2d (Conv2D)             (None, 48, 35, 10)        100       \n",
      "                                                                 \n",
      " flatten_2 (Flatten)         (None, 16800)             0         \n",
      "                                                                 \n",
      " dense_2 (Dense)             (None, 7)                 117607    \n",
      "                                                                 \n",
      "=================================================================\n",
      "Total params: 117,707\n",
      "Trainable params: 117,707\n",
      "Non-trainable params: 0\n",
      "_________________________________________________________________\n",
      "Epoch 1/100\n",
      "37/37 [==============================] - 0s 8ms/step - loss: 1.7722 - categorical_accuracy: 0.3921 - val_loss: 1.6591 - val_categorical_accuracy: 0.4404\n",
      "Epoch 2/100\n",
      "37/37 [==============================] - 0s 4ms/step - loss: 1.7151 - categorical_accuracy: 0.3990 - val_loss: 1.6633 - val_categorical_accuracy: 0.4404\n",
      "Epoch 3/100\n",
      "37/37 [==============================] - 0s 3ms/step - loss: 1.7174 - categorical_accuracy: 0.3990 - val_loss: 1.6521 - val_categorical_accuracy: 0.4404\n",
      "Epoch 4/100\n",
      "37/37 [==============================] - 0s 3ms/step - loss: 1.7190 - categorical_accuracy: 0.3990 - val_loss: 1.6692 - val_categorical_accuracy: 0.4404\n",
      "Epoch 5/100\n",
      "37/37 [==============================] - 0s 2ms/step - loss: 1.7117 - categorical_accuracy: 0.3990 - val_loss: 1.6573 - val_categorical_accuracy: 0.4404\n",
      "Epoch 6/100\n",
      "37/37 [==============================] - 0s 2ms/step - loss: 1.7178 - categorical_accuracy: 0.3990 - val_loss: 1.7159 - val_categorical_accuracy: 0.4404\n"
     ]
    },
    {
     "data": {
      "text/plain": [
       "<keras.callbacks.History at 0x28de2b3a0>"
      ]
     },
     "execution_count": 23,
     "metadata": {},
     "output_type": "execute_result"
    }
   ],
   "source": [
    "model = Sequential()\n",
    "model.add(Conv2D(10, 3, input_shape=(50, 37, 1), activation=\"relu\"))\n",
    "model.add(Flatten())\n",
    "model.add(Dense(n_classes, activation=\"softmax\"))\n",
    "model.compile(\n",
    "    loss=\"categorical_crossentropy\",\n",
    "    optimizer=\"adam\",\n",
    "    metrics=[\"categorical_accuracy\"],\n",
    ")\n",
    "model.summary()\n",
    "\n",
    "early_stopping = EarlyStopping(\n",
    "    patience=3, monitor=\"val_loss\", restore_best_weights=True\n",
    ")\n",
    "model.fit(\n",
    "    X_train,\n",
    "    y_train,\n",
    "    validation_split=0.25,\n",
    "    epochs=100,\n",
    "    callbacks=[early_stopping],\n",
    "    batch_size=16,\n",
    ")\n"
   ]
  },
  {
   "cell_type": "code",
   "execution_count": 24,
   "metadata": {
    "pycharm": {
     "name": "#%%\n"
    }
   },
   "outputs": [
    {
     "name": "stdout",
     "output_type": "stream",
     "text": [
      "Model: \"sequential_2\"\n",
      "_________________________________________________________________\n",
      " Layer (type)                Output Shape              Param #   \n",
      "=================================================================\n",
      " conv2d (Conv2D)             (None, 48, 35, 10)        100       \n",
      "                                                                 \n",
      " flatten_2 (Flatten)         (None, 16800)             0         \n",
      "                                                                 \n",
      " dense_2 (Dense)             (None, 7)                 117607    \n",
      "                                                                 \n",
      "=================================================================\n",
      "Total params: 117,707\n",
      "Trainable params: 117,707\n",
      "Non-trainable params: 0\n",
      "_________________________________________________________________\n"
     ]
    }
   ],
   "source": [
    "model.summary()\n"
   ]
  },
  {
   "cell_type": "code",
   "execution_count": 25,
   "metadata": {
    "pycharm": {
     "name": "#%%\n"
    }
   },
   "outputs": [
    {
     "data": {
      "text/plain": [
       "[1.6778897047042847, 0.41472867131233215]"
      ]
     },
     "execution_count": 25,
     "metadata": {},
     "output_type": "execute_result"
    }
   ],
   "source": [
    "model.evaluate(X_test, y_test, verbose=0)\n"
   ]
  },
  {
   "cell_type": "markdown",
   "metadata": {
    "pycharm": {
     "name": "#%% md\n"
    }
   },
   "source": [
    "### Padding \"same\"."
   ]
  },
  {
   "cell_type": "code",
   "execution_count": 26,
   "metadata": {
    "pycharm": {
     "name": "#%%\n"
    }
   },
   "outputs": [
    {
     "name": "stdout",
     "output_type": "stream",
     "text": [
      "Model: \"sequential_3\"\n",
      "_________________________________________________________________\n",
      " Layer (type)                Output Shape              Param #   \n",
      "=================================================================\n",
      " conv2d_1 (Conv2D)           (None, 46, 33, 10)        260       \n",
      "                                                                 \n",
      " flatten_3 (Flatten)         (None, 15180)             0         \n",
      "                                                                 \n",
      " dense_3 (Dense)             (None, 7)                 106267    \n",
      "                                                                 \n",
      "=================================================================\n",
      "Total params: 106,527\n",
      "Trainable params: 106,527\n",
      "Non-trainable params: 0\n",
      "_________________________________________________________________\n",
      "None\n"
     ]
    }
   ],
   "source": [
    "model = Sequential()\n",
    "model.add(\n",
    "    Conv2D(10, 5, input_shape=(50, 37, 1), padding=\"valid\", activation=\"relu\")\n",
    ")\n",
    "model.add(Flatten())\n",
    "model.add(Dense(n_classes, activation=\"softmax\"))\n",
    "model.compile(\n",
    "    loss=\"categorical_crossentropy\",\n",
    "    optimizer=\"adam\",\n",
    "    metrics=[\"categorical_accuracy\"],\n",
    ")\n",
    "print(model.summary())\n"
   ]
  },
  {
   "cell_type": "code",
   "execution_count": 27,
   "metadata": {
    "pycharm": {
     "name": "#%%\n"
    },
    "scrolled": true
   },
   "outputs": [
    {
     "name": "stdout",
     "output_type": "stream",
     "text": [
      "Model: \"sequential_4\"\n",
      "_________________________________________________________________\n",
      " Layer (type)                Output Shape              Param #   \n",
      "=================================================================\n",
      " conv2d_2 (Conv2D)           (None, 50, 37, 10)        260       \n",
      "                                                                 \n",
      " flatten_4 (Flatten)         (None, 18500)             0         \n",
      "                                                                 \n",
      " dense_4 (Dense)             (None, 7)                 129507    \n",
      "                                                                 \n",
      "=================================================================\n",
      "Total params: 129,767\n",
      "Trainable params: 129,767\n",
      "Non-trainable params: 0\n",
      "_________________________________________________________________\n",
      "None\n",
      "Epoch 1/100\n",
      "37/37 [==============================] - 0s 8ms/step - loss: 1.7514 - categorical_accuracy: 0.3903 - val_loss: 1.6857 - val_categorical_accuracy: 0.4404\n",
      "Epoch 2/100\n",
      "37/37 [==============================] - 0s 5ms/step - loss: 1.7164 - categorical_accuracy: 0.3990 - val_loss: 1.6635 - val_categorical_accuracy: 0.4404\n",
      "Epoch 3/100\n",
      "37/37 [==============================] - 0s 4ms/step - loss: 1.6982 - categorical_accuracy: 0.3990 - val_loss: 1.6650 - val_categorical_accuracy: 0.4404\n",
      "Epoch 4/100\n",
      "37/37 [==============================] - 0s 5ms/step - loss: 1.7123 - categorical_accuracy: 0.3990 - val_loss: 1.6632 - val_categorical_accuracy: 0.4404\n",
      "Epoch 5/100\n",
      "37/37 [==============================] - 0s 5ms/step - loss: 1.7041 - categorical_accuracy: 0.3990 - val_loss: 1.6657 - val_categorical_accuracy: 0.4404\n",
      "Epoch 6/100\n",
      "37/37 [==============================] - 0s 4ms/step - loss: 1.6969 - categorical_accuracy: 0.3990 - val_loss: 1.6590 - val_categorical_accuracy: 0.4404\n",
      "Epoch 7/100\n",
      "37/37 [==============================] - 0s 4ms/step - loss: 1.7122 - categorical_accuracy: 0.3990 - val_loss: 1.6485 - val_categorical_accuracy: 0.4404\n",
      "Epoch 8/100\n",
      "37/37 [==============================] - 0s 4ms/step - loss: 1.6808 - categorical_accuracy: 0.3990 - val_loss: 1.6451 - val_categorical_accuracy: 0.4404\n",
      "Epoch 9/100\n",
      "37/37 [==============================] - 0s 6ms/step - loss: 1.6894 - categorical_accuracy: 0.3990 - val_loss: 1.6667 - val_categorical_accuracy: 0.4404\n",
      "Epoch 10/100\n",
      "37/37 [==============================] - 0s 8ms/step - loss: 1.6583 - categorical_accuracy: 0.3990 - val_loss: 1.6552 - val_categorical_accuracy: 0.4404\n",
      "Epoch 11/100\n",
      "37/37 [==============================] - 0s 5ms/step - loss: 1.6366 - categorical_accuracy: 0.3972 - val_loss: 1.6419 - val_categorical_accuracy: 0.4404\n",
      "Epoch 12/100\n",
      "37/37 [==============================] - 0s 4ms/step - loss: 1.6062 - categorical_accuracy: 0.4145 - val_loss: 1.6450 - val_categorical_accuracy: 0.4404\n",
      "Epoch 13/100\n",
      "37/37 [==============================] - 0s 4ms/step - loss: 1.5752 - categorical_accuracy: 0.4093 - val_loss: 1.6128 - val_categorical_accuracy: 0.4508\n",
      "Epoch 14/100\n",
      "37/37 [==============================] - 0s 4ms/step - loss: 1.5315 - categorical_accuracy: 0.4283 - val_loss: 1.6081 - val_categorical_accuracy: 0.4456\n",
      "Epoch 15/100\n",
      "37/37 [==============================] - 0s 4ms/step - loss: 1.5082 - categorical_accuracy: 0.4404 - val_loss: 1.5867 - val_categorical_accuracy: 0.4456\n",
      "Epoch 16/100\n",
      "37/37 [==============================] - 0s 4ms/step - loss: 1.4692 - categorical_accuracy: 0.4560 - val_loss: 1.5878 - val_categorical_accuracy: 0.4249\n",
      "Epoch 17/100\n",
      "37/37 [==============================] - 0s 5ms/step - loss: 1.4415 - categorical_accuracy: 0.4715 - val_loss: 1.6010 - val_categorical_accuracy: 0.3938\n",
      "Epoch 18/100\n",
      "37/37 [==============================] - 0s 4ms/step - loss: 1.3803 - categorical_accuracy: 0.4940 - val_loss: 1.5530 - val_categorical_accuracy: 0.4404\n",
      "Epoch 19/100\n",
      "37/37 [==============================] - 0s 4ms/step - loss: 1.3403 - categorical_accuracy: 0.5043 - val_loss: 1.5195 - val_categorical_accuracy: 0.4508\n",
      "Epoch 20/100\n",
      "37/37 [==============================] - 0s 4ms/step - loss: 1.3088 - categorical_accuracy: 0.5078 - val_loss: 1.5151 - val_categorical_accuracy: 0.4197\n",
      "Epoch 21/100\n",
      "37/37 [==============================] - 0s 4ms/step - loss: 1.2748 - categorical_accuracy: 0.5371 - val_loss: 1.4954 - val_categorical_accuracy: 0.4404\n",
      "Epoch 22/100\n",
      "37/37 [==============================] - 0s 4ms/step - loss: 1.2428 - categorical_accuracy: 0.5648 - val_loss: 1.5280 - val_categorical_accuracy: 0.5078\n",
      "Epoch 23/100\n",
      "37/37 [==============================] - 0s 4ms/step - loss: 1.1952 - categorical_accuracy: 0.5648 - val_loss: 1.4435 - val_categorical_accuracy: 0.4611\n",
      "Epoch 24/100\n",
      "37/37 [==============================] - 0s 4ms/step - loss: 1.1875 - categorical_accuracy: 0.5458 - val_loss: 1.4608 - val_categorical_accuracy: 0.4508\n",
      "Epoch 25/100\n",
      "37/37 [==============================] - 0s 4ms/step - loss: 1.1777 - categorical_accuracy: 0.5527 - val_loss: 1.4236 - val_categorical_accuracy: 0.4611\n",
      "Epoch 26/100\n",
      "37/37 [==============================] - 0s 4ms/step - loss: 1.1310 - categorical_accuracy: 0.5907 - val_loss: 1.4016 - val_categorical_accuracy: 0.4974\n",
      "Epoch 27/100\n",
      "37/37 [==============================] - 0s 4ms/step - loss: 1.1128 - categorical_accuracy: 0.6028 - val_loss: 1.4537 - val_categorical_accuracy: 0.4301\n",
      "Epoch 28/100\n",
      "37/37 [==============================] - 0s 7ms/step - loss: 1.0866 - categorical_accuracy: 0.5976 - val_loss: 1.3992 - val_categorical_accuracy: 0.4819\n",
      "Epoch 29/100\n",
      "37/37 [==============================] - 0s 8ms/step - loss: 1.0546 - categorical_accuracy: 0.6166 - val_loss: 1.3793 - val_categorical_accuracy: 0.4663\n",
      "Epoch 30/100\n",
      "37/37 [==============================] - 0s 7ms/step - loss: 1.0408 - categorical_accuracy: 0.6304 - val_loss: 1.3720 - val_categorical_accuracy: 0.4767\n",
      "Epoch 31/100\n",
      "37/37 [==============================] - 0s 4ms/step - loss: 1.0249 - categorical_accuracy: 0.6339 - val_loss: 1.3437 - val_categorical_accuracy: 0.5233\n",
      "Epoch 32/100\n",
      "37/37 [==============================] - 0s 4ms/step - loss: 1.0040 - categorical_accuracy: 0.6546 - val_loss: 1.3556 - val_categorical_accuracy: 0.5078\n",
      "Epoch 33/100\n",
      "37/37 [==============================] - 0s 4ms/step - loss: 0.9939 - categorical_accuracy: 0.6425 - val_loss: 1.3728 - val_categorical_accuracy: 0.4767\n",
      "Epoch 34/100\n",
      "37/37 [==============================] - 0s 5ms/step - loss: 0.9742 - categorical_accuracy: 0.6632 - val_loss: 1.3448 - val_categorical_accuracy: 0.4974\n"
     ]
    },
    {
     "data": {
      "text/plain": [
       "[1.2543202638626099, 0.5406976938247681]"
      ]
     },
     "execution_count": 27,
     "metadata": {},
     "output_type": "execute_result"
    }
   ],
   "source": [
    "model = Sequential()\n",
    "model.add(\n",
    "    Conv2D(10, 5, input_shape=(50, 37, 1), padding=\"same\", activation=\"relu\")\n",
    ")\n",
    "model.add(Flatten())\n",
    "model.add(Dense(n_classes, activation=\"softmax\"))\n",
    "model.compile(\n",
    "    loss=\"categorical_crossentropy\",\n",
    "    optimizer=\"adam\",\n",
    "    metrics=[\"categorical_accuracy\"],\n",
    ")\n",
    "print(model.summary())\n",
    "\n",
    "early_stopping = EarlyStopping(\n",
    "    patience=3, monitor=\"val_loss\", restore_best_weights=True\n",
    ")\n",
    "\n",
    "model.fit(\n",
    "    X_train,\n",
    "    y_train,\n",
    "    validation_split=0.25,\n",
    "    epochs=100,\n",
    "    callbacks=[early_stopping],\n",
    "    batch_size=16,\n",
    ")\n",
    "\n",
    "model.evaluate(X_test, y_test, verbose=0)\n"
   ]
  },
  {
   "cell_type": "markdown",
   "metadata": {
    "pycharm": {
     "name": "#%% md\n"
    }
   },
   "source": [
    "### Pooling\n",
    "\n",
    "Przetestuj dodanie warstwy pooling po warstwie konwolucyjnej. Przeanalizuj strukturę sieci."
   ]
  },
  {
   "cell_type": "code",
   "execution_count": 28,
   "metadata": {
    "pycharm": {
     "name": "#%%\n"
    }
   },
   "outputs": [],
   "source": [
    "?MaxPooling2D"
   ]
  },
  {
   "cell_type": "code",
   "execution_count": 29,
   "metadata": {
    "pycharm": {
     "name": "#%%\n"
    }
   },
   "outputs": [
    {
     "name": "stdout",
     "output_type": "stream",
     "text": [
      "Model: \"sequential_5\"\n",
      "_________________________________________________________________\n",
      " Layer (type)                Output Shape              Param #   \n",
      "=================================================================\n",
      " conv2d_3 (Conv2D)           (None, 50, 37, 10)        260       \n",
      "                                                                 \n",
      " max_pooling2d (MaxPooling2D  (None, 25, 18, 10)       0         \n",
      " )                                                               \n",
      "                                                                 \n",
      " flatten_5 (Flatten)         (None, 4500)              0         \n",
      "                                                                 \n",
      " dense_5 (Dense)             (None, 7)                 31507     \n",
      "                                                                 \n",
      "=================================================================\n",
      "Total params: 31,767\n",
      "Trainable params: 31,767\n",
      "Non-trainable params: 0\n",
      "_________________________________________________________________\n",
      "None\n",
      "Epoch 1/100\n",
      "37/37 [==============================] - 0s 6ms/step - loss: 1.7738 - categorical_accuracy: 0.3938 - val_loss: 1.6851 - val_categorical_accuracy: 0.4404\n",
      "Epoch 2/100\n",
      "37/37 [==============================] - 0s 4ms/step - loss: 1.7128 - categorical_accuracy: 0.3990 - val_loss: 1.6563 - val_categorical_accuracy: 0.4404\n",
      "Epoch 3/100\n",
      "37/37 [==============================] - 0s 4ms/step - loss: 1.7052 - categorical_accuracy: 0.3990 - val_loss: 1.6567 - val_categorical_accuracy: 0.4404\n",
      "Epoch 4/100\n",
      "37/37 [==============================] - 0s 4ms/step - loss: 1.7142 - categorical_accuracy: 0.3990 - val_loss: 1.6654 - val_categorical_accuracy: 0.4404\n",
      "Epoch 5/100\n",
      "37/37 [==============================] - 0s 4ms/step - loss: 1.7057 - categorical_accuracy: 0.3990 - val_loss: 1.6655 - val_categorical_accuracy: 0.4404\n"
     ]
    },
    {
     "data": {
      "text/plain": [
       "[1.6785811185836792, 0.41472867131233215]"
      ]
     },
     "execution_count": 29,
     "metadata": {},
     "output_type": "execute_result"
    }
   ],
   "source": [
    "model = Sequential()\n",
    "model.add(\n",
    "    Conv2D(\n",
    "        10, (5, 5), input_shape=(50, 37, 1), padding=\"same\", activation=\"relu\"\n",
    "    )\n",
    ")\n",
    "model.add(MaxPooling2D())\n",
    "model.add(Flatten())\n",
    "model.add(Dense(n_classes, activation=\"softmax\"))\n",
    "model.compile(\n",
    "    loss=\"categorical_crossentropy\",\n",
    "    optimizer=\"adam\",\n",
    "    metrics=[\"categorical_accuracy\"],\n",
    ")\n",
    "print(model.summary())\n",
    "\n",
    "early_stopping = EarlyStopping(\n",
    "    patience=3, monitor=\"val_loss\", restore_best_weights=True\n",
    ")\n",
    "\n",
    "model.fit(\n",
    "    X_train,\n",
    "    y_train,\n",
    "    validation_split=0.25,\n",
    "    epochs=100,\n",
    "    callbacks=[early_stopping],\n",
    "    batch_size=16,\n",
    ")\n",
    "\n",
    "model.evaluate(X_test, y_test, verbose=0)\n"
   ]
  },
  {
   "cell_type": "code",
   "execution_count": 30,
   "metadata": {
    "pycharm": {
     "name": "#%%\n"
    }
   },
   "outputs": [
    {
     "data": {
      "text/plain": [
       "[1.6785811185836792, 0.41472867131233215]"
      ]
     },
     "execution_count": 30,
     "metadata": {},
     "output_type": "execute_result"
    }
   ],
   "source": [
    "model.evaluate(X_test, y_test, verbose=0)\n"
   ]
  },
  {
   "cell_type": "code",
   "execution_count": 31,
   "metadata": {
    "pycharm": {
     "name": "#%%\n"
    }
   },
   "outputs": [
    {
     "name": "stdout",
     "output_type": "stream",
     "text": [
      "Model: \"sequential_5\"\n",
      "_________________________________________________________________\n",
      " Layer (type)                Output Shape              Param #   \n",
      "=================================================================\n",
      " conv2d_3 (Conv2D)           (None, 50, 37, 10)        260       \n",
      "                                                                 \n",
      " max_pooling2d (MaxPooling2D  (None, 25, 18, 10)       0         \n",
      " )                                                               \n",
      "                                                                 \n",
      " flatten_5 (Flatten)         (None, 4500)              0         \n",
      "                                                                 \n",
      " dense_5 (Dense)             (None, 7)                 31507     \n",
      "                                                                 \n",
      "=================================================================\n",
      "Total params: 31,767\n",
      "Trainable params: 31,767\n",
      "Non-trainable params: 0\n",
      "_________________________________________________________________\n"
     ]
    }
   ],
   "source": [
    "model.summary()\n"
   ]
  },
  {
   "cell_type": "markdown",
   "metadata": {
    "pycharm": {
     "name": "#%% md\n"
    }
   },
   "source": [
    "Ćwiczenie\n",
    "\n",
    "Dodaj ukrytą warstwę gęstą miedzy częścią konwoucyjną sieci a warstwą wyjściową i regularyzację dropout na tej warstwie.\n"
   ]
  },
  {
   "cell_type": "code",
   "execution_count": 57,
   "metadata": {
    "pycharm": {
     "name": "#%%\n"
    }
   },
   "outputs": [
    {
     "name": "stdout",
     "output_type": "stream",
     "text": [
      "Model: \"sequential_27\"\n",
      "_________________________________________________________________\n",
      " Layer (type)                Output Shape              Param #   \n",
      "=================================================================\n",
      " conv2d_29 (Conv2D)          (None, 50, 37, 10)        260       \n",
      "                                                                 \n",
      " max_pooling2d_21 (MaxPoolin  (None, 25, 18, 10)       0         \n",
      " g2D)                                                            \n",
      "                                                                 \n",
      " flatten_26 (Flatten)        (None, 4500)              0         \n",
      "                                                                 \n",
      " dense_41 (Dense)            (None, 7)                 31507     \n",
      "                                                                 \n",
      " dropout_7 (Dropout)         (None, 7)                 0         \n",
      "                                                                 \n",
      " dense_42 (Dense)            (None, 7)                 56        \n",
      "                                                                 \n",
      "=================================================================\n",
      "Total params: 31,823\n",
      "Trainable params: 31,823\n",
      "Non-trainable params: 0\n",
      "_________________________________________________________________\n",
      "None\n",
      "Epoch 1/4\n"
     ]
    },
    {
     "ename": "ValueError",
     "evalue": "in user code:\n\n    File \"/Library/Frameworks/Python.framework/Versions/3.10/lib/python3.10/site-packages/keras/engine/training.py\", line 1051, in train_function  *\n        return step_function(self, iterator)\n    File \"/Library/Frameworks/Python.framework/Versions/3.10/lib/python3.10/site-packages/keras/engine/training.py\", line 1040, in step_function  **\n        outputs = model.distribute_strategy.run(run_step, args=(data,))\n    File \"/Library/Frameworks/Python.framework/Versions/3.10/lib/python3.10/site-packages/keras/engine/training.py\", line 1030, in run_step  **\n        outputs = model.train_step(data)\n    File \"/Library/Frameworks/Python.framework/Versions/3.10/lib/python3.10/site-packages/keras/engine/training.py\", line 889, in train_step\n        y_pred = self(x, training=True)\n    File \"/Library/Frameworks/Python.framework/Versions/3.10/lib/python3.10/site-packages/keras/utils/traceback_utils.py\", line 67, in error_handler\n        raise e.with_traceback(filtered_tb) from None\n    File \"/Library/Frameworks/Python.framework/Versions/3.10/lib/python3.10/site-packages/keras/engine/input_spec.py\", line 264, in assert_input_compatibility\n        raise ValueError(f'Input {input_index} of layer \"{layer_name}\" is '\n\n    ValueError: Input 0 of layer \"sequential_27\" is incompatible with the layer: expected shape=(None, 50, 37, 1), found shape=(None, 32, 32, 3)\n",
     "output_type": "error",
     "traceback": [
      "\u001b[0;31m---------------------------------------------------------------------------\u001b[0m",
      "\u001b[0;31mValueError\u001b[0m                                Traceback (most recent call last)",
      "Input \u001b[0;32mIn [57]\u001b[0m, in \u001b[0;36m<cell line: 25>\u001b[0;34m()\u001b[0m\n\u001b[1;32m     19\u001b[0m \u001b[38;5;28mprint\u001b[39m(model\u001b[38;5;241m.\u001b[39msummary())\n\u001b[1;32m     21\u001b[0m early_stopping \u001b[38;5;241m=\u001b[39m EarlyStopping(\n\u001b[1;32m     22\u001b[0m     patience\u001b[38;5;241m=\u001b[39m\u001b[38;5;241m3\u001b[39m, monitor\u001b[38;5;241m=\u001b[39m\u001b[38;5;124m\"\u001b[39m\u001b[38;5;124mval_loss\u001b[39m\u001b[38;5;124m\"\u001b[39m, restore_best_weights\u001b[38;5;241m=\u001b[39m\u001b[38;5;28;01mTrue\u001b[39;00m\n\u001b[1;32m     23\u001b[0m )\n\u001b[0;32m---> 25\u001b[0m \u001b[43mmodel\u001b[49m\u001b[38;5;241;43m.\u001b[39;49m\u001b[43mfit\u001b[49m\u001b[43m(\u001b[49m\n\u001b[1;32m     26\u001b[0m \u001b[43m    \u001b[49m\u001b[43mX_train\u001b[49m\u001b[43m,\u001b[49m\n\u001b[1;32m     27\u001b[0m \u001b[43m    \u001b[49m\u001b[43my_train\u001b[49m\u001b[43m,\u001b[49m\n\u001b[1;32m     28\u001b[0m \u001b[43m    \u001b[49m\u001b[43mvalidation_split\u001b[49m\u001b[38;5;241;43m=\u001b[39;49m\u001b[38;5;241;43m0.25\u001b[39;49m\u001b[43m,\u001b[49m\n\u001b[1;32m     29\u001b[0m \u001b[43m    \u001b[49m\u001b[43mepochs\u001b[49m\u001b[38;5;241;43m=\u001b[39;49m\u001b[38;5;241;43m4\u001b[39;49m\u001b[43m,\u001b[49m\n\u001b[1;32m     30\u001b[0m \u001b[43m    \u001b[49m\u001b[43mcallbacks\u001b[49m\u001b[38;5;241;43m=\u001b[39;49m\u001b[43m[\u001b[49m\u001b[43mearly_stopping\u001b[49m\u001b[43m]\u001b[49m\u001b[43m,\u001b[49m\n\u001b[1;32m     31\u001b[0m \u001b[43m    \u001b[49m\u001b[43mbatch_size\u001b[49m\u001b[38;5;241;43m=\u001b[39;49m\u001b[38;5;241;43m16\u001b[39;49m\u001b[43m,\u001b[49m\n\u001b[1;32m     32\u001b[0m \u001b[43m)\u001b[49m\n\u001b[1;32m     34\u001b[0m model\u001b[38;5;241m.\u001b[39mevaluate(X_test, y_test, verbose\u001b[38;5;241m=\u001b[39m\u001b[38;5;241m0\u001b[39m)\n",
      "File \u001b[0;32m/Library/Frameworks/Python.framework/Versions/3.10/lib/python3.10/site-packages/keras/utils/traceback_utils.py:67\u001b[0m, in \u001b[0;36mfilter_traceback.<locals>.error_handler\u001b[0;34m(*args, **kwargs)\u001b[0m\n\u001b[1;32m     65\u001b[0m \u001b[38;5;28;01mexcept\u001b[39;00m \u001b[38;5;167;01mException\u001b[39;00m \u001b[38;5;28;01mas\u001b[39;00m e:  \u001b[38;5;66;03m# pylint: disable=broad-except\u001b[39;00m\n\u001b[1;32m     66\u001b[0m   filtered_tb \u001b[38;5;241m=\u001b[39m _process_traceback_frames(e\u001b[38;5;241m.\u001b[39m__traceback__)\n\u001b[0;32m---> 67\u001b[0m   \u001b[38;5;28;01mraise\u001b[39;00m e\u001b[38;5;241m.\u001b[39mwith_traceback(filtered_tb) \u001b[38;5;28;01mfrom\u001b[39;00m \u001b[38;5;28mNone\u001b[39m\n\u001b[1;32m     68\u001b[0m \u001b[38;5;28;01mfinally\u001b[39;00m:\n\u001b[1;32m     69\u001b[0m   \u001b[38;5;28;01mdel\u001b[39;00m filtered_tb\n",
      "File \u001b[0;32m/var/folders/dd/nn1g8pns4f18myq4q6z84swh0000gn/T/__autograph_generated_filen0g1q0_g.py:15\u001b[0m, in \u001b[0;36mouter_factory.<locals>.inner_factory.<locals>.tf__train_function\u001b[0;34m(iterator)\u001b[0m\n\u001b[1;32m     13\u001b[0m \u001b[38;5;28;01mtry\u001b[39;00m:\n\u001b[1;32m     14\u001b[0m     do_return \u001b[38;5;241m=\u001b[39m \u001b[38;5;28;01mTrue\u001b[39;00m\n\u001b[0;32m---> 15\u001b[0m     retval_ \u001b[38;5;241m=\u001b[39m ag__\u001b[38;5;241m.\u001b[39mconverted_call(ag__\u001b[38;5;241m.\u001b[39mld(step_function), (ag__\u001b[38;5;241m.\u001b[39mld(\u001b[38;5;28mself\u001b[39m), ag__\u001b[38;5;241m.\u001b[39mld(iterator)), \u001b[38;5;28;01mNone\u001b[39;00m, fscope)\n\u001b[1;32m     16\u001b[0m \u001b[38;5;28;01mexcept\u001b[39;00m:\n\u001b[1;32m     17\u001b[0m     do_return \u001b[38;5;241m=\u001b[39m \u001b[38;5;28;01mFalse\u001b[39;00m\n",
      "\u001b[0;31mValueError\u001b[0m: in user code:\n\n    File \"/Library/Frameworks/Python.framework/Versions/3.10/lib/python3.10/site-packages/keras/engine/training.py\", line 1051, in train_function  *\n        return step_function(self, iterator)\n    File \"/Library/Frameworks/Python.framework/Versions/3.10/lib/python3.10/site-packages/keras/engine/training.py\", line 1040, in step_function  **\n        outputs = model.distribute_strategy.run(run_step, args=(data,))\n    File \"/Library/Frameworks/Python.framework/Versions/3.10/lib/python3.10/site-packages/keras/engine/training.py\", line 1030, in run_step  **\n        outputs = model.train_step(data)\n    File \"/Library/Frameworks/Python.framework/Versions/3.10/lib/python3.10/site-packages/keras/engine/training.py\", line 889, in train_step\n        y_pred = self(x, training=True)\n    File \"/Library/Frameworks/Python.framework/Versions/3.10/lib/python3.10/site-packages/keras/utils/traceback_utils.py\", line 67, in error_handler\n        raise e.with_traceback(filtered_tb) from None\n    File \"/Library/Frameworks/Python.framework/Versions/3.10/lib/python3.10/site-packages/keras/engine/input_spec.py\", line 264, in assert_input_compatibility\n        raise ValueError(f'Input {input_index} of layer \"{layer_name}\" is '\n\n    ValueError: Input 0 of layer \"sequential_27\" is incompatible with the layer: expected shape=(None, 50, 37, 1), found shape=(None, 32, 32, 3)\n"
     ]
    }
   ],
   "source": [
    "from tensorflow.keras.regularizers import l2\n",
    "\n",
    "model = Sequential()\n",
    "model.add(\n",
    "    Conv2D(\n",
    "        10, (5, 5), input_shape=(50, 37, 1), padding=\"same\", activation=\"relu\"\n",
    "    )\n",
    ")\n",
    "model.add(MaxPooling2D())\n",
    "model.add(Flatten())\n",
    "model.add(Dense(n_classes, activation=\"relu\", kernel_regularizer=l2(0.01)))\n",
    "model.add(Dropout(0.5))\n",
    "model.add(Dense(n_classes, activation=\"softmax\"))\n",
    "model.compile(\n",
    "    loss=\"categorical_crossentropy\",\n",
    "    optimizer=\"adam\",\n",
    "    metrics=[\"categorical_accuracy\"],\n",
    ")\n",
    "print(model.summary())\n",
    "\n",
    "early_stopping = EarlyStopping(\n",
    "    patience=3, monitor=\"val_loss\", restore_best_weights=True\n",
    ")\n",
    "\n",
    "model.fit(\n",
    "    X_train,\n",
    "    y_train,\n",
    "    validation_split=0.25,\n",
    "    epochs=4,\n",
    "    callbacks=[early_stopping],\n",
    "    batch_size=16,\n",
    ")\n",
    "\n",
    "model.evaluate(X_test, y_test, verbose=0)"
   ]
  },
  {
   "cell_type": "code",
   "execution_count": 58,
   "metadata": {
    "collapsed": false,
    "pycharm": {
     "name": "#%%\n"
    }
   },
   "outputs": [
    {
     "name": "stdout",
     "output_type": "stream",
     "text": [
      "Model: \"sequential_28\"\n",
      "_________________________________________________________________\n",
      " Layer (type)                Output Shape              Param #   \n",
      "=================================================================\n",
      " conv2d_30 (Conv2D)          (None, 50, 37, 10)        260       \n",
      "                                                                 \n",
      " dense_43 (Dense)            (None, 50, 37, 7)         77        \n",
      "                                                                 \n",
      " dropout_8 (Dropout)         (None, 50, 37, 7)         0         \n",
      "                                                                 \n",
      " max_pooling2d_22 (MaxPoolin  (None, 25, 18, 7)        0         \n",
      " g2D)                                                            \n",
      "                                                                 \n",
      " flatten_27 (Flatten)        (None, 3150)              0         \n",
      "                                                                 \n",
      " dense_44 (Dense)            (None, 7)                 22057     \n",
      "                                                                 \n",
      "=================================================================\n",
      "Total params: 22,394\n",
      "Trainable params: 22,394\n",
      "Non-trainable params: 0\n",
      "_________________________________________________________________\n",
      "None\n",
      "Epoch 1/100\n"
     ]
    },
    {
     "ename": "ValueError",
     "evalue": "in user code:\n\n    File \"/Library/Frameworks/Python.framework/Versions/3.10/lib/python3.10/site-packages/keras/engine/training.py\", line 1051, in train_function  *\n        return step_function(self, iterator)\n    File \"/Library/Frameworks/Python.framework/Versions/3.10/lib/python3.10/site-packages/keras/engine/training.py\", line 1040, in step_function  **\n        outputs = model.distribute_strategy.run(run_step, args=(data,))\n    File \"/Library/Frameworks/Python.framework/Versions/3.10/lib/python3.10/site-packages/keras/engine/training.py\", line 1030, in run_step  **\n        outputs = model.train_step(data)\n    File \"/Library/Frameworks/Python.framework/Versions/3.10/lib/python3.10/site-packages/keras/engine/training.py\", line 889, in train_step\n        y_pred = self(x, training=True)\n    File \"/Library/Frameworks/Python.framework/Versions/3.10/lib/python3.10/site-packages/keras/utils/traceback_utils.py\", line 67, in error_handler\n        raise e.with_traceback(filtered_tb) from None\n    File \"/Library/Frameworks/Python.framework/Versions/3.10/lib/python3.10/site-packages/keras/engine/input_spec.py\", line 264, in assert_input_compatibility\n        raise ValueError(f'Input {input_index} of layer \"{layer_name}\" is '\n\n    ValueError: Input 0 of layer \"sequential_28\" is incompatible with the layer: expected shape=(None, 50, 37, 1), found shape=(None, 32, 32, 3)\n",
     "output_type": "error",
     "traceback": [
      "\u001b[0;31m---------------------------------------------------------------------------\u001b[0m",
      "\u001b[0;31mValueError\u001b[0m                                Traceback (most recent call last)",
      "Input \u001b[0;32mIn [58]\u001b[0m, in \u001b[0;36m<cell line: 25>\u001b[0;34m()\u001b[0m\n\u001b[1;32m     19\u001b[0m \u001b[38;5;28mprint\u001b[39m(model\u001b[38;5;241m.\u001b[39msummary())\n\u001b[1;32m     21\u001b[0m early_stopping \u001b[38;5;241m=\u001b[39m EarlyStopping(\n\u001b[1;32m     22\u001b[0m     patience\u001b[38;5;241m=\u001b[39m\u001b[38;5;241m3\u001b[39m, monitor\u001b[38;5;241m=\u001b[39m\u001b[38;5;124m\"\u001b[39m\u001b[38;5;124mval_loss\u001b[39m\u001b[38;5;124m\"\u001b[39m, restore_best_weights\u001b[38;5;241m=\u001b[39m\u001b[38;5;28;01mTrue\u001b[39;00m\n\u001b[1;32m     23\u001b[0m )\n\u001b[0;32m---> 25\u001b[0m \u001b[43mmodel\u001b[49m\u001b[38;5;241;43m.\u001b[39;49m\u001b[43mfit\u001b[49m\u001b[43m(\u001b[49m\n\u001b[1;32m     26\u001b[0m \u001b[43m    \u001b[49m\u001b[43mX_train\u001b[49m\u001b[43m,\u001b[49m\n\u001b[1;32m     27\u001b[0m \u001b[43m    \u001b[49m\u001b[43my_train\u001b[49m\u001b[43m,\u001b[49m\n\u001b[1;32m     28\u001b[0m \u001b[43m    \u001b[49m\u001b[43mvalidation_split\u001b[49m\u001b[38;5;241;43m=\u001b[39;49m\u001b[38;5;241;43m0.25\u001b[39;49m\u001b[43m,\u001b[49m\n\u001b[1;32m     29\u001b[0m \u001b[43m    \u001b[49m\u001b[43mepochs\u001b[49m\u001b[38;5;241;43m=\u001b[39;49m\u001b[38;5;241;43m100\u001b[39;49m\u001b[43m,\u001b[49m\n\u001b[1;32m     30\u001b[0m \u001b[43m    \u001b[49m\u001b[43mcallbacks\u001b[49m\u001b[38;5;241;43m=\u001b[39;49m\u001b[43m[\u001b[49m\u001b[43mearly_stopping\u001b[49m\u001b[43m]\u001b[49m\u001b[43m,\u001b[49m\n\u001b[1;32m     31\u001b[0m \u001b[43m    \u001b[49m\u001b[43mbatch_size\u001b[49m\u001b[38;5;241;43m=\u001b[39;49m\u001b[38;5;241;43m16\u001b[39;49m\u001b[43m,\u001b[49m\n\u001b[1;32m     32\u001b[0m \u001b[43m)\u001b[49m\n\u001b[1;32m     34\u001b[0m model\u001b[38;5;241m.\u001b[39mevaluate(X_test, y_test, verbose\u001b[38;5;241m=\u001b[39m\u001b[38;5;241m0\u001b[39m)\n",
      "File \u001b[0;32m/Library/Frameworks/Python.framework/Versions/3.10/lib/python3.10/site-packages/keras/utils/traceback_utils.py:67\u001b[0m, in \u001b[0;36mfilter_traceback.<locals>.error_handler\u001b[0;34m(*args, **kwargs)\u001b[0m\n\u001b[1;32m     65\u001b[0m \u001b[38;5;28;01mexcept\u001b[39;00m \u001b[38;5;167;01mException\u001b[39;00m \u001b[38;5;28;01mas\u001b[39;00m e:  \u001b[38;5;66;03m# pylint: disable=broad-except\u001b[39;00m\n\u001b[1;32m     66\u001b[0m   filtered_tb \u001b[38;5;241m=\u001b[39m _process_traceback_frames(e\u001b[38;5;241m.\u001b[39m__traceback__)\n\u001b[0;32m---> 67\u001b[0m   \u001b[38;5;28;01mraise\u001b[39;00m e\u001b[38;5;241m.\u001b[39mwith_traceback(filtered_tb) \u001b[38;5;28;01mfrom\u001b[39;00m \u001b[38;5;28mNone\u001b[39m\n\u001b[1;32m     68\u001b[0m \u001b[38;5;28;01mfinally\u001b[39;00m:\n\u001b[1;32m     69\u001b[0m   \u001b[38;5;28;01mdel\u001b[39;00m filtered_tb\n",
      "File \u001b[0;32m/var/folders/dd/nn1g8pns4f18myq4q6z84swh0000gn/T/__autograph_generated_filen0g1q0_g.py:15\u001b[0m, in \u001b[0;36mouter_factory.<locals>.inner_factory.<locals>.tf__train_function\u001b[0;34m(iterator)\u001b[0m\n\u001b[1;32m     13\u001b[0m \u001b[38;5;28;01mtry\u001b[39;00m:\n\u001b[1;32m     14\u001b[0m     do_return \u001b[38;5;241m=\u001b[39m \u001b[38;5;28;01mTrue\u001b[39;00m\n\u001b[0;32m---> 15\u001b[0m     retval_ \u001b[38;5;241m=\u001b[39m ag__\u001b[38;5;241m.\u001b[39mconverted_call(ag__\u001b[38;5;241m.\u001b[39mld(step_function), (ag__\u001b[38;5;241m.\u001b[39mld(\u001b[38;5;28mself\u001b[39m), ag__\u001b[38;5;241m.\u001b[39mld(iterator)), \u001b[38;5;28;01mNone\u001b[39;00m, fscope)\n\u001b[1;32m     16\u001b[0m \u001b[38;5;28;01mexcept\u001b[39;00m:\n\u001b[1;32m     17\u001b[0m     do_return \u001b[38;5;241m=\u001b[39m \u001b[38;5;28;01mFalse\u001b[39;00m\n",
      "\u001b[0;31mValueError\u001b[0m: in user code:\n\n    File \"/Library/Frameworks/Python.framework/Versions/3.10/lib/python3.10/site-packages/keras/engine/training.py\", line 1051, in train_function  *\n        return step_function(self, iterator)\n    File \"/Library/Frameworks/Python.framework/Versions/3.10/lib/python3.10/site-packages/keras/engine/training.py\", line 1040, in step_function  **\n        outputs = model.distribute_strategy.run(run_step, args=(data,))\n    File \"/Library/Frameworks/Python.framework/Versions/3.10/lib/python3.10/site-packages/keras/engine/training.py\", line 1030, in run_step  **\n        outputs = model.train_step(data)\n    File \"/Library/Frameworks/Python.framework/Versions/3.10/lib/python3.10/site-packages/keras/engine/training.py\", line 889, in train_step\n        y_pred = self(x, training=True)\n    File \"/Library/Frameworks/Python.framework/Versions/3.10/lib/python3.10/site-packages/keras/utils/traceback_utils.py\", line 67, in error_handler\n        raise e.with_traceback(filtered_tb) from None\n    File \"/Library/Frameworks/Python.framework/Versions/3.10/lib/python3.10/site-packages/keras/engine/input_spec.py\", line 264, in assert_input_compatibility\n        raise ValueError(f'Input {input_index} of layer \"{layer_name}\" is '\n\n    ValueError: Input 0 of layer \"sequential_28\" is incompatible with the layer: expected shape=(None, 50, 37, 1), found shape=(None, 32, 32, 3)\n"
     ]
    }
   ],
   "source": [
    "from tensorflow.keras.regularizers import l2\n",
    "\n",
    "model = Sequential()\n",
    "model.add(\n",
    "    Conv2D(\n",
    "        10, (5, 5), input_shape=(50, 37, 1), padding=\"same\", activation=\"relu\"\n",
    "    )\n",
    ")\n",
    "model.add(Dense(n_classes, activation=\"tanh\", kernel_regularizer=l2(0.01)))\n",
    "model.add(Dropout(0.5))\n",
    "model.add(MaxPooling2D())\n",
    "model.add(Flatten())\n",
    "model.add(Dense(n_classes, activation=\"softmax\"))\n",
    "model.compile(\n",
    "    loss=\"categorical_crossentropy\",\n",
    "    optimizer=\"adam\",\n",
    "    metrics=[\"categorical_accuracy\"],\n",
    ")\n",
    "print(model.summary())\n",
    "\n",
    "early_stopping = EarlyStopping(\n",
    "    patience=3, monitor=\"val_loss\", restore_best_weights=True\n",
    ")\n",
    "\n",
    "model.fit(\n",
    "    X_train,\n",
    "    y_train,\n",
    "    validation_split=0.25,\n",
    "    epochs=100,\n",
    "    callbacks=[early_stopping],\n",
    "    batch_size=16,\n",
    ")\n",
    "\n",
    "model.evaluate(X_test, y_test, verbose=0)"
   ]
  },
  {
   "cell_type": "markdown",
   "metadata": {
    "pycharm": {
     "name": "#%% md\n"
    }
   },
   "source": [
    "### Dwie warstwy konwolucyjne.\n",
    "\n",
    "Zbuduj dwuwarstwową o 16 filtrach w pierwszej i drugiej warstwie, zawierającej pooling i dropout po każdej warstwie konwolucyjnej, ukrytą warstę gęstą o 32 neuronach i warstwę wyjściową."
   ]
  },
  {
   "cell_type": "code",
   "execution_count": null,
   "metadata": {
    "pycharm": {
     "name": "#%%\n"
    }
   },
   "outputs": [],
   "source": []
  },
  {
   "cell_type": "markdown",
   "metadata": {
    "collapsed": true,
    "pycharm": {
     "name": "#%% md\n"
    }
   },
   "source": [
    "<br>\n",
    "\n",
    "# Case study 2\n",
    "\n",
    "# Obrazki 3d (kolorowe - RGB)"
   ]
  },
  {
   "cell_type": "code",
   "execution_count": 50,
   "metadata": {
    "pycharm": {
     "name": "#%%\n"
    },
    "scrolled": true
   },
   "outputs": [
    {
     "name": "stdout",
     "output_type": "stream",
     "text": [
      "(7000, 32, 32, 3)\n",
      "(4000, 32, 32, 3)\n",
      "(array([0, 1, 2, 3], dtype=uint8), array([1738, 1733, 1779, 1750]))\n",
      "[[[170 180 198]\n",
      "  [168 178 196]\n",
      "  [177 185 203]\n",
      "  ...\n",
      "  [162 179 215]\n",
      "  [158 178 214]\n",
      "  [157 177 212]]\n",
      "\n",
      " [[168 181 198]\n",
      "  [172 185 201]\n",
      "  [171 183 200]\n",
      "  ...\n",
      "  [159 177 212]\n",
      "  [156 176 211]\n",
      "  [154 174 209]]\n",
      "\n",
      " [[154 170 186]\n",
      "  [149 165 181]\n",
      "  [129 144 162]\n",
      "  ...\n",
      "  [161 178 214]\n",
      "  [157 177 212]\n",
      "  [154 174 209]]\n",
      "\n",
      " ...\n",
      "\n",
      " [[ 74  84  80]\n",
      "  [ 76  85  81]\n",
      "  [ 78  85  82]\n",
      "  ...\n",
      "  [ 71  75  78]\n",
      "  [ 68  72  75]\n",
      "  [ 61  65  68]]\n",
      "\n",
      " [[ 68  76  77]\n",
      "  [ 69  77  78]\n",
      "  [ 72  79  78]\n",
      "  ...\n",
      "  [ 76  80  83]\n",
      "  [ 71  75  78]\n",
      "  [ 71  75  78]]\n",
      "\n",
      " [[ 67  75  78]\n",
      "  [ 68  76  79]\n",
      "  [ 69  75  76]\n",
      "  ...\n",
      "  [ 75  79  82]\n",
      "  [ 71  75  78]\n",
      "  [ 73  77  80]]]\n"
     ]
    },
    {
     "data": {
      "image/png": "[encoded data removed]",
      "text/plain": [
       "<Figure size 432x288 with 9 Axes>"
      ]
     },
     "metadata": {
      "needs_background": "light"
     },
     "output_type": "display_data"
    }
   ],
   "source": [
    "from keras.datasets import cifar10\n",
    "\n",
    "import numpy as np\n",
    "\n",
    "# load data\n",
    "(X_train, y_train), (X_test, y_test) = cifar10.load_data()\n",
    "\n",
    "nb_classes = 4\n",
    "n_samples = 7000\n",
    "\n",
    "X_train, y_train = (\n",
    "    X_train[np.where(y_train < nb_classes)[0]][:n_samples],\n",
    "    y_train[np.where(y_train < nb_classes)[0]][:n_samples],\n",
    ")\n",
    "X_test, y_test = (\n",
    "    X_test[np.where(y_test < nb_classes)[0]],\n",
    "    y_test[np.where(y_test < nb_classes)[0]],\n",
    ")\n",
    "\n",
    "print(X_train.shape)\n",
    "print(X_test.shape)\n",
    "print(np.unique(y_train, return_counts=True))\n",
    "print(X_train[0])\n",
    "\n",
    "# create a grid of 3x3 images\n",
    "for i in range(0, 9):\n",
    "    plt.subplot(330 + 1 + i)\n",
    "    plt.imshow(X_train[i])\n",
    "# show the plot\n",
    "plt.show()\n"
   ]
  },
  {
   "cell_type": "code",
   "execution_count": 51,
   "metadata": {
    "pycharm": {
     "name": "#%%\n"
    }
   },
   "outputs": [
    {
     "data": {
      "text/plain": [
       "array([[1],\n",
       "       [1],\n",
       "       [2],\n",
       "       ...,\n",
       "       [3],\n",
       "       [1],\n",
       "       [3]], dtype=uint8)"
      ]
     },
     "execution_count": 51,
     "metadata": {},
     "output_type": "execute_result"
    }
   ],
   "source": [
    "y_train\n"
   ]
  },
  {
   "cell_type": "code",
   "execution_count": 52,
   "metadata": {
    "pycharm": {
     "name": "#%%\n"
    }
   },
   "outputs": [
    {
     "data": {
      "text/plain": [
       "(32, 32, 3)"
      ]
     },
     "execution_count": 52,
     "metadata": {},
     "output_type": "execute_result"
    }
   ],
   "source": [
    "# normalize inputs from 0-255 to 0.0-1.0\n",
    "\n",
    "X_train = X_train / 255\n",
    "X_test = X_test / 255\n",
    "\n",
    "# one hot encode outputs\n",
    "y_train = np_utils.to_categorical(y_train)\n",
    "y_test = np_utils.to_categorical(y_test)\n",
    "\n",
    "num_classes = y_test.shape[1]\n",
    "\n",
    "y_train[0:5]\n",
    "\n",
    "X_train[0].shape\n"
   ]
  },
  {
   "cell_type": "markdown",
   "metadata": {
    "pycharm": {
     "name": "#%% md\n"
    }
   },
   "source": [
    "### Zadanie 1. \n",
    "\n",
    "Zbuduj jednowarstwową sieć konwolucyjną z poolingiem i jedną warstwą ukrytą gęstą.\n",
    "\n",
    "Liczba filtrów: 32; rozmiar filtra: 5x5."
   ]
  },
  {
   "cell_type": "code",
   "execution_count": 75,
   "metadata": {
    "pycharm": {
     "name": "#%%\n"
    }
   },
   "outputs": [
    {
     "name": "stdout",
     "output_type": "stream",
     "text": [
      "Model: \"sequential_42\"\n",
      "_________________________________________________________________\n",
      " Layer (type)                Output Shape              Param #   \n",
      "=================================================================\n",
      " conv2d_44 (Conv2D)          (None, 32, 32, 32)        2432      \n",
      "                                                                 \n",
      " max_pooling2d_36 (MaxPoolin  (None, 16, 16, 32)       0         \n",
      " g2D)                                                            \n",
      "                                                                 \n",
      " dense_71 (Dense)            (None, 16, 16, 4)         132       \n",
      "                                                                 \n",
      " dropout_22 (Dropout)        (None, 16, 16, 4)         0         \n",
      "                                                                 \n",
      " flatten_41 (Flatten)        (None, 1024)              0         \n",
      "                                                                 \n",
      " dense_72 (Dense)            (None, 4)                 4100      \n",
      "                                                                 \n",
      "=================================================================\n",
      "Total params: 6,664\n",
      "Trainable params: 6,664\n",
      "Non-trainable params: 0\n",
      "_________________________________________________________________\n",
      "None\n",
      "Epoch 1/100\n",
      "329/329 [==============================] - 3s 6ms/step - loss: 1.3161 - categorical_accuracy: 0.3954 - val_loss: 1.1716 - val_categorical_accuracy: 0.5069\n",
      "Epoch 2/100\n",
      "329/329 [==============================] - 2s 5ms/step - loss: 1.0632 - categorical_accuracy: 0.5705 - val_loss: 0.9727 - val_categorical_accuracy: 0.6446\n",
      "Epoch 3/100\n",
      "329/329 [==============================] - 2s 5ms/step - loss: 0.8994 - categorical_accuracy: 0.6484 - val_loss: 0.8384 - val_categorical_accuracy: 0.6966\n",
      "Epoch 4/100\n",
      "329/329 [==============================] - 2s 5ms/step - loss: 0.8428 - categorical_accuracy: 0.6716 - val_loss: 0.8281 - val_categorical_accuracy: 0.6931\n",
      "Epoch 5/100\n",
      "329/329 [==============================] - 2s 5ms/step - loss: 0.8089 - categorical_accuracy: 0.6878 - val_loss: 0.8184 - val_categorical_accuracy: 0.6857\n",
      "Epoch 6/100\n",
      "329/329 [==============================] - 2s 5ms/step - loss: 0.7790 - categorical_accuracy: 0.6981 - val_loss: 0.7843 - val_categorical_accuracy: 0.6914\n",
      "Epoch 7/100\n",
      "329/329 [==============================] - 2s 6ms/step - loss: 0.7664 - categorical_accuracy: 0.7046 - val_loss: 0.7627 - val_categorical_accuracy: 0.7137\n",
      "Epoch 8/100\n",
      "329/329 [==============================] - 1s 5ms/step - loss: 0.7431 - categorical_accuracy: 0.7112 - val_loss: 0.7909 - val_categorical_accuracy: 0.6909\n",
      "Epoch 9/100\n",
      "329/329 [==============================] - 2s 5ms/step - loss: 0.7477 - categorical_accuracy: 0.7099 - val_loss: 0.7403 - val_categorical_accuracy: 0.7137\n",
      "Epoch 10/100\n",
      "329/329 [==============================] - 1s 4ms/step - loss: 0.7215 - categorical_accuracy: 0.7217 - val_loss: 0.7490 - val_categorical_accuracy: 0.7177\n",
      "Epoch 11/100\n",
      "329/329 [==============================] - 2s 5ms/step - loss: 0.7092 - categorical_accuracy: 0.7223 - val_loss: 0.7155 - val_categorical_accuracy: 0.7320\n",
      "Epoch 12/100\n",
      "329/329 [==============================] - 2s 5ms/step - loss: 0.7058 - categorical_accuracy: 0.7232 - val_loss: 0.7152 - val_categorical_accuracy: 0.7263\n",
      "Epoch 13/100\n",
      "329/329 [==============================] - 2s 5ms/step - loss: 0.6842 - categorical_accuracy: 0.7375 - val_loss: 0.7109 - val_categorical_accuracy: 0.7337\n",
      "Epoch 14/100\n",
      "329/329 [==============================] - 2s 5ms/step - loss: 0.6833 - categorical_accuracy: 0.7288 - val_loss: 0.7229 - val_categorical_accuracy: 0.7217\n",
      "Epoch 15/100\n",
      "329/329 [==============================] - 2s 5ms/step - loss: 0.6778 - categorical_accuracy: 0.7347 - val_loss: 0.6870 - val_categorical_accuracy: 0.7320\n",
      "Epoch 16/100\n",
      "329/329 [==============================] - 2s 5ms/step - loss: 0.6681 - categorical_accuracy: 0.7350 - val_loss: 0.6904 - val_categorical_accuracy: 0.7343\n",
      "Epoch 17/100\n",
      "329/329 [==============================] - 2s 6ms/step - loss: 0.6582 - categorical_accuracy: 0.7488 - val_loss: 0.7041 - val_categorical_accuracy: 0.7291\n",
      "Epoch 18/100\n",
      "329/329 [==============================] - 2s 5ms/step - loss: 0.6570 - categorical_accuracy: 0.7457 - val_loss: 0.6642 - val_categorical_accuracy: 0.7446\n",
      "Epoch 19/100\n",
      "329/329 [==============================] - 2s 6ms/step - loss: 0.6555 - categorical_accuracy: 0.7453 - val_loss: 0.6713 - val_categorical_accuracy: 0.7406\n",
      "Epoch 20/100\n",
      "329/329 [==============================] - 1s 4ms/step - loss: 0.6528 - categorical_accuracy: 0.7516 - val_loss: 0.7035 - val_categorical_accuracy: 0.7194\n",
      "Epoch 21/100\n",
      "329/329 [==============================] - 1s 4ms/step - loss: 0.6520 - categorical_accuracy: 0.7484 - val_loss: 0.6620 - val_categorical_accuracy: 0.7514\n",
      "Epoch 22/100\n",
      "329/329 [==============================] - 2s 6ms/step - loss: 0.6504 - categorical_accuracy: 0.7484 - val_loss: 0.7377 - val_categorical_accuracy: 0.7103\n",
      "Epoch 23/100\n",
      "329/329 [==============================] - 2s 5ms/step - loss: 0.6469 - categorical_accuracy: 0.7480 - val_loss: 0.7053 - val_categorical_accuracy: 0.7360\n",
      "Epoch 24/100\n",
      "329/329 [==============================] - 2s 6ms/step - loss: 0.6391 - categorical_accuracy: 0.7550 - val_loss: 0.6639 - val_categorical_accuracy: 0.7366\n"
     ]
    },
    {
     "data": {
      "text/plain": [
       "[0.650202214717865, 0.7459999918937683]"
      ]
     },
     "execution_count": 75,
     "metadata": {},
     "output_type": "execute_result"
    }
   ],
   "source": [
    "from tensorflow.keras.regularizers import l2\n",
    "\n",
    "n_classes = 4\n",
    "\n",
    "model = Sequential()\n",
    "model.add(\n",
    "    Conv2D(\n",
    "        32, (5, 5), input_shape=(32, 32, 3), padding=\"same\", activation=\"relu\"\n",
    "    )\n",
    ")\n",
    "\n",
    "model.add(MaxPooling2D())\n",
    "model.add(Dense(n_classes, activation=\"relu\", kernel_regularizer=l2(0.01)))\n",
    "model.add(Dropout(0.5))\n",
    "model.add(Flatten())\n",
    "model.add(Dense(n_classes, activation=\"softmax\"))\n",
    "model.compile(\n",
    "    loss=\"categorical_crossentropy\",\n",
    "    optimizer=\"adam\",\n",
    "    metrics=[\"categorical_accuracy\"],\n",
    ")\n",
    "print(model.summary())\n",
    "\n",
    "early_stopping = EarlyStopping(\n",
    "    patience=3, monitor=\"val_loss\", restore_best_weights=True\n",
    ")\n",
    "\n",
    "model.fit(\n",
    "    X_train,\n",
    "    y_train,\n",
    "    validation_split=0.25,\n",
    "    epochs=100,\n",
    "    callbacks=[early_stopping],\n",
    "    batch_size=16,\n",
    ")\n",
    "\n",
    "model.evaluate(X_test, y_test, verbose=0)"
   ]
  },
  {
   "cell_type": "code",
   "execution_count": 72,
   "metadata": {
    "collapsed": false,
    "pycharm": {
     "name": "#%%\n"
    }
   },
   "outputs": [
    {
     "name": "stdout",
     "output_type": "stream",
     "text": [
      "Model: \"sequential_39\"\n",
      "_________________________________________________________________\n",
      " Layer (type)                Output Shape              Param #   \n",
      "=================================================================\n",
      " conv2d_41 (Conv2D)          (None, 32, 32, 32)        2432      \n",
      "                                                                 \n",
      " max_pooling2d_33 (MaxPoolin  (None, 16, 16, 32)       0         \n",
      " g2D)                                                            \n",
      "                                                                 \n",
      " flatten_38 (Flatten)        (None, 8192)              0         \n",
      "                                                                 \n",
      " dense_66 (Dense)            (None, 4)                 32772     \n",
      "                                                                 \n",
      "=================================================================\n",
      "Total params: 35,204\n",
      "Trainable params: 35,204\n",
      "Non-trainable params: 0\n",
      "_________________________________________________________________\n",
      "None\n",
      "Epoch 1/100\n",
      "329/329 [==============================] - 2s 5ms/step - loss: 1.0107 - categorical_accuracy: 0.5829 - val_loss: 0.8159 - val_categorical_accuracy: 0.6909\n",
      "Epoch 2/100\n",
      "329/329 [==============================] - 2s 6ms/step - loss: 0.7511 - categorical_accuracy: 0.7004 - val_loss: 0.8719 - val_categorical_accuracy: 0.6680\n",
      "Epoch 3/100\n",
      "329/329 [==============================] - 1s 5ms/step - loss: 0.6668 - categorical_accuracy: 0.7402 - val_loss: 0.7413 - val_categorical_accuracy: 0.7200\n",
      "Epoch 4/100\n",
      "329/329 [==============================] - 2s 5ms/step - loss: 0.6088 - categorical_accuracy: 0.7634 - val_loss: 0.7633 - val_categorical_accuracy: 0.7034\n",
      "Epoch 5/100\n",
      "329/329 [==============================] - 2s 5ms/step - loss: 0.5832 - categorical_accuracy: 0.7712 - val_loss: 0.7746 - val_categorical_accuracy: 0.6960\n",
      "Epoch 6/100\n",
      "329/329 [==============================] - 1s 4ms/step - loss: 0.5376 - categorical_accuracy: 0.7910 - val_loss: 0.6930 - val_categorical_accuracy: 0.7240\n",
      "Epoch 7/100\n",
      "329/329 [==============================] - 2s 7ms/step - loss: 0.4943 - categorical_accuracy: 0.8078 - val_loss: 0.6732 - val_categorical_accuracy: 0.7371\n",
      "Epoch 8/100\n",
      "329/329 [==============================] - 2s 5ms/step - loss: 0.4589 - categorical_accuracy: 0.8223 - val_loss: 0.6657 - val_categorical_accuracy: 0.7474\n",
      "Epoch 9/100\n",
      "329/329 [==============================] - 1s 4ms/step - loss: 0.4183 - categorical_accuracy: 0.8421 - val_loss: 0.6983 - val_categorical_accuracy: 0.7406\n",
      "Epoch 10/100\n",
      "329/329 [==============================] - 3s 9ms/step - loss: 0.3835 - categorical_accuracy: 0.8526 - val_loss: 0.7483 - val_categorical_accuracy: 0.7320\n",
      "Epoch 11/100\n",
      "329/329 [==============================] - 2s 5ms/step - loss: 0.3643 - categorical_accuracy: 0.8600 - val_loss: 0.7615 - val_categorical_accuracy: 0.7331\n"
     ]
    },
    {
     "data": {
      "text/plain": [
       "[0.6496098041534424, 0.7557500004768372]"
      ]
     },
     "execution_count": 72,
     "metadata": {},
     "output_type": "execute_result"
    }
   ],
   "source": [
    "from tensorflow.keras.regularizers import l2\n",
    "\n",
    "model = Sequential()\n",
    "model.add(\n",
    "    Conv2D(\n",
    "        32, (5, 5), input_shape=(32, 32, 3), padding=\"same\", activation=\"relu\"\n",
    "    )\n",
    ")\n",
    "model.add(MaxPooling2D())\n",
    "model.add(Flatten())\n",
    "model.add(Dense(nb_classes, activation=\"softmax\"))\n",
    "\n",
    "model.compile(\n",
    "    loss=\"categorical_crossentropy\",\n",
    "    optimizer=\"adam\",\n",
    "    metrics=[\"categorical_accuracy\"],\n",
    ")\n",
    "print(model.summary())\n",
    "\n",
    "early_stopping = EarlyStopping(\n",
    "    patience=3, monitor=\"val_loss\", restore_best_weights=True\n",
    ")\n",
    "\n",
    "model.fit(\n",
    "    X_train,\n",
    "    y_train,\n",
    "    validation_split=0.25,\n",
    "    epochs=100,\n",
    "    callbacks=[early_stopping],\n",
    "    batch_size=16,\n",
    ")\n",
    "\n",
    "model.evaluate(X_test, y_test, verbose=0)"
   ]
  },
  {
   "cell_type": "code",
   "execution_count": 76,
   "metadata": {
    "collapsed": false,
    "pycharm": {
     "name": "#%%\n"
    }
   },
   "outputs": [
    {
     "name": "stdout",
     "output_type": "stream",
     "text": [
      "Model: \"sequential_43\"\n",
      "_________________________________________________________________\n",
      " Layer (type)                Output Shape              Param #   \n",
      "=================================================================\n",
      " conv2d_45 (Conv2D)          (None, 32, 32, 32)        2432      \n",
      "                                                                 \n",
      " max_pooling2d_37 (MaxPoolin  (None, 16, 16, 32)       0         \n",
      " g2D)                                                            \n",
      "                                                                 \n",
      " flatten_42 (Flatten)        (None, 8192)              0         \n",
      "                                                                 \n",
      " dense_73 (Dense)            (None, 4)                 32772     \n",
      "                                                                 \n",
      "=================================================================\n",
      "Total params: 35,204\n",
      "Trainable params: 35,204\n",
      "Non-trainable params: 0\n",
      "_________________________________________________________________\n",
      "None\n",
      "Epoch 1/100\n",
      "329/329 [==============================] - 2s 5ms/step - loss: 0.9783 - categorical_accuracy: 0.6032 - val_loss: 0.8525 - val_categorical_accuracy: 0.6629\n",
      "Epoch 2/100\n",
      "329/329 [==============================] - 2s 6ms/step - loss: 0.7379 - categorical_accuracy: 0.7050 - val_loss: 0.7412 - val_categorical_accuracy: 0.6989\n",
      "Epoch 3/100\n",
      "329/329 [==============================] - 2s 5ms/step - loss: 0.6555 - categorical_accuracy: 0.7467 - val_loss: 0.7567 - val_categorical_accuracy: 0.6869\n",
      "Epoch 4/100\n",
      "329/329 [==============================] - 2s 6ms/step - loss: 0.6119 - categorical_accuracy: 0.7556 - val_loss: 0.6984 - val_categorical_accuracy: 0.7206\n",
      "Epoch 5/100\n",
      "329/329 [==============================] - 2s 6ms/step - loss: 0.5580 - categorical_accuracy: 0.7819 - val_loss: 0.6698 - val_categorical_accuracy: 0.7474\n",
      "Epoch 6/100\n",
      "329/329 [==============================] - 2s 5ms/step - loss: 0.5207 - categorical_accuracy: 0.7975 - val_loss: 0.6964 - val_categorical_accuracy: 0.7297\n",
      "Epoch 7/100\n",
      "329/329 [==============================] - 1s 4ms/step - loss: 0.4779 - categorical_accuracy: 0.8149 - val_loss: 0.6992 - val_categorical_accuracy: 0.7354\n",
      "Epoch 8/100\n",
      "329/329 [==============================] - 2s 6ms/step - loss: 0.4544 - categorical_accuracy: 0.8244 - val_loss: 0.7133 - val_categorical_accuracy: 0.7251\n"
     ]
    },
    {
     "data": {
      "text/plain": [
       "[0.6547030806541443, 0.7480000257492065]"
      ]
     },
     "execution_count": 76,
     "metadata": {},
     "output_type": "execute_result"
    }
   ],
   "source": [
    "from tensorflow.keras.regularizers import l2\n",
    "\n",
    "model = Sequential()\n",
    "model.add(\n",
    "    Conv2D(\n",
    "        32, (5, 5), input_shape=(32, 32, 3), padding=\"same\", activation=\"relu\"\n",
    "    )\n",
    ")\n",
    "model.add(MaxPooling2D())\n",
    "model.add(Flatten())\n",
    "model.add(Dense(nb_classes, activation=\"softmax\"))\n",
    "\n",
    "model.compile(\n",
    "    loss=\"categorical_crossentropy\",\n",
    "    optimizer=\"adam\",\n",
    "    metrics=[\"categorical_accuracy\"],\n",
    ")\n",
    "print(model.summary())\n",
    "\n",
    "early_stopping = EarlyStopping(\n",
    "    patience=3, monitor=\"val_loss\", restore_best_weights=True\n",
    ")\n",
    "\n",
    "model.fit(\n",
    "    X_train,\n",
    "    y_train,\n",
    "    validation_split=0.25,\n",
    "    epochs=100,\n",
    "    callbacks=[early_stopping],\n",
    "    batch_size=16,\n",
    ")\n",
    "\n",
    "model.evaluate(X_test, y_test, verbose=0)"
   ]
  },
  {
   "cell_type": "code",
   "execution_count": 68,
   "metadata": {
    "collapsed": false,
    "pycharm": {
     "name": "#%%\n"
    }
   },
   "outputs": [],
   "source": [
    "?model.evaluate"
   ]
  },
  {
   "cell_type": "markdown",
   "metadata": {
    "pycharm": {
     "name": "#%% md\n"
    }
   },
   "source": [
    "### Zadanie \n",
    "\n",
    "Zbuduj i przetestuj sieć przestawioną na rysunku:\n",
    "\n",
    "<img src=\"Grafika/LeNet.png\" width=\"700\">\n",
    "Źródło: https://adeshpande3.github.io/assets/LeNet.png\"\n"
   ]
  },
  {
   "cell_type": "code",
   "execution_count": 78,
   "metadata": {
    "pycharm": {
     "name": "#%%\n"
    }
   },
   "outputs": [
    {
     "name": "stdout",
     "output_type": "stream",
     "text": [
      "Model: \"sequential_45\"\n",
      "_________________________________________________________________\n",
      " Layer (type)                Output Shape              Param #   \n",
      "=================================================================\n",
      " conv2d_47 (Conv2D)          (None, 32, 32, 6)         456       \n",
      "                                                                 \n",
      " max_pooling2d_39 (MaxPoolin  (None, 16, 16, 6)        0         \n",
      " g2D)                                                            \n",
      "                                                                 \n",
      " conv2d_48 (Conv2D)          (None, 16, 16, 16)        2416      \n",
      "                                                                 \n",
      " max_pooling2d_40 (MaxPoolin  (None, 8, 8, 16)         0         \n",
      " g2D)                                                            \n",
      "                                                                 \n",
      " flatten_44 (Flatten)        (None, 1024)              0         \n",
      "                                                                 \n",
      " dense_75 (Dense)            (None, 120)               123000    \n",
      "                                                                 \n",
      " dense_76 (Dense)            (None, 84)                10164     \n",
      "                                                                 \n",
      " dense_77 (Dense)            (None, 4)                 340       \n",
      "                                                                 \n",
      "=================================================================\n",
      "Total params: 136,376\n",
      "Trainable params: 136,376\n",
      "Non-trainable params: 0\n",
      "_________________________________________________________________\n",
      "None\n",
      "Epoch 1/100\n",
      "329/329 [==============================] - 4s 11ms/step - loss: 1.0683 - categorical_accuracy: 0.5427 - val_loss: 0.9393 - val_categorical_accuracy: 0.6234\n",
      "Epoch 2/100\n",
      "329/329 [==============================] - 3s 8ms/step - loss: 0.8036 - categorical_accuracy: 0.6661 - val_loss: 0.8858 - val_categorical_accuracy: 0.6423\n",
      "Epoch 3/100\n",
      "329/329 [==============================] - 3s 8ms/step - loss: 0.6974 - categorical_accuracy: 0.7221 - val_loss: 0.7370 - val_categorical_accuracy: 0.7069\n",
      "Epoch 4/100\n",
      "329/329 [==============================] - 3s 9ms/step - loss: 0.6306 - categorical_accuracy: 0.7547 - val_loss: 0.7168 - val_categorical_accuracy: 0.7160\n",
      "Epoch 5/100\n",
      "329/329 [==============================] - 2s 5ms/step - loss: 0.5812 - categorical_accuracy: 0.7739 - val_loss: 0.6718 - val_categorical_accuracy: 0.7394\n",
      "Epoch 6/100\n",
      "329/329 [==============================] - 2s 5ms/step - loss: 0.5142 - categorical_accuracy: 0.7992 - val_loss: 0.6645 - val_categorical_accuracy: 0.7446\n",
      "Epoch 7/100\n",
      "329/329 [==============================] - 2s 5ms/step - loss: 0.4679 - categorical_accuracy: 0.8192 - val_loss: 0.6555 - val_categorical_accuracy: 0.7566\n",
      "Epoch 8/100\n",
      "329/329 [==============================] - 2s 5ms/step - loss: 0.4096 - categorical_accuracy: 0.8398 - val_loss: 0.6953 - val_categorical_accuracy: 0.7543\n",
      "Epoch 9/100\n",
      "329/329 [==============================] - 2s 8ms/step - loss: 0.3490 - categorical_accuracy: 0.8665 - val_loss: 0.7058 - val_categorical_accuracy: 0.7554\n",
      "Epoch 10/100\n",
      "329/329 [==============================] - 2s 5ms/step - loss: 0.2878 - categorical_accuracy: 0.8909 - val_loss: 0.8009 - val_categorical_accuracy: 0.7189\n"
     ]
    },
    {
     "data": {
      "text/plain": [
       "[0.6266300678253174, 0.7599999904632568]"
      ]
     },
     "execution_count": 78,
     "metadata": {},
     "output_type": "execute_result"
    }
   ],
   "source": [
    "model = Sequential()\n",
    "model.add(\n",
    "    Conv2D(\n",
    "        6, (5, 5), input_shape=(32, 32, 3), padding=\"same\", activation=\"relu\"\n",
    "    )\n",
    ")\n",
    "model.add(MaxPooling2D())\n",
    "model.add(\n",
    "    Conv2D(\n",
    "        16, (5, 5), input_shape=(32, 32, 3), padding=\"same\", activation=\"relu\"\n",
    "    )\n",
    ")\n",
    "model.add(MaxPooling2D())\n",
    "model.add(Flatten())\n",
    "model.add(Dense(120, activation=\"relu\"))\n",
    "model.add(Dense(84, activation=\"relu\"))\n",
    "model.add(Dense(nb_classes, activation=\"softmax\"))\n",
    "\n",
    "model.compile(\n",
    "    loss=\"categorical_crossentropy\",\n",
    "    optimizer=\"adam\",\n",
    "    metrics=[\"categorical_accuracy\"],\n",
    ")\n",
    "print(model.summary())\n",
    "\n",
    "early_stopping = EarlyStopping(\n",
    "    patience=3, monitor=\"val_loss\", restore_best_weights=True\n",
    ")\n",
    "\n",
    "model.fit(\n",
    "    X_train,\n",
    "    y_train,\n",
    "    validation_split=0.25,\n",
    "    epochs=100,\n",
    "    callbacks=[early_stopping],\n",
    "    batch_size=16,\n",
    ")\n",
    "\n",
    "model.evaluate(X_test, y_test, verbose=0)"
   ]
  },
  {
   "cell_type": "markdown",
   "metadata": {
    "pycharm": {
     "name": "#%% md\n"
    }
   },
   "source": [
    "### Augmentacja obrazów\n"
   ]
  },
  {
   "cell_type": "markdown",
   "metadata": {
    "pycharm": {
     "name": "#%% md\n"
    }
   },
   "source": [
    "Przykłady augmentacji obrazów\n",
    "\n",
    "![](Grafika/augmentation.jpeg)\n",
    "* Scaling\n",
    "\n",
    "![](Grafika/rescaling.png)\n",
    "\n",
    "* Cropping\n",
    "\n",
    "![](Grafika/cropping-2.png)\n",
    "\n",
    "* Flipping\n",
    "  \n",
    "![](Grafika/flipping.png)\n",
    "\n",
    "\n",
    "* Brightness, contrast, saturation, hue\n",
    "\n",
    "![](Grafika/color-augmentation.png)"
   ]
  },
  {
   "cell_type": "markdown",
   "metadata": {
    "pycharm": {
     "name": "#%% md\n"
    }
   },
   "source": [
    "### Czytanie obrazów z dysku"
   ]
  },
  {
   "cell_type": "code",
   "execution_count": 79,
   "metadata": {
    "pycharm": {
     "name": "#%%\n"
    }
   },
   "outputs": [],
   "source": [
    "from tensorflow.keras.preprocessing.image import ImageDataGenerator\n",
    "?ImageDataGenerator"
   ]
  },
  {
   "cell_type": "code",
   "execution_count": 80,
   "metadata": {
    "pycharm": {
     "name": "#%%\n"
    }
   },
   "outputs": [],
   "source": [
    "import tensorflow as tf\n"
   ]
  },
  {
   "cell_type": "code",
   "execution_count": 103,
   "metadata": {
    "pycharm": {
     "name": "#%%\n"
    }
   },
   "outputs": [
    {
     "name": "stdout",
     "output_type": "stream",
     "text": [
      "Found 3336 images belonging to 2 classes.\n",
      "209/209 [==============================] - 5s 22ms/step - loss: 7.1865\n"
     ]
    },
    {
     "data": {
      "text/plain": [
       "<keras.callbacks.History at 0x2902b4a90>"
      ]
     },
     "execution_count": 103,
     "metadata": {},
     "output_type": "execute_result"
    }
   ],
   "source": [
    "datagen = ImageDataGenerator(\n",
    "    featurewise_center=False,\n",
    "    samplewise_center=False,\n",
    "    featurewise_std_normalization=False,\n",
    "    samplewise_std_normalization=False,\n",
    "    zca_whitening=False,\n",
    "    zca_epsilon=1e-06,\n",
    "    rotation_range=0,\n",
    "    width_shift_range=0.0,\n",
    "    height_shift_range=0.0,\n",
    "    brightness_range=None,\n",
    "    shear_range=0.0,\n",
    "    zoom_range=0.0,\n",
    "    channel_shift_range=0.0,\n",
    "    fill_mode=\"nearest\",\n",
    "    cval=0.0,\n",
    "    horizontal_flip=False,\n",
    "    vertical_flip=False,\n",
    "    rescale=None,\n",
    "    preprocessing_function=None,\n",
    "    data_format=None,\n",
    "    validation_split=0.0,\n",
    "    dtype=None,\n",
    ")\n",
    "\n",
    "data_generator = datagen.flow_from_directory(\n",
    "    \"./Dane/dogs-vs-cats/\",\n",
    "    target_size=(16, 16),\n",
    "    batch_size=16,\n",
    "    class_mode=\"binary\",\n",
    ")\n",
    "\n",
    "model = Sequential()\n",
    "model.add(tf.keras.layers.Flatten())\n",
    "model.add(tf.keras.layers.Dense(1, activation=\"sigmoid\"))\n",
    "model.compile(loss=\"binary_crossentropy\", optimizer=\"adam\")\n",
    "model.fit(data_generator)\n"
   ]
  },
  {
   "cell_type": "code",
   "execution_count": 82,
   "metadata": {
    "pycharm": {
     "name": "#%%\n"
    }
   },
   "outputs": [
    {
     "name": "stdout",
     "output_type": "stream",
     "text": [
      "\u001b[34mcats\u001b[m\u001b[m \u001b[34mdogs\u001b[m\u001b[m\r\n"
     ]
    }
   ],
   "source": [
    "!ls Dane/dogs-vs-cats/train/"
   ]
  },
  {
   "cell_type": "markdown",
   "metadata": {
    "pycharm": {
     "name": "#%% md\n"
    }
   },
   "source": [
    "### Zadanie\n",
    "Przetrenuj model do wykrywania czy na obrazie jest kot lub pies, wykorzystując ImageDataGenerator i augmentacje obrazów. Obrazy wczytuj wielkości 32x32 piksele."
   ]
  },
  {
   "cell_type": "code",
   "execution_count": 83,
   "metadata": {
    "pycharm": {
     "name": "#%%\n"
    }
   },
   "outputs": [],
   "source": [
    "from keras.layers import Dense, Flatten, Dropout\n",
    "\n",
    "from keras.layers import Conv2D, MaxPooling2D\n"
   ]
  },
  {
   "cell_type": "code",
   "execution_count": 84,
   "metadata": {
    "pycharm": {
     "name": "#%%\n"
    }
   },
   "outputs": [],
   "source": [
    "h, w = 32, 32\n",
    "train_data_dir = \"Dane/dogs-vs-cats/train\"\n",
    "validation_data_dir = \"Dane/dogs-vs-cats/test\"\n"
   ]
  },
  {
   "cell_type": "code",
   "execution_count": 153,
   "metadata": {
    "collapsed": false,
    "pycharm": {
     "name": "#%%\n"
    }
   },
   "outputs": [
    {
     "name": "stdout",
     "output_type": "stream",
     "text": [
      "Found 3192 images belonging to 2 classes.\n",
      "200/200 [==============================] - 5s 23ms/step - loss: 1.1918 - accuracy: 0.6012\n"
     ]
    },
    {
     "data": {
      "text/plain": [
       "<keras.callbacks.History at 0x291d91990>"
      ]
     },
     "execution_count": 153,
     "metadata": {},
     "output_type": "execute_result"
    }
   ],
   "source": [
    "datagen = ImageDataGenerator(\n",
    "    featurewise_center=True,\n",
    "    samplewise_center=True,\n",
    "    featurewise_std_normalization=True,\n",
    "    samplewise_std_normalization=True,\n",
    "    zca_whitening=False,\n",
    "    zca_epsilon=1e-06,\n",
    "    rotation_range=0,\n",
    "    width_shift_range=0.0,\n",
    "    height_shift_range=0.0,\n",
    "    brightness_range=None,\n",
    "    shear_range=0.0,\n",
    "    zoom_range=0.0,\n",
    "    channel_shift_range=0.0,\n",
    "    fill_mode=\"nearest\",\n",
    "    cval=0.0,\n",
    "    horizontal_flip=False,\n",
    "    vertical_flip=False,\n",
    "    rescale=1.0/255,\n",
    "    preprocessing_function=None,\n",
    "    data_format=None,\n",
    "    validation_split=0.0,\n",
    "    dtype=None,\n",
    ")\n",
    "\n",
    "data_generator = datagen.flow_from_directory(\n",
    "    train_data_dir,\n",
    "    target_size=(h, w),\n",
    "    batch_size=16,\n",
    "    class_mode=\"binary\",\n",
    ")\n",
    "\n",
    "model = Sequential()\n",
    "model.add(Conv2D(6, (5, 5), input_shape=(h, w, 3), padding=\"same\", activation=\"relu\"))\n",
    "model.add(MaxPooling2D())\n",
    "model.add(Conv2D(16, (5, 5), padding=\"same\", activation=\"relu\"))\n",
    "model.add(MaxPooling2D())\n",
    "model.add(tf.keras.layers.Flatten())\n",
    "model.add(Dense(120, activation=\"relu\", kernel_regularizer=l2(0.01)))\n",
    "model.add(Dropout(0.1))\n",
    "# model.add(Dense(84, activation=\"relu\"))\n",
    "# model.add(Dropout(0.5))\n",
    "model.add(Dense(1, activation=\"sigmoid\"))\n",
    "model.compile(loss=\"binary_crossentropy\", optimizer=\"adam\", metrics=[\"accuracy\"])\n",
    "model.fit(data_generator)"
   ]
  },
  {
   "cell_type": "code",
   "execution_count": 158,
   "metadata": {
    "collapsed": false,
    "pycharm": {
     "name": "#%%\n"
    }
   },
   "outputs": [
    {
     "name": "stdout",
     "output_type": "stream",
     "text": [
      "Found 3192 images belonging to 2 classes.\n",
      "Found 144 images belonging to 2 classes.\n",
      "Epoch 1/100\n"
     ]
    },
    {
     "name": "stderr",
     "output_type": "stream",
     "text": [
      "/Library/Frameworks/Python.framework/Versions/3.10/lib/python3.10/site-packages/keras/preprocessing/image.py:1663: UserWarning: This ImageDataGenerator specifies `featurewise_center`, but it hasn't been fit on any training data. Fit it first by calling `.fit(numpy_data)`.\n",
      "  warnings.warn('This ImageDataGenerator specifies '\n",
      "/Library/Frameworks/Python.framework/Versions/3.10/lib/python3.10/site-packages/keras/preprocessing/image.py:1671: UserWarning: This ImageDataGenerator specifies `featurewise_std_normalization`, but it hasn't been fit on any training data. Fit it first by calling `.fit(numpy_data)`.\n",
      "  warnings.warn('This ImageDataGenerator specifies '\n"
     ]
    },
    {
     "name": "stdout",
     "output_type": "stream",
     "text": [
      "200/200 [==============================] - 7s 30ms/step - loss: 0.6703 - accuracy: 0.5874\n",
      "Epoch 2/100\n",
      "200/200 [==============================] - 6s 29ms/step - loss: 0.6170 - accuracy: 0.6482\n",
      "Epoch 3/100\n",
      "200/200 [==============================] - 5s 27ms/step - loss: 0.5694 - accuracy: 0.6974\n",
      "Epoch 4/100\n",
      "200/200 [==============================] - 5s 23ms/step - loss: 0.5085 - accuracy: 0.7491\n",
      "Epoch 5/100\n",
      "200/200 [==============================] - 5s 24ms/step - loss: 0.4353 - accuracy: 0.7964\n",
      "Epoch 6/100\n",
      "200/200 [==============================] - 5s 24ms/step - loss: 0.3449 - accuracy: 0.8468\n",
      "Epoch 7/100\n",
      "200/200 [==============================] - 5s 26ms/step - loss: 0.2414 - accuracy: 0.9026\n",
      "Epoch 8/100\n",
      "200/200 [==============================] - 4s 21ms/step - loss: 0.1572 - accuracy: 0.9417\n",
      "Epoch 9/100\n",
      "200/200 [==============================] - 4s 21ms/step - loss: 0.1182 - accuracy: 0.9552\n",
      "Epoch 10/100\n",
      "200/200 [==============================] - 4s 19ms/step - loss: 0.0795 - accuracy: 0.9696\n",
      "Epoch 11/100\n",
      "200/200 [==============================] - 4s 19ms/step - loss: 0.0787 - accuracy: 0.9677\n",
      "Epoch 12/100\n",
      "200/200 [==============================] - 4s 21ms/step - loss: 0.0382 - accuracy: 0.9878\n",
      "Epoch 13/100\n",
      "200/200 [==============================] - 4s 19ms/step - loss: 0.0454 - accuracy: 0.9831\n",
      "Epoch 14/100\n",
      "200/200 [==============================] - 4s 19ms/step - loss: 0.0654 - accuracy: 0.9756\n",
      "Epoch 15/100\n",
      "200/200 [==============================] - 4s 18ms/step - loss: 0.0313 - accuracy: 0.9890\n",
      "Epoch 16/100\n",
      "200/200 [==============================] - 4s 22ms/step - loss: 0.0677 - accuracy: 0.9762\n",
      "Epoch 17/100\n",
      "200/200 [==============================] - 4s 20ms/step - loss: 0.0589 - accuracy: 0.9790\n",
      "Epoch 18/100\n",
      "200/200 [==============================] - 4s 22ms/step - loss: 0.0166 - accuracy: 0.9947\n",
      "Epoch 19/100\n",
      "200/200 [==============================] - 4s 21ms/step - loss: 0.0362 - accuracy: 0.9862\n",
      "Epoch 20/100\n",
      "200/200 [==============================] - 4s 22ms/step - loss: 0.0429 - accuracy: 0.9859\n",
      "Epoch 21/100\n",
      "200/200 [==============================] - 4s 21ms/step - loss: 0.0234 - accuracy: 0.9912\n",
      "Model: \"sequential_76\"\n",
      "_________________________________________________________________\n",
      " Layer (type)                Output Shape              Param #   \n",
      "=================================================================\n",
      " conv2d_83 (Conv2D)          (None, 32, 32, 6)         456       \n",
      "                                                                 \n",
      " max_pooling2d_75 (MaxPoolin  (None, 16, 16, 6)        0         \n",
      " g2D)                                                            \n",
      "                                                                 \n",
      " conv2d_84 (Conv2D)          (None, 16, 16, 16)        2416      \n",
      "                                                                 \n",
      " max_pooling2d_76 (MaxPoolin  (None, 8, 8, 16)         0         \n",
      " g2D)                                                            \n",
      "                                                                 \n",
      " conv2d_85 (Conv2D)          (None, 8, 8, 64)          25664     \n",
      "                                                                 \n",
      " max_pooling2d_77 (MaxPoolin  (None, 4, 4, 64)         0         \n",
      " g2D)                                                            \n",
      "                                                                 \n",
      " flatten_75 (Flatten)        (None, 1024)              0         \n",
      "                                                                 \n",
      " dense_131 (Dense)           (None, 120)               123000    \n",
      "                                                                 \n",
      " dropout_30 (Dropout)        (None, 120)               0         \n",
      "                                                                 \n",
      " dense_132 (Dense)           (None, 1)                 121       \n",
      "                                                                 \n",
      "=================================================================\n",
      "Total params: 151,657\n",
      "Trainable params: 151,657\n",
      "Non-trainable params: 0\n",
      "_________________________________________________________________\n",
      "None\n"
     ]
    },
    {
     "data": {
      "text/plain": [
       "[2.0667800903320312, 0.6875]"
      ]
     },
     "execution_count": 158,
     "metadata": {},
     "output_type": "execute_result"
    }
   ],
   "source": [
    "data_generator_train = datagen.flow_from_directory(\n",
    "    train_data_dir,\n",
    "    target_size=(h, w),\n",
    "    batch_size=16,\n",
    "    class_mode=\"binary\",\n",
    ")\n",
    "\n",
    "data_generator_test = datagen.flow_from_directory(\n",
    "    validation_data_dir,\n",
    "    target_size=(h, w),\n",
    "    batch_size=16,\n",
    "    class_mode=\"binary\",\n",
    ")\n",
    "\n",
    "model = Sequential()\n",
    "\n",
    "model.add(\n",
    "    Conv2D(\n",
    "        6, (5, 5), input_shape=(32, 32, 3), padding=\"same\", activation=\"relu\"\n",
    "    )\n",
    ")\n",
    "model.add(MaxPooling2D())\n",
    "model.add(\n",
    "    Conv2D(\n",
    "        16, (5, 5), padding=\"same\", activation=\"relu\"\n",
    "    )\n",
    ")\n",
    "model.add(MaxPooling2D())\n",
    "model.add(\n",
    "    Conv2D(\n",
    "        64, (5, 5), padding=\"same\", activation=\"relu\"\n",
    "    )\n",
    ")\n",
    "model.add(MaxPooling2D())\n",
    "model.add(Flatten())\n",
    "model.add(Dense(120, activation=\"relu\"))\n",
    "model.add(Dropout(0.1))\n",
    "model.add(Dense(1, activation=\"sigmoid\"))\n",
    "\n",
    "\n",
    "model.compile(loss=\"binary_crossentropy\", optimizer=\"adam\", metrics=[\"accuracy\"])\n",
    "\n",
    "early_stopping = EarlyStopping(\n",
    "    patience=3, monitor=\"accuracy\", restore_best_weights=True\n",
    ")\n",
    "\n",
    "model.fit(\n",
    "    data_generator_train,\n",
    "    epochs=100,\n",
    "    callbacks=[early_stopping],\n",
    "    batch_size=16,)\n",
    "\n",
    "print(model.summary())\n",
    "model.evaluate(data_generator_test, verbose=0)"
   ]
  },
  {
   "cell_type": "code",
   "execution_count": 85,
   "metadata": {
    "pycharm": {
     "name": "#%%\n"
    }
   },
   "outputs": [
    {
     "name": "stdout",
     "output_type": "stream",
     "text": [
      "Model: \"sequential_46\"\n",
      "_________________________________________________________________\n",
      " Layer (type)                Output Shape              Param #   \n",
      "=================================================================\n",
      " flatten_45 (Flatten)        (None, None)              0         \n",
      "                                                                 \n",
      " dense_78 (Dense)            (None, 1)                 769       \n",
      "                                                                 \n",
      "=================================================================\n",
      "Total params: 769\n",
      "Trainable params: 769\n",
      "Non-trainable params: 0\n",
      "_________________________________________________________________\n"
     ]
    }
   ],
   "source": [
    "model.summary()\n"
   ]
  },
  {
   "cell_type": "markdown",
   "metadata": {
    "pycharm": {
     "name": "#%% md\n"
    }
   },
   "source": [
    "### Transfer learning\n",
    "\n",
    "<img src=\"Grafika/TransferLearning_1.png\" width=\"600\">\n",
    "\n",
    "Źródło: https://medium.com/@14prakash/transfer-learning-using-keras-d804b2e04ef8\n",
    "\n",
    "<br>\n",
    "\n",
    "<br>\n",
    "\n",
    "\n",
    "<br>\n",
    "\n",
    "\n",
    "<img src=\"Grafika/TransferLearning_2.png\" width=\"600\">\n",
    "\n",
    "Źródło: https://medium.com/decathlondevelopers/how-you-can-build-an-image-classifier-in-one-day-part-1-transfer-learning-5602d3f96e6b\n"
   ]
  },
  {
   "cell_type": "code",
   "execution_count": 159,
   "metadata": {
    "pycharm": {
     "name": "#%%\n"
    }
   },
   "outputs": [],
   "source": [
    "from tensorflow.keras.applications import VGG16\n",
    "from tensorflow.keras.preprocessing import image\n",
    "from tensorflow.keras.models import Model\n",
    "import numpy as np\n"
   ]
  },
  {
   "cell_type": "code",
   "execution_count": 160,
   "metadata": {
    "pycharm": {
     "name": "#%%\n"
    }
   },
   "outputs": [
    {
     "name": "stdout",
     "output_type": "stream",
     "text": [
      "Downloading data from https://storage.googleapis.com/tensorflow/keras-applications/vgg16/vgg16_weights_tf_dim_ordering_tf_kernels_notop.h5\n",
      "58889256/58889256 [==============================] - 10s 0us/step\n"
     ]
    }
   ],
   "source": [
    "h, w = 32, 32\n",
    "base_model = VGG16(\n",
    "    weights=\"imagenet\", include_top=False, input_shape=(h, w, 3)\n",
    ")\n"
   ]
  },
  {
   "cell_type": "code",
   "execution_count": 161,
   "metadata": {
    "pycharm": {
     "name": "#%%\n"
    }
   },
   "outputs": [
    {
     "name": "stdout",
     "output_type": "stream",
     "text": [
      "Model: \"vgg16\"\n",
      "_________________________________________________________________\n",
      " Layer (type)                Output Shape              Param #   \n",
      "=================================================================\n",
      " input_1 (InputLayer)        [(None, 32, 32, 3)]       0         \n",
      "                                                                 \n",
      " block1_conv1 (Conv2D)       (None, 32, 32, 64)        1792      \n",
      "                                                                 \n",
      " block1_conv2 (Conv2D)       (None, 32, 32, 64)        36928     \n",
      "                                                                 \n",
      " block1_pool (MaxPooling2D)  (None, 16, 16, 64)        0         \n",
      "                                                                 \n",
      " block2_conv1 (Conv2D)       (None, 16, 16, 128)       73856     \n",
      "                                                                 \n",
      " block2_conv2 (Conv2D)       (None, 16, 16, 128)       147584    \n",
      "                                                                 \n",
      " block2_pool (MaxPooling2D)  (None, 8, 8, 128)         0         \n",
      "                                                                 \n",
      " block3_conv1 (Conv2D)       (None, 8, 8, 256)         295168    \n",
      "                                                                 \n",
      " block3_conv2 (Conv2D)       (None, 8, 8, 256)         590080    \n",
      "                                                                 \n",
      " block3_conv3 (Conv2D)       (None, 8, 8, 256)         590080    \n",
      "                                                                 \n",
      " block3_pool (MaxPooling2D)  (None, 4, 4, 256)         0         \n",
      "                                                                 \n",
      " block4_conv1 (Conv2D)       (None, 4, 4, 512)         1180160   \n",
      "                                                                 \n",
      " block4_conv2 (Conv2D)       (None, 4, 4, 512)         2359808   \n",
      "                                                                 \n",
      " block4_conv3 (Conv2D)       (None, 4, 4, 512)         2359808   \n",
      "                                                                 \n",
      " block4_pool (MaxPooling2D)  (None, 2, 2, 512)         0         \n",
      "                                                                 \n",
      " block5_conv1 (Conv2D)       (None, 2, 2, 512)         2359808   \n",
      "                                                                 \n",
      " block5_conv2 (Conv2D)       (None, 2, 2, 512)         2359808   \n",
      "                                                                 \n",
      " block5_conv3 (Conv2D)       (None, 2, 2, 512)         2359808   \n",
      "                                                                 \n",
      " block5_pool (MaxPooling2D)  (None, 1, 1, 512)         0         \n",
      "                                                                 \n",
      "=================================================================\n",
      "Total params: 14,714,688\n",
      "Trainable params: 14,714,688\n",
      "Non-trainable params: 0\n",
      "_________________________________________________________________\n"
     ]
    }
   ],
   "source": [
    "base_model.summary()\n"
   ]
  },
  {
   "cell_type": "code",
   "execution_count": 162,
   "metadata": {
    "pycharm": {
     "name": "#%%\n"
    }
   },
   "outputs": [],
   "source": [
    "from tensorflow.keras.models import Sequential\n",
    "from tensorflow.keras.layers import Dense, Flatten, Dropout\n"
   ]
  },
  {
   "cell_type": "code",
   "execution_count": 163,
   "metadata": {
    "pycharm": {
     "name": "#%%\n"
    }
   },
   "outputs": [],
   "source": [
    "top_model = Sequential()\n",
    "top_model.add(Flatten(input_shape=base_model.output_shape[1:]))\n",
    "top_model.add(Dense(128, activation=\"relu\"))\n",
    "top_model.add(Dropout(0.5))\n",
    "top_model.add(Dense(1, activation=\"sigmoid\"))\n"
   ]
  },
  {
   "cell_type": "code",
   "execution_count": 164,
   "metadata": {
    "pycharm": {
     "name": "#%%\n"
    }
   },
   "outputs": [],
   "source": [
    "new_model = Sequential()\n",
    "new_model.add(base_model)\n",
    "new_model.add(top_model)\n"
   ]
  },
  {
   "cell_type": "code",
   "execution_count": 165,
   "metadata": {
    "pycharm": {
     "name": "#%%\n"
    }
   },
   "outputs": [
    {
     "name": "stdout",
     "output_type": "stream",
     "text": [
      "Model: \"sequential_78\"\n",
      "_________________________________________________________________\n",
      " Layer (type)                Output Shape              Param #   \n",
      "=================================================================\n",
      " vgg16 (Functional)          (None, 1, 1, 512)         14714688  \n",
      "                                                                 \n",
      " sequential_77 (Sequential)  (None, 1)                 65793     \n",
      "                                                                 \n",
      "=================================================================\n",
      "Total params: 14,780,481\n",
      "Trainable params: 14,780,481\n",
      "Non-trainable params: 0\n",
      "_________________________________________________________________\n"
     ]
    }
   ],
   "source": [
    "new_model.summary()\n"
   ]
  },
  {
   "cell_type": "code",
   "execution_count": 166,
   "metadata": {
    "pycharm": {
     "name": "#%%\n"
    }
   },
   "outputs": [
    {
     "data": {
      "text/plain": [
       "[<keras.engine.functional.Functional at 0x14ec17430>,\n",
       " <keras.engine.sequential.Sequential at 0x14ec35390>]"
      ]
     },
     "execution_count": 166,
     "metadata": {},
     "output_type": "execute_result"
    }
   ],
   "source": [
    "new_model.layers\n"
   ]
  },
  {
   "cell_type": "code",
   "execution_count": 167,
   "metadata": {
    "pycharm": {
     "name": "#%%\n"
    }
   },
   "outputs": [],
   "source": [
    "new_model.layers[0].trainable = False\n",
    "#\n"
   ]
  },
  {
   "cell_type": "code",
   "execution_count": 168,
   "metadata": {
    "pycharm": {
     "name": "#%%\n"
    }
   },
   "outputs": [],
   "source": [
    "new_model.compile(\n",
    "    loss=\"binary_crossentropy\", optimizer=\"adam\", metrics=[\"accuracy\"]\n",
    ")\n"
   ]
  },
  {
   "cell_type": "code",
   "execution_count": 169,
   "metadata": {
    "pycharm": {
     "name": "#%%\n"
    }
   },
   "outputs": [
    {
     "name": "stdout",
     "output_type": "stream",
     "text": [
      "Model: \"sequential_78\"\n",
      "_________________________________________________________________\n",
      " Layer (type)                Output Shape              Param #   \n",
      "=================================================================\n",
      " vgg16 (Functional)          (None, 1, 1, 512)         14714688  \n",
      "                                                                 \n",
      " sequential_77 (Sequential)  (None, 1)                 65793     \n",
      "                                                                 \n",
      "=================================================================\n",
      "Total params: 14,780,481\n",
      "Trainable params: 65,793\n",
      "Non-trainable params: 14,714,688\n",
      "_________________________________________________________________\n"
     ]
    }
   ],
   "source": [
    "new_model.summary()\n"
   ]
  },
  {
   "cell_type": "code",
   "execution_count": 171,
   "metadata": {
    "pycharm": {
     "name": "#%%\n"
    }
   },
   "outputs": [
    {
     "ename": "NameError",
     "evalue": "name 'train_datagen' is not defined",
     "output_type": "error",
     "traceback": [
      "\u001b[0;31m---------------------------------------------------------------------------\u001b[0m",
      "\u001b[0;31mNameError\u001b[0m                                 Traceback (most recent call last)",
      "Input \u001b[0;32mIn [171]\u001b[0m, in \u001b[0;36m<cell line: 4>\u001b[0;34m()\u001b[0m\n\u001b[1;32m      1\u001b[0m early_stopping \u001b[38;5;241m=\u001b[39m EarlyStopping(\n\u001b[1;32m      2\u001b[0m     patience\u001b[38;5;241m=\u001b[39m\u001b[38;5;241m2\u001b[39m, monitor\u001b[38;5;241m=\u001b[39m\u001b[38;5;124m\"\u001b[39m\u001b[38;5;124mloss\u001b[39m\u001b[38;5;124m\"\u001b[39m, restore_best_weights\u001b[38;5;241m=\u001b[39m\u001b[38;5;28;01mTrue\u001b[39;00m\n\u001b[1;32m      3\u001b[0m )\n\u001b[1;32m      4\u001b[0m new_model\u001b[38;5;241m.\u001b[39mfit(\n\u001b[0;32m----> 5\u001b[0m     \u001b[43mtrain_datagen\u001b[49m,\n\u001b[1;32m      6\u001b[0m     callbacks\u001b[38;5;241m=\u001b[39m[early_stopping],\n\u001b[1;32m      7\u001b[0m     batch_size\u001b[38;5;241m=\u001b[39m\u001b[38;5;241m32\u001b[39m,\n\u001b[1;32m      8\u001b[0m     epochs\u001b[38;5;241m=\u001b[39m\u001b[38;5;241m30\u001b[39m,\n\u001b[1;32m      9\u001b[0m     validation_data\u001b[38;5;241m=\u001b[39mtest_datagen,\n\u001b[1;32m     10\u001b[0m )\n\u001b[1;32m     11\u001b[0m new_model\u001b[38;5;241m.\u001b[39mevaluate(test_datagen, verbose\u001b[38;5;241m=\u001b[39m\u001b[38;5;241m0\u001b[39m)\n",
      "\u001b[0;31mNameError\u001b[0m: name 'train_datagen' is not defined"
     ]
    }
   ],
   "source": [
    "early_stopping = EarlyStopping(\n",
    "    patience=2, monitor=\"loss\", restore_best_weights=True\n",
    ")\n",
    "new_model.fit(\n",
    "    train_datagen,\n",
    "    callbacks=[early_stopping],\n",
    "    batch_size=32,\n",
    "    epochs=30,\n",
    "    validation_data=test_datagen,\n",
    ")\n",
    "new_model.evaluate(test_datagen, verbose=0)\n"
   ]
  },
  {
   "cell_type": "markdown",
   "metadata": {
    "collapsed": false,
    "pycharm": {
     "name": "#%% md\n"
    }
   },
   "source": [
    "[Wszystkie dostępne przetrenowane modele w Kerasie](https://keras.io/api/applications/)"
   ]
  },
  {
   "cell_type": "code",
   "execution_count": null,
   "metadata": {
    "collapsed": false,
    "pycharm": {
     "name": "#%%\n"
    }
   },
   "outputs": [],
   "source": []
  }
 ],
 "metadata": {
  "kernelspec": {
   "display_name": "Python 3.10.6 64-bit ('3.10.6')",
   "language": "python",
   "name": "python3"
  },
  "language_info": {
   "codemirror_mode": {
    "name": "ipython",
    "version": 3
   },
   "file_extension": ".py",
   "mimetype": "text/x-python",
   "name": "python",
   "nbconvert_exporter": "python",
   "pygments_lexer": "ipython3",
   "version": "3.10.6"
  },
  "vscode": {
   "interpreter": {
    "hash": "b480b8933f078b9bb649a28ef31ddb4e88638560591c0b6b6c9f25971fe4507f"
   }
  }
 },
 "nbformat": 4,
 "nbformat_minor": 2
}
