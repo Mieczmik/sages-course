{
 "cells": [
  {
   "cell_type": "code",
   "execution_count": 136,
   "id": "95993f40-813b-44bf-a363-dc44050833f7",
   "metadata": {},
   "outputs": [],
   "source": [
    "import pandas as pd\n",
    "import numpy as np"
   ]
  },
  {
   "cell_type": "code",
   "execution_count": 37,
   "id": "19df723e-7cd8-42f3-b7fd-3c2053d32ed3",
   "metadata": {},
   "outputs": [],
   "source": [
    "import os"
   ]
  },
  {
   "cell_type": "code",
   "execution_count": 38,
   "id": "0c27b383-86f9-4eda-820c-6a09b55312a2",
   "metadata": {},
   "outputs": [],
   "source": [
    "import sqlite3"
   ]
  },
  {
   "cell_type": "code",
   "execution_count": 63,
   "id": "238cdc20-f99f-4687-9bbe-f531be7d336f",
   "metadata": {},
   "outputs": [],
   "source": [
    "import pandas as pd\n",
    "from bs4 import BeautifulSoup\n",
    "import requests\n",
    "from lxml import etree"
   ]
  },
  {
   "cell_type": "code",
   "execution_count": 59,
   "id": "38f4e757-dd0b-4916-91dd-510d834a9f5f",
   "metadata": {},
   "outputs": [],
   "source": [
    "DATABASE_PATH = os.getcwd() + '/sages_data_sources/tests/sql/titanic.db'"
   ]
  },
  {
   "cell_type": "code",
   "execution_count": 60,
   "id": "0b13d7db-9ca9-4e87-823a-bcb7e5d2b279",
   "metadata": {},
   "outputs": [
    {
     "data": {
      "text/plain": [
       "'/home/mikolaj/DS/Sages/zjazd_4/sages_data_sources/tests/sql/titanic.db'"
      ]
     },
     "execution_count": 60,
     "metadata": {},
     "output_type": "execute_result"
    }
   ],
   "source": [
    "DATABASE_PATH"
   ]
  },
  {
   "cell_type": "code",
   "execution_count": 56,
   "id": "893ca186-3601-4706-9c66-fd45711ff745",
   "metadata": {},
   "outputs": [],
   "source": [
    "con = sqlite3.connect(DATABASE_PATH)"
   ]
  },
  {
   "cell_type": "code",
   "execution_count": 57,
   "id": "8034877b-4364-4a8a-949d-a7696521b6ca",
   "metadata": {},
   "outputs": [
    {
     "data": {
      "text/plain": [
       "<sqlite3.Connection at 0x7f13b27783f0>"
      ]
     },
     "execution_count": 57,
     "metadata": {},
     "output_type": "execute_result"
    }
   ],
   "source": [
    "con"
   ]
  },
  {
   "cell_type": "code",
   "execution_count": 43,
   "id": "c33364f1-ea0f-41dd-a564-9231fb70812c",
   "metadata": {},
   "outputs": [],
   "source": [
    "def run_query(query):\n",
    "    con = sqlite3.connect(DATABASE_PATH)\n",
    "    try:\n",
    "        response = pd.read_sql_query(query, con)\n",
    "        return response\n",
    "    finally:\n",
    "        con.close()"
   ]
  },
  {
   "cell_type": "code",
   "execution_count": 44,
   "id": "63362600-669d-4932-af68-7dbaf9044268",
   "metadata": {},
   "outputs": [],
   "source": [
    "titanic_data = pd.read_csv('sages_data_sources/tests/sql/input_data/sql/titanic.csv')\n",
    "\n",
    "survivors = titanic_data[['PassengerId', 'Survived']]\n",
    "tickets = titanic_data[['PassengerId', 'Ticket', 'Pclass', 'Fare', 'Cabin', 'Embarked']]\n",
    "passengers = titanic_data[['PassengerId', 'Name', 'Sex', 'Age', 'SibSp', 'Parch']]"
   ]
  },
  {
   "cell_type": "code",
   "execution_count": 61,
   "id": "56fcefbe-e27b-4670-b4a7-7e4d713d2ae8",
   "metadata": {},
   "outputs": [],
   "source": [
    "try:\n",
    "    survivors.to_sql('survivors', con, if_exists='replace')\n",
    "    tickets.to_sql('tickets', con, if_exists='replace')\n",
    "    passengers.to_sql('passengers', con, if_exists='replace')\n",
    "finally:\n",
    "    con.close()"
   ]
  },
  {
   "cell_type": "code",
   "execution_count": 228,
   "id": "b57c0809-73e2-43d3-9339-6766a681b0e4",
   "metadata": {},
   "outputs": [],
   "source": [
    "Names_sql = run_query(\"SELECT p.Name FROM passengers p JOIN survivors s ON p.PassengerId = s.PassengerId WHERE p.Age > 35 AND s.Survived = 1\")[\"Name\"].tolist()"
   ]
  },
  {
   "cell_type": "code",
   "execution_count": 339,
   "id": "76c9bddd-7b14-4a22-acb8-f8c6534e91eb",
   "metadata": {},
   "outputs": [],
   "source": [
    "query = run_query(\"SELECT * FROM passengers p JOIN survivors s ON p.PassengerId = s.PassengerId WHERE p.Age > 35 AND s.Survived = 1\")"
   ]
  },
  {
   "cell_type": "code",
   "execution_count": 351,
   "id": "52124363-3872-47fd-ac03-6f8586cd391d",
   "metadata": {},
   "outputs": [
    {
     "data": {
      "text/html": [
       "<div>\n",
       "<style scoped>\n",
       "    .dataframe tbody tr th:only-of-type {\n",
       "        vertical-align: middle;\n",
       "    }\n",
       "\n",
       "    .dataframe tbody tr th {\n",
       "        vertical-align: top;\n",
       "    }\n",
       "\n",
       "    .dataframe thead th {\n",
       "        text-align: right;\n",
       "    }\n",
       "</style>\n",
       "<table border=\"1\" class=\"dataframe\">\n",
       "  <thead>\n",
       "    <tr style=\"text-align: right;\">\n",
       "      <th></th>\n",
       "      <th>PassengerId</th>\n",
       "      <th>Name</th>\n",
       "      <th>Sex</th>\n",
       "      <th>Age</th>\n",
       "      <th>SibSp</th>\n",
       "      <th>Parch</th>\n",
       "      <th>PassengerId</th>\n",
       "      <th>Survived</th>\n",
       "    </tr>\n",
       "  </thead>\n",
       "  <tbody>\n",
       "    <tr>\n",
       "      <th>0</th>\n",
       "      <td>2</td>\n",
       "      <td>Cumings, Mrs. John Bradley (Florence Briggs Th...</td>\n",
       "      <td>female</td>\n",
       "      <td>38.0</td>\n",
       "      <td>1</td>\n",
       "      <td>0</td>\n",
       "      <td>2</td>\n",
       "      <td>1</td>\n",
       "    </tr>\n",
       "    <tr>\n",
       "      <th>1</th>\n",
       "      <td>12</td>\n",
       "      <td>Bonnell, Miss. Elizabeth</td>\n",
       "      <td>female</td>\n",
       "      <td>58.0</td>\n",
       "      <td>0</td>\n",
       "      <td>0</td>\n",
       "      <td>12</td>\n",
       "      <td>1</td>\n",
       "    </tr>\n",
       "    <tr>\n",
       "      <th>2</th>\n",
       "      <td>16</td>\n",
       "      <td>Hewlett, Mrs. (Mary D Kingcome)</td>\n",
       "      <td>female</td>\n",
       "      <td>55.0</td>\n",
       "      <td>0</td>\n",
       "      <td>0</td>\n",
       "      <td>16</td>\n",
       "      <td>1</td>\n",
       "    </tr>\n",
       "    <tr>\n",
       "      <th>3</th>\n",
       "      <td>26</td>\n",
       "      <td>Asplund, Mrs. Carl Oscar (Selma Augusta Emilia...</td>\n",
       "      <td>female</td>\n",
       "      <td>38.0</td>\n",
       "      <td>1</td>\n",
       "      <td>5</td>\n",
       "      <td>26</td>\n",
       "      <td>1</td>\n",
       "    </tr>\n",
       "    <tr>\n",
       "      <th>4</th>\n",
       "      <td>53</td>\n",
       "      <td>Harper, Mrs. Henry Sleeper (Myna Haxtun)</td>\n",
       "      <td>female</td>\n",
       "      <td>49.0</td>\n",
       "      <td>1</td>\n",
       "      <td>0</td>\n",
       "      <td>53</td>\n",
       "      <td>1</td>\n",
       "    </tr>\n",
       "    <tr>\n",
       "      <th>...</th>\n",
       "      <td>...</td>\n",
       "      <td>...</td>\n",
       "      <td>...</td>\n",
       "      <td>...</td>\n",
       "      <td>...</td>\n",
       "      <td>...</td>\n",
       "      <td>...</td>\n",
       "      <td>...</td>\n",
       "    </tr>\n",
       "    <tr>\n",
       "      <th>78</th>\n",
       "      <td>858</td>\n",
       "      <td>Daly, Mr. Peter Denis</td>\n",
       "      <td>male</td>\n",
       "      <td>51.0</td>\n",
       "      <td>0</td>\n",
       "      <td>0</td>\n",
       "      <td>858</td>\n",
       "      <td>1</td>\n",
       "    </tr>\n",
       "    <tr>\n",
       "      <th>79</th>\n",
       "      <td>863</td>\n",
       "      <td>Swift, Mrs. Frederick Joel (Margaret Welles Ba...</td>\n",
       "      <td>female</td>\n",
       "      <td>48.0</td>\n",
       "      <td>0</td>\n",
       "      <td>0</td>\n",
       "      <td>863</td>\n",
       "      <td>1</td>\n",
       "    </tr>\n",
       "    <tr>\n",
       "      <th>80</th>\n",
       "      <td>866</td>\n",
       "      <td>Bystrom, Mrs. (Karolina)</td>\n",
       "      <td>female</td>\n",
       "      <td>42.0</td>\n",
       "      <td>0</td>\n",
       "      <td>0</td>\n",
       "      <td>866</td>\n",
       "      <td>1</td>\n",
       "    </tr>\n",
       "    <tr>\n",
       "      <th>81</th>\n",
       "      <td>872</td>\n",
       "      <td>Beckwith, Mrs. Richard Leonard (Sallie Monypeny)</td>\n",
       "      <td>female</td>\n",
       "      <td>47.0</td>\n",
       "      <td>1</td>\n",
       "      <td>1</td>\n",
       "      <td>872</td>\n",
       "      <td>1</td>\n",
       "    </tr>\n",
       "    <tr>\n",
       "      <th>82</th>\n",
       "      <td>880</td>\n",
       "      <td>Potter, Mrs. Thomas Jr (Lily Alexenia Wilson)</td>\n",
       "      <td>female</td>\n",
       "      <td>56.0</td>\n",
       "      <td>0</td>\n",
       "      <td>1</td>\n",
       "      <td>880</td>\n",
       "      <td>1</td>\n",
       "    </tr>\n",
       "  </tbody>\n",
       "</table>\n",
       "<p>83 rows × 8 columns</p>\n",
       "</div>"
      ],
      "text/plain": [
       "    PassengerId                                               Name     Sex  \\\n",
       "0             2  Cumings, Mrs. John Bradley (Florence Briggs Th...  female   \n",
       "1            12                           Bonnell, Miss. Elizabeth  female   \n",
       "2            16                   Hewlett, Mrs. (Mary D Kingcome)   female   \n",
       "3            26  Asplund, Mrs. Carl Oscar (Selma Augusta Emilia...  female   \n",
       "4            53           Harper, Mrs. Henry Sleeper (Myna Haxtun)  female   \n",
       "..          ...                                                ...     ...   \n",
       "78          858                             Daly, Mr. Peter Denis     male   \n",
       "79          863  Swift, Mrs. Frederick Joel (Margaret Welles Ba...  female   \n",
       "80          866                           Bystrom, Mrs. (Karolina)  female   \n",
       "81          872   Beckwith, Mrs. Richard Leonard (Sallie Monypeny)  female   \n",
       "82          880      Potter, Mrs. Thomas Jr (Lily Alexenia Wilson)  female   \n",
       "\n",
       "     Age  SibSp  Parch  PassengerId  Survived  \n",
       "0   38.0      1      0            2         1  \n",
       "1   58.0      0      0           12         1  \n",
       "2   55.0      0      0           16         1  \n",
       "3   38.0      1      5           26         1  \n",
       "4   49.0      1      0           53         1  \n",
       "..   ...    ...    ...          ...       ...  \n",
       "78  51.0      0      0          858         1  \n",
       "79  48.0      0      0          863         1  \n",
       "80  42.0      0      0          866         1  \n",
       "81  47.0      1      1          872         1  \n",
       "82  56.0      0      1          880         1  \n",
       "\n",
       "[83 rows x 8 columns]"
      ]
     },
     "execution_count": 351,
     "metadata": {},
     "output_type": "execute_result"
    }
   ],
   "source": [
    "query = query.drop(\"index\", axis=1)\n",
    "query"
   ]
  },
  {
   "cell_type": "code",
   "execution_count": 229,
   "id": "47801e24-e640-48f8-a9ab-2baa63201394",
   "metadata": {},
   "outputs": [],
   "source": [
    "Names_sql;"
   ]
  },
  {
   "cell_type": "code",
   "execution_count": 64,
   "id": "aad803e5-e115-41de-a913-c588e35fe672",
   "metadata": {},
   "outputs": [],
   "source": [
    "URL = 'https://en.wikipedia.org/wiki/Passengers_of_the_Titanic'"
   ]
  },
  {
   "cell_type": "code",
   "execution_count": 246,
   "id": "de4fe4a7-6976-43a4-b5d7-50528dd02875",
   "metadata": {},
   "outputs": [],
   "source": [
    "response = requests.get(URL)\n",
    "soup = BeautifulSoup(response.text, 'html.parser')\n",
    "links = soup.find_all('a')"
   ]
  },
  {
   "cell_type": "code",
   "execution_count": 83,
   "id": "1aedc3be-a6d6-4412-965d-341de87d6117",
   "metadata": {},
   "outputs": [],
   "source": [
    "urls = ['https://en.wikipedia.org/wiki' + str(link.get('href')) for link in links]"
   ]
  },
  {
   "cell_type": "code",
   "execution_count": 95,
   "id": "05eb9b68-d7bc-4c88-8b59-3ec82a1b12c0",
   "metadata": {},
   "outputs": [],
   "source": [
    "tables = soup.find_all('table')"
   ]
  },
  {
   "cell_type": "code",
   "execution_count": 286,
   "id": "14595922-fa6e-4f92-ab6d-536bdfb2622b",
   "metadata": {},
   "outputs": [],
   "source": [
    "wikipedia_url = 'https://en.wikipedia.org/wiki/Passengers_of_the_Titanic'\n",
    "response = requests.get(wikipedia_url)\n",
    "response_page = BeautifulSoup(response.text, 'html.parser')\n",
    "dom_tree = etree.HTML(str(response_page))\n",
    "xpath = \".//table//tr[contains(@style, 'background')]/td[1]/a\"\n",
    "found_elements = dom_tree.xpath(xpath)"
   ]
  },
  {
   "cell_type": "code",
   "execution_count": 258,
   "id": "96610dd7-e225-4a82-b433-172815173ce7",
   "metadata": {},
   "outputs": [],
   "source": [
    "# dfs = [pd.read_html(tables[i].prettify())[0] for i in range(3)]\n",
    "# df = pd.concat(dfs, ignore_index=False)\n",
    "# df = df[~df[\"Lifeboat\"].isna()].reset_index(drop=True)\n",
    "# Names = df[\"Name\"].tolist()"
   ]
  },
  {
   "cell_type": "code",
   "execution_count": 296,
   "id": "8cfc2f93-ebf8-4dc3-bf33-1d473c4e1626",
   "metadata": {},
   "outputs": [
    {
     "data": {
      "text/plain": [
       "['Hosono, Mr. Masabumi',\n",
       " 'Carter, Mr. William Ernest',\n",
       " 'Harper, Mr. Henry Sleeper']"
      ]
     },
     "execution_count": 296,
     "metadata": {},
     "output_type": "execute_result"
    }
   ],
   "source": [
    "# urls = []\n",
    "# for name in Names_sql:\n",
    "#     for link in links:\n",
    "#         try:\n",
    "#             if name in str(link):\n",
    "#                 urls.append(name)\n",
    "#         except:\n",
    "#             None\n",
    "# urls"
   ]
  },
  {
   "cell_type": "code",
   "execution_count": 302,
   "id": "49ac71fe-06fc-4383-9810-976abf0cbae7",
   "metadata": {},
   "outputs": [
    {
     "data": {
      "text/plain": [
       "[('https://en.wikipedia.org//wiki/William_E._Carter',\n",
       "  'Carter, Mr. William Ernest'),\n",
       " ('https://en.wikipedia.org//wiki/Henry_S._Harper',\n",
       "  'Harper, Mr. Henry Sleeper'),\n",
       " ('https://en.wikipedia.org//wiki/Masabumi_Hosono', 'Hosono, Mr. Masabumi')]"
      ]
     },
     "execution_count": 302,
     "metadata": {},
     "output_type": "execute_result"
    }
   ],
   "source": [
    "people_urls = []\n",
    "for element in found_elements:\n",
    "    if element.text in Names_sql:\n",
    "        tpl = (f\"https://en.wikipedia.org/{element.attrib['href']}\", element.text)\n",
    "        people_urls.append(tpl)\n",
    "people_urls"
   ]
  },
  {
   "cell_type": "code",
   "execution_count": 326,
   "id": "96f56fb9-06ad-4423-9d39-3c930f1f01e0",
   "metadata": {},
   "outputs": [],
   "source": [
    "url = people_urls[0][0]"
   ]
  },
  {
   "cell_type": "code",
   "execution_count": 328,
   "id": "86c5be22-1dd0-43ef-9761-6cef8999d489",
   "metadata": {},
   "outputs": [
    {
     "data": {
      "text/html": [
       "<div>\n",
       "<style scoped>\n",
       "    .dataframe tbody tr th:only-of-type {\n",
       "        vertical-align: middle;\n",
       "    }\n",
       "\n",
       "    .dataframe tbody tr th {\n",
       "        vertical-align: top;\n",
       "    }\n",
       "\n",
       "    .dataframe thead th {\n",
       "        text-align: right;\n",
       "    }\n",
       "</style>\n",
       "<table border=\"1\" class=\"dataframe\">\n",
       "  <thead>\n",
       "    <tr style=\"text-align: right;\">\n",
       "      <th></th>\n",
       "      <th>William E. Carter</th>\n",
       "      <th>William E. Carter.1</th>\n",
       "    </tr>\n",
       "  </thead>\n",
       "  <tbody>\n",
       "    <tr>\n",
       "      <th>0</th>\n",
       "      <td>Born</td>\n",
       "      <td>William Ernest CarterPhiladelphia, Pennsylvani...</td>\n",
       "    </tr>\n",
       "    <tr>\n",
       "      <th>1</th>\n",
       "      <td>Died</td>\n",
       "      <td>March 20, 1940Palm Beach, Florida, USA</td>\n",
       "    </tr>\n",
       "    <tr>\n",
       "      <th>2</th>\n",
       "      <td>Nationality</td>\n",
       "      <td>American</td>\n",
       "    </tr>\n",
       "    <tr>\n",
       "      <th>3</th>\n",
       "      <td>Alma mater</td>\n",
       "      <td>University of Pennsylvania</td>\n",
       "    </tr>\n",
       "    <tr>\n",
       "      <th>4</th>\n",
       "      <td>Known for</td>\n",
       "      <td>surviving the RMS Titanic</td>\n",
       "    </tr>\n",
       "    <tr>\n",
       "      <th>5</th>\n",
       "      <td>Spouse(s)</td>\n",
       "      <td>Lucile Carter</td>\n",
       "    </tr>\n",
       "  </tbody>\n",
       "</table>\n",
       "</div>"
      ],
      "text/plain": [
       "  William E. Carter                                William E. Carter.1\n",
       "0              Born  William Ernest CarterPhiladelphia, Pennsylvani...\n",
       "1              Died             March 20, 1940Palm Beach, Florida, USA\n",
       "2       Nationality                                           American\n",
       "3        Alma mater                         University of Pennsylvania\n",
       "4         Known for                          surviving the RMS Titanic\n",
       "5         Spouse(s)                                      Lucile Carter"
      ]
     },
     "execution_count": 328,
     "metadata": {},
     "output_type": "execute_result"
    }
   ],
   "source": [
    "response = requests.get(url)\n",
    "soup = BeautifulSoup(response.text, 'html.parser')\n",
    "tree = etree.HTML(str(soup))\n",
    "table = tree.xpath(\".//table[contains(@class, 'infobox')]\")\n",
    "table_html = etree.tostring(table[0])\n",
    "df = pd.read_html(table_html)[0]\n",
    "df"
   ]
  },
  {
   "cell_type": "code",
   "execution_count": 318,
   "id": "03ecdef8-9d76-4513-a206-d60417eeec76",
   "metadata": {},
   "outputs": [
    {
     "data": {
      "text/html": [
       "<div>\n",
       "<style scoped>\n",
       "    .dataframe tbody tr th:only-of-type {\n",
       "        vertical-align: middle;\n",
       "    }\n",
       "\n",
       "    .dataframe tbody tr th {\n",
       "        vertical-align: top;\n",
       "    }\n",
       "\n",
       "    .dataframe thead th {\n",
       "        text-align: right;\n",
       "    }\n",
       "</style>\n",
       "<table border=\"1\" class=\"dataframe\">\n",
       "  <thead>\n",
       "    <tr style=\"text-align: right;\">\n",
       "      <th></th>\n",
       "      <th>William E. Carter</th>\n",
       "      <th>William E. Carter.1</th>\n",
       "    </tr>\n",
       "  </thead>\n",
       "  <tbody>\n",
       "    <tr>\n",
       "      <th>0</th>\n",
       "      <td>Born</td>\n",
       "      <td>William Ernest CarterPhiladelphia, Pennsylvani...</td>\n",
       "    </tr>\n",
       "    <tr>\n",
       "      <th>1</th>\n",
       "      <td>Died</td>\n",
       "      <td>March 20, 1940Palm Beach, Florida, USA</td>\n",
       "    </tr>\n",
       "    <tr>\n",
       "      <th>2</th>\n",
       "      <td>Nationality</td>\n",
       "      <td>American</td>\n",
       "    </tr>\n",
       "    <tr>\n",
       "      <th>3</th>\n",
       "      <td>Alma mater</td>\n",
       "      <td>University of Pennsylvania</td>\n",
       "    </tr>\n",
       "    <tr>\n",
       "      <th>4</th>\n",
       "      <td>Known for</td>\n",
       "      <td>surviving the RMS Titanic</td>\n",
       "    </tr>\n",
       "    <tr>\n",
       "      <th>5</th>\n",
       "      <td>Spouse(s)</td>\n",
       "      <td>Lucile Carter</td>\n",
       "    </tr>\n",
       "  </tbody>\n",
       "</table>\n",
       "</div>"
      ],
      "text/plain": [
       "  William E. Carter                                William E. Carter.1\n",
       "0              Born  William Ernest CarterPhiladelphia, Pennsylvani...\n",
       "1              Died             March 20, 1940Palm Beach, Florida, USA\n",
       "2       Nationality                                           American\n",
       "3        Alma mater                         University of Pennsylvania\n",
       "4         Known for                          surviving the RMS Titanic\n",
       "5         Spouse(s)                                      Lucile Carter"
      ]
     },
     "execution_count": 318,
     "metadata": {},
     "output_type": "execute_result"
    }
   ],
   "source": [
    "df.to_excel(writer, sheet_name=SHEET_1, index=False)"
   ]
  },
  {
   "cell_type": "code",
   "execution_count": 329,
   "id": "ad1bd75f-80c0-4819-82cf-5212caf78982",
   "metadata": {},
   "outputs": [
    {
     "data": {
      "text/plain": [
       "[('https://en.wikipedia.org//wiki/William_E._Carter',\n",
       "  'Carter, Mr. William Ernest'),\n",
       " ('https://en.wikipedia.org//wiki/Henry_S._Harper',\n",
       "  'Harper, Mr. Henry Sleeper'),\n",
       " ('https://en.wikipedia.org//wiki/Masabumi_Hosono', 'Hosono, Mr. Masabumi')]"
      ]
     },
     "execution_count": 329,
     "metadata": {},
     "output_type": "execute_result"
    }
   ],
   "source": [
    "people_urls"
   ]
  },
  {
   "cell_type": "code",
   "execution_count": 341,
   "id": "a6527f5b-13a8-4b71-b968-50866b5a80f0",
   "metadata": {},
   "outputs": [
    {
     "data": {
      "text/html": [
       "<div>\n",
       "<style scoped>\n",
       "    .dataframe tbody tr th:only-of-type {\n",
       "        vertical-align: middle;\n",
       "    }\n",
       "\n",
       "    .dataframe tbody tr th {\n",
       "        vertical-align: top;\n",
       "    }\n",
       "\n",
       "    .dataframe thead th {\n",
       "        text-align: right;\n",
       "    }\n",
       "</style>\n",
       "<table border=\"1\" class=\"dataframe\">\n",
       "  <thead>\n",
       "    <tr style=\"text-align: right;\">\n",
       "      <th></th>\n",
       "      <th>index</th>\n",
       "      <th>PassengerId</th>\n",
       "      <th>Name</th>\n",
       "      <th>Sex</th>\n",
       "      <th>Age</th>\n",
       "      <th>SibSp</th>\n",
       "      <th>Parch</th>\n",
       "      <th>index</th>\n",
       "      <th>PassengerId</th>\n",
       "      <th>Survived</th>\n",
       "    </tr>\n",
       "  </thead>\n",
       "  <tbody>\n",
       "    <tr>\n",
       "      <th>0</th>\n",
       "      <td>1</td>\n",
       "      <td>2</td>\n",
       "      <td>Cumings, Mrs. John Bradley (Florence Briggs Th...</td>\n",
       "      <td>female</td>\n",
       "      <td>38.0</td>\n",
       "      <td>1</td>\n",
       "      <td>0</td>\n",
       "      <td>1</td>\n",
       "      <td>2</td>\n",
       "      <td>1</td>\n",
       "    </tr>\n",
       "    <tr>\n",
       "      <th>1</th>\n",
       "      <td>11</td>\n",
       "      <td>12</td>\n",
       "      <td>Bonnell, Miss. Elizabeth</td>\n",
       "      <td>female</td>\n",
       "      <td>58.0</td>\n",
       "      <td>0</td>\n",
       "      <td>0</td>\n",
       "      <td>11</td>\n",
       "      <td>12</td>\n",
       "      <td>1</td>\n",
       "    </tr>\n",
       "    <tr>\n",
       "      <th>2</th>\n",
       "      <td>15</td>\n",
       "      <td>16</td>\n",
       "      <td>Hewlett, Mrs. (Mary D Kingcome)</td>\n",
       "      <td>female</td>\n",
       "      <td>55.0</td>\n",
       "      <td>0</td>\n",
       "      <td>0</td>\n",
       "      <td>15</td>\n",
       "      <td>16</td>\n",
       "      <td>1</td>\n",
       "    </tr>\n",
       "    <tr>\n",
       "      <th>3</th>\n",
       "      <td>25</td>\n",
       "      <td>26</td>\n",
       "      <td>Asplund, Mrs. Carl Oscar (Selma Augusta Emilia...</td>\n",
       "      <td>female</td>\n",
       "      <td>38.0</td>\n",
       "      <td>1</td>\n",
       "      <td>5</td>\n",
       "      <td>25</td>\n",
       "      <td>26</td>\n",
       "      <td>1</td>\n",
       "    </tr>\n",
       "    <tr>\n",
       "      <th>4</th>\n",
       "      <td>52</td>\n",
       "      <td>53</td>\n",
       "      <td>Harper, Mrs. Henry Sleeper (Myna Haxtun)</td>\n",
       "      <td>female</td>\n",
       "      <td>49.0</td>\n",
       "      <td>1</td>\n",
       "      <td>0</td>\n",
       "      <td>52</td>\n",
       "      <td>53</td>\n",
       "      <td>1</td>\n",
       "    </tr>\n",
       "    <tr>\n",
       "      <th>...</th>\n",
       "      <td>...</td>\n",
       "      <td>...</td>\n",
       "      <td>...</td>\n",
       "      <td>...</td>\n",
       "      <td>...</td>\n",
       "      <td>...</td>\n",
       "      <td>...</td>\n",
       "      <td>...</td>\n",
       "      <td>...</td>\n",
       "      <td>...</td>\n",
       "    </tr>\n",
       "    <tr>\n",
       "      <th>78</th>\n",
       "      <td>857</td>\n",
       "      <td>858</td>\n",
       "      <td>Daly, Mr. Peter Denis</td>\n",
       "      <td>male</td>\n",
       "      <td>51.0</td>\n",
       "      <td>0</td>\n",
       "      <td>0</td>\n",
       "      <td>857</td>\n",
       "      <td>858</td>\n",
       "      <td>1</td>\n",
       "    </tr>\n",
       "    <tr>\n",
       "      <th>79</th>\n",
       "      <td>862</td>\n",
       "      <td>863</td>\n",
       "      <td>Swift, Mrs. Frederick Joel (Margaret Welles Ba...</td>\n",
       "      <td>female</td>\n",
       "      <td>48.0</td>\n",
       "      <td>0</td>\n",
       "      <td>0</td>\n",
       "      <td>862</td>\n",
       "      <td>863</td>\n",
       "      <td>1</td>\n",
       "    </tr>\n",
       "    <tr>\n",
       "      <th>80</th>\n",
       "      <td>865</td>\n",
       "      <td>866</td>\n",
       "      <td>Bystrom, Mrs. (Karolina)</td>\n",
       "      <td>female</td>\n",
       "      <td>42.0</td>\n",
       "      <td>0</td>\n",
       "      <td>0</td>\n",
       "      <td>865</td>\n",
       "      <td>866</td>\n",
       "      <td>1</td>\n",
       "    </tr>\n",
       "    <tr>\n",
       "      <th>81</th>\n",
       "      <td>871</td>\n",
       "      <td>872</td>\n",
       "      <td>Beckwith, Mrs. Richard Leonard (Sallie Monypeny)</td>\n",
       "      <td>female</td>\n",
       "      <td>47.0</td>\n",
       "      <td>1</td>\n",
       "      <td>1</td>\n",
       "      <td>871</td>\n",
       "      <td>872</td>\n",
       "      <td>1</td>\n",
       "    </tr>\n",
       "    <tr>\n",
       "      <th>82</th>\n",
       "      <td>879</td>\n",
       "      <td>880</td>\n",
       "      <td>Potter, Mrs. Thomas Jr (Lily Alexenia Wilson)</td>\n",
       "      <td>female</td>\n",
       "      <td>56.0</td>\n",
       "      <td>0</td>\n",
       "      <td>1</td>\n",
       "      <td>879</td>\n",
       "      <td>880</td>\n",
       "      <td>1</td>\n",
       "    </tr>\n",
       "  </tbody>\n",
       "</table>\n",
       "<p>83 rows × 10 columns</p>\n",
       "</div>"
      ],
      "text/plain": [
       "    index  PassengerId                                               Name  \\\n",
       "0       1            2  Cumings, Mrs. John Bradley (Florence Briggs Th...   \n",
       "1      11           12                           Bonnell, Miss. Elizabeth   \n",
       "2      15           16                   Hewlett, Mrs. (Mary D Kingcome)    \n",
       "3      25           26  Asplund, Mrs. Carl Oscar (Selma Augusta Emilia...   \n",
       "4      52           53           Harper, Mrs. Henry Sleeper (Myna Haxtun)   \n",
       "..    ...          ...                                                ...   \n",
       "78    857          858                             Daly, Mr. Peter Denis    \n",
       "79    862          863  Swift, Mrs. Frederick Joel (Margaret Welles Ba...   \n",
       "80    865          866                           Bystrom, Mrs. (Karolina)   \n",
       "81    871          872   Beckwith, Mrs. Richard Leonard (Sallie Monypeny)   \n",
       "82    879          880      Potter, Mrs. Thomas Jr (Lily Alexenia Wilson)   \n",
       "\n",
       "       Sex   Age  SibSp  Parch  index  PassengerId  Survived  \n",
       "0   female  38.0      1      0      1            2         1  \n",
       "1   female  58.0      0      0     11           12         1  \n",
       "2   female  55.0      0      0     15           16         1  \n",
       "3   female  38.0      1      5     25           26         1  \n",
       "4   female  49.0      1      0     52           53         1  \n",
       "..     ...   ...    ...    ...    ...          ...       ...  \n",
       "78    male  51.0      0      0    857          858         1  \n",
       "79  female  48.0      0      0    862          863         1  \n",
       "80  female  42.0      0      0    865          866         1  \n",
       "81  female  47.0      1      1    871          872         1  \n",
       "82  female  56.0      0      1    879          880         1  \n",
       "\n",
       "[83 rows x 10 columns]"
      ]
     },
     "execution_count": 341,
     "metadata": {},
     "output_type": "execute_result"
    }
   ],
   "source": [
    "query"
   ]
  },
  {
   "cell_type": "code",
   "execution_count": 342,
   "id": "b1165f4c-6922-4f25-b26d-8c88820cc14d",
   "metadata": {},
   "outputs": [
    {
     "data": {
      "text/html": [
       "<div>\n",
       "<style scoped>\n",
       "    .dataframe tbody tr th:only-of-type {\n",
       "        vertical-align: middle;\n",
       "    }\n",
       "\n",
       "    .dataframe tbody tr th {\n",
       "        vertical-align: top;\n",
       "    }\n",
       "\n",
       "    .dataframe thead th {\n",
       "        text-align: right;\n",
       "    }\n",
       "</style>\n",
       "<table border=\"1\" class=\"dataframe\">\n",
       "  <thead>\n",
       "    <tr style=\"text-align: right;\">\n",
       "      <th></th>\n",
       "      <th>index</th>\n",
       "      <th>PassengerId</th>\n",
       "      <th>Name</th>\n",
       "      <th>Sex</th>\n",
       "      <th>Age</th>\n",
       "      <th>SibSp</th>\n",
       "      <th>Parch</th>\n",
       "      <th>index</th>\n",
       "      <th>PassengerId</th>\n",
       "      <th>Survived</th>\n",
       "    </tr>\n",
       "  </thead>\n",
       "  <tbody>\n",
       "    <tr>\n",
       "      <th>28</th>\n",
       "      <td>390</td>\n",
       "      <td>391</td>\n",
       "      <td>Carter, Mr. William Ernest</td>\n",
       "      <td>male</td>\n",
       "      <td>36.0</td>\n",
       "      <td>1</td>\n",
       "      <td>2</td>\n",
       "      <td>390</td>\n",
       "      <td>391</td>\n",
       "      <td>1</td>\n",
       "    </tr>\n",
       "  </tbody>\n",
       "</table>\n",
       "</div>"
      ],
      "text/plain": [
       "    index  PassengerId                        Name   Sex   Age  SibSp  Parch  \\\n",
       "28    390          391  Carter, Mr. William Ernest  male  36.0      1      2   \n",
       "\n",
       "    index  PassengerId  Survived  \n",
       "28    390          391         1  "
      ]
     },
     "execution_count": 342,
     "metadata": {},
     "output_type": "execute_result"
    }
   ],
   "source": [
    "query[query[\"Name\"] == 'Carter, Mr. William Ernest']"
   ]
  },
  {
   "cell_type": "code",
   "execution_count": 352,
   "id": "8b0667ea-990d-4ee3-ae5f-6f5b0c62a989",
   "metadata": {},
   "outputs": [
    {
     "name": "stderr",
     "output_type": "stream",
     "text": [
      "/tmp/ipykernel_44913/1237064217.py:14: FutureWarning: The frame.append method is deprecated and will be removed from pandas in a future version. Use pandas.concat instead.\n",
      "  df = df.append(df2)\n",
      "/tmp/ipykernel_44913/1237064217.py:14: FutureWarning: The frame.append method is deprecated and will be removed from pandas in a future version. Use pandas.concat instead.\n",
      "  df = df.append(df2)\n",
      "/tmp/ipykernel_44913/1237064217.py:14: FutureWarning: The frame.append method is deprecated and will be removed from pandas in a future version. Use pandas.concat instead.\n",
      "  df = df.append(df2)\n"
     ]
    }
   ],
   "source": [
    "EXCEL_TO_BE_SAVED = 'excel_to_be_saved.xlsx'\n",
    "writer = pd.ExcelWriter(EXCEL_TO_BE_SAVED, engine='xlsxwriter')\n",
    "\n",
    "for url, name in people_urls:\n",
    "    response = requests.get(url)\n",
    "    soup = BeautifulSoup(response.text, 'html.parser')\n",
    "    tree = etree.HTML(str(soup))\n",
    "    table = tree.xpath(\".//table[contains(@class, 'infobox')]\")\n",
    "    table_html = etree.tostring(table[0])\n",
    "    df = pd.read_html(table_html)[0]\n",
    "    df2 = query[query[\"Name\"] == name].transpose().reset_index()\n",
    "    df.columns = [\"a\",\"b\"]\n",
    "    df2.columns = [\"a\",\"b\"]\n",
    "    df = df.append(df2)\n",
    "    df.to_excel(writer, sheet_name=name, index=False, header=False)\n",
    "    \n",
    "writer.save()"
   ]
  },
  {
   "cell_type": "code",
   "execution_count": 336,
   "id": "0152a251-ac62-4abb-b36e-64eec3cd224c",
   "metadata": {},
   "outputs": [],
   "source": [
    "EXCEL_TO_BE_SAVED = 'excel_to_be_saved.xlsx'\n",
    "writer = pd.ExcelWriter(EXCEL_TO_BE_SAVED, engine='xlsxwriter')\n",
    "\n",
    "for url, name in people_urls:\n",
    "    response = requests.get(url)\n",
    "    soup = BeautifulSoup(response.text, 'html.parser')\n",
    "    tree = etree.HTML(str(soup))\n",
    "    table = tree.xpath(\".//table[contains(@class, 'infobox')]\")\n",
    "    table_html = etree.tostring(table[0])\n",
    "    df = pd.read_html(table_html)[0]\n",
    "    df.to_excel(writer, sheet_name=name, index=False, header=False)\n",
    "    \n",
    "writer.save()"
   ]
  }
 ],
 "metadata": {
  "kernelspec": {
   "display_name": "Python 3 (ipykernel)",
   "language": "python",
   "name": "python3"
  },
  "language_info": {
   "codemirror_mode": {
    "name": "ipython",
    "version": 3
   },
   "file_extension": ".py",
   "mimetype": "text/x-python",
   "name": "python",
   "nbconvert_exporter": "python",
   "pygments_lexer": "ipython3",
   "version": "3.9.7"
  }
 },
 "nbformat": 4,
 "nbformat_minor": 5
}
