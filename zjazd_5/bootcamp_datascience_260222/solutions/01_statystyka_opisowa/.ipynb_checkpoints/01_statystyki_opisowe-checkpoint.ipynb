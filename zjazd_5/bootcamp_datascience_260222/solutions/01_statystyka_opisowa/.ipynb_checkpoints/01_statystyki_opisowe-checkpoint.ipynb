{
 "cells": [
  {
   "cell_type": "markdown",
   "metadata": {},
   "source": [
    "# Statystyka opisowa"
   ]
  },
  {
   "cell_type": "code",
   "execution_count": 1,
   "metadata": {},
   "outputs": [],
   "source": [
    "import numpy as np\n",
    "import pandas as pd\n",
    "import matplotlib.pyplot as plt\n",
    "\n",
    "from scipy import stats"
   ]
  },
  {
   "cell_type": "markdown",
   "metadata": {},
   "source": [
    "## Statystyki próbkowe i metody opisu danych jakościowych"
   ]
  },
  {
   "cell_type": "markdown",
   "metadata": {},
   "source": [
    "## Zadanie - podstawowe statystyki\n",
    "Zaimplementować klase `Stats`, która posiada metody do wyznaczenia:\n",
    "\n",
    "a) średniej arytmetycznej,\n",
    "b) mediany,\n",
    "c) wariancji,\n",
    "d) odchylenia standardowego\n",
    "\n",
    "\n",
    "dla dowolnej danych $X$."
   ]
  },
  {
   "cell_type": "code",
   "execution_count": null,
   "metadata": {},
   "outputs": [],
   "source": [
    "?np.var\n",
    "# ddof -> 1 / (N - ddof) -> ddof = 1"
   ]
  },
  {
   "cell_type": "code",
   "execution_count": 2,
   "metadata": {},
   "outputs": [],
   "source": [
    "class Stats:\n",
    "    \n",
    "    def __init__(self, vec):\n",
    "        self.vec = vec\n",
    "    \n",
    "    def mean(self):\n",
    "        return np.mean(self.vec)\n",
    "    \n",
    "    def median(self):\n",
    "        return np.median(self.vec)\n",
    "    \n",
    "    def var(self):\n",
    "        return np.var(self.vec, ddof=1)\n",
    "    \n",
    "    def std(self):\n",
    "        return np.std(self.vec, ddof=1)"
   ]
  },
  {
   "cell_type": "code",
   "execution_count": 3,
   "metadata": {},
   "outputs": [],
   "source": [
    "a = [1, 2, 3, 4, 5, 6, 7, 8, 9, 10]\n",
    "\n",
    "stats = Stats(a)"
   ]
  },
  {
   "cell_type": "code",
   "execution_count": 4,
   "metadata": {},
   "outputs": [
    {
     "name": "stdout",
     "output_type": "stream",
     "text": [
      "5.5\n",
      "5.5\n",
      "9.166666666666666\n",
      "3.0276503540974917\n"
     ]
    }
   ],
   "source": [
    "print(stats.mean())\n",
    "print(stats.median())\n",
    "print(stats.var())\n",
    "print(stats.std())"
   ]
  },
  {
   "cell_type": "markdown",
   "metadata": {},
   "source": [
    "## Zadanie - boxplot, szereg rozdzielczy, histogram\n",
    "Firma budowlana zainteresowana jest jakością betonu. Jedną z pożądanych cech jest jego odpowiednia wytrzymałość na ściskanie. Aby sprawdzić, czy beton proponowany przez dostawcę spełnia normy jakości, przebadano 50 próbek i otrzymano następujące wyniki wytrzymałości na ściskanie:\n",
    "6.2, 16.7, 25.5, 17.5, 14.4, 27.7, 13.2, 21.2, 21.7, 12.1, 11.7, 27.6, 22.3, 22.8, 14.2, 19.1, 22.7, 16.7, 25.2, 24.9, 13.6,  9.7, 18. , 17.9, 26.3, 17.7, 13.9, 17.7, 22.7, 16.7, 18.8, 19.5, 21.7, 21.5, 19. , 14.6, 24.6, 20.9, 20.7, 21. , 18.4, 15.3, 22.1, 26. ,25.4, 14.1, 18.1, 23. , 14.9, 27.3.\n",
    "\n",
    "a) Obliczyć podstawowe statystyki próbkowe \n",
    "\n",
    "b) Sporządzić i opisać wykres skrzynkowy.\n",
    "\n",
    "c) ***Zbudować szereg rozdzielczy.\n",
    "\n",
    "d) Narysować histogram liczności.\n",
    "\n",
    "e) Narysować histogram skumulowanych liczności."
   ]
  },
  {
   "cell_type": "code",
   "execution_count": 2,
   "metadata": {},
   "outputs": [],
   "source": [
    "beton = np.array([6.2, 16.7, 25.5, 17.5, 14.4, 27.7, 13.2, 21.2, 21.7, \n",
    "                   12.1, 11.7, 27.6, 22.3, 22.8, 14.2, 19.1, 22.7, 16.7, \n",
    "                   25.2, 24.9, 13.6,  9.7, 18. , 17.9, 26.3, 17.7, 13.9, \n",
    "                   17.7, 22.7, 16.7, 18.8, 19.5, 21.7, 21.5, 19. , 14.6, \n",
    "                   24.6, 20.9, 20.7, 21. , 18.4, 15.3, 22.1, 26. ,25.4, \n",
    "                   14.1, 18.1, 23. , 14.9, 27.3])"
   ]
  },
  {
   "cell_type": "code",
   "execution_count": 3,
   "metadata": {},
   "outputs": [
    {
     "data": {
      "text/html": [
       "<div>\n",
       "<style scoped>\n",
       "    .dataframe tbody tr th:only-of-type {\n",
       "        vertical-align: middle;\n",
       "    }\n",
       "\n",
       "    .dataframe tbody tr th {\n",
       "        vertical-align: top;\n",
       "    }\n",
       "\n",
       "    .dataframe thead th {\n",
       "        text-align: right;\n",
       "    }\n",
       "</style>\n",
       "<table border=\"1\" class=\"dataframe\">\n",
       "  <thead>\n",
       "    <tr style=\"text-align: right;\">\n",
       "      <th></th>\n",
       "      <th>0</th>\n",
       "    </tr>\n",
       "  </thead>\n",
       "  <tbody>\n",
       "    <tr>\n",
       "      <th>count</th>\n",
       "      <td>50.000000</td>\n",
       "    </tr>\n",
       "    <tr>\n",
       "      <th>mean</th>\n",
       "      <td>19.290000</td>\n",
       "    </tr>\n",
       "    <tr>\n",
       "      <th>std</th>\n",
       "      <td>4.953302</td>\n",
       "    </tr>\n",
       "    <tr>\n",
       "      <th>min</th>\n",
       "      <td>6.200000</td>\n",
       "    </tr>\n",
       "    <tr>\n",
       "      <th>25%</th>\n",
       "      <td>15.650000</td>\n",
       "    </tr>\n",
       "    <tr>\n",
       "      <th>50%</th>\n",
       "      <td>19.050000</td>\n",
       "    </tr>\n",
       "    <tr>\n",
       "      <th>75%</th>\n",
       "      <td>22.700000</td>\n",
       "    </tr>\n",
       "    <tr>\n",
       "      <th>max</th>\n",
       "      <td>27.700000</td>\n",
       "    </tr>\n",
       "  </tbody>\n",
       "</table>\n",
       "</div>"
      ],
      "text/plain": [
       "               0\n",
       "count  50.000000\n",
       "mean   19.290000\n",
       "std     4.953302\n",
       "min     6.200000\n",
       "25%    15.650000\n",
       "50%    19.050000\n",
       "75%    22.700000\n",
       "max    27.700000"
      ]
     },
     "execution_count": 3,
     "metadata": {},
     "output_type": "execute_result"
    }
   ],
   "source": [
    "# a)\n",
    "stat = pd.DataFrame(beton).describe()\n",
    "stat"
   ]
  },
  {
   "cell_type": "code",
   "execution_count": 4,
   "metadata": {},
   "outputs": [
    {
     "data": {
      "image/png": "[encoded data removed]",
      "text/plain": [
       "<Figure size 432x288 with 1 Axes>"
      ]
     },
     "metadata": {
      "needs_background": "light"
     },
     "output_type": "display_data"
    }
   ],
   "source": [
    "# b)\n",
    "plt.boxplot(beton, vert=False, meanline=True, labels=[\"wytrzymałość\"])\n",
    "plt.show()"
   ]
  },
  {
   "cell_type": "code",
   "execution_count": 5,
   "metadata": {},
   "outputs": [
    {
     "data": {
      "text/plain": [
       "(0, 30)"
      ]
     },
     "execution_count": 5,
     "metadata": {},
     "output_type": "execute_result"
    },
    {
     "data": {
      "image/png": "[encoded data removed]",
      "text/plain": [
       "<Figure size 432x288 with 1 Axes>"
      ]
     },
     "metadata": {
      "needs_background": "light"
     },
     "output_type": "display_data"
    }
   ],
   "source": [
    "plt.boxplot(beton, vert=False, meanline=True, labels=[\"wytrzymałość\"])\n",
    "plt.xlim(0, 30)"
   ]
  },
  {
   "cell_type": "code",
   "execution_count": 7,
   "metadata": {},
   "outputs": [
    {
     "name": "stdout",
     "output_type": "stream",
     "text": [
      "6.2\n",
      "27.7\n"
     ]
    }
   ],
   "source": [
    "print(beton.min())\n",
    "print(beton.max())"
   ]
  },
  {
   "cell_type": "code",
   "execution_count": 10,
   "metadata": {},
   "outputs": [
    {
     "name": "stdout",
     "output_type": "stream",
     "text": [
      "5.075000000000006 33.27499999999999\n"
     ]
    }
   ],
   "source": [
    "q1 = np.quantile(beton, .25) \n",
    "q3 = np.quantile(beton, .75) \n",
    "iqr = q3 - q1\n",
    "\n",
    "print(q1 - 3 / 2 * iqr, q3 + 3 / 2 * iqr)"
   ]
  },
  {
   "cell_type": "code",
   "execution_count": 8,
   "metadata": {},
   "outputs": [
    {
     "name": "stdout",
     "output_type": "stream",
     "text": [
      "5.303300858899107 7.0710678118654755\n"
     ]
    }
   ],
   "source": [
    "# c)\n",
    "n = beton.size\n",
    "\n",
    "# wyznaczamy liczbę klas\n",
    "left_k = 0.75 * np.sqrt(n)\n",
    "right_k = np.sqrt(n)\n",
    "print(left_k, right_k) # => k = 6"
   ]
  },
  {
   "cell_type": "code",
   "execution_count": 9,
   "metadata": {},
   "outputs": [
    {
     "name": "stdout",
     "output_type": "stream",
     "text": [
      "3.58\n"
     ]
    }
   ],
   "source": [
    "k = 6\n",
    "\n",
    "# wyznaczamy długośc klasy\n",
    "bmin = beton.min()\n",
    "bmax = beton.max()\n",
    "\n",
    "d = np.round((bmax - bmin) / k, 2)\n",
    "print(d)"
   ]
  },
  {
   "cell_type": "code",
   "execution_count": 10,
   "metadata": {
    "scrolled": false
   },
   "outputs": [
    {
     "data": {
      "text/html": [
       "<div>\n",
       "<style scoped>\n",
       "    .dataframe tbody tr th:only-of-type {\n",
       "        vertical-align: middle;\n",
       "    }\n",
       "\n",
       "    .dataframe tbody tr th {\n",
       "        vertical-align: top;\n",
       "    }\n",
       "\n",
       "    .dataframe thead th {\n",
       "        text-align: right;\n",
       "    }\n",
       "</style>\n",
       "<table border=\"1\" class=\"dataframe\">\n",
       "  <thead>\n",
       "    <tr style=\"text-align: right;\">\n",
       "      <th></th>\n",
       "      <th>Interval</th>\n",
       "      <th>n</th>\n",
       "      <th>f</th>\n",
       "      <th>cn</th>\n",
       "      <th>cf</th>\n",
       "    </tr>\n",
       "  </thead>\n",
       "  <tbody>\n",
       "    <tr>\n",
       "      <th>0</th>\n",
       "      <td>[6.2, 9.78)</td>\n",
       "      <td>2.0</td>\n",
       "      <td>0.04</td>\n",
       "      <td>2.0</td>\n",
       "      <td>0.04</td>\n",
       "    </tr>\n",
       "    <tr>\n",
       "      <th>1</th>\n",
       "      <td>[9.78, 13.36)</td>\n",
       "      <td>3.0</td>\n",
       "      <td>0.06</td>\n",
       "      <td>5.0</td>\n",
       "      <td>0.10</td>\n",
       "    </tr>\n",
       "    <tr>\n",
       "      <th>2</th>\n",
       "      <td>[13.36, 16.94)</td>\n",
       "      <td>11.0</td>\n",
       "      <td>0.22</td>\n",
       "      <td>16.0</td>\n",
       "      <td>0.32</td>\n",
       "    </tr>\n",
       "    <tr>\n",
       "      <th>3</th>\n",
       "      <td>[16.94, 20.52)</td>\n",
       "      <td>11.0</td>\n",
       "      <td>0.22</td>\n",
       "      <td>27.0</td>\n",
       "      <td>0.54</td>\n",
       "    </tr>\n",
       "    <tr>\n",
       "      <th>4</th>\n",
       "      <td>[20.52, 24.1)</td>\n",
       "      <td>13.0</td>\n",
       "      <td>0.26</td>\n",
       "      <td>40.0</td>\n",
       "      <td>0.80</td>\n",
       "    </tr>\n",
       "    <tr>\n",
       "      <th>5</th>\n",
       "      <td>[24.1, 27.7]</td>\n",
       "      <td>10.0</td>\n",
       "      <td>0.20</td>\n",
       "      <td>50.0</td>\n",
       "      <td>1.00</td>\n",
       "    </tr>\n",
       "  </tbody>\n",
       "</table>\n",
       "</div>"
      ],
      "text/plain": [
       "         Interval     n     f    cn    cf\n",
       "0     [6.2, 9.78)   2.0  0.04   2.0  0.04\n",
       "1   [9.78, 13.36)   3.0  0.06   5.0  0.10\n",
       "2  [13.36, 16.94)  11.0  0.22  16.0  0.32\n",
       "3  [16.94, 20.52)  11.0  0.22  27.0  0.54\n",
       "4   [20.52, 24.1)  13.0  0.26  40.0  0.80\n",
       "5    [24.1, 27.7]  10.0  0.20  50.0  1.00"
      ]
     },
     "execution_count": 10,
     "metadata": {},
     "output_type": "execute_result"
    }
   ],
   "source": [
    "# wyznaczamy przedzialy klas\n",
    "left_bound = np.round(np.arange(bmin, bmax, d)[:k], 2)\n",
    "\n",
    "intervals = []\n",
    "n_size = np.zeros(k)\n",
    "\n",
    "# wyznaczamy szereg rozdzielczy\n",
    "make_interval = lambda x, y: \"[{}, {})\".format(x, y)\n",
    "make_closed_interval = lambda x, y: \"[{}, {}]\".format(x, y)\n",
    "\n",
    "for i in range(k-1):\n",
    "    l, r = left_bound[i], left_bound[i+1]\n",
    "    intervals.append(make_interval(l, r))\n",
    "    n_size[i] = np.sum((beton >= l) & (beton < r))\n",
    "         \n",
    "l, r = left_bound[k-1], bmax\n",
    "intervals.append(make_closed_interval(l, r))\n",
    "n_size[k-1] = np.sum((beton >= l) & (beton <= r))\n",
    "\n",
    "f = n_size / beton.size\n",
    "frequency_distribution = pd.DataFrame({'Interval': np.array(intervals), \n",
    "                                       'n': n_size, 'f': f, \n",
    "                                      'cn': np.cumsum(n_size), 'cf': np.cumsum(f)})\n",
    "frequency_distribution"
   ]
  },
  {
   "cell_type": "code",
   "execution_count": 11,
   "metadata": {},
   "outputs": [
    {
     "name": "stdout",
     "output_type": "stream",
     "text": [
      "(array([ 2.,  3., 11., 11., 13., 10.]), array([ 6.2       ,  9.78333333, 13.36666667, 16.95      , 20.53333333,\n",
      "       24.11666667, 27.7       ]), <a list of 6 Patch objects>)\n"
     ]
    },
    {
     "data": {
      "image/png": "[encoded data removed]",
      "text/plain": [
       "<Figure size 432x288 with 1 Axes>"
      ]
     },
     "metadata": {
      "needs_background": "light"
     },
     "output_type": "display_data"
    }
   ],
   "source": [
    "hist_data = plt.hist(beton, bins=k, width=3.5, align='mid')\n",
    "plt.xticks(list(left_bound) + [bmax], rotation=0)\n",
    "print(hist_data)"
   ]
  },
  {
   "cell_type": "code",
   "execution_count": 12,
   "metadata": {
    "scrolled": false
   },
   "outputs": [
    {
     "data": {
      "image/png": "[encoded data removed]",
      "text/plain": [
       "<Figure size 432x288 with 1 Axes>"
      ]
     },
     "metadata": {
      "needs_background": "light"
     },
     "output_type": "display_data"
    }
   ],
   "source": [
    "plt.hist(beton, bins=k, cumulative=True)\n",
    "plt.xticks(list(left_bound) + [bmax], rotation=40)\n",
    "plt.show()"
   ]
  },
  {
   "cell_type": "markdown",
   "metadata": {},
   "source": [
    "## Zadanie - porównanie średniej arytmetycznej i mediany\n",
    "Wczytaj dane `stats1.csv` opisujące pomiar pewnej długości przez dwóch różnych ekspertów. Porównaj ich rozkład oraz statystyki próbkowe."
   ]
  },
  {
   "cell_type": "code",
   "execution_count": 13,
   "metadata": {
    "scrolled": true
   },
   "outputs": [
    {
     "data": {
      "text/html": [
       "<div>\n",
       "<style scoped>\n",
       "    .dataframe tbody tr th:only-of-type {\n",
       "        vertical-align: middle;\n",
       "    }\n",
       "\n",
       "    .dataframe tbody tr th {\n",
       "        vertical-align: top;\n",
       "    }\n",
       "\n",
       "    .dataframe thead th {\n",
       "        text-align: right;\n",
       "    }\n",
       "</style>\n",
       "<table border=\"1\" class=\"dataframe\">\n",
       "  <thead>\n",
       "    <tr style=\"text-align: right;\">\n",
       "      <th></th>\n",
       "      <th>x</th>\n",
       "      <th>y</th>\n",
       "    </tr>\n",
       "  </thead>\n",
       "  <tbody>\n",
       "    <tr>\n",
       "      <th>0</th>\n",
       "      <td>10.968388</td>\n",
       "      <td>10.481487</td>\n",
       "    </tr>\n",
       "    <tr>\n",
       "      <th>1</th>\n",
       "      <td>11.035494</td>\n",
       "      <td>13.211230</td>\n",
       "    </tr>\n",
       "    <tr>\n",
       "      <th>2</th>\n",
       "      <td>3.805479</td>\n",
       "      <td>3.954873</td>\n",
       "    </tr>\n",
       "    <tr>\n",
       "      <th>3</th>\n",
       "      <td>3.402634</td>\n",
       "      <td>5.367647</td>\n",
       "    </tr>\n",
       "    <tr>\n",
       "      <th>4</th>\n",
       "      <td>7.527793</td>\n",
       "      <td>7.234025</td>\n",
       "    </tr>\n",
       "  </tbody>\n",
       "</table>\n",
       "</div>"
      ],
      "text/plain": [
       "           x          y\n",
       "0  10.968388  10.481487\n",
       "1  11.035494  13.211230\n",
       "2   3.805479   3.954873\n",
       "3   3.402634   5.367647\n",
       "4   7.527793   7.234025"
      ]
     },
     "execution_count": 13,
     "metadata": {},
     "output_type": "execute_result"
    }
   ],
   "source": [
    "stats1 = pd.read_csv('../data/stats1.csv')\n",
    "stats1.head(5)"
   ]
  },
  {
   "cell_type": "code",
   "execution_count": 31,
   "metadata": {},
   "outputs": [
    {
     "data": {
      "image/png": "[encoded data removed]",
      "text/plain": [
       "<Figure size 432x288 with 1 Axes>"
      ]
     },
     "metadata": {
      "needs_background": "light"
     },
     "output_type": "display_data"
    },
    {
     "data": {
      "image/png": "[encoded data removed]",
      "text/plain": [
       "<Figure size 432x288 with 1 Axes>"
      ]
     },
     "metadata": {
      "needs_background": "light"
     },
     "output_type": "display_data"
    }
   ],
   "source": [
    "plt.hist(stats1.x, bins=np.arange(0, 100, 2), color='r')\n",
    "plt.show()\n",
    "\n",
    "plt.hist(stats1.y, bins=np.arange(0, 100, 2), color='g')\n",
    "plt.show()"
   ]
  },
  {
   "cell_type": "code",
   "execution_count": 33,
   "metadata": {},
   "outputs": [
    {
     "data": {
      "text/html": [
       "<div>\n",
       "<style scoped>\n",
       "    .dataframe tbody tr th:only-of-type {\n",
       "        vertical-align: middle;\n",
       "    }\n",
       "\n",
       "    .dataframe tbody tr th {\n",
       "        vertical-align: top;\n",
       "    }\n",
       "\n",
       "    .dataframe thead th {\n",
       "        text-align: right;\n",
       "    }\n",
       "</style>\n",
       "<table border=\"1\" class=\"dataframe\">\n",
       "  <thead>\n",
       "    <tr style=\"text-align: right;\">\n",
       "      <th></th>\n",
       "      <th>x</th>\n",
       "      <th>y</th>\n",
       "    </tr>\n",
       "  </thead>\n",
       "  <tbody>\n",
       "    <tr>\n",
       "      <th>count</th>\n",
       "      <td>1000.000000</td>\n",
       "      <td>1000.000000</td>\n",
       "    </tr>\n",
       "    <tr>\n",
       "      <th>mean</th>\n",
       "      <td>4.956962</td>\n",
       "      <td>6.523673</td>\n",
       "    </tr>\n",
       "    <tr>\n",
       "      <th>std</th>\n",
       "      <td>3.165879</td>\n",
       "      <td>28.577406</td>\n",
       "    </tr>\n",
       "    <tr>\n",
       "      <th>min</th>\n",
       "      <td>0.289994</td>\n",
       "      <td>-1.198420</td>\n",
       "    </tr>\n",
       "    <tr>\n",
       "      <th>25%</th>\n",
       "      <td>2.660315</td>\n",
       "      <td>2.736644</td>\n",
       "    </tr>\n",
       "    <tr>\n",
       "      <th>50%</th>\n",
       "      <td>4.414328</td>\n",
       "      <td>4.530463</td>\n",
       "    </tr>\n",
       "    <tr>\n",
       "      <th>75%</th>\n",
       "      <td>6.575814</td>\n",
       "      <td>6.822966</td>\n",
       "    </tr>\n",
       "    <tr>\n",
       "      <th>max</th>\n",
       "      <td>27.866537</td>\n",
       "      <td>808.876344</td>\n",
       "    </tr>\n",
       "  </tbody>\n",
       "</table>\n",
       "</div>"
      ],
      "text/plain": [
       "                 x            y\n",
       "count  1000.000000  1000.000000\n",
       "mean      4.956962     6.523673\n",
       "std       3.165879    28.577406\n",
       "min       0.289994    -1.198420\n",
       "25%       2.660315     2.736644\n",
       "50%       4.414328     4.530463\n",
       "75%       6.575814     6.822966\n",
       "max      27.866537   808.876344"
      ]
     },
     "execution_count": 33,
     "metadata": {},
     "output_type": "execute_result"
    }
   ],
   "source": [
    "pd.DataFrame({'x': stats1.x, 'y': stats1.y}).describe()"
   ]
  },
  {
   "cell_type": "code",
   "execution_count": 34,
   "metadata": {},
   "outputs": [
    {
     "data": {
      "text/plain": [
       "103     30.095229\n",
       "158    808.876344\n",
       "240     17.864930\n",
       "323     18.376594\n",
       "380     99.305207\n",
       "467     56.603880\n",
       "524     18.773622\n",
       "592    214.653314\n",
       "658     18.098880\n",
       "699    329.789401\n",
       "Name: y, dtype: float64"
      ]
     },
     "execution_count": 34,
     "metadata": {},
     "output_type": "execute_result"
    }
   ],
   "source": [
    "stats1.y[np.where(stats1.y > np.quantile(stats1.y, 0.99))[0]]"
   ]
  },
  {
   "cell_type": "code",
   "execution_count": 35,
   "metadata": {},
   "outputs": [
    {
     "data": {
      "text/plain": [
       "103    27.866537\n",
       "240    18.567657\n",
       "323    18.175175\n",
       "357    16.665207\n",
       "428    16.983643\n",
       "503    16.255930\n",
       "524    17.507817\n",
       "658    17.966354\n",
       "687    16.704449\n",
       "892    16.168756\n",
       "Name: x, dtype: float64"
      ]
     },
     "execution_count": 35,
     "metadata": {},
     "output_type": "execute_result"
    }
   ],
   "source": [
    "stats1.x[np.where(stats1.x > np.quantile(stats1.x, 0.99))[0]]"
   ]
  },
  {
   "cell_type": "code",
   "execution_count": 37,
   "metadata": {},
   "outputs": [
    {
     "data": {
      "image/png": "[encoded data removed]",
      "text/plain": [
       "<Figure size 432x288 with 1 Axes>"
      ]
     },
     "metadata": {
      "needs_background": "light"
     },
     "output_type": "display_data"
    }
   ],
   "source": [
    "plt.boxplot([stats1.x, stats1.y], labels=['x', 'y'])\n",
    "plt.show()"
   ]
  },
  {
   "cell_type": "code",
   "execution_count": 38,
   "metadata": {
    "scrolled": true
   },
   "outputs": [
    {
     "data": {
      "text/plain": [
       "0      10.968388\n",
       "1      11.035494\n",
       "11      9.516011\n",
       "12     10.238225\n",
       "21     10.866259\n",
       "         ...    \n",
       "946    13.879620\n",
       "952    12.253985\n",
       "961     9.913486\n",
       "968     9.862946\n",
       "995    11.844055\n",
       "Name: x, Length: 83, dtype: float64"
      ]
     },
     "execution_count": 38,
     "metadata": {},
     "output_type": "execute_result"
    }
   ],
   "source": [
    "stats1.x[np.where(stats1.x > 3 * np.std(stats1.x))[0]]"
   ]
  },
  {
   "cell_type": "code",
   "execution_count": 39,
   "metadata": {},
   "outputs": [
    {
     "data": {
      "text/plain": [
       "158    808.876344\n",
       "380     99.305207\n",
       "592    214.653314\n",
       "699    329.789401\n",
       "Name: y, dtype: float64"
      ]
     },
     "execution_count": 39,
     "metadata": {},
     "output_type": "execute_result"
    }
   ],
   "source": [
    "stats1.y[np.where(stats1.y > 3 * np.std(stats1.y))[0]]"
   ]
  },
  {
   "cell_type": "markdown",
   "metadata": {},
   "source": [
    "**Wnioski:** \n",
    "- **średnia artymetyczna**:\n",
    "    + bierze pod uwagę całą próbę\n",
    "    - bardzo wrażliwa na wpływ obserwacji odstających, zwanych też outlierami - obserwacje odstające, to te wartości w próbie, które są bardzo małe albo bardzo duże w stosunku do ogółu obserwacji (najczęściej, choć nie zawsze, outliery są rezultatem błędów grubych, stąd też należy być bardzo ostrożnym przy wyciąganiu wniosków na podstawie próby zawierającej obserwacje odstające).\n",
    "- **mediana**:\n",
    "    + całkowicie odporna na wpływ obserwacji odstających, bowiem wyznaczana jest na podstawie środkowych wartości w próbie i ignoruje całkowicie wartości ekstremalne."
   ]
  },
  {
   "cell_type": "markdown",
   "metadata": {},
   "source": [
    "## Zadanie - współczynnik rozproszenia\n",
    "Wczytaj dane `stats2.csv` zawierające pomiary wagi słoni i myszy w pewnym zoo (w gramach). Wyznacz statystyki próbkowe i oceń, która próbka, opisująca wagę słoni, czy opisująca wagę myszy, ma większe rozproszenie wartości."
   ]
  },
  {
   "cell_type": "code",
   "execution_count": 40,
   "metadata": {},
   "outputs": [
    {
     "data": {
      "text/html": [
       "<div>\n",
       "<style scoped>\n",
       "    .dataframe tbody tr th:only-of-type {\n",
       "        vertical-align: middle;\n",
       "    }\n",
       "\n",
       "    .dataframe tbody tr th {\n",
       "        vertical-align: top;\n",
       "    }\n",
       "\n",
       "    .dataframe thead th {\n",
       "        text-align: right;\n",
       "    }\n",
       "</style>\n",
       "<table border=\"1\" class=\"dataframe\">\n",
       "  <thead>\n",
       "    <tr style=\"text-align: right;\">\n",
       "      <th></th>\n",
       "      <th>elephant</th>\n",
       "      <th>mouse</th>\n",
       "    </tr>\n",
       "  </thead>\n",
       "  <tbody>\n",
       "    <tr>\n",
       "      <th>0</th>\n",
       "      <td>3883240.0</td>\n",
       "      <td>21.0</td>\n",
       "    </tr>\n",
       "    <tr>\n",
       "      <th>1</th>\n",
       "      <td>4046450.0</td>\n",
       "      <td>18.0</td>\n",
       "    </tr>\n",
       "    <tr>\n",
       "      <th>2</th>\n",
       "      <td>4152119.0</td>\n",
       "      <td>22.0</td>\n",
       "    </tr>\n",
       "    <tr>\n",
       "      <th>3</th>\n",
       "      <td>2578306.0</td>\n",
       "      <td>23.0</td>\n",
       "    </tr>\n",
       "    <tr>\n",
       "      <th>4</th>\n",
       "      <td>3597481.0</td>\n",
       "      <td>25.0</td>\n",
       "    </tr>\n",
       "  </tbody>\n",
       "</table>\n",
       "</div>"
      ],
      "text/plain": [
       "    elephant  mouse\n",
       "0  3883240.0   21.0\n",
       "1  4046450.0   18.0\n",
       "2  4152119.0   22.0\n",
       "3  2578306.0   23.0\n",
       "4  3597481.0   25.0"
      ]
     },
     "execution_count": 40,
     "metadata": {},
     "output_type": "execute_result"
    }
   ],
   "source": [
    "weight = pd.read_csv('../data/stats2.csv')\n",
    "weight.head(5)"
   ]
  },
  {
   "cell_type": "code",
   "execution_count": 49,
   "metadata": {},
   "outputs": [
    {
     "data": {
      "text/html": [
       "<div>\n",
       "<style scoped>\n",
       "    .dataframe tbody tr th:only-of-type {\n",
       "        vertical-align: middle;\n",
       "    }\n",
       "\n",
       "    .dataframe tbody tr th {\n",
       "        vertical-align: top;\n",
       "    }\n",
       "\n",
       "    .dataframe thead th {\n",
       "        text-align: right;\n",
       "    }\n",
       "</style>\n",
       "<table border=\"1\" class=\"dataframe\">\n",
       "  <thead>\n",
       "    <tr style=\"text-align: right;\">\n",
       "      <th></th>\n",
       "      <th>elephant</th>\n",
       "      <th>mouse</th>\n",
       "    </tr>\n",
       "  </thead>\n",
       "  <tbody>\n",
       "    <tr>\n",
       "      <th>count</th>\n",
       "      <td>1.000000e+02</td>\n",
       "      <td>100.000000</td>\n",
       "    </tr>\n",
       "    <tr>\n",
       "      <th>mean</th>\n",
       "      <td>4.017328e+06</td>\n",
       "      <td>20.470000</td>\n",
       "    </tr>\n",
       "    <tr>\n",
       "      <th>std</th>\n",
       "      <td>4.998078e+05</td>\n",
       "      <td>2.886594</td>\n",
       "    </tr>\n",
       "    <tr>\n",
       "      <th>min</th>\n",
       "      <td>2.578306e+06</td>\n",
       "      <td>13.000000</td>\n",
       "    </tr>\n",
       "    <tr>\n",
       "      <th>25%</th>\n",
       "      <td>3.685120e+06</td>\n",
       "      <td>19.000000</td>\n",
       "    </tr>\n",
       "    <tr>\n",
       "      <th>50%</th>\n",
       "      <td>4.046994e+06</td>\n",
       "      <td>20.000000</td>\n",
       "    </tr>\n",
       "    <tr>\n",
       "      <th>75%</th>\n",
       "      <td>4.380402e+06</td>\n",
       "      <td>22.000000</td>\n",
       "    </tr>\n",
       "    <tr>\n",
       "      <th>max</th>\n",
       "      <td>5.246947e+06</td>\n",
       "      <td>27.000000</td>\n",
       "    </tr>\n",
       "  </tbody>\n",
       "</table>\n",
       "</div>"
      ],
      "text/plain": [
       "           elephant       mouse\n",
       "count  1.000000e+02  100.000000\n",
       "mean   4.017328e+06   20.470000\n",
       "std    4.998078e+05    2.886594\n",
       "min    2.578306e+06   13.000000\n",
       "25%    3.685120e+06   19.000000\n",
       "50%    4.046994e+06   20.000000\n",
       "75%    4.380402e+06   22.000000\n",
       "max    5.246947e+06   27.000000"
      ]
     },
     "execution_count": 49,
     "metadata": {},
     "output_type": "execute_result"
    }
   ],
   "source": [
    "s = weight.describe()\n",
    "s"
   ]
  },
  {
   "cell_type": "code",
   "execution_count": 42,
   "metadata": {},
   "outputs": [
    {
     "data": {
      "text/plain": [
       "elephant    499807.845364\n",
       "mouse            2.886594\n",
       "Name: std, dtype: float64"
      ]
     },
     "execution_count": 42,
     "metadata": {},
     "output_type": "execute_result"
    }
   ],
   "source": [
    "# odchylenie standardowe\n",
    "weight.describe().loc['std']"
   ]
  },
  {
   "cell_type": "code",
   "execution_count": 43,
   "metadata": {},
   "outputs": [
    {
     "data": {
      "text/plain": [
       "(2668641.0, 14.0)"
      ]
     },
     "execution_count": 43,
     "metadata": {},
     "output_type": "execute_result"
    }
   ],
   "source": [
    "# Rozstęp\n",
    "weight.elephant.max() - weight.elephant.min(), weight.mouse.max() - weight.mouse.min()"
   ]
  },
  {
   "cell_type": "code",
   "execution_count": 46,
   "metadata": {},
   "outputs": [
    {
     "data": {
      "text/plain": [
       "(695281.75, 3.0)"
      ]
     },
     "execution_count": 46,
     "metadata": {},
     "output_type": "execute_result"
    }
   ],
   "source": [
    "# Rozstęp międzykwartylowy\n",
    "stats.iqr(weight.elephant), stats.iqr(weight.mouse)"
   ]
  },
  {
   "cell_type": "markdown",
   "metadata": {},
   "source": [
    "**Uwaga**: W sytuacji, gdy chcemy porównanć rozrzut dwóch lub więcej prób, nieraz wygodniej jest skorzystać ze względnej miary rozproszenia - **współczynnika rozproszenia**:\n",
    "$$\n",
    "V = \\frac{S}{\\overline{X}}\\cdot 100\\%.\n",
    "$$\n"
   ]
  },
  {
   "cell_type": "code",
   "execution_count": 50,
   "metadata": {},
   "outputs": [
    {
     "data": {
      "text/plain": [
       "elephant    12.441300\n",
       "mouse       14.101582\n",
       "dtype: float64"
      ]
     },
     "execution_count": 50,
     "metadata": {},
     "output_type": "execute_result"
    }
   ],
   "source": [
    "s.loc['std'] / s.loc['mean'] * 100"
   ]
  },
  {
   "cell_type": "markdown",
   "metadata": {},
   "source": [
    "## Miara korelacji — współczynnik korelacji Pearsona"
   ]
  },
  {
   "cell_type": "markdown",
   "metadata": {},
   "source": [
    "W przypadku jednoczesnego badania dwóch cech pewnej populacji naszą próbą jest ciąg par $$(X_1, Y_1),\\ldots,(X_n, Y_n),$$ gdzie $X_i$ oraz $Y_i$ oznaczają, odpowiednio, wartości pierwszej i drugiej cechy przyjmowane przez $i$-ty element próby.\n",
    "\n",
    "Wówczas **współczynnik korelacji Pearsona** jest dany wzorem\n",
    "\\begin{equation*}\n",
    "    r = \\frac{\\sum_{i=1}^n(X_i-\\overline{X})(Y_i-\\overline{Y})}{\\sqrt{\\sum_{i=1}^n(X_i-\\overline{X})^2\\sum_{i=1}^n(Y_i-\\overline{Y})^2}}.\n",
    "\\end{equation*}"
   ]
  },
  {
   "cell_type": "code",
   "execution_count": null,
   "metadata": {},
   "outputs": [],
   "source": [
    "?np.corrcoef"
   ]
  },
  {
   "cell_type": "markdown",
   "metadata": {},
   "source": [
    "## Zadanie - korelacja liniowa\n",
    "Wygeneruj próbkę $X$ z wybranego przez siebie rozkładu i oblicz wartość elementów próbki $Y$ zgodnie ze wzorem\n",
    "\n",
    "a) $Y = X$,\n",
    "\n",
    "b) $Y = 5X$,\n",
    "\n",
    "c) $Y = -5X$,\n",
    "\n",
    "d) $Y = X^2$,\n",
    "\n",
    "f) $Y = \\exp(X)$,\n",
    "\n",
    "g) $Y = \\sin(X)$, \n",
    "\n",
    "a następnie oblicz współczynnik korelacji pomiędzy zmiennymi $X$ i $Y$."
   ]
  },
  {
   "cell_type": "code",
   "execution_count": 51,
   "metadata": {
    "scrolled": false
   },
   "outputs": [
    {
     "data": {
      "text/plain": [
       "<matplotlib.legend.Legend at 0x7f72482b7cd0>"
      ]
     },
     "execution_count": 51,
     "metadata": {},
     "output_type": "execute_result"
    },
    {
     "data": {
      "image/png": "[encoded data removed]",
      "text/plain": [
       "<Figure size 1440x720 with 6 Axes>"
      ]
     },
     "metadata": {
      "needs_background": "light"
     },
     "output_type": "display_data"
    }
   ],
   "source": [
    "f1 = lambda x: x\n",
    "f2 = lambda a, x: a * x\n",
    "f3 = lambda a, x: x ** a\n",
    "f4 = lambda x: np.exp(x)\n",
    "f5 = lambda x: np.sin(x)\n",
    "\n",
    "x = stats.norm.rvs(size=10000, loc=0, scale=1)\n",
    "ya = f1(x)\n",
    "yb = f2(5, x)\n",
    "yc = f2(-5, x)\n",
    "yd = f3(2, x)\n",
    "yf = f4(x)\n",
    "yg = f5(x)\n",
    "\n",
    "fig, ax = plt.subplots(2, 3, figsize=(20, 10))\n",
    "ax[0, 0].plot(x, ya, \"p\", label=\"ya, cor={}\".format(np.round(np.corrcoef(x, ya)[0, 1], 2)))\n",
    "ax[0, 0].legend(loc='best', frameon=False)\n",
    "ax[0, 1].plot(x, yb, \"p\", label=\"yb, cor={}\".format(np.round(np.corrcoef(x, yb)[0, 1], 2)))\n",
    "ax[0, 1].legend(loc='best', frameon=False)\n",
    "ax[0, 2].plot(x, yc, \"p\", label=\"yc, cor={}\".format(np.round(np.corrcoef(x, yc)[0, 1], 2)))\n",
    "ax[0, 2].legend(loc='best', frameon=False)\n",
    "ax[1, 0].plot(x, yd, \"p\", label=\"yd, cor={}\".format(np.round(np.corrcoef(x, yd)[0, 1], 2)))\n",
    "ax[1, 0].legend(loc='best', frameon=False)\n",
    "ax[1, 1].plot(x, yf, \"p\", label=\"yf, cor={}\".format(np.round(np.corrcoef(x, yf)[0, 1], 2)))\n",
    "ax[1, 1].legend(loc='best', frameon=False)\n",
    "ax[1, 2].plot(x, yg, \"p\", label=\"yg, cor={}\".format(np.round(np.corrcoef(x, yg)[0, 1], 2)))\n",
    "ax[1, 2].legend(loc='best', frameon=False)"
   ]
  },
  {
   "cell_type": "markdown",
   "metadata": {},
   "source": [
    "**Wniosak**:\n",
    "- zerowa korelacja nie oznacza braku zależności, np. związek $y=x^2$."
   ]
  },
  {
   "cell_type": "markdown",
   "metadata": {},
   "source": [
    "## Zadanie - korelacja liniowa\n",
    "Wygeneruj $n$ par niezależnych zmiennych losowych, dla każdej z nich wyznacz współczynnik korelacji, a następnie sprawdź rozkład otrzymanych współczynników."
   ]
  },
  {
   "cell_type": "code",
   "execution_count": 52,
   "metadata": {},
   "outputs": [],
   "source": [
    "n = 1000\n",
    "n_sample = 100\n",
    "\n",
    "cor = np.zeros(n)\n",
    "\n",
    "for i in range(n):\n",
    "    x = stats.norm.rvs(size=n_sample, loc=0, scale=1)\n",
    "    y = stats.uniform.rvs(size=n_sample, loc = -2, scale=4)\n",
    "    cor[i] = np.corrcoef(x, y)[0, 1]"
   ]
  },
  {
   "cell_type": "code",
   "execution_count": 53,
   "metadata": {
    "scrolled": true
   },
   "outputs": [
    {
     "data": {
      "text/html": [
       "<div>\n",
       "<style scoped>\n",
       "    .dataframe tbody tr th:only-of-type {\n",
       "        vertical-align: middle;\n",
       "    }\n",
       "\n",
       "    .dataframe tbody tr th {\n",
       "        vertical-align: top;\n",
       "    }\n",
       "\n",
       "    .dataframe thead th {\n",
       "        text-align: right;\n",
       "    }\n",
       "</style>\n",
       "<table border=\"1\" class=\"dataframe\">\n",
       "  <thead>\n",
       "    <tr style=\"text-align: right;\">\n",
       "      <th></th>\n",
       "      <th>0</th>\n",
       "    </tr>\n",
       "  </thead>\n",
       "  <tbody>\n",
       "    <tr>\n",
       "      <th>count</th>\n",
       "      <td>1000.000000</td>\n",
       "    </tr>\n",
       "    <tr>\n",
       "      <th>mean</th>\n",
       "      <td>0.000814</td>\n",
       "    </tr>\n",
       "    <tr>\n",
       "      <th>std</th>\n",
       "      <td>0.103310</td>\n",
       "    </tr>\n",
       "    <tr>\n",
       "      <th>min</th>\n",
       "      <td>-0.309250</td>\n",
       "    </tr>\n",
       "    <tr>\n",
       "      <th>25%</th>\n",
       "      <td>-0.070850</td>\n",
       "    </tr>\n",
       "    <tr>\n",
       "      <th>50%</th>\n",
       "      <td>0.002908</td>\n",
       "    </tr>\n",
       "    <tr>\n",
       "      <th>75%</th>\n",
       "      <td>0.070641</td>\n",
       "    </tr>\n",
       "    <tr>\n",
       "      <th>max</th>\n",
       "      <td>0.325305</td>\n",
       "    </tr>\n",
       "  </tbody>\n",
       "</table>\n",
       "</div>"
      ],
      "text/plain": [
       "                 0\n",
       "count  1000.000000\n",
       "mean      0.000814\n",
       "std       0.103310\n",
       "min      -0.309250\n",
       "25%      -0.070850\n",
       "50%       0.002908\n",
       "75%       0.070641\n",
       "max       0.325305"
      ]
     },
     "execution_count": 53,
     "metadata": {},
     "output_type": "execute_result"
    }
   ],
   "source": [
    "pd.DataFrame(cor).describe()"
   ]
  },
  {
   "cell_type": "markdown",
   "metadata": {},
   "source": [
    "**Wniosek**: Niezależne zmienne losowe moga mieć niezerową korelację."
   ]
  },
  {
   "cell_type": "markdown",
   "metadata": {},
   "source": [
    "## Zadanie\n",
    "Wczytaj zbiór danych `boston_prediction.csv`, który zawiera dane z predykcji dwóch modeli cen mieszkań w Bostonie (więcej na temat zbioru, na podstawie, którego zbudowano modele możesz przeczytać, np. https://stat.ethz.ch/R-manual/R-devel/library/MASS/html/Boston.html).\n",
    "\n",
    "Oceń jakość predykcji obu modeli: policz średnią, medianę, kwartyl rzędu 90% oraz odchylenie standardowe dla błędu bezwzględnego i względnego oraz korelację wartości przewidywanych z prawdziwymi. Wyciągnąć wnioski na temat działania obu modeli."
   ]
  },
  {
   "cell_type": "markdown",
   "metadata": {},
   "source": [
    "**Wskazówka**:\n",
    "\n",
    "**Błąd bezwzględny** liczymy ze wzoru:\n",
    "$$\n",
    "\\Delta x = |x-x_0|.\n",
    "$$\n",
    "\n",
    "**Błąd względny** liczymy ze wzoru:\n",
    "$$\n",
    "\\delta = \\frac{\\Delta x}{x}.\n",
    "$$\n",
    "\n",
    "Oznaczenia: $x$ - wartość dokładna, $x_0$ - wartość zmierzona."
   ]
  },
  {
   "cell_type": "code",
   "execution_count": 54,
   "metadata": {},
   "outputs": [],
   "source": [
    "# https://stat.ethz.ch/R-manual/R-devel/library/MASS/html/Boston.html\n",
    "from sklearn.datasets import load_boston\n",
    "X, y = load_boston(return_X_y=True)"
   ]
  },
  {
   "cell_type": "code",
   "execution_count": 55,
   "metadata": {},
   "outputs": [
    {
     "data": {
      "text/html": [
       "<div>\n",
       "<style scoped>\n",
       "    .dataframe tbody tr th:only-of-type {\n",
       "        vertical-align: middle;\n",
       "    }\n",
       "\n",
       "    .dataframe tbody tr th {\n",
       "        vertical-align: top;\n",
       "    }\n",
       "\n",
       "    .dataframe thead th {\n",
       "        text-align: right;\n",
       "    }\n",
       "</style>\n",
       "<table border=\"1\" class=\"dataframe\">\n",
       "  <thead>\n",
       "    <tr style=\"text-align: right;\">\n",
       "      <th></th>\n",
       "      <th>price</th>\n",
       "      <th>model_pred</th>\n",
       "      <th>model_pred2</th>\n",
       "    </tr>\n",
       "  </thead>\n",
       "  <tbody>\n",
       "    <tr>\n",
       "      <th>0</th>\n",
       "      <td>24.0</td>\n",
       "      <td>30.0</td>\n",
       "      <td>27.4</td>\n",
       "    </tr>\n",
       "    <tr>\n",
       "      <th>1</th>\n",
       "      <td>21.6</td>\n",
       "      <td>25.0</td>\n",
       "      <td>21.7</td>\n",
       "    </tr>\n",
       "    <tr>\n",
       "      <th>2</th>\n",
       "      <td>34.7</td>\n",
       "      <td>30.6</td>\n",
       "      <td>33.7</td>\n",
       "    </tr>\n",
       "    <tr>\n",
       "      <th>3</th>\n",
       "      <td>33.4</td>\n",
       "      <td>28.6</td>\n",
       "      <td>33.7</td>\n",
       "    </tr>\n",
       "    <tr>\n",
       "      <th>4</th>\n",
       "      <td>36.2</td>\n",
       "      <td>27.9</td>\n",
       "      <td>33.7</td>\n",
       "    </tr>\n",
       "  </tbody>\n",
       "</table>\n",
       "</div>"
      ],
      "text/plain": [
       "   price  model_pred  model_pred2\n",
       "0   24.0        30.0         27.4\n",
       "1   21.6        25.0         21.7\n",
       "2   34.7        30.6         33.7\n",
       "3   33.4        28.6         33.7\n",
       "4   36.2        27.9         33.7"
      ]
     },
     "execution_count": 55,
     "metadata": {},
     "output_type": "execute_result"
    }
   ],
   "source": [
    "boston_pred = pd.read_csv(\"../data/boston_prediction.csv\")\n",
    "boston_pred.head(5)"
   ]
  },
  {
   "cell_type": "code",
   "execution_count": 56,
   "metadata": {
    "scrolled": true
   },
   "outputs": [
    {
     "data": {
      "text/html": [
       "<div>\n",
       "<style scoped>\n",
       "    .dataframe tbody tr th:only-of-type {\n",
       "        vertical-align: middle;\n",
       "    }\n",
       "\n",
       "    .dataframe tbody tr th {\n",
       "        vertical-align: top;\n",
       "    }\n",
       "\n",
       "    .dataframe thead th {\n",
       "        text-align: right;\n",
       "    }\n",
       "</style>\n",
       "<table border=\"1\" class=\"dataframe\">\n",
       "  <thead>\n",
       "    <tr style=\"text-align: right;\">\n",
       "      <th></th>\n",
       "      <th>price</th>\n",
       "      <th>model_pred</th>\n",
       "      <th>model_pred2</th>\n",
       "    </tr>\n",
       "  </thead>\n",
       "  <tbody>\n",
       "    <tr>\n",
       "      <th>count</th>\n",
       "      <td>506.000000</td>\n",
       "      <td>506.000000</td>\n",
       "      <td>506.000000</td>\n",
       "    </tr>\n",
       "    <tr>\n",
       "      <th>mean</th>\n",
       "      <td>22.532806</td>\n",
       "      <td>22.532016</td>\n",
       "      <td>22.539921</td>\n",
       "    </tr>\n",
       "    <tr>\n",
       "      <th>std</th>\n",
       "      <td>9.197104</td>\n",
       "      <td>7.913610</td>\n",
       "      <td>8.258947</td>\n",
       "    </tr>\n",
       "    <tr>\n",
       "      <th>min</th>\n",
       "      <td>5.000000</td>\n",
       "      <td>-4.300000</td>\n",
       "      <td>12.000000</td>\n",
       "    </tr>\n",
       "    <tr>\n",
       "      <th>25%</th>\n",
       "      <td>17.025000</td>\n",
       "      <td>17.425000</td>\n",
       "      <td>17.100000</td>\n",
       "    </tr>\n",
       "    <tr>\n",
       "      <th>50%</th>\n",
       "      <td>21.200000</td>\n",
       "      <td>22.100000</td>\n",
       "      <td>21.700000</td>\n",
       "    </tr>\n",
       "    <tr>\n",
       "      <th>75%</th>\n",
       "      <td>25.000000</td>\n",
       "      <td>27.400000</td>\n",
       "      <td>27.400000</td>\n",
       "    </tr>\n",
       "    <tr>\n",
       "      <th>max</th>\n",
       "      <td>50.000000</td>\n",
       "      <td>44.700000</td>\n",
       "      <td>45.100000</td>\n",
       "    </tr>\n",
       "  </tbody>\n",
       "</table>\n",
       "</div>"
      ],
      "text/plain": [
       "            price  model_pred  model_pred2\n",
       "count  506.000000  506.000000   506.000000\n",
       "mean    22.532806   22.532016    22.539921\n",
       "std      9.197104    7.913610     8.258947\n",
       "min      5.000000   -4.300000    12.000000\n",
       "25%     17.025000   17.425000    17.100000\n",
       "50%     21.200000   22.100000    21.700000\n",
       "75%     25.000000   27.400000    27.400000\n",
       "max     50.000000   44.700000    45.100000"
      ]
     },
     "execution_count": 56,
     "metadata": {},
     "output_type": "execute_result"
    }
   ],
   "source": [
    "boston_pred.describe()"
   ]
  },
  {
   "cell_type": "code",
   "execution_count": 57,
   "metadata": {},
   "outputs": [
    {
     "data": {
      "text/plain": [
       "array([34.8, 33.3, 33.7])"
      ]
     },
     "execution_count": 57,
     "metadata": {},
     "output_type": "execute_result"
    }
   ],
   "source": [
    "np.quantile(boston_pred, q=0.90, axis=0)"
   ]
  },
  {
   "cell_type": "code",
   "execution_count": 58,
   "metadata": {},
   "outputs": [
    {
     "name": "stdout",
     "output_type": "stream",
     "text": [
      "--- Model 1 - błąd bezwzględny ---\n",
      "                0\n",
      "count  506.000000\n",
      "mean     3.269565\n",
      "std      3.349465\n",
      "min      0.000000\n",
      "25%      1.000000\n",
      "50%      2.450000\n",
      "75%      4.500000\n",
      "max     26.200000\n",
      "--- Model 2 - błąd bezwzględny ---\n",
      "                0\n",
      "count  506.000000\n",
      "mean     2.909881\n",
      "std      2.791767\n",
      "min      0.000000\n",
      "25%      1.100000\n",
      "50%      2.300000\n",
      "75%      3.700000\n",
      "max     23.200000\n"
     ]
    }
   ],
   "source": [
    "# blad bezwzgledny\n",
    "\n",
    "print(\"--- Model 1 - błąd bezwzględny ---\")\n",
    "print(pd.DataFrame(np.abs(boston_pred.price - boston_pred.model_pred)).describe())\n",
    "\n",
    "print(\"--- Model 2 - błąd bezwzględny ---\")\n",
    "print(pd.DataFrame(np.abs(boston_pred.price - boston_pred.model_pred2)).describe())\n"
   ]
  },
  {
   "cell_type": "code",
   "execution_count": 59,
   "metadata": {},
   "outputs": [
    {
     "name": "stdout",
     "output_type": "stream",
     "text": [
      "--- Model 1 - błąd względny ---\n",
      "                0\n",
      "count  506.000000\n",
      "mean     0.164097\n",
      "std      0.185470\n",
      "min      0.000000\n",
      "25%      0.046101\n",
      "50%      0.114476\n",
      "75%      0.215397\n",
      "max      1.614286\n",
      "--- Model 2 - błąd względny ---\n",
      "                0\n",
      "count  506.000000\n",
      "mean     0.154650\n",
      "std      0.193455\n",
      "min      0.000000\n",
      "25%      0.052651\n",
      "50%      0.102473\n",
      "75%      0.179003\n",
      "max      1.533333\n"
     ]
    }
   ],
   "source": [
    "# blad wzgledny\n",
    "\n",
    "print(\"--- Model 1 - błąd względny ---\")\n",
    "print(pd.DataFrame(np.abs(boston_pred.price - boston_pred.model_pred) / boston_pred.price).describe())\n",
    "\n",
    "print(\"--- Model 2 - błąd względny ---\")\n",
    "print(pd.DataFrame(np.abs(boston_pred.price - boston_pred.model_pred2) / boston_pred.price).describe())"
   ]
  },
  {
   "cell_type": "code",
   "execution_count": 66,
   "metadata": {},
   "outputs": [
    {
     "name": "stdout",
     "output_type": "stream",
     "text": [
      "--- Model 1 - korelacja ---\n",
      "0.8606612985241783\n",
      "--- Model 2 - korelacja ---\n",
      "0.8986422163603659\n"
     ]
    }
   ],
   "source": [
    "# korelacja\n",
    "\n",
    "print(\"--- Model 1 - korelacja ---\")\n",
    "print(np.corrcoef(boston_pred.price, boston_pred.model_pred)[0, 1])\n",
    "\n",
    "print(\"--- Model 2 - korelacja ---\")\n",
    "print(np.corrcoef(boston_pred.price, boston_pred.model_pred2)[0, 1])"
   ]
  }
 ],
 "metadata": {
  "kernelspec": {
   "display_name": "Python 3",
   "language": "python",
   "name": "python3"
  },
  "language_info": {
   "codemirror_mode": {
    "name": "ipython",
    "version": 3
   },
   "file_extension": ".py",
   "mimetype": "text/x-python",
   "name": "python",
   "nbconvert_exporter": "python",
   "pygments_lexer": "ipython3",
   "version": "3.8.8"
  }
 },
 "nbformat": 4,
 "nbformat_minor": 2
}
