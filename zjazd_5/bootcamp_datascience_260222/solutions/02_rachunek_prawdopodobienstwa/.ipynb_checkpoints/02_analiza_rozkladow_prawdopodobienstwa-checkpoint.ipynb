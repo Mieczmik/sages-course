{
 "cells": [
  {
   "cell_type": "markdown",
   "metadata": {},
   "source": [
    "# Analiza rozkładów prawdopobieństwa"
   ]
  },
  {
   "cell_type": "code",
   "execution_count": 1,
   "metadata": {},
   "outputs": [],
   "source": [
    "import numpy as np\n",
    "import matplotlib.pyplot as plt\n",
    "\n",
    "from scipy import stats"
   ]
  },
  {
   "cell_type": "markdown",
   "metadata": {},
   "source": [
    "## Zadanie - rozkład dyskretny\n",
    "Zmienna losowa $X$ ma funkcje prawdopodobieństwa nastepującej postaci:\n",
    "\n",
    "| $x_i$ | -3  | -1  | 3   | 5   |\n",
    "|-------|-----|-----|-----|-----|\n",
    "| $p_i$ | 0.1 | 0.2 | 0.5 | 0.2 |\n",
    "\n",
    "\n",
    "a) Narysuj wykres rozkładu prawdopodobieństwa.\n",
    "\n",
    "b) Wyznacz narysuj dystrybuante $F$ tego rozkładu.\n",
    "\n",
    "c) Oblicz prawdopodobieństwa $P(X > 1)$ i $P( \\frac{1}{4} < X < 5)$.\n",
    "\n",
    "d) Oblicz wartość oczekiwaną, wariancję i odchylenie standardowe zmiennej X."
   ]
  },
  {
   "cell_type": "code",
   "execution_count": 2,
   "metadata": {},
   "outputs": [
    {
     "data": {
      "image/png": "[encoded data removed]",
      "text/plain": [
       "<Figure size 432x288 with 1 Axes>"
      ]
     },
     "metadata": {
      "needs_background": "light"
     },
     "output_type": "display_data"
    }
   ],
   "source": [
    "X = [-3, -1, 3, 5]\n",
    "p = [0.1, 0.2, 0.5, 0.2]\n",
    "\n",
    "# a) \n",
    "plt.scatter(x=X, y=p)\n",
    "plt.vlines(X, 0, p, colors='g', lw=3, alpha=0.5)\n",
    "plt.show()"
   ]
  },
  {
   "cell_type": "code",
   "execution_count": 3,
   "metadata": {
    "scrolled": true
   },
   "outputs": [
    {
     "data": {
      "image/png": "[encoded data removed]",
      "text/plain": [
       "<Figure size 432x288 with 1 Axes>"
      ]
     },
     "metadata": {
      "needs_background": "light"
     },
     "output_type": "display_data"
    }
   ],
   "source": [
    "# b)\n",
    "\n",
    "F = np.cumsum(p)\n",
    "\n",
    "x_lim = [-5] + X + [10]\n",
    "f = [0] + list(F)\n",
    "\n",
    "\n",
    "plt.scatter(X, F, label='cdf', color='r')\n",
    "plt.scatter(X, f[:-1], s=80, facecolors='none', edgecolors='r')\n",
    "plt.xlim([-5, 10])\n",
    "plt.ylim([-0.1, 1.1])\n",
    "\n",
    "for i in range(len(x_lim) - 1):\n",
    "    plt.hlines(xmin=x_lim[i], xmax=x_lim[i+1], y=f[i], color='black', alpha=0.5, linestyle='--')\n",
    "\n",
    "plt.show()"
   ]
  },
  {
   "cell_type": "code",
   "execution_count": 4,
   "metadata": {},
   "outputs": [],
   "source": [
    "# c)\n",
    "\n",
    "# P(X > 1) = P(X = 3) + P(X=5) = 0.7\n",
    "# P(0.25 < X < 5) = P(X=3) = 0.5"
   ]
  },
  {
   "cell_type": "code",
   "execution_count": 5,
   "metadata": {},
   "outputs": [
    {
     "name": "stdout",
     "output_type": "stream",
     "text": [
      "Wartość oczekiwana: 2.0\n",
      "Drugi moment: 10.6\n",
      "Wariancja: 6.6\n",
      "Odchylenie standardowe: 2.569046515733026\n"
     ]
    }
   ],
   "source": [
    "# d)\n",
    "\n",
    "X = np.array(X)\n",
    "p = np.array(p)\n",
    "\n",
    "ex = np.sum(X * p)\n",
    "print(\"Wartość oczekiwana: {}\".format(ex))\n",
    "\n",
    "ex2 = np.sum(X ** 2 * p)\n",
    "print(\"Drugi moment: {}\".format(ex2))\n",
    "\n",
    "var = ex2 - ex ** 2\n",
    "print(\"Wariancja: {}\".format(var))\n",
    "\n",
    "std = np.sqrt(var)\n",
    "print(\"Odchylenie standardowe: {}\".format(std))"
   ]
  },
  {
   "cell_type": "markdown",
   "metadata": {},
   "source": [
    "## ***Zadanie - rozkład ciągły\n",
    "Zmienna losowa X ma rozkład ciągły o gęstości:\n",
    "\n",
    "$$\n",
    "    f(x)=\\left.\n",
    "    \\begin{cases}\n",
    "    x \\quad &\\text{dla}\\quad 0<x\\leq 1\\\\\n",
    "    2-x \\quad &\\text{dla}\\quad 1<x\\leq 2\\\\\n",
    "    0 \\quad &\\text{dla}\\quad x>2, x\\le 0.\n",
    "    \\end{cases}\\right.\n",
    "$$\n",
    "\n",
    "\n",
    "a) Narysuj wykres gęstości.\n",
    "\n",
    "b) Wyznacz narysuj dystrybuante $F$ tego rozkładu.\n",
    "\n",
    "c) Oblicz prawdopodobieństwa $P(X > 1)$ i $P( \\frac{1}{4} < X \\leq 1)$.\n",
    "\n",
    "d) Oblicz wartość oczekiwaną, wariancję i odchylenie standardowe zmiennej X."
   ]
  },
  {
   "cell_type": "markdown",
   "metadata": {},
   "source": [
    "### a)"
   ]
  },
  {
   "cell_type": "code",
   "execution_count": 6,
   "metadata": {},
   "outputs": [
    {
     "data": {
      "text/plain": [
       "<matplotlib.collections.LineCollection at 0x7f1231036eb0>"
      ]
     },
     "execution_count": 6,
     "metadata": {},
     "output_type": "execute_result"
    },
    {
     "data": {
      "image/png": "[encoded data removed]",
      "text/plain": [
       "<Figure size 432x288 with 1 Axes>"
      ]
     },
     "metadata": {
      "needs_background": "light"
     },
     "output_type": "display_data"
    }
   ],
   "source": [
    "xa = np.linspace(0, 1, 100)\n",
    "ya = xa\n",
    "\n",
    "xb = np.linspace(1, 2, 100)\n",
    "yb = 2 - xb\n",
    "\n",
    "plt.xlim([-3, 5])\n",
    "plt.plot(xa, ya, color='r')\n",
    "plt.plot(xb, yb, color='r')\n",
    "plt.hlines(xmin=-3, xmax=0, y=0, color='r')\n",
    "plt.hlines(xmin=2, xmax=5, y=0, color='r')"
   ]
  },
  {
   "cell_type": "code",
   "execution_count": 7,
   "metadata": {},
   "outputs": [
    {
     "data": {
      "text/plain": [
       "array([0.        , 0.01010101, 0.02020202, 0.03030303, 0.04040404,\n",
       "       0.05050505, 0.06060606, 0.07070707, 0.08080808, 0.09090909,\n",
       "       0.1010101 , 0.11111111, 0.12121212, 0.13131313, 0.14141414,\n",
       "       0.15151515, 0.16161616, 0.17171717, 0.18181818, 0.19191919,\n",
       "       0.2020202 , 0.21212121, 0.22222222, 0.23232323, 0.24242424,\n",
       "       0.25252525, 0.26262626, 0.27272727, 0.28282828, 0.29292929,\n",
       "       0.3030303 , 0.31313131, 0.32323232, 0.33333333, 0.34343434,\n",
       "       0.35353535, 0.36363636, 0.37373737, 0.38383838, 0.39393939,\n",
       "       0.4040404 , 0.41414141, 0.42424242, 0.43434343, 0.44444444,\n",
       "       0.45454545, 0.46464646, 0.47474747, 0.48484848, 0.49494949,\n",
       "       0.50505051, 0.51515152, 0.52525253, 0.53535354, 0.54545455,\n",
       "       0.55555556, 0.56565657, 0.57575758, 0.58585859, 0.5959596 ,\n",
       "       0.60606061, 0.61616162, 0.62626263, 0.63636364, 0.64646465,\n",
       "       0.65656566, 0.66666667, 0.67676768, 0.68686869, 0.6969697 ,\n",
       "       0.70707071, 0.71717172, 0.72727273, 0.73737374, 0.74747475,\n",
       "       0.75757576, 0.76767677, 0.77777778, 0.78787879, 0.7979798 ,\n",
       "       0.80808081, 0.81818182, 0.82828283, 0.83838384, 0.84848485,\n",
       "       0.85858586, 0.86868687, 0.87878788, 0.88888889, 0.8989899 ,\n",
       "       0.90909091, 0.91919192, 0.92929293, 0.93939394, 0.94949495,\n",
       "       0.95959596, 0.96969697, 0.97979798, 0.98989899, 1.        ])"
      ]
     },
     "execution_count": 7,
     "metadata": {},
     "output_type": "execute_result"
    }
   ],
   "source": [
    "xa"
   ]
  },
  {
   "cell_type": "markdown",
   "metadata": {},
   "source": [
    "### b)\n",
    "$$F(x) = \n",
    "\\begin{cases} \n",
    "0 &\\text{dla } x < 0 \\\\\n",
    "\\frac{x^2}{2} &\\text{dla } 0 \\leq x < 1 \\\\\n",
    "-\\frac{x^2}{2} + 2x - 1 &\\text{dla } 1 \\leq x < 2 \\\\\n",
    "1 &\\text{dla } x \\geq 2\n",
    "\\end{cases} $$"
   ]
  },
  {
   "cell_type": "code",
   "execution_count": 8,
   "metadata": {},
   "outputs": [
    {
     "data": {
      "text/plain": [
       "<matplotlib.collections.LineCollection at 0x7f1230f9ea00>"
      ]
     },
     "execution_count": 8,
     "metadata": {},
     "output_type": "execute_result"
    },
    {
     "data": {
      "image/png": "[encoded data removed]",
      "text/plain": [
       "<Figure size 432x288 with 1 Axes>"
      ]
     },
     "metadata": {
      "needs_background": "light"
     },
     "output_type": "display_data"
    }
   ],
   "source": [
    "xa = np.linspace(0, 1, 100)\n",
    "ya = xa ** 2 / 2\n",
    "\n",
    "xb = np.linspace(1, 2, 100)\n",
    "yb = - xb**2 / 2 + 2 * xb - 1\n",
    "\n",
    "plt.xlim([-3, 5])\n",
    "plt.plot(xa, ya, color='r')\n",
    "plt.plot(xb, yb, color='r')\n",
    "plt.hlines(xmin=-3, xmax=0, y=0, color='r')\n",
    "plt.hlines(xmin=2, xmax=5, y=1, color='r')"
   ]
  },
  {
   "cell_type": "markdown",
   "metadata": {},
   "source": [
    "### c) \n",
    "$\\mathbb{P}(X > 1) = 1 - \\mathbb{P}(X \\leq 1) = F(1) = 1 - 0.5 = 0.5$, \n",
    "\n",
    "$\\mathbb{P}(\\frac{1}{4} < X < 1) = F(1) - F(\\frac{1}{4}) = \\frac{1}{2} - \\frac{( \\frac{1}{4} ) ^ 2}{2} = \\frac{15}{32}$,\n",
    "\n",
    "### d) \n",
    "$\\mathbb{E}X = 1$, $\\mathbb{E}X^2 = \\frac{7}{6}$, $\\textrm{Var}X = \\mathbb{E}X^2 - (\\mathbb{E}X)^2 =  \\frac{1}{6}$, $\\sigma = \\sqrt{\\textrm{Var}X} = 0.4082483$."
   ]
  }
 ],
 "metadata": {
  "kernelspec": {
   "display_name": "Python 3",
   "language": "python",
   "name": "python3"
  },
  "language_info": {
   "codemirror_mode": {
    "name": "ipython",
    "version": 3
   },
   "file_extension": ".py",
   "mimetype": "text/x-python",
   "name": "python",
   "nbconvert_exporter": "python",
   "pygments_lexer": "ipython3",
   "version": "3.8.8"
  }
 },
 "nbformat": 4,
 "nbformat_minor": 2
}
