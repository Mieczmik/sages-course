{
 "cells": [
  {
   "cell_type": "markdown",
   "metadata": {},
   "source": [
    "# Rozkłady dyskretne\n",
    "1. Rozkład dwupunktowy\n",
    "2. Rozkład dwumianowy"
   ]
  },
  {
   "cell_type": "code",
   "execution_count": 1,
   "metadata": {},
   "outputs": [],
   "source": [
    "import numpy as np\n",
    "import matplotlib.pyplot as plt\n",
    "\n",
    "from scipy import stats"
   ]
  },
  {
   "cell_type": "markdown",
   "metadata": {},
   "source": [
    "### Zadanie\n",
    "Dla rozkładu dwupunktowego i dwumianowego:\n",
    "1. Zdefiniuj zmienną losową dla tego rozkładu prawdopobieństtwa.\n",
    "2. Narysuj funkcję rozkładu prawdopodobieństwa.\n",
    "3. Narysuj dystrybuantę.\n",
    "4. Wyznacz podstawowe charakterystyki rozkładu: średnia, wariancja, odchylenie standardowe.\n",
    "5. Wylosuj $n$ obserwacji z zdefiniowanego rozkładu.\n",
    "6. Narysujmy histogram dla wylosowanej powyżej próbki.\n",
    "7. Porównaj teoretyczną i zaaobserwowaną funkcję rozkładu prawdopobieństwa."
   ]
  },
  {
   "cell_type": "markdown",
   "metadata": {},
   "source": [
    "### Rozkład dwupunktowy - $Bern(p)$\n",
    "\n",
    "Zmienna losowa $X$ ma **rozkład dwupunktowy** z parametrem $0 < p < 1$, jeżeli\n",
    "$$\n",
    "    P(X=1)=p, \\quad P(X=0)=1-p.\n",
    "$$\n",
    "\n",
    "Zmienna losowa $X$ opisuje pojedyncze doświadczenie, o którym można myśleć w kategorii ,,sukces--porażka'': \n",
    "- zmienna przyjmuje wartość 1 z prawdopodobieństwem $p$, jeżeli w danym doświadczeniu zaistniał **,,sukces''**, oraz\n",
    "- zmienna przyjmuje wartość 0 z prawdopodobieństwem $1-p$, jeżeli w doświadczeniu zainstniała **,,porażka''**."
   ]
  },
  {
   "cell_type": "markdown",
   "metadata": {},
   "source": [
    "https://docs.scipy.org/doc/scipy-0.14.0/reference/generated/scipy.stats.bernoulli.html\n",
    "\n",
    "#### Wybrane metody\n",
    "\n",
    "`rvs(p, loc=0, size=1)` \tRandom variates.\n",
    "\n",
    "`pmf(x, p, loc=0)` \tProbability mass function.\n",
    "\n",
    "`cdf(x, p, loc=0)` \tCumulative density function.\n",
    "\n",
    "`sf(x, p, loc=0)` \tSurvival function (1-cdf — sometimes more accurate).\n",
    "\n",
    "`ppf(q, p, loc=0)` \tPercent point function (inverse of cdf — percentiles).\n",
    "\n",
    "`stats(p, loc=0, moments=’mv’)` \tMean(‘m’), variance(‘v’), skew(‘s’), and/or kurtosis(‘k’).\n",
    "\n",
    "`median(p, loc=0)` \tMedian of the distribution.\n",
    "\n",
    "`mean(p, loc=0)` \tMean of the distribution.\n",
    "\n",
    "`var(p, loc=0)` \tVariance of the distribution.\n",
    "\n",
    "`std(p, loc=0)` \tStandard deviation of the distribution."
   ]
  },
  {
   "cell_type": "code",
   "execution_count": 2,
   "metadata": {},
   "outputs": [
    {
     "data": {
      "text/plain": [
       "<scipy.stats._distn_infrastructure.rv_frozen at 0x7f9a8de6ab20>"
      ]
     },
     "execution_count": 2,
     "metadata": {},
     "output_type": "execute_result"
    }
   ],
   "source": [
    "# 1. Definiujemy zmienna losową\n",
    "p = 0.5 # prawdopodobieństwo sukcesu\n",
    "\n",
    "bern = stats.bernoulli(p=p)\n",
    "bern"
   ]
  },
  {
   "cell_type": "code",
   "execution_count": 19,
   "metadata": {},
   "outputs": [
    {
     "name": "stdout",
     "output_type": "stream",
     "text": [
      "0.5\n",
      "0.5\n",
      "0.0\n"
     ]
    }
   ],
   "source": [
    "# 2. Funkcja rozkładu prawdopodobieństwa (dla przypadku dyskretnego) = pmf = probability mass function\n",
    "\n",
    "# bernoulli.pmf(k) = p    if k = 1 \n",
    "#                  = 1-p  if k = 0\n",
    "\n",
    "print(bern.pmf(0))\n",
    "print(bern.pmf(1))\n",
    "print(bern.pmf(0.5))"
   ]
  },
  {
   "cell_type": "code",
   "execution_count": 4,
   "metadata": {},
   "outputs": [
    {
     "data": {
      "text/plain": [
       "<matplotlib.collections.LineCollection at 0x7f9a8de89730>"
      ]
     },
     "execution_count": 4,
     "metadata": {},
     "output_type": "execute_result"
    },
    {
     "data": {
      "image/png": "[encoded data removed]",
      "text/plain": [
       "<Figure size 432x288 with 1 Axes>"
      ]
     },
     "metadata": {
      "needs_background": "light"
     },
     "output_type": "display_data"
    }
   ],
   "source": [
    "fig, ax = plt.subplots(1, 1)\n",
    "ax.set_xlim([-.5, 1.5])\n",
    "ax.set_ylim([0, 1])\n",
    "\n",
    "x_value = [0, 1]\n",
    "ax.plot(x_value, bern.pmf(x_value), 'go', ms=10, label='theoretical bernoulli pmf')\n",
    "# x : scalar or 1D array_like\n",
    "# x-indexes where to plot the lines.\n",
    "# ymin, ymax : scalar or 1D array_like\n",
    "ax.vlines(x_value, 0, bern.pmf(x_value), colors='g', lw=3, alpha=0.5)"
   ]
  },
  {
   "cell_type": "code",
   "execution_count": 5,
   "metadata": {},
   "outputs": [
    {
     "data": {
      "image/png": "[encoded data removed]",
      "text/plain": [
       "<Figure size 432x288 with 1 Axes>"
      ]
     },
     "metadata": {
      "needs_background": "light"
     },
     "output_type": "display_data"
    }
   ],
   "source": [
    "# 3. cdf = Cumulative density function = dystrybuanta\n",
    "fig, ax = plt.subplots(1, 1)\n",
    "\n",
    "ax.set_xlim([-10, 10])\n",
    "ax.set_ylim([-0.2, 1.2])\n",
    "\n",
    "x = np.arange(-10, 10, 0.01)\n",
    "ax.plot(x, bern.cdf(x), 'go--', ms=3, label='bernoulli cdf')\n",
    "ax.axhline(xmin=-5, xmax=5, y=0, color='black', alpha=0.5, linestyle='--')\n",
    "ax.axhline(xmin=-5, xmax=5, y=0.5, color='black', alpha=0.5, linestyle='--')\n",
    "ax.axhline(xmin=-5, xmax=5, y=1, color='black', alpha=0.5, linestyle='--')\n",
    "plt.show()"
   ]
  },
  {
   "cell_type": "code",
   "execution_count": 6,
   "metadata": {},
   "outputs": [
    {
     "data": {
      "text/plain": [
       "(array(0.5), array(0.25), array(0.), array(-2.))"
      ]
     },
     "execution_count": 6,
     "metadata": {},
     "output_type": "execute_result"
    }
   ],
   "source": [
    "# 4.  Charakterystyki rozkładu\n",
    "# Mean(‘m’), variance(‘v’), skew(‘s’), and/or kurtosis(‘k’).\n",
    "bern.stats('mvsk')"
   ]
  },
  {
   "cell_type": "code",
   "execution_count": 7,
   "metadata": {},
   "outputs": [
    {
     "data": {
      "text/plain": [
       "array([0, 0, 1, 0, 0, 0, 0, 1, 0, 1, 0, 0, 0, 1, 0, 0, 0, 0, 1, 0, 1, 0,\n",
       "       0, 1, 1, 0, 0, 0, 0, 1, 0, 1, 0, 1, 1, 0, 1, 1, 1, 0, 1, 1, 1, 0,\n",
       "       1, 1, 0, 1, 0, 1, 0, 0, 1, 0, 0, 0, 0, 0, 1, 1, 1, 1, 1, 0, 1, 1,\n",
       "       0, 0, 1, 1, 1, 0, 0, 0, 1, 1, 1, 1, 0, 1, 1, 0, 0, 0, 1, 0, 0, 0,\n",
       "       1, 0, 1, 0, 0, 0, 1, 0, 1, 0, 1, 0])"
      ]
     },
     "execution_count": 7,
     "metadata": {},
     "output_type": "execute_result"
    }
   ],
   "source": [
    "# 5. możemy wylosować n(=100) wartości z tego rozkładu\n",
    "bern.rvs(size=100)"
   ]
  },
  {
   "cell_type": "code",
   "execution_count": 8,
   "metadata": {
    "scrolled": true
   },
   "outputs": [
    {
     "data": {
      "text/plain": [
       "(array([57.,  0.,  0.,  0.,  0.,  0.,  0.,  0.,  0., 43.]),\n",
       " array([0. , 0.1, 0.2, 0.3, 0.4, 0.5, 0.6, 0.7, 0.8, 0.9, 1. ]),\n",
       " <BarContainer object of 10 artists>)"
      ]
     },
     "execution_count": 8,
     "metadata": {},
     "output_type": "execute_result"
    },
    {
     "data": {
      "image/png": "[encoded data removed]",
      "text/plain": [
       "<Figure size 432x288 with 1 Axes>"
      ]
     },
     "metadata": {
      "needs_background": "light"
     },
     "output_type": "display_data"
    }
   ],
   "source": [
    "# 6. narysujmy histogram dla wylosowanej $n$-elementowej próbki\n",
    "x = bern.rvs(size=100)\n",
    "plt.hist(x)"
   ]
  },
  {
   "cell_type": "code",
   "execution_count": 9,
   "metadata": {},
   "outputs": [
    {
     "data": {
      "image/png": "[encoded data removed]",
      "text/plain": [
       "<Figure size 432x288 with 1 Axes>"
      ]
     },
     "metadata": {
      "needs_background": "light"
     },
     "output_type": "display_data"
    }
   ],
   "source": [
    "# 7. porównanie teoretycznej i zaobserwowanej funkcji rozkładu prawdopodobieństwa\n",
    "fig, ax = plt.subplots(1, 1)\n",
    "ax.set_xlim([-.5, 1.5])\n",
    "ax.set_ylim([0, 1])\n",
    "\n",
    "x_value = np.array([0, 1])\n",
    "unique, counts = np.unique(x, return_counts=True)\n",
    "y_obs = np.array(counts/x.size)\n",
    "\n",
    "ax.plot(x_value, bern.pmf(x_value), 'go', ms=10, label='theoretical bernoulli pmf')\n",
    "ax.vlines(x_value, 0, bern.pmf(x_value), colors='g', lw=3, alpha=0.5)\n",
    "\n",
    "ax.plot(x_value, y_obs, 'ro', ms=10, label='observed bernoulli pmf')\n",
    "ax.vlines(x_value, 0, y_obs, colors='r', lw=3, alpha=0.5)\n",
    "\n",
    "plt.legend()\n",
    "plt.show()"
   ]
  },
  {
   "cell_type": "markdown",
   "metadata": {},
   "source": [
    "### Rozkład dwumianowy - $Bin(n, p)$\n",
    "Zmienna losowa $X$ ma **rozkład dwumianowy** z parametrami $0<p<1$ oraz $n\\in\\mathbb{N}$, jeżeli\n",
    "$$\n",
    "    P(X=k)=\\binom{n}{k}p^k(1-p)^{n-k} \\quad \\text{dla} \\quad k=0,1,\\ldots,n.\n",
    "$$\n",
    "\n",
    "Zmienna losowa $X$ przyjmuje wartości równe liczbie ,,sukcesów'' w~$n$~niezależnych doświadczeniach z prawdopodobieństwem sukcesu $p$ w każdym z~nich. \n",
    "\n",
    "W szczególności zmienną $X$ możemy przedstawić jako $$X=S_n=\\sum_{i=1}^n X_i,$$ gdzie $X_i \\sim \\text{Bern}(p)$ oraz $(X_i)_{i=1}^n$ są wzajemnie niezależne.\n"
   ]
  },
  {
   "cell_type": "markdown",
   "metadata": {},
   "source": [
    "https://docs.scipy.org/doc/scipy-0.14.0/reference/generated/scipy.stats.binom.html"
   ]
  },
  {
   "cell_type": "code",
   "execution_count": 10,
   "metadata": {},
   "outputs": [],
   "source": [
    "# 1. Definicja\n",
    "n, p = 6, 0.5\n",
    "binom = stats.binom(n=n, p=p)"
   ]
  },
  {
   "cell_type": "code",
   "execution_count": 11,
   "metadata": {},
   "outputs": [
    {
     "data": {
      "text/plain": [
       "<matplotlib.collections.LineCollection at 0x7f9a8d4fa2e0>"
      ]
     },
     "execution_count": 11,
     "metadata": {},
     "output_type": "execute_result"
    },
    {
     "data": {
      "image/png": "[encoded data removed]",
      "text/plain": [
       "<Figure size 432x288 with 1 Axes>"
      ]
     },
     "metadata": {
      "needs_background": "light"
     },
     "output_type": "display_data"
    }
   ],
   "source": [
    "# Funkcja rozkładu prawdopodbieństwa\n",
    "fig, ax = plt.subplots(1, 1)\n",
    "ax.set_xlim([-.5, 6.5])\n",
    "ax.set_ylim([0, 1])\n",
    "\n",
    "x_value = np.arange(0, 7)\n",
    "ax.plot(x_value, binom.pmf(x_value), 'go', ms=10, label='theoretical bernoulli pmf')\n",
    "ax.vlines(x_value, 0, binom.pmf(x_value), colors='g', lw=3, alpha=0.5)"
   ]
  },
  {
   "cell_type": "code",
   "execution_count": 12,
   "metadata": {},
   "outputs": [
    {
     "data": {
      "image/png": "[encoded data removed]",
      "text/plain": [
       "<Figure size 432x288 with 1 Axes>"
      ]
     },
     "metadata": {
      "needs_background": "light"
     },
     "output_type": "display_data"
    }
   ],
   "source": [
    "# 3. Dystrybuanta\n",
    "fig, ax = plt.subplots(1, 1)\n",
    "\n",
    "ax.set_xlim([-10, 10])\n",
    "ax.set_ylim([-0.2, 1.2])\n",
    "\n",
    "x = np.arange(-10, 10, 0.001)\n",
    "ax.plot(x, binom.cdf(x), 'go--', ms=1, label='bernoulli cdf')\n",
    "plt.show()"
   ]
  },
  {
   "cell_type": "code",
   "execution_count": 13,
   "metadata": {},
   "outputs": [
    {
     "data": {
      "text/plain": [
       "(array(3.), array(1.5))"
      ]
     },
     "execution_count": 13,
     "metadata": {},
     "output_type": "execute_result"
    }
   ],
   "source": [
    "# 4. Charakterystyki rozkładu\n",
    "binom.stats('mv')"
   ]
  },
  {
   "cell_type": "code",
   "execution_count": 14,
   "metadata": {},
   "outputs": [
    {
     "data": {
      "text/plain": [
       "array([0, 1, 2, 3, 4, 5, 6])"
      ]
     },
     "execution_count": 14,
     "metadata": {},
     "output_type": "execute_result"
    }
   ],
   "source": [
    "# 5. Próbka z rozkładu dwumianowego\n",
    "x = binom.rvs(size=100)\n",
    "np.unique(x)"
   ]
  },
  {
   "cell_type": "code",
   "execution_count": 15,
   "metadata": {},
   "outputs": [
    {
     "data": {
      "image/png": "[encoded data removed]",
      "text/plain": [
       "<Figure size 432x288 with 1 Axes>"
      ]
     },
     "metadata": {
      "needs_background": "light"
     },
     "output_type": "display_data"
    }
   ],
   "source": [
    "# 6. Histogram\n",
    "plt.hist(x, bins=[0, 1, 2, 3, 4, 5, 6, 7]) \n",
    "# then the first bin is [1, 2) (including 1, but excluding 2) and the second [2, 3). The last bin, however, is [3, 4], which includes 4.\n",
    "plt.show()"
   ]
  },
  {
   "cell_type": "markdown",
   "metadata": {},
   "source": [
    "### Zadania - dodatkowe"
   ]
  },
  {
   "cell_type": "markdown",
   "metadata": {},
   "source": [
    "1. Oblicz prawdopodobieństwo $P(X=5)$, pod warunkiem, że zmienna losowa X ma rozkład dwumianowy z parametrami $n=10$ i $p=0.7$?\n",
    "\n",
    "**Wskazówka**: $$P(X=x_0)=F(x_0)-F(x_0^-),$$gdzie $F(x_0^-)$ oznacza granicę lewostronną dystrybuanty $F$ w punkcie $x_0$."
   ]
  },
  {
   "cell_type": "code",
   "execution_count": 20,
   "metadata": {},
   "outputs": [
    {
     "data": {
      "text/plain": [
       "0.10291934520000004"
      ]
     },
     "execution_count": 20,
     "metadata": {},
     "output_type": "execute_result"
    }
   ],
   "source": [
    "# 1.\n",
    "binom10_07 = stats.binom(n=10, p=.7)\n",
    "\n",
    "# P(X=k) = CDF(k) - CDF(k-)\n",
    "binom10_07.cdf(5) - binom10_07.cdf(5-10e-16)"
   ]
  },
  {
   "cell_type": "code",
   "execution_count": 21,
   "metadata": {},
   "outputs": [
    {
     "data": {
      "text/plain": [
       "0.10291934520000011"
      ]
     },
     "execution_count": 21,
     "metadata": {},
     "output_type": "execute_result"
    }
   ],
   "source": [
    "binom10_07.pmf(5)"
   ]
  },
  {
   "cell_type": "markdown",
   "metadata": {},
   "source": [
    "2. Oblicz prawdopodobieństwo tego, że rzucając cztery razy kostką wyrzucimy trzy razy ,,trójkę''."
   ]
  },
  {
   "cell_type": "markdown",
   "metadata": {},
   "source": [
    "**Analiza**:\n",
    "\n",
    "$X_i$ - zdarzenie, że w $i$-tym rzucie wyrzucimy ,,trójkę''\n",
    "\n",
    "$P(X_i=1)=\\frac{1}{6}$ - prawdopodobieństwo wyrzucenia ,,trójki'' (,,sukces'')\n",
    "\n",
    "$P(X_i=0)=\\frac{5}{6}$ - prawdopodbieństwo wyrzucenia innej liczby oczek, różnej od trzech (,,porażka'')\n",
    "\n",
    "$S_4=X_1+X_2+X_3+X_4$ - zdarzenie opisujące liczbę wyrzuconych ,,trójek'' w czterech rzutach\n",
    "\n",
    "$S_4\\sim \\text{Bin}(n=4, p=\\frac{1}{6})$ \n",
    "\n",
    "Jakie jest prawdopodbieństwo $P(S_4=3)$?"
   ]
  },
  {
   "cell_type": "code",
   "execution_count": 22,
   "metadata": {},
   "outputs": [
    {
     "data": {
      "text/plain": [
       "0.015432098765432167"
      ]
     },
     "execution_count": 22,
     "metadata": {},
     "output_type": "execute_result"
    }
   ],
   "source": [
    "binom4_1_6 = stats.binom(n=4, p=1/6)\n",
    "\n",
    "# P(X=3)\n",
    "binom4_1_6.cdf(3) -  binom4_1_6.cdf(3-10e-16)"
   ]
  },
  {
   "cell_type": "code",
   "execution_count": 23,
   "metadata": {},
   "outputs": [
    {
     "data": {
      "text/plain": [
       "0.015432098765432093"
      ]
     },
     "execution_count": 23,
     "metadata": {},
     "output_type": "execute_result"
    }
   ],
   "source": [
    "binom4_1_6.pmf(3)"
   ]
  },
  {
   "cell_type": "markdown",
   "metadata": {},
   "source": [
    "3. Szacuje się, że aż 70% Polaków posiada kartę kredytową. Jakie jest prawdopodobieństwo, że w losowej grupie 10 osób więcej niż cztery osóby będą posiadały karty kredytowej?\n",
    "\n",
    "**Wskazówka**: $P(X>k)=1-P(X\\leq k) = 1- F(k)$."
   ]
  },
  {
   "cell_type": "markdown",
   "metadata": {},
   "source": [
    "$X_i$ - zdarzenie, że $i$-ty Polak posiada kartę kredytową;\n",
    "\n",
    "$P(X_i=1)=0.7$ - prawdopodobieństwo, że $i$-ty Polak posiada kartę kredytową;\n",
    "\n",
    "$P(X_i=0)=0.3$ - prawdopodobieństwo, że $i$-ty Polak nie posiada karty kredytowej;\n",
    "\n",
    "$S_{10} = X_1 + \\ldots + X_{10}$ - zdarzenie opisujące liczbę Polaków, którzy posiadają kartę kredytową w grupie losowo wybranych 10 Polaków;\n",
    "\n",
    "$S_{10} \\sim \\text{Bin}(n=10, p=0.7)$"
   ]
  },
  {
   "cell_type": "code",
   "execution_count": 18,
   "metadata": {},
   "outputs": [
    {
     "data": {
      "text/plain": [
       "0.9526510126"
      ]
     },
     "execution_count": 18,
     "metadata": {},
     "output_type": "execute_result"
    }
   ],
   "source": [
    "# P(X > 4) = 1 - P(X <= 4) = 1 - F(4)\n",
    "\n",
    "binom10_07 = stats.binom(n=10, p=0.7)\n",
    "\n",
    "1 - binom10_07.cdf(4)"
   ]
  }
 ],
 "metadata": {
  "kernelspec": {
   "display_name": "Python 3",
   "language": "python",
   "name": "python3"
  },
  "language_info": {
   "codemirror_mode": {
    "name": "ipython",
    "version": 3
   },
   "file_extension": ".py",
   "mimetype": "text/x-python",
   "name": "python",
   "nbconvert_exporter": "python",
   "pygments_lexer": "ipython3",
   "version": "3.8.8"
  }
 },
 "nbformat": 4,
 "nbformat_minor": 2
}
