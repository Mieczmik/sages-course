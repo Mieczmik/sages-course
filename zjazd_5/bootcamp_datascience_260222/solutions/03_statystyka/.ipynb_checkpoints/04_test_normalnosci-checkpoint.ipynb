{
 "cells": [
  {
   "cell_type": "markdown",
   "metadata": {},
   "source": [
    "# Testy normalności"
   ]
  },
  {
   "cell_type": "code",
   "execution_count": 1,
   "metadata": {},
   "outputs": [],
   "source": [
    "import numpy as np\n",
    "import pandas as pd\n",
    "import matplotlib.pyplot as plt\n",
    "import statsmodels.api as sm\n",
    "import statsmodels.stats as sm_stats\n",
    "\n",
    "from scipy import stats"
   ]
  },
  {
   "cell_type": "markdown",
   "metadata": {},
   "source": [
    "Jednym z podstawowych kryteriów stosowalności technik statystycznych jest **rozkład danych**, do którego konkretna technika zostanie użyta. \n",
    "\n",
    "W podstawowych zastosowaniach interesuje nas właściwie jedynie czy rozkład populacji jest normalny, czy nie. Rozkład populacji staramy się ustalić na podstawie zebranej próby, więc w tym celu stosujemy odpowiednie testy statystyczne. \n",
    "\n",
    "Najbardziej uniwersalnym i w obecnych czasach najbardziej rozpowszechnionym testem używanym do tego celu jest **test Shapiro-Wilka**."
   ]
  },
  {
   "cell_type": "markdown",
   "metadata": {},
   "source": [
    "## Testy normalności - test Shapiro-Wilka\n",
    "\\begin{equation*}\n",
    "\\begin{split}\n",
    "    H_0&: \\text{rozkład badanej cechy jest normalny}\\\\\n",
    "    H_1&: \\text{rozkład badanej cechy nie jest normalny}\n",
    "\\end{split}\n",
    "\\end{equation*}\n",
    "\n",
    "Statystyka testowa \\textbf{testu Shapiro-Wilka} dana jest wzorem\n",
    "\\begin{equation*}\n",
    "    T = \\frac{\\Big( \\sum_{i=1}^{[\\frac{n}{2}]}a_i(n)(X_{n-i+1:n} - X_{i:n} \\Big)^2}{\\sum_{i=1}^n(X_i - \\overline{X})^2},\n",
    "\\end{equation*}\n",
    "gdzie $a_i(n)$ są pewnymi stałymi zależnymi od liczności próby, natomiast $[n/2]$ oznacza część całkowitą wyrażenia $n/2$.\n",
    "\n",
    "Obszar krytyczny ma postać\n",
    "\\begin{equation*}\n",
    "    W_{\\alpha} = (0, w(\\alpha, n)],\n",
    "\\end{equation*}\n",
    "gdzie $w(\\alpha, n)$ oznacza kwantyl rzędu $\\alpha$ rozkładu statystyki.\n"
   ]
  },
  {
   "cell_type": "markdown",
   "metadata": {},
   "source": [
    "## Zadanie \n",
    "Wygeneruj kilka próbek o różnej liczności z \n",
    "\n",
    "a) rozkładu normalnego,\n",
    "\n",
    "b) dla rozkładu chi-kwadrat,\n",
    "\n",
    "c) dla rozkładu wykładniczego,\n",
    "\n",
    "sporządź histogramy dla wygenerowanych próbek i sprawdź zachowanie się testu Shapiro-Wilka. Przyjmij poziom istotności 0.05."
   ]
  },
  {
   "cell_type": "code",
   "execution_count": 2,
   "metadata": {},
   "outputs": [
    {
     "name": "stdout",
     "output_type": "stream",
     "text": [
      "ShapiroResult(statistic=0.9602941870689392, pvalue=0.7892226576805115)\n",
      "ShapiroResult(statistic=0.8500891923904419, pvalue=0.058231279253959656)\n",
      "ShapiroResult(statistic=0.9013482928276062, pvalue=0.22667796909809113)\n"
     ]
    }
   ],
   "source": [
    "n = 10\n",
    "norm = stats.norm.rvs(size=n, loc=2, scale=0.5) \n",
    "print(stats.shapiro(norm))\n",
    "chi = stats.chi2.rvs(size=n, df=5)\n",
    "print(stats.shapiro(chi))\n",
    "exp = stats.expon.rvs(size=n, scale=1/2)\n",
    "print(stats.shapiro(exp))"
   ]
  },
  {
   "cell_type": "code",
   "execution_count": 3,
   "metadata": {},
   "outputs": [
    {
     "name": "stdout",
     "output_type": "stream",
     "text": [
      "ShapiroResult(statistic=0.997319221496582, pvalue=0.09671300649642944)\n",
      "ShapiroResult(statistic=0.9828352332115173, pvalue=1.832780816002355e-09)\n",
      "ShapiroResult(statistic=0.9425195455551147, pvalue=3.0120530895442016e-19)\n",
      "ShapiroResult(statistic=0.8145259618759155, pvalue=2.1299312584374836e-32)\n"
     ]
    }
   ],
   "source": [
    "n = 1000\n",
    "norm = stats.norm.rvs(size=n, loc=2, scale=0.5)\n",
    "print(stats.shapiro(norm))\n",
    "norm2 = stats.norm.rvs(size=n, loc=2, scale=0.5) + stats.uniform.rvs(size=n, loc=-2, scale=4)\n",
    "print(stats.shapiro(norm2))\n",
    "chi = stats.chi2.rvs(size=n, df=5)\n",
    "print(stats.shapiro(chi))\n",
    "exp = stats.expon.rvs(size=n, scale=1/2)\n",
    "print(stats.shapiro(exp))"
   ]
  },
  {
   "cell_type": "code",
   "execution_count": 4,
   "metadata": {},
   "outputs": [
    {
     "data": {
      "image/png": "[encoded data removed]",
      "text/plain": [
       "<Figure size 1440x720 with 1 Axes>"
      ]
     },
     "metadata": {
      "needs_background": "light"
     },
     "output_type": "display_data"
    }
   ],
   "source": [
    "fig, ax = plt.subplots(1, 1, figsize=(20, 10))\n",
    "\n",
    "plt.hist(norm, histtype='stepfilled', alpha=0.2, density=True, label='norm')\n",
    "plt.hist(norm2, histtype='stepfilled', alpha=0.2, density=True, label='norm+error')\n",
    "plt.hist(chi, histtype='stepfilled', alpha=0.2, density=True, label='chi')\n",
    "plt.hist(exp, histtype='stepfilled', alpha=0.2, density=True, label='exp')\n",
    "ax.legend(loc='best', frameon=False)\n",
    "plt.show()"
   ]
  },
  {
   "cell_type": "markdown",
   "metadata": {},
   "source": [
    "## Zadanie\n",
    "Wygeneruj kilka próbek z rozkładu normalnego dla różnych parametrów $\\mu$ i $\\sigma$ i dla różnej liczności próbki i sprawdź ile razy zostanie odrzucona hipoteza o normalności rozkładu. Przyjmij poziom istotności 0.05."
   ]
  },
  {
   "cell_type": "code",
   "execution_count": 5,
   "metadata": {
    "scrolled": true
   },
   "outputs": [
    {
     "name": "stdout",
     "output_type": "stream",
     "text": [
      "---------------------------------\n",
      "P-value testu Shapiro-Wilka dla mu=-5.0, sigma=0.48, n=5: 0.1600235253572464\n",
      "P-value testu Shapiro-Wilka dla mu=-4.0, sigma=1.57, n=5: 0.9461662173271179\n",
      "P-value testu Shapiro-Wilka dla mu=-3.0, sigma=0.43, n=5: 0.8484901785850525\n",
      "P-value testu Shapiro-Wilka dla mu=-2.0, sigma=1.97, n=5: 0.8440554141998291\n",
      "P-value testu Shapiro-Wilka dla mu=-1.0, sigma=1.49, n=5: 0.010293254628777504\n",
      "P-value testu Shapiro-Wilka dla mu=0.0, sigma=1.14, n=5: 0.211081400513649\n",
      "P-value testu Shapiro-Wilka dla mu=1.0, sigma=0.11, n=5: 0.8650091886520386\n",
      "P-value testu Shapiro-Wilka dla mu=2.0, sigma=0.06, n=5: 0.06497716903686523\n",
      "P-value testu Shapiro-Wilka dla mu=3.0, sigma=1.63, n=5: 0.5212708115577698\n",
      "P-value testu Shapiro-Wilka dla mu=4.0, sigma=0.1, n=5: 0.5587568879127502\n",
      "P-value testu Shapiro-Wilka dla mu=5.0, sigma=1.69, n=5: 0.9929971694946289\n",
      "---------------------------------\n",
      "Hipoteza o normalności została odrzucona 1 razy dla n=5\n",
      "---------------------------------\n",
      "P-value testu Shapiro-Wilka dla mu=-5.0, sigma=0.48, n=10: 0.7423725128173828\n",
      "P-value testu Shapiro-Wilka dla mu=-4.0, sigma=1.57, n=10: 0.8920150399208069\n",
      "P-value testu Shapiro-Wilka dla mu=-3.0, sigma=0.43, n=10: 0.9845400452613831\n",
      "P-value testu Shapiro-Wilka dla mu=-2.0, sigma=1.97, n=10: 0.2590576708316803\n",
      "P-value testu Shapiro-Wilka dla mu=-1.0, sigma=1.49, n=10: 0.9465140104293823\n",
      "P-value testu Shapiro-Wilka dla mu=0.0, sigma=1.14, n=10: 0.5111171007156372\n",
      "P-value testu Shapiro-Wilka dla mu=1.0, sigma=0.11, n=10: 0.12882085144519806\n",
      "P-value testu Shapiro-Wilka dla mu=2.0, sigma=0.06, n=10: 0.5446963310241699\n",
      "P-value testu Shapiro-Wilka dla mu=3.0, sigma=1.63, n=10: 0.19059313833713531\n",
      "P-value testu Shapiro-Wilka dla mu=4.0, sigma=0.1, n=10: 0.3647024929523468\n",
      "P-value testu Shapiro-Wilka dla mu=5.0, sigma=1.69, n=10: 0.27484390139579773\n",
      "---------------------------------\n",
      "Hipoteza o normalności została odrzucona 0 razy dla n=10\n",
      "---------------------------------\n",
      "P-value testu Shapiro-Wilka dla mu=-5.0, sigma=0.48, n=20: 0.6367730498313904\n",
      "P-value testu Shapiro-Wilka dla mu=-4.0, sigma=1.57, n=20: 0.9859821796417236\n",
      "P-value testu Shapiro-Wilka dla mu=-3.0, sigma=0.43, n=20: 0.9410622715950012\n",
      "P-value testu Shapiro-Wilka dla mu=-2.0, sigma=1.97, n=20: 0.20110924541950226\n",
      "P-value testu Shapiro-Wilka dla mu=-1.0, sigma=1.49, n=20: 0.7079637050628662\n",
      "P-value testu Shapiro-Wilka dla mu=0.0, sigma=1.14, n=20: 0.6594414114952087\n",
      "P-value testu Shapiro-Wilka dla mu=1.0, sigma=0.11, n=20: 0.9818270802497864\n",
      "P-value testu Shapiro-Wilka dla mu=2.0, sigma=0.06, n=20: 0.7329020500183105\n",
      "P-value testu Shapiro-Wilka dla mu=3.0, sigma=1.63, n=20: 0.852886438369751\n",
      "P-value testu Shapiro-Wilka dla mu=4.0, sigma=0.1, n=20: 0.43813881278038025\n",
      "P-value testu Shapiro-Wilka dla mu=5.0, sigma=1.69, n=20: 0.9689120650291443\n",
      "---------------------------------\n",
      "Hipoteza o normalności została odrzucona 0 razy dla n=20\n",
      "---------------------------------\n",
      "P-value testu Shapiro-Wilka dla mu=-5.0, sigma=0.48, n=50: 0.15938140451908112\n",
      "P-value testu Shapiro-Wilka dla mu=-4.0, sigma=1.57, n=50: 0.1720837503671646\n",
      "P-value testu Shapiro-Wilka dla mu=-3.0, sigma=0.43, n=50: 0.686001181602478\n",
      "P-value testu Shapiro-Wilka dla mu=-2.0, sigma=1.97, n=50: 0.9523851871490479\n",
      "P-value testu Shapiro-Wilka dla mu=-1.0, sigma=1.49, n=50: 0.15718595683574677\n",
      "P-value testu Shapiro-Wilka dla mu=0.0, sigma=1.14, n=50: 0.9145237803459167\n",
      "P-value testu Shapiro-Wilka dla mu=1.0, sigma=0.11, n=50: 0.40013056993484497\n",
      "P-value testu Shapiro-Wilka dla mu=2.0, sigma=0.06, n=50: 0.6662348508834839\n",
      "P-value testu Shapiro-Wilka dla mu=3.0, sigma=1.63, n=50: 0.5974127650260925\n",
      "P-value testu Shapiro-Wilka dla mu=4.0, sigma=0.1, n=50: 0.5226925015449524\n",
      "P-value testu Shapiro-Wilka dla mu=5.0, sigma=1.69, n=50: 0.7479666471481323\n",
      "---------------------------------\n",
      "Hipoteza o normalności została odrzucona 0 razy dla n=50\n",
      "---------------------------------\n",
      "P-value testu Shapiro-Wilka dla mu=-5.0, sigma=0.48, n=100: 0.29969343543052673\n",
      "P-value testu Shapiro-Wilka dla mu=-4.0, sigma=1.57, n=100: 0.7108157277107239\n",
      "P-value testu Shapiro-Wilka dla mu=-3.0, sigma=0.43, n=100: 0.7115017175674438\n",
      "P-value testu Shapiro-Wilka dla mu=-2.0, sigma=1.97, n=100: 0.30631330609321594\n",
      "P-value testu Shapiro-Wilka dla mu=-1.0, sigma=1.49, n=100: 0.7820290327072144\n",
      "P-value testu Shapiro-Wilka dla mu=0.0, sigma=1.14, n=100: 0.14425000548362732\n",
      "P-value testu Shapiro-Wilka dla mu=1.0, sigma=0.11, n=100: 0.5675966143608093\n",
      "P-value testu Shapiro-Wilka dla mu=2.0, sigma=0.06, n=100: 0.9011086821556091\n",
      "P-value testu Shapiro-Wilka dla mu=3.0, sigma=1.63, n=100: 0.9092642664909363\n",
      "P-value testu Shapiro-Wilka dla mu=4.0, sigma=0.1, n=100: 0.42603251338005066\n",
      "P-value testu Shapiro-Wilka dla mu=5.0, sigma=1.69, n=100: 0.9472821950912476\n",
      "---------------------------------\n",
      "Hipoteza o normalności została odrzucona 0 razy dla n=100\n",
      "---------------------------------\n",
      "P-value testu Shapiro-Wilka dla mu=-5.0, sigma=0.48, n=500: 0.49579352140426636\n",
      "P-value testu Shapiro-Wilka dla mu=-4.0, sigma=1.57, n=500: 0.03929895535111427\n",
      "P-value testu Shapiro-Wilka dla mu=-3.0, sigma=0.43, n=500: 0.8567687273025513\n",
      "P-value testu Shapiro-Wilka dla mu=-2.0, sigma=1.97, n=500: 0.9979396462440491\n",
      "P-value testu Shapiro-Wilka dla mu=-1.0, sigma=1.49, n=500: 0.3070879876613617\n",
      "P-value testu Shapiro-Wilka dla mu=0.0, sigma=1.14, n=500: 0.4657404124736786\n",
      "P-value testu Shapiro-Wilka dla mu=1.0, sigma=0.11, n=500: 0.31846731901168823\n",
      "P-value testu Shapiro-Wilka dla mu=2.0, sigma=0.06, n=500: 0.14990878105163574\n",
      "P-value testu Shapiro-Wilka dla mu=3.0, sigma=1.63, n=500: 0.728821873664856\n",
      "P-value testu Shapiro-Wilka dla mu=4.0, sigma=0.1, n=500: 0.8687440752983093\n",
      "P-value testu Shapiro-Wilka dla mu=5.0, sigma=1.69, n=500: 0.8421423435211182\n",
      "---------------------------------\n",
      "Hipoteza o normalności została odrzucona 1 razy dla n=500\n",
      "---------------------------------\n",
      "P-value testu Shapiro-Wilka dla mu=-5.0, sigma=0.48, n=1000: 0.7382686734199524\n",
      "P-value testu Shapiro-Wilka dla mu=-4.0, sigma=1.57, n=1000: 0.8683816194534302\n",
      "P-value testu Shapiro-Wilka dla mu=-3.0, sigma=0.43, n=1000: 0.5858985185623169\n",
      "P-value testu Shapiro-Wilka dla mu=-2.0, sigma=1.97, n=1000: 0.6953853368759155\n",
      "P-value testu Shapiro-Wilka dla mu=-1.0, sigma=1.49, n=1000: 0.7558395862579346\n",
      "P-value testu Shapiro-Wilka dla mu=0.0, sigma=1.14, n=1000: 0.4080369472503662\n",
      "P-value testu Shapiro-Wilka dla mu=1.0, sigma=0.11, n=1000: 0.061407189816236496\n",
      "P-value testu Shapiro-Wilka dla mu=2.0, sigma=0.06, n=1000: 0.7993437647819519\n",
      "P-value testu Shapiro-Wilka dla mu=3.0, sigma=1.63, n=1000: 0.21068944036960602\n",
      "P-value testu Shapiro-Wilka dla mu=4.0, sigma=0.1, n=1000: 0.8764973878860474\n",
      "P-value testu Shapiro-Wilka dla mu=5.0, sigma=1.69, n=1000: 0.6428369879722595\n",
      "---------------------------------\n",
      "Hipoteza o normalności została odrzucona 0 razy dla n=1000\n"
     ]
    }
   ],
   "source": [
    "alpha = 0.05\n",
    "\n",
    "mu = np.linspace(-5, 5, 11)\n",
    "sigma = np.round(stats.uniform.rvs(size=11, loc=0, scale=2), 2)\n",
    "nobs = [5, 10, 20, 50, 100, 500, 1000]\n",
    "\n",
    "for n in nobs:\n",
    "    reject = 0\n",
    "    print(\"---------------------------------\")\n",
    "    for m, s in zip(mu, sigma):\n",
    "        x = stats.norm.rvs(size=n, loc=m, scale=s)\n",
    "        pval = stats.shapiro(x)[1]\n",
    "        print(\"P-value testu Shapiro-Wilka dla mu={}, sigma={}, n={}: {}\".format(m, s, n, pval))\n",
    "        if pval < alpha: reject += 1\n",
    "    print(\"---------------------------------\")\n",
    "    print(\"Hipoteza o normalności została odrzucona {} razy dla n={}\".format(reject, n))"
   ]
  },
  {
   "cell_type": "markdown",
   "metadata": {},
   "source": [
    "## Zadanie\n",
    "Wygeneruj kilka próbek z rozkładu normalnego dla różnych parametrów $\\mu$ i $\\sigma$ i dla różnej liczności próbki. Przy generowaniu próbki dodaj pewien błąd. Sprawdź ile razy zostanie odrzucona hipoteza o normalności rozkładu. Przyjmij poziom istotności 0.05."
   ]
  },
  {
   "cell_type": "code",
   "execution_count": 6,
   "metadata": {
    "scrolled": true
   },
   "outputs": [
    {
     "name": "stdout",
     "output_type": "stream",
     "text": [
      "---------------------------------\n",
      "P-value testu Shapiro-Wilka dla mu=-5.0, sigma=0.16, n=5: 0.2555277943611145\n",
      "P-value testu Shapiro-Wilka dla mu=-4.0, sigma=0.28, n=5: 0.42844516038894653\n",
      "P-value testu Shapiro-Wilka dla mu=-3.0, sigma=0.45, n=5: 0.05893038585782051\n",
      "P-value testu Shapiro-Wilka dla mu=-2.0, sigma=0.23, n=5: 0.029279476031661034\n",
      "P-value testu Shapiro-Wilka dla mu=-1.0, sigma=0.74, n=5: 0.26367825269699097\n",
      "P-value testu Shapiro-Wilka dla mu=0.0, sigma=0.66, n=5: 0.12360212951898575\n",
      "P-value testu Shapiro-Wilka dla mu=1.0, sigma=0.25, n=5: 0.3675144910812378\n",
      "P-value testu Shapiro-Wilka dla mu=2.0, sigma=0.74, n=5: 0.790688693523407\n",
      "P-value testu Shapiro-Wilka dla mu=3.0, sigma=0.3, n=5: 0.9960901141166687\n",
      "P-value testu Shapiro-Wilka dla mu=4.0, sigma=0.34, n=5: 0.3608303368091583\n",
      "P-value testu Shapiro-Wilka dla mu=5.0, sigma=0.89, n=5: 0.9632518291473389\n",
      "---------------------------------\n",
      "Hipoteza o normalności została odrzucona 1 razy dla n=5\n",
      "---------------------------------\n",
      "P-value testu Shapiro-Wilka dla mu=-5.0, sigma=0.16, n=10: 0.20312391221523285\n",
      "P-value testu Shapiro-Wilka dla mu=-4.0, sigma=0.28, n=10: 0.16114085912704468\n",
      "P-value testu Shapiro-Wilka dla mu=-3.0, sigma=0.45, n=10: 0.6332813501358032\n",
      "P-value testu Shapiro-Wilka dla mu=-2.0, sigma=0.23, n=10: 0.3686427175998688\n",
      "P-value testu Shapiro-Wilka dla mu=-1.0, sigma=0.74, n=10: 0.09332742542028427\n",
      "P-value testu Shapiro-Wilka dla mu=0.0, sigma=0.66, n=10: 0.8926869034767151\n",
      "P-value testu Shapiro-Wilka dla mu=1.0, sigma=0.25, n=10: 0.4361589252948761\n",
      "P-value testu Shapiro-Wilka dla mu=2.0, sigma=0.74, n=10: 0.6592345833778381\n",
      "P-value testu Shapiro-Wilka dla mu=3.0, sigma=0.3, n=10: 0.12287449836730957\n",
      "P-value testu Shapiro-Wilka dla mu=4.0, sigma=0.34, n=10: 0.6837384700775146\n",
      "P-value testu Shapiro-Wilka dla mu=5.0, sigma=0.89, n=10: 0.4776970446109772\n",
      "---------------------------------\n",
      "Hipoteza o normalności została odrzucona 0 razy dla n=10\n",
      "---------------------------------\n",
      "P-value testu Shapiro-Wilka dla mu=-5.0, sigma=0.16, n=20: 0.2052793800830841\n",
      "P-value testu Shapiro-Wilka dla mu=-4.0, sigma=0.28, n=20: 0.29967769980430603\n",
      "P-value testu Shapiro-Wilka dla mu=-3.0, sigma=0.45, n=20: 0.9130326509475708\n",
      "P-value testu Shapiro-Wilka dla mu=-2.0, sigma=0.23, n=20: 0.516781210899353\n",
      "P-value testu Shapiro-Wilka dla mu=-1.0, sigma=0.74, n=20: 0.5198490023612976\n",
      "P-value testu Shapiro-Wilka dla mu=0.0, sigma=0.66, n=20: 0.7221235036849976\n",
      "P-value testu Shapiro-Wilka dla mu=1.0, sigma=0.25, n=20: 0.7465080618858337\n",
      "P-value testu Shapiro-Wilka dla mu=2.0, sigma=0.74, n=20: 0.9826637506484985\n",
      "P-value testu Shapiro-Wilka dla mu=3.0, sigma=0.3, n=20: 0.17255382239818573\n",
      "P-value testu Shapiro-Wilka dla mu=4.0, sigma=0.34, n=20: 0.2961927056312561\n",
      "P-value testu Shapiro-Wilka dla mu=5.0, sigma=0.89, n=20: 0.20733696222305298\n",
      "---------------------------------\n",
      "Hipoteza o normalności została odrzucona 0 razy dla n=20\n",
      "---------------------------------\n",
      "P-value testu Shapiro-Wilka dla mu=-5.0, sigma=0.16, n=50: 0.1181124597787857\n",
      "P-value testu Shapiro-Wilka dla mu=-4.0, sigma=0.28, n=50: 0.4356943368911743\n",
      "P-value testu Shapiro-Wilka dla mu=-3.0, sigma=0.45, n=50: 0.5784953832626343\n",
      "P-value testu Shapiro-Wilka dla mu=-2.0, sigma=0.23, n=50: 0.2703479528427124\n",
      "P-value testu Shapiro-Wilka dla mu=-1.0, sigma=0.74, n=50: 0.11897160112857819\n",
      "P-value testu Shapiro-Wilka dla mu=0.0, sigma=0.66, n=50: 0.03627080097794533\n",
      "P-value testu Shapiro-Wilka dla mu=1.0, sigma=0.25, n=50: 0.26020386815071106\n",
      "P-value testu Shapiro-Wilka dla mu=2.0, sigma=0.74, n=50: 0.7549620866775513\n",
      "P-value testu Shapiro-Wilka dla mu=3.0, sigma=0.3, n=50: 0.12282811850309372\n",
      "P-value testu Shapiro-Wilka dla mu=4.0, sigma=0.34, n=50: 0.06067720428109169\n",
      "P-value testu Shapiro-Wilka dla mu=5.0, sigma=0.89, n=50: 0.065195731818676\n",
      "---------------------------------\n",
      "Hipoteza o normalności została odrzucona 1 razy dla n=50\n",
      "---------------------------------\n",
      "P-value testu Shapiro-Wilka dla mu=-5.0, sigma=0.16, n=100: 0.02605988271534443\n",
      "P-value testu Shapiro-Wilka dla mu=-4.0, sigma=0.28, n=100: 0.011097815819084644\n",
      "P-value testu Shapiro-Wilka dla mu=-3.0, sigma=0.45, n=100: 0.10480418056249619\n",
      "P-value testu Shapiro-Wilka dla mu=-2.0, sigma=0.23, n=100: 0.04443696513772011\n",
      "P-value testu Shapiro-Wilka dla mu=-1.0, sigma=0.74, n=100: 0.054239291697740555\n",
      "P-value testu Shapiro-Wilka dla mu=0.0, sigma=0.66, n=100: 0.3161892890930176\n",
      "P-value testu Shapiro-Wilka dla mu=1.0, sigma=0.25, n=100: 0.46760061383247375\n",
      "P-value testu Shapiro-Wilka dla mu=2.0, sigma=0.74, n=100: 0.41239744424819946\n",
      "P-value testu Shapiro-Wilka dla mu=3.0, sigma=0.3, n=100: 0.008581351488828659\n",
      "P-value testu Shapiro-Wilka dla mu=4.0, sigma=0.34, n=100: 0.04191981628537178\n",
      "P-value testu Shapiro-Wilka dla mu=5.0, sigma=0.89, n=100: 0.9769673347473145\n",
      "---------------------------------\n",
      "Hipoteza o normalności została odrzucona 5 razy dla n=100\n",
      "---------------------------------\n",
      "P-value testu Shapiro-Wilka dla mu=-5.0, sigma=0.16, n=500: 4.365988903742846e-09\n",
      "P-value testu Shapiro-Wilka dla mu=-4.0, sigma=0.28, n=500: 2.803856480326772e-09\n",
      "P-value testu Shapiro-Wilka dla mu=-3.0, sigma=0.45, n=500: 3.4493853036110522e-06\n",
      "P-value testu Shapiro-Wilka dla mu=-2.0, sigma=0.23, n=500: 1.4686050597845224e-08\n",
      "P-value testu Shapiro-Wilka dla mu=-1.0, sigma=0.74, n=500: 0.03233516588807106\n",
      "P-value testu Shapiro-Wilka dla mu=0.0, sigma=0.66, n=500: 0.001734547782689333\n",
      "P-value testu Shapiro-Wilka dla mu=1.0, sigma=0.25, n=500: 2.738286930537015e-09\n",
      "P-value testu Shapiro-Wilka dla mu=2.0, sigma=0.74, n=500: 0.014698892831802368\n",
      "P-value testu Shapiro-Wilka dla mu=3.0, sigma=0.3, n=500: 6.178019873459561e-08\n",
      "P-value testu Shapiro-Wilka dla mu=4.0, sigma=0.34, n=500: 1.6658916024425707e-07\n",
      "P-value testu Shapiro-Wilka dla mu=5.0, sigma=0.89, n=500: 0.2923133671283722\n",
      "---------------------------------\n",
      "Hipoteza o normalności została odrzucona 10 razy dla n=500\n",
      "---------------------------------\n",
      "P-value testu Shapiro-Wilka dla mu=-5.0, sigma=0.16, n=5000: 2.245567980539932e-34\n",
      "P-value testu Shapiro-Wilka dla mu=-4.0, sigma=0.28, n=5000: 5.39304630035791e-31\n",
      "P-value testu Shapiro-Wilka dla mu=-3.0, sigma=0.45, n=5000: 7.168561469827667e-26\n",
      "P-value testu Shapiro-Wilka dla mu=-2.0, sigma=0.23, n=5000: 1.1236971473424635e-32\n",
      "P-value testu Shapiro-Wilka dla mu=-1.0, sigma=0.74, n=5000: 1.342828330457436e-15\n",
      "P-value testu Shapiro-Wilka dla mu=0.0, sigma=0.66, n=5000: 5.213795263310072e-15\n",
      "P-value testu Shapiro-Wilka dla mu=1.0, sigma=0.25, n=5000: 3.896653276506906e-31\n",
      "P-value testu Shapiro-Wilka dla mu=2.0, sigma=0.74, n=5000: 6.806744852734737e-17\n",
      "P-value testu Shapiro-Wilka dla mu=3.0, sigma=0.3, n=5000: 2.0511973932583195e-29\n",
      "P-value testu Shapiro-Wilka dla mu=4.0, sigma=0.34, n=5000: 6.242060283345528e-28\n",
      "P-value testu Shapiro-Wilka dla mu=5.0, sigma=0.89, n=5000: 4.511878717861073e-11\n",
      "---------------------------------\n",
      "Hipoteza o normalności została odrzucona 11 razy dla n=5000\n"
     ]
    }
   ],
   "source": [
    "mu = np.linspace(-5, 5, 11)\n",
    "sigma = np.round(stats.uniform.rvs(size=11, loc=0, scale=1), 2)\n",
    "nobs = [5, 10, 20, 50, 100, 500, 5000]\n",
    "\n",
    "for n in nobs:\n",
    "    print(\"---------------------------------\")\n",
    "    reject = 0\n",
    "    for m, s in zip(mu, sigma):\n",
    "        x = stats.norm.rvs(size=n, loc=m, scale=s) + stats.uniform.rvs(size=n, loc=-2, scale=4)\n",
    "        pval = stats.shapiro(x)[1]\n",
    "        print(\"P-value testu Shapiro-Wilka dla mu={}, sigma={}, n={}: {}\".format(m, s, n, pval))\n",
    "        if pval < alpha: reject += 1\n",
    "    print(\"---------------------------------\")\n",
    "    print(\"Hipoteza o normalności została odrzucona {} razy dla n={}\".format(reject, n))"
   ]
  },
  {
   "cell_type": "markdown",
   "metadata": {},
   "source": [
    "**Wniosek:**\n",
    "- dla małych próbek nawet duże odstępstwa od rozkładu normalnego nie są wykrywane przez test Shapiro-Wilka.\n",
    "- dla dużych próbek test odrzuca hipotezę zerową nawet przy małych odstępstwach od rozkładu normalnego (wówczas lepiej opierać się na metodach graficznych)."
   ]
  },
  {
   "cell_type": "markdown",
   "metadata": {},
   "source": [
    "## Metody graficzne\n",
    "\n",
    "- histogram (z naniesionym fitem rozkładu normalnego)\n",
    "\n",
    "- $qq$-plot:\n",
    "    * oś x - teoretyczne kwantyle z rozkładu normalnego\n",
    "    * oś y - empiryczne kwantyle wyznaczone na podstawie próby; punkty na wykresie powinny układać wzdłuż prostej $y=x$."
   ]
  },
  {
   "cell_type": "code",
   "execution_count": 7,
   "metadata": {},
   "outputs": [
    {
     "data": {
      "text/plain": [
       "<bound method norm_gen.fit of <scipy.stats._continuous_distns.norm_gen object at 0x7fe1c99b8d00>>"
      ]
     },
     "execution_count": 7,
     "metadata": {},
     "output_type": "execute_result"
    }
   ],
   "source": [
    "stats.norm.fit"
   ]
  },
  {
   "cell_type": "code",
   "execution_count": 8,
   "metadata": {},
   "outputs": [],
   "source": [
    "n = 100\n",
    "\n",
    "norm2 = stats.norm.rvs(size=n, loc=2, scale=0.5) + stats.uniform.rvs(size=n, loc=-2, scale=4)\n",
    "norm = stats.norm.rvs(size=n, loc=2, scale=0.5) \n",
    "chi = stats.chi2.rvs(size=n, df=5)\n",
    "exp = stats.expon.rvs(size=n, scale=1/2)"
   ]
  },
  {
   "cell_type": "markdown",
   "metadata": {},
   "source": [
    "## Zadanie\n",
    "Wygeneruj kilka próbek o różnej liczności z \n",
    "\n",
    "a) rozkładu normalnego,\n",
    "\n",
    "b) rozkładu chi-kwadrat,\n",
    "\n",
    "c) rozkładu wykładniczego,\n",
    "\n",
    "sporządź histogramy z naniesionym filtrem rozkładu normalnego oraz wykresy $qq$-plot. Na podstawie otrzymanych rysunków oceń czy rozkład jest normalny."
   ]
  },
  {
   "cell_type": "code",
   "execution_count": 9,
   "metadata": {},
   "outputs": [],
   "source": [
    "n = 100\n",
    "norm = stats.norm.rvs(size=n, loc=2, scale=0.5) \n",
    "norm_error = norm + stats.uniform.rvs(size=n, loc=-1, scale=2)\n",
    "chi = stats.chi2.rvs(size=n, df=5)\n",
    "exp = stats.expon.rvs(size=n, scale=1/2)"
   ]
  },
  {
   "cell_type": "code",
   "execution_count": 10,
   "metadata": {},
   "outputs": [],
   "source": [
    "?stats.norm.fit"
   ]
  },
  {
   "cell_type": "code",
   "execution_count": 11,
   "metadata": {},
   "outputs": [
    {
     "name": "stdout",
     "output_type": "stream",
     "text": [
      "2.1050345889326803 0.5401224763324808\n",
      "2.2154957819127876 0.7744578571295136\n",
      "4.8531640944215315 3.2376073854919523\n",
      "0.4454406802936439 0.4261385831895694\n"
     ]
    },
    {
     "data": {
      "text/plain": [
       "[<matplotlib.lines.Line2D at 0x7fe1c7636be0>]"
      ]
     },
     "execution_count": 11,
     "metadata": {},
     "output_type": "execute_result"
    },
    {
     "data": {
      "image/png": "[encoded data removed]",
      "text/plain": [
       "<Figure size 1440x720 with 4 Axes>"
      ]
     },
     "metadata": {
      "needs_background": "light"
     },
     "output_type": "display_data"
    }
   ],
   "source": [
    "# histogram z naniesionym filtrem rozkładu normalnego\n",
    "m1, s1 = stats.norm.fit(norm)\n",
    "print(m1, s1)\n",
    "m2, s2 = stats.norm.fit(norm_error)\n",
    "print(m2, s2)\n",
    "m3, s3 = stats.norm.fit(chi)\n",
    "print(m3, s3)\n",
    "m4, s4 = stats.norm.fit(exp)\n",
    "print(m4, s4)\n",
    "\n",
    "fig, ax = plt.subplots(2, 2, figsize=(20, 10))\n",
    "N_bins = 10\n",
    "\n",
    "x_range = np.linspace(norm.min(), norm.max(), 100)\n",
    "ax[0, 0].hist(norm, bins=N_bins, density=True, alpha=0.5)\n",
    "ax[0, 0].plot(x_range, stats.norm.pdf(x_range, m1, s1), '--')\n",
    "\n",
    "x_range = np.linspace(norm_error.min(), norm_error.max(), 100)\n",
    "ax[0, 1].hist(norm_error, bins=N_bins, density=True, alpha=0.5)\n",
    "ax[0, 1].plot(x_range, stats.norm.pdf(x_range, m2, s2), '--')\n",
    "\n",
    "x_range = np.linspace(chi.min(), chi.max(), 100)\n",
    "ax[1, 0].hist(chi, bins=N_bins, density=True, alpha=0.5)\n",
    "ax[1, 0].plot(x_range, stats.norm.pdf(x_range, m3, s3), '--')\n",
    "\n",
    "x_range = np.linspace(exp.min(), exp.max(), 100)\n",
    "ax[1, 1].hist(exp, bins=N_bins, density=True, alpha=0.5)\n",
    "ax[1, 1].plot(x_range, stats.norm.pdf(x_range, m4, s4), '--')"
   ]
  },
  {
   "cell_type": "code",
   "execution_count": 12,
   "metadata": {},
   "outputs": [],
   "source": [
    "?sm.qqplot"
   ]
  },
  {
   "cell_type": "code",
   "execution_count": 13,
   "metadata": {
    "scrolled": true
   },
   "outputs": [
    {
     "name": "stdout",
     "output_type": "stream",
     "text": [
      "ShapiroResult(statistic=0.9816391468048096, pvalue=0.17802157998085022)\n"
     ]
    },
    {
     "data": {
      "image/png": "[encoded data removed]",
      "text/plain": [
       "<Figure size 432x288 with 1 Axes>"
      ]
     },
     "metadata": {
      "needs_background": "light"
     },
     "output_type": "display_data"
    }
   ],
   "source": [
    "sm.qqplot(norm, stats.norm, line='q')\n",
    "print(stats.shapiro(norm))\n",
    "plt.show()"
   ]
  },
  {
   "cell_type": "code",
   "execution_count": 14,
   "metadata": {},
   "outputs": [
    {
     "name": "stdout",
     "output_type": "stream",
     "text": [
      "ShapiroResult(statistic=0.9852702021598816, pvalue=0.332101047039032)\n"
     ]
    },
    {
     "data": {
      "image/png": "[encoded data removed]",
      "text/plain": [
       "<Figure size 432x288 with 1 Axes>"
      ]
     },
     "metadata": {
      "needs_background": "light"
     },
     "output_type": "display_data"
    }
   ],
   "source": [
    "sm.qqplot(norm_error, stats.norm, line='q')\n",
    "print(stats.shapiro(norm_error))\n",
    "plt.show()"
   ]
  },
  {
   "cell_type": "code",
   "execution_count": 15,
   "metadata": {},
   "outputs": [
    {
     "name": "stdout",
     "output_type": "stream",
     "text": [
      "ShapiroResult(statistic=0.8894606828689575, pvalue=4.665589017349703e-07)\n"
     ]
    },
    {
     "data": {
      "image/png": "[encoded data removed]",
      "text/plain": [
       "<Figure size 432x288 with 1 Axes>"
      ]
     },
     "metadata": {
      "needs_background": "light"
     },
     "output_type": "display_data"
    }
   ],
   "source": [
    "sm.qqplot(chi, stats.norm, line='q')\n",
    "print(stats.shapiro(chi))\n",
    "plt.show()"
   ]
  },
  {
   "cell_type": "code",
   "execution_count": 16,
   "metadata": {
    "scrolled": true
   },
   "outputs": [
    {
     "name": "stdout",
     "output_type": "stream",
     "text": [
      "ShapiroResult(statistic=0.8578464984893799, pvalue=2.337556992415557e-08)\n"
     ]
    },
    {
     "data": {
      "image/png": "[encoded data removed]",
      "text/plain": [
       "<Figure size 432x288 with 1 Axes>"
      ]
     },
     "metadata": {
      "needs_background": "light"
     },
     "output_type": "display_data"
    }
   ],
   "source": [
    "sm.qqplot(exp, stats.norm, line='q')\n",
    "print(stats.shapiro(exp))\n",
    "plt.show()"
   ]
  },
  {
   "cell_type": "markdown",
   "metadata": {},
   "source": [
    "## Inne testy do badania normalności\n",
    "\n",
    "* testy oparte na kurtozie i skośności:\n",
    "    - [test D'Agostino $K^2$](https://en.wikipedia.org/wiki/D%27Agostino%27s_K-squared_test): `scipy.stats.normaltest`;\n",
    "\n",
    "    - [test Jarque–Bera](https://en.wikipedia.org/wiki/Jarque%E2%80%93Bera_test): `scipy.stats.jarque_bera`;\n",
    "    \n",
    "* testy oparte na dystrybuancie empirycznej:\n",
    "    - [test Kolmogorova–Smirnova](https://en.wikipedia.org/wiki/Kolmogorov%E2%80%93Smirnov_test): `scipy.stats.kstest`;\n",
    "    \n",
    "    - [test Lilliefors](https://en.wikipedia.org/wiki/Lilliefors_test): `statsmodels.stats.diagnostic.lilliefors`;"
   ]
  },
  {
   "cell_type": "markdown",
   "metadata": {},
   "source": [
    "## Test typu omnibus D’Agostino-Pearsona oparty o kurtozę i skośność\n",
    "Łącząc dwa testy otrzymuje się test czuły na odstępstwa od normalności zarówno w postaci niezerowej skośności jak i kurtozy istotnie różniej od 3.\n",
    "\n",
    "Statystyką testową jest\n",
    "$$\n",
    "K^2=(Z(\\sqrt{b_1}))^2+ (Z(b_2))^2,\n",
    "$$\n",
    "gdzie $Z(\\sqrt{b_1})$ to  statystyka  testowa  testu  opartego  o  skośność  a $Z(b_2)$  to  statystyka  testowa  testu opartego o kurtozę.\n",
    "\n",
    "Asymptotyczny rozkład tej statystyki to rozkład $\\chi^2$.\n",
    "\n",
    "Ponadto:\n",
    "$m_k = \\frac{1}{n}\\sum_{i=1}^n (x_i -\\overline{x})^k$, $\\sqrt{b_1} = \\frac{m_3}{m_2^{3/2}}$, $b_2 = \\frac{m4}{m_2^2}-3$.\n",
    "\n",
    "## Test typu omnibus Jarque-Bera oparty o kurtozę i skośność\n",
    "Innym testem opartym o kurtozę i skośność jest test Jarque-Bera. Statystyka testowaw przypadku tego testu ma łatwiejszą postać niż dla testu D’Agostino-Pearsona. Traci się jednak na niedokładnym oszacowaniu wartości krytycznych przy niewielkich wielkościach próby. Asymptotycznie ten test jest tak samo mocny jak test D’Agostino-Pearsona, ale na asymptotykę można liczyć jedynie w przypadku dużych prób.\n",
    "\n",
    "Statystyka testowa ma postać:\n",
    "$$\n",
    "    \\text{JB} = \\frac{n}{6}\\Big((\\sqrt{b_1})^2 + \\frac{1}{4}(b_2-3)^2\\Big).\n",
    "$$\n",
    "\n",
    "\n",
    "## Test Kołmogorova-Smirnova\n",
    "\n",
    "Test oparty o odległość supremum pomiędzy dystrybuantami empiryczną $F_n$ i teoretyczną $F$\n",
    "$$\n",
    "d(F_n, F) = \\sup_{x}|F_n(x) - F(x)|.\n",
    "$$\n",
    "\n",
    "Statystka testowa oparta o powyższą odległość sprowadza się do liczenia maksimum modułu różnicy dystrybuant w punktach skoku dystrybuanty empirycznej:\n",
    "$$\n",
    "D = \\max_{x_i}|F_n(x_i) - F(x_i)|.\n",
    "$$\n",
    "\n",
    "Rozkład statystyki testowej można wyznaczyć w sposób dokładny dla prostej hipotezy zerowej, a więc dla porównania z jednym określonym rozkładem. Asymptotycznie, ta statystyka przemnożona przez $\\sqrt{n}$ ma rozkład Kołmogorowa.\n",
    "\n",
    "Test ten pomimo łatwego opisu probabilistycznego nie jest stosowany z uwagi na moc niższą niż konkurencja.\n",
    "\n",
    "## Test Lillieforsa\n",
    "\n",
    "Ten test to modyfikacja testu Kołmogorowa-Smirnowa zaproponowana przez Huberta Lillieforsa, pozwalająca na testowanie zgodności z całą rodziną rozkładów normalnych, bez znajomości parametrów średniej i odchylenia standardowego (test Kołmogorowa-Smirnowa pozwala na zbadanie zgodnościz jednym określonym rozkładem).\n",
    "\n",
    "Statystyka testowa w przypadku testu Lillieforsa wygląda tak samo jak w przypadku testu Kołmogorowa-Smirnowa. Różnica polega na zastosowaniu innego rozkładu dla statystyki testowej (przybliżenie rozkładu dokładnego), uwzględniającego to, że hipoteza zerowa jest hipotezą złożoną."
   ]
  },
  {
   "cell_type": "code",
   "execution_count": 17,
   "metadata": {},
   "outputs": [],
   "source": [
    "?stats.kstest"
   ]
  },
  {
   "cell_type": "code",
   "execution_count": 18,
   "metadata": {},
   "outputs": [],
   "source": [
    "?stats.normaltest"
   ]
  },
  {
   "cell_type": "code",
   "execution_count": 19,
   "metadata": {},
   "outputs": [
    {
     "data": {
      "text/plain": [
       "NormaltestResult(statistic=2.2338846618967496, pvalue=0.3272789770593606)"
      ]
     },
     "execution_count": 19,
     "metadata": {},
     "output_type": "execute_result"
    }
   ],
   "source": [
    "stats.normaltest(norm_error)"
   ]
  },
  {
   "cell_type": "code",
   "execution_count": 20,
   "metadata": {},
   "outputs": [],
   "source": [
    "?stats.jarque_bera"
   ]
  },
  {
   "cell_type": "code",
   "execution_count": 21,
   "metadata": {},
   "outputs": [
    {
     "data": {
      "text/plain": [
       "Jarque_beraResult(statistic=1.7822807292646268, pvalue=0.41018772236921863)"
      ]
     },
     "execution_count": 21,
     "metadata": {},
     "output_type": "execute_result"
    }
   ],
   "source": [
    "stats.jarque_bera(norm_error)"
   ]
  },
  {
   "cell_type": "code",
   "execution_count": 22,
   "metadata": {},
   "outputs": [],
   "source": [
    "?stats.kstest"
   ]
  },
  {
   "cell_type": "code",
   "execution_count": 23,
   "metadata": {},
   "outputs": [
    {
     "data": {
      "text/plain": [
       "KstestResult(statistic=0.06379904819527016, pvalue=0.786200161941665)"
      ]
     },
     "execution_count": 23,
     "metadata": {},
     "output_type": "execute_result"
    }
   ],
   "source": [
    "norm_error_stand = (norm_error - np.mean(norm_error)) / np.std(norm_error, ddof=1)\n",
    "stats.kstest(norm_error_stand, 'norm')"
   ]
  },
  {
   "cell_type": "code",
   "execution_count": 24,
   "metadata": {},
   "outputs": [],
   "source": [
    "?sm_stats.diagnostic.lilliefors"
   ]
  },
  {
   "cell_type": "code",
   "execution_count": 25,
   "metadata": {},
   "outputs": [
    {
     "data": {
      "text/plain": [
       "(0.06379904819527016, 0.41285010986266585)"
      ]
     },
     "execution_count": 25,
     "metadata": {},
     "output_type": "execute_result"
    }
   ],
   "source": [
    "sm_stats.diagnostic.lilliefors(norm_error, 'norm')"
   ]
  },
  {
   "cell_type": "markdown",
   "metadata": {},
   "source": [
    "## Zadanie\n",
    "Napisz funkcję, która dla dowolnej próbki zwróci ramkę danych z wyznaczonymi statystykami testowymi i $p$-wartościami dla poznanych testów normalności."
   ]
  },
  {
   "cell_type": "code",
   "execution_count": 26,
   "metadata": {},
   "outputs": [],
   "source": [
    "def normal_tests(x):\n",
    "    pass"
   ]
  },
  {
   "cell_type": "code",
   "execution_count": 27,
   "metadata": {},
   "outputs": [],
   "source": [
    "def normal_tests(x):\n",
    "    tests = ['Shapiro-Wilk Test', \"Omnibus Test\", \"Jarque–Bera Test\", \n",
    "             \"Kolmogorov–Smirnov Test\", \"Lilliefors Test\"]\n",
    "    shapiro = stats.shapiro(x)\n",
    "    omnibus = stats.normaltest(x)\n",
    "    jarque_bera = stats.jarque_bera(x)\n",
    "    x_stand = (x - np.mean(x)) / np.std(x, ddof=1)\n",
    "    ks = stats.kstest(x_stand, 'norm')\n",
    "    lilliefors = sm_stats.diagnostic.lilliefors(x, 'norm')\n",
    "    \n",
    "    statistics = np.round([shapiro[0], omnibus.statistic, jarque_bera[0], ks.statistic, lilliefors[0]], 2)\n",
    "    pvalues = np.round([shapiro[1], omnibus.pvalue, jarque_bera[1], ks.pvalue, lilliefors[1]], 5)\n",
    "    \n",
    "    return pd.DataFrame({\n",
    "        'test': tests,\n",
    "        'statistic': statistics,\n",
    "        'pvalue': pvalues\n",
    "    })"
   ]
  },
  {
   "cell_type": "code",
   "execution_count": 28,
   "metadata": {},
   "outputs": [
    {
     "data": {
      "text/html": [
       "<div>\n",
       "<style scoped>\n",
       "    .dataframe tbody tr th:only-of-type {\n",
       "        vertical-align: middle;\n",
       "    }\n",
       "\n",
       "    .dataframe tbody tr th {\n",
       "        vertical-align: top;\n",
       "    }\n",
       "\n",
       "    .dataframe thead th {\n",
       "        text-align: right;\n",
       "    }\n",
       "</style>\n",
       "<table border=\"1\" class=\"dataframe\">\n",
       "  <thead>\n",
       "    <tr style=\"text-align: right;\">\n",
       "      <th></th>\n",
       "      <th>test</th>\n",
       "      <th>statistic</th>\n",
       "      <th>pvalue</th>\n",
       "    </tr>\n",
       "  </thead>\n",
       "  <tbody>\n",
       "    <tr>\n",
       "      <th>0</th>\n",
       "      <td>Shapiro-Wilk Test</td>\n",
       "      <td>0.99</td>\n",
       "      <td>0.33210</td>\n",
       "    </tr>\n",
       "    <tr>\n",
       "      <th>1</th>\n",
       "      <td>Omnibus Test</td>\n",
       "      <td>2.23</td>\n",
       "      <td>0.32728</td>\n",
       "    </tr>\n",
       "    <tr>\n",
       "      <th>2</th>\n",
       "      <td>Jarque–Bera Test</td>\n",
       "      <td>1.78</td>\n",
       "      <td>0.41019</td>\n",
       "    </tr>\n",
       "    <tr>\n",
       "      <th>3</th>\n",
       "      <td>Kolmogorov–Smirnov Test</td>\n",
       "      <td>0.06</td>\n",
       "      <td>0.78620</td>\n",
       "    </tr>\n",
       "    <tr>\n",
       "      <th>4</th>\n",
       "      <td>Lilliefors Test</td>\n",
       "      <td>0.06</td>\n",
       "      <td>0.41285</td>\n",
       "    </tr>\n",
       "  </tbody>\n",
       "</table>\n",
       "</div>"
      ],
      "text/plain": [
       "                      test  statistic   pvalue\n",
       "0        Shapiro-Wilk Test       0.99  0.33210\n",
       "1             Omnibus Test       2.23  0.32728\n",
       "2         Jarque–Bera Test       1.78  0.41019\n",
       "3  Kolmogorov–Smirnov Test       0.06  0.78620\n",
       "4          Lilliefors Test       0.06  0.41285"
      ]
     },
     "execution_count": 28,
     "metadata": {},
     "output_type": "execute_result"
    }
   ],
   "source": [
    "normal_tests(norm_error)"
   ]
  },
  {
   "cell_type": "markdown",
   "metadata": {},
   "source": [
    "## Zadanie\n",
    "Wczytaj dane `mtcars.csv` i sprawdź normalność każdej z kolumn (za pomocą testów statystycznych oraz metod graficznych). "
   ]
  },
  {
   "cell_type": "code",
   "execution_count": 29,
   "metadata": {},
   "outputs": [
    {
     "data": {
      "text/html": [
       "<div>\n",
       "<style scoped>\n",
       "    .dataframe tbody tr th:only-of-type {\n",
       "        vertical-align: middle;\n",
       "    }\n",
       "\n",
       "    .dataframe tbody tr th {\n",
       "        vertical-align: top;\n",
       "    }\n",
       "\n",
       "    .dataframe thead th {\n",
       "        text-align: right;\n",
       "    }\n",
       "</style>\n",
       "<table border=\"1\" class=\"dataframe\">\n",
       "  <thead>\n",
       "    <tr style=\"text-align: right;\">\n",
       "      <th></th>\n",
       "      <th>mpg</th>\n",
       "      <th>cyl</th>\n",
       "      <th>disp</th>\n",
       "      <th>hp</th>\n",
       "      <th>drat</th>\n",
       "      <th>wt</th>\n",
       "      <th>qsec</th>\n",
       "      <th>vs</th>\n",
       "      <th>am</th>\n",
       "      <th>gear</th>\n",
       "      <th>carb</th>\n",
       "    </tr>\n",
       "  </thead>\n",
       "  <tbody>\n",
       "    <tr>\n",
       "      <th>0</th>\n",
       "      <td>21.0</td>\n",
       "      <td>6</td>\n",
       "      <td>160.0</td>\n",
       "      <td>110</td>\n",
       "      <td>3.90</td>\n",
       "      <td>2.620</td>\n",
       "      <td>16.46</td>\n",
       "      <td>0</td>\n",
       "      <td>1</td>\n",
       "      <td>4</td>\n",
       "      <td>4</td>\n",
       "    </tr>\n",
       "    <tr>\n",
       "      <th>1</th>\n",
       "      <td>21.0</td>\n",
       "      <td>6</td>\n",
       "      <td>160.0</td>\n",
       "      <td>110</td>\n",
       "      <td>3.90</td>\n",
       "      <td>2.875</td>\n",
       "      <td>17.02</td>\n",
       "      <td>0</td>\n",
       "      <td>1</td>\n",
       "      <td>4</td>\n",
       "      <td>4</td>\n",
       "    </tr>\n",
       "    <tr>\n",
       "      <th>2</th>\n",
       "      <td>22.8</td>\n",
       "      <td>4</td>\n",
       "      <td>108.0</td>\n",
       "      <td>93</td>\n",
       "      <td>3.85</td>\n",
       "      <td>2.320</td>\n",
       "      <td>18.61</td>\n",
       "      <td>1</td>\n",
       "      <td>1</td>\n",
       "      <td>4</td>\n",
       "      <td>1</td>\n",
       "    </tr>\n",
       "    <tr>\n",
       "      <th>3</th>\n",
       "      <td>21.4</td>\n",
       "      <td>6</td>\n",
       "      <td>258.0</td>\n",
       "      <td>110</td>\n",
       "      <td>3.08</td>\n",
       "      <td>3.215</td>\n",
       "      <td>19.44</td>\n",
       "      <td>1</td>\n",
       "      <td>0</td>\n",
       "      <td>3</td>\n",
       "      <td>1</td>\n",
       "    </tr>\n",
       "    <tr>\n",
       "      <th>4</th>\n",
       "      <td>18.7</td>\n",
       "      <td>8</td>\n",
       "      <td>360.0</td>\n",
       "      <td>175</td>\n",
       "      <td>3.15</td>\n",
       "      <td>3.440</td>\n",
       "      <td>17.02</td>\n",
       "      <td>0</td>\n",
       "      <td>0</td>\n",
       "      <td>3</td>\n",
       "      <td>2</td>\n",
       "    </tr>\n",
       "  </tbody>\n",
       "</table>\n",
       "</div>"
      ],
      "text/plain": [
       "    mpg  cyl   disp   hp  drat     wt   qsec  vs  am  gear  carb\n",
       "0  21.0    6  160.0  110  3.90  2.620  16.46   0   1     4     4\n",
       "1  21.0    6  160.0  110  3.90  2.875  17.02   0   1     4     4\n",
       "2  22.8    4  108.0   93  3.85  2.320  18.61   1   1     4     1\n",
       "3  21.4    6  258.0  110  3.08  3.215  19.44   1   0     3     1\n",
       "4  18.7    8  360.0  175  3.15  3.440  17.02   0   0     3     2"
      ]
     },
     "execution_count": 29,
     "metadata": {},
     "output_type": "execute_result"
    }
   ],
   "source": [
    "mtcars = pd.read_csv(\"../data/mtcars.csv\")\n",
    "mtcars.head()"
   ]
  },
  {
   "cell_type": "code",
   "execution_count": 30,
   "metadata": {},
   "outputs": [
    {
     "name": "stdout",
     "output_type": "stream",
     "text": [
      "Testy normalności dla zmiennej: mpg\n",
      "                      test  statistic   pvalue\n",
      "0        Shapiro-Wilk Test       0.95  0.12288\n",
      "1             Omnibus Test       2.71  0.25741\n",
      "2         Jarque–Bera Test       2.24  0.32609\n",
      "3  Kolmogorov–Smirnov Test       0.13  0.64125\n",
      "4          Lilliefors Test       0.13  0.22294\n",
      "Testy normalności dla zmiennej: cyl\n",
      "                      test  statistic   pvalue\n",
      "0        Shapiro-Wilk Test       0.75  0.00001\n",
      "1             Omnibus Test      38.53  0.00000\n",
      "2         Jarque–Bera Test       3.95  0.13901\n",
      "3  Kolmogorov–Smirnov Test       0.28  0.00945\n",
      "4          Lilliefors Test       0.28  0.00100\n",
      "Testy normalności dla zmiennej: disp\n",
      "                      test  statistic   pvalue\n",
      "0        Shapiro-Wilk Test       0.92  0.02081\n",
      "1             Omnibus Test       5.00  0.08207\n",
      "2         Jarque–Bera Test       2.44  0.29557\n",
      "3  Kolmogorov–Smirnov Test       0.19  0.15434\n",
      "4          Lilliefors Test       0.19  0.00362\n",
      "Testy normalności dla zmiennej: hp\n",
      "                      test  statistic   pvalue\n",
      "0        Shapiro-Wilk Test       0.93  0.04881\n",
      "1             Omnibus Test       3.97  0.13722\n",
      "2         Jarque–Bera Test       3.10  0.21269\n",
      "3  Kolmogorov–Smirnov Test       0.17  0.30367\n",
      "4          Lilliefors Test       0.17  0.02483\n",
      "Testy normalności dla zmiennej: drat\n",
      "                      test  statistic   pvalue\n",
      "0        Shapiro-Wilk Test       0.95  0.11006\n",
      "1             Omnibus Test       0.77  0.67949\n",
      "2         Jarque–Bera Test       0.84  0.65697\n",
      "3  Kolmogorov–Smirnov Test       0.16  0.34991\n",
      "4          Lilliefors Test       0.16  0.03906\n",
      "Testy normalności dla zmiennej: wt\n",
      "                      test  statistic   pvalue\n",
      "0        Shapiro-Wilk Test       0.94  0.09266\n",
      "1             Omnibus Test       1.88  0.39057\n",
      "2         Jarque–Bera Test       1.09  0.57983\n",
      "3  Kolmogorov–Smirnov Test       0.14  0.55323\n",
      "4          Lilliefors Test       0.14  0.15089\n",
      "Testy normalności dla zmiennej: qsec\n",
      "                      test  statistic   pvalue\n",
      "0        Shapiro-Wilk Test       0.97  0.59352\n",
      "1             Omnibus Test       2.38  0.30453\n",
      "2         Jarque–Bera Test       1.21  0.54667\n",
      "3  Kolmogorov–Smirnov Test       0.07  0.99055\n",
      "4          Lilliefors Test       0.07  0.93601\n",
      "Testy normalności dla zmiennej: vs\n",
      "                      test  statistic  pvalue\n",
      "0        Shapiro-Wilk Test       0.63  0.0000\n",
      "1             Omnibus Test     195.93  0.0000\n",
      "2         Jarque–Bera Test       5.34  0.0693\n",
      "3  Kolmogorov–Smirnov Test       0.37  0.0002\n",
      "4          Lilliefors Test       0.37  0.0010\n",
      "Testy normalności dla zmiennej: am\n",
      "                      test  statistic   pvalue\n",
      "0        Shapiro-Wilk Test       0.63  0.00000\n",
      "1             Omnibus Test      99.39  0.00000\n",
      "2         Jarque–Bera Test       5.36  0.06851\n",
      "3  Kolmogorov–Smirnov Test       0.39  0.00008\n",
      "4          Lilliefors Test       0.39  0.00100\n",
      "Testy normalności dla zmiennej: gear\n",
      "                      test  statistic   pvalue\n",
      "0        Shapiro-Wilk Test       0.77  0.00001\n",
      "1             Omnibus Test       4.18  0.12351\n",
      "2         Jarque–Bera Test       2.83  0.24330\n",
      "3  Kolmogorov–Smirnov Test       0.29  0.00627\n",
      "4          Lilliefors Test       0.29  0.00100\n",
      "Testy normalności dla zmiennej: carb\n",
      "                      test  statistic   pvalue\n",
      "0        Shapiro-Wilk Test       0.85  0.00044\n",
      "1             Omnibus Test      10.63  0.00492\n",
      "2         Jarque–Bera Test       9.62  0.00813\n",
      "3  Kolmogorov–Smirnov Test       0.22  0.06880\n",
      "4          Lilliefors Test       0.22  0.00100\n"
     ]
    }
   ],
   "source": [
    "for col in mtcars.iteritems():\n",
    "    print(\"Testy normalności dla zmiennej: {}\".format(col[0]))\n",
    "    print(normal_tests(col[1]))"
   ]
  }
 ],
 "metadata": {
  "kernelspec": {
   "display_name": "Python 3",
   "language": "python",
   "name": "python3"
  },
  "language_info": {
   "codemirror_mode": {
    "name": "ipython",
    "version": 3
   },
   "file_extension": ".py",
   "mimetype": "text/x-python",
   "name": "python",
   "nbconvert_exporter": "python",
   "pygments_lexer": "ipython3",
   "version": "3.8.8"
  }
 },
 "nbformat": 4,
 "nbformat_minor": 2
}
