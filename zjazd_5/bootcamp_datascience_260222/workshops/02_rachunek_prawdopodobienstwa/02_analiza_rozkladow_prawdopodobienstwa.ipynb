{
 "cells": [
  {
   "cell_type": "markdown",
   "metadata": {},
   "source": [
    "# Analiza rozkładów prawdopobieństwa"
   ]
  },
  {
   "cell_type": "code",
   "execution_count": 2,
   "metadata": {},
   "outputs": [],
   "source": [
    "import numpy as np\n",
    "import matplotlib.pyplot as plt\n",
    "\n",
    "from scipy import stats"
   ]
  },
  {
   "cell_type": "markdown",
   "metadata": {},
   "source": [
    "## Zadanie - rozkład dyskretny\n",
    "Zmienna losowa $X$ ma funkcje prawdopodobieństwa nastepującej postaci:\n",
    "\n",
    "| $x_i$ | -3  | -1  | 3   | 5   |\n",
    "|-------|-----|-----|-----|-----|\n",
    "| $p_i$ | 0.1 | 0.2 | 0.5 | 0.2 |\n",
    "\n",
    "\n",
    "a) Narysuj wykres rozkładu prawdopodobieństwa.\n",
    "\n",
    "*b) Narysuj dystrybuante $F$ tego rozkładu.\n",
    "\n",
    "c) Oblicz prawdopodobieństwa $P(X > 1)$ i $P( \\frac{1}{4} < X < 5)$.\n",
    "\n",
    "d) Oblicz wartość oczekiwaną, wariancję i odchylenie standardowe zmiennej X."
   ]
  },
  {
   "cell_type": "code",
   "execution_count": 11,
   "metadata": {},
   "outputs": [
    {
     "data": {
      "image/png": "[encoded data removed]",
      "text/plain": [
       "<Figure size 432x288 with 1 Axes>"
      ]
     },
     "metadata": {
      "needs_background": "light"
     },
     "output_type": "display_data"
    }
   ],
   "source": [
    "# a)\n",
    "\n",
    "x = [-3, -1, 3, 5]\n",
    "p = [0.1, 0.2, 0.5, 0.2]\n",
    "\n",
    "#plt.scatter(x=x, y=p, color='b')\n",
    "plt.vlines(x = x, ymin=0, ymax=p, colors='g')\n",
    "plt.grid()\n",
    "plt.show()"
   ]
  },
  {
   "cell_type": "code",
   "execution_count": 15,
   "metadata": {},
   "outputs": [
    {
     "name": "stdout",
     "output_type": "stream",
     "text": [
      "CPU times: user 35 µs, sys: 8 µs, total: 43 µs\n",
      "Wall time: 53.2 µs\n"
     ]
    },
    {
     "data": {
      "text/plain": [
       "[0.1, 0.30000000000000004, 0.8, 1.0]"
      ]
     },
     "execution_count": 15,
     "metadata": {},
     "output_type": "execute_result"
    }
   ],
   "source": [
    "%%time\n",
    "ln = len(p)\n",
    "lst = [0] * ln\n",
    "val = 0\n",
    "\n",
    "for i in range(ln):\n",
    "    val += p[i]\n",
    "    lst[i] = val\n",
    "\n",
    "lst"
   ]
  },
  {
   "cell_type": "code",
   "execution_count": 17,
   "metadata": {},
   "outputs": [
    {
     "name": "stdout",
     "output_type": "stream",
     "text": [
      "CPU times: user 14 µs, sys: 3 µs, total: 17 µs\n",
      "Wall time: 20.7 µs\n"
     ]
    },
    {
     "data": {
      "text/plain": [
       "[0.1, 0.30000000000000004, 0.8, 1.0]"
      ]
     },
     "execution_count": 17,
     "metadata": {},
     "output_type": "execute_result"
    }
   ],
   "source": [
    "%%time\n",
    "lst = []\n",
    "val = 0\n",
    "\n",
    "for elem in p:\n",
    "    val += elem\n",
    "    lst.append(val)\n",
    "\n",
    "lst"
   ]
  },
  {
   "cell_type": "code",
   "execution_count": 18,
   "metadata": {},
   "outputs": [
    {
     "name": "stdout",
     "output_type": "stream",
     "text": [
      "CPU times: user 42 µs, sys: 10 µs, total: 52 µs\n",
      "Wall time: 56.5 µs\n"
     ]
    },
    {
     "data": {
      "text/plain": [
       "[0.1, 0.30000000000000004, 0.8, 1.0]"
      ]
     },
     "execution_count": 18,
     "metadata": {},
     "output_type": "execute_result"
    }
   ],
   "source": [
    "%%time\n",
    "list(np.cumsum(p))"
   ]
  },
  {
   "cell_type": "code",
   "execution_count": 15,
   "metadata": {},
   "outputs": [],
   "source": [
    "# b)\n",
    "\n",
    "# F(x) = P(X <= x) = sum p_i po x_i <= x\n",
    "\n",
    "F = list(np.cumsum(p))\n",
    "x_lim = list(x)"
   ]
  },
  {
   "cell_type": "code",
   "execution_count": 16,
   "metadata": {},
   "outputs": [
    {
     "name": "stdout",
     "output_type": "stream",
     "text": [
      "[0.1, 0.30000000000000004, 0.8, 1.0]\n",
      "[-3, -1, 3, 5]\n"
     ]
    }
   ],
   "source": [
    "print(F)\n",
    "print(x_lim)"
   ]
  },
  {
   "cell_type": "code",
   "execution_count": 31,
   "metadata": {},
   "outputs": [
    {
     "data": {
      "image/png": "[encoded data removed]",
      "text/plain": [
       "<Figure size 432x288 with 1 Axes>"
      ]
     },
     "metadata": {
      "needs_background": "light"
     },
     "output_type": "display_data"
    }
   ],
   "source": [
    "plt.scatter(x, F)\n",
    "plt.xlim(-10, 10)\n",
    "plt.ylim(-0.1, 1.1)\n",
    "\n",
    "x_lim = [-10] + list(x) + [10]\n",
    "f = [0] + F\n",
    "plt.scatter(x, f[:-1], facecolors = 'none', edgecolors='r')\n",
    "\n",
    "for i in range(len(x_lim) - 1):\n",
    "    plt.hlines(xmin=x_lim[i], xmax=x_lim[i+1], y = f[i])"
   ]
  },
  {
   "cell_type": "code",
   "execution_count": null,
   "metadata": {},
   "outputs": [],
   "source": [
    "# c)\n",
    "\n",
    "# F(x) = P(X <= x)\n",
    "# P(X > x) = 1 - F(x)\n",
    "\n",
    "# P(X > 1) = P(X = 3) + P(X=5) = 0.7\n",
    "# P(X > 1) = 1 - F(1)\n",
    "\n",
    "#P(0.25 < X < 5) = P(X = 3) = 0.5"
   ]
  },
  {
   "cell_type": "code",
   "execution_count": 37,
   "metadata": {},
   "outputs": [
    {
     "name": "stdout",
     "output_type": "stream",
     "text": [
      "2.0\n",
      "10.6\n",
      "6.6\n",
      "2.569046515733026\n"
     ]
    }
   ],
   "source": [
    "# d) \n",
    "\n",
    "\n",
    "# EX = suma x* p\n",
    "x = np.array([-3, -1, 3, 5])\n",
    "p = np.array([0.1, 0.2, 0.5, 0.2])\n",
    "\n",
    "\n",
    "ex = np.sum(x * p)\n",
    "print(ex)\n",
    "\n",
    "# Var(X) = EX^2 - (EX)^2\n",
    "# EX^2 = suma X^2 * p\n",
    "\n",
    "ex2 = np.sum(x ** 2 * p)\n",
    "print(ex2)\n",
    "\n",
    "var = ex2 - ex ** 2\n",
    "print(var)\n",
    "\n",
    "std = np.sqrt(var)\n",
    "print(std)"
   ]
  },
  {
   "cell_type": "markdown",
   "metadata": {},
   "source": [
    "## ***Zadanie - rozkład ciągły\n",
    "Zmienna losowa X ma rozkład ciągły o gęstości:\n",
    "\n",
    "$$\n",
    "    f(x)=\\left.\n",
    "    \\begin{cases}\n",
    "    x \\quad &\\text{dla}\\quad 0<x\\leq 1\\\\\n",
    "    2-x \\quad &\\text{dla}\\quad 1<x\\leq 2\\\\\n",
    "    0 \\quad &\\text{dla}\\quad x>2, x\\le 0.\n",
    "    \\end{cases}\\right.\n",
    "$$\n",
    "\n",
    "\n",
    "a) Narysuj wykres gęstości.\n",
    "\n",
    "b) Wyznacz narysuj dystrybuante $F$ tego rozkładu.\n",
    "\n",
    "c) Oblicz prawdopodobieństwa $P(X > 1)$ i $P( \\frac{1}{4} < X \\leq 1)$.\n",
    "\n",
    "d) Oblicz wartość oczekiwaną, wariancję i odchylenie standardowe zmiennej X."
   ]
  },
  {
   "cell_type": "code",
   "execution_count": null,
   "metadata": {},
   "outputs": [],
   "source": [
    "# a"
   ]
  },
  {
   "cell_type": "code",
   "execution_count": 44,
   "metadata": {},
   "outputs": [],
   "source": [
    "f = lambda x: x if x > 0 and x <= 1 else 2 - x if x > 1 and x <= 2 else 0"
   ]
  },
  {
   "cell_type": "code",
   "execution_count": 46,
   "metadata": {},
   "outputs": [
    {
     "data": {
      "text/plain": [
       "1"
      ]
     },
     "execution_count": 46,
     "metadata": {},
     "output_type": "execute_result"
    }
   ],
   "source": [
    "f(1)"
   ]
  },
  {
   "cell_type": "code",
   "execution_count": 52,
   "metadata": {},
   "outputs": [
    {
     "data": {
      "image/png": "[encoded data removed]",
      "text/plain": [
       "<Figure size 432x288 with 1 Axes>"
      ]
     },
     "metadata": {
      "needs_background": "light"
     },
     "output_type": "display_data"
    }
   ],
   "source": [
    "x = np.linspace(-2,4,100)\n",
    "y = [f(elem) for elem in x]\n",
    "plt.plot(x,y, 'r')\n",
    "plt.grid()\n",
    "plt.show()"
   ]
  },
  {
   "cell_type": "code",
   "execution_count": 67,
   "metadata": {},
   "outputs": [],
   "source": [
    "#b"
   ]
  },
  {
   "cell_type": "code",
   "execution_count": 65,
   "metadata": {},
   "outputs": [],
   "source": [
    "import scipy.integrate as integrate\n",
    "F = lambda x: integrate.quad(f, -np.inf, x)[0]"
   ]
  },
  {
   "cell_type": "code",
   "execution_count": 66,
   "metadata": {},
   "outputs": [
    {
     "data": {
      "image/png": "[encoded data removed]",
      "text/plain": [
       "<Figure size 432x288 with 1 Axes>"
      ]
     },
     "metadata": {
      "needs_background": "light"
     },
     "output_type": "display_data"
    }
   ],
   "source": [
    "x = np.linspace(-2,4,100)\n",
    "y = [F(elem) for elem in x]\n",
    "plt.plot(x,y, 'b')\n",
    "plt.grid()\n",
    "plt.show()"
   ]
  },
  {
   "cell_type": "code",
   "execution_count": 68,
   "metadata": {},
   "outputs": [],
   "source": [
    "#c"
   ]
  },
  {
   "cell_type": "code",
   "execution_count": 69,
   "metadata": {},
   "outputs": [
    {
     "data": {
      "text/plain": [
       "0.5"
      ]
     },
     "execution_count": 69,
     "metadata": {},
     "output_type": "execute_result"
    }
   ],
   "source": [
    "1 - F(1)"
   ]
  },
  {
   "cell_type": "code",
   "execution_count": 70,
   "metadata": {},
   "outputs": [
    {
     "data": {
      "text/plain": [
       "0.46874999997455197"
      ]
     },
     "execution_count": 70,
     "metadata": {},
     "output_type": "execute_result"
    }
   ],
   "source": [
    "F(1) - F(0.25)"
   ]
  },
  {
   "cell_type": "code",
   "execution_count": 71,
   "metadata": {},
   "outputs": [],
   "source": [
    "#d"
   ]
  },
  {
   "cell_type": "code",
   "execution_count": 74,
   "metadata": {},
   "outputs": [
    {
     "data": {
      "text/plain": [
       "1.0000000000000033"
      ]
     },
     "execution_count": 74,
     "metadata": {},
     "output_type": "execute_result"
    }
   ],
   "source": [
    "EX = integrate.quad(lambda x: f(x)*x, -np.inf, np.inf)[0]\n",
    "EX"
   ]
  },
  {
   "cell_type": "code",
   "execution_count": 77,
   "metadata": {},
   "outputs": [
    {
     "data": {
      "text/plain": [
       "0.16666666666665894"
      ]
     },
     "execution_count": 77,
     "metadata": {},
     "output_type": "execute_result"
    }
   ],
   "source": [
    "Var = integrate.quad(lambda x: f(x)*(x-EX) ** 2, -np.inf, np.inf)[0]\n",
    "Var"
   ]
  },
  {
   "cell_type": "code",
   "execution_count": 80,
   "metadata": {},
   "outputs": [
    {
     "data": {
      "text/plain": [
       "0.4082482904638536"
      ]
     },
     "execution_count": 80,
     "metadata": {},
     "output_type": "execute_result"
    }
   ],
   "source": [
    "Sigma = np.sqrt(Var)\n",
    "Sigma"
   ]
  }
 ],
 "metadata": {
  "kernelspec": {
   "display_name": "Python 3 (ipykernel)",
   "language": "python",
   "name": "python3"
  },
  "language_info": {
   "codemirror_mode": {
    "name": "ipython",
    "version": 3
   },
   "file_extension": ".py",
   "mimetype": "text/x-python",
   "name": "python",
   "nbconvert_exporter": "python",
   "pygments_lexer": "ipython3",
   "version": "3.9.7"
  }
 },
 "nbformat": 4,
 "nbformat_minor": 4
}
