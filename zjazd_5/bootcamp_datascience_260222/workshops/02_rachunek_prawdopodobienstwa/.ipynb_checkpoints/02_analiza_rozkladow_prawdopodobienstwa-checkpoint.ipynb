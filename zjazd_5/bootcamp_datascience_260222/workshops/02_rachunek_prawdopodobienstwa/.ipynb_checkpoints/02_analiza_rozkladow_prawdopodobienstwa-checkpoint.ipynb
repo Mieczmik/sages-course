{
 "cells": [
  {
   "cell_type": "markdown",
   "metadata": {},
   "source": [
    "# Analiza rozkładów prawdopobieństwa"
   ]
  },
  {
   "cell_type": "code",
   "execution_count": 1,
   "metadata": {},
   "outputs": [],
   "source": [
    "import numpy as np\n",
    "import matplotlib.pyplot as plt\n",
    "\n",
    "from scipy import stats"
   ]
  },
  {
   "cell_type": "markdown",
   "metadata": {},
   "source": [
    "## Zadanie - rozkład dyskretny\n",
    "Zmienna losowa $X$ ma funkcje prawdopodobieństwa nastepującej postaci:\n",
    "\n",
    "| $x_i$ | -3  | -1  | 3   | 5   |\n",
    "|-------|-----|-----|-----|-----|\n",
    "| $p_i$ | 0.1 | 0.2 | 0.5 | 0.2 |\n",
    "\n",
    "\n",
    "a) Narysuj wykres rozkładu prawdopodobieństwa.\n",
    "\n",
    "*b) Narysuj dystrybuante $F$ tego rozkładu.\n",
    "\n",
    "c) Oblicz prawdopodobieństwa $P(X > 1)$ i $P( \\frac{1}{4} < X < 5)$.\n",
    "\n",
    "d) Oblicz wartość oczekiwaną, wariancję i odchylenie standardowe zmiennej X."
   ]
  },
  {
   "cell_type": "code",
   "execution_count": 4,
   "metadata": {},
   "outputs": [
    {
     "data": {
      "image/png": "[encoded data removed]",
      "text/plain": [
       "<Figure size 432x288 with 1 Axes>"
      ]
     },
     "metadata": {
      "needs_background": "light"
     },
     "output_type": "display_data"
    }
   ],
   "source": [
    "# a)\n",
    "\n",
    "x = [-3, -1, 3, 5]\n",
    "p = [0.1, 0.2, 0.5, 0.2]\n",
    "\n",
    "plt.scatter(x=x, y=p)\n",
    "plt.vlines(x = x, ymin=0, ymax=p, colors='g')\n",
    "plt.show()"
   ]
  },
  {
   "cell_type": "code",
   "execution_count": 15,
   "metadata": {},
   "outputs": [],
   "source": [
    "# b)\n",
    "\n",
    "# F(x) = P(X <= x) = sum p_i po x_i <= x\n",
    "\n",
    "F = list(np.cumsum(p))\n",
    "x_lim = list(x)"
   ]
  },
  {
   "cell_type": "code",
   "execution_count": 16,
   "metadata": {},
   "outputs": [
    {
     "name": "stdout",
     "output_type": "stream",
     "text": [
      "[0.1, 0.30000000000000004, 0.8, 1.0]\n",
      "[-3, -1, 3, 5]\n"
     ]
    }
   ],
   "source": [
    "print(F)\n",
    "print(x_lim)"
   ]
  },
  {
   "cell_type": "code",
   "execution_count": 31,
   "metadata": {},
   "outputs": [
    {
     "data": {
      "image/png": "[encoded data removed]",
      "text/plain": [
       "<Figure size 432x288 with 1 Axes>"
      ]
     },
     "metadata": {
      "needs_background": "light"
     },
     "output_type": "display_data"
    }
   ],
   "source": [
    "plt.scatter(x, F)\n",
    "plt.xlim(-10, 10)\n",
    "plt.ylim(-0.1, 1.1)\n",
    "\n",
    "x_lim = [-10] + list(x) + [10]\n",
    "f = [0] + F\n",
    "plt.scatter(x, f[:-1], facecolors = 'none', edgecolors='r')\n",
    "\n",
    "for i in range(len(x_lim) - 1):\n",
    "    plt.hlines(xmin=x_lim[i], xmax=x_lim[i+1], y = f[i])"
   ]
  },
  {
   "cell_type": "code",
   "execution_count": null,
   "metadata": {},
   "outputs": [],
   "source": [
    "# c)\n",
    "\n",
    "# F(x) = P(X <= x)\n",
    "# P(X > x) = 1 - F(x)\n",
    "\n",
    "# P(X > 1) = P(X = 3) + P(X=5) = 0.7\n",
    "# P(X > 1) = 1 - F(1)\n",
    "\n",
    "#P(0.25 < X < 5) = P(X = 3) = 0.5"
   ]
  },
  {
   "cell_type": "code",
   "execution_count": 37,
   "metadata": {},
   "outputs": [
    {
     "name": "stdout",
     "output_type": "stream",
     "text": [
      "2.0\n",
      "10.6\n",
      "6.6\n",
      "2.569046515733026\n"
     ]
    }
   ],
   "source": [
    "# d) \n",
    "\n",
    "\n",
    "# EX = suma x* p\n",
    "x = np.array([-3, -1, 3, 5])\n",
    "p = np.array([0.1, 0.2, 0.5, 0.2])\n",
    "\n",
    "\n",
    "ex = np.sum(x * p)\n",
    "print(ex)\n",
    "\n",
    "# Var(X) = EX^2 - (EX)^2\n",
    "# EX^2 = suma X^2 * p\n",
    "\n",
    "ex2 = np.sum(x ** 2 * p)\n",
    "print(ex2)\n",
    "\n",
    "var = ex2 - ex ** 2\n",
    "print(var)\n",
    "\n",
    "std = np.sqrt(var)\n",
    "print(std)"
   ]
  },
  {
   "cell_type": "markdown",
   "metadata": {},
   "source": [
    "## ***Zadanie - rozkład ciągły\n",
    "Zmienna losowa X ma rozkład ciągły o gęstości:\n",
    "\n",
    "$$\n",
    "    f(x)=\\left.\n",
    "    \\begin{cases}\n",
    "    x \\quad &\\text{dla}\\quad 0<x\\leq 1\\\\\n",
    "    2-x \\quad &\\text{dla}\\quad 1<x\\leq 2\\\\\n",
    "    0 \\quad &\\text{dla}\\quad x>2, x\\le 0.\n",
    "    \\end{cases}\\right.\n",
    "$$\n",
    "\n",
    "\n",
    "a) Narysuj wykres gęstości.\n",
    "\n",
    "b) Wyznacz narysuj dystrybuante $F$ tego rozkładu.\n",
    "\n",
    "c) Oblicz prawdopodobieństwa $P(X > 1)$ i $P( \\frac{1}{4} < X \\leq 1)$.\n",
    "\n",
    "d) Oblicz wartość oczekiwaną, wariancję i odchylenie standardowe zmiennej X."
   ]
  },
  {
   "cell_type": "code",
   "execution_count": null,
   "metadata": {},
   "outputs": [],
   "source": []
  },
  {
   "cell_type": "code",
   "execution_count": null,
   "metadata": {},
   "outputs": [],
   "source": []
  },
  {
   "cell_type": "code",
   "execution_count": null,
   "metadata": {},
   "outputs": [],
   "source": []
  },
  {
   "cell_type": "code",
   "execution_count": null,
   "metadata": {},
   "outputs": [],
   "source": []
  }
 ],
 "metadata": {
  "kernelspec": {
   "display_name": "Python 3",
   "language": "python",
   "name": "python3"
  },
  "language_info": {
   "codemirror_mode": {
    "name": "ipython",
    "version": 3
   },
   "file_extension": ".py",
   "mimetype": "text/x-python",
   "name": "python",
   "nbconvert_exporter": "python",
   "pygments_lexer": "ipython3",
   "version": "3.8.8"
  }
 },
 "nbformat": 4,
 "nbformat_minor": 2
}
