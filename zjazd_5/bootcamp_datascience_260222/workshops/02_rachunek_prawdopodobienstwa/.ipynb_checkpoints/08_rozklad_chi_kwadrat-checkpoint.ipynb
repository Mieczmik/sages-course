{
 "cells": [
  {
   "cell_type": "markdown",
   "metadata": {},
   "source": [
    "# Rozkład chi-kwadrat - $\\chi^2(n)$\n",
    "Zmienna losowa $X$ ma rozkład chi-kwadrat o $n\\in\\mathbb{N_+}$ stopniach swobody, jeżeli jej gęstość $f$~jest postaci\n",
    "$$\n",
    "f(x)=\\left.\n",
    "    \\begin{cases}\n",
    "    \\frac{1}{2^{\\frac{n}{2}}\\Gamma(\\frac{n}{2})}x^{\\frac{n-2}{2}}\\exp\\{-\\frac{x}{2}\\} \\quad &\\text{dla} \\quad x>0\\\\\n",
    "    0 \\quad &\\text{dla} \\quad x\\leq 0,\n",
    "    \\end{cases}\\right.\n",
    "$$\n",
    "\n",
    "Wartość oczekiwana i wariancja dane są wzorami\n",
    "$$\n",
    "    \\mathbb{E}X = n, \\quad \\text{Var}(X) = 2n.\n",
    "$$"
   ]
  },
  {
   "cell_type": "markdown",
   "metadata": {},
   "source": [
    "https://docs.scipy.org/doc/scipy/reference/generated/scipy.stats.chi2.html#scipy.stats.chi2"
   ]
  },
  {
   "cell_type": "code",
   "execution_count": 1,
   "metadata": {},
   "outputs": [],
   "source": [
    "import numpy as np\n",
    "import matplotlib.pyplot as plt\n",
    "\n",
    "from scipy import stats"
   ]
  },
  {
   "cell_type": "markdown",
   "metadata": {},
   "source": [
    "### Zadanie\n",
    "1. Zdefiniuj zmienną losową dla rozkładu chi kwadrat.\n",
    "2. Narysuj gęstość dla kilku wybranych stopni swobody. Zwróć uwagę na dziedzinę gęstości.\n",
    "3. Narysuj dystrybuantę dla kilku wybranych stopni swobody.\n",
    "4. Wyznacz podstawowe charakterystyki rozkładu: średnia, wariancja, odchylenie standardowe.\n",
    "5. Wylosuj $n$ obserwacji z zdefiniowanego rozkładu.\n",
    "6. Narysujmy histogram dla wylosowanej powyżej próbki."
   ]
  },
  {
   "cell_type": "code",
   "execution_count": 2,
   "metadata": {},
   "outputs": [
    {
     "data": {
      "text/plain": [
       "<scipy.stats._distn_infrastructure.rv_frozen at 0x7fd6bada51f0>"
      ]
     },
     "execution_count": 2,
     "metadata": {},
     "output_type": "execute_result"
    }
   ],
   "source": [
    "df = 2\n",
    "chi2 = stats.chi2(df = df)\n",
    "chi2"
   ]
  },
  {
   "cell_type": "code",
   "execution_count": 5,
   "metadata": {},
   "outputs": [
    {
     "data": {
      "image/png": "[encoded data removed]",
      "text/plain": [
       "<Figure size 432x288 with 1 Axes>"
      ]
     },
     "metadata": {
      "needs_background": "light"
     },
     "output_type": "display_data"
    }
   ],
   "source": [
    "x = np.linspace(-1, 10, 1000)\n",
    "plt.plot(x, chi2.pdf(x), label=\"chi(2) pdf\")\n",
    "plt.plot(x, stats.chi2(df=3).pdf(x),  label=\"chi(3) pdf\")\n",
    "plt.plot(x, stats.chi2(df=5).pdf(x),  label=\"chi(5) pdf\")\n",
    "plt.legend()\n",
    "plt.show()"
   ]
  },
  {
   "cell_type": "markdown",
   "metadata": {},
   "source": [
    "## Zadanie - sprawdzenie empiryczne - do domu\n",
    "Sprawdzić empirycznie następujące własności:\n",
    "\n",
    "1. Jeśli $X_1, \\ldots, X_n$ będzie próbą z rozkładu normalnego $\\mathcal{N}(0,1)$, to zmienna losowa $Y=X_1^2+\\ldots+X_n^2$ ma rozkład chi-kwadrat o $n$ stopniach swobody.\n",
    "2. Jeśli $X_1, \\ldots, X_n$ będzie próbą z rozkładu normalnego $\\mathcal{N}(\\mu,\\sigma)$ oraz niech $\\tilde{S}^2=\\frac{1}{n}\\sum_{i=1}^n(X_i-\\mu)^2$, to zmienna losowa $Y=\\frac{n\\tilde{S}^2}{\\sigma^2}$ ma rozkład chi-kwadrat o $n$ stopniach swobody.\n",
    "3. Jeśli $X_1, \\ldots, X_n$ będzie próbą z rozkładu normalnego $\\mathcal{N}(0,1)$, to zmienna losowa $Y=\\sum_{i=1}^n(X_i-\\overline{X})^2$ ma rozkład chi-kwadrat o $n-1$ stopniach swobody.\n",
    "4. Jeśli $X_1, \\ldots, X_n$ będzie próbą z rozkładu normalnego $\\mathcal{N}(\\mu,\\sigma)$ oraz niech $S^2=\\frac{1}{n-1}\\sum_{i=1}^n(X_i-\\overline{X})^2$, to zmienna losowa $Y=\\frac{(n-1)S^2}{\\sigma^2}$ ma rozkład chi-kwadrat o $n-1$ stopniach swobody."
   ]
  },
  {
   "cell_type": "code",
   "execution_count": null,
   "metadata": {},
   "outputs": [],
   "source": []
  },
  {
   "cell_type": "code",
   "execution_count": null,
   "metadata": {},
   "outputs": [],
   "source": []
  },
  {
   "cell_type": "code",
   "execution_count": null,
   "metadata": {},
   "outputs": [],
   "source": []
  },
  {
   "cell_type": "code",
   "execution_count": null,
   "metadata": {},
   "outputs": [],
   "source": []
  },
  {
   "cell_type": "code",
   "execution_count": null,
   "metadata": {},
   "outputs": [],
   "source": []
  },
  {
   "cell_type": "code",
   "execution_count": null,
   "metadata": {},
   "outputs": [],
   "source": []
  }
 ],
 "metadata": {
  "kernelspec": {
   "display_name": "Python 3",
   "language": "python",
   "name": "python3"
  },
  "language_info": {
   "codemirror_mode": {
    "name": "ipython",
    "version": 3
   },
   "file_extension": ".py",
   "mimetype": "text/x-python",
   "name": "python",
   "nbconvert_exporter": "python",
   "pygments_lexer": "ipython3",
   "version": "3.8.8"
  }
 },
 "nbformat": 4,
 "nbformat_minor": 2
}
