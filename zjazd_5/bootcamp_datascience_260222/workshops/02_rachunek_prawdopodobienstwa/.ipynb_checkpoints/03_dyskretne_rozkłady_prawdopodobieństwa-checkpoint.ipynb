{
 "cells": [
  {
   "cell_type": "markdown",
   "metadata": {},
   "source": [
    "# Rozkłady dyskretne\n",
    "1. Rozkład dwupunktowy\n",
    "2. Rozkład dwumianowy"
   ]
  },
  {
   "cell_type": "code",
   "execution_count": 1,
   "metadata": {},
   "outputs": [],
   "source": [
    "import numpy as np\n",
    "import matplotlib.pyplot as plt\n",
    "\n",
    "from scipy import stats"
   ]
  },
  {
   "cell_type": "markdown",
   "metadata": {},
   "source": [
    "### Zadanie\n",
    "Dla rozkładu dwupunktowego i dwumianowego:\n",
    "1. Zdefiniuj zmienną losową dla tego rozkładu prawdopobieństtwa.\n",
    "2. Narysuj funkcję rozkładu prawdopodobieństwa.\n",
    "3. Narysuj dystrybuantę.\n",
    "4. Wyznacz podstawowe charakterystyki rozkładu: średnia, wariancja, odchylenie standardowe.\n",
    "5. Wylosuj $n$ obserwacji z zdefiniowanego rozkładu.\n",
    "6. Narysujmy histogram dla wylosowanej powyżej próbki.\n",
    "7. Porównaj teoretyczną i zaaobserwowaną funkcję rozkładu prawdopobieństwa."
   ]
  },
  {
   "cell_type": "markdown",
   "metadata": {},
   "source": [
    "### Rozkład dwupunktowy - $Bern(p)$\n",
    "\n",
    "Zmienna losowa $X$ ma **rozkład dwupunktowy** z parametrem $0 < p < 1$, jeżeli\n",
    "$$\n",
    "    P(X=1)=p, \\quad P(X=0)=1-p.\n",
    "$$\n",
    "\n",
    "Zmienna losowa $X$ opisuje pojedyncze doświadczenie, o którym można myśleć w kategorii ,,sukces--porażka'': \n",
    "- zmienna przyjmuje wartość 1 z prawdopodobieństwem $p$, jeżeli w danym doświadczeniu zaistniał **,,sukces''**, oraz\n",
    "- zmienna przyjmuje wartość 0 z prawdopodobieństwem $1-p$, jeżeli w doświadczeniu zainstniała **,,porażka''**."
   ]
  },
  {
   "cell_type": "markdown",
   "metadata": {},
   "source": [
    "https://docs.scipy.org/doc/scipy-0.14.0/reference/generated/scipy.stats.bernoulli.html\n",
    "\n",
    "#### Wybrane metody\n",
    "\n",
    "`rvs(p, loc=0, size=1)` \tRandom variates.\n",
    "\n",
    "`pmf(x, p, loc=0)` \tProbability mass function.\n",
    "\n",
    "`cdf(x, p, loc=0)` \tCumulative density function.\n",
    "\n",
    "`sf(x, p, loc=0)` \tSurvival function (1-cdf — sometimes more accurate).\n",
    "\n",
    "`ppf(q, p, loc=0)` \tPercent point function (inverse of cdf — percentiles).\n",
    "\n",
    "`stats(p, loc=0, moments=’mv’)` \tMean(‘m’), variance(‘v’), skew(‘s’), and/or kurtosis(‘k’).\n",
    "\n",
    "`median(p, loc=0)` \tMedian of the distribution.\n",
    "\n",
    "`mean(p, loc=0)` \tMean of the distribution.\n",
    "\n",
    "`var(p, loc=0)` \tVariance of the distribution.\n",
    "\n",
    "`std(p, loc=0)` \tStandard deviation of the distribution."
   ]
  },
  {
   "cell_type": "code",
   "execution_count": 2,
   "metadata": {},
   "outputs": [],
   "source": [
    "# 1. Definicja\n",
    "# p - pstwo sukcesu\n",
    "\n",
    "p = 0.7\n",
    "bern = stats.bernoulli(p=p)"
   ]
  },
  {
   "cell_type": "code",
   "execution_count": 3,
   "metadata": {},
   "outputs": [
    {
     "data": {
      "text/plain": [
       "<scipy.stats._distn_infrastructure.rv_frozen at 0x7f9ba8429b20>"
      ]
     },
     "execution_count": 3,
     "metadata": {},
     "output_type": "execute_result"
    }
   ],
   "source": [
    "bern"
   ]
  },
  {
   "cell_type": "code",
   "execution_count": 4,
   "metadata": {},
   "outputs": [
    {
     "name": "stdout",
     "output_type": "stream",
     "text": [
      "0.30000000000000004\n",
      "0.7\n",
      "0.0\n"
     ]
    }
   ],
   "source": [
    "# Pmf = funkcje rozkladu prawdopodbienstwa\n",
    "# P(X = k) = p\n",
    "\n",
    "print(bern.pmf(0)) # = P(X = 0) = P(X = 'porazka') = 1 - p\n",
    "print(bern.pmf(1)) # = P(X = 1) = P(X = \"sukces\") = p\n",
    "print(bern.pmf(5))"
   ]
  },
  {
   "cell_type": "code",
   "execution_count": 5,
   "metadata": {},
   "outputs": [
    {
     "data": {
      "image/png": "[encoded data removed]",
      "text/plain": [
       "<Figure size 432x288 with 1 Axes>"
      ]
     },
     "metadata": {
      "needs_background": "light"
     },
     "output_type": "display_data"
    }
   ],
   "source": [
    "# Dystrybuanta\n",
    "\n",
    "# x e R\n",
    "x = np.arange(-10, 10, 0.01)\n",
    "plt.plot(x, bern.cdf(x))\n",
    "plt.show()"
   ]
  },
  {
   "cell_type": "code",
   "execution_count": 6,
   "metadata": {},
   "outputs": [
    {
     "data": {
      "text/plain": [
       "(array(0.7), array(0.21), array(-0.87287156), array(-1.23809524))"
      ]
     },
     "execution_count": 6,
     "metadata": {},
     "output_type": "execute_result"
    }
   ],
   "source": [
    "# Charakterystyki rozkladu\n",
    "\n",
    "bern.stats('mvsk')"
   ]
  },
  {
   "cell_type": "code",
   "execution_count": 7,
   "metadata": {},
   "outputs": [
    {
     "data": {
      "image/png": "[encoded data removed]",
      "text/plain": [
       "<Figure size 432x288 with 1 Axes>"
      ]
     },
     "metadata": {
      "needs_background": "light"
     },
     "output_type": "display_data"
    }
   ],
   "source": [
    "# Losowanie elementów z rozkladu dwupunktowego\n",
    "\n",
    "a = bern.rvs(size=1000)\n",
    "plt.hist(a)\n",
    "plt.show()"
   ]
  },
  {
   "cell_type": "code",
   "execution_count": 8,
   "metadata": {},
   "outputs": [
    {
     "name": "stdout",
     "output_type": "stream",
     "text": [
      "[1 1 1 0 0 1 1 1 1 0 0 1 1 1 0 0 1 1 1 1 0 1 1 0 1 1 1 0 0 1 0 0 1 1 1 1 0\n",
      " 1 1 1 1 1 1 1 1 0 1 1 1 1 1 1 0 1 0 0 0 1 1 0 1 1 1 1 1 1 1 1 0 1 1 1 1 0\n",
      " 0 1 0 1 1 1 1 1 1 1 1 1 1 0 1 1 1 1 1 0 0 1 1 1 1 1 1 1 1 0 1 1 1 0 0 1 1\n",
      " 1 0 1 0 1 1 0 1 1 0 0 1 1 0 1 0 0 1 0 1 0 0 0 0 1 1 1 1 1 1 1 1 1 0 1 1 1\n",
      " 1 1 1 1 0 1 1 0 1 1 1 1 0 1 1 1 1 1 0 1 1 1 1 1 0 1 1 0 1 1 1 1 1 0 1 1 0\n",
      " 1 0 1 1 1 0 1 0 0 1 0 0 1 1 1 0 0 0 1 1 1 1 0 1 1 1 0 1 1 1 1 1 1 0 1 1 1\n",
      " 1 0 1 0 1 0 1 1 1 0 1 1 1 0 1 0 0 0 1 1 1 1 0 1 1 0 1 1 1 1 0 1 1 1 1 1 1\n",
      " 1 0 1 1 1 0 0 1 1 0 1 1 0 1 0 1 1 0 1 1 1 1 0 0 1 0 1 1 1 1 1 0 1 1 1 1 1\n",
      " 0 1 1 1 1 1 1 1 1 1 1 1 1 1 1 0 1 1 1 1 1 1 1 1 1 1 1 1 0 1 1 1 1 1 1 1 1\n",
      " 1 0 0 0 1 0 0 1 1 0 1 1 0 1 1 1 1 1 0 0 1 1 1 1 0 1 0 1 1 1 1 1 1 1 1 1 0\n",
      " 0 1 0 1 1 1 1 0 1 1 1 0 1 0 1 1 0 0 1 1 0 0 1 1 1 0 1 1 1 1 1 1 1 1 1 1 0\n",
      " 1 0 0 0 0 1 1 1 1 1 1 1 1 0 1 1 1 1 1 0 1 0 0 1 1 0 1 0 1 0 1 0 1 1 1 1 0\n",
      " 0 1 1 1 1 1 1 1 1 1 1 1 1 1 1 1 1 0 1 1 0 1 1 1 1 0 1 1 0 1 1 0 1 1 1 1 1\n",
      " 0 0 0 0 1 1 0 1 1 1 1 1 0 1 1 1 1 0 1 1 1 1 0 1 1 1 0 0 1 1 1 1 1 0 0 1 0\n",
      " 0 1 1 1 1 1 1 0 1 1 1 0 0 1 1 0 0 1 1 1 0 0 0 0 0 1 1 0 1 1 1 1 0 1 0 0 1\n",
      " 0 0 1 1 1 1 1 0 0 1 0 0 0 1 1 1 1 1 1 0 1 1 0 1 1 1 0 1 1 0 1 0 1 1 1 1 0\n",
      " 1 1 0 1 1 0 1 1 0 0 1 0 0 1 1 1 0 0 0 0 1 1 1 0 1 0 1 1 0 0 1 1 0 1 0 1 1\n",
      " 1 1 1 0 1 0 1 1 1 0 1 0 1 1 1 1 0 1 0 1 1 1 1 1 1 1 0 0 1 1 1 1 1 1 1 0 1\n",
      " 1 0 0 1 1 1 0 0 1 1 0 1 1 0 1 1 1 1 0 1 0 0 1 1 1 1 1 0 1 1 0 1 1 1 1 1 0\n",
      " 1 1 0 1 1 0 1 0 0 1 0 1 1 0 1 1 1 0 1 1 1 0 1 0 1 1 1 1 0 1 1 1 0 0 0 0 0\n",
      " 1 0 0 0 1 1 1 1 1 0 0 1 1 1 0 1 1 1 1 1 0 1 0 1 1 1 1 1 0 1 1 1 0 1 0 0 1\n",
      " 1 0 0 1 1 1 1 0 1 0 1 1 1 0 1 1 1 1 1 1 1 1 1 1 1 0 1 1 0 1 1 1 1 1 1 1 1\n",
      " 1 1 0 1 0 0 0 1 1 1 1 0 0 1 0 1 1 0 0 0 1 1 1 0 0 1 1 1 1 1 1 1 0 0 1 1 1\n",
      " 1 1 1 1 0 1 0 0 1 1 0 0 1 1 1 0 0 1 0 0 1 1 0 1 1 1 1 1 1 1 0 1 1 0 1 0 1\n",
      " 0 1 1 1 1 1 0 1 1 0 0 0 0 1 1 0 1 0 1 1 0 1 1 1 1 1 1 0 1 0 1 1 1 1 1 1 0\n",
      " 0 1 0 0 1 1 1 1 0 1 1 1 1 0 0 1 1 0 1 1 1 1 1 1 1 1 1 1 0 1 1 1 0 1 1 0 1\n",
      " 1 0 1 0 0 1 0 1 1 1 1 1 1 1 0 0 1 0 1 1 0 1 1 1 1 1 1 1 1 1 1 1 1 1 1 1 1\n",
      " 1]\n"
     ]
    }
   ],
   "source": [
    "print(a)"
   ]
  },
  {
   "cell_type": "markdown",
   "metadata": {},
   "source": [
    "### Rozkład dwumianowy - $Bin(n, p)$\n",
    "Zmienna losowa $X$ ma **rozkład dwumianowy** z parametrami $0<p<1$ oraz $n\\in\\mathbb{N}$, jeżeli\n",
    "$$\n",
    "    P(X=k)=\\binom{n}{k}p^k(1-p)^{n-k} \\quad \\text{dla} \\quad k=0,1,\\ldots,n.\n",
    "$$\n",
    "\n",
    "Zmienna losowa $X$ przyjmuje wartości równe liczbie ,,sukcesów'' w~$n$~niezależnych doświadczeniach z prawdopodobieństwem sukcesu $p$ w każdym z~nich. \n",
    "\n",
    "W szczególności zmienną $X$ możemy przedstawić jako $$X=S_n=\\sum_{i=1}^n X_i,$$ gdzie $X_i \\sim \\text{Bern}(p)$ oraz $(X_i)_{i=1}^n$ są wzajemnie niezależne.\n"
   ]
  },
  {
   "cell_type": "markdown",
   "metadata": {},
   "source": [
    "https://docs.scipy.org/doc/scipy-0.14.0/reference/generated/scipy.stats.binom.html"
   ]
  },
  {
   "cell_type": "code",
   "execution_count": 9,
   "metadata": {},
   "outputs": [
    {
     "data": {
      "text/plain": [
       "<scipy.stats._distn_infrastructure.rv_frozen at 0x7f9ba841e730>"
      ]
     },
     "execution_count": 9,
     "metadata": {},
     "output_type": "execute_result"
    }
   ],
   "source": [
    "# n = liczba prob\n",
    "# p = prawdopodobienstwo sukcesu w pojedynczej probie\n",
    "\n",
    "binom10 = stats.binom(n=10, p=0.5)\n",
    "binom10\n",
    "\n",
    "# zbior wartosci zmiennej losowej okreslonej jak wyzej: od 0 do 10 (sukcesow w 10 powtorzenia ekspertymentu)"
   ]
  },
  {
   "cell_type": "code",
   "execution_count": 10,
   "metadata": {},
   "outputs": [
    {
     "data": {
      "text/plain": [
       "<matplotlib.collections.LineCollection at 0x7f9b765535e0>"
      ]
     },
     "execution_count": 10,
     "metadata": {},
     "output_type": "execute_result"
    },
    {
     "data": {
      "image/png": "[encoded data removed]",
      "text/plain": [
       "<Figure size 432x288 with 1 Axes>"
      ]
     },
     "metadata": {
      "needs_background": "light"
     },
     "output_type": "display_data"
    }
   ],
   "source": [
    "# Pmf - funckja rozkladu pstwa\n",
    "# P(X = k) = p\n",
    "\n",
    "X = np.arange(0, 11) # od 0 do 10\n",
    "plt.scatter(X, binom10.pmf(X))\n",
    "plt.vlines(X, ymin=0, ymax=binom10.pmf(X), colors='g')"
   ]
  },
  {
   "cell_type": "code",
   "execution_count": 11,
   "metadata": {},
   "outputs": [
    {
     "data": {
      "image/png": "[encoded data removed]",
      "text/plain": [
       "<Figure size 432x288 with 1 Axes>"
      ]
     },
     "metadata": {
      "needs_background": "light"
     },
     "output_type": "display_data"
    }
   ],
   "source": [
    "# cdf - dystrybuanta\n",
    "X = np.arange(-10, 20, 0.01) # od 0 do 10\n",
    "plt.plot(X, binom10.cdf(X))\n",
    "plt.show()"
   ]
  },
  {
   "cell_type": "code",
   "execution_count": 15,
   "metadata": {},
   "outputs": [
    {
     "data": {
      "image/png": "[encoded data removed]",
      "text/plain": [
       "<Figure size 432x288 with 1 Axes>"
      ]
     },
     "metadata": {
      "needs_background": "light"
     },
     "output_type": "display_data"
    }
   ],
   "source": [
    "b = binom10.rvs(size=1000)\n",
    "plt.hist(b)\n",
    "plt.show()"
   ]
  },
  {
   "cell_type": "code",
   "execution_count": 16,
   "metadata": {
    "scrolled": true
   },
   "outputs": [
    {
     "data": {
      "text/plain": [
       "array([ 5,  4,  4,  5,  5,  4,  6,  4,  4,  7,  4,  6,  7,  5,  3,  3,  3,\n",
       "        5,  6,  5,  4,  6,  5,  7,  6,  5,  5,  4,  5,  4,  3,  3,  5,  7,\n",
       "        5,  5,  5,  3,  4,  6,  6,  4,  7,  5,  6,  6,  5,  5,  1,  6,  7,\n",
       "        3,  5,  7,  5,  5,  7,  5,  6,  6,  6,  3,  4,  4,  5,  5,  5,  7,\n",
       "        4,  4,  4,  8,  5,  8,  7,  6,  3,  6,  4,  3,  6,  3,  6,  3,  6,\n",
       "        5,  5,  4,  4,  8,  4,  5,  6,  6,  5,  4,  5,  5,  4,  4,  4,  4,\n",
       "        5,  5,  7,  3,  3,  6,  5,  5,  6,  5,  6,  5,  3,  5,  5,  2,  6,\n",
       "        8,  4,  7,  5,  5,  4,  5,  5,  4,  4,  6,  5,  6,  5,  4,  5,  6,\n",
       "        5,  6,  5,  7,  6,  2,  5,  6,  5,  4,  5,  5,  3,  8,  5,  4,  8,\n",
       "        5,  4, 10,  7,  6,  3,  5,  6,  2,  8,  4,  5,  7,  5,  6,  3,  7,\n",
       "        4,  7,  3,  6,  4,  5,  2,  2,  6,  6,  4,  7,  5,  5,  7,  6,  3,\n",
       "        5,  5,  5,  3,  5,  7,  4,  4,  7,  6,  3,  8,  4,  4,  3,  4,  6,\n",
       "        5,  6,  3,  3,  6,  4,  5,  6,  5,  5,  8,  6,  2,  7,  4,  3,  6,\n",
       "        5,  2,  5,  4,  5,  5,  5,  9,  3,  5,  6,  3,  4,  3,  3,  5,  6,\n",
       "        5,  9,  5,  6,  8,  3,  7,  4,  7,  4,  6,  4,  5,  3,  7,  5,  4,\n",
       "        2,  3,  7,  5,  6,  5,  6,  3,  3,  6,  5,  4,  4,  6,  6,  6,  4,\n",
       "        5,  8,  5,  3,  6,  5,  7,  4,  4,  5,  3,  4,  4,  4,  9,  8,  5,\n",
       "        1,  7,  4,  6,  8,  6,  6,  5,  6,  5,  9,  2,  6,  4,  2,  6,  4,\n",
       "        6,  8,  5,  6,  8,  4,  4,  6,  5,  6,  6,  8,  7,  5,  6,  7,  4,\n",
       "        4,  4,  6,  8,  5,  7,  3,  7,  5,  5,  5,  6,  4,  5,  4,  7,  5,\n",
       "        5,  7,  2,  6,  7,  7,  4,  7,  6,  6,  2,  5,  2,  4,  4,  4,  5,\n",
       "        7,  6,  3,  4,  4,  5,  4,  4,  3,  4,  4,  4,  5,  5,  7,  5,  5,\n",
       "        4,  6,  4,  6,  2,  6,  7,  2,  3,  7,  3,  7,  6,  7,  5,  6,  4,\n",
       "        5,  7,  4,  5,  7,  4,  6,  5,  8,  6,  4,  4,  4,  1,  4,  5,  4,\n",
       "        3,  6,  2,  6,  5,  6,  6,  6,  4,  6,  4,  5,  4,  6,  5,  7,  4,\n",
       "        1,  7,  6,  5,  6,  3,  6,  6,  6,  5,  4,  6,  4,  8,  5,  5,  4,\n",
       "        5,  4,  5,  4,  5,  4,  5,  9,  6,  4,  5,  6,  7,  4,  3,  8,  6,\n",
       "        4,  5,  6,  3,  7,  5,  3,  3,  4,  6,  3,  4,  4,  7,  5,  5,  5,\n",
       "        6,  3,  4,  6,  4,  4,  3,  7,  5,  5,  6,  5,  6,  5,  3,  5,  9,\n",
       "        4,  4,  4,  3, 10,  5,  6,  3,  5,  4,  3,  6,  7,  6,  6,  6,  2,\n",
       "        5,  3,  7,  5,  5,  4,  6,  6,  4,  6,  4,  6,  5,  4,  6,  3,  5,\n",
       "        7,  5,  4,  2,  6,  4,  3,  6,  7,  3,  5,  4,  7,  5,  7,  7,  6,\n",
       "        6,  5,  2,  7,  4,  3,  4,  4,  7,  8,  6,  5,  5,  6,  4,  3,  6,\n",
       "        5,  3,  7,  4,  5,  4,  6,  6,  6,  2,  2,  4,  4,  8,  5,  5,  5,\n",
       "        5,  6,  3,  4,  4,  4,  5,  4,  5,  7,  4,  4,  2,  4,  7,  7,  9,\n",
       "        5,  6,  5,  3,  6,  5,  7,  3,  8,  6,  8,  4,  5,  5,  5,  7,  5,\n",
       "        6,  7,  4,  5,  6,  7,  5,  6,  6,  6,  2,  7,  5,  5,  4,  5,  4,\n",
       "        7,  5,  4,  4,  4,  5,  5,  3,  4,  4,  7,  4,  2,  6,  5,  6,  3,\n",
       "        5,  6,  4,  2,  6,  8,  6,  4,  4,  4,  4,  5,  7,  6,  6,  5,  5,\n",
       "        3,  4,  5,  6,  8,  5,  4,  4,  6,  5,  3,  7,  6,  8,  5,  4,  5,\n",
       "        4,  6,  6,  3,  4,  3,  5,  6,  5,  5,  4,  3,  5,  5,  7,  4,  5,\n",
       "        8,  6,  5,  2,  3,  7,  5,  6,  6,  4,  3,  6,  5,  4,  6,  4,  4,\n",
       "        7,  5,  6,  6,  3,  7,  3,  4,  3,  2,  6,  4,  3,  5,  5,  7,  4,\n",
       "        6,  3,  5,  5,  6,  5,  4,  6,  5,  4,  5,  4,  5,  6,  8,  7,  5,\n",
       "        5,  6,  5,  8,  6,  5,  8,  4,  5,  6,  4,  5,  7,  6,  7,  4,  4,\n",
       "       10,  5,  6,  6,  6,  4,  5,  5,  6,  6,  5,  6,  5,  7,  4,  7,  4,\n",
       "        4,  5,  4,  4,  5,  3,  6,  5,  5,  4,  6,  7,  5,  5,  5,  5,  6,\n",
       "        6,  5,  7,  4,  5,  4,  6,  7,  3,  7,  2,  5,  5,  5,  4,  5,  6,\n",
       "        5,  4,  3,  6,  5,  6,  6,  3,  3,  4,  3,  4,  2,  4,  6,  3,  7,\n",
       "        3,  5,  6,  6,  5,  5,  7,  5,  2,  3,  4,  5,  4,  4,  3,  5,  6,\n",
       "        4,  7,  6,  3,  8,  5,  8,  8,  7,  5,  3,  7,  4,  6,  6,  6,  5,\n",
       "        6,  4,  4,  5,  4,  6,  5,  5,  9,  5,  5,  6,  3,  4,  7,  3,  5,\n",
       "        5,  6,  4,  7,  7,  2,  7,  3,  6,  4,  7,  6,  5,  8,  6,  5,  4,\n",
       "        6,  8,  5,  4,  8,  7,  6,  3,  5,  5,  5,  3,  5,  7,  5,  4,  6,\n",
       "        5,  3,  3,  2,  5,  6,  4,  5,  5,  4,  6,  6,  7,  8,  5,  6,  5,\n",
       "        6,  6,  5,  7,  4,  4,  7,  6,  2,  6,  8,  4,  1,  2,  4,  6,  3,\n",
       "        1,  5,  5,  4,  4,  5,  5,  5,  6,  5,  6,  4,  8,  3,  7,  6,  5,\n",
       "        7,  9,  5,  6,  3,  4,  3,  4,  4,  6,  6,  6,  4,  6,  5,  5,  4,\n",
       "        4,  6,  6,  5,  6,  6,  4,  7,  6,  4,  4,  5,  7,  4])"
      ]
     },
     "execution_count": 16,
     "metadata": {},
     "output_type": "execute_result"
    }
   ],
   "source": [
    "b"
   ]
  },
  {
   "cell_type": "markdown",
   "metadata": {},
   "source": [
    "### Zadania - dodatkowe"
   ]
  },
  {
   "cell_type": "markdown",
   "metadata": {},
   "source": [
    "1. Oblicz prawdopodobieństwo $P(X=5)$, pod warunkiem, że zmienna losowa X ma rozkład dwumianowy z parametrami $n=10$ i $p=0.7$?\n",
    "\n",
    "**Wskazówka**: $$P(X=x_0)=F(x_0)-F(x_0^-),$$gdzie $F(x_0^-)$ oznacza granicę lewostronną dystrybuanty $F$ w punkcie $x_0$."
   ]
  },
  {
   "cell_type": "code",
   "execution_count": 13,
   "metadata": {},
   "outputs": [
    {
     "data": {
      "text/plain": [
       "0.10291934520000011"
      ]
     },
     "execution_count": 13,
     "metadata": {},
     "output_type": "execute_result"
    }
   ],
   "source": [
    "binom = stats.binom(n=10, p=0.7)\n",
    "# P(X= 5)\n",
    "# binom.pmf(5) = P(X = 5)\n",
    "\n",
    "binom.pmf(5)"
   ]
  },
  {
   "cell_type": "markdown",
   "metadata": {},
   "source": [
    "2. Oblicz prawdopodobieństwo tego, że rzucając cztery razy kostką wyrzucimy trzy razy ,,trójkę''."
   ]
  },
  {
   "cell_type": "code",
   "execution_count": null,
   "metadata": {},
   "outputs": [],
   "source": []
  },
  {
   "cell_type": "code",
   "execution_count": null,
   "metadata": {},
   "outputs": [],
   "source": []
  },
  {
   "cell_type": "code",
   "execution_count": null,
   "metadata": {},
   "outputs": [],
   "source": []
  },
  {
   "cell_type": "markdown",
   "metadata": {},
   "source": [
    "3. Szacuje się, że aż 70% Polaków posiada kartę kredytową. Jakie jest prawdopodobieństwo, że w losowej grupie 10 osób więcej niż cztery osóby będą posiadały kartę kredytową?\n",
    "\n",
    "**Wskazówka**: $P(X>k)=1-P(X\\leq k) = 1- F(k)$."
   ]
  },
  {
   "cell_type": "markdown",
   "metadata": {},
   "source": [
    "$X_i$ - zdarzenie, że $i$-ty Polak posiada kartę kredytową;\n",
    "\n",
    "$P(X_i=1)=0.7$ - prawdopodobieństwo, że $i$-ty Polak posiada kartę kredytową;\n",
    "\n",
    "$P(X_i=0)=0.3$ - prawdopodobieństwo, że $i$-ty Polak nie posiada karty kredytowej;\n",
    "\n",
    "$S_{10} = X_1 + \\ldots + X_{10}$ - zdarzenie opisujące liczbę Polaków, którzy posiadają kartę kredytową w grupie losowo wybranych 10 Polaków;\n",
    "\n",
    "$S_{10} \\sim \\text{Bin}(n=10, p=0.7)$"
   ]
  },
  {
   "cell_type": "code",
   "execution_count": 17,
   "metadata": {},
   "outputs": [],
   "source": [
    "binom10_07 = stats.binom(n=10, p=0.7)"
   ]
  },
  {
   "cell_type": "code",
   "execution_count": 18,
   "metadata": {},
   "outputs": [
    {
     "data": {
      "text/plain": [
       "0.9526510126"
      ]
     },
     "execution_count": 18,
     "metadata": {},
     "output_type": "execute_result"
    }
   ],
   "source": [
    "#P(S_10 > 4) = P(S_10 =5) + P(S_10 =6) + ... P(S_10 = 10)\n",
    "\n",
    "# F(k) = P(X <= k)\n",
    "# P(X > k) = 1 - F(k)\n",
    "\n",
    "1 - binom10_07.cdf(4)"
   ]
  }
 ],
 "metadata": {
  "kernelspec": {
   "display_name": "Python 3",
   "language": "python",
   "name": "python3"
  },
  "language_info": {
   "codemirror_mode": {
    "name": "ipython",
    "version": 3
   },
   "file_extension": ".py",
   "mimetype": "text/x-python",
   "name": "python",
   "nbconvert_exporter": "python",
   "pygments_lexer": "ipython3",
   "version": "3.8.8"
  }
 },
 "nbformat": 4,
 "nbformat_minor": 2
}
