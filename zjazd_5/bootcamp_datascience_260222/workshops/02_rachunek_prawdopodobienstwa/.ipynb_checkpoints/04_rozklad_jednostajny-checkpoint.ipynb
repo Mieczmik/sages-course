{
 "cells": [
  {
   "cell_type": "markdown",
   "metadata": {},
   "source": [
    "### Rozkład jednostajny - $U(a, b)$\n",
    "Zmienna losowa $X$ ma **rozkład jednostajny** na przedziale $[a,b]$, jeżeli gęstość $f$ jest postaci\n",
    "$$\n",
    "    f(x)=\\left.\n",
    "    \\begin{cases}\n",
    "    \\frac{1}{b-a} \\quad &\\text{dla}\\quad x\\in[a,b]\\\\\n",
    "    0 \\quad &\\text{dla}\\quad x\\not\\in [a,b]\n",
    "    \\end{cases}\\right.\n",
    "$$\n",
    "\n",
    "Wartość oczekiwana i wariancja dane są wzorami\n",
    "$$\n",
    "    \\mathbb{E}X = \\frac{a+b}{2}, \\quad \\text{Var}(X) = \\frac{(b-a)^2}{12}.\n",
    "$$"
   ]
  },
  {
   "cell_type": "code",
   "execution_count": 1,
   "metadata": {},
   "outputs": [],
   "source": [
    "import numpy as np\n",
    "import matplotlib.pyplot as plt\n",
    "\n",
    "from scipy import stats"
   ]
  },
  {
   "cell_type": "markdown",
   "metadata": {},
   "source": [
    "### Zadanie\n",
    "1. Zdefiniuj zmienną losową dla rozkładu jednostajnego.\n",
    "2. Narysuj gęstość.\n",
    "3. Narysuj dystrybuantę.\n",
    "4. Wyznacz podstawowe charakterystyki rozkładu: średnia, wariancja, odchylenie standardowe.\n",
    "5. Wylosuj $n$ obserwacji z zdefiniowanego rozkładu.\n",
    "6. Narysujmy histogram dla wylosowanej powyżej próbki.\n",
    "7. Porównaj gęstości/dystrybuanty kilku różnych rozkładów jednostajnych."
   ]
  },
  {
   "cell_type": "code",
   "execution_count": 11,
   "metadata": {},
   "outputs": [],
   "source": [
    "a = -2\n",
    "b = 2\n",
    "\n",
    "uni2 = stats.uniform(loc = a, scale=b-a) # loc = a, scale = dlugosc przedzialu"
   ]
  },
  {
   "cell_type": "code",
   "execution_count": 4,
   "metadata": {},
   "outputs": [
    {
     "data": {
      "text/plain": [
       "<scipy.stats._distn_infrastructure.rv_frozen at 0x7efcd5a97400>"
      ]
     },
     "execution_count": 4,
     "metadata": {},
     "output_type": "execute_result"
    }
   ],
   "source": [
    "uni2"
   ]
  },
  {
   "cell_type": "code",
   "execution_count": 12,
   "metadata": {},
   "outputs": [
    {
     "data": {
      "image/png": "[encoded data removed]",
      "text/plain": [
       "<Figure size 432x288 with 1 Axes>"
      ]
     },
     "metadata": {
      "needs_background": "light"
     },
     "output_type": "display_data"
    }
   ],
   "source": [
    "# Gestosc rozkladu\n",
    "# pdf - probability density function\n",
    "\n",
    "x = np.linspace(-5, 5, 1000)\n",
    "plt.plot(x, uni2.pdf(x), label='uniform(-2, 2) pdf')\n",
    "# plt.legend(loc=\"best\")\n",
    "plt.show()"
   ]
  },
  {
   "cell_type": "code",
   "execution_count": 13,
   "metadata": {},
   "outputs": [
    {
     "data": {
      "image/png": "[encoded data removed]",
      "text/plain": [
       "<Figure size 432x288 with 1 Axes>"
      ]
     },
     "metadata": {
      "needs_background": "light"
     },
     "output_type": "display_data"
    }
   ],
   "source": [
    "# Dystrybuanta\n",
    "# cdf \n",
    "\n",
    "plt.plot(x, uni2.cdf(x))\n",
    "plt.show()"
   ]
  },
  {
   "cell_type": "code",
   "execution_count": 14,
   "metadata": {},
   "outputs": [
    {
     "data": {
      "text/plain": [
       "(array(0.), array(1.33333333), array(0.), array(-1.2))"
      ]
     },
     "execution_count": 14,
     "metadata": {},
     "output_type": "execute_result"
    }
   ],
   "source": [
    "uni2.stats('mvsk')"
   ]
  },
  {
   "cell_type": "code",
   "execution_count": 22,
   "metadata": {},
   "outputs": [
    {
     "data": {
      "image/png": "[encoded data removed]",
      "text/plain": [
       "<Figure size 432x288 with 1 Axes>"
      ]
     },
     "metadata": {
      "needs_background": "light"
     },
     "output_type": "display_data"
    }
   ],
   "source": [
    "a = uni2.rvs(size = 10000)\n",
    "plt.hist(a)\n",
    "plt.show()"
   ]
  },
  {
   "cell_type": "markdown",
   "metadata": {},
   "source": [
    "### Zadanie\n",
    "\n",
    "Zakładając, że zmienna losowa X ma rozkład jednostajny na odcinku $[-5, 5]$, oblicz prawdopodobieństwo:\n",
    "\n",
    "a) $P(-3 < X \\leq 3)$;\n",
    "\n",
    "b) $P( X > 0)$;\n",
    "\n",
    "c) $P( X < -10)$."
   ]
  },
  {
   "cell_type": "code",
   "execution_count": 23,
   "metadata": {},
   "outputs": [
    {
     "data": {
      "image/png": "[encoded data removed]",
      "text/plain": [
       "<Figure size 432x288 with 1 Axes>"
      ]
     },
     "metadata": {
      "needs_background": "light"
     },
     "output_type": "display_data"
    }
   ],
   "source": [
    "uni5 = stats.uniform(loc = -5, scale=10) # loc = a, scale = dlugosc przedzialu\n",
    "\n",
    "x = np.linspace(-10, 10, 1000)\n",
    "plt.plot(x, uni5.pdf(x))\n",
    "plt.show()"
   ]
  },
  {
   "cell_type": "code",
   "execution_count": 24,
   "metadata": {},
   "outputs": [
    {
     "data": {
      "text/plain": [
       "0.6000000000000001"
      ]
     },
     "execution_count": 24,
     "metadata": {},
     "output_type": "execute_result"
    }
   ],
   "source": [
    "# P(-3 < X <= 3) = F(3) - F(-3)\n",
    "uni5.cdf(3) - uni5.cdf(-3)"
   ]
  },
  {
   "cell_type": "code",
   "execution_count": 25,
   "metadata": {},
   "outputs": [
    {
     "data": {
      "text/plain": [
       "0.6000000000000001"
      ]
     },
     "execution_count": 25,
     "metadata": {},
     "output_type": "execute_result"
    }
   ],
   "source": [
    "6 * 0.1"
   ]
  },
  {
   "cell_type": "code",
   "execution_count": 26,
   "metadata": {},
   "outputs": [
    {
     "data": {
      "text/plain": [
       "0.5"
      ]
     },
     "execution_count": 26,
     "metadata": {},
     "output_type": "execute_result"
    }
   ],
   "source": [
    "# b)\n",
    "\n",
    "# P(X > 0) = 1 - F(0)\n",
    "1 - uni5.cdf(0)"
   ]
  },
  {
   "cell_type": "code",
   "execution_count": 27,
   "metadata": {},
   "outputs": [
    {
     "data": {
      "text/plain": [
       "0.0"
      ]
     },
     "execution_count": 27,
     "metadata": {},
     "output_type": "execute_result"
    }
   ],
   "source": [
    "# c)\n",
    "\n",
    "# P(X < -10) = F(-10)\n",
    "uni5.cdf(-10)"
   ]
  }
 ],
 "metadata": {
  "kernelspec": {
   "display_name": "Python 3",
   "language": "python",
   "name": "python3"
  },
  "language_info": {
   "codemirror_mode": {
    "name": "ipython",
    "version": 3
   },
   "file_extension": ".py",
   "mimetype": "text/x-python",
   "name": "python",
   "nbconvert_exporter": "python",
   "pygments_lexer": "ipython3",
   "version": "3.8.8"
  }
 },
 "nbformat": 4,
 "nbformat_minor": 2
}
