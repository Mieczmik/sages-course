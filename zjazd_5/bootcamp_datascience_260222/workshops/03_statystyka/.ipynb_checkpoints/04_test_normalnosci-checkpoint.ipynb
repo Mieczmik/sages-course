{
 "cells": [
  {
   "cell_type": "markdown",
   "metadata": {},
   "source": [
    "# Testy normalności"
   ]
  },
  {
   "cell_type": "code",
   "execution_count": 1,
   "metadata": {},
   "outputs": [],
   "source": [
    "import numpy as np\n",
    "import pandas as pd\n",
    "import matplotlib.pyplot as plt\n",
    "import statsmodels.api as sm\n",
    "import statsmodels.stats as sm_stats\n",
    "\n",
    "from scipy import stats"
   ]
  },
  {
   "cell_type": "markdown",
   "metadata": {},
   "source": [
    "Jednym z podstawowych kryteriów stosowalności technik statystycznych jest **rozkład danych**, do którego konkretna technika zostanie użyta. \n",
    "\n",
    "W podstawowych zastosowaniach interesuje nas właściwie jedynie czy rozkład populacji jest normalny, czy nie. Rozkład populacji staramy się ustalić na podstawie zebranej próby, więc w tym celu stosujemy odpowiednie testy statystyczne. \n",
    "\n",
    "Najbardziej uniwersalnym i w obecnych czasach najbardziej rozpowszechnionym testem używanym do tego celu jest **test Shapiro-Wilka**."
   ]
  },
  {
   "cell_type": "markdown",
   "metadata": {},
   "source": [
    "## Testy normalności - test Shapiro-Wilka\n",
    "\\begin{equation*}\n",
    "\\begin{split}\n",
    "    H_0&: \\text{rozkład badanej cechy jest normalny}\\\\\n",
    "    H_1&: \\text{rozkład badanej cechy nie jest normalny}\n",
    "\\end{split}\n",
    "\\end{equation*}\n",
    "\n",
    "Statystyka testowa \\textbf{testu Shapiro-Wilka} dana jest wzorem\n",
    "\\begin{equation*}\n",
    "    T = \\frac{\\Big( \\sum_{i=1}^{[\\frac{n}{2}]}a_i(n)(X_{n-i+1:n} - X_{i:n} \\Big)^2}{\\sum_{i=1}^n(X_i - \\overline{X})^2},\n",
    "\\end{equation*}\n",
    "gdzie $a_i(n)$ są pewnymi stałymi zależnymi od liczności próby, natomiast $[n/2]$ oznacza część całkowitą wyrażenia $n/2$.\n",
    "\n",
    "Obszar krytyczny ma postać\n",
    "\\begin{equation*}\n",
    "    W_{\\alpha} = (0, w(\\alpha, n)],\n",
    "\\end{equation*}\n",
    "gdzie $w(\\alpha, n)$ oznacza kwantyl rzędu $\\alpha$ rozkładu statystyki.\n"
   ]
  },
  {
   "cell_type": "code",
   "execution_count": 2,
   "metadata": {},
   "outputs": [],
   "source": [
    "?stats.shapiro"
   ]
  },
  {
   "cell_type": "code",
   "execution_count": 3,
   "metadata": {},
   "outputs": [
    {
     "data": {
      "text/plain": [
       "ShapiroResult(statistic=0.9875295162200928, pvalue=0.47418856620788574)"
      ]
     },
     "execution_count": 3,
     "metadata": {},
     "output_type": "execute_result"
    }
   ],
   "source": [
    "norm01 = stats.norm.rvs(size=100)\n",
    "stats.shapiro(norm01)"
   ]
  },
  {
   "cell_type": "code",
   "execution_count": null,
   "metadata": {},
   "outputs": [],
   "source": [
    "# poziom istotnosci = 0.05\n",
    "# pvalue=0.47418856620788574\n",
    "# pvalue > 0.05 => brak podstaw do odrzucenia H0 => rozklad badanej cechy jest normalny"
   ]
  },
  {
   "cell_type": "code",
   "execution_count": 9,
   "metadata": {},
   "outputs": [
    {
     "name": "stdout",
     "output_type": "stream",
     "text": [
      "ShapiroResult(statistic=0.9599230289459229, pvalue=0.7849944829940796)\n",
      "ShapiroResult(statistic=0.7934502959251404, pvalue=0.0120694600045681)\n",
      "ShapiroResult(statistic=0.9487208724021912, pvalue=0.6533902883529663)\n"
     ]
    }
   ],
   "source": [
    "n = 10\n",
    "norm = stats.norm.rvs(size=n, loc=2, scale=0.5) \n",
    "print(stats.shapiro(norm))\n",
    "chi = stats.chi2.rvs(size=n, df=5)\n",
    "print(stats.shapiro(chi))\n",
    "exp = stats.expon.rvs(size=n, scale=1/2)\n",
    "print(stats.shapiro(exp))"
   ]
  },
  {
   "cell_type": "code",
   "execution_count": 11,
   "metadata": {},
   "outputs": [
    {
     "name": "stdout",
     "output_type": "stream",
     "text": [
      "ShapiroResult(statistic=0.9964085221290588, pvalue=0.021445320919156075)\n",
      "ShapiroResult(statistic=0.9863173961639404, pvalue=4.721390567397066e-08)\n",
      "ShapiroResult(statistic=0.9160155653953552, pvalue=4.155599972935421e-23)\n",
      "ShapiroResult(statistic=0.8365544080734253, pvalue=8.359125586606976e-31)\n"
     ]
    }
   ],
   "source": [
    "n = 1000\n",
    "norm = stats.norm.rvs(size=n, loc=2, scale=0.5)\n",
    "print(stats.shapiro(norm))\n",
    "norm2 = stats.norm.rvs(size=n, loc=2, scale=0.5) + stats.uniform.rvs(size=n, loc=-2, scale=4)\n",
    "print(stats.shapiro(norm2))\n",
    "chi = stats.chi2.rvs(size=n, df=5)\n",
    "print(stats.shapiro(chi))\n",
    "exp = stats.expon.rvs(size=n, scale=1/2)\n",
    "print(stats.shapiro(exp))"
   ]
  },
  {
   "cell_type": "markdown",
   "metadata": {},
   "source": [
    "**Wniosek:**\n",
    "- dla małych próbek nawet duże odstępstwa od rozkładu normalnego nie są wykrywane przez test Shapiro-Wilka.\n",
    "- dla dużych próbek test odrzuca hipotezę zerową nawet przy małych odstępstwach od rozkładu normalnego (wówczas lepiej opierać się na metodach graficznych)."
   ]
  },
  {
   "cell_type": "markdown",
   "metadata": {},
   "source": [
    "## Zadanie \n",
    "Wygeneruj kilka próbek o różnej liczności z \n",
    "\n",
    "a) rozkładu normalnego,\n",
    "\n",
    "b) dla rozkładu chi-kwadrat,\n",
    "\n",
    "c) dla rozkładu wykładniczego,\n",
    "\n",
    "sporządź histogramy dla wygenerowanych próbek i sprawdź zachowanie się testu Shapiro-Wilka. Przyjmij poziom istotności 0.05."
   ]
  },
  {
   "cell_type": "code",
   "execution_count": null,
   "metadata": {},
   "outputs": [],
   "source": []
  },
  {
   "cell_type": "code",
   "execution_count": null,
   "metadata": {},
   "outputs": [],
   "source": []
  },
  {
   "cell_type": "code",
   "execution_count": null,
   "metadata": {},
   "outputs": [],
   "source": []
  },
  {
   "cell_type": "code",
   "execution_count": null,
   "metadata": {},
   "outputs": [],
   "source": []
  },
  {
   "cell_type": "markdown",
   "metadata": {},
   "source": [
    "## Zadanie\n",
    "Wygeneruj kilka próbek z rozkładu normalnego dla różnych parametrów $\\mu$ i $\\sigma$ i dla różnej liczności próbki i sprawdź ile razy zostanie odrzucona hipoteza o normalności rozkładu. Przyjmij poziom istotności 0.05."
   ]
  },
  {
   "cell_type": "code",
   "execution_count": null,
   "metadata": {},
   "outputs": [],
   "source": []
  },
  {
   "cell_type": "code",
   "execution_count": null,
   "metadata": {},
   "outputs": [],
   "source": []
  },
  {
   "cell_type": "code",
   "execution_count": null,
   "metadata": {},
   "outputs": [],
   "source": []
  },
  {
   "cell_type": "markdown",
   "metadata": {},
   "source": [
    "## Zadanie\n",
    "Wygeneruj kilka próbek z rozkładu normalnego dla różnych parametrów $\\mu$ i $\\sigma$ i dla różnej liczności próbki. Przy generowaniu próbki dodaj pewien błąd. Sprawdź ile razy zostanie odrzucona hipoteza o normalności rozkładu. Przyjmij poziom istotności 0.05."
   ]
  },
  {
   "cell_type": "code",
   "execution_count": null,
   "metadata": {},
   "outputs": [],
   "source": []
  },
  {
   "cell_type": "code",
   "execution_count": null,
   "metadata": {},
   "outputs": [],
   "source": []
  },
  {
   "cell_type": "code",
   "execution_count": null,
   "metadata": {},
   "outputs": [],
   "source": []
  },
  {
   "cell_type": "code",
   "execution_count": null,
   "metadata": {},
   "outputs": [],
   "source": []
  },
  {
   "cell_type": "markdown",
   "metadata": {},
   "source": [
    "## ***Metody graficzne\n",
    "\n",
    "- histogram (z naniesionym fitem rozkładu normalnego)\n",
    "\n",
    "- $qq$-plot:\n",
    "    * oś x - teoretyczne kwantyle z rozkładu normalnego\n",
    "    * oś y - empiryczne kwantyle wyznaczone na podstawie próby; punkty na wykresie powinny układać wzdłuż prostej $y=x$."
   ]
  },
  {
   "cell_type": "code",
   "execution_count": 13,
   "metadata": {},
   "outputs": [],
   "source": [
    "?stats.norm.fit"
   ]
  },
  {
   "cell_type": "code",
   "execution_count": 15,
   "metadata": {},
   "outputs": [
    {
     "data": {
      "text/plain": [
       "(1.9964965498833047, 0.4751648962091761)"
      ]
     },
     "execution_count": 15,
     "metadata": {},
     "output_type": "execute_result"
    }
   ],
   "source": [
    "norm = stats.norm.rvs(size=n, loc=2, scale=0.5)\n",
    "\n",
    "stats.norm.fit(norm)"
   ]
  },
  {
   "cell_type": "markdown",
   "metadata": {},
   "source": [
    "## Zadanie\n",
    "Wygeneruj kilka próbek o różnej liczności z \n",
    "\n",
    "a) rozkładu normalnego,\n",
    "\n",
    "b) rozkładu chi-kwadrat,\n",
    "\n",
    "c) rozkładu wykładniczego,\n",
    "\n",
    "sporządź histogramy z naniesionym filtrem rozkładu normalnego oraz wykresy $qq$-plot. Na podstawie otrzymanych rysunków oceń czy rozkład jest normalny."
   ]
  },
  {
   "cell_type": "code",
   "execution_count": 28,
   "metadata": {},
   "outputs": [],
   "source": [
    "n = 100\n",
    "norm = stats.norm.rvs(size=n, loc=2, scale=0.5) \n",
    "norm_error = norm + stats.uniform.rvs(size=n, loc=-1, scale=2)\n",
    "chi = stats.chi2.rvs(size=n, df=5)\n",
    "exp = stats.expon.rvs(size=n, scale=1/2)"
   ]
  },
  {
   "cell_type": "code",
   "execution_count": 29,
   "metadata": {},
   "outputs": [
    {
     "name": "stdout",
     "output_type": "stream",
     "text": [
      "1.9635890002767846 0.53231828404452\n",
      "1.9184568036717327 0.6992088703484557\n",
      "4.8226315049940505 3.17224328450901\n",
      "0.5607734645349275 0.5853098091986242\n"
     ]
    },
    {
     "data": {
      "text/plain": [
       "[<matplotlib.lines.Line2D at 0x7f00357e5a30>]"
      ]
     },
     "execution_count": 29,
     "metadata": {},
     "output_type": "execute_result"
    },
    {
     "data": {
      "image/png": "[encoded data removed]",
      "text/plain": [
       "<Figure size 1440x720 with 4 Axes>"
      ]
     },
     "metadata": {
      "needs_background": "light"
     },
     "output_type": "display_data"
    }
   ],
   "source": [
    "# histogram z naniesionym filtrem rozkładu normalnego\n",
    "m1, s1 = stats.norm.fit(norm)\n",
    "print(m1, s1)\n",
    "m2, s2 = stats.norm.fit(norm_error)\n",
    "print(m2, s2)\n",
    "m3, s3 = stats.norm.fit(chi)\n",
    "print(m3, s3)\n",
    "m4, s4 = stats.norm.fit(exp)\n",
    "print(m4, s4)\n",
    "\n",
    "fig, ax = plt.subplots(2, 2, figsize=(20, 10))\n",
    "N_bins = 10\n",
    "\n",
    "x_range = np.linspace(norm.min(), norm.max(), 100)\n",
    "ax[0, 0].hist(norm, bins=N_bins, density=True, alpha=0.5)\n",
    "ax[0, 0].plot(x_range, stats.norm.pdf(x_range, m1, s1), '--')\n",
    "\n",
    "x_range = np.linspace(norm_error.min(), norm_error.max(), 100)\n",
    "ax[0, 1].hist(norm_error, bins=N_bins, density=True, alpha=0.5)\n",
    "ax[0, 1].plot(x_range, stats.norm.pdf(x_range, m2, s2), '--')\n",
    "\n",
    "x_range = np.linspace(chi.min(), chi.max(), 100)\n",
    "ax[1, 0].hist(chi, bins=N_bins, density=True, alpha=0.5)\n",
    "ax[1, 0].plot(x_range, stats.norm.pdf(x_range, m3, s3), '--')\n",
    "\n",
    "x_range = np.linspace(exp.min(), exp.max(), 100)\n",
    "ax[1, 1].hist(exp, bins=N_bins, density=True, alpha=0.5)\n",
    "ax[1, 1].plot(x_range, stats.norm.pdf(x_range, m4, s4), '--')"
   ]
  },
  {
   "cell_type": "code",
   "execution_count": null,
   "metadata": {},
   "outputs": [],
   "source": [
    "?sm.qqplot"
   ]
  },
  {
   "cell_type": "code",
   "execution_count": 30,
   "metadata": {},
   "outputs": [
    {
     "name": "stdout",
     "output_type": "stream",
     "text": [
      "ShapiroResult(statistic=0.989964485168457, pvalue=0.6617213487625122)\n"
     ]
    },
    {
     "data": {
      "image/png": "[encoded data removed]",
      "text/plain": [
       "<Figure size 432x288 with 1 Axes>"
      ]
     },
     "metadata": {
      "needs_background": "light"
     },
     "output_type": "display_data"
    }
   ],
   "source": [
    "sm.qqplot(norm, stats.norm, line='q')\n",
    "print(stats.shapiro(norm))\n",
    "plt.show()"
   ]
  },
  {
   "cell_type": "code",
   "execution_count": 34,
   "metadata": {},
   "outputs": [
    {
     "name": "stdout",
     "output_type": "stream",
     "text": [
      "ShapiroResult(statistic=0.988908052444458, pvalue=0.5773555040359497)\n"
     ]
    },
    {
     "data": {
      "image/png": "[encoded data removed]",
      "text/plain": [
       "<Figure size 432x288 with 1 Axes>"
      ]
     },
     "metadata": {
      "needs_background": "light"
     },
     "output_type": "display_data"
    }
   ],
   "source": [
    "sm.qqplot(norm_error, stats.norm, line='q')\n",
    "print(stats.shapiro(norm_error))\n",
    "plt.show()"
   ]
  },
  {
   "cell_type": "code",
   "execution_count": 36,
   "metadata": {},
   "outputs": [
    {
     "name": "stdout",
     "output_type": "stream",
     "text": [
      "ShapiroResult(statistic=0.8401163816452026, pvalue=5.20257437131022e-09)\n"
     ]
    },
    {
     "data": {
      "image/png": "[encoded data removed]",
      "text/plain": [
       "<Figure size 432x288 with 1 Axes>"
      ]
     },
     "metadata": {
      "needs_background": "light"
     },
     "output_type": "display_data"
    }
   ],
   "source": [
    "sm.qqplot(chi, stats.norm, line='q')\n",
    "print(stats.shapiro(chi))\n",
    "plt.show()"
   ]
  },
  {
   "cell_type": "code",
   "execution_count": 37,
   "metadata": {},
   "outputs": [
    {
     "name": "stdout",
     "output_type": "stream",
     "text": [
      "ShapiroResult(statistic=0.7691559791564941, pvalue=3.100951787016193e-11)\n"
     ]
    },
    {
     "data": {
      "image/png": "[encoded data removed]",
      "text/plain": [
       "<Figure size 432x288 with 1 Axes>"
      ]
     },
     "metadata": {
      "needs_background": "light"
     },
     "output_type": "display_data"
    }
   ],
   "source": [
    "sm.qqplot(exp, stats.norm, line='q')\n",
    "print(stats.shapiro(exp))\n",
    "plt.show()"
   ]
  },
  {
   "cell_type": "markdown",
   "metadata": {},
   "source": [
    "## ***Inne testy do badania normalności\n",
    "\n",
    "* testy oparte na kurtozie i skośności:\n",
    "    - [test D'Agostino $K^2$](https://en.wikipedia.org/wiki/D%27Agostino%27s_K-squared_test): `scipy.stats.normaltest`;\n",
    "\n",
    "    - [test Jarque–Bera](https://en.wikipedia.org/wiki/Jarque%E2%80%93Bera_test): `scipy.stats.jarque_bera`;\n",
    "    \n",
    "* testy oparte na dystrybuancie empirycznej:\n",
    "    - [test Kolmogorova–Smirnova](https://en.wikipedia.org/wiki/Kolmogorov%E2%80%93Smirnov_test): `scipy.stats.kstest`;\n",
    "    \n",
    "    - [test Lilliefors](https://en.wikipedia.org/wiki/Lilliefors_test): `statsmodels.stats.diagnostic.lilliefors`;"
   ]
  },
  {
   "cell_type": "markdown",
   "metadata": {},
   "source": [
    "## Test typu omnibus D’Agostino-Pearsona oparty o kurtozę i skośność\n",
    "Łącząc dwa testy otrzymuje się test czuły na odstępstwa od normalności zarówno w postaci niezerowej skośności jak i kurtozy istotnie różniej od 3.\n",
    "\n",
    "Statystyką testową jest\n",
    "$$\n",
    "K^2=(Z(\\sqrt{b_1}))^2+ (Z(b_2))^2,\n",
    "$$\n",
    "gdzie $Z(\\sqrt{b_1})$ to  statystyka  testowa  testu  opartego  o  skośność  a $Z(b_2)$  to  statystyka  testowa  testu opartego o kurtozę.\n",
    "\n",
    "Asymptotyczny rozkład tej statystyki to rozkład $\\chi^2$.\n",
    "\n",
    "Ponadto:\n",
    "$m_k = \\frac{1}{n}\\sum_{i=1}^n (x_i -\\overline{x})^k$, $\\sqrt{b_1} = \\frac{m_3}{m_2^{3/2}}$, $b_2 = \\frac{m4}{m_2^2}-3$.\n",
    "\n",
    "## Test typu omnibus Jarque-Bera oparty o kurtozę i skośność\n",
    "Innym testem opartym o kurtozę i skośność jest test Jarque-Bera. Statystyka testowaw przypadku tego testu ma łatwiejszą postać niż dla testu D’Agostino-Pearsona. Traci się jednak na niedokładnym oszacowaniu wartości krytycznych przy niewielkich wielkościach próby. Asymptotycznie ten test jest tak samo mocny jak test D’Agostino-Pearsona, ale na asymptotykę można liczyć jedynie w przypadku dużych prób.\n",
    "\n",
    "Statystyka testowa ma postać:\n",
    "$$\n",
    "    \\text{JB} = \\frac{n}{6}\\Big((\\sqrt{b_1})^2 + \\frac{1}{4}(b_2-3)^2\\Big).\n",
    "$$\n",
    "\n",
    "\n",
    "## Test Kołmogorova-Smirnova\n",
    "\n",
    "Test oparty o odległość supremum pomiędzy dystrybuantami empiryczną $F_n$ i teoretyczną $F$\n",
    "$$\n",
    "d(F_n, F) = \\sup_{x}|F_n(x) - F(x)|.\n",
    "$$\n",
    "\n",
    "Statystka testowa oparta o powyższą odległość sprowadza się do liczenia maksimum modułu różnicy dystrybuant w punktach skoku dystrybuanty empirycznej:\n",
    "$$\n",
    "D = \\max_{x_i}|F_n(x_i) - F(x_i)|.\n",
    "$$\n",
    "\n",
    "Rozkład statystyki testowej można wyznaczyć w sposób dokładny dla prostej hipotezy zerowej, a więc dla porównania z jednym określonym rozkładem. Asymptotycznie, ta statystyka przemnożona przez $\\sqrt{n}$ ma rozkład Kołmogorowa.\n",
    "\n",
    "Test ten pomimo łatwego opisu probabilistycznego nie jest stosowany z uwagi na moc niższą niż konkurencja.\n",
    "\n",
    "## Test Lillieforsa\n",
    "\n",
    "Ten test to modyfikacja testu Kołmogorowa-Smirnowa zaproponowana przez Huberta Lillieforsa, pozwalająca na testowanie zgodności z całą rodziną rozkładów normalnych, bez znajomości parametrów średniej i odchylenia standardowego (test Kołmogorowa-Smirnowa pozwala na zbadanie zgodnościz jednym określonym rozkładem).\n",
    "\n",
    "Statystyka testowa w przypadku testu Lillieforsa wygląda tak samo jak w przypadku testu Kołmogorowa-Smirnowa. Różnica polega na zastosowaniu innego rozkładu dla statystyki testowej (przybliżenie rozkładu dokładnego), uwzględniającego to, że hipoteza zerowa jest hipotezą złożoną."
   ]
  },
  {
   "cell_type": "code",
   "execution_count": null,
   "metadata": {},
   "outputs": [],
   "source": [
    "?stats.normaltest"
   ]
  },
  {
   "cell_type": "code",
   "execution_count": 38,
   "metadata": {},
   "outputs": [
    {
     "data": {
      "text/plain": [
       "NormaltestResult(statistic=0.038959424831917305, pvalue=0.9807087911988661)"
      ]
     },
     "execution_count": 38,
     "metadata": {},
     "output_type": "execute_result"
    }
   ],
   "source": [
    "stats.normaltest(norm_error)"
   ]
  },
  {
   "cell_type": "code",
   "execution_count": 39,
   "metadata": {},
   "outputs": [
    {
     "data": {
      "text/plain": [
       "NormaltestResult(statistic=63.296808159827634, pvalue=1.8000010027815444e-14)"
      ]
     },
     "execution_count": 39,
     "metadata": {},
     "output_type": "execute_result"
    }
   ],
   "source": [
    "stats.normaltest(chi)"
   ]
  },
  {
   "cell_type": "code",
   "execution_count": null,
   "metadata": {},
   "outputs": [],
   "source": [
    "?stats.jarque_bera"
   ]
  },
  {
   "cell_type": "code",
   "execution_count": 40,
   "metadata": {},
   "outputs": [
    {
     "data": {
      "text/plain": [
       "Jarque_beraResult(statistic=0.12474987612898653, pvalue=0.939530554976097)"
      ]
     },
     "execution_count": 40,
     "metadata": {},
     "output_type": "execute_result"
    }
   ],
   "source": [
    "stats.jarque_bera(norm_error)"
   ]
  },
  {
   "cell_type": "code",
   "execution_count": 41,
   "metadata": {},
   "outputs": [
    {
     "data": {
      "text/plain": [
       "Jarque_beraResult(statistic=295.69092580671173, pvalue=0.0)"
      ]
     },
     "execution_count": 41,
     "metadata": {},
     "output_type": "execute_result"
    }
   ],
   "source": [
    "stats.jarque_bera(chi)"
   ]
  },
  {
   "cell_type": "code",
   "execution_count": null,
   "metadata": {},
   "outputs": [],
   "source": [
    "?stats.kstest"
   ]
  },
  {
   "cell_type": "code",
   "execution_count": 43,
   "metadata": {},
   "outputs": [
    {
     "data": {
      "text/plain": [
       "KstestResult(statistic=0.062478740762629714, pvalue=0.8065551433794752)"
      ]
     },
     "execution_count": 43,
     "metadata": {},
     "output_type": "execute_result"
    }
   ],
   "source": [
    "norm_error_stand = (norm_error - np.mean(norm_error)) / np.std(norm_error, ddof=1)\n",
    "stats.kstest(norm_error_stand, 'norm')"
   ]
  },
  {
   "cell_type": "code",
   "execution_count": null,
   "metadata": {},
   "outputs": [],
   "source": [
    "?sm_stats.diagnostic.lilliefors"
   ]
  },
  {
   "cell_type": "code",
   "execution_count": 45,
   "metadata": {},
   "outputs": [
    {
     "data": {
      "text/plain": [
       "(0.062478740762629714, 0.4440795891292383)"
      ]
     },
     "execution_count": 45,
     "metadata": {},
     "output_type": "execute_result"
    }
   ],
   "source": [
    "sm_stats.diagnostic.lilliefors(norm_error, 'norm')"
   ]
  },
  {
   "cell_type": "markdown",
   "metadata": {},
   "source": [
    "## Zadanie\n",
    "Napisz funkcję, która dla dowolnej próbki zwróci ramkę danych z wyznaczonymi statystykami testowymi i $p$-wartościami dla poznanych testów normalności."
   ]
  },
  {
   "cell_type": "code",
   "execution_count": null,
   "metadata": {},
   "outputs": [],
   "source": [
    "def normal_tests(x):\n",
    "    pass"
   ]
  },
  {
   "cell_type": "markdown",
   "metadata": {},
   "source": [
    "## Zadanie\n",
    "Wczytaj dane `mtcars.csv` i sprawdź normalność każdej z kolumn (za pomocą testów statystycznych oraz metod graficznych). "
   ]
  },
  {
   "cell_type": "code",
   "execution_count": null,
   "metadata": {},
   "outputs": [],
   "source": [
    "mtcars = pd.read_csv(\"../data/mtcars.csv\")\n",
    "mtcars.head()"
   ]
  },
  {
   "cell_type": "code",
   "execution_count": null,
   "metadata": {},
   "outputs": [],
   "source": []
  }
 ],
 "metadata": {
  "kernelspec": {
   "display_name": "Python 3",
   "language": "python",
   "name": "python3"
  },
  "language_info": {
   "codemirror_mode": {
    "name": "ipython",
    "version": 3
   },
   "file_extension": ".py",
   "mimetype": "text/x-python",
   "name": "python",
   "nbconvert_exporter": "python",
   "pygments_lexer": "ipython3",
   "version": "3.8.8"
  }
 },
 "nbformat": 4,
 "nbformat_minor": 2
}
