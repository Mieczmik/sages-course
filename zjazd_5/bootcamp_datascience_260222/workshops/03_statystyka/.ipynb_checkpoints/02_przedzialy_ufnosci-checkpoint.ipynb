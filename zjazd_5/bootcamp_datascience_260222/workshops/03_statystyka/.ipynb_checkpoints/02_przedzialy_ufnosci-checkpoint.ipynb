{
 "cells": [
  {
   "cell_type": "markdown",
   "metadata": {},
   "source": [
    "# Przedziały ufności"
   ]
  },
  {
   "cell_type": "code",
   "execution_count": 2,
   "metadata": {},
   "outputs": [],
   "source": [
    "import numpy as np\n",
    "import matplotlib.pyplot as plt\n",
    "from scipy import stats"
   ]
  },
  {
   "cell_type": "markdown",
   "metadata": {},
   "source": [
    "## Przedział ufności dla wartości średniej - model 1\n",
    "Niech $X_1, \\ldots, X_n$ będzie próbą prostą z populacji o rozkładzie normalnym $\\mathcal{N}(\\mu, \\sigma)$ o znanej wariancji $\\sigma^2$.\n",
    "\n",
    "Wtedy dla ustalonego poziomu ufności $1-\\alpha$ najkrótszy przedział ufności dla wartości oczekiwanej ma postać\n",
    "$$\n",
    "    \\Bigg( \\overline{X}-z_{1-\\frac{\\alpha}{2}}\\frac{\\sigma}{\\sqrt{n}}, \\overline{X}+z_{1-\\frac{\\alpha}{2}}\\frac{\\sigma}{\\sqrt{n}} \\Bigg),\n",
    "$$\n",
    "gdzie $z_{1-\\frac{\\alpha}{2}}$ oznacza kwantyl rozkładu normalnego standardowego rzędu $1-\\frac{\\alpha}{2}$."
   ]
  },
  {
   "cell_type": "markdown",
   "metadata": {},
   "source": [
    "**Zadanie - model 1**. Na podstawie 64 losowo wybranych rozmów telefonicznych obliczono średnią długość rozmowy, która wynosiła 4.2 minuty. Z poprzednich badań wiadomo, że wariancja długości rozmów telefonicznych wynosi 1.44 min$^2$. Zakładając, że czas rozmów ma rozkład normalny\n",
    "\n",
    "   a) Oszacować przedziałowo długość rozmowy telefonicznej na poziomie ufności 0.95.\n",
    "\n",
    "b) Oszacować przedziałowo długość rozmowy telefonicznej na poziomie ufności 0.99.\n",
    "\n",
    "c) Porównać długość obu wyznaczonych przedziałów i wyjaśnić, w jaki sposób długość przedziału zależy od przyjętego poziomu ufności."
   ]
  },
  {
   "cell_type": "code",
   "execution_count": 3,
   "metadata": {},
   "outputs": [
    {
     "name": "stdout",
     "output_type": "stream",
     "text": [
      "Przedział ufności na p. ufności 95%: (3.906005402318992, 4.4939945976810085), o dlugosci: [0.5879892]\n"
     ]
    }
   ],
   "source": [
    "# Sposob I\n",
    "\n",
    "# X_i zm. losowa okreslaja dlugosc rozmowy telefonicznej\n",
    "# X_i ~ N(mu, sigma = sqrt(1.44))\n",
    "\n",
    "n = 64\n",
    "sigma = 1.2\n",
    "X_mean = 4.2\n",
    "alpha = 0.05\n",
    "\n",
    "z1 = stats.norm.ppf(q = 1 - alpha / 2, loc=0, scale=1)\n",
    "\n",
    "d = z1 * sigma / np.sqrt(n)\n",
    "interval1 = (X_mean - d, X_mean + d)\n",
    "print(\"Przedział ufności na p. ufności 95%: {}, o dlugosci: {}\".format(interval1, np.diff(interval1)))"
   ]
  },
  {
   "cell_type": "code",
   "execution_count": 5,
   "metadata": {},
   "outputs": [
    {
     "name": "stdout",
     "output_type": "stream",
     "text": [
      "Przedział ufności na p. ufności 99%: (3.8136256044676653, 4.586374395532335), o dlugosci: [0.77274879]\n"
     ]
    }
   ],
   "source": [
    "alpha2 = 0.01\n",
    "z2 = stats.norm.ppf(q = 1 - alpha2 / 2, loc=0, scale=1)\n",
    "\n",
    "d2 = z2 * sigma / np.sqrt(n)\n",
    "interval2 = (X_mean - d2, X_mean + d2)\n",
    "print(\"Przedział ufności na p. ufności 99%: {}, o dlugosci: {}\".format(interval2, np.diff(interval2)))"
   ]
  },
  {
   "cell_type": "code",
   "execution_count": 8,
   "metadata": {},
   "outputs": [
    {
     "name": "stdout",
     "output_type": "stream",
     "text": [
      "(3.906005402318992, 4.4939945976810085)\n",
      "(3.8136256044676653, 4.586374395532335)\n"
     ]
    }
   ],
   "source": [
    "# Sposob II\n",
    "\n",
    "# alpha = poziom ufnosci \n",
    "# scale = sigma / sqrt(n)\n",
    "# loc = srodek przedzialu\n",
    "print(stats.norm.interval(alpha = 1-alpha, loc=X_mean, scale=sigma / np.sqrt(n)))\n",
    "print(stats.norm.interval(alpha = 1-alpha2, loc=X_mean, scale=sigma / np.sqrt(n)))"
   ]
  },
  {
   "cell_type": "markdown",
   "metadata": {},
   "source": [
    "**Zadanie - model 1.**\n",
    "Średnia cena 100 losowo wybranych książek do nauki programowania wyniosła 120.50 PLN. Wiadomo, ze odchylenie standardowe cen książek wynosi 10.75 PLN. Wyznaczyć 90% przedział ufności dla średniej ceny książki do programowania zakładając, że rozkład cen jest rozkładem normalnym."
   ]
  },
  {
   "cell_type": "code",
   "execution_count": null,
   "metadata": {},
   "outputs": [],
   "source": []
  },
  {
   "cell_type": "code",
   "execution_count": null,
   "metadata": {},
   "outputs": [],
   "source": []
  },
  {
   "cell_type": "code",
   "execution_count": null,
   "metadata": {},
   "outputs": [],
   "source": []
  },
  {
   "cell_type": "markdown",
   "metadata": {},
   "source": [
    "## Przedział ufności dla wartości średniej - model 2\n",
    "Niech $X_1, \\ldots, X_n$ będzie próbą prostą z populacji o rozkładzie normalnym $\\mathcal{N}(\\mu, \\sigma)$ o nieznanej wariancji $\\sigma^2$.\n",
    "\n",
    "Wtedy dla ustalonego poziomu ufności $1-\\alpha$ najkrótszy przedział ufności dla wartości oczekiwanej ma postać\n",
    "$$\n",
    "    \\Bigg( \\overline{X}-t_{1-\\frac{\\alpha}{2}}^{[n-1]}\\frac{S}{\\sqrt{n}}, \\overline{X}+t_{1-\\frac{\\alpha}{2}}^{[n-1]}\\frac{S}{\\sqrt{n}} \\Bigg),\n",
    "$$\n",
    "gdzie $t_{1-\\frac{\\alpha}{2}}^{[n-1]}$ oznacza kwantyl rzędu $1-\\frac{\\alpha}{2}$ rozkładu $t$-Studenta o $n-1$ stopniach swobody."
   ]
  },
  {
   "cell_type": "markdown",
   "metadata": {},
   "source": [
    "**Zadanie - model 2**. Otrzymano następujące wyniki pomiarów grubości (w mm) 10 losowo wylosowanych detali wyprodukowanych przez zakupiony agregat: 2.01, 1.94, 1.94, 2.12, 1.96, 2.03, 1.91, 1.98, 1.97, 2.08. Zakładamy, że rozkład grubości detalu jest normalny. Na poziomie ufności 0.95 podać przedział ufności dla średniej grubości detalu."
   ]
  },
  {
   "cell_type": "code",
   "execution_count": 9,
   "metadata": {},
   "outputs": [
    {
     "data": {
      "text/plain": [
       "(1.9465246317260556, 2.041475368273944)"
      ]
     },
     "execution_count": 9,
     "metadata": {},
     "output_type": "execute_result"
    }
   ],
   "source": [
    "# X - zm. losowa okreslaja grubosc detalu\n",
    "# X ~ N(mu, sigma)\n",
    "\n",
    "X = [2.01, 1.94, 1.94, 2.12, 1.96, 2.03, 1.91, 1.98, 1.97, 2.08]\n",
    "n = len(X)\n",
    "X_mean = np.mean(X)\n",
    "X_std = np.std(X, ddof=1)\n",
    "alpha = 0.05 # poziom ufnosci 1-alpha = 0.95\n",
    "\n",
    "stats.t.interval(alpha=1-alpha, loc=X_mean, scale=X_std / np.sqrt(n), df=n-1)"
   ]
  },
  {
   "cell_type": "markdown",
   "metadata": {},
   "source": [
    "**Zadanie - model 2**. \n",
    "Zmierzono objętości 5 losowo wybranych kulek z partii kulek łożyskowych otrzymując (w cm): 1,24 1,38 1,25 1,17 1,27. Na poziomie ufności 0,9 skonstruować przedział ufności dla średniej objętości kulki. Zakładamy, ze rozkład objętości kulek jest normalny."
   ]
  },
  {
   "cell_type": "code",
   "execution_count": null,
   "metadata": {},
   "outputs": [],
   "source": []
  },
  {
   "cell_type": "code",
   "execution_count": null,
   "metadata": {},
   "outputs": [],
   "source": []
  },
  {
   "cell_type": "code",
   "execution_count": null,
   "metadata": {},
   "outputs": [],
   "source": []
  },
  {
   "cell_type": "code",
   "execution_count": null,
   "metadata": {},
   "outputs": [],
   "source": []
  },
  {
   "cell_type": "markdown",
   "metadata": {},
   "source": [
    "## Przedział ufności dla wartości średniej - model 3\n",
    "Niech $X_1, \\ldots, X_n$ będzie dostatecznie dużą próbą ($n\\geq 100)$ o dowolnym rozkładzie o nieznanej, ale skończonej wartości oczekiwanej i wariancji.\n",
    "\n",
    "Wtedy dla ustalonego poziomu ufności $1-\\alpha$ najkrótszy przedział ufności dla wartości oczekiwanej ma postać\n",
    "$$\n",
    "    \\Bigg( \\overline{X}-z_{1-\\frac{\\alpha}{2}}\\frac{S}{\\sqrt{n}}, \\overline{X}+z_{1-\\frac{\\alpha}{2}}\\frac{S}{\\sqrt{n}} \\Bigg),\n",
    "$$\n",
    "gdzie $z_{1-\\frac{\\alpha}{2}}$ oznacza kwantyl rozkładu normalnego standardowego rzędu $1-\\frac{\\alpha}{2}$.\n"
   ]
  },
  {
   "cell_type": "markdown",
   "metadata": {},
   "source": [
    "**Zadanie - model 3**. Badania przeprowadzone w maju 1990 roku przez Instytut Gallupa na próbie losowej 2727 dorosłych obywateli USA wykazały, że średnie wydatki gospodarstwa domowego na cele charytatywne w 1989 wyniosły 734\\\\$, podczas gdy wyestymowane odchylenie standardowe tych wydatków dało 185$. Wyznaczyć 99% przedział ufności przeciętnych wydatków na cele charytatywne w USA w 1989 roku."
   ]
  },
  {
   "cell_type": "code",
   "execution_count": 10,
   "metadata": {},
   "outputs": [
    {
     "data": {
      "text/plain": [
       "(724.8747191639189, 743.1252808360811)"
      ]
     },
     "execution_count": 10,
     "metadata": {},
     "output_type": "execute_result"
    }
   ],
   "source": [
    "n = 2727\n",
    "X_mean = 734\n",
    "X_std = 185\n",
    "alpha = 0.01\n",
    "\n",
    "stats.norm.interval(alpha=1-alpha, loc=X_mean, scale=X_std / np.sqrt(n))"
   ]
  },
  {
   "cell_type": "code",
   "execution_count": 11,
   "metadata": {},
   "outputs": [
    {
     "data": {
      "text/plain": [
       "(724.8683254987725, 743.1316745012275)"
      ]
     },
     "execution_count": 11,
     "metadata": {},
     "output_type": "execute_result"
    }
   ],
   "source": [
    "stats.t.interval(alpha=1-alpha, loc=X_mean, scale=X_std / np.sqrt(n), df=n-1)"
   ]
  },
  {
   "cell_type": "markdown",
   "metadata": {},
   "source": [
    "**Zadanie - model 3**. W próbie 150 zabiegów artroskopii stawu biodrowego średni czas operacji wynosił 136,9 minut, przy standardowym odchyleniu 22,6 minut. Znajdź średni czas na poziomie ufności 0.95."
   ]
  },
  {
   "cell_type": "code",
   "execution_count": null,
   "metadata": {},
   "outputs": [],
   "source": []
  },
  {
   "cell_type": "code",
   "execution_count": null,
   "metadata": {},
   "outputs": [],
   "source": []
  },
  {
   "cell_type": "code",
   "execution_count": null,
   "metadata": {},
   "outputs": [],
   "source": []
  },
  {
   "cell_type": "markdown",
   "metadata": {},
   "source": [
    "## Przedział ufności dla wskaźnika struktury\n",
    "Załóżmy, że badana cecha ma rozkład dwupunktowy z nieznanym parametrem $p$, a liczność próby jest dostatecznie duża $(n\\geq 100)$. \n",
    "\n",
    "Z centralnego twierdzenia granicznego Moivre'a-Laplace'a wynika, że statystyka \n",
    "$$\n",
    "    \\frac{k}{n},\n",
    "$$\n",
    "gdzie $k$ oznacza liczbę elementów wyróżnionych w próbie ma w przybliżeniu rozkład normalny $\\mathcal{N}(p, \\sqrt{\\frac{p(1-p)}{n}})$.\n",
    "\n",
    "Przedział ufność dla wskaźnika struktury $p$ przyjmuje postać\n",
    "$$\n",
    "    \\Bigg( \\frac{k}{n}-z_{1-\\frac{\\alpha}{2}}\\sqrt{\\frac{\\frac{k}{n}(1-\\frac{k}{n})}{n}}, \\frac{k}{n}+z_{1-\\frac{\\alpha}{2}}\\sqrt{\\frac{\\frac{k}{n}(1-\\frac{k}{n})}{n}}\\Bigg). \n",
    "$$"
   ]
  },
  {
   "cell_type": "markdown",
   "metadata": {},
   "source": [
    "**Zadanie - model 4.** Fabryka zakupiła nowy agregat. Wylosowano 1000 wyprodukowanych przez ten agregat detali. Okazało się, że 50 z nich nie spełnia normy jakości. Podać 99% przedział ufności dla wadliwości."
   ]
  },
  {
   "cell_type": "code",
   "execution_count": 14,
   "metadata": {},
   "outputs": [
    {
     "name": "stdout",
     "output_type": "stream",
     "text": [
      "0.05\n"
     ]
    }
   ],
   "source": [
    "# X_i - zm. losowa okreslajaca czy i-ty detal jest wadliwy\n",
    "# sukces = znalezienie wadliwego towaru\n",
    "# X_i ~ Bern(p) p=?\n",
    "\n",
    "# Powtarzamy ekseryment n-krotnie, czyli n = 1000 wyprodukowanych detali\n",
    "# X = sum(X_i) od i = 1 do 1000 = suma wszystkich wylosowanych wadliwych towarow z grupy 1000 detali\n",
    "# X ~ Bin(n=1000, p) p = ?\n",
    "\n",
    "# Estymator parametru p, czyli pstwo sukcesu\n",
    "\n",
    "# p_lambda = elementy wadliwe / wszystkie elementy\n",
    "k = 50 # elementy wadliwe\n",
    "n = 1000 # wszystkie elementy\n",
    "\n",
    "p_hat = 50/1000\n",
    "print(p_hat)"
   ]
  },
  {
   "cell_type": "code",
   "execution_count": 15,
   "metadata": {},
   "outputs": [
    {
     "data": {
      "text/plain": [
       "(0.03224732165140968, 0.06775267834859033)"
      ]
     },
     "execution_count": 15,
     "metadata": {},
     "output_type": "execute_result"
    }
   ],
   "source": [
    "alpha = 0.01 \n",
    "\n",
    "stats.norm.interval(alpha = 1-alpha, loc=p_hat, scale=np.sqrt(p_hat * (1 - p_hat) / n ))"
   ]
  },
  {
   "cell_type": "markdown",
   "metadata": {},
   "source": [
    "**Zadanie - model 4**.   Przeprowadzono  obserwacje  dotyczące  opóźnień  w  ruchu  pociągów.  Stwierdzono,  ze spośród 1000 losowo wybranych pociągów 160 przyjechało z opóźnieniem. Zakładając, ze opóźnienia poszczególnych pociągów są niezależne od siebie i jednakowo prawdopodobne dla  każdego  pociągu,  znaleźć  przedział  ufności  dla  prawdopodobieństwa  występowania opóźnienia na poziomie ufności 0,9."
   ]
  },
  {
   "cell_type": "code",
   "execution_count": null,
   "metadata": {},
   "outputs": [],
   "source": []
  },
  {
   "cell_type": "code",
   "execution_count": null,
   "metadata": {},
   "outputs": [],
   "source": []
  },
  {
   "cell_type": "code",
   "execution_count": null,
   "metadata": {},
   "outputs": [],
   "source": []
  },
  {
   "cell_type": "code",
   "execution_count": null,
   "metadata": {},
   "outputs": [],
   "source": []
  },
  {
   "cell_type": "markdown",
   "metadata": {},
   "source": [
    "### Zadania\n",
    "**Zadanie 1.** Czas montowania bębna w pralce automatycznej jest zmienną losową o rozkładzie normalnym. Zmierzono czas montowania bębna przez 16 losowo wybranych robotników i otrzymano następujące wyniki (w minutach): 7.56, 6.61, 9.11, 8.75, 6.89, 7.11, 7.87, 8.33, 5.51, 7.05, 6.75, 9.49, 8.01, 7.52, 5.15, 8.52. Na poziomie ufności 0.95 podać przedział ufności dla średniego czasu montażu bębna w pralce.\n",
    "\n",
    "**Zadanie 2.** Średnia cena 100 losowo wybranych podręczników akademickich wynosiła 64,99 zł. Wiadomo, że odchylenie standardowe cen podręczników wynosi 7,12 zł. Wyznaczyć 95% przedział ufności dla średniej ceny podręcznika akademickiego zakładając, że rozkład cen jest rozkładem normalnym.\n",
    "\n",
    "**Zadanie 3.** Na 200 połączeń telefonicznych w pewnej centrali 17 okazało się błędnych. Na poziomie ufności 0.95 zbudować przedział ufności dla frakcji błędnych połączeń.\n",
    "\n",
    "**Zadanie 4.** Dział kontroli jakości w zakładach chemicznych chce oszacować średnią wagę proszku do prania sprzedawanego w pudełkach o nominalnej wadze 3 kg. Pobrano w tym celu próbkę 9 pudełek proszku do prania. Każde pudełko zważono i otrzymano następujące wyniki (w kilogramach): 2.97, 3.04, 2.95, 3.01, 3.00, 2.99, 2.97, 3.05, 2.96. Wiadomo, że rozkład wagi pudełka proszku do prania jest normalny. Na poziomie ufności 0.9 zbudować przedział ufności dla średniej wagi pudełka proszku do prania.\n",
    "\n",
    "**Zadanie 5.** W 7-osobowej losowo wybranej grupie uczniów zmierzono czas rozwiązywania pewnego zadania matematycznego. Otrzymano następujące wyniki (w minutach): 5, 17, 20, 23, 22, 25, 21. Zakładamy, że czas rozwiązania zadania ma rozkład normalny. Na poziomie ufności 0.99 podać przedział ufności dla średniego czasu rozwiązywania danego zadania.\n",
    "\n",
    "**Zadanie 6.** Zbadano grupę krwi 100 osób i stwierdzono, że 35 osób miało grupę krwi ,,0''. Na poziomie ufności 0.95 oszacować przedziałowo procent osób posiadających grupę kriw ,,0'' w całej populacji.\n",
    "\n",
    "**Zadanie 7.** Przy badaniu wysokości wynagrodzeń w przemyśle informatycznym w województwie mazowieckim w 2018 roku wylosowano 500 pracowników. Na podstawie wyników próby otrzymano średnie miesięczne wynagrodzenie na poziomie 8802 zł oraz odchylenie standardowe 783 zł. Przyjmując poziom ufności 0.99, oszacować nieznaną średnią w rozkładzie wynagrodzeń ogółu pracowników przemysłu informatycznego w województwie mazowieckim.\n",
    "\n",
    "**Zadanie 8.** W jednej z politechnik wylosowano niezależnie próbę 200 studentów, z których jedynie 60 zdało wszystkie egzaminy w pierwszym terminie. Na poziomie ufności 0.9 podać przedział ufności dla procentu studentów zaliczających sesję w pierwszym terminie."
   ]
  }
 ],
 "metadata": {
  "kernelspec": {
   "display_name": "Python 3",
   "language": "python",
   "name": "python3"
  },
  "language_info": {
   "codemirror_mode": {
    "name": "ipython",
    "version": 3
   },
   "file_extension": ".py",
   "mimetype": "text/x-python",
   "name": "python",
   "nbconvert_exporter": "python",
   "pygments_lexer": "ipython3",
   "version": "3.8.8"
  }
 },
 "nbformat": 4,
 "nbformat_minor": 2
}
