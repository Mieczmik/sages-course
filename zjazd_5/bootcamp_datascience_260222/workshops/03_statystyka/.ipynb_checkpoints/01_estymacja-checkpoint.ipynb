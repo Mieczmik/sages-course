{
 "cells": [
  {
   "cell_type": "code",
   "execution_count": 1,
   "metadata": {},
   "outputs": [],
   "source": [
    "import numpy as np\n",
    "import pandas as pd\n",
    "import matplotlib.pyplot as plt\n",
    "from scipy import stats"
   ]
  },
  {
   "cell_type": "markdown",
   "metadata": {},
   "source": [
    "## Zadanie - estymatory\n",
    "Sprawdź symulacyjnie nieobciążoność estymatorów wariancji dla\n",
    "\\begin{equation*}\n",
    "    \\hat{\\sigma}^2 = S^2 = \\frac{1}{n-1}\\sum_{i=1}^n(X_i-\\overline{X})^2,\n",
    "\\end{equation*}\n",
    "oraz\n",
    "\\begin{equation*}\n",
    "    \\hat{\\sigma}^2 = S_n^2 = \\frac{1}{n}\\sum_{i=1}^n(X_i-\\overline{X})^2.\n",
    "\\end{equation*}\n",
    "\n",
    "1. Wygeneruj próbkę $n$-elementową z wybranego rozkładu.\n",
    "2. Policz dla wygenerowanej próbki $S^2$ oraz $S_n^2$.\n",
    "3. Powtórz kroki 1-2 $N$ razy, np. $N=1000$.\n",
    "4. Policz średnią z wygenerowanych $N$ razy wartości wariancji dla obu estymatorów.\n",
    "4. Powtórz kroki 1-4 dla róznych liczności $n$, np. dla $n\\in[5, 100]$.\n",
    "5. Narysuj wykres zależności wyestymowanej wartości wariancji dla obu estymatorów w zależności od liczności próbki.\n",
    "6. Powtórz kroki 1-6 dla innej rodziny rozkładów."
   ]
  },
  {
   "cell_type": "code",
   "execution_count": 2,
   "metadata": {},
   "outputs": [],
   "source": [
    "N = 1000\n",
    "\n",
    "n_vec = np.arange(5, 101, 1) # n - licznosci probki od 5 do 100\n",
    "len_n_vec = len(n_vec)\n",
    "var0, var1 = np.zeros(len_n_vec), np.zeros(len_n_vec)\n",
    "\n",
    "for k, n in enumerate(n_vec):\n",
    "    var0_vec, var1_vec = np.zeros(N), np.zeros(N)\n",
    "    for i in range(N):\n",
    "        x = stats.norm().rvs(size=n)\n",
    "        var0_vec[i] = np.var(x, ddof=0) # N - ddof = N\n",
    "        var1_vec[i] = np.var(x, ddof=1) # N - 1\n",
    "    var0[k] = var0_vec.mean()\n",
    "    var1[k] = var1_vec.mean()"
   ]
  },
  {
   "cell_type": "code",
   "execution_count": 3,
   "metadata": {},
   "outputs": [
    {
     "data": {
      "image/png": "[encoded data removed]",
      "text/plain": [
       "<Figure size 432x288 with 1 Axes>"
      ]
     },
     "metadata": {
      "needs_background": "light"
     },
     "output_type": "display_data"
    }
   ],
   "source": [
    "plt.plot(var0, label = \"$S^2_n$\")\n",
    "plt.plot(var1, label = \"$S^2$\")\n",
    "plt.xticks(ticks=np.arange(0, len_n_vec, 5), labels=np.arange(5, 101, 5))\n",
    "plt.hlines(xmin=0, xmax=100, y=1, linestyle=\"--\")\n",
    "plt.legend()\n",
    "plt.show()"
   ]
  },
  {
   "cell_type": "markdown",
   "metadata": {},
   "source": [
    "# Estymacja punktowa "
   ]
  },
  {
   "cell_type": "markdown",
   "metadata": {},
   "source": [
    "### Zadania\n",
    "1. Niech $X_1, \\ldots, X_n$ będzie próbą losową z rozkładu gamma $\\Gamma(\\alpha, \\beta)$, gdzie $\\alpha, \\beta>0$. Stosując metodę momentów wyznaczyć estymatory parametrów $\\alpha$ i $\\beta$.\n",
    "\n",
    "**Wskazówka**: Pokaż, że $S_n^2 = \\frac{1}{n}\\sum_{i=1}^n X_i^2 - \\overline{X}^2 = M_2 - M_1^2$.\n",
    "\n",
    "2. Niech $X_1, \\ldots, X_n$ będzie próbą losową z rozkładu wykładniczego $\\text{Exp}(\\lambda)$, gdzie $\\lambda>0$. Stosując metodę największej wiarogodności wyznaczyć estymator parametru $\\lambda$.\n",
    "\n",
    "\n",
    "3. W celu oszacowania niezawodności pewnego urządzenia dokonano 10 pomiarów czasu bezawaryjnej pracy tego urządzenia i otrzymano następujące wyniki (w godzinach): 1119,  627,  790,  626, 1477, 1470, 1466, 1027, 1480,  904. Zakładamy, że czas bezawaryjnej pracy tego urządzenia ma rozkład wykładniczy.\n",
    "    a) Znaleźć estymator funkcji niezawodności tego urządzenia.\n",
    "    b) Jakie jest prawdopodobieństwo, że dane urządzenie nie ulegnie awarii w ciągu 900 godzin pracy?\n",
    "    \n",
    "**Wskazówka**: Funkcja niezawodności: $S(x)=1-F(x)=P(X>x)$."
   ]
  },
  {
   "cell_type": "code",
   "execution_count": 6,
   "metadata": {},
   "outputs": [
    {
     "name": "stdout",
     "output_type": "stream",
     "text": [
      "Oszacowana wartość parametru lamba na podstawie metody NW: 0.0009102494083378847\n"
     ]
    }
   ],
   "source": [
    "x = [1119, 627, 790, 626, 1477, 1470, 1466, 1027, 1480, 904]\n",
    "\n",
    "# lambda_hat = 1 / srednia artymetyczna\n",
    "\n",
    "lambda_hat = 1 / np.mean(x)\n",
    "print(\"Oszacowana wartość parametru lamba na podstawie metody NW: {}\".format(lambda_hat))"
   ]
  },
  {
   "cell_type": "code",
   "execution_count": 7,
   "metadata": {},
   "outputs": [
    {
     "data": {
      "text/plain": [
       "0.4407733560494924"
      ]
     },
     "execution_count": 7,
     "metadata": {},
     "output_type": "execute_result"
    }
   ],
   "source": [
    "# T - okreslaja czas bezawaryjnej pracy\n",
    "# T ~ Exp(lambda = lambda_hat)\n",
    "# P(T >= 900) = P(T > 900) = 1 - P(X <= 900) = 1 - F(900)\n",
    "\n",
    "1 - stats.expon(scale = 1 / lambda_hat).cdf(900)"
   ]
  }
 ],
 "metadata": {
  "kernelspec": {
   "display_name": "Python 3",
   "language": "python",
   "name": "python3"
  },
  "language_info": {
   "codemirror_mode": {
    "name": "ipython",
    "version": 3
   },
   "file_extension": ".py",
   "mimetype": "text/x-python",
   "name": "python",
   "nbconvert_exporter": "python",
   "pygments_lexer": "ipython3",
   "version": "3.8.8"
  }
 },
 "nbformat": 4,
 "nbformat_minor": 2
}
