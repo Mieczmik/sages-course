{
 "cells": [
  {
   "cell_type": "code",
   "execution_count": 5,
   "id": "da2ebde3-7cd5-4be7-9f4f-146b4be1e43d",
   "metadata": {},
   "outputs": [],
   "source": [
    "import datetime"
   ]
  },
  {
   "cell_type": "code",
   "execution_count": 6,
   "id": "fbd442c7-7d8f-41e1-845e-f3286d77b2ac",
   "metadata": {},
   "outputs": [
    {
     "name": "stdout",
     "output_type": "stream",
     "text": [
      "2022-03-18 09:45:48.121656\n"
     ]
    }
   ],
   "source": [
    "print(datetime.datetime.now())"
   ]
  },
  {
   "cell_type": "code",
   "execution_count": 7,
   "id": "1d08c16c-75ce-4cfd-b91d-411f35ec2121",
   "metadata": {},
   "outputs": [
    {
     "name": "stdout",
     "output_type": "stream",
     "text": [
      "01:00:00\n"
     ]
    }
   ],
   "source": [
    "# print(\"1 Hour\")\n",
    "print(datetime.time(1))"
   ]
  },
  {
   "cell_type": "code",
   "execution_count": 8,
   "id": "1fae3764-257a-4323-a89b-c45b3dcac0cb",
   "metadata": {},
   "outputs": [
    {
     "name": "stdout",
     "output_type": "stream",
     "text": [
      "02:30:00\n"
     ]
    }
   ],
   "source": [
    "# print(\"2 and a half hour\")\n",
    "print(datetime.time(2, 30))"
   ]
  },
  {
   "cell_type": "code",
   "execution_count": 9,
   "id": "c4086702-d5d5-4d7e-b9f0-9ae7dc1cacb2",
   "metadata": {},
   "outputs": [
    {
     "name": "stdout",
     "output_type": "stream",
     "text": [
      "03:45:30\n"
     ]
    }
   ],
   "source": [
    "# print(\"3 hours, 45 minutes and 30 seconds\")\n",
    "print(datetime.time(3, 45, 30))"
   ]
  },
  {
   "cell_type": "code",
   "execution_count": 12,
   "id": "e082e047-33b7-4f21-97af-814e82e95455",
   "metadata": {},
   "outputs": [
    {
     "name": "stdout",
     "output_type": "stream",
     "text": [
      "2022-03-18 09:46:52.452916\n",
      "18\n",
      "2022\n",
      "3\n",
      "46\n",
      "52\n",
      "452916\n"
     ]
    }
   ],
   "source": [
    "ts_now = datetime.datetime.now()\n",
    "print(ts_now)\n",
    "#\n",
    "#\n",
    "print(ts_now.day)\n",
    "#\n",
    "print(ts_now.year)\n",
    "print(ts_now.month)\n",
    "print(ts_now.minute)\n",
    "print(ts_now.second)\n",
    "print(ts_now.microsecond)"
   ]
  },
  {
   "cell_type": "code",
   "execution_count": 13,
   "id": "f6bdde98-8e05-4234-b30e-510dce3a61e0",
   "metadata": {},
   "outputs": [
    {
     "name": "stdout",
     "output_type": "stream",
     "text": [
      "5\n"
     ]
    }
   ],
   "source": [
    "print(ts_now.isoweekday())"
   ]
  },
  {
   "cell_type": "code",
   "execution_count": 16,
   "id": "7f4ea908-8cdd-4160-91c4-8ba2657d1e90",
   "metadata": {},
   "outputs": [
    {
     "name": "stdout",
     "output_type": "stream",
     "text": [
      "280 days, 14:12:03.202353\n",
      "<class 'datetime.timedelta'>\n"
     ]
    }
   ],
   "source": [
    "ts_xmas = datetime.datetime(2022,12,24)\n",
    "ts_now = datetime.datetime.now()\n",
    "ts_diff = ts_xmas - ts_now\n",
    "print (ts_diff)\n",
    "print (type(ts_diff))"
   ]
  },
  {
   "cell_type": "code",
   "execution_count": 17,
   "id": "6dcea500-5067-47a0-86ea-44b9c70ce8e8",
   "metadata": {},
   "outputs": [
    {
     "name": "stdout",
     "output_type": "stream",
     "text": [
      "2022-05-02 22:48:28.306420\n"
     ]
    }
   ],
   "source": [
    "today = datetime.datetime.now()\n",
    "offset = datetime.timedelta(days=45, hours=13)\n",
    "print(today + offset)"
   ]
  },
  {
   "cell_type": "code",
   "execution_count": 18,
   "id": "95d1321e-62a7-4228-babe-453c3d9b70cf",
   "metadata": {},
   "outputs": [],
   "source": [
    "# # ## KONWERSJA STRINGÓW I DAT\n",
    "# # - %Y year\n",
    "# # - %d day\n",
    "# # - %m month\n",
    "# # - %H hour\n",
    "# # - %M minute\n",
    "# # - %S second"
   ]
  },
  {
   "cell_type": "code",
   "execution_count": 19,
   "id": "25a61976-17ee-4dc8-a8ed-22ec61a1bf96",
   "metadata": {},
   "outputs": [
    {
     "name": "stdout",
     "output_type": "stream",
     "text": [
      "2015-01-10 14:34:00\n",
      "<class 'datetime.datetime'>\n"
     ]
    }
   ],
   "source": [
    "date_str =  \"01-10-2015T14:34\"\n",
    "date_ts = datetime.datetime.strptime(date_str,\"%m-%d-%YT%H:%M\")\n",
    "print(date_ts)\n",
    "print(type(date_ts))"
   ]
  },
  {
   "cell_type": "code",
   "execution_count": 21,
   "id": "30157548-6e50-43cf-b6df-ce9cf41bd11c",
   "metadata": {},
   "outputs": [
    {
     "name": "stdout",
     "output_type": "stream",
     "text": [
      "2015-01-10 00:00:00\n",
      "<class 'datetime.datetime'>\n"
     ]
    }
   ],
   "source": [
    "date_str = \"10/01/2015\"\n",
    "date_ts = datetime.datetime.strptime(date_str,\"%d/%m/%Y\")\n",
    "print(date_ts)\n",
    "print(type(date_ts))"
   ]
  },
  {
   "cell_type": "code",
   "execution_count": 22,
   "id": "46a74959-9a1b-48a6-b0e7-94ec56667cad",
   "metadata": {},
   "outputs": [
    {
     "name": "stdout",
     "output_type": "stream",
     "text": [
      "00:00:00 01-10-2015\n",
      "<class 'str'>\n"
     ]
    }
   ],
   "source": [
    "# 2015-01-10 00:00:00\n",
    "new_date_str = datetime.datetime.strftime(date_ts, \"%H:%M:%S %m-%d-%Y\")\n",
    "print(new_date_str)\n",
    "print(type(new_date_str))"
   ]
  },
  {
   "cell_type": "code",
   "execution_count": 23,
   "id": "a489c5a2-1f86-4e50-9393-bb17083f4e77",
   "metadata": {},
   "outputs": [
    {
     "name": "stdout",
     "output_type": "stream",
     "text": [
      "1-2015\n"
     ]
    }
   ],
   "source": [
    "print(f'{date_ts.month}-{date_ts.year}')"
   ]
  },
  {
   "cell_type": "code",
   "execution_count": 24,
   "id": "014e741b-37dd-4b95-95d9-df48f3450d1b",
   "metadata": {},
   "outputs": [
    {
     "name": "stdout",
     "output_type": "stream",
     "text": [
      "2010-01-31 00:00:00\n",
      "2003-01-04 10:49:41\n"
     ]
    }
   ],
   "source": [
    "from dateutil.parser import parse\n",
    "print(parse('January 31, 2010'))\n",
    "print(parse(\"2003-01-04T10:49:41\"))"
   ]
  },
  {
   "cell_type": "code",
   "execution_count": 25,
   "id": "b8d08f0a-4413-485f-9a74-17945f28f0e8",
   "metadata": {},
   "outputs": [],
   "source": [
    "# 1. Stwórz zmienną future (typ datetime), której data to 20 stycznia 2021 o 22:34"
   ]
  },
  {
   "cell_type": "code",
   "execution_count": 32,
   "id": "55e18863-31ab-4f84-9380-f2f6e18300a0",
   "metadata": {},
   "outputs": [
    {
     "name": "stdout",
     "output_type": "stream",
     "text": [
      "2021-01-20 22:34:00\n"
     ]
    }
   ],
   "source": [
    "future = datetime.datetime(2021,1,20,22,34)\n",
    "print(future)"
   ]
  },
  {
   "cell_type": "code",
   "execution_count": 33,
   "id": "ee2a0c7d-bb4e-4693-b9f7-e19ebf26fc8e",
   "metadata": {},
   "outputs": [],
   "source": [
    "# 2. Zamień poniższą datę na napis: ’31 January, 2001, Wednesday’"
   ]
  },
  {
   "cell_type": "code",
   "execution_count": 39,
   "id": "260fb62e-1711-4c6b-8630-26603349770a",
   "metadata": {},
   "outputs": [
    {
     "name": "stdout",
     "output_type": "stream",
     "text": [
      "31 January, 2001, Wednesday\n",
      "<class 'str'>\n"
     ]
    }
   ],
   "source": [
    "dt = datetime.datetime(2001, 1, 31)\n",
    "data_str = datetime.datetime.strftime(dt, \"%d %B, %Y, %A\")\n",
    "print(data_str)\n",
    "print(type(data_str))"
   ]
  },
  {
   "cell_type": "code",
   "execution_count": 44,
   "id": "6ed04ce0-6ed7-429b-868c-d06458b6834a",
   "metadata": {},
   "outputs": [],
   "source": [
    "# 3. Stwórz zmienną, która jest różnicą czasu future i chwili obecnej. Wynik wyświetl w sekundach"
   ]
  },
  {
   "cell_type": "code",
   "execution_count": 43,
   "id": "1895d35a-44bf-4bb8-9f57-3b0f571d2bce",
   "metadata": {},
   "outputs": [
    {
     "data": {
      "text/plain": [
       "21353273.611552"
      ]
     },
     "execution_count": 43,
     "metadata": {},
     "output_type": "execute_result"
    }
   ],
   "source": [
    "future = datetime.datetime(2022,11,20,22,34)\n",
    "now = datetime.datetime.now()\n",
    "delta = future - now\n",
    "delta.total_seconds()"
   ]
  },
  {
   "cell_type": "code",
   "execution_count": 45,
   "id": "5d0dc7eb-a9a4-42a5-b5c7-11f35991b1d3",
   "metadata": {},
   "outputs": [],
   "source": [
    "# 4. Zamień napis 'Jan 20, 2017 5pm' na zmienną typu czas"
   ]
  },
  {
   "cell_type": "code",
   "execution_count": 50,
   "id": "5662134d-d1b9-4326-a951-6b239067a7a1",
   "metadata": {},
   "outputs": [
    {
     "name": "stdout",
     "output_type": "stream",
     "text": [
      "2017-01-20 17:00:00\n"
     ]
    }
   ],
   "source": [
    "s = 'Jan 20, 2017 5pm'\n",
    "date_ts = datetime.datetime.strptime(s, \"%b %d, %Y %I%p\")\n",
    "print(date_ts)"
   ]
  },
  {
   "cell_type": "code",
   "execution_count": 51,
   "id": "34b0b96a-362a-4873-9245-fccc6a078815",
   "metadata": {},
   "outputs": [],
   "source": [
    "# 5. W poniższej liście dat znajdź najstarszą.\n",
    "# Wyświetl czas, jaki upłynął od tej chwili do teraz w sekundach"
   ]
  },
  {
   "cell_type": "code",
   "execution_count": 52,
   "id": "e171ff31-877b-46b5-9dae-a9833ccda442",
   "metadata": {},
   "outputs": [],
   "source": [
    "datetime_list = ['25.08.1995 00:00:00', '22.07.1999 00:00:00', '01.01.2001 13:42:59', '13.12.2011 01:02:03']"
   ]
  },
  {
   "cell_type": "code",
   "execution_count": 57,
   "id": "f46596fd-0c16-40e4-a146-3a00168d4669",
   "metadata": {},
   "outputs": [
    {
     "name": "stdout",
     "output_type": "stream",
     "text": [
      "1995-08-25 00:00:00\n"
     ]
    },
    {
     "data": {
      "text/plain": [
       "838326448.379884"
      ]
     },
     "execution_count": 57,
     "metadata": {},
     "output_type": "execute_result"
    }
   ],
   "source": [
    "new_list = [datetime.datetime.strptime(elem, \"%d.%m.%Y %H:%M:%S\") for elem in datetime_list]\n",
    "old_date = min(new_list)\n",
    "print(old_date)\n",
    "now = datetime.datetime.now()\n",
    "delta = now - old_date\n",
    "delta.total_seconds()"
   ]
  },
  {
   "cell_type": "code",
   "execution_count": 58,
   "id": "25153908-289c-4b00-831f-7f8ff5161204",
   "metadata": {},
   "outputs": [],
   "source": [
    "# 6. Ile minęło sobót pomiędzy dwoma poniższymi datami, które przypadają na dzień podzielny przez 3? (odp: 14)"
   ]
  },
  {
   "cell_type": "code",
   "execution_count": 80,
   "id": "8b40c652-7504-4b13-a7b6-12e471432b17",
   "metadata": {},
   "outputs": [],
   "source": [
    "d1 = datetime.date(1869, 1, 2)\n",
    "d2 = datetime.date(1869, 10, 2)"
   ]
  },
  {
   "cell_type": "code",
   "execution_count": 81,
   "id": "132bae57-b573-4cf9-8300-96b4d72c33d3",
   "metadata": {},
   "outputs": [
    {
     "name": "stdout",
     "output_type": "stream",
     "text": [
      "14\n"
     ]
    }
   ],
   "source": [
    "counter = 0\n",
    "offset = datetime.timedelta(days=7)\n",
    "while d1 <= d2:\n",
    "    if d1.day % 3 == 0:\n",
    "        counter += 1\n",
    "    d1 += offset\n",
    "print(counter)"
   ]
  }
 ],
 "metadata": {
  "kernelspec": {
   "display_name": "Python 3.10.6 64-bit ('3.10.6')",
   "language": "python",
   "name": "python3"
  },
  "language_info": {
   "codemirror_mode": {
    "name": "ipython",
    "version": 3
   },
   "file_extension": ".py",
   "mimetype": "text/x-python",
   "name": "python",
   "nbconvert_exporter": "python",
   "pygments_lexer": "ipython3",
   "version": "3.10.6"
  },
  "vscode": {
   "interpreter": {
    "hash": "b480b8933f078b9bb649a28ef31ddb4e88638560591c0b6b6c9f25971fe4507f"
   }
  }
 },
 "nbformat": 4,
 "nbformat_minor": 5
}
