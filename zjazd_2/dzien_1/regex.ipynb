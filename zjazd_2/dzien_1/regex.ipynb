{
 "cells": [
  {
   "cell_type": "code",
   "execution_count": 2,
   "id": "d56993af-fb66-4d5b-91f6-28a716cc620b",
   "metadata": {},
   "outputs": [],
   "source": [
    "import re"
   ]
  },
  {
   "cell_type": "code",
   "execution_count": 4,
   "id": "ac7475a7-cd68-43ff-a83d-9c5d62c1880c",
   "metadata": {},
   "outputs": [
    {
     "name": "stdout",
     "output_type": "stream",
     "text": [
      "<re.Match object; span=(0, 5), match='napis'>\n"
     ]
    }
   ],
   "source": [
    "pattern = r\"napis\"\n",
    "sequence = \"napis tu jest napisany\"\n",
    "print(re.match(pattern, sequence))"
   ]
  },
  {
   "cell_type": "code",
   "execution_count": 5,
   "id": "4d3f7638-bfc4-4ee4-923e-4eacb7bd4a21",
   "metadata": {},
   "outputs": [
    {
     "name": "stdout",
     "output_type": "stream",
     "text": [
      "napis\n"
     ]
    }
   ],
   "source": [
    "print(re.match(pattern, sequence).group())"
   ]
  },
  {
   "cell_type": "code",
   "execution_count": 9,
   "id": "35e77671-56a3-4928-bb92-db6950d97ee2",
   "metadata": {},
   "outputs": [
    {
     "name": "stdout",
     "output_type": "stream",
     "text": [
      "napis\n"
     ]
    }
   ],
   "source": [
    "pattern = r\"napis\"\n",
    "sequence = \"napis tu jest napisany\"\n",
    "if_match = re.match(pattern, sequence)\n",
    "if if_match:\n",
    "    print(re.match(pattern, sequence).group())"
   ]
  },
  {
   "cell_type": "code",
   "execution_count": 10,
   "id": "d8dd7b39-64b9-4bb1-8d23-3331161f6481",
   "metadata": {},
   "outputs": [
    {
     "name": "stdout",
     "output_type": "stream",
     "text": [
      "<re.Match object; span=(4, 6), match='ma'>\n",
      "<re.Match object; span=(0, 2), match='ma'>\n"
     ]
    }
   ],
   "source": [
    "moj_regex = re.compile(r'ma')\n",
    "print(re.search(moj_regex, 'Ala ma kota'))\n",
    "print(re.search(moj_regex, 'mama ma kota'))"
   ]
  },
  {
   "cell_type": "code",
   "execution_count": 11,
   "id": "7e09b765-a2a9-4d65-8d3e-be630260f1c6",
   "metadata": {},
   "outputs": [
    {
     "name": "stdout",
     "output_type": "stream",
     "text": [
      "napis\n"
     ]
    }
   ],
   "source": [
    "pattern = r\"napis\"\n",
    "sequence = \"To taki napis\"\n",
    "print(re.search(pattern, sequence).group())"
   ]
  },
  {
   "cell_type": "code",
   "execution_count": 16,
   "id": "0b03f140-502d-4664-b06e-bfad68f0ad27",
   "metadata": {},
   "outputs": [
    {
     "name": "stdout",
     "output_type": "stream",
     "text": [
      "None\n",
      "None\n"
     ]
    }
   ],
   "source": [
    "pattern = r\"n\\.\"\n",
    "zwykly_napis_1 = \"napis\"\n",
    "zwykly_napis_2 = \"n23\"\n",
    "print(re.search(pattern, zwykly_napis_1))\n",
    "print(re.search(pattern, zwykly_napis_2))"
   ]
  },
  {
   "cell_type": "code",
   "execution_count": 14,
   "id": "e13618f3-f4e1-4229-8649-a8b9a8b4cc18",
   "metadata": {},
   "outputs": [
    {
     "name": "stdout",
     "output_type": "stream",
     "text": [
      "<re.Match object; span=(0, 5), match='Napis'>\n",
      "<re.Match object; span=(12, 17), match='Nop5s'>\n"
     ]
    }
   ],
   "source": [
    "# # Kropka oznacza dowolny znak, oprócz znaku nowej linii\n",
    "print(re.search(r'N.p.s', 'Napis'))\n",
    "print(re.search(r'N.p.s', 'ala ma kota Nop5s'))"
   ]
  },
  {
   "cell_type": "code",
   "execution_count": 23,
   "id": "56c766da-3b46-4b38-b7b2-c6fdad71ca2d",
   "metadata": {},
   "outputs": [
    {
     "name": "stdout",
     "output_type": "stream",
     "text": [
      "Nap\n",
      "None\n"
     ]
    }
   ],
   "source": [
    "# ^ oznacza początek napisu\n",
    "print(re.search(r'^Na.', 'Napis ala ma kota').group())\n",
    "print(re.search(r'^Na.', 'aNa? jj Nal'))"
   ]
  },
  {
   "cell_type": "code",
   "execution_count": 25,
   "id": "0c70519c-5b22-4fb4-b64b-a52fde5599b3",
   "metadata": {},
   "outputs": [
    {
     "name": "stdout",
     "output_type": "stream",
     "text": [
      "None\n",
      "<re.Match object; span=(2, 5), match='Nap'>\n"
     ]
    }
   ],
   "source": [
    "# $ oznacza koniec napisu\n",
    "print(re.search(r'Na.$', 'Napis'))\n",
    "print(re.search(r'Na.$', 'isNap'))"
   ]
  },
  {
   "cell_type": "code",
   "execution_count": 45,
   "id": "1cb07758-b851-4749-8b50-dbdfe19050cc",
   "metadata": {},
   "outputs": [
    {
     "name": "stdout",
     "output_type": "stream",
     "text": [
      "Napis\n",
      "Na\n",
      "Napis ma kota\n",
      "Naaaaaaaaaaa\n"
     ]
    }
   ],
   "source": [
    "# # \\* powtarza ostatni znak zero lub wiele razy\n",
    "print(re.search(r'^Na.*', 'Napis').group())\n",
    "print(re.search(r'^Na.*', 'Na').group())\n",
    "print(re.search(r'^Na.*', 'Napis ma kota').group())\n",
    "print(re.search(r'^Na*', 'Naaaaaaaaaaapis ma kota').group())"
   ]
  },
  {
   "cell_type": "code",
   "execution_count": 31,
   "id": "397ea7c0-dad0-4911-bd4a-7ce11f5ba929",
   "metadata": {},
   "outputs": [
    {
     "name": "stdout",
     "output_type": "stream",
     "text": [
      "<re.Match object; span=(0, 2), match='Na'>\n",
      "None\n",
      "<re.Match object; span=(0, 18), match='Napppp222????!!%%%'>\n",
      "<re.Match object; span=(0, 18), match='Napppp222????!!%%%'>\n"
     ]
    }
   ],
   "source": [
    "# \\+ powtarza ostatni znak przynajmniej raz\n",
    "print(re.search(r'Na.*', 'Na'))\n",
    "print(re.search(r'Na.+', 'Na'))\n",
    "print(re.search(r'Na.*', 'Napppp222????!!%%%'))\n",
    "print(re.search(r'Na.+', 'Napppp222????!!%%%'))"
   ]
  },
  {
   "cell_type": "code",
   "execution_count": 38,
   "id": "d5ee4c83-88ef-4eea-b1a6-44c31c9f1ed7",
   "metadata": {},
   "outputs": [
    {
     "name": "stdout",
     "output_type": "stream",
     "text": [
      "<re.Match object; span=(0, 1), match='N'>\n",
      "<re.Match object; span=(0, 6), match='Naaaaa'>\n",
      "\n",
      "\n",
      "<re.Match object; span=(0, 2), match='Na'>\n",
      "<re.Match object; span=(0, 6), match='Naaaaa'>\n"
     ]
    }
   ],
   "source": [
    "# ? w skrócie ogranicza zakres do jak najmniejszego\n",
    "print(re.search(r'Na*?', 'Naaaaa'))  # zero lub wiele\n",
    "print(re.search(r'Na*', 'Naaaaa'))\n",
    "print('\\n')\n",
    "print(re.search(r'Na+?', 'Naaaaa'))  # minimum jeden\n",
    "print(re.search(r'Na+', 'Naaaaa'))"
   ]
  },
  {
   "cell_type": "code",
   "execution_count": 43,
   "id": "a66688e1-4b54-4758-a05a-faf7af6a18f5",
   "metadata": {},
   "outputs": [
    {
     "name": "stdout",
     "output_type": "stream",
     "text": [
      "<re.Match object; span=(0, 1), match='?'>\n",
      "<re.Match object; span=(0, 6), match='?jllj*'>\n",
      "<re.Match object; span=(1, 2), match='a'>\n",
      "<re.Match object; span=(0, 5), match='lahla'>\n"
     ]
    }
   ],
   "source": [
    "# Jeśli natomiast chcemy wykorzystać poznane powyżej symbole dla większej grupy znaków to możemy zgrupować je w\n",
    "# [ ] i następnie użyć któregoś z symbolu lub symboli\n",
    "\n",
    "print(re.search(r'[lj*?]+', '?h*fjalafelhh?*'))\n",
    "print(re.search(r'[lj*?]+', '?jllj*h*fjalafelhh?*'))\n",
    "print(re.search(r'[abc]', 'falabac'))\n",
    "print(re.search(r'[alh]+', 'lahla'))"
   ]
  },
  {
   "cell_type": "code",
   "execution_count": null,
   "id": "ba91287e-867c-497c-bfa4-be7bd029ab35",
   "metadata": {},
   "outputs": [],
   "source": [
    "print(re.search(r'[a-c]', 'bfalabac'))\n",
    "print(re.search(r'\\d+', '123456778'))\n",
    "print(re.search(r'ala \\b', 'alamakota ma kota ala'))"
   ]
  },
  {
   "cell_type": "code",
   "execution_count": 47,
   "id": "b3c16d18-1100-4285-867e-11eb8d3dd005",
   "metadata": {},
   "outputs": [],
   "source": [
    "# Istnieją też skróty, które pozwalają nam wyszukiwać grupy znaków szybciej\n",
    "#\n",
    "#     * \\d - cyfry == [0-9]\n",
    "#     * \\D - nie cyfry\n",
    "#     * \\s - spacje, taby, nowe linie itp\n",
    "#     * \\S - stringi, włączając w to znaki specjalne oraz cyfry\n",
    "#     * \\w - słowa + cyfry, czyli j.w. bez znaków specjalnych [a-zA-Z0-9_]\n",
    "#     * \\W - zaprzeczenie w.w.\n",
    "#     * \\b - samodzielne slowo\n",
    "# https://docs.python.org/3/library/re.html#regular-expression-syntax"
   ]
  },
  {
   "cell_type": "code",
   "execution_count": 49,
   "id": "71fd1b71-0a47-427f-bdbb-ed63c1be3f6e",
   "metadata": {},
   "outputs": [
    {
     "name": "stdout",
     "output_type": "stream",
     "text": [
      "<re.Match object; span=(8, 16), match='        '>\n",
      "<re.Match object; span=(0, 12), match='Wars334&zawa'>\n"
     ]
    }
   ],
   "source": [
    "print(re.search(r'\\s+', 'Warszawa        to piekne miasto'))\n",
    "print(re.search(r'\\S+', 'Wars334&zawa to piekne miasto'))\n"
   ]
  },
  {
   "cell_type": "code",
   "execution_count": 50,
   "id": "d2c1c366-66f0-4ac7-9d64-72e825eb52a7",
   "metadata": {},
   "outputs": [
    {
     "name": "stdout",
     "output_type": "stream",
     "text": [
      "<re.Match object; span=(0, 8), match='Warszawa'>\n"
     ]
    }
   ],
   "source": [
    "print(re.search(r'\\w+', 'Warszawa to piekne miasto'))"
   ]
  },
  {
   "cell_type": "code",
   "execution_count": 51,
   "id": "9d5794f2-6a02-45d9-b1ad-fbb4f2483d00",
   "metadata": {},
   "outputs": [
    {
     "name": "stdout",
     "output_type": "stream",
     "text": [
      "<re.Match object; span=(8, 17), match='++?*)%^&)'>\n"
     ]
    }
   ],
   "source": [
    "print(re.search(r'\\W+', 'Warszawa++?*)%^&)234??? to piekne miasto'))"
   ]
  },
  {
   "cell_type": "code",
   "execution_count": 52,
   "id": "e615c80f-5922-4649-b80c-ec93dbbc1f6b",
   "metadata": {},
   "outputs": [
    {
     "name": "stdout",
     "output_type": "stream",
     "text": [
      "<re.Match object; span=(17, 22), match='23434'>\n"
     ]
    }
   ],
   "source": [
    "print(re.search(r'\\d+', 'Warszawa++?*)%^&)23434??? to piekne miasto'))"
   ]
  },
  {
   "cell_type": "code",
   "execution_count": 53,
   "id": "ac833c65-9184-4b47-ab1d-89869f73162f",
   "metadata": {},
   "outputs": [
    {
     "name": "stdout",
     "output_type": "stream",
     "text": [
      "<re.Match object; span=(17, 18), match='2'>\n"
     ]
    }
   ],
   "source": [
    "print(re.search(r'\\d+?', 'Warszawa++?*)%^&)234??? to piekne miasto'))"
   ]
  },
  {
   "cell_type": "code",
   "execution_count": 54,
   "id": "b3346059-dc09-40c4-a79b-dd85e3968e0b",
   "metadata": {},
   "outputs": [
    {
     "name": "stdout",
     "output_type": "stream",
     "text": [
      "<re.Match object; span=(0, 17), match='Warszawa++?*)%^&)'>\n"
     ]
    }
   ],
   "source": [
    "print(re.search(r'\\D+', 'Warszawa++?*)%^&)234576??? to piekne miasto'))"
   ]
  },
  {
   "cell_type": "code",
   "execution_count": 55,
   "id": "b4f54ee3-4af2-410e-832f-40a7e4ee9fef",
   "metadata": {},
   "outputs": [
    {
     "name": "stdout",
     "output_type": "stream",
     "text": [
      "02-081\n",
      "22-081\n"
     ]
    }
   ],
   "source": [
    "# {m} oznacza ile powtórzeń danego znaku chcemy\n",
    "print(re.search(r'\\d{2}-\\d{3}', '02-081').group())\n",
    "print(re.search(r'\\d{2}-\\d{3}', '022-081').group())"
   ]
  },
  {
   "cell_type": "code",
   "execution_count": 62,
   "id": "988f6f50-8150-4ac9-bf53-6da4189fbae6",
   "metadata": {},
   "outputs": [
    {
     "name": "stdout",
     "output_type": "stream",
     "text": [
      "0289-081\n",
      "289-081\n"
     ]
    }
   ],
   "source": [
    "# {m,n} określa dokładny zakres ilości powtórzeń\n",
    "print(re.search(r'\\d{3,4}-\\d{3}', '0289-081').group())\n",
    "print(re.search(r'\\d{1,3}-\\d{3}', '0289-081').group())"
   ]
  },
  {
   "cell_type": "code",
   "execution_count": 63,
   "id": "942e3881-f77b-4a79-b665-4ef03e8d0776",
   "metadata": {},
   "outputs": [
    {
     "name": "stdout",
     "output_type": "stream",
     "text": [
      "02289-081\n"
     ]
    }
   ],
   "source": [
    "print(re.search(r'\\d{4,}-\\d{3}', '02289-081').group())"
   ]
  },
  {
   "cell_type": "code",
   "execution_count": 64,
   "id": "ee59ab05-54fe-4ecf-8085-39f5b1ee22de",
   "metadata": {},
   "outputs": [],
   "source": [
    "# # A co jeśli chcemy znaleźć napisy z ukośnikami, kropkami lub plusami?\n",
    "# Może posłużyć się znakiem 'ucieczki': \\"
   ]
  },
  {
   "cell_type": "code",
   "execution_count": 66,
   "id": "589a0661-0d8c-4da3-915d-479bfd94b7c7",
   "metadata": {},
   "outputs": [
    {
     "name": "stdout",
     "output_type": "stream",
     "text": [
      "<re.Match object; span=(0, 4), match='22+2'>\n",
      "<re.Match object; span=(0, 4), match='22+2'>\n",
      "<re.Match object; span=(0, 3), match='2*2'>\n",
      "None\n"
     ]
    }
   ],
   "source": [
    "print(re.search(r'\\d+\\+\\d+', '22+2'))\n",
    "print(re.search(r'\\d+[+]\\d+', '22+2'))\n",
    "print(re.search(r'\\d+\\*\\d+', '2*2'))\n",
    "print(re.search(r'\\d+\\+\\d+', '+2'))"
   ]
  },
  {
   "cell_type": "code",
   "execution_count": null,
   "id": "f22b3fa5-33f9-4a23-8a13-ca618d8cf912",
   "metadata": {},
   "outputs": [],
   "source": [
    "# W nawiasach kwadratowych możemy określać również zakres np od a do z:\n",
    "# [a-z] oraz od 0 do 9 [0-9],\n",
    "# czyli w praktyce wszystkie litery lub cyfry"
   ]
  },
  {
   "cell_type": "code",
   "execution_count": 70,
   "id": "30f2049d-4c73-47e0-b174-798286946dc9",
   "metadata": {},
   "outputs": [
    {
     "name": "stdout",
     "output_type": "stream",
     "text": [
      "<re.Match object; span=(0, 4), match='fala'>\n",
      "<re.Match object; span=(0, 9), match='fala**fel'>\n"
     ]
    }
   ],
   "source": [
    "print(re.search(r'[a-z]+', 'fala**fel'))\n",
    "print(re.search(r'[a-z*]+', 'fala**fel'))"
   ]
  },
  {
   "cell_type": "code",
   "execution_count": 72,
   "id": "eeed9382-ffa5-41af-bc63-7d9d428e30c6",
   "metadata": {},
   "outputs": [
    {
     "name": "stdout",
     "output_type": "stream",
     "text": [
      "<re.Match object; span=(0, 7), match='9573528'>\n",
      "<re.Match object; span=(1, 7), match='573528'>\n"
     ]
    }
   ],
   "source": [
    "print(re.search(r'\\d+', '9573528'))\n",
    "print(re.search(r'[0-8]+', '9573528'))"
   ]
  },
  {
   "cell_type": "code",
   "execution_count": 73,
   "id": "8786fd63-a279-4a82-a3af-c6df82a9fc61",
   "metadata": {},
   "outputs": [
    {
     "name": "stdout",
     "output_type": "stream",
     "text": [
      "<re.Match object; span=(0, 15), match='9573528hafdyusk'>\n",
      "<re.Match object; span=(6, 15), match='8hafdyusk'>\n"
     ]
    }
   ],
   "source": [
    "print(re.search(r'[0-9]+[a-z]+', '9573528hafdyusk94635'))\n",
    "print(re.search(r'[0-9][a-z]+', '9573528hafdyusk94635'))"
   ]
  },
  {
   "cell_type": "code",
   "execution_count": 75,
   "id": "62424f17-5b45-493e-9016-ec484ff66a71",
   "metadata": {},
   "outputs": [
    {
     "name": "stdout",
     "output_type": "stream",
     "text": [
      "<re.Match object; span=(0, 16), match='abcccccabcabcabc'>\n",
      "<re.Match object; span=(0, 7), match='abccccc'>\n",
      "<re.Match object; span=(0, 2), match='ab'>\n",
      "<re.Match object; span=(2, 3), match='c'>\n"
     ]
    }
   ],
   "source": [
    "print(re.search(r'[abc]+', 'abcccccabcabcabc'))\n",
    "print(re.search(r'[abc]+', 'abccccc_abc_abc_abc'))\n",
    "print(re.search(r'[a-b]+', 'abccccc_abc_abc_abc'))\n",
    "print(re.search(r'[c-d]+?', 'abccccc_abc_abc_abc'))"
   ]
  },
  {
   "cell_type": "code",
   "execution_count": null,
   "id": "22a943c0-c000-451e-84fd-6858d66764c9",
   "metadata": {},
   "outputs": [],
   "source": [
    "# # Znaki specjalne tracą swoje specjalne znaczenie w nawiasach kwadratowych\n",
    "# np [(+*)] oznacza znajdź mi otwarcie okrągłego nawiasu, plus,\n",
    "# gwiazdkę lub zamknięcie okrągłego nawiasu"
   ]
  },
  {
   "cell_type": "code",
   "execution_count": 76,
   "id": "71d8d259-7c6e-42aa-b943-a00dcefa7e2c",
   "metadata": {},
   "outputs": [
    {
     "name": "stdout",
     "output_type": "stream",
     "text": [
      "<re.Match object; span=(6, 7), match='+'>\n",
      "<re.Match object; span=(6, 10), match='((++'>\n"
     ]
    }
   ],
   "source": [
    "print(re.search(r'[(+*)]', 'ababa + ababa'))\n",
    "print(re.search(r'[(+*)]+', 'ababa ((++ ababa '))"
   ]
  },
  {
   "cell_type": "code",
   "execution_count": null,
   "id": "4c59d8b4-2cbe-4120-ba95-759508ae11a2",
   "metadata": {},
   "outputs": [],
   "source": [
    "# W nawiasach kwadratowych zastosowanie ^ oznacza znak wykluczenia,\n",
    "# a więc będziemy szukać wszystkiego poza tym znakiem"
   ]
  },
  {
   "cell_type": "code",
   "execution_count": 77,
   "id": "20d37e83-57b4-4768-b990-11bd3656d2f6",
   "metadata": {},
   "outputs": [
    {
     "name": "stdout",
     "output_type": "stream",
     "text": [
      "<re.Match object; span=(3, 13), match='234jajko67'>\n"
     ]
    }
   ],
   "source": [
    "print(re.search(r'[^51]+jajko[^5]+', '551234jajko67589'))"
   ]
  },
  {
   "cell_type": "code",
   "execution_count": 78,
   "id": "f327579c-e19f-45e7-bef1-411cbdbbaa23",
   "metadata": {},
   "outputs": [
    {
     "name": "stdout",
     "output_type": "stream",
     "text": [
      "<re.Match object; span=(0, 6), match='Krakow'>\n"
     ]
    }
   ],
   "source": [
    "print(re.search(r'Warszawa|Krakow', 'Krakow to piekne miasto'))"
   ]
  },
  {
   "cell_type": "code",
   "execution_count": 79,
   "id": "cafa305a-0c2c-421f-807b-922db14bc39c",
   "metadata": {},
   "outputs": [
    {
     "name": "stdout",
     "output_type": "stream",
     "text": [
      "['Warszawa', 'to', 'piekne', 'miasto', '234']\n"
     ]
    }
   ],
   "source": [
    "print(re.findall(r'\\w+', 'Warszawa to piekne miasto 234'))"
   ]
  },
  {
   "cell_type": "code",
   "execution_count": null,
   "id": "b3f026bb-3601-4a2c-94c3-5978d2c0dbe5",
   "metadata": {},
   "outputs": [],
   "source": [
    "# Możemy też wykorzystać wyrażenia regularne do zamiany na inny string dzięki wykorzystaniu sub()"
   ]
  },
  {
   "cell_type": "code",
   "execution_count": 80,
   "id": "4994ebda-563a-4f21-bb06-b527182aea17",
   "metadata": {},
   "outputs": [
    {
     "name": "stdout",
     "output_type": "stream",
     "text": [
      "ala ma kota\n"
     ]
    }
   ],
   "source": [
    "print('ala ma kotra'.replace(\"kotra\", \"kota\"))"
   ]
  },
  {
   "cell_type": "code",
   "execution_count": 81,
   "id": "98652eb6-66c5-447a-a84f-79e5256f70ce",
   "metadata": {},
   "outputs": [
    {
     "name": "stdout",
     "output_type": "stream",
     "text": [
      "zmieniony zmieniony zmieniony zmieniony &&??\n"
     ]
    }
   ],
   "source": [
    "print(re.sub(r'\\w+', 'zmieniony', 'Warszawa to piekne miasto &&??'))"
   ]
  },
  {
   "cell_type": "code",
   "execution_count": 86,
   "id": "289baeaf-0aad-4343-91b2-506f10cefb7d",
   "metadata": {},
   "outputs": [],
   "source": [
    "# 1. Znajdźmy w poniższym stringu numery telefonów\n",
    "string_to_clean = 'BTgMrF0npR665-5544-63BTgMrF0npR735-5520-51BTgMrF0npR885-5543-07BTgMrF0npR795-5583-74BTgMrF0npR505-5574-48BTgMrF0npR735-5514-34BTgMrF0npR455-5578-66BTgMrF0npR575-5596-20BTgMrF0npR605-5581-78BTgMrF0npR695-5575-18BTgMrF0npR885-5525-86BTgMrF0npR455-5535-05BTgMrF0npR785-5577-67BTgMrF0npR665-5533-11BTgMrF0npR695-5594-32BTgMrF0npR535-5540-51BTgMrF0npR785-5568-32BTgMrF0npR575-5592-96BTgMrF0npR455-5563-01BTgMrF0npR605-5537-21BTgMrF0npR455-5531-45BTgMrF0npR725-5534-83BTgMrF0npR885-5542-59BTgMrF0npR795-5516-02BTgMrF0npR695-5585-66BTgMrF0npR505-5572-18BTgMrF0npR735-5590-00BTgMrF0npR505-5543-71BTgMrF0npR735-5542-93BTgMrF0npR535-5563-43BTgMrF0npR665-5518-66BTgMrF0npR665-5538-23BTgMrF0npR605-5568-72BTgMrF0npR885-5549-15BTgMrF0npR455-5566-28BTgMrF0npR785-5580-92BTgMrF0npR695-5583-90BTgMrF0npR535-5561-47BTgMrF0npR505-5586-43BTgMrF0npR455-5550-78 '"
   ]
  },
  {
   "cell_type": "code",
   "execution_count": 87,
   "id": "dda67c85-f720-4c86-beb8-60985eeccb0e",
   "metadata": {},
   "outputs": [
    {
     "name": "stdout",
     "output_type": "stream",
     "text": [
      "['665-5544-63', '735-5520-51', '885-5543-07', '795-5583-74', '505-5574-48', '735-5514-34', '455-5578-66', '575-5596-20', '605-5581-78', '695-5575-18', '885-5525-86', '455-5535-05', '785-5577-67', '665-5533-11', '695-5594-32', '535-5540-51', '785-5568-32', '575-5592-96', '455-5563-01', '605-5537-21', '455-5531-45', '725-5534-83', '885-5542-59', '795-5516-02', '695-5585-66', '505-5572-18', '735-5590-00', '505-5543-71', '735-5542-93', '535-5563-43', '665-5518-66', '665-5538-23', '605-5568-72', '885-5549-15', '455-5566-28', '785-5580-92', '695-5583-90', '535-5561-47', '505-5586-43', '455-5550-78']\n"
     ]
    }
   ],
   "source": [
    "print(re.findall(r'\\d{3}-\\d{4}-\\d{2}', string_to_clean))"
   ]
  },
  {
   "cell_type": "code",
   "execution_count": 88,
   "id": "b359151e-e7dd-4548-b1d4-66f54461c068",
   "metadata": {},
   "outputs": [],
   "source": [
    "# 2. Znajdź jedynie imiona żeńskie\n",
    "imiona = 'Balbina, Barbara, Beata, Berenika, Bernadeta, Bianka, Blanka, Bogda, Bogna, Bogumiła, Bogusława, Edyta, ' \\\n",
    " 'Bartłomiej, Bartosz, Bastian, Beniamin, Benjamin, Bernard, Błażej, Bogumił, Bolesław, Borys, Bożydar, ' \\\n",
    " 'Brajan, Eftalia, Elena, Eleonora, Eliza, Elwira, Jadwiga, Jagna, Jagoda, Jana, Janina, Jaśmina, Leokadia, ' \\\n",
    " 'Jessica, Joanna, Jola, Jacek, Jacob, Jakub, Jan, Janusz, Jarosław, Jeremi, Jeremiasz, Jerzy, Jędrzej, Joachim'\n"
   ]
  },
  {
   "cell_type": "code",
   "execution_count": 96,
   "id": "d40e6466-52db-4ef7-9fd0-203aeeca6414",
   "metadata": {},
   "outputs": [
    {
     "name": "stdout",
     "output_type": "stream",
     "text": [
      "['Balbina', 'Barbara', 'Beata', 'Berenika', 'Bernadeta', 'Bianka', 'Blanka', 'Bogda', 'Bogna', 'Bogumiła', 'Bogusława', 'Edyta', 'Eftalia', 'Elena', 'Eleonora', 'Eliza', 'Elwira', 'Jadwiga', 'Jagna', 'Jagoda', 'Jana', 'Janina', 'Jaśmina', 'Leokadia', 'Jessica', 'Joanna', 'Jola']\n"
     ]
    }
   ],
   "source": [
    "print(re.findall(r'\\w+a\\b', imiona))"
   ]
  },
  {
   "cell_type": "code",
   "execution_count": null,
   "id": "10286a4b-dfaa-49c3-9d9f-4ee437cbd846",
   "metadata": {},
   "outputs": [],
   "source": [
    "# 3. Stwórz słownik ile razy występuje jak długi ciąg liter 'i' w napisie"
   ]
  },
  {
   "cell_type": "code",
   "execution_count": 97,
   "id": "a03ff6f6-c6bd-407f-b669-ba39274d8347",
   "metadata": {},
   "outputs": [],
   "source": [
    "super_napis = 'piigiiiihiiiiiiiihihihihiffffffiiiiiiiiiiikikikikikikiloiiiiiiiiiiiiiaaaaaaappppppppppppppppyyyyyyyyyyyyhihihihihihiiiiiiii'"
   ]
  },
  {
   "cell_type": "code",
   "execution_count": 122,
   "id": "7e52c384-5c66-4daa-a2ab-aa7c1ce4d1bc",
   "metadata": {},
   "outputs": [
    {
     "data": {
      "text/plain": [
       "[2, 4, 8, 1, 1, 1, 1, 11, 1, 1, 1, 1, 1, 1, 13, 1, 1, 1, 1, 1, 8]"
      ]
     },
     "execution_count": 122,
     "metadata": {},
     "output_type": "execute_result"
    }
   ],
   "source": [
    "lst = [len(elem) for elem in re.findall(r'i+', super_napis)]\n",
    "lst"
   ]
  },
  {
   "cell_type": "code",
   "execution_count": 123,
   "id": "023655ca-6006-4972-9b49-e1a80f2ba358",
   "metadata": {},
   "outputs": [
    {
     "data": {
      "text/plain": [
       "{1: 15, 2: 1, 4: 1, 8: 2, 11: 1, 13: 1}"
      ]
     },
     "execution_count": 123,
     "metadata": {},
     "output_type": "execute_result"
    }
   ],
   "source": [
    "{i:lst.count(i) for i in set(lst)}"
   ]
  },
  {
   "cell_type": "code",
   "execution_count": 131,
   "id": "bea12add-0569-445e-a7a6-fea21c451133",
   "metadata": {},
   "outputs": [],
   "source": [
    "# 4. Znajdź adresy mailowe"
   ]
  },
  {
   "cell_type": "code",
   "execution_count": 128,
   "id": "4e896540-3b6b-462e-8818-2cb594fc1204",
   "metadata": {},
   "outputs": [],
   "source": [
    "napis = 'purple alice@google.com, blah monkey bob@abc.com blah dishwasher super_user@gmail.com'"
   ]
  },
  {
   "cell_type": "code",
   "execution_count": 130,
   "id": "a4f10e16-352e-442b-b610-7efa36e25f5f",
   "metadata": {},
   "outputs": [
    {
     "name": "stdout",
     "output_type": "stream",
     "text": [
      "['alice@google.com', 'bob@abc.com', 'super_user@gmail.com']\n"
     ]
    }
   ],
   "source": [
    "print(re.findall(r'\\w+\\b@[^\\s]+\\b', napis))"
   ]
  },
  {
   "cell_type": "code",
   "execution_count": 133,
   "id": "49f24e38-68ff-459c-b8e4-b156287f45ce",
   "metadata": {},
   "outputs": [],
   "source": [
    "# 5. Zamień domene z adresów mailowych na onet.pl\n",
    "napis = 'purple alice@google.com, blah monkey bob@abc.com blah dishwasher super_user@gmail.com'"
   ]
  },
  {
   "cell_type": "code",
   "execution_count": 134,
   "id": "cb6ba558-9a19-4c18-9438-14c0eca23057",
   "metadata": {},
   "outputs": [
    {
     "name": "stdout",
     "output_type": "stream",
     "text": [
      "purple alice@onet.pl, blah monkey bob@onet.pl blah dishwasher super_user@onet.pl\n"
     ]
    }
   ],
   "source": [
    "print(re.sub(r'\\w+[.]\\w+', 'onet.pl', napis))"
   ]
  },
  {
   "cell_type": "code",
   "execution_count": 135,
   "id": "1a56c0a4-90b6-4b3c-a92f-523e0cf7432e",
   "metadata": {},
   "outputs": [],
   "source": [
    "# 6. Napisz wyrażenie wyszukujące, czy w stringu znajduje się 'q' lub 'Q'\n",
    "super_string = ',kwa kwa qua'"
   ]
  },
  {
   "cell_type": "code",
   "execution_count": 136,
   "id": "e167e5fd-b54b-4b01-be8b-a9efa4df4f71",
   "metadata": {},
   "outputs": [
    {
     "name": "stdout",
     "output_type": "stream",
     "text": [
      "<re.Match object; span=(9, 10), match='q'>\n"
     ]
    }
   ],
   "source": [
    "print(re.search(r'q|Q', super_string))"
   ]
  },
  {
   "cell_type": "code",
   "execution_count": 138,
   "id": "9d363e78-165c-4dd9-bb4d-6553b041b27d",
   "metadata": {},
   "outputs": [],
   "source": [
    "# 7. Napisz wyrażenie wyszukujące, czy w stringu znajduje się '*'\n",
    "super_string = 'moj super string z gwiazdka *'"
   ]
  },
  {
   "cell_type": "code",
   "execution_count": 151,
   "id": "e64bb67b-fa12-4bb7-abdb-ce70d9ebc35d",
   "metadata": {},
   "outputs": [],
   "source": [
    "# 8. Stwórz słownik danych osobowych z poniższego stringa\n",
    "string_z_danymi = 'Karol Kowalski, ul.Prosta 5/10, 675-835-578, 04-445'\n",
    "#string_z_danymi.split(' ')"
   ]
  },
  {
   "cell_type": "code",
   "execution_count": 163,
   "id": "f53fc9e5-7e17-4c91-8273-b6630ab318e8",
   "metadata": {},
   "outputs": [
    {
     "data": {
      "text/plain": [
       "['Karol', 'Kowalski', 'ul.Prosta', '5/10', '675-835-578', '04-445']"
      ]
     },
     "execution_count": 163,
     "metadata": {},
     "output_type": "execute_result"
    }
   ],
   "source": [
    "keys = ['imie', 'nazwisko', 'ulica', ]\n",
    "re.findall(r'[^ ,]+', string_z_danymi)"
   ]
  },
  {
   "cell_type": "code",
   "execution_count": null,
   "id": "9f3598a5-2bd6-4dc0-a682-574de801009b",
   "metadata": {},
   "outputs": [
    {
     "data": {
      "text/plain": [
       "{'imie': 2}"
      ]
     },
     "execution_count": 141,
     "metadata": {},
     "output_type": "execute_result"
    }
   ],
   "source": [
    "{\n",
    "'imie' : \n",
    "}"
   ]
  },
  {
   "cell_type": "code",
   "execution_count": null,
   "id": "da3d5854-a064-4929-8608-c87d900100c8",
   "metadata": {},
   "outputs": [],
   "source": []
  }
 ],
 "metadata": {
  "kernelspec": {
   "display_name": "Python 3 (ipykernel)",
   "language": "python",
   "name": "python3"
  },
  "language_info": {
   "codemirror_mode": {
    "name": "ipython",
    "version": 3
   },
   "file_extension": ".py",
   "mimetype": "text/x-python",
   "name": "python",
   "nbconvert_exporter": "python",
   "pygments_lexer": "ipython3",
   "version": "3.9.7"
  }
 },
 "nbformat": 4,
 "nbformat_minor": 5
}
