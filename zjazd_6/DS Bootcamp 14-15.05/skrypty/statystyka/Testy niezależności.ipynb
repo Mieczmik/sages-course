{
 "cells": [
  {
   "cell_type": "markdown",
   "metadata": {},
   "source": [
    "# Test Chi-2 zgodności"
   ]
  },
  {
   "cell_type": "markdown",
   "metadata": {},
   "source": [
    "### Sprawdzanie równoliczności grup"
   ]
  },
  {
   "cell_type": "code",
   "execution_count": 155,
   "metadata": {},
   "outputs": [],
   "source": [
    "import numpy as np\n",
    "import pandas as pd\n",
    "from scipy import stats\n",
    "import scipy"
   ]
  },
  {
   "cell_type": "code",
   "execution_count": 5,
   "metadata": {},
   "outputs": [
    {
     "name": "stdout",
     "output_type": "stream",
     "text": [
      "Wartość statystyki testowej: 1.6\n",
      "P-value: 0.20590321073206466\n",
      "Obszar krytyczny: (3.841458820694124, inf)\n"
     ]
    }
   ],
   "source": [
    "# Przykład 1\n",
    "\n",
    "# Badacz chciał sprawdzić, czy w swoim badaniu była równa liczba kobiet i mężczyzn (statystycznie równa, nieistotne statystycznie różnice). \n",
    "# W badaniu przebadał 480 mężczyzn oraz 520 kobiet.\n",
    "\n",
    "alpha = 0.05\n",
    "data=np.array([480, 520])\n",
    "T, p = stats.chisquare(data)\n",
    "\n",
    "print(f\"Wartość statystyki testowej: {T}\")\n",
    "print(f\"P-value: {p}\")\n",
    "\n",
    "z = stats.chi2(1).ppf(1 - alpha)\n",
    "print(f\"Obszar krytyczny: {(z, np.Inf)}\")\n",
    "\n",
    "# Wynik okazał się nieistotny statystycznie (dla p > 0,05). \n",
    "# Oznacza to, że badacz może przyjąć, że przebadał podobną liczbę kobiet i mężczyzn (mówiąc językiem statystyki)."
   ]
  },
  {
   "cell_type": "markdown",
   "metadata": {},
   "source": [
    "### Porównanie występowania obserwacji z ich teoretycznym występowaniem"
   ]
  },
  {
   "cell_type": "code",
   "execution_count": 6,
   "metadata": {},
   "outputs": [
    {
     "name": "stdout",
     "output_type": "stream",
     "text": [
      "Wartość statystyki testowej: 1.6\n",
      "P-value: 0.20590321073206466\n",
      "Obszar krytyczny: (3.841458820694124, inf)\n"
     ]
    }
   ],
   "source": [
    "#Badacz zadał pytanie respondentom czy bardziej im smakuje napój A czy napój B. 36 osób badanych udzieliło odpowiedzi A, a 64 osoby udzieliło odpowiedzi B.\n",
    "\n",
    "alpha = 0.05\n",
    "data=np.array([480, 520])\n",
    "T, p = stats.chisquare(data)\n",
    "\n",
    "print(f\"Wartość statystyki testowej: {T}\")\n",
    "print(f\"P-value: {p}\")\n",
    "\n",
    "z = stats.chi2(1).ppf(1 - alpha)\n",
    "print(f\"Obszar krytyczny: {(z, np.Inf)}\")\n",
    "\n",
    "# Badacz założył, że gdyby napoje nie różniły się preferencją to powinien uzyskać podobne wyniki w obu grupach, po 50 osób. \n",
    "# Przeprowadził test zgodności chi-kwadrat i (dla poziomu p < 0,05) ocenił, że rozkład udzielanych odpowiedzi nie jest równy, przeważa preferencja napoju B."
   ]
  },
  {
   "cell_type": "markdown",
   "metadata": {},
   "source": [
    "### Porównanie występowania obserwacji z ich teoretycznym występowaniem"
   ]
  },
  {
   "cell_type": "markdown",
   "metadata": {
    "id": "CTY3J6sHxb6r"
   },
   "source": [
    "Chi-Square Contingency Test\n",
    "Zadanie\n",
    "W przypadku danych z poniższej tabeli sprawdzić czy to, że ktoś jest prawo lub leworęczny zależy od płci:\n",
    "\n",
    "![image.png](data:image/png;base64,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)\n"
   ]
  },
  {
   "cell_type": "code",
   "execution_count": 3,
   "metadata": {
    "colab": {
     "base_uri": "https://localhost:8080/"
    },
    "executionInfo": {
     "elapsed": 642,
     "status": "ok",
     "timestamp": 1652514402431,
     "user": {
      "displayName": "Michał Więtczak",
      "userId": "11169546932359314903"
     },
     "user_tz": -120
    },
    "id": "xXUBp9kFx990",
    "outputId": "e0c58d36-5f3f-42b0-be7d-a57b04cd0d1e"
   },
   "outputs": [
    {
     "name": "stdout",
     "output_type": "stream",
     "text": [
      "Wartość statystyki testowej: 1.0724852071005921\n",
      "P-value: 0.300384770390566\n",
      "Liczba stopni swobody: 1\n",
      "Oczekiwane wartości:\n",
      "[[45.24  6.76]\n",
      " [41.76  6.24]]\n",
      "Obszar krytyczny: (3.841458820694124, inf)\n"
     ]
    }
   ],
   "source": [
    "alpha = 0.05\n",
    "data = np.array([[43,9],[44,4]])\n",
    "T, p, dof, expected = stats.chi2_contingency(data)\n",
    "print(f\"Wartość statystyki testowej: {T}\")\n",
    "print(f\"P-value: {p}\")\n",
    "print(f\"Liczba stopni swobody: {dof}\")\n",
    "print(f\"Oczekiwane wartości:\\n{expected}\")\n",
    "z = stats.chi2(dof).ppf(1 - alpha)\n",
    "print(f\"Obszar krytyczny: {(z, np.Inf)}\")"
   ]
  },
  {
   "cell_type": "markdown",
   "metadata": {
    "id": "z3Oovrm3yxUs"
   },
   "source": [
    "#### Zadanie\n",
    "Wykonaj test chi kwadrat w celu sprawdzenia czy dane demograficzne w USA mają ten sam rozkład, co dane w Minesocie. Użyj danych wygenerowanych poniżej:"
   ]
  },
  {
   "cell_type": "code",
   "execution_count": 41,
   "metadata": {
    "colab": {
     "base_uri": "https://localhost:8080/"
    },
    "executionInfo": {
     "elapsed": 253,
     "status": "ok",
     "timestamp": 1652514546721,
     "user": {
      "displayName": "Michał Więtczak",
      "userId": "11169546932359314903"
     },
     "user_tz": -120
    },
    "id": "W5RB9MmMyrDI",
    "outputId": "772fb174-576a-4573-8266-6c330c73d071"
   },
   "outputs": [
    {
     "name": "stdout",
     "output_type": "stream",
     "text": [
      "National\n",
      "col_0      count\n",
      "0               \n",
      "asian      15000\n",
      "black      50000\n",
      "hispanic   60000\n",
      "other      35000\n",
      "white     100000\n",
      " \n",
      "Minnesota\n",
      "col_0     count\n",
      "0              \n",
      "asian        75\n",
      "black       250\n",
      "hispanic    300\n",
      "other       150\n",
      "white       600\n"
     ]
    }
   ],
   "source": [
    "national = pd.DataFrame([\"white\"]*100000 + [\"hispanic\"]*60000 +\\\n",
    "                        [\"black\"]*50000 + [\"asian\"]*15000 + [\"other\"]*35000)\n",
    "           \n",
    "\n",
    "minnesota = pd.DataFrame([\"white\"]*600 + [\"hispanic\"]*300 + \\\n",
    "                         [\"black\"]*250 +[\"asian\"]*75 + [\"other\"]*150)\n",
    "national_table = pd.crosstab(index=national[0], columns=\"count\")\n",
    "minnesota_table = pd.crosstab(index=minnesota[0], columns=\"count\")\n",
    "print( \"National\")\n",
    "print(national_table)\n",
    "print(\" \")\n",
    "print( \"Minnesota\")\n",
    "print(minnesota_table)\n"
   ]
  },
  {
   "cell_type": "code",
   "execution_count": 96,
   "metadata": {},
   "outputs": [
    {
     "name": "stdout",
     "output_type": "stream",
     "text": [
      "Wartość statystyki testowej: 18.099524243141698\n",
      "P-value: 0.0011800326671747886\n",
      "Liczba stopni swobody: 4\n",
      "Oczekiwane wartości:\n",
      "[[1.49956958e+04 7.93041607e+01]\n",
      " [4.99856528e+04 2.64347202e+02]\n",
      " [5.99827834e+04 3.17216643e+02]\n",
      " [3.49650885e+04 1.84911526e+02]\n",
      " [1.00070780e+05 5.29220469e+02]]\n",
      "Obszar krytyczny: (9.487729036781154, inf)\n"
     ]
    }
   ],
   "source": [
    "data = pd.concat([national_table, minnesota_table], axis = 1)\n",
    "\n",
    "T, p, dof, expected = stats.chi2_contingency(data)\n",
    "print(f\"Wartość statystyki testowej: {T}\")\n",
    "print(f\"P-value: {p}\")\n",
    "print(f\"Liczba stopni swobody: {dof}\")\n",
    "print(f\"Oczekiwane wartości:\\n{expected}\")\n",
    "z = stats.chi2(dof).ppf(1 - alpha)\n",
    "print(f\"Obszar krytyczny: {(z, np.Inf)}\")\n",
    "\n",
    "# pval < 0.05 -> odrzucamy hipotezę o tym samym rozkłądzie danych w USA i Minesocie"
   ]
  },
  {
   "cell_type": "markdown",
   "metadata": {
    "id": "v2dYGuPgy_RJ"
   },
   "source": [
    "#### Zadanie\n",
    "Test jednostronny chi-kwadrat\n",
    "Załóżmy, że wyjeżdżasz wędkować z kolegami. Każdego wieczoru losujecie kto ma sprzątać. Ale po zakończeniu podróży wydaje Ci się, że zrobiłeś większość pracy:\n",
    "\n",
    "Ty - 10\n",
    "Piotr - 6\n",
    "Marek - 5\n",
    "Michał - 4\n",
    "Paweł - 3\n",
    "Rafał - 2"
   ]
  },
  {
   "cell_type": "markdown",
   "metadata": {
    "id": "bnv03qgBzMV5"
   },
   "source": [
    "Wykonujemy test"
   ]
  },
  {
   "cell_type": "code",
   "execution_count": 98,
   "metadata": {
    "colab": {
     "base_uri": "https://localhost:8080/"
    },
    "executionInfo": {
     "elapsed": 328,
     "status": "ok",
     "timestamp": 1652517548023,
     "user": {
      "displayName": "Michał Więtczak",
      "userId": "11169546932359314903"
     },
     "user_tz": -120
    },
    "id": "-o14fB5bzNUZ",
    "outputId": "f1336a0b-fc30-4e1f-f833-7718a2ce9362"
   },
   "outputs": [
    {
     "name": "stdout",
     "output_type": "stream",
     "text": [
      "Wartość statystyki testowej: 5.363636363636364\n",
      "P-value: 0.37313038594870584\n",
      "Obszar krytyczny: (3.841458820694124, inf)\n"
     ]
    }
   ],
   "source": [
    "import numpy as np\n",
    "import pandas as pd\n",
    "from scipy import stats\n",
    "data=np.array([10,6,5,4,5,3])\n",
    "\n",
    "T, p = stats.chisquare(data)\n",
    "\n",
    "print(f\"Wartość statystyki testowej: {T}\")\n",
    "print(f\"P-value: {p}\")\n",
    "\n",
    "z = stats.chi2(1).ppf(1 - alpha)\n",
    "print(f\"Obszar krytyczny: {(z, np.Inf)}\")"
   ]
  },
  {
   "cell_type": "markdown",
   "metadata": {
    "id": "R3ZlUB0bzUzX"
   },
   "source": [
    "DOKŁADNY TEST FISHERA"
   ]
  },
  {
   "cell_type": "markdown",
   "metadata": {
    "id": "AmEJkCCszYRp"
   },
   "source": [
    "Zadanie\n",
    "W przypadku danych z poniższej tabeli sprawdzić czy to, że ktoś jest prawo lub leworęczny zależy od płci:\n",
    "![image.png](data:image/png;base64,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)"
   ]
  },
  {
   "cell_type": "code",
   "execution_count": 14,
   "metadata": {},
   "outputs": [
    {
     "name": "stdout",
     "output_type": "stream",
     "text": [
      "Wartość statystyki testowej: 8.4\n",
      "P-value: 0.00375221010087385\n",
      "Liczba stopni swobody: 1\n",
      "Oczekiwane wartości:\n",
      "[[5. 5.]\n",
      " [7. 7.]]\n",
      "Obszar krytyczny: (3.841458820694124, inf)\n"
     ]
    }
   ],
   "source": [
    "#a = np.array([[1,5],[8,2]])\n",
    "a = np.array([[1,9],[11,3]])\n",
    "\n",
    "T, p, dof, expected = stats.chi2_contingency(a)\n",
    "print(f\"Wartość statystyki testowej: {T}\")\n",
    "print(f\"P-value: {p}\")\n",
    "print(f\"Liczba stopni swobody: {dof}\")\n",
    "print(f\"Oczekiwane wartości:\\n{expected}\")\n",
    "z = stats.chi2(dof).ppf(1 - alpha)\n",
    "print(f\"Obszar krytyczny: {(z, np.Inf)}\")"
   ]
  },
  {
   "cell_type": "code",
   "execution_count": 28,
   "metadata": {
    "colab": {
     "base_uri": "https://localhost:8080/"
    },
    "executionInfo": {
     "elapsed": 8,
     "status": "ok",
     "timestamp": 1652518480546,
     "user": {
      "displayName": "Michał Więtczak",
      "userId": "11169546932359314903"
     },
     "user_tz": -120
    },
    "id": "q-06OPgyxsjz",
    "outputId": "37208627-9d53-4527-b44b-6a2cdf00a26d"
   },
   "outputs": [
    {
     "name": "stdout",
     "output_type": "stream",
     "text": [
      "P-value z testu dokładnego Fishera: 0.0027594561852200836\n"
     ]
    }
   ],
   "source": [
    "from scipy.stats import fisher_exact\n",
    "oddsr, p = fisher_exact(a, alternative='two-sided')\n",
    "print(f\"P-value z testu dokładnego Fishera: {p}\")"
   ]
  },
  {
   "cell_type": "markdown",
   "metadata": {
    "id": "KqW_ikQMzpKo"
   },
   "source": [
    "CZESC SAMODZIELNA"
   ]
  },
  {
   "cell_type": "markdown",
   "metadata": {
    "id": "_z4e_JjFzzuB"
   },
   "source": [
    "![image.png](data:image/png;base64,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)"
   ]
  },
  {
   "cell_type": "code",
   "execution_count": 31,
   "metadata": {
    "id": "tfekR5XCzrNd"
   },
   "outputs": [
    {
     "name": "stdout",
     "output_type": "stream",
     "text": [
      "Wartość statystyki testowej: 2.710942466624286\n",
      "P-value: 0.09966209595851808\n",
      "Liczba stopni swobody: 1\n",
      "Oczekiwane wartości:\n",
      "[[31.42857143 18.57142857]\n",
      " [34.57142857 20.42857143]]\n",
      "Obszar krytyczny: (3.841458820694124, inf)\n"
     ]
    }
   ],
   "source": [
    "data = np.array([[36,14],[30,25]])\n",
    "\n",
    "T, p, dof, expected = stats.chi2_contingency(data)\n",
    "print(f\"Wartość statystyki testowej: {T}\")\n",
    "print(f\"P-value: {p}\")\n",
    "print(f\"Liczba stopni swobody: {dof}\")\n",
    "print(f\"Oczekiwane wartości:\\n{expected}\")\n",
    "z = stats.chi2(dof).ppf(1 - alpha)\n",
    "print(f\"Obszar krytyczny: {(z, np.Inf)}\")"
   ]
  },
  {
   "cell_type": "code",
   "execution_count": 30,
   "metadata": {
    "id": "glofzL16z1_k"
   },
   "outputs": [
    {
     "name": "stdout",
     "output_type": "stream",
     "text": [
      "P-value z testu dokładnego Fishera: 0.07232579715629225\n"
     ]
    }
   ],
   "source": [
    "from scipy.stats import fisher_exact\n",
    "oddsr, p = fisher_exact(data, alternative='two-sided')\n",
    "print(f\"P-value z testu dokładnego Fishera: {p}\")"
   ]
  },
  {
   "cell_type": "markdown",
   "metadata": {
    "id": "lVSV6x9Rz4jL"
   },
   "source": [
    "Zadanie\n",
    "![image.png](data:image/png;base64,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)"
   ]
  },
  {
   "cell_type": "code",
   "execution_count": 32,
   "metadata": {},
   "outputs": [
    {
     "name": "stdout",
     "output_type": "stream",
     "text": [
      "Wartość statystyki testowej: 15.36\n",
      "P-value: 8.884941911456685e-05\n",
      "Liczba stopni swobody: 1\n",
      "Oczekiwane wartości:\n",
      "[[12.5  7.5]\n",
      " [12.5  7.5]]\n",
      "Obszar krytyczny: (3.841458820694124, inf)\n"
     ]
    }
   ],
   "source": [
    "data = np.array([[19,1],[6,14]])\n",
    "\n",
    "T, p, dof, expected = stats.chi2_contingency(data)\n",
    "print(f\"Wartość statystyki testowej: {T}\")\n",
    "print(f\"P-value: {p}\")\n",
    "print(f\"Liczba stopni swobody: {dof}\")\n",
    "print(f\"Oczekiwane wartości:\\n{expected}\")\n",
    "z = stats.chi2(dof).ppf(1 - alpha)\n",
    "print(f\"Obszar krytyczny: {(z, np.Inf)}\")"
   ]
  },
  {
   "cell_type": "code",
   "execution_count": 33,
   "metadata": {},
   "outputs": [
    {
     "name": "stdout",
     "output_type": "stream",
     "text": [
      "P-value z testu dokładnego Fishera: 3.9313721182464226e-05\n"
     ]
    }
   ],
   "source": [
    "from scipy.stats import fisher_exact\n",
    "oddsr, p = fisher_exact(data, alternative='two-sided')\n",
    "print(f\"P-value z testu dokładnego Fishera: {p}\")"
   ]
  },
  {
   "cell_type": "markdown",
   "metadata": {
    "id": "2U0mjqFlz_vx"
   },
   "source": [
    "Wykonaj test niezależności chi kwadrat w celu sprawdzenia, czy preferencje wyborcze zależą od czynnika demograficznego. Użyj danych wygenerowanych poniżej:\n",
    "\n"
   ]
  },
  {
   "cell_type": "code",
   "execution_count": 211,
   "metadata": {
    "colab": {
     "base_uri": "https://localhost:8080/",
     "height": 237
    },
    "executionInfo": {
     "elapsed": 346,
     "status": "ok",
     "timestamp": 1652519681989,
     "user": {
      "displayName": "Michał Więtczak",
      "userId": "11169546932359314903"
     },
     "user_tz": -120
    },
    "id": "f27aVB7U0GW3",
    "outputId": "9985a4e7-b180-4fa4-c0af-8fb20532f7c3"
   },
   "outputs": [
    {
     "data": {
      "text/html": [
       "<div>\n",
       "<style scoped>\n",
       "    .dataframe tbody tr th:only-of-type {\n",
       "        vertical-align: middle;\n",
       "    }\n",
       "\n",
       "    .dataframe tbody tr th {\n",
       "        vertical-align: top;\n",
       "    }\n",
       "\n",
       "    .dataframe thead th {\n",
       "        text-align: right;\n",
       "    }\n",
       "</style>\n",
       "<table border=\"1\" class=\"dataframe\">\n",
       "  <thead>\n",
       "    <tr style=\"text-align: right;\">\n",
       "      <th></th>\n",
       "      <th>democrat</th>\n",
       "      <th>independent</th>\n",
       "      <th>republican</th>\n",
       "      <th>row_totals</th>\n",
       "    </tr>\n",
       "  </thead>\n",
       "  <tbody>\n",
       "    <tr>\n",
       "      <th>asian</th>\n",
       "      <td>21</td>\n",
       "      <td>7</td>\n",
       "      <td>32</td>\n",
       "      <td>60</td>\n",
       "    </tr>\n",
       "    <tr>\n",
       "      <th>black</th>\n",
       "      <td>65</td>\n",
       "      <td>25</td>\n",
       "      <td>64</td>\n",
       "      <td>154</td>\n",
       "    </tr>\n",
       "    <tr>\n",
       "      <th>hispanic</th>\n",
       "      <td>107</td>\n",
       "      <td>50</td>\n",
       "      <td>94</td>\n",
       "      <td>251</td>\n",
       "    </tr>\n",
       "    <tr>\n",
       "      <th>other</th>\n",
       "      <td>15</td>\n",
       "      <td>8</td>\n",
       "      <td>15</td>\n",
       "      <td>38</td>\n",
       "    </tr>\n",
       "    <tr>\n",
       "      <th>white</th>\n",
       "      <td>189</td>\n",
       "      <td>96</td>\n",
       "      <td>212</td>\n",
       "      <td>497</td>\n",
       "    </tr>\n",
       "    <tr>\n",
       "      <th>col_totals</th>\n",
       "      <td>397</td>\n",
       "      <td>186</td>\n",
       "      <td>417</td>\n",
       "      <td>1000</td>\n",
       "    </tr>\n",
       "  </tbody>\n",
       "</table>\n",
       "</div>"
      ],
      "text/plain": [
       "            democrat  independent  republican  row_totals\n",
       "asian             21            7          32          60\n",
       "black             65           25          64         154\n",
       "hispanic         107           50          94         251\n",
       "other             15            8          15          38\n",
       "white            189           96         212         497\n",
       "col_totals       397          186         417        1000"
      ]
     },
     "execution_count": 211,
     "metadata": {},
     "output_type": "execute_result"
    }
   ],
   "source": [
    "np.random.seed(10)\n",
    "\n",
    "# Sample data randomly at fixed probabilities\n",
    "voter_race = np.random.choice(a= [\"asian\",\"black\",\"hispanic\",\"other\",\"white\"],\n",
    "                              p = [0.05, 0.15 ,0.25, 0.05, 0.5],\n",
    "                              size=1000)\n",
    "\n",
    "# Sample data randomly at fixed probabilities\n",
    "voter_party = np.random.choice(a= [\"democrat\",\"independent\",\"republican\"],\n",
    "                              p = [0.4, 0.2, 0.4],\n",
    "                              size=1000)\n",
    "\n",
    "voters = pd.DataFrame({\"race\":voter_race, \n",
    "                       \"party\":voter_party})\n",
    "\n",
    "voter_tab = pd.crosstab(voters.race, voters.party, margins = True)\n",
    "\n",
    "voter_tab.columns = [\"democrat\",\"independent\",\"republican\",\"row_totals\"]\n",
    "\n",
    "voter_tab.index = [\"asian\",\"black\",\"hispanic\",\"other\",\"white\",\"col_totals\"]\n",
    "\n",
    "observed = voter_tab.iloc[0:5,0:3]   # Get table without totals for later use\n",
    "voter_tab"
   ]
  },
  {
   "cell_type": "code",
   "execution_count": 184,
   "metadata": {},
   "outputs": [
    {
     "name": "stdout",
     "output_type": "stream",
     "text": [
      "[8.77824537e-55 3.70755344e-31 5.95393937e-62]\n"
     ]
    }
   ],
   "source": [
    "V, p = stats.chisquare(voter_tab.iloc[:-1,:-1])\n",
    "print(p)\n"
   ]
  },
  {
   "cell_type": "code",
   "execution_count": 220,
   "metadata": {},
   "outputs": [
    {
     "name": "stdout",
     "output_type": "stream",
     "text": [
      "0.8318031085834037\n",
      "0.6429636910188363\n",
      "0.5266785531049493\n"
     ]
    }
   ],
   "source": [
    "V, p = stats.chisquare(voter_tab[\"democrat\"][:-1], f_exp=list(voter_tab[\"row_totals\"][:-1]/voter_tab[\"row_totals\"][-1]*voter_tab[\"democrat\"][-1]))\n",
    "print(p)\n",
    "\n",
    "V, p = stats.chisquare(voter_tab[\"independent\"][:-1], f_exp=list(voter_tab[\"row_totals\"][:-1]/voter_tab[\"row_totals\"][-1]*voter_tab[\"independent\"][-1]))\n",
    "print(p)\n",
    "\n",
    "V, p = stats.chisquare(voter_tab[\"republican\"][:-1], f_exp=list(voter_tab[\"row_totals\"][:-1]/voter_tab[\"row_totals\"][-1]*voter_tab[\"republican\"][-1]))\n",
    "print(p)"
   ]
  }
 ],
 "metadata": {
  "colab": {
   "authorship_tag": "ABX9TyN4Pi9Y3tGGUhiAvAepaxfF",
   "name": "Testy niezależności.ipynb",
   "provenance": []
  },
  "kernelspec": {
   "display_name": "Python 3 (ipykernel)",
   "language": "python",
   "name": "python3"
  },
  "language_info": {
   "codemirror_mode": {
    "name": "ipython",
    "version": 3
   },
   "file_extension": ".py",
   "mimetype": "text/x-python",
   "name": "python",
   "nbconvert_exporter": "python",
   "pygments_lexer": "ipython3",
   "version": "3.9.7"
  }
 },
 "nbformat": 4,
 "nbformat_minor": 4
}
