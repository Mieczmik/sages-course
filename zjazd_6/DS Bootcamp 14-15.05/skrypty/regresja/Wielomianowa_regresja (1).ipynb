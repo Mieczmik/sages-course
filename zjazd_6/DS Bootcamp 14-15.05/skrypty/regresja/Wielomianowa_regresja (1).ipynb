{
 "cells": [
  {
   "cell_type": "code",
   "execution_count": 4,
   "metadata": {
    "colab": {
     "base_uri": "https://localhost:8080/"
    },
    "executionInfo": {
     "elapsed": 18319,
     "status": "ok",
     "timestamp": 1652618853490,
     "user": {
      "displayName": "Michał Więtczak",
      "userId": "11169546932359314903"
     },
     "user_tz": -120
    },
    "id": "eFzDKPKJfSpP",
    "outputId": "b09267b1-1a0d-49f2-b2ee-140495af57a5"
   },
   "outputs": [
    {
     "name": "stdout",
     "output_type": "stream",
     "text": [
      "Mounted at /content/gdrive\n"
     ]
    }
   ],
   "source": [
    "from google.colab import drive\n",
    "drive.mount('/content/gdrive')\n"
   ]
  },
  {
   "cell_type": "code",
   "execution_count": 5,
   "metadata": {
    "executionInfo": {
     "elapsed": 379,
     "status": "ok",
     "timestamp": 1652618853865,
     "user": {
      "displayName": "Michał Więtczak",
      "userId": "11169546932359314903"
     },
     "user_tz": -120
    },
    "id": "z7hSt2JJHoG6"
   },
   "outputs": [],
   "source": [
    "import pandas as pd\n",
    "import numpy as np\n",
    "from sklearn.linear_model import LinearRegression\n",
    "from sklearn.preprocessing import PolynomialFeatures"
   ]
  },
  {
   "cell_type": "code",
   "execution_count": 6,
   "metadata": {
    "executionInfo": {
     "elapsed": 538,
     "status": "ok",
     "timestamp": 1652618854402,
     "user": {
      "displayName": "Michał Więtczak",
      "userId": "11169546932359314903"
     },
     "user_tz": -120
    },
    "id": "NsMR71KQDDpm"
   },
   "outputs": [],
   "source": [
    "data=pd.read_csv('gdrive/My Drive/DS Bootcamp 14-15.05/pliki/ex1data2.txt', header=None)"
   ]
  },
  {
   "cell_type": "code",
   "execution_count": 7,
   "metadata": {
    "executionInfo": {
     "elapsed": 463,
     "status": "ok",
     "timestamp": 1652618854855,
     "user": {
      "displayName": "Michał Więtczak",
      "userId": "11169546932359314903"
     },
     "user_tz": -120
    },
    "id": "S2BYd-KHfqzW"
   },
   "outputs": [],
   "source": [
    "data.columns = ['feet','band','price']"
   ]
  },
  {
   "cell_type": "code",
   "execution_count": 8,
   "metadata": {
    "colab": {
     "base_uri": "https://localhost:8080/",
     "height": 206
    },
    "executionInfo": {
     "elapsed": 28,
     "status": "ok",
     "timestamp": 1652618854855,
     "user": {
      "displayName": "Michał Więtczak",
      "userId": "11169546932359314903"
     },
     "user_tz": -120
    },
    "id": "ROj0KLsxPoMw",
    "outputId": "2fac0f59-cbe1-4ce3-d9b5-7aefab23dea4"
   },
   "outputs": [
    {
     "data": {
      "text/html": [
       "\n",
       "  <div id=\"df-c5fcc4c7-661a-4a47-b96d-f7fee76b6fbd\">\n",
       "    <div class=\"colab-df-container\">\n",
       "      <div>\n",
       "<style scoped>\n",
       "    .dataframe tbody tr th:only-of-type {\n",
       "        vertical-align: middle;\n",
       "    }\n",
       "\n",
       "    .dataframe tbody tr th {\n",
       "        vertical-align: top;\n",
       "    }\n",
       "\n",
       "    .dataframe thead th {\n",
       "        text-align: right;\n",
       "    }\n",
       "</style>\n",
       "<table border=\"1\" class=\"dataframe\">\n",
       "  <thead>\n",
       "    <tr style=\"text-align: right;\">\n",
       "      <th></th>\n",
       "      <th>feet</th>\n",
       "      <th>band</th>\n",
       "      <th>price</th>\n",
       "    </tr>\n",
       "  </thead>\n",
       "  <tbody>\n",
       "    <tr>\n",
       "      <th>0</th>\n",
       "      <td>2104</td>\n",
       "      <td>3</td>\n",
       "      <td>399900</td>\n",
       "    </tr>\n",
       "    <tr>\n",
       "      <th>1</th>\n",
       "      <td>1600</td>\n",
       "      <td>3</td>\n",
       "      <td>329900</td>\n",
       "    </tr>\n",
       "    <tr>\n",
       "      <th>2</th>\n",
       "      <td>2400</td>\n",
       "      <td>3</td>\n",
       "      <td>369000</td>\n",
       "    </tr>\n",
       "    <tr>\n",
       "      <th>3</th>\n",
       "      <td>1416</td>\n",
       "      <td>2</td>\n",
       "      <td>232000</td>\n",
       "    </tr>\n",
       "    <tr>\n",
       "      <th>4</th>\n",
       "      <td>3000</td>\n",
       "      <td>4</td>\n",
       "      <td>539900</td>\n",
       "    </tr>\n",
       "  </tbody>\n",
       "</table>\n",
       "</div>\n",
       "      <button class=\"colab-df-convert\" onclick=\"convertToInteractive('df-c5fcc4c7-661a-4a47-b96d-f7fee76b6fbd')\"\n",
       "              title=\"Convert this dataframe to an interactive table.\"\n",
       "              style=\"display:none;\">\n",
       "        \n",
       "  <svg xmlns=\"http://www.w3.org/2000/svg\" height=\"24px\"viewBox=\"0 0 24 24\"\n",
       "       width=\"24px\">\n",
       "    <path d=\"M0 0h24v24H0V0z\" fill=\"none\"/>\n",
       "    <path d=\"M18.56 5.44l.94 2.06.94-2.06 2.06-.94-2.06-.94-.94-2.06-.94 2.06-2.06.94zm-11 1L8.5 8.5l.94-2.06 2.06-.94-2.06-.94L8.5 2.5l-.94 2.06-2.06.94zm10 10l.94 2.06.94-2.06 2.06-.94-2.06-.94-.94-2.06-.94 2.06-2.06.94z\"/><path d=\"M17.41 7.96l-1.37-1.37c-.4-.4-.92-.59-1.43-.59-.52 0-1.04.2-1.43.59L10.3 9.45l-7.72 7.72c-.78.78-.78 2.05 0 2.83L4 21.41c.39.39.9.59 1.41.59.51 0 1.02-.2 1.41-.59l7.78-7.78 2.81-2.81c.8-.78.8-2.07 0-2.86zM5.41 20L4 18.59l7.72-7.72 1.47 1.35L5.41 20z\"/>\n",
       "  </svg>\n",
       "      </button>\n",
       "      \n",
       "  <style>\n",
       "    .colab-df-container {\n",
       "      display:flex;\n",
       "      flex-wrap:wrap;\n",
       "      gap: 12px;\n",
       "    }\n",
       "\n",
       "    .colab-df-convert {\n",
       "      background-color: #E8F0FE;\n",
       "      border: none;\n",
       "      border-radius: 50%;\n",
       "      cursor: pointer;\n",
       "      display: none;\n",
       "      fill: #1967D2;\n",
       "      height: 32px;\n",
       "      padding: 0 0 0 0;\n",
       "      width: 32px;\n",
       "    }\n",
       "\n",
       "    .colab-df-convert:hover {\n",
       "      background-color: #E2EBFA;\n",
       "      box-shadow: 0px 1px 2px rgba(60, 64, 67, 0.3), 0px 1px 3px 1px rgba(60, 64, 67, 0.15);\n",
       "      fill: #174EA6;\n",
       "    }\n",
       "\n",
       "    [theme=dark] .colab-df-convert {\n",
       "      background-color: #3B4455;\n",
       "      fill: #D2E3FC;\n",
       "    }\n",
       "\n",
       "    [theme=dark] .colab-df-convert:hover {\n",
       "      background-color: #434B5C;\n",
       "      box-shadow: 0px 1px 3px 1px rgba(0, 0, 0, 0.15);\n",
       "      filter: drop-shadow(0px 1px 2px rgba(0, 0, 0, 0.3));\n",
       "      fill: #FFFFFF;\n",
       "    }\n",
       "  </style>\n",
       "\n",
       "      <script>\n",
       "        const buttonEl =\n",
       "          document.querySelector('#df-c5fcc4c7-661a-4a47-b96d-f7fee76b6fbd button.colab-df-convert');\n",
       "        buttonEl.style.display =\n",
       "          google.colab.kernel.accessAllowed ? 'block' : 'none';\n",
       "\n",
       "        async function convertToInteractive(key) {\n",
       "          const element = document.querySelector('#df-c5fcc4c7-661a-4a47-b96d-f7fee76b6fbd');\n",
       "          const dataTable =\n",
       "            await google.colab.kernel.invokeFunction('convertToInteractive',\n",
       "                                                     [key], {});\n",
       "          if (!dataTable) return;\n",
       "\n",
       "          const docLinkHtml = 'Like what you see? Visit the ' +\n",
       "            '<a target=\"_blank\" href=https://colab.research.google.com/notebooks/data_table.ipynb>data table notebook</a>'\n",
       "            + ' to learn more about interactive tables.';\n",
       "          element.innerHTML = '';\n",
       "          dataTable['output_type'] = 'display_data';\n",
       "          await google.colab.output.renderOutput(dataTable, element);\n",
       "          const docLink = document.createElement('div');\n",
       "          docLink.innerHTML = docLinkHtml;\n",
       "          element.appendChild(docLink);\n",
       "        }\n",
       "      </script>\n",
       "    </div>\n",
       "  </div>\n",
       "  "
      ],
      "text/plain": [
       "   feet  band   price\n",
       "0  2104     3  399900\n",
       "1  1600     3  329900\n",
       "2  2400     3  369000\n",
       "3  1416     2  232000\n",
       "4  3000     4  539900"
      ]
     },
     "execution_count": 8,
     "metadata": {},
     "output_type": "execute_result"
    }
   ],
   "source": [
    "data.head()"
   ]
  },
  {
   "cell_type": "code",
   "execution_count": 33,
   "metadata": {
    "executionInfo": {
     "elapsed": 251,
     "status": "ok",
     "timestamp": 1652618905685,
     "user": {
      "displayName": "Michał Więtczak",
      "userId": "11169546932359314903"
     },
     "user_tz": -120
    },
    "id": "-7QBnRLxgbtU"
   },
   "outputs": [],
   "source": [
    "X= data.iloc[:, 0:1]\n",
    "y= data['price']"
   ]
  },
  {
   "cell_type": "code",
   "execution_count": 10,
   "metadata": {
    "colab": {
     "base_uri": "https://localhost:8080/",
     "height": 206
    },
    "executionInfo": {
     "elapsed": 27,
     "status": "ok",
     "timestamp": 1652618854856,
     "user": {
      "displayName": "Michał Więtczak",
      "userId": "11169546932359314903"
     },
     "user_tz": -120
    },
    "id": "ijJLHsRmWsK6",
    "outputId": "6558b1dc-11a1-4ebf-c860-2c4b0357c061"
   },
   "outputs": [
    {
     "data": {
      "text/html": [
       "\n",
       "  <div id=\"df-a5e8fbd6-c4bf-4afb-b536-3fc995301fc2\">\n",
       "    <div class=\"colab-df-container\">\n",
       "      <div>\n",
       "<style scoped>\n",
       "    .dataframe tbody tr th:only-of-type {\n",
       "        vertical-align: middle;\n",
       "    }\n",
       "\n",
       "    .dataframe tbody tr th {\n",
       "        vertical-align: top;\n",
       "    }\n",
       "\n",
       "    .dataframe thead th {\n",
       "        text-align: right;\n",
       "    }\n",
       "</style>\n",
       "<table border=\"1\" class=\"dataframe\">\n",
       "  <thead>\n",
       "    <tr style=\"text-align: right;\">\n",
       "      <th></th>\n",
       "      <th>feet</th>\n",
       "      <th>band</th>\n",
       "    </tr>\n",
       "  </thead>\n",
       "  <tbody>\n",
       "    <tr>\n",
       "      <th>0</th>\n",
       "      <td>2104</td>\n",
       "      <td>3</td>\n",
       "    </tr>\n",
       "    <tr>\n",
       "      <th>1</th>\n",
       "      <td>1600</td>\n",
       "      <td>3</td>\n",
       "    </tr>\n",
       "    <tr>\n",
       "      <th>2</th>\n",
       "      <td>2400</td>\n",
       "      <td>3</td>\n",
       "    </tr>\n",
       "    <tr>\n",
       "      <th>3</th>\n",
       "      <td>1416</td>\n",
       "      <td>2</td>\n",
       "    </tr>\n",
       "    <tr>\n",
       "      <th>4</th>\n",
       "      <td>3000</td>\n",
       "      <td>4</td>\n",
       "    </tr>\n",
       "  </tbody>\n",
       "</table>\n",
       "</div>\n",
       "      <button class=\"colab-df-convert\" onclick=\"convertToInteractive('df-a5e8fbd6-c4bf-4afb-b536-3fc995301fc2')\"\n",
       "              title=\"Convert this dataframe to an interactive table.\"\n",
       "              style=\"display:none;\">\n",
       "        \n",
       "  <svg xmlns=\"http://www.w3.org/2000/svg\" height=\"24px\"viewBox=\"0 0 24 24\"\n",
       "       width=\"24px\">\n",
       "    <path d=\"M0 0h24v24H0V0z\" fill=\"none\"/>\n",
       "    <path d=\"M18.56 5.44l.94 2.06.94-2.06 2.06-.94-2.06-.94-.94-2.06-.94 2.06-2.06.94zm-11 1L8.5 8.5l.94-2.06 2.06-.94-2.06-.94L8.5 2.5l-.94 2.06-2.06.94zm10 10l.94 2.06.94-2.06 2.06-.94-2.06-.94-.94-2.06-.94 2.06-2.06.94z\"/><path d=\"M17.41 7.96l-1.37-1.37c-.4-.4-.92-.59-1.43-.59-.52 0-1.04.2-1.43.59L10.3 9.45l-7.72 7.72c-.78.78-.78 2.05 0 2.83L4 21.41c.39.39.9.59 1.41.59.51 0 1.02-.2 1.41-.59l7.78-7.78 2.81-2.81c.8-.78.8-2.07 0-2.86zM5.41 20L4 18.59l7.72-7.72 1.47 1.35L5.41 20z\"/>\n",
       "  </svg>\n",
       "      </button>\n",
       "      \n",
       "  <style>\n",
       "    .colab-df-container {\n",
       "      display:flex;\n",
       "      flex-wrap:wrap;\n",
       "      gap: 12px;\n",
       "    }\n",
       "\n",
       "    .colab-df-convert {\n",
       "      background-color: #E8F0FE;\n",
       "      border: none;\n",
       "      border-radius: 50%;\n",
       "      cursor: pointer;\n",
       "      display: none;\n",
       "      fill: #1967D2;\n",
       "      height: 32px;\n",
       "      padding: 0 0 0 0;\n",
       "      width: 32px;\n",
       "    }\n",
       "\n",
       "    .colab-df-convert:hover {\n",
       "      background-color: #E2EBFA;\n",
       "      box-shadow: 0px 1px 2px rgba(60, 64, 67, 0.3), 0px 1px 3px 1px rgba(60, 64, 67, 0.15);\n",
       "      fill: #174EA6;\n",
       "    }\n",
       "\n",
       "    [theme=dark] .colab-df-convert {\n",
       "      background-color: #3B4455;\n",
       "      fill: #D2E3FC;\n",
       "    }\n",
       "\n",
       "    [theme=dark] .colab-df-convert:hover {\n",
       "      background-color: #434B5C;\n",
       "      box-shadow: 0px 1px 3px 1px rgba(0, 0, 0, 0.15);\n",
       "      filter: drop-shadow(0px 1px 2px rgba(0, 0, 0, 0.3));\n",
       "      fill: #FFFFFF;\n",
       "    }\n",
       "  </style>\n",
       "\n",
       "      <script>\n",
       "        const buttonEl =\n",
       "          document.querySelector('#df-a5e8fbd6-c4bf-4afb-b536-3fc995301fc2 button.colab-df-convert');\n",
       "        buttonEl.style.display =\n",
       "          google.colab.kernel.accessAllowed ? 'block' : 'none';\n",
       "\n",
       "        async function convertToInteractive(key) {\n",
       "          const element = document.querySelector('#df-a5e8fbd6-c4bf-4afb-b536-3fc995301fc2');\n",
       "          const dataTable =\n",
       "            await google.colab.kernel.invokeFunction('convertToInteractive',\n",
       "                                                     [key], {});\n",
       "          if (!dataTable) return;\n",
       "\n",
       "          const docLinkHtml = 'Like what you see? Visit the ' +\n",
       "            '<a target=\"_blank\" href=https://colab.research.google.com/notebooks/data_table.ipynb>data table notebook</a>'\n",
       "            + ' to learn more about interactive tables.';\n",
       "          element.innerHTML = '';\n",
       "          dataTable['output_type'] = 'display_data';\n",
       "          await google.colab.output.renderOutput(dataTable, element);\n",
       "          const docLink = document.createElement('div');\n",
       "          docLink.innerHTML = docLinkHtml;\n",
       "          element.appendChild(docLink);\n",
       "        }\n",
       "      </script>\n",
       "    </div>\n",
       "  </div>\n",
       "  "
      ],
      "text/plain": [
       "   feet  band\n",
       "0  2104     3\n",
       "1  1600     3\n",
       "2  2400     3\n",
       "3  1416     2\n",
       "4  3000     4"
      ]
     },
     "execution_count": 10,
     "metadata": {},
     "output_type": "execute_result"
    }
   ],
   "source": [
    "X.head()"
   ]
  },
  {
   "cell_type": "code",
   "execution_count": 11,
   "metadata": {
    "colab": {
     "base_uri": "https://localhost:8080/"
    },
    "executionInfo": {
     "elapsed": 27,
     "status": "ok",
     "timestamp": 1652618854857,
     "user": {
      "displayName": "Michał Więtczak",
      "userId": "11169546932359314903"
     },
     "user_tz": -120
    },
    "id": "ThXq4R7dW2h1",
    "outputId": "32b097c6-9c79-4c4a-ea0f-225b37c5be0f"
   },
   "outputs": [
    {
     "data": {
      "text/plain": [
       "array([399900, 329900, 369000, 232000, 539900])"
      ]
     },
     "execution_count": 11,
     "metadata": {},
     "output_type": "execute_result"
    }
   ],
   "source": [
    "y.values[:5]"
   ]
  },
  {
   "cell_type": "code",
   "execution_count": 12,
   "metadata": {
    "executionInfo": {
     "elapsed": 25,
     "status": "ok",
     "timestamp": 1652618854857,
     "user": {
      "displayName": "Michał Więtczak",
      "userId": "11169546932359314903"
     },
     "user_tz": -120
    },
    "id": "7rcE4ACxW8Mw"
   },
   "outputs": [],
   "source": [
    "poly = PolynomialFeatures(degree=8)\n",
    "X_poly = poly.fit_transform(X)"
   ]
  },
  {
   "cell_type": "code",
   "execution_count": 13,
   "metadata": {
    "colab": {
     "base_uri": "https://localhost:8080/"
    },
    "executionInfo": {
     "elapsed": 25,
     "status": "ok",
     "timestamp": 1652618854858,
     "user": {
      "displayName": "Michał Więtczak",
      "userId": "11169546932359314903"
     },
     "user_tz": -120
    },
    "id": "23fWWFtyZPjn",
    "outputId": "64876f12-07b3-48c4-e65c-3188125031b3"
   },
   "outputs": [
    {
     "data": {
      "text/plain": [
       "array([[1.00000000e+00, 2.10400000e+03, 3.00000000e+00, 4.42681600e+06,\n",
       "        6.31200000e+03, 9.00000000e+00, 9.31402086e+09, 1.32804480e+07,\n",
       "        1.89360000e+04, 2.70000000e+01, 1.95966999e+13, 2.79420626e+10,\n",
       "        3.98413440e+07, 5.68080000e+04, 8.10000000e+01, 4.12314566e+16,\n",
       "        5.87900997e+13, 8.38261878e+10, 1.19524032e+08, 1.70424000e+05,\n",
       "        2.43000000e+02, 8.67509847e+19, 1.23694370e+17, 1.76370299e+14,\n",
       "        2.51478563e+11, 3.58572096e+08, 5.11272000e+05, 7.29000000e+02,\n",
       "        1.82524072e+23, 2.60252954e+20, 3.71083109e+17, 5.29110897e+14,\n",
       "        7.54435690e+11, 1.07571629e+09, 1.53381600e+06, 2.18700000e+03,\n",
       "        3.84030647e+26, 5.47572215e+23, 7.80758862e+20, 1.11324933e+18,\n",
       "        1.58733269e+15, 2.26330707e+12, 3.22714886e+09, 4.60144800e+06,\n",
       "        6.56100000e+03],\n",
       "       [1.00000000e+00, 1.60000000e+03, 3.00000000e+00, 2.56000000e+06,\n",
       "        4.80000000e+03, 9.00000000e+00, 4.09600000e+09, 7.68000000e+06,\n",
       "        1.44000000e+04, 2.70000000e+01, 6.55360000e+12, 1.22880000e+10,\n",
       "        2.30400000e+07, 4.32000000e+04, 8.10000000e+01, 1.04857600e+16,\n",
       "        1.96608000e+13, 3.68640000e+10, 6.91200000e+07, 1.29600000e+05,\n",
       "        2.43000000e+02, 1.67772160e+19, 3.14572800e+16, 5.89824000e+13,\n",
       "        1.10592000e+11, 2.07360000e+08, 3.88800000e+05, 7.29000000e+02,\n",
       "        2.68435456e+22, 5.03316480e+19, 9.43718400e+16, 1.76947200e+14,\n",
       "        3.31776000e+11, 6.22080000e+08, 1.16640000e+06, 2.18700000e+03,\n",
       "        4.29496730e+25, 8.05306368e+22, 1.50994944e+20, 2.83115520e+17,\n",
       "        5.30841600e+14, 9.95328000e+11, 1.86624000e+09, 3.49920000e+06,\n",
       "        6.56100000e+03],\n",
       "       [1.00000000e+00, 2.40000000e+03, 3.00000000e+00, 5.76000000e+06,\n",
       "        7.20000000e+03, 9.00000000e+00, 1.38240000e+10, 1.72800000e+07,\n",
       "        2.16000000e+04, 2.70000000e+01, 3.31776000e+13, 4.14720000e+10,\n",
       "        5.18400000e+07, 6.48000000e+04, 8.10000000e+01, 7.96262400e+16,\n",
       "        9.95328000e+13, 1.24416000e+11, 1.55520000e+08, 1.94400000e+05,\n",
       "        2.43000000e+02, 1.91102976e+20, 2.38878720e+17, 2.98598400e+14,\n",
       "        3.73248000e+11, 4.66560000e+08, 5.83200000e+05, 7.29000000e+02,\n",
       "        4.58647142e+23, 5.73308928e+20, 7.16636160e+17, 8.95795200e+14,\n",
       "        1.11974400e+12, 1.39968000e+09, 1.74960000e+06, 2.18700000e+03,\n",
       "        1.10075314e+27, 1.37594143e+24, 1.71992678e+21, 2.14990848e+18,\n",
       "        2.68738560e+15, 3.35923200e+12, 4.19904000e+09, 5.24880000e+06,\n",
       "        6.56100000e+03],\n",
       "       [1.00000000e+00, 1.41600000e+03, 2.00000000e+00, 2.00505600e+06,\n",
       "        2.83200000e+03, 4.00000000e+00, 2.83915930e+09, 4.01011200e+06,\n",
       "        5.66400000e+03, 8.00000000e+00, 4.02024956e+12, 5.67831859e+09,\n",
       "        8.02022400e+06, 1.13280000e+04, 1.60000000e+01, 5.69267338e+15,\n",
       "        8.04049913e+12, 1.13566372e+10, 1.60404480e+07, 2.26560000e+04,\n",
       "        3.20000000e+01, 8.06082551e+18, 1.13853468e+16, 1.60809983e+13,\n",
       "        2.27132744e+10, 3.20808960e+07, 4.53120000e+04, 6.40000000e+01,\n",
       "        1.14141289e+22, 1.61216510e+19, 2.27706935e+16, 3.21619965e+13,\n",
       "        4.54265487e+10, 6.41617920e+07, 9.06240000e+04, 1.28000000e+02,\n",
       "        1.61624065e+25, 2.28282578e+22, 3.22433020e+19, 4.55413871e+16,\n",
       "        6.43239930e+13, 9.08530975e+10, 1.28323584e+08, 1.81248000e+05,\n",
       "        2.56000000e+02],\n",
       "       [1.00000000e+00, 3.00000000e+03, 4.00000000e+00, 9.00000000e+06,\n",
       "        1.20000000e+04, 1.60000000e+01, 2.70000000e+10, 3.60000000e+07,\n",
       "        4.80000000e+04, 6.40000000e+01, 8.10000000e+13, 1.08000000e+11,\n",
       "        1.44000000e+08, 1.92000000e+05, 2.56000000e+02, 2.43000000e+17,\n",
       "        3.24000000e+14, 4.32000000e+11, 5.76000000e+08, 7.68000000e+05,\n",
       "        1.02400000e+03, 7.29000000e+20, 9.72000000e+17, 1.29600000e+15,\n",
       "        1.72800000e+12, 2.30400000e+09, 3.07200000e+06, 4.09600000e+03,\n",
       "        2.18700000e+24, 2.91600000e+21, 3.88800000e+18, 5.18400000e+15,\n",
       "        6.91200000e+12, 9.21600000e+09, 1.22880000e+07, 1.63840000e+04,\n",
       "        6.56100000e+27, 8.74800000e+24, 1.16640000e+22, 1.55520000e+19,\n",
       "        2.07360000e+16, 2.76480000e+13, 3.68640000e+10, 4.91520000e+07,\n",
       "        6.55360000e+04]])"
      ]
     },
     "execution_count": 13,
     "metadata": {},
     "output_type": "execute_result"
    }
   ],
   "source": [
    "X_poly[:5]"
   ]
  },
  {
   "cell_type": "code",
   "execution_count": 14,
   "metadata": {
    "colab": {
     "base_uri": "https://localhost:8080/"
    },
    "executionInfo": {
     "elapsed": 24,
     "status": "ok",
     "timestamp": 1652618854858,
     "user": {
      "displayName": "Michał Więtczak",
      "userId": "11169546932359314903"
     },
     "user_tz": -120
    },
    "id": "sgHZHnSqhCFa",
    "outputId": "35bccfc9-22e2-4068-e425-aa8f745ede3d"
   },
   "outputs": [
    {
     "data": {
      "text/plain": [
       "LinearRegression()"
      ]
     },
     "execution_count": 14,
     "metadata": {},
     "output_type": "execute_result"
    }
   ],
   "source": [
    "model = LinearRegression(fit_intercept=True)\n",
    "model.fit(X_poly,y)"
   ]
  },
  {
   "cell_type": "code",
   "execution_count": 15,
   "metadata": {
    "colab": {
     "base_uri": "https://localhost:8080/"
    },
    "executionInfo": {
     "elapsed": 22,
     "status": "ok",
     "timestamp": 1652618854859,
     "user": {
      "displayName": "Michał Więtczak",
      "userId": "11169546932359314903"
     },
     "user_tz": -120
    },
    "id": "TpN6GnZEEf3o",
    "outputId": "828cc6a3-5b1f-437c-c7a3-58df837a2698"
   },
   "outputs": [
    {
     "data": {
      "text/plain": [
       "0.810216500428273"
      ]
     },
     "execution_count": 15,
     "metadata": {},
     "output_type": "execute_result"
    }
   ],
   "source": [
    "model.score(X_poly, y)"
   ]
  },
  {
   "cell_type": "code",
   "execution_count": 16,
   "metadata": {
    "colab": {
     "base_uri": "https://localhost:8080/"
    },
    "executionInfo": {
     "elapsed": 20,
     "status": "ok",
     "timestamp": 1652618854859,
     "user": {
      "displayName": "Michał Więtczak",
      "userId": "11169546932359314903"
     },
     "user_tz": -120
    },
    "id": "leq-v-mfhemZ",
    "outputId": "2bf713b6-88bb-4d11-a8d2-4747aa9d9a2a"
   },
   "outputs": [
    {
     "data": {
      "text/plain": [
       "183213.67736899914"
      ]
     },
     "execution_count": 16,
     "metadata": {},
     "output_type": "execute_result"
    }
   ],
   "source": [
    "model.intercept_"
   ]
  },
  {
   "cell_type": "code",
   "execution_count": 17,
   "metadata": {
    "colab": {
     "base_uri": "https://localhost:8080/"
    },
    "executionInfo": {
     "elapsed": 18,
     "status": "ok",
     "timestamp": 1652618854859,
     "user": {
      "displayName": "Michał Więtczak",
      "userId": "11169546932359314903"
     },
     "user_tz": -120
    },
    "id": "lIJ_TTPXhqii",
    "outputId": "8325621b-c1a8-45c3-a269-4e203f0dac41"
   },
   "outputs": [
    {
     "data": {
      "text/plain": [
       "array([ 1.56376702e-11,  7.75424153e-11,  5.35322860e-15,  4.26877816e-16,\n",
       "       -3.01903799e-20,  1.32016593e-19, -3.82612512e-15, -2.25226204e-17,\n",
       "       -7.74174314e-20, -2.15158790e-22, -2.04229726e-12, -2.07039376e-14,\n",
       "       -9.10106177e-17, -2.94527416e-19, -8.01154369e-22,  6.86824706e-11,\n",
       "       -1.14703017e-11, -8.34264397e-14, -3.46065082e-16, -1.09891702e-18,\n",
       "       -2.97692110e-21, -1.67286626e-13,  9.50219151e-11, -4.71023461e-11,\n",
       "       -3.23126876e-13, -1.30747001e-15, -4.10932432e-18, -1.11142994e-20,\n",
       "        2.38892318e-17,  5.18885747e-14, -5.07216725e-11, -1.89818252e-10,\n",
       "       -1.25050916e-12, -4.96773928e-15, -1.54939955e-17, -4.18689464e-20,\n",
       "       -3.90743319e-21,  5.19442453e-18, -1.41196120e-14,  1.08364939e-11,\n",
       "       -7.55239667e-10, -4.84901911e-12, -1.90114276e-14, -5.89645414e-17,\n",
       "       -1.59278022e-19])"
      ]
     },
     "execution_count": 17,
     "metadata": {},
     "output_type": "execute_result"
    }
   ],
   "source": [
    "model.coef_ "
   ]
  },
  {
   "cell_type": "code",
   "execution_count": 18,
   "metadata": {
    "colab": {
     "base_uri": "https://localhost:8080/",
     "height": 206
    },
    "executionInfo": {
     "elapsed": 18,
     "status": "ok",
     "timestamp": 1652618854860,
     "user": {
      "displayName": "Michał Więtczak",
      "userId": "11169546932359314903"
     },
     "user_tz": -120
    },
    "id": "z9odG6ISIsqp",
    "outputId": "a6ce15bb-fc9b-4793-e032-7d55b877ee90"
   },
   "outputs": [
    {
     "data": {
      "text/html": [
       "\n",
       "  <div id=\"df-c529318f-80a6-423a-98f2-315e82cb0d4a\">\n",
       "    <div class=\"colab-df-container\">\n",
       "      <div>\n",
       "<style scoped>\n",
       "    .dataframe tbody tr th:only-of-type {\n",
       "        vertical-align: middle;\n",
       "    }\n",
       "\n",
       "    .dataframe tbody tr th {\n",
       "        vertical-align: top;\n",
       "    }\n",
       "\n",
       "    .dataframe thead th {\n",
       "        text-align: right;\n",
       "    }\n",
       "</style>\n",
       "<table border=\"1\" class=\"dataframe\">\n",
       "  <thead>\n",
       "    <tr style=\"text-align: right;\">\n",
       "      <th></th>\n",
       "      <th>feet</th>\n",
       "      <th>band</th>\n",
       "      <th>price</th>\n",
       "    </tr>\n",
       "  </thead>\n",
       "  <tbody>\n",
       "    <tr>\n",
       "      <th>0</th>\n",
       "      <td>2104</td>\n",
       "      <td>3</td>\n",
       "      <td>399900</td>\n",
       "    </tr>\n",
       "    <tr>\n",
       "      <th>1</th>\n",
       "      <td>1600</td>\n",
       "      <td>3</td>\n",
       "      <td>329900</td>\n",
       "    </tr>\n",
       "    <tr>\n",
       "      <th>2</th>\n",
       "      <td>2400</td>\n",
       "      <td>3</td>\n",
       "      <td>369000</td>\n",
       "    </tr>\n",
       "    <tr>\n",
       "      <th>3</th>\n",
       "      <td>1416</td>\n",
       "      <td>2</td>\n",
       "      <td>232000</td>\n",
       "    </tr>\n",
       "    <tr>\n",
       "      <th>4</th>\n",
       "      <td>3000</td>\n",
       "      <td>4</td>\n",
       "      <td>539900</td>\n",
       "    </tr>\n",
       "  </tbody>\n",
       "</table>\n",
       "</div>\n",
       "      <button class=\"colab-df-convert\" onclick=\"convertToInteractive('df-c529318f-80a6-423a-98f2-315e82cb0d4a')\"\n",
       "              title=\"Convert this dataframe to an interactive table.\"\n",
       "              style=\"display:none;\">\n",
       "        \n",
       "  <svg xmlns=\"http://www.w3.org/2000/svg\" height=\"24px\"viewBox=\"0 0 24 24\"\n",
       "       width=\"24px\">\n",
       "    <path d=\"M0 0h24v24H0V0z\" fill=\"none\"/>\n",
       "    <path d=\"M18.56 5.44l.94 2.06.94-2.06 2.06-.94-2.06-.94-.94-2.06-.94 2.06-2.06.94zm-11 1L8.5 8.5l.94-2.06 2.06-.94-2.06-.94L8.5 2.5l-.94 2.06-2.06.94zm10 10l.94 2.06.94-2.06 2.06-.94-2.06-.94-.94-2.06-.94 2.06-2.06.94z\"/><path d=\"M17.41 7.96l-1.37-1.37c-.4-.4-.92-.59-1.43-.59-.52 0-1.04.2-1.43.59L10.3 9.45l-7.72 7.72c-.78.78-.78 2.05 0 2.83L4 21.41c.39.39.9.59 1.41.59.51 0 1.02-.2 1.41-.59l7.78-7.78 2.81-2.81c.8-.78.8-2.07 0-2.86zM5.41 20L4 18.59l7.72-7.72 1.47 1.35L5.41 20z\"/>\n",
       "  </svg>\n",
       "      </button>\n",
       "      \n",
       "  <style>\n",
       "    .colab-df-container {\n",
       "      display:flex;\n",
       "      flex-wrap:wrap;\n",
       "      gap: 12px;\n",
       "    }\n",
       "\n",
       "    .colab-df-convert {\n",
       "      background-color: #E8F0FE;\n",
       "      border: none;\n",
       "      border-radius: 50%;\n",
       "      cursor: pointer;\n",
       "      display: none;\n",
       "      fill: #1967D2;\n",
       "      height: 32px;\n",
       "      padding: 0 0 0 0;\n",
       "      width: 32px;\n",
       "    }\n",
       "\n",
       "    .colab-df-convert:hover {\n",
       "      background-color: #E2EBFA;\n",
       "      box-shadow: 0px 1px 2px rgba(60, 64, 67, 0.3), 0px 1px 3px 1px rgba(60, 64, 67, 0.15);\n",
       "      fill: #174EA6;\n",
       "    }\n",
       "\n",
       "    [theme=dark] .colab-df-convert {\n",
       "      background-color: #3B4455;\n",
       "      fill: #D2E3FC;\n",
       "    }\n",
       "\n",
       "    [theme=dark] .colab-df-convert:hover {\n",
       "      background-color: #434B5C;\n",
       "      box-shadow: 0px 1px 3px 1px rgba(0, 0, 0, 0.15);\n",
       "      filter: drop-shadow(0px 1px 2px rgba(0, 0, 0, 0.3));\n",
       "      fill: #FFFFFF;\n",
       "    }\n",
       "  </style>\n",
       "\n",
       "      <script>\n",
       "        const buttonEl =\n",
       "          document.querySelector('#df-c529318f-80a6-423a-98f2-315e82cb0d4a button.colab-df-convert');\n",
       "        buttonEl.style.display =\n",
       "          google.colab.kernel.accessAllowed ? 'block' : 'none';\n",
       "\n",
       "        async function convertToInteractive(key) {\n",
       "          const element = document.querySelector('#df-c529318f-80a6-423a-98f2-315e82cb0d4a');\n",
       "          const dataTable =\n",
       "            await google.colab.kernel.invokeFunction('convertToInteractive',\n",
       "                                                     [key], {});\n",
       "          if (!dataTable) return;\n",
       "\n",
       "          const docLinkHtml = 'Like what you see? Visit the ' +\n",
       "            '<a target=\"_blank\" href=https://colab.research.google.com/notebooks/data_table.ipynb>data table notebook</a>'\n",
       "            + ' to learn more about interactive tables.';\n",
       "          element.innerHTML = '';\n",
       "          dataTable['output_type'] = 'display_data';\n",
       "          await google.colab.output.renderOutput(dataTable, element);\n",
       "          const docLink = document.createElement('div');\n",
       "          docLink.innerHTML = docLinkHtml;\n",
       "          element.appendChild(docLink);\n",
       "        }\n",
       "      </script>\n",
       "    </div>\n",
       "  </div>\n",
       "  "
      ],
      "text/plain": [
       "   feet  band   price\n",
       "0  2104     3  399900\n",
       "1  1600     3  329900\n",
       "2  2400     3  369000\n",
       "3  1416     2  232000\n",
       "4  3000     4  539900"
      ]
     },
     "execution_count": 18,
     "metadata": {},
     "output_type": "execute_result"
    }
   ],
   "source": [
    "data.head()"
   ]
  },
  {
   "cell_type": "code",
   "execution_count": 19,
   "metadata": {
    "colab": {
     "base_uri": "https://localhost:8080/",
     "height": 143
    },
    "executionInfo": {
     "elapsed": 16,
     "status": "ok",
     "timestamp": 1652618854860,
     "user": {
      "displayName": "Michał Więtczak",
      "userId": "11169546932359314903"
     },
     "user_tz": -120
    },
    "id": "LE5nJH0_NoC8",
    "outputId": "f22ede20-d266-4566-ec2e-1ce0154058ae"
   },
   "outputs": [
    {
     "data": {
      "text/html": [
       "\n",
       "  <div id=\"df-1c2a5aa2-f3dc-4283-a8c9-42d74be28cc2\">\n",
       "    <div class=\"colab-df-container\">\n",
       "      <div>\n",
       "<style scoped>\n",
       "    .dataframe tbody tr th:only-of-type {\n",
       "        vertical-align: middle;\n",
       "    }\n",
       "\n",
       "    .dataframe tbody tr th {\n",
       "        vertical-align: top;\n",
       "    }\n",
       "\n",
       "    .dataframe thead th {\n",
       "        text-align: right;\n",
       "    }\n",
       "</style>\n",
       "<table border=\"1\" class=\"dataframe\">\n",
       "  <thead>\n",
       "    <tr style=\"text-align: right;\">\n",
       "      <th></th>\n",
       "      <th>feet</th>\n",
       "      <th>band</th>\n",
       "      <th>price</th>\n",
       "    </tr>\n",
       "  </thead>\n",
       "  <tbody>\n",
       "    <tr>\n",
       "      <th>feet</th>\n",
       "      <td>1.000000</td>\n",
       "      <td>0.559967</td>\n",
       "      <td>0.854988</td>\n",
       "    </tr>\n",
       "    <tr>\n",
       "      <th>band</th>\n",
       "      <td>0.559967</td>\n",
       "      <td>1.000000</td>\n",
       "      <td>0.442261</td>\n",
       "    </tr>\n",
       "    <tr>\n",
       "      <th>price</th>\n",
       "      <td>0.854988</td>\n",
       "      <td>0.442261</td>\n",
       "      <td>1.000000</td>\n",
       "    </tr>\n",
       "  </tbody>\n",
       "</table>\n",
       "</div>\n",
       "      <button class=\"colab-df-convert\" onclick=\"convertToInteractive('df-1c2a5aa2-f3dc-4283-a8c9-42d74be28cc2')\"\n",
       "              title=\"Convert this dataframe to an interactive table.\"\n",
       "              style=\"display:none;\">\n",
       "        \n",
       "  <svg xmlns=\"http://www.w3.org/2000/svg\" height=\"24px\"viewBox=\"0 0 24 24\"\n",
       "       width=\"24px\">\n",
       "    <path d=\"M0 0h24v24H0V0z\" fill=\"none\"/>\n",
       "    <path d=\"M18.56 5.44l.94 2.06.94-2.06 2.06-.94-2.06-.94-.94-2.06-.94 2.06-2.06.94zm-11 1L8.5 8.5l.94-2.06 2.06-.94-2.06-.94L8.5 2.5l-.94 2.06-2.06.94zm10 10l.94 2.06.94-2.06 2.06-.94-2.06-.94-.94-2.06-.94 2.06-2.06.94z\"/><path d=\"M17.41 7.96l-1.37-1.37c-.4-.4-.92-.59-1.43-.59-.52 0-1.04.2-1.43.59L10.3 9.45l-7.72 7.72c-.78.78-.78 2.05 0 2.83L4 21.41c.39.39.9.59 1.41.59.51 0 1.02-.2 1.41-.59l7.78-7.78 2.81-2.81c.8-.78.8-2.07 0-2.86zM5.41 20L4 18.59l7.72-7.72 1.47 1.35L5.41 20z\"/>\n",
       "  </svg>\n",
       "      </button>\n",
       "      \n",
       "  <style>\n",
       "    .colab-df-container {\n",
       "      display:flex;\n",
       "      flex-wrap:wrap;\n",
       "      gap: 12px;\n",
       "    }\n",
       "\n",
       "    .colab-df-convert {\n",
       "      background-color: #E8F0FE;\n",
       "      border: none;\n",
       "      border-radius: 50%;\n",
       "      cursor: pointer;\n",
       "      display: none;\n",
       "      fill: #1967D2;\n",
       "      height: 32px;\n",
       "      padding: 0 0 0 0;\n",
       "      width: 32px;\n",
       "    }\n",
       "\n",
       "    .colab-df-convert:hover {\n",
       "      background-color: #E2EBFA;\n",
       "      box-shadow: 0px 1px 2px rgba(60, 64, 67, 0.3), 0px 1px 3px 1px rgba(60, 64, 67, 0.15);\n",
       "      fill: #174EA6;\n",
       "    }\n",
       "\n",
       "    [theme=dark] .colab-df-convert {\n",
       "      background-color: #3B4455;\n",
       "      fill: #D2E3FC;\n",
       "    }\n",
       "\n",
       "    [theme=dark] .colab-df-convert:hover {\n",
       "      background-color: #434B5C;\n",
       "      box-shadow: 0px 1px 3px 1px rgba(0, 0, 0, 0.15);\n",
       "      filter: drop-shadow(0px 1px 2px rgba(0, 0, 0, 0.3));\n",
       "      fill: #FFFFFF;\n",
       "    }\n",
       "  </style>\n",
       "\n",
       "      <script>\n",
       "        const buttonEl =\n",
       "          document.querySelector('#df-1c2a5aa2-f3dc-4283-a8c9-42d74be28cc2 button.colab-df-convert');\n",
       "        buttonEl.style.display =\n",
       "          google.colab.kernel.accessAllowed ? 'block' : 'none';\n",
       "\n",
       "        async function convertToInteractive(key) {\n",
       "          const element = document.querySelector('#df-1c2a5aa2-f3dc-4283-a8c9-42d74be28cc2');\n",
       "          const dataTable =\n",
       "            await google.colab.kernel.invokeFunction('convertToInteractive',\n",
       "                                                     [key], {});\n",
       "          if (!dataTable) return;\n",
       "\n",
       "          const docLinkHtml = 'Like what you see? Visit the ' +\n",
       "            '<a target=\"_blank\" href=https://colab.research.google.com/notebooks/data_table.ipynb>data table notebook</a>'\n",
       "            + ' to learn more about interactive tables.';\n",
       "          element.innerHTML = '';\n",
       "          dataTable['output_type'] = 'display_data';\n",
       "          await google.colab.output.renderOutput(dataTable, element);\n",
       "          const docLink = document.createElement('div');\n",
       "          docLink.innerHTML = docLinkHtml;\n",
       "          element.appendChild(docLink);\n",
       "        }\n",
       "      </script>\n",
       "    </div>\n",
       "  </div>\n",
       "  "
      ],
      "text/plain": [
       "           feet      band     price\n",
       "feet   1.000000  0.559967  0.854988\n",
       "band   0.559967  1.000000  0.442261\n",
       "price  0.854988  0.442261  1.000000"
      ]
     },
     "execution_count": 19,
     "metadata": {},
     "output_type": "execute_result"
    }
   ],
   "source": [
    "data.corr(method='pearson')"
   ]
  },
  {
   "cell_type": "code",
   "execution_count": 20,
   "metadata": {
    "executionInfo": {
     "elapsed": 12,
     "status": "ok",
     "timestamp": 1652618855223,
     "user": {
      "displayName": "Michał Więtczak",
      "userId": "11169546932359314903"
     },
     "user_tz": -120
    },
    "id": "YL9H-hvekv9o"
   },
   "outputs": [],
   "source": [
    "from sklearn.model_selection import train_test_split"
   ]
  },
  {
   "cell_type": "code",
   "execution_count": 21,
   "metadata": {
    "executionInfo": {
     "elapsed": 13,
     "status": "ok",
     "timestamp": 1652618855224,
     "user": {
      "displayName": "Michał Więtczak",
      "userId": "11169546932359314903"
     },
     "user_tz": -120
    },
    "id": "DsGEMrrbkvxY"
   },
   "outputs": [],
   "source": [
    "X_poly_train, X_poly_test, y_train, y_test = train_test_split(X_poly,y, test_size=0.2, random_state=42)"
   ]
  },
  {
   "cell_type": "code",
   "execution_count": 22,
   "metadata": {
    "colab": {
     "base_uri": "https://localhost:8080/"
    },
    "executionInfo": {
     "elapsed": 12,
     "status": "ok",
     "timestamp": 1652618855224,
     "user": {
      "displayName": "Michał Więtczak",
      "userId": "11169546932359314903"
     },
     "user_tz": -120
    },
    "id": "jn1otwPCkvdu",
    "outputId": "38bb2f34-1202-4a58-e662-d7ff9692e7b4"
   },
   "outputs": [
    {
     "data": {
      "text/plain": [
       "LinearRegression()"
      ]
     },
     "execution_count": 22,
     "metadata": {},
     "output_type": "execute_result"
    }
   ],
   "source": [
    "model.fit(X_poly_train, y_train)"
   ]
  },
  {
   "cell_type": "code",
   "execution_count": 23,
   "metadata": {
    "colab": {
     "base_uri": "https://localhost:8080/"
    },
    "executionInfo": {
     "elapsed": 13,
     "status": "ok",
     "timestamp": 1652618855225,
     "user": {
      "displayName": "Michał Więtczak",
      "userId": "11169546932359314903"
     },
     "user_tz": -120
    },
    "id": "wdDF_DoclAax",
    "outputId": "8201d791-ffb2-4904-ff6a-4b9168ec71e1"
   },
   "outputs": [
    {
     "data": {
      "text/plain": [
       "0.8657967684818111"
      ]
     },
     "execution_count": 23,
     "metadata": {},
     "output_type": "execute_result"
    }
   ],
   "source": [
    "model.score(X_poly_train, y_train)"
   ]
  },
  {
   "cell_type": "code",
   "execution_count": 24,
   "metadata": {
    "colab": {
     "base_uri": "https://localhost:8080/"
    },
    "executionInfo": {
     "elapsed": 12,
     "status": "ok",
     "timestamp": 1652618855226,
     "user": {
      "displayName": "Michał Więtczak",
      "userId": "11169546932359314903"
     },
     "user_tz": -120
    },
    "id": "7IuEgE9ToJYj",
    "outputId": "72968854-562a-47ca-e44e-9d384cfdb5dc"
   },
   "outputs": [
    {
     "data": {
      "text/plain": [
       "-778.4006444204126"
      ]
     },
     "execution_count": 24,
     "metadata": {},
     "output_type": "execute_result"
    }
   ],
   "source": [
    "model.score(X_poly_test,y_test)"
   ]
  },
  {
   "cell_type": "code",
   "execution_count": 25,
   "metadata": {
    "executionInfo": {
     "elapsed": 11,
     "status": "ok",
     "timestamp": 1652618855226,
     "user": {
      "displayName": "Michał Więtczak",
      "userId": "11169546932359314903"
     },
     "user_tz": -120
    },
    "id": "Js8u0TenP1tm"
   },
   "outputs": [],
   "source": [
    "from sklearn.metrics import mean_absolute_error, mean_absolute_percentage_error"
   ]
  },
  {
   "cell_type": "code",
   "execution_count": 26,
   "metadata": {
    "executionInfo": {
     "elapsed": 11,
     "status": "ok",
     "timestamp": 1652618855227,
     "user": {
      "displayName": "Michał Więtczak",
      "userId": "11169546932359314903"
     },
     "user_tz": -120
    },
    "id": "qrtTnISLP5Uo"
   },
   "outputs": [],
   "source": [
    "y_pred = model.predict(X_poly_train)"
   ]
  },
  {
   "cell_type": "code",
   "execution_count": 27,
   "metadata": {
    "colab": {
     "base_uri": "https://localhost:8080/"
    },
    "executionInfo": {
     "elapsed": 11,
     "status": "ok",
     "timestamp": 1652618855227,
     "user": {
      "displayName": "Michał Więtczak",
      "userId": "11169546932359314903"
     },
     "user_tz": -120
    },
    "id": "-p9FWBG6P34g",
    "outputId": "a51143d8-11db-4713-e4fe-42bcf19a25d9"
   },
   "outputs": [
    {
     "data": {
      "text/plain": [
       "0.10946445411655095"
      ]
     },
     "execution_count": 27,
     "metadata": {},
     "output_type": "execute_result"
    }
   ],
   "source": [
    "mean_absolute_percentage_error(y_train, y_pred)"
   ]
  },
  {
   "cell_type": "code",
   "execution_count": 28,
   "metadata": {
    "executionInfo": {
     "elapsed": 10,
     "status": "ok",
     "timestamp": 1652618855227,
     "user": {
      "displayName": "Michał Więtczak",
      "userId": "11169546932359314903"
     },
     "user_tz": -120
    },
    "id": "uZxZShqeP3CK"
   },
   "outputs": [],
   "source": [
    "y_pred = model.predict(X_poly_test)"
   ]
  },
  {
   "cell_type": "code",
   "execution_count": 29,
   "metadata": {
    "colab": {
     "base_uri": "https://localhost:8080/"
    },
    "executionInfo": {
     "elapsed": 10,
     "status": "ok",
     "timestamp": 1652618855228,
     "user": {
      "displayName": "Michał Więtczak",
      "userId": "11169546932359314903"
     },
     "user_tz": -120
    },
    "id": "4rBUAdy1P5jR",
    "outputId": "2720ee2b-08c8-40a7-e990-0640e04dfc67"
   },
   "outputs": [
    {
     "data": {
      "text/plain": [
       "2.3848102381889005"
      ]
     },
     "execution_count": 29,
     "metadata": {},
     "output_type": "execute_result"
    }
   ],
   "source": [
    "mean_absolute_percentage_error(y_test, y_pred)"
   ]
  },
  {
   "cell_type": "code",
   "execution_count": 30,
   "metadata": {
    "executionInfo": {
     "elapsed": 3,
     "status": "ok",
     "timestamp": 1652618855705,
     "user": {
      "displayName": "Michał Więtczak",
      "userId": "11169546932359314903"
     },
     "user_tz": -120
    },
    "id": "5OBdQ_h2wg_K"
   },
   "outputs": [],
   "source": [
    "from sklearn.base import (\n",
    "    TransformerMixin, \n",
    "    BaseEstimator\n",
    ")\n",
    "class BoxCoxTransformer(BaseEstimator, TransformerMixin):\n",
    "    fitted_lambda: float\n",
    "\n",
    "    def fit(self, x: np.array) -> 'BoxCoxTransformer':\n",
    "\n",
    "        _, self.fitted_lambda = stats.boxcox(x)\n",
    "        return self\n",
    "\n",
    "    def transform(self, x: np.array) -> np.array:\n",
    "        # Note that for x of length = 1 stats.boxcox will raise error\n",
    "        return stats.boxcox(x, self.fitted_lambda)\n",
    "        "
   ]
  },
  {
   "cell_type": "code",
   "execution_count": 55,
   "metadata": {
    "executionInfo": {
     "elapsed": 252,
     "status": "ok",
     "timestamp": 1652619431382,
     "user": {
      "displayName": "Michał Więtczak",
      "userId": "11169546932359314903"
     },
     "user_tz": -120
    },
    "id": "fIEP6nuWwFZC"
   },
   "outputs": [],
   "source": [
    "from sklearn.model_selection import train_test_split\n",
    "from scipy import stats\n",
    "\n",
    "X_train, X_test, y_train, y_test = train_test_split(X['feet'] , y, test_size=.2, shuffle=True)\n",
    "transformer = BoxCoxTransformer().fit(X_train)\n",
    "X_train_transformed = transformer.transform(X_train)\n",
    "X_test_transformed = transformer.transform(X_test)"
   ]
  },
  {
   "cell_type": "code",
   "execution_count": 57,
   "metadata": {
    "colab": {
     "base_uri": "https://localhost:8080/"
    },
    "executionInfo": {
     "elapsed": 286,
     "status": "ok",
     "timestamp": 1652619477046,
     "user": {
      "displayName": "Michał Więtczak",
      "userId": "11169546932359314903"
     },
     "user_tz": -120
    },
    "id": "fV_y__ABxNwq",
    "outputId": "1543efab-5fa9-4c44-99fc-1559b52f335b"
   },
   "outputs": [
    {
     "data": {
      "text/plain": [
       "LinearRegression()"
      ]
     },
     "execution_count": 57,
     "metadata": {},
     "output_type": "execute_result"
    }
   ],
   "source": [
    "model1 = LinearRegression(fit_intercept=True)\n",
    "\n",
    "model1.fit(X_train_transformed.reshape(-1,1), y_train)"
   ]
  },
  {
   "cell_type": "code",
   "execution_count": 58,
   "metadata": {
    "executionInfo": {
     "elapsed": 2,
     "status": "ok",
     "timestamp": 1652619483719,
     "user": {
      "displayName": "Michał Więtczak",
      "userId": "11169546932359314903"
     },
     "user_tz": -120
    },
    "id": "PATQbuqAxvn5"
   },
   "outputs": [],
   "source": [
    "y_pred = model1.predict(X_train_transformed.reshape(-1,1))"
   ]
  },
  {
   "cell_type": "code",
   "execution_count": 59,
   "metadata": {
    "colab": {
     "base_uri": "https://localhost:8080/"
    },
    "executionInfo": {
     "elapsed": 267,
     "status": "ok",
     "timestamp": 1652619487284,
     "user": {
      "displayName": "Michał Więtczak",
      "userId": "11169546932359314903"
     },
     "user_tz": -120
    },
    "id": "kMe02Pbbx_Z0",
    "outputId": "5c694a80-f094-4846-8762-e761a5b6e2ee"
   },
   "outputs": [
    {
     "data": {
      "text/plain": [
       "54434.85956819049"
      ]
     },
     "execution_count": 59,
     "metadata": {},
     "output_type": "execute_result"
    }
   ],
   "source": [
    "mean_absolute_error(y_train, y_pred)"
   ]
  },
  {
   "cell_type": "code",
   "execution_count": 60,
   "metadata": {
    "colab": {
     "base_uri": "https://localhost:8080/"
    },
    "executionInfo": {
     "elapsed": 246,
     "status": "ok",
     "timestamp": 1652619544487,
     "user": {
      "displayName": "Michał Więtczak",
      "userId": "11169546932359314903"
     },
     "user_tz": -120
    },
    "id": "WWS5jMOSzEDx",
    "outputId": "99ac7acf-aff4-45cc-df80-5a8d8ed5a07e"
   },
   "outputs": [
    {
     "data": {
      "text/plain": [
       "62965.81474392116"
      ]
     },
     "execution_count": 60,
     "metadata": {},
     "output_type": "execute_result"
    }
   ],
   "source": [
    "y_pred_test = model1.predict(X_test_transformed.reshape(-1,1))\n",
    "mean_absolute_error(y_test, y_pred_test)"
   ]
  },
  {
   "cell_type": "code",
   "execution_count": 62,
   "metadata": {
    "colab": {
     "base_uri": "https://localhost:8080/"
    },
    "executionInfo": {
     "elapsed": 663,
     "status": "ok",
     "timestamp": 1652619654032,
     "user": {
      "displayName": "Michał Więtczak",
      "userId": "11169546932359314903"
     },
     "user_tz": -120
    },
    "id": "dWkc-437zVue",
    "outputId": "3d48f7cd-9d4d-4618-ef1d-c0bd243babc9"
   },
   "outputs": [
    {
     "name": "stdout",
     "output_type": "stream",
     "text": [
      "0.5993793054194193\n",
      "0.8054714656109759\n"
     ]
    }
   ],
   "source": [
    "print(model1.score(X_train_transformed.reshape(-1,1), y_train))\n",
    "print(model1.score(X_test_transformed.reshape(-1,1),y_test))"
   ]
  }
 ],
 "metadata": {
  "colab": {
   "name": "Wielomianowa_regresja (1).ipynb",
   "provenance": []
  },
  "kernelspec": {
   "display_name": "Python 3.10.6 64-bit ('3.10.6')",
   "language": "python",
   "name": "python3"
  },
  "language_info": {
   "codemirror_mode": {
    "name": "ipython",
    "version": 3
   },
   "file_extension": ".py",
   "mimetype": "text/x-python",
   "name": "python",
   "nbconvert_exporter": "python",
   "pygments_lexer": "ipython3",
   "version": "3.10.6"
  },
  "vscode": {
   "interpreter": {
    "hash": "b480b8933f078b9bb649a28ef31ddb4e88638560591c0b6b6c9f25971fe4507f"
   }
  }
 },
 "nbformat": 4,
 "nbformat_minor": 4
}
