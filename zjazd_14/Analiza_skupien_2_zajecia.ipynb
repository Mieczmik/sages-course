{
 "cells": [
  {
   "cell_type": "markdown",
   "metadata": {},
   "source": [
    "## DBSCAN"
   ]
  },
  {
   "cell_type": "markdown",
   "metadata": {},
   "source": [
    "Demo: https://www.naftaliharris.com/blog/visualizing-dbscan-clustering/"
   ]
  },
  {
   "cell_type": "code",
   "execution_count": 4,
   "metadata": {},
   "outputs": [],
   "source": [
    "from sklearn.cluster import DBSCAN\n",
    "?DBSCAN"
   ]
  },
  {
   "cell_type": "code",
   "execution_count": 2,
   "metadata": {},
   "outputs": [
    {
     "data": {
      "image/png": "[encoded data removed]",
      "text/plain": [
       "<Figure size 432x288 with 1 Axes>"
      ]
     },
     "metadata": {
      "needs_background": "light"
     },
     "output_type": "display_data"
    }
   ],
   "source": [
    "import numpy as np\n",
    "import numpy.random as rnd\n",
    "import matplotlib.pyplot as plt\n",
    "\n",
    "rnd.seed(123)\n",
    "points = np.concatenate([rnd.multivariate_normal((2,3),np.array([[1,0],[0,1]]),50),\n",
    "                        rnd.multivariate_normal((10,0),np.array([[30,0],[0,0.5]]),50),\n",
    "                        rnd.multivariate_normal((0,-8),np.array([[0.3,0],[0,30]]),50)], axis = 0)\n",
    "\n",
    "plt.scatter(points[:,0],points[:,1])\n",
    "\n",
    "plt.hlines(0,-15,15)\n",
    "\n",
    "plt.vlines(0,-15,15)\n",
    "plt.show()"
   ]
  },
  {
   "cell_type": "markdown",
   "metadata": {},
   "source": [
    "Uruchom DBSCAN"
   ]
  },
  {
   "cell_type": "code",
   "execution_count": 8,
   "metadata": {},
   "outputs": [],
   "source": [
    "model = DBSCAN(eps=1.7, min_samples=2)"
   ]
  },
  {
   "cell_type": "code",
   "execution_count": 9,
   "metadata": {},
   "outputs": [],
   "source": [
    "labels = model.fit_predict(points)"
   ]
  },
  {
   "cell_type": "code",
   "execution_count": 10,
   "metadata": {},
   "outputs": [
    {
     "data": {
      "text/plain": [
       "array([ 0,  0,  0,  0,  0,  0,  0,  0,  0,  0,  0,  0,  0,  0,  0,  0,  0,\n",
       "        0,  0,  0,  0,  0,  0,  0,  0,  0,  0,  0,  0,  0,  0,  0,  0,  0,\n",
       "        0,  0,  0,  0,  0,  0,  0,  0,  0,  0,  0,  0,  0,  0,  0,  0,  1,\n",
       "        1,  1,  1,  1,  1,  1,  1,  0, -1,  1,  1,  1,  1,  1,  1,  1,  1,\n",
       "        1,  1,  1,  1,  1,  1,  1,  1,  0,  1,  1,  1,  1,  1,  1,  1,  1,\n",
       "        1,  1,  1,  1,  1,  1,  1,  1,  1,  1,  1,  1,  1,  1,  1,  2,  0,\n",
       "        2,  2,  2,  2,  2,  3,  2,  3,  3,  2,  2,  3,  3,  3,  2,  2,  2,\n",
       "        2,  2,  2,  2,  2,  3,  0,  3,  2,  2,  2,  2,  2,  2,  2,  2,  3,\n",
       "        2,  3,  2,  3,  3,  3,  2,  3,  3,  3,  2,  3,  0,  2],\n",
       "      dtype=int64)"
      ]
     },
     "execution_count": 10,
     "metadata": {},
     "output_type": "execute_result"
    }
   ],
   "source": [
    "labels"
   ]
  },
  {
   "cell_type": "code",
   "execution_count": 11,
   "metadata": {},
   "outputs": [
    {
     "data": {
      "image/png": "[encoded data removed]",
      "text/plain": [
       "<Figure size 432x288 with 1 Axes>"
      ]
     },
     "metadata": {
      "needs_background": "light"
     },
     "output_type": "display_data"
    }
   ],
   "source": [
    "plt.scatter(points[:,0],points[:,1],c=labels+1)\n",
    "plt.show()"
   ]
  },
  {
   "cell_type": "code",
   "execution_count": 15,
   "metadata": {},
   "outputs": [],
   "source": [
    "from sklearn.neighbors import NearestNeighbors\n",
    "?NearestNeighbors"
   ]
  },
  {
   "cell_type": "code",
   "execution_count": 14,
   "metadata": {},
   "outputs": [],
   "source": [
    "neigh = NearestNeighbors(n_neighbors=4)"
   ]
  },
  {
   "cell_type": "code",
   "execution_count": 16,
   "metadata": {},
   "outputs": [
    {
     "data": {
      "text/plain": [
       "NearestNeighbors(n_neighbors=4)"
      ]
     },
     "execution_count": 16,
     "metadata": {},
     "output_type": "execute_result"
    }
   ],
   "source": [
    "neigh.fit(points)"
   ]
  },
  {
   "cell_type": "code",
   "execution_count": 17,
   "metadata": {},
   "outputs": [],
   "source": [
    "distances, indices = neigh.kneighbors(points)"
   ]
  },
  {
   "cell_type": "code",
   "execution_count": 18,
   "metadata": {},
   "outputs": [
    {
     "data": {
      "text/plain": [
       "array([[0.        , 0.23301385, 0.37271891, 0.54032489],\n",
       "       [0.        , 0.1827288 , 0.62893407, 0.70014948],\n",
       "       [0.        , 0.59482631, 0.66643478, 0.82759587],\n",
       "       [0.        , 0.70896987, 0.7185717 , 0.95736816],\n",
       "       [0.        , 0.17819289, 0.25273188, 0.32053012],\n",
       "       [0.        , 0.27729463, 0.41296111, 0.42825092],\n",
       "       [0.        , 0.24138058, 0.29832672, 0.32053012],\n",
       "       [0.        , 0.3109854 , 0.41296111, 0.52443981],\n",
       "       [0.        , 1.22826824, 1.32403708, 1.38432326],\n",
       "       [0.        , 0.56503718, 0.58996167, 0.77541016],\n",
       "       [0.        , 0.30543396, 0.6382747 , 0.7854183 ],\n",
       "       [0.        , 0.23301385, 0.41442152, 0.59482631],\n",
       "       [0.        , 0.32941734, 0.40304696, 0.5213671 ],\n",
       "       [0.        , 0.2917614 , 0.41827367, 0.60161457],\n",
       "       [0.        , 0.2841804 , 0.52443981, 0.60927674],\n",
       "       [0.        , 0.86486257, 1.20378185, 1.32701248],\n",
       "       [0.        , 0.02595181, 0.24840227, 0.5213671 ],\n",
       "       [0.        , 0.56503718, 0.58533645, 0.61065683],\n",
       "       [0.        , 0.38203706, 0.4100328 , 0.48137499],\n",
       "       [0.        , 0.3296731 , 0.42825092, 0.52227744],\n",
       "       [0.        , 0.12588155, 0.45890474, 0.52027958],\n",
       "       [0.        , 0.4100328 , 0.44118495, 0.46071112],\n",
       "       [0.        , 0.36723792, 0.36960604, 0.6106986 ],\n",
       "       [0.        , 0.39359437, 0.83097104, 1.05178222],\n",
       "       [0.        , 0.49120942, 0.7854183 , 1.22826824],\n",
       "       [0.        , 0.34721384, 0.38641534, 0.40304696],\n",
       "       [0.        , 0.29832672, 0.48268675, 0.50053067],\n",
       "       [0.        , 0.18625151, 0.36668933, 0.38203706],\n",
       "       [0.        , 0.30543396, 0.49120942, 0.91424889],\n",
       "       [0.        , 0.27361249, 0.30986308, 0.84168389],\n",
       "       [0.        , 0.37271891, 0.41442152, 0.44118495],\n",
       "       [0.        , 0.1827288 , 0.5185575 , 0.60161457],\n",
       "       [0.        , 0.24365345, 0.27361249, 0.58996167],\n",
       "       [0.        , 0.36446795, 0.36723792, 0.46144793],\n",
       "       [0.        , 0.3296731 , 0.59696316, 0.73181757],\n",
       "       [0.        , 0.46066524, 0.5185575 , 0.60927674],\n",
       "       [0.        , 0.17057153, 0.25273188, 0.41827367],\n",
       "       [0.        , 0.50029244, 1.03833505, 1.19504202],\n",
       "       [0.        , 0.27729463, 0.3109854 , 0.46144793],\n",
       "       [0.        , 0.12588155, 0.34617377, 0.40722382],\n",
       "       [0.        , 0.17819289, 0.24138058, 0.41879817],\n",
       "       [0.        , 0.24365345, 0.30986308, 0.77129178],\n",
       "       [0.        , 0.2841804 , 0.43647372, 0.66424217],\n",
       "       [0.        , 0.38309791, 0.40722382, 0.43647372],\n",
       "       [0.        , 0.39359437, 0.77129178, 0.92835177],\n",
       "       [0.        , 0.17057153, 0.2917614 , 0.41699315],\n",
       "       [0.        , 0.18625151, 0.52105467, 0.53650553],\n",
       "       [0.        , 0.36668933, 0.46071112, 0.48137499],\n",
       "       [0.        , 0.34617377, 0.38309791, 0.38641534],\n",
       "       [0.        , 0.36446795, 0.36960604, 0.46066524],\n",
       "       [0.        , 0.77416365, 1.13162832, 1.21155214],\n",
       "       [0.        , 1.58191192, 1.58782504, 1.63050406],\n",
       "       [0.        , 0.29429512, 0.60923017, 0.94284291],\n",
       "       [0.        , 0.9728024 , 1.12802474, 1.23233136],\n",
       "       [0.        , 0.78233334, 0.95777695, 1.03286957],\n",
       "       [0.        , 0.7222046 , 0.77445046, 0.8044837 ],\n",
       "       [0.        , 0.17213455, 0.30443071, 0.54980615],\n",
       "       [0.        , 1.10869192, 1.37947138, 1.39480352],\n",
       "       [0.        , 0.86486257, 1.11483585, 1.74127185],\n",
       "       [0.        , 2.28688181, 2.47563046, 2.6867476 ],\n",
       "       [0.        , 0.314036  , 0.42946954, 0.53003321],\n",
       "       [0.        , 0.07903771, 0.52475031, 0.63116234],\n",
       "       [0.        , 0.49554646, 0.74634531, 1.17018277],\n",
       "       [0.        , 0.30784691, 1.10869192, 1.2739506 ],\n",
       "       [0.        , 0.43612219, 0.51440176, 0.78233334],\n",
       "       [0.        , 0.77802789, 0.90490728, 1.28992251],\n",
       "       [0.        , 0.17213455, 0.19562293, 0.39112321],\n",
       "       [0.        , 0.30784691, 1.00943021, 1.18186107],\n",
       "       [0.        , 0.77445046, 1.37548283, 1.45958776],\n",
       "       [0.        , 0.49554646, 0.52464339, 0.67651589],\n",
       "       [0.        , 0.39112321, 0.45432619, 0.54980615],\n",
       "       [0.        , 0.68991904, 0.85508015, 1.39480352],\n",
       "       [0.        , 0.22576249, 0.51440176, 0.76983668],\n",
       "       [0.        , 0.29579654, 1.35813627, 1.42283736],\n",
       "       [0.        , 0.24213005, 0.53003321, 0.61227931],\n",
       "       [0.        , 0.41500203, 0.47469944, 0.69753384],\n",
       "       [0.        , 1.11483585, 1.61535584, 2.03662785],\n",
       "       [0.        , 0.23528467, 0.90490728, 1.07509231],\n",
       "       [0.        , 0.22576249, 0.43612219, 0.66526561],\n",
       "       [0.        , 0.18193277, 0.68991904, 0.78981604],\n",
       "       [0.        , 0.29429512, 0.32764301, 0.86397041],\n",
       "       [0.        , 0.07903771, 0.57061414, 0.57833157],\n",
       "       [0.        , 0.66526561, 0.76983668, 0.77416365],\n",
       "       [0.        , 0.52464339, 0.74634531, 0.87454264],\n",
       "       [0.        , 0.32764301, 0.56372755, 0.60923017],\n",
       "       [0.        , 0.23528467, 0.77802789, 1.24394711],\n",
       "       [0.        , 0.19562293, 0.30443071, 0.45432619],\n",
       "       [0.        , 0.29579654, 1.1723292 , 1.45755562],\n",
       "       [0.        , 0.68286419, 0.69753384, 0.82306007],\n",
       "       [0.        , 0.26883036, 0.3743435 , 0.69308687],\n",
       "       [0.        , 0.52475031, 0.57833157, 1.14879039],\n",
       "       [0.        , 0.18193277, 0.67651589, 0.85508015],\n",
       "       [0.        , 1.11652045, 2.00646779, 2.05995609],\n",
       "       [0.        , 1.11652045, 1.16931879, 1.25799393],\n",
       "       [0.        , 0.26883036, 0.43735816, 0.58795139],\n",
       "       [0.        , 0.14021932, 0.47469944, 0.56372755],\n",
       "       [0.        , 0.14021932, 0.41500203, 0.66749815],\n",
       "       [0.        , 0.9728024 , 1.70186558, 1.9486325 ],\n",
       "       [0.        , 0.24213005, 0.314036  , 0.40139444],\n",
       "       [0.        , 0.3743435 , 0.40139444, 0.42946954],\n",
       "       [0.        , 0.35617842, 0.60819673, 0.63699218],\n",
       "       [0.        , 0.50029244, 0.54032489, 0.69793153],\n",
       "       [0.        , 0.02598956, 0.55474259, 0.58624805],\n",
       "       [0.        , 0.26385043, 0.58624805, 0.60446393],\n",
       "       [0.        , 0.49365262, 0.54364712, 0.55474259],\n",
       "       [0.        , 0.26160242, 0.34864788, 0.43392659],\n",
       "       [0.        , 0.59462281, 0.59997611, 0.82769323],\n",
       "       [0.        , 1.01548349, 1.65138365, 1.81128593],\n",
       "       [0.        , 0.64998596, 0.75753895, 0.80854191],\n",
       "       [0.        , 0.68327834, 0.9461937 , 1.01548349],\n",
       "       [0.        , 0.34724214, 0.36145126, 0.383606  ],\n",
       "       [0.        , 0.23592063, 0.59997611, 0.62606033],\n",
       "       [0.        , 0.2964094 , 0.61153831, 0.7889597 ],\n",
       "       [0.        , 0.3877658 , 0.9461937 , 1.01719278],\n",
       "       [0.        , 0.383606  , 0.50943146, 0.62999165],\n",
       "       [0.        , 0.39991306, 0.77143319, 0.80390793],\n",
       "       [0.        , 0.23592063, 0.7210206 , 0.77405794],\n",
       "       [0.        , 0.42780463, 0.49565937, 0.62376445],\n",
       "       [0.        , 0.24783304, 0.56240755, 0.7889597 ],\n",
       "       [0.        , 0.17319414, 0.35041867, 0.43392659],\n",
       "       [0.        , 0.42780463, 0.72244573, 0.77271517],\n",
       "       [0.        , 0.49565937, 0.72244573, 1.07966419],\n",
       "       [0.        , 0.62376445, 0.85922388, 0.86894975],\n",
       "       [0.        , 0.94017467, 1.08834595, 1.26108959],\n",
       "       [0.        , 0.53688885, 0.74657466, 0.77143319],\n",
       "       [0.        , 0.24027338, 0.24840227, 0.32941734],\n",
       "       [0.        , 1.01719278, 1.02425832, 1.15390941],\n",
       "       [0.        , 0.35617842, 0.61792689, 0.81658797],\n",
       "       [0.        , 0.17319414, 0.26160242, 0.26456532],\n",
       "       [0.        , 1.3734915 , 1.6193265 , 1.71893171],\n",
       "       [0.        , 0.02598956, 0.54364712, 0.60446393],\n",
       "       [0.        , 0.26385043, 0.49365262, 0.66357873],\n",
       "       [0.        , 0.24783304, 0.34296409, 0.61153831],\n",
       "       [0.        , 0.26456532, 0.34864788, 0.35041867],\n",
       "       [0.        , 1.03855774, 1.0755592 , 1.18049375],\n",
       "       [0.        , 0.22122303, 0.483339  , 0.68870373],\n",
       "       [0.        , 0.90411816, 1.18049375, 2.07130302],\n",
       "       [0.        , 0.36145126, 0.47330882, 0.52112271],\n",
       "       [0.        , 0.90411816, 1.03855774, 1.43790624],\n",
       "       [0.        , 0.3877658 , 0.68327834, 1.15390941],\n",
       "       [0.        , 0.22122303, 0.34724214, 0.47330882],\n",
       "       [0.        , 0.53688885, 0.80390793, 1.08778881],\n",
       "       [0.        , 0.59462281, 0.62606033, 0.7210206 ],\n",
       "       [0.        , 0.39991306, 1.14213058, 1.19725329],\n",
       "       [0.        , 0.50943146, 0.52112271, 0.60689936],\n",
       "       [0.        , 0.93909439, 1.19518734, 1.33049755],\n",
       "       [0.        , 0.2964094 , 0.34296409, 0.56240755],\n",
       "       [0.        , 1.51014833, 1.77093693, 2.31021788],\n",
       "       [0.        , 0.02595181, 0.24027338, 0.52586068],\n",
       "       [0.        , 0.77271517, 1.05874747, 1.07296208]])"
      ]
     },
     "execution_count": 18,
     "metadata": {},
     "output_type": "execute_result"
    }
   ],
   "source": [
    "distances"
   ]
  },
  {
   "cell_type": "code",
   "execution_count": 19,
   "metadata": {},
   "outputs": [
    {
     "data": {
      "text/plain": [
       "array([[  0,  11,  30, 101],\n",
       "       [  1,  31,  13,  35],\n",
       "       [  2,  11,  47,   0],\n",
       "       [  3,  16, 148, 125],\n",
       "       [  4,  40,  36,   6],\n",
       "       [  5,  38,   7,  19],\n",
       "       [  6,  40,  26,   4],\n",
       "       [  7,  38,   5,  14],\n",
       "       [  8,  24,  29,  28],\n",
       "       [  9,  17,  32,  22],\n",
       "       [ 10,  28,  46,  24],\n",
       "       [ 11,   0,  30,   2],\n",
       "       [ 12, 125,  25,  16],\n",
       "       [ 13,  45,  36,  31],\n",
       "       [ 14,  42,   7,  35],\n",
       "       [ 15,  58,  20,  39],\n",
       "       [ 16, 148, 125,  12],\n",
       "       [ 17,   9,  49,  40],\n",
       "       [ 18,  27,  21,  47],\n",
       "       [ 19,  34,   5,  30],\n",
       "       [ 20,  39,  48,  43],\n",
       "       [ 21,  18,  30,  47],\n",
       "       [ 22,  33,  49,  17],\n",
       "       [ 23,  44,  41,  32],\n",
       "       [ 24,  28,  10,   8],\n",
       "       [ 25, 125,  48,  12],\n",
       "       [ 26,   6,   4,  40],\n",
       "       [ 27,  46,  47,  18],\n",
       "       [ 28,  10,  24,  29],\n",
       "       [ 29,  32,  41,   9],\n",
       "       [ 30,   0,  11,  21],\n",
       "       [ 31,   1,  35,  13],\n",
       "       [ 32,  41,  29,   9],\n",
       "       [ 33,  49,  22,  38],\n",
       "       [ 34,  19,   5,  30],\n",
       "       [ 35,  49,  31,  14],\n",
       "       [ 36,  45,   4,  13],\n",
       "       [ 37, 101,   0,  11],\n",
       "       [ 38,   5,   7,  33],\n",
       "       [ 39,  20,  48,  43],\n",
       "       [ 40,   4,   6,  36],\n",
       "       [ 41,  32,  29,  44],\n",
       "       [ 42,  14,  43,   7],\n",
       "       [ 43,  48,  39,  42],\n",
       "       [ 44,  23,  41,  32],\n",
       "       [ 45,  36,  13,   4],\n",
       "       [ 46,  27,  18,  47],\n",
       "       [ 47,  27,  21,  18],\n",
       "       [ 48,  39,  43,  25],\n",
       "       [ 49,  33,  22,  35],\n",
       "       [ 50,  82,  78,  54],\n",
       "       [ 51,  63,  73,  67],\n",
       "       [ 52,  80,  84,  61],\n",
       "       [ 53,  97,  88,  96],\n",
       "       [ 54,  64,  88,  78],\n",
       "       [ 55,  94,  68,  89],\n",
       "       [ 56,  66,  86,  70],\n",
       "       [ 57,  63,  67,  71],\n",
       "       [ 58,  15,  76,   1],\n",
       "       [ 59,  62,  83,  69],\n",
       "       [ 60,  98,  99,  74],\n",
       "       [ 61,  81,  90,  95],\n",
       "       [ 62,  69,  83,  91],\n",
       "       [ 63,  67,  57,  82],\n",
       "       [ 64,  78,  72,  54],\n",
       "       [ 65,  85,  77,  70],\n",
       "       [ 66,  56,  86,  70],\n",
       "       [ 67,  63,  82,  72],\n",
       "       [ 68,  55,  56,  89],\n",
       "       [ 69,  62,  83,  91],\n",
       "       [ 70,  66,  86,  56],\n",
       "       [ 71,  79,  91,  57],\n",
       "       [ 72,  78,  64,  82],\n",
       "       [ 73,  87,  72,  75],\n",
       "       [ 74,  98,  60,  99],\n",
       "       [ 75,  96,  95,  88],\n",
       "       [ 76,  58,  15, 134],\n",
       "       [ 77,  85,  65,  70],\n",
       "       [ 78,  72,  64,  82],\n",
       "       [ 79,  91,  71,  69],\n",
       "       [ 80,  52,  84,  61],\n",
       "       [ 81,  61,  95,  90],\n",
       "       [ 82,  78,  72,  50],\n",
       "       [ 83,  69,  62,  91],\n",
       "       [ 84,  80,  95,  52],\n",
       "       [ 85,  77,  65,  70],\n",
       "       [ 86,  66,  56,  70],\n",
       "       [ 87,  73,  75,  72],\n",
       "       [ 88,  96,  75,  95],\n",
       "       [ 89,  94,  99,  98],\n",
       "       [ 90,  61,  81,  95],\n",
       "       [ 91,  79,  69,  71],\n",
       "       [ 92,  93,  99,  60],\n",
       "       [ 93,  92,  89,  99],\n",
       "       [ 94,  89,  99,  98],\n",
       "       [ 95,  96,  75,  84],\n",
       "       [ 96,  95,  75,  84],\n",
       "       [ 97,  53,  54,  88],\n",
       "       [ 98,  74,  60,  99],\n",
       "       [ 99,  89,  98,  60],\n",
       "       [100, 127, 133, 119],\n",
       "       [101,  37,   0,  11],\n",
       "       [102, 130, 104, 103],\n",
       "       [103, 131, 102, 130],\n",
       "       [104, 131, 130, 102],\n",
       "       [105, 128, 133, 119],\n",
       "       [106, 142, 111, 116],\n",
       "       [107, 109, 139, 126],\n",
       "       [108, 132, 146, 118],\n",
       "       [109, 139, 113, 107],\n",
       "       [110, 140, 137, 114],\n",
       "       [111, 116, 106, 142],\n",
       "       [112, 146, 132, 118],\n",
       "       [113, 139, 109, 126],\n",
       "       [114, 110, 144, 137],\n",
       "       [115, 143, 124, 141],\n",
       "       [116, 111, 142, 131],\n",
       "       [117, 120, 121, 122],\n",
       "       [118, 132, 146, 112],\n",
       "       [119, 128, 133, 105],\n",
       "       [120, 117, 121, 149],\n",
       "       [121, 117, 120, 122],\n",
       "       [122, 117, 120, 119],\n",
       "       [123, 100, 119, 128],\n",
       "       [124, 141, 144, 115],\n",
       "       [125, 148,  16,  12],\n",
       "       [126, 113, 109, 139],\n",
       "       [127, 100, 133, 119],\n",
       "       [128, 119, 105, 133],\n",
       "       [129, 149, 104, 130],\n",
       "       [130, 102, 104, 103],\n",
       "       [131, 103, 104, 102],\n",
       "       [132, 118, 146, 112],\n",
       "       [133, 128, 105, 119],\n",
       "       [134, 138, 118, 136],\n",
       "       [135, 140, 110, 137],\n",
       "       [136, 138, 134, 118],\n",
       "       [137, 110, 140, 144],\n",
       "       [138, 136, 134, 118],\n",
       "       [139, 113, 109, 126],\n",
       "       [140, 135, 110, 137],\n",
       "       [141, 124, 115, 137],\n",
       "       [142, 106, 111, 116],\n",
       "       [143, 115, 124, 141],\n",
       "       [144, 114, 137, 110],\n",
       "       [145, 114, 110, 135],\n",
       "       [146, 112, 132, 118],\n",
       "       [147, 143, 115, 141],\n",
       "       [148,  16, 125,  12],\n",
       "       [149, 120, 130, 102]], dtype=int64)"
      ]
     },
     "execution_count": 19,
     "metadata": {},
     "output_type": "execute_result"
    }
   ],
   "source": [
    "indices"
   ]
  },
  {
   "cell_type": "code",
   "execution_count": 21,
   "metadata": {},
   "outputs": [
    {
     "data": {
      "text/plain": [
       "array([[0.23301385, 0.37271891, 0.54032489],\n",
       "       [0.1827288 , 0.62893407, 0.70014948],\n",
       "       [0.59482631, 0.66643478, 0.82759587],\n",
       "       [0.70896987, 0.7185717 , 0.95736816],\n",
       "       [0.17819289, 0.25273188, 0.32053012],\n",
       "       [0.27729463, 0.41296111, 0.42825092],\n",
       "       [0.24138058, 0.29832672, 0.32053012],\n",
       "       [0.3109854 , 0.41296111, 0.52443981],\n",
       "       [1.22826824, 1.32403708, 1.38432326],\n",
       "       [0.56503718, 0.58996167, 0.77541016],\n",
       "       [0.30543396, 0.6382747 , 0.7854183 ],\n",
       "       [0.23301385, 0.41442152, 0.59482631],\n",
       "       [0.32941734, 0.40304696, 0.5213671 ],\n",
       "       [0.2917614 , 0.41827367, 0.60161457],\n",
       "       [0.2841804 , 0.52443981, 0.60927674],\n",
       "       [0.86486257, 1.20378185, 1.32701248],\n",
       "       [0.02595181, 0.24840227, 0.5213671 ],\n",
       "       [0.56503718, 0.58533645, 0.61065683],\n",
       "       [0.38203706, 0.4100328 , 0.48137499],\n",
       "       [0.3296731 , 0.42825092, 0.52227744],\n",
       "       [0.12588155, 0.45890474, 0.52027958],\n",
       "       [0.4100328 , 0.44118495, 0.46071112],\n",
       "       [0.36723792, 0.36960604, 0.6106986 ],\n",
       "       [0.39359437, 0.83097104, 1.05178222],\n",
       "       [0.49120942, 0.7854183 , 1.22826824],\n",
       "       [0.34721384, 0.38641534, 0.40304696],\n",
       "       [0.29832672, 0.48268675, 0.50053067],\n",
       "       [0.18625151, 0.36668933, 0.38203706],\n",
       "       [0.30543396, 0.49120942, 0.91424889],\n",
       "       [0.27361249, 0.30986308, 0.84168389],\n",
       "       [0.37271891, 0.41442152, 0.44118495],\n",
       "       [0.1827288 , 0.5185575 , 0.60161457],\n",
       "       [0.24365345, 0.27361249, 0.58996167],\n",
       "       [0.36446795, 0.36723792, 0.46144793],\n",
       "       [0.3296731 , 0.59696316, 0.73181757],\n",
       "       [0.46066524, 0.5185575 , 0.60927674],\n",
       "       [0.17057153, 0.25273188, 0.41827367],\n",
       "       [0.50029244, 1.03833505, 1.19504202],\n",
       "       [0.27729463, 0.3109854 , 0.46144793],\n",
       "       [0.12588155, 0.34617377, 0.40722382],\n",
       "       [0.17819289, 0.24138058, 0.41879817],\n",
       "       [0.24365345, 0.30986308, 0.77129178],\n",
       "       [0.2841804 , 0.43647372, 0.66424217],\n",
       "       [0.38309791, 0.40722382, 0.43647372],\n",
       "       [0.39359437, 0.77129178, 0.92835177],\n",
       "       [0.17057153, 0.2917614 , 0.41699315],\n",
       "       [0.18625151, 0.52105467, 0.53650553],\n",
       "       [0.36668933, 0.46071112, 0.48137499],\n",
       "       [0.34617377, 0.38309791, 0.38641534],\n",
       "       [0.36446795, 0.36960604, 0.46066524],\n",
       "       [0.77416365, 1.13162832, 1.21155214],\n",
       "       [1.58191192, 1.58782504, 1.63050406],\n",
       "       [0.29429512, 0.60923017, 0.94284291],\n",
       "       [0.9728024 , 1.12802474, 1.23233136],\n",
       "       [0.78233334, 0.95777695, 1.03286957],\n",
       "       [0.7222046 , 0.77445046, 0.8044837 ],\n",
       "       [0.17213455, 0.30443071, 0.54980615],\n",
       "       [1.10869192, 1.37947138, 1.39480352],\n",
       "       [0.86486257, 1.11483585, 1.74127185],\n",
       "       [2.28688181, 2.47563046, 2.6867476 ],\n",
       "       [0.314036  , 0.42946954, 0.53003321],\n",
       "       [0.07903771, 0.52475031, 0.63116234],\n",
       "       [0.49554646, 0.74634531, 1.17018277],\n",
       "       [0.30784691, 1.10869192, 1.2739506 ],\n",
       "       [0.43612219, 0.51440176, 0.78233334],\n",
       "       [0.77802789, 0.90490728, 1.28992251],\n",
       "       [0.17213455, 0.19562293, 0.39112321],\n",
       "       [0.30784691, 1.00943021, 1.18186107],\n",
       "       [0.77445046, 1.37548283, 1.45958776],\n",
       "       [0.49554646, 0.52464339, 0.67651589],\n",
       "       [0.39112321, 0.45432619, 0.54980615],\n",
       "       [0.68991904, 0.85508015, 1.39480352],\n",
       "       [0.22576249, 0.51440176, 0.76983668],\n",
       "       [0.29579654, 1.35813627, 1.42283736],\n",
       "       [0.24213005, 0.53003321, 0.61227931],\n",
       "       [0.41500203, 0.47469944, 0.69753384],\n",
       "       [1.11483585, 1.61535584, 2.03662785],\n",
       "       [0.23528467, 0.90490728, 1.07509231],\n",
       "       [0.22576249, 0.43612219, 0.66526561],\n",
       "       [0.18193277, 0.68991904, 0.78981604],\n",
       "       [0.29429512, 0.32764301, 0.86397041],\n",
       "       [0.07903771, 0.57061414, 0.57833157],\n",
       "       [0.66526561, 0.76983668, 0.77416365],\n",
       "       [0.52464339, 0.74634531, 0.87454264],\n",
       "       [0.32764301, 0.56372755, 0.60923017],\n",
       "       [0.23528467, 0.77802789, 1.24394711],\n",
       "       [0.19562293, 0.30443071, 0.45432619],\n",
       "       [0.29579654, 1.1723292 , 1.45755562],\n",
       "       [0.68286419, 0.69753384, 0.82306007],\n",
       "       [0.26883036, 0.3743435 , 0.69308687],\n",
       "       [0.52475031, 0.57833157, 1.14879039],\n",
       "       [0.18193277, 0.67651589, 0.85508015],\n",
       "       [1.11652045, 2.00646779, 2.05995609],\n",
       "       [1.11652045, 1.16931879, 1.25799393],\n",
       "       [0.26883036, 0.43735816, 0.58795139],\n",
       "       [0.14021932, 0.47469944, 0.56372755],\n",
       "       [0.14021932, 0.41500203, 0.66749815],\n",
       "       [0.9728024 , 1.70186558, 1.9486325 ],\n",
       "       [0.24213005, 0.314036  , 0.40139444],\n",
       "       [0.3743435 , 0.40139444, 0.42946954],\n",
       "       [0.35617842, 0.60819673, 0.63699218],\n",
       "       [0.50029244, 0.54032489, 0.69793153],\n",
       "       [0.02598956, 0.55474259, 0.58624805],\n",
       "       [0.26385043, 0.58624805, 0.60446393],\n",
       "       [0.49365262, 0.54364712, 0.55474259],\n",
       "       [0.26160242, 0.34864788, 0.43392659],\n",
       "       [0.59462281, 0.59997611, 0.82769323],\n",
       "       [1.01548349, 1.65138365, 1.81128593],\n",
       "       [0.64998596, 0.75753895, 0.80854191],\n",
       "       [0.68327834, 0.9461937 , 1.01548349],\n",
       "       [0.34724214, 0.36145126, 0.383606  ],\n",
       "       [0.23592063, 0.59997611, 0.62606033],\n",
       "       [0.2964094 , 0.61153831, 0.7889597 ],\n",
       "       [0.3877658 , 0.9461937 , 1.01719278],\n",
       "       [0.383606  , 0.50943146, 0.62999165],\n",
       "       [0.39991306, 0.77143319, 0.80390793],\n",
       "       [0.23592063, 0.7210206 , 0.77405794],\n",
       "       [0.42780463, 0.49565937, 0.62376445],\n",
       "       [0.24783304, 0.56240755, 0.7889597 ],\n",
       "       [0.17319414, 0.35041867, 0.43392659],\n",
       "       [0.42780463, 0.72244573, 0.77271517],\n",
       "       [0.49565937, 0.72244573, 1.07966419],\n",
       "       [0.62376445, 0.85922388, 0.86894975],\n",
       "       [0.94017467, 1.08834595, 1.26108959],\n",
       "       [0.53688885, 0.74657466, 0.77143319],\n",
       "       [0.24027338, 0.24840227, 0.32941734],\n",
       "       [1.01719278, 1.02425832, 1.15390941],\n",
       "       [0.35617842, 0.61792689, 0.81658797],\n",
       "       [0.17319414, 0.26160242, 0.26456532],\n",
       "       [1.3734915 , 1.6193265 , 1.71893171],\n",
       "       [0.02598956, 0.54364712, 0.60446393],\n",
       "       [0.26385043, 0.49365262, 0.66357873],\n",
       "       [0.24783304, 0.34296409, 0.61153831],\n",
       "       [0.26456532, 0.34864788, 0.35041867],\n",
       "       [1.03855774, 1.0755592 , 1.18049375],\n",
       "       [0.22122303, 0.483339  , 0.68870373],\n",
       "       [0.90411816, 1.18049375, 2.07130302],\n",
       "       [0.36145126, 0.47330882, 0.52112271],\n",
       "       [0.90411816, 1.03855774, 1.43790624],\n",
       "       [0.3877658 , 0.68327834, 1.15390941],\n",
       "       [0.22122303, 0.34724214, 0.47330882],\n",
       "       [0.53688885, 0.80390793, 1.08778881],\n",
       "       [0.59462281, 0.62606033, 0.7210206 ],\n",
       "       [0.39991306, 1.14213058, 1.19725329],\n",
       "       [0.50943146, 0.52112271, 0.60689936],\n",
       "       [0.93909439, 1.19518734, 1.33049755],\n",
       "       [0.2964094 , 0.34296409, 0.56240755],\n",
       "       [1.51014833, 1.77093693, 2.31021788],\n",
       "       [0.02595181, 0.24027338, 0.52586068],\n",
       "       [0.77271517, 1.05874747, 1.07296208]])"
      ]
     },
     "execution_count": 21,
     "metadata": {},
     "output_type": "execute_result"
    }
   ],
   "source": [
    "distances = distances[:,1:]\n",
    "distances"
   ]
  },
  {
   "cell_type": "code",
   "execution_count": 23,
   "metadata": {},
   "outputs": [
    {
     "data": {
      "text/plain": [
       "array([0.38201922, 0.50393745, 0.69628566, 0.79496991, 0.25048496,\n",
       "       0.37283555, 0.28674581, 0.41612877, 1.31220953, 0.64346967,\n",
       "       0.57637565, 0.41408723, 0.4179438 , 0.43721654, 0.47263232,\n",
       "       1.13188563, 0.26524039, 0.58701015, 0.42448162, 0.42673382,\n",
       "       0.36835529, 0.43730963, 0.44918085, 0.75878255, 0.83496532,\n",
       "       0.37889205, 0.42718138, 0.3116593 , 0.57029742, 0.47505315,\n",
       "       0.40944179, 0.43430029, 0.36907587, 0.39771793, 0.55281795,\n",
       "       0.52949983, 0.28052569, 0.91122317, 0.34990932, 0.29309305,\n",
       "       0.27945722, 0.44160277, 0.4616321 , 0.40893182, 0.69774598,\n",
       "       0.29310869, 0.4146039 , 0.43625848, 0.37189567, 0.39824641,\n",
       "       1.0391147 , 1.60008034, 0.61545607, 1.11105283, 0.92432662,\n",
       "       0.76704625, 0.3421238 , 1.29432228, 1.24032342, 2.48308663,\n",
       "       0.42451292, 0.41165012, 0.80402485, 0.89682981, 0.5776191 ,\n",
       "       0.99095256, 0.25296023, 0.83304606, 1.20317368, 0.56556858,\n",
       "       0.46508518, 0.97993424, 0.50333364, 1.02559005, 0.46148086,\n",
       "       0.52907844, 1.58893985, 0.73842809, 0.44238343, 0.55388928,\n",
       "       0.49530285, 0.4093278 , 0.73642198, 0.71517712, 0.50020025,\n",
       "       0.75241989, 0.31812661, 0.97522712, 0.73448604, 0.44542025,\n",
       "       0.75062409, 0.57117627, 1.72764811, 1.18127773, 0.43137997,\n",
       "       0.39288211, 0.40757317, 1.54110016, 0.31918683, 0.40173583,\n",
       "       0.53378911, 0.57951628, 0.3889934 , 0.48485414, 0.53068078,\n",
       "       0.34805896, 0.67409738, 1.49271769, 0.73868894, 0.88165184,\n",
       "       0.3640998 , 0.48731903, 0.5656358 , 0.78371743, 0.50767637,\n",
       "       0.65841806, 0.57699972, 0.51574282, 0.53306676, 0.3191798 ,\n",
       "       0.64098851, 0.7659231 , 0.78397936, 1.09653674, 0.68496557,\n",
       "       0.27269766, 1.06512017, 0.59689776, 0.23312063, 1.57058323,\n",
       "       0.39136687, 0.47369393, 0.40077848, 0.32121062, 1.09820356,\n",
       "       0.46442192, 1.38530498, 0.45196093, 1.12686072, 0.74165118,\n",
       "       0.347258  , 0.80952853, 0.64723458, 0.91309898, 0.54581784,\n",
       "       1.15492643, 0.40059368, 1.86376772, 0.26402862, 0.96814157])"
      ]
     },
     "execution_count": 23,
     "metadata": {},
     "output_type": "execute_result"
    }
   ],
   "source": [
    "avg_distances = np.mean(distances, axis=1)\n",
    "avg_distances"
   ]
  },
  {
   "cell_type": "code",
   "execution_count": 25,
   "metadata": {},
   "outputs": [
    {
     "data": {
      "text/plain": [
       "array([0.23312063, 0.25048496, 0.25296023, 0.26402862, 0.26524039,\n",
       "       0.27269766, 0.27945722, 0.28052569, 0.28674581, 0.29309305,\n",
       "       0.29310869, 0.3116593 , 0.31812661, 0.3191798 , 0.31918683,\n",
       "       0.32121062, 0.3421238 , 0.347258  , 0.34805896, 0.34990932,\n",
       "       0.3640998 , 0.36835529, 0.36907587, 0.37189567, 0.37283555,\n",
       "       0.37889205, 0.38201922, 0.3889934 , 0.39136687, 0.39288211,\n",
       "       0.39771793, 0.39824641, 0.40059368, 0.40077848, 0.40173583,\n",
       "       0.40757317, 0.40893182, 0.4093278 , 0.40944179, 0.41165012,\n",
       "       0.41408723, 0.4146039 , 0.41612877, 0.4179438 , 0.42448162,\n",
       "       0.42451292, 0.42673382, 0.42718138, 0.43137997, 0.43430029,\n",
       "       0.43625848, 0.43721654, 0.43730963, 0.44160277, 0.44238343,\n",
       "       0.44542025, 0.44918085, 0.45196093, 0.46148086, 0.4616321 ,\n",
       "       0.46442192, 0.46508518, 0.47263232, 0.47369393, 0.47505315,\n",
       "       0.48485414, 0.48731903, 0.49530285, 0.50020025, 0.50333364,\n",
       "       0.50393745, 0.50767637, 0.51574282, 0.52907844, 0.52949983,\n",
       "       0.53068078, 0.53306676, 0.53378911, 0.54581784, 0.55281795,\n",
       "       0.55388928, 0.56556858, 0.5656358 , 0.57029742, 0.57117627,\n",
       "       0.57637565, 0.57699972, 0.5776191 , 0.57951628, 0.58701015,\n",
       "       0.59689776, 0.61545607, 0.64098851, 0.64346967, 0.64723458,\n",
       "       0.65841806, 0.67409738, 0.68496557, 0.69628566, 0.69774598,\n",
       "       0.71517712, 0.73448604, 0.73642198, 0.73842809, 0.73868894,\n",
       "       0.74165118, 0.75062409, 0.75241989, 0.75878255, 0.7659231 ,\n",
       "       0.76704625, 0.78371743, 0.78397936, 0.79496991, 0.80402485,\n",
       "       0.80952853, 0.83304606, 0.83496532, 0.88165184, 0.89682981,\n",
       "       0.91122317, 0.91309898, 0.92432662, 0.96814157, 0.97522712,\n",
       "       0.97993424, 0.99095256, 1.02559005, 1.0391147 , 1.06512017,\n",
       "       1.09653674, 1.09820356, 1.11105283, 1.12686072, 1.13188563,\n",
       "       1.15492643, 1.18127773, 1.20317368, 1.24032342, 1.29432228,\n",
       "       1.31220953, 1.38530498, 1.49271769, 1.54110016, 1.57058323,\n",
       "       1.58893985, 1.60008034, 1.72764811, 1.86376772, 2.48308663])"
      ]
     },
     "execution_count": 25,
     "metadata": {},
     "output_type": "execute_result"
    }
   ],
   "source": [
    "sorted_avg_distances = np.sort(avg_distances)\n",
    "sorted_avg_distances"
   ]
  },
  {
   "cell_type": "code",
   "execution_count": 26,
   "metadata": {},
   "outputs": [
    {
     "data": {
      "text/plain": [
       "[<matplotlib.lines.Line2D at 0x26d6a048df0>]"
      ]
     },
     "execution_count": 26,
     "metadata": {},
     "output_type": "execute_result"
    },
    {
     "data": {
      "image/png": "[encoded data removed]",
      "text/plain": [
       "<Figure size 432x288 with 1 Axes>"
      ]
     },
     "metadata": {
      "needs_background": "light"
     },
     "output_type": "display_data"
    }
   ],
   "source": [
    "plt.plot(sorted_avg_distances)"
   ]
  },
  {
   "cell_type": "code",
   "execution_count": 32,
   "metadata": {},
   "outputs": [
    {
     "data": {
      "image/png": "[encoded data removed]",
      "text/plain": [
       "<Figure size 432x288 with 1 Axes>"
      ]
     },
     "metadata": {
      "needs_background": "light"
     },
     "output_type": "display_data"
    }
   ],
   "source": [
    "model = DBSCAN(eps=1.4, min_samples=4)\n",
    "labels = model.fit_predict(points)\n",
    "plt.scatter(points[:,0],points[:,1],c=labels+1)\n",
    "plt.show()"
   ]
  },
  {
   "cell_type": "code",
   "execution_count": null,
   "metadata": {},
   "outputs": [],
   "source": []
  },
  {
   "cell_type": "code",
   "execution_count": null,
   "metadata": {},
   "outputs": [],
   "source": []
  },
  {
   "cell_type": "code",
   "execution_count": 33,
   "metadata": {},
   "outputs": [
    {
     "data": {
      "image/png": "[encoded data removed]",
      "text/plain": [
       "<Figure size 432x288 with 1 Axes>"
      ]
     },
     "metadata": {
      "needs_background": "light"
     },
     "output_type": "display_data"
    }
   ],
   "source": [
    "rnd.seed(12345)\n",
    "data = np.concatenate([rnd.multivariate_normal((0,0),np.array([[1,0],[0,1]]),100),\n",
    "                    rnd.multivariate_normal((5,0),np.array([[1,0],[0,1]]),20),\n",
    "                    rnd.multivariate_normal((10,0),np.array([[1,0],[0,1]]),100)],axis=0)\n",
    "plt.scatter(data[:,0],data[:,1])\n",
    "plt.show()"
   ]
  },
  {
   "cell_type": "markdown",
   "metadata": {},
   "source": [
    "Spróbuj tak dobrać parametry, żeby wykryć 2 grupy (bardziej zwarte części z rysunku)"
   ]
  },
  {
   "cell_type": "code",
   "execution_count": 34,
   "metadata": {},
   "outputs": [
    {
     "data": {
      "image/png": "[encoded data removed]",
      "text/plain": [
       "<Figure size 432x288 with 1 Axes>"
      ]
     },
     "metadata": {
      "needs_background": "light"
     },
     "output_type": "display_data"
    }
   ],
   "source": [
    "model = DBSCAN(eps=1, min_samples=9)\n",
    "labels = model.fit_predict(data)\n",
    "plt.scatter(data[:,0],data[:,1],c=labels+1)\n",
    "plt.show()"
   ]
  },
  {
   "cell_type": "code",
   "execution_count": null,
   "metadata": {},
   "outputs": [],
   "source": [
    "# rekomendowane parametry"
   ]
  },
  {
   "cell_type": "code",
   "execution_count": 37,
   "metadata": {},
   "outputs": [
    {
     "data": {
      "text/plain": [
       "[<matplotlib.lines.Line2D at 0x26d6a0092b0>]"
      ]
     },
     "execution_count": 37,
     "metadata": {},
     "output_type": "execute_result"
    },
    {
     "data": {
      "image/png": "[encoded data removed]",
      "text/plain": [
       "<Figure size 432x288 with 1 Axes>"
      ]
     },
     "metadata": {
      "needs_background": "light"
     },
     "output_type": "display_data"
    }
   ],
   "source": [
    "neigh = NearestNeighbors(n_neighbors=4)\n",
    "neigh.fit(data)\n",
    "distances, indices = neigh.kneighbors(data)\n",
    "distances = distances[:,1:]\n",
    "avg_distances = np.mean(distances, axis=1)\n",
    "sorted_avg_distances = np.sort(avg_distances)\n",
    "plt.plot(sorted_avg_distances)"
   ]
  },
  {
   "cell_type": "code",
   "execution_count": null,
   "metadata": {},
   "outputs": [],
   "source": []
  },
  {
   "cell_type": "code",
   "execution_count": 39,
   "metadata": {},
   "outputs": [
    {
     "data": {
      "image/png": "[encoded data removed]",
      "text/plain": [
       "<Figure size 432x288 with 1 Axes>"
      ]
     },
     "metadata": {
      "needs_background": "light"
     },
     "output_type": "display_data"
    }
   ],
   "source": [
    "model = DBSCAN(eps=1.1, min_samples=4)\n",
    "labels = model.fit_predict(data)\n",
    "plt.scatter(data[:,0],data[:,1],c=labels+1)\n",
    "plt.show()"
   ]
  },
  {
   "cell_type": "code",
   "execution_count": null,
   "metadata": {},
   "outputs": [],
   "source": []
  },
  {
   "cell_type": "markdown",
   "metadata": {},
   "source": [
    "### Analiza skupień na danych przestrzennych"
   ]
  },
  {
   "cell_type": "code",
   "execution_count": 40,
   "metadata": {},
   "outputs": [
    {
     "data": {
      "text/html": [
       "<div>\n",
       "<style scoped>\n",
       "    .dataframe tbody tr th:only-of-type {\n",
       "        vertical-align: middle;\n",
       "    }\n",
       "\n",
       "    .dataframe tbody tr th {\n",
       "        vertical-align: top;\n",
       "    }\n",
       "\n",
       "    .dataframe thead th {\n",
       "        text-align: right;\n",
       "    }\n",
       "</style>\n",
       "<table border=\"1\" class=\"dataframe\">\n",
       "  <thead>\n",
       "    <tr style=\"text-align: right;\">\n",
       "      <th></th>\n",
       "      <th>lat</th>\n",
       "      <th>lon</th>\n",
       "      <th>date</th>\n",
       "    </tr>\n",
       "  </thead>\n",
       "  <tbody>\n",
       "    <tr>\n",
       "      <th>0</th>\n",
       "      <td>51.481292</td>\n",
       "      <td>-0.451011</td>\n",
       "      <td>05/14/2014 09:07</td>\n",
       "    </tr>\n",
       "    <tr>\n",
       "      <th>1</th>\n",
       "      <td>51.474005</td>\n",
       "      <td>-0.450999</td>\n",
       "      <td>05/14/2014 09:22</td>\n",
       "    </tr>\n",
       "    <tr>\n",
       "      <th>2</th>\n",
       "      <td>51.478199</td>\n",
       "      <td>-0.446081</td>\n",
       "      <td>05/14/2014 10:51</td>\n",
       "    </tr>\n",
       "    <tr>\n",
       "      <th>3</th>\n",
       "      <td>51.478199</td>\n",
       "      <td>-0.446081</td>\n",
       "      <td>05/14/2014 11:24</td>\n",
       "    </tr>\n",
       "    <tr>\n",
       "      <th>4</th>\n",
       "      <td>51.474146</td>\n",
       "      <td>-0.451562</td>\n",
       "      <td>05/14/2014 11:38</td>\n",
       "    </tr>\n",
       "  </tbody>\n",
       "</table>\n",
       "</div>"
      ],
      "text/plain": [
       "         lat       lon              date\n",
       "0  51.481292 -0.451011  05/14/2014 09:07\n",
       "1  51.474005 -0.450999  05/14/2014 09:22\n",
       "2  51.478199 -0.446081  05/14/2014 10:51\n",
       "3  51.478199 -0.446081  05/14/2014 11:24\n",
       "4  51.474146 -0.451562  05/14/2014 11:38"
      ]
     },
     "execution_count": 40,
     "metadata": {},
     "output_type": "execute_result"
    }
   ],
   "source": [
    "import pandas as pd\n",
    "\n",
    "dane = pd.read_csv(\"Data/summer-travel-gps-full_okrojone.csv\")\n",
    "dane.head()"
   ]
  },
  {
   "cell_type": "code",
   "execution_count": 41,
   "metadata": {},
   "outputs": [
    {
     "data": {
      "image/png": "[encoded data removed]",
      "text/plain": [
       "<Figure size 432x288 with 1 Axes>"
      ]
     },
     "metadata": {
      "needs_background": "light"
     },
     "output_type": "display_data"
    }
   ],
   "source": [
    "plt.scatter(dane.iloc[:,1],dane.iloc[:,0])\n",
    "plt.show()"
   ]
  },
  {
   "cell_type": "markdown",
   "metadata": {},
   "source": [
    "#### Zadanie: wykrycie istotnych punktów podróży (w uproszczeniu miejsc, gdzie przebywaliśmy dłużej)\n",
    "\n",
    "Zwizualizować wyniki.\n",
    "\n",
    "Ściągnąć współrzedne miast europejskich z http://www.clearlyandsimply.com/clearly_and_simply/2010/10/geocoding-databases-for-europe.html i przyporządkować miasta do punktów."
   ]
  },
  {
   "cell_type": "code",
   "execution_count": 42,
   "metadata": {},
   "outputs": [
    {
     "data": {
      "text/plain": [
       "(1759, 3)"
      ]
     },
     "execution_count": 42,
     "metadata": {},
     "output_type": "execute_result"
    }
   ],
   "source": [
    "dane.shape"
   ]
  },
  {
   "cell_type": "code",
   "execution_count": 43,
   "metadata": {},
   "outputs": [
    {
     "data": {
      "text/html": [
       "<div>\n",
       "<style scoped>\n",
       "    .dataframe tbody tr th:only-of-type {\n",
       "        vertical-align: middle;\n",
       "    }\n",
       "\n",
       "    .dataframe tbody tr th {\n",
       "        vertical-align: top;\n",
       "    }\n",
       "\n",
       "    .dataframe thead th {\n",
       "        text-align: right;\n",
       "    }\n",
       "</style>\n",
       "<table border=\"1\" class=\"dataframe\">\n",
       "  <thead>\n",
       "    <tr style=\"text-align: right;\">\n",
       "      <th></th>\n",
       "      <th>lat</th>\n",
       "      <th>lon</th>\n",
       "    </tr>\n",
       "  </thead>\n",
       "  <tbody>\n",
       "    <tr>\n",
       "      <th>0</th>\n",
       "      <td>51.481292</td>\n",
       "      <td>-0.451011</td>\n",
       "    </tr>\n",
       "    <tr>\n",
       "      <th>1</th>\n",
       "      <td>51.474005</td>\n",
       "      <td>-0.450999</td>\n",
       "    </tr>\n",
       "    <tr>\n",
       "      <th>2</th>\n",
       "      <td>51.478199</td>\n",
       "      <td>-0.446081</td>\n",
       "    </tr>\n",
       "    <tr>\n",
       "      <th>3</th>\n",
       "      <td>51.478199</td>\n",
       "      <td>-0.446081</td>\n",
       "    </tr>\n",
       "    <tr>\n",
       "      <th>4</th>\n",
       "      <td>51.474146</td>\n",
       "      <td>-0.451562</td>\n",
       "    </tr>\n",
       "    <tr>\n",
       "      <th>...</th>\n",
       "      <td>...</td>\n",
       "      <td>...</td>\n",
       "    </tr>\n",
       "    <tr>\n",
       "      <th>1754</th>\n",
       "      <td>48.356013</td>\n",
       "      <td>11.791710</td>\n",
       "    </tr>\n",
       "    <tr>\n",
       "      <th>1755</th>\n",
       "      <td>48.356528</td>\n",
       "      <td>11.792183</td>\n",
       "    </tr>\n",
       "    <tr>\n",
       "      <th>1756</th>\n",
       "      <td>48.356285</td>\n",
       "      <td>11.791710</td>\n",
       "    </tr>\n",
       "    <tr>\n",
       "      <th>1757</th>\n",
       "      <td>48.355328</td>\n",
       "      <td>11.791710</td>\n",
       "    </tr>\n",
       "    <tr>\n",
       "      <th>1758</th>\n",
       "      <td>48.357110</td>\n",
       "      <td>11.791346</td>\n",
       "    </tr>\n",
       "  </tbody>\n",
       "</table>\n",
       "<p>1759 rows × 2 columns</p>\n",
       "</div>"
      ],
      "text/plain": [
       "            lat        lon\n",
       "0     51.481292  -0.451011\n",
       "1     51.474005  -0.450999\n",
       "2     51.478199  -0.446081\n",
       "3     51.478199  -0.446081\n",
       "4     51.474146  -0.451562\n",
       "...         ...        ...\n",
       "1754  48.356013  11.791710\n",
       "1755  48.356528  11.792183\n",
       "1756  48.356285  11.791710\n",
       "1757  48.355328  11.791710\n",
       "1758  48.357110  11.791346\n",
       "\n",
       "[1759 rows x 2 columns]"
      ]
     },
     "execution_count": 43,
     "metadata": {},
     "output_type": "execute_result"
    }
   ],
   "source": [
    "X = dane[['lat','lon']]\n",
    "X"
   ]
  },
  {
   "cell_type": "code",
   "execution_count": 45,
   "metadata": {},
   "outputs": [
    {
     "data": {
      "image/png": "[encoded data removed]",
      "text/plain": [
       "<Figure size 2160x1440 with 1 Axes>"
      ]
     },
     "metadata": {
      "needs_background": "light"
     },
     "output_type": "display_data"
    }
   ],
   "source": [
    "plt.figure(figsize=(30,20))\n",
    "plt.scatter(dane.lon,dane.lat)\n",
    "plt.show()"
   ]
  },
  {
   "cell_type": "code",
   "execution_count": 56,
   "metadata": {},
   "outputs": [],
   "source": [
    "?DBSCAN"
   ]
  },
  {
   "cell_type": "code",
   "execution_count": 69,
   "metadata": {},
   "outputs": [
    {
     "data": {
      "text/plain": [
       "DBSCAN(eps=0.1, min_samples=40)"
      ]
     },
     "execution_count": 69,
     "metadata": {},
     "output_type": "execute_result"
    }
   ],
   "source": [
    "model = DBSCAN(eps=0.1, min_samples=40)\n",
    "model.fit(X)"
   ]
  },
  {
   "cell_type": "code",
   "execution_count": 70,
   "metadata": {},
   "outputs": [
    {
     "data": {
      "text/plain": [
       "array([-1, -1, -1, ..., -1, -1, -1], dtype=int64)"
      ]
     },
     "execution_count": 70,
     "metadata": {},
     "output_type": "execute_result"
    }
   ],
   "source": [
    "model.labels_"
   ]
  },
  {
   "cell_type": "code",
   "execution_count": 71,
   "metadata": {},
   "outputs": [
    {
     "data": {
      "text/plain": [
       "(array([-1,  0,  1,  2,  3,  4,  5,  6,  7,  8,  9], dtype=int64),\n",
       " array([308, 160,  73, 646,  85,  95, 133,  54,  51,  67,  87], dtype=int64))"
      ]
     },
     "execution_count": 71,
     "metadata": {},
     "output_type": "execute_result"
    }
   ],
   "source": [
    "np.unique(model.labels_, return_counts=True)"
   ]
  },
  {
   "cell_type": "code",
   "execution_count": 72,
   "metadata": {},
   "outputs": [
    {
     "data": {
      "image/png": "[encoded data removed]",
      "text/plain": [
       "<Figure size 2160x1440 with 1 Axes>"
      ]
     },
     "metadata": {
      "needs_background": "light"
     },
     "output_type": "display_data"
    }
   ],
   "source": [
    "plt.figure(figsize=(30,20))\n",
    "plt.scatter(dane.lon,dane.lat,c=model.labels_)\n",
    "plt.show()"
   ]
  },
  {
   "cell_type": "code",
   "execution_count": 73,
   "metadata": {},
   "outputs": [
    {
     "data": {
      "text/html": [
       "<div>\n",
       "<style scoped>\n",
       "    .dataframe tbody tr th:only-of-type {\n",
       "        vertical-align: middle;\n",
       "    }\n",
       "\n",
       "    .dataframe tbody tr th {\n",
       "        vertical-align: top;\n",
       "    }\n",
       "\n",
       "    .dataframe thead th {\n",
       "        text-align: right;\n",
       "    }\n",
       "</style>\n",
       "<table border=\"1\" class=\"dataframe\">\n",
       "  <thead>\n",
       "    <tr style=\"text-align: right;\">\n",
       "      <th></th>\n",
       "      <th>lat</th>\n",
       "      <th>lon</th>\n",
       "      <th>date</th>\n",
       "    </tr>\n",
       "  </thead>\n",
       "  <tbody>\n",
       "    <tr>\n",
       "      <th>263</th>\n",
       "      <td>41.303911</td>\n",
       "      <td>2.105931</td>\n",
       "      <td>05/18/2014 22:35</td>\n",
       "    </tr>\n",
       "    <tr>\n",
       "      <th>264</th>\n",
       "      <td>41.292723</td>\n",
       "      <td>2.075583</td>\n",
       "      <td>05/18/2014 22:49</td>\n",
       "    </tr>\n",
       "    <tr>\n",
       "      <th>265</th>\n",
       "      <td>41.289946</td>\n",
       "      <td>2.064590</td>\n",
       "      <td>05/18/2014 23:04</td>\n",
       "    </tr>\n",
       "    <tr>\n",
       "      <th>266</th>\n",
       "      <td>41.294143</td>\n",
       "      <td>2.073177</td>\n",
       "      <td>05/18/2014 23:20</td>\n",
       "    </tr>\n",
       "    <tr>\n",
       "      <th>267</th>\n",
       "      <td>41.320125</td>\n",
       "      <td>2.090935</td>\n",
       "      <td>05/18/2014 23:34</td>\n",
       "    </tr>\n",
       "    <tr>\n",
       "      <th>...</th>\n",
       "      <td>...</td>\n",
       "      <td>...</td>\n",
       "      <td>...</td>\n",
       "    </tr>\n",
       "    <tr>\n",
       "      <th>1357</th>\n",
       "      <td>41.378799</td>\n",
       "      <td>2.151818</td>\n",
       "      <td>06/20/2014 18:00</td>\n",
       "    </tr>\n",
       "    <tr>\n",
       "      <th>1358</th>\n",
       "      <td>41.376331</td>\n",
       "      <td>2.150316</td>\n",
       "      <td>06/20/2014 18:14</td>\n",
       "    </tr>\n",
       "    <tr>\n",
       "      <th>1359</th>\n",
       "      <td>41.302957</td>\n",
       "      <td>2.075222</td>\n",
       "      <td>06/20/2014 18:59</td>\n",
       "    </tr>\n",
       "    <tr>\n",
       "      <th>1360</th>\n",
       "      <td>41.294760</td>\n",
       "      <td>2.059722</td>\n",
       "      <td>06/20/2014 22:15</td>\n",
       "    </tr>\n",
       "    <tr>\n",
       "      <th>1361</th>\n",
       "      <td>41.304421</td>\n",
       "      <td>2.062938</td>\n",
       "      <td>06/20/2014 23:14</td>\n",
       "    </tr>\n",
       "  </tbody>\n",
       "</table>\n",
       "<p>646 rows × 3 columns</p>\n",
       "</div>"
      ],
      "text/plain": [
       "            lat       lon              date\n",
       "263   41.303911  2.105931  05/18/2014 22:35\n",
       "264   41.292723  2.075583  05/18/2014 22:49\n",
       "265   41.289946  2.064590  05/18/2014 23:04\n",
       "266   41.294143  2.073177  05/18/2014 23:20\n",
       "267   41.320125  2.090935  05/18/2014 23:34\n",
       "...         ...       ...               ...\n",
       "1357  41.378799  2.151818  06/20/2014 18:00\n",
       "1358  41.376331  2.150316  06/20/2014 18:14\n",
       "1359  41.302957  2.075222  06/20/2014 18:59\n",
       "1360  41.294760  2.059722  06/20/2014 22:15\n",
       "1361  41.304421  2.062938  06/20/2014 23:14\n",
       "\n",
       "[646 rows x 3 columns]"
      ]
     },
     "execution_count": 73,
     "metadata": {},
     "output_type": "execute_result"
    }
   ],
   "source": [
    "dane[model.labels_ == 2]"
   ]
  },
  {
   "cell_type": "code",
   "execution_count": null,
   "metadata": {},
   "outputs": [],
   "source": [
    "# dalsze kroki\n",
    "# 1. wczytujemy plik z miastami\n",
    "# 2. wyliczenie sredniej dlugosci i szerokosci geograficznej dla klastrow\n",
    "# 3. mapujemy srednia dlugosc i szerokosc geograficzna dla znalezionych klastrow na miasta\n",
    "# 4. wizualizacja - zaznaczmy ktore klastry odpowiadaja poszczegolnym miastom"
   ]
  },
  {
   "cell_type": "code",
   "execution_count": null,
   "metadata": {},
   "outputs": [],
   "source": [
    "# 1. wczytanie pliku z miastami (european_cities_*.csv)\n",
    "# 2. wyliczenie sredniej dlugosci i szerokosci geograficznej dla klastrow"
   ]
  },
  {
   "cell_type": "code",
   "execution_count": 75,
   "metadata": {},
   "outputs": [
    {
     "data": {
      "text/html": [
       "<div>\n",
       "<style scoped>\n",
       "    .dataframe tbody tr th:only-of-type {\n",
       "        vertical-align: middle;\n",
       "    }\n",
       "\n",
       "    .dataframe tbody tr th {\n",
       "        vertical-align: top;\n",
       "    }\n",
       "\n",
       "    .dataframe thead th {\n",
       "        text-align: right;\n",
       "    }\n",
       "</style>\n",
       "<table border=\"1\" class=\"dataframe\">\n",
       "  <thead>\n",
       "    <tr style=\"text-align: right;\">\n",
       "      <th></th>\n",
       "      <th>European City</th>\n",
       "      <th>Country (ISO 3166-2)</th>\n",
       "      <th>Latitude</th>\n",
       "      <th>Longitude</th>\n",
       "    </tr>\n",
       "  </thead>\n",
       "  <tbody>\n",
       "    <tr>\n",
       "      <th>0</th>\n",
       "      <td>Andorra la Vella</td>\n",
       "      <td>AD</td>\n",
       "      <td>42.50000</td>\n",
       "      <td>1.5000</td>\n",
       "    </tr>\n",
       "    <tr>\n",
       "      <th>1</th>\n",
       "      <td>Canillo</td>\n",
       "      <td>AD</td>\n",
       "      <td>42.58330</td>\n",
       "      <td>1.6667</td>\n",
       "    </tr>\n",
       "    <tr>\n",
       "      <th>2</th>\n",
       "      <td>Encamp</td>\n",
       "      <td>AD</td>\n",
       "      <td>42.53330</td>\n",
       "      <td>1.6333</td>\n",
       "    </tr>\n",
       "    <tr>\n",
       "      <th>3</th>\n",
       "      <td>Escaldes-Engordany</td>\n",
       "      <td>AD</td>\n",
       "      <td>42.50000</td>\n",
       "      <td>1.5667</td>\n",
       "    </tr>\n",
       "    <tr>\n",
       "      <th>4</th>\n",
       "      <td>La Massana</td>\n",
       "      <td>AD</td>\n",
       "      <td>42.56670</td>\n",
       "      <td>1.4833</td>\n",
       "    </tr>\n",
       "    <tr>\n",
       "      <th>...</th>\n",
       "      <td>...</td>\n",
       "      <td>...</td>\n",
       "      <td>...</td>\n",
       "      <td>...</td>\n",
       "    </tr>\n",
       "    <tr>\n",
       "      <th>252776</th>\n",
       "      <td>zkonak</td>\n",
       "      <td>TR</td>\n",
       "      <td>37.43750</td>\n",
       "      <td>42.1908</td>\n",
       "    </tr>\n",
       "    <tr>\n",
       "      <th>252777</th>\n",
       "      <td>zml</td>\n",
       "      <td>TR</td>\n",
       "      <td>39.20365</td>\n",
       "      <td>35.8335</td>\n",
       "    </tr>\n",
       "    <tr>\n",
       "      <th>252778</th>\n",
       "      <td>Zonguldak</td>\n",
       "      <td>TR</td>\n",
       "      <td>41.45560</td>\n",
       "      <td>31.7897</td>\n",
       "    </tr>\n",
       "    <tr>\n",
       "      <th>252779</th>\n",
       "      <td>zpinar</td>\n",
       "      <td>TR</td>\n",
       "      <td>37.93410</td>\n",
       "      <td>42.3046</td>\n",
       "    </tr>\n",
       "    <tr>\n",
       "      <th>252780</th>\n",
       "      <td>zvatan</td>\n",
       "      <td>TR</td>\n",
       "      <td>38.84630</td>\n",
       "      <td>36.1430</td>\n",
       "    </tr>\n",
       "  </tbody>\n",
       "</table>\n",
       "<p>252781 rows × 4 columns</p>\n",
       "</div>"
      ],
      "text/plain": [
       "             European City Country (ISO 3166-2)  Latitude  Longitude\n",
       "0         Andorra la Vella                   AD  42.50000     1.5000\n",
       "1                  Canillo                   AD  42.58330     1.6667\n",
       "2                   Encamp                   AD  42.53330     1.6333\n",
       "3       Escaldes-Engordany                   AD  42.50000     1.5667\n",
       "4               La Massana                   AD  42.56670     1.4833\n",
       "...                    ...                  ...       ...        ...\n",
       "252776              zkonak                   TR  37.43750    42.1908\n",
       "252777                 zml                   TR  39.20365    35.8335\n",
       "252778           Zonguldak                   TR  41.45560    31.7897\n",
       "252779              zpinar                   TR  37.93410    42.3046\n",
       "252780              zvatan                   TR  38.84630    36.1430\n",
       "\n",
       "[252781 rows x 4 columns]"
      ]
     },
     "execution_count": 75,
     "metadata": {},
     "output_type": "execute_result"
    }
   ],
   "source": [
    "# 1.\n",
    "cities = pd.read_csv(\"Data/european_cities_eu_standard.csv\", decimal=\",\", sep=\";\")\n",
    "cities"
   ]
  },
  {
   "cell_type": "code",
   "execution_count": null,
   "metadata": {},
   "outputs": [],
   "source": [
    "# 2."
   ]
  },
  {
   "cell_type": "code",
   "execution_count": 77,
   "metadata": {},
   "outputs": [
    {
     "data": {
      "text/html": [
       "<div>\n",
       "<style scoped>\n",
       "    .dataframe tbody tr th:only-of-type {\n",
       "        vertical-align: middle;\n",
       "    }\n",
       "\n",
       "    .dataframe tbody tr th {\n",
       "        vertical-align: top;\n",
       "    }\n",
       "\n",
       "    .dataframe thead th {\n",
       "        text-align: right;\n",
       "    }\n",
       "</style>\n",
       "<table border=\"1\" class=\"dataframe\">\n",
       "  <thead>\n",
       "    <tr style=\"text-align: right;\">\n",
       "      <th></th>\n",
       "      <th>lat</th>\n",
       "      <th>lon</th>\n",
       "    </tr>\n",
       "  </thead>\n",
       "  <tbody>\n",
       "    <tr>\n",
       "      <th>-1</th>\n",
       "      <td>44.229301</td>\n",
       "      <td>15.499130</td>\n",
       "    </tr>\n",
       "    <tr>\n",
       "      <th>0</th>\n",
       "      <td>38.714959</td>\n",
       "      <td>-9.146195</td>\n",
       "    </tr>\n",
       "    <tr>\n",
       "      <th>1</th>\n",
       "      <td>41.147990</td>\n",
       "      <td>-8.614548</td>\n",
       "    </tr>\n",
       "    <tr>\n",
       "      <th>2</th>\n",
       "      <td>41.381009</td>\n",
       "      <td>2.156992</td>\n",
       "    </tr>\n",
       "    <tr>\n",
       "      <th>3</th>\n",
       "      <td>50.061723</td>\n",
       "      <td>19.931725</td>\n",
       "    </tr>\n",
       "    <tr>\n",
       "      <th>4</th>\n",
       "      <td>50.077716</td>\n",
       "      <td>14.440023</td>\n",
       "    </tr>\n",
       "    <tr>\n",
       "      <th>5</th>\n",
       "      <td>48.523039</td>\n",
       "      <td>9.056752</td>\n",
       "    </tr>\n",
       "    <tr>\n",
       "      <th>6</th>\n",
       "      <td>47.991538</td>\n",
       "      <td>7.864605</td>\n",
       "    </tr>\n",
       "    <tr>\n",
       "      <th>7</th>\n",
       "      <td>42.423492</td>\n",
       "      <td>18.771581</td>\n",
       "    </tr>\n",
       "    <tr>\n",
       "      <th>8</th>\n",
       "      <td>37.969904</td>\n",
       "      <td>23.728642</td>\n",
       "    </tr>\n",
       "    <tr>\n",
       "      <th>9</th>\n",
       "      <td>41.032368</td>\n",
       "      <td>28.982397</td>\n",
       "    </tr>\n",
       "  </tbody>\n",
       "</table>\n",
       "</div>"
      ],
      "text/plain": [
       "          lat        lon\n",
       "-1  44.229301  15.499130\n",
       " 0  38.714959  -9.146195\n",
       " 1  41.147990  -8.614548\n",
       " 2  41.381009   2.156992\n",
       " 3  50.061723  19.931725\n",
       " 4  50.077716  14.440023\n",
       " 5  48.523039   9.056752\n",
       " 6  47.991538   7.864605\n",
       " 7  42.423492  18.771581\n",
       " 8  37.969904  23.728642\n",
       " 9  41.032368  28.982397"
      ]
     },
     "execution_count": 77,
     "metadata": {},
     "output_type": "execute_result"
    }
   ],
   "source": [
    "dane.groupby(model.labels_).mean()"
   ]
  },
  {
   "cell_type": "code",
   "execution_count": null,
   "metadata": {},
   "outputs": [],
   "source": [
    "# 3. mapujemy srednia dlugosc i szerokosc geograficzna dla znalezionych klastrow na miasta"
   ]
  },
  {
   "cell_type": "code",
   "execution_count": 78,
   "metadata": {},
   "outputs": [
    {
     "data": {
      "text/html": [
       "<div>\n",
       "<style scoped>\n",
       "    .dataframe tbody tr th:only-of-type {\n",
       "        vertical-align: middle;\n",
       "    }\n",
       "\n",
       "    .dataframe tbody tr th {\n",
       "        vertical-align: top;\n",
       "    }\n",
       "\n",
       "    .dataframe thead th {\n",
       "        text-align: right;\n",
       "    }\n",
       "</style>\n",
       "<table border=\"1\" class=\"dataframe\">\n",
       "  <thead>\n",
       "    <tr style=\"text-align: right;\">\n",
       "      <th></th>\n",
       "      <th>lat</th>\n",
       "      <th>lon</th>\n",
       "    </tr>\n",
       "  </thead>\n",
       "  <tbody>\n",
       "    <tr>\n",
       "      <th>0</th>\n",
       "      <td>38.714959</td>\n",
       "      <td>-9.146195</td>\n",
       "    </tr>\n",
       "    <tr>\n",
       "      <th>1</th>\n",
       "      <td>41.147990</td>\n",
       "      <td>-8.614548</td>\n",
       "    </tr>\n",
       "    <tr>\n",
       "      <th>2</th>\n",
       "      <td>41.381009</td>\n",
       "      <td>2.156992</td>\n",
       "    </tr>\n",
       "    <tr>\n",
       "      <th>3</th>\n",
       "      <td>50.061723</td>\n",
       "      <td>19.931725</td>\n",
       "    </tr>\n",
       "    <tr>\n",
       "      <th>4</th>\n",
       "      <td>50.077716</td>\n",
       "      <td>14.440023</td>\n",
       "    </tr>\n",
       "    <tr>\n",
       "      <th>5</th>\n",
       "      <td>48.523039</td>\n",
       "      <td>9.056752</td>\n",
       "    </tr>\n",
       "    <tr>\n",
       "      <th>6</th>\n",
       "      <td>47.991538</td>\n",
       "      <td>7.864605</td>\n",
       "    </tr>\n",
       "    <tr>\n",
       "      <th>7</th>\n",
       "      <td>42.423492</td>\n",
       "      <td>18.771581</td>\n",
       "    </tr>\n",
       "    <tr>\n",
       "      <th>8</th>\n",
       "      <td>37.969904</td>\n",
       "      <td>23.728642</td>\n",
       "    </tr>\n",
       "    <tr>\n",
       "      <th>9</th>\n",
       "      <td>41.032368</td>\n",
       "      <td>28.982397</td>\n",
       "    </tr>\n",
       "  </tbody>\n",
       "</table>\n",
       "</div>"
      ],
      "text/plain": [
       "         lat        lon\n",
       "0  38.714959  -9.146195\n",
       "1  41.147990  -8.614548\n",
       "2  41.381009   2.156992\n",
       "3  50.061723  19.931725\n",
       "4  50.077716  14.440023\n",
       "5  48.523039   9.056752\n",
       "6  47.991538   7.864605\n",
       "7  42.423492  18.771581\n",
       "8  37.969904  23.728642\n",
       "9  41.032368  28.982397"
      ]
     },
     "execution_count": 78,
     "metadata": {},
     "output_type": "execute_result"
    }
   ],
   "source": [
    "dane.groupby(model.labels_).mean().drop(-1) # odrzucamy szum"
   ]
  },
  {
   "cell_type": "code",
   "execution_count": 80,
   "metadata": {},
   "outputs": [
    {
     "data": {
      "text/html": [
       "<div>\n",
       "<style scoped>\n",
       "    .dataframe tbody tr th:only-of-type {\n",
       "        vertical-align: middle;\n",
       "    }\n",
       "\n",
       "    .dataframe tbody tr th {\n",
       "        vertical-align: top;\n",
       "    }\n",
       "\n",
       "    .dataframe thead th {\n",
       "        text-align: right;\n",
       "    }\n",
       "</style>\n",
       "<table border=\"1\" class=\"dataframe\">\n",
       "  <thead>\n",
       "    <tr style=\"text-align: right;\">\n",
       "      <th></th>\n",
       "      <th>Latitude</th>\n",
       "      <th>Longitude</th>\n",
       "    </tr>\n",
       "  </thead>\n",
       "  <tbody>\n",
       "    <tr>\n",
       "      <th>0</th>\n",
       "      <td>42.50000</td>\n",
       "      <td>1.5000</td>\n",
       "    </tr>\n",
       "    <tr>\n",
       "      <th>1</th>\n",
       "      <td>42.58330</td>\n",
       "      <td>1.6667</td>\n",
       "    </tr>\n",
       "    <tr>\n",
       "      <th>2</th>\n",
       "      <td>42.53330</td>\n",
       "      <td>1.6333</td>\n",
       "    </tr>\n",
       "    <tr>\n",
       "      <th>3</th>\n",
       "      <td>42.50000</td>\n",
       "      <td>1.5667</td>\n",
       "    </tr>\n",
       "    <tr>\n",
       "      <th>4</th>\n",
       "      <td>42.56670</td>\n",
       "      <td>1.4833</td>\n",
       "    </tr>\n",
       "    <tr>\n",
       "      <th>...</th>\n",
       "      <td>...</td>\n",
       "      <td>...</td>\n",
       "    </tr>\n",
       "    <tr>\n",
       "      <th>252776</th>\n",
       "      <td>37.43750</td>\n",
       "      <td>42.1908</td>\n",
       "    </tr>\n",
       "    <tr>\n",
       "      <th>252777</th>\n",
       "      <td>39.20365</td>\n",
       "      <td>35.8335</td>\n",
       "    </tr>\n",
       "    <tr>\n",
       "      <th>252778</th>\n",
       "      <td>41.45560</td>\n",
       "      <td>31.7897</td>\n",
       "    </tr>\n",
       "    <tr>\n",
       "      <th>252779</th>\n",
       "      <td>37.93410</td>\n",
       "      <td>42.3046</td>\n",
       "    </tr>\n",
       "    <tr>\n",
       "      <th>252780</th>\n",
       "      <td>38.84630</td>\n",
       "      <td>36.1430</td>\n",
       "    </tr>\n",
       "  </tbody>\n",
       "</table>\n",
       "<p>252781 rows × 2 columns</p>\n",
       "</div>"
      ],
      "text/plain": [
       "        Latitude  Longitude\n",
       "0       42.50000     1.5000\n",
       "1       42.58330     1.6667\n",
       "2       42.53330     1.6333\n",
       "3       42.50000     1.5667\n",
       "4       42.56670     1.4833\n",
       "...          ...        ...\n",
       "252776  37.43750    42.1908\n",
       "252777  39.20365    35.8335\n",
       "252778  41.45560    31.7897\n",
       "252779  37.93410    42.3046\n",
       "252780  38.84630    36.1430\n",
       "\n",
       "[252781 rows x 2 columns]"
      ]
     },
     "execution_count": 80,
     "metadata": {},
     "output_type": "execute_result"
    }
   ],
   "source": [
    "cities[['Latitude','Longitude']]"
   ]
  },
  {
   "cell_type": "code",
   "execution_count": 81,
   "metadata": {},
   "outputs": [],
   "source": [
    "from sklearn.metrics import pairwise_distances_argmin"
   ]
  },
  {
   "cell_type": "code",
   "execution_count": 82,
   "metadata": {},
   "outputs": [],
   "source": [
    "?pairwise_distances_argmin"
   ]
  },
  {
   "cell_type": "code",
   "execution_count": 83,
   "metadata": {},
   "outputs": [
    {
     "data": {
      "text/plain": [
       "array([231881, 237841,  74504, 218587,  54324,  66775,  58326, 190987,\n",
       "       251794, 252168], dtype=int64)"
      ]
     },
     "execution_count": 83,
     "metadata": {},
     "output_type": "execute_result"
    }
   ],
   "source": [
    "pairwise_distances_argmin(dane.groupby(model.labels_).mean().drop(-1),cities[['Latitude','Longitude']])"
   ]
  },
  {
   "cell_type": "code",
   "execution_count": 84,
   "metadata": {},
   "outputs": [
    {
     "data": {
      "text/plain": [
       "231881                  Lisboa\n",
       "237841                   Porto\n",
       "74504                Barcelona\n",
       "218587                   Krakw\n",
       "54324                Vinohrady\n",
       "66775                  Tbingen\n",
       "58326     Freiburg im Breisgau\n",
       "190987               Vitaljina\n",
       "251794                   Cesme\n",
       "252168                Istanbul\n",
       "Name: European City, dtype: object"
      ]
     },
     "execution_count": 84,
     "metadata": {},
     "output_type": "execute_result"
    }
   ],
   "source": [
    "cities[\"European City\"].iloc[pairwise_distances_argmin(dane.groupby(model.labels_).mean().drop(-1),cities[['Latitude','Longitude']])]"
   ]
  },
  {
   "cell_type": "code",
   "execution_count": null,
   "metadata": {},
   "outputs": [],
   "source": [
    "# 4. wizualizacja - zaznaczmy ktore klastry odpowiadaja poszczegolnym miastom"
   ]
  },
  {
   "cell_type": "code",
   "execution_count": 89,
   "metadata": {},
   "outputs": [
    {
     "data": {
      "text/plain": [
       "231881                  Lisboa\n",
       "237841                   Porto\n",
       "74504                Barcelona\n",
       "218587                   Krakw\n",
       "54324                Vinohrady\n",
       "66775                  Tbingen\n",
       "58326     Freiburg im Breisgau\n",
       "190987               Vitaljina\n",
       "251794                   Cesme\n",
       "252168                Istanbul\n",
       "Name: European City, dtype: object"
      ]
     },
     "execution_count": 89,
     "metadata": {},
     "output_type": "execute_result"
    }
   ],
   "source": [
    "sel_cities = cities[\"European City\"].iloc[pairwise_distances_argmin(dane.groupby(model.labels_).mean().drop(-1),cities[['Latitude','Longitude']])]\n",
    "sel_cities"
   ]
  },
  {
   "cell_type": "code",
   "execution_count": 87,
   "metadata": {},
   "outputs": [
    {
     "data": {
      "text/plain": [
       "7     -9.137544\n",
       "8     -9.129195\n",
       "9     -9.128911\n",
       "10    -9.124403\n",
       "11    -9.147780\n",
       "         ...   \n",
       "175   -9.141158\n",
       "176   -9.169380\n",
       "177   -9.165694\n",
       "178   -9.165713\n",
       "179   -9.165688\n",
       "Name: lon, Length: 160, dtype: float64"
      ]
     },
     "execution_count": 87,
     "metadata": {},
     "output_type": "execute_result"
    }
   ],
   "source": [
    "dane[model.labels_ == 0]['lon']"
   ]
  },
  {
   "cell_type": "code",
   "execution_count": 88,
   "metadata": {},
   "outputs": [
    {
     "data": {
      "text/plain": [
       "array([-1,  0,  1,  2,  3,  4,  5,  6,  7,  8,  9], dtype=int64)"
      ]
     },
     "execution_count": 88,
     "metadata": {},
     "output_type": "execute_result"
    }
   ],
   "source": [
    "np.unique(model.labels_)"
   ]
  },
  {
   "cell_type": "code",
   "execution_count": 93,
   "metadata": {},
   "outputs": [
    {
     "data": {
      "image/png": "[encoded data removed]",
      "text/plain": [
       "<Figure size 2160x1440 with 1 Axes>"
      ]
     },
     "metadata": {
      "needs_background": "light"
     },
     "output_type": "display_data"
    }
   ],
   "source": [
    "plt.figure(figsize=(30,20))\n",
    "\n",
    "colors = np.array([\"red\",\"green\",\"blue\",\"grey\",\"purple\",\"orange\",\"brown\",\"cyan\",\"lime\",\"black\",\"yellow\"])\n",
    "for i in np.unique(model.labels_):\n",
    "    city = sel_cities.iloc[i] if i>=0 else \"noise\"\n",
    "    plt.scatter(dane[model.labels_ == i]['lon'], dane[model.labels_ == i]['lat'], c=colors[i], label=city)\n",
    "\n",
    "plt.legend()\n",
    "plt.show()"
   ]
  },
  {
   "cell_type": "code",
   "execution_count": null,
   "metadata": {},
   "outputs": [],
   "source": []
  },
  {
   "cell_type": "code",
   "execution_count": null,
   "metadata": {},
   "outputs": [],
   "source": []
  },
  {
   "cell_type": "markdown",
   "metadata": {},
   "source": [
    "## Birch"
   ]
  },
  {
   "cell_type": "code",
   "execution_count": 94,
   "metadata": {
    "scrolled": false
   },
   "outputs": [
    {
     "data": {
      "image/png": "[encoded data removed]",
      "text/plain": [
       "<Figure size 720x720 with 1 Axes>"
      ]
     },
     "metadata": {
      "needs_background": "light"
     },
     "output_type": "display_data"
    }
   ],
   "source": [
    "from sklearn.datasets import make_blobs\n",
    "\n",
    "data, labels = make_blobs(1000, centers=10,random_state=0,shuffle=True)\n",
    "plt.figure(figsize=(10,10))\n",
    "plt.scatter(data[:,0],data[:,1],s=1)\n",
    "plt.show()"
   ]
  },
  {
   "cell_type": "code",
   "execution_count": 95,
   "metadata": {},
   "outputs": [],
   "source": [
    "from sklearn.cluster import Birch\n",
    "?Birch"
   ]
  },
  {
   "cell_type": "code",
   "execution_count": 96,
   "metadata": {},
   "outputs": [
    {
     "data": {
      "text/plain": [
       "Birch(n_clusters=None, threshold=1)"
      ]
     },
     "execution_count": 96,
     "metadata": {},
     "output_type": "execute_result"
    }
   ],
   "source": [
    "from sklearn.cluster import Birch\n",
    "\n",
    "b = Birch(threshold=1,n_clusters=None)\n",
    "b.fit(data)"
   ]
  },
  {
   "cell_type": "code",
   "execution_count": 97,
   "metadata": {},
   "outputs": [
    {
     "data": {
      "text/plain": [
       "array([[  0.65699291,   8.00069438],\n",
       "       [ -1.35867618,   2.55794936],\n",
       "       [  0.3614498 ,   5.46440057],\n",
       "       [  5.58257078,   0.29396862],\n",
       "       [  0.25882045,   0.80899775],\n",
       "       [  2.15510663,   2.1101151 ],\n",
       "       [  7.31950896,   0.40489509],\n",
       "       [  5.97039481,   7.91377766],\n",
       "       [ -8.01415614,  -8.15111027],\n",
       "       [ -9.71866948,   7.4970512 ],\n",
       "       [  9.13401918,  -1.84849862],\n",
       "       [  1.94821493,   4.69619738],\n",
       "       [  1.94787564,   0.31134485],\n",
       "       [  0.21674859,   3.64408369],\n",
       "       [-10.11383596,   5.57292216],\n",
       "       [ -1.50053598,   7.38181111],\n",
       "       [  4.73076823,   6.64346277],\n",
       "       [  5.9722929 ,   6.75365535],\n",
       "       [ -9.89306681,  -8.44840359],\n",
       "       [  2.19256109,   8.50320131],\n",
       "       [ -8.6473362 ,   6.47515474],\n",
       "       [ -8.78313524,  -6.79335004],\n",
       "       [  4.15524325,   0.38318576],\n",
       "       [  0.93226682,  10.06432171],\n",
       "       [  6.20390339,   1.32105268],\n",
       "       [  5.1467883 ,   9.08128783],\n",
       "       [ -1.249771  ,   9.09356363],\n",
       "       [ -2.87612958,   2.72531913],\n",
       "       [  7.25104901,   5.75076437],\n",
       "       [ -1.79991847,   5.02907182],\n",
       "       [ 10.5704326 ,  -2.97902893],\n",
       "       [-10.99885538,   7.2618188 ],\n",
       "       [  5.86475584,  -0.78627663],\n",
       "       [ -0.18689264,   7.01629897],\n",
       "       [ -8.01824377,  -9.82940916],\n",
       "       [ -7.26582877,   7.83141882],\n",
       "       [  8.58628163,  -3.27905717],\n",
       "       [ -2.59139502,   7.74901875],\n",
       "       [ -2.38920434,   0.41049839],\n",
       "       [  9.75437034,   0.42818549]])"
      ]
     },
     "execution_count": 97,
     "metadata": {},
     "output_type": "execute_result"
    }
   ],
   "source": [
    "b.subcluster_centers_"
   ]
  },
  {
   "cell_type": "code",
   "execution_count": 98,
   "metadata": {},
   "outputs": [
    {
     "data": {
      "text/plain": [
       "40"
      ]
     },
     "execution_count": 98,
     "metadata": {},
     "output_type": "execute_result"
    }
   ],
   "source": [
    "len(b.subcluster_centers_)"
   ]
  },
  {
   "cell_type": "code",
   "execution_count": 99,
   "metadata": {},
   "outputs": [
    {
     "data": {
      "text/plain": [
       "array([ 0,  1,  2,  3,  4,  5,  6,  7,  8,  9, 10, 11, 12, 13, 14, 15, 16,\n",
       "       17, 18, 19, 20, 21, 22, 23, 24, 25, 26, 27, 28, 29, 30, 31, 32, 33,\n",
       "       34, 35, 36, 37, 38, 39])"
      ]
     },
     "execution_count": 99,
     "metadata": {},
     "output_type": "execute_result"
    }
   ],
   "source": [
    "b.subcluster_labels_"
   ]
  },
  {
   "cell_type": "markdown",
   "metadata": {},
   "source": [
    "Zwizualizuj wyniki (podgrupy Birch)"
   ]
  },
  {
   "cell_type": "code",
   "execution_count": 101,
   "metadata": {},
   "outputs": [
    {
     "data": {
      "image/png": "[encoded data removed]",
      "text/plain": [
       "<Figure size 720x720 with 1 Axes>"
      ]
     },
     "metadata": {
      "needs_background": "light"
     },
     "output_type": "display_data"
    }
   ],
   "source": [
    "plt.figure(figsize=(10,10))\n",
    "plt.scatter(data[:,0],data[:,1],s=1)\n",
    "plt.scatter(b.subcluster_centers_[:,0],b.subcluster_centers_[:,1],c=\"red\")\n",
    "plt.show()"
   ]
  },
  {
   "cell_type": "markdown",
   "metadata": {},
   "source": [
    "Uruchom KMeans na środkach podgrup z Birch i zwizualizuj."
   ]
  },
  {
   "cell_type": "code",
   "execution_count": 102,
   "metadata": {},
   "outputs": [],
   "source": [
    "from sklearn.cluster import KMeans"
   ]
  },
  {
   "cell_type": "code",
   "execution_count": 103,
   "metadata": {},
   "outputs": [],
   "source": [
    "km = KMeans(n_clusters=10)"
   ]
  },
  {
   "cell_type": "code",
   "execution_count": 104,
   "metadata": {},
   "outputs": [
    {
     "data": {
      "text/plain": [
       "array([6, 8, 1, 7, 4, 4, 7, 3, 2, 5, 0, 1, 4, 1, 5, 9, 3, 3, 2, 6, 5, 2,\n",
       "       4, 6, 7, 3, 9, 8, 3, 1, 0, 5, 7, 6, 2, 5, 0, 9, 8, 7])"
      ]
     },
     "execution_count": 104,
     "metadata": {},
     "output_type": "execute_result"
    }
   ],
   "source": [
    "km.fit(b.subcluster_centers_)\n",
    "km.labels_"
   ]
  },
  {
   "cell_type": "code",
   "execution_count": 105,
   "metadata": {},
   "outputs": [
    {
     "data": {
      "image/png": "[encoded data removed]",
      "text/plain": [
       "<Figure size 720x720 with 1 Axes>"
      ]
     },
     "metadata": {
      "needs_background": "light"
     },
     "output_type": "display_data"
    }
   ],
   "source": [
    "plt.figure(figsize=(10,10))\n",
    "plt.scatter(data[:,0],data[:,1],s=1)\n",
    "plt.scatter(b.subcluster_centers_[:,0],b.subcluster_centers_[:,1],c=\"red\")\n",
    "plt.scatter(km.cluster_centers_[:,0],km.cluster_centers_[:,1],c=\"black\")\n",
    "plt.show()"
   ]
  },
  {
   "cell_type": "markdown",
   "metadata": {},
   "source": [
    "Uruchom Birch z KMeans jako klasteryzacją w kolejnym etapie"
   ]
  },
  {
   "cell_type": "code",
   "execution_count": 106,
   "metadata": {},
   "outputs": [],
   "source": [
    "?Birch"
   ]
  },
  {
   "cell_type": "code",
   "execution_count": 107,
   "metadata": {},
   "outputs": [
    {
     "data": {
      "text/plain": [
       "Birch(n_clusters=KMeans(n_clusters=10), threshold=1)"
      ]
     },
     "execution_count": 107,
     "metadata": {},
     "output_type": "execute_result"
    }
   ],
   "source": [
    "b = Birch(threshold=1,n_clusters=KMeans(n_clusters=10))\n",
    "b.fit(data)"
   ]
  },
  {
   "cell_type": "code",
   "execution_count": 108,
   "metadata": {},
   "outputs": [
    {
     "data": {
      "text/plain": [
       "array([9, 8, 6, 1, 7, 7, 1, 4, 2, 0, 5, 6, 7, 6, 0, 3, 4, 4, 2, 9, 0, 2,\n",
       "       1, 9, 1, 4, 3, 8, 4, 6, 5, 0, 1, 3, 2, 0, 5, 3, 8, 5])"
      ]
     },
     "execution_count": 108,
     "metadata": {},
     "output_type": "execute_result"
    }
   ],
   "source": [
    "b.subcluster_labels_"
   ]
  },
  {
   "cell_type": "markdown",
   "metadata": {},
   "source": [
    "Pokoloruj środki podgrup Birch wg ich przyporządkowania do klastrów KMeans"
   ]
  },
  {
   "cell_type": "code",
   "execution_count": 111,
   "metadata": {},
   "outputs": [
    {
     "data": {
      "image/png": "[encoded data removed]",
      "text/plain": [
       "<Figure size 720x720 with 1 Axes>"
      ]
     },
     "metadata": {
      "needs_background": "light"
     },
     "output_type": "display_data"
    }
   ],
   "source": [
    "colors = np.array([\"red\",\"green\",\"blue\",\"grey\",\"purple\",\"orange\",\"brown\",\"cyan\",\"lime\",\"black\",\"yellow\"])\n",
    "plt.figure(figsize=(10,10))\n",
    "plt.scatter(data[:,0],data[:,1],s=1)\n",
    "\n",
    "for k in np.unique(b.subcluster_labels_):\n",
    "    filtr = b.subcluster_labels_ == k\n",
    "    plt.scatter(b.subcluster_centers_[filtr,0],b.subcluster_centers_[filtr,1],c=colors[k])\n",
    "plt.show()"
   ]
  },
  {
   "cell_type": "markdown",
   "metadata": {},
   "source": [
    "## Case study - grupowanie wejść na stronę"
   ]
  },
  {
   "cell_type": "markdown",
   "metadata": {},
   "source": [
    "Opis formatu danych https://kdd.ics.uci.edu/databases/msnbc/description.txt"
   ]
  },
  {
   "cell_type": "code",
   "execution_count": 112,
   "metadata": {},
   "outputs": [
    {
     "data": {
      "text/html": [
       "<div>\n",
       "<style scoped>\n",
       "    .dataframe tbody tr th:only-of-type {\n",
       "        vertical-align: middle;\n",
       "    }\n",
       "\n",
       "    .dataframe tbody tr th {\n",
       "        vertical-align: top;\n",
       "    }\n",
       "\n",
       "    .dataframe thead th {\n",
       "        text-align: right;\n",
       "    }\n",
       "</style>\n",
       "<table border=\"1\" class=\"dataframe\">\n",
       "  <thead>\n",
       "    <tr style=\"text-align: right;\">\n",
       "      <th></th>\n",
       "      <th>% Sequences:</th>\n",
       "    </tr>\n",
       "  </thead>\n",
       "  <tbody>\n",
       "    <tr>\n",
       "      <th>0</th>\n",
       "      <td>1 1</td>\n",
       "    </tr>\n",
       "    <tr>\n",
       "      <th>1</th>\n",
       "      <td>2</td>\n",
       "    </tr>\n",
       "    <tr>\n",
       "      <th>2</th>\n",
       "      <td>3 2 2 4 2 2 2 3 3</td>\n",
       "    </tr>\n",
       "    <tr>\n",
       "      <th>3</th>\n",
       "      <td>5</td>\n",
       "    </tr>\n",
       "    <tr>\n",
       "      <th>4</th>\n",
       "      <td>1</td>\n",
       "    </tr>\n",
       "  </tbody>\n",
       "</table>\n",
       "</div>"
      ],
      "text/plain": [
       "         % Sequences:\n",
       "0                1 1 \n",
       "1                  2 \n",
       "2  3 2 2 4 2 2 2 3 3 \n",
       "3                  5 \n",
       "4                  1 "
      ]
     },
     "execution_count": 112,
     "metadata": {},
     "output_type": "execute_result"
    }
   ],
   "source": [
    "data_raw = pd.read_csv(\"Data/msnbc990928.seq\",skiprows=3)\n",
    "data_raw.head()"
   ]
  },
  {
   "cell_type": "code",
   "execution_count": 113,
   "metadata": {},
   "outputs": [
    {
     "data": {
      "text/html": [
       "<div>\n",
       "<style scoped>\n",
       "    .dataframe tbody tr th:only-of-type {\n",
       "        vertical-align: middle;\n",
       "    }\n",
       "\n",
       "    .dataframe tbody tr th {\n",
       "        vertical-align: top;\n",
       "    }\n",
       "\n",
       "    .dataframe thead th {\n",
       "        text-align: right;\n",
       "    }\n",
       "</style>\n",
       "<table border=\"1\" class=\"dataframe\">\n",
       "  <thead>\n",
       "    <tr style=\"text-align: right;\">\n",
       "      <th></th>\n",
       "      <th>% Different categories found in input file:</th>\n",
       "    </tr>\n",
       "  </thead>\n",
       "  <tbody>\n",
       "    <tr>\n",
       "      <th>0</th>\n",
       "      <td>frontpage news tech local opinion on-air misc ...</td>\n",
       "    </tr>\n",
       "    <tr>\n",
       "      <th>1</th>\n",
       "      <td>% Sequences:</td>\n",
       "    </tr>\n",
       "    <tr>\n",
       "      <th>2</th>\n",
       "      <td>1 1</td>\n",
       "    </tr>\n",
       "    <tr>\n",
       "      <th>3</th>\n",
       "      <td>2</td>\n",
       "    </tr>\n",
       "    <tr>\n",
       "      <th>4</th>\n",
       "      <td>3 2 2 4 2 2 2 3 3</td>\n",
       "    </tr>\n",
       "    <tr>\n",
       "      <th>...</th>\n",
       "      <td>...</td>\n",
       "    </tr>\n",
       "    <tr>\n",
       "      <th>989815</th>\n",
       "      <td>9 9 9 9 9 9 9 9</td>\n",
       "    </tr>\n",
       "    <tr>\n",
       "      <th>989816</th>\n",
       "      <td>1 2</td>\n",
       "    </tr>\n",
       "    <tr>\n",
       "      <th>989817</th>\n",
       "      <td>1 1 1 1</td>\n",
       "    </tr>\n",
       "    <tr>\n",
       "      <th>989818</th>\n",
       "      <td>1 1 1 1 1 1 1</td>\n",
       "    </tr>\n",
       "    <tr>\n",
       "      <th>989819</th>\n",
       "      <td>6</td>\n",
       "    </tr>\n",
       "  </tbody>\n",
       "</table>\n",
       "<p>989820 rows × 1 columns</p>\n",
       "</div>"
      ],
      "text/plain": [
       "              % Different categories found in input file:\n",
       "0       frontpage news tech local opinion on-air misc ...\n",
       "1                                            % Sequences:\n",
       "2                                                    1 1 \n",
       "3                                                      2 \n",
       "4                                      3 2 2 4 2 2 2 3 3 \n",
       "...                                                   ...\n",
       "989815                                   9 9 9 9 9 9 9 9 \n",
       "989816                                               1 2 \n",
       "989817                                           1 1 1 1 \n",
       "989818                                     1 1 1 1 1 1 1 \n",
       "989819                                                 6 \n",
       "\n",
       "[989820 rows x 1 columns]"
      ]
     },
     "execution_count": 113,
     "metadata": {},
     "output_type": "execute_result"
    }
   ],
   "source": [
    "pd.read_csv(\"Data/msnbc990928.seq\")"
   ]
  },
  {
   "cell_type": "code",
   "execution_count": 114,
   "metadata": {},
   "outputs": [
    {
     "data": {
      "text/plain": [
       "['frontpage',\n",
       " 'news',\n",
       " 'tech',\n",
       " 'local',\n",
       " 'opinion',\n",
       " 'on-air',\n",
       " 'misc',\n",
       " 'weather',\n",
       " 'msn-news',\n",
       " 'health',\n",
       " 'living',\n",
       " 'business',\n",
       " 'msn-sports',\n",
       " 'sports',\n",
       " 'summary',\n",
       " 'bbs',\n",
       " 'travel']"
      ]
     },
     "execution_count": 114,
     "metadata": {},
     "output_type": "execute_result"
    }
   ],
   "source": [
    "category = pd.read_csv(\"Data/msnbc990928.seq\").loc[0][0].split()\n",
    "category"
   ]
  },
  {
   "cell_type": "markdown",
   "metadata": {},
   "source": [
    "Przeprowadź klastrowanie - przygotuj odpowiednio dane, zwróć uwagę na przypadki odstające"
   ]
  },
  {
   "cell_type": "code",
   "execution_count": null,
   "metadata": {},
   "outputs": [],
   "source": [
    "# tworzymy postac tabelaryczna dla danych, kolumny to poszczegolne kategorie"
   ]
  },
  {
   "cell_type": "code",
   "execution_count": 115,
   "metadata": {},
   "outputs": [],
   "source": [
    "import re"
   ]
  },
  {
   "cell_type": "code",
   "execution_count": 116,
   "metadata": {},
   "outputs": [
    {
     "data": {
      "text/plain": [
       "['1', '1', '4', '10', '5']"
      ]
     },
     "execution_count": 116,
     "metadata": {},
     "output_type": "execute_result"
    }
   ],
   "source": [
    "re.findall('\\\\b\\w+\\\\b','1 1 4 10 5')"
   ]
  },
  {
   "cell_type": "code",
   "execution_count": 117,
   "metadata": {},
   "outputs": [],
   "source": [
    "from sklearn.feature_extraction.text import CountVectorizer"
   ]
  },
  {
   "cell_type": "code",
   "execution_count": 118,
   "metadata": {},
   "outputs": [],
   "source": [
    "?CountVectorizer"
   ]
  },
  {
   "cell_type": "code",
   "execution_count": 119,
   "metadata": {},
   "outputs": [],
   "source": [
    "cv = CountVectorizer(token_pattern='\\\\b\\w+\\\\b')"
   ]
  },
  {
   "cell_type": "code",
   "execution_count": 120,
   "metadata": {},
   "outputs": [
    {
     "data": {
      "text/plain": [
       "0                       1 1 \n",
       "1                         2 \n",
       "2         3 2 2 4 2 2 2 3 3 \n",
       "3                         5 \n",
       "4                         1 \n",
       "                 ...        \n",
       "989813      9 9 9 9 9 9 9 9 \n",
       "989814                  1 2 \n",
       "989815              1 1 1 1 \n",
       "989816        1 1 1 1 1 1 1 \n",
       "989817                    6 \n",
       "Name: % Sequences:, Length: 989818, dtype: object"
      ]
     },
     "execution_count": 120,
     "metadata": {},
     "output_type": "execute_result"
    }
   ],
   "source": [
    "data_raw[\"% Sequences:\"]"
   ]
  },
  {
   "cell_type": "code",
   "execution_count": 122,
   "metadata": {},
   "outputs": [
    {
     "data": {
      "text/plain": [
       "CountVectorizer(token_pattern='\\\\b\\\\w+\\\\b')"
      ]
     },
     "execution_count": 122,
     "metadata": {},
     "output_type": "execute_result"
    }
   ],
   "source": [
    "cv.fit(data_raw[\"% Sequences:\"])"
   ]
  },
  {
   "cell_type": "code",
   "execution_count": 123,
   "metadata": {},
   "outputs": [
    {
     "data": {
      "text/plain": [
       "{'1': 0,\n",
       " '2': 9,\n",
       " '3': 10,\n",
       " '4': 11,\n",
       " '5': 12,\n",
       " '6': 13,\n",
       " '7': 14,\n",
       " '8': 15,\n",
       " '9': 16,\n",
       " '10': 1,\n",
       " '11': 2,\n",
       " '12': 3,\n",
       " '13': 4,\n",
       " '14': 5,\n",
       " '15': 6,\n",
       " '16': 7,\n",
       " '17': 8}"
      ]
     },
     "execution_count": 123,
     "metadata": {},
     "output_type": "execute_result"
    }
   ],
   "source": [
    "cv.vocabulary_"
   ]
  },
  {
   "cell_type": "code",
   "execution_count": 124,
   "metadata": {},
   "outputs": [],
   "source": [
    "?CountVectorizer"
   ]
  },
  {
   "cell_type": "code",
   "execution_count": 126,
   "metadata": {},
   "outputs": [
    {
     "data": {
      "text/plain": [
       "{'1': 0,\n",
       " '2': 1,\n",
       " '3': 2,\n",
       " '4': 3,\n",
       " '5': 4,\n",
       " '6': 5,\n",
       " '7': 6,\n",
       " '8': 7,\n",
       " '9': 8,\n",
       " '10': 9,\n",
       " '11': 10,\n",
       " '12': 11,\n",
       " '13': 12,\n",
       " '14': 13,\n",
       " '15': 14,\n",
       " '16': 15,\n",
       " '17': 16}"
      ]
     },
     "execution_count": 126,
     "metadata": {},
     "output_type": "execute_result"
    }
   ],
   "source": [
    "vocab = {str(i): i-1 for i in range(1,len(category)+1)}\n",
    "vocab"
   ]
  },
  {
   "cell_type": "code",
   "execution_count": 127,
   "metadata": {},
   "outputs": [],
   "source": [
    "cv = CountVectorizer(token_pattern='\\\\b\\w+\\\\b',vocabulary=vocab)"
   ]
  },
  {
   "cell_type": "code",
   "execution_count": 128,
   "metadata": {},
   "outputs": [],
   "source": [
    "data = cv.fit_transform(data_raw[\"% Sequences:\"])"
   ]
  },
  {
   "cell_type": "code",
   "execution_count": 130,
   "metadata": {},
   "outputs": [
    {
     "data": {
      "text/plain": [
       "matrix([[2, 0, 0, ..., 0, 0, 0],\n",
       "        [0, 1, 0, ..., 0, 0, 0],\n",
       "        [0, 5, 3, ..., 0, 0, 0],\n",
       "        ...,\n",
       "        [4, 0, 0, ..., 0, 0, 0],\n",
       "        [7, 0, 0, ..., 0, 0, 0],\n",
       "        [0, 0, 0, ..., 0, 0, 0]], dtype=int64)"
      ]
     },
     "execution_count": 130,
     "metadata": {},
     "output_type": "execute_result"
    }
   ],
   "source": [
    "data.todense()"
   ]
  },
  {
   "cell_type": "code",
   "execution_count": 131,
   "metadata": {},
   "outputs": [
    {
     "data": {
      "text/plain": [
       "array(['1', '2', '3', '4', '5', '6', '7', '8', '9', '10', '11', '12',\n",
       "       '13', '14', '15', '16', '17'], dtype=object)"
      ]
     },
     "execution_count": 131,
     "metadata": {},
     "output_type": "execute_result"
    }
   ],
   "source": [
    "cv.get_feature_names_out()"
   ]
  },
  {
   "cell_type": "code",
   "execution_count": 133,
   "metadata": {},
   "outputs": [
    {
     "data": {
      "text/plain": [
       "[0, 1, 2, 3, 4, 5, 6, 7, 8, 9, 10, 11, 12, 13, 14, 15, 16]"
      ]
     },
     "execution_count": 133,
     "metadata": {},
     "output_type": "execute_result"
    }
   ],
   "source": [
    "[int(x)-1 for x in cv.get_feature_names_out()]"
   ]
  },
  {
   "cell_type": "code",
   "execution_count": 134,
   "metadata": {},
   "outputs": [
    {
     "data": {
      "text/plain": [
       "array(['frontpage', 'news', 'tech', 'local', 'opinion', 'on-air', 'misc',\n",
       "       'weather', 'msn-news', 'health', 'living', 'business',\n",
       "       'msn-sports', 'sports', 'summary', 'bbs', 'travel'], dtype='<U10')"
      ]
     },
     "execution_count": 134,
     "metadata": {},
     "output_type": "execute_result"
    }
   ],
   "source": [
    "np.array(category)[[int(x)-1 for x in cv.get_feature_names_out()]]"
   ]
  },
  {
   "cell_type": "code",
   "execution_count": 136,
   "metadata": {},
   "outputs": [
    {
     "data": {
      "text/html": [
       "<div>\n",
       "<style scoped>\n",
       "    .dataframe tbody tr th:only-of-type {\n",
       "        vertical-align: middle;\n",
       "    }\n",
       "\n",
       "    .dataframe tbody tr th {\n",
       "        vertical-align: top;\n",
       "    }\n",
       "\n",
       "    .dataframe thead th {\n",
       "        text-align: right;\n",
       "    }\n",
       "</style>\n",
       "<table border=\"1\" class=\"dataframe\">\n",
       "  <thead>\n",
       "    <tr style=\"text-align: right;\">\n",
       "      <th></th>\n",
       "      <th>frontpage</th>\n",
       "      <th>news</th>\n",
       "      <th>tech</th>\n",
       "      <th>local</th>\n",
       "      <th>opinion</th>\n",
       "      <th>on-air</th>\n",
       "      <th>misc</th>\n",
       "      <th>weather</th>\n",
       "      <th>msn-news</th>\n",
       "      <th>health</th>\n",
       "      <th>living</th>\n",
       "      <th>business</th>\n",
       "      <th>msn-sports</th>\n",
       "      <th>sports</th>\n",
       "      <th>summary</th>\n",
       "      <th>bbs</th>\n",
       "      <th>travel</th>\n",
       "    </tr>\n",
       "  </thead>\n",
       "  <tbody>\n",
       "    <tr>\n",
       "      <th>0</th>\n",
       "      <td>2</td>\n",
       "      <td>0</td>\n",
       "      <td>0</td>\n",
       "      <td>0</td>\n",
       "      <td>0</td>\n",
       "      <td>0</td>\n",
       "      <td>0</td>\n",
       "      <td>0</td>\n",
       "      <td>0</td>\n",
       "      <td>0</td>\n",
       "      <td>0</td>\n",
       "      <td>0</td>\n",
       "      <td>0</td>\n",
       "      <td>0</td>\n",
       "      <td>0</td>\n",
       "      <td>0</td>\n",
       "      <td>0</td>\n",
       "    </tr>\n",
       "    <tr>\n",
       "      <th>1</th>\n",
       "      <td>0</td>\n",
       "      <td>1</td>\n",
       "      <td>0</td>\n",
       "      <td>0</td>\n",
       "      <td>0</td>\n",
       "      <td>0</td>\n",
       "      <td>0</td>\n",
       "      <td>0</td>\n",
       "      <td>0</td>\n",
       "      <td>0</td>\n",
       "      <td>0</td>\n",
       "      <td>0</td>\n",
       "      <td>0</td>\n",
       "      <td>0</td>\n",
       "      <td>0</td>\n",
       "      <td>0</td>\n",
       "      <td>0</td>\n",
       "    </tr>\n",
       "    <tr>\n",
       "      <th>2</th>\n",
       "      <td>0</td>\n",
       "      <td>5</td>\n",
       "      <td>3</td>\n",
       "      <td>1</td>\n",
       "      <td>0</td>\n",
       "      <td>0</td>\n",
       "      <td>0</td>\n",
       "      <td>0</td>\n",
       "      <td>0</td>\n",
       "      <td>0</td>\n",
       "      <td>0</td>\n",
       "      <td>0</td>\n",
       "      <td>0</td>\n",
       "      <td>0</td>\n",
       "      <td>0</td>\n",
       "      <td>0</td>\n",
       "      <td>0</td>\n",
       "    </tr>\n",
       "    <tr>\n",
       "      <th>3</th>\n",
       "      <td>0</td>\n",
       "      <td>0</td>\n",
       "      <td>0</td>\n",
       "      <td>0</td>\n",
       "      <td>1</td>\n",
       "      <td>0</td>\n",
       "      <td>0</td>\n",
       "      <td>0</td>\n",
       "      <td>0</td>\n",
       "      <td>0</td>\n",
       "      <td>0</td>\n",
       "      <td>0</td>\n",
       "      <td>0</td>\n",
       "      <td>0</td>\n",
       "      <td>0</td>\n",
       "      <td>0</td>\n",
       "      <td>0</td>\n",
       "    </tr>\n",
       "    <tr>\n",
       "      <th>4</th>\n",
       "      <td>1</td>\n",
       "      <td>0</td>\n",
       "      <td>0</td>\n",
       "      <td>0</td>\n",
       "      <td>0</td>\n",
       "      <td>0</td>\n",
       "      <td>0</td>\n",
       "      <td>0</td>\n",
       "      <td>0</td>\n",
       "      <td>0</td>\n",
       "      <td>0</td>\n",
       "      <td>0</td>\n",
       "      <td>0</td>\n",
       "      <td>0</td>\n",
       "      <td>0</td>\n",
       "      <td>0</td>\n",
       "      <td>0</td>\n",
       "    </tr>\n",
       "    <tr>\n",
       "      <th>...</th>\n",
       "      <td>...</td>\n",
       "      <td>...</td>\n",
       "      <td>...</td>\n",
       "      <td>...</td>\n",
       "      <td>...</td>\n",
       "      <td>...</td>\n",
       "      <td>...</td>\n",
       "      <td>...</td>\n",
       "      <td>...</td>\n",
       "      <td>...</td>\n",
       "      <td>...</td>\n",
       "      <td>...</td>\n",
       "      <td>...</td>\n",
       "      <td>...</td>\n",
       "      <td>...</td>\n",
       "      <td>...</td>\n",
       "      <td>...</td>\n",
       "    </tr>\n",
       "    <tr>\n",
       "      <th>989813</th>\n",
       "      <td>0</td>\n",
       "      <td>0</td>\n",
       "      <td>0</td>\n",
       "      <td>0</td>\n",
       "      <td>0</td>\n",
       "      <td>0</td>\n",
       "      <td>0</td>\n",
       "      <td>0</td>\n",
       "      <td>8</td>\n",
       "      <td>0</td>\n",
       "      <td>0</td>\n",
       "      <td>0</td>\n",
       "      <td>0</td>\n",
       "      <td>0</td>\n",
       "      <td>0</td>\n",
       "      <td>0</td>\n",
       "      <td>0</td>\n",
       "    </tr>\n",
       "    <tr>\n",
       "      <th>989814</th>\n",
       "      <td>1</td>\n",
       "      <td>1</td>\n",
       "      <td>0</td>\n",
       "      <td>0</td>\n",
       "      <td>0</td>\n",
       "      <td>0</td>\n",
       "      <td>0</td>\n",
       "      <td>0</td>\n",
       "      <td>0</td>\n",
       "      <td>0</td>\n",
       "      <td>0</td>\n",
       "      <td>0</td>\n",
       "      <td>0</td>\n",
       "      <td>0</td>\n",
       "      <td>0</td>\n",
       "      <td>0</td>\n",
       "      <td>0</td>\n",
       "    </tr>\n",
       "    <tr>\n",
       "      <th>989815</th>\n",
       "      <td>4</td>\n",
       "      <td>0</td>\n",
       "      <td>0</td>\n",
       "      <td>0</td>\n",
       "      <td>0</td>\n",
       "      <td>0</td>\n",
       "      <td>0</td>\n",
       "      <td>0</td>\n",
       "      <td>0</td>\n",
       "      <td>0</td>\n",
       "      <td>0</td>\n",
       "      <td>0</td>\n",
       "      <td>0</td>\n",
       "      <td>0</td>\n",
       "      <td>0</td>\n",
       "      <td>0</td>\n",
       "      <td>0</td>\n",
       "    </tr>\n",
       "    <tr>\n",
       "      <th>989816</th>\n",
       "      <td>7</td>\n",
       "      <td>0</td>\n",
       "      <td>0</td>\n",
       "      <td>0</td>\n",
       "      <td>0</td>\n",
       "      <td>0</td>\n",
       "      <td>0</td>\n",
       "      <td>0</td>\n",
       "      <td>0</td>\n",
       "      <td>0</td>\n",
       "      <td>0</td>\n",
       "      <td>0</td>\n",
       "      <td>0</td>\n",
       "      <td>0</td>\n",
       "      <td>0</td>\n",
       "      <td>0</td>\n",
       "      <td>0</td>\n",
       "    </tr>\n",
       "    <tr>\n",
       "      <th>989817</th>\n",
       "      <td>0</td>\n",
       "      <td>0</td>\n",
       "      <td>0</td>\n",
       "      <td>0</td>\n",
       "      <td>0</td>\n",
       "      <td>1</td>\n",
       "      <td>0</td>\n",
       "      <td>0</td>\n",
       "      <td>0</td>\n",
       "      <td>0</td>\n",
       "      <td>0</td>\n",
       "      <td>0</td>\n",
       "      <td>0</td>\n",
       "      <td>0</td>\n",
       "      <td>0</td>\n",
       "      <td>0</td>\n",
       "      <td>0</td>\n",
       "    </tr>\n",
       "  </tbody>\n",
       "</table>\n",
       "<p>989818 rows × 17 columns</p>\n",
       "</div>"
      ],
      "text/plain": [
       "        frontpage  news  tech  local  opinion  on-air  misc  weather  \\\n",
       "0               2     0     0      0        0       0     0        0   \n",
       "1               0     1     0      0        0       0     0        0   \n",
       "2               0     5     3      1        0       0     0        0   \n",
       "3               0     0     0      0        1       0     0        0   \n",
       "4               1     0     0      0        0       0     0        0   \n",
       "...           ...   ...   ...    ...      ...     ...   ...      ...   \n",
       "989813          0     0     0      0        0       0     0        0   \n",
       "989814          1     1     0      0        0       0     0        0   \n",
       "989815          4     0     0      0        0       0     0        0   \n",
       "989816          7     0     0      0        0       0     0        0   \n",
       "989817          0     0     0      0        0       1     0        0   \n",
       "\n",
       "        msn-news  health  living  business  msn-sports  sports  summary  bbs  \\\n",
       "0              0       0       0         0           0       0        0    0   \n",
       "1              0       0       0         0           0       0        0    0   \n",
       "2              0       0       0         0           0       0        0    0   \n",
       "3              0       0       0         0           0       0        0    0   \n",
       "4              0       0       0         0           0       0        0    0   \n",
       "...          ...     ...     ...       ...         ...     ...      ...  ...   \n",
       "989813         8       0       0         0           0       0        0    0   \n",
       "989814         0       0       0         0           0       0        0    0   \n",
       "989815         0       0       0         0           0       0        0    0   \n",
       "989816         0       0       0         0           0       0        0    0   \n",
       "989817         0       0       0         0           0       0        0    0   \n",
       "\n",
       "        travel  \n",
       "0            0  \n",
       "1            0  \n",
       "2            0  \n",
       "3            0  \n",
       "4            0  \n",
       "...        ...  \n",
       "989813       0  \n",
       "989814       0  \n",
       "989815       0  \n",
       "989816       0  \n",
       "989817       0  \n",
       "\n",
       "[989818 rows x 17 columns]"
      ]
     },
     "execution_count": 136,
     "metadata": {},
     "output_type": "execute_result"
    }
   ],
   "source": [
    "data = pd.DataFrame(data.todense(), columns=np.array(category)[[int(x)-1 for x in cv.get_feature_names_out()]])\n",
    "data"
   ]
  },
  {
   "cell_type": "code",
   "execution_count": null,
   "metadata": {},
   "outputs": [],
   "source": [
    "# filtrowanie danych"
   ]
  },
  {
   "cell_type": "code",
   "execution_count": 137,
   "metadata": {},
   "outputs": [
    {
     "data": {
      "text/plain": [
       "0         2\n",
       "1         1\n",
       "2         9\n",
       "3         1\n",
       "4         1\n",
       "         ..\n",
       "989813    8\n",
       "989814    2\n",
       "989815    4\n",
       "989816    7\n",
       "989817    1\n",
       "Length: 989818, dtype: int64"
      ]
     },
     "execution_count": 137,
     "metadata": {},
     "output_type": "execute_result"
    }
   ],
   "source": [
    "data.sum(axis=1) # ile przejrzelismy stron"
   ]
  },
  {
   "cell_type": "code",
   "execution_count": 138,
   "metadata": {},
   "outputs": [
    {
     "data": {
      "image/png": "[encoded data removed]",
      "text/plain": [
       "<Figure size 432x288 with 1 Axes>"
      ]
     },
     "metadata": {
      "needs_background": "light"
     },
     "output_type": "display_data"
    }
   ],
   "source": [
    "plt.hist(data.sum(axis=1))\n",
    "plt.show()"
   ]
  },
  {
   "cell_type": "code",
   "execution_count": 142,
   "metadata": {},
   "outputs": [
    {
     "data": {
      "text/plain": [
       "0.9970105615375756"
      ]
     },
     "execution_count": 142,
     "metadata": {},
     "output_type": "execute_result"
    }
   ],
   "source": [
    "(data.sum(axis=1)<50).mean()"
   ]
  },
  {
   "cell_type": "code",
   "execution_count": 144,
   "metadata": {},
   "outputs": [
    {
     "data": {
      "text/plain": [
       "(986859, 17)"
      ]
     },
     "execution_count": 144,
     "metadata": {},
     "output_type": "execute_result"
    }
   ],
   "source": [
    "data = data[data.sum(axis=1)<50] # odrzucamy uzytkownikow ktorzy bardzo duza liczbe stron\n",
    "data.shape"
   ]
  },
  {
   "cell_type": "code",
   "execution_count": null,
   "metadata": {},
   "outputs": [],
   "source": [
    "# odrzucamy uzytkownikow, ktorzy ogladali tylko strone glowna"
   ]
  },
  {
   "cell_type": "code",
   "execution_count": 148,
   "metadata": {},
   "outputs": [
    {
     "data": {
      "text/plain": [
       "(109697, 17)"
      ]
     },
     "execution_count": 148,
     "metadata": {},
     "output_type": "execute_result"
    }
   ],
   "source": [
    "data[data.iloc[:,1:].sum(axis=1) == 0].shape"
   ]
  },
  {
   "cell_type": "code",
   "execution_count": 150,
   "metadata": {},
   "outputs": [
    {
     "data": {
      "text/plain": [
       "(877162, 17)"
      ]
     },
     "execution_count": 150,
     "metadata": {},
     "output_type": "execute_result"
    }
   ],
   "source": [
    "data = data[data.iloc[:,1:].sum(axis=1) > 0]\n",
    "data.shape"
   ]
  },
  {
   "cell_type": "code",
   "execution_count": 152,
   "metadata": {},
   "outputs": [
    {
     "data": {
      "text/plain": [
       "(307883, 17)"
      ]
     },
     "execution_count": 152,
     "metadata": {},
     "output_type": "execute_result"
    }
   ],
   "source": [
    "data[data.sum(axis=1) == 1].shape"
   ]
  },
  {
   "cell_type": "code",
   "execution_count": 154,
   "metadata": {},
   "outputs": [
    {
     "data": {
      "text/plain": [
       "(569279, 17)"
      ]
     },
     "execution_count": 154,
     "metadata": {},
     "output_type": "execute_result"
    }
   ],
   "source": [
    "data = data[data.sum(axis=1) > 1] # odrzucamy uzytkownikow, ktorzy weszli tylko raz na nasza strone\n",
    "data.shape"
   ]
  },
  {
   "cell_type": "code",
   "execution_count": 155,
   "metadata": {},
   "outputs": [
    {
     "data": {
      "text/html": [
       "<div>\n",
       "<style scoped>\n",
       "    .dataframe tbody tr th:only-of-type {\n",
       "        vertical-align: middle;\n",
       "    }\n",
       "\n",
       "    .dataframe tbody tr th {\n",
       "        vertical-align: top;\n",
       "    }\n",
       "\n",
       "    .dataframe thead th {\n",
       "        text-align: right;\n",
       "    }\n",
       "</style>\n",
       "<table border=\"1\" class=\"dataframe\">\n",
       "  <thead>\n",
       "    <tr style=\"text-align: right;\">\n",
       "      <th></th>\n",
       "      <th>frontpage</th>\n",
       "      <th>news</th>\n",
       "      <th>tech</th>\n",
       "      <th>local</th>\n",
       "      <th>opinion</th>\n",
       "      <th>on-air</th>\n",
       "      <th>misc</th>\n",
       "      <th>weather</th>\n",
       "      <th>msn-news</th>\n",
       "      <th>health</th>\n",
       "      <th>living</th>\n",
       "      <th>business</th>\n",
       "      <th>msn-sports</th>\n",
       "      <th>sports</th>\n",
       "      <th>summary</th>\n",
       "      <th>bbs</th>\n",
       "      <th>travel</th>\n",
       "    </tr>\n",
       "  </thead>\n",
       "  <tbody>\n",
       "    <tr>\n",
       "      <th>2</th>\n",
       "      <td>0</td>\n",
       "      <td>5</td>\n",
       "      <td>3</td>\n",
       "      <td>1</td>\n",
       "      <td>0</td>\n",
       "      <td>0</td>\n",
       "      <td>0</td>\n",
       "      <td>0</td>\n",
       "      <td>0</td>\n",
       "      <td>0</td>\n",
       "      <td>0</td>\n",
       "      <td>0</td>\n",
       "      <td>0</td>\n",
       "      <td>0</td>\n",
       "      <td>0</td>\n",
       "      <td>0</td>\n",
       "      <td>0</td>\n",
       "    </tr>\n",
       "    <tr>\n",
       "      <th>8</th>\n",
       "      <td>0</td>\n",
       "      <td>0</td>\n",
       "      <td>0</td>\n",
       "      <td>0</td>\n",
       "      <td>0</td>\n",
       "      <td>3</td>\n",
       "      <td>3</td>\n",
       "      <td>4</td>\n",
       "      <td>0</td>\n",
       "      <td>0</td>\n",
       "      <td>0</td>\n",
       "      <td>0</td>\n",
       "      <td>0</td>\n",
       "      <td>0</td>\n",
       "      <td>0</td>\n",
       "      <td>0</td>\n",
       "      <td>0</td>\n",
       "    </tr>\n",
       "    <tr>\n",
       "      <th>9</th>\n",
       "      <td>0</td>\n",
       "      <td>0</td>\n",
       "      <td>1</td>\n",
       "      <td>6</td>\n",
       "      <td>1</td>\n",
       "      <td>1</td>\n",
       "      <td>0</td>\n",
       "      <td>0</td>\n",
       "      <td>1</td>\n",
       "      <td>3</td>\n",
       "      <td>0</td>\n",
       "      <td>0</td>\n",
       "      <td>0</td>\n",
       "      <td>0</td>\n",
       "      <td>0</td>\n",
       "      <td>0</td>\n",
       "      <td>0</td>\n",
       "    </tr>\n",
       "    <tr>\n",
       "      <th>10</th>\n",
       "      <td>6</td>\n",
       "      <td>0</td>\n",
       "      <td>0</td>\n",
       "      <td>0</td>\n",
       "      <td>0</td>\n",
       "      <td>0</td>\n",
       "      <td>0</td>\n",
       "      <td>0</td>\n",
       "      <td>0</td>\n",
       "      <td>0</td>\n",
       "      <td>1</td>\n",
       "      <td>0</td>\n",
       "      <td>0</td>\n",
       "      <td>0</td>\n",
       "      <td>0</td>\n",
       "      <td>0</td>\n",
       "      <td>0</td>\n",
       "    </tr>\n",
       "    <tr>\n",
       "      <th>11</th>\n",
       "      <td>0</td>\n",
       "      <td>0</td>\n",
       "      <td>0</td>\n",
       "      <td>0</td>\n",
       "      <td>0</td>\n",
       "      <td>0</td>\n",
       "      <td>0</td>\n",
       "      <td>0</td>\n",
       "      <td>0</td>\n",
       "      <td>0</td>\n",
       "      <td>0</td>\n",
       "      <td>2</td>\n",
       "      <td>0</td>\n",
       "      <td>0</td>\n",
       "      <td>0</td>\n",
       "      <td>0</td>\n",
       "      <td>0</td>\n",
       "    </tr>\n",
       "    <tr>\n",
       "      <th>...</th>\n",
       "      <td>...</td>\n",
       "      <td>...</td>\n",
       "      <td>...</td>\n",
       "      <td>...</td>\n",
       "      <td>...</td>\n",
       "      <td>...</td>\n",
       "      <td>...</td>\n",
       "      <td>...</td>\n",
       "      <td>...</td>\n",
       "      <td>...</td>\n",
       "      <td>...</td>\n",
       "      <td>...</td>\n",
       "      <td>...</td>\n",
       "      <td>...</td>\n",
       "      <td>...</td>\n",
       "      <td>...</td>\n",
       "      <td>...</td>\n",
       "    </tr>\n",
       "    <tr>\n",
       "      <th>989806</th>\n",
       "      <td>0</td>\n",
       "      <td>3</td>\n",
       "      <td>0</td>\n",
       "      <td>8</td>\n",
       "      <td>0</td>\n",
       "      <td>0</td>\n",
       "      <td>0</td>\n",
       "      <td>0</td>\n",
       "      <td>0</td>\n",
       "      <td>0</td>\n",
       "      <td>0</td>\n",
       "      <td>0</td>\n",
       "      <td>0</td>\n",
       "      <td>0</td>\n",
       "      <td>0</td>\n",
       "      <td>0</td>\n",
       "      <td>0</td>\n",
       "    </tr>\n",
       "    <tr>\n",
       "      <th>989809</th>\n",
       "      <td>0</td>\n",
       "      <td>0</td>\n",
       "      <td>2</td>\n",
       "      <td>0</td>\n",
       "      <td>0</td>\n",
       "      <td>0</td>\n",
       "      <td>0</td>\n",
       "      <td>0</td>\n",
       "      <td>0</td>\n",
       "      <td>0</td>\n",
       "      <td>0</td>\n",
       "      <td>0</td>\n",
       "      <td>0</td>\n",
       "      <td>0</td>\n",
       "      <td>0</td>\n",
       "      <td>0</td>\n",
       "      <td>0</td>\n",
       "    </tr>\n",
       "    <tr>\n",
       "      <th>989811</th>\n",
       "      <td>8</td>\n",
       "      <td>0</td>\n",
       "      <td>0</td>\n",
       "      <td>0</td>\n",
       "      <td>0</td>\n",
       "      <td>0</td>\n",
       "      <td>0</td>\n",
       "      <td>0</td>\n",
       "      <td>0</td>\n",
       "      <td>0</td>\n",
       "      <td>0</td>\n",
       "      <td>1</td>\n",
       "      <td>0</td>\n",
       "      <td>0</td>\n",
       "      <td>0</td>\n",
       "      <td>0</td>\n",
       "      <td>0</td>\n",
       "    </tr>\n",
       "    <tr>\n",
       "      <th>989813</th>\n",
       "      <td>0</td>\n",
       "      <td>0</td>\n",
       "      <td>0</td>\n",
       "      <td>0</td>\n",
       "      <td>0</td>\n",
       "      <td>0</td>\n",
       "      <td>0</td>\n",
       "      <td>0</td>\n",
       "      <td>8</td>\n",
       "      <td>0</td>\n",
       "      <td>0</td>\n",
       "      <td>0</td>\n",
       "      <td>0</td>\n",
       "      <td>0</td>\n",
       "      <td>0</td>\n",
       "      <td>0</td>\n",
       "      <td>0</td>\n",
       "    </tr>\n",
       "    <tr>\n",
       "      <th>989814</th>\n",
       "      <td>1</td>\n",
       "      <td>1</td>\n",
       "      <td>0</td>\n",
       "      <td>0</td>\n",
       "      <td>0</td>\n",
       "      <td>0</td>\n",
       "      <td>0</td>\n",
       "      <td>0</td>\n",
       "      <td>0</td>\n",
       "      <td>0</td>\n",
       "      <td>0</td>\n",
       "      <td>0</td>\n",
       "      <td>0</td>\n",
       "      <td>0</td>\n",
       "      <td>0</td>\n",
       "      <td>0</td>\n",
       "      <td>0</td>\n",
       "    </tr>\n",
       "  </tbody>\n",
       "</table>\n",
       "<p>569279 rows × 17 columns</p>\n",
       "</div>"
      ],
      "text/plain": [
       "        frontpage  news  tech  local  opinion  on-air  misc  weather  \\\n",
       "2               0     5     3      1        0       0     0        0   \n",
       "8               0     0     0      0        0       3     3        4   \n",
       "9               0     0     1      6        1       1     0        0   \n",
       "10              6     0     0      0        0       0     0        0   \n",
       "11              0     0     0      0        0       0     0        0   \n",
       "...           ...   ...   ...    ...      ...     ...   ...      ...   \n",
       "989806          0     3     0      8        0       0     0        0   \n",
       "989809          0     0     2      0        0       0     0        0   \n",
       "989811          8     0     0      0        0       0     0        0   \n",
       "989813          0     0     0      0        0       0     0        0   \n",
       "989814          1     1     0      0        0       0     0        0   \n",
       "\n",
       "        msn-news  health  living  business  msn-sports  sports  summary  bbs  \\\n",
       "2              0       0       0         0           0       0        0    0   \n",
       "8              0       0       0         0           0       0        0    0   \n",
       "9              1       3       0         0           0       0        0    0   \n",
       "10             0       0       1         0           0       0        0    0   \n",
       "11             0       0       0         2           0       0        0    0   \n",
       "...          ...     ...     ...       ...         ...     ...      ...  ...   \n",
       "989806         0       0       0         0           0       0        0    0   \n",
       "989809         0       0       0         0           0       0        0    0   \n",
       "989811         0       0       0         1           0       0        0    0   \n",
       "989813         8       0       0         0           0       0        0    0   \n",
       "989814         0       0       0         0           0       0        0    0   \n",
       "\n",
       "        travel  \n",
       "2            0  \n",
       "8            0  \n",
       "9            0  \n",
       "10           0  \n",
       "11           0  \n",
       "...        ...  \n",
       "989806       0  \n",
       "989809       0  \n",
       "989811       0  \n",
       "989813       0  \n",
       "989814       0  \n",
       "\n",
       "[569279 rows x 17 columns]"
      ]
     },
     "execution_count": 155,
     "metadata": {},
     "output_type": "execute_result"
    }
   ],
   "source": [
    "data"
   ]
  },
  {
   "cell_type": "code",
   "execution_count": 156,
   "metadata": {},
   "outputs": [],
   "source": [
    "from sklearn.preprocessing import Normalizer"
   ]
  },
  {
   "cell_type": "code",
   "execution_count": 157,
   "metadata": {},
   "outputs": [],
   "source": [
    "?Normalizer"
   ]
  },
  {
   "cell_type": "code",
   "execution_count": 158,
   "metadata": {},
   "outputs": [
    {
     "data": {
      "text/plain": [
       "array([[0.        , 0.55555556, 0.33333333, ..., 0.        , 0.        ,\n",
       "        0.        ],\n",
       "       [0.        , 0.        , 0.        , ..., 0.        , 0.        ,\n",
       "        0.        ],\n",
       "       [0.        , 0.        , 0.07692308, ..., 0.        , 0.        ,\n",
       "        0.        ],\n",
       "       ...,\n",
       "       [0.88888889, 0.        , 0.        , ..., 0.        , 0.        ,\n",
       "        0.        ],\n",
       "       [0.        , 0.        , 0.        , ..., 0.        , 0.        ,\n",
       "        0.        ],\n",
       "       [0.5       , 0.5       , 0.        , ..., 0.        , 0.        ,\n",
       "        0.        ]])"
      ]
     },
     "execution_count": 158,
     "metadata": {},
     "output_type": "execute_result"
    }
   ],
   "source": [
    "data2 = Normalizer(\"l1\").fit_transform(data)\n",
    "data2"
   ]
  },
  {
   "cell_type": "code",
   "execution_count": 160,
   "metadata": {},
   "outputs": [
    {
     "data": {
      "text/html": [
       "<div>\n",
       "<style scoped>\n",
       "    .dataframe tbody tr th:only-of-type {\n",
       "        vertical-align: middle;\n",
       "    }\n",
       "\n",
       "    .dataframe tbody tr th {\n",
       "        vertical-align: top;\n",
       "    }\n",
       "\n",
       "    .dataframe thead th {\n",
       "        text-align: right;\n",
       "    }\n",
       "</style>\n",
       "<table border=\"1\" class=\"dataframe\">\n",
       "  <thead>\n",
       "    <tr style=\"text-align: right;\">\n",
       "      <th></th>\n",
       "      <th>frontpage</th>\n",
       "      <th>news</th>\n",
       "      <th>tech</th>\n",
       "      <th>local</th>\n",
       "      <th>opinion</th>\n",
       "      <th>on-air</th>\n",
       "      <th>misc</th>\n",
       "      <th>weather</th>\n",
       "      <th>msn-news</th>\n",
       "      <th>health</th>\n",
       "      <th>living</th>\n",
       "      <th>business</th>\n",
       "      <th>msn-sports</th>\n",
       "      <th>sports</th>\n",
       "      <th>summary</th>\n",
       "      <th>bbs</th>\n",
       "      <th>travel</th>\n",
       "    </tr>\n",
       "  </thead>\n",
       "  <tbody>\n",
       "    <tr>\n",
       "      <th>0</th>\n",
       "      <td>0.000000</td>\n",
       "      <td>0.555556</td>\n",
       "      <td>0.333333</td>\n",
       "      <td>0.111111</td>\n",
       "      <td>0.000000</td>\n",
       "      <td>0.000000</td>\n",
       "      <td>0.0</td>\n",
       "      <td>0.0</td>\n",
       "      <td>0.000000</td>\n",
       "      <td>0.000000</td>\n",
       "      <td>0.000000</td>\n",
       "      <td>0.000000</td>\n",
       "      <td>0.0</td>\n",
       "      <td>0.0</td>\n",
       "      <td>0.0</td>\n",
       "      <td>0.0</td>\n",
       "      <td>0.0</td>\n",
       "    </tr>\n",
       "    <tr>\n",
       "      <th>1</th>\n",
       "      <td>0.000000</td>\n",
       "      <td>0.000000</td>\n",
       "      <td>0.000000</td>\n",
       "      <td>0.000000</td>\n",
       "      <td>0.000000</td>\n",
       "      <td>0.300000</td>\n",
       "      <td>0.3</td>\n",
       "      <td>0.4</td>\n",
       "      <td>0.000000</td>\n",
       "      <td>0.000000</td>\n",
       "      <td>0.000000</td>\n",
       "      <td>0.000000</td>\n",
       "      <td>0.0</td>\n",
       "      <td>0.0</td>\n",
       "      <td>0.0</td>\n",
       "      <td>0.0</td>\n",
       "      <td>0.0</td>\n",
       "    </tr>\n",
       "    <tr>\n",
       "      <th>2</th>\n",
       "      <td>0.000000</td>\n",
       "      <td>0.000000</td>\n",
       "      <td>0.076923</td>\n",
       "      <td>0.461538</td>\n",
       "      <td>0.076923</td>\n",
       "      <td>0.076923</td>\n",
       "      <td>0.0</td>\n",
       "      <td>0.0</td>\n",
       "      <td>0.076923</td>\n",
       "      <td>0.230769</td>\n",
       "      <td>0.000000</td>\n",
       "      <td>0.000000</td>\n",
       "      <td>0.0</td>\n",
       "      <td>0.0</td>\n",
       "      <td>0.0</td>\n",
       "      <td>0.0</td>\n",
       "      <td>0.0</td>\n",
       "    </tr>\n",
       "    <tr>\n",
       "      <th>3</th>\n",
       "      <td>0.857143</td>\n",
       "      <td>0.000000</td>\n",
       "      <td>0.000000</td>\n",
       "      <td>0.000000</td>\n",
       "      <td>0.000000</td>\n",
       "      <td>0.000000</td>\n",
       "      <td>0.0</td>\n",
       "      <td>0.0</td>\n",
       "      <td>0.000000</td>\n",
       "      <td>0.000000</td>\n",
       "      <td>0.142857</td>\n",
       "      <td>0.000000</td>\n",
       "      <td>0.0</td>\n",
       "      <td>0.0</td>\n",
       "      <td>0.0</td>\n",
       "      <td>0.0</td>\n",
       "      <td>0.0</td>\n",
       "    </tr>\n",
       "    <tr>\n",
       "      <th>4</th>\n",
       "      <td>0.000000</td>\n",
       "      <td>0.000000</td>\n",
       "      <td>0.000000</td>\n",
       "      <td>0.000000</td>\n",
       "      <td>0.000000</td>\n",
       "      <td>0.000000</td>\n",
       "      <td>0.0</td>\n",
       "      <td>0.0</td>\n",
       "      <td>0.000000</td>\n",
       "      <td>0.000000</td>\n",
       "      <td>0.000000</td>\n",
       "      <td>1.000000</td>\n",
       "      <td>0.0</td>\n",
       "      <td>0.0</td>\n",
       "      <td>0.0</td>\n",
       "      <td>0.0</td>\n",
       "      <td>0.0</td>\n",
       "    </tr>\n",
       "    <tr>\n",
       "      <th>...</th>\n",
       "      <td>...</td>\n",
       "      <td>...</td>\n",
       "      <td>...</td>\n",
       "      <td>...</td>\n",
       "      <td>...</td>\n",
       "      <td>...</td>\n",
       "      <td>...</td>\n",
       "      <td>...</td>\n",
       "      <td>...</td>\n",
       "      <td>...</td>\n",
       "      <td>...</td>\n",
       "      <td>...</td>\n",
       "      <td>...</td>\n",
       "      <td>...</td>\n",
       "      <td>...</td>\n",
       "      <td>...</td>\n",
       "      <td>...</td>\n",
       "    </tr>\n",
       "    <tr>\n",
       "      <th>569274</th>\n",
       "      <td>0.000000</td>\n",
       "      <td>0.272727</td>\n",
       "      <td>0.000000</td>\n",
       "      <td>0.727273</td>\n",
       "      <td>0.000000</td>\n",
       "      <td>0.000000</td>\n",
       "      <td>0.0</td>\n",
       "      <td>0.0</td>\n",
       "      <td>0.000000</td>\n",
       "      <td>0.000000</td>\n",
       "      <td>0.000000</td>\n",
       "      <td>0.000000</td>\n",
       "      <td>0.0</td>\n",
       "      <td>0.0</td>\n",
       "      <td>0.0</td>\n",
       "      <td>0.0</td>\n",
       "      <td>0.0</td>\n",
       "    </tr>\n",
       "    <tr>\n",
       "      <th>569275</th>\n",
       "      <td>0.000000</td>\n",
       "      <td>0.000000</td>\n",
       "      <td>1.000000</td>\n",
       "      <td>0.000000</td>\n",
       "      <td>0.000000</td>\n",
       "      <td>0.000000</td>\n",
       "      <td>0.0</td>\n",
       "      <td>0.0</td>\n",
       "      <td>0.000000</td>\n",
       "      <td>0.000000</td>\n",
       "      <td>0.000000</td>\n",
       "      <td>0.000000</td>\n",
       "      <td>0.0</td>\n",
       "      <td>0.0</td>\n",
       "      <td>0.0</td>\n",
       "      <td>0.0</td>\n",
       "      <td>0.0</td>\n",
       "    </tr>\n",
       "    <tr>\n",
       "      <th>569276</th>\n",
       "      <td>0.888889</td>\n",
       "      <td>0.000000</td>\n",
       "      <td>0.000000</td>\n",
       "      <td>0.000000</td>\n",
       "      <td>0.000000</td>\n",
       "      <td>0.000000</td>\n",
       "      <td>0.0</td>\n",
       "      <td>0.0</td>\n",
       "      <td>0.000000</td>\n",
       "      <td>0.000000</td>\n",
       "      <td>0.000000</td>\n",
       "      <td>0.111111</td>\n",
       "      <td>0.0</td>\n",
       "      <td>0.0</td>\n",
       "      <td>0.0</td>\n",
       "      <td>0.0</td>\n",
       "      <td>0.0</td>\n",
       "    </tr>\n",
       "    <tr>\n",
       "      <th>569277</th>\n",
       "      <td>0.000000</td>\n",
       "      <td>0.000000</td>\n",
       "      <td>0.000000</td>\n",
       "      <td>0.000000</td>\n",
       "      <td>0.000000</td>\n",
       "      <td>0.000000</td>\n",
       "      <td>0.0</td>\n",
       "      <td>0.0</td>\n",
       "      <td>1.000000</td>\n",
       "      <td>0.000000</td>\n",
       "      <td>0.000000</td>\n",
       "      <td>0.000000</td>\n",
       "      <td>0.0</td>\n",
       "      <td>0.0</td>\n",
       "      <td>0.0</td>\n",
       "      <td>0.0</td>\n",
       "      <td>0.0</td>\n",
       "    </tr>\n",
       "    <tr>\n",
       "      <th>569278</th>\n",
       "      <td>0.500000</td>\n",
       "      <td>0.500000</td>\n",
       "      <td>0.000000</td>\n",
       "      <td>0.000000</td>\n",
       "      <td>0.000000</td>\n",
       "      <td>0.000000</td>\n",
       "      <td>0.0</td>\n",
       "      <td>0.0</td>\n",
       "      <td>0.000000</td>\n",
       "      <td>0.000000</td>\n",
       "      <td>0.000000</td>\n",
       "      <td>0.000000</td>\n",
       "      <td>0.0</td>\n",
       "      <td>0.0</td>\n",
       "      <td>0.0</td>\n",
       "      <td>0.0</td>\n",
       "      <td>0.0</td>\n",
       "    </tr>\n",
       "  </tbody>\n",
       "</table>\n",
       "<p>569279 rows × 17 columns</p>\n",
       "</div>"
      ],
      "text/plain": [
       "        frontpage      news      tech     local   opinion    on-air  misc  \\\n",
       "0        0.000000  0.555556  0.333333  0.111111  0.000000  0.000000   0.0   \n",
       "1        0.000000  0.000000  0.000000  0.000000  0.000000  0.300000   0.3   \n",
       "2        0.000000  0.000000  0.076923  0.461538  0.076923  0.076923   0.0   \n",
       "3        0.857143  0.000000  0.000000  0.000000  0.000000  0.000000   0.0   \n",
       "4        0.000000  0.000000  0.000000  0.000000  0.000000  0.000000   0.0   \n",
       "...           ...       ...       ...       ...       ...       ...   ...   \n",
       "569274   0.000000  0.272727  0.000000  0.727273  0.000000  0.000000   0.0   \n",
       "569275   0.000000  0.000000  1.000000  0.000000  0.000000  0.000000   0.0   \n",
       "569276   0.888889  0.000000  0.000000  0.000000  0.000000  0.000000   0.0   \n",
       "569277   0.000000  0.000000  0.000000  0.000000  0.000000  0.000000   0.0   \n",
       "569278   0.500000  0.500000  0.000000  0.000000  0.000000  0.000000   0.0   \n",
       "\n",
       "        weather  msn-news    health    living  business  msn-sports  sports  \\\n",
       "0           0.0  0.000000  0.000000  0.000000  0.000000         0.0     0.0   \n",
       "1           0.4  0.000000  0.000000  0.000000  0.000000         0.0     0.0   \n",
       "2           0.0  0.076923  0.230769  0.000000  0.000000         0.0     0.0   \n",
       "3           0.0  0.000000  0.000000  0.142857  0.000000         0.0     0.0   \n",
       "4           0.0  0.000000  0.000000  0.000000  1.000000         0.0     0.0   \n",
       "...         ...       ...       ...       ...       ...         ...     ...   \n",
       "569274      0.0  0.000000  0.000000  0.000000  0.000000         0.0     0.0   \n",
       "569275      0.0  0.000000  0.000000  0.000000  0.000000         0.0     0.0   \n",
       "569276      0.0  0.000000  0.000000  0.000000  0.111111         0.0     0.0   \n",
       "569277      0.0  1.000000  0.000000  0.000000  0.000000         0.0     0.0   \n",
       "569278      0.0  0.000000  0.000000  0.000000  0.000000         0.0     0.0   \n",
       "\n",
       "        summary  bbs  travel  \n",
       "0           0.0  0.0     0.0  \n",
       "1           0.0  0.0     0.0  \n",
       "2           0.0  0.0     0.0  \n",
       "3           0.0  0.0     0.0  \n",
       "4           0.0  0.0     0.0  \n",
       "...         ...  ...     ...  \n",
       "569274      0.0  0.0     0.0  \n",
       "569275      0.0  0.0     0.0  \n",
       "569276      0.0  0.0     0.0  \n",
       "569277      0.0  0.0     0.0  \n",
       "569278      0.0  0.0     0.0  \n",
       "\n",
       "[569279 rows x 17 columns]"
      ]
     },
     "execution_count": 160,
     "metadata": {},
     "output_type": "execute_result"
    }
   ],
   "source": [
    "data2 = pd.DataFrame(data2, columns=category)\n",
    "data2"
   ]
  },
  {
   "cell_type": "code",
   "execution_count": 161,
   "metadata": {},
   "outputs": [],
   "source": [
    "from yellowbrick.cluster import KElbowVisualizer"
   ]
  },
  {
   "cell_type": "code",
   "execution_count": 162,
   "metadata": {},
   "outputs": [
    {
     "data": {
      "image/png": "[encoded data removed]",
      "text/plain": [
       "<Figure size 576x396 with 2 Axes>"
      ]
     },
     "metadata": {},
     "output_type": "display_data"
    },
    {
     "data": {
      "text/plain": [
       "<matplotlib.axes._subplots.AxesSubplot at 0x26d286e4880>"
      ]
     },
     "execution_count": 162,
     "metadata": {},
     "output_type": "execute_result"
    }
   ],
   "source": [
    "vis = KElbowVisualizer(KMeans(),k=(5,20))\n",
    "vis.fit(data2)\n",
    "vis.show()"
   ]
  },
  {
   "cell_type": "code",
   "execution_count": 163,
   "metadata": {},
   "outputs": [],
   "source": [
    "from sklearn.cluster import MiniBatchKMeans\n",
    "?MiniBatchKMeans"
   ]
  },
  {
   "cell_type": "code",
   "execution_count": 164,
   "metadata": {},
   "outputs": [
    {
     "name": "stderr",
     "output_type": "stream",
     "text": [
      "C:\\Users\\Bogdan\\AppData\\Roaming\\Python\\Python38\\site-packages\\sklearn\\cluster\\_kmeans.py:1043: UserWarning: MiniBatchKMeans is known to have a memory leak on Windows with MKL, when there are less chunks than available threads. You can prevent it by setting batch_size >= 2048 or by setting the environment variable OMP_NUM_THREADS=4\n",
      "  warnings.warn(\n",
      "C:\\Users\\Bogdan\\AppData\\Roaming\\Python\\Python38\\site-packages\\sklearn\\cluster\\_kmeans.py:1043: UserWarning: MiniBatchKMeans is known to have a memory leak on Windows with MKL, when there are less chunks than available threads. You can prevent it by setting batch_size >= 2048 or by setting the environment variable OMP_NUM_THREADS=4\n",
      "  warnings.warn(\n",
      "C:\\Users\\Bogdan\\AppData\\Roaming\\Python\\Python38\\site-packages\\sklearn\\cluster\\_kmeans.py:1043: UserWarning: MiniBatchKMeans is known to have a memory leak on Windows with MKL, when there are less chunks than available threads. You can prevent it by setting batch_size >= 2048 or by setting the environment variable OMP_NUM_THREADS=4\n",
      "  warnings.warn(\n",
      "C:\\Users\\Bogdan\\AppData\\Roaming\\Python\\Python38\\site-packages\\sklearn\\cluster\\_kmeans.py:1043: UserWarning: MiniBatchKMeans is known to have a memory leak on Windows with MKL, when there are less chunks than available threads. You can prevent it by setting batch_size >= 2048 or by setting the environment variable OMP_NUM_THREADS=4\n",
      "  warnings.warn(\n",
      "C:\\Users\\Bogdan\\AppData\\Roaming\\Python\\Python38\\site-packages\\sklearn\\cluster\\_kmeans.py:1043: UserWarning: MiniBatchKMeans is known to have a memory leak on Windows with MKL, when there are less chunks than available threads. You can prevent it by setting batch_size >= 2048 or by setting the environment variable OMP_NUM_THREADS=4\n",
      "  warnings.warn(\n",
      "C:\\Users\\Bogdan\\AppData\\Roaming\\Python\\Python38\\site-packages\\sklearn\\cluster\\_kmeans.py:1043: UserWarning: MiniBatchKMeans is known to have a memory leak on Windows with MKL, when there are less chunks than available threads. You can prevent it by setting batch_size >= 2048 or by setting the environment variable OMP_NUM_THREADS=4\n",
      "  warnings.warn(\n",
      "C:\\Users\\Bogdan\\AppData\\Roaming\\Python\\Python38\\site-packages\\sklearn\\cluster\\_kmeans.py:1043: UserWarning: MiniBatchKMeans is known to have a memory leak on Windows with MKL, when there are less chunks than available threads. You can prevent it by setting batch_size >= 2048 or by setting the environment variable OMP_NUM_THREADS=4\n",
      "  warnings.warn(\n",
      "C:\\Users\\Bogdan\\AppData\\Roaming\\Python\\Python38\\site-packages\\sklearn\\cluster\\_kmeans.py:1043: UserWarning: MiniBatchKMeans is known to have a memory leak on Windows with MKL, when there are less chunks than available threads. You can prevent it by setting batch_size >= 2048 or by setting the environment variable OMP_NUM_THREADS=4\n",
      "  warnings.warn(\n",
      "C:\\Users\\Bogdan\\AppData\\Roaming\\Python\\Python38\\site-packages\\sklearn\\cluster\\_kmeans.py:1043: UserWarning: MiniBatchKMeans is known to have a memory leak on Windows with MKL, when there are less chunks than available threads. You can prevent it by setting batch_size >= 2048 or by setting the environment variable OMP_NUM_THREADS=4\n",
      "  warnings.warn(\n",
      "C:\\Users\\Bogdan\\AppData\\Roaming\\Python\\Python38\\site-packages\\sklearn\\cluster\\_kmeans.py:1043: UserWarning: MiniBatchKMeans is known to have a memory leak on Windows with MKL, when there are less chunks than available threads. You can prevent it by setting batch_size >= 2048 or by setting the environment variable OMP_NUM_THREADS=4\n",
      "  warnings.warn(\n",
      "C:\\Users\\Bogdan\\AppData\\Roaming\\Python\\Python38\\site-packages\\sklearn\\cluster\\_kmeans.py:1043: UserWarning: MiniBatchKMeans is known to have a memory leak on Windows with MKL, when there are less chunks than available threads. You can prevent it by setting batch_size >= 2048 or by setting the environment variable OMP_NUM_THREADS=4\n",
      "  warnings.warn(\n",
      "C:\\Users\\Bogdan\\AppData\\Roaming\\Python\\Python38\\site-packages\\sklearn\\cluster\\_kmeans.py:1043: UserWarning: MiniBatchKMeans is known to have a memory leak on Windows with MKL, when there are less chunks than available threads. You can prevent it by setting batch_size >= 2048 or by setting the environment variable OMP_NUM_THREADS=4\n",
      "  warnings.warn(\n",
      "C:\\Users\\Bogdan\\AppData\\Roaming\\Python\\Python38\\site-packages\\sklearn\\cluster\\_kmeans.py:1043: UserWarning: MiniBatchKMeans is known to have a memory leak on Windows with MKL, when there are less chunks than available threads. You can prevent it by setting batch_size >= 2048 or by setting the environment variable OMP_NUM_THREADS=4\n",
      "  warnings.warn(\n",
      "C:\\Users\\Bogdan\\AppData\\Roaming\\Python\\Python38\\site-packages\\sklearn\\cluster\\_kmeans.py:1043: UserWarning: MiniBatchKMeans is known to have a memory leak on Windows with MKL, when there are less chunks than available threads. You can prevent it by setting batch_size >= 2048 or by setting the environment variable OMP_NUM_THREADS=4\n",
      "  warnings.warn(\n",
      "C:\\Users\\Bogdan\\AppData\\Roaming\\Python\\Python38\\site-packages\\sklearn\\cluster\\_kmeans.py:1043: UserWarning: MiniBatchKMeans is known to have a memory leak on Windows with MKL, when there are less chunks than available threads. You can prevent it by setting batch_size >= 2048 or by setting the environment variable OMP_NUM_THREADS=4\n",
      "  warnings.warn(\n"
     ]
    },
    {
     "data": {
      "image/png": "[encoded data removed]",
      "text/plain": [
       "<Figure size 576x396 with 2 Axes>"
      ]
     },
     "metadata": {},
     "output_type": "display_data"
    },
    {
     "data": {
      "text/plain": [
       "<matplotlib.axes._subplots.AxesSubplot at 0x26d71c0c280>"
      ]
     },
     "execution_count": 164,
     "metadata": {},
     "output_type": "execute_result"
    }
   ],
   "source": [
    "vis = KElbowVisualizer(MiniBatchKMeans(),k=(5,20))\n",
    "vis.fit(data2)\n",
    "vis.show()"
   ]
  },
  {
   "cell_type": "code",
   "execution_count": 165,
   "metadata": {},
   "outputs": [
    {
     "name": "stderr",
     "output_type": "stream",
     "text": [
      "C:\\Users\\Bogdan\\AppData\\Roaming\\Python\\Python38\\site-packages\\sklearn\\cluster\\_kmeans.py:1043: UserWarning: MiniBatchKMeans is known to have a memory leak on Windows with MKL, when there are less chunks than available threads. You can prevent it by setting batch_size >= 2048 or by setting the environment variable OMP_NUM_THREADS=4\n",
      "  warnings.warn(\n"
     ]
    },
    {
     "data": {
      "text/plain": [
       "MiniBatchKMeans(n_clusters=11)"
      ]
     },
     "execution_count": 165,
     "metadata": {},
     "output_type": "execute_result"
    }
   ],
   "source": [
    "mbk = MiniBatchKMeans(n_clusters=11)\n",
    "mbk.fit(data2)"
   ]
  },
  {
   "cell_type": "code",
   "execution_count": 166,
   "metadata": {},
   "outputs": [
    {
     "data": {
      "text/plain": [
       "array([[6.66348965e-02, 7.73230173e-01, 1.67030730e-02, 1.38903353e-02,\n",
       "        6.19463774e-03, 1.54296390e-02, 6.43544918e-03, 1.32897888e-02,\n",
       "        7.48531200e-03, 1.60921549e-02, 1.18851262e-02, 2.15080784e-02,\n",
       "        4.06173842e-04, 1.59319811e-02, 1.16893381e-02, 0.00000000e+00,\n",
       "        3.19384245e-03],\n",
       "       [4.96868909e-02, 4.49169893e-02, 1.84027870e-02, 3.58284429e-01,\n",
       "        6.37825075e-02, 4.06325013e-02, 1.18218547e-01, 2.01923992e-02,\n",
       "        4.17531774e-02, 8.48891476e-02, 5.74228430e-02, 1.78445665e-02,\n",
       "        1.47997069e-02, 2.63281785e-02, 3.22562365e-02, 3.35174312e-03,\n",
       "        7.23734948e-03],\n",
       "       [1.39180153e-02, 1.36613544e-02, 3.07472945e-03, 7.93580958e-03,\n",
       "        1.34907259e-03, 1.07418660e-02, 3.50352140e-03, 9.14643832e-01,\n",
       "        7.41455291e-03, 2.27908003e-03, 3.13185011e-03, 5.41370811e-03,\n",
       "        5.66158499e-03, 5.73819138e-03, 9.27167946e-04, 3.61141206e-04,\n",
       "        2.44522692e-04],\n",
       "       [3.75264863e-01, 5.17657667e-02, 2.81206616e-02, 1.04222581e-02,\n",
       "        4.74186597e-03, 1.27738727e-02, 1.65821791e-02, 2.13559339e-03,\n",
       "        4.53177959e-03, 2.58019454e-02, 2.35784113e-02, 3.99813446e-01,\n",
       "        2.70971829e-03, 2.63442429e-02, 6.77249317e-03, 0.00000000e+00,\n",
       "        8.64090313e-03],\n",
       "       [2.09798901e-03, 1.57273349e-03, 2.78680800e-03, 4.61742779e-03,\n",
       "        1.97220135e-04, 1.02049650e-02, 3.68058775e-02, 1.03447517e-02,\n",
       "        1.82878266e-02, 1.35281385e-03, 1.63810879e-03, 6.23974854e-03,\n",
       "        8.31807025e-01, 7.08472095e-02, 6.82966024e-04, 0.00000000e+00,\n",
       "        5.16528926e-04],\n",
       "       [3.15518008e-02, 2.04018515e-02, 2.97108880e-02, 2.68602258e-02,\n",
       "        6.97905815e-03, 6.36651330e-01, 1.08774715e-01, 1.09109013e-02,\n",
       "        2.57218524e-02, 1.86931773e-02, 1.32670693e-02, 1.49060379e-02,\n",
       "        7.68425700e-03, 8.62699108e-03, 3.79322205e-02, 4.78423117e-04,\n",
       "        8.49201033e-04],\n",
       "       [6.26530139e-02, 1.47701164e-02, 4.91808566e-03, 9.18805870e-03,\n",
       "        2.02707044e-03, 8.13380392e-03, 1.10137839e-02, 8.56599986e-03,\n",
       "        3.61539960e-03, 2.14310800e-03, 7.01991900e-03, 1.70839525e-02,\n",
       "        2.62814035e-02, 8.18225271e-01, 2.71042783e-03, 3.64403529e-04,\n",
       "        1.28618272e-03],\n",
       "       [1.37726905e-02, 2.47602211e-02, 2.56561087e-02, 1.92080478e-02,\n",
       "        1.03262434e-02, 2.08279283e-02, 2.99932465e-02, 2.03922478e-02,\n",
       "        7.37262445e-01, 9.57953363e-03, 1.38192687e-02, 4.28566252e-02,\n",
       "        2.22222408e-02, 5.99874613e-03, 2.39069987e-03, 9.33706816e-04,\n",
       "        0.00000000e+00],\n",
       "       [1.88187739e-02, 1.57131427e-02, 4.86067650e-03, 5.38586252e-03,\n",
       "        2.59403372e-03, 6.86338089e-03, 1.06304519e-03, 5.00887433e-03,\n",
       "        1.17045525e-02, 4.89623865e-03, 5.01933557e-03, 9.04150475e-01,\n",
       "        2.04132767e-03, 6.61907437e-03, 3.71464085e-03, 0.00000000e+00,\n",
       "        1.54656545e-03],\n",
       "       [7.15731216e-02, 6.50805709e-02, 7.02970366e-01, 2.84574044e-02,\n",
       "        8.21382321e-03, 9.90574664e-03, 2.94890051e-03, 3.58222974e-03,\n",
       "        2.65328653e-02, 1.32530239e-02, 1.28334699e-02, 2.49988224e-02,\n",
       "        4.48717949e-03, 1.49089799e-02, 9.08744034e-03, 0.00000000e+00,\n",
       "        1.16605617e-03],\n",
       "       [5.62441705e-01, 9.46622706e-02, 2.48419152e-02, 3.25076565e-02,\n",
       "        1.54350264e-02, 4.50056483e-02, 4.22122606e-02, 9.68495989e-03,\n",
       "        8.67698315e-03, 2.96831821e-02, 4.84720542e-02, 1.65041533e-02,\n",
       "        3.63157298e-03, 4.65082666e-02, 8.26924065e-03, 2.62893313e-03,\n",
       "        8.83417160e-03]])"
      ]
     },
     "execution_count": 166,
     "metadata": {},
     "output_type": "execute_result"
    }
   ],
   "source": [
    "mbk.cluster_centers_"
   ]
  },
  {
   "cell_type": "code",
   "execution_count": 169,
   "metadata": {},
   "outputs": [
    {
     "data": {
      "text/plain": [
       "(array([ 0,  1,  2,  3,  4,  5,  6,  7,  8,  9, 10]),\n",
       " array([ 51710,  91012,  56263,  22111,  40805,  67671,  49498,  32610,\n",
       "         21190,  33251, 103158], dtype=int64))"
      ]
     },
     "execution_count": 169,
     "metadata": {},
     "output_type": "execute_result"
    }
   ],
   "source": [
    "np.unique(mbk.labels_, return_counts=True)"
   ]
  },
  {
   "cell_type": "code",
   "execution_count": 170,
   "metadata": {},
   "outputs": [],
   "source": [
    "import seaborn as sns"
   ]
  },
  {
   "cell_type": "code",
   "execution_count": 174,
   "metadata": {},
   "outputs": [
    {
     "data": {
      "text/plain": [
       "<matplotlib.axes._subplots.AxesSubplot at 0x26d6fe30670>"
      ]
     },
     "execution_count": 174,
     "metadata": {},
     "output_type": "execute_result"
    },
    {
     "data": {
      "image/png": "[encoded data removed]",
      "text/plain": [
       "<Figure size 576x396 with 2 Axes>"
      ]
     },
     "metadata": {},
     "output_type": "display_data"
    }
   ],
   "source": [
    "sns.heatmap(pd.DataFrame(mbk.cluster_centers_, columns=category).T,cmap='YlGnBu')"
   ]
  },
  {
   "cell_type": "code",
   "execution_count": null,
   "metadata": {},
   "outputs": [],
   "source": []
  },
  {
   "cell_type": "code",
   "execution_count": null,
   "metadata": {},
   "outputs": [],
   "source": []
  },
  {
   "cell_type": "markdown",
   "metadata": {},
   "source": [
    "### Klasteryzacja obrazów"
   ]
  },
  {
   "cell_type": "code",
   "execution_count": 175,
   "metadata": {},
   "outputs": [
    {
     "data": {
      "text/plain": [
       "{'data':        pixel1  pixel2  pixel3  pixel4  pixel5  pixel6  pixel7  pixel8  pixel9  \\\n",
       " 0         0.0     0.0     0.0     0.0     0.0     0.0     0.0     0.0     0.0   \n",
       " 1         0.0     0.0     0.0     0.0     0.0     1.0     0.0     0.0     0.0   \n",
       " 2         0.0     0.0     0.0     0.0     0.0     0.0     0.0     0.0     0.0   \n",
       " 3         0.0     0.0     0.0     0.0     0.0     0.0     0.0     0.0    33.0   \n",
       " 4         0.0     0.0     0.0     0.0     0.0     0.0     0.0     0.0     0.0   \n",
       " ...       ...     ...     ...     ...     ...     ...     ...     ...     ...   \n",
       " 69995     0.0     0.0     0.0     0.0     0.0     0.0     0.0     0.0     0.0   \n",
       " 69996     0.0     0.0     0.0     0.0     0.0     0.0     0.0     0.0     0.0   \n",
       " 69997     0.0     0.0     0.0     0.0     0.0     0.0     0.0     0.0     0.0   \n",
       " 69998     0.0     0.0     0.0     0.0     0.0     0.0     0.0     0.0     0.0   \n",
       " 69999     0.0     0.0     0.0     0.0     0.0     0.0     0.0     0.0     0.0   \n",
       " \n",
       "        pixel10  ...  pixel775  pixel776  pixel777  pixel778  pixel779  \\\n",
       " 0          0.0  ...       0.0       0.0       0.0       0.0       0.0   \n",
       " 1          0.0  ...     119.0     114.0     130.0      76.0       0.0   \n",
       " 2         22.0  ...       0.0       0.0       1.0       0.0       0.0   \n",
       " 3         96.0  ...       0.0       0.0       0.0       0.0       0.0   \n",
       " 4          0.0  ...       0.0       0.0       0.0       0.0       0.0   \n",
       " ...        ...  ...       ...       ...       ...       ...       ...   \n",
       " 69995      0.0  ...       0.0       0.0       0.0       0.0       0.0   \n",
       " 69996     31.0  ...       0.0       0.0       0.0       0.0       0.0   \n",
       " 69997      0.0  ...      27.0       0.0       0.0       0.0       0.0   \n",
       " 69998      0.0  ...       0.0       0.0       0.0       0.0       0.0   \n",
       " 69999      0.0  ...       0.0       0.0       0.0       0.0       0.0   \n",
       " \n",
       "        pixel780  pixel781  pixel782  pixel783  pixel784  \n",
       " 0           0.0       0.0       0.0       0.0       0.0  \n",
       " 1           0.0       0.0       0.0       0.0       0.0  \n",
       " 2           0.0       0.0       0.0       0.0       0.0  \n",
       " 3           0.0       0.0       0.0       0.0       0.0  \n",
       " 4           0.0       0.0       0.0       0.0       0.0  \n",
       " ...         ...       ...       ...       ...       ...  \n",
       " 69995       0.0       0.0       0.0       0.0       0.0  \n",
       " 69996       0.0       0.0       0.0       0.0       0.0  \n",
       " 69997       0.0       0.0       0.0       0.0       0.0  \n",
       " 69998       0.0       0.0       0.0       0.0       0.0  \n",
       " 69999       0.0       0.0       0.0       0.0       0.0  \n",
       " \n",
       " [70000 rows x 784 columns],\n",
       " 'target': 0        9\n",
       " 1        0\n",
       " 2        0\n",
       " 3        3\n",
       " 4        0\n",
       "         ..\n",
       " 69995    9\n",
       " 69996    1\n",
       " 69997    8\n",
       " 69998    1\n",
       " 69999    5\n",
       " Name: class, Length: 70000, dtype: category\n",
       " Categories (10, object): [0, 1, 2, 3, ..., 6, 7, 8, 9],\n",
       " 'frame':        pixel1  pixel2  pixel3  pixel4  pixel5  pixel6  pixel7  pixel8  pixel9  \\\n",
       " 0         0.0     0.0     0.0     0.0     0.0     0.0     0.0     0.0     0.0   \n",
       " 1         0.0     0.0     0.0     0.0     0.0     1.0     0.0     0.0     0.0   \n",
       " 2         0.0     0.0     0.0     0.0     0.0     0.0     0.0     0.0     0.0   \n",
       " 3         0.0     0.0     0.0     0.0     0.0     0.0     0.0     0.0    33.0   \n",
       " 4         0.0     0.0     0.0     0.0     0.0     0.0     0.0     0.0     0.0   \n",
       " ...       ...     ...     ...     ...     ...     ...     ...     ...     ...   \n",
       " 69995     0.0     0.0     0.0     0.0     0.0     0.0     0.0     0.0     0.0   \n",
       " 69996     0.0     0.0     0.0     0.0     0.0     0.0     0.0     0.0     0.0   \n",
       " 69997     0.0     0.0     0.0     0.0     0.0     0.0     0.0     0.0     0.0   \n",
       " 69998     0.0     0.0     0.0     0.0     0.0     0.0     0.0     0.0     0.0   \n",
       " 69999     0.0     0.0     0.0     0.0     0.0     0.0     0.0     0.0     0.0   \n",
       " \n",
       "        pixel10  ...  pixel776  pixel777  pixel778  pixel779  pixel780  \\\n",
       " 0          0.0  ...       0.0       0.0       0.0       0.0       0.0   \n",
       " 1          0.0  ...     114.0     130.0      76.0       0.0       0.0   \n",
       " 2         22.0  ...       0.0       1.0       0.0       0.0       0.0   \n",
       " 3         96.0  ...       0.0       0.0       0.0       0.0       0.0   \n",
       " 4          0.0  ...       0.0       0.0       0.0       0.0       0.0   \n",
       " ...        ...  ...       ...       ...       ...       ...       ...   \n",
       " 69995      0.0  ...       0.0       0.0       0.0       0.0       0.0   \n",
       " 69996     31.0  ...       0.0       0.0       0.0       0.0       0.0   \n",
       " 69997      0.0  ...       0.0       0.0       0.0       0.0       0.0   \n",
       " 69998      0.0  ...       0.0       0.0       0.0       0.0       0.0   \n",
       " 69999      0.0  ...       0.0       0.0       0.0       0.0       0.0   \n",
       " \n",
       "        pixel781  pixel782  pixel783  pixel784  class  \n",
       " 0           0.0       0.0       0.0       0.0      9  \n",
       " 1           0.0       0.0       0.0       0.0      0  \n",
       " 2           0.0       0.0       0.0       0.0      0  \n",
       " 3           0.0       0.0       0.0       0.0      3  \n",
       " 4           0.0       0.0       0.0       0.0      0  \n",
       " ...         ...       ...       ...       ...    ...  \n",
       " 69995       0.0       0.0       0.0       0.0      9  \n",
       " 69996       0.0       0.0       0.0       0.0      1  \n",
       " 69997       0.0       0.0       0.0       0.0      8  \n",
       " 69998       0.0       0.0       0.0       0.0      1  \n",
       " 69999       0.0       0.0       0.0       0.0      5  \n",
       " \n",
       " [70000 rows x 785 columns],\n",
       " 'categories': None,\n",
       " 'feature_names': ['pixel1',\n",
       "  'pixel2',\n",
       "  'pixel3',\n",
       "  'pixel4',\n",
       "  'pixel5',\n",
       "  'pixel6',\n",
       "  'pixel7',\n",
       "  'pixel8',\n",
       "  'pixel9',\n",
       "  'pixel10',\n",
       "  'pixel11',\n",
       "  'pixel12',\n",
       "  'pixel13',\n",
       "  'pixel14',\n",
       "  'pixel15',\n",
       "  'pixel16',\n",
       "  'pixel17',\n",
       "  'pixel18',\n",
       "  'pixel19',\n",
       "  'pixel20',\n",
       "  'pixel21',\n",
       "  'pixel22',\n",
       "  'pixel23',\n",
       "  'pixel24',\n",
       "  'pixel25',\n",
       "  'pixel26',\n",
       "  'pixel27',\n",
       "  'pixel28',\n",
       "  'pixel29',\n",
       "  'pixel30',\n",
       "  'pixel31',\n",
       "  'pixel32',\n",
       "  'pixel33',\n",
       "  'pixel34',\n",
       "  'pixel35',\n",
       "  'pixel36',\n",
       "  'pixel37',\n",
       "  'pixel38',\n",
       "  'pixel39',\n",
       "  'pixel40',\n",
       "  'pixel41',\n",
       "  'pixel42',\n",
       "  'pixel43',\n",
       "  'pixel44',\n",
       "  'pixel45',\n",
       "  'pixel46',\n",
       "  'pixel47',\n",
       "  'pixel48',\n",
       "  'pixel49',\n",
       "  'pixel50',\n",
       "  'pixel51',\n",
       "  'pixel52',\n",
       "  'pixel53',\n",
       "  'pixel54',\n",
       "  'pixel55',\n",
       "  'pixel56',\n",
       "  'pixel57',\n",
       "  'pixel58',\n",
       "  'pixel59',\n",
       "  'pixel60',\n",
       "  'pixel61',\n",
       "  'pixel62',\n",
       "  'pixel63',\n",
       "  'pixel64',\n",
       "  'pixel65',\n",
       "  'pixel66',\n",
       "  'pixel67',\n",
       "  'pixel68',\n",
       "  'pixel69',\n",
       "  'pixel70',\n",
       "  'pixel71',\n",
       "  'pixel72',\n",
       "  'pixel73',\n",
       "  'pixel74',\n",
       "  'pixel75',\n",
       "  'pixel76',\n",
       "  'pixel77',\n",
       "  'pixel78',\n",
       "  'pixel79',\n",
       "  'pixel80',\n",
       "  'pixel81',\n",
       "  'pixel82',\n",
       "  'pixel83',\n",
       "  'pixel84',\n",
       "  'pixel85',\n",
       "  'pixel86',\n",
       "  'pixel87',\n",
       "  'pixel88',\n",
       "  'pixel89',\n",
       "  'pixel90',\n",
       "  'pixel91',\n",
       "  'pixel92',\n",
       "  'pixel93',\n",
       "  'pixel94',\n",
       "  'pixel95',\n",
       "  'pixel96',\n",
       "  'pixel97',\n",
       "  'pixel98',\n",
       "  'pixel99',\n",
       "  'pixel100',\n",
       "  'pixel101',\n",
       "  'pixel102',\n",
       "  'pixel103',\n",
       "  'pixel104',\n",
       "  'pixel105',\n",
       "  'pixel106',\n",
       "  'pixel107',\n",
       "  'pixel108',\n",
       "  'pixel109',\n",
       "  'pixel110',\n",
       "  'pixel111',\n",
       "  'pixel112',\n",
       "  'pixel113',\n",
       "  'pixel114',\n",
       "  'pixel115',\n",
       "  'pixel116',\n",
       "  'pixel117',\n",
       "  'pixel118',\n",
       "  'pixel119',\n",
       "  'pixel120',\n",
       "  'pixel121',\n",
       "  'pixel122',\n",
       "  'pixel123',\n",
       "  'pixel124',\n",
       "  'pixel125',\n",
       "  'pixel126',\n",
       "  'pixel127',\n",
       "  'pixel128',\n",
       "  'pixel129',\n",
       "  'pixel130',\n",
       "  'pixel131',\n",
       "  'pixel132',\n",
       "  'pixel133',\n",
       "  'pixel134',\n",
       "  'pixel135',\n",
       "  'pixel136',\n",
       "  'pixel137',\n",
       "  'pixel138',\n",
       "  'pixel139',\n",
       "  'pixel140',\n",
       "  'pixel141',\n",
       "  'pixel142',\n",
       "  'pixel143',\n",
       "  'pixel144',\n",
       "  'pixel145',\n",
       "  'pixel146',\n",
       "  'pixel147',\n",
       "  'pixel148',\n",
       "  'pixel149',\n",
       "  'pixel150',\n",
       "  'pixel151',\n",
       "  'pixel152',\n",
       "  'pixel153',\n",
       "  'pixel154',\n",
       "  'pixel155',\n",
       "  'pixel156',\n",
       "  'pixel157',\n",
       "  'pixel158',\n",
       "  'pixel159',\n",
       "  'pixel160',\n",
       "  'pixel161',\n",
       "  'pixel162',\n",
       "  'pixel163',\n",
       "  'pixel164',\n",
       "  'pixel165',\n",
       "  'pixel166',\n",
       "  'pixel167',\n",
       "  'pixel168',\n",
       "  'pixel169',\n",
       "  'pixel170',\n",
       "  'pixel171',\n",
       "  'pixel172',\n",
       "  'pixel173',\n",
       "  'pixel174',\n",
       "  'pixel175',\n",
       "  'pixel176',\n",
       "  'pixel177',\n",
       "  'pixel178',\n",
       "  'pixel179',\n",
       "  'pixel180',\n",
       "  'pixel181',\n",
       "  'pixel182',\n",
       "  'pixel183',\n",
       "  'pixel184',\n",
       "  'pixel185',\n",
       "  'pixel186',\n",
       "  'pixel187',\n",
       "  'pixel188',\n",
       "  'pixel189',\n",
       "  'pixel190',\n",
       "  'pixel191',\n",
       "  'pixel192',\n",
       "  'pixel193',\n",
       "  'pixel194',\n",
       "  'pixel195',\n",
       "  'pixel196',\n",
       "  'pixel197',\n",
       "  'pixel198',\n",
       "  'pixel199',\n",
       "  'pixel200',\n",
       "  'pixel201',\n",
       "  'pixel202',\n",
       "  'pixel203',\n",
       "  'pixel204',\n",
       "  'pixel205',\n",
       "  'pixel206',\n",
       "  'pixel207',\n",
       "  'pixel208',\n",
       "  'pixel209',\n",
       "  'pixel210',\n",
       "  'pixel211',\n",
       "  'pixel212',\n",
       "  'pixel213',\n",
       "  'pixel214',\n",
       "  'pixel215',\n",
       "  'pixel216',\n",
       "  'pixel217',\n",
       "  'pixel218',\n",
       "  'pixel219',\n",
       "  'pixel220',\n",
       "  'pixel221',\n",
       "  'pixel222',\n",
       "  'pixel223',\n",
       "  'pixel224',\n",
       "  'pixel225',\n",
       "  'pixel226',\n",
       "  'pixel227',\n",
       "  'pixel228',\n",
       "  'pixel229',\n",
       "  'pixel230',\n",
       "  'pixel231',\n",
       "  'pixel232',\n",
       "  'pixel233',\n",
       "  'pixel234',\n",
       "  'pixel235',\n",
       "  'pixel236',\n",
       "  'pixel237',\n",
       "  'pixel238',\n",
       "  'pixel239',\n",
       "  'pixel240',\n",
       "  'pixel241',\n",
       "  'pixel242',\n",
       "  'pixel243',\n",
       "  'pixel244',\n",
       "  'pixel245',\n",
       "  'pixel246',\n",
       "  'pixel247',\n",
       "  'pixel248',\n",
       "  'pixel249',\n",
       "  'pixel250',\n",
       "  'pixel251',\n",
       "  'pixel252',\n",
       "  'pixel253',\n",
       "  'pixel254',\n",
       "  'pixel255',\n",
       "  'pixel256',\n",
       "  'pixel257',\n",
       "  'pixel258',\n",
       "  'pixel259',\n",
       "  'pixel260',\n",
       "  'pixel261',\n",
       "  'pixel262',\n",
       "  'pixel263',\n",
       "  'pixel264',\n",
       "  'pixel265',\n",
       "  'pixel266',\n",
       "  'pixel267',\n",
       "  'pixel268',\n",
       "  'pixel269',\n",
       "  'pixel270',\n",
       "  'pixel271',\n",
       "  'pixel272',\n",
       "  'pixel273',\n",
       "  'pixel274',\n",
       "  'pixel275',\n",
       "  'pixel276',\n",
       "  'pixel277',\n",
       "  'pixel278',\n",
       "  'pixel279',\n",
       "  'pixel280',\n",
       "  'pixel281',\n",
       "  'pixel282',\n",
       "  'pixel283',\n",
       "  'pixel284',\n",
       "  'pixel285',\n",
       "  'pixel286',\n",
       "  'pixel287',\n",
       "  'pixel288',\n",
       "  'pixel289',\n",
       "  'pixel290',\n",
       "  'pixel291',\n",
       "  'pixel292',\n",
       "  'pixel293',\n",
       "  'pixel294',\n",
       "  'pixel295',\n",
       "  'pixel296',\n",
       "  'pixel297',\n",
       "  'pixel298',\n",
       "  'pixel299',\n",
       "  'pixel300',\n",
       "  'pixel301',\n",
       "  'pixel302',\n",
       "  'pixel303',\n",
       "  'pixel304',\n",
       "  'pixel305',\n",
       "  'pixel306',\n",
       "  'pixel307',\n",
       "  'pixel308',\n",
       "  'pixel309',\n",
       "  'pixel310',\n",
       "  'pixel311',\n",
       "  'pixel312',\n",
       "  'pixel313',\n",
       "  'pixel314',\n",
       "  'pixel315',\n",
       "  'pixel316',\n",
       "  'pixel317',\n",
       "  'pixel318',\n",
       "  'pixel319',\n",
       "  'pixel320',\n",
       "  'pixel321',\n",
       "  'pixel322',\n",
       "  'pixel323',\n",
       "  'pixel324',\n",
       "  'pixel325',\n",
       "  'pixel326',\n",
       "  'pixel327',\n",
       "  'pixel328',\n",
       "  'pixel329',\n",
       "  'pixel330',\n",
       "  'pixel331',\n",
       "  'pixel332',\n",
       "  'pixel333',\n",
       "  'pixel334',\n",
       "  'pixel335',\n",
       "  'pixel336',\n",
       "  'pixel337',\n",
       "  'pixel338',\n",
       "  'pixel339',\n",
       "  'pixel340',\n",
       "  'pixel341',\n",
       "  'pixel342',\n",
       "  'pixel343',\n",
       "  'pixel344',\n",
       "  'pixel345',\n",
       "  'pixel346',\n",
       "  'pixel347',\n",
       "  'pixel348',\n",
       "  'pixel349',\n",
       "  'pixel350',\n",
       "  'pixel351',\n",
       "  'pixel352',\n",
       "  'pixel353',\n",
       "  'pixel354',\n",
       "  'pixel355',\n",
       "  'pixel356',\n",
       "  'pixel357',\n",
       "  'pixel358',\n",
       "  'pixel359',\n",
       "  'pixel360',\n",
       "  'pixel361',\n",
       "  'pixel362',\n",
       "  'pixel363',\n",
       "  'pixel364',\n",
       "  'pixel365',\n",
       "  'pixel366',\n",
       "  'pixel367',\n",
       "  'pixel368',\n",
       "  'pixel369',\n",
       "  'pixel370',\n",
       "  'pixel371',\n",
       "  'pixel372',\n",
       "  'pixel373',\n",
       "  'pixel374',\n",
       "  'pixel375',\n",
       "  'pixel376',\n",
       "  'pixel377',\n",
       "  'pixel378',\n",
       "  'pixel379',\n",
       "  'pixel380',\n",
       "  'pixel381',\n",
       "  'pixel382',\n",
       "  'pixel383',\n",
       "  'pixel384',\n",
       "  'pixel385',\n",
       "  'pixel386',\n",
       "  'pixel387',\n",
       "  'pixel388',\n",
       "  'pixel389',\n",
       "  'pixel390',\n",
       "  'pixel391',\n",
       "  'pixel392',\n",
       "  'pixel393',\n",
       "  'pixel394',\n",
       "  'pixel395',\n",
       "  'pixel396',\n",
       "  'pixel397',\n",
       "  'pixel398',\n",
       "  'pixel399',\n",
       "  'pixel400',\n",
       "  'pixel401',\n",
       "  'pixel402',\n",
       "  'pixel403',\n",
       "  'pixel404',\n",
       "  'pixel405',\n",
       "  'pixel406',\n",
       "  'pixel407',\n",
       "  'pixel408',\n",
       "  'pixel409',\n",
       "  'pixel410',\n",
       "  'pixel411',\n",
       "  'pixel412',\n",
       "  'pixel413',\n",
       "  'pixel414',\n",
       "  'pixel415',\n",
       "  'pixel416',\n",
       "  'pixel417',\n",
       "  'pixel418',\n",
       "  'pixel419',\n",
       "  'pixel420',\n",
       "  'pixel421',\n",
       "  'pixel422',\n",
       "  'pixel423',\n",
       "  'pixel424',\n",
       "  'pixel425',\n",
       "  'pixel426',\n",
       "  'pixel427',\n",
       "  'pixel428',\n",
       "  'pixel429',\n",
       "  'pixel430',\n",
       "  'pixel431',\n",
       "  'pixel432',\n",
       "  'pixel433',\n",
       "  'pixel434',\n",
       "  'pixel435',\n",
       "  'pixel436',\n",
       "  'pixel437',\n",
       "  'pixel438',\n",
       "  'pixel439',\n",
       "  'pixel440',\n",
       "  'pixel441',\n",
       "  'pixel442',\n",
       "  'pixel443',\n",
       "  'pixel444',\n",
       "  'pixel445',\n",
       "  'pixel446',\n",
       "  'pixel447',\n",
       "  'pixel448',\n",
       "  'pixel449',\n",
       "  'pixel450',\n",
       "  'pixel451',\n",
       "  'pixel452',\n",
       "  'pixel453',\n",
       "  'pixel454',\n",
       "  'pixel455',\n",
       "  'pixel456',\n",
       "  'pixel457',\n",
       "  'pixel458',\n",
       "  'pixel459',\n",
       "  'pixel460',\n",
       "  'pixel461',\n",
       "  'pixel462',\n",
       "  'pixel463',\n",
       "  'pixel464',\n",
       "  'pixel465',\n",
       "  'pixel466',\n",
       "  'pixel467',\n",
       "  'pixel468',\n",
       "  'pixel469',\n",
       "  'pixel470',\n",
       "  'pixel471',\n",
       "  'pixel472',\n",
       "  'pixel473',\n",
       "  'pixel474',\n",
       "  'pixel475',\n",
       "  'pixel476',\n",
       "  'pixel477',\n",
       "  'pixel478',\n",
       "  'pixel479',\n",
       "  'pixel480',\n",
       "  'pixel481',\n",
       "  'pixel482',\n",
       "  'pixel483',\n",
       "  'pixel484',\n",
       "  'pixel485',\n",
       "  'pixel486',\n",
       "  'pixel487',\n",
       "  'pixel488',\n",
       "  'pixel489',\n",
       "  'pixel490',\n",
       "  'pixel491',\n",
       "  'pixel492',\n",
       "  'pixel493',\n",
       "  'pixel494',\n",
       "  'pixel495',\n",
       "  'pixel496',\n",
       "  'pixel497',\n",
       "  'pixel498',\n",
       "  'pixel499',\n",
       "  'pixel500',\n",
       "  'pixel501',\n",
       "  'pixel502',\n",
       "  'pixel503',\n",
       "  'pixel504',\n",
       "  'pixel505',\n",
       "  'pixel506',\n",
       "  'pixel507',\n",
       "  'pixel508',\n",
       "  'pixel509',\n",
       "  'pixel510',\n",
       "  'pixel511',\n",
       "  'pixel512',\n",
       "  'pixel513',\n",
       "  'pixel514',\n",
       "  'pixel515',\n",
       "  'pixel516',\n",
       "  'pixel517',\n",
       "  'pixel518',\n",
       "  'pixel519',\n",
       "  'pixel520',\n",
       "  'pixel521',\n",
       "  'pixel522',\n",
       "  'pixel523',\n",
       "  'pixel524',\n",
       "  'pixel525',\n",
       "  'pixel526',\n",
       "  'pixel527',\n",
       "  'pixel528',\n",
       "  'pixel529',\n",
       "  'pixel530',\n",
       "  'pixel531',\n",
       "  'pixel532',\n",
       "  'pixel533',\n",
       "  'pixel534',\n",
       "  'pixel535',\n",
       "  'pixel536',\n",
       "  'pixel537',\n",
       "  'pixel538',\n",
       "  'pixel539',\n",
       "  'pixel540',\n",
       "  'pixel541',\n",
       "  'pixel542',\n",
       "  'pixel543',\n",
       "  'pixel544',\n",
       "  'pixel545',\n",
       "  'pixel546',\n",
       "  'pixel547',\n",
       "  'pixel548',\n",
       "  'pixel549',\n",
       "  'pixel550',\n",
       "  'pixel551',\n",
       "  'pixel552',\n",
       "  'pixel553',\n",
       "  'pixel554',\n",
       "  'pixel555',\n",
       "  'pixel556',\n",
       "  'pixel557',\n",
       "  'pixel558',\n",
       "  'pixel559',\n",
       "  'pixel560',\n",
       "  'pixel561',\n",
       "  'pixel562',\n",
       "  'pixel563',\n",
       "  'pixel564',\n",
       "  'pixel565',\n",
       "  'pixel566',\n",
       "  'pixel567',\n",
       "  'pixel568',\n",
       "  'pixel569',\n",
       "  'pixel570',\n",
       "  'pixel571',\n",
       "  'pixel572',\n",
       "  'pixel573',\n",
       "  'pixel574',\n",
       "  'pixel575',\n",
       "  'pixel576',\n",
       "  'pixel577',\n",
       "  'pixel578',\n",
       "  'pixel579',\n",
       "  'pixel580',\n",
       "  'pixel581',\n",
       "  'pixel582',\n",
       "  'pixel583',\n",
       "  'pixel584',\n",
       "  'pixel585',\n",
       "  'pixel586',\n",
       "  'pixel587',\n",
       "  'pixel588',\n",
       "  'pixel589',\n",
       "  'pixel590',\n",
       "  'pixel591',\n",
       "  'pixel592',\n",
       "  'pixel593',\n",
       "  'pixel594',\n",
       "  'pixel595',\n",
       "  'pixel596',\n",
       "  'pixel597',\n",
       "  'pixel598',\n",
       "  'pixel599',\n",
       "  'pixel600',\n",
       "  'pixel601',\n",
       "  'pixel602',\n",
       "  'pixel603',\n",
       "  'pixel604',\n",
       "  'pixel605',\n",
       "  'pixel606',\n",
       "  'pixel607',\n",
       "  'pixel608',\n",
       "  'pixel609',\n",
       "  'pixel610',\n",
       "  'pixel611',\n",
       "  'pixel612',\n",
       "  'pixel613',\n",
       "  'pixel614',\n",
       "  'pixel615',\n",
       "  'pixel616',\n",
       "  'pixel617',\n",
       "  'pixel618',\n",
       "  'pixel619',\n",
       "  'pixel620',\n",
       "  'pixel621',\n",
       "  'pixel622',\n",
       "  'pixel623',\n",
       "  'pixel624',\n",
       "  'pixel625',\n",
       "  'pixel626',\n",
       "  'pixel627',\n",
       "  'pixel628',\n",
       "  'pixel629',\n",
       "  'pixel630',\n",
       "  'pixel631',\n",
       "  'pixel632',\n",
       "  'pixel633',\n",
       "  'pixel634',\n",
       "  'pixel635',\n",
       "  'pixel636',\n",
       "  'pixel637',\n",
       "  'pixel638',\n",
       "  'pixel639',\n",
       "  'pixel640',\n",
       "  'pixel641',\n",
       "  'pixel642',\n",
       "  'pixel643',\n",
       "  'pixel644',\n",
       "  'pixel645',\n",
       "  'pixel646',\n",
       "  'pixel647',\n",
       "  'pixel648',\n",
       "  'pixel649',\n",
       "  'pixel650',\n",
       "  'pixel651',\n",
       "  'pixel652',\n",
       "  'pixel653',\n",
       "  'pixel654',\n",
       "  'pixel655',\n",
       "  'pixel656',\n",
       "  'pixel657',\n",
       "  'pixel658',\n",
       "  'pixel659',\n",
       "  'pixel660',\n",
       "  'pixel661',\n",
       "  'pixel662',\n",
       "  'pixel663',\n",
       "  'pixel664',\n",
       "  'pixel665',\n",
       "  'pixel666',\n",
       "  'pixel667',\n",
       "  'pixel668',\n",
       "  'pixel669',\n",
       "  'pixel670',\n",
       "  'pixel671',\n",
       "  'pixel672',\n",
       "  'pixel673',\n",
       "  'pixel674',\n",
       "  'pixel675',\n",
       "  'pixel676',\n",
       "  'pixel677',\n",
       "  'pixel678',\n",
       "  'pixel679',\n",
       "  'pixel680',\n",
       "  'pixel681',\n",
       "  'pixel682',\n",
       "  'pixel683',\n",
       "  'pixel684',\n",
       "  'pixel685',\n",
       "  'pixel686',\n",
       "  'pixel687',\n",
       "  'pixel688',\n",
       "  'pixel689',\n",
       "  'pixel690',\n",
       "  'pixel691',\n",
       "  'pixel692',\n",
       "  'pixel693',\n",
       "  'pixel694',\n",
       "  'pixel695',\n",
       "  'pixel696',\n",
       "  'pixel697',\n",
       "  'pixel698',\n",
       "  'pixel699',\n",
       "  'pixel700',\n",
       "  'pixel701',\n",
       "  'pixel702',\n",
       "  'pixel703',\n",
       "  'pixel704',\n",
       "  'pixel705',\n",
       "  'pixel706',\n",
       "  'pixel707',\n",
       "  'pixel708',\n",
       "  'pixel709',\n",
       "  'pixel710',\n",
       "  'pixel711',\n",
       "  'pixel712',\n",
       "  'pixel713',\n",
       "  'pixel714',\n",
       "  'pixel715',\n",
       "  'pixel716',\n",
       "  'pixel717',\n",
       "  'pixel718',\n",
       "  'pixel719',\n",
       "  'pixel720',\n",
       "  'pixel721',\n",
       "  'pixel722',\n",
       "  'pixel723',\n",
       "  'pixel724',\n",
       "  'pixel725',\n",
       "  'pixel726',\n",
       "  'pixel727',\n",
       "  'pixel728',\n",
       "  'pixel729',\n",
       "  'pixel730',\n",
       "  'pixel731',\n",
       "  'pixel732',\n",
       "  'pixel733',\n",
       "  'pixel734',\n",
       "  'pixel735',\n",
       "  'pixel736',\n",
       "  'pixel737',\n",
       "  'pixel738',\n",
       "  'pixel739',\n",
       "  'pixel740',\n",
       "  'pixel741',\n",
       "  'pixel742',\n",
       "  'pixel743',\n",
       "  'pixel744',\n",
       "  'pixel745',\n",
       "  'pixel746',\n",
       "  'pixel747',\n",
       "  'pixel748',\n",
       "  'pixel749',\n",
       "  'pixel750',\n",
       "  'pixel751',\n",
       "  'pixel752',\n",
       "  'pixel753',\n",
       "  'pixel754',\n",
       "  'pixel755',\n",
       "  'pixel756',\n",
       "  'pixel757',\n",
       "  'pixel758',\n",
       "  'pixel759',\n",
       "  'pixel760',\n",
       "  'pixel761',\n",
       "  'pixel762',\n",
       "  'pixel763',\n",
       "  'pixel764',\n",
       "  'pixel765',\n",
       "  'pixel766',\n",
       "  'pixel767',\n",
       "  'pixel768',\n",
       "  'pixel769',\n",
       "  'pixel770',\n",
       "  'pixel771',\n",
       "  'pixel772',\n",
       "  'pixel773',\n",
       "  'pixel774',\n",
       "  'pixel775',\n",
       "  'pixel776',\n",
       "  'pixel777',\n",
       "  'pixel778',\n",
       "  'pixel779',\n",
       "  'pixel780',\n",
       "  'pixel781',\n",
       "  'pixel782',\n",
       "  'pixel783',\n",
       "  'pixel784'],\n",
       " 'target_names': ['class'],\n",
       " 'DESCR': \"**Author**: Han Xiao, Kashif Rasul, Roland Vollgraf  \\n**Source**: [Zalando Research](https://github.com/zalandoresearch/fashion-mnist)  \\n**Please cite**: Han Xiao and Kashif Rasul and Roland Vollgraf, Fashion-MNIST: a Novel Image Dataset for Benchmarking Machine Learning Algorithms, arXiv, cs.LG/1708.07747  \\n\\nFashion-MNIST is a dataset of Zalando's article images, consisting of a training set of 60,000 examples and a test set of 10,000 examples. Each example is a 28x28 grayscale image, associated with a label from 10 classes. Fashion-MNIST is intended to serve as a direct drop-in replacement for the original MNIST dataset for benchmarking machine learning algorithms. It shares the same image size and structure of training and testing splits. \\n\\nRaw data available at: https://github.com/zalandoresearch/fashion-mnist\\n\\n### Target classes\\nEach training and test example is assigned to one of the following labels:\\nLabel  Description  \\n0  T-shirt/top  \\n1  Trouser  \\n2  Pullover  \\n3  Dress  \\n4  Coat  \\n5  Sandal  \\n6  Shirt  \\n7  Sneaker  \\n8  Bag  \\n9  Ankle boot\\n\\nDownloaded from openml.org.\",\n",
       " 'details': {'id': '40996',\n",
       "  'name': 'Fashion-MNIST',\n",
       "  'version': '1',\n",
       "  'format': 'ARFF',\n",
       "  'creator': ['Han Xiao', 'Kashif Rasul', 'Roland Vollgraf'],\n",
       "  'upload_date': '2017-12-20T13:28:27',\n",
       "  'licence': 'Public',\n",
       "  'url': 'https://www.openml.org/data/v1/download/18238735/Fashion-MNIST.arff',\n",
       "  'file_id': '18238735',\n",
       "  'default_target_attribute': 'class',\n",
       "  'version_label': '1.0',\n",
       "  'citation': '@online{xiao2017/online,\\n  author       = {Han Xiao and Kashif Rasul and Roland Vollgraf},\\n  title        = {Fashion-MNIST: a Novel Image Dataset for Benchmarking Machine Learning Algorithms},\\n  date         = {2017-08-28},\\n  year         = {2017},\\n  eprintclass  = {cs.LG},\\n  eprinttype   = {arXiv},\\n  eprint       = {cs.LG/1708.07747},\\n}',\n",
       "  'tag': ['OpenML-CC18', 'study_218', 'study_99', 'vision'],\n",
       "  'visibility': 'public',\n",
       "  'original_data_url': 'https://github.com/zalandoresearch/fashion-mnist',\n",
       "  'paper_url': 'Fashion-MNIST: a Novel Image Dataset for Benchmarking Machine Learning Algorithms. Han Xiao, Kashif Rasul, Roland Vollgraf. arXiv:1708.07747',\n",
       "  'status': 'active',\n",
       "  'processing_date': '2018-10-04 07:21:31',\n",
       "  'md5_checksum': 'cdfc9c58cb9fe86ffaa76af247ae2ef2'},\n",
       " 'url': 'https://www.openml.org/d/40996'}"
      ]
     },
     "execution_count": 175,
     "metadata": {},
     "output_type": "execute_result"
    }
   ],
   "source": [
    "from sklearn.datasets import fetch_openml\n",
    "\n",
    "fmnist = fetch_openml('Fashion-MNIST')\n",
    "fmnist"
   ]
  },
  {
   "cell_type": "markdown",
   "metadata": {},
   "source": [
    "![Fashion MNIST](https://miro.medium.com/max/788/1*ogbAotjStIKLG4TyLzzDtQ.png)"
   ]
  },
  {
   "cell_type": "code",
   "execution_count": 176,
   "metadata": {},
   "outputs": [
    {
     "data": {
      "text/plain": [
       "(70000, 784)"
      ]
     },
     "execution_count": 176,
     "metadata": {},
     "output_type": "execute_result"
    }
   ],
   "source": [
    "fmnist.data.shape"
   ]
  },
  {
   "cell_type": "code",
   "execution_count": 187,
   "metadata": {},
   "outputs": [
    {
     "data": {
      "text/plain": [
       "<matplotlib.image.AxesImage at 0x26d295c07f0>"
      ]
     },
     "execution_count": 187,
     "metadata": {},
     "output_type": "execute_result"
    },
    {
     "data": {
      "image/png": "[encoded data removed]",
      "text/plain": [
       "<Figure size 216x216 with 1 Axes>"
      ]
     },
     "metadata": {},
     "output_type": "display_data"
    }
   ],
   "source": [
    "plt.figure(figsize=(3,3))\n",
    "plt.imshow(fmnist.data.iloc[0,:].values.reshape(28,28))"
   ]
  },
  {
   "cell_type": "markdown",
   "metadata": {},
   "source": [
    "Zrób klasteryzację KMeans bezpośrednio na danych oraz z użyciem PCA. Porównaj wyniki z użyciem V-measure."
   ]
  },
  {
   "cell_type": "code",
   "execution_count": 188,
   "metadata": {},
   "outputs": [],
   "source": [
    "mbk = MiniBatchKMeans(n_clusters=10)"
   ]
  },
  {
   "cell_type": "code",
   "execution_count": 189,
   "metadata": {},
   "outputs": [
    {
     "name": "stderr",
     "output_type": "stream",
     "text": [
      "C:\\Users\\Bogdan\\AppData\\Roaming\\Python\\Python38\\site-packages\\sklearn\\cluster\\_kmeans.py:1043: UserWarning: MiniBatchKMeans is known to have a memory leak on Windows with MKL, when there are less chunks than available threads. You can prevent it by setting batch_size >= 2048 or by setting the environment variable OMP_NUM_THREADS=4\n",
      "  warnings.warn(\n"
     ]
    }
   ],
   "source": [
    "groups = mbk.fit_predict(fmnist.data)"
   ]
  },
  {
   "cell_type": "code",
   "execution_count": 190,
   "metadata": {},
   "outputs": [
    {
     "data": {
      "text/plain": [
       "array([3, 8, 1, ..., 1, 4, 7])"
      ]
     },
     "execution_count": 190,
     "metadata": {},
     "output_type": "execute_result"
    }
   ],
   "source": [
    "groups"
   ]
  },
  {
   "cell_type": "code",
   "execution_count": 191,
   "metadata": {},
   "outputs": [],
   "source": [
    "from sklearn.metrics import v_measure_score"
   ]
  },
  {
   "cell_type": "code",
   "execution_count": 192,
   "metadata": {},
   "outputs": [
    {
     "data": {
      "text/plain": [
       "0.52695565392196"
      ]
     },
     "execution_count": 192,
     "metadata": {},
     "output_type": "execute_result"
    }
   ],
   "source": [
    "v_measure_score(fmnist.target, groups)"
   ]
  },
  {
   "cell_type": "markdown",
   "metadata": {},
   "source": [
    "Zwizualizuj kilka przykładów z poszczególnych klastrów."
   ]
  },
  {
   "cell_type": "code",
   "execution_count": 193,
   "metadata": {},
   "outputs": [
    {
     "data": {
      "text/plain": [
       "[[], [], [], [], [], [], [], [], [], []]"
      ]
     },
     "execution_count": 193,
     "metadata": {},
     "output_type": "execute_result"
    }
   ],
   "source": [
    "cluster_index = [[] for i in range(10)]\n",
    "cluster_index"
   ]
  },
  {
   "cell_type": "code",
   "execution_count": 194,
   "metadata": {},
   "outputs": [],
   "source": [
    "for i, label in enumerate(groups):\n",
    "    cluster_index[label].append(i)"
   ]
  },
  {
   "cell_type": "code",
   "execution_count": 200,
   "metadata": {},
   "outputs": [
    {
     "data": {
      "image/png": "[encoded data removed]",
      "text/plain": [
       "<Figure size 1440x1440 with 99 Axes>"
      ]
     },
     "metadata": {},
     "output_type": "display_data"
    }
   ],
   "source": [
    "cluster_no = 2\n",
    "num = 100\n",
    "\n",
    "plt.figure(figsize=(20,20))\n",
    "\n",
    "for i in range(1, num):\n",
    "    plt.subplot(10,10,i)\n",
    "    plt.imshow(fmnist.data.iloc[cluster_index[cluster_no][i],:].values.reshape(28,28))\n",
    "\n",
    "plt.show()"
   ]
  },
  {
   "cell_type": "markdown",
   "metadata": {},
   "source": [
    "Zrób rozkład dla każdego klastra ile obiektów poszczególnych klas zawiera"
   ]
  },
  {
   "cell_type": "code",
   "execution_count": 201,
   "metadata": {},
   "outputs": [],
   "source": [
    "class_names = {0:'tshirt',1:'trouser',2:'pullover',3:'dress',4:'coat',5:'sandals',6:'shirt',7:'sneaker',8:'bag',9:'ankle boots'}"
   ]
  },
  {
   "cell_type": "code",
   "execution_count": 202,
   "metadata": {},
   "outputs": [],
   "source": [
    "cluster_target = [[] for i in range(10)]"
   ]
  },
  {
   "cell_type": "code",
   "execution_count": 206,
   "metadata": {},
   "outputs": [],
   "source": [
    "for i in range(10):\n",
    "    target_occurences = fmnist.target[cluster_index[i]]\n",
    "    elements, counts = np.unique(target_occurences, return_counts=True)\n",
    "    elements_names = [class_names[int(x)] for x in elements]\n",
    "    cluster_target[i] = dict(zip(elements_names, counts))"
   ]
  },
  {
   "cell_type": "code",
   "execution_count": 207,
   "metadata": {},
   "outputs": [
    {
     "data": {
      "text/plain": [
       "[{'tshirt': 580,\n",
       "  'trouser': 294,\n",
       "  'pullover': 370,\n",
       "  'dress': 1909,\n",
       "  'coat': 1655,\n",
       "  'sandals': 2,\n",
       "  'shirt': 660,\n",
       "  'bag': 39,\n",
       "  'ankle boots': 9},\n",
       " {'tshirt': 2152,\n",
       "  'trouser': 472,\n",
       "  'pullover': 2201,\n",
       "  'dress': 1401,\n",
       "  'coat': 1111,\n",
       "  'sandals': 1213,\n",
       "  'shirt': 2831,\n",
       "  'sneaker': 3,\n",
       "  'bag': 708,\n",
       "  'ankle boots': 121},\n",
       " {'tshirt': 30,\n",
       "  'trouser': 4,\n",
       "  'pullover': 39,\n",
       "  'dress': 6,\n",
       "  'coat': 18,\n",
       "  'sandals': 4,\n",
       "  'shirt': 81,\n",
       "  'sneaker': 1,\n",
       "  'bag': 2572,\n",
       "  'ankle boots': 4},\n",
       " {'sandals': 339, 'shirt': 1, 'sneaker': 29, 'bag': 7, 'ankle boots': 3224},\n",
       " {'tshirt': 248,\n",
       "  'trouser': 6149,\n",
       "  'pullover': 10,\n",
       "  'dress': 3517,\n",
       "  'coat': 137,\n",
       "  'sandals': 1,\n",
       "  'shirt': 87,\n",
       "  'bag': 17,\n",
       "  'ankle boots': 3},\n",
       " {'sandals': 793, 'shirt': 1, 'sneaker': 1208, 'bag': 93, 'ankle boots': 3471},\n",
       " {'tshirt': 34,\n",
       "  'pullover': 43,\n",
       "  'dress': 10,\n",
       "  'coat': 39,\n",
       "  'sandals': 10,\n",
       "  'shirt': 25,\n",
       "  'bag': 2793,\n",
       "  'ankle boots': 2},\n",
       " {'tshirt': 9,\n",
       "  'pullover': 3,\n",
       "  'coat': 1,\n",
       "  'sandals': 4638,\n",
       "  'shirt': 16,\n",
       "  'sneaker': 5759,\n",
       "  'bag': 421,\n",
       "  'ankle boots': 165},\n",
       " {'tshirt': 3773,\n",
       "  'trouser': 3,\n",
       "  'pullover': 58,\n",
       "  'dress': 105,\n",
       "  'coat': 5,\n",
       "  'shirt': 865,\n",
       "  'bag': 7},\n",
       " {'tshirt': 174,\n",
       "  'trouser': 78,\n",
       "  'pullover': 4276,\n",
       "  'dress': 52,\n",
       "  'coat': 4034,\n",
       "  'shirt': 2433,\n",
       "  'bag': 343,\n",
       "  'ankle boots': 1}]"
      ]
     },
     "execution_count": 207,
     "metadata": {},
     "output_type": "execute_result"
    }
   ],
   "source": [
    "cluster_target"
   ]
  },
  {
   "cell_type": "code",
   "execution_count": null,
   "metadata": {},
   "outputs": [],
   "source": []
  }
 ],
 "metadata": {
  "kernelspec": {
   "display_name": "Python 3",
   "language": "python",
   "name": "python3"
  },
  "language_info": {
   "codemirror_mode": {
    "name": "ipython",
    "version": 3
   },
   "file_extension": ".py",
   "mimetype": "text/x-python",
   "name": "python",
   "nbconvert_exporter": "python",
   "pygments_lexer": "ipython3",
   "version": "3.8.3"
  }
 },
 "nbformat": 4,
 "nbformat_minor": 4
}
