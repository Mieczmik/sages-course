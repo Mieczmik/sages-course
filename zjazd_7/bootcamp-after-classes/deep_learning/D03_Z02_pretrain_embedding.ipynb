{
 "cells": [
  {
   "cell_type": "code",
   "execution_count": 1,
   "metadata": {},
   "outputs": [
    {
     "name": "stderr",
     "output_type": "stream",
     "text": [
      "Using TensorFlow backend.\n"
     ]
    }
   ],
   "source": [
    "import matplotlib.pyplot as plt\n",
    "import os\n",
    "import sys\n",
    "import numpy as np\n",
    "\n",
    "from keras.models import Sequential\n",
    "from keras.layers import Dense\n",
    "from keras.callbacks import LearningRateScheduler\n",
    "from keras.callbacks import ModelCheckpoint\n",
    "from keras.callbacks import EarlyStopping\n",
    "from keras.layers import Dropout\n",
    "from keras.layers import BatchNormalization\n",
    "from keras.layers import Activation\n",
    "from keras.layers import Flatten\n",
    "from keras.layers.convolutional import Conv2D, MaxPooling2D, AveragePooling2D\n",
    "from keras.layers import Dense, Dropout, Embedding, SimpleRNN, LSTM, Bidirectional\n",
    "from keras.preprocessing.text import Tokenizer\n",
    "from keras.preprocessing.sequence import pad_sequences\n",
    "from keras.callbacks import History\n",
    "\n",
    "\n"
   ]
  },
  {
   "cell_type": "markdown",
   "metadata": {},
   "source": [
    "The Embedding layer is defined as the first hidden layer of a network. It must specify 3 arguments:\n",
    "\n",
    "It must specify 3 arguments:\n",
    "\n",
    "* **input_dim**: This is the size of the vocabulary in the text data. For example, if your data is integer encoded to values between 0-10, then the size of the vocabulary would be 11 words.\n",
    "* **output_dim**: This is the size of the vector space in which words will be embedded. It defines the size of the output vectors from this layer for each word. For example, it could be 32 or 100 or even larger. Test different values for your problem.\n",
    "* **input_length**: This is the length of input sequences, as you would define for any input layer of a Keras model. For example, if all of your input documents are comprised of 1000 words, this would be 1000.\n",
    "\n",
    "# Zad. \n",
    "Podążamy za stroną: \n",
    "\n",
    "https://machinelearningmastery.com/use-word-embedding-layers-deep-learning-keras/\n",
    "\n",
    "mamy jakiś zbiór tekstów:"
   ]
  },
  {
   "cell_type": "code",
   "execution_count": 2,
   "metadata": {},
   "outputs": [],
   "source": [
    "# define documents\n",
    "docs = ['Well done!',\n",
    "    'Good work',\n",
    "    'Great effort',\n",
    "    'nice work',\n",
    "    'Excellent!',\n",
    "    'Weak',\n",
    "    'Poor effort!',\n",
    "    'not good',\n",
    "    'poor work',\n",
    "    'Could have done better.']\n",
    "# define class labels\n",
    "labels = np.array([1,1,1,1,1,0,0,0,0,0])"
   ]
  },
  {
   "cell_type": "markdown",
   "metadata": {},
   "source": [
    "* Do warstwy **Embedding layer** wchodzi sekwencja intów.\n",
    "\n",
    "* my wykorzystamy reprezenatację Bag of Words"
   ]
  },
  {
   "cell_type": "code",
   "execution_count": 3,
   "metadata": {},
   "outputs": [
    {
     "name": "stdout",
     "output_type": "stream",
     "text": [
      "[[49, 28], [41, 26], [29, 8], [42, 26], [30], [17], [13, 8], [13, 41], [13, 26], [27, 4, 28, 25]]\n"
     ]
    }
   ],
   "source": [
    "from keras.preprocessing.text import one_hot\n",
    "vocab_size = 50\n",
    "encoded_docs = [one_hot(d, vocab_size) for d in docs]\n",
    "print(encoded_docs)"
   ]
  },
  {
   "cell_type": "markdown",
   "metadata": {},
   "source": [
    "Sekwencje mają różne długości, a Keras wymaga aby wejścia były równej długość."
   ]
  },
  {
   "cell_type": "code",
   "execution_count": 4,
   "metadata": {},
   "outputs": [
    {
     "name": "stdout",
     "output_type": "stream",
     "text": [
      "[[49 28  0  0]\n",
      " [41 26  0  0]\n",
      " [29  8  0  0]\n",
      " [42 26  0  0]\n",
      " [30  0  0  0]\n",
      " [17  0  0  0]\n",
      " [13  8  0  0]\n",
      " [13 41  0  0]\n",
      " [13 26  0  0]\n",
      " [27  4 28 25]]\n"
     ]
    }
   ],
   "source": [
    "from keras.preprocessing.sequence import pad_sequences\n",
    "# pad documents to a max length of 4 words\n",
    "max_length = 4\n",
    "padded_docs = pad_sequences(encoded_docs, maxlen=max_length, padding='post')\n",
    "print(padded_docs)"
   ]
  },
  {
   "cell_type": "markdown",
   "metadata": {},
   "source": [
    "* Embeding ma rakres 50 i długość wejściową 4. Zmniejszmy embending do wymiaru 8.\n",
    "* Model jest prostym klasyfikatorem binarnym. \n",
    "* Co ważne, wynik z warstwy Embeding będzie wynosił 4 wektory o 8 wymiarach każdy, po jednym dla każdego słowa. \n",
    "* Spłaszczamy to do jednego 32-elementowego wektora, aby przejść do warstwy wyjściowej Dense."
   ]
  },
  {
   "cell_type": "code",
   "execution_count": 5,
   "metadata": {},
   "outputs": [
    {
     "name": "stdout",
     "output_type": "stream",
     "text": [
      "WARNING:tensorflow:From C:\\ProgramData\\Anaconda3\\lib\\site-packages\\tensorflow_core\\python\\ops\\resource_variable_ops.py:1630: calling BaseResourceVariable.__init__ (from tensorflow.python.ops.resource_variable_ops) with constraint is deprecated and will be removed in a future version.\n",
      "Instructions for updating:\n",
      "If using Keras pass *_constraint arguments to layers.\n",
      "WARNING:tensorflow:From C:\\ProgramData\\Anaconda3\\lib\\site-packages\\tensorflow_core\\python\\ops\\nn_impl.py:183: where (from tensorflow.python.ops.array_ops) is deprecated and will be removed in a future version.\n",
      "Instructions for updating:\n",
      "Use tf.where in 2.0, which has the same broadcast rule as np.where\n",
      "Model: \"sequential_1\"\n",
      "_________________________________________________________________\n",
      "Layer (type)                 Output Shape              Param #   \n",
      "=================================================================\n",
      "embedding_1 (Embedding)      (None, 4, 8)              400       \n",
      "_________________________________________________________________\n",
      "flatten_1 (Flatten)          (None, 32)                0         \n",
      "_________________________________________________________________\n",
      "dense_1 (Dense)              (None, 1)                 33        \n",
      "=================================================================\n",
      "Total params: 433\n",
      "Trainable params: 433\n",
      "Non-trainable params: 0\n",
      "_________________________________________________________________\n",
      "None\n",
      "WARNING:tensorflow:From C:\\ProgramData\\Anaconda3\\lib\\site-packages\\keras\\backend\\tensorflow_backend.py:422: The name tf.global_variables is deprecated. Please use tf.compat.v1.global_variables instead.\n",
      "\n",
      "Accuracy: 100.000000\n"
     ]
    }
   ],
   "source": [
    "history_1 = History()\n",
    "model = Sequential()\n",
    "model.add(Embedding(vocab_size, 8, input_length=max_length))\n",
    "model.add(Flatten())\n",
    "model.add(Dense(1, activation='sigmoid'))\n",
    "# compile the model\n",
    "model.compile(optimizer='adam', loss='binary_crossentropy', metrics=['accuracy'])\n",
    "# summarize the model\n",
    "print(model.summary())"
   ]
  },
  {
   "cell_type": "code",
   "execution_count": 6,
   "metadata": {},
   "outputs": [
    {
     "name": "stdout",
     "output_type": "stream",
     "text": [
      "Train on 9 samples, validate on 1 samples\n",
      "Epoch 1/100\n",
      "9/9 [==============================] - 0s 14ms/step - loss: 0.5873 - accuracy: 1.0000 - val_loss: 0.5114 - val_accuracy: 1.0000\n",
      "Epoch 2/100\n",
      "9/9 [==============================] - 0s 218us/step - loss: 0.5853 - accuracy: 1.0000 - val_loss: 0.5116 - val_accuracy: 1.0000\n",
      "Epoch 3/100\n",
      "9/9 [==============================] - 0s 328us/step - loss: 0.5834 - accuracy: 1.0000 - val_loss: 0.5118 - val_accuracy: 1.0000\n",
      "Epoch 4/100\n",
      "9/9 [==============================] - 0s 329us/step - loss: 0.5815 - accuracy: 1.0000 - val_loss: 0.5120 - val_accuracy: 1.0000\n",
      "Epoch 5/100\n",
      "9/9 [==============================] - 0s 336us/step - loss: 0.5795 - accuracy: 1.0000 - val_loss: 0.5122 - val_accuracy: 1.0000\n",
      "Epoch 6/100\n",
      "9/9 [==============================] - 0s 332us/step - loss: 0.5776 - accuracy: 1.0000 - val_loss: 0.5124 - val_accuracy: 1.0000\n",
      "Epoch 7/100\n",
      "9/9 [==============================] - 0s 550us/step - loss: 0.5757 - accuracy: 1.0000 - val_loss: 0.5127 - val_accuracy: 1.0000\n",
      "Epoch 8/100\n",
      "9/9 [==============================] - 0s 330us/step - loss: 0.5737 - accuracy: 1.0000 - val_loss: 0.5129 - val_accuracy: 1.0000\n",
      "Epoch 9/100\n",
      "9/9 [==============================] - 0s 332us/step - loss: 0.5718 - accuracy: 1.0000 - val_loss: 0.5131 - val_accuracy: 1.0000\n",
      "Epoch 10/100\n",
      "9/9 [==============================] - 0s 447us/step - loss: 0.5699 - accuracy: 1.0000 - val_loss: 0.5134 - val_accuracy: 1.0000\n",
      "Epoch 11/100\n",
      "9/9 [==============================] - 0s 226us/step - loss: 0.5679 - accuracy: 1.0000 - val_loss: 0.5136 - val_accuracy: 1.0000\n",
      "Epoch 12/100\n",
      "9/9 [==============================] - 0s 333us/step - loss: 0.5660 - accuracy: 1.0000 - val_loss: 0.5139 - val_accuracy: 1.0000\n",
      "Epoch 13/100\n",
      "9/9 [==============================] - 0s 443us/step - loss: 0.5641 - accuracy: 1.0000 - val_loss: 0.5141 - val_accuracy: 1.0000\n",
      "Epoch 14/100\n",
      "9/9 [==============================] - 0s 331us/step - loss: 0.5622 - accuracy: 1.0000 - val_loss: 0.5143 - val_accuracy: 1.0000\n",
      "Epoch 15/100\n",
      "9/9 [==============================] - 0s 443us/step - loss: 0.5603 - accuracy: 1.0000 - val_loss: 0.5146 - val_accuracy: 1.0000\n",
      "Epoch 16/100\n",
      "9/9 [==============================] - 0s 780us/step - loss: 0.5583 - accuracy: 1.0000 - val_loss: 0.5148 - val_accuracy: 1.0000\n",
      "Epoch 17/100\n",
      "9/9 [==============================] - 0s 221us/step - loss: 0.5564 - accuracy: 1.0000 - val_loss: 0.5151 - val_accuracy: 1.0000\n",
      "Epoch 18/100\n",
      "9/9 [==============================] - 0s 222us/step - loss: 0.5545 - accuracy: 1.0000 - val_loss: 0.5153 - val_accuracy: 1.0000\n",
      "Epoch 19/100\n",
      "9/9 [==============================] - 0s 776us/step - loss: 0.5526 - accuracy: 1.0000 - val_loss: 0.5155 - val_accuracy: 1.0000\n",
      "Epoch 20/100\n",
      "9/9 [==============================] - 0s 333us/step - loss: 0.5507 - accuracy: 0.8889 - val_loss: 0.5157 - val_accuracy: 1.0000\n",
      "Epoch 21/100\n",
      "9/9 [==============================] - 0s 332us/step - loss: 0.5488 - accuracy: 0.8889 - val_loss: 0.5160 - val_accuracy: 1.0000\n",
      "Epoch 22/100\n",
      "9/9 [==============================] - 0s 554us/step - loss: 0.5468 - accuracy: 0.8889 - val_loss: 0.5162 - val_accuracy: 1.0000\n",
      "Epoch 23/100\n",
      "9/9 [==============================] - 0s 332us/step - loss: 0.5449 - accuracy: 0.8889 - val_loss: 0.5164 - val_accuracy: 1.0000\n",
      "Epoch 24/100\n",
      "9/9 [==============================] - 0s 328us/step - loss: 0.5430 - accuracy: 0.8889 - val_loss: 0.5166 - val_accuracy: 1.0000\n",
      "Epoch 25/100\n",
      "9/9 [==============================] - 0s 554us/step - loss: 0.5411 - accuracy: 0.8889 - val_loss: 0.5168 - val_accuracy: 1.0000\n",
      "Epoch 26/100\n",
      "9/9 [==============================] - 0s 220us/step - loss: 0.5392 - accuracy: 0.8889 - val_loss: 0.5169 - val_accuracy: 1.0000\n",
      "Epoch 27/100\n",
      "9/9 [==============================] - 0s 329us/step - loss: 0.5373 - accuracy: 0.8889 - val_loss: 0.5171 - val_accuracy: 1.0000\n",
      "Epoch 28/100\n",
      "9/9 [==============================] - 0s 444us/step - loss: 0.5354 - accuracy: 0.8889 - val_loss: 0.5173 - val_accuracy: 1.0000\n",
      "Epoch 29/100\n",
      "9/9 [==============================] - 0s 550us/step - loss: 0.5335 - accuracy: 0.8889 - val_loss: 0.5174 - val_accuracy: 1.0000\n",
      "Epoch 30/100\n",
      "9/9 [==============================] - 0s 225us/step - loss: 0.5316 - accuracy: 0.8889 - val_loss: 0.5176 - val_accuracy: 1.0000\n",
      "Epoch 31/100\n",
      "9/9 [==============================] - 0s 441us/step - loss: 0.5296 - accuracy: 0.8889 - val_loss: 0.5177 - val_accuracy: 1.0000\n",
      "Epoch 32/100\n",
      "9/9 [==============================] - 0s 554us/step - loss: 0.5277 - accuracy: 0.8889 - val_loss: 0.5178 - val_accuracy: 1.0000\n",
      "Epoch 33/100\n",
      "9/9 [==============================] - 0s 333us/step - loss: 0.5258 - accuracy: 0.8889 - val_loss: 0.5180 - val_accuracy: 1.0000\n",
      "Epoch 34/100\n",
      "9/9 [==============================] - 0s 333us/step - loss: 0.5239 - accuracy: 0.8889 - val_loss: 0.5181 - val_accuracy: 1.0000\n",
      "Epoch 35/100\n",
      "9/9 [==============================] - 0s 443us/step - loss: 0.5220 - accuracy: 0.8889 - val_loss: 0.5181 - val_accuracy: 1.0000\n",
      "Epoch 36/100\n",
      "9/9 [==============================] - 0s 329us/step - loss: 0.5201 - accuracy: 0.8889 - val_loss: 0.5182 - val_accuracy: 1.0000\n",
      "Epoch 37/100\n",
      "9/9 [==============================] - 0s 440us/step - loss: 0.5182 - accuracy: 0.8889 - val_loss: 0.5183 - val_accuracy: 1.0000\n",
      "Epoch 38/100\n",
      "9/9 [==============================] - 0s 449us/step - loss: 0.5163 - accuracy: 0.8889 - val_loss: 0.5184 - val_accuracy: 1.0000\n",
      "Epoch 39/100\n",
      "9/9 [==============================] - 0s 328us/step - loss: 0.5143 - accuracy: 0.8889 - val_loss: 0.5184 - val_accuracy: 1.0000\n",
      "Epoch 40/100\n",
      "9/9 [==============================] - 0s 444us/step - loss: 0.5124 - accuracy: 0.8889 - val_loss: 0.5185 - val_accuracy: 1.0000\n",
      "Epoch 41/100\n",
      "9/9 [==============================] - 0s 331us/step - loss: 0.5105 - accuracy: 0.8889 - val_loss: 0.5185 - val_accuracy: 1.0000\n",
      "Epoch 42/100\n",
      "9/9 [==============================] - 0s 332us/step - loss: 0.5086 - accuracy: 0.8889 - val_loss: 0.5185 - val_accuracy: 1.0000\n",
      "Epoch 43/100\n",
      "9/9 [==============================] - 0s 776us/step - loss: 0.5066 - accuracy: 0.8889 - val_loss: 0.5185 - val_accuracy: 1.0000\n",
      "Epoch 44/100\n",
      "9/9 [==============================] - 0s 333us/step - loss: 0.5047 - accuracy: 0.8889 - val_loss: 0.5185 - val_accuracy: 1.0000\n",
      "Epoch 45/100\n",
      "9/9 [==============================] - 0s 439us/step - loss: 0.5028 - accuracy: 0.8889 - val_loss: 0.5185 - val_accuracy: 1.0000\n",
      "Epoch 46/100\n",
      "9/9 [==============================] - 0s 661us/step - loss: 0.5009 - accuracy: 0.8889 - val_loss: 0.5185 - val_accuracy: 1.0000\n",
      "Epoch 47/100\n",
      "9/9 [==============================] - 0s 443us/step - loss: 0.4989 - accuracy: 0.8889 - val_loss: 0.5185 - val_accuracy: 1.0000\n",
      "Epoch 48/100\n",
      "9/9 [==============================] - 0s 776us/step - loss: 0.4970 - accuracy: 0.8889 - val_loss: 0.5185 - val_accuracy: 1.0000\n",
      "Epoch 49/100\n",
      "9/9 [==============================] - 0s 333us/step - loss: 0.4951 - accuracy: 0.8889 - val_loss: 0.5185 - val_accuracy: 1.0000\n",
      "Epoch 50/100\n",
      "9/9 [==============================] - 0s 446us/step - loss: 0.4931 - accuracy: 0.8889 - val_loss: 0.5185 - val_accuracy: 1.0000\n",
      "Epoch 51/100\n",
      "9/9 [==============================] - 0s 321us/step - loss: 0.4912 - accuracy: 0.8889 - val_loss: 0.5184 - val_accuracy: 1.0000\n",
      "Epoch 52/100\n",
      "9/9 [==============================] - 0s 222us/step - loss: 0.4893 - accuracy: 0.8889 - val_loss: 0.5184 - val_accuracy: 1.0000\n",
      "Epoch 53/100\n",
      "9/9 [==============================] - 0s 217us/step - loss: 0.4873 - accuracy: 0.8889 - val_loss: 0.5184 - val_accuracy: 1.0000\n",
      "Epoch 54/100\n",
      "9/9 [==============================] - 0s 218us/step - loss: 0.4854 - accuracy: 0.8889 - val_loss: 0.5183 - val_accuracy: 1.0000\n",
      "Epoch 55/100\n",
      "9/9 [==============================] - 0s 222us/step - loss: 0.4835 - accuracy: 0.8889 - val_loss: 0.5183 - val_accuracy: 1.0000\n",
      "Epoch 56/100\n",
      "9/9 [==============================] - 0s 111us/step - loss: 0.4815 - accuracy: 0.8889 - val_loss: 0.5182 - val_accuracy: 1.0000\n",
      "Epoch 57/100\n",
      "9/9 [==============================] - 0s 218us/step - loss: 0.4796 - accuracy: 0.8889 - val_loss: 0.5182 - val_accuracy: 1.0000\n",
      "Epoch 58/100\n",
      "9/9 [==============================] - 0s 222us/step - loss: 0.4777 - accuracy: 0.8889 - val_loss: 0.5182 - val_accuracy: 1.0000\n"
     ]
    },
    {
     "name": "stdout",
     "output_type": "stream",
     "text": [
      "Epoch 59/100\n",
      "9/9 [==============================] - 0s 217us/step - loss: 0.4757 - accuracy: 0.8889 - val_loss: 0.5181 - val_accuracy: 1.0000\n",
      "Epoch 60/100\n",
      "9/9 [==============================] - 0s 217us/step - loss: 0.4738 - accuracy: 1.0000 - val_loss: 0.5181 - val_accuracy: 1.0000\n",
      "Epoch 61/100\n",
      "9/9 [==============================] - 0s 217us/step - loss: 0.4718 - accuracy: 1.0000 - val_loss: 0.5180 - val_accuracy: 1.0000\n",
      "Epoch 62/100\n",
      "9/9 [==============================] - 0s 217us/step - loss: 0.4699 - accuracy: 1.0000 - val_loss: 0.5180 - val_accuracy: 1.0000\n",
      "Epoch 63/100\n",
      "9/9 [==============================] - 0s 221us/step - loss: 0.4680 - accuracy: 1.0000 - val_loss: 0.5180 - val_accuracy: 1.0000\n",
      "Epoch 64/100\n",
      "9/9 [==============================] - 0s 218us/step - loss: 0.4660 - accuracy: 1.0000 - val_loss: 0.5179 - val_accuracy: 1.0000\n",
      "Epoch 65/100\n",
      "9/9 [==============================] - 0s 222us/step - loss: 0.4641 - accuracy: 1.0000 - val_loss: 0.5179 - val_accuracy: 1.0000\n",
      "Epoch 66/100\n",
      "9/9 [==============================] - 0s 328us/step - loss: 0.4621 - accuracy: 1.0000 - val_loss: 0.5178 - val_accuracy: 1.0000\n",
      "Epoch 67/100\n",
      "9/9 [==============================] - 0s 334us/step - loss: 0.4602 - accuracy: 1.0000 - val_loss: 0.5178 - val_accuracy: 1.0000\n",
      "Epoch 68/100\n",
      "9/9 [==============================] - 0s 332us/step - loss: 0.4582 - accuracy: 1.0000 - val_loss: 0.5178 - val_accuracy: 1.0000\n",
      "Epoch 69/100\n",
      "9/9 [==============================] - 0s 332us/step - loss: 0.4563 - accuracy: 1.0000 - val_loss: 0.5177 - val_accuracy: 1.0000\n",
      "Epoch 70/100\n",
      "9/9 [==============================] - 0s 444us/step - loss: 0.4544 - accuracy: 1.0000 - val_loss: 0.5177 - val_accuracy: 1.0000\n",
      "Epoch 71/100\n",
      "9/9 [==============================] - 0s 443us/step - loss: 0.4524 - accuracy: 1.0000 - val_loss: 0.5177 - val_accuracy: 1.0000\n",
      "Epoch 72/100\n",
      "9/9 [==============================] - 0s 444us/step - loss: 0.4505 - accuracy: 1.0000 - val_loss: 0.5176 - val_accuracy: 1.0000\n",
      "Epoch 73/100\n",
      "9/9 [==============================] - 0s 554us/step - loss: 0.4486 - accuracy: 1.0000 - val_loss: 0.5176 - val_accuracy: 1.0000\n",
      "Epoch 74/100\n",
      "9/9 [==============================] - 0s 666us/step - loss: 0.4466 - accuracy: 1.0000 - val_loss: 0.5176 - val_accuracy: 1.0000\n",
      "Epoch 75/100\n",
      "9/9 [==============================] - 0s 221us/step - loss: 0.4447 - accuracy: 1.0000 - val_loss: 0.5176 - val_accuracy: 1.0000\n",
      "Epoch 76/100\n",
      "9/9 [==============================] - 0s 333us/step - loss: 0.4427 - accuracy: 1.0000 - val_loss: 0.5176 - val_accuracy: 1.0000\n",
      "Epoch 77/100\n",
      "9/9 [==============================] - 0s 665us/step - loss: 0.4408 - accuracy: 1.0000 - val_loss: 0.5176 - val_accuracy: 1.0000\n",
      "Epoch 78/100\n",
      "9/9 [==============================] - 0s 332us/step - loss: 0.4389 - accuracy: 1.0000 - val_loss: 0.5176 - val_accuracy: 1.0000\n",
      "Epoch 79/100\n",
      "9/9 [==============================] - 0s 449us/step - loss: 0.4369 - accuracy: 1.0000 - val_loss: 0.5176 - val_accuracy: 1.0000\n",
      "Epoch 80/100\n",
      "9/9 [==============================] - 0s 330us/step - loss: 0.4350 - accuracy: 1.0000 - val_loss: 0.5176 - val_accuracy: 1.0000\n",
      "Epoch 81/100\n",
      "9/9 [==============================] - 0s 329us/step - loss: 0.4331 - accuracy: 1.0000 - val_loss: 0.5176 - val_accuracy: 1.0000\n",
      "Epoch 82/100\n",
      "9/9 [==============================] - 0s 225us/step - loss: 0.4312 - accuracy: 1.0000 - val_loss: 0.5176 - val_accuracy: 1.0000\n",
      "Epoch 83/100\n",
      "9/9 [==============================] - 0s 297us/step - loss: 0.4292 - accuracy: 1.0000 - val_loss: 0.5176 - val_accuracy: 1.0000\n",
      "Epoch 84/100\n",
      "9/9 [==============================] - 0s 222us/step - loss: 0.4273 - accuracy: 1.0000 - val_loss: 0.5176 - val_accuracy: 1.0000\n",
      "Epoch 85/100\n",
      "9/9 [==============================] - 0s 330us/step - loss: 0.4254 - accuracy: 1.0000 - val_loss: 0.5176 - val_accuracy: 1.0000\n",
      "Epoch 86/100\n",
      "9/9 [==============================] - 0s 551us/step - loss: 0.4235 - accuracy: 1.0000 - val_loss: 0.5176 - val_accuracy: 1.0000\n",
      "Epoch 87/100\n",
      "9/9 [==============================] - 0s 331us/step - loss: 0.4216 - accuracy: 1.0000 - val_loss: 0.5176 - val_accuracy: 1.0000\n",
      "Epoch 88/100\n",
      "9/9 [==============================] - 0s 332us/step - loss: 0.4196 - accuracy: 1.0000 - val_loss: 0.5177 - val_accuracy: 1.0000\n",
      "Epoch 89/100\n",
      "9/9 [==============================] - 0s 222us/step - loss: 0.4177 - accuracy: 1.0000 - val_loss: 0.5177 - val_accuracy: 1.0000\n",
      "Epoch 90/100\n",
      "9/9 [==============================] - 0s 331us/step - loss: 0.4158 - accuracy: 1.0000 - val_loss: 0.5177 - val_accuracy: 1.0000\n",
      "Epoch 91/100\n",
      "9/9 [==============================] - 0s 332us/step - loss: 0.4139 - accuracy: 1.0000 - val_loss: 0.5178 - val_accuracy: 1.0000\n",
      "Epoch 92/100\n",
      "9/9 [==============================] - 0s 451us/step - loss: 0.4120 - accuracy: 1.0000 - val_loss: 0.5178 - val_accuracy: 1.0000\n",
      "Epoch 93/100\n",
      "9/9 [==============================] - 0s 351us/step - loss: 0.4101 - accuracy: 1.0000 - val_loss: 0.5178 - val_accuracy: 1.0000\n",
      "Epoch 94/100\n",
      "9/9 [==============================] - 0s 440us/step - loss: 0.4082 - accuracy: 1.0000 - val_loss: 0.5179 - val_accuracy: 1.0000\n",
      "Epoch 95/100\n",
      "9/9 [==============================] - 0s 665us/step - loss: 0.4063 - accuracy: 1.0000 - val_loss: 0.5179 - val_accuracy: 1.0000\n",
      "Epoch 96/100\n",
      "9/9 [==============================] - 0s 337us/step - loss: 0.4044 - accuracy: 1.0000 - val_loss: 0.5180 - val_accuracy: 1.0000\n",
      "Epoch 97/100\n",
      "9/9 [==============================] - 0s 333us/step - loss: 0.4025 - accuracy: 1.0000 - val_loss: 0.5181 - val_accuracy: 1.0000\n",
      "Epoch 98/100\n",
      "9/9 [==============================] - 0s 443us/step - loss: 0.4006 - accuracy: 1.0000 - val_loss: 0.5181 - val_accuracy: 1.0000\n",
      "Epoch 99/100\n",
      "9/9 [==============================] - 0s 443us/step - loss: 0.3987 - accuracy: 1.0000 - val_loss: 0.5182 - val_accuracy: 1.0000\n",
      "Epoch 100/100\n",
      "9/9 [==============================] - 0s 447us/step - loss: 0.3968 - accuracy: 1.0000 - val_loss: 0.5182 - val_accuracy: 1.0000\n"
     ]
    },
    {
     "data": {
      "text/plain": [
       "<keras.callbacks.callbacks.History at 0x1eae93ddf60>"
      ]
     },
     "execution_count": 6,
     "metadata": {},
     "output_type": "execute_result"
    }
   ],
   "source": [
    "# # compile the model\n",
    "# model.compile(optimizer='adam', loss='binary_crossentropy', metrics=['accuracy'])\n",
    "# # fit the model\n",
    "# model.fit(padded_docs, labels, epochs=50, verbose=0)\n",
    "\n",
    "model.compile(loss=\"binary_crossentropy\",optimizer=\"adam\", metrics=[\"accuracy\"])\n",
    "model.fit(padded_docs, labels, epochs=100, validation_split=0.1, callbacks=[history_1])"
   ]
  },
  {
   "cell_type": "code",
   "execution_count": 7,
   "metadata": {},
   "outputs": [
    {
     "name": "stdout",
     "output_type": "stream",
     "text": [
      "Accuracy: 100.000000\n"
     ]
    }
   ],
   "source": [
    "# evaluate the model\n",
    "loss, accuracy = model.evaluate(padded_docs, labels, verbose=0)\n",
    "print('Accuracy: %f' % (accuracy*100))"
   ]
  },
  {
   "cell_type": "code",
   "execution_count": 57,
   "metadata": {},
   "outputs": [
    {
     "data": {
      "image/png": "[encoded data removed]",
      "text/plain": [
       "<Figure size 432x288 with 1 Axes>"
      ]
     },
     "metadata": {
      "needs_background": "light"
     },
     "output_type": "display_data"
    }
   ],
   "source": [
    "plt.plot(history_1.history['accuracy'], label = \"tarina Adam\")\n",
    "plt.plot(history_1.history['val_accuracy'], label = \"test Adam\")\n",
    "\n",
    "\n",
    "plt.legend()\n",
    "plt.show()"
   ]
  },
  {
   "cell_type": "markdown",
   "metadata": {},
   "source": [
    "# Pretrain embedding\n",
    "\n",
    "https://keras.io/examples/pretrained_word_embeddings/\n",
    "\n",
    "* GloVe embedding data can be found at: http://nlp.stanford.edu/data/glove.6B.zip (source page: http://nlp.stanford.edu/projects/glove/)\n",
    "\n",
    "* After downloading and unzipping, you will see a few files, one of which is “glove.6B.50d.txt“, which contains a 100-dimensional version of the embedding.\n",
    "\n",
    "\n",
    "Pojedyńczy plik można pobrać z tąd:\n",
    "https://www.dropbox.com/sh/tjq47ybybgnrbel/AAAVbp0UkQTAbKWVMIi5mtHpa?dl=0"
   ]
  },
  {
   "cell_type": "code",
   "execution_count": 9,
   "metadata": {},
   "outputs": [
    {
     "name": "stdout",
     "output_type": "stream",
     "text": [
      "Indexing word vectors.\n",
      "Loaded 400000 word vectors.\n"
     ]
    }
   ],
   "source": [
    "BASE_DIR = ''\n",
    "GLOVE_DIR = os.path.join(BASE_DIR, 'glove.6B.50d')\n",
    "\n",
    "# first, build index mapping words in the embeddings set\n",
    "# to their embedding vector\n",
    "\n",
    "print('Indexing word vectors.')\n",
    "\n",
    "embeddings_index = {}\n",
    "# file = open(filename, encoding=\"utf8\")\n",
    "with open(os.path.join(GLOVE_DIR, 'glove.6B.50d.txt'), encoding=\"utf8\") as f:\n",
    "    for line in f:\n",
    "        word, coefs = line.split(maxsplit=1)\n",
    "        coefs = np.fromstring(coefs, 'f', sep=' ')\n",
    "        embeddings_index[word] = coefs\n",
    "        \n",
    "\n",
    "print('Loaded %s word vectors.' % len(embeddings_index))"
   ]
  },
  {
   "cell_type": "code",
   "execution_count": 12,
   "metadata": {},
   "outputs": [
    {
     "data": {
      "text/plain": [
       "array([ 1.1891e-01,  1.5255e-01, -8.2073e-02, -7.4144e-01,  7.5917e-01,\n",
       "       -4.8328e-01, -3.1009e-01,  5.1476e-01, -9.8708e-01,  6.1757e-04,\n",
       "       -1.5043e-01,  8.3770e-01, -1.0797e+00, -5.1460e-01,  1.3188e+00,\n",
       "        6.2007e-01,  1.3779e-01,  4.7108e-01, -7.2874e-02, -7.2675e-01,\n",
       "       -7.4116e-01,  7.5263e-01,  8.8180e-01,  2.9561e-01,  1.3548e+00,\n",
       "       -2.5701e+00, -1.3523e+00,  4.5880e-01,  1.0068e+00, -1.1856e+00,\n",
       "        3.4737e+00,  7.7898e-01, -7.2929e-01,  2.5102e-01, -2.6156e-01,\n",
       "       -3.4684e-01,  5.5841e-01,  7.5098e-01,  4.9830e-01, -2.6823e-01,\n",
       "       -2.7443e-03, -1.8298e-02, -2.8096e-01,  5.5318e-01,  3.7706e-02,\n",
       "        1.8555e-01, -1.5025e-01, -5.7512e-01, -2.6671e-01,  9.2121e-01],\n",
       "      dtype=float32)"
      ]
     },
     "execution_count": 12,
     "metadata": {},
     "output_type": "execute_result"
    }
   ],
   "source": [
    "embeddings_index[\"i\"]"
   ]
  },
  {
   "cell_type": "code",
   "execution_count": 13,
   "metadata": {},
   "outputs": [],
   "source": [
    "# define documents\n",
    "docs = ['Well done!',\n",
    "        'Good work',\n",
    "        'Great effort',\n",
    "        'nice work',\n",
    "        'Excellent!',\n",
    "        'Weak',\n",
    "        'Poor effort!',\n",
    "        'not good',\n",
    "        'poor work',\n",
    "        'Could have done better.']\n",
    "# define class labels\n",
    "labels = np.array([1,1,1,1,1,0,0,0,0,0])"
   ]
  },
  {
   "cell_type": "markdown",
   "metadata": {},
   "source": [
    "Keras provides a Tokenizer class that can be fit on the training data, can convert text to sequences consistently by calling the texts_to_sequences() method on the Tokenizer class, and provides access to the dictionary mapping of words to integers in a word_index attribute.\n",
    "\n",
    "https://keras.io/preprocessing/text/#tokenizer"
   ]
  },
  {
   "cell_type": "code",
   "execution_count": 14,
   "metadata": {},
   "outputs": [],
   "source": [
    "# prepare tokenizer\n",
    "t = Tokenizer()\n",
    "t.fit_on_texts(docs)\n",
    "vocab_size = len(t.word_index) + 1"
   ]
  },
  {
   "cell_type": "code",
   "execution_count": 15,
   "metadata": {},
   "outputs": [
    {
     "name": "stdout",
     "output_type": "stream",
     "text": [
      "[[6, 2], [3, 1], [7, 4], [8, 1], [9], [10], [5, 4], [11, 3], [5, 1], [12, 13, 2, 14]]\n"
     ]
    }
   ],
   "source": [
    "# integer encode the documents\n",
    "encoded_docs = t.texts_to_sequences(docs)\n",
    "print(encoded_docs)"
   ]
  },
  {
   "cell_type": "markdown",
   "metadata": {},
   "source": [
    "Sekwencje mają różne długości, a Keras wymaga aby wejścia były równej długość."
   ]
  },
  {
   "cell_type": "code",
   "execution_count": 16,
   "metadata": {},
   "outputs": [
    {
     "name": "stdout",
     "output_type": "stream",
     "text": [
      "[[ 6  2  0  0]\n",
      " [ 3  1  0  0]\n",
      " [ 7  4  0  0]\n",
      " [ 8  1  0  0]\n",
      " [ 9  0  0  0]\n",
      " [10  0  0  0]\n",
      " [ 5  4  0  0]\n",
      " [11  3  0  0]\n",
      " [ 5  1  0  0]\n",
      " [12 13  2 14]]\n"
     ]
    }
   ],
   "source": [
    "# pad documents to a max length of 4 words\n",
    "max_length = 4\n",
    "padded_docs = pad_sequences(encoded_docs, maxlen=max_length, padding='post')\n",
    "print(padded_docs)"
   ]
  },
  {
   "cell_type": "markdown",
   "metadata": {},
   "source": [
    "Next, we need to create a matrix of one embedding for each word in the training dataset. We can do that by enumerating all unique words in the Tokenizer.word_index and locating the embedding weight vector from the loaded GloVe embedding.\n",
    "\n",
    "The result is a matrix of weights only for words we will see during training."
   ]
  },
  {
   "cell_type": "code",
   "execution_count": 20,
   "metadata": {},
   "outputs": [
    {
     "data": {
      "text/plain": [
       "(15, 50)"
      ]
     },
     "execution_count": 20,
     "metadata": {},
     "output_type": "execute_result"
    }
   ],
   "source": [
    "# create a weight matrix for words in training docs\n",
    "embedding_matrix = np.zeros((vocab_size, 50))\n",
    "for word, i in t.word_index.items():\n",
    "    embedding_vector = embeddings_index.get(word)\n",
    "    if embedding_vector is not None:\n",
    "        embedding_matrix[i] = embedding_vector\n",
    "embedding_matrix.shape        "
   ]
  },
  {
   "cell_type": "code",
   "execution_count": 21,
   "metadata": {},
   "outputs": [
    {
     "data": {
      "text/plain": [
       "array([ 5.13589978e-01,  1.96950004e-01, -5.19439995e-01, -8.62179995e-01,\n",
       "        1.54940002e-02,  1.09729998e-01, -8.02929997e-01, -3.33609998e-01,\n",
       "       -1.61189993e-04,  1.01889996e-02,  4.67340015e-02,  4.67510015e-01,\n",
       "       -4.74750012e-01,  1.10380001e-01,  3.93269986e-01, -4.36520010e-01,\n",
       "        3.99839997e-01,  2.71090001e-01,  4.26499993e-01, -6.06400013e-01,\n",
       "        8.11450005e-01,  4.56299990e-01, -1.27260000e-01, -2.24739999e-01,\n",
       "        6.40709996e-01, -1.27670002e+00, -7.22310007e-01, -6.95900023e-01,\n",
       "        2.80450005e-02, -2.30719998e-01,  3.79959989e+00, -1.26249999e-01,\n",
       "       -4.79669988e-01, -9.99719977e-01, -2.19760001e-01,  5.05649984e-01,\n",
       "        2.59530004e-02,  8.05140018e-01,  1.99290007e-01,  2.87959993e-01,\n",
       "       -1.59150004e-01, -3.04380000e-01,  1.60249993e-01, -1.82899997e-01,\n",
       "       -3.85629982e-02, -1.76190004e-01,  2.70409994e-02,  4.68420014e-02,\n",
       "       -6.28970027e-01,  3.57259989e-01])"
      ]
     },
     "execution_count": 21,
     "metadata": {},
     "output_type": "execute_result"
    }
   ],
   "source": [
    "embedding_matrix[1]"
   ]
  },
  {
   "cell_type": "code",
   "execution_count": 23,
   "metadata": {},
   "outputs": [
    {
     "data": {
      "text/plain": [
       "array([ 5.13589978e-01,  1.96950004e-01, -5.19439995e-01, -8.62179995e-01,\n",
       "        1.54940002e-02,  1.09729998e-01, -8.02929997e-01, -3.33609998e-01,\n",
       "       -1.61189993e-04,  1.01889996e-02,  4.67340015e-02,  4.67510015e-01,\n",
       "       -4.74750012e-01,  1.10380001e-01,  3.93269986e-01, -4.36520010e-01,\n",
       "        3.99839997e-01,  2.71090001e-01,  4.26499993e-01, -6.06400013e-01,\n",
       "        8.11450005e-01,  4.56299990e-01, -1.27260000e-01, -2.24739999e-01,\n",
       "        6.40709996e-01, -1.27670002e+00, -7.22310007e-01, -6.95900023e-01,\n",
       "        2.80450005e-02, -2.30719998e-01,  3.79959989e+00, -1.26249999e-01,\n",
       "       -4.79669988e-01, -9.99719977e-01, -2.19760001e-01,  5.05649984e-01,\n",
       "        2.59530004e-02,  8.05140018e-01,  1.99290007e-01,  2.87959993e-01,\n",
       "       -1.59150004e-01, -3.04380000e-01,  1.60249993e-01, -1.82899997e-01,\n",
       "       -3.85629982e-02, -1.76190004e-01,  2.70409994e-02,  4.68420014e-02,\n",
       "       -6.28970027e-01,  3.57259989e-01])"
      ]
     },
     "execution_count": 23,
     "metadata": {},
     "output_type": "execute_result"
    }
   ],
   "source": [
    "embedding_matrix[1]"
   ]
  },
  {
   "cell_type": "markdown",
   "metadata": {},
   "source": [
    "The key difference is that the embedding layer can be seeded with the GloVe word embedding weights. We chose the 50-dimensional version, therefore the Embedding layer must be defined with output_dim set to 50. Finally, we do not want to update the learned word weights in this model, therefore we will set the trainable attribute for the model to be False."
   ]
  },
  {
   "cell_type": "code",
   "execution_count": 65,
   "metadata": {},
   "outputs": [],
   "source": [
    "e = Embedding(vocab_size, 50, weights=[embedding_matrix], input_length=4, trainable=False)"
   ]
  },
  {
   "cell_type": "code",
   "execution_count": 24,
   "metadata": {},
   "outputs": [
    {
     "name": "stdout",
     "output_type": "stream",
     "text": [
      "Model: \"sequential_2\"\n",
      "_________________________________________________________________\n",
      "Layer (type)                 Output Shape              Param #   \n",
      "=================================================================\n",
      "embedding_2 (Embedding)      (None, 4, 50)             750       \n",
      "_________________________________________________________________\n",
      "flatten_2 (Flatten)          (None, 200)               0         \n",
      "_________________________________________________________________\n",
      "dense_2 (Dense)              (None, 1)                 201       \n",
      "=================================================================\n",
      "Total params: 951\n",
      "Trainable params: 201\n",
      "Non-trainable params: 750\n",
      "_________________________________________________________________\n",
      "None\n"
     ]
    }
   ],
   "source": [
    "from keras.models import Sequential\n",
    "from keras.layers import Dense\n",
    "from keras.callbacks import LearningRateScheduler\n",
    "from keras.callbacks import ModelCheckpoint\n",
    "from keras.callbacks import EarlyStopping\n",
    "from keras.layers import Dropout\n",
    "from keras.layers import BatchNormalization\n",
    "from keras.layers import Activation\n",
    "from keras.layers import Flatten\n",
    "from keras.layers.convolutional import Conv2D, MaxPooling2D, AveragePooling2D\n",
    "from keras.callbacks import History\n",
    "\n",
    "history_2 = History()\n",
    "model = Sequential()\n",
    "e = Embedding(vocab_size, 50, weights=[embedding_matrix], input_length=4, trainable=False)\n",
    "model.add(e)\n",
    "model.add(Flatten())\n",
    "model.add(Dense(1, activation='sigmoid'))\n",
    "# compile the model\n",
    "model.compile(optimizer='adam', loss='binary_crossentropy', metrics=['accuracy'])\n",
    "# summarize the model\n",
    "print(model.summary())"
   ]
  },
  {
   "cell_type": "code",
   "execution_count": 25,
   "metadata": {},
   "outputs": [
    {
     "name": "stdout",
     "output_type": "stream",
     "text": [
      "Train on 9 samples, validate on 1 samples\n",
      "Epoch 1/100\n",
      "9/9 [==============================] - 0s 11ms/step - loss: 0.6758 - accuracy: 0.5556 - val_loss: 0.5185 - val_accuracy: 1.0000\n",
      "Epoch 2/100\n",
      "9/9 [==============================] - 0s 222us/step - loss: 0.6706 - accuracy: 0.5556 - val_loss: 0.5102 - val_accuracy: 1.0000\n",
      "Epoch 3/100\n",
      "9/9 [==============================] - 0s 332us/step - loss: 0.6638 - accuracy: 0.5556 - val_loss: 0.5028 - val_accuracy: 1.0000\n",
      "Epoch 4/100\n",
      "9/9 [==============================] - 0s 333us/step - loss: 0.6577 - accuracy: 0.6667 - val_loss: 0.4953 - val_accuracy: 1.0000\n",
      "Epoch 5/100\n",
      "9/9 [==============================] - 0s 443us/step - loss: 0.6515 - accuracy: 0.6667 - val_loss: 0.4876 - val_accuracy: 1.0000\n",
      "Epoch 6/100\n",
      "9/9 [==============================] - 0s 332us/step - loss: 0.6451 - accuracy: 0.6667 - val_loss: 0.4802 - val_accuracy: 1.0000\n",
      "Epoch 7/100\n",
      "9/9 [==============================] - 0s 337us/step - loss: 0.6389 - accuracy: 0.6667 - val_loss: 0.4730 - val_accuracy: 1.0000\n",
      "Epoch 8/100\n",
      "9/9 [==============================] - 0s 332us/step - loss: 0.6329 - accuracy: 0.6667 - val_loss: 0.4659 - val_accuracy: 1.0000\n",
      "Epoch 9/100\n",
      "9/9 [==============================] - 0s 550us/step - loss: 0.6270 - accuracy: 0.6667 - val_loss: 0.4591 - val_accuracy: 1.0000\n",
      "Epoch 10/100\n",
      "9/9 [==============================] - 0s 222us/step - loss: 0.6211 - accuracy: 0.6667 - val_loss: 0.4524 - val_accuracy: 1.0000\n",
      "Epoch 11/100\n",
      "9/9 [==============================] - 0s 333us/step - loss: 0.6154 - accuracy: 0.6667 - val_loss: 0.4460 - val_accuracy: 1.0000\n",
      "Epoch 12/100\n",
      "9/9 [==============================] - 0s 558us/step - loss: 0.6097 - accuracy: 0.6667 - val_loss: 0.4398 - val_accuracy: 1.0000\n",
      "Epoch 13/100\n",
      "9/9 [==============================] - 0s 225us/step - loss: 0.6042 - accuracy: 0.6667 - val_loss: 0.4338 - val_accuracy: 1.0000\n",
      "Epoch 14/100\n",
      "9/9 [==============================] - 0s 333us/step - loss: 0.5988 - accuracy: 0.6667 - val_loss: 0.4282 - val_accuracy: 1.0000\n",
      "Epoch 15/100\n",
      "9/9 [==============================] - 0s 561us/step - loss: 0.5935 - accuracy: 0.6667 - val_loss: 0.4228 - val_accuracy: 1.0000\n",
      "Epoch 16/100\n",
      "9/9 [==============================] - 0s 328us/step - loss: 0.5884 - accuracy: 0.6667 - val_loss: 0.4176 - val_accuracy: 1.0000\n",
      "Epoch 17/100\n",
      "9/9 [==============================] - 0s 329us/step - loss: 0.5834 - accuracy: 0.6667 - val_loss: 0.4127 - val_accuracy: 1.0000\n",
      "Epoch 18/100\n",
      "9/9 [==============================] - 0s 443us/step - loss: 0.5784 - accuracy: 0.6667 - val_loss: 0.4081 - val_accuracy: 1.0000\n",
      "Epoch 19/100\n",
      "9/9 [==============================] - 0s 554us/step - loss: 0.5736 - accuracy: 0.6667 - val_loss: 0.4036 - val_accuracy: 1.0000\n",
      "Epoch 20/100\n",
      "9/9 [==============================] - 0s 328us/step - loss: 0.5688 - accuracy: 0.6667 - val_loss: 0.3995 - val_accuracy: 1.0000\n",
      "Epoch 21/100\n",
      "9/9 [==============================] - 0s 663us/step - loss: 0.5642 - accuracy: 0.7778 - val_loss: 0.3956 - val_accuracy: 1.0000\n",
      "Epoch 22/100\n",
      "9/9 [==============================] - 0s 443us/step - loss: 0.5596 - accuracy: 0.7778 - val_loss: 0.3919 - val_accuracy: 1.0000\n",
      "Epoch 23/100\n",
      "9/9 [==============================] - 0s 332us/step - loss: 0.5551 - accuracy: 0.7778 - val_loss: 0.3885 - val_accuracy: 1.0000\n",
      "Epoch 24/100\n",
      "9/9 [==============================] - 0s 550us/step - loss: 0.5507 - accuracy: 0.7778 - val_loss: 0.3853 - val_accuracy: 1.0000\n",
      "Epoch 25/100\n",
      "9/9 [==============================] - 0s 333us/step - loss: 0.5465 - accuracy: 0.8889 - val_loss: 0.3823 - val_accuracy: 1.0000\n",
      "Epoch 26/100\n",
      "9/9 [==============================] - 0s 439us/step - loss: 0.5422 - accuracy: 0.8889 - val_loss: 0.3796 - val_accuracy: 1.0000\n",
      "Epoch 27/100\n",
      "9/9 [==============================] - 0s 439us/step - loss: 0.5380 - accuracy: 0.8889 - val_loss: 0.3771 - val_accuracy: 1.0000\n",
      "Epoch 28/100\n",
      "9/9 [==============================] - 0s 221us/step - loss: 0.5340 - accuracy: 0.8889 - val_loss: 0.3748 - val_accuracy: 1.0000\n",
      "Epoch 29/100\n",
      "9/9 [==============================] - 0s 333us/step - loss: 0.5299 - accuracy: 0.8889 - val_loss: 0.3727 - val_accuracy: 1.0000\n",
      "Epoch 30/100\n",
      "9/9 [==============================] - 0s 445us/step - loss: 0.5259 - accuracy: 0.8889 - val_loss: 0.3708 - val_accuracy: 1.0000\n",
      "Epoch 31/100\n",
      "9/9 [==============================] - 0s 332us/step - loss: 0.5219 - accuracy: 0.8889 - val_loss: 0.3690 - val_accuracy: 1.0000\n",
      "Epoch 32/100\n",
      "9/9 [==============================] - 0s 226us/step - loss: 0.5180 - accuracy: 0.8889 - val_loss: 0.3675 - val_accuracy: 1.0000\n",
      "Epoch 33/100\n",
      "9/9 [==============================] - 0s 439us/step - loss: 0.5142 - accuracy: 0.8889 - val_loss: 0.3661 - val_accuracy: 1.0000\n",
      "Epoch 34/100\n",
      "9/9 [==============================] - 0s 776us/step - loss: 0.5104 - accuracy: 0.8889 - val_loss: 0.3649 - val_accuracy: 1.0000\n",
      "Epoch 35/100\n",
      "9/9 [==============================] - 0s 222us/step - loss: 0.5066 - accuracy: 0.8889 - val_loss: 0.3638 - val_accuracy: 1.0000\n",
      "Epoch 36/100\n",
      "9/9 [==============================] - 0s 332us/step - loss: 0.5029 - accuracy: 0.8889 - val_loss: 0.3629 - val_accuracy: 1.0000\n",
      "Epoch 37/100\n",
      "9/9 [==============================] - 0s 445us/step - loss: 0.4992 - accuracy: 0.8889 - val_loss: 0.3622 - val_accuracy: 1.0000\n",
      "Epoch 38/100\n",
      "9/9 [==============================] - 0s 227us/step - loss: 0.4955 - accuracy: 0.8889 - val_loss: 0.3615 - val_accuracy: 1.0000\n",
      "Epoch 39/100\n",
      "9/9 [==============================] - 0s 226us/step - loss: 0.4920 - accuracy: 0.8889 - val_loss: 0.3610 - val_accuracy: 1.0000\n",
      "Epoch 40/100\n",
      "9/9 [==============================] - 0s 331us/step - loss: 0.4884 - accuracy: 0.8889 - val_loss: 0.3606 - val_accuracy: 1.0000\n",
      "Epoch 41/100\n",
      "9/9 [==============================] - 0s 328us/step - loss: 0.4848 - accuracy: 0.8889 - val_loss: 0.3603 - val_accuracy: 1.0000\n",
      "Epoch 42/100\n",
      "9/9 [==============================] - 0s 328us/step - loss: 0.4813 - accuracy: 0.8889 - val_loss: 0.3601 - val_accuracy: 1.0000\n",
      "Epoch 43/100\n",
      "9/9 [==============================] - 0s 443us/step - loss: 0.4779 - accuracy: 0.8889 - val_loss: 0.3600 - val_accuracy: 1.0000\n",
      "Epoch 44/100\n",
      "9/9 [==============================] - 0s 332us/step - loss: 0.4745 - accuracy: 0.8889 - val_loss: 0.3600 - val_accuracy: 1.0000\n",
      "Epoch 45/100\n",
      "9/9 [==============================] - 0s 332us/step - loss: 0.4711 - accuracy: 0.8889 - val_loss: 0.3600 - val_accuracy: 1.0000\n",
      "Epoch 46/100\n",
      "9/9 [==============================] - 0s 558us/step - loss: 0.4677 - accuracy: 0.8889 - val_loss: 0.3602 - val_accuracy: 1.0000\n",
      "Epoch 47/100\n",
      "9/9 [==============================] - 0s 218us/step - loss: 0.4644 - accuracy: 0.8889 - val_loss: 0.3604 - val_accuracy: 1.0000\n",
      "Epoch 48/100\n",
      "9/9 [==============================] - 0s 337us/step - loss: 0.4611 - accuracy: 0.8889 - val_loss: 0.3606 - val_accuracy: 1.0000\n",
      "Epoch 49/100\n",
      "9/9 [==============================] - 0s 333us/step - loss: 0.4579 - accuracy: 0.8889 - val_loss: 0.3609 - val_accuracy: 1.0000\n",
      "Epoch 50/100\n",
      "9/9 [==============================] - 0s 222us/step - loss: 0.4546 - accuracy: 0.8889 - val_loss: 0.3613 - val_accuracy: 1.0000\n",
      "Epoch 51/100\n",
      "9/9 [==============================] - 0s 221us/step - loss: 0.4515 - accuracy: 0.8889 - val_loss: 0.3617 - val_accuracy: 1.0000\n",
      "Epoch 52/100\n",
      "9/9 [==============================] - 0s 337us/step - loss: 0.4483 - accuracy: 0.8889 - val_loss: 0.3621 - val_accuracy: 1.0000\n",
      "Epoch 53/100\n",
      "9/9 [==============================] - 0s 222us/step - loss: 0.4452 - accuracy: 0.8889 - val_loss: 0.3625 - val_accuracy: 1.0000\n",
      "Epoch 54/100\n",
      "9/9 [==============================] - 0s 332us/step - loss: 0.4421 - accuracy: 0.8889 - val_loss: 0.3630 - val_accuracy: 1.0000\n",
      "Epoch 55/100\n",
      "9/9 [==============================] - 0s 226us/step - loss: 0.4390 - accuracy: 0.8889 - val_loss: 0.3636 - val_accuracy: 1.0000\n",
      "Epoch 56/100\n",
      "9/9 [==============================] - 0s 332us/step - loss: 0.4360 - accuracy: 0.8889 - val_loss: 0.3641 - val_accuracy: 1.0000\n",
      "Epoch 57/100\n",
      "9/9 [==============================] - 0s 554us/step - loss: 0.4330 - accuracy: 0.8889 - val_loss: 0.3647 - val_accuracy: 1.0000\n",
      "Epoch 58/100\n",
      "9/9 [==============================] - 0s 442us/step - loss: 0.4300 - accuracy: 0.8889 - val_loss: 0.3652 - val_accuracy: 1.0000\n"
     ]
    },
    {
     "name": "stdout",
     "output_type": "stream",
     "text": [
      "Epoch 59/100\n",
      "9/9 [==============================] - 0s 665us/step - loss: 0.4270 - accuracy: 0.8889 - val_loss: 0.3658 - val_accuracy: 1.0000\n",
      "Epoch 60/100\n",
      "9/9 [==============================] - 0s 554us/step - loss: 0.4240 - accuracy: 0.8889 - val_loss: 0.3664 - val_accuracy: 1.0000\n",
      "Epoch 61/100\n",
      "9/9 [==============================] - 0s 550us/step - loss: 0.4211 - accuracy: 0.8889 - val_loss: 0.3670 - val_accuracy: 1.0000\n",
      "Epoch 62/100\n",
      "9/9 [==============================] - 0s 329us/step - loss: 0.4183 - accuracy: 0.8889 - val_loss: 0.3677 - val_accuracy: 1.0000\n",
      "Epoch 63/100\n",
      "9/9 [==============================] - 0s 328us/step - loss: 0.4154 - accuracy: 0.8889 - val_loss: 0.3683 - val_accuracy: 1.0000\n",
      "Epoch 64/100\n",
      "9/9 [==============================] - 0s 328us/step - loss: 0.4126 - accuracy: 0.8889 - val_loss: 0.3689 - val_accuracy: 1.0000\n",
      "Epoch 65/100\n",
      "9/9 [==============================] - 0s 333us/step - loss: 0.4098 - accuracy: 0.8889 - val_loss: 0.3695 - val_accuracy: 1.0000\n",
      "Epoch 66/100\n",
      "9/9 [==============================] - 0s 337us/step - loss: 0.4070 - accuracy: 0.8889 - val_loss: 0.3701 - val_accuracy: 1.0000\n",
      "Epoch 67/100\n",
      "9/9 [==============================] - 0s 332us/step - loss: 0.4043 - accuracy: 0.8889 - val_loss: 0.3707 - val_accuracy: 1.0000\n",
      "Epoch 68/100\n",
      "9/9 [==============================] - 0s 333us/step - loss: 0.4016 - accuracy: 0.8889 - val_loss: 0.3714 - val_accuracy: 1.0000\n",
      "Epoch 69/100\n",
      "9/9 [==============================] - 0s 336us/step - loss: 0.3989 - accuracy: 0.8889 - val_loss: 0.3720 - val_accuracy: 1.0000\n",
      "Epoch 70/100\n",
      "9/9 [==============================] - 0s 554us/step - loss: 0.3962 - accuracy: 0.8889 - val_loss: 0.3726 - val_accuracy: 1.0000\n",
      "Epoch 71/100\n",
      "9/9 [==============================] - 0s 443us/step - loss: 0.3935 - accuracy: 0.8889 - val_loss: 0.3732 - val_accuracy: 1.0000\n",
      "Epoch 72/100\n",
      "9/9 [==============================] - 0s 328us/step - loss: 0.3909 - accuracy: 0.8889 - val_loss: 0.3738 - val_accuracy: 1.0000\n",
      "Epoch 73/100\n",
      "9/9 [==============================] - 0s 440us/step - loss: 0.3883 - accuracy: 1.0000 - val_loss: 0.3744 - val_accuracy: 1.0000\n",
      "Epoch 74/100\n",
      "9/9 [==============================] - 0s 332us/step - loss: 0.3857 - accuracy: 1.0000 - val_loss: 0.3750 - val_accuracy: 1.0000\n",
      "Epoch 75/100\n",
      "9/9 [==============================] - 0s 222us/step - loss: 0.3832 - accuracy: 1.0000 - val_loss: 0.3757 - val_accuracy: 1.0000\n",
      "Epoch 76/100\n",
      "9/9 [==============================] - 0s 332us/step - loss: 0.3806 - accuracy: 1.0000 - val_loss: 0.3763 - val_accuracy: 1.0000\n",
      "Epoch 77/100\n",
      "9/9 [==============================] - 0s 220us/step - loss: 0.3781 - accuracy: 1.0000 - val_loss: 0.3769 - val_accuracy: 1.0000\n",
      "Epoch 78/100\n",
      "9/9 [==============================] - 0s 333us/step - loss: 0.3756 - accuracy: 1.0000 - val_loss: 0.3775 - val_accuracy: 1.0000\n",
      "Epoch 79/100\n",
      "9/9 [==============================] - 0s 332us/step - loss: 0.3732 - accuracy: 1.0000 - val_loss: 0.3781 - val_accuracy: 1.0000\n",
      "Epoch 80/100\n",
      "9/9 [==============================] - 0s 332us/step - loss: 0.3707 - accuracy: 1.0000 - val_loss: 0.3787 - val_accuracy: 1.0000\n",
      "Epoch 81/100\n",
      "9/9 [==============================] - 0s 226us/step - loss: 0.3683 - accuracy: 1.0000 - val_loss: 0.3793 - val_accuracy: 1.0000\n",
      "Epoch 82/100\n",
      "9/9 [==============================] - 0s 218us/step - loss: 0.3659 - accuracy: 1.0000 - val_loss: 0.3800 - val_accuracy: 1.0000\n",
      "Epoch 83/100\n",
      "9/9 [==============================] - 0s 226us/step - loss: 0.3635 - accuracy: 1.0000 - val_loss: 0.3806 - val_accuracy: 1.0000\n",
      "Epoch 84/100\n",
      "9/9 [==============================] - 0s 439us/step - loss: 0.3612 - accuracy: 1.0000 - val_loss: 0.3812 - val_accuracy: 1.0000\n",
      "Epoch 85/100\n",
      "9/9 [==============================] - 0s 329us/step - loss: 0.3588 - accuracy: 1.0000 - val_loss: 0.3818 - val_accuracy: 1.0000\n",
      "Epoch 86/100\n",
      "9/9 [==============================] - 0s 336us/step - loss: 0.3565 - accuracy: 1.0000 - val_loss: 0.3825 - val_accuracy: 1.0000\n",
      "Epoch 87/100\n",
      "9/9 [==============================] - 0s 222us/step - loss: 0.3542 - accuracy: 1.0000 - val_loss: 0.3831 - val_accuracy: 1.0000\n",
      "Epoch 88/100\n",
      "9/9 [==============================] - 0s 333us/step - loss: 0.3519 - accuracy: 1.0000 - val_loss: 0.3838 - val_accuracy: 1.0000\n",
      "Epoch 89/100\n",
      "9/9 [==============================] - 0s 329us/step - loss: 0.3497 - accuracy: 1.0000 - val_loss: 0.3844 - val_accuracy: 1.0000\n",
      "Epoch 90/100\n",
      "9/9 [==============================] - 0s 328us/step - loss: 0.3474 - accuracy: 1.0000 - val_loss: 0.3851 - val_accuracy: 1.0000\n",
      "Epoch 91/100\n",
      "9/9 [==============================] - 0s 329us/step - loss: 0.3452 - accuracy: 1.0000 - val_loss: 0.3858 - val_accuracy: 1.0000\n",
      "Epoch 92/100\n",
      "9/9 [==============================] - 0s 439us/step - loss: 0.3430 - accuracy: 1.0000 - val_loss: 0.3865 - val_accuracy: 1.0000\n",
      "Epoch 93/100\n",
      "9/9 [==============================] - 0s 219us/step - loss: 0.3408 - accuracy: 1.0000 - val_loss: 0.3872 - val_accuracy: 1.0000\n",
      "Epoch 94/100\n",
      "9/9 [==============================] - 0s 221us/step - loss: 0.3387 - accuracy: 1.0000 - val_loss: 0.3879 - val_accuracy: 1.0000\n",
      "Epoch 95/100\n",
      "9/9 [==============================] - 0s 333us/step - loss: 0.3365 - accuracy: 1.0000 - val_loss: 0.3886 - val_accuracy: 1.0000\n",
      "Epoch 96/100\n",
      "9/9 [==============================] - 0s 332us/step - loss: 0.3344 - accuracy: 1.0000 - val_loss: 0.3893 - val_accuracy: 1.0000\n",
      "Epoch 97/100\n",
      "9/9 [==============================] - 0s 222us/step - loss: 0.3323 - accuracy: 1.0000 - val_loss: 0.3900 - val_accuracy: 1.0000\n",
      "Epoch 98/100\n",
      "9/9 [==============================] - 0s 332us/step - loss: 0.3302 - accuracy: 1.0000 - val_loss: 0.3908 - val_accuracy: 1.0000\n",
      "Epoch 99/100\n",
      "9/9 [==============================] - 0s 333us/step - loss: 0.3282 - accuracy: 1.0000 - val_loss: 0.3915 - val_accuracy: 1.0000\n",
      "Epoch 100/100\n",
      "9/9 [==============================] - 0s 443us/step - loss: 0.3261 - accuracy: 1.0000 - val_loss: 0.3923 - val_accuracy: 1.0000\n"
     ]
    },
    {
     "data": {
      "text/plain": [
       "<keras.callbacks.callbacks.History at 0x1eaf2b04dd8>"
      ]
     },
     "execution_count": 25,
     "metadata": {},
     "output_type": "execute_result"
    }
   ],
   "source": [
    "model.compile(loss=\"binary_crossentropy\",optimizer=\"adam\", metrics=[\"accuracy\"])\n",
    "model.fit(padded_docs, labels, epochs=100, validation_split=0.1, callbacks=[history_2])"
   ]
  },
  {
   "cell_type": "code",
   "execution_count": 26,
   "metadata": {},
   "outputs": [
    {
     "name": "stdout",
     "output_type": "stream",
     "text": [
      "Accuracy: 100.000000\n"
     ]
    }
   ],
   "source": [
    "loss, accuracy = model.evaluate(padded_docs, labels, verbose=0)\n",
    "print('Accuracy: %f' % (accuracy*100))"
   ]
  },
  {
   "cell_type": "code",
   "execution_count": 27,
   "metadata": {},
   "outputs": [
    {
     "data": {
      "image/png": "[encoded data removed]",
      "text/plain": [
       "<Figure size 432x288 with 1 Axes>"
      ]
     },
     "metadata": {
      "needs_background": "light"
     },
     "output_type": "display_data"
    }
   ],
   "source": [
    "plt.plot(history_1.history['accuracy'], label = \"tarina Trainable\")\n",
    "plt.plot(history_1.history['val_accuracy'], label = \"test Trainable\")\n",
    "\n",
    "plt.plot(history_2.history['accuracy'], label = \"tarina Not Trainable\")\n",
    "plt.plot(history_2.history['val_accuracy'], label = \"test Not Trainable\")\n",
    "\n",
    "\n",
    "plt.legend()\n",
    "plt.show()"
   ]
  },
  {
   "cell_type": "code",
   "execution_count": null,
   "metadata": {},
   "outputs": [],
   "source": []
  }
 ],
 "metadata": {
  "kernelspec": {
   "display_name": "Python 3",
   "language": "python",
   "name": "python3"
  },
  "language_info": {
   "codemirror_mode": {
    "name": "ipython",
    "version": 3
   },
   "file_extension": ".py",
   "mimetype": "text/x-python",
   "name": "python",
   "nbconvert_exporter": "python",
   "pygments_lexer": "ipython3",
   "version": "3.7.1"
  }
 },
 "nbformat": 4,
 "nbformat_minor": 2
}
