{
 "cells": [
  {
   "cell_type": "markdown",
   "metadata": {},
   "source": [
    "# Konwolucyjne sieci neuronowe\n",
    "\n",
    "## Convolution neural networks, CNN\n",
    "\n",
    "# Filtry jako ekstraktory informacji\n",
    "\n",
    "<img src=\"Grafika/Filter.png\" width=\"550\">\n",
    "\n",
    "<img src=\"Grafika/OriginalAndFilter.png\" width=\"550\">\n",
    "\n",
    "<img src=\"Grafika/FirstPixelMulitiplication.png\" width=\"550\">\n",
    "\n",
    "<img src=\"Grafika/SecondMultiplication.png\" width=\"550\">\n",
    "\n",
    "Źródło: https://adeshpande3.github.io/adeshpande3.github.io/A-Beginner's-Guide-To-Understanding-Convolutional-Neural-Networks/"
   ]
  },
  {
   "cell_type": "markdown",
   "metadata": {},
   "source": [
    "### Filtrowanie - konwolucja (splot):\n",
    "\n",
    "<img src=\"Grafika/matrixConvolution.jpg\" width=\"450\">\n",
    "\n",
    "Źródło: https://i.stack.imgur.com/SKgim.jpga"
   ]
  },
  {
   "cell_type": "markdown",
   "metadata": {},
   "source": [
    "### Warstwa konwolucyjna\n",
    "\n",
    "Warstawa konwolucyjna analizuje obraz \"kawałek po kawałku\" i zwraca informację o poszczególnych obszarach przy użyciu filtrów.\n",
    "\n",
    "Warstwa konwolucyjna składa się z K filtrów i zwraca K \"tablic\" powstałych przez przetworzenie wejścia kolejnymi filtrami.\n",
    "\n",
    "Operacja splotu (konwolucja):\n",
    "\n",
    "<img src=\"Grafika/Convolution_schematic.gif\" width=\"450\">\n",
    "\n",
    "Źródło: http://deeplearning.stanford.edu/wiki/images/6/6c/Convolution_schematic.gif"
   ]
  },
  {
   "cell_type": "markdown",
   "metadata": {},
   "source": [
    "### W przypadku macierzy trójwymiarowych, filtrowanie (2D) wygląda tak:\n",
    "\n",
    "<img src=\"https://i.stack.imgur.com/FjvuN.gif\" width=\"550\">"
   ]
  },
  {
   "cell_type": "markdown",
   "metadata": {},
   "source": [
    "### Sieć konwolucyjna uczy się ekstrachować istotne \"informacje\" - parametrami sieci są wagi w filtrach.\n",
    "\n",
    "Czyli sieć sama uczy się tego, co jest istotne w danych dla naszego celu.\n",
    "\n",
    "W sieciach konwolucyjnych na wyjście splotu nakłada się funkcję aktywacji. Z reguły jest to ReLU:\n",
    "\n",
    "<img src=\"Grafika/relu.png\" width=\"350\">\n",
    "\n",
    "Źródło: https://ml4a.github.io/images/figures/relu.png\n",
    "\n",
    "Takie przekształcenie można interpretować w następujący sposób: jeżeli w danym obszarze jest coś co dany filtr \"rozpoznaje\" (wartość splotu większa od 0), to zwracamy po prostu wynik splotu. Natomiast jeśli dane nie pasują do danego filtra (wartość ujemna), to niezaleznie od tego co w tych danych jest, zwracamy 0, które mówi, że nie ma tego czego szukamy.\n",
    "\n",
    "## Pooling (subsampling)\n",
    "\n",
    "Pooling to agregacja informacji - zamiast przechowywać całą tablicę, którą zwrócił filtr, wyciągamy sobie po jednej \"informacji\" z podobszarów. W ten sposób otrzymujemy tablicę o zredukowanym wymiarze.\n",
    "\n",
    "MaxPooling:\n",
    "\n",
    "<img src=\"Grafika/MaxPool.png\" width=\"550\">\n",
    "\n",
    "Źródło: https://adeshpande3.github.io/assets/MaxPool.png\n",
    "\n",
    "Jaką informację wyekstrahuje \"max pooling\"?\n",
    "\n",
    "A jaką \"average pooling\"?\n",
    "\n",
    "W praktyce z reguły po każdej warstwie konwolucyjnej daje się max pooling."
   ]
  },
  {
   "cell_type": "markdown",
   "metadata": {},
   "source": [
    "### Wielowarstwowa sieć konwolucyjna\n",
    "\n",
    "Wielowarstwowe sieci konwolucyjne wykorzystują wielokrotne składanie operacji filtrowania i uczą się wykrywać bardzo złożone zależności.\n",
    "\n",
    "Wówczas każda kolejna warstwa w jakiś sposób agreguje informacje z poprzedniej warstwy do ogólniejszego poziomu. Przykladowa interpretacja w kontekście klasyfikacji czy na danym zdjęciu jest człowiek:\n",
    "- pierwsza warstwa: rozpoznawianie kształtów/konturów\n",
    "- druga warstwa: detekcja części ciała\n",
    "- trzecia: detekcja człowiek\n",
    "\n",
    "\n",
    "<img src=\"Grafika/LeNet.png\" width=\"700\">\n",
    "Źródło: https://adeshpande3.github.io/assets/LeNet.png\"\n",
    "\n",
    "### Wyjście sieci\n",
    "\n",
    "Ostatnia warsta konwolucyjna (lub pooling) jest rozwijana do wektora. Ten wektor jest przepuszczany przez warstwy dense, które prowadzą do predykcji. Oczywiście można dokonywać predykcji bezpośrednio z rozwiniętego wektora."
   ]
  },
  {
   "cell_type": "markdown",
   "metadata": {},
   "source": [
    "### Uwaga. Filtr dla obrazka 2D jest tablicą 2D. Natomiast kolejne warstwy są 3D - dochodzi wymiar liczby filtrów. Dlatego dalsze filtry są kostami 3D, które mają głębokość równą liczbie filtrów w poprzedniej warstwie.\n",
    "\n",
    "<img src=\"Grafika/conv3D.jpg\" width=\"700\">\n",
    "\n",
    "Źródło: https://www.mathworks.com/content/mathworks/www/en/discovery/convolutional-neural-network/_jcr_content/mainParsys/image_copy.img.jpg/1497876372993.jpg\n",
    "\n",
    "Naturalnie, jeżeli na wejściu mamy obiekt więcej niż dwu-wymiarowy to już pierwsza warstwa używa filtrów, które są kostkami."
   ]
  },
  {
   "cell_type": "markdown",
   "metadata": {},
   "source": [
    "## Strides - wielkość kroku przesunięcia\n",
    "\n",
    "Określa dokładność z jaką chcemy skanować dane.\n",
    "\n",
    "Strides = (1,1)\n",
    "\n",
    "<img src=\"Grafika/Stride1.png\" width=\"600\">\n",
    "\n",
    "Strides = (2,2)\n",
    "\n",
    "<img src=\"Grafika/Stride2.png\" width=\"600\">\n",
    "\n",
    "Źródło: https://adeshpande3.github.io/adeshpande3.github.io/A-Beginner's-Guide-To-Understanding-Convolutional-Neural-Networks-Part-2/\n"
   ]
  },
  {
   "cell_type": "markdown",
   "metadata": {},
   "source": [
    "# Zad\n",
    "\n",
    "Pobierzmy zbiór danych\n",
    "\n",
    "http://scikit-learn.org/0.15/auto_examples/applications/face_recognition.html"
   ]
  },
  {
   "cell_type": "code",
   "execution_count": 1,
   "metadata": {},
   "outputs": [
    {
     "name": "stdout",
     "output_type": "stream",
     "text": [
      "1.15.0\n",
      "2.3.1\n"
     ]
    },
    {
     "name": "stderr",
     "output_type": "stream",
     "text": [
      "Using TensorFlow backend.\n"
     ]
    }
   ],
   "source": [
    "import tensorflow as tf\n",
    "print(tf.__version__)\n",
    "import keras\n",
    "print(keras.__version__)\n",
    "# from tensorflow import keras as keras \n",
    "\n",
    "from numpy.random import seed\n",
    "seed(123)\n",
    "from tensorflow import set_random_seed\n",
    "set_random_seed(123)"
   ]
  },
  {
   "cell_type": "code",
   "execution_count": 2,
   "metadata": {},
   "outputs": [],
   "source": [
    "import numpy as np\n",
    "import pandas as pd\n",
    "import os\n",
    "from keras.utils import np_utils\n",
    "from sklearn.datasets import fetch_lfw_people\n",
    "\n",
    "lfw_people = fetch_lfw_people(min_faces_per_person=70, resize=0.4)\n",
    "n_samples, h, w = lfw_people.images.shape\n",
    "X = lfw_people.data\n",
    "n_features = X.shape[1]\n",
    "\n",
    "y = lfw_people.target\n",
    "target_names = lfw_people.target_names"
   ]
  },
  {
   "cell_type": "code",
   "execution_count": 3,
   "metadata": {},
   "outputs": [
    {
     "data": {
      "text/plain": [
       "array([254.      , 254.      , 251.66667 , ...,  87.333336,  88.666664,\n",
       "        86.666664], dtype=float32)"
      ]
     },
     "execution_count": 3,
     "metadata": {},
     "output_type": "execute_result"
    }
   ],
   "source": [
    "X[0] # wektor - pozniej zamienimy na macierz, bo to jest obraz"
   ]
  },
  {
   "cell_type": "code",
   "execution_count": 4,
   "metadata": {},
   "outputs": [
    {
     "data": {
      "text/plain": [
       "(1288, 1850)"
      ]
     },
     "execution_count": 4,
     "metadata": {},
     "output_type": "execute_result"
    }
   ],
   "source": [
    "X.shape"
   ]
  },
  {
   "cell_type": "code",
   "execution_count": 5,
   "metadata": {},
   "outputs": [
    {
     "data": {
      "text/plain": [
       "(array([0, 1, 2, 3, 4, 5, 6], dtype=int64),\n",
       " array([ 77, 236, 121, 530, 109,  71, 144], dtype=int64))"
      ]
     },
     "execution_count": 5,
     "metadata": {},
     "output_type": "execute_result"
    }
   ],
   "source": [
    "np.unique(y,return_counts=True)"
   ]
  },
  {
   "cell_type": "code",
   "execution_count": 6,
   "metadata": {},
   "outputs": [
    {
     "data": {
      "text/plain": [
       "array(['Ariel Sharon', 'Colin Powell', 'Donald Rumsfeld', 'George W Bush',\n",
       "       'Gerhard Schroeder', 'Hugo Chavez', 'Tony Blair'], dtype='<U17')"
      ]
     },
     "execution_count": 6,
     "metadata": {},
     "output_type": "execute_result"
    }
   ],
   "source": [
    "target_names"
   ]
  },
  {
   "cell_type": "code",
   "execution_count": 7,
   "metadata": {},
   "outputs": [
    {
     "data": {
      "text/plain": [
       "array([[0., 0., 0., 0., 0., 1., 0.],\n",
       "       [0., 0., 0., 0., 0., 0., 1.],\n",
       "       [0., 0., 0., 1., 0., 0., 0.],\n",
       "       [0., 1., 0., 0., 0., 0., 0.],\n",
       "       [1., 0., 0., 0., 0., 0., 0.]], dtype=float32)"
      ]
     },
     "execution_count": 7,
     "metadata": {},
     "output_type": "execute_result"
    }
   ],
   "source": [
    "# przygotowanie y\n",
    "y = np_utils.to_categorical(y)\n",
    "y[:5]"
   ]
  },
  {
   "cell_type": "code",
   "execution_count": 8,
   "metadata": {},
   "outputs": [
    {
     "data": {
      "text/plain": [
       "7"
      ]
     },
     "execution_count": 8,
     "metadata": {},
     "output_type": "execute_result"
    }
   ],
   "source": [
    "n_classes = y.shape[1]\n",
    "n_classes"
   ]
  },
  {
   "cell_type": "code",
   "execution_count": 9,
   "metadata": {},
   "outputs": [
    {
     "name": "stdout",
     "output_type": "stream",
     "text": [
      "(772, 50, 37, 1)\n"
     ]
    }
   ],
   "source": [
    "from sklearn.model_selection import train_test_split\n",
    "\n",
    "X_train, X_test, y_train, y_test = train_test_split(X, y, test_size=0.4)\n",
    "\n",
    "X_train = np.array([x.reshape((h, w, 1)) for x in X_train])\n",
    "X_test = np.array([x.reshape((h, w, 1)) for x in X_test])\n",
    "print(X_train.shape)"
   ]
  },
  {
   "cell_type": "markdown",
   "metadata": {},
   "source": [
    "### skalowanie X"
   ]
  },
  {
   "cell_type": "code",
   "execution_count": 10,
   "metadata": {},
   "outputs": [],
   "source": [
    "# skalowanie X\n",
    "\n",
    "X_train = X_train/255\n",
    "X_test = X_test/255"
   ]
  },
  {
   "cell_type": "code",
   "execution_count": 11,
   "metadata": {},
   "outputs": [
    {
     "data": {
      "text/plain": [
       "<Figure size 720x720 with 12 Axes>"
      ]
     },
     "metadata": {},
     "output_type": "display_data"
    }
   ],
   "source": [
    "import matplotlib.pyplot as plt\n",
    "\n",
    "images = X_train[:12]\n",
    "n_col = 4\n",
    "n_row = 3\n",
    "plt.figure(figsize=(1.8 * n_col, 2.4 * n_row))\n",
    "plt.subplots_adjust(bottom=0, left=.01, right=.99, top=.90, hspace=.35)\n",
    "for i in range(n_row * n_col):\n",
    "    plt.subplot(n_row, n_col, i + 1)\n",
    "    plt.imshow(images[i][:,:,0], cmap=plt.cm.gray)\n",
    "    plt.xticks(())\n",
    "    plt.yticks(())\n",
    "    \n",
    "plt.show()"
   ]
  },
  {
   "cell_type": "code",
   "execution_count": 12,
   "metadata": {},
   "outputs": [
    {
     "name": "stdout",
     "output_type": "stream",
     "text": [
      "(772, 50, 37, 1)\n",
      "(772, 7)\n",
      "(516, 50, 37, 1)\n"
     ]
    }
   ],
   "source": [
    "print(X_train.shape)\n",
    "print(y_train.shape)\n",
    "print(X_test.shape)"
   ]
  },
  {
   "cell_type": "markdown",
   "metadata": {},
   "source": [
    "# Zad. (Punkt odniesienia)\n",
    "\n",
    "Sprawdź klasyfikację przy użyciu perceptrona - sieć 0-warstwowa (lub 1-warstwową licząc wyjście jako warstwę). Pamiętaj, że, aby uruchomić warstwę dense na danych, które nie są wektorem trzeba je \"rozwinąć\" przy uzyciu \"warstwy\" (operacji) Flatten. "
   ]
  },
  {
   "cell_type": "code",
   "execution_count": 13,
   "metadata": {},
   "outputs": [
    {
     "name": "stdout",
     "output_type": "stream",
     "text": [
      "WARNING:tensorflow:From C:\\ProgramData\\Anaconda3\\lib\\site-packages\\tensorflow_core\\python\\ops\\resource_variable_ops.py:1630: calling BaseResourceVariable.__init__ (from tensorflow.python.ops.resource_variable_ops) with constraint is deprecated and will be removed in a future version.\n",
      "Instructions for updating:\n",
      "If using Keras pass *_constraint arguments to layers.\n",
      "Model: \"sequential_1\"\n",
      "_________________________________________________________________\n",
      "Layer (type)                 Output Shape              Param #   \n",
      "=================================================================\n",
      "flatten_1 (Flatten)          (None, 1850)              0         \n",
      "_________________________________________________________________\n",
      "dense_1 (Dense)              (None, 7)                 12957     \n",
      "=================================================================\n",
      "Total params: 12,957\n",
      "Trainable params: 12,957\n",
      "Non-trainable params: 0\n",
      "_________________________________________________________________\n",
      "WARNING:tensorflow:From C:\\ProgramData\\Anaconda3\\lib\\site-packages\\keras\\backend\\tensorflow_backend.py:422: The name tf.global_variables is deprecated. Please use tf.compat.v1.global_variables instead.\n",
      "\n",
      "Train on 579 samples, validate on 193 samples\n",
      "Epoch 1/100\n",
      "579/579 [==============================] - 0s 173us/step - loss: 1.7243 - categorical_accuracy: 0.4266 - val_loss: 1.8555 - val_categorical_accuracy: 0.3886\n",
      "Epoch 2/100\n",
      "579/579 [==============================] - 0s 52us/step - loss: 1.7183 - categorical_accuracy: 0.4698 - val_loss: 1.8222 - val_categorical_accuracy: 0.3782\n",
      "Epoch 3/100\n",
      "579/579 [==============================] - 0s 52us/step - loss: 1.6200 - categorical_accuracy: 0.4352 - val_loss: 1.5929 - val_categorical_accuracy: 0.4301\n",
      "Epoch 4/100\n",
      "579/579 [==============================] - 0s 50us/step - loss: 1.5291 - categorical_accuracy: 0.4922 - val_loss: 1.5475 - val_categorical_accuracy: 0.4197\n",
      "Epoch 5/100\n",
      "579/579 [==============================] - 0s 60us/step - loss: 1.4723 - categorical_accuracy: 0.4940 - val_loss: 1.6884 - val_categorical_accuracy: 0.4041\n",
      "Epoch 6/100\n",
      "579/579 [==============================] - 0s 50us/step - loss: 1.4712 - categorical_accuracy: 0.5043 - val_loss: 1.5950 - val_categorical_accuracy: 0.3938\n",
      "Epoch 7/100\n",
      "579/579 [==============================] - 0s 47us/step - loss: 1.4039 - categorical_accuracy: 0.5164 - val_loss: 1.4996 - val_categorical_accuracy: 0.4560\n",
      "Epoch 8/100\n",
      "579/579 [==============================] - 0s 47us/step - loss: 1.4014 - categorical_accuracy: 0.5406 - val_loss: 1.5207 - val_categorical_accuracy: 0.4560\n",
      "Epoch 9/100\n",
      "579/579 [==============================] - 0s 57us/step - loss: 1.3170 - categorical_accuracy: 0.5458 - val_loss: 1.4382 - val_categorical_accuracy: 0.4611\n",
      "Epoch 10/100\n",
      "579/579 [==============================] - 0s 52us/step - loss: 1.2682 - categorical_accuracy: 0.5561 - val_loss: 1.4442 - val_categorical_accuracy: 0.4197\n",
      "Epoch 11/100\n",
      "579/579 [==============================] - 0s 55us/step - loss: 1.2234 - categorical_accuracy: 0.5509 - val_loss: 1.4055 - val_categorical_accuracy: 0.4352\n",
      "Epoch 12/100\n",
      "579/579 [==============================] - 0s 45us/step - loss: 1.2268 - categorical_accuracy: 0.5475 - val_loss: 1.4244 - val_categorical_accuracy: 0.4352\n",
      "Epoch 13/100\n",
      "579/579 [==============================] - 0s 47us/step - loss: 1.1907 - categorical_accuracy: 0.5630 - val_loss: 1.3092 - val_categorical_accuracy: 0.4715\n",
      "Epoch 14/100\n",
      "579/579 [==============================] - 0s 48us/step - loss: 1.1768 - categorical_accuracy: 0.5959 - val_loss: 1.2774 - val_categorical_accuracy: 0.5181\n",
      "Epoch 15/100\n",
      "579/579 [==============================] - 0s 47us/step - loss: 1.1448 - categorical_accuracy: 0.5941 - val_loss: 1.3191 - val_categorical_accuracy: 0.5078\n",
      "Epoch 16/100\n",
      "579/579 [==============================] - 0s 47us/step - loss: 1.1076 - categorical_accuracy: 0.6010 - val_loss: 1.3747 - val_categorical_accuracy: 0.4456\n",
      "Epoch 17/100\n",
      "579/579 [==============================] - 0s 48us/step - loss: 1.1182 - categorical_accuracy: 0.5941 - val_loss: 1.3524 - val_categorical_accuracy: 0.4870\n",
      "Epoch 18/100\n",
      "579/579 [==============================] - 0s 47us/step - loss: 1.1025 - categorical_accuracy: 0.6062 - val_loss: 1.2886 - val_categorical_accuracy: 0.5233\n",
      "Epoch 19/100\n",
      "579/579 [==============================] - 0s 50us/step - loss: 1.0673 - categorical_accuracy: 0.6373 - val_loss: 1.3349 - val_categorical_accuracy: 0.5181\n",
      "Epoch 20/100\n",
      "579/579 [==============================] - 0s 45us/step - loss: 1.0635 - categorical_accuracy: 0.6062 - val_loss: 1.1883 - val_categorical_accuracy: 0.5751\n",
      "Epoch 21/100\n",
      "579/579 [==============================] - 0s 47us/step - loss: 1.0230 - categorical_accuracy: 0.6822 - val_loss: 1.1908 - val_categorical_accuracy: 0.5181\n",
      "Epoch 22/100\n",
      "579/579 [==============================] - 0s 48us/step - loss: 0.9953 - categorical_accuracy: 0.6632 - val_loss: 1.2422 - val_categorical_accuracy: 0.4715\n",
      "Epoch 23/100\n",
      "579/579 [==============================] - 0s 47us/step - loss: 0.9581 - categorical_accuracy: 0.6891 - val_loss: 1.2446 - val_categorical_accuracy: 0.5233\n",
      "Epoch 24/100\n",
      "579/579 [==============================] - 0s 48us/step - loss: 0.9238 - categorical_accuracy: 0.6926 - val_loss: 1.1057 - val_categorical_accuracy: 0.6477\n",
      "Epoch 25/100\n",
      "579/579 [==============================] - 0s 47us/step - loss: 0.9285 - categorical_accuracy: 0.7202 - val_loss: 1.1974 - val_categorical_accuracy: 0.5544\n",
      "Epoch 26/100\n",
      "579/579 [==============================] - 0s 47us/step - loss: 0.9209 - categorical_accuracy: 0.7012 - val_loss: 1.1120 - val_categorical_accuracy: 0.6218\n",
      "Epoch 27/100\n",
      "579/579 [==============================] - 0s 48us/step - loss: 0.8932 - categorical_accuracy: 0.7081 - val_loss: 1.1682 - val_categorical_accuracy: 0.5648\n",
      "Epoch 28/100\n",
      "579/579 [==============================] - 0s 48us/step - loss: 0.8897 - categorical_accuracy: 0.7116 - val_loss: 1.1021 - val_categorical_accuracy: 0.5803\n",
      "Epoch 29/100\n",
      "579/579 [==============================] - 0s 48us/step - loss: 0.8719 - categorical_accuracy: 0.7427 - val_loss: 1.0837 - val_categorical_accuracy: 0.6425\n",
      "Epoch 30/100\n",
      "579/579 [==============================] - 0s 50us/step - loss: 0.8665 - categorical_accuracy: 0.7219 - val_loss: 1.0996 - val_categorical_accuracy: 0.6166\n",
      "Epoch 31/100\n",
      "579/579 [==============================] - 0s 47us/step - loss: 0.8535 - categorical_accuracy: 0.7358 - val_loss: 1.1442 - val_categorical_accuracy: 0.5440\n",
      "Epoch 32/100\n",
      "579/579 [==============================] - 0s 48us/step - loss: 0.8690 - categorical_accuracy: 0.7254 - val_loss: 1.0630 - val_categorical_accuracy: 0.6528\n",
      "Epoch 33/100\n",
      "579/579 [==============================] - 0s 48us/step - loss: 0.8203 - categorical_accuracy: 0.7392 - val_loss: 1.0795 - val_categorical_accuracy: 0.6995\n",
      "Epoch 34/100\n",
      "579/579 [==============================] - 0s 50us/step - loss: 0.8290 - categorical_accuracy: 0.7392 - val_loss: 1.1293 - val_categorical_accuracy: 0.5544\n",
      "Epoch 35/100\n",
      "579/579 [==============================] - 0s 48us/step - loss: 0.8167 - categorical_accuracy: 0.7116 - val_loss: 1.0971 - val_categorical_accuracy: 0.5648\n",
      "Epoch 36/100\n",
      "579/579 [==============================] - 0s 55us/step - loss: 0.7865 - categorical_accuracy: 0.7323 - val_loss: 1.0364 - val_categorical_accuracy: 0.6736\n",
      "Epoch 37/100\n",
      "579/579 [==============================] - 0s 50us/step - loss: 0.7781 - categorical_accuracy: 0.7668 - val_loss: 1.2419 - val_categorical_accuracy: 0.4974\n",
      "Epoch 38/100\n",
      "579/579 [==============================] - 0s 47us/step - loss: 0.7894 - categorical_accuracy: 0.7375 - val_loss: 0.9887 - val_categorical_accuracy: 0.6736\n",
      "Epoch 39/100\n",
      "579/579 [==============================] - 0s 47us/step - loss: 0.7341 - categorical_accuracy: 0.7824 - val_loss: 1.0052 - val_categorical_accuracy: 0.6891\n",
      "Epoch 40/100\n",
      "579/579 [==============================] - 0s 54us/step - loss: 0.7260 - categorical_accuracy: 0.8014 - val_loss: 1.0719 - val_categorical_accuracy: 0.6062\n",
      "Epoch 41/100\n",
      "579/579 [==============================] - 0s 50us/step - loss: 0.7977 - categorical_accuracy: 0.7513 - val_loss: 0.9905 - val_categorical_accuracy: 0.6736\n",
      "Epoch 42/100\n",
      "579/579 [==============================] - 0s 48us/step - loss: 0.7400 - categorical_accuracy: 0.7755 - val_loss: 1.0080 - val_categorical_accuracy: 0.6321\n",
      "Epoch 43/100\n",
      "579/579 [==============================] - 0s 57us/step - loss: 0.6974 - categorical_accuracy: 0.7979 - val_loss: 1.0836 - val_categorical_accuracy: 0.6218\n",
      "Epoch 44/100\n",
      "579/579 [==============================] - 0s 52us/step - loss: 0.7031 - categorical_accuracy: 0.8066 - val_loss: 1.0203 - val_categorical_accuracy: 0.6010\n",
      "Epoch 45/100\n",
      "579/579 [==============================] - 0s 55us/step - loss: 0.6849 - categorical_accuracy: 0.8152 - val_loss: 0.9997 - val_categorical_accuracy: 0.6736\n",
      "Epoch 46/100\n",
      "579/579 [==============================] - 0s 50us/step - loss: 0.6707 - categorical_accuracy: 0.8066 - val_loss: 0.9483 - val_categorical_accuracy: 0.7047\n",
      "Epoch 47/100\n",
      "579/579 [==============================] - 0s 50us/step - loss: 0.6697 - categorical_accuracy: 0.8117 - val_loss: 0.9450 - val_categorical_accuracy: 0.6788\n",
      "Epoch 48/100\n",
      "579/579 [==============================] - 0s 64us/step - loss: 0.6529 - categorical_accuracy: 0.8083 - val_loss: 1.0484 - val_categorical_accuracy: 0.6373\n",
      "Epoch 49/100\n",
      "579/579 [==============================] - 0s 54us/step - loss: 0.6543 - categorical_accuracy: 0.8066 - val_loss: 0.9546 - val_categorical_accuracy: 0.7461\n",
      "Epoch 50/100\n",
      "579/579 [==============================] - 0s 52us/step - loss: 0.6738 - categorical_accuracy: 0.8135 - val_loss: 0.9642 - val_categorical_accuracy: 0.7409\n",
      "Epoch 51/100\n",
      "579/579 [==============================] - 0s 52us/step - loss: 0.6448 - categorical_accuracy: 0.8135 - val_loss: 0.9689 - val_categorical_accuracy: 0.7047\n",
      "Epoch 52/100\n",
      "579/579 [==============================] - 0s 52us/step - loss: 0.6511 - categorical_accuracy: 0.8204 - val_loss: 0.9493 - val_categorical_accuracy: 0.6788\n",
      "Epoch 53/100\n",
      "579/579 [==============================] - 0s 48us/step - loss: 0.6222 - categorical_accuracy: 0.8273 - val_loss: 1.0239 - val_categorical_accuracy: 0.6166\n",
      "Epoch 54/100\n",
      "579/579 [==============================] - 0s 57us/step - loss: 0.6297 - categorical_accuracy: 0.8221 - val_loss: 0.9172 - val_categorical_accuracy: 0.7409\n",
      "Epoch 55/100\n",
      "579/579 [==============================] - 0s 48us/step - loss: 0.6053 - categorical_accuracy: 0.8307 - val_loss: 0.9360 - val_categorical_accuracy: 0.7098\n",
      "Epoch 56/100\n",
      "579/579 [==============================] - 0s 48us/step - loss: 0.6170 - categorical_accuracy: 0.8273 - val_loss: 0.9481 - val_categorical_accuracy: 0.6736\n",
      "Epoch 57/100\n",
      "579/579 [==============================] - 0s 50us/step - loss: 0.6010 - categorical_accuracy: 0.8377 - val_loss: 0.9093 - val_categorical_accuracy: 0.7565\n",
      "Epoch 58/100\n",
      "579/579 [==============================] - 0s 50us/step - loss: 0.5953 - categorical_accuracy: 0.8446 - val_loss: 0.9423 - val_categorical_accuracy: 0.6943\n",
      "Epoch 59/100\n",
      "579/579 [==============================] - 0s 50us/step - loss: 0.5766 - categorical_accuracy: 0.8549 - val_loss: 0.9573 - val_categorical_accuracy: 0.6528\n",
      "Epoch 60/100\n",
      "579/579 [==============================] - 0s 52us/step - loss: 0.5686 - categorical_accuracy: 0.8618 - val_loss: 0.9849 - val_categorical_accuracy: 0.6373\n",
      "Epoch 61/100\n",
      "579/579 [==============================] - 0s 50us/step - loss: 0.5962 - categorical_accuracy: 0.8394 - val_loss: 1.0045 - val_categorical_accuracy: 0.6114\n",
      "Epoch 62/100\n",
      "579/579 [==============================] - 0s 50us/step - loss: 0.5686 - categorical_accuracy: 0.8463 - val_loss: 0.9164 - val_categorical_accuracy: 0.7150\n",
      "Epoch 63/100\n",
      "579/579 [==============================] - 0s 50us/step - loss: 0.5926 - categorical_accuracy: 0.8377 - val_loss: 0.9425 - val_categorical_accuracy: 0.7047\n",
      "Epoch 64/100\n",
      "579/579 [==============================] - 0s 48us/step - loss: 0.5761 - categorical_accuracy: 0.8463 - val_loss: 0.8959 - val_categorical_accuracy: 0.7461\n",
      "Epoch 65/100\n",
      "579/579 [==============================] - 0s 50us/step - loss: 0.5685 - categorical_accuracy: 0.8497 - val_loss: 0.8779 - val_categorical_accuracy: 0.7306\n",
      "Epoch 66/100\n",
      "579/579 [==============================] - 0s 48us/step - loss: 0.5603 - categorical_accuracy: 0.8636 - val_loss: 0.9087 - val_categorical_accuracy: 0.6839\n",
      "Epoch 67/100\n",
      "579/579 [==============================] - 0s 54us/step - loss: 0.5363 - categorical_accuracy: 0.8566 - val_loss: 0.8955 - val_categorical_accuracy: 0.7150\n",
      "Epoch 68/100\n",
      "579/579 [==============================] - 0s 52us/step - loss: 0.5462 - categorical_accuracy: 0.8584 - val_loss: 0.9360 - val_categorical_accuracy: 0.6943\n",
      "Epoch 69/100\n",
      "579/579 [==============================] - 0s 54us/step - loss: 0.5360 - categorical_accuracy: 0.8359 - val_loss: 0.8764 - val_categorical_accuracy: 0.7565\n",
      "Epoch 70/100\n",
      "579/579 [==============================] - 0s 48us/step - loss: 0.5442 - categorical_accuracy: 0.8566 - val_loss: 0.9099 - val_categorical_accuracy: 0.7409\n",
      "Epoch 71/100\n",
      "579/579 [==============================] - 0s 48us/step - loss: 0.5108 - categorical_accuracy: 0.8653 - val_loss: 0.9762 - val_categorical_accuracy: 0.6632\n",
      "Epoch 72/100\n",
      "579/579 [==============================] - 0s 50us/step - loss: 0.5360 - categorical_accuracy: 0.8687 - val_loss: 1.0012 - val_categorical_accuracy: 0.6218\n",
      "Epoch 73/100\n",
      "579/579 [==============================] - 0s 50us/step - loss: 0.5101 - categorical_accuracy: 0.8653 - val_loss: 0.8775 - val_categorical_accuracy: 0.7668\n",
      "Epoch 74/100\n",
      "579/579 [==============================] - 0s 52us/step - loss: 0.5294 - categorical_accuracy: 0.8618 - val_loss: 0.8971 - val_categorical_accuracy: 0.7358\n",
      "Epoch 75/100\n",
      "579/579 [==============================] - 0s 50us/step - loss: 0.5271 - categorical_accuracy: 0.8446 - val_loss: 0.9245 - val_categorical_accuracy: 0.7358\n",
      "Epoch 76/100\n",
      "579/579 [==============================] - 0s 48us/step - loss: 0.4994 - categorical_accuracy: 0.8808 - val_loss: 0.8988 - val_categorical_accuracy: 0.7513\n",
      "Epoch 77/100\n",
      "579/579 [==============================] - 0s 50us/step - loss: 0.5082 - categorical_accuracy: 0.8618 - val_loss: 0.8851 - val_categorical_accuracy: 0.7306\n",
      "Epoch 78/100\n",
      "579/579 [==============================] - 0s 50us/step - loss: 0.4876 - categorical_accuracy: 0.8860 - val_loss: 0.8670 - val_categorical_accuracy: 0.7409\n",
      "Epoch 79/100\n",
      "579/579 [==============================] - 0s 50us/step - loss: 0.4876 - categorical_accuracy: 0.8877 - val_loss: 0.8612 - val_categorical_accuracy: 0.7513\n",
      "Epoch 80/100\n",
      "579/579 [==============================] - 0s 50us/step - loss: 0.4983 - categorical_accuracy: 0.8670 - val_loss: 0.8819 - val_categorical_accuracy: 0.7098\n",
      "Epoch 81/100\n",
      "579/579 [==============================] - 0s 48us/step - loss: 0.4983 - categorical_accuracy: 0.8636 - val_loss: 0.8784 - val_categorical_accuracy: 0.7047\n",
      "Epoch 82/100\n",
      "579/579 [==============================] - 0s 48us/step - loss: 0.4716 - categorical_accuracy: 0.8860 - val_loss: 0.9687 - val_categorical_accuracy: 0.6269\n",
      "Epoch 83/100\n",
      "579/579 [==============================] - 0s 48us/step - loss: 0.4839 - categorical_accuracy: 0.8774 - val_loss: 0.8869 - val_categorical_accuracy: 0.6995\n",
      "Epoch 84/100\n",
      "579/579 [==============================] - 0s 48us/step - loss: 0.4632 - categorical_accuracy: 0.8826 - val_loss: 0.9304 - val_categorical_accuracy: 0.6788\n",
      "Epoch 85/100\n",
      "579/579 [==============================] - 0s 50us/step - loss: 0.4872 - categorical_accuracy: 0.8774 - val_loss: 1.0035 - val_categorical_accuracy: 0.6373\n",
      "Epoch 86/100\n",
      "579/579 [==============================] - 0s 52us/step - loss: 0.4545 - categorical_accuracy: 0.9033 - val_loss: 0.8712 - val_categorical_accuracy: 0.7047\n",
      "Epoch 87/100\n",
      "579/579 [==============================] - 0s 50us/step - loss: 0.4486 - categorical_accuracy: 0.8998 - val_loss: 0.8046 - val_categorical_accuracy: 0.7927\n",
      "Epoch 88/100\n",
      "579/579 [==============================] - 0s 50us/step - loss: 0.4414 - categorical_accuracy: 0.9033 - val_loss: 0.8799 - val_categorical_accuracy: 0.7254\n",
      "Epoch 89/100\n",
      "579/579 [==============================] - 0s 47us/step - loss: 0.4500 - categorical_accuracy: 0.8998 - val_loss: 0.8266 - val_categorical_accuracy: 0.7409\n",
      "Epoch 90/100\n"
     ]
    },
    {
     "name": "stdout",
     "output_type": "stream",
     "text": [
      "579/579 [==============================] - 0s 48us/step - loss: 0.4341 - categorical_accuracy: 0.8895 - val_loss: 0.8056 - val_categorical_accuracy: 0.7513\n",
      "Epoch 91/100\n",
      "579/579 [==============================] - 0s 48us/step - loss: 0.4901 - categorical_accuracy: 0.8584 - val_loss: 0.9407 - val_categorical_accuracy: 0.6632\n",
      "Epoch 92/100\n",
      "579/579 [==============================] - 0s 50us/step - loss: 0.4650 - categorical_accuracy: 0.8722 - val_loss: 0.8190 - val_categorical_accuracy: 0.7772\n",
      "Epoch 93/100\n",
      "579/579 [==============================] - 0s 50us/step - loss: 0.4198 - categorical_accuracy: 0.9102 - val_loss: 0.8247 - val_categorical_accuracy: 0.7772\n",
      "Epoch 94/100\n",
      "579/579 [==============================] - 0s 50us/step - loss: 0.4120 - categorical_accuracy: 0.9016 - val_loss: 0.8383 - val_categorical_accuracy: 0.7772\n",
      "Epoch 95/100\n",
      "579/579 [==============================] - 0s 50us/step - loss: 0.4510 - categorical_accuracy: 0.8895 - val_loss: 0.8763 - val_categorical_accuracy: 0.7150\n",
      "Epoch 96/100\n",
      "579/579 [==============================] - 0s 50us/step - loss: 0.4249 - categorical_accuracy: 0.8895 - val_loss: 0.8020 - val_categorical_accuracy: 0.7720\n",
      "Epoch 97/100\n",
      "579/579 [==============================] - 0s 52us/step - loss: 0.4464 - categorical_accuracy: 0.8946 - val_loss: 0.8332 - val_categorical_accuracy: 0.7617\n",
      "Epoch 98/100\n",
      "579/579 [==============================] - 0s 50us/step - loss: 0.4208 - categorical_accuracy: 0.9033 - val_loss: 0.8653 - val_categorical_accuracy: 0.7513\n",
      "Epoch 99/100\n",
      "579/579 [==============================] - 0s 52us/step - loss: 0.4266 - categorical_accuracy: 0.8912 - val_loss: 0.9405 - val_categorical_accuracy: 0.6943\n",
      "Epoch 100/100\n",
      "579/579 [==============================] - 0s 50us/step - loss: 0.4123 - categorical_accuracy: 0.9067 - val_loss: 0.9649 - val_categorical_accuracy: 0.7047\n"
     ]
    },
    {
     "data": {
      "text/plain": [
       "<keras.callbacks.callbacks.History at 0x66b50981d0>"
      ]
     },
     "execution_count": 13,
     "metadata": {},
     "output_type": "execute_result"
    }
   ],
   "source": [
    "from keras.models import Sequential\n",
    "from keras.layers import Dense\n",
    "from keras.callbacks import LearningRateScheduler\n",
    "from keras.callbacks import ModelCheckpoint\n",
    "from keras.callbacks import EarlyStopping\n",
    "from keras.layers import Dropout\n",
    "from keras.layers import BatchNormalization\n",
    "from keras.layers import Activation\n",
    "from keras.layers import Flatten\n",
    "from keras.callbacks import History\n",
    "\n",
    "history_dense_1 = History()\n",
    "model = Sequential()\n",
    "model.add(Flatten(input_shape=X_train.shape[1:]))\n",
    "model.add(Dense(n_classes,activation=\"softmax\"))\n",
    "model.summary()\n",
    "\n",
    "early_stopping = EarlyStopping(patience=20,monitor=\"val_loss\")\n",
    "model.compile(loss=\"categorical_crossentropy\",optimizer=\"adam\",metrics=[\"categorical_accuracy\"])\n",
    "model.fit(X_train, y_train, validation_split=0.25,epochs=100,callbacks=[early_stopping, history_dense_1])"
   ]
  },
  {
   "cell_type": "code",
   "execution_count": 14,
   "metadata": {},
   "outputs": [
    {
     "name": "stdout",
     "output_type": "stream",
     "text": [
      "516/516 [==============================] - 0s 27us/step\n"
     ]
    },
    {
     "data": {
      "text/plain": [
       "[0.7526561844256497, 0.7422480583190918]"
      ]
     },
     "execution_count": 14,
     "metadata": {},
     "output_type": "execute_result"
    }
   ],
   "source": [
    "model.evaluate(X_test,y_test)"
   ]
  },
  {
   "cell_type": "code",
   "execution_count": 15,
   "metadata": {},
   "outputs": [
    {
     "data": {
      "image/png": "[encoded data removed]",
      "text/plain": [
       "<Figure size 432x288 with 1 Axes>"
      ]
     },
     "metadata": {
      "needs_background": "light"
     },
     "output_type": "display_data"
    }
   ],
   "source": [
    "plt.plot(history_dense_1.history['categorical_accuracy'], label = \"tarina Adam\")\n",
    "plt.plot(history_dense_1.history['val_categorical_accuracy'], label = \"test Adam\")\n",
    "\n",
    "\n",
    "plt.legend()\n",
    "plt.show()"
   ]
  },
  {
   "cell_type": "markdown",
   "metadata": {},
   "source": [
    "# Zad\n",
    "\n",
    "Sprawdź czy dwie warstwy poprawią wynik?"
   ]
  },
  {
   "cell_type": "code",
   "execution_count": null,
   "metadata": {},
   "outputs": [],
   "source": []
  },
  {
   "cell_type": "code",
   "execution_count": null,
   "metadata": {},
   "outputs": [],
   "source": []
  },
  {
   "cell_type": "markdown",
   "metadata": {},
   "source": [
    "# Sieci konwolucyjne\n",
    "\n",
    "# Zad\n",
    "Zbuduj sieć konwolucyjną z jedną warstwą \n",
    "* Conv2D"
   ]
  },
  {
   "cell_type": "code",
   "execution_count": 18,
   "metadata": {},
   "outputs": [],
   "source": [
    "from keras.layers.convolutional import Conv2D, MaxPooling2D, AveragePooling2D"
   ]
  },
  {
   "cell_type": "code",
   "execution_count": 19,
   "metadata": {},
   "outputs": [
    {
     "name": "stdout",
     "output_type": "stream",
     "text": [
      "Model: \"sequential_3\"\n",
      "_________________________________________________________________\n",
      "Layer (type)                 Output Shape              Param #   \n",
      "=================================================================\n",
      "conv2d_1 (Conv2D)            (None, 48, 35, 16)        160       \n",
      "_________________________________________________________________\n",
      "flatten_3 (Flatten)          (None, 26880)             0         \n",
      "_________________________________________________________________\n",
      "dense_4 (Dense)              (None, 7)                 188167    \n",
      "=================================================================\n",
      "Total params: 188,327\n",
      "Trainable params: 188,327\n",
      "Non-trainable params: 0\n",
      "_________________________________________________________________\n",
      "Train on 579 samples, validate on 193 samples\n",
      "Epoch 1/100\n",
      "579/579 [==============================] - 0s 674us/step - loss: 2.2556 - categorical_accuracy: 0.3092 - val_loss: 2.0631 - val_categorical_accuracy: 0.3886\n",
      "Epoch 2/100\n",
      "579/579 [==============================] - 0s 494us/step - loss: 1.5747 - categorical_accuracy: 0.4853 - val_loss: 1.7189 - val_categorical_accuracy: 0.4301\n",
      "Epoch 3/100\n",
      "579/579 [==============================] - 0s 402us/step - loss: 1.4407 - categorical_accuracy: 0.5285 - val_loss: 1.4995 - val_categorical_accuracy: 0.4301\n",
      "Epoch 4/100\n",
      "579/579 [==============================] - 0s 434us/step - loss: 1.2890 - categorical_accuracy: 0.5613 - val_loss: 1.3852 - val_categorical_accuracy: 0.5855\n",
      "Epoch 5/100\n",
      "579/579 [==============================] - 0s 379us/step - loss: 1.1834 - categorical_accuracy: 0.6097 - val_loss: 1.3832 - val_categorical_accuracy: 0.4767\n",
      "Epoch 6/100\n",
      "579/579 [==============================] - 0s 389us/step - loss: 1.1063 - categorical_accuracy: 0.6028 - val_loss: 1.2397 - val_categorical_accuracy: 0.6010\n",
      "Epoch 7/100\n",
      "579/579 [==============================] - 0s 398us/step - loss: 0.9644 - categorical_accuracy: 0.7098 - val_loss: 1.2294 - val_categorical_accuracy: 0.5492\n",
      "Epoch 8/100\n",
      "579/579 [==============================] - 0s 399us/step - loss: 0.8263 - categorical_accuracy: 0.7686 - val_loss: 1.0687 - val_categorical_accuracy: 0.6528\n",
      "Epoch 9/100\n",
      "579/579 [==============================] - 0s 379us/step - loss: 0.7332 - categorical_accuracy: 0.7962 - val_loss: 1.0020 - val_categorical_accuracy: 0.6943\n",
      "Epoch 10/100\n",
      "579/579 [==============================] - 0s 375us/step - loss: 0.6331 - categorical_accuracy: 0.8238 - val_loss: 0.9378 - val_categorical_accuracy: 0.7098\n",
      "Epoch 11/100\n",
      "579/579 [==============================] - 0s 372us/step - loss: 0.5889 - categorical_accuracy: 0.8359 - val_loss: 1.0339 - val_categorical_accuracy: 0.6373\n",
      "Epoch 12/100\n",
      "579/579 [==============================] - 0s 404us/step - loss: 0.5219 - categorical_accuracy: 0.8687 - val_loss: 1.0106 - val_categorical_accuracy: 0.6528\n",
      "Epoch 13/100\n",
      "579/579 [==============================] - 0s 436us/step - loss: 0.4665 - categorical_accuracy: 0.8895 - val_loss: 0.9580 - val_categorical_accuracy: 0.6736\n",
      "Epoch 14/100\n",
      "579/579 [==============================] - 0s 389us/step - loss: 0.4065 - categorical_accuracy: 0.9067 - val_loss: 0.8811 - val_categorical_accuracy: 0.6995\n",
      "Epoch 15/100\n",
      "579/579 [==============================] - 0s 389us/step - loss: 0.3452 - categorical_accuracy: 0.9223 - val_loss: 0.8334 - val_categorical_accuracy: 0.7461\n",
      "Epoch 16/100\n",
      "579/579 [==============================] - 0s 411us/step - loss: 0.3386 - categorical_accuracy: 0.9240 - val_loss: 0.8761 - val_categorical_accuracy: 0.7202\n",
      "Epoch 17/100\n",
      "579/579 [==============================] - 0s 420us/step - loss: 0.3014 - categorical_accuracy: 0.9309 - val_loss: 0.8481 - val_categorical_accuracy: 0.7098\n",
      "Epoch 18/100\n",
      "579/579 [==============================] - 0s 387us/step - loss: 0.2589 - categorical_accuracy: 0.9482 - val_loss: 0.7978 - val_categorical_accuracy: 0.7720\n",
      "Epoch 19/100\n",
      "579/579 [==============================] - 0s 413us/step - loss: 0.2224 - categorical_accuracy: 0.9689 - val_loss: 0.8113 - val_categorical_accuracy: 0.7565\n",
      "Epoch 20/100\n",
      "579/579 [==============================] - 0s 401us/step - loss: 0.2050 - categorical_accuracy: 0.9655 - val_loss: 0.8151 - val_categorical_accuracy: 0.7565\n",
      "Epoch 21/100\n",
      "579/579 [==============================] - 0s 391us/step - loss: 0.1837 - categorical_accuracy: 0.9724 - val_loss: 0.8847 - val_categorical_accuracy: 0.7409\n",
      "Epoch 22/100\n",
      "579/579 [==============================] - 0s 539us/step - loss: 0.1739 - categorical_accuracy: 0.9724 - val_loss: 0.8221 - val_categorical_accuracy: 0.7513\n",
      "Epoch 23/100\n",
      "579/579 [==============================] - 0s 430us/step - loss: 0.1704 - categorical_accuracy: 0.9793 - val_loss: 0.8124 - val_categorical_accuracy: 0.7720\n",
      "Epoch 24/100\n",
      "579/579 [==============================] - 0s 392us/step - loss: 0.1468 - categorical_accuracy: 0.9724 - val_loss: 0.8593 - val_categorical_accuracy: 0.7513\n",
      "Epoch 25/100\n",
      "579/579 [==============================] - 0s 408us/step - loss: 0.1407 - categorical_accuracy: 0.9810 - val_loss: 0.9939 - val_categorical_accuracy: 0.7306\n",
      "Epoch 26/100\n",
      "579/579 [==============================] - 0s 470us/step - loss: 0.1755 - categorical_accuracy: 0.9568 - val_loss: 1.0954 - val_categorical_accuracy: 0.6788\n",
      "Epoch 27/100\n",
      "579/579 [==============================] - 0s 480us/step - loss: 0.1387 - categorical_accuracy: 0.9845 - val_loss: 0.9094 - val_categorical_accuracy: 0.7565\n",
      "Epoch 28/100\n",
      "579/579 [==============================] - 0s 410us/step - loss: 0.1123 - categorical_accuracy: 0.9931 - val_loss: 0.8777 - val_categorical_accuracy: 0.7513\n",
      "Epoch 29/100\n",
      "579/579 [==============================] - 0s 430us/step - loss: 0.0999 - categorical_accuracy: 0.9931 - val_loss: 0.8214 - val_categorical_accuracy: 0.7772\n",
      "Epoch 30/100\n",
      "579/579 [==============================] - 0s 425us/step - loss: 0.0981 - categorical_accuracy: 0.9931 - val_loss: 0.8429 - val_categorical_accuracy: 0.7720\n",
      "Epoch 31/100\n",
      "579/579 [==============================] - 0s 493us/step - loss: 0.0815 - categorical_accuracy: 0.9983 - val_loss: 0.8063 - val_categorical_accuracy: 0.8031\n",
      "Epoch 32/100\n",
      "579/579 [==============================] - 0s 669us/step - loss: 0.0780 - categorical_accuracy: 0.9965 - val_loss: 0.8796 - val_categorical_accuracy: 0.7617\n",
      "Epoch 33/100\n",
      "579/579 [==============================] - 0s 425us/step - loss: 0.0676 - categorical_accuracy: 1.0000 - val_loss: 0.8995 - val_categorical_accuracy: 0.7668\n",
      "Epoch 34/100\n",
      "579/579 [==============================] - 0s 389us/step - loss: 0.0664 - categorical_accuracy: 1.0000 - val_loss: 0.8527 - val_categorical_accuracy: 0.7668\n",
      "Epoch 35/100\n",
      "579/579 [==============================] - 0s 429us/step - loss: 0.0660 - categorical_accuracy: 0.9983 - val_loss: 0.8635 - val_categorical_accuracy: 0.7876\n",
      "Epoch 36/100\n",
      "579/579 [==============================] - ETA: 0s - loss: 0.0560 - categorical_accuracy: 1.00 - 0s 415us/step - loss: 0.0559 - categorical_accuracy: 1.0000 - val_loss: 0.8850 - val_categorical_accuracy: 0.7772\n",
      "Epoch 37/100\n",
      "579/579 [==============================] - 0s 430us/step - loss: 0.0502 - categorical_accuracy: 1.0000 - val_loss: 0.8840 - val_categorical_accuracy: 0.7720\n",
      "Epoch 38/100\n",
      "579/579 [==============================] - 0s 496us/step - loss: 0.0464 - categorical_accuracy: 1.0000 - val_loss: 0.8926 - val_categorical_accuracy: 0.7876\n",
      "Epoch 39/100\n",
      "579/579 [==============================] - 0s 557us/step - loss: 0.0506 - categorical_accuracy: 0.9983 - val_loss: 0.8782 - val_categorical_accuracy: 0.7876\n",
      "Epoch 40/100\n",
      "579/579 [==============================] - 0s 624us/step - loss: 0.0456 - categorical_accuracy: 0.9983 - val_loss: 0.8635 - val_categorical_accuracy: 0.7979\n",
      "Epoch 41/100\n",
      "579/579 [==============================] - 0s 506us/step - loss: 0.0419 - categorical_accuracy: 1.0000 - val_loss: 0.8798 - val_categorical_accuracy: 0.7927\n",
      "Epoch 42/100\n",
      "579/579 [==============================] - 0s 498us/step - loss: 0.0480 - categorical_accuracy: 0.9965 - val_loss: 1.0048 - val_categorical_accuracy: 0.7358\n",
      "Epoch 43/100\n",
      "579/579 [==============================] - 0s 588us/step - loss: 0.0388 - categorical_accuracy: 1.0000 - val_loss: 0.9507 - val_categorical_accuracy: 0.7772\n",
      "Epoch 44/100\n",
      "579/579 [==============================] - 0s 524us/step - loss: 0.0372 - categorical_accuracy: 1.0000 - val_loss: 0.9790 - val_categorical_accuracy: 0.7668\n",
      "Epoch 45/100\n",
      "579/579 [==============================] - 0s 472us/step - loss: 0.0303 - categorical_accuracy: 1.0000 - val_loss: 0.8848 - val_categorical_accuracy: 0.7979\n",
      "Epoch 46/100\n",
      "579/579 [==============================] - 0s 442us/step - loss: 0.0292 - categorical_accuracy: 1.0000 - val_loss: 0.9356 - val_categorical_accuracy: 0.7927\n",
      "Epoch 47/100\n",
      "579/579 [==============================] - 0s 513us/step - loss: 0.0293 - categorical_accuracy: 1.0000 - val_loss: 0.9390 - val_categorical_accuracy: 0.8031\n",
      "Epoch 48/100\n",
      "579/579 [==============================] - 0s 413us/step - loss: 0.0247 - categorical_accuracy: 1.0000 - val_loss: 0.9490 - val_categorical_accuracy: 0.7979\n",
      "516/516 [==============================] - 0s 122us/step\n"
     ]
    },
    {
     "data": {
      "text/plain": [
       "[0.7108859803325446, 0.8023256063461304]"
      ]
     },
     "execution_count": 19,
     "metadata": {},
     "output_type": "execute_result"
    }
   ],
   "source": [
    "history_conv_1 = History()\n",
    "model = Sequential()\n",
    "model.add(Conv2D(16,(3,3),input_shape=X_train.shape[1:]))\n",
    "model.add(Flatten())\n",
    "model.add(Dense(n_classes,activation=\"softmax\"))\n",
    "model.summary()\n",
    "\n",
    "early_stopping = EarlyStopping(patience=30,monitor=\"val_loss\")\n",
    "model.compile(loss=\"categorical_crossentropy\",optimizer=\"adam\",metrics=[\"categorical_accuracy\"])\n",
    "model.fit(X_train, y_train, validation_split=0.25,epochs=100,callbacks=[early_stopping, history_conv_1])\n",
    "model.evaluate(X_test,y_test)"
   ]
  },
  {
   "cell_type": "code",
   "execution_count": 20,
   "metadata": {},
   "outputs": [
    {
     "data": {
      "image/png": "[encoded data removed]",
      "text/plain": [
       "<Figure size 432x288 with 1 Axes>"
      ]
     },
     "metadata": {
      "needs_background": "light"
     },
     "output_type": "display_data"
    }
   ],
   "source": [
    "plt.plot(history_dense_1.history['categorical_accuracy'], label = \"tarina dense Layer=1\")\n",
    "plt.plot(history_dense_1.history['val_categorical_accuracy'], label = \"test dense Layer=1\")\n",
    "\n",
    "# plt.plot(history_dense_2.history['categorical_accuracy'], label = \"tarina dense Layer=2\")\n",
    "# plt.plot(history_dense_2.history['val_categorical_accuracy'], label = \"test dense Layer=2\")\n",
    "\n",
    "plt.plot(history_conv_1.history['categorical_accuracy'], label = \"tarina Conv Layer=1\")\n",
    "plt.plot(history_conv_1.history['val_categorical_accuracy'], label = \"test Conv Layer=1\")\n",
    "\n",
    "plt.legend()\n",
    "plt.show()"
   ]
  },
  {
   "cell_type": "markdown",
   "metadata": {},
   "source": [
    "# Zad\n",
    "Zbuduj sieć konwolucyjną z jedną warstwą \n",
    "* Conv2D\n",
    "* MaxPooling2D"
   ]
  },
  {
   "cell_type": "code",
   "execution_count": 21,
   "metadata": {},
   "outputs": [
    {
     "name": "stdout",
     "output_type": "stream",
     "text": [
      "WARNING:tensorflow:From C:\\ProgramData\\Anaconda3\\lib\\site-packages\\keras\\backend\\tensorflow_backend.py:4070: The name tf.nn.max_pool is deprecated. Please use tf.nn.max_pool2d instead.\n",
      "\n",
      "Model: \"sequential_4\"\n",
      "_________________________________________________________________\n",
      "Layer (type)                 Output Shape              Param #   \n",
      "=================================================================\n",
      "conv2d_2 (Conv2D)            (None, 48, 35, 16)        160       \n",
      "_________________________________________________________________\n",
      "max_pooling2d_1 (MaxPooling2 (None, 24, 17, 16)        0         \n",
      "_________________________________________________________________\n",
      "flatten_4 (Flatten)          (None, 6528)              0         \n",
      "_________________________________________________________________\n",
      "dense_5 (Dense)              (None, 7)                 45703     \n",
      "=================================================================\n",
      "Total params: 45,863\n",
      "Trainable params: 45,863\n",
      "Non-trainable params: 0\n",
      "_________________________________________________________________\n",
      "Train on 579 samples, validate on 193 samples\n",
      "Epoch 1/100\n",
      "579/579 [==============================] - 1s 964us/step - loss: 1.7708 - categorical_accuracy: 0.3938 - val_loss: 1.7781 - val_categorical_accuracy: 0.3627\n",
      "Epoch 2/100\n",
      "579/579 [==============================] - 0s 728us/step - loss: 1.6560 - categorical_accuracy: 0.3903 - val_loss: 1.6799 - val_categorical_accuracy: 0.4715\n",
      "Epoch 3/100\n",
      "579/579 [==============================] - 0s 724us/step - loss: 1.5826 - categorical_accuracy: 0.3834 - val_loss: 1.5676 - val_categorical_accuracy: 0.3938\n",
      "Epoch 4/100\n",
      "579/579 [==============================] - 0s 517us/step - loss: 1.4538 - categorical_accuracy: 0.4611 - val_loss: 1.5374 - val_categorical_accuracy: 0.4560\n",
      "Epoch 5/100\n",
      "579/579 [==============================] - 0s 422us/step - loss: 1.3662 - categorical_accuracy: 0.5130 - val_loss: 1.5058 - val_categorical_accuracy: 0.4249\n",
      "Epoch 6/100\n",
      "579/579 [==============================] - 0s 394us/step - loss: 1.2687 - categorical_accuracy: 0.5320 - val_loss: 1.4027 - val_categorical_accuracy: 0.4352\n",
      "Epoch 7/100\n",
      "579/579 [==============================] - 0s 472us/step - loss: 1.1725 - categorical_accuracy: 0.5820 - val_loss: 1.5028 - val_categorical_accuracy: 0.4819\n",
      "Epoch 8/100\n",
      "579/579 [==============================] - 0s 493us/step - loss: 1.0814 - categorical_accuracy: 0.6287 - val_loss: 1.2416 - val_categorical_accuracy: 0.5492\n",
      "Epoch 9/100\n",
      "579/579 [==============================] - 0s 410us/step - loss: 0.9946 - categorical_accuracy: 0.6995 - val_loss: 1.2076 - val_categorical_accuracy: 0.5596\n",
      "Epoch 10/100\n",
      "579/579 [==============================] - 0s 480us/step - loss: 0.9396 - categorical_accuracy: 0.6978 - val_loss: 1.2018 - val_categorical_accuracy: 0.5648\n",
      "Epoch 11/100\n",
      "579/579 [==============================] - 0s 417us/step - loss: 0.8706 - categorical_accuracy: 0.7340 - val_loss: 1.1353 - val_categorical_accuracy: 0.5544\n",
      "Epoch 12/100\n",
      "579/579 [==============================] - 0s 398us/step - loss: 0.7604 - categorical_accuracy: 0.7737 - val_loss: 1.1034 - val_categorical_accuracy: 0.6166\n",
      "Epoch 13/100\n",
      "579/579 [==============================] - 0s 389us/step - loss: 0.6970 - categorical_accuracy: 0.8048 - val_loss: 0.9635 - val_categorical_accuracy: 0.6891\n",
      "Epoch 14/100\n",
      "579/579 [==============================] - 0s 444us/step - loss: 0.6316 - categorical_accuracy: 0.8307 - val_loss: 1.0293 - val_categorical_accuracy: 0.6010\n",
      "Epoch 15/100\n",
      "579/579 [==============================] - 0s 456us/step - loss: 0.5862 - categorical_accuracy: 0.8325 - val_loss: 1.0230 - val_categorical_accuracy: 0.6373\n",
      "Epoch 16/100\n",
      "579/579 [==============================] - 0s 425us/step - loss: 0.5526 - categorical_accuracy: 0.8411 - val_loss: 0.8685 - val_categorical_accuracy: 0.6995\n",
      "Epoch 17/100\n",
      "579/579 [==============================] - 0s 389us/step - loss: 0.4888 - categorical_accuracy: 0.8687 - val_loss: 0.8277 - val_categorical_accuracy: 0.7409\n",
      "Epoch 18/100\n",
      "579/579 [==============================] - 0s 372us/step - loss: 0.4523 - categorical_accuracy: 0.8826 - val_loss: 0.7830 - val_categorical_accuracy: 0.7668\n",
      "Epoch 19/100\n",
      "579/579 [==============================] - 0s 425us/step - loss: 0.4016 - categorical_accuracy: 0.9050 - val_loss: 0.7478 - val_categorical_accuracy: 0.7824\n",
      "Epoch 20/100\n",
      "579/579 [==============================] - 0s 385us/step - loss: 0.3962 - categorical_accuracy: 0.8981 - val_loss: 0.9171 - val_categorical_accuracy: 0.6736\n",
      "Epoch 21/100\n",
      "579/579 [==============================] - 0s 370us/step - loss: 0.3588 - categorical_accuracy: 0.9085 - val_loss: 0.7506 - val_categorical_accuracy: 0.7876\n",
      "Epoch 22/100\n",
      "579/579 [==============================] - 0s 361us/step - loss: 0.3433 - categorical_accuracy: 0.9171 - val_loss: 0.7913 - val_categorical_accuracy: 0.7358\n",
      "Epoch 23/100\n",
      "579/579 [==============================] - 0s 370us/step - loss: 0.3411 - categorical_accuracy: 0.9102 - val_loss: 0.8110 - val_categorical_accuracy: 0.7150\n",
      "Epoch 24/100\n",
      "579/579 [==============================] - 0s 377us/step - loss: 0.3285 - categorical_accuracy: 0.9154 - val_loss: 0.7228 - val_categorical_accuracy: 0.7720\n",
      "Epoch 25/100\n",
      "579/579 [==============================] - 0s 370us/step - loss: 0.3229 - categorical_accuracy: 0.9309 - val_loss: 0.7701 - val_categorical_accuracy: 0.7772\n",
      "Epoch 26/100\n",
      "579/579 [==============================] - 0s 372us/step - loss: 0.3399 - categorical_accuracy: 0.9067 - val_loss: 0.7242 - val_categorical_accuracy: 0.7617\n",
      "Epoch 27/100\n",
      "579/579 [==============================] - 0s 384us/step - loss: 0.2686 - categorical_accuracy: 0.9413 - val_loss: 0.7476 - val_categorical_accuracy: 0.7461\n",
      "Epoch 28/100\n",
      "579/579 [==============================] - 0s 377us/step - loss: 0.2520 - categorical_accuracy: 0.9413 - val_loss: 0.7361 - val_categorical_accuracy: 0.7720\n",
      "Epoch 29/100\n",
      "579/579 [==============================] - 0s 427us/step - loss: 0.2384 - categorical_accuracy: 0.9568 - val_loss: 0.7977 - val_categorical_accuracy: 0.7461\n",
      "Epoch 30/100\n",
      "579/579 [==============================] - 0s 396us/step - loss: 0.2300 - categorical_accuracy: 0.9516 - val_loss: 0.7501 - val_categorical_accuracy: 0.7617\n",
      "Epoch 31/100\n",
      "579/579 [==============================] - 0s 410us/step - loss: 0.2065 - categorical_accuracy: 0.9603 - val_loss: 0.7399 - val_categorical_accuracy: 0.7876\n",
      "Epoch 32/100\n",
      "579/579 [==============================] - 0s 380us/step - loss: 0.1949 - categorical_accuracy: 0.9655 - val_loss: 0.7664 - val_categorical_accuracy: 0.7720\n",
      "Epoch 33/100\n",
      "579/579 [==============================] - 0s 392us/step - loss: 0.2539 - categorical_accuracy: 0.9344 - val_loss: 0.7042 - val_categorical_accuracy: 0.7876\n",
      "Epoch 34/100\n",
      "579/579 [==============================] - 0s 415us/step - loss: 0.1936 - categorical_accuracy: 0.9603 - val_loss: 0.7807 - val_categorical_accuracy: 0.7409\n",
      "Epoch 35/100\n",
      "579/579 [==============================] - 0s 385us/step - loss: 0.3391 - categorical_accuracy: 0.8929 - val_loss: 0.8309 - val_categorical_accuracy: 0.7409\n",
      "Epoch 36/100\n",
      "579/579 [==============================] - 0s 399us/step - loss: 0.2160 - categorical_accuracy: 0.9568 - val_loss: 0.7306 - val_categorical_accuracy: 0.7824\n",
      "Epoch 37/100\n",
      "579/579 [==============================] - 0s 410us/step - loss: 0.1836 - categorical_accuracy: 0.9741 - val_loss: 0.7387 - val_categorical_accuracy: 0.7876\n",
      "Epoch 38/100\n",
      "579/579 [==============================] - 0s 373us/step - loss: 0.1593 - categorical_accuracy: 0.9775 - val_loss: 0.7275 - val_categorical_accuracy: 0.7927\n",
      "Epoch 39/100\n",
      "579/579 [==============================] - 0s 358us/step - loss: 0.1539 - categorical_accuracy: 0.9775 - val_loss: 0.6946 - val_categorical_accuracy: 0.7979\n",
      "Epoch 40/100\n",
      "579/579 [==============================] - 0s 361us/step - loss: 0.1358 - categorical_accuracy: 0.9845 - val_loss: 0.7327 - val_categorical_accuracy: 0.7979\n",
      "Epoch 41/100\n",
      "579/579 [==============================] - 0s 356us/step - loss: 0.1381 - categorical_accuracy: 0.9827 - val_loss: 0.7187 - val_categorical_accuracy: 0.7979\n",
      "Epoch 42/100\n",
      "579/579 [==============================] - 0s 373us/step - loss: 0.1279 - categorical_accuracy: 0.9810 - val_loss: 0.7215 - val_categorical_accuracy: 0.7927\n"
     ]
    },
    {
     "name": "stdout",
     "output_type": "stream",
     "text": [
      "Epoch 43/100\n",
      "579/579 [==============================] - 0s 404us/step - loss: 0.1269 - categorical_accuracy: 0.9827 - val_loss: 0.7220 - val_categorical_accuracy: 0.7876\n",
      "Epoch 44/100\n",
      "579/579 [==============================] - 0s 366us/step - loss: 0.1243 - categorical_accuracy: 0.9827 - val_loss: 0.6758 - val_categorical_accuracy: 0.8031\n",
      "Epoch 45/100\n",
      "579/579 [==============================] - 0s 358us/step - loss: 0.1094 - categorical_accuracy: 0.9896 - val_loss: 0.7756 - val_categorical_accuracy: 0.8031\n",
      "Epoch 46/100\n",
      "579/579 [==============================] - 0s 372us/step - loss: 0.1015 - categorical_accuracy: 0.9914 - val_loss: 0.7168 - val_categorical_accuracy: 0.8083\n",
      "Epoch 47/100\n",
      "579/579 [==============================] - 0s 373us/step - loss: 0.1064 - categorical_accuracy: 0.9879 - val_loss: 0.7512 - val_categorical_accuracy: 0.7772\n",
      "Epoch 48/100\n",
      "579/579 [==============================] - 0s 366us/step - loss: 0.1155 - categorical_accuracy: 0.9775 - val_loss: 0.6772 - val_categorical_accuracy: 0.8083\n",
      "Epoch 49/100\n",
      "579/579 [==============================] - 0s 377us/step - loss: 0.0936 - categorical_accuracy: 0.9896 - val_loss: 0.7857 - val_categorical_accuracy: 0.7876\n",
      "Epoch 50/100\n",
      "579/579 [==============================] - 0s 394us/step - loss: 0.0894 - categorical_accuracy: 0.9914 - val_loss: 0.7487 - val_categorical_accuracy: 0.8083\n",
      "Epoch 51/100\n",
      "579/579 [==============================] - 0s 382us/step - loss: 0.0813 - categorical_accuracy: 0.9948 - val_loss: 0.7084 - val_categorical_accuracy: 0.7927\n",
      "Epoch 52/100\n",
      "579/579 [==============================] - 0s 377us/step - loss: 0.0771 - categorical_accuracy: 0.9931 - val_loss: 0.7765 - val_categorical_accuracy: 0.7876\n",
      "Epoch 53/100\n",
      "579/579 [==============================] - 0s 377us/step - loss: 0.0758 - categorical_accuracy: 0.9983 - val_loss: 0.7340 - val_categorical_accuracy: 0.8083\n",
      "Epoch 54/100\n",
      "579/579 [==============================] - 0s 389us/step - loss: 0.0730 - categorical_accuracy: 0.9965 - val_loss: 0.7656 - val_categorical_accuracy: 0.7979\n",
      "Epoch 55/100\n",
      "579/579 [==============================] - 0s 389us/step - loss: 0.0695 - categorical_accuracy: 0.9965 - val_loss: 0.7650 - val_categorical_accuracy: 0.7979\n",
      "Epoch 56/100\n",
      "579/579 [==============================] - 0s 398us/step - loss: 0.0633 - categorical_accuracy: 1.0000 - val_loss: 0.7642 - val_categorical_accuracy: 0.8031\n",
      "Epoch 57/100\n",
      "579/579 [==============================] - 0s 387us/step - loss: 0.0615 - categorical_accuracy: 0.9983 - val_loss: 0.7604 - val_categorical_accuracy: 0.7979\n",
      "Epoch 58/100\n",
      "579/579 [==============================] - 0s 396us/step - loss: 0.0653 - categorical_accuracy: 0.9983 - val_loss: 0.7928 - val_categorical_accuracy: 0.7876\n",
      "Epoch 59/100\n",
      "579/579 [==============================] - 0s 392us/step - loss: 0.0707 - categorical_accuracy: 0.9965 - val_loss: 0.7675 - val_categorical_accuracy: 0.7979\n",
      "Epoch 60/100\n",
      "579/579 [==============================] - 0s 408us/step - loss: 0.0607 - categorical_accuracy: 1.0000 - val_loss: 0.7954 - val_categorical_accuracy: 0.7876\n",
      "Epoch 61/100\n",
      "579/579 [==============================] - 0s 394us/step - loss: 0.0539 - categorical_accuracy: 1.0000 - val_loss: 0.7790 - val_categorical_accuracy: 0.7927\n",
      "Epoch 62/100\n",
      "579/579 [==============================] - 0s 366us/step - loss: 0.0537 - categorical_accuracy: 0.9983 - val_loss: 0.7826 - val_categorical_accuracy: 0.7927\n",
      "Epoch 63/100\n",
      "579/579 [==============================] - 0s 437us/step - loss: 0.0532 - categorical_accuracy: 1.0000 - val_loss: 0.7917 - val_categorical_accuracy: 0.8031\n",
      "Epoch 64/100\n",
      "579/579 [==============================] - 0s 491us/step - loss: 0.0463 - categorical_accuracy: 1.0000 - val_loss: 0.7757 - val_categorical_accuracy: 0.8031\n",
      "Epoch 65/100\n",
      "579/579 [==============================] - 0s 494us/step - loss: 0.0449 - categorical_accuracy: 1.0000 - val_loss: 0.8416 - val_categorical_accuracy: 0.7979\n",
      "Epoch 66/100\n",
      "579/579 [==============================] - 0s 410us/step - loss: 0.0554 - categorical_accuracy: 1.0000 - val_loss: 0.7768 - val_categorical_accuracy: 0.7979\n",
      "Epoch 67/100\n",
      "579/579 [==============================] - 0s 396us/step - loss: 0.0499 - categorical_accuracy: 0.9983 - val_loss: 0.7469 - val_categorical_accuracy: 0.7979\n",
      "Epoch 68/100\n",
      "579/579 [==============================] - 0s 366us/step - loss: 0.0474 - categorical_accuracy: 1.0000 - val_loss: 0.7585 - val_categorical_accuracy: 0.7876\n",
      "Epoch 69/100\n",
      "579/579 [==============================] - 0s 368us/step - loss: 0.0434 - categorical_accuracy: 0.9983 - val_loss: 0.7924 - val_categorical_accuracy: 0.8083\n",
      "Epoch 70/100\n",
      "579/579 [==============================] - 0s 401us/step - loss: 0.0387 - categorical_accuracy: 1.0000 - val_loss: 0.7865 - val_categorical_accuracy: 0.7927\n",
      "Epoch 71/100\n",
      "579/579 [==============================] - 0s 379us/step - loss: 0.0378 - categorical_accuracy: 1.0000 - val_loss: 0.7647 - val_categorical_accuracy: 0.8031\n",
      "Epoch 72/100\n",
      "579/579 [==============================] - 0s 366us/step - loss: 0.0389 - categorical_accuracy: 1.0000 - val_loss: 0.7840 - val_categorical_accuracy: 0.7979\n",
      "Epoch 73/100\n",
      "579/579 [==============================] - 0s 365us/step - loss: 0.0329 - categorical_accuracy: 1.0000 - val_loss: 0.8035 - val_categorical_accuracy: 0.8135\n",
      "Epoch 74/100\n",
      "579/579 [==============================] - 0s 356us/step - loss: 0.0325 - categorical_accuracy: 1.0000 - val_loss: 0.8131 - val_categorical_accuracy: 0.8083\n",
      "516/516 [==============================] - 0s 134us/step\n"
     ]
    },
    {
     "data": {
      "text/plain": [
       "[0.5732759348181791, 0.8391472697257996]"
      ]
     },
     "execution_count": 21,
     "metadata": {},
     "output_type": "execute_result"
    }
   ],
   "source": [
    "history_conv_max_1 = History()\n",
    "model = Sequential()\n",
    "model.add(Conv2D(16,(3,3),input_shape=X_train.shape[1:]))\n",
    "model.add(MaxPooling2D((2,2)))\n",
    "model.add(Flatten())\n",
    "model.add(Dense(n_classes,activation=\"softmax\"))\n",
    "model.summary()\n",
    "\n",
    "early_stopping = EarlyStopping(patience=30,monitor=\"val_loss\")\n",
    "model.compile(loss=\"categorical_crossentropy\",optimizer=\"adam\",metrics=[\"categorical_accuracy\"])\n",
    "model.fit(X_train, y_train, validation_split=0.25,epochs=100,callbacks=[early_stopping, history_conv_max_1])\n",
    "model.evaluate(X_test,y_test)"
   ]
  },
  {
   "cell_type": "code",
   "execution_count": 22,
   "metadata": {},
   "outputs": [
    {
     "data": {
      "image/png": "[encoded data removed]",
      "text/plain": [
       "<Figure size 432x288 with 1 Axes>"
      ]
     },
     "metadata": {
      "needs_background": "light"
     },
     "output_type": "display_data"
    }
   ],
   "source": [
    "plt.plot(history_dense_1.history['categorical_accuracy'], label = \"tarina dense Layer=1\")\n",
    "plt.plot(history_dense_1.history['val_categorical_accuracy'], label = \"test dense Layer=1\")\n",
    "\n",
    "# plt.plot(history_dense_2.history['categorical_accuracy'], label = \"tarina dense Layer=2\")\n",
    "# plt.plot(history_dense_2.history['val_categorical_accuracy'], label = \"test dense Layer=2\")\n",
    "\n",
    "plt.plot(history_conv_1.history['categorical_accuracy'], label = \"tarina Conv Layer=1\")\n",
    "plt.plot(history_conv_1.history['val_categorical_accuracy'], label = \"test Conv Layer=1\")\n",
    "\n",
    "plt.plot(history_conv_max_1.history['categorical_accuracy'], label = \"tarina Conv Max Layer=1\")\n",
    "plt.plot(history_conv_max_1.history['val_categorical_accuracy'], label = \"test Conv Max Layer=1\")\n",
    "\n",
    "plt.legend()\n",
    "plt.show()"
   ]
  },
  {
   "cell_type": "markdown",
   "metadata": {},
   "source": [
    "# Zad\n",
    "Zbuduj sieć konwolucyjną z jedną warstwą \n",
    "* Conv2D (,padding=\"same\")\n",
    "* MaxPooling2D"
   ]
  },
  {
   "cell_type": "code",
   "execution_count": null,
   "metadata": {},
   "outputs": [],
   "source": []
  },
  {
   "cell_type": "code",
   "execution_count": null,
   "metadata": {},
   "outputs": [],
   "source": []
  },
  {
   "cell_type": "markdown",
   "metadata": {},
   "source": [
    "# Zad\n",
    "Zbuduj sieć konwolucyjną z jedną warstwą \n",
    "* Conv2D (,padding=\"same\")\n",
    "* MaxPooling2D\n",
    "* Conv2D (,padding=\"same\")\n",
    "* MaxPooling2D"
   ]
  },
  {
   "cell_type": "code",
   "execution_count": 31,
   "metadata": {},
   "outputs": [
    {
     "name": "stdout",
     "output_type": "stream",
     "text": [
      "Model: \"sequential_10\"\n",
      "_________________________________________________________________\n",
      "Layer (type)                 Output Shape              Param #   \n",
      "=================================================================\n",
      "conv2d_8 (Conv2D)            (None, 50, 37, 32)        320       \n",
      "_________________________________________________________________\n",
      "max_pooling2d_7 (MaxPooling2 (None, 25, 18, 32)        0         \n",
      "_________________________________________________________________\n",
      "conv2d_9 (Conv2D)            (None, 25, 18, 16)        2064      \n",
      "_________________________________________________________________\n",
      "max_pooling2d_8 (MaxPooling2 (None, 12, 9, 16)         0         \n",
      "_________________________________________________________________\n",
      "flatten_8 (Flatten)          (None, 1728)              0         \n",
      "_________________________________________________________________\n",
      "dense_9 (Dense)              (None, 7)                 12103     \n",
      "=================================================================\n",
      "Total params: 14,487\n",
      "Trainable params: 14,487\n",
      "Non-trainable params: 0\n",
      "_________________________________________________________________\n",
      "Train on 579 samples, validate on 193 samples\n",
      "Epoch 1/100\n",
      "579/579 [==============================] - 1s 1ms/step - loss: 1.7061 - categorical_accuracy: 0.4128 - val_loss: 1.7644 - val_categorical_accuracy: 0.3782\n",
      "Epoch 2/100\n",
      "579/579 [==============================] - 0s 857us/step - loss: 1.6322 - categorical_accuracy: 0.4231 - val_loss: 1.6854 - val_categorical_accuracy: 0.3782\n",
      "Epoch 3/100\n",
      "579/579 [==============================] - 0s 845us/step - loss: 1.6271 - categorical_accuracy: 0.4231 - val_loss: 1.6852 - val_categorical_accuracy: 0.3782\n",
      "Epoch 4/100\n",
      "579/579 [==============================] - 0s 842us/step - loss: 1.5926 - categorical_accuracy: 0.4249 - val_loss: 1.6597 - val_categorical_accuracy: 0.3886\n",
      "Epoch 5/100\n",
      "579/579 [==============================] - 1s 871us/step - loss: 1.5300 - categorical_accuracy: 0.4698 - val_loss: 1.6613 - val_categorical_accuracy: 0.3886\n",
      "Epoch 6/100\n",
      "579/579 [==============================] - 1s 885us/step - loss: 1.4826 - categorical_accuracy: 0.4767 - val_loss: 1.5498 - val_categorical_accuracy: 0.4249\n",
      "Epoch 7/100\n",
      "579/579 [==============================] - 0s 862us/step - loss: 1.3629 - categorical_accuracy: 0.4940 - val_loss: 1.5156 - val_categorical_accuracy: 0.4456\n",
      "Epoch 8/100\n",
      "579/579 [==============================] - 1s 892us/step - loss: 1.2792 - categorical_accuracy: 0.5406 - val_loss: 1.2857 - val_categorical_accuracy: 0.5181\n",
      "Epoch 9/100\n",
      "579/579 [==============================] - 1s 883us/step - loss: 1.1509 - categorical_accuracy: 0.5907 - val_loss: 1.3204 - val_categorical_accuracy: 0.4819\n",
      "Epoch 10/100\n",
      "579/579 [==============================] - 1s 866us/step - loss: 1.0294 - categorical_accuracy: 0.6339 - val_loss: 1.0995 - val_categorical_accuracy: 0.5648\n",
      "Epoch 11/100\n",
      "579/579 [==============================] - 1s 873us/step - loss: 0.8515 - categorical_accuracy: 0.7012 - val_loss: 0.9415 - val_categorical_accuracy: 0.6995\n",
      "Epoch 12/100\n",
      "579/579 [==============================] - 0s 852us/step - loss: 0.7826 - categorical_accuracy: 0.7306 - val_loss: 0.9228 - val_categorical_accuracy: 0.6580\n",
      "Epoch 13/100\n",
      "579/579 [==============================] - 0s 847us/step - loss: 0.6619 - categorical_accuracy: 0.7824 - val_loss: 0.8805 - val_categorical_accuracy: 0.7202\n",
      "Epoch 14/100\n",
      "579/579 [==============================] - 0s 849us/step - loss: 0.6049 - categorical_accuracy: 0.8031 - val_loss: 0.9285 - val_categorical_accuracy: 0.6943\n",
      "Epoch 15/100\n",
      "579/579 [==============================] - 0s 859us/step - loss: 0.5440 - categorical_accuracy: 0.8256 - val_loss: 0.8771 - val_categorical_accuracy: 0.6839\n",
      "Epoch 16/100\n",
      "579/579 [==============================] - 1s 890us/step - loss: 0.4881 - categorical_accuracy: 0.8411 - val_loss: 0.8238 - val_categorical_accuracy: 0.7047\n",
      "Epoch 17/100\n",
      "579/579 [==============================] - 0s 850us/step - loss: 0.4445 - categorical_accuracy: 0.8549 - val_loss: 0.8323 - val_categorical_accuracy: 0.7358\n",
      "Epoch 18/100\n",
      "579/579 [==============================] - 0s 856us/step - loss: 0.4093 - categorical_accuracy: 0.8636 - val_loss: 0.8205 - val_categorical_accuracy: 0.7513\n",
      "Epoch 19/100\n",
      "579/579 [==============================] - 0s 861us/step - loss: 0.3842 - categorical_accuracy: 0.8843 - val_loss: 0.7705 - val_categorical_accuracy: 0.7565\n",
      "Epoch 20/100\n",
      "579/579 [==============================] - 0s 840us/step - loss: 0.3482 - categorical_accuracy: 0.9016 - val_loss: 0.8034 - val_categorical_accuracy: 0.7565\n",
      "Epoch 21/100\n",
      "579/579 [==============================] - 0s 847us/step - loss: 0.3181 - categorical_accuracy: 0.8946 - val_loss: 0.7647 - val_categorical_accuracy: 0.7876\n",
      "Epoch 22/100\n",
      "579/579 [==============================] - 0s 856us/step - loss: 0.2820 - categorical_accuracy: 0.9240 - val_loss: 0.8154 - val_categorical_accuracy: 0.7876\n",
      "Epoch 23/100\n",
      "579/579 [==============================] - 0s 859us/step - loss: 0.2559 - categorical_accuracy: 0.9309 - val_loss: 0.7890 - val_categorical_accuracy: 0.7720\n",
      "Epoch 24/100\n",
      "579/579 [==============================] - 0s 833us/step - loss: 0.2457 - categorical_accuracy: 0.9378 - val_loss: 0.7776 - val_categorical_accuracy: 0.7876\n",
      "Epoch 25/100\n",
      "579/579 [==============================] - 0s 859us/step - loss: 0.2396 - categorical_accuracy: 0.9361 - val_loss: 0.7904 - val_categorical_accuracy: 0.7772\n",
      "Epoch 26/100\n",
      "579/579 [==============================] - 1s 869us/step - loss: 0.2231 - categorical_accuracy: 0.9361 - val_loss: 0.7929 - val_categorical_accuracy: 0.7927\n",
      "Epoch 27/100\n",
      "579/579 [==============================] - 0s 850us/step - loss: 0.2045 - categorical_accuracy: 0.9447 - val_loss: 0.7695 - val_categorical_accuracy: 0.8135\n",
      "Epoch 28/100\n",
      "579/579 [==============================] - 0s 849us/step - loss: 0.1826 - categorical_accuracy: 0.9516 - val_loss: 0.7520 - val_categorical_accuracy: 0.8187\n",
      "Epoch 29/100\n",
      "579/579 [==============================] - 0s 847us/step - loss: 0.1742 - categorical_accuracy: 0.9516 - val_loss: 0.7438 - val_categorical_accuracy: 0.8187\n",
      "Epoch 30/100\n",
      "579/579 [==============================] - 0s 852us/step - loss: 0.1494 - categorical_accuracy: 0.9706 - val_loss: 0.7772 - val_categorical_accuracy: 0.8083\n",
      "Epoch 31/100\n",
      "579/579 [==============================] - 0s 852us/step - loss: 0.1646 - categorical_accuracy: 0.9482 - val_loss: 0.7278 - val_categorical_accuracy: 0.8083\n",
      "Epoch 32/100\n",
      "579/579 [==============================] - 1s 864us/step - loss: 0.1251 - categorical_accuracy: 0.9741 - val_loss: 0.7658 - val_categorical_accuracy: 0.8187\n",
      "Epoch 33/100\n",
      "579/579 [==============================] - 1s 864us/step - loss: 0.1175 - categorical_accuracy: 0.9741 - val_loss: 0.7958 - val_categorical_accuracy: 0.7979\n",
      "Epoch 34/100\n",
      "579/579 [==============================] - 0s 842us/step - loss: 0.1010 - categorical_accuracy: 0.9845 - val_loss: 0.7351 - val_categorical_accuracy: 0.8083\n",
      "Epoch 35/100\n",
      "579/579 [==============================] - 1s 868us/step - loss: 0.0962 - categorical_accuracy: 0.9810 - val_loss: 0.7946 - val_categorical_accuracy: 0.8187\n",
      "Epoch 36/100\n",
      "579/579 [==============================] - 1s 868us/step - loss: 0.0851 - categorical_accuracy: 0.9810 - val_loss: 0.7786 - val_categorical_accuracy: 0.8238\n",
      "Epoch 37/100\n",
      "579/579 [==============================] - 1s 876us/step - loss: 0.0767 - categorical_accuracy: 0.9896 - val_loss: 0.7975 - val_categorical_accuracy: 0.8238\n",
      "Epoch 38/100\n",
      "579/579 [==============================] - 1s 866us/step - loss: 0.0703 - categorical_accuracy: 0.9896 - val_loss: 0.8125 - val_categorical_accuracy: 0.7927\n",
      "Epoch 39/100\n",
      "579/579 [==============================] - 0s 857us/step - loss: 0.0756 - categorical_accuracy: 0.9879 - val_loss: 0.7708 - val_categorical_accuracy: 0.8238\n",
      "Epoch 40/100\n",
      "579/579 [==============================] - 1s 868us/step - loss: 0.0680 - categorical_accuracy: 0.9931 - val_loss: 0.8806 - val_categorical_accuracy: 0.7927\n",
      "Epoch 41/100\n",
      "579/579 [==============================] - 1s 890us/step - loss: 0.0570 - categorical_accuracy: 0.9931 - val_loss: 0.8053 - val_categorical_accuracy: 0.8135\n",
      "Epoch 42/100\n",
      "579/579 [==============================] - 0s 850us/step - loss: 0.0504 - categorical_accuracy: 0.9948 - val_loss: 0.8143 - val_categorical_accuracy: 0.8083\n",
      "Epoch 43/100\n",
      "579/579 [==============================] - 0s 845us/step - loss: 0.0595 - categorical_accuracy: 0.9965 - val_loss: 0.9195 - val_categorical_accuracy: 0.8187\n",
      "Epoch 44/100\n",
      "579/579 [==============================] - 0s 850us/step - loss: 0.0473 - categorical_accuracy: 0.9965 - val_loss: 0.8471 - val_categorical_accuracy: 0.8187\n",
      "Epoch 45/100\n",
      "579/579 [==============================] - 0s 833us/step - loss: 0.0410 - categorical_accuracy: 0.9948 - val_loss: 0.8243 - val_categorical_accuracy: 0.8342\n",
      "Epoch 46/100\n",
      "579/579 [==============================] - 0s 843us/step - loss: 0.0363 - categorical_accuracy: 0.9965 - val_loss: 0.8576 - val_categorical_accuracy: 0.8135\n",
      "Epoch 47/100\n",
      "579/579 [==============================] - 0s 823us/step - loss: 0.0297 - categorical_accuracy: 1.0000 - val_loss: 0.8807 - val_categorical_accuracy: 0.8083\n",
      "Epoch 48/100\n",
      "579/579 [==============================] - 0s 835us/step - loss: 0.0287 - categorical_accuracy: 0.9983 - val_loss: 0.8290 - val_categorical_accuracy: 0.8238\n",
      "Epoch 49/100\n",
      "579/579 [==============================] - 0s 847us/step - loss: 0.0252 - categorical_accuracy: 1.0000 - val_loss: 0.9099 - val_categorical_accuracy: 0.8083\n",
      "Epoch 50/100\n",
      "579/579 [==============================] - 0s 831us/step - loss: 0.0261 - categorical_accuracy: 0.9983 - val_loss: 0.8564 - val_categorical_accuracy: 0.8342\n",
      "Epoch 51/100\n",
      "579/579 [==============================] - 0s 856us/step - loss: 0.0229 - categorical_accuracy: 1.0000 - val_loss: 0.9158 - val_categorical_accuracy: 0.8290\n",
      "Epoch 52/100\n",
      "579/579 [==============================] - 0s 835us/step - loss: 0.0217 - categorical_accuracy: 1.0000 - val_loss: 0.8967 - val_categorical_accuracy: 0.8238\n",
      "Epoch 53/100\n",
      "579/579 [==============================] - 0s 856us/step - loss: 0.0322 - categorical_accuracy: 0.9965 - val_loss: 0.9469 - val_categorical_accuracy: 0.8187\n",
      "Epoch 54/100\n",
      "579/579 [==============================] - 0s 843us/step - loss: 0.0315 - categorical_accuracy: 0.9948 - val_loss: 0.9618 - val_categorical_accuracy: 0.7979\n",
      "Epoch 55/100\n",
      "579/579 [==============================] - 0s 812us/step - loss: 0.0231 - categorical_accuracy: 1.0000 - val_loss: 0.9466 - val_categorical_accuracy: 0.8083\n",
      "Epoch 56/100\n",
      "579/579 [==============================] - 0s 837us/step - loss: 0.0245 - categorical_accuracy: 1.0000 - val_loss: 0.9129 - val_categorical_accuracy: 0.8238\n",
      "Epoch 57/100\n",
      "579/579 [==============================] - 0s 828us/step - loss: 0.0178 - categorical_accuracy: 1.0000 - val_loss: 0.9514 - val_categorical_accuracy: 0.8187\n",
      "Epoch 58/100\n",
      "579/579 [==============================] - 0s 830us/step - loss: 0.0139 - categorical_accuracy: 1.0000 - val_loss: 0.9299 - val_categorical_accuracy: 0.8290\n",
      "Epoch 59/100\n",
      "579/579 [==============================] - 0s 843us/step - loss: 0.0125 - categorical_accuracy: 1.0000 - val_loss: 0.9346 - val_categorical_accuracy: 0.8238\n",
      "Epoch 60/100\n",
      "579/579 [==============================] - 0s 838us/step - loss: 0.0121 - categorical_accuracy: 1.0000 - val_loss: 0.9633 - val_categorical_accuracy: 0.8238\n",
      "Epoch 61/100\n",
      "579/579 [==============================] - 0s 852us/step - loss: 0.0107 - categorical_accuracy: 1.0000 - val_loss: 0.9296 - val_categorical_accuracy: 0.8290\n",
      "516/516 [==============================] - 0s 258us/step\n"
     ]
    },
    {
     "data": {
      "text/plain": [
       "[0.5664545656578948, 0.856589138507843]"
      ]
     },
     "execution_count": 31,
     "metadata": {},
     "output_type": "execute_result"
    }
   ],
   "source": [
    "history_conv_max_2 = History()\n",
    "model = Sequential()\n",
    "model.add(Conv2D(32,(3,3),input_shape=X_train.shape[1:],padding=\"same\"))\n",
    "model.add(MaxPooling2D((2,2)))\n",
    "\n",
    "model.add(Conv2D(16,(2,2),padding=\"same\"))\n",
    "model.add(MaxPooling2D((2,2)))\n",
    "\n",
    "model.add(Flatten())\n",
    "model.add(Dense(n_classes,activation=\"softmax\"))\n",
    "model.summary()\n",
    "\n",
    "early_stopping = EarlyStopping(patience=30,monitor=\"val_loss\")\n",
    "model.compile(loss=\"categorical_crossentropy\",optimizer=\"adam\",metrics=[\"categorical_accuracy\"])\n",
    "model.fit(X_train, y_train, validation_split=0.25,epochs=100,callbacks=[early_stopping, history_conv_max_2])\n",
    "model.evaluate(X_test,y_test)"
   ]
  },
  {
   "cell_type": "code",
   "execution_count": 32,
   "metadata": {},
   "outputs": [
    {
     "data": {
      "image/png": "[encoded data removed]",
      "text/plain": [
       "<Figure size 432x288 with 1 Axes>"
      ]
     },
     "metadata": {
      "needs_background": "light"
     },
     "output_type": "display_data"
    }
   ],
   "source": [
    "# plt.plot(history_dense_1.history['categorical_accuracy'], label = \"tarina dense Layer=1\")\n",
    "# plt.plot(history_dense_1.history['val_categorical_accuracy'], label = \"test dense Layer=1\")\n",
    "\n",
    "plt.plot(history_dense_2.history['categorical_accuracy'], label = \"tarina dense Layer=2\")\n",
    "plt.plot(history_dense_2.history['val_categorical_accuracy'], label = \"test dense Layer=2\")\n",
    "\n",
    "# plt.plot(history_conv_max_1.history['categorical_accuracy'], label = \"tarina Conv Layer=1\")\n",
    "# plt.plot(history_conv_max_1.history['val_categorical_accuracy'], label = \"test Conv Layer=1\")\n",
    "\n",
    "plt.plot(history_conv_max_2.history['categorical_accuracy'], label = \"tarina Conv Layer=2\")\n",
    "plt.plot(history_conv_max_2.history['val_categorical_accuracy'], label = \"test Conv Layer=2\")\n",
    "\n",
    "plt.legend()\n",
    "plt.show()"
   ]
  },
  {
   "cell_type": "markdown",
   "metadata": {},
   "source": [
    "# Zad.\n",
    "\n",
    "Dodaj: \n",
    "\n",
    "* BatchNormalization\n",
    "* Dropout\n",
    "\n",
    "```python\n",
    "model.add(layers.Conv2D(64, (3, 3), ...))\n",
    "model.add(layers.BatchNormalization())\n",
    "model.add(layers.Activation(\"relu\"))\n",
    "model.add(MaxPooling2D((2,2)))\n",
    "model.add(Dropout(0.2))\n",
    "```\n",
    "\n",
    "* Dropout can be used after convolutional layers (e.g. Conv2D) and after pooling layers (e.g. MaxPooling2D).\n",
    "* Often, dropout is only used after the pooling layers, but this is just a rough heuristic."
   ]
  },
  {
   "cell_type": "code",
   "execution_count": null,
   "metadata": {},
   "outputs": [],
   "source": []
  },
  {
   "cell_type": "code",
   "execution_count": null,
   "metadata": {},
   "outputs": [],
   "source": []
  },
  {
   "cell_type": "code",
   "execution_count": null,
   "metadata": {},
   "outputs": [],
   "source": []
  }
 ],
 "metadata": {
  "kernelspec": {
   "display_name": "Python 3",
   "language": "python",
   "name": "python3"
  },
  "language_info": {
   "codemirror_mode": {
    "name": "ipython",
    "version": 3
   },
   "file_extension": ".py",
   "mimetype": "text/x-python",
   "name": "python",
   "nbconvert_exporter": "python",
   "pygments_lexer": "ipython3",
   "version": "3.7.3"
  }
 },
 "nbformat": 4,
 "nbformat_minor": 2
}
