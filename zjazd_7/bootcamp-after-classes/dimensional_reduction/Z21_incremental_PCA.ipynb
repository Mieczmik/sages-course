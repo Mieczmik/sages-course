{
 "cells": [
  {
   "cell_type": "markdown",
   "metadata": {},
   "source": [
    "# Incremental PCA\n",
    "\n",
    "Jednym z problemów z PCA jest to, że wymaga, aby cały zestaw treningowy zmieścił się do pamięci, aby algorytm SVD mógł działać.\n",
    "\n",
    "Na szczęście opracowano algorytmy **incremental PCA (IPCA)**: można podzielić zestaw treningowy na mini-bacze i podawać algorytmowi IPCA po jednym minibatchu na raz. \n",
    "\n",
    "Jest to przydatne w przypadku dużych zestawów uczących, a także do stosowania PCA online (tzn. W locie, gdy pojawiają się nowe instancje).\n",
    "\n",
    "# Zad\n",
    "\n",
    "Poniższy kod dzieli zbiór danych MNIST na 100 mini-baczy i przekazuje je do klasy IncrementalPCA Scikit-Learn, aby zmniejszyć wymiarowość.\n",
    "\n",
    "Zauważ, że musisz wywołać metodę **partial_fit()** z każdą mini-baczu zamiast metody fit() na całym zbiorze treningowym:"
   ]
  },
  {
   "cell_type": "code",
   "execution_count": 4,
   "metadata": {},
   "outputs": [
    {
     "name": "stdout",
     "output_type": "stream",
     "text": [
      "(70000, 784)   (70000,)\n"
     ]
    }
   ],
   "source": [
    "import pandas as pd\n",
    "import matplotlib.pyplot as plt\n",
    "import os\n",
    "import numpy as np\n",
    "\n",
    "from sklearn.datasets import fetch_mldata\n",
    "from sklearn.decomposition import IncrementalPCA\n",
    "\n",
    "mnist = fetch_mldata('MNIST original')\n",
    "X = mnist.data.astype('float64')\n",
    "y = mnist.target\n",
    "print(X.shape, \" \", y.shape)\n"
   ]
  },
  {
   "cell_type": "code",
   "execution_count": 7,
   "metadata": {},
   "outputs": [],
   "source": [
    "n_batches = 100\n",
    "inc_pca = IncrementalPCA(n_components=154)\n",
    "for X_batch in np.array_split(X, n_batches):\n",
    "    inc_pca.partial_fit(X_batch)\n",
    "X_mnist_reduced = inc_pca.transform(X)"
   ]
  },
  {
   "cell_type": "markdown",
   "metadata": {},
   "source": [
    "# Zad\n",
    "\n",
    "Proszę zwizualizować dane MNIST za pomocą redukcji wymiaru do 2."
   ]
  },
  {
   "cell_type": "code",
   "execution_count": null,
   "metadata": {
    "collapsed": true
   },
   "outputs": [],
   "source": []
  },
  {
   "cell_type": "markdown",
   "metadata": {},
   "source": [
    "# memmap\n",
    "\n",
    "* Alternatywnie możesz użyć klasy memmap z NumPy, która pozwala manipulować dużą tablicą przechowywaną w pliku binarnym na dysku, tak jakby była ona w całości w pamięci; \n",
    "\n",
    "* Klasa ładuje tylko dane, których potrzebuje w pamięci, gdy tego potrzebuje. \n",
    "\n",
    "* Ponieważ klasa IncrementalPCA wykorzystuje tylko niewielką część tablicy w danym momencie, wykorzystanie pamięci pozostaje pod kontrolą. \n",
    "\n",
    "* Umożliwia to wywołanie zwykłej metody fit(), jak widać w następującym kodzie:\n",
    "\n",
    "# Zad\n",
    "Utwórzmy strukturę **memmap()** i skopiujmy do niej dane MNIST. Zazwyczaj byłoby to wykonywane przez pierwszy program:"
   ]
  },
  {
   "cell_type": "code",
   "execution_count": 11,
   "metadata": {},
   "outputs": [],
   "source": [
    "filename = \"my_mnist.data\"\n",
    "m, n = X.shape\n",
    "\n",
    "X_mm = np.memmap(filename, dtype='float32', mode='write', shape=(m, n))\n",
    "X_mm[:] = X"
   ]
  },
  {
   "cell_type": "markdown",
   "metadata": {},
   "source": [
    "Teraz usuńmy obiektu memmap()."
   ]
  },
  {
   "cell_type": "code",
   "execution_count": 12,
   "metadata": {
    "collapsed": true
   },
   "outputs": [],
   "source": [
    "del X_mm"
   ]
  },
  {
   "cell_type": "markdown",
   "metadata": {},
   "source": [
    "\n",
    "# Zad\n",
    "\n",
    "Następnie inny program załaduje dane i użyje ich do redukcji wymiarowości:"
   ]
  },
  {
   "cell_type": "code",
   "execution_count": 13,
   "metadata": {},
   "outputs": [
    {
     "data": {
      "text/plain": [
       "IncrementalPCA(batch_size=700, copy=True, n_components=154, whiten=False)"
      ]
     },
     "execution_count": 13,
     "metadata": {},
     "output_type": "execute_result"
    }
   ],
   "source": [
    "X_mm = np.memmap(filename, dtype=\"float32\", mode=\"readonly\", shape=(m, n))\n",
    "\n",
    "batch_size = m // n_batches\n",
    "inc_pca = IncrementalPCA(n_components=154, batch_size=batch_size)\n",
    "inc_pca.fit(X_mm)"
   ]
  },
  {
   "cell_type": "markdown",
   "metadata": {},
   "source": [
    "# Zad\n",
    "\n",
    "Proszę zwizualizować dane MNIST za pomocą redukcji wymiaru do 2."
   ]
  },
  {
   "cell_type": "code",
   "execution_count": null,
   "metadata": {
    "collapsed": true
   },
   "outputs": [],
   "source": []
  },
  {
   "cell_type": "code",
   "execution_count": null,
   "metadata": {
    "collapsed": true
   },
   "outputs": [],
   "source": []
  }
 ],
 "metadata": {
  "kernelspec": {
   "display_name": "Python 3",
   "language": "python",
   "name": "python3"
  },
  "language_info": {
   "codemirror_mode": {
    "name": "ipython",
    "version": 3
   },
   "file_extension": ".py",
   "mimetype": "text/x-python",
   "name": "python",
   "nbconvert_exporter": "python",
   "pygments_lexer": "ipython3",
   "version": "3.6.7"
  }
 },
 "nbformat": 4,
 "nbformat_minor": 2
}
