{
 "cells": [
  {
   "cell_type": "code",
   "execution_count": 2,
   "metadata": {},
   "outputs": [],
   "source": [
    "import pandas as pd\n",
    "import numpy as np\n",
    "import matplotlib.pyplot as plt\n",
    "import seaborn\n",
    "from sklearn.cluster import KMeans\n",
    "from sklearn.feature_extraction.text import TfidfVectorizer, CountVectorizer\n",
    "from nltk.corpus import stopwords\n",
    "from nltk.stem import WordNetLemmatizer\n",
    "from sklearn.decomposition import PCA\n",
    "from sklearn.decomposition import TruncatedSVD\n",
    "# import nltk"
   ]
  },
  {
   "cell_type": "markdown",
   "metadata": {},
   "source": [
    "# Zad. \n",
    "Wczytaj dane zawierające informacje o piosenkach.\n",
    "\n",
    "Dane trzeba rozpakować.\n",
    "\n",
    "https://www.kaggle.com/laowingkin/song-text-mining-and-clustering/data"
   ]
  },
  {
   "cell_type": "code",
   "execution_count": 73,
   "metadata": {
    "scrolled": true
   },
   "outputs": [
    {
     "data": {
      "text/html": [
       "<div>\n",
       "<style scoped>\n",
       "    .dataframe tbody tr th:only-of-type {\n",
       "        vertical-align: middle;\n",
       "    }\n",
       "\n",
       "    .dataframe tbody tr th {\n",
       "        vertical-align: top;\n",
       "    }\n",
       "\n",
       "    .dataframe thead th {\n",
       "        text-align: right;\n",
       "    }\n",
       "</style>\n",
       "<table border=\"1\" class=\"dataframe\">\n",
       "  <thead>\n",
       "    <tr style=\"text-align: right;\">\n",
       "      <th></th>\n",
       "      <th>artist</th>\n",
       "      <th>song</th>\n",
       "      <th>link</th>\n",
       "      <th>text</th>\n",
       "    </tr>\n",
       "  </thead>\n",
       "  <tbody>\n",
       "    <tr>\n",
       "      <th>0</th>\n",
       "      <td>ABBA</td>\n",
       "      <td>Ahe's My Kind Of Girl</td>\n",
       "      <td>/a/abba/ahes+my+kind+of+girl_20598417.html</td>\n",
       "      <td>Look at her face, it's a wonderful face  And i...</td>\n",
       "    </tr>\n",
       "    <tr>\n",
       "      <th>1</th>\n",
       "      <td>ABBA</td>\n",
       "      <td>Andante, Andante</td>\n",
       "      <td>/a/abba/andante+andante_20002708.html</td>\n",
       "      <td>Take it easy with me, please  Touch me gently ...</td>\n",
       "    </tr>\n",
       "    <tr>\n",
       "      <th>2</th>\n",
       "      <td>ABBA</td>\n",
       "      <td>As Good As New</td>\n",
       "      <td>/a/abba/as+good+as+new_20003033.html</td>\n",
       "      <td>I'll never know why I had to go  Why I had to ...</td>\n",
       "    </tr>\n",
       "    <tr>\n",
       "      <th>3</th>\n",
       "      <td>ABBA</td>\n",
       "      <td>Bang</td>\n",
       "      <td>/a/abba/bang_20598415.html</td>\n",
       "      <td>Making somebody happy is a question of give an...</td>\n",
       "    </tr>\n",
       "    <tr>\n",
       "      <th>4</th>\n",
       "      <td>ABBA</td>\n",
       "      <td>Bang-A-Boomerang</td>\n",
       "      <td>/a/abba/bang+a+boomerang_20002668.html</td>\n",
       "      <td>Making somebody happy is a question of give an...</td>\n",
       "    </tr>\n",
       "    <tr>\n",
       "      <th>5</th>\n",
       "      <td>ABBA</td>\n",
       "      <td>Burning My Bridges</td>\n",
       "      <td>/a/abba/burning+my+bridges_20003011.html</td>\n",
       "      <td>Well, you hoot and you holler and you make me ...</td>\n",
       "    </tr>\n",
       "    <tr>\n",
       "      <th>6</th>\n",
       "      <td>ABBA</td>\n",
       "      <td>Cassandra</td>\n",
       "      <td>/a/abba/cassandra_20002811.html</td>\n",
       "      <td>Down in the street they're all singing and sho...</td>\n",
       "    </tr>\n",
       "    <tr>\n",
       "      <th>7</th>\n",
       "      <td>ABBA</td>\n",
       "      <td>Chiquitita</td>\n",
       "      <td>/a/abba/chiquitita_20002978.html</td>\n",
       "      <td>Chiquitita, tell me what's wrong  You're encha...</td>\n",
       "    </tr>\n",
       "    <tr>\n",
       "      <th>8</th>\n",
       "      <td>ABBA</td>\n",
       "      <td>Crazy World</td>\n",
       "      <td>/a/abba/crazy+world_20003013.html</td>\n",
       "      <td>I was out with the morning sun  Couldn't sleep...</td>\n",
       "    </tr>\n",
       "    <tr>\n",
       "      <th>9</th>\n",
       "      <td>ABBA</td>\n",
       "      <td>Crying Over You</td>\n",
       "      <td>/a/abba/crying+over+you_20177611.html</td>\n",
       "      <td>I'm waitin' for you baby  I'm sitting all alon...</td>\n",
       "    </tr>\n",
       "  </tbody>\n",
       "</table>\n",
       "</div>"
      ],
      "text/plain": [
       "  artist                   song                                        link  \\\n",
       "0   ABBA  Ahe's My Kind Of Girl  /a/abba/ahes+my+kind+of+girl_20598417.html   \n",
       "1   ABBA       Andante, Andante       /a/abba/andante+andante_20002708.html   \n",
       "2   ABBA         As Good As New        /a/abba/as+good+as+new_20003033.html   \n",
       "3   ABBA                   Bang                  /a/abba/bang_20598415.html   \n",
       "4   ABBA       Bang-A-Boomerang      /a/abba/bang+a+boomerang_20002668.html   \n",
       "5   ABBA     Burning My Bridges    /a/abba/burning+my+bridges_20003011.html   \n",
       "6   ABBA              Cassandra             /a/abba/cassandra_20002811.html   \n",
       "7   ABBA             Chiquitita            /a/abba/chiquitita_20002978.html   \n",
       "8   ABBA            Crazy World           /a/abba/crazy+world_20003013.html   \n",
       "9   ABBA        Crying Over You       /a/abba/crying+over+you_20177611.html   \n",
       "\n",
       "                                                text  \n",
       "0  Look at her face, it's a wonderful face  And i...  \n",
       "1  Take it easy with me, please  Touch me gently ...  \n",
       "2  I'll never know why I had to go  Why I had to ...  \n",
       "3  Making somebody happy is a question of give an...  \n",
       "4  Making somebody happy is a question of give an...  \n",
       "5  Well, you hoot and you holler and you make me ...  \n",
       "6  Down in the street they're all singing and sho...  \n",
       "7  Chiquitita, tell me what's wrong  You're encha...  \n",
       "8  I was out with the morning sun  Couldn't sleep...  \n",
       "9  I'm waitin' for you baby  I'm sitting all alon...  "
      ]
     },
     "execution_count": 73,
     "metadata": {},
     "output_type": "execute_result"
    }
   ],
   "source": [
    "df = pd.read_csv('songdata.csv')\n",
    "df['text'] = df['text'].str.replace('\\n', '')\n",
    "df.head(10)"
   ]
  },
  {
   "cell_type": "markdown",
   "metadata": {},
   "source": [
    "# Uwaga\n",
    "Zmniejszam zbiór danych."
   ]
  },
  {
   "cell_type": "code",
   "execution_count": 74,
   "metadata": {},
   "outputs": [],
   "source": [
    "y = df[\"artist\"]#.values[:1000]\n",
    "X = df[\"text\"]#.values[:1000]"
   ]
  },
  {
   "cell_type": "code",
   "execution_count": 66,
   "metadata": {},
   "outputs": [],
   "source": [
    "# X[ y == i ][:num].shape"
   ]
  },
  {
   "cell_type": "code",
   "execution_count": 89,
   "metadata": {},
   "outputs": [],
   "source": [
    "num=10\n",
    "X_set = []\n",
    "Y_set =[]\n",
    "for i in np.unique(y):\n",
    "    X_set = X_set+ list(X[ y == i ][:num])\n",
    "    Y_set = Y_set + list(y[ y == i ][:num])"
   ]
  },
  {
   "cell_type": "code",
   "execution_count": 90,
   "metadata": {},
   "outputs": [
    {
     "data": {
      "text/plain": [
       "array([\"'n Sync\", 'ABBA', 'Ace Of Base', 'Adam Sandler', 'Adele',\n",
       "       'Aerosmith', 'Air Supply', 'Aiza Seguerra', 'Alabama',\n",
       "       'Alan Parsons Project', 'Aled Jones', 'Alice Cooper',\n",
       "       'Alice In Chains', 'Alison Krauss', 'Allman Brothers Band',\n",
       "       'Alphaville', 'America', 'Amy Grant', 'Andrea Bocelli',\n",
       "       'Andy Williams', 'Annie', 'Ariana Grande', 'Ariel Rivera',\n",
       "       'Arlo Guthrie', 'Arrogant Worms', 'Avril Lavigne',\n",
       "       'Backstreet Boys', 'Barbie', 'Barbra Streisand', 'Beach Boys',\n",
       "       'Beautiful South', 'Beauty And The Beast', 'Bee Gees',\n",
       "       'Bette Midler', 'Bill Withers', 'Billie Holiday', 'Billy Joel',\n",
       "       'Bing Crosby', 'Black Sabbath', 'Blur', 'Bob Dylan', 'Bob Marley',\n",
       "       'Bob Rivers', 'Bob Seger', 'Bon Jovi', 'Boney M.', 'Bonnie Raitt',\n",
       "       'Bosson', 'Bread', 'Britney Spears', 'Bruce Springsteen',\n",
       "       'Bruno Mars', 'Bryan White', 'Cake', 'Carly Simon', 'Carol Banawa',\n",
       "       'Carpenters', 'Cat Stevens', 'Celine Dion', 'Chaka Khan',\n",
       "       'Cheap Trick', 'Cher', 'Chicago', 'Children', 'Chris Brown',\n",
       "       'Chris Rea', 'Christina Aguilera', 'Christina Perri',\n",
       "       'Christmas Songs', 'Christy Moore', 'Chuck Berry', 'Cinderella',\n",
       "       'Clash', 'Cliff Richard', 'Coldplay', 'Cole Porter',\n",
       "       'Conway Twitty', 'Counting Crows', 'Creedence Clearwater Revival',\n",
       "       'Crowded House', 'Culture Club', 'Cyndi Lauper', 'Dan Fogelberg',\n",
       "       'Dave Matthews Band', 'David Allan Coe', 'David Bowie',\n",
       "       'David Guetta', 'David Pomeranz', 'Dean Martin', 'Death',\n",
       "       'Deep Purple', 'Def Leppard', 'Demi Lovato', 'Depeche Mode',\n",
       "       'Devo', 'Dewa 19', 'Diana Ross', 'Dire Straits', 'Divine',\n",
       "       'Dolly Parton', 'Don Henley', 'Don McLean', 'Don Moen',\n",
       "       'Donna Summer', 'Doobie Brothers', 'Doors', 'Doris Day', 'Drake',\n",
       "       'Dream Theater', 'Dusty Springfield', 'Eagles', 'Ed Sheeran',\n",
       "       'Eddie Cochran', 'Electric Light Orchestra', 'Ella Fitzgerald',\n",
       "       'Ellie Goulding', 'Elton John', 'Elvis Costello', 'Elvis Presley',\n",
       "       'Eminem', 'Emmylou Harris', 'Engelbert Humperdinck', 'Enigma',\n",
       "       'Enrique Iglesias', 'Enya', 'Eppu Normaali', 'Erasure',\n",
       "       'Eric Clapton', 'Erik Santos', 'Etta James', 'Europe',\n",
       "       'Eurythmics', 'Evanescence', 'Everclear', 'Everlast', 'Exo',\n",
       "       'Exo-K', 'Extreme', 'Fabolous', 'Face To Face', 'Faces',\n",
       "       'Faith Hill', 'Faith No More', 'Falco', 'Fall Out Boy', 'Fastball',\n",
       "       'Fatboy Slim', 'Fifth Harmony', 'Fiona Apple', 'Fleetwood Mac',\n",
       "       'Flo-Rida', 'Foo Fighters', 'Foreigner', 'Frank Sinatra',\n",
       "       'Frank Zappa', 'Frankie Goes To Hollywood', 'Frankie Laine',\n",
       "       'Frankie Valli', 'Freddie Aguilar', 'Freddie King', 'Free',\n",
       "       'Freestyle', 'Fun.', 'GMB', 'Garth Brooks', 'Gary Numan',\n",
       "       'Gary Valenciano', 'Genesis', 'George Formby', 'George Harrison',\n",
       "       'George Jones', 'George Michael', 'George Strait', 'Gino Vannelli',\n",
       "       'Gipsy Kings', 'Glee', 'Glen Campbell', 'Gloria Estefan',\n",
       "       'Gloria Gaynor', 'Gordon Lightfoot', 'Grand Funk Railroad',\n",
       "       'Grateful Dead', 'Grease', 'Great Big Sea', 'Green Day',\n",
       "       'Gucci Mane', 'Guided By Voices', \"Guns N' Roses\", 'HIM',\n",
       "       'Halloween', 'Hank Snow', 'Hank Williams', 'Hank Williams Jr.',\n",
       "       'Hanson', 'Happy Mondays', 'Harry Belafonte', 'Harry Connick, Jr.',\n",
       "       'Heart', 'Helloween', 'High School Musical', 'Hillsong',\n",
       "       'Hillsong United', 'Hollies', 'Hooverphonic', 'Horrible Histories',\n",
       "       'Housemartins', 'Howard Jones', 'Human League', 'INXS',\n",
       "       'Ian Hunter', 'Ice Cube', 'Idina Menzel', 'Iggy Pop', 'Il Divo',\n",
       "       'Imagine Dragons', 'Imago', 'Imperials', 'Incognito', 'Incubus',\n",
       "       'Independence Day', 'Indiana Bible College', 'Indigo Girls',\n",
       "       'Ingrid Michaelson', 'Inna', 'Insane Clown Posse', 'Inside Out',\n",
       "       'Iron Butterfly', 'Iron Maiden', 'Irving Berlin', 'Isley Brothers',\n",
       "       'Israel', 'Israel Houghton', 'Iwan Fals', 'J Cole',\n",
       "       'Jackson Browne', 'James Taylor', 'Janis Joplin', 'Jason Mraz',\n",
       "       'Jennifer Lopez', 'Jim Croce', 'Jimi Hendrix', 'Jimmy Buffett',\n",
       "       'John Denver', 'John Legend', 'John Martyn', 'John McDermott',\n",
       "       'John Mellencamp', 'John Prine', 'John Waite', 'Johnny Cash',\n",
       "       'Joni Mitchell', 'Jose Mari Chan',\n",
       "       'Joseph And The Amazing Technicolor Dreamcoat', 'Josh Groban',\n",
       "       'Journey', 'Joy Division', 'Judas Priest', 'Judds', 'Judy Garland',\n",
       "       'Justin Bieber', 'Justin Timberlake', 'Kanye West', 'Kari Jobe',\n",
       "       'Kate Bush', 'Katy Perry', 'Keith Green', 'Keith Urban',\n",
       "       'Kelly Clarkson', 'Kelly Family', 'Kenny Chesney', 'Kenny Loggins',\n",
       "       'Kenny Rogers', 'Kid Rock', 'Kim Wilde', 'King Crimson',\n",
       "       'King Diamond', 'Kinks', 'Kirk Franklin', 'Kirsty Maccoll', 'Kiss',\n",
       "       'Koes Plus', 'Korn', 'Kris Kristofferson', 'Kyla', 'Kylie Minogue',\n",
       "       'LL Cool J', 'Lady Gaga', 'Lana Del Rey', 'Lata Mangeshkar',\n",
       "       'Lauryn Hill', 'Lea Salonga', 'Leann Rimes', 'Lenny Kravitz',\n",
       "       'Leo Sayer', 'Leonard Cohen', 'Les Miserables', 'Lil Wayne',\n",
       "       'Linda Ronstadt', 'Linkin Park', 'Lionel Richie', 'Little Mix',\n",
       "       'Little Walter', 'Lloyd Cole', 'Lorde', 'Loretta Lynn', 'Lou Reed',\n",
       "       'Louis Armstrong', 'Louis Jordan', 'Lucky Dube', 'Luther Vandross',\n",
       "       'Lynyrd Skynyrd', 'Madonna', 'Manowar', 'Mariah Carey',\n",
       "       'Marianne Faithfull', 'Marillion', 'Marilyn Manson', 'Mark Ronson',\n",
       "       'Maroon 5', 'Mary Black', 'Matt Monro', 'Matt Redman',\n",
       "       'Mazzy Star', 'Mc Hammer', 'Meat Loaf', 'Megadeth', 'Men At Work',\n",
       "       'Metallica', 'Michael Bolton', 'Michael Buble', 'Michael Jackson',\n",
       "       'Michael W. Smith', 'Migos', 'Miley Cyrus', 'Misfits',\n",
       "       'Modern Talking', 'Moody Blues', 'Morrissey', 'Mud', 'NOFX',\n",
       "       'Nat King Cole', 'Natalie Cole', 'Natalie Grant',\n",
       "       'Natalie Imbruglia', 'Nazareth', 'Ne-Yo', 'Neil Diamond',\n",
       "       'Neil Sedaka', 'Neil Young', 'New Order', 'Next To Normal',\n",
       "       'Nick Cave', 'Nick Drake', 'Nickelback', 'Nicki Minaj',\n",
       "       'Nightwish', 'Nina Simone', 'Nine Inch Nails', 'Nirvana',\n",
       "       'Nitty Gritty Dirt Band', 'Noa', 'Norah Jones', 'Notorious B.I.G.',\n",
       "       'O-Zone', 'O.A.R.', 'Oasis', 'Ocean Colour Scene', 'Offspring',\n",
       "       'Ofra Haza', 'Oingo Boingo', \"Old 97's\", 'Oliver',\n",
       "       'Olivia Newton-John', 'Olly Murs', 'Omd', 'One Direction',\n",
       "       'OneRepublic', 'Opeth', 'Orphaned Land', 'Oscar Hammerstein',\n",
       "       'Otis Redding', 'Our Lady Peace', 'Out Of Eden', 'Outkast',\n",
       "       'Overkill', 'Owl City', 'Ozzy Osbourne', 'P!nk', 'Passenger',\n",
       "       'Pat Benatar', 'Patsy Cline', 'Patti Smith', 'Paul McCartney',\n",
       "       'Paul Simon', 'Pearl Jam', 'Perry Como', 'Pet Shop Boys',\n",
       "       'Peter Cetera', 'Peter Gabriel', 'Peter Tosh', 'Pharrell Williams',\n",
       "       'Phil Collins', 'Phineas And Ferb', 'Phish', 'Pink Floyd',\n",
       "       'Pitbull', 'Planetshakers', 'Pogues', 'Point Of Grace', 'Poison',\n",
       "       'Pretenders', 'Primus', 'Prince', 'Proclaimers', 'Procol Harum',\n",
       "       'Puff Daddy', 'Q-Tip', 'Qntal', 'Quarashi', 'Quarterflash',\n",
       "       'Quasi', 'Queen', 'Queen Adreena', 'Queen Latifah',\n",
       "       'Queens Of The Stone Age', 'Queensryche', 'Quicksand',\n",
       "       'Quicksilver Messenger Service', 'Quiet Riot', 'Quietdrive',\n",
       "       'Quincy Jones', 'Quincy Punx', 'R. Kelly', 'Radiohead', 'Raffi',\n",
       "       'Rage Against The Machine', 'Rainbow', 'Rammstein', 'Ramones',\n",
       "       'Randy Travis', 'Rascal Flatts', 'Ray Boltz', 'Ray Charles',\n",
       "       'Reba Mcentire', 'Red Hot Chili Peppers', 'Regine Velasquez',\n",
       "       'Religious Music', 'Rem', 'Reo Speedwagon', 'Richard Marx',\n",
       "       'Rick Astley', 'Rihanna', 'Robbie Williams', 'Rod Stewart',\n",
       "       'Rolling Stones', 'Roxette', 'Roxy Music', 'Roy Orbison', 'Rush',\n",
       "       'Sam Smith', 'Santana', 'Savage Garden', 'Scorpions', 'Selah',\n",
       "       'Selena Gomez', 'Sia', 'Side A', 'Slayer', 'Smiths', 'Snoop Dogg',\n",
       "       'Soundgarden', 'Soundtracks', 'Spandau Ballet', 'Squeeze',\n",
       "       'Starship', 'Status Quo', 'Steely Dan', 'Steve Miller Band',\n",
       "       'Stevie Ray Vaughan', 'Stevie Wonder', 'Sting', 'Stone Roses',\n",
       "       'Stone Temple Pilots', 'Styx', 'Sublime', 'Supertramp',\n",
       "       'System Of A Down', 'Talking Heads', 'Taylor Swift',\n",
       "       'Tears For Fears', 'Ten Years After', 'The Beatles',\n",
       "       'The Broadways', 'The Jam', 'The Killers', 'The Monkees',\n",
       "       'The Script', 'The Temptations', 'The Weeknd', 'The White Stripes',\n",
       "       'Thin Lizzy', 'Tiffany', 'Tim Buckley', 'Tim McGraw',\n",
       "       'Tina Turner', 'Tom Jones', 'Tom Lehrer', 'Tom T. Hall',\n",
       "       'Tom Waits', 'Tool', 'Tori Amos', 'Toto', 'Townes Van Zandt',\n",
       "       'Tracy Chapman', 'Tragically Hip', 'Train', 'Travis',\n",
       "       'Twenty One Pilots', 'U-Kiss', 'U. D. O.', 'U2', 'UB40', 'Ufo',\n",
       "       'Ugly Kid Joe', \"Ultramagnetic Mc's\", 'Ultravox', 'Uncle Kracker',\n",
       "       'Uncle Tupelo', 'Underoath', 'Underworld', 'Unearth', 'Ungu',\n",
       "       'Unkle', 'Unknown', 'Unseen', 'Unwritten Law', 'Uriah Heep',\n",
       "       'Used', 'Usher', 'Utada Hikaru', 'Utopia',\n",
       "       'Van Der Graaf Generator', 'Van Halen', 'Van Morrison',\n",
       "       'Vanessa Williams', 'Vangelis', 'Vanilla Ice', 'Various Artists',\n",
       "       'Velvet Underground', 'Vengaboys', 'Venom', 'Vera Lynn',\n",
       "       'Vertical Horizon', 'Veruca Salt', 'Verve', 'Vince Gill',\n",
       "       'Violent Femmes', 'Virgin Steele', 'Vonda Shepard', 'Vybz Kartel',\n",
       "       'W.A.S.P.', 'Walk The Moon', 'Wanda Jackson', 'Wang Chung',\n",
       "       'Warren Zevon', 'Waterboys', 'Waylon Jennings', 'Ween', 'Weezer',\n",
       "       'Weird Al Yankovic', 'Westlife', 'Wet Wet Wet', 'Wham!',\n",
       "       'Whiskeytown', 'Whitesnake', 'Whitney Houston', 'Who',\n",
       "       'Widespread Panic', 'Will Smith', 'Willie Nelson',\n",
       "       'Wilson Phillips', 'Wilson Pickett', 'Wishbone Ash',\n",
       "       'Within Temptation', 'Wiz Khalifa', 'Wu-Tang Clan', 'Wyclef Jean',\n",
       "       'X', 'X Japan', 'X-Raided', 'X-Ray Spex', 'X-Treme', 'XTC',\n",
       "       'Xandria', 'Xavier Naidoo', 'Xavier Rudd', 'Xentrix', 'Xiu Xiu',\n",
       "       'Xscape', 'Xzibit', 'YG', 'Yazoo', 'Yeah Yeah Yeahs', 'Yelawolf',\n",
       "       'Yello', 'Yellowcard', 'Yeng Constantino', 'Yes',\n",
       "       'Ying Yang Twins', 'Yngwie Malmsteen', 'Yo Gotti', 'Yo La Tengo',\n",
       "       'Yoko Ono', 'Yolanda Adams', 'Yonder Mountain String Band',\n",
       "       'You Am I', 'Young Buck', 'Young Dro', 'Young Jeezy',\n",
       "       'Youngbloodz', 'Youth Of Today', 'Yukmouth', 'Yung Joc',\n",
       "       'Yusuf Islam', 'Z-Ro', 'ZZ Top', 'Zac Brown Band', 'Zakk Wylde',\n",
       "       'Zao', 'Zayn Malik', 'Zazie', 'Zebra', 'Zebrahead', 'Zed',\n",
       "       'Zero 7', 'Zeromancer', 'Ziggy Marley', 'Zoe', 'Zoegirl', 'Zornik',\n",
       "       'Zox', 'Zucchero', 'Zwan'], dtype=object)"
      ]
     },
     "execution_count": 90,
     "metadata": {},
     "output_type": "execute_result"
    }
   ],
   "source": [
    "np.unique(y)"
   ]
  },
  {
   "cell_type": "code",
   "execution_count": 91,
   "metadata": {},
   "outputs": [
    {
     "data": {
      "text/plain": [
       "\"Girl don't say that it's over  'Cause you are a part of me, yeah  Girl just hold on, please tell me what is wrong with us  Could it be that you're lonely  Could it be that I didn't care  Tell me please girl, that you are still feeling for me, oh  Girl where is the love that we used to know, our love  All these beautiful days that we used to share  Lord tell me please what can I do    (I will give you the best of my life)  (Yes I'll give you all that you need)  (Anything that you want I will give it to you)  (I will give you the best of my life)  (Yes I'll give you all that you need)  (Anything that you want I will give it to you)  I will give it to you    And you know that I miss you  And you know I can't live without you  I'm praying each day that your love will come back my way, oh yeah  In my dreams I still hold you  In my dreams are you still with me, yeah  Please don't hesitate, 'cause girl I can't wait for our love  Girl where is the love (where is the love)  That we used to know (we used to know)  Our love  Oh, all these beautiful days (beautiful days)  That we used to share (we used to share)  Lord tell me please what can I do, yeah    (I will give you the best of my life)  (Yes I'll give you all that you need)  (Anything that you want I will give it to you)  (I will give you the best of my life)  (Yes I'll give you all that you need)  (Anything that you want I will give it to you)    Where is the love that we used to know  Beautiful days we used to share    (Best of my life)  (Yes I'll give you all that you need)  (Anything that you want I will give it to you)  (I will give you the best of my life)  (Yes I'll give you all that you need)  (Anything that you want I will give it to you)    Bring it on now  (I will give you the best of my life)  (Yes I'll give you all that you need)  (Anything that you want I will give it to you)  (I will give you the best of my life)  (Yes I'll give you all that you need)  (Anything that you want I will give it to you)\""
      ]
     },
     "execution_count": 91,
     "metadata": {},
     "output_type": "execute_result"
    }
   ],
   "source": [
    "X_set[ Y_set == \"Rammstein\" ]"
   ]
  },
  {
   "cell_type": "markdown",
   "metadata": {},
   "source": [
    "# Zad.\n",
    "\n",
    "Proszę wykonać podstawową tekenizację biorąc pod uwagę:\n",
    "\n",
    " * bierzemy kolejne artykuły i dzieli go na tokeny\n",
    " * bierzemy listę tokenów i usuwamy punktory\n",
    " * bierzemy listę tokenów i usuwa liczby\n",
    " * bierzemy listę tokenów i zamieniamy na małe litery\n",
    "\n",
    "a następnie stworzyć reprezentację **Tf-Idf**.\n",
    "\n",
    "Użyj:\n",
    "\n",
    "```python\n",
    "from sklearn.feature_extraction.text import TfidfVectorizer\n",
    "```"
   ]
  },
  {
   "cell_type": "code",
   "execution_count": null,
   "metadata": {},
   "outputs": [],
   "source": []
  },
  {
   "cell_type": "markdown",
   "metadata": {
    "collapsed": true
   },
   "source": [
    "# Zad \n",
    "Ograniczmy się do 2 pierszych komponentów i narysujmy na płaszczyźnie nasze **piosenki**."
   ]
  },
  {
   "cell_type": "code",
   "execution_count": null,
   "metadata": {},
   "outputs": [],
   "source": []
  },
  {
   "cell_type": "markdown",
   "metadata": {
    "collapsed": true
   },
   "source": [
    "# Zad \n",
    "W zredukowanej przestrzeni proszę zaznaczyć\n",
    "\n",
    "```python\n",
    "query = [\"I love red roses\"]\n",
    "query_red = svd.transform( vectorizer.transform(query).todense() ) \n",
    "print(query_red)\n",
    "```"
   ]
  },
  {
   "cell_type": "code",
   "execution_count": null,
   "metadata": {
    "collapsed": true
   },
   "outputs": [],
   "source": []
  }
 ],
 "metadata": {
  "kernelspec": {
   "display_name": "Python 3",
   "language": "python",
   "name": "python3"
  },
  "language_info": {
   "codemirror_mode": {
    "name": "ipython",
    "version": 3
   },
   "file_extension": ".py",
   "mimetype": "text/x-python",
   "name": "python",
   "nbconvert_exporter": "python",
   "pygments_lexer": "ipython3",
   "version": "3.6.5"
  }
 },
 "nbformat": 4,
 "nbformat_minor": 2
}
