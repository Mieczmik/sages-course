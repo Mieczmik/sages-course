{
 "cells": [
  {
   "cell_type": "markdown",
   "metadata": {},
   "source": [
    "# Zobaczymy jak dokonywać transformacji tekstu. \n",
    "\n",
    "# Zad\n",
    "\n",
    "Na początek wczytujemy korpus z dysku. Użyjemy przykład stworzonego w poprzednim notebook-u."
   ]
  },
  {
   "cell_type": "code",
   "execution_count": 1,
   "metadata": {
    "collapsed": true
   },
   "outputs": [],
   "source": [
    "# Nie mam oryginalnego tekstu \n",
    "# documents = [\"Romeo and Juliet\",\n",
    "#          \"Juliet: O happy dagger\",\n",
    "#          \"Romeo died by dagger\",\n",
    "#          \"'Live free or die', that’s the New-Hampshire’s motto\",\n",
    "#          \"Did you know, New-Hampshire is in New-England\"]"
   ]
  },
  {
   "cell_type": "code",
   "execution_count": 2,
   "metadata": {},
   "outputs": [
    {
     "name": "stdout",
     "output_type": "stream",
     "text": [
      "Used files generated from first tutorial\n"
     ]
    }
   ],
   "source": [
    "from gensim import corpora, models, similarities, matutils\n",
    "import os \n",
    "import numpy as np\n",
    "if (os.path.exists(\"tmp/deerwester.dict\")):\n",
    "    dictionary = corpora.Dictionary.load('tmp/deerwester.dict')\n",
    "    corpus = corpora.MmCorpus('tmp/deerwester.mm')\n",
    "    print(\"Used files generated from first tutorial\")\n",
    "else:\n",
    "    print(\"Please run first tutorial to generate data set\")\n",
    "\n"
   ]
  },
  {
   "cell_type": "code",
   "execution_count": 36,
   "metadata": {},
   "outputs": [
    {
     "name": "stdout",
     "output_type": "stream",
     "text": [
      "[(0, 1.0), (1, 1.0)]\n",
      "[(2, 1.0), (3, 1.0), (4, 1.0), (5, 1.0)]\n",
      "[(1, 1.0), (2, 1.0), (6, 1.0), (7, 1.0)]\n",
      "[(8, 1.0), (9, 1.0), (10, 1.0), (11, 1.0), (12, 1.0), (13, 1.0), (14, 1.0)]\n",
      "[(15, 1.0), (16, 1.0), (17, 1.0), (18, 1.0), (19, 1.0), (20, 1.0)]\n"
     ]
    }
   ],
   "source": [
    "for d in corpus:\n",
    "    print(d)"
   ]
  },
  {
   "cell_type": "code",
   "execution_count": 37,
   "metadata": {},
   "outputs": [
    {
     "name": "stdout",
     "output_type": "stream",
     "text": [
      "[[1. 0. 0. 0. 0.]\n",
      " [1. 0. 1. 0. 0.]\n",
      " [0. 1. 1. 0. 0.]\n",
      " [0. 1. 0. 0. 0.]\n",
      " [0. 1. 0. 0. 0.]\n",
      " [0. 1. 0. 0. 0.]\n",
      " [0. 0. 1. 0. 0.]\n",
      " [0. 0. 1. 0. 0.]\n",
      " [0. 0. 0. 1. 0.]\n",
      " [0. 0. 0. 1. 0.]\n",
      " [0. 0. 0. 1. 0.]\n",
      " [0. 0. 0. 1. 0.]\n",
      " [0. 0. 0. 1. 0.]\n",
      " [0. 0. 0. 1. 0.]\n",
      " [0. 0. 0. 1. 0.]\n",
      " [0. 0. 0. 0. 1.]\n",
      " [0. 0. 0. 0. 1.]\n",
      " [0. 0. 0. 0. 1.]\n",
      " [0. 0. 0. 0. 1.]\n",
      " [0. 0. 0. 0. 1.]\n",
      " [0. 0. 0. 0. 1.]]\n"
     ]
    }
   ],
   "source": [
    "scipy_csc_matrix = matutils.corpus2csc(corpus)\n",
    "print(scipy_csc_matrix.todense())"
   ]
  },
  {
   "cell_type": "markdown",
   "metadata": {},
   "source": [
    "# Dokonujemy transformacji tfidf. \n",
    "\n",
    "Zaczynamy od policzenia wszyskich potrzebnych częstości na korpusie treningowym."
   ]
  },
  {
   "cell_type": "code",
   "execution_count": 38,
   "metadata": {
    "collapsed": true
   },
   "outputs": [],
   "source": [
    "tfidf = models.TfidfModel(corpus) # step 1 -- initialize a model"
   ]
  },
  {
   "cell_type": "markdown",
   "metadata": {},
   "source": [
    "Możemy teraz przekonwertować dowolny dokument."
   ]
  },
  {
   "cell_type": "code",
   "execution_count": 39,
   "metadata": {},
   "outputs": [
    {
     "name": "stdout",
     "output_type": "stream",
     "text": [
      "[(0, 0.869030105092481), (1, 0.49475921056909233)]\n"
     ]
    }
   ],
   "source": [
    "doc_bow = [(0, 1), (1, 1)]\n",
    "print(tfidf[doc_bow]) # step 2 -- use the model to transform vectors"
   ]
  },
  {
   "cell_type": "markdown",
   "metadata": {},
   "source": [
    "Możemy również przetransformować cały korpus."
   ]
  },
  {
   "cell_type": "code",
   "execution_count": 40,
   "metadata": {},
   "outputs": [
    {
     "name": "stdout",
     "output_type": "stream",
     "text": [
      "[(0, 0.869030105092481), (1, 0.49475921056909233)]\n",
      "[(2, 0.31226270667960454), (3, 0.5484803253891997), (4, 0.5484803253891997), (5, 0.5484803253891997)]\n",
      "[(1, 0.3498475928479082), (2, 0.3498475928479082), (6, 0.6144970803661514), (7, 0.6144970803661514)]\n",
      "[(8, 0.3779644730092272), (9, 0.3779644730092272), (10, 0.3779644730092272), (11, 0.3779644730092272), (12, 0.3779644730092272), (13, 0.3779644730092272), (14, 0.3779644730092272)]\n",
      "[(15, 0.4082482904638631), (16, 0.4082482904638631), (17, 0.4082482904638631), (18, 0.4082482904638631), (19, 0.4082482904638631), (20, 0.4082482904638631)]\n"
     ]
    }
   ],
   "source": [
    "corpus_tfidf = tfidf[corpus]\n",
    "for doc in corpus_tfidf:\n",
    "    print(doc)"
   ]
  },
  {
   "cell_type": "code",
   "execution_count": 41,
   "metadata": {},
   "outputs": [
    {
     "name": "stdout",
     "output_type": "stream",
     "text": [
      "[[0.86903011 0.         0.         0.         0.        ]\n",
      " [0.49475921 0.         0.34984759 0.         0.        ]\n",
      " [0.         0.31226271 0.34984759 0.         0.        ]\n",
      " [0.         0.54848033 0.         0.         0.        ]\n",
      " [0.         0.54848033 0.         0.         0.        ]\n",
      " [0.         0.54848033 0.         0.         0.        ]\n",
      " [0.         0.         0.61449708 0.         0.        ]\n",
      " [0.         0.         0.61449708 0.         0.        ]\n",
      " [0.         0.         0.         0.37796447 0.        ]\n",
      " [0.         0.         0.         0.37796447 0.        ]\n",
      " [0.         0.         0.         0.37796447 0.        ]\n",
      " [0.         0.         0.         0.37796447 0.        ]\n",
      " [0.         0.         0.         0.37796447 0.        ]\n",
      " [0.         0.         0.         0.37796447 0.        ]\n",
      " [0.         0.         0.         0.37796447 0.        ]\n",
      " [0.         0.         0.         0.         0.40824829]\n",
      " [0.         0.         0.         0.         0.40824829]\n",
      " [0.         0.         0.         0.         0.40824829]\n",
      " [0.         0.         0.         0.         0.40824829]\n",
      " [0.         0.         0.         0.         0.40824829]\n",
      " [0.         0.         0.         0.         0.40824829]]\n"
     ]
    }
   ],
   "source": [
    "scipy_csc_matrix = matutils.corpus2csc(corpus_tfidf)\n",
    "print(scipy_csc_matrix.todense())"
   ]
  },
  {
   "cell_type": "code",
   "execution_count": 42,
   "metadata": {},
   "outputs": [
    {
     "name": "stdout",
     "output_type": "stream",
     "text": [
      "{'juliet': 0, 'romeo': 1, 'dagger': 2, 'happy': 3, 'juliet:': 4, 'o': 5, 'by': 6, 'died': 7, \"'live\": 8, \"die',\": 9, 'free': 10, 'motto': 11, 'new-hampshire’s': 12, 'or': 13, 'that’s': 14, 'did': 15, 'is': 16, 'know,': 17, 'new-england': 18, 'new-hampshire': 19, 'you': 20}\n",
      "dict_keys(['juliet', 'romeo', 'dagger', 'happy', 'juliet:', 'o', 'by', 'died', \"'live\", \"die',\", 'free', 'motto', 'new-hampshire’s', 'or', 'that’s', 'did', 'is', 'know,', 'new-england', 'new-hampshire', 'you'])\n"
     ]
    }
   ],
   "source": [
    "print(dictionary.token2id)\n",
    "print(dictionary.token2id.keys())"
   ]
  },
  {
   "cell_type": "markdown",
   "metadata": {},
   "source": [
    "# Możemy dokonać transformacji LSI"
   ]
  },
  {
   "cell_type": "code",
   "execution_count": 118,
   "metadata": {
    "collapsed": true
   },
   "outputs": [],
   "source": [
    "lsi = models.LsiModel(corpus_tfidf, id2word=dictionary, num_topics=2) # initialize an LSI transformation\n",
    "corpus_lsi = lsi[corpus_tfidf] # create a double wrapper over the original corpus: bow->tfidf->fold-in-lsi\n"
   ]
  },
  {
   "cell_type": "markdown",
   "metadata": {},
   "source": [
    "Wypiszemy jak wyglądają wybrane kierunki."
   ]
  },
  {
   "cell_type": "code",
   "execution_count": 50,
   "metadata": {},
   "outputs": [
    {
     "data": {
      "text/plain": [
       "[(0,\n",
       "  '0.495*\"romeo\" + 0.473*\"juliet\" + 0.396*\"by\" + 0.396*\"died\" + 0.333*\"dagger\" + 0.189*\"o\" + 0.189*\"happy\" + 0.189*\"juliet:\" + -0.000*\"motto\" + -0.000*\"\\'live\"'),\n",
       " (1,\n",
       "  '-0.408*\"you\" + -0.408*\"did\" + -0.408*\"new-england\" + -0.408*\"new-hampshire\" + -0.408*\"know,\" + -0.408*\"is\" + 0.000*\"died\" + 0.000*\"happy\" + 0.000*\"o\" + 0.000*\"by\"')]"
      ]
     },
     "execution_count": 50,
     "metadata": {},
     "output_type": "execute_result"
    }
   ],
   "source": [
    "lsi.print_topics(2)"
   ]
  },
  {
   "cell_type": "code",
   "execution_count": 66,
   "metadata": {},
   "outputs": [
    {
     "data": {
      "text/plain": [
       "[(0, '0.495*\"romeo\" + 0.473*\"juliet\" + 0.396*\"by\" + 0.396*\"died\"'),\n",
       " (1,\n",
       "  '-0.408*\"did\" + -0.408*\"you\" + -0.408*\"new-hampshire\" + -0.408*\"new-england\"')]"
      ]
     },
     "execution_count": 66,
     "metadata": {},
     "output_type": "execute_result"
    }
   ],
   "source": [
    "lsi.print_topics(num_topics=2, num_words=4)"
   ]
  },
  {
   "cell_type": "code",
   "execution_count": 67,
   "metadata": {},
   "outputs": [
    {
     "data": {
      "text/plain": [
       "array([[ 4.73453671e-01,  4.94934691e-01,  3.32757917e-01,\n",
       "         1.88594904e-01,  1.88594904e-01,  1.88594904e-01,\n",
       "         3.95884660e-01,  3.95884660e-01, -4.02224357e-16,\n",
       "        -3.72631798e-16, -3.86408854e-16, -4.17107177e-16,\n",
       "        -3.25113951e-16, -3.57231142e-16, -3.67171947e-16,\n",
       "         4.85722573e-17,  6.24500451e-17,  4.85722573e-17,\n",
       "         5.55111512e-17,  5.55111512e-17,  4.85722573e-17],\n",
       "       [-5.55111512e-17, -3.31968229e-35,  9.71445147e-17,\n",
       "         1.80411242e-16,  5.55111512e-17,  1.80411242e-16,\n",
       "         1.38779227e-16,  1.94287681e-16,  7.89289148e-17,\n",
       "         6.41619092e-17,  7.11681637e-17,  8.92872771e-17,\n",
       "         7.50048633e-17,  7.49323023e-17,  7.64745915e-17,\n",
       "        -4.08248290e-01, -4.08248290e-01, -4.08248290e-01,\n",
       "        -4.08248290e-01, -4.08248290e-01, -4.08248290e-01]])"
      ]
     },
     "execution_count": 67,
     "metadata": {},
     "output_type": "execute_result"
    }
   ],
   "source": [
    "lsi.get_topics()"
   ]
  },
  {
   "cell_type": "markdown",
   "metadata": {},
   "source": [
    "### PYTANIE: z jakimi słowami wiąże się pierwszy temat a z jakimi drugi?"
   ]
  },
  {
   "cell_type": "markdown",
   "metadata": {},
   "source": [
    "# Zad\n",
    "\n",
    "Proszę posortować zdania najbardziej pasujące do danego tematu. "
   ]
  },
  {
   "cell_type": "code",
   "execution_count": 119,
   "metadata": {},
   "outputs": [
    {
     "name": "stdout",
     "output_type": "stream",
     "text": [
      "[[ 0.65631896  0.41422966  0.7761062   0.          0.        ]\n",
      " [-0.53372806  0.84565616  0.          0.          0.        ]]\n",
      "[(1, 1.0), (2, 1.0), (6, 1.0), (7, 1.0)]\n",
      "[(0, 1.0), (1, 1.0)]\n",
      "[(2, 1.0), (3, 1.0), (4, 1.0), (5, 1.0)]\n",
      "[(15, 1.0), (16, 1.0), (17, 1.0), (18, 1.0), (19, 1.0), (20, 1.0)]\n",
      "[(8, 1.0), (9, 1.0), (10, 1.0), (11, 1.0), (12, 1.0), (13, 1.0), (14, 1.0)]\n"
     ]
    }
   ],
   "source": [
    "numpy_corpus = matutils.corpus2dense(corpus_lsi, num_terms=2)\n",
    "print(numpy_corpus)\n",
    "topic_ind = 0\n",
    "docs = np.argsort( np.abs(numpy_corpus[0,:]) )[::-1]\n",
    "for x in docs[:5]:\n",
    "    print(corpus[x])\n"
   ]
  },
  {
   "cell_type": "code",
   "execution_count": 120,
   "metadata": {},
   "outputs": [
    {
     "name": "stdout",
     "output_type": "stream",
     "text": [
      "[(1, 1.0), (2, 1.0), (6, 1.0), (7, 1.0)]\n",
      "[(0, 1.0), (1, 1.0)]\n",
      "[(2, 1.0), (3, 1.0), (4, 1.0), (5, 1.0)]\n",
      "[(15, 1.0), (16, 1.0), (17, 1.0), (18, 1.0), (19, 1.0), (20, 1.0)]\n",
      "[(8, 1.0), (9, 1.0), (10, 1.0), (11, 1.0), (12, 1.0), (13, 1.0), (14, 1.0)]\n"
     ]
    }
   ],
   "source": [
    "topic_ind = 1\n",
    "docs = np.argsort(np.abs(numpy_corpus[0,:]) )[::-1]\n",
    "for x in docs[:5]:\n",
    "    print(corpus[x])   "
   ]
  },
  {
   "cell_type": "code",
   "execution_count": 71,
   "metadata": {
    "collapsed": true
   },
   "outputs": [],
   "source": [
    "documents = [\"Romeo and Juliet\",\n",
    "         \"Juliet: O happy dagger\",\n",
    "         \"Romeo died by dagger\",\n",
    "         \"'Live free or die', that’s the New-Hampshire’s motto\",\n",
    "         \"Did you know, New-Hampshire is in New-England\"]"
   ]
  },
  {
   "cell_type": "code",
   "execution_count": 116,
   "metadata": {},
   "outputs": [
    {
     "name": "stdout",
     "output_type": "stream",
     "text": [
      "Romeo died by dagger\n",
      "Romeo and Juliet\n",
      "Juliet: O happy dagger\n",
      "Did you know, New-Hampshire is in New-England\n",
      "'Live free or die', that’s the New-Hampshire’s motto\n"
     ]
    }
   ],
   "source": [
    "topic_ind = 0\n",
    "docs = np.argsort( np.abs(numpy_corpus[topic_ind,:]) )[::-1]\n",
    "for x in docs[:5]:\n",
    "#     print(corpus[x])\n",
    "    print(documents[x])"
   ]
  },
  {
   "cell_type": "code",
   "execution_count": 117,
   "metadata": {},
   "outputs": [
    {
     "name": "stdout",
     "output_type": "stream",
     "text": [
      "Did you know, New-Hampshire is in New-England\n",
      "'Live free or die', that’s the New-Hampshire’s motto\n",
      "Romeo died by dagger\n",
      "Juliet: O happy dagger\n",
      "Romeo and Juliet\n"
     ]
    }
   ],
   "source": [
    "topic_ind = 1\n",
    "docs = np.argsort( np.abs(numpy_corpus[topic_ind,:]) )[::-1]\n",
    "for x in docs[:5]:\n",
    "#     print(corpus[x])\n",
    "    print(documents[x])"
   ]
  },
  {
   "cell_type": "markdown",
   "metadata": {},
   "source": [
    "# Zad\n",
    "Zobaczmy jak wygląda reprezentacja naszych dokumentów."
   ]
  },
  {
   "cell_type": "code",
   "execution_count": 88,
   "metadata": {},
   "outputs": [
    {
     "data": {
      "text/plain": [
       "array([[ 0.65631896,  0.        ],\n",
       "       [ 0.41422966,  0.        ],\n",
       "       [ 0.7761062 ,  0.        ],\n",
       "       [ 0.        ,  0.        ],\n",
       "       [ 0.        , -1.        ]], dtype=float32)"
      ]
     },
     "execution_count": 88,
     "metadata": {},
     "output_type": "execute_result"
    }
   ],
   "source": [
    "docs_red = numpy_corpus.T\n",
    "docs_red"
   ]
  },
  {
   "cell_type": "code",
   "execution_count": 87,
   "metadata": {},
   "outputs": [
    {
     "data": {
      "image/png": "[encoded data removed]",
      "text/plain": [
       "<Figure size 432x288 with 1 Axes>"
      ]
     },
     "metadata": {},
     "output_type": "display_data"
    }
   ],
   "source": [
    "import matplotlib.pyplot as plt\n",
    "\n",
    "\n",
    "plt.plot(docs_red[:, 0], docs_red[:, 1], 'x')\n",
    "labels = [1,2,3,4,5]\n",
    "for label, x, y in zip(labels, docs_red[:, 0], docs_red[:, 1]):\n",
    "    plt.annotate(\n",
    "        label,\n",
    "        xy=(x, y), xytext=(-20, 20),\n",
    "        textcoords='offset points', ha='right', va='bottom',\n",
    "        bbox=dict(boxstyle='round,pad=0.5', fc='yellow', alpha=0.5),\n",
    "        arrowprops=dict(arrowstyle = '->', connectionstyle='arc3,rad=0'))\n",
    "plt.show()"
   ]
  },
  {
   "cell_type": "code",
   "execution_count": 92,
   "metadata": {
    "collapsed": true
   },
   "outputs": [],
   "source": [
    "query = [\"died\", \"dagger\"]"
   ]
  },
  {
   "cell_type": "code",
   "execution_count": 110,
   "metadata": {},
   "outputs": [
    {
     "name": "stdout",
     "output_type": "stream",
     "text": [
      "[[(7, 1)], [(2, 1)]]\n",
      "[[0. 0.]\n",
      " [0. 0.]\n",
      " [0. 1.]\n",
      " [0. 0.]\n",
      " [0. 0.]\n",
      " [0. 0.]\n",
      " [0. 0.]\n",
      " [1. 0.]]\n",
      "[[0.39588466 0.33275792]\n",
      " [0.         0.        ]]\n"
     ]
    }
   ],
   "source": [
    "new_vec = [dictionary.doc2bow(w.lower().split()) for w in query] \n",
    "print(new_vec) \n",
    "new_vec_tf = tfidf[new_vec]\n",
    "# print\n",
    "new_vec_tf_matrix = matutils.corpus2csc(new_vec_tf)\n",
    "print(new_vec_tf_matrix.todense())\n",
    "\n",
    "\n",
    "new_vec_tf_lsi = lsi[new_vec_tf] \n",
    "# print\n",
    "new_vec_tf_lsi_matrix = matutils.corpus2dense(new_vec_tf_lsi, num_terms=2)\n",
    "print(new_vec_tf_lsi_matrix)"
   ]
  },
  {
   "cell_type": "code",
   "execution_count": 111,
   "metadata": {},
   "outputs": [
    {
     "data": {
      "text/plain": [
       "array([[0.39588466, 0.        ],\n",
       "       [0.33275792, 0.        ]], dtype=float32)"
      ]
     },
     "execution_count": 111,
     "metadata": {},
     "output_type": "execute_result"
    }
   ],
   "source": [
    "query_red = new_vec_tf_lsi_matrix.T\n",
    "query_red"
   ]
  },
  {
   "cell_type": "code",
   "execution_count": 115,
   "metadata": {},
   "outputs": [
    {
     "data": {
      "image/png": "[encoded data removed]",
      "text/plain": [
       "<Figure size 432x288 with 1 Axes>"
      ]
     },
     "metadata": {},
     "output_type": "display_data"
    }
   ],
   "source": [
    "plt.plot(query_red[:, 0], query_red[:, 1], 'x')\n",
    "plt.plot(docs_red[:, 0], docs_red[:, 1], 'x')\n",
    "labels = [1,2,3,4,5]\n",
    "for label, x, y in zip(labels, docs_red[:, 0], docs_red[:, 1]):\n",
    "    plt.annotate(\n",
    "        label,\n",
    "        xy=(x, y), xytext=(-20, 20),\n",
    "        textcoords='offset points', ha='right', va='bottom',\n",
    "        bbox=dict(boxstyle='round,pad=0.5', fc='yellow', alpha=0.5),\n",
    "        arrowprops=dict(arrowstyle = '->', connectionstyle='arc3,rad=0'))\n",
    "labels = [\"died\", \"dagger\"]\n",
    "for label, x, y in zip(labels, query_red[:, 0], query_red[:, 1]):\n",
    "    plt.annotate(\n",
    "        label,\n",
    "        xy=(x, y), xytext=(-20, 20),\n",
    "        textcoords='offset points', ha='right', va='bottom',\n",
    "        bbox=dict(boxstyle='round,pad=0.5', fc='yellow', alpha=0.5),\n",
    "        arrowprops=dict(arrowstyle = '->', connectionstyle='arc3,rad=0'))\n",
    "plt.show()"
   ]
  },
  {
   "cell_type": "code",
   "execution_count": null,
   "metadata": {
    "collapsed": true
   },
   "outputs": [],
   "source": []
  }
 ],
 "metadata": {
  "kernelspec": {
   "display_name": "Python 3",
   "language": "python",
   "name": "python3"
  },
  "language_info": {
   "codemirror_mode": {
    "name": "ipython",
    "version": 3
   },
   "file_extension": ".py",
   "mimetype": "text/x-python",
   "name": "python",
   "nbconvert_exporter": "python",
   "pygments_lexer": "ipython3",
   "version": "3.6.7"
  }
 },
 "nbformat": 4,
 "nbformat_minor": 2
}
