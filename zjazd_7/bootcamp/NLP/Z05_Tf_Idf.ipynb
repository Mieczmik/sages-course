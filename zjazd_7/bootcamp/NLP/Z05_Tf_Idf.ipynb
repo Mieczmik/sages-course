{
 "cells": [
  {
   "cell_type": "markdown",
   "metadata": {},
   "source": [
    "# Przekształcenie Tf-Idf\n",
    "\n",
    "Przekształcenie to mierzy jak ważne są poszczególne słowa w poszczególnych dokumentach.\n",
    "\n",
    "Tf - term frequency - częstość słowa w dokumencie.\n",
    "\n",
    "Idf - inverse document frequency - odwrotność częstości słowa w zbiorze dokumentów.\n",
    "\n",
    "Wartość ważności słowa $w$ w dokumencie $d$ to:\n",
    "\n",
    "$$TFIDF(w,d) = tf(w,d) \\cdot idf(w).$$\n",
    "\n",
    "Istnieje wiele różnych wariantów tej miary. Podstawowa to:\n",
    "\n",
    "**tf(w,d)** - liczba wystąpień słowa $w$ w dokumencie $d$ podzielona przez liczbę wszystkich słów w dokumencie $d$;\n",
    "\n",
    "**idf(w)** - logarytm z liczby dokumentów w korpusie podzielonej przez liczbę dokumentów, w których wystąpiło słowo $w$.\n",
    "\n",
    "### https://en.wikipedia.org/wiki/Tf%E2%80%93idf\n"
   ]
  },
  {
   "cell_type": "markdown",
   "metadata": {},
   "source": [
    "# Zad\n",
    "Podzielmy zdania na słowa"
   ]
  },
  {
   "cell_type": "code",
   "execution_count": 1,
   "metadata": {},
   "outputs": [
    {
     "name": "stdout",
     "output_type": "stream",
     "text": [
      "['Hello Mr. Smith, how are you doing today?', 'The weather is great, and Python is awesome.', 'The sky is pinkish-blue.', \"You shouldn't eat cardboard.\", \"I'm 20 years old.\"]\n"
     ]
    }
   ],
   "source": [
    "from nltk.tokenize import sent_tokenize\n",
    "EXAMPLE_TEXT = \"Hello Mr. Smith, how are you doing today? The weather is great, and Python is awesome. The sky is pinkish-blue. You shouldn't eat cardboard. I'm 20 years old.\"\n",
    "sentences = sent_tokenize(EXAMPLE_TEXT)\n",
    "\n",
    "print(sentences)"
   ]
  },
  {
   "cell_type": "markdown",
   "metadata": {},
   "source": [
    "# Zad\n",
    "\n",
    "Wykonajmy transformatę Tf-Idf"
   ]
  },
  {
   "cell_type": "code",
   "execution_count": 13,
   "metadata": {},
   "outputs": [
    {
     "name": "stdout",
     "output_type": "stream",
     "text": [
      "{'hello': 9, 'mr': 12, 'smith': 18, 'how': 10, 'are': 2, 'you': 23, 'doing': 6, 'today': 20, 'the': 19, 'weather': 21, 'is': 11, 'great': 8, 'and': 1, 'python': 15, 'awesome': 3, 'sky': 17, 'pinkish': 14, 'blue': 4, 'shouldn': 16, 'eat': 7, 'cardboard': 5, '20': 0, 'years': 22, 'old': 13}\n",
      "----\n",
      "(5, 24)\n",
      "[[0.         0.         0.36152912 0.         0.         0.\n",
      "  0.36152912 0.         0.         0.36152912 0.36152912 0.\n",
      "  0.36152912 0.         0.         0.         0.         0.\n",
      "  0.36152912 0.         0.36152912 0.         0.         0.29167942]\n",
      " [0.         0.3480587  0.         0.3480587  0.         0.\n",
      "  0.         0.         0.3480587  0.         0.         0.56162314\n",
      "  0.         0.         0.         0.3480587  0.         0.\n",
      "  0.         0.28081157 0.         0.3480587  0.         0.        ]\n",
      " [0.         0.         0.         0.         0.48214012 0.\n",
      "  0.         0.         0.         0.         0.         0.38898761\n",
      "  0.         0.         0.48214012 0.         0.         0.48214012\n",
      "  0.         0.38898761 0.         0.         0.         0.        ]\n",
      " [0.         0.         0.         0.         0.         0.52335825\n",
      "  0.         0.52335825 0.         0.         0.         0.\n",
      "  0.         0.         0.         0.         0.52335825 0.\n",
      "  0.         0.         0.         0.         0.         0.42224214]\n",
      " [0.57735027 0.         0.         0.         0.         0.\n",
      "  0.         0.         0.         0.         0.         0.\n",
      "  0.         0.57735027 0.         0.         0.         0.\n",
      "  0.         0.         0.         0.         0.57735027 0.        ]]\n"
     ]
    }
   ],
   "source": [
    "from sklearn.feature_extraction.text import TfidfVectorizer\n",
    "\n",
    "tfidf_vectorizer = TfidfVectorizer()\n",
    "tfidf_matrix = tfidf_vectorizer.fit_transform(sentences)\n",
    "print( tfidf_vectorizer.vocabulary_ )\n",
    "print(\"----\")\n",
    "print(tfidf_matrix.todense().shape)\n",
    "print(tfidf_matrix.todense())"
   ]
  },
  {
   "cell_type": "markdown",
   "metadata": {},
   "source": [
    "# Zad\n",
    "\n",
    "Porównaj wynik Tf-Idf i reprezentacji bag-of-words"
   ]
  },
  {
   "cell_type": "code",
   "execution_count": 1,
   "metadata": {
    "collapsed": true
   },
   "outputs": [],
   "source": [
    "from sklearn.feature_extraction.text import CountVectorizer\n",
    "\n"
   ]
  },
  {
   "cell_type": "markdown",
   "metadata": {},
   "source": [
    "# Zad \n",
    "Wypisz 5 najważniejszych sów w każdym, zdaniu względem Tf-Idf"
   ]
  },
  {
   "cell_type": "code",
   "execution_count": 16,
   "metadata": {},
   "outputs": [
    {
     "name": "stdout",
     "output_type": "stream",
     "text": [
      "['hello' 'today' 'are' 'smith' 'doing']\n",
      "['is' 'weather' 'and' 'awesome' 'python']\n",
      "['sky' 'blue' 'pinkish' 'is' 'the']\n",
      "['cardboard' 'shouldn' 'eat' 'you' 'how']\n",
      "['20' 'old' 'years' 'how' 'and']\n"
     ]
    }
   ],
   "source": [
    "import numpy as np\n",
    "for i in range(len(sentences)):\n",
    "    print(np.array(tfidf_vectorizer.get_feature_names())[\n",
    "        tfidf_matrix.getrow(i).todense().argsort().A.flatten()[-5:][::-1]\n",
    "    ])"
   ]
  },
  {
   "cell_type": "markdown",
   "metadata": {},
   "source": [
    "#### Pytanie: do czego innego można zastosować TFIDF niż ważności słów w tekście?"
   ]
  },
  {
   "cell_type": "markdown",
   "metadata": {},
   "source": [
    "# Zad\n",
    "Porównaj wyniki z najczęstszymi słowami w kolejnych zdaniach"
   ]
  },
  {
   "cell_type": "code",
   "execution_count": 2,
   "metadata": {
    "collapsed": true
   },
   "outputs": [],
   "source": [
    "import numpy as np\n"
   ]
  },
  {
   "cell_type": "markdown",
   "metadata": {},
   "source": [
    "# Odległość między wektorami\n",
    "\n",
    "* Znaczenia wyrazów w semantyce dystrybucyjnej są reprezentowane przez wektory liczbowe.\n",
    "\n",
    "* Odległość między wektorami będziemy interpretować jako stopień podobieństwa reprezentowanych przez nie wyrazów.\n",
    "\n",
    "* Najpopularniejszą miarą odległości dla reprezentacji wektorowej jest miara kosinusowa. \n",
    "\n",
    "* Wyrazy podobne, tzn. takie, które opisują ściśle związane ze sobą pojęcia, powinny odpowiadać wektorom leżącym blisko siebie, co oznacza, że kąt pomiędzy nimi powinien być jak najmniejszy, a co za tym idzie, kosinus tego kąta powinien być bliski 1.\n",
    "\n",
    "* Wyrazy, które nie są ze sobą powiązane semantycznie powinny być reprezentowane przez wektory ortogonalne, a więc kosinus kąta pomiędzy nimi powinien być bliski 0."
   ]
  },
  {
   "cell_type": "markdown",
   "metadata": {},
   "source": [
    "# Różne odległości"
   ]
  },
  {
   "cell_type": "code",
   "execution_count": 17,
   "metadata": {
    "collapsed": true
   },
   "outputs": [],
   "source": [
    "import scipy.spatial.distance as dis"
   ]
  },
  {
   "cell_type": "markdown",
   "metadata": {},
   "source": [
    "# euclidean\n",
    "\n",
    "https://docs.scipy.org/doc/scipy/reference/generated/scipy.spatial.distance.euclidean.html#scipy.spatial.distance.euclidean"
   ]
  },
  {
   "cell_type": "code",
   "execution_count": 18,
   "metadata": {},
   "outputs": [
    {
     "data": {
      "image/png": "[encoded data removed]",
      "text/plain": [
       "<Figure size 360x360 with 1 Axes>"
      ]
     },
     "metadata": {},
     "output_type": "display_data"
    }
   ],
   "source": [
    "import matplotlib.pyplot as plt\n",
    "\n",
    "data = []\n",
    "for i in np.linspace(-2.0, 2.0, num=100):\n",
    "    for j in np.linspace(-2.0, 2.0, num=100):\n",
    "        if( dis.euclidean([0,0],[i,j]) < 1 ):\n",
    "            data.append( [i,j] )\n",
    "data = np.array(data)   \n",
    "\n",
    "plt.figure(figsize=(5,5));\n",
    "plt.scatter(data[:,0], data[:,1])\n",
    "plt.axis(\"equal\")\n",
    "plt.xlim(-3,3)\n",
    "plt.ylim(-3,3)\n",
    "plt.show()"
   ]
  },
  {
   "cell_type": "markdown",
   "metadata": {},
   "source": [
    "# cityblock\n",
    "\n",
    "https://docs.scipy.org/doc/scipy/reference/generated/scipy.spatial.distance.cityblock.html#scipy.spatial.distance.cityblock"
   ]
  },
  {
   "cell_type": "code",
   "execution_count": 19,
   "metadata": {},
   "outputs": [
    {
     "data": {
      "image/png": "[encoded data removed]",
      "text/plain": [
       "<Figure size 360x360 with 1 Axes>"
      ]
     },
     "metadata": {},
     "output_type": "display_data"
    }
   ],
   "source": [
    "data = []\n",
    "for i in np.linspace(-2.0, 2.0, num=100):\n",
    "    for j in np.linspace(-2.0, 2.0, num=100):\n",
    "        if( dis.cityblock([0,0],[i,j]) < 1 ): ########### zmien p = 1,2,3\n",
    "            data.append( [i,j] )\n",
    "data = np.array(data)   \n",
    "\n",
    "plt.figure(figsize=(5,5));\n",
    "plt.scatter(data[:,0], data[:,1])\n",
    "plt.axis(\"equal\")\n",
    "plt.xlim(-3,3)\n",
    "plt.ylim(-3,3)\n",
    "plt.show()"
   ]
  },
  {
   "cell_type": "markdown",
   "metadata": {},
   "source": [
    "# cosine\n",
    "\n",
    "https://docs.scipy.org/doc/scipy/reference/generated/scipy.spatial.distance.cosine.html#scipy.spatial.distance.cosine\n",
    "\n",
    "https://en.wikipedia.org/wiki/Cosine_similarity\n",
    "\n",
    "Miarą, która wydaje się być lepiej dopasowana do naszego przypadku jest ***podobieństwo cosinusowe***. Definiujemy je następująco:\n",
    "\n",
    "$$ sim(A, B) = \\frac{A \\cdot B}{\\|A\\| \\|B\\|} = \\frac{\\sum_{i=1}^{n}A_i B_i}{\\sqrt{\\sum_{i=1}^{n}A_i^2}\\sqrt{\\sum_{i=1}^{n}B_i^2}} $$\n",
    "\n",
    "Oczywiście łatwo wyprowadzić wzór na odległość:\n",
    "\n",
    "$$ dist(A, B) = 1 - sim(A, B) $$\n",
    "\n",
    "\n",
    "Mierzy ona podobieństwo wektorów na podstawie rozkładu wartości elementów (proporcji), a nie wartości bewzględnych. Matematycznie: podobieństwo jest określane na podstawie kąta pomiędzy wektorami (wartości cosinusa tego kąta), a nie na podstawie długości wektorów.\n",
    "\n",
    "\n",
    "https://en.wikipedia.org/wiki/Cosine_similarity"
   ]
  },
  {
   "cell_type": "code",
   "execution_count": 20,
   "metadata": {},
   "outputs": [
    {
     "data": {
      "image/png": "[encoded data removed]",
      "text/plain": [
       "<Figure size 360x360 with 1 Axes>"
      ]
     },
     "metadata": {},
     "output_type": "display_data"
    }
   ],
   "source": [
    "data = []\n",
    "data1 = []\n",
    "for i in np.linspace(-1., 1.0, num=10):\n",
    "    for j in np.linspace(-1., 1.0, num=10):\n",
    "        if( dis.cosine([0,1],[i,j]) < 1 ):\n",
    "            data.append( [i,j] )\n",
    "#         print(dis.cosine([0.1,0.1],[i,j]))\n",
    "        else:\n",
    "            data1.append( [i,j] )\n",
    "#             print(1)\n",
    "data = np.array(data)   \n",
    "data1 = np.array(data1)   \n",
    "\n",
    "plt.figure(figsize=(5,5));\n",
    "plt.scatter(data[:,0], data[:,1])\n",
    "plt.scatter(data1[:,0], data1[:,1])\n",
    "V = np.array([[0,1]])\n",
    "origin = [0], [0] # origin point\n",
    "\n",
    "plt.quiver(*origin, V[:,0], V[:,1], angles='xy', scale_units='xy', scale=1)\n",
    "plt.axis(\"equal\")\n",
    "plt.xlim(-2,2)\n",
    "plt.ylim(-2,2)\n",
    "plt.show()"
   ]
  },
  {
   "cell_type": "markdown",
   "metadata": {},
   "source": [
    "# Zad\n",
    "Jednym z zadań NLP jest wyszukiwanie dokumentów podobnych dla danego zapytania (wyszukiwarki internetowe).\n",
    "\n",
    "* Weźmy korpus dokumentów, jak poniżej. \n",
    "\n",
    "* Zadajemy zapytanie złorzone z \"dies, dagger\". \n",
    "\n",
    "* Prosze uszeregować dokumenty w kolejności od najbardziej pasujących. \n",
    "\n",
    "* Transformujemy query do naszej reprezentacji i liczymy odległość kosinusową (mnożenie wektorów i sumowanie)\n",
    "\n",
    "Policz odległość między zdaniami: \n",
    " * \"I eat an apple.\"\n",
    " * \"I ate the apple.\""
   ]
  },
  {
   "cell_type": "code",
   "execution_count": 62,
   "metadata": {},
   "outputs": [
    {
     "name": "stdout",
     "output_type": "stream",
     "text": [
      "['I ate the apple.', 'I eat an apple.', 'I eat an apple apple apple.']\n",
      "{'ate': 2, 'the': 4, 'apple': 1, 'eat': 3, 'an': 0}\n",
      "[[0 1 1 0 1]\n",
      " [1 1 0 1 0]\n",
      " [1 3 0 1 0]]\n"
     ]
    }
   ],
   "source": [
    "from sklearn.feature_extraction.text import CountVectorizer\n",
    "from nltk.tokenize import sent_tokenize\n",
    "\n",
    "sentences = [\"I ate the apple.\", \"I eat an apple.\", \"I eat an apple apple apple.\"]\n",
    "\n",
    "\n",
    "print(sentences)\n",
    "vectorizer = CountVectorizer()\n",
    "vectorizer.fit(sentences)\n",
    "print( vectorizer.vocabulary_ )\n",
    "bag_of_words = vectorizer.transform(sentences)\n",
    "print(bag_of_words.todense())"
   ]
  },
  {
   "cell_type": "code",
   "execution_count": 63,
   "metadata": {},
   "outputs": [
    {
     "name": "stdout",
     "output_type": "stream",
     "text": [
      "[0 1 1 0 1]\n",
      "[1 1 0 1 0]\n",
      "[1 3 0 1 0]\n"
     ]
    }
   ],
   "source": [
    "import numpy as np\n",
    "\n",
    "t1 = np.array(bag_of_words[0].todense()).flatten()\n",
    "t2 = np.array(bag_of_words[1].todense()).flatten()\n",
    "t3 = np.array(bag_of_words[2].todense()).flatten()\n",
    "print(t1)\n",
    "print(t2)\n",
    "print(t3)\n"
   ]
  },
  {
   "cell_type": "code",
   "execution_count": 64,
   "metadata": {},
   "outputs": [
    {
     "name": "stdout",
     "output_type": "stream",
     "text": [
      "0.6666666666666666\n",
      "0.4777670321329065\n",
      "----\n",
      "2.0\n",
      "2.8284271247461903\n",
      "----\n",
      "4\n",
      "6\n"
     ]
    }
   ],
   "source": [
    "from scipy.spatial.distance import cosine\n",
    "print(cosine(t1,t2))\n",
    "print(cosine(t1,t3))\n",
    "print(\"----\")\n",
    "print(dis.euclidean(t1,t2))\n",
    "print(dis.euclidean(t1,t3))\n",
    "print(\"----\")\n",
    "print(dis.cityblock(t1,t2))\n",
    "print(dis.cityblock(t1,t3))"
   ]
  },
  {
   "cell_type": "code",
   "execution_count": 65,
   "metadata": {},
   "outputs": [
    {
     "name": "stdout",
     "output_type": "stream",
     "text": [
      "{'ate': 2, 'the': 4, 'apple': 1, 'eat': 3, 'an': 0}\n",
      "----\n",
      "[[0.         0.38537163 0.65249088 0.         0.65249088]\n",
      " [0.61980538 0.48133417 0.         0.61980538 0.        ]\n",
      " [0.36691832 0.85483442 0.         0.36691832 0.        ]]\n",
      "[0.         0.38537163 0.65249088 0.         0.65249088]\n",
      "[0.61980538 0.48133417 0.         0.61980538 0.        ]\n",
      "[0.36691832 0.85483442 0.         0.36691832 0.        ]\n",
      "0.8145074680387873\n",
      "0.6705710669536487\n",
      "----\n",
      "1.2763286943720942\n",
      "1.1580769119135816\n",
      "----\n",
      "2.6405550701764873\n",
      "2.508281206659845\n"
     ]
    }
   ],
   "source": [
    "from sklearn.feature_extraction.text import TfidfVectorizer\n",
    "\n",
    "tfidf_vectorizer = TfidfVectorizer()\n",
    "tfidf_matrix = tfidf_vectorizer.fit_transform(sentences)\n",
    "print( tfidf_vectorizer.vocabulary_ )\n",
    "print(\"----\")\n",
    "print(tfidf_matrix.todense())\n",
    "\n",
    "t1 = np.array(tfidf_matrix[0].todense()).flatten()\n",
    "t2 = np.array(tfidf_matrix[1].todense()).flatten()\n",
    "t3 = np.array(tfidf_matrix[2].todense()).flatten()\n",
    "print(t1)\n",
    "print(t2)\n",
    "print(t3)\n",
    "\n",
    "print(cosine(t1,t2))\n",
    "print(cosine(t1,t3))\n",
    "print(\"----\")\n",
    "print(dis.euclidean(t1,t2))\n",
    "print(dis.euclidean(t1,t3))\n",
    "print(\"----\")\n",
    "print(dis.cityblock(t1,t2))\n",
    "print(dis.cityblock(t1,t3))"
   ]
  },
  {
   "cell_type": "markdown",
   "metadata": {},
   "source": [
    "### Wniosek: Odległość cosinsusowa jest typową odległością na tekstach - ważny jest tylko kąt a nie długość.\n",
    "\n",
    "# Zad\n",
    "Znajdź najbliższe zdanie z korpusu do zestwu słów:\n",
    "\n",
    "```python\n",
    "query = [\"dies\", \"dagger\"]\n",
    "```"
   ]
  },
  {
   "cell_type": "code",
   "execution_count": 3,
   "metadata": {
    "collapsed": true
   },
   "outputs": [],
   "source": [
    "corpus = [\"Romeo and Juliet\",\n",
    "         \"Juliet: O happy dagger\",\n",
    "         \"Romeo died by dagger\",\n",
    "         \"'Live free or die', that’s the New-Hampshire’s motto\",\n",
    "         \"Did you know, New-Hampshire is in New-England\"]"
   ]
  },
  {
   "cell_type": "code",
   "execution_count": 20,
   "metadata": {
    "collapsed": true
   },
   "outputs": [],
   "source": [
    "query = [\"dies\", \"dagger\"]"
   ]
  },
  {
   "cell_type": "markdown",
   "metadata": {},
   "source": [
    "Transformuje corpus"
   ]
  },
  {
   "cell_type": "code",
   "execution_count": 21,
   "metadata": {},
   "outputs": [
    {
     "name": "stdout",
     "output_type": "stream",
     "text": [
      "{'romeo': 10, 'juliet': 5, 'happi': 4, 'dagger': 1, 'die': 2, \"'live\": 0, 'free': 3, '’': 11, 'new-hampshir': 9, 'motto': 7, 'know': 6, 'new-england': 8}\n",
      "[[0.         0.         0.         0.         0.         0.70710678\n",
      "  0.         0.         0.         0.         0.70710678 0.        ]\n",
      " [0.         0.53177225 0.         0.         0.659118   0.53177225\n",
      "  0.         0.         0.         0.         0.         0.        ]\n",
      " [0.         0.57735027 0.57735027 0.         0.         0.\n",
      "  0.         0.         0.         0.         0.57735027 0.        ]\n",
      " [0.34706676 0.         0.28001128 0.34706676 0.         0.\n",
      "  0.         0.34706676 0.         0.28001128 0.         0.69413353]\n",
      " [0.         0.         0.         0.         0.         0.\n",
      "  0.61418897 0.         0.61418897 0.49552379 0.         0.        ]]\n"
     ]
    }
   ],
   "source": [
    "from nltk.corpus import stopwords\n",
    "import string\n",
    "from nltk.stem import PorterStemmer\n",
    "from nltk.tokenize import word_tokenize\n",
    "from sklearn.feature_extraction.text import TfidfVectorizer\n",
    "\n",
    "\n",
    "def my_tokenizer(sent):\n",
    "    tokens = word_tokenize(sent)\n",
    "    stemmer = PorterStemmer()\n",
    "    res = [stemmer.stem(word) for word in tokens]\n",
    "    return res \n",
    "\n",
    "\n",
    "vectorizer = TfidfVectorizer(tokenizer=my_tokenizer, stop_words=stopwords.words('english') + list(string.punctuation))\n",
    "vectorizer.fit(corpus)\n",
    "print(vectorizer.vocabulary_)\n",
    "data = vectorizer.transform(corpus)\n",
    "print(data.todense())\n"
   ]
  },
  {
   "cell_type": "markdown",
   "metadata": {},
   "source": [
    "Transformuje query"
   ]
  },
  {
   "cell_type": "code",
   "execution_count": 22,
   "metadata": {},
   "outputs": [
    {
     "name": "stdout",
     "output_type": "stream",
     "text": [
      "[[0. 0. 1. 0. 0. 0. 0. 0. 0. 0. 0. 0.]\n",
      " [0. 1. 0. 0. 0. 0. 0. 0. 0. 0. 0. 0.]]\n"
     ]
    }
   ],
   "source": [
    "import numpy as np\n",
    "query_data = vectorizer.transform(query)\n",
    "print(query_data.todense())\n"
   ]
  },
  {
   "cell_type": "markdown",
   "metadata": {},
   "source": [
    "Liczymy odległość kosinusową"
   ]
  },
  {
   "cell_type": "code",
   "execution_count": 23,
   "metadata": {},
   "outputs": [
    {
     "data": {
      "text/plain": [
       "matrix([[0.        , 0.        ],\n",
       "        [0.        , 0.53177225],\n",
       "        [0.57735027, 0.57735027],\n",
       "        [0.28001128, 0.        ],\n",
       "        [0.        , 0.        ]])"
      ]
     },
     "execution_count": 23,
     "metadata": {},
     "output_type": "execute_result"
    }
   ],
   "source": [
    "res = np.dot(data, query_data.T).todense()\n",
    "res"
   ]
  },
  {
   "cell_type": "markdown",
   "metadata": {},
   "source": [
    "### Wniosek: zapytanie \"dies, dagger\" najbardziej pasuje do \"Romeo died by dagger\""
   ]
  },
  {
   "cell_type": "code",
   "execution_count": null,
   "metadata": {
    "collapsed": true
   },
   "outputs": [],
   "source": []
  }
 ],
 "metadata": {
  "kernelspec": {
   "display_name": "Python 3",
   "language": "python",
   "name": "python3"
  },
  "language_info": {
   "codemirror_mode": {
    "name": "ipython",
    "version": 3
   },
   "file_extension": ".py",
   "mimetype": "text/x-python",
   "name": "python",
   "nbconvert_exporter": "python",
   "pygments_lexer": "ipython3",
   "version": "3.6.7"
  }
 },
 "nbformat": 4,
 "nbformat_minor": 2
}
