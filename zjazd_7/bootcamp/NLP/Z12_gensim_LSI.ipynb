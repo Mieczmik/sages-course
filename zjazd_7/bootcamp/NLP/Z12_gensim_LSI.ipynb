{
 "cells": [
  {
   "cell_type": "markdown",
   "metadata": {},
   "source": [
    "# Zobaczymy jak dokonywać transformacji tekstu. \n",
    "\n",
    "# Zad\n",
    "\n",
    "Na początek wczytujemy korpus z dysku. Użyjemy przykład stworzonego w poprzednim notebook-u."
   ]
  },
  {
   "cell_type": "code",
   "execution_count": 4,
   "metadata": {
    "collapsed": true
   },
   "outputs": [],
   "source": [
    "corpus = [\"Romeo and Juliet\",\n",
    "         \"Juliet: O happy dagger\",\n",
    "         \"Romeo died by dagger\",\n",
    "         \"'Live free or die', that’s the New-Hampshire’s motto\",\n",
    "         \"Did you know, New-Hampshire is in New-England\"]"
   ]
  },
  {
   "cell_type": "markdown",
   "metadata": {},
   "source": [
    "# Zad \n",
    "Dokonujemy transformacji tfidf w\n",
    "\n",
    "```python\n",
    "from sklearn.feature_extraction.text import TfidfVectorizer\n",
    "```"
   ]
  },
  {
   "cell_type": "code",
   "execution_count": 12,
   "metadata": {},
   "outputs": [],
   "source": [
    "from nltk.corpus import stopwords\n",
    "import string\n",
    "from nltk.stem import PorterStemmer\n",
    "from nltk.tokenize import word_tokenize\n",
    "from sklearn.feature_extraction.text import TfidfVectorizer\n",
    "\n",
    "def my_tokenizer(sent):\n",
    "    tokens = word_tokenize(sent)\n",
    "    stemmer = PorterStemmer()\n",
    "    res = [stemmer.stem(word) for word in tokens]\n",
    "    return res \n",
    "\n",
    "\n",
    "vectorizer = TfidfVectorizer(tokenizer=my_tokenizer, stop_words=stopwords.words('english') + list(string.punctuation))\n",
    "vectorizer.fit(corpus)\n",
    "\n",
    "tfidf_matrix = vectorizer.transform(corpus)"
   ]
  },
  {
   "cell_type": "markdown",
   "metadata": {},
   "source": [
    "# Zad\n",
    "Wczytujemy dane po transformacie to **gensis**"
   ]
  },
  {
   "cell_type": "code",
   "execution_count": 14,
   "metadata": {},
   "outputs": [],
   "source": [
    "from gensim import corpora, models, similarities, matutils\n",
    "import numpy as np\n",
    "\n",
    "corpus_sparse = matutils.Sparse2Corpus(tfidf_matrix, documents_columns=False)\n",
    "dictionary_list = vectorizer.get_feature_names()\n",
    "dictionary_sparse_dict = {i:j for i,j in enumerate(dictionary_list)}\n",
    "\n",
    "dictionary = corpora.Dictionary.from_corpus(corpus_sparse, id2word=dictionary_sparse_dict)"
   ]
  },
  {
   "cell_type": "markdown",
   "metadata": {},
   "source": [
    "# Możemy dokonać transformacji LSI"
   ]
  },
  {
   "cell_type": "code",
   "execution_count": 23,
   "metadata": {},
   "outputs": [],
   "source": [
    "# model = models.LdaModel(corpus=corpus_sparse, id2word=dictionary, num_topics=30\n",
    "\n",
    "lsi = models.LsiModel(corpus_sparse, id2word=dictionary, num_topics=2) # initialize an LSI transformation\n",
    "corpus_lsi = lsi[corpus_sparse] # create a double wrapper over the original corpus: bow->tfidf->fold-in-lsi"
   ]
  },
  {
   "cell_type": "markdown",
   "metadata": {},
   "source": [
    "Wypiszemy jak wyglądają wybrane kierunki."
   ]
  },
  {
   "cell_type": "code",
   "execution_count": 24,
   "metadata": {},
   "outputs": [
    {
     "data": {
      "text/plain": [
       "[(0,\n",
       "  '0.572*\"romeo\" + 0.536*\"juliet\" + 0.472*\"dagger\" + 0.282*\"die\" + 0.270*\"happi\" + 0.069*\"’\" + 0.037*\"new-hampshir\" + 0.034*\"motto\" + 0.034*\"free\" + 0.034*\"\\'live\"'),\n",
       " (1,\n",
       "  '0.493*\"new-hampshir\" + 0.463*\"’\" + 0.380*\"know\" + 0.380*\"new-england\" + 0.236*\"die\" + 0.231*\"motto\" + 0.231*\"free\" + 0.231*\"\\'live\" + -0.165*\"juliet\" + -0.094*\"happi\"')]"
      ]
     },
     "execution_count": 24,
     "metadata": {},
     "output_type": "execute_result"
    }
   ],
   "source": [
    "lsi.print_topics(2)"
   ]
  },
  {
   "cell_type": "code",
   "execution_count": 25,
   "metadata": {},
   "outputs": [
    {
     "data": {
      "text/plain": [
       "[(0, '0.572*\"romeo\" + 0.536*\"juliet\" + 0.472*\"dagger\" + 0.282*\"die\"'),\n",
       " (1, '0.493*\"new-hampshir\" + 0.463*\"’\" + 0.380*\"know\" + 0.380*\"new-england\"')]"
      ]
     },
     "execution_count": 25,
     "metadata": {},
     "output_type": "execute_result"
    }
   ],
   "source": [
    "lsi.print_topics(num_topics=2, num_words=4)"
   ]
  },
  {
   "cell_type": "code",
   "execution_count": 26,
   "metadata": {},
   "outputs": [
    {
     "data": {
      "text/plain": [
       "array([[ 0.03446732,  0.47190249,  0.28152494,  0.03446732,  0.27043539,\n",
       "         0.53646271,  0.01141615,  0.03446732,  0.01141615,  0.0370185 ,\n",
       "         0.57199406,  0.06893465],\n",
       "       [ 0.23125355, -0.02659373,  0.23559612,  0.23125355, -0.09372401,\n",
       "        -0.16459705,  0.37998461,  0.23125355,  0.37998461,  0.4931431 ,\n",
       "        -0.03995889,  0.46250709]])"
      ]
     },
     "execution_count": 26,
     "metadata": {},
     "output_type": "execute_result"
    }
   ],
   "source": [
    "lsi.get_topics()"
   ]
  },
  {
   "cell_type": "markdown",
   "metadata": {},
   "source": [
    "### PYTANIE: z jakimi słowami wiąże się pierwszy temat a z jakimi drugi?"
   ]
  },
  {
   "cell_type": "markdown",
   "metadata": {},
   "source": [
    "# Zad\n",
    "\n",
    "Proszę posortować zdania najbardziej pasujące do danego tematu. "
   ]
  },
  {
   "cell_type": "code",
   "execution_count": 47,
   "metadata": {},
   "outputs": [
    {
     "name": "stdout",
     "output_type": "stream",
     "text": [
      "[[ 0.7837973   0.7144695   0.76523244  0.172933    0.0323669 ]\n",
      " [-0.14464289 -0.16344513  0.09759731  0.76587814  0.71112883]]\n",
      "Romeo and Juliet\n",
      "Romeo died by dagger\n",
      "Juliet: O happy dagger\n",
      "'Live free or die', that’s the New-Hampshire’s motto\n",
      "Did you know, New-Hampshire is in New-England\n"
     ]
    }
   ],
   "source": [
    "numpy_corpus = matutils.corpus2dense(corpus_lsi, num_terms=2)\n",
    "print(numpy_corpus)\n",
    "topic_ind = 0\n",
    "docs = np.argsort(numpy_corpus[topic_ind,:])[::-1]\n",
    "for x in docs[:5]:\n",
    "    print(corpus[x])\n"
   ]
  },
  {
   "cell_type": "code",
   "execution_count": 48,
   "metadata": {},
   "outputs": [
    {
     "name": "stdout",
     "output_type": "stream",
     "text": [
      "'Live free or die', that’s the New-Hampshire’s motto\n",
      "Did you know, New-Hampshire is in New-England\n",
      "Romeo died by dagger\n",
      "Romeo and Juliet\n",
      "Juliet: O happy dagger\n"
     ]
    }
   ],
   "source": [
    "topic_ind = 1\n",
    "docs = np.argsort(numpy_corpus[topic_ind,:])[::-1]\n",
    "for x in docs[:5]:\n",
    "    print(corpus[x])   "
   ]
  },
  {
   "cell_type": "code",
   "execution_count": 29,
   "metadata": {
    "collapsed": true
   },
   "outputs": [],
   "source": [
    "documents = [\"Romeo and Juliet\",\n",
    "         \"Juliet: O happy dagger\",\n",
    "         \"Romeo died by dagger\",\n",
    "         \"'Live free or die', that’s the New-Hampshire’s motto\",\n",
    "         \"Did you know, New-Hampshire is in New-England\"]"
   ]
  },
  {
   "cell_type": "code",
   "execution_count": 30,
   "metadata": {},
   "outputs": [
    {
     "name": "stdout",
     "output_type": "stream",
     "text": [
      "Romeo and Juliet\n",
      "Romeo died by dagger\n",
      "Juliet: O happy dagger\n",
      "'Live free or die', that’s the New-Hampshire’s motto\n",
      "Did you know, New-Hampshire is in New-England\n"
     ]
    }
   ],
   "source": [
    "topic_ind = 0\n",
    "docs = np.argsort( np.abs(numpy_corpus[topic_ind,:]) )[::-1]\n",
    "for x in docs[:5]:\n",
    "#     print(corpus[x])\n",
    "    print(documents[x])"
   ]
  },
  {
   "cell_type": "code",
   "execution_count": 31,
   "metadata": {},
   "outputs": [
    {
     "name": "stdout",
     "output_type": "stream",
     "text": [
      "'Live free or die', that’s the New-Hampshire’s motto\n",
      "Did you know, New-Hampshire is in New-England\n",
      "Juliet: O happy dagger\n",
      "Romeo and Juliet\n",
      "Romeo died by dagger\n"
     ]
    }
   ],
   "source": [
    "topic_ind = 1\n",
    "docs = np.argsort( np.abs(numpy_corpus[topic_ind,:]) )[::-1]\n",
    "for x in docs[:5]:\n",
    "#     print(corpus[x])\n",
    "    print(documents[x])"
   ]
  },
  {
   "cell_type": "markdown",
   "metadata": {},
   "source": [
    "# Zad\n",
    "Zobaczmy jak wygląda reprezentacja naszych dokumentów."
   ]
  },
  {
   "cell_type": "code",
   "execution_count": 32,
   "metadata": {},
   "outputs": [
    {
     "data": {
      "text/plain": [
       "array([[ 0.7837973 , -0.14464289],\n",
       "       [ 0.7144695 , -0.16344513],\n",
       "       [ 0.76523244,  0.09759731],\n",
       "       [ 0.172933  ,  0.76587814],\n",
       "       [ 0.0323669 ,  0.71112883]], dtype=float32)"
      ]
     },
     "execution_count": 32,
     "metadata": {},
     "output_type": "execute_result"
    }
   ],
   "source": [
    "docs_red = numpy_corpus.T\n",
    "docs_red"
   ]
  },
  {
   "cell_type": "code",
   "execution_count": 33,
   "metadata": {},
   "outputs": [
    {
     "data": {
      "image/png": "[encoded data removed]",
      "text/plain": [
       "<Figure size 432x288 with 1 Axes>"
      ]
     },
     "metadata": {},
     "output_type": "display_data"
    }
   ],
   "source": [
    "import matplotlib.pyplot as plt\n",
    "\n",
    "\n",
    "plt.plot(docs_red[:, 0], docs_red[:, 1], 'x')\n",
    "labels = [1,2,3,4,5]\n",
    "for label, x, y in zip(labels, docs_red[:, 0], docs_red[:, 1]):\n",
    "    plt.annotate(\n",
    "        label,\n",
    "        xy=(x, y), xytext=(-20, 20),\n",
    "        textcoords='offset points', ha='right', va='bottom',\n",
    "        bbox=dict(boxstyle='round,pad=0.5', fc='yellow', alpha=0.5),\n",
    "        arrowprops=dict(arrowstyle = '->', connectionstyle='arc3,rad=0'))\n",
    "plt.show()"
   ]
  },
  {
   "cell_type": "code",
   "execution_count": 43,
   "metadata": {},
   "outputs": [
    {
     "name": "stdout",
     "output_type": "stream",
     "text": [
      "  (0, 2)\t1.0\n",
      "  (1, 1)\t1.0\n"
     ]
    }
   ],
   "source": [
    "query = [\"dies\", \"dagger\"]\n",
    "query_red = vectorizer.transform( query) \n",
    "print(query_red)\n",
    "\n",
    "new_vec_tf = matutils.Sparse2Corpus(query_red, documents_columns=False)"
   ]
  },
  {
   "cell_type": "code",
   "execution_count": 44,
   "metadata": {},
   "outputs": [
    {
     "name": "stdout",
     "output_type": "stream",
     "text": [
      "[[ 0.28152493  0.4719025 ]\n",
      " [ 0.23559612 -0.02659373]]\n"
     ]
    }
   ],
   "source": [
    "# new_vec = [dictionary.doc2bow(w.lower().split()) for w in query] \n",
    "# print(new_vec) \n",
    "# new_vec_tf = tfidf[new_vec]\n",
    "# # print\n",
    "# new_vec_tf_matrix = matutils.corpus2csc(new_vec_tf)\n",
    "# print(new_vec_tf_matrix.todense())\n",
    "\n",
    "\n",
    "new_vec_tf_lsi = lsi[new_vec_tf] \n",
    "# print\n",
    "new_vec_tf_lsi_matrix = matutils.corpus2dense(new_vec_tf_lsi, num_terms=2)\n",
    "print(new_vec_tf_lsi_matrix)"
   ]
  },
  {
   "cell_type": "code",
   "execution_count": 45,
   "metadata": {},
   "outputs": [
    {
     "data": {
      "text/plain": [
       "array([[ 0.28152493,  0.23559612],\n",
       "       [ 0.4719025 , -0.02659373]], dtype=float32)"
      ]
     },
     "execution_count": 45,
     "metadata": {},
     "output_type": "execute_result"
    }
   ],
   "source": [
    "query_red = new_vec_tf_lsi_matrix.T\n",
    "query_red"
   ]
  },
  {
   "cell_type": "code",
   "execution_count": 46,
   "metadata": {},
   "outputs": [
    {
     "data": {
      "image/png": "[encoded data removed]",
      "text/plain": [
       "<Figure size 432x288 with 1 Axes>"
      ]
     },
     "metadata": {},
     "output_type": "display_data"
    }
   ],
   "source": [
    "plt.plot(query_red[:, 0], query_red[:, 1], 'x')\n",
    "plt.plot(docs_red[:, 0], docs_red[:, 1], 'x')\n",
    "labels = [1,2,3,4,5]\n",
    "for label, x, y in zip(labels, docs_red[:, 0], docs_red[:, 1]):\n",
    "    plt.annotate(\n",
    "        label,\n",
    "        xy=(x, y), xytext=(-20, 20),\n",
    "        textcoords='offset points', ha='right', va='bottom',\n",
    "        bbox=dict(boxstyle='round,pad=0.5', fc='yellow', alpha=0.5),\n",
    "        arrowprops=dict(arrowstyle = '->', connectionstyle='arc3,rad=0'))\n",
    "labels = [\"died\", \"dagger\"]\n",
    "for label, x, y in zip(labels, query_red[:, 0], query_red[:, 1]):\n",
    "    plt.annotate(\n",
    "        label,\n",
    "        xy=(x, y), xytext=(-20, 20),\n",
    "        textcoords='offset points', ha='right', va='bottom',\n",
    "        bbox=dict(boxstyle='round,pad=0.5', fc='yellow', alpha=0.5),\n",
    "        arrowprops=dict(arrowstyle = '->', connectionstyle='arc3,rad=0'))\n",
    "plt.show()"
   ]
  },
  {
   "cell_type": "code",
   "execution_count": null,
   "metadata": {
    "collapsed": true
   },
   "outputs": [],
   "source": []
  }
 ],
 "metadata": {
  "kernelspec": {
   "display_name": "Python 3",
   "language": "python",
   "name": "python3"
  },
  "language_info": {
   "codemirror_mode": {
    "name": "ipython",
    "version": 3
   },
   "file_extension": ".py",
   "mimetype": "text/x-python",
   "name": "python",
   "nbconvert_exporter": "python",
   "pygments_lexer": "ipython3",
   "version": "3.6.7"
  }
 },
 "nbformat": 4,
 "nbformat_minor": 2
}
