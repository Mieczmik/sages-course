{
 "cells": [
  {
   "cell_type": "markdown",
   "metadata": {},
   "source": [
    "# Zadanie\n",
    "Wygenerujmy $100$ elementową próbkę z rozkładu normalnego ze średnią $7$ i odchyleniem standardowym $3$. "
   ]
  },
  {
   "cell_type": "code",
   "execution_count": 1,
   "metadata": {},
   "outputs": [],
   "source": [
    "import numpy as np\n",
    "import matplotlib.pyplot as plt\n",
    "import scipy.stats as stats\n",
    "import seaborn as sns"
   ]
  },
  {
   "cell_type": "code",
   "execution_count": 2,
   "metadata": {},
   "outputs": [],
   "source": [
    "np.random.seed(12345)\n",
    "data = stats.norm(7,3).rvs(100)\n",
    "n=data.size"
   ]
  },
  {
   "cell_type": "markdown",
   "metadata": {},
   "source": [
    "## Średnia z próbki jest bliska ale różna od rzeczywistej średniej."
   ]
  },
  {
   "cell_type": "code",
   "execution_count": 3,
   "metadata": {},
   "outputs": [
    {
     "name": "stdout",
     "output_type": "stream",
     "text": [
      "Real mean: 7.000; Sample mean: 7.101\n",
      "Real SD: 3.000; Sample SD: 3.121\n"
     ]
    }
   ],
   "source": [
    "meanVal = np.mean(data)\n",
    "n=data.size\n",
    "stdVal = np.std(data, ddof=1)\n",
    "print('Real mean: {0:5.3f}; Sample mean: {1:5.3f}'.format(7, meanVal))\n",
    "print('Real SD: {0:5.3f}; Sample SD: {1:5.3f}'.format(3, stdVal))"
   ]
  },
  {
   "cell_type": "markdown",
   "metadata": {},
   "source": [
    "Zapomnijmy, o tym, że wiemy z jakiego rozkładu pochodzi próbka i wykonajmy <tt>one sample t-test</tt> dwoma sposobami."
   ]
  },
  {
   "cell_type": "code",
   "execution_count": 4,
   "metadata": {},
   "outputs": [],
   "source": [
    "checkVal=7"
   ]
  },
  {
   "cell_type": "markdown",
   "metadata": {},
   "source": [
    "## Wyliczmy wartość statystyki\n",
    "$$\n",
    "t=\\frac{\\bar X - \\mu_0}{S} \\sqrt{n-1}\n",
    "$$\n",
    "lub równoważnie \n",
    "$$\n",
    "t=\\frac{\\bar X - \\mu_0}{SE(x)} \n",
    "$$\n"
   ]
  },
  {
   "cell_type": "code",
   "execution_count": 5,
   "metadata": {},
   "outputs": [
    {
     "name": "stdout",
     "output_type": "stream",
     "text": [
      "tVal_1 for 7: -0.32312231\n",
      "tVal_2 for 7: -0.32312231\n"
     ]
    }
   ],
   "source": [
    "tVal_1 = - np.abs( (checkVal-meanVal) / stats.sem(data) )\n",
    "print('tVal_1 for {0}: {1:5.8f}'.format(checkVal, tVal_1))\n",
    "tVal_2 = - np.abs( (checkVal-meanVal)/np.std(data, ddof=0)*np.sqrt(n-1) )\n",
    "print('tVal_2 for {0}: {1:5.8f}'.format(checkVal, tVal_2))"
   ]
  },
  {
   "cell_type": "markdown",
   "metadata": {},
   "source": [
    "## Wyznaczny p-value"
   ]
  },
  {
   "cell_type": "code",
   "execution_count": 6,
   "metadata": {},
   "outputs": [
    {
     "name": "stdout",
     "output_type": "stream",
     "text": [
      "t-statistic=-0.32312231, p=0.7473\n"
     ]
    }
   ],
   "source": [
    "X=stats.t(n-1)\n",
    "p = X.cdf(-np.abs(tVal_1))+X.sf(np.abs(tVal_1))\n",
    "print('t-statistic={0:1.8f}, p={1:6.4f}'.format(float(tVal_1), p))"
   ]
  },
  {
   "cell_type": "markdown",
   "metadata": {},
   "source": [
    "Wykonajmy analogiczny test za pomoca funkcji <tt>ttest_1samp</tt>"
   ]
  },
  {
   "cell_type": "code",
   "execution_count": 7,
   "metadata": {},
   "outputs": [
    {
     "name": "stdout",
     "output_type": "stream",
     "text": [
      "t-statistic=0.32312231, p=0.7473\n"
     ]
    }
   ],
   "source": [
    "# Compare this with the output of the t-test\n",
    "(tstatistic, pVal) = stats.ttest_1samp(data, checkVal)\n",
    "print('t-statistic={0:1.8f}, p={1:6.4f}'.format(float(tstatistic), pVal))"
   ]
  },
  {
   "cell_type": "markdown",
   "metadata": {},
   "source": [
    "Narysuj gęstość rozkłądu normalnego. Zaznacz prawdziwą średnią i średią z próbki. Na odzielnym rysunku narysuj gęstość roakładu t-studentsa i zazncza obszar, który wyznacza p-wartość. "
   ]
  },
  {
   "cell_type": "code",
   "execution_count": 9,
   "metadata": {},
   "outputs": [
    {
     "name": "stderr",
     "output_type": "stream",
     "text": [
      "C:\\ProgramData\\Anaconda3\\lib\\site-packages\\ipykernel_launcher.py:9: MatplotlibDeprecationWarning: \n",
      "The 'normed' kwarg was deprecated in Matplotlib 2.1 and will be removed in 3.1. Use 'density' instead.\n",
      "  if __name__ == '__main__':\n"
     ]
    },
    {
     "data": {
      "image/png": "[encoded data removed]",
      "text/plain": [
       "<Figure size 432x288 with 2 Axes>"
      ]
     },
     "metadata": {
      "needs_background": "light"
     },
     "output_type": "display_data"
    }
   ],
   "source": [
    "tVal=np.abs(tVal_1)\n",
    "# Prepare the plot\n",
    "fig, axs = plt.subplots(1,2)\n",
    "# Left plot ------------------------------------\n",
    "# Plot the histogram of the data, superposed with the normal fit\n",
    "xval = np.linspace(-5,20, 100)\n",
    "yval = stats.norm(meanVal,stdVal).pdf(xval)\n",
    "\n",
    "axs[0].hist(data, normed=True, color='#eeefff')\n",
    "axs[0].plot(xval, yval, 'g', label='normal-fit')\n",
    "axs[0].set_title('Recorded data')\n",
    "axs[0].legend()\n",
    "#Mark the mean value, as well as the value of interest \n",
    "axs[0].plot(checkVal, 0, marker='d', color='r', ms=15)\n",
    "axs[0].plot(meanVal, 0, marker='d', color='y', ms=15)\n",
    "axs[0].set_xlabel('Value [x]')\n",
    "axs[0].set_ylabel('Density(x)')\n",
    "\n",
    "# Right plot ------------------------------------\n",
    "# The corrsponding t-distribution\n",
    "xv2 = np.linspace(-4,4, 100)\n",
    "yv2 = stats.t(len(data)-1).pdf(xv2)\n",
    "tFill = yv2.copy()\n",
    "tFill[(xv2>-tstatistic) & (xv2<tstatistic)] = 0\n",
    "axs[1].plot(xv2, yv2, label='df=n-1')\n",
    "axs[1].fill_between(xv2, tFill, color='r', alpha=0.3, lw=0)\n",
    "axs[1].plot(tVal, 0, 'rd', ms=15)\n",
    "axs[1].plot(0, 0, 'yd', ms=15)\n",
    "axs[1].set_xlabel('t-statistic')\n",
    "axs[1].set_title('t-distribution PDF')\n",
    "axs[1].legend()\n",
    "plt.show()"
   ]
  },
  {
   "cell_type": "markdown",
   "metadata": {},
   "source": [
    "# Zadanie\n",
    "Zweryfikuj hipotezę:\n",
    "\n",
    "$H_0$: $\\mu=7$ przy hipotezie alternatywnej $H_1$: $\\mu <7$"
   ]
  },
  {
   "cell_type": "markdown",
   "metadata": {},
   "source": [
    "### Możemy to zrobić ręcznie"
   ]
  },
  {
   "cell_type": "code",
   "execution_count": 48,
   "metadata": {},
   "outputs": [
    {
     "name": "stdout",
     "output_type": "stream",
     "text": [
      "( -inf , -1.660)\n"
     ]
    }
   ],
   "source": [
    "t = (checkVal-meanVal) / stats.sem(data)\n",
    "alpha=0.05\n",
    "L=-np.infty\n",
    "R=-X.ppf(1-alpha)\n",
    "print(r'( %3.3f , %3.3f)' % (L,R))"
   ]
  },
  {
   "cell_type": "code",
   "execution_count": 49,
   "metadata": {},
   "outputs": [
    {
     "name": "stdout",
     "output_type": "stream",
     "text": [
      "Wartość statystyki nie należy do przedziału krytycznego więc nie ma podstaw by odrzucić hipotezę H_0\n"
     ]
    }
   ],
   "source": [
    "if t < R:\n",
    "    print(\"Wartość statystyki należy do przedziału krytycznego więc odrzucamy hipotezę H_0\")\n",
    "else:\n",
    "    print(\"Wartość statystyki nie należy do przedziału krytycznego więc nie ma podstaw by odrzucić hipotezę H_0\")"
   ]
  },
  {
   "cell_type": "code",
   "execution_count": 50,
   "metadata": {},
   "outputs": [
    {
     "name": "stdout",
     "output_type": "stream",
     "text": [
      "0.37364205914399573\n"
     ]
    }
   ],
   "source": [
    "p = X.cdf(t)\n",
    "print(p)"
   ]
  },
  {
   "cell_type": "code",
   "execution_count": 51,
   "metadata": {},
   "outputs": [
    {
     "name": "stdout",
     "output_type": "stream",
     "text": [
      "Nie ma podstaw by odrzucić hipotezę zerową H_0\n"
     ]
    }
   ],
   "source": [
    "if(p < alpha):\n",
    "    print(\"Odrzucam hipotezę zerową H_0\")\n",
    "else:        \n",
    "    print(\"Nie ma podstaw by odrzucić hipotezę zerową H_0\")"
   ]
  },
  {
   "cell_type": "code",
   "execution_count": 52,
   "metadata": {},
   "outputs": [
    {
     "name": "stdout",
     "output_type": "stream",
     "text": [
      "t-statistic=-0.32312231, p=0.3736\n"
     ]
    }
   ],
   "source": [
    "print('t-statistic={0:1.8f}, p={1:6.4f}'.format(float(t), p))"
   ]
  },
  {
   "cell_type": "markdown",
   "metadata": {},
   "source": [
    "### Wykonaj zadanie za pomocą <tt>ttest_1samp</tt>"
   ]
  },
  {
   "cell_type": "code",
   "execution_count": null,
   "metadata": {
    "collapsed": true
   },
   "outputs": [],
   "source": []
  },
  {
   "cell_type": "markdown",
   "metadata": {
    "collapsed": true
   },
   "source": [
    "# Zadanie\n",
    "\n",
    "W celu ustalenia, czy dotychczasowa norma okresu użytkowania ubrań ochronnych -- wynosząca $150$ dni -- nie jest zbyt wysoka, zbadano faktyczny okres  użytkowania ich na przykładzie $10$ losowo wybranych robotników pracujących w normalnych warunkach. Otrzymano próbkę [120, 160, 130, 170, 134, 156, 175, 123, 148, 175]. Zakładając, że czas użytkowania ubrań ma rozkład normalny, stwierdzić, na poziomie istotności $\\alpha = 0.01$, czy uzyskane wyniki stanowią podstawę do:\n",
    "\n",
    "<ul>\n",
    "<li> zmiany normy </li>\n",
    "<li> zmniejszenia normy </li>\n",
    "<li> zwiększenia normy </li>\n",
    "</ul>\n"
   ]
  },
  {
   "cell_type": "code",
   "execution_count": null,
   "metadata": {},
   "outputs": [],
   "source": []
  }
 ],
 "metadata": {
  "kernelspec": {
   "display_name": "Python 3",
   "language": "python",
   "name": "python3"
  },
  "language_info": {
   "codemirror_mode": {
    "name": "ipython",
    "version": 3
   },
   "file_extension": ".py",
   "mimetype": "text/x-python",
   "name": "python",
   "nbconvert_exporter": "python",
   "pygments_lexer": "ipython3",
   "version": "3.7.3"
  }
 },
 "nbformat": 4,
 "nbformat_minor": 2
}
