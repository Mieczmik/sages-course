{
 "cells": [
  {
   "cell_type": "code",
   "execution_count": 1,
   "metadata": {},
   "outputs": [
    {
     "name": "stdout",
     "output_type": "stream",
     "text": [
      "1.15.0\n",
      "2.3.1\n"
     ]
    },
    {
     "name": "stderr",
     "output_type": "stream",
     "text": [
      "Using TensorFlow backend.\n"
     ]
    }
   ],
   "source": [
    "import numpy as np\n",
    "import tensorflow as tf\n",
    "print(tf.__version__)\n",
    "import keras\n",
    "print(keras.__version__)\n",
    "# from tensorflow import keras as keras \n",
    "from numpy.random import seed\n",
    "seed(123)\n",
    "from tensorflow import set_random_seed\n",
    "set_random_seed(123)"
   ]
  },
  {
   "cell_type": "markdown",
   "metadata": {},
   "source": [
    "# Zad\n",
    "Porównaj wyniki działań różnych optymalizacji\n",
    "* \n",
    "```python\n",
    "sgd = keras.optimizers.SGD(lr=0.01, decay=1e-6, momentum=0.9, nesterov=True)\n",
    "```\n",
    "* \n",
    "```python\n",
    "sgd = keras.optimizers.SGD(lr=0.01, decay=1e-6, momentum=0.9, nesterov=True)\n",
    "```\n",
    "* \n",
    "```python\n",
    "RMSprop = keras.optimizers.RMSprop(learning_rate=0.001, rho=0.9)\n",
    "```\n",
    "* \n",
    "```python\n",
    "Adagrad = keras.optimizers.Adagrad(learning_rate=0.01)\n",
    "```\n",
    "* \n",
    "```python\n",
    "Adadelta = keras.optimizers.Adadelta(learning_rate=1.0, rho=0.95)\n",
    "```\n",
    "* \n",
    "```python\n",
    "Adam = keras.optimizers.Adam(learning_rate=0.001, beta_1=0.9, beta_2=0.999, amsgrad=False)\n",
    "```\n",
    "* \n",
    "```python\n",
    "Adam = keras.optimizers.Adam(learning_rate=0.0001, beta_1=0.9, beta_2=0.999, amsgrad=False)\n",
    "```\n",
    "\n",
    "https://keras.io/optimizers/"
   ]
  },
  {
   "cell_type": "code",
   "execution_count": 2,
   "metadata": {},
   "outputs": [
    {
     "name": "stderr",
     "output_type": "stream",
     "text": [
      "C:\\ProgramData\\Anaconda3\\lib\\site-packages\\ipykernel_launcher.py:6: ParserWarning: Falling back to the 'python' engine because the 'c' engine does not support regex separators (separators > 1 char and different from '\\s+' are interpreted as regex); you can avoid this warning by specifying engine='python'.\n",
      "  \n",
      "C:\\ProgramData\\Anaconda3\\lib\\site-packages\\ipykernel_launcher.py:7: ParserWarning: Falling back to the 'python' engine because the 'c' engine does not support regex separators (separators > 1 char and different from '\\s+' are interpreted as regex); you can avoid this warning by specifying engine='python'.\n",
      "  import sys\n"
     ]
    },
    {
     "data": {
      "text/html": [
       "<div>\n",
       "<style scoped>\n",
       "    .dataframe tbody tr th:only-of-type {\n",
       "        vertical-align: middle;\n",
       "    }\n",
       "\n",
       "    .dataframe tbody tr th {\n",
       "        vertical-align: top;\n",
       "    }\n",
       "\n",
       "    .dataframe thead th {\n",
       "        text-align: right;\n",
       "    }\n",
       "</style>\n",
       "<table border=\"1\" class=\"dataframe\">\n",
       "  <thead>\n",
       "    <tr style=\"text-align: right;\">\n",
       "      <th></th>\n",
       "      <th>age</th>\n",
       "      <th>workclass</th>\n",
       "      <th>fnlwgt</th>\n",
       "      <th>education</th>\n",
       "      <th>education_num</th>\n",
       "      <th>marital_status</th>\n",
       "      <th>occupation</th>\n",
       "      <th>relationship</th>\n",
       "      <th>race</th>\n",
       "      <th>sex</th>\n",
       "      <th>capital_gain</th>\n",
       "      <th>capital_loss</th>\n",
       "      <th>hours_per_week</th>\n",
       "      <th>native_country</th>\n",
       "      <th>wage_class</th>\n",
       "    </tr>\n",
       "  </thead>\n",
       "  <tbody>\n",
       "    <tr>\n",
       "      <th>0</th>\n",
       "      <td>39</td>\n",
       "      <td>State-gov</td>\n",
       "      <td>77516</td>\n",
       "      <td>Bachelors</td>\n",
       "      <td>13</td>\n",
       "      <td>Never-married</td>\n",
       "      <td>Adm-clerical</td>\n",
       "      <td>Not-in-family</td>\n",
       "      <td>White</td>\n",
       "      <td>Male</td>\n",
       "      <td>2174</td>\n",
       "      <td>0</td>\n",
       "      <td>40</td>\n",
       "      <td>United-States</td>\n",
       "      <td>&lt;=50K</td>\n",
       "    </tr>\n",
       "    <tr>\n",
       "      <th>1</th>\n",
       "      <td>50</td>\n",
       "      <td>Self-emp-not-inc</td>\n",
       "      <td>83311</td>\n",
       "      <td>Bachelors</td>\n",
       "      <td>13</td>\n",
       "      <td>Married-civ-spouse</td>\n",
       "      <td>Exec-managerial</td>\n",
       "      <td>Husband</td>\n",
       "      <td>White</td>\n",
       "      <td>Male</td>\n",
       "      <td>0</td>\n",
       "      <td>0</td>\n",
       "      <td>13</td>\n",
       "      <td>United-States</td>\n",
       "      <td>&lt;=50K</td>\n",
       "    </tr>\n",
       "    <tr>\n",
       "      <th>2</th>\n",
       "      <td>38</td>\n",
       "      <td>Private</td>\n",
       "      <td>215646</td>\n",
       "      <td>HS-grad</td>\n",
       "      <td>9</td>\n",
       "      <td>Divorced</td>\n",
       "      <td>Handlers-cleaners</td>\n",
       "      <td>Not-in-family</td>\n",
       "      <td>White</td>\n",
       "      <td>Male</td>\n",
       "      <td>0</td>\n",
       "      <td>0</td>\n",
       "      <td>40</td>\n",
       "      <td>United-States</td>\n",
       "      <td>&lt;=50K</td>\n",
       "    </tr>\n",
       "    <tr>\n",
       "      <th>3</th>\n",
       "      <td>53</td>\n",
       "      <td>Private</td>\n",
       "      <td>234721</td>\n",
       "      <td>11th</td>\n",
       "      <td>7</td>\n",
       "      <td>Married-civ-spouse</td>\n",
       "      <td>Handlers-cleaners</td>\n",
       "      <td>Husband</td>\n",
       "      <td>Black</td>\n",
       "      <td>Male</td>\n",
       "      <td>0</td>\n",
       "      <td>0</td>\n",
       "      <td>40</td>\n",
       "      <td>United-States</td>\n",
       "      <td>&lt;=50K</td>\n",
       "    </tr>\n",
       "    <tr>\n",
       "      <th>4</th>\n",
       "      <td>28</td>\n",
       "      <td>Private</td>\n",
       "      <td>338409</td>\n",
       "      <td>Bachelors</td>\n",
       "      <td>13</td>\n",
       "      <td>Married-civ-spouse</td>\n",
       "      <td>Prof-specialty</td>\n",
       "      <td>Wife</td>\n",
       "      <td>Black</td>\n",
       "      <td>Female</td>\n",
       "      <td>0</td>\n",
       "      <td>0</td>\n",
       "      <td>40</td>\n",
       "      <td>Cuba</td>\n",
       "      <td>&lt;=50K</td>\n",
       "    </tr>\n",
       "  </tbody>\n",
       "</table>\n",
       "</div>"
      ],
      "text/plain": [
       "   age         workclass  fnlwgt  education  education_num  \\\n",
       "0   39         State-gov   77516  Bachelors             13   \n",
       "1   50  Self-emp-not-inc   83311  Bachelors             13   \n",
       "2   38           Private  215646    HS-grad              9   \n",
       "3   53           Private  234721       11th              7   \n",
       "4   28           Private  338409  Bachelors             13   \n",
       "\n",
       "       marital_status         occupation   relationship   race     sex  \\\n",
       "0       Never-married       Adm-clerical  Not-in-family  White    Male   \n",
       "1  Married-civ-spouse    Exec-managerial        Husband  White    Male   \n",
       "2            Divorced  Handlers-cleaners  Not-in-family  White    Male   \n",
       "3  Married-civ-spouse  Handlers-cleaners        Husband  Black    Male   \n",
       "4  Married-civ-spouse     Prof-specialty           Wife  Black  Female   \n",
       "\n",
       "   capital_gain  capital_loss  hours_per_week native_country wage_class  \n",
       "0          2174             0              40  United-States      <=50K  \n",
       "1             0             0              13  United-States      <=50K  \n",
       "2             0             0              40  United-States      <=50K  \n",
       "3             0             0              40  United-States      <=50K  \n",
       "4             0             0              40           Cuba      <=50K  "
      ]
     },
     "execution_count": 2,
     "metadata": {},
     "output_type": "execute_result"
    }
   ],
   "source": [
    "# Wczytaj dane treningowe i testowe\n",
    "import numpy as np\n",
    "import matplotlib.pyplot as plt\n",
    "import pandas as pd\n",
    "\n",
    "train_set = pd.read_csv('Dane/adult/adult.data', sep=\", \",header = None)\n",
    "test_set = pd.read_csv('Dane/adult/adult.test', sep=\", \",skiprows = 1, header = None) # Make sure to skip a row for the test set\n",
    "\n",
    "col_labels = ['age', 'workclass', 'fnlwgt', 'education', 'education_num', 'marital_status', 'occupation', \n",
    "              'relationship', 'race', 'sex', 'capital_gain', 'capital_loss', 'hours_per_week', 'native_country',\n",
    "             'wage_class']\n",
    "train_set.columns = col_labels\n",
    "test_set.columns = col_labels\n",
    "\n",
    "train = train_set.replace('?', np.nan).dropna()\n",
    "test = test_set.replace('?', np.nan).dropna()\n",
    "\n",
    "train_set.head()\n"
   ]
  },
  {
   "cell_type": "code",
   "execution_count": 3,
   "metadata": {},
   "outputs": [
    {
     "name": "stdout",
     "output_type": "stream",
     "text": [
      "(30162, 41)\n"
     ]
    },
    {
     "data": {
      "text/plain": [
       "(15060, 41)"
      ]
     },
     "execution_count": 3,
     "metadata": {},
     "output_type": "execute_result"
    }
   ],
   "source": [
    "\n",
    "\n",
    "\n",
    "\n",
    "dataset = pd.concat([train,test])\n",
    "\n",
    "dataset['wage_class'] = dataset.wage_class.replace({'<=50K.': 0,'<=50K':0, '>50K.':1, '>50K':1})\n",
    "\n",
    "dataset.drop([\"fnlwgt\"],axis=1,inplace=True)\n",
    "\n",
    "dataset.drop([\"education\"],axis=1,inplace=True)\n",
    "\n",
    "x = dataset.groupby('native_country')[\"wage_class\"].mean()\n",
    "\n",
    "d = dict(pd.cut(x[x.index!=\" United-States\"],5,labels=range(5)))\n",
    "\n",
    "dataset['native_country'] = dataset['native_country'].replace(d)\n",
    "\n",
    "dataset = pd.get_dummies(dataset,drop_first=True)\n",
    "\n",
    "train = dataset.iloc[:train.shape[0]]\n",
    "test = dataset.iloc[train.shape[0]:]\n",
    "\n",
    "X_train = train.drop(\"wage_class\",axis=1)\n",
    "y_train = train.wage_class\n",
    "\n",
    "X_test = test.drop(\"wage_class\",axis=1)\n",
    "y_test = test.wage_class\n",
    "\n",
    "from sklearn.preprocessing import StandardScaler\n",
    "sc = StandardScaler()\n",
    "X_train = sc.fit_transform(X_train)\n",
    "X_test = sc.transform(X_test)\n",
    "\n",
    "print(X_train.shape)\n",
    "X_test.shape"
   ]
  },
  {
   "cell_type": "markdown",
   "metadata": {},
   "source": [
    "# SGD"
   ]
  },
  {
   "cell_type": "code",
   "execution_count": 4,
   "metadata": {},
   "outputs": [
    {
     "name": "stdout",
     "output_type": "stream",
     "text": [
      "WARNING:tensorflow:From C:\\ProgramData\\Anaconda3\\lib\\site-packages\\tensorflow_core\\python\\ops\\resource_variable_ops.py:1630: calling BaseResourceVariable.__init__ (from tensorflow.python.ops.resource_variable_ops) with constraint is deprecated and will be removed in a future version.\n",
      "Instructions for updating:\n",
      "If using Keras pass *_constraint arguments to layers.\n",
      "Model: \"sequential_1\"\n",
      "_________________________________________________________________\n",
      "Layer (type)                 Output Shape              Param #   \n",
      "=================================================================\n",
      "dense_1 (Dense)              (None, 100)               4200      \n",
      "_________________________________________________________________\n",
      "dense_2 (Dense)              (None, 50)                5050      \n",
      "_________________________________________________________________\n",
      "dense_3 (Dense)              (None, 10)                510       \n",
      "_________________________________________________________________\n",
      "dense_4 (Dense)              (None, 1)                 11        \n",
      "=================================================================\n",
      "Total params: 9,771\n",
      "Trainable params: 9,771\n",
      "Non-trainable params: 0\n",
      "_________________________________________________________________\n"
     ]
    }
   ],
   "source": [
    "from keras.models import Sequential\n",
    "from keras.layers import Dense\n",
    "\n",
    "from keras.callbacks import History\n",
    "\n",
    "history_sgd = History()\n",
    "model = Sequential()\n",
    "model.add(Dense(100,activation=\"sigmoid\",input_shape=(X_train.shape[1],)))\n",
    "model.add(Dense(50,activation=\"sigmoid\"))\n",
    "model.add(Dense(10,activation=\"sigmoid\"))\n",
    "model.add(Dense(1,activation=\"sigmoid\"))\n",
    "model.summary()"
   ]
  },
  {
   "cell_type": "code",
   "execution_count": 5,
   "metadata": {},
   "outputs": [
    {
     "name": "stdout",
     "output_type": "stream",
     "text": [
      "WARNING:tensorflow:From C:\\ProgramData\\Anaconda3\\lib\\site-packages\\tensorflow_core\\python\\ops\\nn_impl.py:183: where (from tensorflow.python.ops.array_ops) is deprecated and will be removed in a future version.\n",
      "Instructions for updating:\n",
      "Use tf.where in 2.0, which has the same broadcast rule as np.where\n"
     ]
    }
   ],
   "source": [
    "sgd = keras.optimizers.SGD(lr=0.01, decay=1e-6, momentum=0.9, nesterov=True)\n",
    "model.compile(loss=\"binary_crossentropy\",optimizer=sgd, metrics=[\"accuracy\"])"
   ]
  },
  {
   "cell_type": "code",
   "execution_count": 6,
   "metadata": {},
   "outputs": [
    {
     "name": "stdout",
     "output_type": "stream",
     "text": [
      "WARNING:tensorflow:From C:\\ProgramData\\Anaconda3\\lib\\site-packages\\keras\\backend\\tensorflow_backend.py:422: The name tf.global_variables is deprecated. Please use tf.compat.v1.global_variables instead.\n",
      "\n",
      "Train on 30162 samples, validate on 15060 samples\n",
      "Epoch 1/100\n",
      "30162/30162 [==============================] - 1s 45us/step - loss: 0.5037 - accuracy: 0.7629 - val_loss: 0.3702 - val_accuracy: 0.8309\n",
      "Epoch 2/100\n",
      "30162/30162 [==============================] - 1s 40us/step - loss: 0.3468 - accuracy: 0.8370 - val_loss: 0.3417 - val_accuracy: 0.8375\n",
      "Epoch 3/100\n",
      "30162/30162 [==============================] - 1s 40us/step - loss: 0.3359 - accuracy: 0.8420 - val_loss: 0.3336 - val_accuracy: 0.8444\n",
      "Epoch 4/100\n",
      "30162/30162 [==============================] - 1s 50us/step - loss: 0.3317 - accuracy: 0.8447 - val_loss: 0.3333 - val_accuracy: 0.8436\n",
      "Epoch 5/100\n",
      "30162/30162 [==============================] - 1s 43us/step - loss: 0.3296 - accuracy: 0.8442 - val_loss: 0.3286 - val_accuracy: 0.8462\n",
      "Epoch 6/100\n",
      "30162/30162 [==============================] - 2s 52us/step - loss: 0.3283 - accuracy: 0.8463 - val_loss: 0.3282 - val_accuracy: 0.8475\n",
      "Epoch 7/100\n",
      "30162/30162 [==============================] - 2s 56us/step - loss: 0.3266 - accuracy: 0.8457 - val_loss: 0.3282 - val_accuracy: 0.8460\n",
      "Epoch 8/100\n",
      "30162/30162 [==============================] - 2s 52us/step - loss: 0.3261 - accuracy: 0.8468 - val_loss: 0.3281 - val_accuracy: 0.8465\n",
      "Epoch 9/100\n",
      "30162/30162 [==============================] - 1s 42us/step - loss: 0.3254 - accuracy: 0.8477 - val_loss: 0.3268 - val_accuracy: 0.8463\n",
      "Epoch 10/100\n",
      "30162/30162 [==============================] - 1s 40us/step - loss: 0.3246 - accuracy: 0.8481 - val_loss: 0.3275 - val_accuracy: 0.8459\n",
      "Epoch 11/100\n",
      "30162/30162 [==============================] - 1s 39us/step - loss: 0.3245 - accuracy: 0.8474 - val_loss: 0.3250 - val_accuracy: 0.8465\n",
      "Epoch 12/100\n",
      "30162/30162 [==============================] - 1s 40us/step - loss: 0.3230 - accuracy: 0.8480 - val_loss: 0.3253 - val_accuracy: 0.8474\n",
      "Epoch 13/100\n",
      "30162/30162 [==============================] - 1s 40us/step - loss: 0.3221 - accuracy: 0.8482 - val_loss: 0.3249 - val_accuracy: 0.8483\n",
      "Epoch 14/100\n",
      "30162/30162 [==============================] - 1s 40us/step - loss: 0.3215 - accuracy: 0.8505 - val_loss: 0.3282 - val_accuracy: 0.8478\n",
      "Epoch 15/100\n",
      "30162/30162 [==============================] - 1s 39us/step - loss: 0.3205 - accuracy: 0.8501 - val_loss: 0.3225 - val_accuracy: 0.8473\n",
      "Epoch 16/100\n",
      "30162/30162 [==============================] - 1s 39us/step - loss: 0.3199 - accuracy: 0.8507 - val_loss: 0.3222 - val_accuracy: 0.8492\n",
      "Epoch 17/100\n",
      "30162/30162 [==============================] - 1s 38us/step - loss: 0.3191 - accuracy: 0.8504 - val_loss: 0.3211 - val_accuracy: 0.8495\n",
      "Epoch 18/100\n",
      "30162/30162 [==============================] - 1s 39us/step - loss: 0.3184 - accuracy: 0.8502 - val_loss: 0.3214 - val_accuracy: 0.8479\n",
      "Epoch 19/100\n",
      "30162/30162 [==============================] - 1s 38us/step - loss: 0.3181 - accuracy: 0.8506 - val_loss: 0.3207 - val_accuracy: 0.8489\n",
      "Epoch 20/100\n",
      "30162/30162 [==============================] - 1s 39us/step - loss: 0.3167 - accuracy: 0.8518 - val_loss: 0.3218 - val_accuracy: 0.8497\n",
      "Epoch 21/100\n",
      "30162/30162 [==============================] - 1s 38us/step - loss: 0.3169 - accuracy: 0.8504 - val_loss: 0.3197 - val_accuracy: 0.8501\n",
      "Epoch 22/100\n",
      "30162/30162 [==============================] - 1s 41us/step - loss: 0.3159 - accuracy: 0.8514 - val_loss: 0.3207 - val_accuracy: 0.8505\n",
      "Epoch 23/100\n",
      "30162/30162 [==============================] - 1s 49us/step - loss: 0.3154 - accuracy: 0.8522 - val_loss: 0.3211 - val_accuracy: 0.8493\n",
      "Epoch 24/100\n",
      "30162/30162 [==============================] - 1s 39us/step - loss: 0.3147 - accuracy: 0.8531 - val_loss: 0.3201 - val_accuracy: 0.8493\n",
      "Epoch 25/100\n",
      "30162/30162 [==============================] - 1s 39us/step - loss: 0.3145 - accuracy: 0.8515 - val_loss: 0.3197 - val_accuracy: 0.8496\n",
      "Epoch 26/100\n",
      "30162/30162 [==============================] - 1s 38us/step - loss: 0.3137 - accuracy: 0.8530 - val_loss: 0.3199 - val_accuracy: 0.8504\n",
      "Epoch 27/100\n",
      "30162/30162 [==============================] - 1s 39us/step - loss: 0.3136 - accuracy: 0.8541 - val_loss: 0.3205 - val_accuracy: 0.8484\n",
      "Epoch 28/100\n",
      "30162/30162 [==============================] - 1s 40us/step - loss: 0.3125 - accuracy: 0.8531 - val_loss: 0.3215 - val_accuracy: 0.8470\n",
      "Epoch 29/100\n",
      "30162/30162 [==============================] - 1s 39us/step - loss: 0.3123 - accuracy: 0.8535 - val_loss: 0.3185 - val_accuracy: 0.8503\n",
      "Epoch 30/100\n",
      "30162/30162 [==============================] - 1s 41us/step - loss: 0.3118 - accuracy: 0.8532 - val_loss: 0.3245 - val_accuracy: 0.8457\n",
      "Epoch 31/100\n",
      "30162/30162 [==============================] - 1s 43us/step - loss: 0.3115 - accuracy: 0.8535 - val_loss: 0.3201 - val_accuracy: 0.8485\n",
      "Epoch 32/100\n",
      "30162/30162 [==============================] - 1s 40us/step - loss: 0.3112 - accuracy: 0.8542 - val_loss: 0.3186 - val_accuracy: 0.8505\n",
      "Epoch 33/100\n",
      "30162/30162 [==============================] - 1s 40us/step - loss: 0.3104 - accuracy: 0.8538 - val_loss: 0.3303 - val_accuracy: 0.8418\n",
      "Epoch 34/100\n",
      "30162/30162 [==============================] - 1s 43us/step - loss: 0.3102 - accuracy: 0.8547 - val_loss: 0.3240 - val_accuracy: 0.8457\n",
      "Epoch 35/100\n",
      "30162/30162 [==============================] - 1s 40us/step - loss: 0.3097 - accuracy: 0.8544 - val_loss: 0.3178 - val_accuracy: 0.8503\n",
      "Epoch 36/100\n",
      "30162/30162 [==============================] - 1s 41us/step - loss: 0.3101 - accuracy: 0.8541 - val_loss: 0.3212 - val_accuracy: 0.8478\n",
      "Epoch 37/100\n",
      "30162/30162 [==============================] - 1s 38us/step - loss: 0.3088 - accuracy: 0.8546 - val_loss: 0.3189 - val_accuracy: 0.8499\n",
      "Epoch 38/100\n",
      "30162/30162 [==============================] - 1s 40us/step - loss: 0.3089 - accuracy: 0.8557 - val_loss: 0.3200 - val_accuracy: 0.8485\n",
      "Epoch 39/100\n",
      "30162/30162 [==============================] - 1s 38us/step - loss: 0.3084 - accuracy: 0.8547 - val_loss: 0.3180 - val_accuracy: 0.8503\n",
      "Epoch 40/100\n",
      "30162/30162 [==============================] - 1s 39us/step - loss: 0.3083 - accuracy: 0.8553 - val_loss: 0.3183 - val_accuracy: 0.8509\n",
      "Epoch 41/100\n",
      "30162/30162 [==============================] - 1s 40us/step - loss: 0.3080 - accuracy: 0.8560 - val_loss: 0.3183 - val_accuracy: 0.8515\n",
      "Epoch 42/100\n",
      "30162/30162 [==============================] - 1s 42us/step - loss: 0.3072 - accuracy: 0.8562 - val_loss: 0.3264 - val_accuracy: 0.8446\n",
      "Epoch 43/100\n",
      "30162/30162 [==============================] - 1s 39us/step - loss: 0.3072 - accuracy: 0.8563 - val_loss: 0.3186 - val_accuracy: 0.8508\n",
      "Epoch 44/100\n",
      "30162/30162 [==============================] - 1s 39us/step - loss: 0.3073 - accuracy: 0.8551 - val_loss: 0.3192 - val_accuracy: 0.8508\n",
      "Epoch 45/100\n",
      "30162/30162 [==============================] - 1s 39us/step - loss: 0.3068 - accuracy: 0.8558 - val_loss: 0.3189 - val_accuracy: 0.8505\n",
      "Epoch 46/100\n",
      "30162/30162 [==============================] - 1s 39us/step - loss: 0.3060 - accuracy: 0.8571 - val_loss: 0.3182 - val_accuracy: 0.8511\n",
      "Epoch 47/100\n",
      "30162/30162 [==============================] - 1s 40us/step - loss: 0.3058 - accuracy: 0.8570 - val_loss: 0.3209 - val_accuracy: 0.8495\n",
      "Epoch 48/100\n",
      "30162/30162 [==============================] - 1s 40us/step - loss: 0.3059 - accuracy: 0.8567 - val_loss: 0.3186 - val_accuracy: 0.8506\n",
      "Epoch 49/100\n",
      "30162/30162 [==============================] - 1s 40us/step - loss: 0.3055 - accuracy: 0.8561 - val_loss: 0.3197 - val_accuracy: 0.8503\n",
      "Epoch 50/100\n",
      "30162/30162 [==============================] - 1s 49us/step - loss: 0.3053 - accuracy: 0.8562 - val_loss: 0.3182 - val_accuracy: 0.8507\n",
      "Epoch 51/100\n",
      "30162/30162 [==============================] - 1s 46us/step - loss: 0.3051 - accuracy: 0.8559 - val_loss: 0.3203 - val_accuracy: 0.8509\n",
      "Epoch 52/100\n",
      "30162/30162 [==============================] - 1s 47us/step - loss: 0.3046 - accuracy: 0.8566 - val_loss: 0.3216 - val_accuracy: 0.8503\n",
      "Epoch 53/100\n",
      "30162/30162 [==============================] - 2s 60us/step - loss: 0.3042 - accuracy: 0.8563 - val_loss: 0.3199 - val_accuracy: 0.8509\n",
      "Epoch 54/100\n",
      "30162/30162 [==============================] - 1s 43us/step - loss: 0.3042 - accuracy: 0.8578 - val_loss: 0.3203 - val_accuracy: 0.8497\n",
      "Epoch 55/100\n",
      "30162/30162 [==============================] - 1s 46us/step - loss: 0.3037 - accuracy: 0.8579 - val_loss: 0.3204 - val_accuracy: 0.8501\n",
      "Epoch 56/100\n",
      "30162/30162 [==============================] - 2s 57us/step - loss: 0.3036 - accuracy: 0.8578 - val_loss: 0.3199 - val_accuracy: 0.8501\n",
      "Epoch 57/100\n",
      "30162/30162 [==============================] - 2s 62us/step - loss: 0.3031 - accuracy: 0.8570 - val_loss: 0.3205 - val_accuracy: 0.8500\n",
      "Epoch 58/100\n",
      "30162/30162 [==============================] - 1s 47us/step - loss: 0.3025 - accuracy: 0.8588 - val_loss: 0.3204 - val_accuracy: 0.8510\n",
      "Epoch 59/100\n",
      "30162/30162 [==============================] - 2s 50us/step - loss: 0.3030 - accuracy: 0.8568 - val_loss: 0.3204 - val_accuracy: 0.8483\n",
      "Epoch 60/100\n",
      "30162/30162 [==============================] - 1s 42us/step - loss: 0.3026 - accuracy: 0.8580 - val_loss: 0.3282 - val_accuracy: 0.8425\n",
      "Epoch 61/100\n",
      "30162/30162 [==============================] - 1s 43us/step - loss: 0.3022 - accuracy: 0.8578 - val_loss: 0.3207 - val_accuracy: 0.8493\n",
      "Epoch 62/100\n",
      "30162/30162 [==============================] - 1s 45us/step - loss: 0.3016 - accuracy: 0.8598 - val_loss: 0.3241 - val_accuracy: 0.8494\n",
      "Epoch 63/100\n",
      "30162/30162 [==============================] - 1s 45us/step - loss: 0.3015 - accuracy: 0.8587 - val_loss: 0.3249 - val_accuracy: 0.8497\n",
      "Epoch 64/100\n",
      "30162/30162 [==============================] - 1s 45us/step - loss: 0.3012 - accuracy: 0.8592 - val_loss: 0.3214 - val_accuracy: 0.8499\n",
      "Epoch 65/100\n",
      "30162/30162 [==============================] - 1s 46us/step - loss: 0.3009 - accuracy: 0.8601 - val_loss: 0.3211 - val_accuracy: 0.8502\n",
      "Epoch 66/100\n",
      "30162/30162 [==============================] - 1s 45us/step - loss: 0.3010 - accuracy: 0.8591 - val_loss: 0.3216 - val_accuracy: 0.8495\n",
      "Epoch 67/100\n",
      "30162/30162 [==============================] - 1s 45us/step - loss: 0.3007 - accuracy: 0.8599 - val_loss: 0.3272 - val_accuracy: 0.8494\n",
      "Epoch 68/100\n",
      "30162/30162 [==============================] - 1s 45us/step - loss: 0.2996 - accuracy: 0.8588 - val_loss: 0.3240 - val_accuracy: 0.8476\n",
      "Epoch 69/100\n",
      "30162/30162 [==============================] - 1s 45us/step - loss: 0.3001 - accuracy: 0.8599 - val_loss: 0.3236 - val_accuracy: 0.8478\n",
      "Epoch 70/100\n",
      "30162/30162 [==============================] - 1s 45us/step - loss: 0.2998 - accuracy: 0.8586 - val_loss: 0.3231 - val_accuracy: 0.8481\n",
      "Epoch 71/100\n",
      "30162/30162 [==============================] - 1s 45us/step - loss: 0.2996 - accuracy: 0.8590 - val_loss: 0.3227 - val_accuracy: 0.8487\n",
      "Epoch 72/100\n",
      "30162/30162 [==============================] - 1s 46us/step - loss: 0.2991 - accuracy: 0.8597 - val_loss: 0.3232 - val_accuracy: 0.8496\n",
      "Epoch 73/100\n",
      "30162/30162 [==============================] - 1s 45us/step - loss: 0.2989 - accuracy: 0.8588 - val_loss: 0.3241 - val_accuracy: 0.8478\n",
      "Epoch 74/100\n",
      "30162/30162 [==============================] - 1s 45us/step - loss: 0.2990 - accuracy: 0.8598 - val_loss: 0.3223 - val_accuracy: 0.8506\n",
      "Epoch 75/100\n",
      "30162/30162 [==============================] - 1s 45us/step - loss: 0.2987 - accuracy: 0.8604 - val_loss: 0.3239 - val_accuracy: 0.8483\n",
      "Epoch 76/100\n",
      "30162/30162 [==============================] - 1s 44us/step - loss: 0.2980 - accuracy: 0.8605 - val_loss: 0.3257 - val_accuracy: 0.8457\n",
      "Epoch 77/100\n",
      "30162/30162 [==============================] - 1s 44us/step - loss: 0.2974 - accuracy: 0.8609 - val_loss: 0.3255 - val_accuracy: 0.8497\n",
      "Epoch 78/100\n",
      "30162/30162 [==============================] - 1s 43us/step - loss: 0.2974 - accuracy: 0.8607 - val_loss: 0.3271 - val_accuracy: 0.8492\n",
      "Epoch 79/100\n",
      "30162/30162 [==============================] - 1s 43us/step - loss: 0.2968 - accuracy: 0.8605 - val_loss: 0.3366 - val_accuracy: 0.8458\n",
      "Epoch 80/100\n",
      "30162/30162 [==============================] - 1s 42us/step - loss: 0.2970 - accuracy: 0.8610 - val_loss: 0.3250 - val_accuracy: 0.8463\n",
      "Epoch 81/100\n",
      "30162/30162 [==============================] - 1s 42us/step - loss: 0.2972 - accuracy: 0.8612 - val_loss: 0.3260 - val_accuracy: 0.8477\n",
      "Epoch 82/100\n",
      "30162/30162 [==============================] - 1s 44us/step - loss: 0.2963 - accuracy: 0.8607 - val_loss: 0.3259 - val_accuracy: 0.8491\n",
      "Epoch 83/100\n",
      "30162/30162 [==============================] - 1s 46us/step - loss: 0.2966 - accuracy: 0.8607 - val_loss: 0.3265 - val_accuracy: 0.8450\n",
      "Epoch 84/100\n",
      "30162/30162 [==============================] - 1s 44us/step - loss: 0.2956 - accuracy: 0.8623 - val_loss: 0.3263 - val_accuracy: 0.8490\n",
      "Epoch 85/100\n",
      "30162/30162 [==============================] - 1s 42us/step - loss: 0.2954 - accuracy: 0.8622 - val_loss: 0.3283 - val_accuracy: 0.8481\n",
      "Epoch 86/100\n",
      "30162/30162 [==============================] - 1s 42us/step - loss: 0.2955 - accuracy: 0.8619 - val_loss: 0.3252 - val_accuracy: 0.8486\n",
      "Epoch 87/100\n",
      "30162/30162 [==============================] - 1s 45us/step - loss: 0.2949 - accuracy: 0.8623 - val_loss: 0.3261 - val_accuracy: 0.8485\n",
      "Epoch 88/100\n",
      "30162/30162 [==============================] - 1s 43us/step - loss: 0.2945 - accuracy: 0.8624 - val_loss: 0.3293 - val_accuracy: 0.8480\n",
      "Epoch 89/100\n",
      "30162/30162 [==============================] - 1s 39us/step - loss: 0.2943 - accuracy: 0.8613 - val_loss: 0.3279 - val_accuracy: 0.8471\n",
      "Epoch 90/100\n",
      "30162/30162 [==============================] - 1s 42us/step - loss: 0.2947 - accuracy: 0.8628 - val_loss: 0.3275 - val_accuracy: 0.8465\n",
      "Epoch 91/100\n",
      "30162/30162 [==============================] - 1s 39us/step - loss: 0.2940 - accuracy: 0.8638 - val_loss: 0.3287 - val_accuracy: 0.8477\n",
      "Epoch 92/100\n",
      "30162/30162 [==============================] - 1s 42us/step - loss: 0.2937 - accuracy: 0.8631 - val_loss: 0.3282 - val_accuracy: 0.8466\n",
      "Epoch 93/100\n",
      "30162/30162 [==============================] - 1s 44us/step - loss: 0.2931 - accuracy: 0.8616 - val_loss: 0.3273 - val_accuracy: 0.8475\n",
      "Epoch 94/100\n",
      "30162/30162 [==============================] - 1s 43us/step - loss: 0.2926 - accuracy: 0.8638 - val_loss: 0.3289 - val_accuracy: 0.8505\n",
      "Epoch 95/100\n",
      "30162/30162 [==============================] - 1s 42us/step - loss: 0.2927 - accuracy: 0.8614 - val_loss: 0.3306 - val_accuracy: 0.8454\n",
      "Epoch 96/100\n",
      "30162/30162 [==============================] - 1s 39us/step - loss: 0.2926 - accuracy: 0.8629 - val_loss: 0.3362 - val_accuracy: 0.8381\n",
      "Epoch 97/100\n",
      "30162/30162 [==============================] - 1s 38us/step - loss: 0.2919 - accuracy: 0.8630 - val_loss: 0.3290 - val_accuracy: 0.8461\n",
      "Epoch 98/100\n",
      "30162/30162 [==============================] - 1s 39us/step - loss: 0.2915 - accuracy: 0.8628 - val_loss: 0.3303 - val_accuracy: 0.8468\n",
      "Epoch 99/100\n",
      "30162/30162 [==============================] - 1s 42us/step - loss: 0.2908 - accuracy: 0.8635 - val_loss: 0.3312 - val_accuracy: 0.8471\n",
      "Epoch 100/100\n",
      "30162/30162 [==============================] - 1s 41us/step - loss: 0.2912 - accuracy: 0.8631 - val_loss: 0.3289 - val_accuracy: 0.8472\n"
     ]
    },
    {
     "data": {
      "text/plain": [
       "<keras.callbacks.callbacks.History at 0xf5f951fb38>"
      ]
     },
     "execution_count": 6,
     "metadata": {},
     "output_type": "execute_result"
    }
   ],
   "source": [
    "model.fit(X_train, y_train, validation_data= (X_test, y_test), batch_size=32,epochs=100, callbacks=[history_sgd])"
   ]
  },
  {
   "cell_type": "code",
   "execution_count": 7,
   "metadata": {},
   "outputs": [
    {
     "data": {
      "text/plain": [
       "dict_keys(['val_loss', 'val_accuracy', 'loss', 'accuracy'])"
      ]
     },
     "execution_count": 7,
     "metadata": {},
     "output_type": "execute_result"
    }
   ],
   "source": [
    "history_sgd.history.keys()"
   ]
  },
  {
   "cell_type": "code",
   "execution_count": 8,
   "metadata": {},
   "outputs": [
    {
     "data": {
      "image/png": "[encoded data removed]",
      "text/plain": [
       "<Figure size 432x288 with 1 Axes>"
      ]
     },
     "metadata": {
      "needs_background": "light"
     },
     "output_type": "display_data"
    }
   ],
   "source": [
    "import matplotlib.pyplot as pl\n",
    "plt.plot(history_sgd.history['accuracy'], label = \"tarina\")\n",
    "plt.plot(history_sgd.history['val_accuracy'], label = \"test\")\n",
    "plt.legend()\n",
    "plt.show()"
   ]
  },
  {
   "cell_type": "code",
   "execution_count": 9,
   "metadata": {},
   "outputs": [
    {
     "data": {
      "image/png": "[encoded data removed]",
      "text/plain": [
       "<Figure size 432x288 with 1 Axes>"
      ]
     },
     "metadata": {
      "needs_background": "light"
     },
     "output_type": "display_data"
    }
   ],
   "source": [
    "import matplotlib.pyplot as pl\n",
    "plt.plot(history_sgd.history['loss'], label = \"tarina\")\n",
    "plt.plot(history_sgd.history['val_loss'], label = \"test\")\n",
    "plt.legend()\n",
    "plt.show()"
   ]
  },
  {
   "cell_type": "markdown",
   "metadata": {},
   "source": [
    "# RMSprop"
   ]
  },
  {
   "cell_type": "code",
   "execution_count": 2,
   "metadata": {},
   "outputs": [],
   "source": [
    "\n",
    "RMSprop = keras.optimizers.RMSprop(learning_rate=0.001, rho=0.9)\n"
   ]
  },
  {
   "cell_type": "code",
   "execution_count": null,
   "metadata": {},
   "outputs": [],
   "source": []
  },
  {
   "cell_type": "markdown",
   "metadata": {},
   "source": [
    "# Adagrad"
   ]
  },
  {
   "cell_type": "code",
   "execution_count": 3,
   "metadata": {},
   "outputs": [],
   "source": [
    "\n",
    "Adagrad = keras.optimizers.Adagrad(learning_rate=0.01)\n"
   ]
  },
  {
   "cell_type": "code",
   "execution_count": null,
   "metadata": {},
   "outputs": [],
   "source": []
  },
  {
   "cell_type": "markdown",
   "metadata": {},
   "source": [
    "# Adadelta"
   ]
  },
  {
   "cell_type": "code",
   "execution_count": 4,
   "metadata": {},
   "outputs": [],
   "source": [
    "\n",
    "Adadelta = keras.optimizers.Adadelta(learning_rate=1.0, rho=0.95)\n"
   ]
  },
  {
   "cell_type": "code",
   "execution_count": null,
   "metadata": {},
   "outputs": [],
   "source": []
  },
  {
   "cell_type": "markdown",
   "metadata": {},
   "source": [
    "# Adam"
   ]
  },
  {
   "cell_type": "code",
   "execution_count": 5,
   "metadata": {},
   "outputs": [],
   "source": [
    "\n",
    "Adam = keras.optimizers.Adam(learning_rate=0.001, beta_1=0.9, beta_2=0.999, amsgrad=False)\n"
   ]
  },
  {
   "cell_type": "code",
   "execution_count": null,
   "metadata": {},
   "outputs": [],
   "source": []
  },
  {
   "cell_type": "markdown",
   "metadata": {},
   "source": [
    "### learning_rate=0.0001"
   ]
  },
  {
   "cell_type": "code",
   "execution_count": 6,
   "metadata": {},
   "outputs": [],
   "source": [
    "\n",
    "Adam = keras.optimizers.Adam(learning_rate=0.0001, beta_1=0.9, beta_2=0.999, amsgrad=False)\n",
    "\n"
   ]
  },
  {
   "cell_type": "code",
   "execution_count": null,
   "metadata": {},
   "outputs": [],
   "source": []
  },
  {
   "cell_type": "code",
   "execution_count": null,
   "metadata": {},
   "outputs": [],
   "source": []
  }
 ],
 "metadata": {
  "kernelspec": {
   "display_name": "Python 3",
   "language": "python",
   "name": "python3"
  },
  "language_info": {
   "codemirror_mode": {
    "name": "ipython",
    "version": 3
   },
   "file_extension": ".py",
   "mimetype": "text/x-python",
   "name": "python",
   "nbconvert_exporter": "python",
   "pygments_lexer": "ipython3",
   "version": "3.7.3"
  }
 },
 "nbformat": 4,
 "nbformat_minor": 2
}
