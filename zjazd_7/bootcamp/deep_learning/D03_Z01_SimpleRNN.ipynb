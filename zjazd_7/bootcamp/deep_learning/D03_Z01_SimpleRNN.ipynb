{
 "cells": [
  {
   "cell_type": "code",
   "execution_count": 1,
   "metadata": {},
   "outputs": [
    {
     "name": "stdout",
     "output_type": "stream",
     "text": [
      "1.15.0\n",
      "2.3.1\n"
     ]
    },
    {
     "name": "stderr",
     "output_type": "stream",
     "text": [
      "Using TensorFlow backend.\n"
     ]
    }
   ],
   "source": [
    "import tensorflow as tf\n",
    "print(tf.__version__)\n",
    "import keras\n",
    "print(keras.__version__)\n",
    "# from tensorflow import keras as keras \n",
    "\n",
    "from numpy.random import seed\n",
    "seed(123)\n",
    "from tensorflow import set_random_seed\n",
    "set_random_seed(123)"
   ]
  },
  {
   "cell_type": "code",
   "execution_count": 2,
   "metadata": {},
   "outputs": [],
   "source": [
    "import numpy as np\n",
    "import pandas as pd\n",
    "import matplotlib.pyplot as plt\n",
    "import os"
   ]
  },
  {
   "cell_type": "code",
   "execution_count": 3,
   "metadata": {},
   "outputs": [],
   "source": [
    "from keras.preprocessing import sequence\n",
    "from keras.models import Sequential\n",
    "from keras.layers import Dense, Dropout, Embedding, SimpleRNN, LSTM, Bidirectional\n",
    "from keras.callbacks import EarlyStopping\n",
    "from keras.callbacks import History\n",
    "\n",
    "from keras.datasets import imdb"
   ]
  },
  {
   "cell_type": "markdown",
   "metadata": {},
   "source": [
    "# Zad\n",
    "Pobierz zbiór danych\n",
    "\n",
    "IMDB Movie reviews sentiment classification\n",
    "Dataset of 25,000 movies reviews from IMDB, labeled by sentiment (positive/negative). Reviews have been preprocessed, and each review is encoded as a sequence of word indexes (integers). For convenience, words are indexed by overall frequency in the dataset, so that for instance the integer \"3\" encodes the 3rd most frequent word in the data. This allows for quick filtering operations such as: \"only consider the top 10,000 most common words, but eliminate the top 20 most common words\".\n",
    "\n",
    "As a convention, \"0\" does not stand for a specific word, but instead is used to encode any unknown word.\n",
    "\n",
    "https://keras.io/datasets/"
   ]
  },
  {
   "cell_type": "code",
   "execution_count": 4,
   "metadata": {},
   "outputs": [
    {
     "name": "stdout",
     "output_type": "stream",
     "text": [
      "25000 train sequences\n",
      "25000 test sequences\n",
      "[list([1, 14, 22, 16, 43, 530, 973, 1622, 1385, 65, 458, 4468, 66, 3941, 4, 173, 36, 256, 5, 25, 100, 43, 838, 112, 50, 670, 2, 9, 35, 480, 284, 5, 150, 4, 172, 112, 167, 2, 336, 385, 39, 4, 172, 4536, 1111, 17, 546, 38, 13, 447, 4, 192, 50, 16, 6, 147, 2025, 19, 14, 22, 4, 1920, 4613, 469, 4, 22, 71, 87, 12, 16, 43, 530, 38, 76, 15, 13, 1247, 4, 22, 17, 515, 17, 12, 16, 626, 18, 2, 5, 62, 386, 12, 8, 316, 8, 106, 5, 4, 2223, 2, 16, 480, 66, 3785, 33, 4, 130, 12, 16, 38, 619, 5, 25, 124, 51, 36, 135, 48, 25, 1415, 33, 6, 22, 12, 215, 28, 77, 52, 5, 14, 407, 16, 82, 2, 8, 4, 107, 117, 2, 15, 256, 4, 2, 7, 3766, 5, 723, 36, 71, 43, 530, 476, 26, 400, 317, 46, 7, 4, 2, 1029, 13, 104, 88, 4, 381, 15, 297, 98, 32, 2071, 56, 26, 141, 6, 194, 2, 18, 4, 226, 22, 21, 134, 476, 26, 480, 5, 144, 30, 2, 18, 51, 36, 28, 224, 92, 25, 104, 4, 226, 65, 16, 38, 1334, 88, 12, 16, 283, 5, 16, 4472, 113, 103, 32, 15, 16, 2, 19, 178, 32])\n",
      " list([1, 194, 1153, 194, 2, 78, 228, 5, 6, 1463, 4369, 2, 134, 26, 4, 715, 8, 118, 1634, 14, 394, 20, 13, 119, 954, 189, 102, 5, 207, 110, 3103, 21, 14, 69, 188, 8, 30, 23, 7, 4, 249, 126, 93, 4, 114, 9, 2300, 1523, 5, 647, 4, 116, 9, 35, 2, 4, 229, 9, 340, 1322, 4, 118, 9, 4, 130, 4901, 19, 4, 1002, 5, 89, 29, 952, 46, 37, 4, 455, 9, 45, 43, 38, 1543, 1905, 398, 4, 1649, 26, 2, 5, 163, 11, 3215, 2, 4, 1153, 9, 194, 775, 7, 2, 2, 349, 2637, 148, 605, 2, 2, 15, 123, 125, 68, 2, 2, 15, 349, 165, 4362, 98, 5, 4, 228, 9, 43, 2, 1157, 15, 299, 120, 5, 120, 174, 11, 220, 175, 136, 50, 9, 4373, 228, 2, 5, 2, 656, 245, 2350, 5, 4, 2, 131, 152, 491, 18, 2, 32, 2, 1212, 14, 9, 6, 371, 78, 22, 625, 64, 1382, 9, 8, 168, 145, 23, 4, 1690, 15, 16, 4, 1355, 5, 28, 6, 52, 154, 462, 33, 89, 78, 285, 16, 145, 95])\n",
      " list([1, 14, 47, 8, 30, 31, 7, 4, 249, 108, 7, 4, 2, 54, 61, 369, 13, 71, 149, 14, 22, 112, 4, 2401, 311, 12, 16, 3711, 33, 75, 43, 1829, 296, 4, 86, 320, 35, 534, 19, 263, 4821, 1301, 4, 1873, 33, 89, 78, 12, 66, 16, 4, 360, 7, 4, 58, 316, 334, 11, 4, 1716, 43, 645, 662, 8, 257, 85, 1200, 42, 1228, 2578, 83, 68, 3912, 15, 36, 165, 1539, 278, 36, 69, 2, 780, 8, 106, 14, 2, 1338, 18, 6, 22, 12, 215, 28, 610, 40, 6, 87, 326, 23, 2300, 21, 23, 22, 12, 272, 40, 57, 31, 11, 4, 22, 47, 6, 2307, 51, 9, 170, 23, 595, 116, 595, 1352, 13, 191, 79, 638, 89, 2, 14, 9, 8, 106, 607, 624, 35, 534, 6, 227, 7, 129, 113])]\n"
     ]
    }
   ],
   "source": [
    "max_features = 5000\n",
    "(x_train, y_train), (x_test, y_test) = imdb.load_data(num_words=max_features)\n",
    "print(len(x_train), 'train sequences')\n",
    "print(len(x_test), 'test sequences')\n",
    "print(x_train[:3])"
   ]
  },
  {
   "cell_type": "markdown",
   "metadata": {},
   "source": [
    "# Zad\n",
    "Ujednolicenie długości ciągów - padding"
   ]
  },
  {
   "cell_type": "code",
   "execution_count": 5,
   "metadata": {},
   "outputs": [
    {
     "name": "stdout",
     "output_type": "stream",
     "text": [
      "(25000, 400)\n",
      "(25000, 400)\n"
     ]
    }
   ],
   "source": [
    "# Ujednolicenie długości ciągów - padding:\n",
    "maxlen = 400\n",
    "X_train = sequence.pad_sequences(x_train,maxlen=maxlen)\n",
    "X_test = sequence.pad_sequences(x_test, maxlen=maxlen)\n",
    "print(X_train.shape)\n",
    "print(X_test.shape)"
   ]
  },
  {
   "cell_type": "code",
   "execution_count": 6,
   "metadata": {},
   "outputs": [
    {
     "data": {
      "text/plain": [
       "array([   0,    0,    0,    0,    0,    0,    0,    0,    0,    0,    0,\n",
       "          0,    0,    0,    0,    0,    0,    0,    0,    0,    0,    0,\n",
       "          0,    0,    0,    0,    0,    0,    0,    0,    0,    0,    0,\n",
       "          0,    0,    0,    0,    0,    0,    0,    0,    0,    0,    0,\n",
       "          0,    0,    0,    0,    0,    0,    0,    0,    0,    0,    0,\n",
       "          0,    0,    0,    0,    0,    0,    0,    0,    0,    0,    0,\n",
       "          0,    0,    0,    0,    0,    0,    0,    0,    0,    0,    0,\n",
       "          0,    0,    0,    0,    0,    0,    0,    0,    0,    0,    0,\n",
       "          0,    0,    0,    0,    0,    0,    0,    0,    0,    0,    0,\n",
       "          0,    0,    0,    0,    0,    0,    0,    0,    0,    0,    0,\n",
       "          0,    0,    0,    0,    0,    0,    0,    0,    0,    0,    0,\n",
       "          0,    0,    0,    0,    0,    0,    0,    0,    0,    0,    0,\n",
       "          0,    0,    0,    0,    0,    0,    0,    0,    0,    0,    0,\n",
       "          0,    0,    0,    0,    0,    0,    0,    0,    0,    0,    0,\n",
       "          0,    0,    0,    0,    0,    0,    0,    0,    0,    0,    0,\n",
       "          0,    0,    0,    0,    0,    0,    0,    0,    0,    0,    0,\n",
       "          0,    0,    0,    0,    0,    0,    1,   14,   22,   16,   43,\n",
       "        530,  973, 1622, 1385,   65,  458, 4468,   66, 3941,    4,  173,\n",
       "         36,  256,    5,   25,  100,   43,  838,  112,   50,  670,    2,\n",
       "          9,   35,  480,  284,    5,  150,    4,  172,  112,  167,    2,\n",
       "        336,  385,   39,    4,  172, 4536, 1111,   17,  546,   38,   13,\n",
       "        447,    4,  192,   50,   16,    6,  147, 2025,   19,   14,   22,\n",
       "          4, 1920, 4613,  469,    4,   22,   71,   87,   12,   16,   43,\n",
       "        530,   38,   76,   15,   13, 1247,    4,   22,   17,  515,   17,\n",
       "         12,   16,  626,   18,    2,    5,   62,  386,   12,    8,  316,\n",
       "          8,  106,    5,    4, 2223,    2,   16,  480,   66, 3785,   33,\n",
       "          4,  130,   12,   16,   38,  619,    5,   25,  124,   51,   36,\n",
       "        135,   48,   25, 1415,   33,    6,   22,   12,  215,   28,   77,\n",
       "         52,    5,   14,  407,   16,   82,    2,    8,    4,  107,  117,\n",
       "          2,   15,  256,    4,    2,    7, 3766,    5,  723,   36,   71,\n",
       "         43,  530,  476,   26,  400,  317,   46,    7,    4,    2, 1029,\n",
       "         13,  104,   88,    4,  381,   15,  297,   98,   32, 2071,   56,\n",
       "         26,  141,    6,  194,    2,   18,    4,  226,   22,   21,  134,\n",
       "        476,   26,  480,    5,  144,   30,    2,   18,   51,   36,   28,\n",
       "        224,   92,   25,  104,    4,  226,   65,   16,   38, 1334,   88,\n",
       "         12,   16,  283,    5,   16, 4472,  113,  103,   32,   15,   16,\n",
       "          2,   19,  178,   32])"
      ]
     },
     "execution_count": 6,
     "metadata": {},
     "output_type": "execute_result"
    }
   ],
   "source": [
    "X_train[0]"
   ]
  },
  {
   "cell_type": "markdown",
   "metadata": {},
   "source": [
    "# Zad\n",
    "Zmniejszmy zbiór danych"
   ]
  },
  {
   "cell_type": "code",
   "execution_count": 7,
   "metadata": {},
   "outputs": [
    {
     "name": "stdout",
     "output_type": "stream",
     "text": [
      "(5000, 400)\n",
      "(2000, 400)\n"
     ]
    }
   ],
   "source": [
    "n_train = 5000\n",
    "n_test = 2000\n",
    "X_train = X_train[:n_train]\n",
    "y_train = y_train[:n_train]\n",
    "X_test = X_test[:n_test]\n",
    "y_test = y_test[:n_test]\n",
    "print(X_train.shape)\n",
    "print(X_test.shape)"
   ]
  },
  {
   "cell_type": "markdown",
   "metadata": {},
   "source": [
    "The Embedding layer is initialized with random weights and will learn an embedding for all of the words in the training dataset.\n",
    "\n",
    "It is a flexible layer that can be used in a variety of ways, such as:\n",
    "\n",
    "* It can be used alone to learn a word embedding that can be saved and used in another model later.\n",
    "* It can be used as part of a deep learning model where the embedding is learned along with the model itself.\n",
    "* It can be used to load a pre-trained word embedding model, a type of transfer learning.\n",
    "\n",
    "The Embedding layer is defined as the first hidden layer of a network. It must specify 3 arguments:\n",
    "\n",
    "It must specify 3 arguments:\n",
    "\n",
    "* **input_dim**: This is the size of the vocabulary in the text data. For example, if your data is integer encoded to values between 0-10, then the size of the vocabulary would be 11 words.\n",
    "* **output_dim**: This is the size of the vector space in which words will be embedded. It defines the size of the output vectors from this layer for each word. For example, it could be 32 or 100 or even larger. Test different values for your problem.\n",
    "* **input_length**: This is the length of input sequences, as you would define for any input layer of a Keras model. For example, if all of your input documents are comprised of 1000 words, this would be 1000."
   ]
  },
  {
   "cell_type": "markdown",
   "metadata": {},
   "source": [
    "# Zad\n",
    "Zwykła sieć rekurencyjna ( z embeddingami)"
   ]
  },
  {
   "cell_type": "code",
   "execution_count": 8,
   "metadata": {},
   "outputs": [
    {
     "name": "stdout",
     "output_type": "stream",
     "text": [
      "WARNING:tensorflow:From C:\\ProgramData\\Anaconda3\\lib\\site-packages\\tensorflow_core\\python\\ops\\resource_variable_ops.py:1630: calling BaseResourceVariable.__init__ (from tensorflow.python.ops.resource_variable_ops) with constraint is deprecated and will be removed in a future version.\n",
      "Instructions for updating:\n",
      "If using Keras pass *_constraint arguments to layers.\n",
      "Model: \"sequential_1\"\n",
      "_________________________________________________________________\n",
      "Layer (type)                 Output Shape              Param #   \n",
      "=================================================================\n",
      "embedding_1 (Embedding)      (None, 400, 50)           250000    \n",
      "_________________________________________________________________\n",
      "simple_rnn_1 (SimpleRNN)     (None, 100)               15100     \n",
      "_________________________________________________________________\n",
      "dense_1 (Dense)              (None, 1)                 101       \n",
      "=================================================================\n",
      "Total params: 265,201\n",
      "Trainable params: 265,201\n",
      "Non-trainable params: 0\n",
      "_________________________________________________________________\n"
     ]
    }
   ],
   "source": [
    "history = History()\n",
    "model = Sequential()\n",
    "model.add(Embedding(max_features, 50, input_length=maxlen)) # wyjscie z warstwy ma wymiar 50\n",
    "model.add(SimpleRNN(100))\n",
    "model.add(Dense(1,activation=\"sigmoid\"))\n",
    "model.summary()"
   ]
  },
  {
   "cell_type": "code",
   "execution_count": 9,
   "metadata": {},
   "outputs": [
    {
     "name": "stdout",
     "output_type": "stream",
     "text": [
      "WARNING:tensorflow:From C:\\ProgramData\\Anaconda3\\lib\\site-packages\\tensorflow_core\\python\\ops\\nn_impl.py:183: where (from tensorflow.python.ops.array_ops) is deprecated and will be removed in a future version.\n",
      "Instructions for updating:\n",
      "Use tf.where in 2.0, which has the same broadcast rule as np.where\n",
      "WARNING:tensorflow:From C:\\ProgramData\\Anaconda3\\lib\\site-packages\\keras\\backend\\tensorflow_backend.py:422: The name tf.global_variables is deprecated. Please use tf.compat.v1.global_variables instead.\n",
      "\n",
      "Train on 4000 samples, validate on 1000 samples\n",
      "Epoch 1/100\n",
      "4000/4000 [==============================] - 11s 3ms/step - loss: 0.6926 - accuracy: 0.5205 - val_loss: 0.6899 - val_accuracy: 0.5190\n",
      "Epoch 2/100\n",
      "4000/4000 [==============================] - 11s 3ms/step - loss: 0.6605 - accuracy: 0.6463 - val_loss: 0.6942 - val_accuracy: 0.5220\n",
      "Epoch 3/100\n",
      "4000/4000 [==============================] - 11s 3ms/step - loss: 0.6729 - accuracy: 0.5828 - val_loss: 0.6701 - val_accuracy: 0.6040\n",
      "Epoch 4/100\n",
      "4000/4000 [==============================] - 10s 3ms/step - loss: 0.6427 - accuracy: 0.6680 - val_loss: 0.6605 - val_accuracy: 0.5750\n",
      "Epoch 5/100\n",
      "4000/4000 [==============================] - 11s 3ms/step - loss: 0.6097 - accuracy: 0.7128 - val_loss: 0.6395 - val_accuracy: 0.6220\n",
      "Epoch 6/100\n",
      "4000/4000 [==============================] - 11s 3ms/step - loss: 0.5570 - accuracy: 0.7462 - val_loss: 0.6450 - val_accuracy: 0.6000\n",
      "Epoch 7/100\n",
      "4000/4000 [==============================] - 10s 3ms/step - loss: 0.4917 - accuracy: 0.7688 - val_loss: 0.6254 - val_accuracy: 0.6620\n",
      "Epoch 8/100\n",
      "4000/4000 [==============================] - 11s 3ms/step - loss: 0.4226 - accuracy: 0.8035 - val_loss: 0.6310 - val_accuracy: 0.6870\n",
      "Epoch 9/100\n",
      "4000/4000 [==============================] - 11s 3ms/step - loss: 0.3334 - accuracy: 0.8553 - val_loss: 0.6350 - val_accuracy: 0.7120\n",
      "Epoch 10/100\n",
      "4000/4000 [==============================] - 11s 3ms/step - loss: 0.2596 - accuracy: 0.8970 - val_loss: 0.6555 - val_accuracy: 0.7220\n",
      "Epoch 11/100\n",
      "4000/4000 [==============================] - 11s 3ms/step - loss: 0.1894 - accuracy: 0.9310 - val_loss: 0.7152 - val_accuracy: 0.7210\n",
      "Epoch 12/100\n",
      "4000/4000 [==============================] - 12s 3ms/step - loss: 0.1354 - accuracy: 0.9555 - val_loss: 0.7677 - val_accuracy: 0.7320\n",
      "Epoch 13/100\n",
      "4000/4000 [==============================] - 11s 3ms/step - loss: 0.1058 - accuracy: 0.9675 - val_loss: 0.8152 - val_accuracy: 0.7380\n",
      "Epoch 14/100\n",
      "4000/4000 [==============================] - 11s 3ms/step - loss: 0.0919 - accuracy: 0.9720 - val_loss: 0.8828 - val_accuracy: 0.7320\n",
      "Epoch 15/100\n",
      "4000/4000 [==============================] - 11s 3ms/step - loss: 0.0644 - accuracy: 0.9840 - val_loss: 0.9007 - val_accuracy: 0.7280\n",
      "Epoch 16/100\n",
      "4000/4000 [==============================] - 11s 3ms/step - loss: 0.0702 - accuracy: 0.9810 - val_loss: 1.0123 - val_accuracy: 0.7180\n",
      "Epoch 17/100\n",
      "4000/4000 [==============================] - 11s 3ms/step - loss: 0.0827 - accuracy: 0.9725 - val_loss: 0.9871 - val_accuracy: 0.7230\n",
      "Epoch 00017: early stopping\n"
     ]
    },
    {
     "data": {
      "text/plain": [
       "<keras.callbacks.callbacks.History at 0x23252c73c8>"
      ]
     },
     "execution_count": 9,
     "metadata": {},
     "output_type": "execute_result"
    }
   ],
   "source": [
    "model.compile(loss=\"binary_crossentropy\",optimizer=\"adam\", metrics=[\"accuracy\"])\n",
    "early_stopping = EarlyStopping(monitor='val_loss', patience=10, mode='min', verbose=1)\n",
    "model.fit(X_train,y_train, epochs=100, validation_split=0.2, callbacks=[history, early_stopping])"
   ]
  },
  {
   "cell_type": "code",
   "execution_count": 10,
   "metadata": {},
   "outputs": [
    {
     "name": "stdout",
     "output_type": "stream",
     "text": [
      "2000/2000 [==============================] - 2s 861us/step\n"
     ]
    },
    {
     "data": {
      "text/plain": [
       "[0.986781644821167, 0.7239999771118164]"
      ]
     },
     "execution_count": 10,
     "metadata": {},
     "output_type": "execute_result"
    }
   ],
   "source": [
    "model.evaluate(X_test,y_test)"
   ]
  },
  {
   "cell_type": "code",
   "execution_count": 11,
   "metadata": {},
   "outputs": [
    {
     "data": {
      "image/png": "[encoded data removed]",
      "text/plain": [
       "<Figure size 432x288 with 1 Axes>"
      ]
     },
     "metadata": {
      "needs_background": "light"
     },
     "output_type": "display_data"
    }
   ],
   "source": [
    "\n",
    "plt.plot(history.history['accuracy'], label = \"tarina Adam\")\n",
    "plt.plot(history.history['val_accuracy'], label = \"test Adam\")\n",
    "\n",
    "\n",
    "plt.legend()\n",
    "plt.show()"
   ]
  },
  {
   "cell_type": "markdown",
   "metadata": {},
   "source": [
    "# Zad\n",
    "Proszę dodać\n",
    "```python\n",
    "SimpleRNN(100,dropout=0.5)\n",
    "```"
   ]
  },
  {
   "cell_type": "code",
   "execution_count": null,
   "metadata": {},
   "outputs": [],
   "source": []
  },
  {
   "cell_type": "code",
   "execution_count": null,
   "metadata": {},
   "outputs": [],
   "source": [
    "plt.plot(history.history['accuracy'], label = \"tarina Adam\")\n",
    "plt.plot(history.history['val_accuracy'], label = \"test Adam\")\n",
    "\n",
    "plt.plot(history_d.history['accuracy'], label = \"tarina Adam\")\n",
    "plt.plot(history_d.history['val_accuracy'], label = \"test Adam\")\n",
    "\n",
    "plt.legend()\n",
    "plt.show()"
   ]
  },
  {
   "cell_type": "markdown",
   "metadata": {},
   "source": [
    "# Zad\n",
    "Sprawdź architekturę dwustronną\n",
    "```python\n",
    "Bidirectional(SimpleRNN(10,dropout=0.5))\n",
    "```"
   ]
  },
  {
   "cell_type": "code",
   "execution_count": null,
   "metadata": {},
   "outputs": [],
   "source": []
  },
  {
   "cell_type": "code",
   "execution_count": null,
   "metadata": {},
   "outputs": [],
   "source": [
    "plt.plot(history.history['accuracy'], label = \"tarina Adam\")\n",
    "plt.plot(history.history['val_accuracy'], label = \"test Adam\")\n",
    "\n",
    "plt.plot(history_d.history['accuracy'], label = \"tarina Adam\")\n",
    "plt.plot(history_d.history['val_accuracy'], label = \"test Adam\")\n",
    "\n",
    "plt.plot(history_d_10.history['accuracy'], label = \"tarina Adam\")\n",
    "plt.plot(history_d_10.history['val_accuracy'], label = \"test Adam\")\n",
    "\n",
    "plt.legend()\n",
    "plt.show()"
   ]
  },
  {
   "cell_type": "markdown",
   "metadata": {},
   "source": [
    "# Zad\n",
    "Proszę sprawdzić dwie warstwy:\n",
    "```python\n",
    "model.add(SimpleRNN(10,return_sequences=True))\n",
    "model.add(SimpleRNN(20))\n",
    "```"
   ]
  },
  {
   "cell_type": "code",
   "execution_count": null,
   "metadata": {},
   "outputs": [],
   "source": []
  },
  {
   "cell_type": "code",
   "execution_count": null,
   "metadata": {},
   "outputs": [],
   "source": [
    "plt.plot(history.history['accuracy'], label = \"tarina \")\n",
    "plt.plot(history.history['val_accuracy'], label = \"test \")\n",
    "\n",
    "plt.plot(history_d.history['accuracy'], label = \"tarina  Drop\")\n",
    "plt.plot(history_d.history['val_accuracy'], label = \"test Drop\")\n",
    "\n",
    "plt.plot(history_d_10.history['accuracy'], label = \"tarina Drop 10\")\n",
    "plt.plot(history_d_10.history['val_accuracy'], label = \"test Drop 10\")\n",
    "\n",
    "plt.plot(history_2.history['accuracy'], label = \"tarina 2 Layer\")\n",
    "plt.plot(history_2.history['val_accuracy'], label = \"test 2 Layer\")\n",
    "\n",
    "plt.legend()\n",
    "plt.show()"
   ]
  },
  {
   "cell_type": "markdown",
   "metadata": {},
   "source": [
    "# LSTM"
   ]
  },
  {
   "cell_type": "code",
   "execution_count": 18,
   "metadata": {},
   "outputs": [
    {
     "name": "stdout",
     "output_type": "stream",
     "text": [
      "Model: \"sequential_5\"\n",
      "_________________________________________________________________\n",
      "Layer (type)                 Output Shape              Param #   \n",
      "=================================================================\n",
      "embedding_5 (Embedding)      (None, 400, 50)           250000    \n",
      "_________________________________________________________________\n",
      "lstm_1 (LSTM)                (None, 20)                5680      \n",
      "_________________________________________________________________\n",
      "dense_5 (Dense)              (None, 1)                 21        \n",
      "=================================================================\n",
      "Total params: 255,701\n",
      "Trainable params: 255,701\n",
      "Non-trainable params: 0\n",
      "_________________________________________________________________\n",
      "Train on 4000 samples, validate on 1000 samples\n",
      "Epoch 1/100\n",
      "4000/4000 [==============================] - 23s 6ms/step - loss: 0.6340 - accuracy: 0.6532 - val_loss: 0.5242 - val_accuracy: 0.7700\n",
      "Epoch 2/100\n",
      "4000/4000 [==============================] - 16s 4ms/step - loss: 0.3676 - accuracy: 0.8535 - val_loss: 0.3966 - val_accuracy: 0.8330\n",
      "Epoch 3/100\n",
      "4000/4000 [==============================] - 21s 5ms/step - loss: 0.2500 - accuracy: 0.9105 - val_loss: 0.4073 - val_accuracy: 0.8370\n",
      "Epoch 4/100\n",
      "4000/4000 [==============================] - 22s 6ms/step - loss: 0.1607 - accuracy: 0.9452 - val_loss: 0.4489 - val_accuracy: 0.8330\n",
      "Epoch 5/100\n",
      "4000/4000 [==============================] - 23s 6ms/step - loss: 0.1178 - accuracy: 0.9638 - val_loss: 0.4999 - val_accuracy: 0.8290\n",
      "Epoch 6/100\n",
      "4000/4000 [==============================] - 19s 5ms/step - loss: 0.0973 - accuracy: 0.9693 - val_loss: 0.7142 - val_accuracy: 0.7990\n",
      "Epoch 7/100\n",
      "4000/4000 [==============================] - 15s 4ms/step - loss: 0.0600 - accuracy: 0.9830 - val_loss: 0.5929 - val_accuracy: 0.8070\n",
      "Epoch 8/100\n",
      "4000/4000 [==============================] - 15s 4ms/step - loss: 0.0476 - accuracy: 0.9865 - val_loss: 0.6644 - val_accuracy: 0.8150\n",
      "Epoch 9/100\n",
      "4000/4000 [==============================] - 16s 4ms/step - loss: 0.0249 - accuracy: 0.9952 - val_loss: 0.6874 - val_accuracy: 0.8110\n",
      "Epoch 10/100\n",
      "4000/4000 [==============================] - 16s 4ms/step - loss: 0.0114 - accuracy: 0.9990 - val_loss: 0.7497 - val_accuracy: 0.8230\n",
      "Epoch 11/100\n",
      "4000/4000 [==============================] - 16s 4ms/step - loss: 0.0082 - accuracy: 0.9990 - val_loss: 0.8365 - val_accuracy: 0.8090\n",
      "Epoch 12/100\n",
      "4000/4000 [==============================] - 16s 4ms/step - loss: 0.0062 - accuracy: 0.9992 - val_loss: 0.8424 - val_accuracy: 0.8040\n",
      "Epoch 00012: early stopping\n",
      "2000/2000 [==============================] - 2s 1ms/step\n"
     ]
    },
    {
     "data": {
      "text/plain": [
       "[0.8676849020719528, 0.8004999756813049]"
      ]
     },
     "execution_count": 18,
     "metadata": {},
     "output_type": "execute_result"
    }
   ],
   "source": [
    "from keras.layers import LSTM\n",
    "\n",
    "history_LSTM = History()\n",
    "model = Sequential()\n",
    "model.add(Embedding(max_features, \n",
    "                    50,\n",
    "                   input_length=maxlen,\n",
    "                   mask_zero=True)) \n",
    "# mask_zero sprawia ze siec pomija zera na poczatku\n",
    "model.add(LSTM(20))\n",
    "model.add(Dense(1,activation=\"sigmoid\"))\n",
    "model.summary()\n",
    "\n",
    "model.compile(loss=\"binary_crossentropy\", optimizer=\"adam\",metrics=[\"accuracy\"])\n",
    "early_stopping = EarlyStopping(monitor='val_loss', patience=10, mode='min', verbose=1)\n",
    "model.fit(X_train,y_train, epochs=100, validation_split=0.2, callbacks=[history_LSTM, early_stopping])\n",
    "\n",
    "model.evaluate(X_test,y_test)"
   ]
  },
  {
   "cell_type": "code",
   "execution_count": 19,
   "metadata": {},
   "outputs": [
    {
     "data": {
      "image/png": "[encoded data removed]",
      "text/plain": [
       "<Figure size 432x288 with 1 Axes>"
      ]
     },
     "metadata": {
      "needs_background": "light"
     },
     "output_type": "display_data"
    }
   ],
   "source": [
    "plt.plot(history_2.history['accuracy'], label = \"tarina 2 Layer\")\n",
    "plt.plot(history_2.history['val_accuracy'], label = \"test 2 Layer\")\n",
    "\n",
    "plt.plot(history_LSTM.history['accuracy'], label = \"tarina LSTM\")\n",
    "plt.plot(history_LSTM.history['val_accuracy'], label = \"test LSTM\")\n",
    "\n",
    "plt.legend()\n",
    "plt.show()"
   ]
  },
  {
   "cell_type": "markdown",
   "metadata": {},
   "source": [
    "# GRU"
   ]
  },
  {
   "cell_type": "code",
   "execution_count": null,
   "metadata": {},
   "outputs": [],
   "source": []
  },
  {
   "cell_type": "code",
   "execution_count": null,
   "metadata": {},
   "outputs": [],
   "source": []
  },
  {
   "cell_type": "code",
   "execution_count": null,
   "metadata": {},
   "outputs": [],
   "source": [
    "plt.plot(history_2.history['accuracy'], label = \"tarina 2 Layer\")\n",
    "plt.plot(history_2.history['val_accuracy'], label = \"test 2 Layer\")\n",
    "\n",
    "plt.plot(history_LSTM.history['accuracy'], label = \"tarina LSTM\")\n",
    "plt.plot(history_LSTM.history['val_accuracy'], label = \"test LSTM\")\n",
    "\n",
    "plt.plot(history_GRU.history['accuracy'], label = \"tarina GRU\")\n",
    "plt.plot(history_GRU.history['val_accuracy'], label = \"test GRU\")\n",
    "\n",
    "plt.legend()\n",
    "plt.show()"
   ]
  },
  {
   "cell_type": "markdown",
   "metadata": {},
   "source": [
    "# Zad\n",
    "\n",
    "Zbóduj model używający \n",
    "```python\n",
    "Bidirectional LSTM\n",
    "```\n",
    "\n",
    "https://machinelearningmastery.com/develop-bidirectional-lstm-sequence-classification-python-keras/\n",
    "\n",
    "https://keras.io/examples/imdb_bidirectional_lstm/"
   ]
  },
  {
   "cell_type": "code",
   "execution_count": null,
   "metadata": {},
   "outputs": [],
   "source": []
  },
  {
   "cell_type": "markdown",
   "metadata": {},
   "source": [
    "# Zad. \n",
    "Zbuduj model używający \n",
    "```python\n",
    "model.add(TimeDistributed(Dense(1, activation='sigmoid')))\n",
    "```\n",
    "\n",
    "https://stackoverflow.com/questions/53670332/why-not-use-flatten-followed-by-a-dense-layer-instead-of-timedistributed"
   ]
  },
  {
   "cell_type": "code",
   "execution_count": null,
   "metadata": {},
   "outputs": [],
   "source": []
  }
 ],
 "metadata": {
  "kernelspec": {
   "display_name": "Python 3",
   "language": "python",
   "name": "python3"
  },
  "language_info": {
   "codemirror_mode": {
    "name": "ipython",
    "version": 3
   },
   "file_extension": ".py",
   "mimetype": "text/x-python",
   "name": "python",
   "nbconvert_exporter": "python",
   "pygments_lexer": "ipython3",
   "version": "3.7.1"
  }
 },
 "nbformat": 4,
 "nbformat_minor": 2
}
