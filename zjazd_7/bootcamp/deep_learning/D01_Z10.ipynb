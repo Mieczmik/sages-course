{
  "nbformat": 4,
  "nbformat_minor": 0,
  "metadata": {
    "kernelspec": {
      "display_name": "Python 3",
      "language": "python",
      "name": "python3"
    },
    "language_info": {
      "codemirror_mode": {
        "name": "ipython",
        "version": 3
      },
      "file_extension": ".py",
      "mimetype": "text/x-python",
      "name": "python",
      "nbconvert_exporter": "python",
      "pygments_lexer": "ipython3",
      "version": "3.7.3"
    },
    "colab": {
      "name": "D01_Z10.ipynb",
      "provenance": []
    }
  },
  "cells": [
    {
      "cell_type": "code",
      "metadata": {
        "id": "wV5Lkj5k2M5Y",
        "colab_type": "code",
        "colab": {
          "base_uri": "https://localhost:8080/",
          "height": 114
        },
        "outputId": "b72be709-a64c-4063-cd44-4eef2b4bc211"
      },
      "source": [
        "import numpy as np\n",
        "import matplotlib.pyplot as plt\n",
        "import pandas as pd\n",
        "\n",
        "import tensorflow as tf\n",
        "print(tf.__version__)\n",
        "import keras\n",
        "print(keras.__version__)\n",
        "# from tensorflow import keras as keras \n",
        "\n",
        "from numpy.random import seed\n",
        "seed(123)\n",
        "from tensorflow import set_random_seed\n",
        "set_random_seed(123)"
      ],
      "execution_count": 1,
      "outputs": [
        {
          "output_type": "display_data",
          "data": {
            "text/html": [
              "<p style=\"color: red;\">\n",
              "The default version of TensorFlow in Colab will soon switch to TensorFlow 2.x.<br>\n",
              "We recommend you <a href=\"https://www.tensorflow.org/guide/migrate\" target=\"_blank\">upgrade</a> now \n",
              "or ensure your notebook will continue to use TensorFlow 1.x via the <code>%tensorflow_version 1.x</code> magic:\n",
              "<a href=\"https://colab.research.google.com/notebooks/tensorflow_version.ipynb\" target=\"_blank\">more info</a>.</p>\n"
            ],
            "text/plain": [
              "<IPython.core.display.HTML object>"
            ]
          },
          "metadata": {
            "tags": []
          }
        },
        {
          "output_type": "stream",
          "text": [
            "1.15.0\n",
            "2.2.5\n"
          ],
          "name": "stdout"
        },
        {
          "output_type": "stream",
          "text": [
            "Using TensorFlow backend.\n"
          ],
          "name": "stderr"
        }
      ]
    },
    {
      "cell_type": "markdown",
      "metadata": {
        "id": "bt2rx14Q2M5g",
        "colab_type": "text"
      },
      "source": [
        "# Zad\n",
        "Pobierz dane"
      ]
    },
    {
      "cell_type": "code",
      "metadata": {
        "id": "auS3DCn_2M5h",
        "colab_type": "code",
        "colab": {
          "base_uri": "https://localhost:8080/",
          "height": 51
        },
        "outputId": "2e41fa66-37e9-4bb5-b0ac-33c4b2724440"
      },
      "source": [
        "from sklearn.datasets import fetch_20newsgroups\n",
        "newsgroups = fetch_20newsgroups(subset='train',categories=['sci.crypt', 'sci.electronics'])"
      ],
      "execution_count": 2,
      "outputs": [
        {
          "output_type": "stream",
          "text": [
            "Downloading 20news dataset. This may take a few minutes.\n",
            "Downloading dataset from https://ndownloader.figshare.com/files/5975967 (14 MB)\n"
          ],
          "name": "stderr"
        }
      ]
    },
    {
      "cell_type": "markdown",
      "metadata": {
        "id": "CGcnSaFN2M5m",
        "colab_type": "text"
      },
      "source": [
        "Wypisz pierwszy tekst"
      ]
    },
    {
      "cell_type": "code",
      "metadata": {
        "id": "dPWkPvxM2M5n",
        "colab_type": "code",
        "colab": {
          "base_uri": "https://localhost:8080/",
          "height": 578
        },
        "outputId": "afe714c1-4888-450b-f996-12c1d87ef32e"
      },
      "source": [
        "# newsgroups_train.data[0]\n",
        "print(newsgroups.data[0])"
      ],
      "execution_count": 3,
      "outputs": [
        {
          "output_type": "stream",
          "text": [
            "From: tedwards@eng.umd.edu (Thomas Grant Edwards)\n",
            "Subject: Re: Once tapped, your code is no good any more.\n",
            "Organization: Project GLUE, University of Maryland, College Park\n",
            "Lines: 25\n",
            "Distribution: na\n",
            "NNTP-Posting-Host: pipa.src.umd.edu\n",
            "\n",
            "In article <1r1r3nINNebn@dns1.NMSU.Edu> amolitor@nmsu.edu (Andrew Molitor) writes:\n",
            ">In article <C5so84.Hxv@demon.co.uk> Graham Toal <gtoal@gtoal.com> writes:\n",
            ">>Actually, I am *completely* baffled by why Dorothy Denning has chosen\n",
            ">>to throw away her academic respectability like this.\n",
            "\n",
            ">\tActually, I've been following her remarks for some time, with\n",
            ">interest. I'm also a member of academia, and her remarks have nothing\n",
            ">but elevate her respectability in my eyes. It remains to be seen whether\n",
            ">you are the radical fringe, or I.\n",
            "\n",
            ">\tIt is generally an error to assume that your beliefs are held by\n",
            ">the majority, or even a sizable minority. Especially when you're seeing\n",
            ">tens, nay dozens, of people on usenet agreeing with you.\n",
            "\n",
            "The people on usenet are clearly a special bunch.  We live the net, which\n",
            "is the future of our culture.  Usenetters have rapid electronic access to\n",
            "information.  Society in general must depend on CNN.  \n",
            "\n",
            "I can only hope we can make this information accessable by the public before\n",
            "the radical fringe, which _is_ the majority, destroys the fabric of\n",
            "this country.  Freedom is never easily won.\n",
            "\n",
            "-Thomas\n",
            "\n",
            "\n",
            "\n"
          ],
          "name": "stdout"
        }
      ]
    },
    {
      "cell_type": "code",
      "metadata": {
        "id": "6YXcTSTN2M5q",
        "colab_type": "code",
        "colab": {
          "base_uri": "https://localhost:8080/",
          "height": 34
        },
        "outputId": "97f20977-489d-461c-c59b-df677bc3220e"
      },
      "source": [
        "print(len(newsgroups.data))"
      ],
      "execution_count": 4,
      "outputs": [
        {
          "output_type": "stream",
          "text": [
            "1186\n"
          ],
          "name": "stdout"
        }
      ]
    },
    {
      "cell_type": "code",
      "metadata": {
        "id": "BeZCX7502M5s",
        "colab_type": "code",
        "colab": {
          "base_uri": "https://localhost:8080/",
          "height": 34
        },
        "outputId": "bf45f1b4-0e35-4200-b862-3632b1ca08a9"
      },
      "source": [
        "X = newsgroups.data\n",
        "y = newsgroups.target\n",
        "\n",
        "len(X)"
      ],
      "execution_count": 5,
      "outputs": [
        {
          "output_type": "execute_result",
          "data": {
            "text/plain": [
              "1186"
            ]
          },
          "metadata": {
            "tags": []
          },
          "execution_count": 5
        }
      ]
    },
    {
      "cell_type": "markdown",
      "metadata": {
        "id": "sDO2eEKs2M5x",
        "colab_type": "text"
      },
      "source": [
        "# Zad\n",
        "Zbuduj labele $y$ jako **One-hot encoding**:"
      ]
    },
    {
      "cell_type": "code",
      "metadata": {
        "id": "vl-ZwJwm2M50",
        "colab_type": "code",
        "colab": {
          "base_uri": "https://localhost:8080/",
          "height": 187
        },
        "outputId": "eada30e5-dd64-4333-da18-267b57642eef"
      },
      "source": [
        "from keras.utils import np_utils\n",
        "y = np_utils.to_categorical(y)\n",
        "y[:10]"
      ],
      "execution_count": 6,
      "outputs": [
        {
          "output_type": "execute_result",
          "data": {
            "text/plain": [
              "array([[1., 0.],\n",
              "       [1., 0.],\n",
              "       [1., 0.],\n",
              "       [1., 0.],\n",
              "       [1., 0.],\n",
              "       [0., 1.],\n",
              "       [0., 1.],\n",
              "       [0., 1.],\n",
              "       [1., 0.],\n",
              "       [1., 0.]], dtype=float32)"
            ]
          },
          "metadata": {
            "tags": []
          },
          "execution_count": 6
        }
      ]
    },
    {
      "cell_type": "code",
      "metadata": {
        "id": "CeB_xsUt2M54",
        "colab_type": "code",
        "colab": {
          "base_uri": "https://localhost:8080/",
          "height": 102
        },
        "outputId": "2f4fc3a1-4b96-42b4-b925-c164e699dead"
      },
      "source": [
        "import nltk\n",
        "import string\n",
        "import re\n",
        "import pandas as pd\n",
        "nltk.download('punkt')\n",
        "nltk.download('stopwords')"
      ],
      "execution_count": 13,
      "outputs": [
        {
          "output_type": "stream",
          "text": [
            "[nltk_data] Downloading package punkt to /root/nltk_data...\n",
            "[nltk_data]   Package punkt is already up-to-date!\n",
            "[nltk_data] Downloading package stopwords to /root/nltk_data...\n",
            "[nltk_data]   Unzipping corpora/stopwords.zip.\n"
          ],
          "name": "stdout"
        },
        {
          "output_type": "execute_result",
          "data": {
            "text/plain": [
              "True"
            ]
          },
          "metadata": {
            "tags": []
          },
          "execution_count": 13
        }
      ]
    },
    {
      "cell_type": "code",
      "metadata": {
        "id": "EHp5fADX2M57",
        "colab_type": "code",
        "colab": {}
      },
      "source": [
        "def extract_content(mail):    \n",
        "    # wyciagniecie tresci maila   \n",
        "    return mail[mail.find(\"\\n\\n\"):]\n",
        "\n",
        "def extract_subject(mail):\n",
        "    return re.findall(r'Subject:(.+)',mail)[0]\n",
        "\n",
        "\n",
        "def stem_helper(word,stemmer):\n",
        "    try:\n",
        "        y = stemmer.stem(word)\n",
        "    except:\n",
        "        y = word\n",
        "    return y\n",
        "\n",
        "\n",
        "\n",
        "def clean_text(x, stemmer = nltk.PorterStemmer()):   \n",
        "    \"\"\"\n",
        "    x - jeden mail\n",
        "    \"\"\"    \n",
        " \n",
        "    #tokenizacja - rozbicie na liste tokenow\n",
        "    x_t = nltk.word_tokenize(x)    \n",
        "    # usuwanie znakow interpunkcyjnych\n",
        "    translator = str.maketrans('', '', string.punctuation)\n",
        "    x_t = [word.translate(translator) for word in x_t]    \n",
        "    # zamina liter male\n",
        "    x_t = [word.lower() for word in x_t]    \n",
        "    # usuwanie zbednych tokenow\n",
        "    x_t = [w for w in x_t if w not in nltk.corpus.stopwords.words(\"english\")+[\"nt\"]]    \n",
        "    # stemming\n",
        "    x_t = [stem_helper(word,stemmer) for word in x_t]    \n",
        "    # sklejenie do napisu\n",
        "    x_new = ' '.join(x_t)    \n",
        "    return x_new\n",
        "\n",
        "\n",
        "X_c = [clean_text(extract_content(x)) for x in X]\n",
        "X_s = [clean_text(extract_subject(x)) for x in X]\n",
        "\n",
        "X = pd.DataFrame({\"subject\":X_s, \"content\":X_c})"
      ],
      "execution_count": 0,
      "outputs": []
    },
    {
      "cell_type": "code",
      "metadata": {
        "id": "EcZcZcLk2M59",
        "colab_type": "code",
        "colab": {
          "base_uri": "https://localhost:8080/",
          "height": 34
        },
        "outputId": "48162c08-b5a0-4ee7-f8f3-8928e85e3184"
      },
      "source": [
        "from sklearn.model_selection import train_test_split\n",
        "X_train, X_test, y_train, y_test = train_test_split(X_c,y,test_size=400)\n",
        "#bierzemy tylko tresc - bez tytulu\n",
        "print(y_test.shape)"
      ],
      "execution_count": 15,
      "outputs": [
        {
          "output_type": "stream",
          "text": [
            "(400, 2)\n"
          ],
          "name": "stdout"
        }
      ]
    },
    {
      "cell_type": "code",
      "metadata": {
        "id": "Bq6nn4qr2M6C",
        "colab_type": "code",
        "colab": {}
      },
      "source": [
        "from sklearn.feature_extraction.text import CountVectorizer\n",
        "cv =CountVectorizer(max_features=2000)\n",
        "\n",
        "cv.fit(X_train,y_train)\n",
        "\n",
        "X_train_transformed = cv.transform(X_train).todense()\n",
        "X_test_transformed = cv.transform(X_test).todense()"
      ],
      "execution_count": 0,
      "outputs": []
    },
    {
      "cell_type": "code",
      "metadata": {
        "id": "H8g495QF2M6F",
        "colab_type": "code",
        "colab": {
          "base_uri": "https://localhost:8080/",
          "height": 34
        },
        "outputId": "f34b017f-007b-443f-8207-e29ed424ee27"
      },
      "source": [
        "X_test_transformed.shape, y_test.shape"
      ],
      "execution_count": 17,
      "outputs": [
        {
          "output_type": "execute_result",
          "data": {
            "text/plain": [
              "((400, 2000), (400, 2))"
            ]
          },
          "metadata": {
            "tags": []
          },
          "execution_count": 17
        }
      ]
    },
    {
      "cell_type": "code",
      "metadata": {
        "id": "dRxOvdvP2M6I",
        "colab_type": "code",
        "colab": {}
      },
      "source": [
        ""
      ],
      "execution_count": 0,
      "outputs": []
    },
    {
      "cell_type": "code",
      "metadata": {
        "id": "ctmyYrWE2M6K",
        "colab_type": "code",
        "colab": {
          "base_uri": "https://localhost:8080/",
          "height": 1000
        },
        "outputId": "3bc855f8-d067-480f-af27-346d5157b786"
      },
      "source": [
        "from keras.models import Sequential\n",
        "from keras.layers import Dense\n",
        "from keras.callbacks import LearningRateScheduler\n",
        "from keras.callbacks import ModelCheckpoint\n",
        "from keras.callbacks import EarlyStopping\n",
        "from keras.layers import Dropout\n",
        "from keras.layers import BatchNormalization\n",
        "from keras.layers import Activation\n",
        "from keras.callbacks import History\n",
        "from keras.regularizers import l2\n",
        "\n",
        "# learning rate schedule\n",
        "def step_decay(epoch):\n",
        "    initial_lrate = 0.1\n",
        "    drop = 0.5\n",
        "    epochs_drop = 10.0\n",
        "    lrate = initial_lrate * np.power(drop, np.floor((1+epoch)/epochs_drop))\n",
        "    return lrate\n",
        "\n",
        "history = History()\n",
        "\n",
        "model = Sequential()\n",
        "model.add(Dense(100, use_bias=False,input_shape=(X_train_transformed.shape[1],)))\n",
        "model.add(Dense(2,activation=\"sigmoid\"))\n",
        "model.summary()\n",
        "\n",
        "Adam = keras.optimizers.Adam(lr=0.01, beta_1=0.9, beta_2=0.999, amsgrad=False)\n",
        "model.compile(loss=\"categorical_crossentropy\",optimizer=Adam, metrics=[\"categorical_accuracy\"])\n",
        "\n",
        "lrate = LearningRateScheduler(step_decay)\n",
        "early_stopping = EarlyStopping(patience=40)\n",
        "save_best_model = ModelCheckpoint(\"wagi_20news_dense.h5py\",save_best_only=True)\n",
        "\n",
        "model.fit(X_train_transformed,y_train, batch_size=256, validation_split=0.3, epochs=1000, callbacks=[early_stopping, history ])\n",
        "\n",
        "\n",
        "\n",
        "model.evaluate(X_test_transformed, y_test)"
      ],
      "execution_count": 89,
      "outputs": [
        {
          "output_type": "stream",
          "text": [
            "Model: \"sequential_45\"\n",
            "_________________________________________________________________\n",
            "Layer (type)                 Output Shape              Param #   \n",
            "=================================================================\n",
            "dense_195 (Dense)            (None, 100)               200000    \n",
            "_________________________________________________________________\n",
            "dense_196 (Dense)            (None, 2)                 202       \n",
            "=================================================================\n",
            "Total params: 200,202\n",
            "Trainable params: 200,202\n",
            "Non-trainable params: 0\n",
            "_________________________________________________________________\n",
            "Train on 550 samples, validate on 236 samples\n",
            "Epoch 1/1000\n",
            "550/550 [==============================] - 11s 20ms/step - loss: 0.7501 - categorical_accuracy: 0.4855 - val_loss: 0.4523 - val_categorical_accuracy: 0.6144\n",
            "Epoch 2/1000\n",
            "550/550 [==============================] - 0s 98us/step - loss: 0.4292 - categorical_accuracy: 0.6273 - val_loss: 0.3647 - val_categorical_accuracy: 0.6271\n",
            "Epoch 3/1000\n",
            "550/550 [==============================] - 0s 87us/step - loss: 0.3711 - categorical_accuracy: 0.6345 - val_loss: 0.3607 - val_categorical_accuracy: 0.6144\n",
            "Epoch 4/1000\n",
            "550/550 [==============================] - 0s 96us/step - loss: 0.3636 - categorical_accuracy: 0.6291 - val_loss: 0.3573 - val_categorical_accuracy: 0.6441\n",
            "Epoch 5/1000\n",
            "550/550 [==============================] - 0s 90us/step - loss: 0.3501 - categorical_accuracy: 0.6491 - val_loss: 0.3473 - val_categorical_accuracy: 0.6822\n",
            "Epoch 6/1000\n",
            "550/550 [==============================] - 0s 92us/step - loss: 0.3387 - categorical_accuracy: 0.7055 - val_loss: 0.3400 - val_categorical_accuracy: 0.7246\n",
            "Epoch 7/1000\n",
            "550/550 [==============================] - 0s 85us/step - loss: 0.3301 - categorical_accuracy: 0.7473 - val_loss: 0.3318 - val_categorical_accuracy: 0.7797\n",
            "Epoch 8/1000\n",
            "550/550 [==============================] - 0s 87us/step - loss: 0.3190 - categorical_accuracy: 0.7945 - val_loss: 0.3232 - val_categorical_accuracy: 0.8178\n",
            "Epoch 9/1000\n",
            "550/550 [==============================] - 0s 96us/step - loss: 0.2981 - categorical_accuracy: 0.8236 - val_loss: 0.3027 - val_categorical_accuracy: 0.8559\n",
            "Epoch 10/1000\n",
            "550/550 [==============================] - 0s 88us/step - loss: 0.2645 - categorical_accuracy: 0.8800 - val_loss: 0.2490 - val_categorical_accuracy: 0.9025\n",
            "Epoch 11/1000\n",
            "550/550 [==============================] - 0s 91us/step - loss: 0.2056 - categorical_accuracy: 0.9327 - val_loss: 0.1571 - val_categorical_accuracy: 0.9534\n",
            "Epoch 12/1000\n",
            "550/550 [==============================] - 0s 87us/step - loss: 0.1464 - categorical_accuracy: 0.9800 - val_loss: 0.0844 - val_categorical_accuracy: 0.9831\n",
            "Epoch 13/1000\n",
            "550/550 [==============================] - 0s 93us/step - loss: 0.0747 - categorical_accuracy: 0.9945 - val_loss: 0.0613 - val_categorical_accuracy: 0.9788\n",
            "Epoch 14/1000\n",
            "550/550 [==============================] - 0s 84us/step - loss: 0.0403 - categorical_accuracy: 0.9964 - val_loss: 0.0953 - val_categorical_accuracy: 0.9788\n",
            "Epoch 15/1000\n",
            "550/550 [==============================] - 0s 88us/step - loss: 0.0335 - categorical_accuracy: 0.9982 - val_loss: 0.1271 - val_categorical_accuracy: 0.9831\n",
            "Epoch 16/1000\n",
            "550/550 [==============================] - 0s 90us/step - loss: 0.0312 - categorical_accuracy: 0.9982 - val_loss: 0.1402 - val_categorical_accuracy: 0.9746\n",
            "Epoch 17/1000\n",
            "550/550 [==============================] - 0s 94us/step - loss: 0.0306 - categorical_accuracy: 0.9982 - val_loss: 0.1545 - val_categorical_accuracy: 0.9746\n",
            "Epoch 18/1000\n",
            "550/550 [==============================] - 0s 84us/step - loss: 0.0303 - categorical_accuracy: 0.9982 - val_loss: 0.1659 - val_categorical_accuracy: 0.9746\n",
            "Epoch 19/1000\n",
            "550/550 [==============================] - 0s 87us/step - loss: 0.0302 - categorical_accuracy: 0.9982 - val_loss: 0.1739 - val_categorical_accuracy: 0.9746\n",
            "Epoch 20/1000\n",
            "550/550 [==============================] - 0s 90us/step - loss: 0.0300 - categorical_accuracy: 0.9982 - val_loss: 0.1791 - val_categorical_accuracy: 0.9746\n",
            "Epoch 21/1000\n",
            "550/550 [==============================] - 0s 94us/step - loss: 0.0300 - categorical_accuracy: 0.9982 - val_loss: 0.1823 - val_categorical_accuracy: 0.9746\n",
            "Epoch 22/1000\n",
            "550/550 [==============================] - 0s 86us/step - loss: 0.0299 - categorical_accuracy: 0.9982 - val_loss: 0.1841 - val_categorical_accuracy: 0.9746\n",
            "Epoch 23/1000\n",
            "550/550 [==============================] - 0s 84us/step - loss: 0.0299 - categorical_accuracy: 0.9982 - val_loss: 0.1849 - val_categorical_accuracy: 0.9746\n",
            "Epoch 24/1000\n",
            "550/550 [==============================] - 0s 97us/step - loss: 0.0298 - categorical_accuracy: 0.9982 - val_loss: 0.1851 - val_categorical_accuracy: 0.9746\n",
            "Epoch 25/1000\n",
            "550/550 [==============================] - 0s 105us/step - loss: 0.0298 - categorical_accuracy: 0.9982 - val_loss: 0.1846 - val_categorical_accuracy: 0.9746\n",
            "Epoch 26/1000\n",
            "550/550 [==============================] - 0s 98us/step - loss: 0.0298 - categorical_accuracy: 0.9982 - val_loss: 0.1837 - val_categorical_accuracy: 0.9746\n",
            "Epoch 27/1000\n",
            "550/550 [==============================] - 0s 98us/step - loss: 0.0298 - categorical_accuracy: 0.9982 - val_loss: 0.1824 - val_categorical_accuracy: 0.9746\n",
            "Epoch 28/1000\n",
            "550/550 [==============================] - 0s 97us/step - loss: 0.0297 - categorical_accuracy: 0.9982 - val_loss: 0.1813 - val_categorical_accuracy: 0.9746\n",
            "Epoch 29/1000\n",
            "550/550 [==============================] - 0s 91us/step - loss: 0.0297 - categorical_accuracy: 0.9982 - val_loss: 0.1803 - val_categorical_accuracy: 0.9746\n",
            "Epoch 30/1000\n",
            "550/550 [==============================] - 0s 92us/step - loss: 0.0297 - categorical_accuracy: 0.9982 - val_loss: 0.1794 - val_categorical_accuracy: 0.9746\n",
            "Epoch 31/1000\n",
            "550/550 [==============================] - 0s 92us/step - loss: 0.0297 - categorical_accuracy: 0.9982 - val_loss: 0.1781 - val_categorical_accuracy: 0.9746\n",
            "Epoch 32/1000\n",
            "550/550 [==============================] - 0s 99us/step - loss: 0.0297 - categorical_accuracy: 0.9982 - val_loss: 0.1771 - val_categorical_accuracy: 0.9746\n",
            "Epoch 33/1000\n",
            "550/550 [==============================] - 0s 87us/step - loss: 0.0296 - categorical_accuracy: 0.9982 - val_loss: 0.1761 - val_categorical_accuracy: 0.9746\n",
            "Epoch 34/1000\n",
            "550/550 [==============================] - 0s 87us/step - loss: 0.0296 - categorical_accuracy: 0.9982 - val_loss: 0.1750 - val_categorical_accuracy: 0.9746\n",
            "Epoch 35/1000\n",
            "550/550 [==============================] - 0s 88us/step - loss: 0.0296 - categorical_accuracy: 0.9982 - val_loss: 0.1741 - val_categorical_accuracy: 0.9746\n",
            "Epoch 36/1000\n",
            "550/550 [==============================] - 0s 99us/step - loss: 0.0296 - categorical_accuracy: 0.9982 - val_loss: 0.1733 - val_categorical_accuracy: 0.9746\n",
            "Epoch 37/1000\n",
            "550/550 [==============================] - 0s 92us/step - loss: 0.0296 - categorical_accuracy: 0.9982 - val_loss: 0.1727 - val_categorical_accuracy: 0.9746\n",
            "Epoch 38/1000\n",
            "550/550 [==============================] - 0s 95us/step - loss: 0.0296 - categorical_accuracy: 0.9982 - val_loss: 0.1722 - val_categorical_accuracy: 0.9746\n",
            "Epoch 39/1000\n",
            "550/550 [==============================] - 0s 91us/step - loss: 0.0296 - categorical_accuracy: 0.9982 - val_loss: 0.1717 - val_categorical_accuracy: 0.9746\n",
            "Epoch 40/1000\n",
            "550/550 [==============================] - 0s 99us/step - loss: 0.0296 - categorical_accuracy: 0.9982 - val_loss: 0.1713 - val_categorical_accuracy: 0.9746\n",
            "Epoch 41/1000\n",
            "550/550 [==============================] - 0s 90us/step - loss: 0.0296 - categorical_accuracy: 0.9982 - val_loss: 0.1709 - val_categorical_accuracy: 0.9746\n",
            "Epoch 42/1000\n",
            "550/550 [==============================] - 0s 86us/step - loss: 0.0296 - categorical_accuracy: 0.9982 - val_loss: 0.1706 - val_categorical_accuracy: 0.9746\n",
            "Epoch 43/1000\n",
            "550/550 [==============================] - 0s 97us/step - loss: 0.0296 - categorical_accuracy: 0.9982 - val_loss: 0.1702 - val_categorical_accuracy: 0.9746\n",
            "Epoch 44/1000\n",
            "550/550 [==============================] - 0s 93us/step - loss: 0.0296 - categorical_accuracy: 0.9982 - val_loss: 0.1698 - val_categorical_accuracy: 0.9746\n",
            "Epoch 45/1000\n",
            "550/550 [==============================] - 0s 90us/step - loss: 0.0296 - categorical_accuracy: 0.9982 - val_loss: 0.1696 - val_categorical_accuracy: 0.9746\n",
            "Epoch 46/1000\n",
            "550/550 [==============================] - 0s 87us/step - loss: 0.0295 - categorical_accuracy: 0.9982 - val_loss: 0.1693 - val_categorical_accuracy: 0.9746\n",
            "Epoch 47/1000\n",
            "550/550 [==============================] - 0s 94us/step - loss: 0.0295 - categorical_accuracy: 0.9982 - val_loss: 0.1690 - val_categorical_accuracy: 0.9746\n",
            "Epoch 48/1000\n",
            "550/550 [==============================] - 0s 90us/step - loss: 0.0295 - categorical_accuracy: 0.9982 - val_loss: 0.1686 - val_categorical_accuracy: 0.9746\n",
            "Epoch 49/1000\n",
            "550/550 [==============================] - 0s 93us/step - loss: 0.0295 - categorical_accuracy: 0.9982 - val_loss: 0.1684 - val_categorical_accuracy: 0.9746\n",
            "Epoch 50/1000\n",
            "550/550 [==============================] - 0s 89us/step - loss: 0.0295 - categorical_accuracy: 0.9982 - val_loss: 0.1681 - val_categorical_accuracy: 0.9788\n",
            "Epoch 51/1000\n",
            "550/550 [==============================] - 0s 93us/step - loss: 0.0295 - categorical_accuracy: 0.9982 - val_loss: 0.1679 - val_categorical_accuracy: 0.9788\n",
            "Epoch 52/1000\n",
            "550/550 [==============================] - 0s 94us/step - loss: 0.0295 - categorical_accuracy: 0.9982 - val_loss: 0.1677 - val_categorical_accuracy: 0.9788\n",
            "Epoch 53/1000\n",
            "550/550 [==============================] - 0s 91us/step - loss: 0.0295 - categorical_accuracy: 0.9982 - val_loss: 0.1675 - val_categorical_accuracy: 0.9788\n",
            "400/400 [==============================] - 0s 106us/step\n"
          ],
          "name": "stdout"
        },
        {
          "output_type": "execute_result",
          "data": {
            "text/plain": [
              "[0.38302491339854894, 0.9475]"
            ]
          },
          "metadata": {
            "tags": []
          },
          "execution_count": 89
        }
      ]
    },
    {
      "cell_type": "code",
      "metadata": {
        "id": "pakZcK302M6N",
        "colab_type": "code",
        "colab": {
          "base_uri": "https://localhost:8080/",
          "height": 265
        },
        "outputId": "7673677f-7af4-4c86-845b-832b13ef0dae"
      },
      "source": [
        "plt.plot(history.history['categorical_accuracy'], label = \"tarina Adam\")\n",
        "plt.plot(history.history['val_categorical_accuracy'], label = \"test Adam\")\n",
        "\n",
        "plt.legend()\n",
        "plt.show()"
      ],
      "execution_count": 90,
      "outputs": [
        {
          "output_type": "display_data",
          "data": {
            "image/png": "[encoded data removed]",
            "text/plain": [
              "<Figure size 432x288 with 1 Axes>"
            ]
          },
          "metadata": {
            "tags": []
          }
        }
      ]
    },
    {
      "cell_type": "markdown",
      "metadata": {
        "id": "gJywYRfB2M6S",
        "colab_type": "text"
      },
      "source": [
        "# Zad.\n",
        "\n",
        "Naucz jak najlepszy model na tym zbiorze danych."
      ]
    },
    {
      "cell_type": "code",
      "metadata": {
        "id": "KVVDvDP12M6U",
        "colab_type": "code",
        "colab": {}
      },
      "source": [
        ""
      ],
      "execution_count": 0,
      "outputs": []
    }
  ]
}