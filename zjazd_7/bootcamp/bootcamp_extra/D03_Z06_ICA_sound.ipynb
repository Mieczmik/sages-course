{
 "cells": [
  {
   "cell_type": "code",
   "execution_count": 2,
   "metadata": {
    "collapsed": true
   },
   "outputs": [],
   "source": [
    "import numpy as np\n",
    "import matplotlib.pyplot as plt\n",
    "import matplotlib.image as mpimg\n",
    "\n",
    "import tempfile\n",
    "import os\n",
    "import os.path\n",
    "import wave\n",
    "from IPython.display import Audio, display\n",
    "\n",
    "import librosa\n",
    "import librosa.display\n",
    "#https://musicinformationretrieval.com/ipython_audio.html"
   ]
  },
  {
   "cell_type": "markdown",
   "metadata": {},
   "source": [
    "# Zad\n",
    "\n",
    "Pobierz dane ze strony \n",
    "\n",
    "https://cnx.org/contents/XIZLCxRf@1/Blind-Source-Separation-Via-ICA-Audio-Demonstration\n",
    "\n",
    "i wykonaj na nich ICA (odmieszaj sygnały)"
   ]
  },
  {
   "cell_type": "code",
   "execution_count": 17,
   "metadata": {},
   "outputs": [],
   "source": [
    "file1 = 'vawe/Mixed Signal 1A.wav'\n",
    "file2 = 'vawe/Mixed Signal 1B.wav'\n",
    "\n"
   ]
  },
  {
   "cell_type": "code",
   "execution_count": null,
   "metadata": {
    "collapsed": true
   },
   "outputs": [],
   "source": []
  }
 ],
 "metadata": {
  "kernelspec": {
   "display_name": "Python 3",
   "language": "python",
   "name": "python3"
  },
  "language_info": {
   "codemirror_mode": {
    "name": "ipython",
    "version": 3
   },
   "file_extension": ".py",
   "mimetype": "text/x-python",
   "name": "python",
   "nbconvert_exporter": "python",
   "pygments_lexer": "ipython3",
   "version": "3.6.7"
  }
 },
 "nbformat": 4,
 "nbformat_minor": 2
}
