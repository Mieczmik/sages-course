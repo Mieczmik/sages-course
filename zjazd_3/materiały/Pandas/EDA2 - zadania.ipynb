{
 "cells": [
  {
   "cell_type": "markdown",
   "metadata": {
    "tags": []
   },
   "source": [
    "# Exploratory Data Analysis (EDA) - zadania\n",
    "\n",
    "Przanalizuj zbiór danych `weather.csv`, który zawiera pomiary parametrów pogodowych w pewnym miejscu na przestrzeni 10 lat. Wykonaj poniższe zadania.\n",
    "\n",
    "Zadania 1-5  - 25 minut\n",
    "\n",
    "Zadania 6-9  - 20 minut\n",
    "\n",
    "Zadania 10-13 - 20 minut\n",
    "\n",
    "Zadania 14-15 - 15 minut\n",
    "\n",
    "Zadania 16-18 - 30 minut\n",
    "\n",
    "Zadania 19-20 - 10 minut"
   ]
  },
  {
   "cell_type": "markdown",
   "metadata": {},
   "source": [
    "1. Wczytaj dane pogodowe z pliku weather.csv. Zobacz pierwszych 5 wierszy."
   ]
  },
  {
   "cell_type": "code",
   "execution_count": 135,
   "metadata": {},
   "outputs": [],
   "source": [
    "import pandas as pd\n",
    "from datetime import datetime\n",
    "import matplotlib.dates\n",
    "import numpy as np\n",
    "import matplotlib.pyplot as plt"
   ]
  },
  {
   "cell_type": "code",
   "execution_count": 26,
   "metadata": {},
   "outputs": [],
   "source": [
    "df = pd.read_csv(\"data/weather.csv\")"
   ]
  },
  {
   "cell_type": "code",
   "execution_count": 4,
   "metadata": {},
   "outputs": [
    {
     "data": {
      "text/html": [
       "<div>\n",
       "<style scoped>\n",
       "    .dataframe tbody tr th:only-of-type {\n",
       "        vertical-align: middle;\n",
       "    }\n",
       "\n",
       "    .dataframe tbody tr th {\n",
       "        vertical-align: top;\n",
       "    }\n",
       "\n",
       "    .dataframe thead th {\n",
       "        text-align: right;\n",
       "    }\n",
       "</style>\n",
       "<table border=\"1\" class=\"dataframe\">\n",
       "  <thead>\n",
       "    <tr style=\"text-align: right;\">\n",
       "      <th></th>\n",
       "      <th>Formatted Date</th>\n",
       "      <th>Summary</th>\n",
       "      <th>Precip Type</th>\n",
       "      <th>Temperature (C)</th>\n",
       "      <th>Apparent Temperature (C)</th>\n",
       "      <th>Humidity</th>\n",
       "      <th>Wind Speed (km/h)</th>\n",
       "      <th>Wind Bearing (degrees)</th>\n",
       "      <th>Visibility (km)</th>\n",
       "      <th>Loud Cover</th>\n",
       "      <th>Pressure (millibars)</th>\n",
       "      <th>Daily Summary</th>\n",
       "    </tr>\n",
       "  </thead>\n",
       "  <tbody>\n",
       "    <tr>\n",
       "      <th>0</th>\n",
       "      <td>2006-04-01 00:00:00.000 +0200</td>\n",
       "      <td>Partly Cloudy</td>\n",
       "      <td>rain</td>\n",
       "      <td>9.472222</td>\n",
       "      <td>7.388889</td>\n",
       "      <td>0.89</td>\n",
       "      <td>14.1197</td>\n",
       "      <td>251.0</td>\n",
       "      <td>15.8263</td>\n",
       "      <td>0.0</td>\n",
       "      <td>1015.13</td>\n",
       "      <td>Partly cloudy throughout the day.</td>\n",
       "    </tr>\n",
       "    <tr>\n",
       "      <th>1</th>\n",
       "      <td>2006-04-01 01:00:00.000 +0200</td>\n",
       "      <td>Partly Cloudy</td>\n",
       "      <td>rain</td>\n",
       "      <td>9.355556</td>\n",
       "      <td>7.227778</td>\n",
       "      <td>0.86</td>\n",
       "      <td>14.2646</td>\n",
       "      <td>259.0</td>\n",
       "      <td>15.8263</td>\n",
       "      <td>0.0</td>\n",
       "      <td>1015.63</td>\n",
       "      <td>Partly cloudy throughout the day.</td>\n",
       "    </tr>\n",
       "    <tr>\n",
       "      <th>2</th>\n",
       "      <td>2006-04-01 02:00:00.000 +0200</td>\n",
       "      <td>Mostly Cloudy</td>\n",
       "      <td>rain</td>\n",
       "      <td>9.377778</td>\n",
       "      <td>9.377778</td>\n",
       "      <td>0.89</td>\n",
       "      <td>3.9284</td>\n",
       "      <td>204.0</td>\n",
       "      <td>14.9569</td>\n",
       "      <td>0.0</td>\n",
       "      <td>1015.94</td>\n",
       "      <td>Partly cloudy throughout the day.</td>\n",
       "    </tr>\n",
       "    <tr>\n",
       "      <th>3</th>\n",
       "      <td>2006-04-01 03:00:00.000 +0200</td>\n",
       "      <td>Partly Cloudy</td>\n",
       "      <td>rain</td>\n",
       "      <td>8.288889</td>\n",
       "      <td>5.944444</td>\n",
       "      <td>0.83</td>\n",
       "      <td>14.1036</td>\n",
       "      <td>269.0</td>\n",
       "      <td>15.8263</td>\n",
       "      <td>0.0</td>\n",
       "      <td>1016.41</td>\n",
       "      <td>Partly cloudy throughout the day.</td>\n",
       "    </tr>\n",
       "    <tr>\n",
       "      <th>4</th>\n",
       "      <td>2006-04-01 04:00:00.000 +0200</td>\n",
       "      <td>Mostly Cloudy</td>\n",
       "      <td>rain</td>\n",
       "      <td>8.755556</td>\n",
       "      <td>6.977778</td>\n",
       "      <td>0.83</td>\n",
       "      <td>11.0446</td>\n",
       "      <td>259.0</td>\n",
       "      <td>15.8263</td>\n",
       "      <td>0.0</td>\n",
       "      <td>1016.51</td>\n",
       "      <td>Partly cloudy throughout the day.</td>\n",
       "    </tr>\n",
       "  </tbody>\n",
       "</table>\n",
       "</div>"
      ],
      "text/plain": [
       "                  Formatted Date        Summary Precip Type  Temperature (C)  \\\n",
       "0  2006-04-01 00:00:00.000 +0200  Partly Cloudy        rain         9.472222   \n",
       "1  2006-04-01 01:00:00.000 +0200  Partly Cloudy        rain         9.355556   \n",
       "2  2006-04-01 02:00:00.000 +0200  Mostly Cloudy        rain         9.377778   \n",
       "3  2006-04-01 03:00:00.000 +0200  Partly Cloudy        rain         8.288889   \n",
       "4  2006-04-01 04:00:00.000 +0200  Mostly Cloudy        rain         8.755556   \n",
       "\n",
       "   Apparent Temperature (C)  Humidity  Wind Speed (km/h)  \\\n",
       "0                  7.388889      0.89            14.1197   \n",
       "1                  7.227778      0.86            14.2646   \n",
       "2                  9.377778      0.89             3.9284   \n",
       "3                  5.944444      0.83            14.1036   \n",
       "4                  6.977778      0.83            11.0446   \n",
       "\n",
       "   Wind Bearing (degrees)  Visibility (km)  Loud Cover  Pressure (millibars)  \\\n",
       "0                   251.0          15.8263         0.0               1015.13   \n",
       "1                   259.0          15.8263         0.0               1015.63   \n",
       "2                   204.0          14.9569         0.0               1015.94   \n",
       "3                   269.0          15.8263         0.0               1016.41   \n",
       "4                   259.0          15.8263         0.0               1016.51   \n",
       "\n",
       "                       Daily Summary  \n",
       "0  Partly cloudy throughout the day.  \n",
       "1  Partly cloudy throughout the day.  \n",
       "2  Partly cloudy throughout the day.  \n",
       "3  Partly cloudy throughout the day.  \n",
       "4  Partly cloudy throughout the day.  "
      ]
     },
     "execution_count": 4,
     "metadata": {},
     "output_type": "execute_result"
    }
   ],
   "source": [
    "df.head()"
   ]
  },
  {
   "cell_type": "markdown",
   "metadata": {},
   "source": [
    "2. Sprawdź czy są brakujące wartości i w jakich kolumnach"
   ]
  },
  {
   "cell_type": "code",
   "execution_count": 5,
   "metadata": {},
   "outputs": [
    {
     "data": {
      "text/plain": [
       "Formatted Date                0\n",
       "Summary                       0\n",
       "Precip Type                 517\n",
       "Temperature (C)               0\n",
       "Apparent Temperature (C)      0\n",
       "Humidity                      0\n",
       "Wind Speed (km/h)             0\n",
       "Wind Bearing (degrees)        0\n",
       "Visibility (km)               0\n",
       "Loud Cover                    0\n",
       "Pressure (millibars)          0\n",
       "Daily Summary                 0\n",
       "dtype: int64"
      ]
     },
     "execution_count": 5,
     "metadata": {},
     "output_type": "execute_result"
    }
   ],
   "source": [
    "df.isna().sum()"
   ]
  },
  {
   "cell_type": "markdown",
   "metadata": {},
   "source": [
    "3. Wywołaj na zbiorze danych funkcję, która wypisze podstawowe statystyki opisujące kolumny numeryczne, np. średnią, medianę itp."
   ]
  },
  {
   "cell_type": "code",
   "execution_count": 6,
   "metadata": {},
   "outputs": [
    {
     "data": {
      "text/html": [
       "<div>\n",
       "<style scoped>\n",
       "    .dataframe tbody tr th:only-of-type {\n",
       "        vertical-align: middle;\n",
       "    }\n",
       "\n",
       "    .dataframe tbody tr th {\n",
       "        vertical-align: top;\n",
       "    }\n",
       "\n",
       "    .dataframe thead th {\n",
       "        text-align: right;\n",
       "    }\n",
       "</style>\n",
       "<table border=\"1\" class=\"dataframe\">\n",
       "  <thead>\n",
       "    <tr style=\"text-align: right;\">\n",
       "      <th></th>\n",
       "      <th>Temperature (C)</th>\n",
       "      <th>Apparent Temperature (C)</th>\n",
       "      <th>Humidity</th>\n",
       "      <th>Wind Speed (km/h)</th>\n",
       "      <th>Wind Bearing (degrees)</th>\n",
       "      <th>Visibility (km)</th>\n",
       "      <th>Loud Cover</th>\n",
       "      <th>Pressure (millibars)</th>\n",
       "    </tr>\n",
       "  </thead>\n",
       "  <tbody>\n",
       "    <tr>\n",
       "      <th>count</th>\n",
       "      <td>96453.000000</td>\n",
       "      <td>96453.000000</td>\n",
       "      <td>96453.000000</td>\n",
       "      <td>96453.000000</td>\n",
       "      <td>96453.000000</td>\n",
       "      <td>96453.000000</td>\n",
       "      <td>96453.0</td>\n",
       "      <td>96453.000000</td>\n",
       "    </tr>\n",
       "    <tr>\n",
       "      <th>mean</th>\n",
       "      <td>11.932678</td>\n",
       "      <td>10.855029</td>\n",
       "      <td>0.734899</td>\n",
       "      <td>10.810640</td>\n",
       "      <td>187.509232</td>\n",
       "      <td>10.347325</td>\n",
       "      <td>0.0</td>\n",
       "      <td>1003.235956</td>\n",
       "    </tr>\n",
       "    <tr>\n",
       "      <th>std</th>\n",
       "      <td>9.551546</td>\n",
       "      <td>10.696847</td>\n",
       "      <td>0.195473</td>\n",
       "      <td>6.913571</td>\n",
       "      <td>107.383428</td>\n",
       "      <td>4.192123</td>\n",
       "      <td>0.0</td>\n",
       "      <td>116.969906</td>\n",
       "    </tr>\n",
       "    <tr>\n",
       "      <th>min</th>\n",
       "      <td>-21.822222</td>\n",
       "      <td>-27.716667</td>\n",
       "      <td>0.000000</td>\n",
       "      <td>0.000000</td>\n",
       "      <td>0.000000</td>\n",
       "      <td>0.000000</td>\n",
       "      <td>0.0</td>\n",
       "      <td>0.000000</td>\n",
       "    </tr>\n",
       "    <tr>\n",
       "      <th>25%</th>\n",
       "      <td>4.688889</td>\n",
       "      <td>2.311111</td>\n",
       "      <td>0.600000</td>\n",
       "      <td>5.828200</td>\n",
       "      <td>116.000000</td>\n",
       "      <td>8.339800</td>\n",
       "      <td>0.0</td>\n",
       "      <td>1011.900000</td>\n",
       "    </tr>\n",
       "    <tr>\n",
       "      <th>50%</th>\n",
       "      <td>12.000000</td>\n",
       "      <td>12.000000</td>\n",
       "      <td>0.780000</td>\n",
       "      <td>9.965900</td>\n",
       "      <td>180.000000</td>\n",
       "      <td>10.046400</td>\n",
       "      <td>0.0</td>\n",
       "      <td>1016.450000</td>\n",
       "    </tr>\n",
       "    <tr>\n",
       "      <th>75%</th>\n",
       "      <td>18.838889</td>\n",
       "      <td>18.838889</td>\n",
       "      <td>0.890000</td>\n",
       "      <td>14.135800</td>\n",
       "      <td>290.000000</td>\n",
       "      <td>14.812000</td>\n",
       "      <td>0.0</td>\n",
       "      <td>1021.090000</td>\n",
       "    </tr>\n",
       "    <tr>\n",
       "      <th>max</th>\n",
       "      <td>39.905556</td>\n",
       "      <td>39.344444</td>\n",
       "      <td>1.000000</td>\n",
       "      <td>63.852600</td>\n",
       "      <td>359.000000</td>\n",
       "      <td>16.100000</td>\n",
       "      <td>0.0</td>\n",
       "      <td>1046.380000</td>\n",
       "    </tr>\n",
       "  </tbody>\n",
       "</table>\n",
       "</div>"
      ],
      "text/plain": [
       "       Temperature (C)  Apparent Temperature (C)      Humidity  \\\n",
       "count     96453.000000              96453.000000  96453.000000   \n",
       "mean         11.932678                 10.855029      0.734899   \n",
       "std           9.551546                 10.696847      0.195473   \n",
       "min         -21.822222                -27.716667      0.000000   \n",
       "25%           4.688889                  2.311111      0.600000   \n",
       "50%          12.000000                 12.000000      0.780000   \n",
       "75%          18.838889                 18.838889      0.890000   \n",
       "max          39.905556                 39.344444      1.000000   \n",
       "\n",
       "       Wind Speed (km/h)  Wind Bearing (degrees)  Visibility (km)  Loud Cover  \\\n",
       "count       96453.000000            96453.000000     96453.000000     96453.0   \n",
       "mean           10.810640              187.509232        10.347325         0.0   \n",
       "std             6.913571              107.383428         4.192123         0.0   \n",
       "min             0.000000                0.000000         0.000000         0.0   \n",
       "25%             5.828200              116.000000         8.339800         0.0   \n",
       "50%             9.965900              180.000000        10.046400         0.0   \n",
       "75%            14.135800              290.000000        14.812000         0.0   \n",
       "max            63.852600              359.000000        16.100000         0.0   \n",
       "\n",
       "       Pressure (millibars)  \n",
       "count          96453.000000  \n",
       "mean            1003.235956  \n",
       "std              116.969906  \n",
       "min                0.000000  \n",
       "25%             1011.900000  \n",
       "50%             1016.450000  \n",
       "75%             1021.090000  \n",
       "max             1046.380000  "
      ]
     },
     "execution_count": 6,
     "metadata": {},
     "output_type": "execute_result"
    }
   ],
   "source": [
    "df.describe()"
   ]
  },
  {
   "cell_type": "markdown",
   "metadata": {},
   "source": [
    "4. Zmień nazwy kolumn na takie, którymi wygodniej się będzie posługiwać (usuń spacje, jednostki itp)"
   ]
  },
  {
   "cell_type": "code",
   "execution_count": 80,
   "metadata": {},
   "outputs": [],
   "source": [
    "df.rename(columns={\n",
    "    \"Temperature (C)\" : \"Temp\", \"Apparent Temperature (C)\" : \"AppTemp\", \"Precip Type\" : \"PrecipType\",\n",
    "    \"Wind Speed (km/h)\" : \"WindSpeed\", \"Wind Bearing (degrees)\" : \"Wind Bearing\",\n",
    "    \"Visibility (km)\" : \"Visib\", \"Pressure (millibars)\" : \"Press\", \"Formatted Date\" : \"ForDate\"\n",
    "                  }, inplace = True)"
   ]
  },
  {
   "cell_type": "markdown",
   "metadata": {},
   "source": [
    "5. Przeformatuj albo utwórz nową kolumnę na bazie istniejącej kolumny z datą i godziną tak aby pozbyć się informacji o strefie czasowej (po plusie). "
   ]
  },
  {
   "cell_type": "markdown",
   "metadata": {},
   "source": [
    "<details>\n",
    "<summary style=\"color: #993333\">Podpowiedź (kliknij)</summary>\n",
    "Wykorzystaj apply i lambda aby na bazie istniejącej kolumny dodać nową\n",
    "</details>\n"
   ]
  },
  {
   "cell_type": "code",
   "execution_count": 33,
   "metadata": {},
   "outputs": [],
   "source": [
    "df[\"Date\"] = df[\"ForDate\"].apply(lambda x: x[:-6])"
   ]
  },
  {
   "cell_type": "code",
   "execution_count": 34,
   "metadata": {},
   "outputs": [
    {
     "data": {
      "text/html": [
       "<div>\n",
       "<style scoped>\n",
       "    .dataframe tbody tr th:only-of-type {\n",
       "        vertical-align: middle;\n",
       "    }\n",
       "\n",
       "    .dataframe tbody tr th {\n",
       "        vertical-align: top;\n",
       "    }\n",
       "\n",
       "    .dataframe thead th {\n",
       "        text-align: right;\n",
       "    }\n",
       "</style>\n",
       "<table border=\"1\" class=\"dataframe\">\n",
       "  <thead>\n",
       "    <tr style=\"text-align: right;\">\n",
       "      <th></th>\n",
       "      <th>ForDate</th>\n",
       "      <th>Summary</th>\n",
       "      <th>Precip Type</th>\n",
       "      <th>Temp</th>\n",
       "      <th>App Temp</th>\n",
       "      <th>Humidity</th>\n",
       "      <th>Wind Speed</th>\n",
       "      <th>Wind Bearing</th>\n",
       "      <th>Visib</th>\n",
       "      <th>Loud Cover</th>\n",
       "      <th>Press</th>\n",
       "      <th>Daily Summary</th>\n",
       "      <th>Date</th>\n",
       "    </tr>\n",
       "  </thead>\n",
       "  <tbody>\n",
       "    <tr>\n",
       "      <th>0</th>\n",
       "      <td>2006-04-01 00:00:00.000 +0200</td>\n",
       "      <td>Partly Cloudy</td>\n",
       "      <td>rain</td>\n",
       "      <td>9.472222</td>\n",
       "      <td>7.388889</td>\n",
       "      <td>0.89</td>\n",
       "      <td>14.1197</td>\n",
       "      <td>251.0</td>\n",
       "      <td>15.8263</td>\n",
       "      <td>0.0</td>\n",
       "      <td>1015.13</td>\n",
       "      <td>Partly cloudy throughout the day.</td>\n",
       "      <td>2006-04-01 00:00:00.000</td>\n",
       "    </tr>\n",
       "    <tr>\n",
       "      <th>1</th>\n",
       "      <td>2006-04-01 01:00:00.000 +0200</td>\n",
       "      <td>Partly Cloudy</td>\n",
       "      <td>rain</td>\n",
       "      <td>9.355556</td>\n",
       "      <td>7.227778</td>\n",
       "      <td>0.86</td>\n",
       "      <td>14.2646</td>\n",
       "      <td>259.0</td>\n",
       "      <td>15.8263</td>\n",
       "      <td>0.0</td>\n",
       "      <td>1015.63</td>\n",
       "      <td>Partly cloudy throughout the day.</td>\n",
       "      <td>2006-04-01 01:00:00.000</td>\n",
       "    </tr>\n",
       "    <tr>\n",
       "      <th>2</th>\n",
       "      <td>2006-04-01 02:00:00.000 +0200</td>\n",
       "      <td>Mostly Cloudy</td>\n",
       "      <td>rain</td>\n",
       "      <td>9.377778</td>\n",
       "      <td>9.377778</td>\n",
       "      <td>0.89</td>\n",
       "      <td>3.9284</td>\n",
       "      <td>204.0</td>\n",
       "      <td>14.9569</td>\n",
       "      <td>0.0</td>\n",
       "      <td>1015.94</td>\n",
       "      <td>Partly cloudy throughout the day.</td>\n",
       "      <td>2006-04-01 02:00:00.000</td>\n",
       "    </tr>\n",
       "    <tr>\n",
       "      <th>3</th>\n",
       "      <td>2006-04-01 03:00:00.000 +0200</td>\n",
       "      <td>Partly Cloudy</td>\n",
       "      <td>rain</td>\n",
       "      <td>8.288889</td>\n",
       "      <td>5.944444</td>\n",
       "      <td>0.83</td>\n",
       "      <td>14.1036</td>\n",
       "      <td>269.0</td>\n",
       "      <td>15.8263</td>\n",
       "      <td>0.0</td>\n",
       "      <td>1016.41</td>\n",
       "      <td>Partly cloudy throughout the day.</td>\n",
       "      <td>2006-04-01 03:00:00.000</td>\n",
       "    </tr>\n",
       "    <tr>\n",
       "      <th>4</th>\n",
       "      <td>2006-04-01 04:00:00.000 +0200</td>\n",
       "      <td>Mostly Cloudy</td>\n",
       "      <td>rain</td>\n",
       "      <td>8.755556</td>\n",
       "      <td>6.977778</td>\n",
       "      <td>0.83</td>\n",
       "      <td>11.0446</td>\n",
       "      <td>259.0</td>\n",
       "      <td>15.8263</td>\n",
       "      <td>0.0</td>\n",
       "      <td>1016.51</td>\n",
       "      <td>Partly cloudy throughout the day.</td>\n",
       "      <td>2006-04-01 04:00:00.000</td>\n",
       "    </tr>\n",
       "    <tr>\n",
       "      <th>...</th>\n",
       "      <td>...</td>\n",
       "      <td>...</td>\n",
       "      <td>...</td>\n",
       "      <td>...</td>\n",
       "      <td>...</td>\n",
       "      <td>...</td>\n",
       "      <td>...</td>\n",
       "      <td>...</td>\n",
       "      <td>...</td>\n",
       "      <td>...</td>\n",
       "      <td>...</td>\n",
       "      <td>...</td>\n",
       "      <td>...</td>\n",
       "    </tr>\n",
       "    <tr>\n",
       "      <th>96448</th>\n",
       "      <td>2016-09-09 19:00:00.000 +0200</td>\n",
       "      <td>Partly Cloudy</td>\n",
       "      <td>rain</td>\n",
       "      <td>26.016667</td>\n",
       "      <td>26.016667</td>\n",
       "      <td>0.43</td>\n",
       "      <td>10.9963</td>\n",
       "      <td>31.0</td>\n",
       "      <td>16.1000</td>\n",
       "      <td>0.0</td>\n",
       "      <td>1014.36</td>\n",
       "      <td>Partly cloudy starting in the morning.</td>\n",
       "      <td>2016-09-09 19:00:00.000</td>\n",
       "    </tr>\n",
       "    <tr>\n",
       "      <th>96449</th>\n",
       "      <td>2016-09-09 20:00:00.000 +0200</td>\n",
       "      <td>Partly Cloudy</td>\n",
       "      <td>rain</td>\n",
       "      <td>24.583333</td>\n",
       "      <td>24.583333</td>\n",
       "      <td>0.48</td>\n",
       "      <td>10.0947</td>\n",
       "      <td>20.0</td>\n",
       "      <td>15.5526</td>\n",
       "      <td>0.0</td>\n",
       "      <td>1015.16</td>\n",
       "      <td>Partly cloudy starting in the morning.</td>\n",
       "      <td>2016-09-09 20:00:00.000</td>\n",
       "    </tr>\n",
       "    <tr>\n",
       "      <th>96450</th>\n",
       "      <td>2016-09-09 21:00:00.000 +0200</td>\n",
       "      <td>Partly Cloudy</td>\n",
       "      <td>rain</td>\n",
       "      <td>22.038889</td>\n",
       "      <td>22.038889</td>\n",
       "      <td>0.56</td>\n",
       "      <td>8.9838</td>\n",
       "      <td>30.0</td>\n",
       "      <td>16.1000</td>\n",
       "      <td>0.0</td>\n",
       "      <td>1015.66</td>\n",
       "      <td>Partly cloudy starting in the morning.</td>\n",
       "      <td>2016-09-09 21:00:00.000</td>\n",
       "    </tr>\n",
       "    <tr>\n",
       "      <th>96451</th>\n",
       "      <td>2016-09-09 22:00:00.000 +0200</td>\n",
       "      <td>Partly Cloudy</td>\n",
       "      <td>rain</td>\n",
       "      <td>21.522222</td>\n",
       "      <td>21.522222</td>\n",
       "      <td>0.60</td>\n",
       "      <td>10.5294</td>\n",
       "      <td>20.0</td>\n",
       "      <td>16.1000</td>\n",
       "      <td>0.0</td>\n",
       "      <td>1015.95</td>\n",
       "      <td>Partly cloudy starting in the morning.</td>\n",
       "      <td>2016-09-09 22:00:00.000</td>\n",
       "    </tr>\n",
       "    <tr>\n",
       "      <th>96452</th>\n",
       "      <td>2016-09-09 23:00:00.000 +0200</td>\n",
       "      <td>Partly Cloudy</td>\n",
       "      <td>rain</td>\n",
       "      <td>20.438889</td>\n",
       "      <td>20.438889</td>\n",
       "      <td>0.61</td>\n",
       "      <td>5.8765</td>\n",
       "      <td>39.0</td>\n",
       "      <td>15.5204</td>\n",
       "      <td>0.0</td>\n",
       "      <td>1016.16</td>\n",
       "      <td>Partly cloudy starting in the morning.</td>\n",
       "      <td>2016-09-09 23:00:00.000</td>\n",
       "    </tr>\n",
       "  </tbody>\n",
       "</table>\n",
       "<p>96453 rows × 13 columns</p>\n",
       "</div>"
      ],
      "text/plain": [
       "                             ForDate        Summary Precip Type       Temp  \\\n",
       "0      2006-04-01 00:00:00.000 +0200  Partly Cloudy        rain   9.472222   \n",
       "1      2006-04-01 01:00:00.000 +0200  Partly Cloudy        rain   9.355556   \n",
       "2      2006-04-01 02:00:00.000 +0200  Mostly Cloudy        rain   9.377778   \n",
       "3      2006-04-01 03:00:00.000 +0200  Partly Cloudy        rain   8.288889   \n",
       "4      2006-04-01 04:00:00.000 +0200  Mostly Cloudy        rain   8.755556   \n",
       "...                              ...            ...         ...        ...   \n",
       "96448  2016-09-09 19:00:00.000 +0200  Partly Cloudy        rain  26.016667   \n",
       "96449  2016-09-09 20:00:00.000 +0200  Partly Cloudy        rain  24.583333   \n",
       "96450  2016-09-09 21:00:00.000 +0200  Partly Cloudy        rain  22.038889   \n",
       "96451  2016-09-09 22:00:00.000 +0200  Partly Cloudy        rain  21.522222   \n",
       "96452  2016-09-09 23:00:00.000 +0200  Partly Cloudy        rain  20.438889   \n",
       "\n",
       "        App Temp  Humidity  Wind Speed  Wind Bearing    Visib  Loud Cover  \\\n",
       "0       7.388889      0.89     14.1197         251.0  15.8263         0.0   \n",
       "1       7.227778      0.86     14.2646         259.0  15.8263         0.0   \n",
       "2       9.377778      0.89      3.9284         204.0  14.9569         0.0   \n",
       "3       5.944444      0.83     14.1036         269.0  15.8263         0.0   \n",
       "4       6.977778      0.83     11.0446         259.0  15.8263         0.0   \n",
       "...          ...       ...         ...           ...      ...         ...   \n",
       "96448  26.016667      0.43     10.9963          31.0  16.1000         0.0   \n",
       "96449  24.583333      0.48     10.0947          20.0  15.5526         0.0   \n",
       "96450  22.038889      0.56      8.9838          30.0  16.1000         0.0   \n",
       "96451  21.522222      0.60     10.5294          20.0  16.1000         0.0   \n",
       "96452  20.438889      0.61      5.8765          39.0  15.5204         0.0   \n",
       "\n",
       "         Press                           Daily Summary  \\\n",
       "0      1015.13       Partly cloudy throughout the day.   \n",
       "1      1015.63       Partly cloudy throughout the day.   \n",
       "2      1015.94       Partly cloudy throughout the day.   \n",
       "3      1016.41       Partly cloudy throughout the day.   \n",
       "4      1016.51       Partly cloudy throughout the day.   \n",
       "...        ...                                     ...   \n",
       "96448  1014.36  Partly cloudy starting in the morning.   \n",
       "96449  1015.16  Partly cloudy starting in the morning.   \n",
       "96450  1015.66  Partly cloudy starting in the morning.   \n",
       "96451  1015.95  Partly cloudy starting in the morning.   \n",
       "96452  1016.16  Partly cloudy starting in the morning.   \n",
       "\n",
       "                          Date  \n",
       "0      2006-04-01 00:00:00.000  \n",
       "1      2006-04-01 01:00:00.000  \n",
       "2      2006-04-01 02:00:00.000  \n",
       "3      2006-04-01 03:00:00.000  \n",
       "4      2006-04-01 04:00:00.000  \n",
       "...                        ...  \n",
       "96448  2016-09-09 19:00:00.000  \n",
       "96449  2016-09-09 20:00:00.000  \n",
       "96450  2016-09-09 21:00:00.000  \n",
       "96451  2016-09-09 22:00:00.000  \n",
       "96452  2016-09-09 23:00:00.000  \n",
       "\n",
       "[96453 rows x 13 columns]"
      ]
     },
     "execution_count": 34,
     "metadata": {},
     "output_type": "execute_result"
    }
   ],
   "source": [
    "df"
   ]
  },
  {
   "cell_type": "markdown",
   "metadata": {},
   "source": [
    "6. Usuń kolumnę `Daily Summary`"
   ]
  },
  {
   "cell_type": "code",
   "execution_count": 35,
   "metadata": {},
   "outputs": [],
   "source": [
    "df.drop([\"Daily Summary\"], axis=1, inplace=True)"
   ]
  },
  {
   "cell_type": "markdown",
   "metadata": {},
   "source": [
    "7. Dodaj nowe kolumny: year, month, day, hour oraz minute"
   ]
  },
  {
   "cell_type": "markdown",
   "metadata": {},
   "source": [
    "<details>\n",
    "<summary style=\"color: #993333\">Podpowiedź (kliknij)</summary>\n",
    "Wykorzystaj apply i lambda aby stworzyć nowe kolumny na bazie istniejących. Wytnij odpowiednie slice'y ze stringów\n",
    "</details>\n"
   ]
  },
  {
   "cell_type": "code",
   "execution_count": 38,
   "metadata": {},
   "outputs": [
    {
     "data": {
      "text/plain": [
       "0        2006\n",
       "1        2006\n",
       "2        2006\n",
       "3        2006\n",
       "4        2006\n",
       "         ... \n",
       "96448    2016\n",
       "96449    2016\n",
       "96450    2016\n",
       "96451    2016\n",
       "96452    2016\n",
       "Name: year, Length: 96453, dtype: object"
      ]
     },
     "execution_count": 38,
     "metadata": {},
     "output_type": "execute_result"
    }
   ],
   "source": [
    "df[\"year\"] = df[\"ForDate\"].apply(lambda x: x[0:4])\n",
    "df[\"year\"]"
   ]
  },
  {
   "cell_type": "code",
   "execution_count": 40,
   "metadata": {},
   "outputs": [
    {
     "data": {
      "text/plain": [
       "0        04\n",
       "1        04\n",
       "2        04\n",
       "3        04\n",
       "4        04\n",
       "         ..\n",
       "96448    09\n",
       "96449    09\n",
       "96450    09\n",
       "96451    09\n",
       "96452    09\n",
       "Name: month, Length: 96453, dtype: object"
      ]
     },
     "execution_count": 40,
     "metadata": {},
     "output_type": "execute_result"
    }
   ],
   "source": [
    "df[\"month\"] = df[\"ForDate\"].apply(lambda x: x[5:7])\n",
    "df[\"month\"]"
   ]
  },
  {
   "cell_type": "code",
   "execution_count": 41,
   "metadata": {},
   "outputs": [
    {
     "data": {
      "text/plain": [
       "0        01\n",
       "1        01\n",
       "2        01\n",
       "3        01\n",
       "4        01\n",
       "         ..\n",
       "96448    09\n",
       "96449    09\n",
       "96450    09\n",
       "96451    09\n",
       "96452    09\n",
       "Name: day, Length: 96453, dtype: object"
      ]
     },
     "execution_count": 41,
     "metadata": {},
     "output_type": "execute_result"
    }
   ],
   "source": [
    "df[\"day\"] = df[\"ForDate\"].apply(lambda x: x[8:10])\n",
    "df[\"day\"]"
   ]
  },
  {
   "cell_type": "code",
   "execution_count": 42,
   "metadata": {},
   "outputs": [
    {
     "data": {
      "text/plain": [
       "0        00\n",
       "1        01\n",
       "2        02\n",
       "3        03\n",
       "4        04\n",
       "         ..\n",
       "96448    19\n",
       "96449    20\n",
       "96450    21\n",
       "96451    22\n",
       "96452    23\n",
       "Name: hour, Length: 96453, dtype: object"
      ]
     },
     "execution_count": 42,
     "metadata": {},
     "output_type": "execute_result"
    }
   ],
   "source": [
    "df[\"hour\"] = df[\"ForDate\"].apply(lambda x: x[11:13])\n",
    "df[\"hour\"]"
   ]
  },
  {
   "cell_type": "code",
   "execution_count": 43,
   "metadata": {},
   "outputs": [
    {
     "data": {
      "text/plain": [
       "0        00\n",
       "1        00\n",
       "2        00\n",
       "3        00\n",
       "4        00\n",
       "         ..\n",
       "96448    00\n",
       "96449    00\n",
       "96450    00\n",
       "96451    00\n",
       "96452    00\n",
       "Name: minute, Length: 96453, dtype: object"
      ]
     },
     "execution_count": 43,
     "metadata": {},
     "output_type": "execute_result"
    }
   ],
   "source": [
    "df[\"minute\"] = df[\"ForDate\"].apply(lambda x: x[14:16])\n",
    "df[\"minute\"]"
   ]
  },
  {
   "cell_type": "markdown",
   "metadata": {},
   "source": [
    "8. Oblicz średnie temperatury oraz - osobno - temperatury odczuwalne w poszczególnych miesiącach. Wyniki przedstaw w postaci nowo utworzonego data frame'a"
   ]
  },
  {
   "cell_type": "markdown",
   "metadata": {},
   "source": [
    "<details>\n",
    "<summary style=\"color: #993333\">Podpowiedź (kliknij)</summary>\n",
    "1. Utwórz puste listy dla średnich temperatur oraz średnich temperatur odczuwalnych\n",
    "<br>\n",
    "2. Przeiteruj po wszystkich miesiącach (posortowanych) i konstruuj sub data frame'y które zawierają informacje dla danych miesięcy\n",
    "<br>\n",
    "3. Policz średnie temperatury i dodaj do listy\n",
    "<br>\n",
    "4. Utwórz data frame\n",
    "</details>\n"
   ]
  },
  {
   "cell_type": "code",
   "execution_count": 49,
   "metadata": {},
   "outputs": [
    {
     "data": {
      "text/html": [
       "<div>\n",
       "<style scoped>\n",
       "    .dataframe tbody tr th:only-of-type {\n",
       "        vertical-align: middle;\n",
       "    }\n",
       "\n",
       "    .dataframe tbody tr th {\n",
       "        vertical-align: top;\n",
       "    }\n",
       "\n",
       "    .dataframe thead th {\n",
       "        text-align: right;\n",
       "    }\n",
       "</style>\n",
       "<table border=\"1\" class=\"dataframe\">\n",
       "  <thead>\n",
       "    <tr style=\"text-align: right;\">\n",
       "      <th></th>\n",
       "      <th>month</th>\n",
       "      <th>Temp</th>\n",
       "      <th>AppTemp</th>\n",
       "    </tr>\n",
       "  </thead>\n",
       "  <tbody>\n",
       "    <tr>\n",
       "      <th>0</th>\n",
       "      <td>01</td>\n",
       "      <td>0.813890</td>\n",
       "      <td>-1.939615</td>\n",
       "    </tr>\n",
       "    <tr>\n",
       "      <th>1</th>\n",
       "      <td>02</td>\n",
       "      <td>2.159699</td>\n",
       "      <td>-0.565343</td>\n",
       "    </tr>\n",
       "    <tr>\n",
       "      <th>2</th>\n",
       "      <td>03</td>\n",
       "      <td>6.906599</td>\n",
       "      <td>5.074268</td>\n",
       "    </tr>\n",
       "    <tr>\n",
       "      <th>3</th>\n",
       "      <td>04</td>\n",
       "      <td>12.756417</td>\n",
       "      <td>12.141164</td>\n",
       "    </tr>\n",
       "    <tr>\n",
       "      <th>4</th>\n",
       "      <td>05</td>\n",
       "      <td>16.873692</td>\n",
       "      <td>16.732751</td>\n",
       "    </tr>\n",
       "    <tr>\n",
       "      <th>5</th>\n",
       "      <td>06</td>\n",
       "      <td>20.715617</td>\n",
       "      <td>20.742264</td>\n",
       "    </tr>\n",
       "    <tr>\n",
       "      <th>6</th>\n",
       "      <td>07</td>\n",
       "      <td>22.963943</td>\n",
       "      <td>22.976086</td>\n",
       "    </tr>\n",
       "    <tr>\n",
       "      <th>7</th>\n",
       "      <td>08</td>\n",
       "      <td>22.345031</td>\n",
       "      <td>22.270497</td>\n",
       "    </tr>\n",
       "    <tr>\n",
       "      <th>8</th>\n",
       "      <td>09</td>\n",
       "      <td>17.516790</td>\n",
       "      <td>17.404283</td>\n",
       "    </tr>\n",
       "    <tr>\n",
       "      <th>9</th>\n",
       "      <td>10</td>\n",
       "      <td>11.342247</td>\n",
       "      <td>10.694346</td>\n",
       "    </tr>\n",
       "    <tr>\n",
       "      <th>10</th>\n",
       "      <td>11</td>\n",
       "      <td>6.589907</td>\n",
       "      <td>5.023180</td>\n",
       "    </tr>\n",
       "    <tr>\n",
       "      <th>11</th>\n",
       "      <td>12</td>\n",
       "      <td>1.633742</td>\n",
       "      <td>-0.951272</td>\n",
       "    </tr>\n",
       "  </tbody>\n",
       "</table>\n",
       "</div>"
      ],
      "text/plain": [
       "   month       Temp    AppTemp\n",
       "0     01   0.813890  -1.939615\n",
       "1     02   2.159699  -0.565343\n",
       "2     03   6.906599   5.074268\n",
       "3     04  12.756417  12.141164\n",
       "4     05  16.873692  16.732751\n",
       "5     06  20.715617  20.742264\n",
       "6     07  22.963943  22.976086\n",
       "7     08  22.345031  22.270497\n",
       "8     09  17.516790  17.404283\n",
       "9     10  11.342247  10.694346\n",
       "10    11   6.589907   5.023180\n",
       "11    12   1.633742  -0.951272"
      ]
     },
     "execution_count": 49,
     "metadata": {},
     "output_type": "execute_result"
    }
   ],
   "source": [
    "df.groupby(\"month\")[[\"Temp\", \"AppTemp\"]].mean().reset_index()"
   ]
  },
  {
   "cell_type": "markdown",
   "metadata": {},
   "source": [
    "9. Policz średnie ciśnienie dla obserwacji, w których temperatura wynosi między 15 a 20 stopni Celsjusza"
   ]
  },
  {
   "cell_type": "code",
   "execution_count": 51,
   "metadata": {},
   "outputs": [
    {
     "data": {
      "text/plain": [
       "1005.7681488303555"
      ]
     },
     "execution_count": 51,
     "metadata": {},
     "output_type": "execute_result"
    }
   ],
   "source": [
    "df[(df[\"Temp\"] < 20) & (df[\"Temp\"] > 15)][\"Press\"].mean()"
   ]
  },
  {
   "cell_type": "markdown",
   "metadata": {},
   "source": [
    "10. Policz średnią temperaturę dla poszczególnych wartości w kolumnie `Summary`"
   ]
  },
  {
   "cell_type": "markdown",
   "metadata": {},
   "source": [
    "<details>\n",
    "<summary style=\"color: #993333\">Podpowiedź (kliknij)</summary>\n",
    "Wyznacz unikalne wartości w kolumnie Summary po czym przeiteruj po nich, utwórz w każdej iteracji sub data frame i policz średnią z odpowiedniej kolumny\n",
    "</details>\n"
   ]
  },
  {
   "cell_type": "code",
   "execution_count": 52,
   "metadata": {},
   "outputs": [
    {
     "data": {
      "text/html": [
       "<div>\n",
       "<style scoped>\n",
       "    .dataframe tbody tr th:only-of-type {\n",
       "        vertical-align: middle;\n",
       "    }\n",
       "\n",
       "    .dataframe tbody tr th {\n",
       "        vertical-align: top;\n",
       "    }\n",
       "\n",
       "    .dataframe thead th {\n",
       "        text-align: right;\n",
       "    }\n",
       "</style>\n",
       "<table border=\"1\" class=\"dataframe\">\n",
       "  <thead>\n",
       "    <tr style=\"text-align: right;\">\n",
       "      <th></th>\n",
       "      <th>Summary</th>\n",
       "      <th>Temp</th>\n",
       "    </tr>\n",
       "  </thead>\n",
       "  <tbody>\n",
       "    <tr>\n",
       "      <th>0</th>\n",
       "      <td>Breezy</td>\n",
       "      <td>7.922016</td>\n",
       "    </tr>\n",
       "    <tr>\n",
       "      <th>1</th>\n",
       "      <td>Breezy and Dry</td>\n",
       "      <td>21.111111</td>\n",
       "    </tr>\n",
       "    <tr>\n",
       "      <th>2</th>\n",
       "      <td>Breezy and Foggy</td>\n",
       "      <td>-0.510317</td>\n",
       "    </tr>\n",
       "    <tr>\n",
       "      <th>3</th>\n",
       "      <td>Breezy and Mostly Cloudy</td>\n",
       "      <td>11.093411</td>\n",
       "    </tr>\n",
       "    <tr>\n",
       "      <th>4</th>\n",
       "      <td>Breezy and Overcast</td>\n",
       "      <td>7.241614</td>\n",
       "    </tr>\n",
       "    <tr>\n",
       "      <th>5</th>\n",
       "      <td>Breezy and Partly Cloudy</td>\n",
       "      <td>12.492761</td>\n",
       "    </tr>\n",
       "    <tr>\n",
       "      <th>6</th>\n",
       "      <td>Clear</td>\n",
       "      <td>11.925109</td>\n",
       "    </tr>\n",
       "    <tr>\n",
       "      <th>7</th>\n",
       "      <td>Dangerously Windy and Partly Cloudy</td>\n",
       "      <td>8.944444</td>\n",
       "    </tr>\n",
       "    <tr>\n",
       "      <th>8</th>\n",
       "      <td>Drizzle</td>\n",
       "      <td>10.847578</td>\n",
       "    </tr>\n",
       "    <tr>\n",
       "      <th>9</th>\n",
       "      <td>Dry</td>\n",
       "      <td>29.083660</td>\n",
       "    </tr>\n",
       "    <tr>\n",
       "      <th>10</th>\n",
       "      <td>Dry and Mostly Cloudy</td>\n",
       "      <td>26.838492</td>\n",
       "    </tr>\n",
       "    <tr>\n",
       "      <th>11</th>\n",
       "      <td>Dry and Partly Cloudy</td>\n",
       "      <td>26.605749</td>\n",
       "    </tr>\n",
       "    <tr>\n",
       "      <th>12</th>\n",
       "      <td>Foggy</td>\n",
       "      <td>1.464035</td>\n",
       "    </tr>\n",
       "    <tr>\n",
       "      <th>13</th>\n",
       "      <td>Humid and Mostly Cloudy</td>\n",
       "      <td>20.886389</td>\n",
       "    </tr>\n",
       "    <tr>\n",
       "      <th>14</th>\n",
       "      <td>Humid and Overcast</td>\n",
       "      <td>21.515079</td>\n",
       "    </tr>\n",
       "    <tr>\n",
       "      <th>15</th>\n",
       "      <td>Humid and Partly Cloudy</td>\n",
       "      <td>21.568301</td>\n",
       "    </tr>\n",
       "    <tr>\n",
       "      <th>16</th>\n",
       "      <td>Light Rain</td>\n",
       "      <td>10.021517</td>\n",
       "    </tr>\n",
       "    <tr>\n",
       "      <th>17</th>\n",
       "      <td>Mostly Cloudy</td>\n",
       "      <td>12.629334</td>\n",
       "    </tr>\n",
       "    <tr>\n",
       "      <th>18</th>\n",
       "      <td>Overcast</td>\n",
       "      <td>7.516502</td>\n",
       "    </tr>\n",
       "    <tr>\n",
       "      <th>19</th>\n",
       "      <td>Partly Cloudy</td>\n",
       "      <td>16.024782</td>\n",
       "    </tr>\n",
       "    <tr>\n",
       "      <th>20</th>\n",
       "      <td>Rain</td>\n",
       "      <td>10.096111</td>\n",
       "    </tr>\n",
       "    <tr>\n",
       "      <th>21</th>\n",
       "      <td>Windy</td>\n",
       "      <td>6.804861</td>\n",
       "    </tr>\n",
       "    <tr>\n",
       "      <th>22</th>\n",
       "      <td>Windy and Dry</td>\n",
       "      <td>27.222222</td>\n",
       "    </tr>\n",
       "    <tr>\n",
       "      <th>23</th>\n",
       "      <td>Windy and Foggy</td>\n",
       "      <td>11.876389</td>\n",
       "    </tr>\n",
       "    <tr>\n",
       "      <th>24</th>\n",
       "      <td>Windy and Mostly Cloudy</td>\n",
       "      <td>11.834603</td>\n",
       "    </tr>\n",
       "    <tr>\n",
       "      <th>25</th>\n",
       "      <td>Windy and Overcast</td>\n",
       "      <td>7.932963</td>\n",
       "    </tr>\n",
       "    <tr>\n",
       "      <th>26</th>\n",
       "      <td>Windy and Partly Cloudy</td>\n",
       "      <td>9.968076</td>\n",
       "    </tr>\n",
       "  </tbody>\n",
       "</table>\n",
       "</div>"
      ],
      "text/plain": [
       "                                Summary       Temp\n",
       "0                                Breezy   7.922016\n",
       "1                        Breezy and Dry  21.111111\n",
       "2                      Breezy and Foggy  -0.510317\n",
       "3              Breezy and Mostly Cloudy  11.093411\n",
       "4                   Breezy and Overcast   7.241614\n",
       "5              Breezy and Partly Cloudy  12.492761\n",
       "6                                 Clear  11.925109\n",
       "7   Dangerously Windy and Partly Cloudy   8.944444\n",
       "8                               Drizzle  10.847578\n",
       "9                                   Dry  29.083660\n",
       "10                Dry and Mostly Cloudy  26.838492\n",
       "11                Dry and Partly Cloudy  26.605749\n",
       "12                                Foggy   1.464035\n",
       "13              Humid and Mostly Cloudy  20.886389\n",
       "14                   Humid and Overcast  21.515079\n",
       "15              Humid and Partly Cloudy  21.568301\n",
       "16                           Light Rain  10.021517\n",
       "17                        Mostly Cloudy  12.629334\n",
       "18                             Overcast   7.516502\n",
       "19                        Partly Cloudy  16.024782\n",
       "20                                 Rain  10.096111\n",
       "21                                Windy   6.804861\n",
       "22                        Windy and Dry  27.222222\n",
       "23                      Windy and Foggy  11.876389\n",
       "24              Windy and Mostly Cloudy  11.834603\n",
       "25                   Windy and Overcast   7.932963\n",
       "26              Windy and Partly Cloudy   9.968076"
      ]
     },
     "execution_count": 52,
     "metadata": {},
     "output_type": "execute_result"
    }
   ],
   "source": [
    "df.groupby(\"Summary\")[[\"Temp\"]].mean().reset_index()"
   ]
  },
  {
   "cell_type": "markdown",
   "metadata": {},
   "source": [
    "11. Przedstaw na wykresie punktowym zależność temperatury od temperatury odczuwalnej"
   ]
  },
  {
   "cell_type": "code",
   "execution_count": 57,
   "metadata": {},
   "outputs": [
    {
     "data": {
      "text/plain": [
       "array([-5.        , -4.8989899 , -4.7979798 , -4.6969697 , -4.5959596 ,\n",
       "       -4.49494949, -4.39393939, -4.29292929, -4.19191919, -4.09090909,\n",
       "       -3.98989899, -3.88888889, -3.78787879, -3.68686869, -3.58585859,\n",
       "       -3.48484848, -3.38383838, -3.28282828, -3.18181818, -3.08080808,\n",
       "       -2.97979798, -2.87878788, -2.77777778, -2.67676768, -2.57575758,\n",
       "       -2.47474747, -2.37373737, -2.27272727, -2.17171717, -2.07070707,\n",
       "       -1.96969697, -1.86868687, -1.76767677, -1.66666667, -1.56565657,\n",
       "       -1.46464646, -1.36363636, -1.26262626, -1.16161616, -1.06060606,\n",
       "       -0.95959596, -0.85858586, -0.75757576, -0.65656566, -0.55555556,\n",
       "       -0.45454545, -0.35353535, -0.25252525, -0.15151515, -0.05050505,\n",
       "        0.05050505,  0.15151515,  0.25252525,  0.35353535,  0.45454545,\n",
       "        0.55555556,  0.65656566,  0.75757576,  0.85858586,  0.95959596,\n",
       "        1.06060606,  1.16161616,  1.26262626,  1.36363636,  1.46464646,\n",
       "        1.56565657,  1.66666667,  1.76767677,  1.86868687,  1.96969697,\n",
       "        2.07070707,  2.17171717,  2.27272727,  2.37373737,  2.47474747,\n",
       "        2.57575758,  2.67676768,  2.77777778,  2.87878788,  2.97979798,\n",
       "        3.08080808,  3.18181818,  3.28282828,  3.38383838,  3.48484848,\n",
       "        3.58585859,  3.68686869,  3.78787879,  3.88888889,  3.98989899,\n",
       "        4.09090909,  4.19191919,  4.29292929,  4.39393939,  4.49494949,\n",
       "        4.5959596 ,  4.6969697 ,  4.7979798 ,  4.8989899 ,  5.        ])"
      ]
     },
     "execution_count": 57,
     "metadata": {},
     "output_type": "execute_result"
    }
   ],
   "source": [
    "np.linspace(-30,40,100)"
   ]
  },
  {
   "cell_type": "code",
   "execution_count": 60,
   "metadata": {},
   "outputs": [],
   "source": [
    "x = np.linspace(-30, 40, 2)\n",
    "y = x"
   ]
  },
  {
   "cell_type": "code",
   "execution_count": 68,
   "metadata": {},
   "outputs": [
    {
     "data": {
      "text/plain": [
       "Text(0, 0.5, 'Temp')"
      ]
     },
     "execution_count": 68,
     "metadata": {},
     "output_type": "execute_result"
    },
    {
     "data": {
      "image/png": "[encoded data removed]",
      "text/plain": [
       "<Figure size 432x288 with 1 Axes>"
      ]
     },
     "metadata": {
      "needs_background": "light"
     },
     "output_type": "display_data"
    }
   ],
   "source": [
    "plt.scatter(df[\"AppTemp\"], df[\"Temp\"], s=1)\n",
    "plt.plot(x, y, '-r')\n",
    "plt.xlabel('AppTemp', color='#1C2833')\n",
    "plt.ylabel('Temp', color='#1C2833')\n",
    "#plt.figure().patch.set_facecolor('xkcd:white')"
   ]
  },
  {
   "cell_type": "markdown",
   "metadata": {},
   "source": [
    "12. Stwórz histogramy prędkości wiatru, widoczności oraz ciśnienia"
   ]
  },
  {
   "cell_type": "code",
   "execution_count": 74,
   "metadata": {},
   "outputs": [
    {
     "data": {
      "text/plain": [
       "<AxesSubplot:>"
      ]
     },
     "execution_count": 74,
     "metadata": {},
     "output_type": "execute_result"
    },
    {
     "data": {
      "image/png": "[encoded data removed]",
      "text/plain": [
       "<Figure size 432x288 with 1 Axes>"
      ]
     },
     "metadata": {
      "needs_background": "light"
     },
     "output_type": "display_data"
    }
   ],
   "source": [
    "df[\"WindSpeed\"].hist()"
   ]
  },
  {
   "cell_type": "code",
   "execution_count": 75,
   "metadata": {},
   "outputs": [
    {
     "data": {
      "text/plain": [
       "<AxesSubplot:>"
      ]
     },
     "execution_count": 75,
     "metadata": {},
     "output_type": "execute_result"
    },
    {
     "data": {
      "image/png": "[encoded data removed]",
      "text/plain": [
       "<Figure size 432x288 with 1 Axes>"
      ]
     },
     "metadata": {
      "needs_background": "light"
     },
     "output_type": "display_data"
    }
   ],
   "source": [
    "df[\"Visib\"].hist()"
   ]
  },
  {
   "cell_type": "code",
   "execution_count": 79,
   "metadata": {},
   "outputs": [
    {
     "data": {
      "text/plain": [
       "<AxesSubplot:>"
      ]
     },
     "execution_count": 79,
     "metadata": {},
     "output_type": "execute_result"
    },
    {
     "data": {
      "image/png": "[encoded data removed]",
      "text/plain": [
       "<Figure size 432x288 with 1 Axes>"
      ]
     },
     "metadata": {
      "needs_background": "light"
     },
     "output_type": "display_data"
    }
   ],
   "source": [
    "df[df[\"Press\"] > 900][\"Press\"].hist()"
   ]
  },
  {
   "cell_type": "markdown",
   "metadata": {},
   "source": [
    "13. Stwórz barplot, który pokaże częstość występowania poszczególnych kategorii w `Precip Type`"
   ]
  },
  {
   "cell_type": "code",
   "execution_count": 87,
   "metadata": {},
   "outputs": [],
   "source": [
    "barplotdf = df.groupby(\"PrecipType\").count()[[\"ForDate\"]].reset_index()"
   ]
  },
  {
   "cell_type": "code",
   "execution_count": 101,
   "metadata": {},
   "outputs": [],
   "source": [
    "x_list = barplotdf.iloc[:,0].tolist()\n",
    "y_list = barplotdf.iloc[:,1].tolist()"
   ]
  },
  {
   "cell_type": "code",
   "execution_count": 103,
   "metadata": {},
   "outputs": [
    {
     "data": {
      "text/plain": [
       "<BarContainer object of 2 artists>"
      ]
     },
     "execution_count": 103,
     "metadata": {},
     "output_type": "execute_result"
    },
    {
     "data": {
      "image/png": "[encoded data removed]",
      "text/plain": [
       "<Figure size 432x288 with 1 Axes>"
      ]
     },
     "metadata": {
      "needs_background": "light"
     },
     "output_type": "display_data"
    }
   ],
   "source": [
    "plt.bar(x=x_list, height=y_list, edgecolor='k')"
   ]
  },
  {
   "cell_type": "markdown",
   "metadata": {},
   "source": [
    "14. Stwórz lineplot na którym przedstawisz zmiany temperatury w 2012 roku. Dla każdego dnia możesz uwzględnić jedną temperaturę"
   ]
  },
  {
   "cell_type": "markdown",
   "metadata": {},
   "source": [
    "<details>\n",
    "<summary style=\"color: #993333\">Podpowiedź (kliknij)</summary>\n",
    "1. Wyciągnij z głównego df-a dane z rokiem równym 2012\n",
    "<br>\n",
    "2. Posortuj kolejno po miesiącu i dniu\n",
    "<br>\n",
    "3. Wyciągnij odpowiednią kolumnę\n",
    "<br>\n",
    "4. Wyciągnij co 24-ty element\n",
    "    <br>\n",
    "5. Utwórz scatterplot\n",
    "</details>\n"
   ]
  },
  {
   "cell_type": "code",
   "execution_count": 144,
   "metadata": {},
   "outputs": [],
   "source": [
    "df[\"year-month-day\"] = df[\"year\"] + \"-\" + df[\"month\"] + \"-\" + df[\"day\"]"
   ]
  },
  {
   "cell_type": "code",
   "execution_count": 145,
   "metadata": {},
   "outputs": [
    {
     "data": {
      "text/plain": [
       "0        2006-04-01\n",
       "1        2006-04-01\n",
       "2        2006-04-01\n",
       "3        2006-04-01\n",
       "4        2006-04-01\n",
       "            ...    \n",
       "96448    2016-09-09\n",
       "96449    2016-09-09\n",
       "96450    2016-09-09\n",
       "96451    2016-09-09\n",
       "96452    2016-09-09\n",
       "Name: year-month-day, Length: 96453, dtype: object"
      ]
     },
     "execution_count": 145,
     "metadata": {},
     "output_type": "execute_result"
    }
   ],
   "source": [
    "df[\"year-month-day\"]"
   ]
  },
  {
   "cell_type": "code",
   "execution_count": 116,
   "metadata": {},
   "outputs": [
    {
     "data": {
      "text/html": [
       "<div>\n",
       "<style scoped>\n",
       "    .dataframe tbody tr th:only-of-type {\n",
       "        vertical-align: middle;\n",
       "    }\n",
       "\n",
       "    .dataframe tbody tr th {\n",
       "        vertical-align: top;\n",
       "    }\n",
       "\n",
       "    .dataframe thead th {\n",
       "        text-align: right;\n",
       "    }\n",
       "</style>\n",
       "<table border=\"1\" class=\"dataframe\">\n",
       "  <thead>\n",
       "    <tr style=\"text-align: right;\">\n",
       "      <th></th>\n",
       "      <th>ForDate</th>\n",
       "      <th>Summary</th>\n",
       "      <th>PrecipType</th>\n",
       "      <th>Temp</th>\n",
       "      <th>AppTemp</th>\n",
       "      <th>Humidity</th>\n",
       "      <th>WindSpeed</th>\n",
       "      <th>Wind Bearing</th>\n",
       "      <th>Visib</th>\n",
       "      <th>Loud Cover</th>\n",
       "      <th>Press</th>\n",
       "      <th>Date</th>\n",
       "      <th>year</th>\n",
       "      <th>month</th>\n",
       "      <th>day</th>\n",
       "      <th>hour</th>\n",
       "      <th>minute</th>\n",
       "      <th>month-day</th>\n",
       "    </tr>\n",
       "  </thead>\n",
       "  <tbody>\n",
       "    <tr>\n",
       "      <th>52608</th>\n",
       "      <td>2012-04-01 00:00:00.000 +0200</td>\n",
       "      <td>Breezy and Overcast</td>\n",
       "      <td>rain</td>\n",
       "      <td>9.444444</td>\n",
       "      <td>5.511111</td>\n",
       "      <td>0.52</td>\n",
       "      <td>35.4200</td>\n",
       "      <td>340.0</td>\n",
       "      <td>16.1000</td>\n",
       "      <td>0.0</td>\n",
       "      <td>1002.80</td>\n",
       "      <td>2012-04-01 00:00:00.000</td>\n",
       "      <td>2012</td>\n",
       "      <td>04</td>\n",
       "      <td>01</td>\n",
       "      <td>00</td>\n",
       "      <td>00</td>\n",
       "      <td>04-01</td>\n",
       "    </tr>\n",
       "    <tr>\n",
       "      <th>52609</th>\n",
       "      <td>2012-04-01 01:00:00.000 +0200</td>\n",
       "      <td>Mostly Cloudy</td>\n",
       "      <td>rain</td>\n",
       "      <td>8.333333</td>\n",
       "      <td>5.194444</td>\n",
       "      <td>0.45</td>\n",
       "      <td>20.9300</td>\n",
       "      <td>320.0</td>\n",
       "      <td>16.1000</td>\n",
       "      <td>0.0</td>\n",
       "      <td>1004.10</td>\n",
       "      <td>2012-04-01 01:00:00.000</td>\n",
       "      <td>2012</td>\n",
       "      <td>04</td>\n",
       "      <td>01</td>\n",
       "      <td>01</td>\n",
       "      <td>00</td>\n",
       "      <td>04-01</td>\n",
       "    </tr>\n",
       "    <tr>\n",
       "      <th>52610</th>\n",
       "      <td>2012-04-01 02:00:00.000 +0200</td>\n",
       "      <td>Breezy and Mostly Cloudy</td>\n",
       "      <td>rain</td>\n",
       "      <td>6.855556</td>\n",
       "      <td>2.244444</td>\n",
       "      <td>0.54</td>\n",
       "      <td>33.2304</td>\n",
       "      <td>322.0</td>\n",
       "      <td>15.1501</td>\n",
       "      <td>0.0</td>\n",
       "      <td>1004.97</td>\n",
       "      <td>2012-04-01 02:00:00.000</td>\n",
       "      <td>2012</td>\n",
       "      <td>04</td>\n",
       "      <td>01</td>\n",
       "      <td>02</td>\n",
       "      <td>00</td>\n",
       "      <td>04-01</td>\n",
       "    </tr>\n",
       "    <tr>\n",
       "      <th>52611</th>\n",
       "      <td>2012-04-01 03:00:00.000 +0200</td>\n",
       "      <td>Mostly Cloudy</td>\n",
       "      <td>rain</td>\n",
       "      <td>6.111111</td>\n",
       "      <td>1.888889</td>\n",
       "      <td>0.57</td>\n",
       "      <td>25.7600</td>\n",
       "      <td>310.0</td>\n",
       "      <td>16.1000</td>\n",
       "      <td>0.0</td>\n",
       "      <td>1005.90</td>\n",
       "      <td>2012-04-01 03:00:00.000</td>\n",
       "      <td>2012</td>\n",
       "      <td>04</td>\n",
       "      <td>01</td>\n",
       "      <td>03</td>\n",
       "      <td>00</td>\n",
       "      <td>04-01</td>\n",
       "    </tr>\n",
       "    <tr>\n",
       "      <th>52612</th>\n",
       "      <td>2012-04-01 04:00:00.000 +0200</td>\n",
       "      <td>Breezy and Overcast</td>\n",
       "      <td>rain</td>\n",
       "      <td>6.111111</td>\n",
       "      <td>1.605556</td>\n",
       "      <td>0.51</td>\n",
       "      <td>28.9800</td>\n",
       "      <td>310.0</td>\n",
       "      <td>16.1000</td>\n",
       "      <td>0.0</td>\n",
       "      <td>1006.00</td>\n",
       "      <td>2012-04-01 04:00:00.000</td>\n",
       "      <td>2012</td>\n",
       "      <td>04</td>\n",
       "      <td>01</td>\n",
       "      <td>04</td>\n",
       "      <td>00</td>\n",
       "      <td>04-01</td>\n",
       "    </tr>\n",
       "    <tr>\n",
       "      <th>...</th>\n",
       "      <td>...</td>\n",
       "      <td>...</td>\n",
       "      <td>...</td>\n",
       "      <td>...</td>\n",
       "      <td>...</td>\n",
       "      <td>...</td>\n",
       "      <td>...</td>\n",
       "      <td>...</td>\n",
       "      <td>...</td>\n",
       "      <td>...</td>\n",
       "      <td>...</td>\n",
       "      <td>...</td>\n",
       "      <td>...</td>\n",
       "      <td>...</td>\n",
       "      <td>...</td>\n",
       "      <td>...</td>\n",
       "      <td>...</td>\n",
       "      <td>...</td>\n",
       "    </tr>\n",
       "    <tr>\n",
       "      <th>61387</th>\n",
       "      <td>2012-09-09 19:00:00.000 +0200</td>\n",
       "      <td>Clear</td>\n",
       "      <td>rain</td>\n",
       "      <td>23.883333</td>\n",
       "      <td>23.883333</td>\n",
       "      <td>0.37</td>\n",
       "      <td>7.7924</td>\n",
       "      <td>41.0</td>\n",
       "      <td>9.9820</td>\n",
       "      <td>0.0</td>\n",
       "      <td>1018.41</td>\n",
       "      <td>2012-09-09 19:00:00.000</td>\n",
       "      <td>2012</td>\n",
       "      <td>09</td>\n",
       "      <td>09</td>\n",
       "      <td>19</td>\n",
       "      <td>00</td>\n",
       "      <td>09-09</td>\n",
       "    </tr>\n",
       "    <tr>\n",
       "      <th>61388</th>\n",
       "      <td>2012-09-09 20:00:00.000 +0200</td>\n",
       "      <td>Clear</td>\n",
       "      <td>rain</td>\n",
       "      <td>22.050000</td>\n",
       "      <td>22.050000</td>\n",
       "      <td>0.41</td>\n",
       "      <td>8.4686</td>\n",
       "      <td>58.0</td>\n",
       "      <td>10.3523</td>\n",
       "      <td>0.0</td>\n",
       "      <td>1018.72</td>\n",
       "      <td>2012-09-09 20:00:00.000</td>\n",
       "      <td>2012</td>\n",
       "      <td>09</td>\n",
       "      <td>09</td>\n",
       "      <td>20</td>\n",
       "      <td>00</td>\n",
       "      <td>09-09</td>\n",
       "    </tr>\n",
       "    <tr>\n",
       "      <th>61389</th>\n",
       "      <td>2012-09-09 21:00:00.000 +0200</td>\n",
       "      <td>Clear</td>\n",
       "      <td>rain</td>\n",
       "      <td>20.861111</td>\n",
       "      <td>20.861111</td>\n",
       "      <td>0.44</td>\n",
       "      <td>9.2253</td>\n",
       "      <td>70.0</td>\n",
       "      <td>9.9820</td>\n",
       "      <td>0.0</td>\n",
       "      <td>1019.12</td>\n",
       "      <td>2012-09-09 21:00:00.000</td>\n",
       "      <td>2012</td>\n",
       "      <td>09</td>\n",
       "      <td>09</td>\n",
       "      <td>21</td>\n",
       "      <td>00</td>\n",
       "      <td>09-09</td>\n",
       "    </tr>\n",
       "    <tr>\n",
       "      <th>61390</th>\n",
       "      <td>2012-09-09 22:00:00.000 +0200</td>\n",
       "      <td>Clear</td>\n",
       "      <td>rain</td>\n",
       "      <td>20.766667</td>\n",
       "      <td>20.766667</td>\n",
       "      <td>0.46</td>\n",
       "      <td>10.8675</td>\n",
       "      <td>70.0</td>\n",
       "      <td>15.8263</td>\n",
       "      <td>0.0</td>\n",
       "      <td>1019.23</td>\n",
       "      <td>2012-09-09 22:00:00.000</td>\n",
       "      <td>2012</td>\n",
       "      <td>09</td>\n",
       "      <td>09</td>\n",
       "      <td>22</td>\n",
       "      <td>00</td>\n",
       "      <td>09-09</td>\n",
       "    </tr>\n",
       "    <tr>\n",
       "      <th>61391</th>\n",
       "      <td>2012-09-09 23:00:00.000 +0200</td>\n",
       "      <td>Clear</td>\n",
       "      <td>rain</td>\n",
       "      <td>20.700000</td>\n",
       "      <td>20.700000</td>\n",
       "      <td>0.46</td>\n",
       "      <td>12.9122</td>\n",
       "      <td>77.0</td>\n",
       "      <td>14.9569</td>\n",
       "      <td>0.0</td>\n",
       "      <td>1019.47</td>\n",
       "      <td>2012-09-09 23:00:00.000</td>\n",
       "      <td>2012</td>\n",
       "      <td>09</td>\n",
       "      <td>09</td>\n",
       "      <td>23</td>\n",
       "      <td>00</td>\n",
       "      <td>09-09</td>\n",
       "    </tr>\n",
       "  </tbody>\n",
       "</table>\n",
       "<p>8784 rows × 18 columns</p>\n",
       "</div>"
      ],
      "text/plain": [
       "                             ForDate                   Summary PrecipType  \\\n",
       "52608  2012-04-01 00:00:00.000 +0200       Breezy and Overcast       rain   \n",
       "52609  2012-04-01 01:00:00.000 +0200             Mostly Cloudy       rain   \n",
       "52610  2012-04-01 02:00:00.000 +0200  Breezy and Mostly Cloudy       rain   \n",
       "52611  2012-04-01 03:00:00.000 +0200             Mostly Cloudy       rain   \n",
       "52612  2012-04-01 04:00:00.000 +0200       Breezy and Overcast       rain   \n",
       "...                              ...                       ...        ...   \n",
       "61387  2012-09-09 19:00:00.000 +0200                     Clear       rain   \n",
       "61388  2012-09-09 20:00:00.000 +0200                     Clear       rain   \n",
       "61389  2012-09-09 21:00:00.000 +0200                     Clear       rain   \n",
       "61390  2012-09-09 22:00:00.000 +0200                     Clear       rain   \n",
       "61391  2012-09-09 23:00:00.000 +0200                     Clear       rain   \n",
       "\n",
       "            Temp    AppTemp  Humidity  WindSpeed  Wind Bearing    Visib  \\\n",
       "52608   9.444444   5.511111      0.52    35.4200         340.0  16.1000   \n",
       "52609   8.333333   5.194444      0.45    20.9300         320.0  16.1000   \n",
       "52610   6.855556   2.244444      0.54    33.2304         322.0  15.1501   \n",
       "52611   6.111111   1.888889      0.57    25.7600         310.0  16.1000   \n",
       "52612   6.111111   1.605556      0.51    28.9800         310.0  16.1000   \n",
       "...          ...        ...       ...        ...           ...      ...   \n",
       "61387  23.883333  23.883333      0.37     7.7924          41.0   9.9820   \n",
       "61388  22.050000  22.050000      0.41     8.4686          58.0  10.3523   \n",
       "61389  20.861111  20.861111      0.44     9.2253          70.0   9.9820   \n",
       "61390  20.766667  20.766667      0.46    10.8675          70.0  15.8263   \n",
       "61391  20.700000  20.700000      0.46    12.9122          77.0  14.9569   \n",
       "\n",
       "       Loud Cover    Press                     Date  year month day hour  \\\n",
       "52608         0.0  1002.80  2012-04-01 00:00:00.000  2012    04  01   00   \n",
       "52609         0.0  1004.10  2012-04-01 01:00:00.000  2012    04  01   01   \n",
       "52610         0.0  1004.97  2012-04-01 02:00:00.000  2012    04  01   02   \n",
       "52611         0.0  1005.90  2012-04-01 03:00:00.000  2012    04  01   03   \n",
       "52612         0.0  1006.00  2012-04-01 04:00:00.000  2012    04  01   04   \n",
       "...           ...      ...                      ...   ...   ...  ..  ...   \n",
       "61387         0.0  1018.41  2012-09-09 19:00:00.000  2012    09  09   19   \n",
       "61388         0.0  1018.72  2012-09-09 20:00:00.000  2012    09  09   20   \n",
       "61389         0.0  1019.12  2012-09-09 21:00:00.000  2012    09  09   21   \n",
       "61390         0.0  1019.23  2012-09-09 22:00:00.000  2012    09  09   22   \n",
       "61391         0.0  1019.47  2012-09-09 23:00:00.000  2012    09  09   23   \n",
       "\n",
       "      minute month-day  \n",
       "52608     00     04-01  \n",
       "52609     00     04-01  \n",
       "52610     00     04-01  \n",
       "52611     00     04-01  \n",
       "52612     00     04-01  \n",
       "...      ...       ...  \n",
       "61387     00     09-09  \n",
       "61388     00     09-09  \n",
       "61389     00     09-09  \n",
       "61390     00     09-09  \n",
       "61391     00     09-09  \n",
       "\n",
       "[8784 rows x 18 columns]"
      ]
     },
     "execution_count": 116,
     "metadata": {},
     "output_type": "execute_result"
    }
   ],
   "source": [
    "df[df['year'] == '2012']"
   ]
  },
  {
   "cell_type": "code",
   "execution_count": 150,
   "metadata": {},
   "outputs": [
    {
     "data": {
      "text/html": [
       "<div>\n",
       "<style scoped>\n",
       "    .dataframe tbody tr th:only-of-type {\n",
       "        vertical-align: middle;\n",
       "    }\n",
       "\n",
       "    .dataframe tbody tr th {\n",
       "        vertical-align: top;\n",
       "    }\n",
       "\n",
       "    .dataframe thead th {\n",
       "        text-align: right;\n",
       "    }\n",
       "</style>\n",
       "<table border=\"1\" class=\"dataframe\">\n",
       "  <thead>\n",
       "    <tr style=\"text-align: right;\">\n",
       "      <th></th>\n",
       "      <th>year-month-day</th>\n",
       "      <th>Temp</th>\n",
       "    </tr>\n",
       "  </thead>\n",
       "  <tbody>\n",
       "    <tr>\n",
       "      <th>0</th>\n",
       "      <td>2012-01-01</td>\n",
       "      <td>0.129861</td>\n",
       "    </tr>\n",
       "    <tr>\n",
       "      <th>1</th>\n",
       "      <td>2012-01-02</td>\n",
       "      <td>3.455556</td>\n",
       "    </tr>\n",
       "    <tr>\n",
       "      <th>2</th>\n",
       "      <td>2012-01-03</td>\n",
       "      <td>5.201620</td>\n",
       "    </tr>\n",
       "    <tr>\n",
       "      <th>3</th>\n",
       "      <td>2012-01-04</td>\n",
       "      <td>3.839120</td>\n",
       "    </tr>\n",
       "    <tr>\n",
       "      <th>4</th>\n",
       "      <td>2012-01-05</td>\n",
       "      <td>4.210185</td>\n",
       "    </tr>\n",
       "    <tr>\n",
       "      <th>...</th>\n",
       "      <td>...</td>\n",
       "      <td>...</td>\n",
       "    </tr>\n",
       "    <tr>\n",
       "      <th>361</th>\n",
       "      <td>2012-12-27</td>\n",
       "      <td>4.884954</td>\n",
       "    </tr>\n",
       "    <tr>\n",
       "      <th>362</th>\n",
       "      <td>2012-12-28</td>\n",
       "      <td>3.997222</td>\n",
       "    </tr>\n",
       "    <tr>\n",
       "      <th>363</th>\n",
       "      <td>2012-12-29</td>\n",
       "      <td>-0.835880</td>\n",
       "    </tr>\n",
       "    <tr>\n",
       "      <th>364</th>\n",
       "      <td>2012-12-30</td>\n",
       "      <td>-0.544676</td>\n",
       "    </tr>\n",
       "    <tr>\n",
       "      <th>365</th>\n",
       "      <td>2012-12-31</td>\n",
       "      <td>-3.289815</td>\n",
       "    </tr>\n",
       "  </tbody>\n",
       "</table>\n",
       "<p>366 rows × 2 columns</p>\n",
       "</div>"
      ],
      "text/plain": [
       "    year-month-day      Temp\n",
       "0       2012-01-01  0.129861\n",
       "1       2012-01-02  3.455556\n",
       "2       2012-01-03  5.201620\n",
       "3       2012-01-04  3.839120\n",
       "4       2012-01-05  4.210185\n",
       "..             ...       ...\n",
       "361     2012-12-27  4.884954\n",
       "362     2012-12-28  3.997222\n",
       "363     2012-12-29 -0.835880\n",
       "364     2012-12-30 -0.544676\n",
       "365     2012-12-31 -3.289815\n",
       "\n",
       "[366 rows x 2 columns]"
      ]
     },
     "execution_count": 150,
     "metadata": {},
     "output_type": "execute_result"
    }
   ],
   "source": []
  },
  {
   "cell_type": "code",
   "execution_count": 163,
   "metadata": {},
   "outputs": [
    {
     "data": {
      "text/plain": [
       "[<matplotlib.lines.Line2D at 0x7fc20a0b95e0>]"
      ]
     },
     "execution_count": 163,
     "metadata": {},
     "output_type": "execute_result"
    },
    {
     "data": {
      "image/png": "[encoded data removed]",
      "text/plain": [
       "<Figure size 432x288 with 1 Axes>"
      ]
     },
     "metadata": {
      "needs_background": "light"
     },
     "output_type": "display_data"
    }
   ],
   "source": [
    "lineplotdf = df[df['year'] == '2012'].groupby(\"year-month-day\")[[\"Temp\"]].mean().reset_index()\n",
    "lineplotdf\n",
    "x_list = lineplotdf[\"year-month-day\"].apply(lambda x: datetime.strptime(x, \"%Y-%m-%d\")).tolist()\n",
    "y_list = lineplotdf[\"Temp\"]\n",
    "dates = matplotlib.dates.date2num(x_list)\n",
    "plt.plot_date(dates, y_list, \"-\")"
   ]
  },
  {
   "cell_type": "markdown",
   "metadata": {},
   "source": [
    "15. Utwórz wykres, który będzie składał się z 12 mniejszych wykresów z czego każdy będzie zawierał scatterplot temperatury odczuwalnej od wilgotności w 2008 roku dla poszczególnych miesięcy"
   ]
  },
  {
   "cell_type": "markdown",
   "metadata": {},
   "source": [
    "<details>\n",
    "<summary style=\"color: #993333\">Podpowiedź (kliknij)</summary>\n",
    "1. Wyciągnij z głównego df-a dane z rokiem równym 2008\n",
    "<br>\n",
    "2. Utwórz wykres (subplots) o odpowiedniej liczbie podwykresów\n",
    "<br>\n",
    "3. Przeiteruj podwójną pętlą po tablicy numpy z osiami (\n",
    "<br>\n",
    "4. W każdej iteracji wyciągnij część danych z danego miesiąca. Możesz skorzystać ze zmiennej oznaczającej miesiąc, która w każdej iteracji będzie inkrementowana\n",
    "    <br>\n",
    "5. Utwórz scatterplot na odpowiednim subplocie\n",
    "</details>\n"
   ]
  },
  {
   "cell_type": "code",
   "execution_count": 166,
   "metadata": {},
   "outputs": [],
   "source": [
    "df15 = df[df['year'] == '2008']"
   ]
  },
  {
   "cell_type": "code",
   "execution_count": 197,
   "metadata": {},
   "outputs": [
    {
     "ename": "SyntaxError",
     "evalue": "cannot assign to function call (3143785308.py, line 1)",
     "output_type": "error",
     "traceback": [
      "\u001b[0;36m  Input \u001b[0;32mIn [197]\u001b[0;36m\u001b[0m\n\u001b[0;31m    x_list(i) = df15[df15['month'] == i]['Humidity'].tolist();\u001b[0m\n\u001b[0m    ^\u001b[0m\n\u001b[0;31mSyntaxError\u001b[0m\u001b[0;31m:\u001b[0m cannot assign to function call\n"
     ]
    }
   ],
   "source": [
    "x_list(i) = df15[df15['month'] == i]['Humidity'].tolist();"
   ]
  },
  {
   "cell_type": "code",
   "execution_count": 178,
   "metadata": {},
   "outputs": [],
   "source": [
    "y_list = df15[df15['month'] == '01']['AppTemp'].tolist();"
   ]
  },
  {
   "cell_type": "code",
   "execution_count": 164,
   "metadata": {},
   "outputs": [
    {
     "data": {
      "image/png": "[encoded data removed]",
      "text/plain": [
       "<Figure size 1008x720 with 12 Axes>"
      ]
     },
     "metadata": {
      "needs_background": "light"
     },
     "output_type": "display_data"
    }
   ],
   "source": [
    "fig, axes = plt.subplots(figsize=(14, 10), nrows=6, ncols=2)"
   ]
  },
  {
   "cell_type": "code",
   "execution_count": 165,
   "metadata": {},
   "outputs": [
    {
     "data": {
      "text/plain": [
       "array([[<AxesSubplot:>, <AxesSubplot:>],\n",
       "       [<AxesSubplot:>, <AxesSubplot:>],\n",
       "       [<AxesSubplot:>, <AxesSubplot:>],\n",
       "       [<AxesSubplot:>, <AxesSubplot:>],\n",
       "       [<AxesSubplot:>, <AxesSubplot:>],\n",
       "       [<AxesSubplot:>, <AxesSubplot:>]], dtype=object)"
      ]
     },
     "execution_count": 165,
     "metadata": {},
     "output_type": "execute_result"
    }
   ],
   "source": [
    "axes"
   ]
  },
  {
   "cell_type": "code",
   "execution_count": 207,
   "metadata": {},
   "outputs": [
    {
     "data": {
      "image/png": "[encoded data removed]",
      "text/plain": [
       "<Figure size 1008x720 with 12 Axes>"
      ]
     },
     "metadata": {
      "needs_background": "light"
     },
     "output_type": "display_data"
    }
   ],
   "source": [
    "fig, axes = plt.subplots(figsize=(14, 10), nrows=6, ncols=2)\n",
    "\n",
    "for idx, ax in enumerate(axes.reshape(-1)):\n",
    "        x_list = df15[df15['month'].astype(int) - 1 == idx]['Humidity'].tolist()\n",
    "        y_list = df15[df15['month'].astype(int) - 1 == idx]['AppTemp'].tolist()\n",
    "        ax.scatter(x_list, y_list, s=1)\n",
    "        ax.set_title(f\"Numer miesiąca: {idx+1}\", fontsize=8)"
   ]
  },
  {
   "cell_type": "markdown",
   "metadata": {},
   "source": [
    "16. Przedstaw na wykresie słupkowym średnią temperaturę w kolejnych miesiącach"
   ]
  },
  {
   "cell_type": "code",
   "execution_count": 210,
   "metadata": {},
   "outputs": [],
   "source": [
    "barplotdf = df.groupby(\"month\").mean()[[\"Temp\"]].reset_index()\n",
    "barplotdf\n",
    "x_list = barplotdf.iloc[:,0].tolist()\n",
    "y_list = barplotdf.iloc[:,1].tolist()"
   ]
  },
  {
   "cell_type": "code",
   "execution_count": 211,
   "metadata": {},
   "outputs": [
    {
     "data": {
      "text/plain": [
       "<BarContainer object of 12 artists>"
      ]
     },
     "execution_count": 211,
     "metadata": {},
     "output_type": "execute_result"
    },
    {
     "data": {
      "image/png": "[encoded data removed]",
      "text/plain": [
       "<Figure size 432x288 with 1 Axes>"
      ]
     },
     "metadata": {
      "needs_background": "light"
     },
     "output_type": "display_data"
    }
   ],
   "source": [
    "plt.bar(x=x_list, height=y_list, edgecolor='k')"
   ]
  },
  {
   "cell_type": "markdown",
   "metadata": {},
   "source": [
    "17. Zrób to samo co w poprzednim wykresie, ale osobno dla każdego roku na przestrzeni 2007-2012. Użyj `subplots`"
   ]
  },
  {
   "cell_type": "markdown",
   "metadata": {},
   "source": [
    "<details>\n",
    "<summary style=\"color: #993333\">Podpowiedź (kliknij)</summary>\n",
    "1. Utwórz wykres (subplots) o odpowiedniej liczbie subplotów\n",
    "<br>\n",
    "2. Przeiteruj po zakresie lat, który jest podany w zadaniu\n",
    "<br>\n",
    "3. Wewnątrz przeiteruj po kolejnych miesiącach\n",
    "<br>\n",
    "4. Dla każdej kombinacji rok-miesiąc wyznacz sub data frame i średnią temperaturę z niego zapisz do wcześniej przygotowanej listy (append)\n",
    "    <br>\n",
    "5. Narysuj barplot średnie temperatur vs. kolejne miesiące na odpowiednim subplocie\n",
    "</details>\n"
   ]
  },
  {
   "cell_type": "code",
   "execution_count": 213,
   "metadata": {},
   "outputs": [
    {
     "data": {
      "image/png": "[encoded data removed]",
      "text/plain": [
       "<Figure size 1008x720 with 6 Axes>"
      ]
     },
     "metadata": {
      "needs_background": "light"
     },
     "output_type": "display_data"
    }
   ],
   "source": [
    "fig, axes = plt.subplots(figsize=(14, 10), nrows=3, ncols=2)\n",
    "\n",
    "for idx, ax in enumerate(axes.reshape(-1)):\n",
    "        barplotdf = df[df['year'].astype(int) == 2007 +idx].groupby(\"month\").mean()[[\"Temp\"]].reset_index()\n",
    "        x_list = barplotdf.iloc[:,0].tolist()\n",
    "        y_list = barplotdf.iloc[:,1].tolist()\n",
    "        ax.bar(x=x_list, height=y_list, edgecolor='k')\n",
    "        ax.set_title(f\"Rok: {idx+1}\", fontsize=8)"
   ]
  },
  {
   "cell_type": "markdown",
   "metadata": {},
   "source": [
    "18. Na jednym wykresie stwórz scatterplot temperatury od temperatury odczuwalnej. Każdą porę roku zaznacz osobnym kolorem i dodaj legendę. Dla uproszczenia przyjmij, że pory roku pokrywają się całkowicie z miesiącami."
   ]
  },
  {
   "cell_type": "markdown",
   "metadata": {},
   "source": [
    "<details>\n",
    "<summary style=\"color: #993333\">Podpowiedź (kliknij)</summary>\n",
    "1. Utwórz kolumnę która będzie przechowywać informację o porze roku. Wykorzystaj w tym celu apply i lambda. Przyda się też słownik, który dla każdego miesiąca przypisze porę roku\n",
    "<br>\n",
    "2. Przeiteruj po wszystkich porach roku. Wewnątrz pętli wyznacz sub data frame odpowiadający danej porze roku\n",
    "<br>\n",
    "3. Narysuj odpowiedni scatterplot. Ustaw odpowiedni rozmiar markerów, dodaj label i color. Wszystkie wykresy mają znajdować się obok siebie przez co mogą się nakładać\n",
    "<br>\n",
    "4. Dodaj legendę\n",
    "</details>\n"
   ]
  },
  {
   "cell_type": "code",
   "execution_count": 235,
   "metadata": {},
   "outputs": [],
   "source": [
    "seasondict = {i+1 : \"zima\" for i in range(3)} | {i+4 : \"wiosna\" for i in range(3)} | {i+7 : \"lato\" for i in range(3)} | {i+10 : \"jesień\" for i in range(3)}"
   ]
  },
  {
   "cell_type": "code",
   "execution_count": 237,
   "metadata": {},
   "outputs": [],
   "source": [
    "df[\"season\"] = df[\"month\"].apply(lambda x: seasondict[int(x)])"
   ]
  },
  {
   "cell_type": "code",
   "execution_count": 238,
   "metadata": {},
   "outputs": [
    {
     "data": {
      "text/plain": [
       "0        wiosna\n",
       "1        wiosna\n",
       "2        wiosna\n",
       "3        wiosna\n",
       "4        wiosna\n",
       "          ...  \n",
       "96448      lato\n",
       "96449      lato\n",
       "96450      lato\n",
       "96451      lato\n",
       "96452      lato\n",
       "Name: season, Length: 96453, dtype: object"
      ]
     },
     "execution_count": 238,
     "metadata": {},
     "output_type": "execute_result"
    }
   ],
   "source": [
    "df[\"season\"]"
   ]
  },
  {
   "cell_type": "code",
   "execution_count": 239,
   "metadata": {},
   "outputs": [],
   "source": [
    "x = np.linspace(-30, 40, 2)\n",
    "y = x"
   ]
  },
  {
   "cell_type": "code",
   "execution_count": 247,
   "metadata": {},
   "outputs": [
    {
     "data": {
      "text/plain": [
       "Text(0, 0.5, 'Temp')"
      ]
     },
     "execution_count": 247,
     "metadata": {},
     "output_type": "execute_result"
    },
    {
     "data": {
      "image/png": "[encoded data removed]",
      "text/plain": [
       "<Figure size 432x288 with 1 Axes>"
      ]
     },
     "metadata": {
      "needs_background": "light"
     },
     "output_type": "display_data"
    }
   ],
   "source": [
    "for elem in [\"zima\", \"wiosna\", \"lato\", \"jesień\"]:\n",
    "    plt.scatter(df[df[\"season\"] == elem][\"AppTemp\"],\\\n",
    "                df[df[\"season\"] == elem][\"Temp\"], s=1, label=elem)\n",
    "\n",
    "plt.plot(x, y, '-r')\n",
    "plt.legend()\n",
    "plt.xlabel('AppTemp', color='#1C2833')\n",
    "plt.ylabel('Temp', color='#1C2833')\n",
    "#plt.figure().patch.set_facecolor('xkcd:white')"
   ]
  },
  {
   "cell_type": "markdown",
   "metadata": {},
   "source": [
    "19. Zaokrąglij w kolumnie z temperaturą oraz temperaturą odczuwalną wartości do 2 cyfr po przecinku"
   ]
  },
  {
   "cell_type": "code",
   "execution_count": 249,
   "metadata": {},
   "outputs": [],
   "source": [
    "df[\"Temp\"] = df[\"Temp\"].apply(round, args=(2,))"
   ]
  },
  {
   "cell_type": "markdown",
   "metadata": {},
   "source": [
    "20. Utwórz nową kolumnę, w której za pomocą wartości 0 i 1 oznaczysz czy temperatura jest powyżej $0^oC$ czy nie"
   ]
  },
  {
   "cell_type": "code",
   "execution_count": 35,
   "metadata": {},
   "outputs": [],
   "source": [
    "df[\"C\"] = df[\"Temp\"].apply(lambda x, 1 if ())"
   ]
  }
 ],
 "metadata": {
  "kernelspec": {
   "display_name": "Python 3 (ipykernel)",
   "language": "python",
   "name": "python3"
  },
  "language_info": {
   "codemirror_mode": {
    "name": "ipython",
    "version": 3
   },
   "file_extension": ".py",
   "mimetype": "text/x-python",
   "name": "python",
   "nbconvert_exporter": "python",
   "pygments_lexer": "ipython3",
   "version": "3.9.7"
  }
 },
 "nbformat": 4,
 "nbformat_minor": 4
}
