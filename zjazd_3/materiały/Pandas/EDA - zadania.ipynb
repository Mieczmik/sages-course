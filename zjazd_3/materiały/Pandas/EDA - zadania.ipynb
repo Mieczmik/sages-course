{
 "cells": [
  {
   "cell_type": "markdown",
   "metadata": {},
   "source": [
    "# Exploratory Data Analysis (EDA) - zadania\n",
    "\n",
    "Przeanalizuj zbiór danych `houses.csv`, który zawiera informacje o cenach mieszkań wystawionych na sprzedaż. Wykonaj poniższe zadania, których wynikiem będą przykładowe informacje jakie możemy pozyskać w trakcie eksploracyjnej analizy danych.\n",
    "\n",
    "Zadania 1-5: 30 minut\n",
    "\n",
    "Zadania 6-9: 30 minut\n",
    "\n",
    "Zadania 10-12 20 minut\n",
    "\n",
    "Zadania 13-14: 15 minut"
   ]
  },
  {
   "cell_type": "markdown",
   "metadata": {},
   "source": [
    "1. Zaimportuj `pandas`  i wczytaj zbiór danych. Wyświetl pierwszych 5 wierszy i zobacz co znajduje się w danych. Usuń kolumny `address` oraz `id`"
   ]
  },
  {
   "cell_type": "code",
   "execution_count": 2,
   "metadata": {},
   "outputs": [],
   "source": [
    "import pandas as pd\n",
    "df = pd.read_csv(\"data/houses.csv\")"
   ]
  },
  {
   "cell_type": "code",
   "execution_count": 4,
   "metadata": {},
   "outputs": [
    {
     "data": {
      "text/html": [
       "<div>\n",
       "<style scoped>\n",
       "    .dataframe tbody tr th:only-of-type {\n",
       "        vertical-align: middle;\n",
       "    }\n",
       "\n",
       "    .dataframe tbody tr th {\n",
       "        vertical-align: top;\n",
       "    }\n",
       "\n",
       "    .dataframe thead th {\n",
       "        text-align: right;\n",
       "    }\n",
       "</style>\n",
       "<table border=\"1\" class=\"dataframe\">\n",
       "  <thead>\n",
       "    <tr style=\"text-align: right;\">\n",
       "      <th></th>\n",
       "      <th>address</th>\n",
       "      <th>city</th>\n",
       "      <th>floor</th>\n",
       "      <th>id</th>\n",
       "      <th>latitude</th>\n",
       "      <th>longitude</th>\n",
       "      <th>price</th>\n",
       "      <th>rooms</th>\n",
       "      <th>sq</th>\n",
       "      <th>year</th>\n",
       "    </tr>\n",
       "  </thead>\n",
       "  <tbody>\n",
       "    <tr>\n",
       "      <th>0</th>\n",
       "      <td>Podgórze Zabłocie Stanisława Klimeckiego</td>\n",
       "      <td>Kraków</td>\n",
       "      <td>2.0</td>\n",
       "      <td>23918.0</td>\n",
       "      <td>50.049224</td>\n",
       "      <td>19.970379</td>\n",
       "      <td>749000.0</td>\n",
       "      <td>3.0</td>\n",
       "      <td>74.05</td>\n",
       "      <td>2021.0</td>\n",
       "    </tr>\n",
       "    <tr>\n",
       "      <th>1</th>\n",
       "      <td>Praga-Południe Grochowska</td>\n",
       "      <td>Warszawa</td>\n",
       "      <td>3.0</td>\n",
       "      <td>17828.0</td>\n",
       "      <td>52.249775</td>\n",
       "      <td>21.106886</td>\n",
       "      <td>240548.0</td>\n",
       "      <td>1.0</td>\n",
       "      <td>24.38</td>\n",
       "      <td>2021.0</td>\n",
       "    </tr>\n",
       "    <tr>\n",
       "      <th>2</th>\n",
       "      <td>Krowodrza Czarnowiejska</td>\n",
       "      <td>Kraków</td>\n",
       "      <td>2.0</td>\n",
       "      <td>22784.0</td>\n",
       "      <td>50.066964</td>\n",
       "      <td>19.920025</td>\n",
       "      <td>427000.0</td>\n",
       "      <td>2.0</td>\n",
       "      <td>37.00</td>\n",
       "      <td>1970.0</td>\n",
       "    </tr>\n",
       "    <tr>\n",
       "      <th>3</th>\n",
       "      <td>Grunwald</td>\n",
       "      <td>Poznań</td>\n",
       "      <td>2.0</td>\n",
       "      <td>4315.0</td>\n",
       "      <td>52.404212</td>\n",
       "      <td>16.882542</td>\n",
       "      <td>1290000.0</td>\n",
       "      <td>5.0</td>\n",
       "      <td>166.00</td>\n",
       "      <td>1935.0</td>\n",
       "    </tr>\n",
       "    <tr>\n",
       "      <th>4</th>\n",
       "      <td>Ochota Gotowy budynek. Stan deweloperski. Osta...</td>\n",
       "      <td>Warszawa</td>\n",
       "      <td>1.0</td>\n",
       "      <td>11770.0</td>\n",
       "      <td>52.212225</td>\n",
       "      <td>20.972630</td>\n",
       "      <td>996000.0</td>\n",
       "      <td>5.0</td>\n",
       "      <td>105.00</td>\n",
       "      <td>2020.0</td>\n",
       "    </tr>\n",
       "  </tbody>\n",
       "</table>\n",
       "</div>"
      ],
      "text/plain": [
       "                                             address      city  floor  \\\n",
       "0           Podgórze Zabłocie Stanisława Klimeckiego    Kraków    2.0   \n",
       "1                          Praga-Południe Grochowska  Warszawa    3.0   \n",
       "2                            Krowodrza Czarnowiejska    Kraków    2.0   \n",
       "3                                           Grunwald    Poznań    2.0   \n",
       "4  Ochota Gotowy budynek. Stan deweloperski. Osta...  Warszawa    1.0   \n",
       "\n",
       "        id   latitude  longitude      price  rooms      sq    year  \n",
       "0  23918.0  50.049224  19.970379   749000.0    3.0   74.05  2021.0  \n",
       "1  17828.0  52.249775  21.106886   240548.0    1.0   24.38  2021.0  \n",
       "2  22784.0  50.066964  19.920025   427000.0    2.0   37.00  1970.0  \n",
       "3   4315.0  52.404212  16.882542  1290000.0    5.0  166.00  1935.0  \n",
       "4  11770.0  52.212225  20.972630   996000.0    5.0  105.00  2020.0  "
      ]
     },
     "execution_count": 4,
     "metadata": {},
     "output_type": "execute_result"
    }
   ],
   "source": [
    "df.head()"
   ]
  },
  {
   "cell_type": "code",
   "execution_count": 288,
   "metadata": {},
   "outputs": [],
   "source": [
    "df.drop([\"address\", \"id\"], axis = 1, inplace = True)"
   ]
  },
  {
   "cell_type": "code",
   "execution_count": 6,
   "metadata": {},
   "outputs": [
    {
     "data": {
      "text/html": [
       "<div>\n",
       "<style scoped>\n",
       "    .dataframe tbody tr th:only-of-type {\n",
       "        vertical-align: middle;\n",
       "    }\n",
       "\n",
       "    .dataframe tbody tr th {\n",
       "        vertical-align: top;\n",
       "    }\n",
       "\n",
       "    .dataframe thead th {\n",
       "        text-align: right;\n",
       "    }\n",
       "</style>\n",
       "<table border=\"1\" class=\"dataframe\">\n",
       "  <thead>\n",
       "    <tr style=\"text-align: right;\">\n",
       "      <th></th>\n",
       "      <th>city</th>\n",
       "      <th>floor</th>\n",
       "      <th>latitude</th>\n",
       "      <th>longitude</th>\n",
       "      <th>price</th>\n",
       "      <th>rooms</th>\n",
       "      <th>sq</th>\n",
       "      <th>year</th>\n",
       "    </tr>\n",
       "  </thead>\n",
       "  <tbody>\n",
       "    <tr>\n",
       "      <th>0</th>\n",
       "      <td>Kraków</td>\n",
       "      <td>2.0</td>\n",
       "      <td>50.049224</td>\n",
       "      <td>19.970379</td>\n",
       "      <td>749000.0</td>\n",
       "      <td>3.0</td>\n",
       "      <td>74.05</td>\n",
       "      <td>2021.0</td>\n",
       "    </tr>\n",
       "    <tr>\n",
       "      <th>1</th>\n",
       "      <td>Warszawa</td>\n",
       "      <td>3.0</td>\n",
       "      <td>52.249775</td>\n",
       "      <td>21.106886</td>\n",
       "      <td>240548.0</td>\n",
       "      <td>1.0</td>\n",
       "      <td>24.38</td>\n",
       "      <td>2021.0</td>\n",
       "    </tr>\n",
       "    <tr>\n",
       "      <th>2</th>\n",
       "      <td>Kraków</td>\n",
       "      <td>2.0</td>\n",
       "      <td>50.066964</td>\n",
       "      <td>19.920025</td>\n",
       "      <td>427000.0</td>\n",
       "      <td>2.0</td>\n",
       "      <td>37.00</td>\n",
       "      <td>1970.0</td>\n",
       "    </tr>\n",
       "    <tr>\n",
       "      <th>3</th>\n",
       "      <td>Poznań</td>\n",
       "      <td>2.0</td>\n",
       "      <td>52.404212</td>\n",
       "      <td>16.882542</td>\n",
       "      <td>1290000.0</td>\n",
       "      <td>5.0</td>\n",
       "      <td>166.00</td>\n",
       "      <td>1935.0</td>\n",
       "    </tr>\n",
       "    <tr>\n",
       "      <th>4</th>\n",
       "      <td>Warszawa</td>\n",
       "      <td>1.0</td>\n",
       "      <td>52.212225</td>\n",
       "      <td>20.972630</td>\n",
       "      <td>996000.0</td>\n",
       "      <td>5.0</td>\n",
       "      <td>105.00</td>\n",
       "      <td>2020.0</td>\n",
       "    </tr>\n",
       "    <tr>\n",
       "      <th>...</th>\n",
       "      <td>...</td>\n",
       "      <td>...</td>\n",
       "      <td>...</td>\n",
       "      <td>...</td>\n",
       "      <td>...</td>\n",
       "      <td>...</td>\n",
       "      <td>...</td>\n",
       "      <td>...</td>\n",
       "    </tr>\n",
       "    <tr>\n",
       "      <th>23759</th>\n",
       "      <td>Poznań</td>\n",
       "      <td>0.0</td>\n",
       "      <td>52.449649</td>\n",
       "      <td>16.949408</td>\n",
       "      <td>543000.0</td>\n",
       "      <td>4.0</td>\n",
       "      <td>77.00</td>\n",
       "      <td>2020.0</td>\n",
       "    </tr>\n",
       "    <tr>\n",
       "      <th>23760</th>\n",
       "      <td>Warszawa</td>\n",
       "      <td>4.0</td>\n",
       "      <td>52.186109</td>\n",
       "      <td>20.948438</td>\n",
       "      <td>910000.0</td>\n",
       "      <td>3.0</td>\n",
       "      <td>71.00</td>\n",
       "      <td>2017.0</td>\n",
       "    </tr>\n",
       "    <tr>\n",
       "      <th>23761</th>\n",
       "      <td>Poznań</td>\n",
       "      <td>0.0</td>\n",
       "      <td>52.397345</td>\n",
       "      <td>16.961939</td>\n",
       "      <td>430695.0</td>\n",
       "      <td>3.0</td>\n",
       "      <td>50.67</td>\n",
       "      <td>2022.0</td>\n",
       "    </tr>\n",
       "    <tr>\n",
       "      <th>23762</th>\n",
       "      <td>Kraków</td>\n",
       "      <td>6.0</td>\n",
       "      <td>50.024231</td>\n",
       "      <td>19.959569</td>\n",
       "      <td>359000.0</td>\n",
       "      <td>2.0</td>\n",
       "      <td>38.86</td>\n",
       "      <td>2021.0</td>\n",
       "    </tr>\n",
       "    <tr>\n",
       "      <th>23763</th>\n",
       "      <td>Warszawa</td>\n",
       "      <td>2.0</td>\n",
       "      <td>52.141039</td>\n",
       "      <td>21.032321</td>\n",
       "      <td>604800.0</td>\n",
       "      <td>3.0</td>\n",
       "      <td>63.00</td>\n",
       "      <td>1978.0</td>\n",
       "    </tr>\n",
       "  </tbody>\n",
       "</table>\n",
       "<p>23764 rows × 8 columns</p>\n",
       "</div>"
      ],
      "text/plain": [
       "           city  floor   latitude  longitude      price  rooms      sq    year\n",
       "0        Kraków    2.0  50.049224  19.970379   749000.0    3.0   74.05  2021.0\n",
       "1      Warszawa    3.0  52.249775  21.106886   240548.0    1.0   24.38  2021.0\n",
       "2        Kraków    2.0  50.066964  19.920025   427000.0    2.0   37.00  1970.0\n",
       "3        Poznań    2.0  52.404212  16.882542  1290000.0    5.0  166.00  1935.0\n",
       "4      Warszawa    1.0  52.212225  20.972630   996000.0    5.0  105.00  2020.0\n",
       "...         ...    ...        ...        ...        ...    ...     ...     ...\n",
       "23759    Poznań    0.0  52.449649  16.949408   543000.0    4.0   77.00  2020.0\n",
       "23760  Warszawa    4.0  52.186109  20.948438   910000.0    3.0   71.00  2017.0\n",
       "23761    Poznań    0.0  52.397345  16.961939   430695.0    3.0   50.67  2022.0\n",
       "23762    Kraków    6.0  50.024231  19.959569   359000.0    2.0   38.86  2021.0\n",
       "23763  Warszawa    2.0  52.141039  21.032321   604800.0    3.0   63.00  1978.0\n",
       "\n",
       "[23764 rows x 8 columns]"
      ]
     },
     "execution_count": 6,
     "metadata": {},
     "output_type": "execute_result"
    }
   ],
   "source": [
    "df"
   ]
  },
  {
   "cell_type": "markdown",
   "metadata": {},
   "source": [
    "2. Wypisz ile brakujących wartości jest w każdej kolumnie zbioru danych. Użyj do tego pętli `for`"
   ]
  },
  {
   "cell_type": "markdown",
   "metadata": {},
   "source": [
    "<details>\n",
    "<summary style=\"color: #993333\">Podpowiedź (kliknij)</summary>\n",
    "Napisz pętlę for po wszystkich kolumnach. Dla każdej kolumny wyciągnij ją z df-a i wykonaj funkcje .isna() oraz .sum()\n",
    "</details>\n"
   ]
  },
  {
   "cell_type": "code",
   "execution_count": 9,
   "metadata": {},
   "outputs": [
    {
     "name": "stdout",
     "output_type": "stream",
     "text": [
      "0\n",
      "0\n",
      "0\n",
      "0\n",
      "0\n",
      "0\n",
      "0\n",
      "0\n"
     ]
    }
   ],
   "source": [
    "for colname, col in df.iteritems():\n",
    "    print(col.isna().sum())"
   ]
  },
  {
   "cell_type": "markdown",
   "metadata": {},
   "source": [
    "3. Sprawdź unikalne wartości oraz ich liczebność dla zmiennych kategorycznych. Dla zmiennych liczbowych narysuj histogramy przedstawiające rozkład wartości zmiennej. Zastosuj jedynie podstawowe formatowanie wykresów (wielkość, tytuł)"
   ]
  },
  {
   "cell_type": "markdown",
   "metadata": {},
   "source": [
    "<details>\n",
    "<summary style=\"color: #993333\">Podpowiedź (kliknij)</summary>\n",
    "Kolumny (zmienne) kategoryczne oraz - osobno - numeryczne wyciągnij za pomocą funkcji .select_dtypes(). Dla zmiennych kategorycznych wywołaj funcję .value_counts() a dla numerycznych w pętli for utwórz histogramy wartości w kolejnych kolumnach\n",
    "</details>\n"
   ]
  },
  {
   "cell_type": "code",
   "execution_count": 12,
   "metadata": {},
   "outputs": [
    {
     "data": {
      "text/plain": [
       "city          object\n",
       "floor        float64\n",
       "latitude     float64\n",
       "longitude    float64\n",
       "price        float64\n",
       "rooms        float64\n",
       "sq           float64\n",
       "year         float64\n",
       "dtype: object"
      ]
     },
     "execution_count": 12,
     "metadata": {},
     "output_type": "execute_result"
    }
   ],
   "source": [
    "df.dtypes"
   ]
  },
  {
   "cell_type": "code",
   "execution_count": 15,
   "metadata": {},
   "outputs": [
    {
     "data": {
      "text/plain": [
       "city    \n",
       "Warszawa    9851\n",
       "Kraków      9764\n",
       "Poznań      4149\n",
       "dtype: int64"
      ]
     },
     "execution_count": 92,
     "metadata": {},
     "output_type": "execute_result"
    }
   ],
   "source": [
    "df.select_dtypes(\"object\").value_counts()"
   ]
  },
  {
   "cell_type": "code",
   "execution_count": null,
   "metadata": {},
   "outputs": [
    {
     "data": {
      "text/html": [
       "<div>\n",
       "<style scoped>\n",
       "    .dataframe tbody tr th:only-of-type {\n",
       "        vertical-align: middle;\n",
       "    }\n",
       "\n",
       "    .dataframe tbody tr th {\n",
       "        vertical-align: top;\n",
       "    }\n",
       "\n",
       "    .dataframe thead th {\n",
       "        text-align: right;\n",
       "    }\n",
       "</style>\n",
       "<table border=\"1\" class=\"dataframe\">\n",
       "  <thead>\n",
       "    <tr style=\"text-align: right;\">\n",
       "      <th></th>\n",
       "      <th>floor</th>\n",
       "      <th>latitude</th>\n",
       "      <th>longitude</th>\n",
       "      <th>price</th>\n",
       "      <th>rooms</th>\n",
       "      <th>sq</th>\n",
       "      <th>year</th>\n",
       "    </tr>\n",
       "  </thead>\n",
       "  <tbody>\n",
       "    <tr>\n",
       "      <th>0</th>\n",
       "      <td>2.0</td>\n",
       "      <td>50.049224</td>\n",
       "      <td>19.970379</td>\n",
       "      <td>749000.0</td>\n",
       "      <td>3.0</td>\n",
       "      <td>74.05</td>\n",
       "      <td>2021.0</td>\n",
       "    </tr>\n",
       "    <tr>\n",
       "      <th>1</th>\n",
       "      <td>3.0</td>\n",
       "      <td>52.249775</td>\n",
       "      <td>21.106886</td>\n",
       "      <td>240548.0</td>\n",
       "      <td>1.0</td>\n",
       "      <td>24.38</td>\n",
       "      <td>2021.0</td>\n",
       "    </tr>\n",
       "    <tr>\n",
       "      <th>2</th>\n",
       "      <td>2.0</td>\n",
       "      <td>50.066964</td>\n",
       "      <td>19.920025</td>\n",
       "      <td>427000.0</td>\n",
       "      <td>2.0</td>\n",
       "      <td>37.00</td>\n",
       "      <td>1970.0</td>\n",
       "    </tr>\n",
       "    <tr>\n",
       "      <th>3</th>\n",
       "      <td>2.0</td>\n",
       "      <td>52.404212</td>\n",
       "      <td>16.882542</td>\n",
       "      <td>1290000.0</td>\n",
       "      <td>5.0</td>\n",
       "      <td>166.00</td>\n",
       "      <td>1935.0</td>\n",
       "    </tr>\n",
       "    <tr>\n",
       "      <th>4</th>\n",
       "      <td>1.0</td>\n",
       "      <td>52.212225</td>\n",
       "      <td>20.972630</td>\n",
       "      <td>996000.0</td>\n",
       "      <td>5.0</td>\n",
       "      <td>105.00</td>\n",
       "      <td>2020.0</td>\n",
       "    </tr>\n",
       "    <tr>\n",
       "      <th>...</th>\n",
       "      <td>...</td>\n",
       "      <td>...</td>\n",
       "      <td>...</td>\n",
       "      <td>...</td>\n",
       "      <td>...</td>\n",
       "      <td>...</td>\n",
       "      <td>...</td>\n",
       "    </tr>\n",
       "    <tr>\n",
       "      <th>23759</th>\n",
       "      <td>0.0</td>\n",
       "      <td>52.449649</td>\n",
       "      <td>16.949408</td>\n",
       "      <td>543000.0</td>\n",
       "      <td>4.0</td>\n",
       "      <td>77.00</td>\n",
       "      <td>2020.0</td>\n",
       "    </tr>\n",
       "    <tr>\n",
       "      <th>23760</th>\n",
       "      <td>4.0</td>\n",
       "      <td>52.186109</td>\n",
       "      <td>20.948438</td>\n",
       "      <td>910000.0</td>\n",
       "      <td>3.0</td>\n",
       "      <td>71.00</td>\n",
       "      <td>2017.0</td>\n",
       "    </tr>\n",
       "    <tr>\n",
       "      <th>23761</th>\n",
       "      <td>0.0</td>\n",
       "      <td>52.397345</td>\n",
       "      <td>16.961939</td>\n",
       "      <td>430695.0</td>\n",
       "      <td>3.0</td>\n",
       "      <td>50.67</td>\n",
       "      <td>2022.0</td>\n",
       "    </tr>\n",
       "    <tr>\n",
       "      <th>23762</th>\n",
       "      <td>6.0</td>\n",
       "      <td>50.024231</td>\n",
       "      <td>19.959569</td>\n",
       "      <td>359000.0</td>\n",
       "      <td>2.0</td>\n",
       "      <td>38.86</td>\n",
       "      <td>2021.0</td>\n",
       "    </tr>\n",
       "    <tr>\n",
       "      <th>23763</th>\n",
       "      <td>2.0</td>\n",
       "      <td>52.141039</td>\n",
       "      <td>21.032321</td>\n",
       "      <td>604800.0</td>\n",
       "      <td>3.0</td>\n",
       "      <td>63.00</td>\n",
       "      <td>1978.0</td>\n",
       "    </tr>\n",
       "  </tbody>\n",
       "</table>\n",
       "<p>23764 rows × 7 columns</p>\n",
       "</div>"
      ],
      "text/plain": [
       "       floor   latitude  longitude      price  rooms      sq    year\n",
       "0        2.0  50.049224  19.970379   749000.0    3.0   74.05  2021.0\n",
       "1        3.0  52.249775  21.106886   240548.0    1.0   24.38  2021.0\n",
       "2        2.0  50.066964  19.920025   427000.0    2.0   37.00  1970.0\n",
       "3        2.0  52.404212  16.882542  1290000.0    5.0  166.00  1935.0\n",
       "4        1.0  52.212225  20.972630   996000.0    5.0  105.00  2020.0\n",
       "...      ...        ...        ...        ...    ...     ...     ...\n",
       "23759    0.0  52.449649  16.949408   543000.0    4.0   77.00  2020.0\n",
       "23760    4.0  52.186109  20.948438   910000.0    3.0   71.00  2017.0\n",
       "23761    0.0  52.397345  16.961939   430695.0    3.0   50.67  2022.0\n",
       "23762    6.0  50.024231  19.959569   359000.0    2.0   38.86  2021.0\n",
       "23763    2.0  52.141039  21.032321   604800.0    3.0   63.00  1978.0\n",
       "\n",
       "[23764 rows x 7 columns]"
      ]
     },
     "execution_count": 14,
     "metadata": {},
     "output_type": "execute_result"
    }
   ],
   "source": [
    "df.select_dtypes(\"float64\")"
   ]
  },
  {
   "cell_type": "code",
   "execution_count": 84,
   "metadata": {},
   "outputs": [],
   "source": [
    "import matplotlib.pyplot as plt\n",
    "import numpy as np"
   ]
  },
  {
   "cell_type": "code",
   "execution_count": 235,
   "metadata": {},
   "outputs": [
    {
     "data": {
      "image/png": "[encoded data removed]",
      "text/plain": [
       "<Figure size 1008x1440 with 7 Axes>"
      ]
     },
     "metadata": {
      "needs_background": "light"
     },
     "output_type": "display_data"
    }
   ],
   "source": [
    "fig, axes = plt.subplots(figsize=(14, 20), nrows=df_num.shape[1], ncols=1)\n",
    "\n",
    "i = 0\n",
    "\n",
    "for colname, col in df_num.iteritems():\n",
    "    axes[i].hist(col, bins = 20)\n",
    "    axes[i].set_title(colname, fontsize=15)\n",
    "    \n",
    "    i += 1"
   ]
  },
  {
   "cell_type": "markdown",
   "metadata": {},
   "source": [
    "4. Sprawdź ile jest ofert w poszczególnych miastach. Zwizualizuj to na odpowiednim wykresie"
   ]
  },
  {
   "cell_type": "markdown",
   "metadata": {},
   "source": [
    "<details>\n",
    "<summary style=\"color: #993333\">Podpowiedź (kliknij)</summary>\n",
    "Wywołaj .value_counts() na kolumnie 'city'. Przypisz wynik do zmiennej i wyciągnij z niej informacje na temat nazw miast oraz częstości występowania. Otrzymane listy przedstaw na barplocie\n",
    "</details>\n"
   ]
  },
  {
   "cell_type": "code",
   "execution_count": 102,
   "metadata": {},
   "outputs": [],
   "source": [
    "vc = df['city'].value_counts()"
   ]
  },
  {
   "cell_type": "code",
   "execution_count": 107,
   "metadata": {},
   "outputs": [
    {
     "data": {
      "text/plain": [
       "['Warszawa', 'Kraków', 'Poznań']"
      ]
     },
     "execution_count": 107,
     "metadata": {},
     "output_type": "execute_result"
    }
   ],
   "source": [
    "list(vc.index)"
   ]
  },
  {
   "cell_type": "code",
   "execution_count": 109,
   "metadata": {},
   "outputs": [],
   "source": [
    "x_list = list(vc.index)\n",
    "y_list = list(vc)"
   ]
  },
  {
   "cell_type": "code",
   "execution_count": 112,
   "metadata": {},
   "outputs": [
    {
     "data": {
      "image/png": "[encoded data removed]",
      "text/plain": [
       "<Figure size 432x288 with 1 Axes>"
      ]
     },
     "metadata": {
      "needs_background": "light"
     },
     "output_type": "display_data"
    }
   ],
   "source": [
    "plt.bar(x=x_list, height=y_list)\n",
    "plt.show()"
   ]
  },
  {
   "cell_type": "markdown",
   "metadata": {},
   "source": [
    "5. Policz średnią powierzchnię mieszkań. Następnie zrób to samo w zależności od miasta i utwórz data frame, który zestawi te informacje"
   ]
  },
  {
   "cell_type": "markdown",
   "metadata": {},
   "source": [
    "<details>\n",
    "<summary style=\"color: #993333\">Podpowiedź (kliknij)</summary>\n",
    "Aby policzyć średnią powierzchnię dla danego miasta przeiteruj po unikalnych miastach i utwórz sub data frame dla każdego z nich. Następnie w ramach niego policz średnią powierzchnię i zapisz, np. do listy (append) albo po prostu wypisz.\n",
    "</details>\n"
   ]
  },
  {
   "cell_type": "code",
   "execution_count": 118,
   "metadata": {},
   "outputs": [
    {
     "data": {
      "text/plain": [
       "102.7249103686248"
      ]
     },
     "execution_count": 118,
     "metadata": {},
     "output_type": "execute_result"
    }
   ],
   "source": [
    "df['sq'].mean()"
   ]
  },
  {
   "cell_type": "code",
   "execution_count": 234,
   "metadata": {},
   "outputs": [
    {
     "data": {
      "text/html": [
       "<div>\n",
       "<style scoped>\n",
       "    .dataframe tbody tr th:only-of-type {\n",
       "        vertical-align: middle;\n",
       "    }\n",
       "\n",
       "    .dataframe tbody tr th {\n",
       "        vertical-align: top;\n",
       "    }\n",
       "\n",
       "    .dataframe thead th {\n",
       "        text-align: right;\n",
       "    }\n",
       "</style>\n",
       "<table border=\"1\" class=\"dataframe\">\n",
       "  <thead>\n",
       "    <tr style=\"text-align: right;\">\n",
       "      <th></th>\n",
       "      <th>city</th>\n",
       "      <th>sq</th>\n",
       "    </tr>\n",
       "  </thead>\n",
       "  <tbody>\n",
       "    <tr>\n",
       "      <th>0</th>\n",
       "      <td>Kraków</td>\n",
       "      <td>160.720631</td>\n",
       "    </tr>\n",
       "    <tr>\n",
       "      <th>1</th>\n",
       "      <td>Poznań</td>\n",
       "      <td>61.263203</td>\n",
       "    </tr>\n",
       "    <tr>\n",
       "      <th>2</th>\n",
       "      <td>Warszawa</td>\n",
       "      <td>62.704040</td>\n",
       "    </tr>\n",
       "  </tbody>\n",
       "</table>\n",
       "</div>"
      ],
      "text/plain": [
       "       city          sq\n",
       "0    Kraków  160.720631\n",
       "1    Poznań   61.263203\n",
       "2  Warszawa   62.704040"
      ]
     },
     "execution_count": 234,
     "metadata": {},
     "output_type": "execute_result"
    }
   ],
   "source": [
    "df.groupby('city')[['sq']].mean().reset_index()"
   ]
  },
  {
   "cell_type": "markdown",
   "metadata": {},
   "source": [
    "6. Sprawdź czy istnieje zależność między rokiem budowy a powierzchnią mieszkań. Narysuj odpowiedni wykres."
   ]
  },
  {
   "cell_type": "markdown",
   "metadata": {},
   "source": [
    "<details>\n",
    "<summary style=\"color: #993333\">Podpowiedź (kliknij)</summary>\n",
    "1. Wydziel z df-a takie wiersze, żeby rok budowy był w sensownym zakresie (są bardzo wysokie oraz niskie wartości)\n",
    "<br>\n",
    "2. Narysuj scatterplot. Możesz zmniejszyć rozmiar markerów żeby wynik był bardziej przejrzysty\n",
    "</details>\n"
   ]
  },
  {
   "cell_type": "code",
   "execution_count": 127,
   "metadata": {},
   "outputs": [
    {
     "data": {
      "text/html": [
       "<div>\n",
       "<style scoped>\n",
       "    .dataframe tbody tr th:only-of-type {\n",
       "        vertical-align: middle;\n",
       "    }\n",
       "\n",
       "    .dataframe tbody tr th {\n",
       "        vertical-align: top;\n",
       "    }\n",
       "\n",
       "    .dataframe thead th {\n",
       "        text-align: right;\n",
       "    }\n",
       "</style>\n",
       "<table border=\"1\" class=\"dataframe\">\n",
       "  <thead>\n",
       "    <tr style=\"text-align: right;\">\n",
       "      <th></th>\n",
       "      <th>city</th>\n",
       "      <th>floor</th>\n",
       "      <th>latitude</th>\n",
       "      <th>longitude</th>\n",
       "      <th>price</th>\n",
       "      <th>rooms</th>\n",
       "      <th>sq</th>\n",
       "      <th>year</th>\n",
       "    </tr>\n",
       "  </thead>\n",
       "  <tbody>\n",
       "    <tr>\n",
       "      <th>0</th>\n",
       "      <td>Kraków</td>\n",
       "      <td>2.0</td>\n",
       "      <td>50.049224</td>\n",
       "      <td>19.970379</td>\n",
       "      <td>749000.0</td>\n",
       "      <td>3.0</td>\n",
       "      <td>74.05</td>\n",
       "      <td>2021.0</td>\n",
       "    </tr>\n",
       "    <tr>\n",
       "      <th>1</th>\n",
       "      <td>Warszawa</td>\n",
       "      <td>3.0</td>\n",
       "      <td>52.249775</td>\n",
       "      <td>21.106886</td>\n",
       "      <td>240548.0</td>\n",
       "      <td>1.0</td>\n",
       "      <td>24.38</td>\n",
       "      <td>2021.0</td>\n",
       "    </tr>\n",
       "    <tr>\n",
       "      <th>2</th>\n",
       "      <td>Kraków</td>\n",
       "      <td>2.0</td>\n",
       "      <td>50.066964</td>\n",
       "      <td>19.920025</td>\n",
       "      <td>427000.0</td>\n",
       "      <td>2.0</td>\n",
       "      <td>37.00</td>\n",
       "      <td>1970.0</td>\n",
       "    </tr>\n",
       "    <tr>\n",
       "      <th>3</th>\n",
       "      <td>Poznań</td>\n",
       "      <td>2.0</td>\n",
       "      <td>52.404212</td>\n",
       "      <td>16.882542</td>\n",
       "      <td>1290000.0</td>\n",
       "      <td>5.0</td>\n",
       "      <td>166.00</td>\n",
       "      <td>1935.0</td>\n",
       "    </tr>\n",
       "    <tr>\n",
       "      <th>4</th>\n",
       "      <td>Warszawa</td>\n",
       "      <td>1.0</td>\n",
       "      <td>52.212225</td>\n",
       "      <td>20.972630</td>\n",
       "      <td>996000.0</td>\n",
       "      <td>5.0</td>\n",
       "      <td>105.00</td>\n",
       "      <td>2020.0</td>\n",
       "    </tr>\n",
       "    <tr>\n",
       "      <th>...</th>\n",
       "      <td>...</td>\n",
       "      <td>...</td>\n",
       "      <td>...</td>\n",
       "      <td>...</td>\n",
       "      <td>...</td>\n",
       "      <td>...</td>\n",
       "      <td>...</td>\n",
       "      <td>...</td>\n",
       "    </tr>\n",
       "    <tr>\n",
       "      <th>23756</th>\n",
       "      <td>Warszawa</td>\n",
       "      <td>0.0</td>\n",
       "      <td>52.249338</td>\n",
       "      <td>20.897388</td>\n",
       "      <td>590000.0</td>\n",
       "      <td>3.0</td>\n",
       "      <td>53.00</td>\n",
       "      <td>2010.0</td>\n",
       "    </tr>\n",
       "    <tr>\n",
       "      <th>23759</th>\n",
       "      <td>Poznań</td>\n",
       "      <td>0.0</td>\n",
       "      <td>52.449649</td>\n",
       "      <td>16.949408</td>\n",
       "      <td>543000.0</td>\n",
       "      <td>4.0</td>\n",
       "      <td>77.00</td>\n",
       "      <td>2020.0</td>\n",
       "    </tr>\n",
       "    <tr>\n",
       "      <th>23760</th>\n",
       "      <td>Warszawa</td>\n",
       "      <td>4.0</td>\n",
       "      <td>52.186109</td>\n",
       "      <td>20.948438</td>\n",
       "      <td>910000.0</td>\n",
       "      <td>3.0</td>\n",
       "      <td>71.00</td>\n",
       "      <td>2017.0</td>\n",
       "    </tr>\n",
       "    <tr>\n",
       "      <th>23762</th>\n",
       "      <td>Kraków</td>\n",
       "      <td>6.0</td>\n",
       "      <td>50.024231</td>\n",
       "      <td>19.959569</td>\n",
       "      <td>359000.0</td>\n",
       "      <td>2.0</td>\n",
       "      <td>38.86</td>\n",
       "      <td>2021.0</td>\n",
       "    </tr>\n",
       "    <tr>\n",
       "      <th>23763</th>\n",
       "      <td>Warszawa</td>\n",
       "      <td>2.0</td>\n",
       "      <td>52.141039</td>\n",
       "      <td>21.032321</td>\n",
       "      <td>604800.0</td>\n",
       "      <td>3.0</td>\n",
       "      <td>63.00</td>\n",
       "      <td>1978.0</td>\n",
       "    </tr>\n",
       "  </tbody>\n",
       "</table>\n",
       "<p>20389 rows × 8 columns</p>\n",
       "</div>"
      ],
      "text/plain": [
       "           city  floor   latitude  longitude      price  rooms      sq    year\n",
       "0        Kraków    2.0  50.049224  19.970379   749000.0    3.0   74.05  2021.0\n",
       "1      Warszawa    3.0  52.249775  21.106886   240548.0    1.0   24.38  2021.0\n",
       "2        Kraków    2.0  50.066964  19.920025   427000.0    2.0   37.00  1970.0\n",
       "3        Poznań    2.0  52.404212  16.882542  1290000.0    5.0  166.00  1935.0\n",
       "4      Warszawa    1.0  52.212225  20.972630   996000.0    5.0  105.00  2020.0\n",
       "...         ...    ...        ...        ...        ...    ...     ...     ...\n",
       "23756  Warszawa    0.0  52.249338  20.897388   590000.0    3.0   53.00  2010.0\n",
       "23759    Poznań    0.0  52.449649  16.949408   543000.0    4.0   77.00  2020.0\n",
       "23760  Warszawa    4.0  52.186109  20.948438   910000.0    3.0   71.00  2017.0\n",
       "23762    Kraków    6.0  50.024231  19.959569   359000.0    2.0   38.86  2021.0\n",
       "23763  Warszawa    2.0  52.141039  21.032321   604800.0    3.0   63.00  1978.0\n",
       "\n",
       "[20389 rows x 8 columns]"
      ]
     },
     "execution_count": 127,
     "metadata": {},
     "output_type": "execute_result"
    }
   ],
   "source": [
    "df[(df['year'] > 1900) &  (df['year'] < 2022)]"
   ]
  },
  {
   "cell_type": "code",
   "execution_count": 131,
   "metadata": {},
   "outputs": [],
   "source": [
    "x_list = df[(df['year'] > 1900) & (df['year'] < 2022) & (df['sq'] < 500)]['year']\n",
    "y_list = df[(df['year'] > 1900) & (df['year'] < 2022) & (df['sq'] < 500)]['sq']"
   ]
  },
  {
   "cell_type": "code",
   "execution_count": 144,
   "metadata": {},
   "outputs": [
    {
     "data": {
      "image/png": "[encoded data removed]",
      "text/plain": [
       "<Figure size 1008x720 with 1 Axes>"
      ]
     },
     "metadata": {
      "needs_background": "light"
     },
     "output_type": "display_data"
    }
   ],
   "source": [
    "plt.figure(figsize=(14, 10))\n",
    "plt.scatter(x_list, y_list, s=1)\n",
    "\n",
    "plt.show()"
   ]
  },
  {
   "cell_type": "code",
   "execution_count": 136,
   "metadata": {},
   "outputs": [
    {
     "data": {
      "text/plain": [
       "(array([  307.,   249.,   457.,   218.,  1046.,  1569.,  1783.,   784.,\n",
       "         2302., 11672.]),\n",
       " array([1901., 1913., 1925., 1937., 1949., 1961., 1973., 1985., 1997.,\n",
       "        2009., 2021.]),\n",
       " <BarContainer object of 10 artists>)"
      ]
     },
     "execution_count": 136,
     "metadata": {},
     "output_type": "execute_result"
    },
    {
     "data": {
      "image/png": "[encoded data removed]",
      "text/plain": [
       "<Figure size 432x288 with 1 Axes>"
      ]
     },
     "metadata": {
      "needs_background": "light"
     },
     "output_type": "display_data"
    }
   ],
   "source": [
    "plt.hist(x_list)"
   ]
  },
  {
   "cell_type": "markdown",
   "metadata": {},
   "source": [
    "7. Sprawdź czy istnieje zależność między rokiem budowy a numerem piętra. Narysuj odpowiedni wykres"
   ]
  },
  {
   "cell_type": "code",
   "execution_count": 147,
   "metadata": {},
   "outputs": [],
   "source": [
    "y_list = df[(df['year'] > 1900) & (df['year'] < 2022) & (df['sq'] < 500)]['year']\n",
    "x_list = df[(df['year'] > 1900) & (df['year'] < 2022) & (df['sq'] < 500)]['floor']"
   ]
  },
  {
   "cell_type": "code",
   "execution_count": 148,
   "metadata": {},
   "outputs": [
    {
     "data": {
      "image/png": "[encoded data removed]",
      "text/plain": [
       "<Figure size 1008x720 with 1 Axes>"
      ]
     },
     "metadata": {
      "needs_background": "light"
     },
     "output_type": "display_data"
    }
   ],
   "source": [
    "plt.figure(figsize=(14, 10))\n",
    "plt.scatter(x_list, y_list, s=1)\n",
    "\n",
    "plt.show()"
   ]
  },
  {
   "cell_type": "markdown",
   "metadata": {},
   "source": [
    "8. Narysuj 'mapę' budynków w postaci scatterplota"
   ]
  },
  {
   "cell_type": "markdown",
   "metadata": {},
   "source": [
    "<details>\n",
    "<summary style=\"color: #993333\">Podpowiedź (kliknij)</summary>\n",
    "Narysuj scatterplot długości oraz szerokości geograficznej. Zwróć uwagę na odstające, niepoprawne wartości i odsiej je.\n",
    "</details>\n"
   ]
  },
  {
   "cell_type": "code",
   "execution_count": 166,
   "metadata": {},
   "outputs": [],
   "source": [
    "from mpl_toolkits.basemap import Basemap"
   ]
  },
  {
   "cell_type": "code",
   "execution_count": 209,
   "metadata": {},
   "outputs": [],
   "source": [
    "x_list = df['longitude']\n",
    "y_list = df['latitude']"
   ]
  },
  {
   "cell_type": "code",
   "execution_count": 213,
   "metadata": {},
   "outputs": [
    {
     "data": {
      "image/png": "[encoded data removed]",
      "text/plain": [
       "<Figure size 432x288 with 1 Axes>"
      ]
     },
     "metadata": {
      "needs_background": "light"
     },
     "output_type": "display_data"
    }
   ],
   "source": [
    "for x, y in zip(x_list, y_list):\n",
    "    plt.plot(x, y, 'o', markersize=1)"
   ]
  },
  {
   "cell_type": "code",
   "execution_count": 248,
   "metadata": {},
   "outputs": [
    {
     "data": {
      "image/png": "[encoded data removed]",
      "text/plain": [
       "<Figure size 720x648 with 1 Axes>"
      ]
     },
     "metadata": {},
     "output_type": "display_data"
    }
   ],
   "source": [
    "# miasta\n",
    "miasta = {\n",
    "    'Krakow': (50.06, 19.96),\n",
    "    'Poznan': (52.4, 16.9),\n",
    "    'Warszawa': (52.23, 21.01)\n",
    "}\n",
    "\n",
    "# dane\n",
    "x_list = df['longitude']\n",
    "y_list = df['latitude']\n",
    "\n",
    "# zakres mapy (Polska)\n",
    "lat_min, lat_max = 48.8, 55.0\n",
    "lon_min, lon_max = 13.8, 24.4\n",
    "\n",
    "# wymiary rysunku\n",
    "fig = plt.figure(figsize=(10.0, 9.0))\n",
    "\n",
    "# marginesy\n",
    "plt.subplots_adjust(left=0.10, right=0.90, top=0.90, bottom=0.10, wspace=0.15, hspace=0.05)\n",
    "\n",
    "# tworzenie mapy dla Polski\n",
    "m = Basemap(resolution='i', projection='merc', llcrnrlat=lat_min, urcrnrlat=lat_max, llcrnrlon=lon_min, urcrnrlon=lon_max)\n",
    "\n",
    "# grubość granic i linii wybrzeży\n",
    "m.drawcountries(linewidth=0.5)\n",
    "m.drawcoastlines(linewidth=0.5)\n",
    "\n",
    "# równoleżniki i południki\n",
    "m.drawparallels(np.arange(lat_min, lat_max, 1.), labels=[1,0,0,0], color='black', dashes=[1,5], labelstyle='+/-', linewidth=0.2)\n",
    "m.drawmeridians(np.arange(lon_min, lon_max, 1.), labels=[0,0,0,1], color='black', dashes=[1,5], labelstyle='+/-', linewidth=0.2)\n",
    "\n",
    "# rysowanie danych\n",
    "\n",
    "for x, y in zip(x_list, y_list):\n",
    "    x, y = m(x, y)\n",
    "    m.plot(x, y, 'o', markersize=1)\n",
    "\n",
    "for key, val in miasta.items():\n",
    "    x, y = m(val[1], val[0])\n",
    "    plt.text(x+5000, y+5000, key)\n",
    "\n",
    "\n",
    "# tytul\n",
    "plt.title(\"Rozklad Pythona na terenie Polski\")\n",
    "\n",
    "# i wyslanie na ekran\n",
    "plt.show()"
   ]
  },
  {
   "cell_type": "markdown",
   "metadata": {},
   "source": [
    "9. Policz ile średnio metrów kwadratowych przypada na pokój. Sprawdź czy zależy to od miasta"
   ]
  },
  {
   "cell_type": "markdown",
   "metadata": {},
   "source": [
    "<details>\n",
    "<summary style=\"color: #993333\">Podpowiedź (kliknij)</summary>\n",
    "Utwórz nową kolumnę w której przechowasz informacje o powierzchni przypadającej na pokój. Policz średnią a następnie przeiteruj po wszystkich miastach i policz średnią wartość tylko dla tego miasta\n",
    "</details>\n"
   ]
  },
  {
   "cell_type": "code",
   "execution_count": 225,
   "metadata": {},
   "outputs": [
    {
     "data": {
      "text/html": [
       "<div>\n",
       "<style scoped>\n",
       "    .dataframe tbody tr th:only-of-type {\n",
       "        vertical-align: middle;\n",
       "    }\n",
       "\n",
       "    .dataframe tbody tr th {\n",
       "        vertical-align: top;\n",
       "    }\n",
       "\n",
       "    .dataframe thead th {\n",
       "        text-align: right;\n",
       "    }\n",
       "</style>\n",
       "<table border=\"1\" class=\"dataframe\">\n",
       "  <thead>\n",
       "    <tr style=\"text-align: right;\">\n",
       "      <th></th>\n",
       "      <th>city</th>\n",
       "      <th>floor</th>\n",
       "      <th>latitude</th>\n",
       "      <th>longitude</th>\n",
       "      <th>price</th>\n",
       "      <th>rooms</th>\n",
       "      <th>sq</th>\n",
       "      <th>year</th>\n",
       "    </tr>\n",
       "  </thead>\n",
       "  <tbody>\n",
       "    <tr>\n",
       "      <th>0</th>\n",
       "      <td>Kraków</td>\n",
       "      <td>2.0</td>\n",
       "      <td>50.049224</td>\n",
       "      <td>19.970379</td>\n",
       "      <td>749000.0</td>\n",
       "      <td>3.0</td>\n",
       "      <td>74.05</td>\n",
       "      <td>2021.0</td>\n",
       "    </tr>\n",
       "    <tr>\n",
       "      <th>1</th>\n",
       "      <td>Warszawa</td>\n",
       "      <td>3.0</td>\n",
       "      <td>52.249775</td>\n",
       "      <td>21.106886</td>\n",
       "      <td>240548.0</td>\n",
       "      <td>1.0</td>\n",
       "      <td>24.38</td>\n",
       "      <td>2021.0</td>\n",
       "    </tr>\n",
       "    <tr>\n",
       "      <th>2</th>\n",
       "      <td>Kraków</td>\n",
       "      <td>2.0</td>\n",
       "      <td>50.066964</td>\n",
       "      <td>19.920025</td>\n",
       "      <td>427000.0</td>\n",
       "      <td>2.0</td>\n",
       "      <td>37.00</td>\n",
       "      <td>1970.0</td>\n",
       "    </tr>\n",
       "    <tr>\n",
       "      <th>3</th>\n",
       "      <td>Poznań</td>\n",
       "      <td>2.0</td>\n",
       "      <td>52.404212</td>\n",
       "      <td>16.882542</td>\n",
       "      <td>1290000.0</td>\n",
       "      <td>5.0</td>\n",
       "      <td>166.00</td>\n",
       "      <td>1935.0</td>\n",
       "    </tr>\n",
       "    <tr>\n",
       "      <th>4</th>\n",
       "      <td>Warszawa</td>\n",
       "      <td>1.0</td>\n",
       "      <td>52.212225</td>\n",
       "      <td>20.972630</td>\n",
       "      <td>996000.0</td>\n",
       "      <td>5.0</td>\n",
       "      <td>105.00</td>\n",
       "      <td>2020.0</td>\n",
       "    </tr>\n",
       "    <tr>\n",
       "      <th>...</th>\n",
       "      <td>...</td>\n",
       "      <td>...</td>\n",
       "      <td>...</td>\n",
       "      <td>...</td>\n",
       "      <td>...</td>\n",
       "      <td>...</td>\n",
       "      <td>...</td>\n",
       "      <td>...</td>\n",
       "    </tr>\n",
       "    <tr>\n",
       "      <th>23759</th>\n",
       "      <td>Poznań</td>\n",
       "      <td>0.0</td>\n",
       "      <td>52.449649</td>\n",
       "      <td>16.949408</td>\n",
       "      <td>543000.0</td>\n",
       "      <td>4.0</td>\n",
       "      <td>77.00</td>\n",
       "      <td>2020.0</td>\n",
       "    </tr>\n",
       "    <tr>\n",
       "      <th>23760</th>\n",
       "      <td>Warszawa</td>\n",
       "      <td>4.0</td>\n",
       "      <td>52.186109</td>\n",
       "      <td>20.948438</td>\n",
       "      <td>910000.0</td>\n",
       "      <td>3.0</td>\n",
       "      <td>71.00</td>\n",
       "      <td>2017.0</td>\n",
       "    </tr>\n",
       "    <tr>\n",
       "      <th>23761</th>\n",
       "      <td>Poznań</td>\n",
       "      <td>0.0</td>\n",
       "      <td>52.397345</td>\n",
       "      <td>16.961939</td>\n",
       "      <td>430695.0</td>\n",
       "      <td>3.0</td>\n",
       "      <td>50.67</td>\n",
       "      <td>2022.0</td>\n",
       "    </tr>\n",
       "    <tr>\n",
       "      <th>23762</th>\n",
       "      <td>Kraków</td>\n",
       "      <td>6.0</td>\n",
       "      <td>50.024231</td>\n",
       "      <td>19.959569</td>\n",
       "      <td>359000.0</td>\n",
       "      <td>2.0</td>\n",
       "      <td>38.86</td>\n",
       "      <td>2021.0</td>\n",
       "    </tr>\n",
       "    <tr>\n",
       "      <th>23763</th>\n",
       "      <td>Warszawa</td>\n",
       "      <td>2.0</td>\n",
       "      <td>52.141039</td>\n",
       "      <td>21.032321</td>\n",
       "      <td>604800.0</td>\n",
       "      <td>3.0</td>\n",
       "      <td>63.00</td>\n",
       "      <td>1978.0</td>\n",
       "    </tr>\n",
       "  </tbody>\n",
       "</table>\n",
       "<p>23764 rows × 8 columns</p>\n",
       "</div>"
      ],
      "text/plain": [
       "           city  floor   latitude  longitude      price  rooms      sq    year\n",
       "0        Kraków    2.0  50.049224  19.970379   749000.0    3.0   74.05  2021.0\n",
       "1      Warszawa    3.0  52.249775  21.106886   240548.0    1.0   24.38  2021.0\n",
       "2        Kraków    2.0  50.066964  19.920025   427000.0    2.0   37.00  1970.0\n",
       "3        Poznań    2.0  52.404212  16.882542  1290000.0    5.0  166.00  1935.0\n",
       "4      Warszawa    1.0  52.212225  20.972630   996000.0    5.0  105.00  2020.0\n",
       "...         ...    ...        ...        ...        ...    ...     ...     ...\n",
       "23759    Poznań    0.0  52.449649  16.949408   543000.0    4.0   77.00  2020.0\n",
       "23760  Warszawa    4.0  52.186109  20.948438   910000.0    3.0   71.00  2017.0\n",
       "23761    Poznań    0.0  52.397345  16.961939   430695.0    3.0   50.67  2022.0\n",
       "23762    Kraków    6.0  50.024231  19.959569   359000.0    2.0   38.86  2021.0\n",
       "23763  Warszawa    2.0  52.141039  21.032321   604800.0    3.0   63.00  1978.0\n",
       "\n",
       "[23764 rows x 8 columns]"
      ]
     },
     "execution_count": 225,
     "metadata": {},
     "output_type": "execute_result"
    }
   ],
   "source": [
    "df"
   ]
  },
  {
   "cell_type": "code",
   "execution_count": 285,
   "metadata": {},
   "outputs": [],
   "source": [
    "df['sq/rooms'] = df['sq'] / df['rooms']"
   ]
  },
  {
   "cell_type": "code",
   "execution_count": 232,
   "metadata": {},
   "outputs": [
    {
     "data": {
      "text/plain": [
       "32.01275666941859"
      ]
     },
     "execution_count": 232,
     "metadata": {},
     "output_type": "execute_result"
    }
   ],
   "source": [
    "df['sq/rooms'].mean()"
   ]
  },
  {
   "cell_type": "code",
   "execution_count": 233,
   "metadata": {},
   "outputs": [
    {
     "data": {
      "text/html": [
       "<div>\n",
       "<style scoped>\n",
       "    .dataframe tbody tr th:only-of-type {\n",
       "        vertical-align: middle;\n",
       "    }\n",
       "\n",
       "    .dataframe tbody tr th {\n",
       "        vertical-align: top;\n",
       "    }\n",
       "\n",
       "    .dataframe thead th {\n",
       "        text-align: right;\n",
       "    }\n",
       "</style>\n",
       "<table border=\"1\" class=\"dataframe\">\n",
       "  <thead>\n",
       "    <tr style=\"text-align: right;\">\n",
       "      <th></th>\n",
       "      <th>city</th>\n",
       "      <th>sq/rooms</th>\n",
       "    </tr>\n",
       "  </thead>\n",
       "  <tbody>\n",
       "    <tr>\n",
       "      <th>0</th>\n",
       "      <td>Kraków</td>\n",
       "      <td>43.434215</td>\n",
       "    </tr>\n",
       "    <tr>\n",
       "      <th>1</th>\n",
       "      <td>Poznań</td>\n",
       "      <td>23.638478</td>\n",
       "    </tr>\n",
       "    <tr>\n",
       "      <th>2</th>\n",
       "      <td>Warszawa</td>\n",
       "      <td>24.219209</td>\n",
       "    </tr>\n",
       "  </tbody>\n",
       "</table>\n",
       "</div>"
      ],
      "text/plain": [
       "       city   sq/rooms\n",
       "0    Kraków  43.434215\n",
       "1    Poznań  23.638478\n",
       "2  Warszawa  24.219209"
      ]
     },
     "execution_count": 233,
     "metadata": {},
     "output_type": "execute_result"
    }
   ],
   "source": [
    "df.groupby('city')[['sq/rooms']].mean().reset_index()"
   ]
  },
  {
   "cell_type": "markdown",
   "metadata": {},
   "source": [
    "10. Stwórz wykresy na których będzie można sprawdzić jak zmienia się cena za m2 w poszczególnych miastach w zależności od roku budowy. Dodaj tytuły oraz opis osi"
   ]
  },
  {
   "cell_type": "markdown",
   "metadata": {},
   "source": [
    "<details>\n",
    "<summary style=\"color: #993333\">Podpowiedź (kliknij)</summary>\n",
    "1. Stwórz kolumnę z ceną za m2\n",
    "<br>\n",
    "2. Stwórz 3 df-y dla każdego miasta osobny\n",
    "<br>\n",
    "3. Dla każdego miasta stwórz scatterplot cena za m2 vs. rok\n",
    "</details>\n"
   ]
  },
  {
   "cell_type": "code",
   "execution_count": 286,
   "metadata": {},
   "outputs": [],
   "source": [
    "df['price/sq'] = df['price'] / df['sq']"
   ]
  },
  {
   "cell_type": "code",
   "execution_count": 289,
   "metadata": {},
   "outputs": [
    {
     "data": {
      "text/html": [
       "<div>\n",
       "<style scoped>\n",
       "    .dataframe tbody tr th:only-of-type {\n",
       "        vertical-align: middle;\n",
       "    }\n",
       "\n",
       "    .dataframe tbody tr th {\n",
       "        vertical-align: top;\n",
       "    }\n",
       "\n",
       "    .dataframe thead th {\n",
       "        text-align: right;\n",
       "    }\n",
       "</style>\n",
       "<table border=\"1\" class=\"dataframe\">\n",
       "  <thead>\n",
       "    <tr style=\"text-align: right;\">\n",
       "      <th></th>\n",
       "      <th>city</th>\n",
       "      <th>floor</th>\n",
       "      <th>latitude</th>\n",
       "      <th>longitude</th>\n",
       "      <th>price</th>\n",
       "      <th>rooms</th>\n",
       "      <th>sq</th>\n",
       "      <th>year</th>\n",
       "      <th>sq/rooms</th>\n",
       "      <th>price/sq</th>\n",
       "    </tr>\n",
       "  </thead>\n",
       "  <tbody>\n",
       "    <tr>\n",
       "      <th>0</th>\n",
       "      <td>Kraków</td>\n",
       "      <td>2.0</td>\n",
       "      <td>50.049224</td>\n",
       "      <td>19.970379</td>\n",
       "      <td>749000.0</td>\n",
       "      <td>3.0</td>\n",
       "      <td>74.05</td>\n",
       "      <td>2021.0</td>\n",
       "      <td>24.683333</td>\n",
       "      <td>10114.787306</td>\n",
       "    </tr>\n",
       "    <tr>\n",
       "      <th>1</th>\n",
       "      <td>Warszawa</td>\n",
       "      <td>3.0</td>\n",
       "      <td>52.249775</td>\n",
       "      <td>21.106886</td>\n",
       "      <td>240548.0</td>\n",
       "      <td>1.0</td>\n",
       "      <td>24.38</td>\n",
       "      <td>2021.0</td>\n",
       "      <td>24.380000</td>\n",
       "      <td>9866.611977</td>\n",
       "    </tr>\n",
       "    <tr>\n",
       "      <th>2</th>\n",
       "      <td>Kraków</td>\n",
       "      <td>2.0</td>\n",
       "      <td>50.066964</td>\n",
       "      <td>19.920025</td>\n",
       "      <td>427000.0</td>\n",
       "      <td>2.0</td>\n",
       "      <td>37.00</td>\n",
       "      <td>1970.0</td>\n",
       "      <td>18.500000</td>\n",
       "      <td>11540.540541</td>\n",
       "    </tr>\n",
       "    <tr>\n",
       "      <th>3</th>\n",
       "      <td>Poznań</td>\n",
       "      <td>2.0</td>\n",
       "      <td>52.404212</td>\n",
       "      <td>16.882542</td>\n",
       "      <td>1290000.0</td>\n",
       "      <td>5.0</td>\n",
       "      <td>166.00</td>\n",
       "      <td>1935.0</td>\n",
       "      <td>33.200000</td>\n",
       "      <td>7771.084337</td>\n",
       "    </tr>\n",
       "    <tr>\n",
       "      <th>4</th>\n",
       "      <td>Warszawa</td>\n",
       "      <td>1.0</td>\n",
       "      <td>52.212225</td>\n",
       "      <td>20.972630</td>\n",
       "      <td>996000.0</td>\n",
       "      <td>5.0</td>\n",
       "      <td>105.00</td>\n",
       "      <td>2020.0</td>\n",
       "      <td>21.000000</td>\n",
       "      <td>9485.714286</td>\n",
       "    </tr>\n",
       "    <tr>\n",
       "      <th>...</th>\n",
       "      <td>...</td>\n",
       "      <td>...</td>\n",
       "      <td>...</td>\n",
       "      <td>...</td>\n",
       "      <td>...</td>\n",
       "      <td>...</td>\n",
       "      <td>...</td>\n",
       "      <td>...</td>\n",
       "      <td>...</td>\n",
       "      <td>...</td>\n",
       "    </tr>\n",
       "    <tr>\n",
       "      <th>23759</th>\n",
       "      <td>Poznań</td>\n",
       "      <td>0.0</td>\n",
       "      <td>52.449649</td>\n",
       "      <td>16.949408</td>\n",
       "      <td>543000.0</td>\n",
       "      <td>4.0</td>\n",
       "      <td>77.00</td>\n",
       "      <td>2020.0</td>\n",
       "      <td>19.250000</td>\n",
       "      <td>7051.948052</td>\n",
       "    </tr>\n",
       "    <tr>\n",
       "      <th>23760</th>\n",
       "      <td>Warszawa</td>\n",
       "      <td>4.0</td>\n",
       "      <td>52.186109</td>\n",
       "      <td>20.948438</td>\n",
       "      <td>910000.0</td>\n",
       "      <td>3.0</td>\n",
       "      <td>71.00</td>\n",
       "      <td>2017.0</td>\n",
       "      <td>23.666667</td>\n",
       "      <td>12816.901408</td>\n",
       "    </tr>\n",
       "    <tr>\n",
       "      <th>23761</th>\n",
       "      <td>Poznań</td>\n",
       "      <td>0.0</td>\n",
       "      <td>52.397345</td>\n",
       "      <td>16.961939</td>\n",
       "      <td>430695.0</td>\n",
       "      <td>3.0</td>\n",
       "      <td>50.67</td>\n",
       "      <td>2022.0</td>\n",
       "      <td>16.890000</td>\n",
       "      <td>8500.000000</td>\n",
       "    </tr>\n",
       "    <tr>\n",
       "      <th>23762</th>\n",
       "      <td>Kraków</td>\n",
       "      <td>6.0</td>\n",
       "      <td>50.024231</td>\n",
       "      <td>19.959569</td>\n",
       "      <td>359000.0</td>\n",
       "      <td>2.0</td>\n",
       "      <td>38.86</td>\n",
       "      <td>2021.0</td>\n",
       "      <td>19.430000</td>\n",
       "      <td>9238.291302</td>\n",
       "    </tr>\n",
       "    <tr>\n",
       "      <th>23763</th>\n",
       "      <td>Warszawa</td>\n",
       "      <td>2.0</td>\n",
       "      <td>52.141039</td>\n",
       "      <td>21.032321</td>\n",
       "      <td>604800.0</td>\n",
       "      <td>3.0</td>\n",
       "      <td>63.00</td>\n",
       "      <td>1978.0</td>\n",
       "      <td>21.000000</td>\n",
       "      <td>9600.000000</td>\n",
       "    </tr>\n",
       "  </tbody>\n",
       "</table>\n",
       "<p>23764 rows × 10 columns</p>\n",
       "</div>"
      ],
      "text/plain": [
       "           city  floor   latitude  longitude      price  rooms      sq  \\\n",
       "0        Kraków    2.0  50.049224  19.970379   749000.0    3.0   74.05   \n",
       "1      Warszawa    3.0  52.249775  21.106886   240548.0    1.0   24.38   \n",
       "2        Kraków    2.0  50.066964  19.920025   427000.0    2.0   37.00   \n",
       "3        Poznań    2.0  52.404212  16.882542  1290000.0    5.0  166.00   \n",
       "4      Warszawa    1.0  52.212225  20.972630   996000.0    5.0  105.00   \n",
       "...         ...    ...        ...        ...        ...    ...     ...   \n",
       "23759    Poznań    0.0  52.449649  16.949408   543000.0    4.0   77.00   \n",
       "23760  Warszawa    4.0  52.186109  20.948438   910000.0    3.0   71.00   \n",
       "23761    Poznań    0.0  52.397345  16.961939   430695.0    3.0   50.67   \n",
       "23762    Kraków    6.0  50.024231  19.959569   359000.0    2.0   38.86   \n",
       "23763  Warszawa    2.0  52.141039  21.032321   604800.0    3.0   63.00   \n",
       "\n",
       "         year   sq/rooms      price/sq  \n",
       "0      2021.0  24.683333  10114.787306  \n",
       "1      2021.0  24.380000   9866.611977  \n",
       "2      1970.0  18.500000  11540.540541  \n",
       "3      1935.0  33.200000   7771.084337  \n",
       "4      2020.0  21.000000   9485.714286  \n",
       "...       ...        ...           ...  \n",
       "23759  2020.0  19.250000   7051.948052  \n",
       "23760  2017.0  23.666667  12816.901408  \n",
       "23761  2022.0  16.890000   8500.000000  \n",
       "23762  2021.0  19.430000   9238.291302  \n",
       "23763  1978.0  21.000000   9600.000000  \n",
       "\n",
       "[23764 rows x 10 columns]"
      ]
     },
     "execution_count": 289,
     "metadata": {},
     "output_type": "execute_result"
    }
   ],
   "source": [
    "df"
   ]
  },
  {
   "cell_type": "code",
   "execution_count": 290,
   "metadata": {},
   "outputs": [],
   "source": [
    "gb = df.groupby(\"city\")\n",
    "dfs = [gb.get_group(x) for x in gb.groups]"
   ]
  },
  {
   "cell_type": "code",
   "execution_count": 317,
   "metadata": {},
   "outputs": [
    {
     "data": {
      "text/plain": [
       "['Kraków', 'Poznań', 'Warszawa']"
      ]
     },
     "execution_count": 317,
     "metadata": {},
     "output_type": "execute_result"
    }
   ],
   "source": [
    "[*gb.groups.keys()]"
   ]
  },
  {
   "cell_type": "code",
   "execution_count": 326,
   "metadata": {},
   "outputs": [
    {
     "data": {
      "image/png": "[encoded data removed]",
      "text/plain": [
       "<Figure size 1008x1440 with 3 Axes>"
      ]
     },
     "metadata": {
      "needs_background": "light"
     },
     "output_type": "display_data"
    }
   ],
   "source": [
    "fig, axes = plt.subplots(figsize=(14, 20), nrows=len(dfs), ncols=1)\n",
    "plt.xlim([1800, 2022])\n",
    "i = 0\n",
    "\n",
    "for df in dfs:\n",
    "    axes[i].scatter(df['year'], df['price/sq'])\n",
    "    axes[i].set_title([*gb.groups.keys()][i], fontsize=15)\n",
    "    \n",
    "    i += 1\n",
    "    "
   ]
  },
  {
   "cell_type": "markdown",
   "metadata": {},
   "source": [
    "11. Narysuj wykres na którym pokażesz ile budynków wybudowano w kolejnych latach. Możesz ograniczyć się do przedziału ostatnich 20 lat."
   ]
  },
  {
   "cell_type": "markdown",
   "metadata": {},
   "source": [
    "<details>\n",
    "<summary style=\"color: #993333\">Podpowiedź (kliknij)</summary>\n",
    "1. Stwórz listę lat, które chcesz sprawdzić\n",
    "<br>\n",
    "2. Sprawdź ile jest mieszkań z każdego z tych lat\n",
    "<br>\n",
    "3. Zapisz te dwie rzeczy do list i przedstaw je na barplocie\n",
    "</details>\n"
   ]
  },
  {
   "cell_type": "code",
   "execution_count": 3,
   "metadata": {},
   "outputs": [],
   "source": [
    "df = df[(df['year'] > 2002) & (df['year'] < 2023)]"
   ]
  },
  {
   "cell_type": "code",
   "execution_count": 9,
   "metadata": {},
   "outputs": [],
   "source": [
    "year_list = list(range(2002,2023))"
   ]
  },
  {
   "cell_type": "code",
   "execution_count": 4,
   "metadata": {},
   "outputs": [
    {
     "data": {
      "text/html": [
       "<div>\n",
       "<style scoped>\n",
       "    .dataframe tbody tr th:only-of-type {\n",
       "        vertical-align: middle;\n",
       "    }\n",
       "\n",
       "    .dataframe tbody tr th {\n",
       "        vertical-align: top;\n",
       "    }\n",
       "\n",
       "    .dataframe thead th {\n",
       "        text-align: right;\n",
       "    }\n",
       "</style>\n",
       "<table border=\"1\" class=\"dataframe\">\n",
       "  <thead>\n",
       "    <tr style=\"text-align: right;\">\n",
       "      <th></th>\n",
       "      <th>address</th>\n",
       "      <th>city</th>\n",
       "      <th>floor</th>\n",
       "      <th>id</th>\n",
       "      <th>latitude</th>\n",
       "      <th>longitude</th>\n",
       "      <th>price</th>\n",
       "      <th>rooms</th>\n",
       "      <th>sq</th>\n",
       "    </tr>\n",
       "    <tr>\n",
       "      <th>year</th>\n",
       "      <th></th>\n",
       "      <th></th>\n",
       "      <th></th>\n",
       "      <th></th>\n",
       "      <th></th>\n",
       "      <th></th>\n",
       "      <th></th>\n",
       "      <th></th>\n",
       "      <th></th>\n",
       "    </tr>\n",
       "  </thead>\n",
       "  <tbody>\n",
       "    <tr>\n",
       "      <th>2003.0</th>\n",
       "      <td>141</td>\n",
       "      <td>141</td>\n",
       "      <td>141</td>\n",
       "      <td>141</td>\n",
       "      <td>141</td>\n",
       "      <td>141</td>\n",
       "      <td>141</td>\n",
       "      <td>141</td>\n",
       "      <td>141</td>\n",
       "    </tr>\n",
       "    <tr>\n",
       "      <th>2004.0</th>\n",
       "      <td>154</td>\n",
       "      <td>154</td>\n",
       "      <td>154</td>\n",
       "      <td>154</td>\n",
       "      <td>154</td>\n",
       "      <td>154</td>\n",
       "      <td>154</td>\n",
       "      <td>154</td>\n",
       "      <td>154</td>\n",
       "    </tr>\n",
       "    <tr>\n",
       "      <th>2005.0</th>\n",
       "      <td>219</td>\n",
       "      <td>219</td>\n",
       "      <td>219</td>\n",
       "      <td>219</td>\n",
       "      <td>219</td>\n",
       "      <td>219</td>\n",
       "      <td>219</td>\n",
       "      <td>219</td>\n",
       "      <td>219</td>\n",
       "    </tr>\n",
       "    <tr>\n",
       "      <th>2006.0</th>\n",
       "      <td>209</td>\n",
       "      <td>209</td>\n",
       "      <td>209</td>\n",
       "      <td>209</td>\n",
       "      <td>209</td>\n",
       "      <td>209</td>\n",
       "      <td>209</td>\n",
       "      <td>209</td>\n",
       "      <td>209</td>\n",
       "    </tr>\n",
       "    <tr>\n",
       "      <th>2007.0</th>\n",
       "      <td>205</td>\n",
       "      <td>205</td>\n",
       "      <td>205</td>\n",
       "      <td>205</td>\n",
       "      <td>205</td>\n",
       "      <td>205</td>\n",
       "      <td>205</td>\n",
       "      <td>205</td>\n",
       "      <td>205</td>\n",
       "    </tr>\n",
       "    <tr>\n",
       "      <th>2008.0</th>\n",
       "      <td>372</td>\n",
       "      <td>372</td>\n",
       "      <td>372</td>\n",
       "      <td>372</td>\n",
       "      <td>372</td>\n",
       "      <td>372</td>\n",
       "      <td>372</td>\n",
       "      <td>372</td>\n",
       "      <td>372</td>\n",
       "    </tr>\n",
       "    <tr>\n",
       "      <th>2009.0</th>\n",
       "      <td>336</td>\n",
       "      <td>336</td>\n",
       "      <td>336</td>\n",
       "      <td>336</td>\n",
       "      <td>336</td>\n",
       "      <td>336</td>\n",
       "      <td>336</td>\n",
       "      <td>336</td>\n",
       "      <td>336</td>\n",
       "    </tr>\n",
       "    <tr>\n",
       "      <th>2010.0</th>\n",
       "      <td>374</td>\n",
       "      <td>374</td>\n",
       "      <td>374</td>\n",
       "      <td>374</td>\n",
       "      <td>374</td>\n",
       "      <td>374</td>\n",
       "      <td>374</td>\n",
       "      <td>374</td>\n",
       "      <td>374</td>\n",
       "    </tr>\n",
       "    <tr>\n",
       "      <th>2011.0</th>\n",
       "      <td>212</td>\n",
       "      <td>212</td>\n",
       "      <td>212</td>\n",
       "      <td>212</td>\n",
       "      <td>212</td>\n",
       "      <td>212</td>\n",
       "      <td>212</td>\n",
       "      <td>212</td>\n",
       "      <td>212</td>\n",
       "    </tr>\n",
       "    <tr>\n",
       "      <th>2012.0</th>\n",
       "      <td>237</td>\n",
       "      <td>237</td>\n",
       "      <td>237</td>\n",
       "      <td>237</td>\n",
       "      <td>237</td>\n",
       "      <td>237</td>\n",
       "      <td>237</td>\n",
       "      <td>237</td>\n",
       "      <td>237</td>\n",
       "    </tr>\n",
       "    <tr>\n",
       "      <th>2013.0</th>\n",
       "      <td>188</td>\n",
       "      <td>188</td>\n",
       "      <td>188</td>\n",
       "      <td>188</td>\n",
       "      <td>188</td>\n",
       "      <td>188</td>\n",
       "      <td>188</td>\n",
       "      <td>188</td>\n",
       "      <td>188</td>\n",
       "    </tr>\n",
       "    <tr>\n",
       "      <th>2014.0</th>\n",
       "      <td>272</td>\n",
       "      <td>272</td>\n",
       "      <td>272</td>\n",
       "      <td>272</td>\n",
       "      <td>272</td>\n",
       "      <td>272</td>\n",
       "      <td>272</td>\n",
       "      <td>272</td>\n",
       "      <td>272</td>\n",
       "    </tr>\n",
       "    <tr>\n",
       "      <th>2015.0</th>\n",
       "      <td>321</td>\n",
       "      <td>321</td>\n",
       "      <td>321</td>\n",
       "      <td>321</td>\n",
       "      <td>321</td>\n",
       "      <td>321</td>\n",
       "      <td>321</td>\n",
       "      <td>321</td>\n",
       "      <td>321</td>\n",
       "    </tr>\n",
       "    <tr>\n",
       "      <th>2016.0</th>\n",
       "      <td>264</td>\n",
       "      <td>264</td>\n",
       "      <td>264</td>\n",
       "      <td>264</td>\n",
       "      <td>264</td>\n",
       "      <td>264</td>\n",
       "      <td>264</td>\n",
       "      <td>264</td>\n",
       "      <td>264</td>\n",
       "    </tr>\n",
       "    <tr>\n",
       "      <th>2017.0</th>\n",
       "      <td>285</td>\n",
       "      <td>285</td>\n",
       "      <td>285</td>\n",
       "      <td>285</td>\n",
       "      <td>285</td>\n",
       "      <td>285</td>\n",
       "      <td>285</td>\n",
       "      <td>285</td>\n",
       "      <td>285</td>\n",
       "    </tr>\n",
       "    <tr>\n",
       "      <th>2018.0</th>\n",
       "      <td>386</td>\n",
       "      <td>386</td>\n",
       "      <td>386</td>\n",
       "      <td>386</td>\n",
       "      <td>386</td>\n",
       "      <td>386</td>\n",
       "      <td>386</td>\n",
       "      <td>386</td>\n",
       "      <td>386</td>\n",
       "    </tr>\n",
       "    <tr>\n",
       "      <th>2019.0</th>\n",
       "      <td>756</td>\n",
       "      <td>756</td>\n",
       "      <td>756</td>\n",
       "      <td>756</td>\n",
       "      <td>756</td>\n",
       "      <td>756</td>\n",
       "      <td>756</td>\n",
       "      <td>756</td>\n",
       "      <td>756</td>\n",
       "    </tr>\n",
       "    <tr>\n",
       "      <th>2020.0</th>\n",
       "      <td>3660</td>\n",
       "      <td>3660</td>\n",
       "      <td>3660</td>\n",
       "      <td>3660</td>\n",
       "      <td>3660</td>\n",
       "      <td>3660</td>\n",
       "      <td>3660</td>\n",
       "      <td>3660</td>\n",
       "      <td>3660</td>\n",
       "    </tr>\n",
       "    <tr>\n",
       "      <th>2021.0</th>\n",
       "      <td>4383</td>\n",
       "      <td>4383</td>\n",
       "      <td>4383</td>\n",
       "      <td>4383</td>\n",
       "      <td>4383</td>\n",
       "      <td>4383</td>\n",
       "      <td>4383</td>\n",
       "      <td>4383</td>\n",
       "      <td>4383</td>\n",
       "    </tr>\n",
       "    <tr>\n",
       "      <th>2022.0</th>\n",
       "      <td>3020</td>\n",
       "      <td>3020</td>\n",
       "      <td>3020</td>\n",
       "      <td>3020</td>\n",
       "      <td>3020</td>\n",
       "      <td>3020</td>\n",
       "      <td>3020</td>\n",
       "      <td>3020</td>\n",
       "      <td>3020</td>\n",
       "    </tr>\n",
       "  </tbody>\n",
       "</table>\n",
       "</div>"
      ],
      "text/plain": [
       "        address  city  floor    id  latitude  longitude  price  rooms    sq\n",
       "year                                                                       \n",
       "2003.0      141   141    141   141       141        141    141    141   141\n",
       "2004.0      154   154    154   154       154        154    154    154   154\n",
       "2005.0      219   219    219   219       219        219    219    219   219\n",
       "2006.0      209   209    209   209       209        209    209    209   209\n",
       "2007.0      205   205    205   205       205        205    205    205   205\n",
       "2008.0      372   372    372   372       372        372    372    372   372\n",
       "2009.0      336   336    336   336       336        336    336    336   336\n",
       "2010.0      374   374    374   374       374        374    374    374   374\n",
       "2011.0      212   212    212   212       212        212    212    212   212\n",
       "2012.0      237   237    237   237       237        237    237    237   237\n",
       "2013.0      188   188    188   188       188        188    188    188   188\n",
       "2014.0      272   272    272   272       272        272    272    272   272\n",
       "2015.0      321   321    321   321       321        321    321    321   321\n",
       "2016.0      264   264    264   264       264        264    264    264   264\n",
       "2017.0      285   285    285   285       285        285    285    285   285\n",
       "2018.0      386   386    386   386       386        386    386    386   386\n",
       "2019.0      756   756    756   756       756        756    756    756   756\n",
       "2020.0     3660  3660   3660  3660      3660       3660   3660   3660  3660\n",
       "2021.0     4383  4383   4383  4383      4383       4383   4383   4383  4383\n",
       "2022.0     3020  3020   3020  3020      3020       3020   3020   3020  3020"
      ]
     },
     "execution_count": 4,
     "metadata": {},
     "output_type": "execute_result"
    }
   ],
   "source": [
    "gb = df.groupby('year').count()\n",
    "gb"
   ]
  },
  {
   "cell_type": "code",
   "execution_count": 12,
   "metadata": {},
   "outputs": [
    {
     "data": {
      "image/png": "[encoded data removed]",
      "text/plain": [
       "<Figure size 864x360 with 1 Axes>"
      ]
     },
     "metadata": {
      "needs_background": "light"
     },
     "output_type": "display_data"
    }
   ],
   "source": [
    "plt.figure(figsize = (12, 5))\n",
    "plt.bar(gb.index, gb[\"city\"])\n",
    "plt.xticks(year_list)\n",
    "plt.show()"
   ]
  },
  {
   "cell_type": "markdown",
   "metadata": {},
   "source": [
    "12. Utwórz nową kolumnę, w której będą znajdować się dane o cenie za jeden pokój"
   ]
  },
  {
   "cell_type": "code",
   "execution_count": 13,
   "metadata": {},
   "outputs": [
    {
     "data": {
      "text/html": [
       "<div>\n",
       "<style scoped>\n",
       "    .dataframe tbody tr th:only-of-type {\n",
       "        vertical-align: middle;\n",
       "    }\n",
       "\n",
       "    .dataframe tbody tr th {\n",
       "        vertical-align: top;\n",
       "    }\n",
       "\n",
       "    .dataframe thead th {\n",
       "        text-align: right;\n",
       "    }\n",
       "</style>\n",
       "<table border=\"1\" class=\"dataframe\">\n",
       "  <thead>\n",
       "    <tr style=\"text-align: right;\">\n",
       "      <th></th>\n",
       "      <th>address</th>\n",
       "      <th>city</th>\n",
       "      <th>floor</th>\n",
       "      <th>id</th>\n",
       "      <th>latitude</th>\n",
       "      <th>longitude</th>\n",
       "      <th>price</th>\n",
       "      <th>rooms</th>\n",
       "      <th>sq</th>\n",
       "      <th>year</th>\n",
       "    </tr>\n",
       "  </thead>\n",
       "  <tbody>\n",
       "    <tr>\n",
       "      <th>0</th>\n",
       "      <td>Podgórze Zabłocie Stanisława Klimeckiego</td>\n",
       "      <td>Kraków</td>\n",
       "      <td>2.0</td>\n",
       "      <td>23918.0</td>\n",
       "      <td>50.049224</td>\n",
       "      <td>19.970379</td>\n",
       "      <td>749000.0</td>\n",
       "      <td>3.0</td>\n",
       "      <td>74.05</td>\n",
       "      <td>2021.0</td>\n",
       "    </tr>\n",
       "    <tr>\n",
       "      <th>1</th>\n",
       "      <td>Praga-Południe Grochowska</td>\n",
       "      <td>Warszawa</td>\n",
       "      <td>3.0</td>\n",
       "      <td>17828.0</td>\n",
       "      <td>52.249775</td>\n",
       "      <td>21.106886</td>\n",
       "      <td>240548.0</td>\n",
       "      <td>1.0</td>\n",
       "      <td>24.38</td>\n",
       "      <td>2021.0</td>\n",
       "    </tr>\n",
       "    <tr>\n",
       "      <th>4</th>\n",
       "      <td>Ochota Gotowy budynek. Stan deweloperski. Osta...</td>\n",
       "      <td>Warszawa</td>\n",
       "      <td>1.0</td>\n",
       "      <td>11770.0</td>\n",
       "      <td>52.212225</td>\n",
       "      <td>20.972630</td>\n",
       "      <td>996000.0</td>\n",
       "      <td>5.0</td>\n",
       "      <td>105.00</td>\n",
       "      <td>2020.0</td>\n",
       "    </tr>\n",
       "    <tr>\n",
       "      <th>5</th>\n",
       "      <td>Nowa Huta Czyżyny ul. Woźniców</td>\n",
       "      <td>Kraków</td>\n",
       "      <td>2.0</td>\n",
       "      <td>26071.0</td>\n",
       "      <td>50.046943</td>\n",
       "      <td>19.997153</td>\n",
       "      <td>414600.0</td>\n",
       "      <td>1.0</td>\n",
       "      <td>34.55</td>\n",
       "      <td>2022.0</td>\n",
       "    </tr>\n",
       "    <tr>\n",
       "      <th>6</th>\n",
       "      <td>Podgórze Płaszów Koszykarska</td>\n",
       "      <td>Kraków</td>\n",
       "      <td>0.0</td>\n",
       "      <td>22569.0</td>\n",
       "      <td>50.049893</td>\n",
       "      <td>19.990603</td>\n",
       "      <td>750000.0</td>\n",
       "      <td>4.0</td>\n",
       "      <td>81.40</td>\n",
       "      <td>2021.0</td>\n",
       "    </tr>\n",
       "    <tr>\n",
       "      <th>...</th>\n",
       "      <td>...</td>\n",
       "      <td>...</td>\n",
       "      <td>...</td>\n",
       "      <td>...</td>\n",
       "      <td>...</td>\n",
       "      <td>...</td>\n",
       "      <td>...</td>\n",
       "      <td>...</td>\n",
       "      <td>...</td>\n",
       "      <td>...</td>\n",
       "    </tr>\n",
       "    <tr>\n",
       "      <th>23758</th>\n",
       "      <td>Nowe Miasto Rataje Wagrowska</td>\n",
       "      <td>Poznań</td>\n",
       "      <td>3.0</td>\n",
       "      <td>4516.0</td>\n",
       "      <td>52.378997</td>\n",
       "      <td>16.944244</td>\n",
       "      <td>294021.0</td>\n",
       "      <td>2.0</td>\n",
       "      <td>35.23</td>\n",
       "      <td>2022.0</td>\n",
       "    </tr>\n",
       "    <tr>\n",
       "      <th>23759</th>\n",
       "      <td>Stare Miasto Naramowice</td>\n",
       "      <td>Poznań</td>\n",
       "      <td>0.0</td>\n",
       "      <td>3976.0</td>\n",
       "      <td>52.449649</td>\n",
       "      <td>16.949408</td>\n",
       "      <td>543000.0</td>\n",
       "      <td>4.0</td>\n",
       "      <td>77.00</td>\n",
       "      <td>2020.0</td>\n",
       "    </tr>\n",
       "    <tr>\n",
       "      <th>23760</th>\n",
       "      <td>Włochy</td>\n",
       "      <td>Warszawa</td>\n",
       "      <td>4.0</td>\n",
       "      <td>10206.0</td>\n",
       "      <td>52.186109</td>\n",
       "      <td>20.948438</td>\n",
       "      <td>910000.0</td>\n",
       "      <td>3.0</td>\n",
       "      <td>71.00</td>\n",
       "      <td>2017.0</td>\n",
       "    </tr>\n",
       "    <tr>\n",
       "      <th>23761</th>\n",
       "      <td>Nowe Miasto Malta ul. Katowicka</td>\n",
       "      <td>Poznań</td>\n",
       "      <td>0.0</td>\n",
       "      <td>4952.0</td>\n",
       "      <td>52.397345</td>\n",
       "      <td>16.961939</td>\n",
       "      <td>430695.0</td>\n",
       "      <td>3.0</td>\n",
       "      <td>50.67</td>\n",
       "      <td>2022.0</td>\n",
       "    </tr>\n",
       "    <tr>\n",
       "      <th>23762</th>\n",
       "      <td>Podgórze Duchackie Walerego Sławka</td>\n",
       "      <td>Kraków</td>\n",
       "      <td>6.0</td>\n",
       "      <td>24148.0</td>\n",
       "      <td>50.024231</td>\n",
       "      <td>19.959569</td>\n",
       "      <td>359000.0</td>\n",
       "      <td>2.0</td>\n",
       "      <td>38.86</td>\n",
       "      <td>2021.0</td>\n",
       "    </tr>\n",
       "  </tbody>\n",
       "</table>\n",
       "<p>15994 rows × 10 columns</p>\n",
       "</div>"
      ],
      "text/plain": [
       "                                                 address      city  floor  \\\n",
       "0               Podgórze Zabłocie Stanisława Klimeckiego    Kraków    2.0   \n",
       "1                              Praga-Południe Grochowska  Warszawa    3.0   \n",
       "4      Ochota Gotowy budynek. Stan deweloperski. Osta...  Warszawa    1.0   \n",
       "5                         Nowa Huta Czyżyny ul. Woźniców    Kraków    2.0   \n",
       "6                           Podgórze Płaszów Koszykarska    Kraków    0.0   \n",
       "...                                                  ...       ...    ...   \n",
       "23758                       Nowe Miasto Rataje Wagrowska    Poznań    3.0   \n",
       "23759                            Stare Miasto Naramowice    Poznań    0.0   \n",
       "23760                                             Włochy  Warszawa    4.0   \n",
       "23761                    Nowe Miasto Malta ul. Katowicka    Poznań    0.0   \n",
       "23762                 Podgórze Duchackie Walerego Sławka    Kraków    6.0   \n",
       "\n",
       "            id   latitude  longitude     price  rooms      sq    year  \n",
       "0      23918.0  50.049224  19.970379  749000.0    3.0   74.05  2021.0  \n",
       "1      17828.0  52.249775  21.106886  240548.0    1.0   24.38  2021.0  \n",
       "4      11770.0  52.212225  20.972630  996000.0    5.0  105.00  2020.0  \n",
       "5      26071.0  50.046943  19.997153  414600.0    1.0   34.55  2022.0  \n",
       "6      22569.0  50.049893  19.990603  750000.0    4.0   81.40  2021.0  \n",
       "...        ...        ...        ...       ...    ...     ...     ...  \n",
       "23758   4516.0  52.378997  16.944244  294021.0    2.0   35.23  2022.0  \n",
       "23759   3976.0  52.449649  16.949408  543000.0    4.0   77.00  2020.0  \n",
       "23760  10206.0  52.186109  20.948438  910000.0    3.0   71.00  2017.0  \n",
       "23761   4952.0  52.397345  16.961939  430695.0    3.0   50.67  2022.0  \n",
       "23762  24148.0  50.024231  19.959569  359000.0    2.0   38.86  2021.0  \n",
       "\n",
       "[15994 rows x 10 columns]"
      ]
     },
     "execution_count": 13,
     "metadata": {},
     "output_type": "execute_result"
    }
   ],
   "source": [
    "df"
   ]
  },
  {
   "cell_type": "code",
   "execution_count": 14,
   "metadata": {},
   "outputs": [],
   "source": [
    "df['price/rooms'] = df['price'] / df['rooms']"
   ]
  },
  {
   "cell_type": "markdown",
   "metadata": {},
   "source": [
    "13. Policz średnią powierzchnię mieszkań na drugim piętrze w poszczególnych miastach"
   ]
  },
  {
   "cell_type": "code",
   "execution_count": 20,
   "metadata": {},
   "outputs": [
    {
     "data": {
      "text/html": [
       "<div>\n",
       "<style scoped>\n",
       "    .dataframe tbody tr th:only-of-type {\n",
       "        vertical-align: middle;\n",
       "    }\n",
       "\n",
       "    .dataframe tbody tr th {\n",
       "        vertical-align: top;\n",
       "    }\n",
       "\n",
       "    .dataframe thead th {\n",
       "        text-align: right;\n",
       "    }\n",
       "</style>\n",
       "<table border=\"1\" class=\"dataframe\">\n",
       "  <thead>\n",
       "    <tr style=\"text-align: right;\">\n",
       "      <th></th>\n",
       "      <th>city</th>\n",
       "      <th>sq</th>\n",
       "    </tr>\n",
       "  </thead>\n",
       "  <tbody>\n",
       "    <tr>\n",
       "      <th>0</th>\n",
       "      <td>Kraków</td>\n",
       "      <td>877.455041</td>\n",
       "    </tr>\n",
       "    <tr>\n",
       "      <th>1</th>\n",
       "      <td>Poznań</td>\n",
       "      <td>59.189136</td>\n",
       "    </tr>\n",
       "    <tr>\n",
       "      <th>2</th>\n",
       "      <td>Warszawa</td>\n",
       "      <td>62.753380</td>\n",
       "    </tr>\n",
       "  </tbody>\n",
       "</table>\n",
       "</div>"
      ],
      "text/plain": [
       "       city          sq\n",
       "0    Kraków  877.455041\n",
       "1    Poznań   59.189136\n",
       "2  Warszawa   62.753380"
      ]
     },
     "execution_count": 20,
     "metadata": {},
     "output_type": "execute_result"
    }
   ],
   "source": [
    "df[df['floor'] == 2].groupby('city')[['sq']].mean().reset_index()"
   ]
  },
  {
   "cell_type": "markdown",
   "metadata": {},
   "source": [
    "14. Stwórz wykres słupkowy, na którym pokażesz jak (i czy w ogóle) zmienia się średnia cena mieszkania wraz z piętrem"
   ]
  },
  {
   "cell_type": "markdown",
   "metadata": {},
   "source": [
    "<details>\n",
    "<summary style=\"color: #993333\">Podpowiedź (kliknij)</summary>\n",
    "1. Stwórz listę wszystkich unikalnych wartości kolumny floor i posortuj je\n",
    "<br>\n",
    "2. Stwórz pustą listę na ceny i w pętli for appenduj ją dla kolejnych wartości numeru piętra\n",
    "<br>\n",
    "3. Narysuj barplot\n",
    "</details>\n"
   ]
  },
  {
   "cell_type": "code",
   "execution_count": 45,
   "metadata": {},
   "outputs": [],
   "source": [
    "df = pd.read_csv(\"data/houses.csv\")"
   ]
  },
  {
   "cell_type": "code",
   "execution_count": 46,
   "metadata": {},
   "outputs": [],
   "source": [
    "gb = df.groupby('floor').mean()[['price']].reset_index()"
   ]
  },
  {
   "cell_type": "code",
   "execution_count": 47,
   "metadata": {},
   "outputs": [
    {
     "data": {
      "text/html": [
       "<div>\n",
       "<style scoped>\n",
       "    .dataframe tbody tr th:only-of-type {\n",
       "        vertical-align: middle;\n",
       "    }\n",
       "\n",
       "    .dataframe tbody tr th {\n",
       "        vertical-align: top;\n",
       "    }\n",
       "\n",
       "    .dataframe thead th {\n",
       "        text-align: right;\n",
       "    }\n",
       "</style>\n",
       "<table border=\"1\" class=\"dataframe\">\n",
       "  <thead>\n",
       "    <tr style=\"text-align: right;\">\n",
       "      <th></th>\n",
       "      <th>floor</th>\n",
       "      <th>price</th>\n",
       "    </tr>\n",
       "  </thead>\n",
       "  <tbody>\n",
       "    <tr>\n",
       "      <th>0</th>\n",
       "      <td>0.0</td>\n",
       "      <td>5.667509e+05</td>\n",
       "    </tr>\n",
       "    <tr>\n",
       "      <th>1</th>\n",
       "      <td>1.0</td>\n",
       "      <td>6.401415e+05</td>\n",
       "    </tr>\n",
       "    <tr>\n",
       "      <th>2</th>\n",
       "      <td>2.0</td>\n",
       "      <td>6.288058e+05</td>\n",
       "    </tr>\n",
       "    <tr>\n",
       "      <th>3</th>\n",
       "      <td>3.0</td>\n",
       "      <td>6.363465e+05</td>\n",
       "    </tr>\n",
       "    <tr>\n",
       "      <th>4</th>\n",
       "      <td>4.0</td>\n",
       "      <td>6.313214e+05</td>\n",
       "    </tr>\n",
       "    <tr>\n",
       "      <th>5</th>\n",
       "      <td>5.0</td>\n",
       "      <td>6.932407e+05</td>\n",
       "    </tr>\n",
       "    <tr>\n",
       "      <th>6</th>\n",
       "      <td>6.0</td>\n",
       "      <td>7.598647e+05</td>\n",
       "    </tr>\n",
       "    <tr>\n",
       "      <th>7</th>\n",
       "      <td>7.0</td>\n",
       "      <td>7.475659e+05</td>\n",
       "    </tr>\n",
       "    <tr>\n",
       "      <th>8</th>\n",
       "      <td>8.0</td>\n",
       "      <td>6.526096e+05</td>\n",
       "    </tr>\n",
       "    <tr>\n",
       "      <th>9</th>\n",
       "      <td>9.0</td>\n",
       "      <td>6.951317e+05</td>\n",
       "    </tr>\n",
       "    <tr>\n",
       "      <th>10</th>\n",
       "      <td>10.0</td>\n",
       "      <td>1.034159e+06</td>\n",
       "    </tr>\n",
       "  </tbody>\n",
       "</table>\n",
       "</div>"
      ],
      "text/plain": [
       "    floor         price\n",
       "0     0.0  5.667509e+05\n",
       "1     1.0  6.401415e+05\n",
       "2     2.0  6.288058e+05\n",
       "3     3.0  6.363465e+05\n",
       "4     4.0  6.313214e+05\n",
       "5     5.0  6.932407e+05\n",
       "6     6.0  7.598647e+05\n",
       "7     7.0  7.475659e+05\n",
       "8     8.0  6.526096e+05\n",
       "9     9.0  6.951317e+05\n",
       "10   10.0  1.034159e+06"
      ]
     },
     "execution_count": 47,
     "metadata": {},
     "output_type": "execute_result"
    }
   ],
   "source": [
    "gb"
   ]
  },
  {
   "cell_type": "code",
   "execution_count": 48,
   "metadata": {},
   "outputs": [
    {
     "data": {
      "text/plain": [
       "0      0.0\n",
       "1      1.0\n",
       "2      2.0\n",
       "3      3.0\n",
       "4      4.0\n",
       "5      5.0\n",
       "6      6.0\n",
       "7      7.0\n",
       "8      8.0\n",
       "9      9.0\n",
       "10    10.0\n",
       "Name: floor, dtype: float64"
      ]
     },
     "execution_count": 48,
     "metadata": {},
     "output_type": "execute_result"
    }
   ],
   "source": [
    "gb['floor']"
   ]
  },
  {
   "cell_type": "code",
   "execution_count": 52,
   "metadata": {},
   "outputs": [
    {
     "data": {
      "image/png": "[encoded data removed]",
      "text/plain": [
       "<Figure size 864x360 with 1 Axes>"
      ]
     },
     "metadata": {
      "needs_background": "light"
     },
     "output_type": "display_data"
    }
   ],
   "source": [
    "plt.figure(figsize = (12, 5))\n",
    "plt.bar(gb['floor'], gb['price'])\n",
    "plt.xticks(gb['floor'])\n",
    "plt.show()"
   ]
  }
 ],
 "metadata": {
  "kernelspec": {
   "display_name": "Python 3 (ipykernel)",
   "language": "python",
   "name": "python3"
  },
  "language_info": {
   "codemirror_mode": {
    "name": "ipython",
    "version": 3
   },
   "file_extension": ".py",
   "mimetype": "text/x-python",
   "name": "python",
   "nbconvert_exporter": "python",
   "pygments_lexer": "ipython3",
   "version": "3.9.7"
  },
  "toc": {
   "base_numbering": 1,
   "nav_menu": {},
   "number_sections": true,
   "sideBar": true,
   "skip_h1_title": true,
   "title_cell": "Table of Contents",
   "title_sidebar": "Contents",
   "toc_cell": false,
   "toc_position": {},
   "toc_section_display": true,
   "toc_window_display": false
  },
  "toc-autonumbering": false,
  "varInspector": {
   "cols": {
    "lenName": 16,
    "lenType": 16,
    "lenVar": 40
   },
   "kernels_config": {
    "python": {
     "delete_cmd_postfix": "",
     "delete_cmd_prefix": "del ",
     "library": "var_list.py",
     "varRefreshCmd": "print(var_dic_list())"
    },
    "r": {
     "delete_cmd_postfix": ") ",
     "delete_cmd_prefix": "rm(",
     "library": "var_list.r",
     "varRefreshCmd": "cat(var_dic_list()) "
    }
   },
   "types_to_exclude": [
    "module",
    "function",
    "builtin_function_or_method",
    "instance",
    "_Feature"
   ],
   "window_display": false
  }
 },
 "nbformat": 4,
 "nbformat_minor": 4
}
