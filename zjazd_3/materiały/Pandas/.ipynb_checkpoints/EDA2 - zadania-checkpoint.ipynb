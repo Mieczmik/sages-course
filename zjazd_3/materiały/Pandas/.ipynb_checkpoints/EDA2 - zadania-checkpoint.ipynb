{
 "cells": [
  {
   "cell_type": "markdown",
   "metadata": {},
   "source": [
    "# Exploratory Data Analysis (EDA) - zadania\n",
    "\n",
    "Przanalizuj zbiór danych `weather.csv`, który zawiera pomiary parametrów pogodowych w pewnym miejscu na przestrzeni 10 lat. Wykonaj poniższe zadania.\n",
    "\n",
    "Zadania 1-5  - 25 minut\n",
    "\n",
    "Zadania 6-9  - 20 minut\n",
    "\n",
    "Zadania 10-13 - 20 minut\n",
    "\n",
    "Zadania 14-15 - 15 minut\n",
    "\n",
    "Zadania 16-18 - 30 minut\n",
    "\n",
    "Zadania 19-20 - 10 minut"
   ]
  },
  {
   "cell_type": "markdown",
   "metadata": {},
   "source": [
    "1. Wczytaj dane pogodowe z pliku weather.csv. Zobacz pierwszych 5 wierszy."
   ]
  },
  {
   "cell_type": "code",
   "execution_count": 5,
   "metadata": {},
   "outputs": [],
   "source": [
    "# ..."
   ]
  },
  {
   "cell_type": "markdown",
   "metadata": {},
   "source": [
    "2. Sprawdź czy są brakujące wartości i w jakich kolumnach"
   ]
  },
  {
   "cell_type": "code",
   "execution_count": 6,
   "metadata": {},
   "outputs": [],
   "source": [
    "# ..."
   ]
  },
  {
   "cell_type": "markdown",
   "metadata": {},
   "source": [
    "3. Wywołaj na zbiorze danych funkcję, która wypisze podstawowe statystyki opisujące kolumny numeryczne, np. średnią, medianę itp."
   ]
  },
  {
   "cell_type": "code",
   "execution_count": 7,
   "metadata": {},
   "outputs": [],
   "source": [
    "# ..."
   ]
  },
  {
   "cell_type": "markdown",
   "metadata": {},
   "source": [
    "4. Zmień nazwy kolumn na takie, którymi wygodniej się będzie posługiwać (usuń spacje, jednostki itp)"
   ]
  },
  {
   "cell_type": "code",
   "execution_count": 8,
   "metadata": {},
   "outputs": [],
   "source": [
    "# ..."
   ]
  },
  {
   "cell_type": "markdown",
   "metadata": {},
   "source": [
    "5. Przeformatuj albo utwórz nową kolumnę na bazie istniejącej kolumny z datą i godziną tak aby pozbyć się informacji o strefie czasowej (po plusie). "
   ]
  },
  {
   "cell_type": "markdown",
   "metadata": {},
   "source": [
    "<details>\n",
    "<summary style=\"color: #993333\">Podpowiedź (kliknij)</summary>\n",
    "Wykorzystaj apply i lambda aby na bazie istniejącej kolumny dodać nową\n",
    "</details>\n"
   ]
  },
  {
   "cell_type": "code",
   "execution_count": 9,
   "metadata": {},
   "outputs": [],
   "source": [
    "# ..."
   ]
  },
  {
   "cell_type": "markdown",
   "metadata": {},
   "source": [
    "6. Usuń kolumnę `Daily Summary`"
   ]
  },
  {
   "cell_type": "code",
   "execution_count": 11,
   "metadata": {},
   "outputs": [],
   "source": [
    "# ..."
   ]
  },
  {
   "cell_type": "markdown",
   "metadata": {},
   "source": [
    "7. Dodaj nowe kolumny: year, month, day, hour oraz minute"
   ]
  },
  {
   "cell_type": "markdown",
   "metadata": {},
   "source": [
    "<details>\n",
    "<summary style=\"color: #993333\">Podpowiedź (kliknij)</summary>\n",
    "Wykorzystaj apply i lambda aby stworzyć nowe kolumny na bazie istniejących. Wytnij odpowiednie slice'y ze stringów\n",
    "</details>\n"
   ]
  },
  {
   "cell_type": "code",
   "execution_count": 12,
   "metadata": {},
   "outputs": [],
   "source": [
    "# ..."
   ]
  },
  {
   "cell_type": "markdown",
   "metadata": {},
   "source": [
    "8. Oblicz średnie temperatury oraz - osobno - temperatury odczuwalne w poszczególnych miesiącach. Wyniki przedstaw w postaci nowo utworzonego data frame'a"
   ]
  },
  {
   "cell_type": "markdown",
   "metadata": {},
   "source": [
    "<details>\n",
    "<summary style=\"color: #993333\">Podpowiedź (kliknij)</summary>\n",
    "1. Utwórz puste listy dla średnich temperatur oraz średnich temperatur odczuwalnych\n",
    "<br>\n",
    "2. Przeiteruj po wszystkich miesiącach (posortowanych) i konstruuj sub data frame'y które zawierają informacje dla danych miesięcy\n",
    "<br>\n",
    "3. Policz średnie temperatury i dodaj do listy\n",
    "<br>\n",
    "4. Utwórz data frame\n",
    "</details>\n"
   ]
  },
  {
   "cell_type": "code",
   "execution_count": 36,
   "metadata": {},
   "outputs": [],
   "source": [
    "# ..."
   ]
  },
  {
   "cell_type": "markdown",
   "metadata": {},
   "source": [
    "9. Policz średnie ciśnienie dla obserwacji, w których temperatura wynosi między 15 a 20 stopni Celsjusza"
   ]
  },
  {
   "cell_type": "code",
   "execution_count": 14,
   "metadata": {},
   "outputs": [],
   "source": [
    "# ..."
   ]
  },
  {
   "cell_type": "markdown",
   "metadata": {},
   "source": [
    "10. Policz średnią temperaturę dla poszczególnych wartości w kolumnie `Summary`"
   ]
  },
  {
   "cell_type": "markdown",
   "metadata": {},
   "source": [
    "<details>\n",
    "<summary style=\"color: #993333\">Podpowiedź (kliknij)</summary>\n",
    "Wyznacz unikalne wartości w kolumnie Summary po czym przeiteruj po nich, utwórz w każdej iteracji sub data frame i policz średnią z odpowiedniej kolumny\n",
    "</details>\n"
   ]
  },
  {
   "cell_type": "code",
   "execution_count": 15,
   "metadata": {},
   "outputs": [],
   "source": [
    "# ..."
   ]
  },
  {
   "cell_type": "markdown",
   "metadata": {},
   "source": [
    "11. Przedstaw na wykresie punktowym zależność temperatury od temperatury odczuwalnej"
   ]
  },
  {
   "cell_type": "code",
   "execution_count": 17,
   "metadata": {},
   "outputs": [],
   "source": [
    "# ..."
   ]
  },
  {
   "cell_type": "markdown",
   "metadata": {},
   "source": [
    "12. Stwórz histogramy prędkości wiatru, widoczności oraz ciśnienia"
   ]
  },
  {
   "cell_type": "code",
   "execution_count": 18,
   "metadata": {},
   "outputs": [],
   "source": [
    "# ..."
   ]
  },
  {
   "cell_type": "markdown",
   "metadata": {},
   "source": [
    "13. Stwórz barplot, który pokaże częstość występowania poszczególnych kategorii w `Precip Type`"
   ]
  },
  {
   "cell_type": "code",
   "execution_count": 19,
   "metadata": {},
   "outputs": [],
   "source": [
    "# ..."
   ]
  },
  {
   "cell_type": "markdown",
   "metadata": {},
   "source": [
    "14. Stwórz lineplot na którym przedstawisz zmiany temperatury w 2012 roku. Dla każdego dnia możesz uwzględnić jedną temperaturę"
   ]
  },
  {
   "cell_type": "markdown",
   "metadata": {},
   "source": [
    "<details>\n",
    "<summary style=\"color: #993333\">Podpowiedź (kliknij)</summary>\n",
    "1. Wyciągnij z głównego df-a dane z rokiem równym 2012\n",
    "<br>\n",
    "2. Posortuj kolejno po miesiącu i dniu\n",
    "<br>\n",
    "3. Wyciągnij odpowiednią kolumnę\n",
    "<br>\n",
    "4. Wyciągnij co 24-ty element\n",
    "    <br>\n",
    "5. Utwórz scatterplot\n",
    "</details>\n"
   ]
  },
  {
   "cell_type": "code",
   "execution_count": 28,
   "metadata": {},
   "outputs": [],
   "source": [
    "# ..."
   ]
  },
  {
   "cell_type": "markdown",
   "metadata": {},
   "source": [
    "15. Utwórz wykres, który będzie składał się z 12 mniejszych wykresów z czego każdy będzie zawierał scatterplot temperatury odczuwalnej od wilgotności w 2008 roku dla poszczególnych miesięcy"
   ]
  },
  {
   "cell_type": "markdown",
   "metadata": {},
   "source": [
    "<details>\n",
    "<summary style=\"color: #993333\">Podpowiedź (kliknij)</summary>\n",
    "1. Wyciągnij z głównego df-a dane z rokiem równym 2008\n",
    "<br>\n",
    "2. Utwórz wykres (subplots) o odpowiedniej liczbie podwykresów\n",
    "<br>\n",
    "3. Przeiteruj podwójną pętlą po tablicy numpy z osiami (\n",
    "<br>\n",
    "4. W każdej iteracji wyciągnij część danych z danego miesiąca. Możesz skorzystać ze zmiennej oznaczającej miesiąc, która w każdej iteracji będzie inkrementowana\n",
    "    <br>\n",
    "5. Utwórz scatterplot na odpowiednim subplocie\n",
    "</details>\n"
   ]
  },
  {
   "cell_type": "code",
   "execution_count": 29,
   "metadata": {},
   "outputs": [],
   "source": [
    "# ..."
   ]
  },
  {
   "cell_type": "markdown",
   "metadata": {},
   "source": [
    "16. Przedstaw na wykresie słupkowym średnią temperaturę w kolejnych miesiącach"
   ]
  },
  {
   "cell_type": "code",
   "execution_count": 31,
   "metadata": {},
   "outputs": [],
   "source": [
    "# ..."
   ]
  },
  {
   "cell_type": "markdown",
   "metadata": {},
   "source": [
    "17. Zrób to samo co w poprzednim wykresie, ale osobno dla każdego roku na przestrzeni 2007-2012. Użyj `subplots`"
   ]
  },
  {
   "cell_type": "markdown",
   "metadata": {},
   "source": [
    "<details>\n",
    "<summary style=\"color: #993333\">Podpowiedź (kliknij)</summary>\n",
    "1. Utwórz wykres (subplots) o odpowiedniej liczbie subplotów\n",
    "<br>\n",
    "2. Przeiteruj po zakresie lat, który jest podany w zadaniu\n",
    "<br>\n",
    "3. Wewnątrz przeiteruj po kolejnych miesiącach\n",
    "<br>\n",
    "4. Dla każdej kombinacji rok-miesiąc wyznacz sub data frame i średnią temperaturę z niego zapisz do wcześniej przygotowanej listy (append)\n",
    "    <br>\n",
    "5. Narysuj barplot średnie temperatur vs. kolejne miesiące na odpowiednim subplocie\n",
    "</details>\n"
   ]
  },
  {
   "cell_type": "code",
   "execution_count": 32,
   "metadata": {},
   "outputs": [],
   "source": [
    "# ..."
   ]
  },
  {
   "cell_type": "markdown",
   "metadata": {},
   "source": [
    "18. Na jednym wykresie stwórz scatterplot temperatury od temperatury odczuwalnej. Każdą porę roku zaznacz osobnym kolorem i dodaj legendę. Dla uproszczenia przyjmij, że pory roku pokrywają się całkowicie z miesiącami."
   ]
  },
  {
   "cell_type": "markdown",
   "metadata": {},
   "source": [
    "<details>\n",
    "<summary style=\"color: #993333\">Podpowiedź (kliknij)</summary>\n",
    "1. Utwórz kolumnę która będzie przechowywać informację o porze roku. Wykorzystaj w tym celu apply i lambda. Przyda się też słownik, który dla każdego miesiąca przypisze porę roku\n",
    "<br>\n",
    "2. Przeiteruj po wszystkich porach roku. Wewnątrz pętli wyznacz sub data frame odpowiadający danej porze roku\n",
    "<br>\n",
    "3. Narysuj odpowiedni scatterplot. Ustaw odpowiedni rozmiar markerów, dodaj label i color. Wszystkie wykresy mają znajdować się obok siebie przez co mogą się nakładać\n",
    "<br>\n",
    "4. Dodaj legendę\n",
    "</details>\n"
   ]
  },
  {
   "cell_type": "code",
   "execution_count": 33,
   "metadata": {},
   "outputs": [],
   "source": [
    "# ..."
   ]
  },
  {
   "cell_type": "markdown",
   "metadata": {},
   "source": [
    "19. Zaokrąglij w kolumnie z temperaturą oraz temperaturą odczuwalną wartości do 2 cyfr po przecinku"
   ]
  },
  {
   "cell_type": "code",
   "execution_count": 34,
   "metadata": {},
   "outputs": [],
   "source": [
    "# ..."
   ]
  },
  {
   "cell_type": "markdown",
   "metadata": {},
   "source": [
    "20. Utwórz nową kolumnę, w której za pomocą wartości 0 i 1 oznaczysz czy temperatura jest powyżej $0^oC$ czy nie"
   ]
  },
  {
   "cell_type": "code",
   "execution_count": 35,
   "metadata": {},
   "outputs": [],
   "source": [
    "# ..."
   ]
  }
 ],
 "metadata": {
  "kernelspec": {
   "display_name": "Python 3",
   "language": "python",
   "name": "python3"
  },
  "language_info": {
   "codemirror_mode": {
    "name": "ipython",
    "version": 3
   },
   "file_extension": ".py",
   "mimetype": "text/x-python",
   "name": "python",
   "nbconvert_exporter": "python",
   "pygments_lexer": "ipython3",
   "version": "3.8.5"
  }
 },
 "nbformat": 4,
 "nbformat_minor": 2
}
