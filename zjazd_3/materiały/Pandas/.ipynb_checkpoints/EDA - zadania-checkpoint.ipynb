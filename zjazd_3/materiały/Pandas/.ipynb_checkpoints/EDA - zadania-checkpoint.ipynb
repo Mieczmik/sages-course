{
 "cells": [
  {
   "cell_type": "markdown",
   "metadata": {},
   "source": [
    "# Exploratory Data Analysis (EDA) - zadania\n",
    "\n",
    "Przeanalizuj zbiór danych `houses.csv`, który zawiera informacje o cenach mieszkań wystawionych na sprzedaż. Wykonaj poniższe zadania, których wynikiem będą przykładowe informacje jakie możemy pozyskać w trakcie eksploracyjnej analizy danych.\n",
    "\n",
    "Zadania 1-5: 30 minut\n",
    "\n",
    "Zadania 6-9: 30 minut\n",
    "\n",
    "Zadania 10-12 20 minut\n",
    "\n",
    "Zadania 13-14: 15 minut"
   ]
  },
  {
   "cell_type": "markdown",
   "metadata": {},
   "source": [
    "1. Zaimportuj `pandas`  i wczytaj zbiór danych. Wyświetl pierwszych 5 wierszy i zobacz co znajduje się w danych. Usuń kolumny `address` oraz `id`"
   ]
  },
  {
   "cell_type": "code",
   "execution_count": null,
   "metadata": {},
   "outputs": [],
   "source": [
    "# ..."
   ]
  },
  {
   "cell_type": "markdown",
   "metadata": {},
   "source": [
    "2. Wypisz ile brakujących wartości jest w każdej kolumnie zbioru danych. Użyj do tego pętli `for`"
   ]
  },
  {
   "cell_type": "markdown",
   "metadata": {},
   "source": [
    "<details>\n",
    "<summary style=\"color: #993333\">Podpowiedź (kliknij)</summary>\n",
    "Napisz pętlę for po wszystkich kolumnach. Dla każdej kolumny wyciągnij ją z df-a i wykonaj funkcje .isna() oraz .sum()\n",
    "</details>\n"
   ]
  },
  {
   "cell_type": "code",
   "execution_count": null,
   "metadata": {},
   "outputs": [],
   "source": [
    "# ..."
   ]
  },
  {
   "cell_type": "markdown",
   "metadata": {},
   "source": [
    "3. Sprawdź unikalne wartości oraz ich liczebność dla zmiennych kategorycznych. Dla zmiennych liczbowych narysuj histogramy przedstawiające rozkład wartości zmiennej. Zastosuj jedynie podstawowe formatowanie wykresów (wielkość, tytuł)"
   ]
  },
  {
   "cell_type": "markdown",
   "metadata": {},
   "source": [
    "<details>\n",
    "<summary style=\"color: #993333\">Podpowiedź (kliknij)</summary>\n",
    "Kolumny (zmienne) kategoryczne oraz - osobno - numeryczne wyciągnij za pomocą funkcji .select_dtypes(). Dla zmiennych kategorycznych wywołaj funcję .value_counts() a dla numerycznych w pętli for utwórz histogramy wartości w kolejnych kolumnach\n",
    "</details>\n"
   ]
  },
  {
   "cell_type": "code",
   "execution_count": null,
   "metadata": {},
   "outputs": [],
   "source": [
    "# ..."
   ]
  },
  {
   "cell_type": "markdown",
   "metadata": {},
   "source": [
    "4. Sprawdź ile jest ofert w poszczególnych miastach. Zwizualizuj to na odpowiednim wykresie"
   ]
  },
  {
   "cell_type": "markdown",
   "metadata": {},
   "source": [
    "<details>\n",
    "<summary style=\"color: #993333\">Podpowiedź (kliknij)</summary>\n",
    "Wywołaj .value_counts() na kolumnie 'city'. Przypisz wynik do zmiennej i wyciągnij z niej informacje na temat nazw miast oraz częstości występowania. Otrzymane listy przedstaw na barplocie\n",
    "</details>\n"
   ]
  },
  {
   "cell_type": "code",
   "execution_count": null,
   "metadata": {},
   "outputs": [],
   "source": [
    "# ..."
   ]
  },
  {
   "cell_type": "markdown",
   "metadata": {},
   "source": [
    "5. Policz średnią powierzchnię mieszkań. Następnie zrób to samo w zależności od miasta i utwórz data frame, który zestawi te informacje"
   ]
  },
  {
   "cell_type": "markdown",
   "metadata": {},
   "source": [
    "<details>\n",
    "<summary style=\"color: #993333\">Podpowiedź (kliknij)</summary>\n",
    "Aby policzyć średnią powierzchnię dla danego miasta przeiteruj po unikalnych miastach i utwórz sub data frame dla każdego z nich. Następnie w ramach niego policz średnią powierzchnię i zapisz, np. do listy (append) albo po prostu wypisz.\n",
    "</details>\n"
   ]
  },
  {
   "cell_type": "code",
   "execution_count": null,
   "metadata": {},
   "outputs": [],
   "source": [
    "# ..."
   ]
  },
  {
   "cell_type": "markdown",
   "metadata": {},
   "source": [
    "6. Sprawdź czy istnieje zależność między rokiem budowy a powierzchnią mieszkań. Narysuj odpowiedni wykres."
   ]
  },
  {
   "cell_type": "markdown",
   "metadata": {},
   "source": [
    "<details>\n",
    "<summary style=\"color: #993333\">Podpowiedź (kliknij)</summary>\n",
    "1. Wydziel z df-a takie wiersze, żeby rok budowy był w sensownym zakresie (są bardzo wysokie oraz niskie wartości)\n",
    "<br>\n",
    "2. Narysuj scatterplot. Możesz zmniejszyć rozmiar markerów żeby wynik był bardziej przejrzysty\n",
    "</details>\n"
   ]
  },
  {
   "cell_type": "code",
   "execution_count": null,
   "metadata": {},
   "outputs": [],
   "source": [
    "# ..."
   ]
  },
  {
   "cell_type": "markdown",
   "metadata": {},
   "source": [
    "7. Sprawdź czy istnieje zależność między rokiem budowy a numerem piętra. Narysuj odpowiedni wykres"
   ]
  },
  {
   "cell_type": "code",
   "execution_count": null,
   "metadata": {},
   "outputs": [],
   "source": [
    "# ..."
   ]
  },
  {
   "cell_type": "markdown",
   "metadata": {},
   "source": [
    "8. Narysuj 'mapę' budynków w postaci scatterplota"
   ]
  },
  {
   "cell_type": "markdown",
   "metadata": {},
   "source": [
    "<details>\n",
    "<summary style=\"color: #993333\">Podpowiedź (kliknij)</summary>\n",
    "Narysuj scatterplot długości oraz szerokości geograficznej. Zwróć uwagę na odstające, niepoprawne wartości i odsiej je.\n",
    "</details>\n"
   ]
  },
  {
   "cell_type": "code",
   "execution_count": 2,
   "metadata": {},
   "outputs": [],
   "source": [
    "# ..."
   ]
  },
  {
   "cell_type": "markdown",
   "metadata": {},
   "source": [
    "9. Policz ile średnio metrów kwadratowych przypada na pokój. Sprawdź czy zależy to od miasta"
   ]
  },
  {
   "cell_type": "markdown",
   "metadata": {},
   "source": [
    "<details>\n",
    "<summary style=\"color: #993333\">Podpowiedź (kliknij)</summary>\n",
    "Utwórz nową kolumnę w której przechowasz informacje o powierzchni przypadającej na pokój. Policz średnią a następnie przeiteruj po wszystkich miastach i policz średnią wartość tylko dla tego miasta\n",
    "</details>\n"
   ]
  },
  {
   "cell_type": "code",
   "execution_count": null,
   "metadata": {},
   "outputs": [],
   "source": [
    "# ..."
   ]
  },
  {
   "cell_type": "markdown",
   "metadata": {},
   "source": [
    "10. Stwórz wykresy na których będzie można sprawdzić jak zmienia się cena za m2 w poszczególnych miastach w zależności od roku budowy. Dodaj tytuły oraz opis osi"
   ]
  },
  {
   "cell_type": "markdown",
   "metadata": {},
   "source": [
    "<details>\n",
    "<summary style=\"color: #993333\">Podpowiedź (kliknij)</summary>\n",
    "1. Stwórz kolumnę z ceną za m2\n",
    "<br>\n",
    "2. Stwórz 3 df-y dla każdego miasta osobny\n",
    "<br>\n",
    "3. Dla każdego miasta stwórz scatterplot cena za m2 vs. rok\n",
    "</details>\n"
   ]
  },
  {
   "cell_type": "code",
   "execution_count": null,
   "metadata": {},
   "outputs": [],
   "source": [
    "# ..."
   ]
  },
  {
   "cell_type": "markdown",
   "metadata": {},
   "source": [
    "11. Narysuj wykres na którym pokażesz ile budynków wybudowano w kolejnych latach. Możesz ograniczyć się do przedziału ostatnich 20 lat."
   ]
  },
  {
   "cell_type": "markdown",
   "metadata": {},
   "source": [
    "<details>\n",
    "<summary style=\"color: #993333\">Podpowiedź (kliknij)</summary>\n",
    "1. Stwórz listę lat, które chcesz sprawdzić\n",
    "<br>\n",
    "2. Sprawdź ile jest mieszkań z każdego z tych lat\n",
    "<br>\n",
    "3. Zapisz te dwie rzeczy do list i przedstaw je na barplocie\n",
    "</details>\n"
   ]
  },
  {
   "cell_type": "code",
   "execution_count": null,
   "metadata": {},
   "outputs": [],
   "source": [
    "# ..."
   ]
  },
  {
   "cell_type": "markdown",
   "metadata": {},
   "source": [
    "12. Utwórz nową kolumnę, w której będą znajdować się dane o cenie za jeden pokój"
   ]
  },
  {
   "cell_type": "code",
   "execution_count": null,
   "metadata": {},
   "outputs": [],
   "source": [
    "# ..."
   ]
  },
  {
   "cell_type": "markdown",
   "metadata": {},
   "source": [
    "13. Policz średnią powierzchnię mieszkań na drugim piętrze w poszczególnych miastach"
   ]
  },
  {
   "cell_type": "code",
   "execution_count": null,
   "metadata": {},
   "outputs": [],
   "source": [
    "# ..."
   ]
  },
  {
   "cell_type": "markdown",
   "metadata": {},
   "source": [
    "14. Stwórz wykres słupkowy, na którym pokażesz jak (i czy w ogóle) zmienia się średnia cena mieszkania wraz z piętrem"
   ]
  },
  {
   "cell_type": "markdown",
   "metadata": {},
   "source": [
    "<details>\n",
    "<summary style=\"color: #993333\">Podpowiedź (kliknij)</summary>\n",
    "1. Stwórz listę wszystkich unikalnych wartości kolumny floor i posortuj je\n",
    "<br>\n",
    "2. Stwórz pustą listę na ceny i w pętli for appenduj ją dla kolejnych wartości numeru piętra\n",
    "<br>\n",
    "3. Narysuj barplot\n",
    "</details>\n"
   ]
  },
  {
   "cell_type": "code",
   "execution_count": null,
   "metadata": {},
   "outputs": [],
   "source": [
    "# ..."
   ]
  }
 ],
 "metadata": {
  "kernelspec": {
   "display_name": "Python 3 (ipykernel)",
   "language": "python",
   "name": "python3"
  },
  "language_info": {
   "codemirror_mode": {
    "name": "ipython",
    "version": 3
   },
   "file_extension": ".py",
   "mimetype": "text/x-python",
   "name": "python",
   "nbconvert_exporter": "python",
   "pygments_lexer": "ipython3",
   "version": "3.9.7"
  },
  "toc": {
   "base_numbering": 1,
   "nav_menu": {},
   "number_sections": true,
   "sideBar": true,
   "skip_h1_title": true,
   "title_cell": "Table of Contents",
   "title_sidebar": "Contents",
   "toc_cell": false,
   "toc_position": {},
   "toc_section_display": true,
   "toc_window_display": false
  },
  "varInspector": {
   "cols": {
    "lenName": 16,
    "lenType": 16,
    "lenVar": 40
   },
   "kernels_config": {
    "python": {
     "delete_cmd_postfix": "",
     "delete_cmd_prefix": "del ",
     "library": "var_list.py",
     "varRefreshCmd": "print(var_dic_list())"
    },
    "r": {
     "delete_cmd_postfix": ") ",
     "delete_cmd_prefix": "rm(",
     "library": "var_list.r",
     "varRefreshCmd": "cat(var_dic_list()) "
    }
   },
   "types_to_exclude": [
    "module",
    "function",
    "builtin_function_or_method",
    "instance",
    "_Feature"
   ],
   "window_display": false
  }
 },
 "nbformat": 4,
 "nbformat_minor": 2
}
