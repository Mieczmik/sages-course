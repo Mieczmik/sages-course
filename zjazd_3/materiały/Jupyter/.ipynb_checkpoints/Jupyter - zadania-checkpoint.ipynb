{
 "cells": [
  {
   "cell_type": "markdown",
   "metadata": {},
   "source": [
    "# Jupyter Notebook – zadania"
   ]
  },
  {
   "cell_type": "markdown",
   "metadata": {},
   "source": [
    "Aby nabrać wprawy w korzystaniu ze skrótów klawiszowych w JN wykonaj poniższe zadania. **Nie używaj do tego myszki / touchpada.**\n",
    "\n",
    "Czas na wykonanie: około 10 minut."
   ]
  },
  {
   "cell_type": "markdown",
   "metadata": {},
   "source": [
    "## Uruchamianie kodu\n",
    "\n",
    "Uruchom poniższy kod. Popraw błąd jaki się tam znajduje tak aby kod uruchamiał się poprawnie."
   ]
  },
  {
   "cell_type": "code",
   "execution_count": null,
   "metadata": {},
   "outputs": [],
   "source": [
    "x = 2\n",
    "y == 3"
   ]
  },
  {
   "cell_type": "code",
   "execution_count": null,
   "metadata": {},
   "outputs": [],
   "source": [
    "print(x + y)"
   ]
  },
  {
   "cell_type": "markdown",
   "metadata": {},
   "source": [
    "## Uruchamianie oraz dopisanie kodu\n",
    "\n",
    "Uruchom poniższy kod. Pomiędzy dwie komórki wstaw nową, w której zdefiniujesz brakujące zmienne. Usuń niepotrzebną komórkę, która powoduje błąd."
   ]
  },
  {
   "cell_type": "code",
   "execution_count": null,
   "metadata": {},
   "outputs": [],
   "source": [
    "a = 1"
   ]
  },
  {
   "cell_type": "code",
   "execution_count": null,
   "metadata": {},
   "outputs": [],
   "source": [
    "print(a + b + c)"
   ]
  },
  {
   "cell_type": "code",
   "execution_count": null,
   "metadata": {},
   "outputs": [],
   "source": [
    "raise Exception(\"Ta linijka powoduje błąd\")"
   ]
  },
  {
   "cell_type": "markdown",
   "metadata": {},
   "source": [
    "## Popraw poniższy tekst tak, aby uruchamiał się poprawnie"
   ]
  },
  {
   "cell_type": "code",
   "execution_count": null,
   "metadata": {},
   "outputs": [],
   "source": [
    "### Tutaj jest nagłówek\n",
    "\n",
    "Ten **tekst** został *sformatowany* z wykorzystaniem `Markdown`. "
   ]
  },
  {
   "cell_type": "markdown",
   "metadata": {},
   "source": [
    "## Popraw poniższy kod tak, aby uruchamiał się poprawnie"
   ]
  },
  {
   "cell_type": "markdown",
   "metadata": {},
   "source": [
    "for i in range(4):\n",
    "    print(i)"
   ]
  },
  {
   "cell_type": "markdown",
   "metadata": {},
   "source": [
    "## Sformatuj dowolny tekst z wykorzystaniem Markdown\n",
    "\n",
    "Wypróbuj różne możliwości formatowania Markdown, również takie o których nie mówiliśmy. Poświęc na to zadanie co najmniej 5 minut. Jeśli potrzebujesz inspiracji:\n",
    "\n",
    "- spróbuj umiejścić w komórce dowolny obrazek\n",
    "- spróbuj w dowolnym słowie umieścić link do jakiejś strony internetowej, ale tak żeby ten link nie był jawnie w tekście"
   ]
  },
  {
   "cell_type": "code",
   "execution_count": null,
   "metadata": {},
   "outputs": [],
   "source": []
  }
 ],
 "metadata": {
  "kernelspec": {
   "display_name": "Python 3",
   "language": "python",
   "name": "python3"
  },
  "language_info": {
   "codemirror_mode": {
    "name": "ipython",
    "version": 3
   },
   "file_extension": ".py",
   "mimetype": "text/x-python",
   "name": "python",
   "nbconvert_exporter": "python",
   "pygments_lexer": "ipython3",
   "version": "3.8.5"
  },
  "toc": {
   "base_numbering": 1,
   "nav_menu": {},
   "number_sections": true,
   "sideBar": true,
   "skip_h1_title": true,
   "title_cell": "Table of Contents",
   "title_sidebar": "Contents",
   "toc_cell": false,
   "toc_position": {},
   "toc_section_display": true,
   "toc_window_display": false
  }
 },
 "nbformat": 4,
 "nbformat_minor": 4
}
