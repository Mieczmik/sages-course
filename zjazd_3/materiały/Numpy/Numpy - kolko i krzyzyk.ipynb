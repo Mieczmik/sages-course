{
 "cells": [
  {
   "cell_type": "markdown",
   "metadata": {
    "tags": []
   },
   "source": [
    "# Gra w kółko i krzyżyk\n",
    "\n",
    "Korzystając z poniższych wytycznych zaimplementuj kolejne etapy gry w kółko i krzyżyk. Będziemy stosować się do następujących wytycznych:\n",
    "- plansza do gry to macierz stringów 3x3 \n",
    "- pozycje na planszy są wyznaczane przez współrzędne (y, x), analogiczne jak podczas odnoszenia się do danego elementu macierzy\n",
    "- w podstawowej wersji gry będzie uczestniczyć dwóch graczy-ludzi. Można również zaprogramować rozgrywkę z komputerem"
   ]
  },
  {
   "cell_type": "code",
   "execution_count": 1,
   "metadata": {},
   "outputs": [],
   "source": [
    "import numpy as np \n",
    "import re\n",
    "from IPython.display import clear_output"
   ]
  },
  {
   "cell_type": "markdown",
   "metadata": {},
   "source": [
    "## Wygenerowanie pustej planszy\n",
    "\n",
    "Napisz funkcję `generate_board` która zwróci pustą planszę do gry. Powinna to być macierz stringów 3x3. Niech puste pole będzie oznaczone przez kropkę: \".\"."
   ]
  },
  {
   "cell_type": "code",
   "execution_count": 2,
   "metadata": {},
   "outputs": [],
   "source": [
    "def generate_board():\n",
    "    return np.full((3, 3), \".\")"
   ]
  },
  {
   "cell_type": "markdown",
   "metadata": {},
   "source": [
    "## Kładzenie na planszy nowych elementów\n",
    "\n",
    "Napisz funkcję `put_item_on_board`, która będzie przyjmować oraz zwracać następujące wartości:\n",
    "\n",
    "###### Inputy:\n",
    "- `board`: plansza przechowująca aktualny stan rozgrywki\n",
    "- `coordinates`: tuple ze współrzędnymi (y, x) na których chcemy położyć kolejny element\n",
    "- `mark`: litera x lub o, w zależności od tego jaki znaczek chcemy położyć\n",
    "\n",
    "###### Outputy:\n",
    "- `board`: zaktualizowana plansza\n",
    "- `is_success`: zmienna logiczna zależna od tego czy położenie nowego elementu odbyło się prawidłowo (podpowiedź: jeśli będziemy próbowali położyć element na zajętym polu to wartość tego outputa będzie równa `False`)\n",
    "\n",
    "Podpowiedź:\n",
    "Żeby odwołać się do konkretnego elementu macierzy możemy do kwadratowych nawiasów podać bezpośrednio tuple:\n",
    "\n",
    "`x = A[(1, 2)]`"
   ]
  },
  {
   "cell_type": "code",
   "execution_count": 3,
   "metadata": {},
   "outputs": [],
   "source": [
    "def put_item_on_board(board, coordinates, mark):\n",
    "    if board[coordinates] == \".\":\n",
    "        board[coordinates] = mark\n",
    "        is_success = True\n",
    "    else:\n",
    "        is_success = False\n",
    "    return board, is_success"
   ]
  },
  {
   "cell_type": "markdown",
   "metadata": {},
   "source": [
    "## Sprawdzenie czy po ruchu gracza należy zakończyć grę\n",
    "\n",
    "Napisz funkcję `check_if_game_over` która sprawdzi czy gra powinna się zakończyć. Powinna ona przyjmować oraz zwracać:\n",
    "\n",
    "###### Input:\n",
    "- `board`: plansza ze stanem rozgrywki po ruchu\n",
    "\n",
    "###### Output:\n",
    "- `is_game_over`: zmienna logiczna która określi czy gra się powinna już skończyć czy jeszcze nie"
   ]
  },
  {
   "cell_type": "code",
   "execution_count": 45,
   "metadata": {},
   "outputs": [],
   "source": [
    "def check_if_game_over(board):\n",
    "    is_game_over = False\n",
    "    for j in range(np.shape(board)[1]):\n",
    "        for i in range(np.shape(board)[0]):\n",
    "            if all((elem == \"x\" or elem == \"o\") for elem in board[i,:]):\n",
    "                is_game_over = True\n",
    "    for i in range(np.shape(board)[0]):\n",
    "        for j in range(np.shape(board)[1]):\n",
    "            if all((elem == \"x\" or elem == \"o\") for elem in board[:,j]):\n",
    "                is_game_over = True\n",
    "    diag1 = []\n",
    "    diag2 = []\n",
    "    for i in range(len(board)):\n",
    "        diag1.append(board[i, i])\n",
    "        diag2.append(board[i, len(board) - (i + 1)])\n",
    "    if (all((elem == \"x\" or elem == \"o\") for elem in diag1) \n",
    "        or all((elem == \"x\" or elem == \"o\") for elem in diag2)):\n",
    "        is_game_over = True\n",
    "    return is_game_over"
   ]
  },
  {
   "cell_type": "markdown",
   "metadata": {},
   "source": [
    "## Pobranie od gracza współrzędnych\n",
    "\n",
    "Napisz funkcję `get_coordinates_from_player` , która pobierze od gracza współrzędne na których chce położyć swój znaczek. Skorzystaj w niej z wbudowanej funkcji Pythona `input()`. \n",
    "\n",
    "Funkcja ta jako argument będzie przyjmować \"x\" albo \"o\" aby wiedzieć kto w danej chwili ma wykonać ruch. Będzie ona zwracać wybrane współrzędne jako tuple."
   ]
  },
  {
   "cell_type": "code",
   "execution_count": 5,
   "metadata": {},
   "outputs": [],
   "source": [
    "def get_coordinates_from_player(mark):\n",
    "    coordinates = tuple(map(int, re.findall('[0-2]', input(f'{mark} plays. Enter the field:'))))\n",
    "    if len(coordinates) == 2:\n",
    "        return coordinates\n",
    "    else:\n",
    "        print(\"Something went wrong. Try again:\")\n",
    "        return get_coordinates_from_player(mark)\n",
    "    "
   ]
  },
  {
   "cell_type": "markdown",
   "metadata": {},
   "source": [
    "## Napisz kod, który pozwoli zagrać w kółko i krzyżyk\n",
    "\n",
    "Wykorzystaj napisane wcześniej funkcje. Przyda się również funkcja `clear_output` którą zaimportujesz w następujący sposób:\n",
    "\n",
    "`from IPython.display import clear_output`\n",
    "\n",
    "Służy ona do czyszczenia tego co znajduje się na wyjściu komórki JN. Dzięki takiemu czyszczeniu w każdej turze będziemy mogli widzieć tylko aktualny stan planszy.\n",
    "\n",
    "Całość gry zamknij w pętli `while` dzięki czemu gra będzie się toczyć tak długo aż celowo nie wyjdziesz z pętli."
   ]
  },
  {
   "cell_type": "code",
   "execution_count": null,
   "metadata": {},
   "outputs": [
    {
     "name": "stdout",
     "output_type": "stream",
     "text": [
      "[['.' '.' '.']\n",
      " ['.' 'o' '.']\n",
      " ['.' '.' '.']] \n",
      "\n"
     ]
    }
   ],
   "source": [
    "board = generate_board()\n",
    "mark = input('Which player starts? Pick \"x\" or \"o\".').lower()\n",
    "print(board, '\\n')\n",
    "coordinates = get_coordinates_from_player(mark)\n",
    "clear_output()\n",
    "put_item = put_item_on_board(board, coordinates, mark)\n",
    "\n",
    "while check_if_game_over(board) == False:\n",
    "    if put_item[1] == False:\n",
    "        while not(put_item[1]):\n",
    "            print('Chosen field is taken. Try again.')\n",
    "            coordinates = get_coordinates_from_player(mark)\n",
    "            put_item = put_item_on_board(board, coordinates, mark)\n",
    "    board = put_item[0]\n",
    "    print(board, '\\n')\n",
    "    if mark == 'x':\n",
    "        mark = 'o'\n",
    "    else:\n",
    "        mark = 'x'\n",
    "    coordinates = get_coordinates_from_player(mark)\n",
    "    put_item = put_item_on_board(board, coordinates, mark)\n",
    "    clear_output()\n",
    "print(board, '\\n')\n",
    "print(f'{mark} won!')    "
   ]
  }
 ],
 "metadata": {
  "kernelspec": {
   "display_name": "Python 3 (ipykernel)",
   "language": "python",
   "name": "python3"
  },
  "language_info": {
   "codemirror_mode": {
    "name": "ipython",
    "version": 3
   },
   "file_extension": ".py",
   "mimetype": "text/x-python",
   "name": "python",
   "nbconvert_exporter": "python",
   "pygments_lexer": "ipython3",
   "version": "3.9.7"
  },
  "toc": {
   "base_numbering": 1,
   "nav_menu": {},
   "number_sections": true,
   "sideBar": true,
   "skip_h1_title": true,
   "title_cell": "Table of Contents",
   "title_sidebar": "Contents",
   "toc_cell": false,
   "toc_position": {},
   "toc_section_display": true,
   "toc_window_display": false
  }
 },
 "nbformat": 4,
 "nbformat_minor": 4
}
