{
 "cells": [
  {
   "cell_type": "markdown",
   "metadata": {},
   "source": [
    "# Numpy – klasteryzacja"
   ]
  },
  {
   "cell_type": "markdown",
   "metadata": {},
   "source": [
    "Zaimplementuj z wykorzystaniem biblioteki numpy algorytm K-means clustering, który służy do automatycznego wykrywania klastrów (skupisk) punktów w przestrzeni, np. dwuwymiarowej (lub innej). Objaśnienie zasady działania znajdziesz poniżej."
   ]
  },
  {
   "cell_type": "markdown",
   "metadata": {},
   "source": [
    "## Reguły\n",
    "### Wyjaśnienie działania klasteryzacji na przykładzie algorytmu K-means clustering"
   ]
  },
  {
   "cell_type": "markdown",
   "metadata": {},
   "source": [
    "Klasteryzacja jest jedną z metod nienadzorowanego uczenia maszynowego. W tym zadaniu omówimy sobie ten algorytm na potrzeby zaimplementowania go z wykorzystaniem numpy. W praktyce tego typu algorytmy są już zaimplementowane w innych bibliotekach i możesz korzystać z gotowych rozwiązań. Teraz jednak spróbujemy zrobić to samodzielnie."
   ]
  },
  {
   "cell_type": "markdown",
   "metadata": {},
   "source": [
    "### Generacja sztucznych danych\n",
    "\n",
    "Poniższy kod generuje dane, które zapiszemy do zmiennej `data` a następnie wizualizuje je na wykresie."
   ]
  },
  {
   "cell_type": "code",
   "execution_count": 1,
   "metadata": {},
   "outputs": [
    {
     "data": {
      "image/png": "[encoded data removed]",
      "text/plain": [
       "<Figure size 432x288 with 1 Axes>"
      ]
     },
     "metadata": {
      "needs_background": "light"
     },
     "output_type": "display_data"
    }
   ],
   "source": [
    "import matplotlib.pyplot as plt\n",
    "from sklearn.datasets import make_blobs\n",
    "\n",
    "data = make_blobs(n_samples=50, n_features=2, centers=4, cluster_std=0.9, random_state=101)\n",
    "\n",
    "plt.scatter(data[0][:,0], data[0][:,1], c=data[1], cmap='rainbow')\n",
    "plt.show()"
   ]
  },
  {
   "cell_type": "markdown",
   "metadata": {},
   "source": [
    "Jak widzisz, dane tworzą kilka skupisk, które zostały zaznaczone różnymi kolorami. Przyjrzyjmy się zmiennej `data` aby zrozumieć lepiej co kryje się w naszych danych"
   ]
  },
  {
   "cell_type": "code",
   "execution_count": 2,
   "metadata": {
    "scrolled": true
   },
   "outputs": [
    {
     "data": {
      "text/plain": [
       "(array([[ -3.21196677,   6.77148776],\n",
       "        [  2.76343805,   7.84142537],\n",
       "        [ -0.51194094,   2.2729026 ],\n",
       "        [ -9.87790909,  -7.24822961],\n",
       "        [ -3.26098822,   7.38785043],\n",
       "        [  0.20661591,   1.7648268 ],\n",
       "        [ -4.00695687,   8.30948946],\n",
       "        [  3.8739517 ,   6.01837662],\n",
       "        [ -5.6360202 ,   7.09206506],\n",
       "        [  2.68510419,   7.22736737],\n",
       "        [-10.27958123,  -6.13329039],\n",
       "        [ -3.82336166,   7.50231173],\n",
       "        [ -8.50712973,  -6.71050499],\n",
       "        [  2.38477702,   6.23325143],\n",
       "        [  3.36667283,   6.88523996],\n",
       "        [ -4.37239883,   9.13886602],\n",
       "        [ -7.49115367,  -7.11879985],\n",
       "        [  0.49779833,   0.73036689],\n",
       "        [ -8.927623  ,  -5.64723762],\n",
       "        [ -9.29819138,  -7.00107011],\n",
       "        [ -1.48837887,   2.07946159],\n",
       "        [  0.47818673,   1.57940341],\n",
       "        [  2.67334311,   2.02850973],\n",
       "        [  0.8039047 ,   0.88325126],\n",
       "        [  0.49968744,   3.19423333],\n",
       "        [-10.11030828,  -6.88134353],\n",
       "        [  3.6774952 ,   8.42387633],\n",
       "        [-10.4534956 ,  -6.56923704],\n",
       "        [  4.05296691,   8.55355393],\n",
       "        [-10.32445262,  -6.39244732],\n",
       "        [ -9.53561146,  -4.85798756],\n",
       "        [  0.90288087,   1.71003341],\n",
       "        [  4.57085197,   4.75084619],\n",
       "        [ -4.21271657,   8.79772544],\n",
       "        [  1.05490788,   1.47901545],\n",
       "        [  2.80087141,   6.01032652],\n",
       "        [ -2.41457373,   6.86812262],\n",
       "        [  4.59885574,   7.75095383],\n",
       "        [ -3.28305065,   7.05767168],\n",
       "        [ -3.50743568,   8.07160321],\n",
       "        [ -4.63035204,   9.26005296],\n",
       "        [ -0.43529673,   1.95872055],\n",
       "        [  4.318628  ,   7.60954982],\n",
       "        [ -9.21620121,  -4.77257982],\n",
       "        [ -1.20750478,   0.37014426],\n",
       "        [  0.60037146,   2.93770237],\n",
       "        [  2.46091155,   8.0121832 ],\n",
       "        [-10.2638023 ,  -4.89298915],\n",
       "        [ -9.4589367 ,  -5.98472363],\n",
       "        [ -5.10751631,   6.67556754]]),\n",
       " array([3, 2, 0, 1, 3, 0, 3, 2, 3, 2, 1, 3, 1, 2, 2, 3, 1, 0, 1, 1, 0, 0,\n",
       "        0, 0, 0, 1, 2, 1, 2, 1, 1, 0, 2, 3, 0, 2, 3, 2, 3, 3, 3, 0, 2, 1,\n",
       "        0, 0, 2, 1, 1, 3]))"
      ]
     },
     "execution_count": 2,
     "metadata": {},
     "output_type": "execute_result"
    }
   ],
   "source": [
    "data"
   ]
  },
  {
   "cell_type": "markdown",
   "metadata": {},
   "source": [
    "Kiedy przyjrzymy się im bliżej, zobaczymy że dane to `tuple`, którego pierwszym (zerowym) elementem jest dwuwymiarowa tablica `ndarray` ze współrzędnymi punktów (x, y) a drugim (pierwszym) elementem jest jednowymiarowy wektor oznaczający numery klastrów do jakich należą poszczególne punkty. Tutaj z góry znamy podział na klastry, w rzeczywistości jednak nie będziemy mieć takiej wiedzy.\n",
    "\n",
    "Poniżej wydzielone zostały poszczególne części struktury `data`. Punkty, które masz za zadanie pogrupować w klastry to `data_points`. Użyj `data_clusters` jako odniesienia dla swoich wyników. Pamiętaj, że numery id klastrów są arbitralne i mogą zostać zamienione, np. wszystkie 1 to 3 a wszystkie 3 to 1."
   ]
  },
  {
   "cell_type": "code",
   "execution_count": 3,
   "metadata": {},
   "outputs": [],
   "source": [
    "data_points = data[0]\n",
    "data_clusters = data[1]"
   ]
  },
  {
   "cell_type": "code",
   "execution_count": 4,
   "metadata": {},
   "outputs": [
    {
     "data": {
      "text/plain": [
       "array([[ -3.21196677,   6.77148776],\n",
       "       [  2.76343805,   7.84142537],\n",
       "       [ -0.51194094,   2.2729026 ],\n",
       "       [ -9.87790909,  -7.24822961],\n",
       "       [ -3.26098822,   7.38785043],\n",
       "       [  0.20661591,   1.7648268 ],\n",
       "       [ -4.00695687,   8.30948946],\n",
       "       [  3.8739517 ,   6.01837662],\n",
       "       [ -5.6360202 ,   7.09206506],\n",
       "       [  2.68510419,   7.22736737],\n",
       "       [-10.27958123,  -6.13329039],\n",
       "       [ -3.82336166,   7.50231173],\n",
       "       [ -8.50712973,  -6.71050499],\n",
       "       [  2.38477702,   6.23325143],\n",
       "       [  3.36667283,   6.88523996],\n",
       "       [ -4.37239883,   9.13886602],\n",
       "       [ -7.49115367,  -7.11879985],\n",
       "       [  0.49779833,   0.73036689],\n",
       "       [ -8.927623  ,  -5.64723762],\n",
       "       [ -9.29819138,  -7.00107011],\n",
       "       [ -1.48837887,   2.07946159],\n",
       "       [  0.47818673,   1.57940341],\n",
       "       [  2.67334311,   2.02850973],\n",
       "       [  0.8039047 ,   0.88325126],\n",
       "       [  0.49968744,   3.19423333],\n",
       "       [-10.11030828,  -6.88134353],\n",
       "       [  3.6774952 ,   8.42387633],\n",
       "       [-10.4534956 ,  -6.56923704],\n",
       "       [  4.05296691,   8.55355393],\n",
       "       [-10.32445262,  -6.39244732],\n",
       "       [ -9.53561146,  -4.85798756],\n",
       "       [  0.90288087,   1.71003341],\n",
       "       [  4.57085197,   4.75084619],\n",
       "       [ -4.21271657,   8.79772544],\n",
       "       [  1.05490788,   1.47901545],\n",
       "       [  2.80087141,   6.01032652],\n",
       "       [ -2.41457373,   6.86812262],\n",
       "       [  4.59885574,   7.75095383],\n",
       "       [ -3.28305065,   7.05767168],\n",
       "       [ -3.50743568,   8.07160321],\n",
       "       [ -4.63035204,   9.26005296],\n",
       "       [ -0.43529673,   1.95872055],\n",
       "       [  4.318628  ,   7.60954982],\n",
       "       [ -9.21620121,  -4.77257982],\n",
       "       [ -1.20750478,   0.37014426],\n",
       "       [  0.60037146,   2.93770237],\n",
       "       [  2.46091155,   8.0121832 ],\n",
       "       [-10.2638023 ,  -4.89298915],\n",
       "       [ -9.4589367 ,  -5.98472363],\n",
       "       [ -5.10751631,   6.67556754]])"
      ]
     },
     "execution_count": 4,
     "metadata": {},
     "output_type": "execute_result"
    }
   ],
   "source": [
    "data_points "
   ]
  },
  {
   "cell_type": "code",
   "execution_count": 5,
   "metadata": {},
   "outputs": [
    {
     "data": {
      "text/plain": [
       "array([3, 2, 0, 1, 3, 0, 3, 2, 3, 2, 1, 3, 1, 2, 2, 3, 1, 0, 1, 1, 0, 0,\n",
       "       0, 0, 0, 1, 2, 1, 2, 1, 1, 0, 2, 3, 0, 2, 3, 2, 3, 3, 3, 0, 2, 1,\n",
       "       0, 0, 2, 1, 1, 3])"
      ]
     },
     "execution_count": 5,
     "metadata": {},
     "output_type": "execute_result"
    }
   ],
   "source": [
    "data_clusters"
   ]
  },
  {
   "cell_type": "markdown",
   "metadata": {},
   "source": [
    "### Pomocnicze pojęcie - centroid"
   ]
  },
  {
   "cell_type": "markdown",
   "metadata": {},
   "source": [
    "Zanim przejdziemy do omówienia algorytmu musimy zrozumieć czym jest centroid. Jest to pojęcie, które można dość intuicyjnie zrozumieć jako środek cieżkości zbioru punktów. Dla przestrzeni 2 wymiarowej i zbioru trzech punktów:\n",
    "\n",
    "$$A = (x_1, y_1)$$\n",
    "\n",
    "$$B = (x_2, y_2)$$\n",
    "\n",
    "$$C = (x_3, y_3)$$\n",
    "\n",
    "ich centroid to punkt wyznaczający geometryczny środek rozkładu:\n",
    "\n",
    "$$centroid = ( (x_1 + x_2 + x_3)/3 , (y_1 + y_2 + y_3)/3 )$$\n",
    "\n",
    "Innymi słowy jest to punkt, którego współrzędna x to średnia arytmetyczna współrzędnych x wszystkich punktów rozkładu i analogicznie dla współrzędnej y."
   ]
  },
  {
   "cell_type": "markdown",
   "metadata": {},
   "source": [
    "### Klasteryzacja\n",
    "\n",
    "W metodzie K-means clustering aby przypisać numery klastrów poszczególnym punktom musimy wykonać następujący algorytm:\n",
    "\n",
    "1. Określ z góry ile klastrów się spodziewasz otrzymać.\n",
    "2. Przypisz każdemu punktowi losowy klaster (np. dla spodziewanych 4 klastrów ich numery id to 0, 1, 2, 3).\n",
    "3. Wyznacz centroid każdego klastra (centroid zbioru wszystkich punktów należących do kolejnych klastrów).\n",
    "4. Każdemu punktowi przypisz ponownie numer klastra. Tym razem nie będzie to losowe - każdy punkt powinien mieć taki numer klastra do którego centroidu ma najbliżej.\n",
    "5. Powtarzaj punkty 3 oraz 4 tak długo aż w kolejnych iteracjach żaden punkt nie będzie zmieniał swojego klastra."
   ]
  },
  {
   "cell_type": "code",
   "execution_count": 6,
   "metadata": {
    "scrolled": true
   },
   "outputs": [],
   "source": [
    "import numpy as np\n",
    "\n",
    "# ..."
   ]
  },
  {
   "cell_type": "code",
   "execution_count": 7,
   "metadata": {},
   "outputs": [],
   "source": [
    "n_clusters = 4"
   ]
  },
  {
   "cell_type": "code",
   "execution_count": 8,
   "metadata": {},
   "outputs": [],
   "source": [
    "clusters = [i for i in range(4)]"
   ]
  },
  {
   "cell_type": "code",
   "execution_count": 9,
   "metadata": {},
   "outputs": [],
   "source": [
    "data_points;"
   ]
  },
  {
   "cell_type": "code",
   "execution_count": 10,
   "metadata": {},
   "outputs": [],
   "source": [
    "np.random.seed(1)\n",
    "data_clusters = np.random.choice(clusters, size = len(data_points))"
   ]
  },
  {
   "cell_type": "code",
   "execution_count": 11,
   "metadata": {},
   "outputs": [],
   "source": [
    "# new_clusters = np.ones(len(data_clusters))\n",
    "# while any(new_clusters != data_clusters):\n",
    "    \n",
    "#     if not(all(new_clusters)):\n",
    "#         data_clusters = new_clusters\n",
    "#     new_clusters = np.array([])\n",
    "    \n",
    "#     data_by_clusters = [data_points[data_clusters == i] for i in range(n_clusters)]\n",
    "#     centroids = [np.average(data_by_clusters[i], axis=0) for i in range(n_clusters)]\n",
    "    \n",
    "#     for elem in data_points:\n",
    "#         temp_list = []\n",
    "#         for el in centroids:\n",
    "#             temp_list.append(np.linalg.norm(elem - el))\n",
    "#         new_clusters = np.append(new_clusters, np.argmin(temp_list))\n",
    "    "
   ]
  },
  {
   "cell_type": "code",
   "execution_count": 17,
   "metadata": {},
   "outputs": [],
   "source": [
    "#Poprawione rozwiazanie\n",
    "\n",
    "new_clusters = np.ones(len(data_clusters))\n",
    "while any(new_clusters != data_clusters):\n",
    "    \n",
    "    if not(all(new_clusters)):\n",
    "        data_clusters = new_clusters.copy()\n",
    "    \n",
    "    data_by_clusters = [data_points[data_clusters == i] for i in range(n_clusters)]\n",
    "    centroids = [np.average(data_by_clusters[i], axis=0) for i in range(n_clusters)]\n",
    "    \n",
    "    for i, elem in enumerate(data_points):\n",
    "        distance = [np.linalg.norm(elem - el) for el in centroids]\n",
    "        new_clusters[i] = np.argmin(distance)"
   ]
  },
  {
   "cell_type": "markdown",
   "metadata": {},
   "source": [
    "Wynik klastrowania niech będzie wektorem, który dla każdego punktu z tablicy `data_poins` będzie przechowywał informacje o numerze klastra. Nazwijmy ten wektor `new_clusters`."
   ]
  },
  {
   "cell_type": "markdown",
   "metadata": {},
   "source": [
    "## Sprawdzenie rozwiązania\n",
    "\n",
    "Utwórzmy zmienną `data2` na podstawie zmiennych `data_points` i `new_clusters`"
   ]
  },
  {
   "cell_type": "code",
   "execution_count": 18,
   "metadata": {},
   "outputs": [],
   "source": [
    "data2 = (data_points, new_clusters)"
   ]
  },
  {
   "cell_type": "markdown",
   "metadata": {},
   "source": [
    "Sprawdźmy jak wygląda to na wykresie"
   ]
  },
  {
   "cell_type": "code",
   "execution_count": 19,
   "metadata": {},
   "outputs": [
    {
     "data": {
      "image/png": "[encoded data removed]",
      "text/plain": [
       "<Figure size 432x288 with 1 Axes>"
      ]
     },
     "metadata": {
      "needs_background": "light"
     },
     "output_type": "display_data"
    }
   ],
   "source": [
    "plt.scatter(data2[0][:,0],data2[0][:,1], c=data2[1], cmap='rainbow')\n",
    "plt.show()"
   ]
  },
  {
   "cell_type": "code",
   "execution_count": 15,
   "metadata": {},
   "outputs": [
    {
     "data": {
      "text/plain": [
       "array([3., 1., 2., 0., 3., 2., 3., 1., 3., 1., 0., 3., 0., 1., 1., 3., 0.,\n",
       "       2., 0., 0., 2., 2., 1., 2., 1., 0., 1., 0., 1., 0., 0., 2., 1., 3.,\n",
       "       2., 1., 3., 1., 3., 3., 3., 2., 1., 0., 2., 1., 1., 0., 0., 3.])"
      ]
     },
     "execution_count": 15,
     "metadata": {},
     "output_type": "execute_result"
    }
   ],
   "source": [
    "new_clusters"
   ]
  },
  {
   "cell_type": "code",
   "execution_count": 16,
   "metadata": {},
   "outputs": [
    {
     "data": {
      "text/plain": [
       "array([3., 1., 2., 0., 3., 2., 3., 1., 3., 1., 0., 3., 0., 1., 1., 3., 0.,\n",
       "       2., 0., 0., 2., 2., 1., 2., 1., 0., 1., 0., 1., 0., 0., 2., 1., 3.,\n",
       "       2., 1., 3., 1., 3., 3., 3., 2., 1., 0., 2., 1., 1., 0., 0., 3.])"
      ]
     },
     "execution_count": 16,
     "metadata": {},
     "output_type": "execute_result"
    }
   ],
   "source": [
    "data_clusters"
   ]
  },
  {
   "cell_type": "code",
   "execution_count": null,
   "metadata": {},
   "outputs": [],
   "source": []
  }
 ],
 "metadata": {
  "kernelspec": {
   "display_name": "Python 3 (ipykernel)",
   "language": "python",
   "name": "python3"
  },
  "language_info": {
   "codemirror_mode": {
    "name": "ipython",
    "version": 3
   },
   "file_extension": ".py",
   "mimetype": "text/x-python",
   "name": "python",
   "nbconvert_exporter": "python",
   "pygments_lexer": "ipython3",
   "version": "3.9.7"
  },
  "toc": {
   "base_numbering": 1,
   "nav_menu": {},
   "number_sections": true,
   "sideBar": true,
   "skip_h1_title": true,
   "title_cell": "Table of Contents",
   "title_sidebar": "Contents",
   "toc_cell": false,
   "toc_position": {},
   "toc_section_display": true,
   "toc_window_display": false
  }
 },
 "nbformat": 4,
 "nbformat_minor": 4
}
