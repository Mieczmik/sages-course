{
 "cells": [
  {
   "cell_type": "code",
   "execution_count": 1,
   "id": "7473f1c4-f072-4ae0-9fd9-e553bdfe18e1",
   "metadata": {},
   "outputs": [],
   "source": [
    "from sklearn.datasets import load_breast_cancer"
   ]
  },
  {
   "cell_type": "code",
   "execution_count": 7,
   "id": "1effd06a-244a-47a0-831b-c643d5546ba1",
   "metadata": {},
   "outputs": [],
   "source": [
    "data = load_breast_cancer()\n",
    "\n",
    "X = data.data\n",
    "y = data.target"
   ]
  },
  {
   "cell_type": "code",
   "execution_count": 5,
   "id": "f55375bc-218c-4e89-b3a4-eb21b1537477",
   "metadata": {},
   "outputs": [
    {
     "data": {
      "text/plain": [
       "(569, 30)"
      ]
     },
     "execution_count": 5,
     "metadata": {},
     "output_type": "execute_result"
    }
   ],
   "source": [
    "X.shape"
   ]
  },
  {
   "cell_type": "code",
   "execution_count": 14,
   "id": "11ac1f53-f024-4ed1-9775-b8cfa8b46ab5",
   "metadata": {},
   "outputs": [],
   "source": [
    "from sklearn.linear_model import LogisticRegression"
   ]
  },
  {
   "cell_type": "code",
   "execution_count": 15,
   "id": "a53689f4-3157-4410-9399-e1d2d658bf3c",
   "metadata": {},
   "outputs": [],
   "source": [
    "model = LogisticRegression(\"none\")"
   ]
  },
  {
   "cell_type": "code",
   "execution_count": 16,
   "id": "9a8bfb1e-a4cc-4618-aedb-788051bd8aad",
   "metadata": {},
   "outputs": [
    {
     "name": "stderr",
     "output_type": "stream",
     "text": [
      "/home/mikolaj/.local/lib/python3.9/site-packages/sklearn/linear_model/_logistic.py:814: ConvergenceWarning: lbfgs failed to converge (status=1):\n",
      "STOP: TOTAL NO. of ITERATIONS REACHED LIMIT.\n",
      "\n",
      "Increase the number of iterations (max_iter) or scale the data as shown in:\n",
      "    https://scikit-learn.org/stable/modules/preprocessing.html\n",
      "Please also refer to the documentation for alternative solver options:\n",
      "    https://scikit-learn.org/stable/modules/linear_model.html#logistic-regression\n",
      "  n_iter_i = _check_optimize_result(\n"
     ]
    },
    {
     "data": {
      "text/plain": [
       "LogisticRegression(penalty='none')"
      ]
     },
     "execution_count": 16,
     "metadata": {},
     "output_type": "execute_result"
    }
   ],
   "source": [
    "model.fit(X, y)"
   ]
  },
  {
   "cell_type": "code",
   "execution_count": 17,
   "id": "bf487e35-9dc5-4c03-95af-461b12e14c95",
   "metadata": {},
   "outputs": [],
   "source": [
    "# ConvergenceWarnining - współczynnikiwyznaczane są iteracyjne. Iteracji było za mało do wyznaczenia wszystkich współczynników."
   ]
  },
  {
   "cell_type": "code",
   "execution_count": 20,
   "id": "5a645f9d-ce06-46e5-8dca-718ea3387122",
   "metadata": {},
   "outputs": [],
   "source": [
    "model = LogisticRegression(\"none\", max_iter = 10000)"
   ]
  },
  {
   "cell_type": "code",
   "execution_count": 21,
   "id": "ff1a7560-1140-4d6a-a8d6-b64d64d99376",
   "metadata": {},
   "outputs": [
    {
     "data": {
      "text/plain": [
       "LogisticRegression(max_iter=10000, penalty='none')"
      ]
     },
     "execution_count": 21,
     "metadata": {},
     "output_type": "execute_result"
    }
   ],
   "source": [
    "model.fit(X, y)"
   ]
  },
  {
   "cell_type": "code",
   "execution_count": 22,
   "id": "d88445b7-3c57-4fce-b897-15abba6b399f",
   "metadata": {},
   "outputs": [
    {
     "data": {
      "text/plain": [
       "array([[ 2.25619764e+00, -7.86601644e-02,  3.23453588e-01,\n",
       "        -3.27056311e-02, -1.68488714e+01,  8.04355267e+00,\n",
       "        -1.66244473e+01, -3.19873059e+01, -1.78574249e+00,\n",
       "         3.88094969e+00,  1.58790678e+00,  2.39958235e+00,\n",
       "         8.32349146e-01, -2.96391751e-01, -3.68495580e+00,\n",
       "         3.08565447e+01,  3.83232513e+01, -2.12496229e+00,\n",
       "         7.80669374e+00,  5.66548356e+00, -1.45901049e+00,\n",
       "        -4.80712745e-01, -1.41259560e-01,  4.65546523e-03,\n",
       "        -3.67791953e+01,  1.13889826e+01, -1.23896840e+01,\n",
       "        -5.36195332e+01, -1.02014777e+01,  3.23692851e+00]])"
      ]
     },
     "execution_count": 22,
     "metadata": {},
     "output_type": "execute_result"
    }
   ],
   "source": [
    "model.coef_"
   ]
  },
  {
   "cell_type": "code",
   "execution_count": 23,
   "id": "7d593b57-37e1-4dd9-80cb-d9f3241443d7",
   "metadata": {},
   "outputs": [
    {
     "data": {
      "text/plain": [
       "array([27.77111592])"
      ]
     },
     "execution_count": 23,
     "metadata": {},
     "output_type": "execute_result"
    }
   ],
   "source": [
    "model.intercept_"
   ]
  },
  {
   "cell_type": "code",
   "execution_count": 24,
   "id": "afb6c9ed-3214-4ce7-b2ba-536c2ae9c75b",
   "metadata": {},
   "outputs": [
    {
     "data": {
      "text/plain": [
       "array([0, 0, 0, 0, 0, 0, 0, 0, 0, 0, 0, 0, 0, 1, 0, 0, 0, 0, 0, 1, 1, 1,\n",
       "       0, 0, 0, 0, 0, 0, 0, 0, 0, 0, 0, 0, 0, 0, 0, 1, 0, 0, 1, 0, 0, 0,\n",
       "       0, 0, 1, 0, 1, 1, 1, 1, 1, 0, 0, 1, 0, 0, 1, 1, 1, 1, 0, 1, 0, 0,\n",
       "       1, 1, 1, 1, 0, 1, 0, 1, 1, 0, 1, 0, 0, 1, 1, 1, 0, 0, 1, 0, 0, 0,\n",
       "       1, 1, 1, 0, 1, 1, 0, 0, 1, 1, 1, 0, 0, 1, 1, 1, 1, 0, 1, 1, 0, 1,\n",
       "       1, 1, 1, 1, 1, 1, 1, 0, 0, 0, 1, 0, 0, 1, 1, 1, 0, 0, 1, 0, 1, 0,\n",
       "       0, 1, 0, 1, 1, 1, 0, 1, 1, 0, 1, 1, 1, 1, 0, 1, 1, 1, 1, 1, 1, 1,\n",
       "       1, 1, 0, 1, 1, 1, 1, 0, 0, 1, 0, 1, 1, 0, 0, 1, 1, 0, 0, 1, 1, 1,\n",
       "       1, 0, 1, 1, 0, 0, 0, 1, 0, 1, 0, 1, 1, 1, 0, 1, 1, 0, 0, 1, 0, 0,\n",
       "       0, 0, 1, 0, 0, 0, 1, 0, 1, 0, 1, 1, 0, 1, 0, 0, 0, 0, 1, 1, 0, 0,\n",
       "       1, 1, 1, 0, 1, 0, 1, 1, 1, 0, 0, 1, 1, 0, 1, 1, 0, 0, 1, 0, 1, 1,\n",
       "       1, 1, 0, 1, 1, 1, 1, 1, 0, 1, 0, 0, 0, 0, 0, 0, 0, 0, 0, 0, 0, 0,\n",
       "       0, 0, 1, 1, 1, 1, 1, 1, 0, 1, 0, 1, 1, 0, 1, 1, 0, 1, 0, 0, 1, 1,\n",
       "       1, 1, 1, 1, 1, 1, 1, 1, 1, 1, 1, 1, 1, 1, 0, 1, 0, 1, 1, 1, 1, 1,\n",
       "       1, 1, 1, 1, 1, 1, 1, 1, 1, 0, 1, 1, 1, 0, 1, 0, 1, 1, 1, 1, 0, 0,\n",
       "       0, 1, 1, 1, 1, 0, 1, 0, 1, 0, 1, 1, 1, 0, 1, 1, 1, 1, 1, 1, 1, 0,\n",
       "       0, 0, 1, 1, 1, 1, 1, 1, 1, 1, 1, 1, 1, 0, 0, 1, 0, 0, 0, 1, 0, 0,\n",
       "       1, 1, 1, 1, 1, 0, 1, 1, 1, 1, 1, 0, 1, 1, 1, 0, 1, 1, 0, 0, 1, 1,\n",
       "       1, 1, 1, 1, 0, 1, 1, 1, 1, 1, 1, 1, 0, 1, 1, 1, 1, 0, 0, 1, 1, 0,\n",
       "       1, 1, 1, 1, 1, 1, 1, 1, 1, 1, 1, 1, 0, 1, 0, 0, 1, 0, 1, 1, 1, 1,\n",
       "       1, 0, 1, 1, 0, 1, 0, 1, 1, 0, 1, 0, 1, 1, 1, 0, 1, 1, 1, 1, 0, 0,\n",
       "       1, 1, 1, 1, 1, 1, 0, 1, 1, 1, 1, 1, 1, 1, 1, 1, 1, 0, 1, 1, 1, 1,\n",
       "       1, 1, 1, 0, 1, 0, 1, 1, 0, 1, 1, 1, 1, 1, 0, 0, 1, 0, 1, 0, 1, 1,\n",
       "       1, 1, 1, 0, 1, 1, 0, 1, 0, 1, 0, 0, 1, 1, 1, 0, 1, 1, 1, 1, 1, 1,\n",
       "       1, 1, 1, 1, 1, 0, 1, 0, 0, 1, 1, 1, 1, 1, 1, 1, 1, 1, 1, 1, 1, 1,\n",
       "       1, 1, 1, 1, 1, 1, 1, 1, 1, 1, 1, 1, 0, 0, 0, 0, 0, 0, 1])"
      ]
     },
     "execution_count": 24,
     "metadata": {},
     "output_type": "execute_result"
    }
   ],
   "source": [
    "model.predict(X)"
   ]
  },
  {
   "cell_type": "code",
   "execution_count": 25,
   "id": "9d8008e9-b665-448a-91a5-6097a61ea0e1",
   "metadata": {},
   "outputs": [
    {
     "data": {
      "text/plain": [
       "array([[1.00000000e+00, 6.05234008e-24],\n",
       "       [1.00000000e+00, 3.27525233e-12],\n",
       "       [1.00000000e+00, 3.07214414e-16],\n",
       "       ...,\n",
       "       [9.99968758e-01, 3.12422736e-05],\n",
       "       [1.00000000e+00, 1.55553276e-20],\n",
       "       [4.17567410e-06, 9.99995824e-01]])"
      ]
     },
     "execution_count": 25,
     "metadata": {},
     "output_type": "execute_result"
    }
   ],
   "source": [
    "model.predict_proba(X)"
   ]
  },
  {
   "cell_type": "code",
   "execution_count": 26,
   "id": "7011c17f-22c0-4b18-9458-33fa0d5b0c13",
   "metadata": {
    "collapsed": true,
    "jupyter": {
     "outputs_hidden": true
    },
    "tags": []
   },
   "outputs": [
    {
     "data": {
      "text/plain": [
       "array([6.05234008e-24, 3.27525233e-12, 3.07214414e-16, 5.53642215e-06,\n",
       "       2.01800777e-11, 1.24368312e-03, 6.10643121e-11, 1.34877489e-04,\n",
       "       2.17109491e-05, 2.41448742e-06, 3.79097733e-04, 2.98713299e-07,\n",
       "       4.35875876e-08, 5.62203279e-01, 6.56385871e-03, 1.80679189e-07,\n",
       "       1.91463023e-07, 5.49222944e-11, 3.82025806e-23, 9.76253673e-01,\n",
       "       9.99992584e-01, 9.99999958e-01, 1.28504703e-05, 8.33783545e-21,\n",
       "       6.31759830e-22, 9.28854701e-17, 8.60576375e-07, 1.58705989e-10,\n",
       "       1.28988560e-11, 1.98799048e-04, 2.61219334e-18, 2.13095660e-07,\n",
       "       7.79410222e-13, 4.64616136e-13, 1.53088355e-06, 1.30111978e-08,\n",
       "       7.33831978e-03, 9.99999989e-01, 1.48605620e-01, 1.15066038e-03,\n",
       "       6.42587174e-01, 2.94832485e-03, 8.46401377e-16, 1.49744436e-04,\n",
       "       3.93545814e-03, 3.46747208e-13, 9.99999955e-01, 3.39205674e-05,\n",
       "       9.99536709e-01, 7.16356504e-01, 9.99977244e-01, 9.99994152e-01,\n",
       "       9.99988798e-01, 1.84578776e-10, 1.80021448e-04, 9.99850748e-01,\n",
       "       1.89563906e-18, 9.21832956e-06, 9.99997740e-01, 9.99999851e-01,\n",
       "       9.99999572e-01, 9.99999372e-01, 4.22798104e-07, 9.99999995e-01,\n",
       "       2.79453897e-07, 1.85629374e-05, 9.99970132e-01, 9.99956526e-01,\n",
       "       8.30192324e-01, 9.99995307e-01, 3.22007427e-15, 9.99999999e-01,\n",
       "       9.05874588e-13, 8.68576681e-01, 9.99869268e-01, 3.71654562e-09,\n",
       "       9.99993742e-01, 5.02799009e-16, 1.17861747e-18, 9.99899526e-01,\n",
       "       9.97426081e-01, 9.31456638e-01, 1.59561680e-25, 1.84385189e-07,\n",
       "       9.99729492e-01, 1.37686384e-12, 1.76823638e-01, 1.55099242e-13,\n",
       "       9.78934381e-01, 8.21990657e-01, 9.84105824e-01, 1.76462363e-01,\n",
       "       9.38527457e-01, 9.98823775e-01, 1.15784835e-06, 2.51219741e-13,\n",
       "       9.99999510e-01, 9.99999829e-01, 9.99981749e-01, 1.55177942e-01,\n",
       "       1.70854406e-05, 9.99999995e-01, 9.99278063e-01, 9.99737743e-01,\n",
       "       9.99999751e-01, 5.80151037e-06, 9.64191048e-01, 9.99935705e-01,\n",
       "       1.26682768e-30, 9.66142423e-01, 9.99998690e-01, 9.99979127e-01,\n",
       "       9.97786682e-01, 9.99999952e-01, 9.99958078e-01, 9.98889065e-01,\n",
       "       1.00000000e+00, 4.95624775e-08, 1.19693970e-11, 2.87947896e-06,\n",
       "       9.99993377e-01, 6.37864931e-12, 1.47337078e-30, 9.98556884e-01,\n",
       "       9.99997042e-01, 9.99984228e-01, 2.64689172e-04, 1.06187855e-08,\n",
       "       9.80460928e-01, 1.49342481e-12, 9.99998722e-01, 2.40672732e-07,\n",
       "       1.07495151e-05, 9.04893412e-01, 2.49695273e-11, 7.94493865e-01,\n",
       "       9.99949098e-01, 9.99995116e-01, 2.33976254e-09, 9.99999664e-01,\n",
       "       9.99999999e-01, 4.06814639e-07, 9.99991130e-01, 9.99503411e-01,\n",
       "       9.99999946e-01, 9.99999882e-01, 1.79541814e-02, 9.99568322e-01,\n",
       "       9.54448268e-01, 9.99983704e-01, 9.98723721e-01, 9.99959481e-01,\n",
       "       9.99416736e-01, 9.99999781e-01, 9.84085066e-01, 9.99802540e-01,\n",
       "       1.55030722e-09, 8.86105497e-01, 9.99999130e-01, 9.99999718e-01,\n",
       "       9.93453512e-01, 1.19229719e-12, 1.92017936e-20, 9.99901367e-01,\n",
       "       8.37493811e-20, 9.99962884e-01, 9.99999992e-01, 8.43438420e-07,\n",
       "       3.14014119e-18, 9.99845904e-01, 9.99987118e-01, 1.85456581e-05,\n",
       "       2.53504581e-06, 9.99999998e-01, 9.99999999e-01, 9.99999999e-01,\n",
       "       9.99999115e-01, 1.92402989e-04, 9.99999347e-01, 9.99999955e-01,\n",
       "       6.01051237e-31, 9.18582540e-19, 1.43399181e-06, 9.99999961e-01,\n",
       "       1.95230608e-01, 9.99997686e-01, 1.34619093e-05, 9.99320713e-01,\n",
       "       9.99998437e-01, 9.99999734e-01, 1.15693784e-01, 9.99859517e-01,\n",
       "       1.00000000e+00, 4.22962177e-05, 2.80399397e-01, 9.99981998e-01,\n",
       "       9.33230595e-06, 2.50629395e-04, 4.07495084e-09, 4.66976064e-06,\n",
       "       8.99188624e-01, 3.49704241e-06, 5.34959128e-20, 8.60583086e-13,\n",
       "       7.73292307e-01, 2.60620127e-01, 9.99999470e-01, 1.43705939e-06,\n",
       "       9.83329768e-01, 9.97400358e-01, 9.70914957e-15, 9.99962771e-01,\n",
       "       1.34830620e-65, 2.32982438e-01, 2.07107754e-04, 3.63019645e-01,\n",
       "       9.99655861e-01, 9.99999825e-01, 4.61593259e-19, 3.35103453e-22,\n",
       "       9.99993220e-01, 9.99830428e-01, 9.99998487e-01, 1.69071020e-05,\n",
       "       9.90806555e-01, 3.82153006e-01, 9.99999884e-01, 9.98698622e-01,\n",
       "       9.39208052e-01, 1.22376266e-04, 2.68267719e-08, 9.99994474e-01,\n",
       "       9.97912615e-01, 4.64858653e-14, 9.99997730e-01, 9.99315612e-01,\n",
       "       4.23881840e-31, 3.03051399e-11, 5.79361495e-01, 3.34904995e-13,\n",
       "       9.99225389e-01, 9.99999899e-01, 9.96630598e-01, 9.95826738e-01,\n",
       "       2.57956626e-08, 9.99880371e-01, 9.99996265e-01, 9.98315026e-01,\n",
       "       9.83421119e-01, 9.99924616e-01, 8.65164166e-23, 9.99854877e-01,\n",
       "       8.70007814e-18, 8.94066612e-06, 3.00627169e-14, 1.06009942e-01,\n",
       "       1.61092769e-17, 1.27394516e-07, 7.69711584e-18, 2.44031437e-10,\n",
       "       4.97156229e-14, 2.86887552e-03, 2.39719091e-08, 4.51542170e-01,\n",
       "       4.26818158e-10, 2.82496915e-37, 9.99986179e-01, 9.99955406e-01,\n",
       "       9.99983539e-01, 9.99996092e-01, 9.99999951e-01, 9.99998098e-01,\n",
       "       7.36941144e-24, 9.99999357e-01, 3.57390274e-06, 9.99166284e-01,\n",
       "       9.99999989e-01, 2.00788075e-03, 9.99702624e-01, 9.99774208e-01,\n",
       "       1.07492599e-15, 9.99888098e-01, 8.71422974e-12, 3.54377514e-03,\n",
       "       9.99998184e-01, 9.99999888e-01, 9.99886973e-01, 9.99999981e-01,\n",
       "       9.99998570e-01, 9.99997258e-01, 9.08586167e-01, 8.55553981e-01,\n",
       "       9.99703700e-01, 9.99882791e-01, 9.99999919e-01, 9.99999625e-01,\n",
       "       1.00000000e+00, 9.98016181e-01, 9.99454038e-01, 9.99999762e-01,\n",
       "       2.00770679e-21, 9.99983589e-01, 4.43752733e-18, 9.99999569e-01,\n",
       "       9.99999235e-01, 9.99994049e-01, 9.99999861e-01, 9.99999998e-01,\n",
       "       9.99999927e-01, 9.99995038e-01, 9.99995535e-01, 9.99596041e-01,\n",
       "       9.99995820e-01, 9.99999997e-01, 1.00000000e+00, 9.99999964e-01,\n",
       "       9.99999995e-01, 1.72870523e-08, 9.99988974e-01, 9.99999989e-01,\n",
       "       9.99993475e-01, 3.78700254e-10, 9.99891227e-01, 1.23832490e-18,\n",
       "       9.99993619e-01, 9.99993832e-01, 9.99994886e-01, 9.99999882e-01,\n",
       "       5.69885263e-07, 6.87434548e-04, 9.89788162e-04, 9.99229560e-01,\n",
       "       9.99999686e-01, 9.99999850e-01, 9.99998197e-01, 3.87822931e-13,\n",
       "       9.99999980e-01, 3.48877897e-15, 9.99993181e-01, 1.04760527e-31,\n",
       "       5.63936430e-01, 9.99982743e-01, 9.99979613e-01, 1.08567777e-12,\n",
       "       9.99867426e-01, 1.00000000e+00, 9.99971336e-01, 8.71559410e-01,\n",
       "       9.99991503e-01, 9.99999887e-01, 9.99992793e-01, 2.20134668e-06,\n",
       "       8.14667145e-32, 4.52419969e-09, 9.99999982e-01, 9.99993904e-01,\n",
       "       9.99466755e-01, 9.99980916e-01, 9.99999901e-01, 9.98028453e-01,\n",
       "       9.99999215e-01, 9.99961714e-01, 9.99973231e-01, 8.47171229e-01,\n",
       "       9.99990271e-01, 1.39858381e-11, 1.37010555e-15, 9.95393620e-01,\n",
       "       2.92306649e-35, 1.25530798e-23, 5.64973471e-10, 9.99996652e-01,\n",
       "       1.52125760e-06, 8.77203184e-15, 9.99992928e-01, 9.99635786e-01,\n",
       "       9.99998434e-01, 9.98035587e-01, 9.99984671e-01, 7.55819723e-05,\n",
       "       9.95273209e-01, 9.99999525e-01, 9.99998986e-01, 9.99868676e-01,\n",
       "       9.99994953e-01, 7.27770994e-02, 9.99995533e-01, 9.99996137e-01,\n",
       "       9.99999967e-01, 1.45074809e-07, 9.99999834e-01, 9.99999918e-01,\n",
       "       1.20644171e-12, 4.78482531e-18, 9.99816584e-01, 9.99996967e-01,\n",
       "       8.59128884e-01, 9.99991792e-01, 9.99998583e-01, 9.99929684e-01,\n",
       "       2.44703863e-10, 9.99981578e-01, 9.99998291e-01, 9.99989777e-01,\n",
       "       9.99999231e-01, 9.99870143e-01, 9.83325766e-01, 9.99807459e-01,\n",
       "       1.58111403e-07, 9.95719566e-01, 9.43280123e-01, 9.99940084e-01,\n",
       "       9.99999955e-01, 4.88194699e-01, 2.61004717e-03, 9.99853799e-01,\n",
       "       9.99976455e-01, 5.99423847e-25, 9.99998062e-01, 9.99986624e-01,\n",
       "       9.99885035e-01, 9.90131910e-01, 9.99913244e-01, 9.68855235e-01,\n",
       "       9.99843560e-01, 9.99999149e-01, 9.99976251e-01, 9.94866724e-01,\n",
       "       9.99999984e-01, 9.99999095e-01, 9.78256225e-05, 9.99999660e-01,\n",
       "       1.22489637e-10, 5.22521993e-14, 9.99752066e-01, 1.67517643e-04,\n",
       "       9.99516668e-01, 9.98539529e-01, 9.99324921e-01, 9.99994706e-01,\n",
       "       9.93582991e-01, 1.34898163e-08, 9.99998414e-01, 9.99999999e-01,\n",
       "       3.37514735e-04, 9.86821010e-01, 5.43867655e-12, 9.97471080e-01,\n",
       "       9.63907647e-01, 1.23304704e-16, 9.99998658e-01, 2.73728272e-09,\n",
       "       9.98905358e-01, 9.98522382e-01, 9.99231000e-01, 4.96585392e-01,\n",
       "       9.51749466e-01, 9.94609996e-01, 9.98791573e-01, 9.99938430e-01,\n",
       "       8.67549774e-18, 4.72184654e-82, 9.98434478e-01, 9.99918784e-01,\n",
       "       9.98307541e-01, 9.58166362e-01, 8.09110141e-01, 9.99995785e-01,\n",
       "       6.23764868e-13, 9.37376865e-01, 9.99945678e-01, 9.93356140e-01,\n",
       "       9.94141377e-01, 9.99987830e-01, 9.99999462e-01, 9.99901798e-01,\n",
       "       8.36760519e-01, 9.99996816e-01, 9.99996243e-01, 1.94307907e-02,\n",
       "       9.99987437e-01, 9.55252919e-01, 9.99716069e-01, 9.99275440e-01,\n",
       "       9.95665129e-01, 9.99922786e-01, 9.97564597e-01, 3.28275538e-14,\n",
       "       9.97509254e-01, 3.74218610e-01, 9.94743190e-01, 5.77667738e-01,\n",
       "       1.86841664e-10, 9.99999997e-01, 9.99960930e-01, 9.90350993e-01,\n",
       "       9.68428336e-01, 9.99630184e-01, 4.36121099e-12, 1.23796507e-14,\n",
       "       9.87154209e-01, 3.31843826e-04, 9.99915737e-01, 1.86440881e-29,\n",
       "       9.99997164e-01, 9.99994117e-01, 9.99873600e-01, 9.99994967e-01,\n",
       "       9.86484116e-01, 1.11464780e-05, 9.99999775e-01, 9.99985018e-01,\n",
       "       1.17577746e-06, 9.54523876e-01, 3.22224221e-02, 9.99822975e-01,\n",
       "       1.41594621e-10, 3.64758434e-10, 9.87558993e-01, 9.99129787e-01,\n",
       "       9.99994465e-01, 3.65310708e-26, 9.99999837e-01, 9.83975448e-01,\n",
       "       9.99998507e-01, 9.99997831e-01, 7.99011807e-01, 9.99969567e-01,\n",
       "       9.99983748e-01, 9.99988425e-01, 9.93852029e-01, 9.93725198e-01,\n",
       "       9.99603647e-01, 8.82866112e-13, 9.99998202e-01, 4.81023881e-15,\n",
       "       2.66218413e-01, 9.91732809e-01, 9.99988603e-01, 9.99990079e-01,\n",
       "       9.99999968e-01, 5.29579180e-01, 5.62416770e-01, 9.91507746e-01,\n",
       "       9.99968128e-01, 9.88018229e-01, 9.99999900e-01, 9.99999596e-01,\n",
       "       9.99997662e-01, 9.99457716e-01, 9.99999966e-01, 9.99991692e-01,\n",
       "       9.93489302e-01, 9.99999975e-01, 9.94644693e-01, 9.99856774e-01,\n",
       "       9.99999998e-01, 9.99999040e-01, 9.99802835e-01, 9.99146767e-01,\n",
       "       9.67654123e-01, 9.99999941e-01, 3.36416270e-10, 1.37376343e-20,\n",
       "       6.79642781e-25, 2.05448152e-15, 3.12422736e-05, 1.55553276e-20,\n",
       "       9.99995824e-01])"
      ]
     },
     "execution_count": 26,
     "metadata": {},
     "output_type": "execute_result"
    }
   ],
   "source": [
    "model.predict_proba(X)[:,1] #pi(x) dla kolejnych "
   ]
  },
  {
   "cell_type": "code",
   "execution_count": 27,
   "id": "5e6e43c1-09a6-461d-9109-5e5eea1cd1c1",
   "metadata": {},
   "outputs": [],
   "source": [
    "from sklearn.metrics import accuracy_score"
   ]
  },
  {
   "cell_type": "code",
   "execution_count": 30,
   "id": "960b422d-bcd5-4a99-9b69-498ae6dd062d",
   "metadata": {},
   "outputs": [
    {
     "data": {
      "text/plain": [
       "0.9859402460456942"
      ]
     },
     "execution_count": 30,
     "metadata": {},
     "output_type": "execute_result"
    }
   ],
   "source": [
    "#Najprostszym ocenieniem poprawności naszego modelu jest procent poprawnie zakwalifikowanych obserwacji (accuracy)\n",
    "y_pred = model.predict(X)\n",
    "accuracy_score(y, y_pred)"
   ]
  },
  {
   "cell_type": "code",
   "execution_count": 38,
   "id": "7ce40915-8f4c-497a-b127-9316e43095e2",
   "metadata": {
    "tags": []
   },
   "outputs": [],
   "source": [
    "#Podział na treningowe i testowe"
   ]
  },
  {
   "cell_type": "code",
   "execution_count": 31,
   "id": "99d1436d-6525-4fcb-9fc8-3d6f2f80cbe4",
   "metadata": {},
   "outputs": [],
   "source": [
    "from sklearn.model_selection import train_test_split"
   ]
  },
  {
   "cell_type": "code",
   "execution_count": 34,
   "id": "89cd8a23-01d5-49f2-bdbf-68413ee56f32",
   "metadata": {},
   "outputs": [],
   "source": [
    "X_train, X_test, y_train, y_test = train_test_split(X, y, test_size=0.2, random_state=42)"
   ]
  },
  {
   "cell_type": "code",
   "execution_count": 46,
   "id": "61fca6c2-d47e-4b9f-b403-71622d0e71f3",
   "metadata": {},
   "outputs": [
    {
     "data": {
      "text/plain": [
       "0.9736842105263158"
      ]
     },
     "execution_count": 46,
     "metadata": {},
     "output_type": "execute_result"
    }
   ],
   "source": [
    "model = LogisticRegression(\"none\", max_iter = 10000)\n",
    "model.fit(X_train, y_train)\n",
    "y_pred = model.predict(X_test)\n",
    "\n",
    "accuracy_score(y_test, y_pred)"
   ]
  },
  {
   "cell_type": "code",
   "execution_count": 48,
   "id": "d3a7d1b2-4e7c-499f-b3cd-c3d51308829f",
   "metadata": {},
   "outputs": [],
   "source": [
    "from sklearn.model_selection import cross_val_score"
   ]
  },
  {
   "cell_type": "code",
   "execution_count": 52,
   "id": "f5fa5f57-d58b-48fd-affd-624007b805a2",
   "metadata": {
    "collapsed": true,
    "jupyter": {
     "outputs_hidden": true
    },
    "tags": []
   },
   "outputs": [
    {
     "name": "stderr",
     "output_type": "stream",
     "text": [
      "/home/mikolaj/.local/lib/python3.9/site-packages/sklearn/linear_model/_logistic.py:814: ConvergenceWarning: lbfgs failed to converge (status=1):\n",
      "STOP: TOTAL NO. of ITERATIONS REACHED LIMIT.\n",
      "\n",
      "Increase the number of iterations (max_iter) or scale the data as shown in:\n",
      "    https://scikit-learn.org/stable/modules/preprocessing.html\n",
      "Please also refer to the documentation for alternative solver options:\n",
      "    https://scikit-learn.org/stable/modules/linear_model.html#logistic-regression\n",
      "  n_iter_i = _check_optimize_result(\n",
      "/home/mikolaj/.local/lib/python3.9/site-packages/sklearn/linear_model/_logistic.py:814: ConvergenceWarning: lbfgs failed to converge (status=1):\n",
      "STOP: TOTAL NO. of ITERATIONS REACHED LIMIT.\n",
      "\n",
      "Increase the number of iterations (max_iter) or scale the data as shown in:\n",
      "    https://scikit-learn.org/stable/modules/preprocessing.html\n",
      "Please also refer to the documentation for alternative solver options:\n",
      "    https://scikit-learn.org/stable/modules/linear_model.html#logistic-regression\n",
      "  n_iter_i = _check_optimize_result(\n",
      "/home/mikolaj/.local/lib/python3.9/site-packages/sklearn/linear_model/_logistic.py:814: ConvergenceWarning: lbfgs failed to converge (status=1):\n",
      "STOP: TOTAL NO. of ITERATIONS REACHED LIMIT.\n",
      "\n",
      "Increase the number of iterations (max_iter) or scale the data as shown in:\n",
      "    https://scikit-learn.org/stable/modules/preprocessing.html\n",
      "Please also refer to the documentation for alternative solver options:\n",
      "    https://scikit-learn.org/stable/modules/linear_model.html#logistic-regression\n",
      "  n_iter_i = _check_optimize_result(\n",
      "/home/mikolaj/.local/lib/python3.9/site-packages/sklearn/linear_model/_logistic.py:814: ConvergenceWarning: lbfgs failed to converge (status=1):\n",
      "STOP: TOTAL NO. of ITERATIONS REACHED LIMIT.\n",
      "\n",
      "Increase the number of iterations (max_iter) or scale the data as shown in:\n",
      "    https://scikit-learn.org/stable/modules/preprocessing.html\n",
      "Please also refer to the documentation for alternative solver options:\n",
      "    https://scikit-learn.org/stable/modules/linear_model.html#logistic-regression\n",
      "  n_iter_i = _check_optimize_result(\n",
      "/home/mikolaj/.local/lib/python3.9/site-packages/sklearn/linear_model/_logistic.py:814: ConvergenceWarning: lbfgs failed to converge (status=1):\n",
      "STOP: TOTAL NO. of ITERATIONS REACHED LIMIT.\n",
      "\n",
      "Increase the number of iterations (max_iter) or scale the data as shown in:\n",
      "    https://scikit-learn.org/stable/modules/preprocessing.html\n",
      "Please also refer to the documentation for alternative solver options:\n",
      "    https://scikit-learn.org/stable/modules/linear_model.html#logistic-regression\n",
      "  n_iter_i = _check_optimize_result(\n",
      "/home/mikolaj/.local/lib/python3.9/site-packages/sklearn/linear_model/_logistic.py:814: ConvergenceWarning: lbfgs failed to converge (status=1):\n",
      "STOP: TOTAL NO. of ITERATIONS REACHED LIMIT.\n",
      "\n",
      "Increase the number of iterations (max_iter) or scale the data as shown in:\n",
      "    https://scikit-learn.org/stable/modules/preprocessing.html\n",
      "Please also refer to the documentation for alternative solver options:\n",
      "    https://scikit-learn.org/stable/modules/linear_model.html#logistic-regression\n",
      "  n_iter_i = _check_optimize_result(\n",
      "/home/mikolaj/.local/lib/python3.9/site-packages/sklearn/linear_model/_logistic.py:814: ConvergenceWarning: lbfgs failed to converge (status=1):\n",
      "STOP: TOTAL NO. of ITERATIONS REACHED LIMIT.\n",
      "\n",
      "Increase the number of iterations (max_iter) or scale the data as shown in:\n",
      "    https://scikit-learn.org/stable/modules/preprocessing.html\n",
      "Please also refer to the documentation for alternative solver options:\n",
      "    https://scikit-learn.org/stable/modules/linear_model.html#logistic-regression\n",
      "  n_iter_i = _check_optimize_result(\n",
      "/home/mikolaj/.local/lib/python3.9/site-packages/sklearn/linear_model/_logistic.py:814: ConvergenceWarning: lbfgs failed to converge (status=1):\n",
      "STOP: TOTAL NO. of ITERATIONS REACHED LIMIT.\n",
      "\n",
      "Increase the number of iterations (max_iter) or scale the data as shown in:\n",
      "    https://scikit-learn.org/stable/modules/preprocessing.html\n",
      "Please also refer to the documentation for alternative solver options:\n",
      "    https://scikit-learn.org/stable/modules/linear_model.html#logistic-regression\n",
      "  n_iter_i = _check_optimize_result(\n",
      "/home/mikolaj/.local/lib/python3.9/site-packages/sklearn/linear_model/_logistic.py:814: ConvergenceWarning: lbfgs failed to converge (status=1):\n",
      "STOP: TOTAL NO. of ITERATIONS REACHED LIMIT.\n",
      "\n",
      "Increase the number of iterations (max_iter) or scale the data as shown in:\n",
      "    https://scikit-learn.org/stable/modules/preprocessing.html\n",
      "Please also refer to the documentation for alternative solver options:\n",
      "    https://scikit-learn.org/stable/modules/linear_model.html#logistic-regression\n",
      "  n_iter_i = _check_optimize_result(\n",
      "/home/mikolaj/.local/lib/python3.9/site-packages/sklearn/linear_model/_logistic.py:814: ConvergenceWarning: lbfgs failed to converge (status=1):\n",
      "STOP: TOTAL NO. of ITERATIONS REACHED LIMIT.\n",
      "\n",
      "Increase the number of iterations (max_iter) or scale the data as shown in:\n",
      "    https://scikit-learn.org/stable/modules/preprocessing.html\n",
      "Please also refer to the documentation for alternative solver options:\n",
      "    https://scikit-learn.org/stable/modules/linear_model.html#logistic-regression\n",
      "  n_iter_i = _check_optimize_result(\n"
     ]
    },
    {
     "data": {
      "text/plain": [
       "array([0.96491228, 0.92982456, 0.92982456, 0.96491228, 0.96491228,\n",
       "       0.98245614, 0.94736842, 0.94736842, 0.98245614, 0.96428571])"
      ]
     },
     "execution_count": 52,
     "metadata": {},
     "output_type": "execute_result"
    }
   ],
   "source": [
    "# mniejszy zbiór tak jak tu - tym cv większe, czyli tu 10\n",
    "cross_val_score(LogisticRegression(\"none\", max_iter = 1000), X, y, cv = 10)"
   ]
  },
  {
   "cell_type": "code",
   "execution_count": 53,
   "id": "ed114b0e-5bee-4a8a-9e41-8c5c93319495",
   "metadata": {
    "collapsed": true,
    "jupyter": {
     "outputs_hidden": true
    },
    "tags": []
   },
   "outputs": [
    {
     "name": "stderr",
     "output_type": "stream",
     "text": [
      "/home/mikolaj/.local/lib/python3.9/site-packages/sklearn/linear_model/_logistic.py:814: ConvergenceWarning: lbfgs failed to converge (status=1):\n",
      "STOP: TOTAL NO. of ITERATIONS REACHED LIMIT.\n",
      "\n",
      "Increase the number of iterations (max_iter) or scale the data as shown in:\n",
      "    https://scikit-learn.org/stable/modules/preprocessing.html\n",
      "Please also refer to the documentation for alternative solver options:\n",
      "    https://scikit-learn.org/stable/modules/linear_model.html#logistic-regression\n",
      "  n_iter_i = _check_optimize_result(\n",
      "/home/mikolaj/.local/lib/python3.9/site-packages/sklearn/linear_model/_logistic.py:814: ConvergenceWarning: lbfgs failed to converge (status=1):\n",
      "STOP: TOTAL NO. of ITERATIONS REACHED LIMIT.\n",
      "\n",
      "Increase the number of iterations (max_iter) or scale the data as shown in:\n",
      "    https://scikit-learn.org/stable/modules/preprocessing.html\n",
      "Please also refer to the documentation for alternative solver options:\n",
      "    https://scikit-learn.org/stable/modules/linear_model.html#logistic-regression\n",
      "  n_iter_i = _check_optimize_result(\n",
      "/home/mikolaj/.local/lib/python3.9/site-packages/sklearn/linear_model/_logistic.py:814: ConvergenceWarning: lbfgs failed to converge (status=1):\n",
      "STOP: TOTAL NO. of ITERATIONS REACHED LIMIT.\n",
      "\n",
      "Increase the number of iterations (max_iter) or scale the data as shown in:\n",
      "    https://scikit-learn.org/stable/modules/preprocessing.html\n",
      "Please also refer to the documentation for alternative solver options:\n",
      "    https://scikit-learn.org/stable/modules/linear_model.html#logistic-regression\n",
      "  n_iter_i = _check_optimize_result(\n",
      "/home/mikolaj/.local/lib/python3.9/site-packages/sklearn/linear_model/_logistic.py:814: ConvergenceWarning: lbfgs failed to converge (status=1):\n",
      "STOP: TOTAL NO. of ITERATIONS REACHED LIMIT.\n",
      "\n",
      "Increase the number of iterations (max_iter) or scale the data as shown in:\n",
      "    https://scikit-learn.org/stable/modules/preprocessing.html\n",
      "Please also refer to the documentation for alternative solver options:\n",
      "    https://scikit-learn.org/stable/modules/linear_model.html#logistic-regression\n",
      "  n_iter_i = _check_optimize_result(\n",
      "/home/mikolaj/.local/lib/python3.9/site-packages/sklearn/linear_model/_logistic.py:814: ConvergenceWarning: lbfgs failed to converge (status=1):\n",
      "STOP: TOTAL NO. of ITERATIONS REACHED LIMIT.\n",
      "\n",
      "Increase the number of iterations (max_iter) or scale the data as shown in:\n",
      "    https://scikit-learn.org/stable/modules/preprocessing.html\n",
      "Please also refer to the documentation for alternative solver options:\n",
      "    https://scikit-learn.org/stable/modules/linear_model.html#logistic-regression\n",
      "  n_iter_i = _check_optimize_result(\n",
      "/home/mikolaj/.local/lib/python3.9/site-packages/sklearn/linear_model/_logistic.py:814: ConvergenceWarning: lbfgs failed to converge (status=1):\n",
      "STOP: TOTAL NO. of ITERATIONS REACHED LIMIT.\n",
      "\n",
      "Increase the number of iterations (max_iter) or scale the data as shown in:\n",
      "    https://scikit-learn.org/stable/modules/preprocessing.html\n",
      "Please also refer to the documentation for alternative solver options:\n",
      "    https://scikit-learn.org/stable/modules/linear_model.html#logistic-regression\n",
      "  n_iter_i = _check_optimize_result(\n",
      "/home/mikolaj/.local/lib/python3.9/site-packages/sklearn/linear_model/_logistic.py:814: ConvergenceWarning: lbfgs failed to converge (status=1):\n",
      "STOP: TOTAL NO. of ITERATIONS REACHED LIMIT.\n",
      "\n",
      "Increase the number of iterations (max_iter) or scale the data as shown in:\n",
      "    https://scikit-learn.org/stable/modules/preprocessing.html\n",
      "Please also refer to the documentation for alternative solver options:\n",
      "    https://scikit-learn.org/stable/modules/linear_model.html#logistic-regression\n",
      "  n_iter_i = _check_optimize_result(\n",
      "/home/mikolaj/.local/lib/python3.9/site-packages/sklearn/linear_model/_logistic.py:814: ConvergenceWarning: lbfgs failed to converge (status=1):\n",
      "STOP: TOTAL NO. of ITERATIONS REACHED LIMIT.\n",
      "\n",
      "Increase the number of iterations (max_iter) or scale the data as shown in:\n",
      "    https://scikit-learn.org/stable/modules/preprocessing.html\n",
      "Please also refer to the documentation for alternative solver options:\n",
      "    https://scikit-learn.org/stable/modules/linear_model.html#logistic-regression\n",
      "  n_iter_i = _check_optimize_result(\n",
      "/home/mikolaj/.local/lib/python3.9/site-packages/sklearn/linear_model/_logistic.py:814: ConvergenceWarning: lbfgs failed to converge (status=1):\n",
      "STOP: TOTAL NO. of ITERATIONS REACHED LIMIT.\n",
      "\n",
      "Increase the number of iterations (max_iter) or scale the data as shown in:\n",
      "    https://scikit-learn.org/stable/modules/preprocessing.html\n",
      "Please also refer to the documentation for alternative solver options:\n",
      "    https://scikit-learn.org/stable/modules/linear_model.html#logistic-regression\n",
      "  n_iter_i = _check_optimize_result(\n",
      "/home/mikolaj/.local/lib/python3.9/site-packages/sklearn/linear_model/_logistic.py:814: ConvergenceWarning: lbfgs failed to converge (status=1):\n",
      "STOP: TOTAL NO. of ITERATIONS REACHED LIMIT.\n",
      "\n",
      "Increase the number of iterations (max_iter) or scale the data as shown in:\n",
      "    https://scikit-learn.org/stable/modules/preprocessing.html\n",
      "Please also refer to the documentation for alternative solver options:\n",
      "    https://scikit-learn.org/stable/modules/linear_model.html#logistic-regression\n",
      "  n_iter_i = _check_optimize_result(\n"
     ]
    },
    {
     "data": {
      "text/plain": [
       "0.9578320802005011"
      ]
     },
     "execution_count": 53,
     "metadata": {},
     "output_type": "execute_result"
    }
   ],
   "source": [
    "cross_val_score(LogisticRegression(\"none\", max_iter = 1000), X, y, cv = 10).mean()"
   ]
  },
  {
   "cell_type": "code",
   "execution_count": 54,
   "id": "01a817aa-deec-4070-b11b-e02ee61009b0",
   "metadata": {
    "tags": []
   },
   "outputs": [],
   "source": [
    "# Lassso - liczy się dłużej, jest niestabilne, ale zeruje współćzynniki!"
   ]
  },
  {
   "cell_type": "code",
   "execution_count": 55,
   "id": "7e22aeab-44a2-4dc7-a67f-be6b3e664e3c",
   "metadata": {
    "tags": []
   },
   "outputs": [],
   "source": [
    "import numpy as np\n",
    "import matplotlib.pyplot as plt"
   ]
  },
  {
   "cell_type": "code",
   "execution_count": 56,
   "id": "b23f9d0a-3c51-4d5c-b574-b434c3fe6909",
   "metadata": {},
   "outputs": [],
   "source": [
    "x = np.linspace(start=-1, stop=1, num=100)\n",
    "beta = np.array([-0.5, 5])"
   ]
  },
  {
   "cell_type": "code",
   "execution_count": 58,
   "id": "bbdea799-50bf-4dff-ad49-c1a21b375954",
   "metadata": {},
   "outputs": [
    {
     "data": {
      "text/plain": [
       "array([0.00407014, 0.0045008 , 0.0049768 , 0.00550286, 0.00608419,\n",
       "       0.00672651, 0.00743614, 0.00822001, 0.00908576, 0.01004177,\n",
       "       0.01109725, 0.01226229, 0.01354796, 0.01496639, 0.01653084,\n",
       "       0.01825579, 0.02015705, 0.02225182, 0.02455883, 0.0270984 ,\n",
       "       0.02989254, 0.03296501, 0.03634146, 0.04004942, 0.04411838,\n",
       "       0.04857982, 0.05346719, 0.05881586, 0.06466303, 0.07104762,\n",
       "       0.07801003, 0.08559186, 0.09383557, 0.10278402, 0.11247991,\n",
       "       0.12296507, 0.13427977, 0.14646172, 0.15954517, 0.1735597 ,\n",
       "       0.18852913, 0.20447023, 0.22139149, 0.23929188, 0.25815971,\n",
       "       0.27797161, 0.29869176, 0.32027131, 0.34264818, 0.36574724,\n",
       "       0.38948085, 0.41374989, 0.43844515, 0.46344916, 0.48863832,\n",
       "       0.51388532, 0.53906165, 0.56404027, 0.58869807, 0.61291832,\n",
       "       0.63659276, 0.65962334, 0.68192365, 0.70341983, 0.72405114,\n",
       "       0.74377004, 0.76254197, 0.78034479, 0.79716791, 0.81301132,\n",
       "       0.82788438, 0.84180463, 0.85479651, 0.86689013, 0.87812013,\n",
       "       0.88852452, 0.89814375, 0.90701981, 0.91519541, 0.92271339,\n",
       "       0.92961616, 0.93594521, 0.94174081, 0.9470417 , 0.95188492,\n",
       "       0.95630564, 0.96033712, 0.96401063, 0.96735548, 0.97039899,\n",
       "       0.97316663, 0.97568198, 0.97796689, 0.98004149, 0.98192437,\n",
       "       0.98363258, 0.9851818 , 0.98658637, 0.98785946, 0.98901306])"
      ]
     },
     "execution_count": 58,
     "metadata": {},
     "output_type": "execute_result"
    }
   ],
   "source": [
    "pi = 1/(1+np.exp(-(beta[0] + beta[1]*x)))\n",
    "pi"
   ]
  },
  {
   "cell_type": "code",
   "execution_count": 60,
   "id": "41f13f0b-6091-4426-b5e2-911332b1313e",
   "metadata": {},
   "outputs": [
    {
     "data": {
      "text/plain": [
       "array([0, 0, 0, 0, 0, 0, 0, 0, 0, 0, 0, 0, 0, 0, 0, 1, 0, 0, 0, 0, 0, 0,\n",
       "       0, 0, 0, 0, 1, 0, 1, 1, 0, 0, 0, 0, 0, 0, 0, 1, 0, 1, 0, 0, 0, 1,\n",
       "       1, 0, 0, 0, 0, 0, 0, 1, 0, 1, 1, 1, 1, 1, 0, 1, 0, 1, 0, 1, 1, 1,\n",
       "       1, 1, 1, 1, 1, 1, 1, 1, 1, 1, 0, 1, 1, 1, 1, 1, 1, 1, 1, 1, 1, 1,\n",
       "       1, 1, 1, 1, 1, 1, 1, 1, 1, 1, 1, 1])"
      ]
     },
     "execution_count": 60,
     "metadata": {},
     "output_type": "execute_result"
    }
   ],
   "source": [
    "y = np.random.binomial(1, pi)\n",
    "y"
   ]
  },
  {
   "cell_type": "code",
   "execution_count": 62,
   "id": "44b7e331-b9b5-409e-8499-3469cae1a62b",
   "metadata": {},
   "outputs": [
    {
     "data": {
      "image/png": "[encoded data removed]",
      "text/plain": [
       "<Figure size 432x288 with 1 Axes>"
      ]
     },
     "metadata": {
      "needs_background": "light"
     },
     "output_type": "display_data"
    }
   ],
   "source": [
    "plt.plot(x, pi)\n",
    "plt.scatter(x,y)\n",
    "plt.show()"
   ]
  },
  {
   "cell_type": "code",
   "execution_count": 64,
   "id": "b2f4a856-35a6-480a-9717-9962a68eecd2",
   "metadata": {},
   "outputs": [
    {
     "data": {
      "text/plain": [
       "array([[-1.  ,  1.  , -1.  ,  1.  , -1.  ],\n",
       "       [-0.98,  0.96, -0.94,  0.92, -0.9 ],\n",
       "       [-0.96,  0.92, -0.88,  0.85, -0.81],\n",
       "       [-0.94,  0.88, -0.83,  0.78, -0.73],\n",
       "       [-0.92,  0.84, -0.78,  0.71, -0.66]])"
      ]
     },
     "execution_count": 64,
     "metadata": {},
     "output_type": "execute_result"
    }
   ],
   "source": [
    "X = np.vstack([x**p for p in range(1,20)]).T\n",
    "X[:5,:5].round(2)"
   ]
  },
  {
   "cell_type": "code",
   "execution_count": 75,
   "id": "de328506-d08d-4db4-b7ad-77e5f1133354",
   "metadata": {},
   "outputs": [
    {
     "name": "stderr",
     "output_type": "stream",
     "text": [
      "/home/mikolaj/.local/lib/python3.9/site-packages/sklearn/linear_model/_logistic.py:814: ConvergenceWarning: lbfgs failed to converge (status=1):\n",
      "STOP: TOTAL NO. of ITERATIONS REACHED LIMIT.\n",
      "\n",
      "Increase the number of iterations (max_iter) or scale the data as shown in:\n",
      "    https://scikit-learn.org/stable/modules/preprocessing.html\n",
      "Please also refer to the documentation for alternative solver options:\n",
      "    https://scikit-learn.org/stable/modules/linear_model.html#logistic-regression\n",
      "  n_iter_i = _check_optimize_result(\n"
     ]
    }
   ],
   "source": [
    "model = LogisticRegression(\"none\")\n",
    "model.fit(X,y)\n",
    "probs = model.predict_proba(X)[:,1]"
   ]
  },
  {
   "cell_type": "code",
   "execution_count": 76,
   "id": "01ac6b5b-6c4d-4e00-a289-d2925f510a15",
   "metadata": {},
   "outputs": [
    {
     "data": {
      "image/png": "[encoded data removed]",
      "text/plain": [
       "<Figure size 432x288 with 1 Axes>"
      ]
     },
     "metadata": {
      "needs_background": "light"
     },
     "output_type": "display_data"
    }
   ],
   "source": [
    "plt.plot(x, pi, label = \"original\")\n",
    "plt.plot(x, probs, label = \"log_reg\")\n",
    "plt.scatter(x,y)\n",
    "plt.legend()\n",
    "plt.show()"
   ]
  },
  {
   "cell_type": "markdown",
   "id": "224d8f8c-fd64-4c06-9c4e-5f64b7e1659e",
   "metadata": {},
   "source": [
    "Regularyzacja: l1 - ridge, l2 - lasso"
   ]
  },
  {
   "cell_type": "code",
   "execution_count": 92,
   "id": "80b28007-e342-4b76-a4a9-21c71e7b7124",
   "metadata": {},
   "outputs": [],
   "source": [
    "model = LogisticRegression(\"l2\",C=0.000001)\n",
    "model.fit(X,y)\n",
    "probs = model.predict_proba(X)[:,1]"
   ]
  },
  {
   "cell_type": "code",
   "execution_count": 93,
   "id": "a2f7aa04-d571-47b7-9769-abdd4dc3cbc4",
   "metadata": {},
   "outputs": [
    {
     "data": {
      "image/png": "[encoded data removed]",
      "text/plain": [
       "<Figure size 432x288 with 1 Axes>"
      ]
     },
     "metadata": {
      "needs_background": "light"
     },
     "output_type": "display_data"
    }
   ],
   "source": [
    "plt.plot(x, pi, label = \"original\")\n",
    "plt.plot(x, probs, label = \"log_reg\")\n",
    "plt.scatter(x,y)\n",
    "plt.legend()\n",
    "plt.show()"
   ]
  },
  {
   "cell_type": "code",
   "execution_count": 94,
   "id": "36f5687c-2524-4cf4-a45d-aa827afb068e",
   "metadata": {},
   "outputs": [
    {
     "data": {
      "text/plain": [
       "array([0.08000351])"
      ]
     },
     "execution_count": 94,
     "metadata": {},
     "output_type": "execute_result"
    }
   ],
   "source": [
    "model.intercept_"
   ]
  },
  {
   "cell_type": "markdown",
   "id": "5a0f8dfa-f16c-4ad5-ac56-a32392394f58",
   "metadata": {},
   "source": [
    "Optymalizacja hiperparametrów"
   ]
  },
  {
   "cell_type": "code",
   "execution_count": 95,
   "id": "e2d688a7-e958-4090-a787-515f0b06f8b9",
   "metadata": {},
   "outputs": [],
   "source": [
    "data = load_breast_cancer()\n",
    "\n",
    "X = data.data\n",
    "y = data.target"
   ]
  },
  {
   "cell_type": "code",
   "execution_count": 101,
   "id": "74e347bc-8b8c-4909-9834-e3f07b2b4a76",
   "metadata": {},
   "outputs": [],
   "source": [
    "from sklearn.preprocessing import StandardScaler"
   ]
  },
  {
   "cell_type": "code",
   "execution_count": 103,
   "id": "e38555ac-e00e-4c5f-bfc7-996c34c650e4",
   "metadata": {},
   "outputs": [
    {
     "data": {
      "text/plain": [
       "StandardScaler()"
      ]
     },
     "execution_count": 103,
     "metadata": {},
     "output_type": "execute_result"
    }
   ],
   "source": [
    "scaler = StandardScaler()\n",
    "scaler.fit(X_train)"
   ]
  },
  {
   "cell_type": "code",
   "execution_count": 106,
   "id": "c1f4e23f-6f18-45b3-9e95-d8c8721472c8",
   "metadata": {},
   "outputs": [
    {
     "data": {
      "text/plain": [
       "array([1.41176352e+01, 1.91850330e+01, 9.18822418e+01, 6.54377582e+02,\n",
       "       9.57440220e-02, 1.03619319e-01, 8.88981451e-02, 4.82798703e-02,\n",
       "       1.81098681e-01, 6.27567692e-02, 4.02015824e-01, 1.20268681e+00,\n",
       "       2.85825341e+00, 4.00712989e+01, 6.98907473e-03, 2.56354484e-02,\n",
       "       3.28236723e-02, 1.18939407e-02, 2.05735121e-02, 3.82045560e-03,\n",
       "       1.62351033e+01, 2.55356923e+01, 1.07103121e+02, 8.76987033e+02,\n",
       "       1.31532132e-01, 2.52741802e-01, 2.74594569e-01, 1.14182222e-01,\n",
       "       2.90502198e-01, 8.38678462e-02])"
      ]
     },
     "execution_count": 106,
     "metadata": {},
     "output_type": "execute_result"
    }
   ],
   "source": [
    "scaler.mean_"
   ]
  },
  {
   "cell_type": "code",
   "execution_count": 107,
   "id": "aab84dda-fed7-442d-818a-e73790ba047d",
   "metadata": {},
   "outputs": [
    {
     "data": {
      "text/plain": [
       "array([3.53192761e+00, 4.26131404e+00, 2.42952845e+01, 3.54552925e+02,\n",
       "       1.39076981e-02, 5.24128055e-02, 7.93805091e-02, 3.80183541e-02,\n",
       "       2.74570850e-02, 7.20178506e-03, 2.82849558e-01, 5.41151676e-01,\n",
       "       2.06893139e+00, 4.71843820e+01, 3.05347371e-03, 1.85862970e-02,\n",
       "       3.21102454e-02, 6.28718721e-03, 8.16296642e-03, 2.78406874e-03,\n",
       "       4.80597715e+00, 6.05843964e+00, 3.33379686e+01, 5.67048681e+02,\n",
       "       2.30571257e-02, 1.54843847e-01, 2.09167861e-01, 6.52542583e-02,\n",
       "       6.30817958e-02, 1.78282760e-02])"
      ]
     },
     "execution_count": 107,
     "metadata": {},
     "output_type": "execute_result"
    }
   ],
   "source": [
    "scaler.scale_"
   ]
  },
  {
   "cell_type": "code",
   "execution_count": 111,
   "id": "b2e9b66b-f207-41f4-831b-67ae73e0cdb8",
   "metadata": {},
   "outputs": [],
   "source": [
    "X_train_scaled = scaler.transform(X_train)\n",
    "X_test_scaled = scaler.transform(X_test)"
   ]
  },
  {
   "cell_type": "code",
   "execution_count": 114,
   "id": "69272519-4288-4673-ba4a-ef6b9e09a0e2",
   "metadata": {},
   "outputs": [
    {
     "data": {
      "text/plain": [
       "0.9736842105263158"
      ]
     },
     "execution_count": 114,
     "metadata": {},
     "output_type": "execute_result"
    }
   ],
   "source": [
    "model = LogisticRegression(\"l2\", C=10)\n",
    "model.fit(X_train_scaled, y_train)\n",
    "y_pred = model.predict(X_test_scaled)\n",
    "\n",
    "accuracy_score(y_test, y_pred)"
   ]
  },
  {
   "cell_type": "code",
   "execution_count": 116,
   "id": "98257e5e-0cc0-483a-9816-9a04e5a3fc76",
   "metadata": {},
   "outputs": [],
   "source": [
    "from sklearn.pipeline import Pipeline, make_pipeline"
   ]
  },
  {
   "cell_type": "code",
   "execution_count": 117,
   "id": "6e3ccfa1-9009-49fb-ba9a-c88b3446b29e",
   "metadata": {},
   "outputs": [],
   "source": [
    "pipeline = make_pipeline(StandardScaler(), LogisticRegression())"
   ]
  },
  {
   "cell_type": "code",
   "execution_count": 118,
   "id": "a2b6aacb-e195-4e86-9539-eb92d382dcd1",
   "metadata": {},
   "outputs": [
    {
     "data": {
      "text/plain": [
       "Pipeline(steps=[('standardscaler', StandardScaler()),\n",
       "                ('logisticregression', LogisticRegression())])"
      ]
     },
     "execution_count": 118,
     "metadata": {},
     "output_type": "execute_result"
    }
   ],
   "source": [
    "pipeline.fit(X_train, y_train) # scaler.fit -> scaler.transform -> model.fit"
   ]
  },
  {
   "cell_type": "code",
   "execution_count": 119,
   "id": "3cf8ffff-3452-43a6-bafb-ddc22ac7a9e3",
   "metadata": {},
   "outputs": [
    {
     "data": {
      "text/plain": [
       "array([1, 0, 0, 1, 1, 0, 0, 0, 1, 1, 1, 0, 1, 0, 1, 0, 1, 1, 1, 0, 1, 1,\n",
       "       0, 1, 1, 1, 1, 1, 1, 0, 1, 1, 1, 1, 1, 1, 0, 1, 0, 1, 1, 0, 1, 1,\n",
       "       1, 1, 1, 1, 1, 1, 0, 0, 1, 1, 1, 1, 1, 0, 0, 1, 1, 0, 0, 1, 1, 1,\n",
       "       0, 0, 1, 1, 0, 0, 1, 0, 1, 1, 1, 1, 1, 1, 0, 1, 0, 0, 0, 0, 0, 0,\n",
       "       1, 1, 1, 1, 1, 1, 1, 1, 0, 0, 1, 0, 0, 1, 0, 0, 1, 1, 1, 0, 1, 1,\n",
       "       0, 1, 0, 0])"
      ]
     },
     "execution_count": 119,
     "metadata": {},
     "output_type": "execute_result"
    }
   ],
   "source": [
    "pipeline.predict(X_test) # scaler.transform -> model.predict"
   ]
  },
  {
   "cell_type": "code",
   "execution_count": 121,
   "id": "aa88b4a1-4722-4f0f-9d0d-50bf2f4871a0",
   "metadata": {},
   "outputs": [
    {
     "data": {
      "text/plain": [
       "0.9806704260651629"
      ]
     },
     "execution_count": 121,
     "metadata": {},
     "output_type": "execute_result"
    }
   ],
   "source": [
    "cross_val_score(pipeline, X, y, cv=10).mean()"
   ]
  },
  {
   "cell_type": "code",
   "execution_count": 104,
   "id": "5aaa8293-3abd-421e-96c4-6493568b336a",
   "metadata": {},
   "outputs": [],
   "source": [
    "from sklearn.model_selection import GridSearchCV"
   ]
  },
  {
   "cell_type": "code",
   "execution_count": 122,
   "id": "073ff831-58e5-47f0-b044-b5240790efcf",
   "metadata": {},
   "outputs": [
    {
     "data": {
      "text/plain": [
       "Pipeline(steps=[('scaler', StandardScaler()), ('model', LogisticRegression())])"
      ]
     },
     "execution_count": 122,
     "metadata": {},
     "output_type": "execute_result"
    }
   ],
   "source": [
    "model = Pipeline([(\"scaler\", StandardScaler()), (\"model\", LogisticRegression())]) #nazywamy nasze kroki\n",
    "model"
   ]
  },
  {
   "cell_type": "code",
   "execution_count": 124,
   "id": "ca90b3f4-5abb-47c2-a2ed-0fdcdbf4f235",
   "metadata": {
    "collapsed": true,
    "jupyter": {
     "outputs_hidden": true
    },
    "tags": []
   },
   "outputs": [
    {
     "name": "stderr",
     "output_type": "stream",
     "text": [
      "/home/mikolaj/.local/lib/python3.9/site-packages/sklearn/linear_model/_logistic.py:814: ConvergenceWarning: lbfgs failed to converge (status=1):\n",
      "STOP: TOTAL NO. of ITERATIONS REACHED LIMIT.\n",
      "\n",
      "Increase the number of iterations (max_iter) or scale the data as shown in:\n",
      "    https://scikit-learn.org/stable/modules/preprocessing.html\n",
      "Please also refer to the documentation for alternative solver options:\n",
      "    https://scikit-learn.org/stable/modules/linear_model.html#logistic-regression\n",
      "  n_iter_i = _check_optimize_result(\n",
      "/home/mikolaj/.local/lib/python3.9/site-packages/sklearn/linear_model/_logistic.py:814: ConvergenceWarning: lbfgs failed to converge (status=1):\n",
      "STOP: TOTAL NO. of ITERATIONS REACHED LIMIT.\n",
      "\n",
      "Increase the number of iterations (max_iter) or scale the data as shown in:\n",
      "    https://scikit-learn.org/stable/modules/preprocessing.html\n",
      "Please also refer to the documentation for alternative solver options:\n",
      "    https://scikit-learn.org/stable/modules/linear_model.html#logistic-regression\n",
      "  n_iter_i = _check_optimize_result(\n",
      "/home/mikolaj/.local/lib/python3.9/site-packages/sklearn/linear_model/_logistic.py:814: ConvergenceWarning: lbfgs failed to converge (status=1):\n",
      "STOP: TOTAL NO. of ITERATIONS REACHED LIMIT.\n",
      "\n",
      "Increase the number of iterations (max_iter) or scale the data as shown in:\n",
      "    https://scikit-learn.org/stable/modules/preprocessing.html\n",
      "Please also refer to the documentation for alternative solver options:\n",
      "    https://scikit-learn.org/stable/modules/linear_model.html#logistic-regression\n",
      "  n_iter_i = _check_optimize_result(\n",
      "/home/mikolaj/.local/lib/python3.9/site-packages/sklearn/linear_model/_logistic.py:814: ConvergenceWarning: lbfgs failed to converge (status=1):\n",
      "STOP: TOTAL NO. of ITERATIONS REACHED LIMIT.\n",
      "\n",
      "Increase the number of iterations (max_iter) or scale the data as shown in:\n",
      "    https://scikit-learn.org/stable/modules/preprocessing.html\n",
      "Please also refer to the documentation for alternative solver options:\n",
      "    https://scikit-learn.org/stable/modules/linear_model.html#logistic-regression\n",
      "  n_iter_i = _check_optimize_result(\n",
      "/home/mikolaj/.local/lib/python3.9/site-packages/sklearn/linear_model/_logistic.py:814: ConvergenceWarning: lbfgs failed to converge (status=1):\n",
      "STOP: TOTAL NO. of ITERATIONS REACHED LIMIT.\n",
      "\n",
      "Increase the number of iterations (max_iter) or scale the data as shown in:\n",
      "    https://scikit-learn.org/stable/modules/preprocessing.html\n",
      "Please also refer to the documentation for alternative solver options:\n",
      "    https://scikit-learn.org/stable/modules/linear_model.html#logistic-regression\n",
      "  n_iter_i = _check_optimize_result(\n",
      "/home/mikolaj/.local/lib/python3.9/site-packages/sklearn/linear_model/_logistic.py:814: ConvergenceWarning: lbfgs failed to converge (status=1):\n",
      "STOP: TOTAL NO. of ITERATIONS REACHED LIMIT.\n",
      "\n",
      "Increase the number of iterations (max_iter) or scale the data as shown in:\n",
      "    https://scikit-learn.org/stable/modules/preprocessing.html\n",
      "Please also refer to the documentation for alternative solver options:\n",
      "    https://scikit-learn.org/stable/modules/linear_model.html#logistic-regression\n",
      "  n_iter_i = _check_optimize_result(\n",
      "/home/mikolaj/.local/lib/python3.9/site-packages/sklearn/linear_model/_logistic.py:814: ConvergenceWarning: lbfgs failed to converge (status=1):\n",
      "STOP: TOTAL NO. of ITERATIONS REACHED LIMIT.\n",
      "\n",
      "Increase the number of iterations (max_iter) or scale the data as shown in:\n",
      "    https://scikit-learn.org/stable/modules/preprocessing.html\n",
      "Please also refer to the documentation for alternative solver options:\n",
      "    https://scikit-learn.org/stable/modules/linear_model.html#logistic-regression\n",
      "  n_iter_i = _check_optimize_result(\n",
      "/home/mikolaj/.local/lib/python3.9/site-packages/sklearn/linear_model/_logistic.py:814: ConvergenceWarning: lbfgs failed to converge (status=1):\n",
      "STOP: TOTAL NO. of ITERATIONS REACHED LIMIT.\n",
      "\n",
      "Increase the number of iterations (max_iter) or scale the data as shown in:\n",
      "    https://scikit-learn.org/stable/modules/preprocessing.html\n",
      "Please also refer to the documentation for alternative solver options:\n",
      "    https://scikit-learn.org/stable/modules/linear_model.html#logistic-regression\n",
      "  n_iter_i = _check_optimize_result(\n",
      "/home/mikolaj/.local/lib/python3.9/site-packages/sklearn/linear_model/_logistic.py:814: ConvergenceWarning: lbfgs failed to converge (status=1):\n",
      "STOP: TOTAL NO. of ITERATIONS REACHED LIMIT.\n",
      "\n",
      "Increase the number of iterations (max_iter) or scale the data as shown in:\n",
      "    https://scikit-learn.org/stable/modules/preprocessing.html\n",
      "Please also refer to the documentation for alternative solver options:\n",
      "    https://scikit-learn.org/stable/modules/linear_model.html#logistic-regression\n",
      "  n_iter_i = _check_optimize_result(\n",
      "/home/mikolaj/.local/lib/python3.9/site-packages/sklearn/linear_model/_logistic.py:814: ConvergenceWarning: lbfgs failed to converge (status=1):\n",
      "STOP: TOTAL NO. of ITERATIONS REACHED LIMIT.\n",
      "\n",
      "Increase the number of iterations (max_iter) or scale the data as shown in:\n",
      "    https://scikit-learn.org/stable/modules/preprocessing.html\n",
      "Please also refer to the documentation for alternative solver options:\n",
      "    https://scikit-learn.org/stable/modules/linear_model.html#logistic-regression\n",
      "  n_iter_i = _check_optimize_result(\n"
     ]
    },
    {
     "data": {
      "text/plain": [
       "GridSearchCV(cv=10,\n",
       "             estimator=Pipeline(steps=[('scaler', StandardScaler()),\n",
       "                                       ('model', LogisticRegression())]),\n",
       "             n_jobs=-1, param_grid={'model__C': [0.01, 0.1, 1, 10, 100]},\n",
       "             scoring='accuracy')"
      ]
     },
     "execution_count": 124,
     "metadata": {},
     "output_type": "execute_result"
    }
   ],
   "source": [
    "param_grid = {\"model__C\": [0.01, .1, 1, 10, 100]}\n",
    "\n",
    "optimizer = GridSearchCV(model, param_grid, scoring=\"accuracy\", cv=10, n_jobs=-1)\n",
    "optimizer.fit(X_train, y_train)"
   ]
  },
  {
   "cell_type": "code",
   "execution_count": 125,
   "id": "c6ff5539-0545-413e-ba91-b4eb70d981d5",
   "metadata": {},
   "outputs": [
    {
     "data": {
      "text/plain": [
       "{'model__C': 0.1}"
      ]
     },
     "execution_count": 125,
     "metadata": {},
     "output_type": "execute_result"
    }
   ],
   "source": [
    "optimizer.best_params_"
   ]
  },
  {
   "cell_type": "code",
   "execution_count": 128,
   "id": "848526c2-22a9-40ae-bafd-cc0d8ab7c391",
   "metadata": {
    "tags": []
   },
   "outputs": [
    {
     "data": {
      "text/plain": [
       "Pipeline(steps=[('scaler', StandardScaler()),\n",
       "                ('model', LogisticRegression(C=0.1))])"
      ]
     },
     "execution_count": 128,
     "metadata": {},
     "output_type": "execute_result"
    }
   ],
   "source": [
    "optimizer.best_estimator_"
   ]
  },
  {
   "cell_type": "code",
   "execution_count": 130,
   "id": "665632a0-54be-4b05-a058-53761469d17e",
   "metadata": {},
   "outputs": [
    {
     "data": {
      "text/plain": [
       "array([[-0.37064066, -0.41916095, -0.35864698, -0.35585377, -0.14281622,\n",
       "         0.0131113 , -0.35506093, -0.46461645, -0.02746596,  0.19399823,\n",
       "        -0.46232159,  0.03518105, -0.32455112, -0.34503224, -0.06401876,\n",
       "         0.25755862,  0.05882374, -0.11749044,  0.178695  ,  0.26020655,\n",
       "        -0.48944393, -0.60050503, -0.43417138, -0.435897  , -0.37545474,\n",
       "        -0.14972889, -0.40747582, -0.46418407, -0.47863431, -0.10538272]])"
      ]
     },
     "execution_count": 130,
     "metadata": {},
     "output_type": "execute_result"
    }
   ],
   "source": [
    "optimizer.best_estimator_.steps[1][1].coef_"
   ]
  },
  {
   "cell_type": "code",
   "execution_count": 131,
   "id": "8cbf04ff-a4cb-4346-a845-52ff469052ab",
   "metadata": {},
   "outputs": [
    {
     "data": {
      "text/plain": [
       "array([[-0.37064066, -0.41916095, -0.35864698, -0.35585377, -0.14281622,\n",
       "         0.0131113 , -0.35506093, -0.46461645, -0.02746596,  0.19399823,\n",
       "        -0.46232159,  0.03518105, -0.32455112, -0.34503224, -0.06401876,\n",
       "         0.25755862,  0.05882374, -0.11749044,  0.178695  ,  0.26020655,\n",
       "        -0.48944393, -0.60050503, -0.43417138, -0.435897  , -0.37545474,\n",
       "        -0.14972889, -0.40747582, -0.46418407, -0.47863431, -0.10538272]])"
      ]
     },
     "execution_count": 131,
     "metadata": {},
     "output_type": "execute_result"
    }
   ],
   "source": [
    "optimizer.best_estimator_.named_steps[\"model\"].coef_"
   ]
  },
  {
   "cell_type": "code",
   "execution_count": 132,
   "id": "79ff78ea-8277-4084-8502-2c0ed3799526",
   "metadata": {},
   "outputs": [
    {
     "data": {
      "text/plain": [
       "array([1, 0, 0, 1, 1, 0, 0, 0, 1, 1, 1, 0, 1, 0, 1, 0, 1, 1, 1, 0, 1, 1,\n",
       "       0, 1, 1, 1, 1, 1, 1, 0, 1, 1, 1, 1, 1, 1, 0, 1, 0, 1, 1, 0, 1, 1,\n",
       "       1, 1, 1, 1, 1, 1, 0, 0, 1, 1, 1, 1, 1, 0, 0, 1, 1, 0, 0, 1, 1, 1,\n",
       "       0, 0, 1, 1, 0, 0, 1, 0, 1, 1, 1, 1, 1, 1, 0, 1, 0, 0, 0, 0, 0, 0,\n",
       "       1, 1, 1, 1, 1, 1, 1, 1, 0, 0, 1, 0, 0, 1, 0, 0, 1, 1, 1, 0, 1, 1,\n",
       "       0, 1, 1, 0])"
      ]
     },
     "execution_count": 132,
     "metadata": {},
     "output_type": "execute_result"
    }
   ],
   "source": [
    "optimizer.best_estimator_.predict(X_test)"
   ]
  },
  {
   "cell_type": "code",
   "execution_count": 135,
   "id": "6358f85a-fbc7-4361-bbeb-4ebb5ce60a4b",
   "metadata": {},
   "outputs": [
    {
     "data": {
      "text/plain": [
       "array([0.94502415, 0.97357488, 0.97357488, 0.96922705, 0.96922705])"
      ]
     },
     "execution_count": 135,
     "metadata": {},
     "output_type": "execute_result"
    }
   ],
   "source": [
    "optimizer.cv_results_[\"mean_test_score\"]"
   ]
  },
  {
   "cell_type": "code",
   "execution_count": 136,
   "id": "19ea5e75-ffd9-48be-8d7e-8e9151b0654a",
   "metadata": {},
   "outputs": [
    {
     "data": {
      "text/plain": [
       "[{'model__C': 0.01},\n",
       " {'model__C': 0.1},\n",
       " {'model__C': 1},\n",
       " {'model__C': 10},\n",
       " {'model__C': 100}]"
      ]
     },
     "execution_count": 136,
     "metadata": {},
     "output_type": "execute_result"
    }
   ],
   "source": [
    "optimizer.cv_results_[\"params\"]"
   ]
  },
  {
   "cell_type": "code",
   "execution_count": 137,
   "id": "712d5618-45cd-4409-b304-493252098ba6",
   "metadata": {},
   "outputs": [],
   "source": [
    "# Drzewo decyzyjne"
   ]
  },
  {
   "cell_type": "code",
   "execution_count": 138,
   "id": "4b527f9a-d333-4f4c-ae7c-728aa0738d0e",
   "metadata": {},
   "outputs": [
    {
     "data": {
      "text/plain": [
       "array([[0.9976836 , 0.91421931, 1.        ],\n",
       "       [0.38299266, 0.41600768, 1.        ],\n",
       "       [0.06317648, 0.31313783, 1.        ]])"
      ]
     },
     "execution_count": 138,
     "metadata": {},
     "output_type": "execute_result"
    }
   ],
   "source": [
    "data = np.loadtxt(\"Dane/zbior1.txt\")\n",
    "data[:3]"
   ]
  },
  {
   "cell_type": "code",
   "execution_count": 139,
   "id": "bbb80b46-74a3-4b95-abd9-bd9ee2db5e29",
   "metadata": {
    "collapsed": true,
    "jupyter": {
     "outputs_hidden": true
    },
    "tags": []
   },
   "outputs": [
    {
     "data": {
      "text/plain": [
       "\u001b[0;31mInit signature:\u001b[0m\n",
       "\u001b[0mDecisionTreeClassifier\u001b[0m\u001b[0;34m(\u001b[0m\u001b[0;34m\u001b[0m\n",
       "\u001b[0;34m\u001b[0m    \u001b[0;34m*\u001b[0m\u001b[0;34m,\u001b[0m\u001b[0;34m\u001b[0m\n",
       "\u001b[0;34m\u001b[0m    \u001b[0mcriterion\u001b[0m\u001b[0;34m=\u001b[0m\u001b[0;34m'gini'\u001b[0m\u001b[0;34m,\u001b[0m\u001b[0;34m\u001b[0m\n",
       "\u001b[0;34m\u001b[0m    \u001b[0msplitter\u001b[0m\u001b[0;34m=\u001b[0m\u001b[0;34m'best'\u001b[0m\u001b[0;34m,\u001b[0m\u001b[0;34m\u001b[0m\n",
       "\u001b[0;34m\u001b[0m    \u001b[0mmax_depth\u001b[0m\u001b[0;34m=\u001b[0m\u001b[0;32mNone\u001b[0m\u001b[0;34m,\u001b[0m\u001b[0;34m\u001b[0m\n",
       "\u001b[0;34m\u001b[0m    \u001b[0mmin_samples_split\u001b[0m\u001b[0;34m=\u001b[0m\u001b[0;36m2\u001b[0m\u001b[0;34m,\u001b[0m\u001b[0;34m\u001b[0m\n",
       "\u001b[0;34m\u001b[0m    \u001b[0mmin_samples_leaf\u001b[0m\u001b[0;34m=\u001b[0m\u001b[0;36m1\u001b[0m\u001b[0;34m,\u001b[0m\u001b[0;34m\u001b[0m\n",
       "\u001b[0;34m\u001b[0m    \u001b[0mmin_weight_fraction_leaf\u001b[0m\u001b[0;34m=\u001b[0m\u001b[0;36m0.0\u001b[0m\u001b[0;34m,\u001b[0m\u001b[0;34m\u001b[0m\n",
       "\u001b[0;34m\u001b[0m    \u001b[0mmax_features\u001b[0m\u001b[0;34m=\u001b[0m\u001b[0;32mNone\u001b[0m\u001b[0;34m,\u001b[0m\u001b[0;34m\u001b[0m\n",
       "\u001b[0;34m\u001b[0m    \u001b[0mrandom_state\u001b[0m\u001b[0;34m=\u001b[0m\u001b[0;32mNone\u001b[0m\u001b[0;34m,\u001b[0m\u001b[0;34m\u001b[0m\n",
       "\u001b[0;34m\u001b[0m    \u001b[0mmax_leaf_nodes\u001b[0m\u001b[0;34m=\u001b[0m\u001b[0;32mNone\u001b[0m\u001b[0;34m,\u001b[0m\u001b[0;34m\u001b[0m\n",
       "\u001b[0;34m\u001b[0m    \u001b[0mmin_impurity_decrease\u001b[0m\u001b[0;34m=\u001b[0m\u001b[0;36m0.0\u001b[0m\u001b[0;34m,\u001b[0m\u001b[0;34m\u001b[0m\n",
       "\u001b[0;34m\u001b[0m    \u001b[0mclass_weight\u001b[0m\u001b[0;34m=\u001b[0m\u001b[0;32mNone\u001b[0m\u001b[0;34m,\u001b[0m\u001b[0;34m\u001b[0m\n",
       "\u001b[0;34m\u001b[0m    \u001b[0mccp_alpha\u001b[0m\u001b[0;34m=\u001b[0m\u001b[0;36m0.0\u001b[0m\u001b[0;34m,\u001b[0m\u001b[0;34m\u001b[0m\n",
       "\u001b[0;34m\u001b[0m\u001b[0;34m)\u001b[0m\u001b[0;34m\u001b[0m\u001b[0;34m\u001b[0m\u001b[0m\n",
       "\u001b[0;31mDocstring:\u001b[0m     \n",
       "A decision tree classifier.\n",
       "\n",
       "Read more in the :ref:`User Guide <tree>`.\n",
       "\n",
       "Parameters\n",
       "----------\n",
       "criterion : {\"gini\", \"entropy\"}, default=\"gini\"\n",
       "    The function to measure the quality of a split. Supported criteria are\n",
       "    \"gini\" for the Gini impurity and \"entropy\" for the information gain.\n",
       "\n",
       "splitter : {\"best\", \"random\"}, default=\"best\"\n",
       "    The strategy used to choose the split at each node. Supported\n",
       "    strategies are \"best\" to choose the best split and \"random\" to choose\n",
       "    the best random split.\n",
       "\n",
       "max_depth : int, default=None\n",
       "    The maximum depth of the tree. If None, then nodes are expanded until\n",
       "    all leaves are pure or until all leaves contain less than\n",
       "    min_samples_split samples.\n",
       "\n",
       "min_samples_split : int or float, default=2\n",
       "    The minimum number of samples required to split an internal node:\n",
       "\n",
       "    - If int, then consider `min_samples_split` as the minimum number.\n",
       "    - If float, then `min_samples_split` is a fraction and\n",
       "      `ceil(min_samples_split * n_samples)` are the minimum\n",
       "      number of samples for each split.\n",
       "\n",
       "    .. versionchanged:: 0.18\n",
       "       Added float values for fractions.\n",
       "\n",
       "min_samples_leaf : int or float, default=1\n",
       "    The minimum number of samples required to be at a leaf node.\n",
       "    A split point at any depth will only be considered if it leaves at\n",
       "    least ``min_samples_leaf`` training samples in each of the left and\n",
       "    right branches.  This may have the effect of smoothing the model,\n",
       "    especially in regression.\n",
       "\n",
       "    - If int, then consider `min_samples_leaf` as the minimum number.\n",
       "    - If float, then `min_samples_leaf` is a fraction and\n",
       "      `ceil(min_samples_leaf * n_samples)` are the minimum\n",
       "      number of samples for each node.\n",
       "\n",
       "    .. versionchanged:: 0.18\n",
       "       Added float values for fractions.\n",
       "\n",
       "min_weight_fraction_leaf : float, default=0.0\n",
       "    The minimum weighted fraction of the sum total of weights (of all\n",
       "    the input samples) required to be at a leaf node. Samples have\n",
       "    equal weight when sample_weight is not provided.\n",
       "\n",
       "max_features : int, float or {\"auto\", \"sqrt\", \"log2\"}, default=None\n",
       "    The number of features to consider when looking for the best split:\n",
       "\n",
       "        - If int, then consider `max_features` features at each split.\n",
       "        - If float, then `max_features` is a fraction and\n",
       "          `int(max_features * n_features)` features are considered at each\n",
       "          split.\n",
       "        - If \"auto\", then `max_features=sqrt(n_features)`.\n",
       "        - If \"sqrt\", then `max_features=sqrt(n_features)`.\n",
       "        - If \"log2\", then `max_features=log2(n_features)`.\n",
       "        - If None, then `max_features=n_features`.\n",
       "\n",
       "    Note: the search for a split does not stop until at least one\n",
       "    valid partition of the node samples is found, even if it requires to\n",
       "    effectively inspect more than ``max_features`` features.\n",
       "\n",
       "random_state : int, RandomState instance or None, default=None\n",
       "    Controls the randomness of the estimator. The features are always\n",
       "    randomly permuted at each split, even if ``splitter`` is set to\n",
       "    ``\"best\"``. When ``max_features < n_features``, the algorithm will\n",
       "    select ``max_features`` at random at each split before finding the best\n",
       "    split among them. But the best found split may vary across different\n",
       "    runs, even if ``max_features=n_features``. That is the case, if the\n",
       "    improvement of the criterion is identical for several splits and one\n",
       "    split has to be selected at random. To obtain a deterministic behaviour\n",
       "    during fitting, ``random_state`` has to be fixed to an integer.\n",
       "    See :term:`Glossary <random_state>` for details.\n",
       "\n",
       "max_leaf_nodes : int, default=None\n",
       "    Grow a tree with ``max_leaf_nodes`` in best-first fashion.\n",
       "    Best nodes are defined as relative reduction in impurity.\n",
       "    If None then unlimited number of leaf nodes.\n",
       "\n",
       "min_impurity_decrease : float, default=0.0\n",
       "    A node will be split if this split induces a decrease of the impurity\n",
       "    greater than or equal to this value.\n",
       "\n",
       "    The weighted impurity decrease equation is the following::\n",
       "\n",
       "        N_t / N * (impurity - N_t_R / N_t * right_impurity\n",
       "                            - N_t_L / N_t * left_impurity)\n",
       "\n",
       "    where ``N`` is the total number of samples, ``N_t`` is the number of\n",
       "    samples at the current node, ``N_t_L`` is the number of samples in the\n",
       "    left child, and ``N_t_R`` is the number of samples in the right child.\n",
       "\n",
       "    ``N``, ``N_t``, ``N_t_R`` and ``N_t_L`` all refer to the weighted sum,\n",
       "    if ``sample_weight`` is passed.\n",
       "\n",
       "    .. versionadded:: 0.19\n",
       "\n",
       "class_weight : dict, list of dict or \"balanced\", default=None\n",
       "    Weights associated with classes in the form ``{class_label: weight}``.\n",
       "    If None, all classes are supposed to have weight one. For\n",
       "    multi-output problems, a list of dicts can be provided in the same\n",
       "    order as the columns of y.\n",
       "\n",
       "    Note that for multioutput (including multilabel) weights should be\n",
       "    defined for each class of every column in its own dict. For example,\n",
       "    for four-class multilabel classification weights should be\n",
       "    [{0: 1, 1: 1}, {0: 1, 1: 5}, {0: 1, 1: 1}, {0: 1, 1: 1}] instead of\n",
       "    [{1:1}, {2:5}, {3:1}, {4:1}].\n",
       "\n",
       "    The \"balanced\" mode uses the values of y to automatically adjust\n",
       "    weights inversely proportional to class frequencies in the input data\n",
       "    as ``n_samples / (n_classes * np.bincount(y))``\n",
       "\n",
       "    For multi-output, the weights of each column of y will be multiplied.\n",
       "\n",
       "    Note that these weights will be multiplied with sample_weight (passed\n",
       "    through the fit method) if sample_weight is specified.\n",
       "\n",
       "ccp_alpha : non-negative float, default=0.0\n",
       "    Complexity parameter used for Minimal Cost-Complexity Pruning. The\n",
       "    subtree with the largest cost complexity that is smaller than\n",
       "    ``ccp_alpha`` will be chosen. By default, no pruning is performed. See\n",
       "    :ref:`minimal_cost_complexity_pruning` for details.\n",
       "\n",
       "    .. versionadded:: 0.22\n",
       "\n",
       "Attributes\n",
       "----------\n",
       "classes_ : ndarray of shape (n_classes,) or list of ndarray\n",
       "    The classes labels (single output problem),\n",
       "    or a list of arrays of class labels (multi-output problem).\n",
       "\n",
       "feature_importances_ : ndarray of shape (n_features,)\n",
       "    The impurity-based feature importances.\n",
       "    The higher, the more important the feature.\n",
       "    The importance of a feature is computed as the (normalized)\n",
       "    total reduction of the criterion brought by that feature.  It is also\n",
       "    known as the Gini importance [4]_.\n",
       "\n",
       "    Warning: impurity-based feature importances can be misleading for\n",
       "    high cardinality features (many unique values). See\n",
       "    :func:`sklearn.inspection.permutation_importance` as an alternative.\n",
       "\n",
       "max_features_ : int\n",
       "    The inferred value of max_features.\n",
       "\n",
       "n_classes_ : int or list of int\n",
       "    The number of classes (for single output problems),\n",
       "    or a list containing the number of classes for each\n",
       "    output (for multi-output problems).\n",
       "\n",
       "n_features_ : int\n",
       "    The number of features when ``fit`` is performed.\n",
       "\n",
       "    .. deprecated:: 1.0\n",
       "       `n_features_` is deprecated in 1.0 and will be removed in\n",
       "       1.2. Use `n_features_in_` instead.\n",
       "\n",
       "n_features_in_ : int\n",
       "    Number of features seen during :term:`fit`.\n",
       "\n",
       "    .. versionadded:: 0.24\n",
       "\n",
       "feature_names_in_ : ndarray of shape (`n_features_in_`,)\n",
       "    Names of features seen during :term:`fit`. Defined only when `X`\n",
       "    has feature names that are all strings.\n",
       "\n",
       "    .. versionadded:: 1.0\n",
       "\n",
       "n_outputs_ : int\n",
       "    The number of outputs when ``fit`` is performed.\n",
       "\n",
       "tree_ : Tree instance\n",
       "    The underlying Tree object. Please refer to\n",
       "    ``help(sklearn.tree._tree.Tree)`` for attributes of Tree object and\n",
       "    :ref:`sphx_glr_auto_examples_tree_plot_unveil_tree_structure.py`\n",
       "    for basic usage of these attributes.\n",
       "\n",
       "See Also\n",
       "--------\n",
       "DecisionTreeRegressor : A decision tree regressor.\n",
       "\n",
       "Notes\n",
       "-----\n",
       "The default values for the parameters controlling the size of the trees\n",
       "(e.g. ``max_depth``, ``min_samples_leaf``, etc.) lead to fully grown and\n",
       "unpruned trees which can potentially be very large on some data sets. To\n",
       "reduce memory consumption, the complexity and size of the trees should be\n",
       "controlled by setting those parameter values.\n",
       "\n",
       "The :meth:`predict` method operates using the :func:`numpy.argmax`\n",
       "function on the outputs of :meth:`predict_proba`. This means that in\n",
       "case the highest predicted probabilities are tied, the classifier will\n",
       "predict the tied class with the lowest index in :term:`classes_`.\n",
       "\n",
       "References\n",
       "----------\n",
       "\n",
       ".. [1] https://en.wikipedia.org/wiki/Decision_tree_learning\n",
       "\n",
       ".. [2] L. Breiman, J. Friedman, R. Olshen, and C. Stone, \"Classification\n",
       "       and Regression Trees\", Wadsworth, Belmont, CA, 1984.\n",
       "\n",
       ".. [3] T. Hastie, R. Tibshirani and J. Friedman. \"Elements of Statistical\n",
       "       Learning\", Springer, 2009.\n",
       "\n",
       ".. [4] L. Breiman, and A. Cutler, \"Random Forests\",\n",
       "       https://www.stat.berkeley.edu/~breiman/RandomForests/cc_home.htm\n",
       "\n",
       "Examples\n",
       "--------\n",
       ">>> from sklearn.datasets import load_iris\n",
       ">>> from sklearn.model_selection import cross_val_score\n",
       ">>> from sklearn.tree import DecisionTreeClassifier\n",
       ">>> clf = DecisionTreeClassifier(random_state=0)\n",
       ">>> iris = load_iris()\n",
       ">>> cross_val_score(clf, iris.data, iris.target, cv=10)\n",
       "...                             # doctest: +SKIP\n",
       "...\n",
       "array([ 1.     ,  0.93...,  0.86...,  0.93...,  0.93...,\n",
       "        0.93...,  0.93...,  1.     ,  0.93...,  1.      ])\n",
       "\u001b[0;31mFile:\u001b[0m           ~/.local/lib/python3.9/site-packages/sklearn/tree/_classes.py\n",
       "\u001b[0;31mType:\u001b[0m           ABCMeta\n",
       "\u001b[0;31mSubclasses:\u001b[0m     ExtraTreeClassifier\n"
      ]
     },
     "metadata": {},
     "output_type": "display_data"
    }
   ],
   "source": [
    "from sklearn.tree import DecisionTreeClassifier\n",
    "?DecisionTreeClassifier"
   ]
  },
  {
   "cell_type": "code",
   "execution_count": 160,
   "id": "29cab72a-2ff5-49a1-9e95-3d718ca8bf90",
   "metadata": {},
   "outputs": [],
   "source": [
    "X = data[:,: -1]\n",
    "y = data[:, -1]"
   ]
  },
  {
   "cell_type": "code",
   "execution_count": 174,
   "id": "24da58f3-47b4-4081-9cf1-0b27f05392db",
   "metadata": {},
   "outputs": [],
   "source": [
    "X_train, X_test, y_train, y_test = train_test_split(X, y, test_size=100)"
   ]
  },
  {
   "cell_type": "code",
   "execution_count": 175,
   "id": "638d025c-448e-411e-940d-55db6999c4e4",
   "metadata": {},
   "outputs": [
    {
     "data": {
      "text/plain": [
       "0.58"
      ]
     },
     "execution_count": 175,
     "metadata": {},
     "output_type": "execute_result"
    }
   ],
   "source": [
    "model1 = LogisticRegression(\"none\", max_iter = 10000)\n",
    "model1.fit(X_train, y_train)\n",
    "y_pred = model1.predict(X_test)\n",
    "accuracy_score(y_test, y_pred)"
   ]
  },
  {
   "cell_type": "code",
   "execution_count": 176,
   "id": "88deb122-8557-4b3b-8c69-15ce15586022",
   "metadata": {},
   "outputs": [
    {
     "data": {
      "text/plain": [
       "0.99"
      ]
     },
     "execution_count": 176,
     "metadata": {},
     "output_type": "execute_result"
    }
   ],
   "source": [
    "model2 = DecisionTreeClassifier()\n",
    "model2.fit(X_train, y_train)\n",
    "y_pred = model2.predict(X_test)\n",
    "accuracy_score(y_test, y_pred)"
   ]
  },
  {
   "cell_type": "code",
   "execution_count": 180,
   "id": "1bdeb19f-97a8-427e-b616-32036a03d04e",
   "metadata": {},
   "outputs": [
    {
     "data": {
      "text/plain": [
       "array([0.575, 0.575, 0.575, 0.575, 0.575])"
      ]
     },
     "execution_count": 180,
     "metadata": {},
     "output_type": "execute_result"
    }
   ],
   "source": [
    "model3 = Pipeline([(\"scaler\", StandardScaler()), (\"model\", LogisticRegression())]) #nazywamy nasze kroki\n",
    "param_grid = {\"model__C\": [0.01, .1, 1, 10, 100]}\n",
    "\n",
    "optimizer = GridSearchCV(model3, param_grid, scoring=\"accuracy\", cv=10, n_jobs=-1)\n",
    "optimizer.fit(X_train, y_train)\n",
    "optimizer.cv_results_[\"mean_test_score\"]"
   ]
  },
  {
   "cell_type": "code",
   "execution_count": 183,
   "id": "05341b4b-2205-4319-9798-bc791657dd19",
   "metadata": {},
   "outputs": [
    {
     "data": {
      "text/plain": [
       "{'model__C': 0.1}"
      ]
     },
     "execution_count": 183,
     "metadata": {},
     "output_type": "execute_result"
    }
   ],
   "source": [
    "optimizer.best_params_"
   ]
  },
  {
   "cell_type": "code",
   "execution_count": 184,
   "id": "531bdf04-8499-4902-9c32-347e14f1891d",
   "metadata": {},
   "outputs": [
    {
     "data": {
      "image/png": "[encoded data removed]",
      "text/plain": [
       "<Figure size 432x288 with 1 Axes>"
      ]
     },
     "metadata": {
      "needs_background": "light"
     },
     "output_type": "display_data"
    }
   ],
   "source": [
    "plt.scatter(X[:,0], X[:,1], c=y)\n",
    "plt.show()"
   ]
  },
  {
   "cell_type": "code",
   "execution_count": 185,
   "id": "9f4aa4d3-bef0-400a-8cc8-9fa196df602c",
   "metadata": {},
   "outputs": [],
   "source": [
    "#Wracamy do poprzednich danych"
   ]
  },
  {
   "cell_type": "code",
   "execution_count": 186,
   "id": "6abf701c-34cc-41a9-9435-04836559e72c",
   "metadata": {},
   "outputs": [],
   "source": [
    "data = load_breast_cancer()\n",
    "\n",
    "X = data.data\n",
    "y = data.target"
   ]
  },
  {
   "cell_type": "code",
   "execution_count": 187,
   "id": "c32cae56-af7c-44ee-8150-dfb02ecfde60",
   "metadata": {
    "collapsed": true,
    "jupyter": {
     "outputs_hidden": true
    },
    "tags": []
   },
   "outputs": [
    {
     "data": {
      "text/plain": [
       "\u001b[0;31mInit signature:\u001b[0m\n",
       "\u001b[0mDecisionTreeClassifier\u001b[0m\u001b[0;34m(\u001b[0m\u001b[0;34m\u001b[0m\n",
       "\u001b[0;34m\u001b[0m    \u001b[0;34m*\u001b[0m\u001b[0;34m,\u001b[0m\u001b[0;34m\u001b[0m\n",
       "\u001b[0;34m\u001b[0m    \u001b[0mcriterion\u001b[0m\u001b[0;34m=\u001b[0m\u001b[0;34m'gini'\u001b[0m\u001b[0;34m,\u001b[0m\u001b[0;34m\u001b[0m\n",
       "\u001b[0;34m\u001b[0m    \u001b[0msplitter\u001b[0m\u001b[0;34m=\u001b[0m\u001b[0;34m'best'\u001b[0m\u001b[0;34m,\u001b[0m\u001b[0;34m\u001b[0m\n",
       "\u001b[0;34m\u001b[0m    \u001b[0mmax_depth\u001b[0m\u001b[0;34m=\u001b[0m\u001b[0;32mNone\u001b[0m\u001b[0;34m,\u001b[0m\u001b[0;34m\u001b[0m\n",
       "\u001b[0;34m\u001b[0m    \u001b[0mmin_samples_split\u001b[0m\u001b[0;34m=\u001b[0m\u001b[0;36m2\u001b[0m\u001b[0;34m,\u001b[0m\u001b[0;34m\u001b[0m\n",
       "\u001b[0;34m\u001b[0m    \u001b[0mmin_samples_leaf\u001b[0m\u001b[0;34m=\u001b[0m\u001b[0;36m1\u001b[0m\u001b[0;34m,\u001b[0m\u001b[0;34m\u001b[0m\n",
       "\u001b[0;34m\u001b[0m    \u001b[0mmin_weight_fraction_leaf\u001b[0m\u001b[0;34m=\u001b[0m\u001b[0;36m0.0\u001b[0m\u001b[0;34m,\u001b[0m\u001b[0;34m\u001b[0m\n",
       "\u001b[0;34m\u001b[0m    \u001b[0mmax_features\u001b[0m\u001b[0;34m=\u001b[0m\u001b[0;32mNone\u001b[0m\u001b[0;34m,\u001b[0m\u001b[0;34m\u001b[0m\n",
       "\u001b[0;34m\u001b[0m    \u001b[0mrandom_state\u001b[0m\u001b[0;34m=\u001b[0m\u001b[0;32mNone\u001b[0m\u001b[0;34m,\u001b[0m\u001b[0;34m\u001b[0m\n",
       "\u001b[0;34m\u001b[0m    \u001b[0mmax_leaf_nodes\u001b[0m\u001b[0;34m=\u001b[0m\u001b[0;32mNone\u001b[0m\u001b[0;34m,\u001b[0m\u001b[0;34m\u001b[0m\n",
       "\u001b[0;34m\u001b[0m    \u001b[0mmin_impurity_decrease\u001b[0m\u001b[0;34m=\u001b[0m\u001b[0;36m0.0\u001b[0m\u001b[0;34m,\u001b[0m\u001b[0;34m\u001b[0m\n",
       "\u001b[0;34m\u001b[0m    \u001b[0mclass_weight\u001b[0m\u001b[0;34m=\u001b[0m\u001b[0;32mNone\u001b[0m\u001b[0;34m,\u001b[0m\u001b[0;34m\u001b[0m\n",
       "\u001b[0;34m\u001b[0m    \u001b[0mccp_alpha\u001b[0m\u001b[0;34m=\u001b[0m\u001b[0;36m0.0\u001b[0m\u001b[0;34m,\u001b[0m\u001b[0;34m\u001b[0m\n",
       "\u001b[0;34m\u001b[0m\u001b[0;34m)\u001b[0m\u001b[0;34m\u001b[0m\u001b[0;34m\u001b[0m\u001b[0m\n",
       "\u001b[0;31mDocstring:\u001b[0m     \n",
       "A decision tree classifier.\n",
       "\n",
       "Read more in the :ref:`User Guide <tree>`.\n",
       "\n",
       "Parameters\n",
       "----------\n",
       "criterion : {\"gini\", \"entropy\"}, default=\"gini\"\n",
       "    The function to measure the quality of a split. Supported criteria are\n",
       "    \"gini\" for the Gini impurity and \"entropy\" for the information gain.\n",
       "\n",
       "splitter : {\"best\", \"random\"}, default=\"best\"\n",
       "    The strategy used to choose the split at each node. Supported\n",
       "    strategies are \"best\" to choose the best split and \"random\" to choose\n",
       "    the best random split.\n",
       "\n",
       "max_depth : int, default=None\n",
       "    The maximum depth of the tree. If None, then nodes are expanded until\n",
       "    all leaves are pure or until all leaves contain less than\n",
       "    min_samples_split samples.\n",
       "\n",
       "min_samples_split : int or float, default=2\n",
       "    The minimum number of samples required to split an internal node:\n",
       "\n",
       "    - If int, then consider `min_samples_split` as the minimum number.\n",
       "    - If float, then `min_samples_split` is a fraction and\n",
       "      `ceil(min_samples_split * n_samples)` are the minimum\n",
       "      number of samples for each split.\n",
       "\n",
       "    .. versionchanged:: 0.18\n",
       "       Added float values for fractions.\n",
       "\n",
       "min_samples_leaf : int or float, default=1\n",
       "    The minimum number of samples required to be at a leaf node.\n",
       "    A split point at any depth will only be considered if it leaves at\n",
       "    least ``min_samples_leaf`` training samples in each of the left and\n",
       "    right branches.  This may have the effect of smoothing the model,\n",
       "    especially in regression.\n",
       "\n",
       "    - If int, then consider `min_samples_leaf` as the minimum number.\n",
       "    - If float, then `min_samples_leaf` is a fraction and\n",
       "      `ceil(min_samples_leaf * n_samples)` are the minimum\n",
       "      number of samples for each node.\n",
       "\n",
       "    .. versionchanged:: 0.18\n",
       "       Added float values for fractions.\n",
       "\n",
       "min_weight_fraction_leaf : float, default=0.0\n",
       "    The minimum weighted fraction of the sum total of weights (of all\n",
       "    the input samples) required to be at a leaf node. Samples have\n",
       "    equal weight when sample_weight is not provided.\n",
       "\n",
       "max_features : int, float or {\"auto\", \"sqrt\", \"log2\"}, default=None\n",
       "    The number of features to consider when looking for the best split:\n",
       "\n",
       "        - If int, then consider `max_features` features at each split.\n",
       "        - If float, then `max_features` is a fraction and\n",
       "          `int(max_features * n_features)` features are considered at each\n",
       "          split.\n",
       "        - If \"auto\", then `max_features=sqrt(n_features)`.\n",
       "        - If \"sqrt\", then `max_features=sqrt(n_features)`.\n",
       "        - If \"log2\", then `max_features=log2(n_features)`.\n",
       "        - If None, then `max_features=n_features`.\n",
       "\n",
       "    Note: the search for a split does not stop until at least one\n",
       "    valid partition of the node samples is found, even if it requires to\n",
       "    effectively inspect more than ``max_features`` features.\n",
       "\n",
       "random_state : int, RandomState instance or None, default=None\n",
       "    Controls the randomness of the estimator. The features are always\n",
       "    randomly permuted at each split, even if ``splitter`` is set to\n",
       "    ``\"best\"``. When ``max_features < n_features``, the algorithm will\n",
       "    select ``max_features`` at random at each split before finding the best\n",
       "    split among them. But the best found split may vary across different\n",
       "    runs, even if ``max_features=n_features``. That is the case, if the\n",
       "    improvement of the criterion is identical for several splits and one\n",
       "    split has to be selected at random. To obtain a deterministic behaviour\n",
       "    during fitting, ``random_state`` has to be fixed to an integer.\n",
       "    See :term:`Glossary <random_state>` for details.\n",
       "\n",
       "max_leaf_nodes : int, default=None\n",
       "    Grow a tree with ``max_leaf_nodes`` in best-first fashion.\n",
       "    Best nodes are defined as relative reduction in impurity.\n",
       "    If None then unlimited number of leaf nodes.\n",
       "\n",
       "min_impurity_decrease : float, default=0.0\n",
       "    A node will be split if this split induces a decrease of the impurity\n",
       "    greater than or equal to this value.\n",
       "\n",
       "    The weighted impurity decrease equation is the following::\n",
       "\n",
       "        N_t / N * (impurity - N_t_R / N_t * right_impurity\n",
       "                            - N_t_L / N_t * left_impurity)\n",
       "\n",
       "    where ``N`` is the total number of samples, ``N_t`` is the number of\n",
       "    samples at the current node, ``N_t_L`` is the number of samples in the\n",
       "    left child, and ``N_t_R`` is the number of samples in the right child.\n",
       "\n",
       "    ``N``, ``N_t``, ``N_t_R`` and ``N_t_L`` all refer to the weighted sum,\n",
       "    if ``sample_weight`` is passed.\n",
       "\n",
       "    .. versionadded:: 0.19\n",
       "\n",
       "class_weight : dict, list of dict or \"balanced\", default=None\n",
       "    Weights associated with classes in the form ``{class_label: weight}``.\n",
       "    If None, all classes are supposed to have weight one. For\n",
       "    multi-output problems, a list of dicts can be provided in the same\n",
       "    order as the columns of y.\n",
       "\n",
       "    Note that for multioutput (including multilabel) weights should be\n",
       "    defined for each class of every column in its own dict. For example,\n",
       "    for four-class multilabel classification weights should be\n",
       "    [{0: 1, 1: 1}, {0: 1, 1: 5}, {0: 1, 1: 1}, {0: 1, 1: 1}] instead of\n",
       "    [{1:1}, {2:5}, {3:1}, {4:1}].\n",
       "\n",
       "    The \"balanced\" mode uses the values of y to automatically adjust\n",
       "    weights inversely proportional to class frequencies in the input data\n",
       "    as ``n_samples / (n_classes * np.bincount(y))``\n",
       "\n",
       "    For multi-output, the weights of each column of y will be multiplied.\n",
       "\n",
       "    Note that these weights will be multiplied with sample_weight (passed\n",
       "    through the fit method) if sample_weight is specified.\n",
       "\n",
       "ccp_alpha : non-negative float, default=0.0\n",
       "    Complexity parameter used for Minimal Cost-Complexity Pruning. The\n",
       "    subtree with the largest cost complexity that is smaller than\n",
       "    ``ccp_alpha`` will be chosen. By default, no pruning is performed. See\n",
       "    :ref:`minimal_cost_complexity_pruning` for details.\n",
       "\n",
       "    .. versionadded:: 0.22\n",
       "\n",
       "Attributes\n",
       "----------\n",
       "classes_ : ndarray of shape (n_classes,) or list of ndarray\n",
       "    The classes labels (single output problem),\n",
       "    or a list of arrays of class labels (multi-output problem).\n",
       "\n",
       "feature_importances_ : ndarray of shape (n_features,)\n",
       "    The impurity-based feature importances.\n",
       "    The higher, the more important the feature.\n",
       "    The importance of a feature is computed as the (normalized)\n",
       "    total reduction of the criterion brought by that feature.  It is also\n",
       "    known as the Gini importance [4]_.\n",
       "\n",
       "    Warning: impurity-based feature importances can be misleading for\n",
       "    high cardinality features (many unique values). See\n",
       "    :func:`sklearn.inspection.permutation_importance` as an alternative.\n",
       "\n",
       "max_features_ : int\n",
       "    The inferred value of max_features.\n",
       "\n",
       "n_classes_ : int or list of int\n",
       "    The number of classes (for single output problems),\n",
       "    or a list containing the number of classes for each\n",
       "    output (for multi-output problems).\n",
       "\n",
       "n_features_ : int\n",
       "    The number of features when ``fit`` is performed.\n",
       "\n",
       "    .. deprecated:: 1.0\n",
       "       `n_features_` is deprecated in 1.0 and will be removed in\n",
       "       1.2. Use `n_features_in_` instead.\n",
       "\n",
       "n_features_in_ : int\n",
       "    Number of features seen during :term:`fit`.\n",
       "\n",
       "    .. versionadded:: 0.24\n",
       "\n",
       "feature_names_in_ : ndarray of shape (`n_features_in_`,)\n",
       "    Names of features seen during :term:`fit`. Defined only when `X`\n",
       "    has feature names that are all strings.\n",
       "\n",
       "    .. versionadded:: 1.0\n",
       "\n",
       "n_outputs_ : int\n",
       "    The number of outputs when ``fit`` is performed.\n",
       "\n",
       "tree_ : Tree instance\n",
       "    The underlying Tree object. Please refer to\n",
       "    ``help(sklearn.tree._tree.Tree)`` for attributes of Tree object and\n",
       "    :ref:`sphx_glr_auto_examples_tree_plot_unveil_tree_structure.py`\n",
       "    for basic usage of these attributes.\n",
       "\n",
       "See Also\n",
       "--------\n",
       "DecisionTreeRegressor : A decision tree regressor.\n",
       "\n",
       "Notes\n",
       "-----\n",
       "The default values for the parameters controlling the size of the trees\n",
       "(e.g. ``max_depth``, ``min_samples_leaf``, etc.) lead to fully grown and\n",
       "unpruned trees which can potentially be very large on some data sets. To\n",
       "reduce memory consumption, the complexity and size of the trees should be\n",
       "controlled by setting those parameter values.\n",
       "\n",
       "The :meth:`predict` method operates using the :func:`numpy.argmax`\n",
       "function on the outputs of :meth:`predict_proba`. This means that in\n",
       "case the highest predicted probabilities are tied, the classifier will\n",
       "predict the tied class with the lowest index in :term:`classes_`.\n",
       "\n",
       "References\n",
       "----------\n",
       "\n",
       ".. [1] https://en.wikipedia.org/wiki/Decision_tree_learning\n",
       "\n",
       ".. [2] L. Breiman, J. Friedman, R. Olshen, and C. Stone, \"Classification\n",
       "       and Regression Trees\", Wadsworth, Belmont, CA, 1984.\n",
       "\n",
       ".. [3] T. Hastie, R. Tibshirani and J. Friedman. \"Elements of Statistical\n",
       "       Learning\", Springer, 2009.\n",
       "\n",
       ".. [4] L. Breiman, and A. Cutler, \"Random Forests\",\n",
       "       https://www.stat.berkeley.edu/~breiman/RandomForests/cc_home.htm\n",
       "\n",
       "Examples\n",
       "--------\n",
       ">>> from sklearn.datasets import load_iris\n",
       ">>> from sklearn.model_selection import cross_val_score\n",
       ">>> from sklearn.tree import DecisionTreeClassifier\n",
       ">>> clf = DecisionTreeClassifier(random_state=0)\n",
       ">>> iris = load_iris()\n",
       ">>> cross_val_score(clf, iris.data, iris.target, cv=10)\n",
       "...                             # doctest: +SKIP\n",
       "...\n",
       "array([ 1.     ,  0.93...,  0.86...,  0.93...,  0.93...,\n",
       "        0.93...,  0.93...,  1.     ,  0.93...,  1.      ])\n",
       "\u001b[0;31mFile:\u001b[0m           ~/.local/lib/python3.9/site-packages/sklearn/tree/_classes.py\n",
       "\u001b[0;31mType:\u001b[0m           ABCMeta\n",
       "\u001b[0;31mSubclasses:\u001b[0m     ExtraTreeClassifier\n"
      ]
     },
     "metadata": {},
     "output_type": "display_data"
    }
   ],
   "source": [
    "?DecisionTreeClassifier"
   ]
  },
  {
   "cell_type": "code",
   "execution_count": 243,
   "id": "88b60acc-1251-45fa-81d6-a9d5aebc4b13",
   "metadata": {
    "tags": []
   },
   "outputs": [
    {
     "name": "stdout",
     "output_type": "stream",
     "text": [
      "Train accuracy: 0.9483942414174973\n",
      "Best parameters: {'model__max_depth': None, 'model__min_samples_leaf': 2}\n",
      "Accuracy score: 0.9090909090909091\n"
     ]
    }
   ],
   "source": [
    "data = load_breast_cancer()\n",
    "\n",
    "X = data.data\n",
    "y = data.target\n",
    "\n",
    "X_train, X_test, y_train, y_test = train_test_split(X, y, test_size=0.25)\n",
    "\n",
    "\n",
    "model = Pipeline([(\"scaler\", StandardScaler()), (\"model\", DecisionTreeClassifier())]) #nazywamy nasze kroki\n",
    "param_grid = {\"model__min_samples_leaf\": [1, 2, 5, 10],\n",
    "             \"model__max_depth\": [2, 5, 10, 15, None]}\n",
    "\n",
    "optimizer = GridSearchCV(model, param_grid, scoring=\"accuracy\", cv=10, n_jobs=-1)\n",
    "optimizer.fit(X_train, y_train)\n",
    "y_pred = optimizer.best_estimator_.predict(X_test)\n",
    "print(f\"Train accuracy: {optimizer.best_score_}\")\n",
    "print(f\"Best parameters: {optimizer.best_params_}\")\n",
    "print(f\"Accuracy score: {accuracy_score(y_test, y_pred)}\")"
   ]
  },
  {
   "cell_type": "code",
   "execution_count": 230,
   "id": "d7a43194-3dae-4185-984d-bdffde7f8e9a",
   "metadata": {},
   "outputs": [
    {
     "data": {
      "text/plain": [
       "Pipeline(steps=[('scaler', StandardScaler()),\n",
       "                ('model',\n",
       "                 DecisionTreeClassifier(max_depth=5, min_samples_leaf=10))])"
      ]
     },
     "execution_count": 230,
     "metadata": {},
     "output_type": "execute_result"
    }
   ],
   "source": [
    "optimizer.best_estimator_"
   ]
  },
  {
   "cell_type": "code",
   "execution_count": 246,
   "id": "ce4b2be0-fafd-4643-9fad-72948c42d567",
   "metadata": {},
   "outputs": [
    {
     "data": {
      "image/png": "[encoded data removed]",
      "text/plain": [
       "<Figure size 1440x1440 with 1 Axes>"
      ]
     },
     "metadata": {
      "needs_background": "light"
     },
     "output_type": "display_data"
    }
   ],
   "source": [
    "from sklearn.tree import plot_tree\n",
    "import matplotlib.pyplot as plt\n",
    "\n",
    "plt.figure(figsize=(20,20))\n",
    "plot_tree(optimizer.best_estimator_.named_steps[\"model\"])\n",
    "plt.show()"
   ]
  },
  {
   "cell_type": "code",
   "execution_count": 235,
   "id": "6f017872-9b59-42d8-a75d-d9ab8039889b",
   "metadata": {},
   "outputs": [],
   "source": [
    "optimizer.best_estimator_.predict_proba(X_test);"
   ]
  },
  {
   "cell_type": "code",
   "execution_count": 247,
   "id": "47659d95-ee97-4d0b-a98c-879a24b0f843",
   "metadata": {},
   "outputs": [],
   "source": [
    "from sklearn import datasets\n",
    "iris = datasets.load_iris()\n",
    "X = iris.data\n",
    "y = iris.target"
   ]
  },
  {
   "cell_type": "code",
   "execution_count": 252,
   "id": "c4c63e6c-7d0c-45d6-b51f-3632eafd89ce",
   "metadata": {},
   "outputs": [
    {
     "data": {
      "text/plain": [
       "LogisticRegression(C=0.01)"
      ]
     },
     "execution_count": 252,
     "metadata": {},
     "output_type": "execute_result"
    }
   ],
   "source": [
    "model = LogisticRegression(C = 0.01)\n",
    "model.fit(X, y)"
   ]
  },
  {
   "cell_type": "code",
   "execution_count": 253,
   "id": "de40ba44-a5f5-4d71-b36b-e90a8c28fff5",
   "metadata": {},
   "outputs": [
    {
     "data": {
      "text/plain": [
       "array([0, 0, 0, 0, 0, 0, 0, 0, 0, 0, 0, 0, 0, 0, 0, 0, 0, 0, 0, 0, 0, 0,\n",
       "       0, 0, 0, 0, 0, 0, 0, 0, 0, 0, 0, 0, 0, 0, 0, 0, 0, 0, 0, 0, 0, 0,\n",
       "       0, 0, 0, 0, 0, 0, 2, 2, 2, 1, 2, 1, 2, 1, 2, 1, 1, 1, 1, 2, 1, 2,\n",
       "       1, 1, 1, 1, 2, 1, 2, 1, 1, 2, 2, 2, 1, 1, 1, 1, 1, 2, 1, 2, 2, 1,\n",
       "       1, 1, 1, 2, 1, 1, 1, 1, 1, 1, 0, 1, 2, 2, 2, 2, 2, 2, 1, 2, 2, 2,\n",
       "       2, 2, 2, 2, 2, 2, 2, 2, 2, 2, 2, 2, 2, 2, 2, 2, 2, 2, 2, 2, 2, 2,\n",
       "       2, 2, 2, 2, 2, 2, 2, 2, 2, 2, 2, 2, 2, 2, 2, 2, 2, 2])"
      ]
     },
     "execution_count": 253,
     "metadata": {},
     "output_type": "execute_result"
    }
   ],
   "source": [
    "model.predict(X)"
   ]
  },
  {
   "cell_type": "code",
   "execution_count": 254,
   "id": "85b4a1a7-33f0-48e1-8eae-e5e71d918ac6",
   "metadata": {},
   "outputs": [
    {
     "data": {
      "text/plain": [
       "array([[0.718, 0.214, 0.069],\n",
       "       [0.707, 0.226, 0.067],\n",
       "       [0.732, 0.208, 0.06 ],\n",
       "       [0.709, 0.225, 0.066],\n",
       "       [0.725, 0.209, 0.067],\n",
       "       [0.674, 0.234, 0.092],\n",
       "       [0.727, 0.21 , 0.063],\n",
       "       [0.706, 0.223, 0.072],\n",
       "       [0.72 , 0.22 , 0.06 ],\n",
       "       [0.703, 0.228, 0.069],\n",
       "       [0.702, 0.221, 0.077],\n",
       "       [0.7  , 0.227, 0.073],\n",
       "       [0.715, 0.222, 0.063],\n",
       "       [0.764, 0.189, 0.047],\n",
       "       [0.734, 0.196, 0.069],\n",
       "       [0.706, 0.208, 0.085],\n",
       "       [0.724, 0.204, 0.072],\n",
       "       [0.713, 0.216, 0.071],\n",
       "       [0.664, 0.241, 0.095],\n",
       "       [0.712, 0.214, 0.074],\n",
       "       [0.666, 0.246, 0.088],\n",
       "       [0.704, 0.22 , 0.077],\n",
       "       [0.78 , 0.173, 0.047],\n",
       "       [0.658, 0.251, 0.09 ],\n",
       "       [0.662, 0.251, 0.087],\n",
       "       [0.678, 0.244, 0.077],\n",
       "       [0.684, 0.236, 0.081],\n",
       "       [0.702, 0.223, 0.075],\n",
       "       [0.711, 0.219, 0.07 ],\n",
       "       [0.697, 0.232, 0.072],\n",
       "       [0.689, 0.237, 0.074],\n",
       "       [0.682, 0.235, 0.083],\n",
       "       [0.727, 0.202, 0.071],\n",
       "       [0.728, 0.199, 0.073],\n",
       "       [0.698, 0.231, 0.071],\n",
       "       [0.734, 0.206, 0.06 ],\n",
       "       [0.716, 0.214, 0.071],\n",
       "       [0.732, 0.205, 0.063],\n",
       "       [0.735, 0.209, 0.056],\n",
       "       [0.702, 0.225, 0.073],\n",
       "       [0.728, 0.207, 0.065],\n",
       "       [0.703, 0.237, 0.061],\n",
       "       [0.742, 0.202, 0.056],\n",
       "       [0.678, 0.237, 0.085],\n",
       "       [0.656, 0.247, 0.097],\n",
       "       [0.706, 0.227, 0.067],\n",
       "       [0.704, 0.219, 0.077],\n",
       "       [0.724, 0.214, 0.062],\n",
       "       [0.706, 0.219, 0.076],\n",
       "       [0.714, 0.218, 0.068],\n",
       "       [0.139, 0.392, 0.469],\n",
       "       [0.169, 0.403, 0.428],\n",
       "       [0.122, 0.39 , 0.488],\n",
       "       [0.237, 0.444, 0.319],\n",
       "       [0.15 , 0.413, 0.437],\n",
       "       [0.189, 0.429, 0.382],\n",
       "       [0.152, 0.397, 0.451],\n",
       "       [0.369, 0.413, 0.218],\n",
       "       [0.156, 0.412, 0.432],\n",
       "       [0.266, 0.428, 0.306],\n",
       "       [0.323, 0.44 , 0.237],\n",
       "       [0.21 , 0.416, 0.374],\n",
       "       [0.23 , 0.447, 0.323],\n",
       "       [0.157, 0.417, 0.426],\n",
       "       [0.3  , 0.411, 0.289],\n",
       "       [0.171, 0.405, 0.424],\n",
       "       [0.189, 0.42 , 0.391],\n",
       "       [0.239, 0.432, 0.329],\n",
       "       [0.155, 0.438, 0.407],\n",
       "       [0.26 , 0.435, 0.305],\n",
       "       [0.146, 0.4  , 0.454],\n",
       "       [0.229, 0.422, 0.349],\n",
       "       [0.126, 0.42 , 0.453],\n",
       "       [0.163, 0.424, 0.413],\n",
       "       [0.19 , 0.417, 0.393],\n",
       "       [0.172, 0.409, 0.419],\n",
       "       [0.13 , 0.406, 0.464],\n",
       "       [0.112, 0.389, 0.499],\n",
       "       [0.174, 0.418, 0.407],\n",
       "       [0.315, 0.419, 0.266],\n",
       "       [0.273, 0.437, 0.291],\n",
       "       [0.29 , 0.434, 0.276],\n",
       "       [0.253, 0.427, 0.32 ],\n",
       "       [0.119, 0.413, 0.468],\n",
       "       [0.195, 0.422, 0.383],\n",
       "       [0.181, 0.4  , 0.419],\n",
       "       [0.142, 0.398, 0.46 ],\n",
       "       [0.17 , 0.439, 0.391],\n",
       "       [0.241, 0.42 , 0.339],\n",
       "       [0.242, 0.437, 0.321],\n",
       "       [0.205, 0.439, 0.356],\n",
       "       [0.168, 0.415, 0.417],\n",
       "       [0.239, 0.432, 0.329],\n",
       "       [0.361, 0.418, 0.221],\n",
       "       [0.221, 0.432, 0.347],\n",
       "       [0.23 , 0.422, 0.348],\n",
       "       [0.223, 0.424, 0.353],\n",
       "       [0.196, 0.42 , 0.384],\n",
       "       [0.402, 0.394, 0.203],\n",
       "       [0.232, 0.426, 0.342],\n",
       "       [0.054, 0.327, 0.618],\n",
       "       [0.115, 0.408, 0.477],\n",
       "       [0.053, 0.333, 0.615],\n",
       "       [0.081, 0.378, 0.541],\n",
       "       [0.062, 0.349, 0.589],\n",
       "       [0.03 , 0.287, 0.683],\n",
       "       [0.191, 0.442, 0.367],\n",
       "       [0.042, 0.322, 0.636],\n",
       "       [0.063, 0.371, 0.566],\n",
       "       [0.043, 0.293, 0.664],\n",
       "       [0.104, 0.376, 0.52 ],\n",
       "       [0.091, 0.389, 0.52 ],\n",
       "       [0.073, 0.357, 0.57 ],\n",
       "       [0.118, 0.416, 0.466],\n",
       "       [0.103, 0.391, 0.506],\n",
       "       [0.087, 0.362, 0.551],\n",
       "       [0.084, 0.374, 0.542],\n",
       "       [0.029, 0.259, 0.712],\n",
       "       [0.021, 0.273, 0.706],\n",
       "       [0.121, 0.433, 0.446],\n",
       "       [0.061, 0.334, 0.605],\n",
       "       [0.132, 0.411, 0.456],\n",
       "       [0.027, 0.288, 0.685],\n",
       "       [0.12 , 0.406, 0.473],\n",
       "       [0.068, 0.343, 0.589],\n",
       "       [0.054, 0.331, 0.615],\n",
       "       [0.132, 0.407, 0.461],\n",
       "       [0.13 , 0.401, 0.47 ],\n",
       "       [0.072, 0.369, 0.559],\n",
       "       [0.063, 0.352, 0.585],\n",
       "       [0.045, 0.328, 0.627],\n",
       "       [0.036, 0.274, 0.69 ],\n",
       "       [0.071, 0.365, 0.564],\n",
       "       [0.117, 0.406, 0.477],\n",
       "       [0.09 , 0.404, 0.506],\n",
       "       [0.038, 0.301, 0.661],\n",
       "       [0.073, 0.345, 0.582],\n",
       "       [0.087, 0.374, 0.54 ],\n",
       "       [0.14 , 0.405, 0.455],\n",
       "       [0.077, 0.356, 0.567],\n",
       "       [0.065, 0.343, 0.592],\n",
       "       [0.088, 0.361, 0.551],\n",
       "       [0.115, 0.408, 0.477],\n",
       "       [0.055, 0.328, 0.617],\n",
       "       [0.061, 0.33 , 0.609],\n",
       "       [0.085, 0.364, 0.55 ],\n",
       "       [0.108, 0.407, 0.485],\n",
       "       [0.096, 0.378, 0.526],\n",
       "       [0.087, 0.358, 0.555],\n",
       "       [0.12 , 0.4  , 0.48 ]])"
      ]
     },
     "execution_count": 254,
     "metadata": {},
     "output_type": "execute_result"
    }
   ],
   "source": [
    "model.predict_proba(X).round(3)"
   ]
  },
  {
   "cell_type": "code",
   "execution_count": 258,
   "id": "1a56db43-27ec-404b-976c-42eb7fa6878d",
   "metadata": {},
   "outputs": [],
   "source": [
    "from sklearn.model_selection import cross_val_predict"
   ]
  },
  {
   "cell_type": "code",
   "execution_count": 259,
   "id": "a5dd9d4f-87cd-457a-87b4-fc5b6b8a03d4",
   "metadata": {},
   "outputs": [
    {
     "data": {
      "text/plain": [
       "array([0, 0, 0, 0, 0, 0, 0, 0, 0, 0, 0, 0, 0, 0, 0, 0, 0, 0, 0, 0, 0, 0,\n",
       "       0, 0, 0, 0, 0, 0, 0, 0, 0, 0, 0, 0, 0, 0, 0, 0, 0, 0, 0, 0, 0, 0,\n",
       "       0, 0, 0, 0, 0, 0, 1, 1, 1, 1, 1, 1, 1, 1, 1, 1, 1, 1, 1, 1, 1, 1,\n",
       "       1, 1, 1, 1, 2, 1, 1, 1, 1, 1, 1, 2, 1, 1, 1, 1, 1, 2, 1, 1, 1, 1,\n",
       "       1, 1, 1, 1, 1, 1, 1, 1, 1, 1, 1, 1, 2, 2, 2, 2, 2, 2, 1, 2, 2, 2,\n",
       "       2, 2, 2, 2, 2, 2, 2, 2, 2, 1, 2, 2, 2, 2, 2, 2, 2, 2, 2, 1, 2, 2,\n",
       "       2, 2, 2, 2, 2, 2, 2, 2, 2, 2, 2, 2, 2, 2, 2, 2, 2, 2])"
      ]
     },
     "execution_count": 259,
     "metadata": {},
     "output_type": "execute_result"
    }
   ],
   "source": [
    "y_pred = cross_val_predict(DecisionTreeClassifier(), X, y, cv=10)\n",
    "y_pred"
   ]
  },
  {
   "cell_type": "code",
   "execution_count": 260,
   "id": "c166108f-57d7-4f0f-b354-b3f95065b3a9",
   "metadata": {},
   "outputs": [],
   "source": [
    "from sklearn.metrics import confusion_matrix"
   ]
  },
  {
   "cell_type": "code",
   "execution_count": 261,
   "id": "02fdbc24-25c6-473e-9761-c31b7878cf0d",
   "metadata": {},
   "outputs": [
    {
     "data": {
      "text/plain": [
       "array([[50,  0,  0],\n",
       "       [ 0, 47,  3],\n",
       "       [ 0,  3, 47]])"
      ]
     },
     "execution_count": 261,
     "metadata": {},
     "output_type": "execute_result"
    }
   ],
   "source": [
    "confusion_matrix(y, y_pred)"
   ]
  },
  {
   "cell_type": "code",
   "execution_count": 1,
   "id": "2c57ca98-2b06-4704-b708-ec7cd5536531",
   "metadata": {},
   "outputs": [],
   "source": [
    "from sklearn.datasets import load_digits\n",
    "digits = load_digits()\n",
    "\n",
    "X, y = digits.data, digits.target "
   ]
  },
  {
   "cell_type": "code",
   "execution_count": 2,
   "id": "73701396-3fc3-4631-a3cd-2219084f870e",
   "metadata": {},
   "outputs": [],
   "source": [
    "from sklearn.model_selection import train_test_split\n",
    "X_train, X_test, y_train, y_test = train_test_split(X, y, test_size=0.2)"
   ]
  },
  {
   "cell_type": "code",
   "execution_count": 3,
   "id": "1dbca666-a143-4bbc-8b6b-44b57ac25d71",
   "metadata": {},
   "outputs": [],
   "source": [
    "from sklearn.metrics import accuracy_score"
   ]
  },
  {
   "cell_type": "code",
   "execution_count": 5,
   "id": "e67a085e-f300-4854-a2f7-019c7af31d9f",
   "metadata": {},
   "outputs": [],
   "source": [
    "from sklearn.svm import LinearSVC"
   ]
  },
  {
   "cell_type": "code",
   "execution_count": 6,
   "id": "adda03be-922e-4b9b-9f06-9f1424176375",
   "metadata": {},
   "outputs": [
    {
     "name": "stderr",
     "output_type": "stream",
     "text": [
      "/home/mikolaj/.local/lib/python3.9/site-packages/sklearn/svm/_base.py:1206: ConvergenceWarning: Liblinear failed to converge, increase the number of iterations.\n",
      "  warnings.warn(\n"
     ]
    },
    {
     "data": {
      "text/plain": [
       "0.9527777777777777"
      ]
     },
     "execution_count": 6,
     "metadata": {},
     "output_type": "execute_result"
    }
   ],
   "source": [
    "model = LinearSVC()\n",
    "model.fit(X_train, y_train)\n",
    "accuracy_score(y_test, model.predict(X_test))"
   ]
  },
  {
   "cell_type": "code",
   "execution_count": 13,
   "id": "d2141087-2b0b-40d4-8c6c-a4373f2e28a1",
   "metadata": {},
   "outputs": [],
   "source": [
    "from sklearn.pipeline import Pipeline, make_pipeline\n",
    "from sklearn.preprocessing import StandardScaler"
   ]
  },
  {
   "cell_type": "code",
   "execution_count": 14,
   "id": "9e565087-f758-4455-9910-cfde3c2b5cfd",
   "metadata": {},
   "outputs": [
    {
     "name": "stderr",
     "output_type": "stream",
     "text": [
      "/home/mikolaj/.local/lib/python3.9/site-packages/sklearn/svm/_base.py:1206: ConvergenceWarning: Liblinear failed to converge, increase the number of iterations.\n",
      "  warnings.warn(\n"
     ]
    },
    {
     "data": {
      "text/plain": [
       "0.9666666666666667"
      ]
     },
     "execution_count": 14,
     "metadata": {},
     "output_type": "execute_result"
    }
   ],
   "source": [
    "model = Pipeline([(\"scaler\", StandardScaler()), (\"model\", LinearSVC())]) #nazywamy nasze kroki\n",
    "model.fit(X_train, y_train)\n",
    "accuracy_score(y_test, model.predict(X_test))"
   ]
  },
  {
   "cell_type": "code",
   "execution_count": null,
   "id": "1cf69efc-be19-4fd8-a700-d19c4b9079ae",
   "metadata": {},
   "outputs": [],
   "source": []
  }
 ],
 "metadata": {
  "kernelspec": {
   "display_name": "Python 3 (ipykernel)",
   "language": "python",
   "name": "python3"
  },
  "language_info": {
   "codemirror_mode": {
    "name": "ipython",
    "version": 3
   },
   "file_extension": ".py",
   "mimetype": "text/x-python",
   "name": "python",
   "nbconvert_exporter": "python",
   "pygments_lexer": "ipython3",
   "version": "3.9.7"
  }
 },
 "nbformat": 4,
 "nbformat_minor": 5
}
