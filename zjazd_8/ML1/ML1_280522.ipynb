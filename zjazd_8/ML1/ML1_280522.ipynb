{
 "cells": [
  {
   "cell_type": "markdown",
   "metadata": {},
   "source": [
    "# <center>Uczenie maszynowe</center>\n",
    "\n",
    "<br>\n",
    "\n",
    "<br>\n",
    "\n",
    "## <center>Proces rozwiązywania problemów z zastosowaniem uczenia maszynowego</center>\n",
    "\n",
    "<img src=\"Grafika/CRISP_DM_Process_Diagram.png\" width=\"350\">\n",
    "Źródło: https://upload.wikimedia.org/wikipedia/commons/thumb/b/b9/CRISP-DM_Process_Diagram.png/897px-CRISP-DM_Process_Diagram.png\n",
    "\n",
    "<br>\n",
    "\n",
    "<br>\n",
    "\n",
    "<br>\n",
    "\n",
    "<br>\n",
    "\n",
    "<br>\n",
    "\n",
    "\n",
    "\n",
    "\n",
    " <br>\n",
    "\n",
    "## Kilka faktów na temat uczenia maszynowego\n",
    "\n",
    "* ML to zarówno nauka jak i sztuka.\n",
    "\n",
    "* Nie istnieje metoda \"najlepsza\" - każdy problem wymaga indywidualnego podejścia.\n",
    "\n",
    "* Rozwiązanie problemu ML = reprezentacja danych + algorytm.\n",
    "\n",
    "  - w codziennej praktyce pierwszy czynnik często niedoceniany. Przetworzenie danych jest równie ważne jak same algorytmy, a nawet często dane są ważniejsze od algorytmu - większy wpływ na wyniki ma postać danych niż wybór konkretnego algorytmu.\n",
    "\n",
    "* Bardzo ważne jest zdefiniowanie celu jaki chcemy osiągnąć i rozumienie jak dane i algorytmy z tym celem się wiążą.\n",
    "\n",
    "\n",
    " <br>\n",
    " \n",
    " <br>\n",
    " \n",
    " <br>\n",
    " \n",
    " <br>\n",
    " \n",
    " <br>\n",
    " \n",
    " <br>\n",
    " \n",
    " <br>\n",
    " \n",
    " <br>\n",
    " \n",
    " ## Dwa główne nurty uczenia maszynowego:\n",
    "* uczenie nadzorowane (*supervised learning*)\n",
    "* uczenie nienadzorowane (*unsupervised learning*)\n",
    "\n",
    "  <br>\n",
    " \n",
    " <br>\n",
    " \n",
    " <br>\n",
    " \n",
    " <br>\n",
    " \n",
    " <br>\n",
    " \n",
    " <br>\n",
    " \n",
    " <br>\n",
    " \n",
    "## Uczenie nadzorowane\n",
    "\n",
    "Dla znanych par (X,Y) szukamy zależności między X a Y - budujemy model, który na podstawie X przewidzi Y.\n",
    " \n",
    "\n",
    "* regresja: Y jest zmienną rzeczywistą\n",
    "\n",
    "* klasyfikacja: Y jest zmienną dyskretną (np. binarną - o wartościach 0 i 1)\n",
    "\n",
    " <br>\n",
    " \n",
    " <br>\n",
    " \n",
    " <br>\n",
    " \n",
    " <br>\n",
    " \n",
    " <br>\n",
    " \n",
    " <br>\n",
    " \n",
    " <br>\n",
    " \n",
    "## Zagadnienie klasyfikacji - przykłady:\n",
    "- predykcja churnu - przewidywanie na podstawie cech klienta (opisujących m.in. jego zachowanie) czy klient odejdzie w najbliższym czasie (np. w ciągu miesiąca);\n",
    "- scoring kredytowy - przewidywanie czy klient ubiegający się o kredyt spłaci go w terminie;\n",
    "- rozpoznawanie choroby - rozpoznawanie na podstawie parametrów medycznych czy pacjent zachoruje/jest chory;\n",
    "- klasyfikacja tematyczna tekstu;\n",
    "- klasyfikacja wydźwięku opini;\n",
    "- rozpoznawanie zawartosci obrazów."
   ]
  },
  {
   "cell_type": "markdown",
   "metadata": {},
   "source": [
    "# Regresja logistyczna\n",
    "\n",
    "Rozważamy problem klasyfikacji binarnej: $X \\in \\mathbb{R}^p$, $Y \\in \\{0, 1\\}$.\n",
    "\n",
    "Założenia modelu:\n",
    "\n",
    "$$\n",
    "Y =\n",
    "\\begin{cases}\n",
    "1, \\text{ z prawdopodobieństwem } \\pi(x)\\\\\n",
    "0, \\text{ z prawdopodobieństwem } 1-\\pi(x).\\\\\n",
    "\\end{cases}$$\n",
    "\n",
    ", gdzie\n",
    "\n",
    "$\\pi(x)=P(Y=1 \\mid x)$.\n",
    "\n",
    "Czyli innymi słowy:\n",
    "\n",
    "$$\\large Y \\sim B(\\pi(x)),$$\n",
    "\n",
    "\n",
    "B($\\cdot$) - rozkład dwupunktowy, \n",
    "\n",
    "\n",
    "Model:\n",
    "\n",
    "$$\\large \\pi(x) = \\frac{1}{1+e^{-\\beta x}},$$\n",
    "\n",
    "$\\beta = (\\beta_0,\\beta_1, \\ldots, \\beta_p),$   $\\beta x = \\beta_0 + \\beta_1 x_1 + \\ldots + \\beta_p x_p.$\n",
    "\n",
    " <br>\n",
    " \n",
    " <br>\n",
    " \n",
    "Predykcja wartości Y przy użyciu regresji logistycznej:\n",
    "\n",
    "$$\n",
    "\\hat{y} =\n",
    "\\begin{cases}\n",
    "1, \\text{ gdy } \\pi(x) > 0.5\\\\\n",
    "0, \\text{ gdy } \\pi(x) \\leq 0.5\\\\\n",
    "\\end{cases}\n",
    "$$\n",
    " \n",
    " <br>\n",
    " \n",
    " <br>\n",
    " \n",
    " <br>\n",
    "\n",
    "Dopasowanie (uczenie) modelu = znalezienie optymalnych wartości współczynników wektora $\\beta$, czyli takich, które najlepiej opisują zależność $Y$ od $X$. \n",
    "\n",
    " <br>\n",
    " \n",
    " <br>\n",
    " \n",
    " <br>\n",
    " \n",
    "Najlepiej czyli jak?\n",
    " \n",
    "## Metoda największej wiarogodności\n",
    " \n",
    "Rozważmy sytuację binarną. tzn. $y \\in \\{0,1\\}$. Logarytm funkcji wiarogodności wygląda następująco (X zbiór obserwacji, Y - zbiór etykiet):\n",
    "\n",
    "$ \n",
    "\\begin{align}\n",
    "L(\\beta \\ | \\ X,Y) & = \\log \\prod\\limits_{i=1}^n P(Y_i=y_i \\ | \\ x_i) \\\\\n",
    "       & = \\log \\prod\\limits_{i=1}^n \\pi(x_i)^{y_i}(1-\\pi(x_i))^{1-y_i} \\\\\n",
    "       & = \\sum\\limits_{i=1}^n \\log\\big( \\pi(x_i)^{y_i}(1-\\pi(x_i))^{1-y_i}\\big) \\\\\n",
    "       & = \\sum\\limits_{i=1}^n y_i\\log(\\pi(x_i)) + (1-y_i)\\log(1-\\pi(x_i)) .\n",
    "\\end{align}\n",
    "$\n",
    "\n",
    "Przyjmijmy oznaczenie: $h(\\pi(x),y) = y\\log{(\\pi(x))} + (1-y)\\log{(1-\\pi(x))}.$\n",
    "Zauważmy, że:\n",
    "\n",
    "$h(\\pi(x),1) = \\log{(\\pi(x))}$\n",
    "\n",
    "$h(\\pi(x),0) = \\log{(1-\\pi(x))}$\n",
    "\n",
    "Jeżeli $y=1$ to model jest tym lepszy im $\\pi(x)$ jest większe. Jeżeli $y=0$, to model jest tym lepszy im $\\pi(x)$ jest mniejsze, czyli $1 - \\pi(x)$ większe.\n",
    "\n",
    "Dopasowywanie modelu regresji logistycznej polega na maksymalizacji funkcji wiarogodności (technicznie - jej logarytmu) - szukamy (numerycznie) takiego wektora $\\beta$, dla którego wiarogodność jest największa.\n"
   ]
  },
  {
   "cell_type": "code",
   "execution_count": 12,
   "metadata": {},
   "outputs": [],
   "source": [
    "from sklearn.datasets import load_breast_cancer"
   ]
  },
  {
   "cell_type": "code",
   "execution_count": 13,
   "metadata": {},
   "outputs": [],
   "source": [
    "data = load_breast_cancer()\n"
   ]
  },
  {
   "cell_type": "code",
   "execution_count": 14,
   "metadata": {},
   "outputs": [],
   "source": [
    "\n",
    "X = data.data\n",
    "y = data.target"
   ]
  },
  {
   "cell_type": "code",
   "execution_count": 6,
   "metadata": {},
   "outputs": [
    {
     "data": {
      "text/plain": [
       "(569, 30)"
      ]
     },
     "execution_count": 6,
     "metadata": {},
     "output_type": "execute_result"
    }
   ],
   "source": [
    "X.shape"
   ]
  },
  {
   "cell_type": "code",
   "execution_count": 7,
   "metadata": {
    "collapsed": true,
    "jupyter": {
     "outputs_hidden": true
    }
   },
   "outputs": [
    {
     "data": {
      "text/plain": [
       "array([0, 0, 0, 0, 0, 0, 0, 0, 0, 0, 0, 0, 0, 0, 0, 0, 0, 0, 0, 1, 1, 1,\n",
       "       0, 0, 0, 0, 0, 0, 0, 0, 0, 0, 0, 0, 0, 0, 0, 1, 0, 0, 0, 0, 0, 0,\n",
       "       0, 0, 1, 0, 1, 1, 1, 1, 1, 0, 0, 1, 0, 0, 1, 1, 1, 1, 0, 1, 0, 0,\n",
       "       1, 1, 1, 1, 0, 1, 0, 0, 1, 0, 1, 0, 0, 1, 1, 1, 0, 0, 1, 0, 0, 0,\n",
       "       1, 1, 1, 0, 1, 1, 0, 0, 1, 1, 1, 0, 0, 1, 1, 1, 1, 0, 1, 1, 0, 1,\n",
       "       1, 1, 1, 1, 1, 1, 1, 0, 0, 0, 1, 0, 0, 1, 1, 1, 0, 0, 1, 0, 1, 0,\n",
       "       0, 1, 0, 0, 1, 1, 0, 1, 1, 0, 1, 1, 1, 1, 0, 1, 1, 1, 1, 1, 1, 1,\n",
       "       1, 1, 0, 1, 1, 1, 1, 0, 0, 1, 0, 1, 1, 0, 0, 1, 1, 0, 0, 1, 1, 1,\n",
       "       1, 0, 1, 1, 0, 0, 0, 1, 0, 1, 0, 1, 1, 1, 0, 1, 1, 0, 0, 1, 0, 0,\n",
       "       0, 0, 1, 0, 0, 0, 1, 0, 1, 0, 1, 1, 0, 1, 0, 0, 0, 0, 1, 1, 0, 0,\n",
       "       1, 1, 1, 0, 1, 1, 1, 1, 1, 0, 0, 1, 1, 0, 1, 1, 0, 0, 1, 0, 1, 1,\n",
       "       1, 1, 0, 1, 1, 1, 1, 1, 0, 1, 0, 0, 0, 0, 0, 0, 0, 0, 0, 0, 0, 0,\n",
       "       0, 0, 1, 1, 1, 1, 1, 1, 0, 1, 0, 1, 1, 0, 1, 1, 0, 1, 0, 0, 1, 1,\n",
       "       1, 1, 1, 1, 1, 1, 1, 1, 1, 1, 1, 0, 1, 1, 0, 1, 0, 1, 1, 1, 1, 1,\n",
       "       1, 1, 1, 1, 1, 1, 1, 1, 1, 0, 1, 1, 1, 0, 1, 0, 1, 1, 1, 1, 0, 0,\n",
       "       0, 1, 1, 1, 1, 0, 1, 0, 1, 0, 1, 1, 1, 0, 1, 1, 1, 1, 1, 1, 1, 0,\n",
       "       0, 0, 1, 1, 1, 1, 1, 1, 1, 1, 1, 1, 1, 0, 0, 1, 0, 0, 0, 1, 0, 0,\n",
       "       1, 1, 1, 1, 1, 0, 1, 1, 1, 1, 1, 0, 1, 1, 1, 0, 1, 1, 0, 0, 1, 1,\n",
       "       1, 1, 1, 1, 0, 1, 1, 1, 1, 1, 1, 1, 0, 1, 1, 1, 1, 1, 0, 1, 1, 0,\n",
       "       1, 1, 1, 1, 1, 1, 1, 1, 1, 1, 1, 1, 0, 1, 0, 0, 1, 0, 1, 1, 1, 1,\n",
       "       1, 0, 1, 1, 0, 1, 0, 1, 1, 0, 1, 0, 1, 1, 1, 1, 1, 1, 1, 1, 0, 0,\n",
       "       1, 1, 1, 1, 1, 1, 0, 1, 1, 1, 1, 1, 1, 1, 1, 1, 1, 0, 1, 1, 1, 1,\n",
       "       1, 1, 1, 0, 1, 0, 1, 1, 0, 1, 1, 1, 1, 1, 0, 0, 1, 0, 1, 0, 1, 1,\n",
       "       1, 1, 1, 0, 1, 1, 0, 1, 0, 1, 0, 0, 1, 1, 1, 0, 1, 1, 1, 1, 1, 1,\n",
       "       1, 1, 1, 1, 1, 0, 1, 0, 0, 1, 1, 1, 1, 1, 1, 1, 1, 1, 1, 1, 1, 1,\n",
       "       1, 1, 1, 1, 1, 1, 1, 1, 1, 1, 1, 1, 0, 0, 0, 0, 0, 0, 1])"
      ]
     },
     "execution_count": 7,
     "metadata": {},
     "output_type": "execute_result"
    }
   ],
   "source": [
    "y"
   ]
  },
  {
   "cell_type": "code",
   "execution_count": 11,
   "metadata": {},
   "outputs": [],
   "source": [
    "from sklearn.linear_model import LogisticRegression\n",
    "?LogisticRegression"
   ]
  },
  {
   "cell_type": "code",
   "execution_count": 18,
   "metadata": {},
   "outputs": [],
   "source": [
    "model = LogisticRegression(\"none\", max_iter=10000) #\"czysta\" regresja - bez regularyzacji"
   ]
  },
  {
   "cell_type": "code",
   "execution_count": 19,
   "metadata": {},
   "outputs": [
    {
     "data": {
      "text/plain": [
       "LogisticRegression(max_iter=10000, penalty='none')"
      ]
     },
     "execution_count": 19,
     "metadata": {},
     "output_type": "execute_result"
    }
   ],
   "source": [
    "model.fit(X, y)"
   ]
  },
  {
   "cell_type": "code",
   "execution_count": 20,
   "metadata": {
    "collapsed": true,
    "jupyter": {
     "outputs_hidden": true
    }
   },
   "outputs": [
    {
     "data": {
      "text/plain": [
       "array([[ 2.84095761e+00, -1.22629820e-01,  3.83573131e-01,\n",
       "        -4.19301002e-02, -1.93879867e+01,  7.60037394e+00,\n",
       "        -1.79840491e+01, -3.61616401e+01, -4.38134112e+00,\n",
       "         4.42690955e+00,  2.23309583e+00,  2.45395109e+00,\n",
       "         1.00106017e+00, -3.38853414e-01, -3.71888115e+00,\n",
       "         3.51549261e+01,  4.39458510e+01, -2.17033526e+00,\n",
       "         8.29198006e+00,  6.39180744e+00, -2.32204563e+00,\n",
       "        -5.07667639e-01, -1.33207401e-01,  1.11136155e-02,\n",
       "        -4.16271342e+01,  1.18437048e+01, -1.23852918e+01,\n",
       "        -6.38632905e+01, -1.29657637e+01,  3.85801868e+00]])"
      ]
     },
     "execution_count": 20,
     "metadata": {},
     "output_type": "execute_result"
    }
   ],
   "source": [
    "model.coef_"
   ]
  },
  {
   "cell_type": "code",
   "execution_count": 21,
   "metadata": {},
   "outputs": [
    {
     "data": {
      "text/plain": [
       "array([32.92326657])"
      ]
     },
     "execution_count": 21,
     "metadata": {},
     "output_type": "execute_result"
    }
   ],
   "source": [
    "model.intercept_"
   ]
  },
  {
   "cell_type": "code",
   "execution_count": 22,
   "metadata": {
    "collapsed": true,
    "jupyter": {
     "outputs_hidden": true
    }
   },
   "outputs": [
    {
     "data": {
      "text/plain": [
       "array([0, 0, 0, 0, 0, 0, 0, 0, 0, 0, 0, 0, 0, 1, 0, 0, 0, 0, 0, 1, 1, 1,\n",
       "       0, 0, 0, 0, 0, 0, 0, 0, 0, 0, 0, 0, 0, 0, 0, 1, 0, 0, 1, 0, 0, 0,\n",
       "       0, 0, 1, 0, 1, 1, 1, 1, 1, 0, 0, 1, 0, 0, 1, 1, 1, 1, 0, 1, 0, 0,\n",
       "       1, 1, 1, 1, 0, 1, 0, 1, 1, 0, 1, 0, 0, 1, 1, 1, 0, 0, 1, 0, 0, 0,\n",
       "       1, 1, 1, 0, 1, 1, 0, 0, 1, 1, 1, 0, 0, 1, 1, 1, 1, 0, 1, 1, 0, 1,\n",
       "       1, 1, 1, 1, 1, 1, 1, 0, 0, 0, 1, 0, 0, 1, 1, 1, 0, 0, 1, 0, 1, 0,\n",
       "       0, 1, 0, 1, 1, 1, 0, 1, 1, 0, 1, 1, 1, 1, 0, 1, 1, 1, 1, 1, 1, 1,\n",
       "       1, 1, 0, 1, 1, 1, 1, 0, 0, 1, 0, 1, 1, 0, 0, 1, 1, 0, 0, 1, 1, 1,\n",
       "       1, 0, 1, 1, 0, 0, 0, 1, 0, 1, 0, 1, 1, 1, 0, 1, 1, 0, 0, 1, 0, 0,\n",
       "       0, 0, 1, 0, 0, 0, 1, 0, 1, 0, 1, 1, 0, 1, 0, 0, 0, 0, 1, 1, 0, 0,\n",
       "       1, 1, 1, 0, 1, 0, 1, 1, 1, 0, 0, 1, 1, 0, 1, 1, 0, 0, 1, 0, 1, 1,\n",
       "       1, 1, 0, 1, 1, 1, 1, 1, 0, 1, 0, 0, 0, 0, 0, 0, 0, 0, 0, 0, 0, 1,\n",
       "       0, 0, 1, 1, 1, 1, 1, 1, 0, 1, 0, 1, 1, 0, 1, 1, 0, 1, 0, 0, 1, 1,\n",
       "       1, 1, 1, 1, 1, 1, 1, 1, 1, 1, 1, 1, 1, 1, 0, 1, 0, 1, 1, 1, 1, 1,\n",
       "       1, 1, 1, 1, 1, 1, 1, 1, 1, 0, 1, 1, 1, 0, 1, 0, 1, 1, 1, 1, 0, 0,\n",
       "       0, 1, 1, 1, 1, 0, 1, 0, 1, 0, 1, 1, 1, 0, 1, 1, 1, 1, 1, 1, 1, 0,\n",
       "       0, 0, 1, 1, 1, 1, 1, 1, 1, 1, 1, 1, 1, 0, 0, 1, 0, 0, 0, 1, 0, 0,\n",
       "       1, 1, 1, 1, 1, 0, 1, 1, 1, 1, 1, 0, 1, 1, 1, 0, 1, 1, 0, 0, 1, 1,\n",
       "       1, 1, 1, 1, 0, 1, 1, 1, 1, 1, 1, 1, 0, 1, 1, 1, 1, 0, 0, 1, 1, 0,\n",
       "       1, 1, 1, 1, 1, 1, 1, 1, 1, 1, 1, 1, 0, 1, 0, 0, 1, 0, 1, 1, 1, 1,\n",
       "       1, 0, 1, 1, 0, 1, 0, 1, 1, 0, 1, 0, 1, 1, 1, 0, 1, 1, 1, 1, 0, 0,\n",
       "       1, 1, 1, 1, 1, 1, 0, 1, 1, 1, 1, 1, 1, 1, 1, 1, 1, 0, 1, 1, 1, 1,\n",
       "       1, 1, 1, 0, 1, 0, 1, 1, 0, 1, 1, 1, 1, 1, 0, 0, 1, 0, 1, 0, 1, 1,\n",
       "       1, 1, 1, 0, 1, 1, 0, 1, 0, 1, 0, 0, 1, 1, 1, 0, 1, 1, 1, 1, 1, 1,\n",
       "       1, 1, 1, 1, 1, 0, 1, 0, 0, 1, 1, 1, 1, 1, 1, 1, 1, 1, 1, 1, 1, 1,\n",
       "       1, 1, 1, 1, 1, 1, 1, 1, 1, 1, 1, 1, 0, 0, 0, 0, 0, 0, 1])"
      ]
     },
     "execution_count": 22,
     "metadata": {},
     "output_type": "execute_result"
    }
   ],
   "source": [
    "model.predict(X)"
   ]
  },
  {
   "cell_type": "code",
   "execution_count": 23,
   "metadata": {},
   "outputs": [
    {
     "data": {
      "text/plain": [
       "array([[1.00000000e+00, 5.57873801e-26],\n",
       "       [1.00000000e+00, 3.07025123e-13],\n",
       "       [1.00000000e+00, 4.59026904e-18],\n",
       "       ...,\n",
       "       [9.99987465e-01, 1.25354112e-05],\n",
       "       [1.00000000e+00, 9.41899859e-23],\n",
       "       [1.09093355e-06, 9.99998909e-01]])"
      ]
     },
     "execution_count": 23,
     "metadata": {},
     "output_type": "execute_result"
    }
   ],
   "source": [
    "model.predict_proba(X)"
   ]
  },
  {
   "cell_type": "code",
   "execution_count": 24,
   "metadata": {
    "collapsed": true,
    "jupyter": {
     "outputs_hidden": true
    }
   },
   "outputs": [
    {
     "data": {
      "text/plain": [
       "array([5.57873801e-26, 3.07025123e-13, 4.59026904e-18, 1.73386061e-07,\n",
       "       1.86264252e-12, 4.12683933e-04, 7.38994829e-12, 2.84817974e-05,\n",
       "       3.69075623e-06, 4.67615058e-07, 1.89285661e-04, 5.76411024e-08,\n",
       "       4.82040863e-09, 5.48337087e-01, 3.01116005e-03, 3.18934486e-08,\n",
       "       3.86308713e-08, 3.38295495e-12, 1.21325894e-24, 9.82882260e-01,\n",
       "       9.99997577e-01, 9.99999994e-01, 2.20398946e-06, 3.76148741e-22,\n",
       "       1.75919936e-23, 7.86701309e-19, 7.26350522e-08, 1.43880121e-11,\n",
       "       1.26500851e-12, 8.67126997e-05, 5.31610958e-20, 3.83560893e-08,\n",
       "       3.59155280e-14, 3.79200409e-14, 3.30101353e-07, 1.57621075e-09,\n",
       "       6.28855109e-03, 9.99999998e-01, 1.22094013e-01, 4.37110238e-04,\n",
       "       6.36340778e-01, 1.51503688e-03, 2.04839046e-17, 3.64476521e-05,\n",
       "       1.03559322e-03, 1.67526337e-14, 9.99999994e-01, 6.63868919e-06,\n",
       "       9.99849028e-01, 6.92177829e-01, 9.99993486e-01, 9.99998631e-01,\n",
       "       9.99996671e-01, 1.15012639e-11, 7.95541814e-05, 9.99929750e-01,\n",
       "       6.49356964e-20, 1.61096735e-06, 9.99999462e-01, 9.99999976e-01,\n",
       "       9.99999870e-01, 9.99999851e-01, 9.32088163e-08, 9.99999999e-01,\n",
       "       3.31425432e-08, 3.77699352e-06, 9.99988739e-01, 9.99987527e-01,\n",
       "       9.36769063e-01, 9.99998883e-01, 1.62958785e-16, 1.00000000e+00,\n",
       "       7.30047801e-14, 8.66280044e-01, 9.99947057e-01, 4.69885427e-10,\n",
       "       9.99997742e-01, 1.01994274e-17, 9.31351616e-21, 9.99961531e-01,\n",
       "       9.98408707e-01, 8.67961391e-01, 7.01424782e-28, 2.34768682e-08,\n",
       "       9.99870275e-01, 7.56915291e-14, 1.34065635e-01, 3.66850510e-15,\n",
       "       9.81795078e-01, 8.06394744e-01, 9.88086436e-01, 1.33597188e-01,\n",
       "       9.59627666e-01, 9.99391158e-01, 2.39719773e-07, 9.69974026e-15,\n",
       "       9.99999885e-01, 9.99999971e-01, 9.99994333e-01, 1.15342439e-01,\n",
       "       5.63247614e-06, 9.99999999e-01, 9.99665305e-01, 9.99902317e-01,\n",
       "       9.99999943e-01, 1.40736611e-06, 9.69738479e-01, 9.99979093e-01,\n",
       "       2.04059375e-33, 9.79167094e-01, 9.99999717e-01, 9.99993160e-01,\n",
       "       9.99383052e-01, 9.99999991e-01, 9.99987114e-01, 9.99427087e-01,\n",
       "       1.00000000e+00, 7.01818579e-09, 9.15643092e-13, 4.06086574e-07,\n",
       "       9.99998309e-01, 4.54420972e-13, 3.54919017e-34, 9.99240990e-01,\n",
       "       9.99999514e-01, 9.99995764e-01, 9.21035220e-05, 2.06078487e-09,\n",
       "       9.77672648e-01, 9.99672426e-14, 9.99999655e-01, 5.25018128e-08,\n",
       "       2.99908375e-06, 9.01712101e-01, 3.04821413e-12, 8.15992645e-01,\n",
       "       9.99983748e-01, 9.99998686e-01, 1.60150028e-10, 9.99999920e-01,\n",
       "       1.00000000e+00, 9.22670802e-08, 9.99997092e-01, 9.99755861e-01,\n",
       "       9.99999994e-01, 9.99999976e-01, 4.84774430e-03, 9.99815105e-01,\n",
       "       9.66372143e-01, 9.99995871e-01, 9.99025413e-01, 9.99987485e-01,\n",
       "       9.99859151e-01, 9.99999958e-01, 9.89389095e-01, 9.99912752e-01,\n",
       "       1.56607271e-10, 9.12074538e-01, 9.99999828e-01, 9.99999952e-01,\n",
       "       9.95628540e-01, 5.62376435e-14, 6.18581737e-22, 9.99957534e-01,\n",
       "       1.21881761e-21, 9.99987935e-01, 9.99999999e-01, 1.78738759e-07,\n",
       "       8.03526212e-20, 9.99929460e-01, 9.99995443e-01, 6.39999169e-06,\n",
       "       8.03797456e-07, 1.00000000e+00, 1.00000000e+00, 1.00000000e+00,\n",
       "       9.99999828e-01, 7.97399098e-05, 9.99999895e-01, 9.99999994e-01,\n",
       "       1.23839537e-33, 1.11986923e-20, 3.73605041e-07, 9.99999996e-01,\n",
       "       1.72653753e-01, 9.99999435e-01, 5.76192299e-06, 9.99689871e-01,\n",
       "       9.99999589e-01, 9.99999959e-01, 6.09553901e-02, 9.99947151e-01,\n",
       "       1.00000000e+00, 9.69890985e-06, 2.88074184e-01, 9.99994925e-01,\n",
       "       2.03143283e-06, 1.17154838e-04, 9.77921470e-10, 9.61818605e-07,\n",
       "       8.86520514e-01, 7.93294686e-07, 5.81930777e-22, 2.74343514e-14,\n",
       "       7.51940437e-01, 2.60287050e-01, 9.99999879e-01, 2.97775292e-07,\n",
       "       9.84332886e-01, 9.99083757e-01, 3.29530827e-16, 9.99988717e-01,\n",
       "       1.11694340e-73, 2.66050202e-01, 3.35467774e-05, 2.83561689e-01,\n",
       "       9.99808362e-01, 9.99999974e-01, 7.81929191e-21, 1.30339244e-23,\n",
       "       9.99998313e-01, 9.99938287e-01, 9.99999567e-01, 2.75502326e-06,\n",
       "       9.95201707e-01, 3.40069203e-01, 9.99999977e-01, 9.99405921e-01,\n",
       "       9.53425586e-01, 3.51804705e-05, 3.19912964e-09, 9.99998846e-01,\n",
       "       9.98690270e-01, 4.18464104e-15, 9.99999410e-01, 9.99646146e-01,\n",
       "       1.76945503e-33, 3.30507956e-12, 6.42426231e-01, 6.12821883e-15,\n",
       "       9.99636177e-01, 9.99999986e-01, 9.98809219e-01, 9.97736161e-01,\n",
       "       3.19210038e-09, 9.99944375e-01, 9.99999277e-01, 9.99621303e-01,\n",
       "       9.84923597e-01, 9.99971118e-01, 6.26814393e-25, 9.99938628e-01,\n",
       "       2.40812313e-19, 2.48845504e-06, 1.81075949e-15, 7.14102139e-02,\n",
       "       5.61946487e-19, 1.07736509e-08, 8.65956586e-20, 1.67849571e-11,\n",
       "       3.44326155e-15, 1.70122412e-03, 2.85203297e-09, 5.25466609e-01,\n",
       "       4.51641480e-11, 2.21105678e-39, 9.99995520e-01, 9.99985760e-01,\n",
       "       9.99994768e-01, 9.99999030e-01, 9.99999994e-01, 9.99999492e-01,\n",
       "       9.75924858e-26, 9.99999838e-01, 9.30184904e-07, 9.99404669e-01,\n",
       "       9.99999999e-01, 9.85555773e-04, 9.99899066e-01, 9.99884489e-01,\n",
       "       5.04075034e-17, 9.99943432e-01, 3.80155598e-13, 1.95516565e-03,\n",
       "       9.99999714e-01, 9.99999982e-01, 9.99965440e-01, 9.99999998e-01,\n",
       "       9.99999542e-01, 9.99999051e-01, 9.14412484e-01, 8.38224685e-01,\n",
       "       9.99858376e-01, 9.99943892e-01, 9.99999987e-01, 9.99999925e-01,\n",
       "       1.00000000e+00, 9.98831368e-01, 9.99805916e-01, 9.99999959e-01,\n",
       "       3.05004986e-23, 9.99995241e-01, 5.36759751e-20, 9.99999917e-01,\n",
       "       9.99999864e-01, 9.99998068e-01, 9.99999977e-01, 1.00000000e+00,\n",
       "       9.99999991e-01, 9.99998957e-01, 9.99998506e-01, 9.99838565e-01,\n",
       "       9.99999022e-01, 1.00000000e+00, 1.00000000e+00, 9.99999996e-01,\n",
       "       1.00000000e+00, 3.37223023e-09, 9.99996850e-01, 9.99999999e-01,\n",
       "       9.99997786e-01, 4.22215159e-11, 9.99959572e-01, 1.37879552e-20,\n",
       "       9.99998556e-01, 9.99998307e-01, 9.99998785e-01, 9.99999983e-01,\n",
       "       1.09819965e-07, 2.58806676e-04, 4.34150594e-04, 9.99680252e-01,\n",
       "       9.99999919e-01, 9.99999975e-01, 9.99999589e-01, 2.30556793e-14,\n",
       "       9.99999997e-01, 1.65735222e-16, 9.99997762e-01, 3.08923347e-34,\n",
       "       5.78096617e-01, 9.99995972e-01, 9.99993579e-01, 4.17602128e-14,\n",
       "       9.99940234e-01, 1.00000000e+00, 9.99989726e-01, 8.80939939e-01,\n",
       "       9.99997513e-01, 9.99999971e-01, 9.99998013e-01, 3.51230750e-07,\n",
       "       2.78704742e-34, 5.24859709e-10, 9.99999998e-01, 9.99998721e-01,\n",
       "       9.99669825e-01, 9.99994637e-01, 9.99999986e-01, 9.98971383e-01,\n",
       "       9.99999861e-01, 9.99987471e-01, 9.99990062e-01, 8.72113124e-01,\n",
       "       9.99997261e-01, 1.14323897e-12, 1.98539356e-17, 9.97400484e-01,\n",
       "       1.12435199e-37, 8.38448715e-26, 4.27672916e-11, 9.99999253e-01,\n",
       "       2.70005910e-07, 4.40442398e-16, 9.99997966e-01, 9.99794718e-01,\n",
       "       9.99999782e-01, 9.99116252e-01, 9.99995432e-01, 1.29334398e-05,\n",
       "       9.95748678e-01, 9.99999898e-01, 9.99999843e-01, 9.99951620e-01,\n",
       "       9.99999007e-01, 4.85079599e-02, 9.99999178e-01, 9.99999231e-01,\n",
       "       9.99999997e-01, 1.78113994e-08, 9.99999968e-01, 9.99999984e-01,\n",
       "       7.44233386e-14, 1.05656406e-19, 9.99913401e-01, 9.99999171e-01,\n",
       "       8.68960766e-01, 9.99998241e-01, 9.99999751e-01, 9.99976379e-01,\n",
       "       3.96948766e-11, 9.99995241e-01, 9.99999633e-01, 9.99996769e-01,\n",
       "       9.99999854e-01, 9.99954607e-01, 9.89210687e-01, 9.99926073e-01,\n",
       "       2.04678103e-08, 9.96383820e-01, 9.62125814e-01, 9.99976044e-01,\n",
       "       9.99999996e-01, 4.49270551e-01, 1.13918395e-03, 9.99924668e-01,\n",
       "       9.99989080e-01, 2.29724596e-27, 9.99999531e-01, 9.99995181e-01,\n",
       "       9.99960559e-01, 9.93833745e-01, 9.99962535e-01, 9.79090926e-01,\n",
       "       9.99901147e-01, 9.99999828e-01, 9.99992710e-01, 9.96600270e-01,\n",
       "       9.99999998e-01, 9.99999834e-01, 5.82352410e-05, 9.99999949e-01,\n",
       "       9.39031496e-12, 1.69753095e-15, 9.99871867e-01, 5.23249805e-05,\n",
       "       9.99739464e-01, 9.99262203e-01, 9.99670548e-01, 9.99998725e-01,\n",
       "       9.97615146e-01, 2.14913106e-09, 9.99999707e-01, 1.00000000e+00,\n",
       "       2.02935544e-04, 9.88730828e-01, 5.83547158e-13, 9.98532249e-01,\n",
       "       9.83385818e-01, 4.88991724e-18, 9.99999774e-01, 3.52239179e-10,\n",
       "       9.99488529e-01, 9.99144819e-01, 9.99583677e-01, 4.63304351e-01,\n",
       "       9.60540208e-01, 9.97039293e-01, 9.99332085e-01, 9.99978853e-01,\n",
       "       1.67041942e-19, 1.04570656e-89, 9.99326060e-01, 9.99970482e-01,\n",
       "       9.99205824e-01, 9.85183325e-01, 8.77834731e-01, 9.99998901e-01,\n",
       "       3.29180968e-14, 9.32962085e-01, 9.99977526e-01, 9.94300222e-01,\n",
       "       9.97136548e-01, 9.99994995e-01, 9.99999910e-01, 9.99969315e-01,\n",
       "       8.62972910e-01, 9.99999387e-01, 9.99999206e-01, 1.40992246e-02,\n",
       "       9.99997265e-01, 9.71223293e-01, 9.99822222e-01, 9.99670552e-01,\n",
       "       9.97566122e-01, 9.99981227e-01, 9.99023313e-01, 1.72146174e-15,\n",
       "       9.98441628e-01, 2.99097934e-01, 9.97013442e-01, 6.56832614e-01,\n",
       "       1.48274548e-11, 1.00000000e+00, 9.99987742e-01, 9.93664780e-01,\n",
       "       9.73271128e-01, 9.99836172e-01, 3.21466775e-13, 6.49351439e-16,\n",
       "       9.91944954e-01, 7.32893711e-05, 9.99960765e-01, 6.22297622e-32,\n",
       "       9.99998927e-01, 9.99997795e-01, 9.99953381e-01, 9.99998233e-01,\n",
       "       9.90225984e-01, 2.94939716e-06, 9.99999964e-01, 9.99996164e-01,\n",
       "       2.32297822e-07, 9.70972793e-01, 2.97180061e-02, 9.99912519e-01,\n",
       "       1.45757751e-11, 4.29328604e-11, 9.88862874e-01, 9.99434739e-01,\n",
       "       9.99997474e-01, 1.43817131e-28, 9.99999975e-01, 9.87105305e-01,\n",
       "       9.99999654e-01, 9.99999518e-01, 7.72624191e-01, 9.99989144e-01,\n",
       "       9.99993184e-01, 9.99996659e-01, 9.95857141e-01, 9.96242681e-01,\n",
       "       9.99822699e-01, 3.07536405e-14, 9.99999597e-01, 1.50310869e-16,\n",
       "       2.72650382e-01, 9.88427034e-01, 9.99996372e-01, 9.99997521e-01,\n",
       "       9.99999995e-01, 5.48803539e-01, 5.01338175e-01, 9.93967709e-01,\n",
       "       9.99990250e-01, 9.91100162e-01, 9.99999984e-01, 9.99999925e-01,\n",
       "       9.99999499e-01, 9.99658082e-01, 9.99999995e-01, 9.99997273e-01,\n",
       "       9.95766680e-01, 9.99999997e-01, 9.97398481e-01, 9.99940159e-01,\n",
       "       1.00000000e+00, 9.99999754e-01, 9.99944841e-01, 9.99673424e-01,\n",
       "       9.71577275e-01, 9.99999990e-01, 4.10630353e-11, 2.16627903e-22,\n",
       "       2.02686774e-27, 5.54168104e-17, 1.25354112e-05, 9.41899859e-23,\n",
       "       9.99998909e-01])"
      ]
     },
     "execution_count": 24,
     "metadata": {},
     "output_type": "execute_result"
    }
   ],
   "source": [
    "model.predict_proba(X)[:,1] # pi(x) dla kolejnych obserwacji"
   ]
  },
  {
   "cell_type": "code",
   "execution_count": 25,
   "metadata": {},
   "outputs": [],
   "source": [
    "from sklearn.metrics import accuracy_score"
   ]
  },
  {
   "cell_type": "code",
   "execution_count": 27,
   "metadata": {},
   "outputs": [
    {
     "data": {
      "text/plain": [
       "0.984182776801406"
      ]
     },
     "execution_count": 27,
     "metadata": {},
     "output_type": "execute_result"
    }
   ],
   "source": [
    "y_pred = model.predict(X)\n",
    "\n",
    "accuracy_score(y, y_pred)"
   ]
  },
  {
   "cell_type": "code",
   "execution_count": 18,
   "metadata": {},
   "outputs": [],
   "source": [
    "from sklearn.model_selection import train_test_split\n",
    "X_train, X_test, y_train, y_test = train_test_split(X, y, \n",
    "                                                    test_size=0.25)"
   ]
  },
  {
   "cell_type": "code",
   "execution_count": 42,
   "metadata": {},
   "outputs": [
    {
     "name": "stderr",
     "output_type": "stream",
     "text": [
      "/home/nor/anaconda3/lib/python3.8/site-packages/sklearn/linear_model/_logistic.py:763: ConvergenceWarning: lbfgs failed to converge (status=1):\n",
      "STOP: TOTAL NO. of ITERATIONS REACHED LIMIT.\n",
      "\n",
      "Increase the number of iterations (max_iter) or scale the data as shown in:\n",
      "    https://scikit-learn.org/stable/modules/preprocessing.html\n",
      "Please also refer to the documentation for alternative solver options:\n",
      "    https://scikit-learn.org/stable/modules/linear_model.html#logistic-regression\n",
      "  n_iter_i = _check_optimize_result(\n"
     ]
    },
    {
     "data": {
      "text/plain": [
       "0.951048951048951"
      ]
     },
     "execution_count": 42,
     "metadata": {},
     "output_type": "execute_result"
    }
   ],
   "source": [
    "model = LogisticRegression(\"none\", max_iter=1000)\n",
    "model.fit(X_train, y_train)\n",
    "y_pred = model.predict(X_test)\n",
    "\n",
    "accuracy_score(y_test, y_pred)"
   ]
  },
  {
   "cell_type": "code",
   "execution_count": 23,
   "metadata": {},
   "outputs": [],
   "source": [
    "from sklearn.model_selection import cross_val_score\n",
    "?cross_val_score"
   ]
  },
  {
   "cell_type": "code",
   "execution_count": 45,
   "metadata": {},
   "outputs": [
    {
     "name": "stderr",
     "output_type": "stream",
     "text": [
      "/home/nor/anaconda3/lib/python3.8/site-packages/sklearn/linear_model/_logistic.py:763: ConvergenceWarning: lbfgs failed to converge (status=1):\n",
      "STOP: TOTAL NO. of ITERATIONS REACHED LIMIT.\n",
      "\n",
      "Increase the number of iterations (max_iter) or scale the data as shown in:\n",
      "    https://scikit-learn.org/stable/modules/preprocessing.html\n",
      "Please also refer to the documentation for alternative solver options:\n",
      "    https://scikit-learn.org/stable/modules/linear_model.html#logistic-regression\n",
      "  n_iter_i = _check_optimize_result(\n",
      "/home/nor/anaconda3/lib/python3.8/site-packages/sklearn/linear_model/_logistic.py:763: ConvergenceWarning: lbfgs failed to converge (status=1):\n",
      "STOP: TOTAL NO. of ITERATIONS REACHED LIMIT.\n",
      "\n",
      "Increase the number of iterations (max_iter) or scale the data as shown in:\n",
      "    https://scikit-learn.org/stable/modules/preprocessing.html\n",
      "Please also refer to the documentation for alternative solver options:\n",
      "    https://scikit-learn.org/stable/modules/linear_model.html#logistic-regression\n",
      "  n_iter_i = _check_optimize_result(\n",
      "/home/nor/anaconda3/lib/python3.8/site-packages/sklearn/linear_model/_logistic.py:763: ConvergenceWarning: lbfgs failed to converge (status=1):\n",
      "STOP: TOTAL NO. of ITERATIONS REACHED LIMIT.\n",
      "\n",
      "Increase the number of iterations (max_iter) or scale the data as shown in:\n",
      "    https://scikit-learn.org/stable/modules/preprocessing.html\n",
      "Please also refer to the documentation for alternative solver options:\n",
      "    https://scikit-learn.org/stable/modules/linear_model.html#logistic-regression\n",
      "  n_iter_i = _check_optimize_result(\n",
      "/home/nor/anaconda3/lib/python3.8/site-packages/sklearn/linear_model/_logistic.py:763: ConvergenceWarning: lbfgs failed to converge (status=1):\n",
      "STOP: TOTAL NO. of ITERATIONS REACHED LIMIT.\n",
      "\n",
      "Increase the number of iterations (max_iter) or scale the data as shown in:\n",
      "    https://scikit-learn.org/stable/modules/preprocessing.html\n",
      "Please also refer to the documentation for alternative solver options:\n",
      "    https://scikit-learn.org/stable/modules/linear_model.html#logistic-regression\n",
      "  n_iter_i = _check_optimize_result(\n",
      "/home/nor/anaconda3/lib/python3.8/site-packages/sklearn/linear_model/_logistic.py:763: ConvergenceWarning: lbfgs failed to converge (status=1):\n",
      "STOP: TOTAL NO. of ITERATIONS REACHED LIMIT.\n",
      "\n",
      "Increase the number of iterations (max_iter) or scale the data as shown in:\n",
      "    https://scikit-learn.org/stable/modules/preprocessing.html\n",
      "Please also refer to the documentation for alternative solver options:\n",
      "    https://scikit-learn.org/stable/modules/linear_model.html#logistic-regression\n",
      "  n_iter_i = _check_optimize_result(\n",
      "/home/nor/anaconda3/lib/python3.8/site-packages/sklearn/linear_model/_logistic.py:763: ConvergenceWarning: lbfgs failed to converge (status=1):\n",
      "STOP: TOTAL NO. of ITERATIONS REACHED LIMIT.\n",
      "\n",
      "Increase the number of iterations (max_iter) or scale the data as shown in:\n",
      "    https://scikit-learn.org/stable/modules/preprocessing.html\n",
      "Please also refer to the documentation for alternative solver options:\n",
      "    https://scikit-learn.org/stable/modules/linear_model.html#logistic-regression\n",
      "  n_iter_i = _check_optimize_result(\n",
      "/home/nor/anaconda3/lib/python3.8/site-packages/sklearn/linear_model/_logistic.py:763: ConvergenceWarning: lbfgs failed to converge (status=1):\n",
      "STOP: TOTAL NO. of ITERATIONS REACHED LIMIT.\n",
      "\n",
      "Increase the number of iterations (max_iter) or scale the data as shown in:\n",
      "    https://scikit-learn.org/stable/modules/preprocessing.html\n",
      "Please also refer to the documentation for alternative solver options:\n",
      "    https://scikit-learn.org/stable/modules/linear_model.html#logistic-regression\n",
      "  n_iter_i = _check_optimize_result(\n",
      "/home/nor/anaconda3/lib/python3.8/site-packages/sklearn/linear_model/_logistic.py:763: ConvergenceWarning: lbfgs failed to converge (status=1):\n",
      "STOP: TOTAL NO. of ITERATIONS REACHED LIMIT.\n",
      "\n",
      "Increase the number of iterations (max_iter) or scale the data as shown in:\n",
      "    https://scikit-learn.org/stable/modules/preprocessing.html\n",
      "Please also refer to the documentation for alternative solver options:\n",
      "    https://scikit-learn.org/stable/modules/linear_model.html#logistic-regression\n",
      "  n_iter_i = _check_optimize_result(\n",
      "/home/nor/anaconda3/lib/python3.8/site-packages/sklearn/linear_model/_logistic.py:763: ConvergenceWarning: lbfgs failed to converge (status=1):\n",
      "STOP: TOTAL NO. of ITERATIONS REACHED LIMIT.\n",
      "\n",
      "Increase the number of iterations (max_iter) or scale the data as shown in:\n",
      "    https://scikit-learn.org/stable/modules/preprocessing.html\n",
      "Please also refer to the documentation for alternative solver options:\n",
      "    https://scikit-learn.org/stable/modules/linear_model.html#logistic-regression\n",
      "  n_iter_i = _check_optimize_result(\n",
      "/home/nor/anaconda3/lib/python3.8/site-packages/sklearn/linear_model/_logistic.py:763: ConvergenceWarning: lbfgs failed to converge (status=1):\n",
      "STOP: TOTAL NO. of ITERATIONS REACHED LIMIT.\n",
      "\n",
      "Increase the number of iterations (max_iter) or scale the data as shown in:\n",
      "    https://scikit-learn.org/stable/modules/preprocessing.html\n",
      "Please also refer to the documentation for alternative solver options:\n",
      "    https://scikit-learn.org/stable/modules/linear_model.html#logistic-regression\n",
      "  n_iter_i = _check_optimize_result(\n"
     ]
    },
    {
     "data": {
      "text/plain": [
       "0.9490601503759398"
      ]
     },
     "execution_count": 45,
     "metadata": {},
     "output_type": "execute_result"
    }
   ],
   "source": [
    "cross_val_score(LogisticRegression(\"none\"), X, y, cv=10).mean()"
   ]
  },
  {
   "cell_type": "code",
   "execution_count": null,
   "metadata": {},
   "outputs": [],
   "source": []
  },
  {
   "cell_type": "code",
   "execution_count": null,
   "metadata": {},
   "outputs": [],
   "source": []
  },
  {
   "cell_type": "markdown",
   "metadata": {},
   "source": [
    "# Regularyzacja\n",
    "\n",
    "Regularyzacja - zabezpieczenie przed przeuczeniem.\n",
    "\n",
    "### Dopasowanie modelu\n",
    "\n",
    "<img src=\"Grafika/regularization.jpg\" width=\"600\">\n",
    "Źródło: https://i.ytimg.com/vi/nmHNXsDPPFQ/maxresdefault.jpg\n",
    "\n",
    "\n",
    "## Regularyzacja w regresji logistycznej\n",
    "\n",
    "Regularyzacja w regresji logistycznej polega na dodaniu do celu optymalizacyjnego kary za wielkości współczynników w $\\beta$.\n",
    "\n",
    "Przypomnijmy, że w regresji logistycznej estymator wektora $\\beta$ ma postać:\n",
    "\n",
    "$$\\hat{\\beta} = arg \\max\\limits_{\\beta} \\sum\\limits_{i=1}^n h(\\pi(x_i),y_i).$$\n",
    "\n",
    "W oczywisty sposób jest to równoważne rozwiązywaniu problemu:\n",
    "\n",
    "$$\\hat{\\beta} = arg \\min\\limits_{\\beta} -\\sum\\limits_{i=1}^n h(\\pi(x_i),y_i).$$\n",
    "\n",
    "### Regresja z regularyzacją L2:\n",
    "\n",
    "$$\\hat{\\beta} = arg \\min\\limits_{\\beta} \\big( -\\sum\\limits_{i=1}^n h(\\pi(x_i),y_i) + \\lambda\\|\\beta\\|_2^2 \\big),$$\n",
    "\n",
    "$\\|\\beta\\|_2$ - norma l2 wektora $\\beta$: $\\sqrt{\\sum\\limits_{i=1}^p\\beta_i^2}$,\n",
    "\n",
    "$\\lambda$ - współczynnik regularyzacji.\n",
    "\n",
    "Skąd wziąć wartość $\\lambda$? Trzeba wyznaczyć sobie empirycznie - przetestować model  z różnymi wartościami i wybrać tę, dla której wyniki są najlepsze.\n",
    "\n",
    "**W sklearnie za regularyzację odpowiada parametr C i jest on odwrotnoscią parametru $\\lambda$, tzn. $C = \\frac{1}{\\lambda}$. Zatem im mniejsze C, tym silniejsza regularyzacja.**\n",
    "\n",
    "\n",
    "### Równie często stosowana jest norma l1: $\\sum\\limits_{i=1}^p|\\beta_i|$. \n",
    "\n",
    "#### Uwaga: Norma L1 zeruje współczynniki! \n",
    "\n",
    "\n",
    "Na marginesie: w modelach w uczeniu maszynowym pojawiają sie bardzo różne formy regularyzacji, których możemy nawet nie być świadomi."
   ]
  },
  {
   "cell_type": "code",
   "execution_count": 47,
   "metadata": {},
   "outputs": [],
   "source": [
    "import numpy as np\n",
    "import matplotlib.pyplot as plt"
   ]
  },
  {
   "cell_type": "code",
   "execution_count": 48,
   "metadata": {},
   "outputs": [],
   "source": [
    "x = np.linspace(start=-1, stop=1, num=100)\n",
    "beta = np.array([-0.5, 5])"
   ]
  },
  {
   "cell_type": "code",
   "execution_count": 50,
   "metadata": {
    "collapsed": true,
    "jupyter": {
     "outputs_hidden": true
    }
   },
   "outputs": [
    {
     "data": {
      "text/plain": [
       "array([0.00407014, 0.0045008 , 0.0049768 , 0.00550286, 0.00608419,\n",
       "       0.00672651, 0.00743614, 0.00822001, 0.00908576, 0.01004177,\n",
       "       0.01109725, 0.01226229, 0.01354796, 0.01496639, 0.01653084,\n",
       "       0.01825579, 0.02015705, 0.02225182, 0.02455883, 0.0270984 ,\n",
       "       0.02989254, 0.03296501, 0.03634146, 0.04004942, 0.04411838,\n",
       "       0.04857982, 0.05346719, 0.05881586, 0.06466303, 0.07104762,\n",
       "       0.07801003, 0.08559186, 0.09383557, 0.10278402, 0.11247991,\n",
       "       0.12296507, 0.13427977, 0.14646172, 0.15954517, 0.1735597 ,\n",
       "       0.18852913, 0.20447023, 0.22139149, 0.23929188, 0.25815971,\n",
       "       0.27797161, 0.29869176, 0.32027131, 0.34264818, 0.36574724,\n",
       "       0.38948085, 0.41374989, 0.43844515, 0.46344916, 0.48863832,\n",
       "       0.51388532, 0.53906165, 0.56404027, 0.58869807, 0.61291832,\n",
       "       0.63659276, 0.65962334, 0.68192365, 0.70341983, 0.72405114,\n",
       "       0.74377004, 0.76254197, 0.78034479, 0.79716791, 0.81301132,\n",
       "       0.82788438, 0.84180463, 0.85479651, 0.86689013, 0.87812013,\n",
       "       0.88852452, 0.89814375, 0.90701981, 0.91519541, 0.92271339,\n",
       "       0.92961616, 0.93594521, 0.94174081, 0.9470417 , 0.95188492,\n",
       "       0.95630564, 0.96033712, 0.96401063, 0.96735548, 0.97039899,\n",
       "       0.97316663, 0.97568198, 0.97796689, 0.98004149, 0.98192437,\n",
       "       0.98363258, 0.9851818 , 0.98658637, 0.98785946, 0.98901306])"
      ]
     },
     "execution_count": 50,
     "metadata": {},
     "output_type": "execute_result"
    }
   ],
   "source": [
    "pi = 1/(1+np.exp(-(beta[0] + beta[1]*x)))\n",
    "pi"
   ]
  },
  {
   "cell_type": "code",
   "execution_count": 51,
   "metadata": {},
   "outputs": [
    {
     "data": {
      "text/plain": [
       "array([0, 0, 0, 0, 0, 0, 0, 0, 0, 0, 0, 0, 0, 0, 0, 0, 0, 0, 0, 0, 0, 0,\n",
       "       0, 0, 0, 0, 0, 0, 0, 0, 0, 0, 0, 0, 0, 0, 0, 0, 0, 0, 0, 1, 0, 0,\n",
       "       0, 0, 1, 1, 0, 1, 0, 0, 0, 0, 0, 0, 1, 1, 1, 1, 1, 1, 1, 1, 0, 1,\n",
       "       1, 1, 0, 1, 1, 1, 1, 0, 1, 0, 1, 1, 1, 1, 1, 1, 1, 1, 1, 1, 1, 1,\n",
       "       1, 1, 1, 1, 1, 1, 1, 1, 1, 0, 1, 1])"
      ]
     },
     "execution_count": 51,
     "metadata": {},
     "output_type": "execute_result"
    }
   ],
   "source": [
    "y = np.random.binomial(1, pi)\n",
    "y"
   ]
  },
  {
   "cell_type": "code",
   "execution_count": 52,
   "metadata": {},
   "outputs": [
    {
     "data": {
      "image/png": "[encoded data removed]",
      "text/plain": [
       "<Figure size 432x288 with 1 Axes>"
      ]
     },
     "metadata": {
      "needs_background": "light"
     },
     "output_type": "display_data"
    }
   ],
   "source": [
    "plt.plot(x, pi)\n",
    "plt.scatter(x, y)\n",
    "plt.show()"
   ]
  },
  {
   "cell_type": "code",
   "execution_count": 55,
   "metadata": {},
   "outputs": [
    {
     "data": {
      "text/plain": [
       "array([[-1.  ,  1.  , -1.  ,  1.  , -1.  ],\n",
       "       [-0.98,  0.96, -0.94,  0.92, -0.9 ],\n",
       "       [-0.96,  0.92, -0.88,  0.85, -0.81],\n",
       "       [-0.94,  0.88, -0.83,  0.78, -0.73],\n",
       "       [-0.92,  0.84, -0.78,  0.71, -0.66]])"
      ]
     },
     "execution_count": 55,
     "metadata": {},
     "output_type": "execute_result"
    }
   ],
   "source": [
    "# X macierz, gdzie w pierwszej kolumnie jest siatka od -1 do 1, a w kolejny są kolejne potęgi tej wartości\n",
    "\n",
    "X = np.vstack([x**p for p in range(1,20)]).T\n",
    "X[:5,:5].round(2)"
   ]
  },
  {
   "cell_type": "code",
   "execution_count": 58,
   "metadata": {
    "collapsed": true,
    "jupyter": {
     "outputs_hidden": true
    }
   },
   "outputs": [
    {
     "name": "stderr",
     "output_type": "stream",
     "text": [
      "/home/nor/anaconda3/lib/python3.8/site-packages/sklearn/linear_model/_logistic.py:763: ConvergenceWarning: lbfgs failed to converge (status=1):\n",
      "STOP: TOTAL NO. of ITERATIONS REACHED LIMIT.\n",
      "\n",
      "Increase the number of iterations (max_iter) or scale the data as shown in:\n",
      "    https://scikit-learn.org/stable/modules/preprocessing.html\n",
      "Please also refer to the documentation for alternative solver options:\n",
      "    https://scikit-learn.org/stable/modules/linear_model.html#logistic-regression\n",
      "  n_iter_i = _check_optimize_result(\n"
     ]
    }
   ],
   "source": [
    "model = LogisticRegression(\"none\")\n",
    "model.fit(X, y)\n",
    "probs = model.predict_proba(X)[:,1]"
   ]
  },
  {
   "cell_type": "code",
   "execution_count": 60,
   "metadata": {},
   "outputs": [
    {
     "data": {
      "image/png": "[encoded data removed]",
      "text/plain": [
       "<Figure size 432x288 with 1 Axes>"
      ]
     },
     "metadata": {
      "needs_background": "light"
     },
     "output_type": "display_data"
    }
   ],
   "source": [
    "plt.plot(x, pi, label=\"original\")\n",
    "plt.plot(x, probs, label=\"log_reg\")\n",
    "plt.scatter(x, y)\n",
    "plt.legend()\n",
    "plt.show()"
   ]
  },
  {
   "cell_type": "markdown",
   "metadata": {},
   "source": [
    "### Zadanie: \n",
    "\n",
    "Narysować wykresy krzywych prawdopodobieństwa w zależności od C."
   ]
  },
  {
   "cell_type": "code",
   "execution_count": 71,
   "metadata": {
    "scrolled": true
   },
   "outputs": [
    {
     "data": {
      "image/png": "[encoded data removed]",
      "text/plain": [
       "<Figure size 432x288 with 1 Axes>"
      ]
     },
     "metadata": {
      "needs_background": "light"
     },
     "output_type": "display_data"
    }
   ],
   "source": [
    "model = LogisticRegression(\"l2\", C=0.0001)\n",
    "model.fit(X, y)\n",
    "probs = model.predict_proba(X)[:,1]\n",
    "\n",
    "plt.plot(x, pi, label=\"original\")\n",
    "plt.plot(x, probs, label=\"log_reg\")\n",
    "plt.scatter(x, y)\n",
    "plt.legend()\n",
    "plt.show()"
   ]
  },
  {
   "cell_type": "code",
   "execution_count": 72,
   "metadata": {},
   "outputs": [
    {
     "data": {
      "text/plain": [
       "array([[ 2.19368366e-03,  7.51032128e-05,  1.16443663e-03,\n",
       "         4.61280520e-05,  7.85675073e-04,  2.46900278e-05,\n",
       "         5.91871692e-04,  1.14718620e-05,  4.75821927e-04,\n",
       "         3.81563541e-06,  3.99561001e-04, -4.39262954e-07,\n",
       "         3.46181181e-04, -2.63522065e-06,  3.07056997e-04,\n",
       "        -3.56855896e-06,  2.77357012e-04, -3.71664533e-06,\n",
       "         2.54178309e-04]])"
      ]
     },
     "execution_count": 72,
     "metadata": {},
     "output_type": "execute_result"
    }
   ],
   "source": [
    "model.coef_"
   ]
  },
  {
   "cell_type": "markdown",
   "metadata": {},
   "source": [
    "Optymalizacja hiperparametrów"
   ]
  },
  {
   "cell_type": "code",
   "execution_count": 73,
   "metadata": {},
   "outputs": [],
   "source": [
    "data = load_breast_cancer()\n",
    "X = data.data\n",
    "y = data.target"
   ]
  },
  {
   "cell_type": "code",
   "execution_count": 76,
   "metadata": {},
   "outputs": [],
   "source": [
    "X_train, X_test, y_train, y_test = train_test_split(X, y, \n",
    "                                                    test_size=0.25)"
   ]
  },
  {
   "cell_type": "code",
   "execution_count": 78,
   "metadata": {},
   "outputs": [],
   "source": [
    "from sklearn.preprocessing import scale\n",
    "?scale"
   ]
  },
  {
   "cell_type": "code",
   "execution_count": null,
   "metadata": {},
   "outputs": [],
   "source": [
    "# opcja 1\n",
    "X_train_sc = scale(X_train)\n",
    "X_test_sc = scale(X_test)\n",
    "\n",
    "# opcja 2:\n",
    "X_scaled = scale(X)\n",
    "X_train_sc, X_test_sc, y_train, y_test = train_test_split(\n",
    "    X_scaled, y, test_size=0.25)\n",
    "\n",
    "# oba podejscia niepoprawne"
   ]
  },
  {
   "cell_type": "code",
   "execution_count": null,
   "metadata": {},
   "outputs": [],
   "source": [
    "X_new -> co zrobić z nową oberwacj???"
   ]
  },
  {
   "cell_type": "code",
   "execution_count": 19,
   "metadata": {},
   "outputs": [],
   "source": [
    "X_train, X_test, y_train, y_test = train_test_split(X, y, \n",
    "                                                    test_size=0.25)"
   ]
  },
  {
   "cell_type": "code",
   "execution_count": 80,
   "metadata": {},
   "outputs": [],
   "source": [
    "from sklearn.preprocessing import StandardScaler"
   ]
  },
  {
   "cell_type": "code",
   "execution_count": 81,
   "metadata": {},
   "outputs": [
    {
     "data": {
      "text/plain": [
       "StandardScaler()"
      ]
     },
     "execution_count": 81,
     "metadata": {},
     "output_type": "execute_result"
    }
   ],
   "source": [
    "scaler = StandardScaler()\n",
    "scaler.fit(X_train)"
   ]
  },
  {
   "cell_type": "code",
   "execution_count": 83,
   "metadata": {
    "collapsed": true,
    "jupyter": {
     "outputs_hidden": true
    }
   },
   "outputs": [
    {
     "data": {
      "text/plain": [
       "array([1.41545211e+01, 1.91022535e+01, 9.21126291e+01, 6.57544366e+02,\n",
       "       9.64737089e-02, 1.03241878e-01, 8.81015228e-02, 4.88425258e-02,\n",
       "       1.80439671e-01, 6.26313146e-02, 4.04183333e-01, 1.18789484e+00,\n",
       "       2.84875986e+00, 4.07590094e+01, 7.00529108e-03, 2.49148568e-02,\n",
       "       3.11333394e-02, 1.17359249e-02, 2.03671385e-02, 3.68153286e-03,\n",
       "       1.63153779e+01, 2.54059155e+01, 1.07434624e+02, 8.86532629e+02,\n",
       "       1.32704272e-01, 2.52700235e-01, 2.72940683e-01, 1.15166995e-01,\n",
       "       2.89458451e-01, 8.37198826e-02])"
      ]
     },
     "execution_count": 83,
     "metadata": {},
     "output_type": "execute_result"
    }
   ],
   "source": [
    "scaler.mean_"
   ]
  },
  {
   "cell_type": "code",
   "execution_count": 87,
   "metadata": {
    "collapsed": true,
    "jupyter": {
     "outputs_hidden": true
    }
   },
   "outputs": [
    {
     "data": {
      "text/plain": [
       "array([3.50302092e+00, 4.22433183e+00, 2.41130813e+01, 3.52690190e+02,\n",
       "       1.34792224e-02, 5.21619232e-02, 7.89848635e-02, 3.84296648e-02,\n",
       "       2.71132029e-02, 6.99745243e-03, 2.86154894e-01, 5.29425375e-01,\n",
       "       2.05212897e+00, 4.84260049e+01, 3.00418847e-03, 1.71293042e-02,\n",
       "       2.65009272e-02, 5.72904328e-03, 8.22631678e-03, 2.32526388e-03,\n",
       "       4.85061449e+00, 5.98431963e+00, 3.34263269e+01, 5.79290432e+02,\n",
       "       2.19690394e-02, 1.55982973e-01, 2.10959714e-01, 6.49269993e-02,\n",
       "       6.22053138e-02, 1.82495443e-02])"
      ]
     },
     "execution_count": 87,
     "metadata": {},
     "output_type": "execute_result"
    }
   ],
   "source": [
    "scaler.scale_"
   ]
  },
  {
   "cell_type": "code",
   "execution_count": 88,
   "metadata": {},
   "outputs": [],
   "source": [
    "# lista pol w obiekcie:\n",
    "# dir(scaler)"
   ]
  },
  {
   "cell_type": "code",
   "execution_count": 90,
   "metadata": {},
   "outputs": [],
   "source": [
    "X_train_scaled = scaler.transform(X_train)\n",
    "X_test_scaled = scaler.transform(X_test)"
   ]
  },
  {
   "cell_type": "code",
   "execution_count": 91,
   "metadata": {},
   "outputs": [
    {
     "data": {
      "text/plain": [
       "0.986013986013986"
      ]
     },
     "execution_count": 91,
     "metadata": {},
     "output_type": "execute_result"
    }
   ],
   "source": [
    "model = LogisticRegression(\"l2\", C=10)\n",
    "model.fit(X_train_scaled, y_train)\n",
    "y_pred = model.predict(X_test_scaled)\n",
    "\n",
    "accuracy_score(y_test, y_pred)"
   ]
  },
  {
   "cell_type": "code",
   "execution_count": 10,
   "metadata": {},
   "outputs": [],
   "source": [
    "from sklearn.pipeline import Pipeline, make_pipeline\n",
    "from sklearn.linear_model import LogisticRegression"
   ]
  },
  {
   "cell_type": "code",
   "execution_count": 93,
   "metadata": {},
   "outputs": [],
   "source": [
    "pipeline = make_pipeline(StandardScaler(), LogisticRegression())"
   ]
  },
  {
   "cell_type": "code",
   "execution_count": 20,
   "metadata": {},
   "outputs": [
    {
     "name": "stderr",
     "output_type": "stream",
     "text": [
      "/home/nor/anaconda3/lib/python3.8/site-packages/sklearn/linear_model/_logistic.py:763: ConvergenceWarning: lbfgs failed to converge (status=1):\n",
      "STOP: TOTAL NO. of ITERATIONS REACHED LIMIT.\n",
      "\n",
      "Increase the number of iterations (max_iter) or scale the data as shown in:\n",
      "    https://scikit-learn.org/stable/modules/preprocessing.html\n",
      "Please also refer to the documentation for alternative solver options:\n",
      "    https://scikit-learn.org/stable/modules/linear_model.html#logistic-regression\n",
      "  n_iter_i = _check_optimize_result(\n"
     ]
    },
    {
     "data": {
      "text/plain": [
       "Pipeline(steps=[('nonetype', None),\n",
       "                ('logisticregression', LogisticRegression())])"
      ]
     },
     "execution_count": 20,
     "metadata": {},
     "output_type": "execute_result"
    }
   ],
   "source": [
    "pipeline.fit(X_train, y_train)  # scaler.fit -> scaler.transform -> model.fit"
   ]
  },
  {
   "cell_type": "code",
   "execution_count": 21,
   "metadata": {},
   "outputs": [
    {
     "data": {
      "text/plain": [
       "array([1, 1, 0, 0, 1, 0, 1, 0, 0, 0, 0, 1, 1, 0, 0, 0, 1, 1, 1, 1, 0, 0,\n",
       "       1, 1, 0, 0, 1, 1, 1, 1, 1, 1, 0, 1, 1, 0, 0, 1, 0, 1, 1, 1, 0, 1,\n",
       "       1, 0, 1, 1, 1, 1, 1, 0, 1, 0, 0, 1, 0, 1, 0, 0, 1, 0, 0, 0, 0, 1,\n",
       "       0, 0, 1, 0, 0, 1, 1, 1, 0, 1, 1, 1, 0, 1, 1, 1, 0, 1, 1, 0, 0, 0,\n",
       "       1, 0, 1, 0, 0, 1, 1, 0, 0, 0, 0, 1, 1, 1, 1, 1, 0, 1, 0, 0, 0, 0,\n",
       "       1, 1, 1, 0, 1, 1, 1, 0, 0, 1, 0, 1, 0, 0, 1, 1, 1, 0, 1, 1, 1, 1,\n",
       "       1, 1, 1, 0, 1, 1, 1, 0, 1, 0, 0])"
      ]
     },
     "execution_count": 21,
     "metadata": {},
     "output_type": "execute_result"
    }
   ],
   "source": [
    "pipeline.predict(X_test)  # scaler.transform -> model.predict"
   ]
  },
  {
   "cell_type": "code",
   "execution_count": 24,
   "metadata": {},
   "outputs": [
    {
     "name": "stderr",
     "output_type": "stream",
     "text": [
      "/home/nor/anaconda3/lib/python3.8/site-packages/sklearn/linear_model/_logistic.py:763: ConvergenceWarning: lbfgs failed to converge (status=1):\n",
      "STOP: TOTAL NO. of ITERATIONS REACHED LIMIT.\n",
      "\n",
      "Increase the number of iterations (max_iter) or scale the data as shown in:\n",
      "    https://scikit-learn.org/stable/modules/preprocessing.html\n",
      "Please also refer to the documentation for alternative solver options:\n",
      "    https://scikit-learn.org/stable/modules/linear_model.html#logistic-regression\n",
      "  n_iter_i = _check_optimize_result(\n",
      "/home/nor/anaconda3/lib/python3.8/site-packages/sklearn/linear_model/_logistic.py:763: ConvergenceWarning: lbfgs failed to converge (status=1):\n",
      "STOP: TOTAL NO. of ITERATIONS REACHED LIMIT.\n",
      "\n",
      "Increase the number of iterations (max_iter) or scale the data as shown in:\n",
      "    https://scikit-learn.org/stable/modules/preprocessing.html\n",
      "Please also refer to the documentation for alternative solver options:\n",
      "    https://scikit-learn.org/stable/modules/linear_model.html#logistic-regression\n",
      "  n_iter_i = _check_optimize_result(\n",
      "/home/nor/anaconda3/lib/python3.8/site-packages/sklearn/linear_model/_logistic.py:763: ConvergenceWarning: lbfgs failed to converge (status=1):\n",
      "STOP: TOTAL NO. of ITERATIONS REACHED LIMIT.\n",
      "\n",
      "Increase the number of iterations (max_iter) or scale the data as shown in:\n",
      "    https://scikit-learn.org/stable/modules/preprocessing.html\n",
      "Please also refer to the documentation for alternative solver options:\n",
      "    https://scikit-learn.org/stable/modules/linear_model.html#logistic-regression\n",
      "  n_iter_i = _check_optimize_result(\n",
      "/home/nor/anaconda3/lib/python3.8/site-packages/sklearn/linear_model/_logistic.py:763: ConvergenceWarning: lbfgs failed to converge (status=1):\n",
      "STOP: TOTAL NO. of ITERATIONS REACHED LIMIT.\n",
      "\n",
      "Increase the number of iterations (max_iter) or scale the data as shown in:\n",
      "    https://scikit-learn.org/stable/modules/preprocessing.html\n",
      "Please also refer to the documentation for alternative solver options:\n",
      "    https://scikit-learn.org/stable/modules/linear_model.html#logistic-regression\n",
      "  n_iter_i = _check_optimize_result(\n",
      "/home/nor/anaconda3/lib/python3.8/site-packages/sklearn/linear_model/_logistic.py:763: ConvergenceWarning: lbfgs failed to converge (status=1):\n",
      "STOP: TOTAL NO. of ITERATIONS REACHED LIMIT.\n",
      "\n",
      "Increase the number of iterations (max_iter) or scale the data as shown in:\n",
      "    https://scikit-learn.org/stable/modules/preprocessing.html\n",
      "Please also refer to the documentation for alternative solver options:\n",
      "    https://scikit-learn.org/stable/modules/linear_model.html#logistic-regression\n",
      "  n_iter_i = _check_optimize_result(\n",
      "/home/nor/anaconda3/lib/python3.8/site-packages/sklearn/linear_model/_logistic.py:763: ConvergenceWarning: lbfgs failed to converge (status=1):\n",
      "STOP: TOTAL NO. of ITERATIONS REACHED LIMIT.\n",
      "\n",
      "Increase the number of iterations (max_iter) or scale the data as shown in:\n",
      "    https://scikit-learn.org/stable/modules/preprocessing.html\n",
      "Please also refer to the documentation for alternative solver options:\n",
      "    https://scikit-learn.org/stable/modules/linear_model.html#logistic-regression\n",
      "  n_iter_i = _check_optimize_result(\n",
      "/home/nor/anaconda3/lib/python3.8/site-packages/sklearn/linear_model/_logistic.py:763: ConvergenceWarning: lbfgs failed to converge (status=1):\n",
      "STOP: TOTAL NO. of ITERATIONS REACHED LIMIT.\n",
      "\n",
      "Increase the number of iterations (max_iter) or scale the data as shown in:\n",
      "    https://scikit-learn.org/stable/modules/preprocessing.html\n",
      "Please also refer to the documentation for alternative solver options:\n",
      "    https://scikit-learn.org/stable/modules/linear_model.html#logistic-regression\n",
      "  n_iter_i = _check_optimize_result(\n",
      "/home/nor/anaconda3/lib/python3.8/site-packages/sklearn/linear_model/_logistic.py:763: ConvergenceWarning: lbfgs failed to converge (status=1):\n",
      "STOP: TOTAL NO. of ITERATIONS REACHED LIMIT.\n",
      "\n",
      "Increase the number of iterations (max_iter) or scale the data as shown in:\n",
      "    https://scikit-learn.org/stable/modules/preprocessing.html\n",
      "Please also refer to the documentation for alternative solver options:\n",
      "    https://scikit-learn.org/stable/modules/linear_model.html#logistic-regression\n",
      "  n_iter_i = _check_optimize_result(\n",
      "/home/nor/anaconda3/lib/python3.8/site-packages/sklearn/linear_model/_logistic.py:763: ConvergenceWarning: lbfgs failed to converge (status=1):\n",
      "STOP: TOTAL NO. of ITERATIONS REACHED LIMIT.\n",
      "\n",
      "Increase the number of iterations (max_iter) or scale the data as shown in:\n",
      "    https://scikit-learn.org/stable/modules/preprocessing.html\n",
      "Please also refer to the documentation for alternative solver options:\n",
      "    https://scikit-learn.org/stable/modules/linear_model.html#logistic-regression\n",
      "  n_iter_i = _check_optimize_result(\n",
      "/home/nor/anaconda3/lib/python3.8/site-packages/sklearn/linear_model/_logistic.py:763: ConvergenceWarning: lbfgs failed to converge (status=1):\n",
      "STOP: TOTAL NO. of ITERATIONS REACHED LIMIT.\n",
      "\n",
      "Increase the number of iterations (max_iter) or scale the data as shown in:\n",
      "    https://scikit-learn.org/stable/modules/preprocessing.html\n",
      "Please also refer to the documentation for alternative solver options:\n",
      "    https://scikit-learn.org/stable/modules/linear_model.html#logistic-regression\n",
      "  n_iter_i = _check_optimize_result(\n"
     ]
    },
    {
     "data": {
      "text/plain": [
       "0.9437969924812029"
      ]
     },
     "execution_count": 24,
     "metadata": {},
     "output_type": "execute_result"
    }
   ],
   "source": [
    "cross_val_score(pipeline, X, y, cv=10).mean()"
   ]
  },
  {
   "cell_type": "code",
   "execution_count": 98,
   "metadata": {},
   "outputs": [],
   "source": [
    "from sklearn.model_selection import GridSearchCV\n",
    "GridSearchCV?"
   ]
  },
  {
   "cell_type": "code",
   "execution_count": 99,
   "metadata": {},
   "outputs": [
    {
     "data": {
      "text/plain": [
       "Pipeline(steps=[('scaler', StandardScaler()), ('model', LogisticRegression())])"
      ]
     },
     "execution_count": 99,
     "metadata": {},
     "output_type": "execute_result"
    }
   ],
   "source": [
    "model = Pipeline([(\"scaler\", StandardScaler()), \n",
    "                  (\"model\", LogisticRegression())])\n",
    "model"
   ]
  },
  {
   "cell_type": "code",
   "execution_count": 104,
   "metadata": {
    "collapsed": true,
    "jupyter": {
     "outputs_hidden": true
    }
   },
   "outputs": [
    {
     "data": {
      "text/plain": [
       "GridSearchCV(cv=10,\n",
       "             estimator=Pipeline(steps=[('scaler', StandardScaler()),\n",
       "                                       ('model', LogisticRegression())]),\n",
       "             n_jobs=-1, param_grid={'model__C': [0.01, 0.1, 1, 10, 100]},\n",
       "             scoring='accuracy')"
      ]
     },
     "execution_count": 104,
     "metadata": {},
     "output_type": "execute_result"
    }
   ],
   "source": [
    "param_grid = {\"model__C\": [0.01, 0.1, 1, 10, 100]}\n",
    "\n",
    "optimizer = GridSearchCV(model, param_grid, scoring=\"accuracy\", cv=10, n_jobs=-1)\n",
    "optimizer.fit(X_train, y_train)"
   ]
  },
  {
   "cell_type": "code",
   "execution_count": 105,
   "metadata": {
    "collapsed": true,
    "jupyter": {
     "outputs_hidden": true
    }
   },
   "outputs": [
    {
     "data": {
      "text/plain": [
       "{'model__C': 0.1}"
      ]
     },
     "execution_count": 105,
     "metadata": {},
     "output_type": "execute_result"
    }
   ],
   "source": [
    "optimizer.best_params_"
   ]
  },
  {
   "cell_type": "code",
   "execution_count": 111,
   "metadata": {
    "collapsed": true,
    "jupyter": {
     "outputs_hidden": true
    }
   },
   "outputs": [
    {
     "data": {
      "text/plain": [
       "array([[-0.3627251 , -0.40730882, -0.3557904 , -0.34073492, -0.09641922,\n",
       "        -0.03481664, -0.378989  , -0.47039343, -0.01989741,  0.17171559,\n",
       "        -0.46189236,  0.01336654, -0.3309825 , -0.33446287, -0.03180952,\n",
       "         0.22006384,  0.05762443, -0.15850746,  0.15786849,  0.20227493,\n",
       "        -0.47752207, -0.52567604, -0.43804768, -0.41332894, -0.32415892,\n",
       "        -0.16645545, -0.35173519, -0.49015203, -0.37156243, -0.19128147]])"
      ]
     },
     "execution_count": 111,
     "metadata": {},
     "output_type": "execute_result"
    }
   ],
   "source": [
    "optimizer.best_estimator_.steps[1][1].coef_"
   ]
  },
  {
   "cell_type": "code",
   "execution_count": 114,
   "metadata": {
    "collapsed": true,
    "jupyter": {
     "outputs_hidden": true
    }
   },
   "outputs": [
    {
     "data": {
      "text/plain": [
       "array([[-0.3627251 , -0.40730882, -0.3557904 , -0.34073492, -0.09641922,\n",
       "        -0.03481664, -0.378989  , -0.47039343, -0.01989741,  0.17171559,\n",
       "        -0.46189236,  0.01336654, -0.3309825 , -0.33446287, -0.03180952,\n",
       "         0.22006384,  0.05762443, -0.15850746,  0.15786849,  0.20227493,\n",
       "        -0.47752207, -0.52567604, -0.43804768, -0.41332894, -0.32415892,\n",
       "        -0.16645545, -0.35173519, -0.49015203, -0.37156243, -0.19128147]])"
      ]
     },
     "execution_count": 114,
     "metadata": {},
     "output_type": "execute_result"
    }
   ],
   "source": [
    "optimizer.best_estimator_.named_steps[\"model\"].coef_"
   ]
  },
  {
   "cell_type": "code",
   "execution_count": 116,
   "metadata": {
    "collapsed": true,
    "jupyter": {
     "outputs_hidden": true
    }
   },
   "outputs": [
    {
     "data": {
      "text/plain": [
       "array([0, 1, 1, 1, 0, 0, 1, 1, 1, 1, 1, 1, 1, 1, 1, 0, 1, 1, 1, 1, 1, 1,\n",
       "       1, 1, 0, 0, 0, 0, 1, 1, 1, 0, 1, 0, 1, 1, 0, 0, 1, 1, 0, 1, 1, 1,\n",
       "       0, 0, 0, 1, 0, 1, 1, 0, 0, 1, 0, 1, 1, 0, 0, 1, 0, 1, 0, 0, 1, 1,\n",
       "       1, 1, 0, 1, 0, 0, 1, 1, 1, 1, 0, 1, 0, 0, 1, 0, 0, 1, 1, 1, 1, 0,\n",
       "       1, 1, 0, 1, 1, 0, 1, 1, 1, 1, 0, 1, 1, 1, 1, 1, 1, 1, 0, 1, 1, 1,\n",
       "       1, 0, 1, 1, 0, 0, 0, 0, 1, 0, 1, 0, 0, 0, 0, 0, 1, 1, 1, 1, 1, 1,\n",
       "       1, 1, 1, 1, 1, 1, 1, 0, 1, 1, 0])"
      ]
     },
     "execution_count": 116,
     "metadata": {},
     "output_type": "execute_result"
    }
   ],
   "source": [
    "optimizer.best_estimator_.predict(X_test)"
   ]
  },
  {
   "cell_type": "code",
   "execution_count": 118,
   "metadata": {},
   "outputs": [
    {
     "data": {
      "text/plain": [
       "array([0.95060908, 0.9717608 , 0.96716501, 0.96007752, 0.95526024])"
      ]
     },
     "execution_count": 118,
     "metadata": {},
     "output_type": "execute_result"
    }
   ],
   "source": [
    "optimizer.cv_results_[\"mean_test_score\"]"
   ]
  },
  {
   "cell_type": "code",
   "execution_count": 119,
   "metadata": {},
   "outputs": [
    {
     "data": {
      "text/plain": [
       "[{'model__C': 0.01},\n",
       " {'model__C': 0.1},\n",
       " {'model__C': 1},\n",
       " {'model__C': 10},\n",
       " {'model__C': 100}]"
      ]
     },
     "execution_count": 119,
     "metadata": {},
     "output_type": "execute_result"
    }
   ],
   "source": [
    "optimizer.cv_results_[\"params\"]"
   ]
  },
  {
   "cell_type": "code",
   "execution_count": null,
   "metadata": {},
   "outputs": [],
   "source": []
  },
  {
   "cell_type": "markdown",
   "metadata": {},
   "source": [
    "### Jak stwierdzić czy model jest dobrze dopasowany? Czy nie za słabo, ani za mocno?\n",
    "\n",
    "1. Gdy na zbiorze testowym niski procent poprawnych predykcji (np. 60%), a na treningowym model bardzo dobrze dopasowany (np. 90%) -> model przeuczony\n",
    "\n",
    "2. Gdy na zbiorze treningowym model bardzo nisko dopasowany (np. rzędu pięćdziesiąt kilka procent) -> model słabo dopasowany.\n",
    "\n",
    "Co to jest niskie dopasowanie? -> zależy od danych...\n",
    "\n",
    "Co to jest duża różnica? -> zależy od danych... (i ich wielkości - istotność statystyczna!). Realnie, wyniki na testowym powinny być trochę niższe od dopasowania na treningowym (najlepiej, gdy są takie same, ale jednak z reguły będą niższe). Klasyfikator w oczywisty sposób nie może działać lepiej niż dopasowanie na zbiorze treningowym - bo dopasowanie pokazuje jak dużo zależności wykrył w danych, na podstawie których będzie klasyfikował. Zatem jeżeli mamy dopasowanie na zbiorze treningowym np. 90%, to maksymalna moc predykcyjna jakiej możemy oczekiwać to 90%."
   ]
  },
  {
   "cell_type": "markdown",
   "metadata": {},
   "source": [
    "## Przygotowanie danych\n",
    "\n",
    "Czy wartości zmiennych mają wpływ na wynik modelu?\n",
    "\n",
    "Wyobraźmy sobie dwie zmienne, gdzie jedna ma wielkości rzędu 1, a druga rzędu 100, a rzeczywisty współczynnik przy pierwszej wynosi 1, a przy drugiej 0.01.\n",
    "\n",
    "Jak konsekwencje będzie miało zastosowanie regularyzacji?\n",
    "\n",
    "Zmienna pierwsza zostanie dużo mocniej \"ukarana\" niż druga, tzn. model mocno \"ściągnie\" współczynnik przy pierwszej, a zostawi przy drugiej...\n",
    "\n",
    "Jak temu zaradzić? -> skalowanie"
   ]
  },
  {
   "cell_type": "code",
   "execution_count": null,
   "metadata": {},
   "outputs": [],
   "source": []
  },
  {
   "cell_type": "markdown",
   "metadata": {},
   "source": [
    "# Drzewo decyzyjne\n",
    "\n",
    "Załóżmy, że mamy dwie zmienne $X[0], X[1]$ i problem klasyfikacji binarnej ($Y \\in \\{0,1\\}$).\n",
    "\n",
    "\n",
    "<img src=\"Grafika/decision_tree.png\" style=\"width: 600px;\">\n",
    "\n",
    "\n",
    "## Jak rośnie drzewno?\n",
    "\n",
    "Drzewo rośnie od korzenia - tzn. budujemy model od góry. Będąc w aktualnym węźle szukamy najlepszego podziału - rozpatrujemy wszystkie zmienne ze wszystkimi możliwymi podziałami i tworzymy rozgałęzienie według najlepszej opcji.\n",
    "\n",
    "Co to znaczy najlpszy podział? \n",
    "<br>\n",
    "\n",
    "Rozważmy klasyfikację binarną.\n",
    "\n",
    "<br>\n",
    "\n",
    "<br>\n",
    "\n",
    "Opcja nr 1: Gini impurity (Miara Gini'ego niespójności węzła):\n",
    "- wybieramy podział, który minimalizuje ważoną miarę Giniego $g(p) = 2p(1-p)$:\n",
    "\n",
    "$$\\frac{n_1}{N}g(p_1) + \\frac{n_2}{N}g(p_2),$$\n",
    "\n",
    "gdzie $n_1, n_2$ liczności w pierwszym i drugim dziecku, $N = n_1 + n_2$, $p_1, p_2$ - procent obserwacji, dla których $Y=1$ w dzieciach 1 i 2.\n",
    "\n",
    "<img src=\"Grafika/gini_entropy.png\" style=\"width: 400px;\">\n",
    "\n",
    "<br>\n",
    "\n",
    "Opcja nr 2: Entropia.\n",
    "- wybieramy podział, który daje najmniejszą wartość ważonej entropii $h(p) = -p\\log{(p)} - (1-p)\\log{(1-p)}$:\n",
    "\n",
    "$$\\frac{n_1}{N} h(p_1) + \\frac{n_2}{N}h(p_2),$$\n",
    "\n",
    "gdzie $p_1, p_2$ - procent obserwacji, dla których $Y=1$ w dzieciach 1 i 2.\n",
    "\n",
    "## Do kiedy tworzymy nowe podziały? \n",
    "\n",
    "Możliwe są różne warunki stopu. Najpopularniejsze to:\n",
    "\n",
    "- maksymalna głębokość drzewa,\n",
    "- minimalna liczba obserwacji w liściu.\n",
    "\n",
    "Często stosowane w połączeniu."
   ]
  },
  {
   "cell_type": "code",
   "execution_count": null,
   "metadata": {},
   "outputs": [],
   "source": []
  },
  {
   "cell_type": "markdown",
   "metadata": {},
   "source": [
    "#### Zadanie \n",
    "\n",
    "Wczytaj zbiór `zbiór1.txt` (funkcja loadtxt w numpy) i podziel go na część uczącą (200 obserwacji) i testową (100). Dopasuj model regresji logistycznej na zbiorze uczącym i oblicz accuracy na zbiorze testowym. Następnie oblicz procent poprawnych dopasowań na zbiorze treningowym. Następnie zbuduj drzewo decyzyjne i policz dla niego accuracy."
   ]
  },
  {
   "cell_type": "code",
   "execution_count": 120,
   "metadata": {},
   "outputs": [
    {
     "data": {
      "text/plain": [
       "array([[0.9976836 , 0.91421931, 1.        ],\n",
       "       [0.38299266, 0.41600768, 1.        ],\n",
       "       [0.06317648, 0.31313783, 1.        ]])"
      ]
     },
     "execution_count": 120,
     "metadata": {},
     "output_type": "execute_result"
    }
   ],
   "source": [
    "data = np.loadtxt(\"Dane/zbior1.txt\")\n",
    "data[:3]"
   ]
  },
  {
   "cell_type": "code",
   "execution_count": 121,
   "metadata": {},
   "outputs": [],
   "source": [
    "from sklearn.tree import DecisionTreeClassifier\n",
    "?DecisionTreeClassifier"
   ]
  },
  {
   "cell_type": "code",
   "execution_count": 122,
   "metadata": {},
   "outputs": [],
   "source": [
    "X = data[:,:2]\n",
    "y = data[:,2]\n",
    "\n",
    "X_train, X_test, y_train, y_test = train_test_split(X, y, test_size=100)"
   ]
  },
  {
   "cell_type": "code",
   "execution_count": 126,
   "metadata": {},
   "outputs": [
    {
     "data": {
      "text/plain": [
       "0.6"
      ]
     },
     "execution_count": 126,
     "metadata": {},
     "output_type": "execute_result"
    }
   ],
   "source": [
    "model = LogisticRegression(\"none\")\n",
    "model.fit(X_train, y_train)\n",
    "accuracy_score(y_test, model.predict(X_test))"
   ]
  },
  {
   "cell_type": "code",
   "execution_count": 127,
   "metadata": {},
   "outputs": [
    {
     "data": {
      "text/plain": [
       "0.56"
      ]
     },
     "execution_count": 127,
     "metadata": {},
     "output_type": "execute_result"
    }
   ],
   "source": [
    "accuracy_score(y_train, model.predict(X_train))"
   ]
  },
  {
   "cell_type": "code",
   "execution_count": 128,
   "metadata": {},
   "outputs": [
    {
     "data": {
      "text/plain": [
       "1.0"
      ]
     },
     "execution_count": 128,
     "metadata": {},
     "output_type": "execute_result"
    }
   ],
   "source": [
    "model = DecisionTreeClassifier()\n",
    "model.fit(X_train, y_train)\n",
    "accuracy_score(y_test, model.predict(X_test))"
   ]
  },
  {
   "cell_type": "code",
   "execution_count": 130,
   "metadata": {},
   "outputs": [
    {
     "data": {
      "image/png": "[encoded data removed]",
      "text/plain": [
       "<Figure size 432x288 with 1 Axes>"
      ]
     },
     "metadata": {
      "needs_background": "light"
     },
     "output_type": "display_data"
    }
   ],
   "source": [
    "plt.scatter(X[:,0], X[:,1], c=y)\n",
    "plt.show()"
   ]
  },
  {
   "cell_type": "code",
   "execution_count": null,
   "metadata": {},
   "outputs": [],
   "source": []
  },
  {
   "cell_type": "code",
   "execution_count": 131,
   "metadata": {},
   "outputs": [],
   "source": [
    "data = load_breast_cancer()\n",
    "\n",
    "X = data.data\n",
    "y = data.target\n",
    "\n",
    "X_train, X_test, y_train, y_test = train_test_split(X, y, \n",
    "                                                    test_size=0.25)"
   ]
  },
  {
   "cell_type": "code",
   "execution_count": 136,
   "metadata": {},
   "outputs": [
    {
     "data": {
      "text/plain": [
       "(426, 30)"
      ]
     },
     "execution_count": 136,
     "metadata": {},
     "output_type": "execute_result"
    }
   ],
   "source": [
    "X_train.shape"
   ]
  },
  {
   "cell_type": "code",
   "execution_count": 142,
   "metadata": {},
   "outputs": [],
   "source": [
    "?DecisionTreeClassifier"
   ]
  },
  {
   "cell_type": "code",
   "execution_count": 132,
   "metadata": {},
   "outputs": [
    {
     "data": {
      "text/plain": [
       "GridSearchCV(cv=10, estimator=DecisionTreeClassifier(), n_jobs=-1,\n",
       "             param_grid={'criterion': ['gini', 'entropy'],\n",
       "                         'max_depth': [3, 5, 10, 20],\n",
       "                         'min_samples_leaf': [2, 5, 10, 50]},\n",
       "             scoring='accuracy')"
      ]
     },
     "execution_count": 132,
     "metadata": {},
     "output_type": "execute_result"
    }
   ],
   "source": [
    "gs = GridSearchCV(DecisionTreeClassifier(), \n",
    "                  param_grid ={\"criterion\":[\"gini\", \"entropy\"], \n",
    "                               \"max_depth\":[5, 7, 10, None], \n",
    "                               \"min_samples_leaf\":[2, 5, 10, 50]}, \n",
    "                  scoring=\"accuracy\", \n",
    "                  cv=10, \n",
    "                  n_jobs=-1) \n",
    "gs.fit(X_train, y_train) "
   ]
  },
  {
   "cell_type": "code",
   "execution_count": 144,
   "metadata": {},
   "outputs": [
    {
     "data": {
      "text/plain": [
       "0.9812206572769953"
      ]
     },
     "execution_count": 144,
     "metadata": {},
     "output_type": "execute_result"
    }
   ],
   "source": [
    "accuracy_score(y_train, gs.best_estimator_.predict(X_train))"
   ]
  },
  {
   "cell_type": "code",
   "execution_count": 134,
   "metadata": {},
   "outputs": [
    {
     "data": {
      "text/plain": [
       "0.9440559440559441"
      ]
     },
     "execution_count": 134,
     "metadata": {},
     "output_type": "execute_result"
    }
   ],
   "source": [
    "accuracy_score(y_test, gs.best_estimator_.predict(X_test))"
   ]
  },
  {
   "cell_type": "code",
   "execution_count": 135,
   "metadata": {},
   "outputs": [
    {
     "data": {
      "text/plain": [
       "{'criterion': 'entropy', 'max_depth': 20, 'min_samples_leaf': 5}"
      ]
     },
     "execution_count": 135,
     "metadata": {},
     "output_type": "execute_result"
    }
   ],
   "source": [
    "gs.best_params_"
   ]
  },
  {
   "cell_type": "code",
   "execution_count": 141,
   "metadata": {},
   "outputs": [
    {
     "data": {
      "image/png": "[encoded data removed]",
      "text/plain": [
       "<Figure size 720x720 with 1 Axes>"
      ]
     },
     "metadata": {
      "needs_background": "light"
     },
     "output_type": "display_data"
    }
   ],
   "source": [
    "from sklearn.tree import plot_tree\n",
    "import matplotlib.pyplot as plt\n",
    "\n",
    "plt.figure(figsize=(10,10))\n",
    "plot_tree(gs.best_estimator_)\n",
    "plt.show()"
   ]
  },
  {
   "cell_type": "code",
   "execution_count": 143,
   "metadata": {},
   "outputs": [
    {
     "data": {
      "text/plain": [
       "array([[1. , 0. ],\n",
       "       [0. , 1. ],\n",
       "       [0. , 1. ],\n",
       "       [0. , 1. ],\n",
       "       [1. , 0. ],\n",
       "       [0. , 1. ],\n",
       "       [0. , 1. ],\n",
       "       [1. , 0. ],\n",
       "       [0. , 1. ],\n",
       "       [1. , 0. ],\n",
       "       [1. , 0. ],\n",
       "       [0. , 1. ],\n",
       "       [1. , 0. ],\n",
       "       [1. , 0. ],\n",
       "       [0. , 1. ],\n",
       "       [0. , 1. ],\n",
       "       [1. , 0. ],\n",
       "       [1. , 0. ],\n",
       "       [0.2, 0.8],\n",
       "       [0.5, 0.5],\n",
       "       [0. , 1. ],\n",
       "       [0. , 1. ],\n",
       "       [0. , 1. ],\n",
       "       [1. , 0. ],\n",
       "       [1. , 0. ],\n",
       "       [0. , 1. ],\n",
       "       [1. , 0. ],\n",
       "       [0. , 1. ],\n",
       "       [0. , 1. ],\n",
       "       [0. , 1. ],\n",
       "       [0. , 1. ],\n",
       "       [0. , 1. ],\n",
       "       [0. , 1. ],\n",
       "       [1. , 0. ],\n",
       "       [0. , 1. ],\n",
       "       [0. , 1. ],\n",
       "       [0. , 1. ],\n",
       "       [0. , 1. ],\n",
       "       [0. , 1. ],\n",
       "       [0. , 1. ],\n",
       "       [0. , 1. ],\n",
       "       [0. , 1. ],\n",
       "       [1. , 0. ],\n",
       "       [0. , 1. ],\n",
       "       [0. , 1. ],\n",
       "       [0. , 1. ],\n",
       "       [0. , 1. ],\n",
       "       [0. , 1. ],\n",
       "       [0. , 1. ],\n",
       "       [0. , 1. ],\n",
       "       [1. , 0. ],\n",
       "       [0. , 1. ],\n",
       "       [0. , 1. ],\n",
       "       [0. , 1. ],\n",
       "       [1. , 0. ],\n",
       "       [1. , 0. ],\n",
       "       [0. , 1. ],\n",
       "       [0. , 1. ],\n",
       "       [0. , 1. ],\n",
       "       [0. , 1. ],\n",
       "       [0. , 1. ],\n",
       "       [0. , 1. ],\n",
       "       [1. , 0. ],\n",
       "       [0. , 1. ],\n",
       "       [0.4, 0.6],\n",
       "       [1. , 0. ],\n",
       "       [0. , 1. ],\n",
       "       [0. , 1. ],\n",
       "       [1. , 0. ],\n",
       "       [0. , 1. ],\n",
       "       [0. , 1. ],\n",
       "       [1. , 0. ],\n",
       "       [0. , 1. ],\n",
       "       [1. , 0. ],\n",
       "       [0. , 1. ],\n",
       "       [1. , 0. ],\n",
       "       [0. , 1. ],\n",
       "       [0. , 1. ],\n",
       "       [0. , 1. ],\n",
       "       [0. , 1. ],\n",
       "       [0. , 1. ],\n",
       "       [0. , 1. ],\n",
       "       [1. , 0. ],\n",
       "       [1. , 0. ],\n",
       "       [1. , 0. ],\n",
       "       [0.5, 0.5],\n",
       "       [1. , 0. ],\n",
       "       [1. , 0. ],\n",
       "       [1. , 0. ],\n",
       "       [0.4, 0.6],\n",
       "       [0. , 1. ],\n",
       "       [1. , 0. ],\n",
       "       [1. , 0. ],\n",
       "       [0. , 1. ],\n",
       "       [0. , 1. ],\n",
       "       [1. , 0. ],\n",
       "       [0. , 1. ],\n",
       "       [0. , 1. ],\n",
       "       [1. , 0. ],\n",
       "       [1. , 0. ],\n",
       "       [0. , 1. ],\n",
       "       [1. , 0. ],\n",
       "       [0.4, 0.6],\n",
       "       [0. , 1. ],\n",
       "       [0. , 1. ],\n",
       "       [1. , 0. ],\n",
       "       [1. , 0. ],\n",
       "       [0. , 1. ],\n",
       "       [0. , 1. ],\n",
       "       [0. , 1. ],\n",
       "       [1. , 0. ],\n",
       "       [1. , 0. ],\n",
       "       [1. , 0. ],\n",
       "       [0. , 1. ],\n",
       "       [1. , 0. ],\n",
       "       [1. , 0. ],\n",
       "       [1. , 0. ],\n",
       "       [0. , 1. ],\n",
       "       [1. , 0. ],\n",
       "       [0. , 1. ],\n",
       "       [0. , 1. ],\n",
       "       [1. , 0. ],\n",
       "       [1. , 0. ],\n",
       "       [0. , 1. ],\n",
       "       [1. , 0. ],\n",
       "       [1. , 0. ],\n",
       "       [1. , 0. ],\n",
       "       [0. , 1. ],\n",
       "       [0. , 1. ],\n",
       "       [0. , 1. ],\n",
       "       [1. , 0. ],\n",
       "       [0. , 1. ],\n",
       "       [1. , 0. ],\n",
       "       [1. , 0. ],\n",
       "       [1. , 0. ],\n",
       "       [0. , 1. ],\n",
       "       [0. , 1. ],\n",
       "       [0. , 1. ],\n",
       "       [0. , 1. ],\n",
       "       [0. , 1. ],\n",
       "       [0. , 1. ],\n",
       "       [1. , 0. ],\n",
       "       [0. , 1. ]])"
      ]
     },
     "execution_count": 143,
     "metadata": {},
     "output_type": "execute_result"
    }
   ],
   "source": [
    "gs.best_estimator_.predict_proba(X_test) \n",
    "# prawdopobobienstwa na podstawie licznosci klas w lisciach"
   ]
  },
  {
   "cell_type": "code",
   "execution_count": null,
   "metadata": {},
   "outputs": [],
   "source": []
  },
  {
   "cell_type": "markdown",
   "metadata": {},
   "source": [
    "# Klasyfikacja wieloklasowa\n",
    "\n",
    "## Regresja logistyczna\n",
    "\n",
    "\n",
    "\n",
    "\\begin{align}\n",
    "\\Pr(Y_i=1) &= \\frac{1}{Z} e^{\\boldsymbol\\beta_1 \\cdot \\mathbf{X}_i} \\, \\\\\n",
    "\\Pr(Y_i=2) &= \\frac{1}{Z} e^{\\boldsymbol\\beta_2 \\cdot \\mathbf{X}_i} \\, \\\\\n",
    "\\cdots & \\cdots \\\\\n",
    "\\Pr(Y_i=K-1) &= \\frac{1}{Z} e^{\\boldsymbol\\beta_{K-1} \\cdot \\mathbf{X}_i} \\, \\\\\n",
    "\\Pr(Y_i=K) &= \\frac{1}{Z} e^{\\boldsymbol\\beta_{K} \\cdot \\mathbf{X}_i}\\, \\\\\n",
    "\\end{align}\n",
    "\n",
    "\n",
    "$Z = \\sum_{k=1}^{K} e^{\\boldsymbol\\beta_k \\cdot \\mathbf{X}_i}$\n",
    "\n",
    "Możliwe są również inne warianty. https://en.wikipedia.org/wiki/Multinomial_logistic_regression\n",
    "\n",
    "\n",
    "Inny zapis powyższego:\n",
    "\n",
    "$$[P(Y=1), P(Y=2), \\ldots , P(Y=K)] = softmax([\\beta_1x, \\beta_2x, \\ldots , \\beta_Kx]) = $$\n",
    "$$[\\frac{e^{\\beta_1x}}{\\sum_{k=1}^{K}e^{\\beta_kx}}, \\frac{e^{\\beta_2x}}{\\sum_{k=1}^{K}e^{\\beta_kx}}, \\ldots, \\frac{e^{\\beta_Kx}}{\\sum_{k=1}^{K}e^{\\beta_k x}}]$$\n",
    "\n",
    "Na marginesie: w uczeniu maszynowym często pojawia sie funkcja \"softmax\". \n",
    "\n",
    "$$softmax(\\mathbf{x}) = softmax([x_1, x_2, \\ldots , x_p])= [\\frac{e^{x_1}}{\\sum_{k=1}^{p}e^{x_k}}, \\frac{e^{x_2}}{\\sum_{k=1}^{p}e^{x_k}}, \\ldots, \\frac{e^{x_p}}{\\sum_{k=1}^{p}e^{x_k}}]$$\n",
    "\n",
    "W literaturze czasem mozna spotkać nazwanie regresji logistycznej dla klasyfikacji wieloklasowej klasyfikatorem softmax.\n",
    "\n",
    "## Drzewo decyzyjne\n",
    "\n",
    "Przyjmujemy oznaczenie: $p = (p_1, p_2, \\ldots, p_K)$ wektor prawdopodobieństw poszczególnych klas (procent obserwacji danej klasy).\n",
    "\n",
    "Opcja nr 1: Gini impurity (Miara Gini'ego niespójności węzła):\n",
    "- wybieramy podział, który minimalizuje ważoną miarę Gini'ego $g(p) = \\big( 1 - \\sum\\limits_{k=1}^K p_k^2 \\big)$:\n",
    "\n",
    "$$\\frac{n_1}{N} g(p_1) + \\frac{n_2}{N} g(p_2),$$\n",
    "\n",
    "gdzie $n_1, n_2$ liczności w pierwszym i drugim dziecku, $p_1, p_2$ - rozkłady klas w dzieciach.\n",
    "\n",
    "<br>\n",
    "\n",
    "Opcja nr 2: Entropia.\n",
    "- wybieramy podział, który daje najmniejszą wartość ważonej entropii $h(p) = -\\sum\\limits_{k=1}^K p_k\\log p_k$:\n",
    "\n",
    "$$\\frac{n_1}{n}\\sum\\limits_{i=1}^{n_1} h(p_1) + \\frac{n_2}{n}\\sum\\limits_{i=1}^{n_2} h(p_2)$$\n"
   ]
  },
  {
   "cell_type": "code",
   "execution_count": 145,
   "metadata": {},
   "outputs": [
    {
     "data": {
      "text/plain": [
       "(150, 4)"
      ]
     },
     "execution_count": 145,
     "metadata": {},
     "output_type": "execute_result"
    }
   ],
   "source": [
    "from sklearn import datasets\n",
    "iris = datasets.load_iris()\n",
    "X = iris.data\n",
    "y = iris.target\n",
    "X.shape"
   ]
  },
  {
   "cell_type": "code",
   "execution_count": 146,
   "metadata": {},
   "outputs": [
    {
     "data": {
      "text/plain": [
       "array([0, 0, 0, 0, 0, 0, 0, 0, 0, 0, 0, 0, 0, 0, 0, 0, 0, 0, 0, 0, 0, 0,\n",
       "       0, 0, 0, 0, 0, 0, 0, 0, 0, 0, 0, 0, 0, 0, 0, 0, 0, 0, 0, 0, 0, 0,\n",
       "       0, 0, 0, 0, 0, 0, 1, 1, 1, 1, 1, 1, 1, 1, 1, 1, 1, 1, 1, 1, 1, 1,\n",
       "       1, 1, 1, 1, 1, 1, 1, 1, 1, 1, 1, 1, 1, 1, 1, 1, 1, 1, 1, 1, 1, 1,\n",
       "       1, 1, 1, 1, 1, 1, 1, 1, 1, 1, 1, 1, 2, 2, 2, 2, 2, 2, 2, 2, 2, 2,\n",
       "       2, 2, 2, 2, 2, 2, 2, 2, 2, 2, 2, 2, 2, 2, 2, 2, 2, 2, 2, 2, 2, 2,\n",
       "       2, 2, 2, 2, 2, 2, 2, 2, 2, 2, 2, 2, 2, 2, 2, 2, 2, 2])"
      ]
     },
     "execution_count": 146,
     "metadata": {},
     "output_type": "execute_result"
    }
   ],
   "source": [
    "y"
   ]
  },
  {
   "cell_type": "code",
   "execution_count": 159,
   "metadata": {},
   "outputs": [
    {
     "data": {
      "text/plain": [
       "LogisticRegression(C=0.001)"
      ]
     },
     "execution_count": 159,
     "metadata": {},
     "output_type": "execute_result"
    }
   ],
   "source": [
    "model = LogisticRegression(C=0.001)\n",
    "model.fit(X, y)"
   ]
  },
  {
   "cell_type": "code",
   "execution_count": 160,
   "metadata": {},
   "outputs": [
    {
     "data": {
      "text/plain": [
       "array([0, 0, 0, 0, 0, 0, 0, 0, 0, 0, 0, 0, 0, 0, 0, 0, 0, 0, 0, 0, 0, 0,\n",
       "       0, 0, 0, 0, 0, 0, 0, 0, 0, 0, 0, 0, 0, 0, 0, 0, 0, 0, 0, 0, 0, 0,\n",
       "       0, 0, 0, 0, 0, 0, 2, 2, 2, 1, 2, 2, 2, 0, 2, 1, 0, 2, 1, 2, 1, 2,\n",
       "       2, 1, 2, 1, 2, 2, 2, 2, 2, 2, 2, 2, 2, 0, 1, 1, 1, 2, 2, 2, 2, 2,\n",
       "       1, 1, 2, 2, 1, 0, 2, 2, 2, 2, 0, 1, 2, 2, 2, 2, 2, 2, 2, 2, 2, 2,\n",
       "       2, 2, 2, 2, 2, 2, 2, 2, 2, 2, 2, 2, 2, 2, 2, 2, 2, 2, 2, 2, 2, 2,\n",
       "       2, 2, 2, 2, 2, 2, 2, 2, 2, 2, 2, 2, 2, 2, 2, 2, 2, 2])"
      ]
     },
     "execution_count": 160,
     "metadata": {},
     "output_type": "execute_result"
    }
   ],
   "source": [
    "model.predict(X)"
   ]
  },
  {
   "cell_type": "code",
   "execution_count": 163,
   "metadata": {
    "collapsed": true,
    "jupyter": {
     "outputs_hidden": true
    }
   },
   "outputs": [
    {
     "data": {
      "text/plain": [
       "array([[0.433, 0.31 , 0.257],\n",
       "       [0.433, 0.312, 0.256],\n",
       "       [0.44 , 0.309, 0.251],\n",
       "       [0.433, 0.312, 0.255],\n",
       "       [0.435, 0.309, 0.256],\n",
       "       [0.419, 0.313, 0.269],\n",
       "       [0.437, 0.309, 0.254],\n",
       "       [0.43 , 0.311, 0.259],\n",
       "       [0.438, 0.311, 0.251],\n",
       "       [0.431, 0.312, 0.257],\n",
       "       [0.427, 0.311, 0.262],\n",
       "       [0.429, 0.312, 0.259],\n",
       "       [0.435, 0.311, 0.254],\n",
       "       [0.452, 0.306, 0.242],\n",
       "       [0.435, 0.307, 0.258],\n",
       "       [0.425, 0.309, 0.266],\n",
       "       [0.433, 0.308, 0.259],\n",
       "       [0.432, 0.31 , 0.258],\n",
       "       [0.416, 0.314, 0.27 ],\n",
       "       [0.43 , 0.31 , 0.26 ],\n",
       "       [0.419, 0.314, 0.267],\n",
       "       [0.428, 0.311, 0.261],\n",
       "       [0.454, 0.303, 0.243],\n",
       "       [0.417, 0.315, 0.267],\n",
       "       [0.419, 0.315, 0.266],\n",
       "       [0.424, 0.314, 0.261],\n",
       "       [0.424, 0.313, 0.263],\n",
       "       [0.429, 0.311, 0.26 ],\n",
       "       [0.431, 0.311, 0.258],\n",
       "       [0.429, 0.312, 0.258],\n",
       "       [0.427, 0.313, 0.259],\n",
       "       [0.423, 0.313, 0.264],\n",
       "       [0.434, 0.308, 0.258],\n",
       "       [0.433, 0.307, 0.26 ],\n",
       "       [0.43 , 0.312, 0.258],\n",
       "       [0.439, 0.309, 0.252],\n",
       "       [0.432, 0.31 , 0.258],\n",
       "       [0.438, 0.308, 0.254],\n",
       "       [0.442, 0.309, 0.249],\n",
       "       [0.429, 0.311, 0.259],\n",
       "       [0.436, 0.309, 0.255],\n",
       "       [0.435, 0.313, 0.252],\n",
       "       [0.443, 0.308, 0.249],\n",
       "       [0.422, 0.313, 0.265],\n",
       "       [0.415, 0.314, 0.271],\n",
       "       [0.432, 0.312, 0.256],\n",
       "       [0.428, 0.311, 0.261],\n",
       "       [0.437, 0.31 , 0.253],\n",
       "       [0.429, 0.31 , 0.261],\n",
       "       [0.433, 0.31 , 0.256],\n",
       "       [0.287, 0.343, 0.37 ],\n",
       "       [0.298, 0.342, 0.36 ],\n",
       "       [0.28 , 0.345, 0.375],\n",
       "       [0.321, 0.343, 0.337],\n",
       "       [0.292, 0.345, 0.364],\n",
       "       [0.306, 0.344, 0.351],\n",
       "       [0.292, 0.343, 0.365],\n",
       "       [0.354, 0.336, 0.31 ],\n",
       "       [0.294, 0.344, 0.362],\n",
       "       [0.328, 0.34 , 0.332],\n",
       "       [0.344, 0.339, 0.316],\n",
       "       [0.311, 0.341, 0.348],\n",
       "       [0.318, 0.343, 0.339],\n",
       "       [0.295, 0.344, 0.361],\n",
       "       [0.335, 0.337, 0.328],\n",
       "       [0.298, 0.342, 0.36 ],\n",
       "       [0.305, 0.343, 0.352],\n",
       "       [0.32 , 0.341, 0.339],\n",
       "       [0.295, 0.347, 0.359],\n",
       "       [0.326, 0.341, 0.333],\n",
       "       [0.29 , 0.344, 0.366],\n",
       "       [0.317, 0.341, 0.343],\n",
       "       [0.283, 0.347, 0.369],\n",
       "       [0.297, 0.345, 0.359],\n",
       "       [0.305, 0.342, 0.353],\n",
       "       [0.299, 0.343, 0.359],\n",
       "       [0.284, 0.345, 0.371],\n",
       "       [0.276, 0.346, 0.378],\n",
       "       [0.301, 0.343, 0.356],\n",
       "       [0.34 , 0.337, 0.323],\n",
       "       [0.33 , 0.34 , 0.33 ],\n",
       "       [0.334, 0.34 , 0.326],\n",
       "       [0.324, 0.34 , 0.336],\n",
       "       [0.281, 0.347, 0.372],\n",
       "       [0.307, 0.343, 0.35 ],\n",
       "       [0.302, 0.341, 0.357],\n",
       "       [0.288, 0.344, 0.368],\n",
       "       [0.3  , 0.345, 0.355],\n",
       "       [0.32 , 0.34 , 0.34 ],\n",
       "       [0.322, 0.342, 0.337],\n",
       "       [0.311, 0.344, 0.345],\n",
       "       [0.298, 0.343, 0.358],\n",
       "       [0.32 , 0.341, 0.338],\n",
       "       [0.352, 0.336, 0.311],\n",
       "       [0.315, 0.342, 0.342],\n",
       "       [0.317, 0.341, 0.342],\n",
       "       [0.315, 0.341, 0.343],\n",
       "       [0.307, 0.342, 0.351],\n",
       "       [0.361, 0.333, 0.306],\n",
       "       [0.318, 0.341, 0.341],\n",
       "       [0.245, 0.348, 0.408],\n",
       "       [0.279, 0.347, 0.374],\n",
       "       [0.243, 0.348, 0.409],\n",
       "       [0.262, 0.348, 0.39 ],\n",
       "       [0.25 , 0.348, 0.401],\n",
       "       [0.22 , 0.349, 0.431],\n",
       "       [0.308, 0.345, 0.347],\n",
       "       [0.233, 0.349, 0.417],\n",
       "       [0.251, 0.35 , 0.399],\n",
       "       [0.235, 0.346, 0.419],\n",
       "       [0.273, 0.345, 0.382],\n",
       "       [0.267, 0.348, 0.385],\n",
       "       [0.257, 0.347, 0.396],\n",
       "       [0.281, 0.348, 0.371],\n",
       "       [0.273, 0.347, 0.379],\n",
       "       [0.265, 0.346, 0.389],\n",
       "       [0.263, 0.348, 0.389],\n",
       "       [0.219, 0.345, 0.435],\n",
       "       [0.208, 0.35 , 0.442],\n",
       "       [0.282, 0.349, 0.369],\n",
       "       [0.249, 0.347, 0.404],\n",
       "       [0.286, 0.346, 0.368],\n",
       "       [0.217, 0.35 , 0.433],\n",
       "       [0.281, 0.347, 0.373],\n",
       "       [0.254, 0.347, 0.4  ],\n",
       "       [0.244, 0.348, 0.409],\n",
       "       [0.285, 0.346, 0.369],\n",
       "       [0.284, 0.345, 0.37 ],\n",
       "       [0.257, 0.349, 0.394],\n",
       "       [0.25 , 0.348, 0.402],\n",
       "       [0.236, 0.349, 0.415],\n",
       "       [0.227, 0.345, 0.428],\n",
       "       [0.256, 0.349, 0.396],\n",
       "       [0.279, 0.347, 0.374],\n",
       "       [0.267, 0.35 , 0.383],\n",
       "       [0.23 , 0.348, 0.422],\n",
       "       [0.257, 0.346, 0.397],\n",
       "       [0.265, 0.347, 0.388],\n",
       "       [0.288, 0.345, 0.367],\n",
       "       [0.259, 0.347, 0.394],\n",
       "       [0.252, 0.347, 0.401],\n",
       "       [0.265, 0.346, 0.389],\n",
       "       [0.279, 0.347, 0.374],\n",
       "       [0.244, 0.347, 0.408],\n",
       "       [0.249, 0.347, 0.404],\n",
       "       [0.264, 0.346, 0.39 ],\n",
       "       [0.276, 0.348, 0.376],\n",
       "       [0.269, 0.346, 0.384],\n",
       "       [0.265, 0.346, 0.389],\n",
       "       [0.281, 0.346, 0.373]])"
      ]
     },
     "execution_count": 163,
     "metadata": {},
     "output_type": "execute_result"
    }
   ],
   "source": [
    "model.predict_proba(X).round(3)"
   ]
  },
  {
   "cell_type": "markdown",
   "metadata": {},
   "source": [
    "#### Zadanie\n",
    "\n",
    "Wygenerować predykcje kroswalidacyjnie dla regresji logistycznej i drzewa decyzyjnego (użyj `cross_val_predict`), a następnie wypisz accuracy i przedstaw tablicę klasyfikacji (`confusion_matrix` z `sklearn.metrics`) dla obu modeli.\n",
    "\n",
    "Rozwiązanie:"
   ]
  },
  {
   "cell_type": "code",
   "execution_count": 164,
   "metadata": {},
   "outputs": [],
   "source": [
    "from sklearn.model_selection import cross_val_predict"
   ]
  },
  {
   "cell_type": "code",
   "execution_count": 165,
   "metadata": {},
   "outputs": [
    {
     "data": {
      "text/plain": [
       "array([0, 0, 0, 0, 0, 0, 0, 0, 0, 0, 0, 0, 0, 0, 0, 0, 0, 0, 0, 0, 0, 0,\n",
       "       0, 0, 0, 0, 0, 0, 0, 0, 0, 0, 0, 0, 0, 0, 0, 0, 0, 0, 0, 0, 0, 0,\n",
       "       0, 0, 0, 0, 0, 0, 1, 1, 1, 1, 1, 1, 1, 1, 1, 1, 1, 1, 1, 1, 1, 1,\n",
       "       1, 1, 1, 1, 2, 1, 1, 1, 1, 1, 1, 2, 1, 1, 1, 1, 1, 2, 1, 1, 1, 1,\n",
       "       1, 1, 1, 1, 1, 1, 1, 1, 1, 1, 1, 1, 2, 2, 2, 2, 2, 2, 1, 2, 2, 2,\n",
       "       2, 2, 2, 2, 2, 2, 2, 2, 2, 1, 2, 2, 2, 2, 2, 2, 2, 2, 2, 1, 2, 2,\n",
       "       2, 2, 2, 2, 2, 2, 2, 2, 2, 2, 2, 2, 2, 2, 2, 2, 2, 2])"
      ]
     },
     "execution_count": 165,
     "metadata": {},
     "output_type": "execute_result"
    }
   ],
   "source": [
    "y_pred = cross_val_predict(DecisionTreeClassifier(), X, y, cv=10)\n",
    "y_pred"
   ]
  },
  {
   "cell_type": "code",
   "execution_count": 166,
   "metadata": {},
   "outputs": [],
   "source": [
    "#macierz pomyłek\n",
    "from sklearn.metrics import confusion_matrix"
   ]
  },
  {
   "cell_type": "code",
   "execution_count": 167,
   "metadata": {},
   "outputs": [
    {
     "data": {
      "text/plain": [
       "array([[50,  0,  0],\n",
       "       [ 0, 47,  3],\n",
       "       [ 0,  3, 47]])"
      ]
     },
     "execution_count": 167,
     "metadata": {},
     "output_type": "execute_result"
    }
   ],
   "source": [
    "confusion_matrix(y, y_pred)"
   ]
  },
  {
   "cell_type": "code",
   "execution_count": null,
   "metadata": {},
   "outputs": [],
   "source": []
  },
  {
   "cell_type": "code",
   "execution_count": null,
   "metadata": {},
   "outputs": [],
   "source": []
  }
 ],
 "metadata": {
  "kernelspec": {
   "display_name": "Python 3 (ipykernel)",
   "language": "python",
   "name": "python3"
  },
  "language_info": {
   "codemirror_mode": {
    "name": "ipython",
    "version": 3
   },
   "file_extension": ".py",
   "mimetype": "text/x-python",
   "name": "python",
   "nbconvert_exporter": "python",
   "pygments_lexer": "ipython3",
   "version": "3.9.7"
  }
 },
 "nbformat": 4,
 "nbformat_minor": 4
}
