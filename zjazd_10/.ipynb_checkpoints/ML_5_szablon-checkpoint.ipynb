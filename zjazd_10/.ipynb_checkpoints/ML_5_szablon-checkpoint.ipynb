{
 "cells": [
  {
   "cell_type": "code",
   "execution_count": null,
   "metadata": {},
   "outputs": [],
   "source": [
    "import numpy as np\n",
    "import matplotlib.pyplot as plt\n",
    "\n",
    "%matplotlib inline\n",
    "\n",
    "x = np.array([[0,0],[0,1],[0,2],[0,3],[0,4],[0,5],[0.5,5],[1,5]])\n",
    "print(x)\n",
    "plt.scatter(x[:,0],x[:,1])\n",
    "plt.xlim(-1,21)\n",
    "plt.ylim(-1,21)\n",
    "plt.grid()\n",
    "plt.show()"
   ]
  },
  {
   "cell_type": "code",
   "execution_count": null,
   "metadata": {},
   "outputs": [],
   "source": [
    "def plot_transform_xa(x,a):\n",
    "    \"\"\"\n",
    "    wizualizacja mnozenia macierzy a * x\n",
    "    \"\"\"\n",
    "    \n",
    "    print(a)\n",
    "    y = np.dot(x,a)\n",
    "    \n",
    "    plt.figure(figsize=(15,3.4))\n",
    "    \n",
    "    plt.subplot(1,4,1)\n",
    "    \n",
    "    plt.scatter(x[:,0],x[:,1])\n",
    "    plt.xlim(-21,21)\n",
    "    plt.ylim(-21,21)\n",
    "\n",
    "    plt.subplot(1,4,2)\n",
    "    plt.scatter(y[:,0],y[:,1])\n",
    "    plt.xlim(-21,21)\n",
    "    plt.ylim(-21,21)\n",
    "\n",
    "    plt.subplot(1,4,3)\n",
    "    plt.xlim(-6,6)\n",
    "    plt.ylim(-6,6)\n",
    "    plt.arrow(0, 0, 0, 1, head_width=0.2, head_length=0.2, fc='red', ec='red')\n",
    "    plt.arrow(0, 0, 1, 0, head_width=0.2, head_length=0.2, fc='red', ec='red')\n",
    " \n",
    "    plt.subplot(1,4,4)\n",
    "    plt.xlim(-6,6)\n",
    "    plt.ylim(-6,6)\n",
    "\n",
    "    #plt.arrow(0, 0, a[0,0],a[1,0], head_width=0.2, head_length=0.2, fc='red', ec='red')\n",
    "    #plt.arrow(0, 0, a[0,1],a[1,1], head_width=0.2, head_length=0.2, fc='red', ec='red')\n",
    "\n",
    "    plt.arrow(0, 0, a[0,0],a[0,1], head_width=0.2, head_length=0.2, fc='red', ec='red')\n",
    "    plt.arrow(0, 0, a[1,0],a[1,1], head_width=0.2, head_length=0.2, fc='red', ec='red')\n",
    "    \n",
    "    plt.show()"
   ]
  },
  {
   "cell_type": "code",
   "execution_count": null,
   "metadata": {},
   "outputs": [],
   "source": []
  },
  {
   "cell_type": "code",
   "execution_count": null,
   "metadata": {},
   "outputs": [],
   "source": []
  },
  {
   "cell_type": "code",
   "execution_count": null,
   "metadata": {},
   "outputs": [],
   "source": []
  },
  {
   "cell_type": "code",
   "execution_count": null,
   "metadata": {},
   "outputs": [],
   "source": [
    "X = np.random.multivariate_normal([0,0,0],\n",
    "                                  np.array([[1,0.999,0],\n",
    "                                            [0.999,1,0],\n",
    "                                            [0,0,1]]),\n",
    "                                  20)\n",
    "print(X)"
   ]
  }
 ],
 "metadata": {
  "kernelspec": {
   "display_name": "Python 3 (ipykernel)",
   "language": "python",
   "name": "python3"
  },
  "language_info": {
   "codemirror_mode": {
    "name": "ipython",
    "version": 3
   },
   "file_extension": ".py",
   "mimetype": "text/x-python",
   "name": "python",
   "nbconvert_exporter": "python",
   "pygments_lexer": "ipython3",
   "version": "3.8.5"
  }
 },
 "nbformat": 4,
 "nbformat_minor": 2
}
